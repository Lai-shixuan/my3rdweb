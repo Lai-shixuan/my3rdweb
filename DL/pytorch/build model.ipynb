{
 "cells": [
  {
   "cell_type": "code",
   "execution_count": 7,
   "metadata": {
    "collapsed": true,
    "ExecuteTime": {
     "end_time": "2023-05-12T07:23:56.286377500Z",
     "start_time": "2023-05-12T07:23:56.273420700Z"
    }
   },
   "outputs": [],
   "source": [
    "import os\n",
    "import torch\n",
    "import torch.backends.mps\n",
    "from torch import nn\n",
    "from torch.utils.data import DataLoader\n",
    "from torchvision import datasets, transforms"
   ]
  },
  {
   "cell_type": "code",
   "execution_count": 8,
   "outputs": [
    {
     "name": "stdout",
     "output_type": "stream",
     "text": [
      "Using cuda device\n"
     ]
    }
   ],
   "source": [
    "device = (\n",
    "    \"cuda\"\n",
    "    if torch.cuda.is_available()\n",
    "    else \"mps\"\n",
    "    if torch.backends.mps.is_available()\n",
    "    else \"cpu\"\n",
    ")\n",
    "print(f\"Using {device} device\")"
   ],
   "metadata": {
    "collapsed": false,
    "ExecuteTime": {
     "end_time": "2023-05-12T07:23:56.321517400Z",
     "start_time": "2023-05-12T07:23:56.287374400Z"
    }
   }
  },
  {
   "cell_type": "code",
   "execution_count": 9,
   "outputs": [],
   "source": [
    "class NeuralNetwork(nn.Module):\n",
    "    def __init__(self):\n",
    "        super().__init__()\n",
    "        self.flatten = nn.Flatten()\n",
    "        self.linear_relu_stack = nn.Sequential(\n",
    "            nn.Linear(28*28, 512),\n",
    "            nn.ReLU(),\n",
    "            nn.Linear(512, 512),\n",
    "            nn.ReLU(),\n",
    "            nn.Linear(512, 10),\n",
    "        )\n",
    "\n",
    "    def forward(self, x):\n",
    "        x = self.flatten(x)\n",
    "        logits = self.linear_relu_stack(x)\n",
    "        return logits"
   ],
   "metadata": {
    "collapsed": false,
    "ExecuteTime": {
     "end_time": "2023-05-12T07:23:56.321517400Z",
     "start_time": "2023-05-12T07:23:56.301624200Z"
    }
   }
  },
  {
   "cell_type": "code",
   "execution_count": 10,
   "outputs": [
    {
     "name": "stdout",
     "output_type": "stream",
     "text": [
      "NeuralNetwork(\n",
      "  (flatten): Flatten(start_dim=1, end_dim=-1)\n",
      "  (linear_relu_stack): Sequential(\n",
      "    (0): Linear(in_features=784, out_features=512, bias=True)\n",
      "    (1): ReLU()\n",
      "    (2): Linear(in_features=512, out_features=512, bias=True)\n",
      "    (3): ReLU()\n",
      "    (4): Linear(in_features=512, out_features=10, bias=True)\n",
      "  )\n",
      ")\n"
     ]
    }
   ],
   "source": [
    "model = NeuralNetwork().to(device)\n",
    "print(model)"
   ],
   "metadata": {
    "collapsed": false,
    "ExecuteTime": {
     "end_time": "2023-05-12T07:23:56.422851600Z",
     "start_time": "2023-05-12T07:23:56.316535Z"
    }
   }
  },
  {
   "cell_type": "code",
   "execution_count": 11,
   "outputs": [
    {
     "name": "stdout",
     "output_type": "stream",
     "text": [
      "Predicted class: tensor([1], device='cuda:0')\n"
     ]
    }
   ],
   "source": [
    "X = torch.rand(1, 28, 28, device=device)\n",
    "logits = model(X)\n",
    "pred_probab = nn.Softmax(dim=1)(logits)\n",
    "y_pred = pred_probab.argmax(1)\n",
    "print(f\"Predicted class: {y_pred}\")"
   ],
   "metadata": {
    "collapsed": false,
    "ExecuteTime": {
     "end_time": "2023-05-12T07:23:59.305531400Z",
     "start_time": "2023-05-12T07:23:56.425842500Z"
    }
   }
  },
  {
   "cell_type": "code",
   "execution_count": 12,
   "outputs": [
    {
     "name": "stdout",
     "output_type": "stream",
     "text": [
      "torch.Size([3, 28, 28])\n"
     ]
    }
   ],
   "source": [
    "input_image = torch.rand(3,28,28)\n",
    "print(input_image.size())"
   ],
   "metadata": {
    "collapsed": false,
    "ExecuteTime": {
     "end_time": "2023-05-12T07:23:59.321516600Z",
     "start_time": "2023-05-12T07:23:59.306527200Z"
    }
   }
  },
  {
   "cell_type": "code",
   "execution_count": 13,
   "outputs": [
    {
     "name": "stdout",
     "output_type": "stream",
     "text": [
      "torch.Size([3, 784])\n"
     ]
    }
   ],
   "source": [
    "flatten = nn.Flatten()\n",
    "flat_image = flatten(input_image)\n",
    "print(flat_image.size())"
   ],
   "metadata": {
    "collapsed": false,
    "ExecuteTime": {
     "end_time": "2023-05-12T07:23:59.366408900Z",
     "start_time": "2023-05-12T07:23:59.321516600Z"
    }
   }
  },
  {
   "cell_type": "code",
   "execution_count": 14,
   "outputs": [
    {
     "name": "stdout",
     "output_type": "stream",
     "text": [
      "torch.Size([3, 20])\n"
     ]
    }
   ],
   "source": [
    "layer1 = nn.Linear(in_features=28*28, out_features=20)\n",
    "hidden1 = layer1(flat_image)\n",
    "print(hidden1.size())"
   ],
   "metadata": {
    "collapsed": false,
    "ExecuteTime": {
     "end_time": "2023-05-12T07:23:59.369398600Z",
     "start_time": "2023-05-12T07:23:59.338502Z"
    }
   }
  },
  {
   "cell_type": "code",
   "execution_count": 15,
   "outputs": [
    {
     "name": "stdout",
     "output_type": "stream",
     "text": [
      "Before ReLU: tensor([[-0.1865,  0.3252,  0.5540,  0.3375,  0.0511,  0.0715, -0.5719,  0.0238,\n",
      "         -0.2622,  0.7355, -0.2974,  0.2401,  0.4922, -0.1385,  0.2543, -0.3054,\n",
      "         -0.4283,  0.1079, -0.0576, -0.1219],\n",
      "        [ 0.7335,  0.3209,  0.4772,  0.5215,  0.0738,  0.0206, -0.1496, -0.3679,\n",
      "         -0.1392,  0.4444,  0.0507,  0.4881,  0.5084,  0.2497, -0.0305, -0.5596,\n",
      "         -0.4330,  0.1285, -0.1195, -0.5454],\n",
      "        [ 0.6495,  0.4413,  0.6179,  0.3510,  0.0021, -0.0300, -0.6370, -0.3748,\n",
      "         -0.3117,  0.4760, -0.4230,  0.1260,  0.5685,  0.0358,  0.0863, -0.6011,\n",
      "         -0.7971,  0.0570, -0.1153, -0.4232]], grad_fn=<AddmmBackward0>)\n",
      "\n",
      "\n",
      "After ReLU: tensor([[0.0000, 0.3252, 0.5540, 0.3375, 0.0511, 0.0715, 0.0000, 0.0238, 0.0000,\n",
      "         0.7355, 0.0000, 0.2401, 0.4922, 0.0000, 0.2543, 0.0000, 0.0000, 0.1079,\n",
      "         0.0000, 0.0000],\n",
      "        [0.7335, 0.3209, 0.4772, 0.5215, 0.0738, 0.0206, 0.0000, 0.0000, 0.0000,\n",
      "         0.4444, 0.0507, 0.4881, 0.5084, 0.2497, 0.0000, 0.0000, 0.0000, 0.1285,\n",
      "         0.0000, 0.0000],\n",
      "        [0.6495, 0.4413, 0.6179, 0.3510, 0.0021, 0.0000, 0.0000, 0.0000, 0.0000,\n",
      "         0.4760, 0.0000, 0.1260, 0.5685, 0.0358, 0.0863, 0.0000, 0.0000, 0.0570,\n",
      "         0.0000, 0.0000]], grad_fn=<ReluBackward0>)\n"
     ]
    }
   ],
   "source": [
    "print(f\"Before ReLU: {hidden1}\\n\\n\")\n",
    "hidden1 = nn.ReLU()(hidden1)\n",
    "print(f\"After ReLU: {hidden1}\")"
   ],
   "metadata": {
    "collapsed": false,
    "ExecuteTime": {
     "end_time": "2023-05-12T07:23:59.429064800Z",
     "start_time": "2023-05-12T07:23:59.370395900Z"
    }
   }
  },
  {
   "cell_type": "code",
   "execution_count": 16,
   "outputs": [],
   "source": [
    "seq_modules = nn.Sequential(\n",
    "    flatten,\n",
    "    layer1,\n",
    "    nn.ReLU(),\n",
    "    nn.Linear(20, 10)\n",
    ")\n",
    "input_image = torch.rand(3,28,28)\n",
    "logits = seq_modules(input_image)"
   ],
   "metadata": {
    "collapsed": false,
    "ExecuteTime": {
     "end_time": "2023-05-12T07:23:59.438034900Z",
     "start_time": "2023-05-12T07:23:59.402137600Z"
    }
   }
  },
  {
   "cell_type": "code",
   "execution_count": 17,
   "outputs": [],
   "source": [
    "softmax = nn.Softmax(dim=1)\n",
    "pred_probab = softmax(logits)"
   ],
   "metadata": {
    "collapsed": false,
    "ExecuteTime": {
     "end_time": "2023-05-12T07:23:59.439031500Z",
     "start_time": "2023-05-12T07:23:59.430063600Z"
    }
   }
  },
  {
   "cell_type": "code",
   "execution_count": 19,
   "outputs": [
    {
     "name": "stdout",
     "output_type": "stream",
     "text": [
      "Model structure: NeuralNetwork(\n",
      "  (flatten): Flatten(start_dim=1, end_dim=-1)\n",
      "  (linear_relu_stack): Sequential(\n",
      "    (0): Linear(in_features=784, out_features=512, bias=True)\n",
      "    (1): ReLU()\n",
      "    (2): Linear(in_features=512, out_features=512, bias=True)\n",
      "    (3): ReLU()\n",
      "    (4): Linear(in_features=512, out_features=10, bias=True)\n",
      "  )\n",
      ")\n",
      "\n",
      "\n",
      "Layer: linear_relu_stack.0.weight | Size: torch.Size([512, 784]) | Values : tensor([[-0.0096, -0.0086, -0.0057,  ...,  0.0228,  0.0162, -0.0159],\n",
      "        [-0.0144, -0.0201,  0.0015,  ...,  0.0273,  0.0021, -0.0294]],\n",
      "       device='cuda:0', grad_fn=<SliceBackward0>) \n",
      "\n",
      "Layer: linear_relu_stack.0.bias | Size: torch.Size([512]) | Values : tensor([ 0.0301, -0.0103], device='cuda:0', grad_fn=<SliceBackward0>) \n",
      "\n",
      "Layer: linear_relu_stack.2.weight | Size: torch.Size([512, 512]) | Values : tensor([[-0.0049, -0.0272,  0.0408,  ..., -0.0056, -0.0344,  0.0118],\n",
      "        [-0.0290, -0.0163, -0.0430,  ..., -0.0146,  0.0156,  0.0015]],\n",
      "       device='cuda:0', grad_fn=<SliceBackward0>) \n",
      "\n",
      "Layer: linear_relu_stack.2.bias | Size: torch.Size([512]) | Values : tensor([ 0.0248, -0.0078], device='cuda:0', grad_fn=<SliceBackward0>) \n",
      "\n",
      "Layer: linear_relu_stack.4.weight | Size: torch.Size([10, 512]) | Values : tensor([[ 0.0326,  0.0093,  0.0202,  ...,  0.0134, -0.0281,  0.0144],\n",
      "        [-0.0070,  0.0055, -0.0148,  ..., -0.0316,  0.0173, -0.0294]],\n",
      "       device='cuda:0', grad_fn=<SliceBackward0>) \n",
      "\n",
      "Layer: linear_relu_stack.4.bias | Size: torch.Size([10]) | Values : tensor([-0.0155,  0.0350], device='cuda:0', grad_fn=<SliceBackward0>) \n",
      "\n"
     ]
    }
   ],
   "source": [
    "print(f\"Model structure: {model}\\n\\n\")\n",
    "\n",
    "for name, param in model.named_parameters():\n",
    "    print(f\"Layer: {name} | Size: {param.size()} | Values : {param[:2]} \\n\")"
   ],
   "metadata": {
    "collapsed": false,
    "ExecuteTime": {
     "end_time": "2023-05-12T10:14:54.424027600Z",
     "start_time": "2023-05-12T10:14:54.367814900Z"
    }
   }
  },
  {
   "cell_type": "markdown",
   "source": [
    "# ReLU 和 Linear 函数的使用"
   ],
   "metadata": {
    "collapsed": false
   }
  },
  {
   "cell_type": "code",
   "execution_count": 26,
   "outputs": [
    {
     "name": "stdout",
     "output_type": "stream",
     "text": [
      "tensor([-0.3419,  1.3507,  0.9073,  1.8979, -0.3773,  0.6790, -0.4330,  1.2628,\n",
      "         0.3184])\n",
      "tensor([0.0000, 1.3507, 0.9073, 1.8979, 0.0000, 0.6790, 0.0000, 1.2628, 0.3184])\n"
     ]
    }
   ],
   "source": [
    "m = nn.ReLU()\n",
    "input = torch.randn(9)\n",
    "print(input)\n",
    "output = m(input)\n",
    "print(output)           # ReLU能够将负的去掉，而正数不变"
   ],
   "metadata": {
    "collapsed": false,
    "ExecuteTime": {
     "end_time": "2023-05-12T10:18:14.826952200Z",
     "start_time": "2023-05-12T10:18:14.809011900Z"
    }
   }
  },
  {
   "cell_type": "code",
   "execution_count": 29,
   "outputs": [
    {
     "name": "stdout",
     "output_type": "stream",
     "text": [
      "tensor([[-0.7144, -0.5757, -2.0427,  0.2295, -0.7991,  0.3977,  0.1210,  0.1939,\n",
      "          0.9462,  3.1425],\n",
      "        [-0.9258, -1.2403,  0.9384, -1.8167, -0.6556, -1.5948,  1.2101,  0.2141,\n",
      "         -1.8911,  0.2776],\n",
      "        [-0.9880, -0.3446,  0.0548,  1.2187,  0.3613, -1.1489,  1.5772,  0.1145,\n",
      "          0.2816, -0.2695]])\n",
      "torch.Size([3, 30])\n",
      "tensor([[ 0.0658, -1.9455,  0.5040, -0.5729, -0.2390,  0.5443, -0.4221, -0.9007,\n",
      "          1.2941, -0.0184, -0.5119, -0.4126,  0.9303, -1.1310, -0.0843, -0.0430,\n",
      "         -0.4137, -0.3369, -0.2792, -0.0210,  0.7487, -1.4029,  0.3435,  0.4354,\n",
      "          0.3207,  1.5218,  0.6007,  0.1934,  0.3122,  0.5932],\n",
      "        [ 0.8752,  0.9472,  0.9090,  0.2985,  1.0532, -0.9713,  0.1832,  0.6314,\n",
      "         -0.0498, -0.4633,  0.8191,  0.8974,  0.9088,  0.9203,  0.9869,  0.6784,\n",
      "         -0.7564,  1.3187, -0.6264,  0.5415, -1.1837,  0.4725, -0.2243,  1.0876,\n",
      "          0.1194,  0.1556,  0.6739,  0.0814, -0.5278,  1.0811],\n",
      "        [-0.0551, -0.3533, -0.1994,  0.2679, -0.1713,  0.1145,  1.0252,  0.1924,\n",
      "          0.1879, -0.4709,  0.3989,  0.3343, -0.5599,  0.4582,  0.7972,  1.1562,\n",
      "          0.2686, -0.1993,  0.2000,  0.3502,  0.2382,  0.5192,  0.3871, -0.2747,\n",
      "          0.9487,  0.5031,  0.1067,  0.3125, -0.2645,  0.7814]],\n",
      "       grad_fn=<AddmmBackward0>)\n"
     ]
    }
   ],
   "source": [
    "m = nn.Linear(10, 30)       # 30个线性变换，每次变换有10个参数\n",
    "input = torch.randn(3, 10)\n",
    "print(input)\n",
    "output = m(input)\n",
    "print(output.size())\n",
    "print(output)"
   ],
   "metadata": {
    "collapsed": false,
    "ExecuteTime": {
     "end_time": "2023-05-12T10:18:55.590613700Z",
     "start_time": "2023-05-12T10:18:55.581643300Z"
    }
   }
  }
 ],
 "metadata": {
  "kernelspec": {
   "display_name": "Python 3",
   "language": "python",
   "name": "python3"
  },
  "language_info": {
   "codemirror_mode": {
    "name": "ipython",
    "version": 2
   },
   "file_extension": ".py",
   "mimetype": "text/x-python",
   "name": "python",
   "nbconvert_exporter": "python",
   "pygments_lexer": "ipython2",
   "version": "2.7.6"
  }
 },
 "nbformat": 4,
 "nbformat_minor": 0
}
