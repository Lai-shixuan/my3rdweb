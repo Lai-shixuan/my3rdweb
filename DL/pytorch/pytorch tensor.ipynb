{
 "cells": [
  {
   "cell_type": "code",
   "execution_count": 1,
   "metadata": {
    "collapsed": true
   },
   "outputs": [],
   "source": [
    "import torch\n",
    "import numpy"
   ]
  },
  {
   "cell_type": "code",
   "execution_count": 2,
   "outputs": [
    {
     "data": {
      "text/plain": "tensor([[0, 1]])"
     },
     "execution_count": 2,
     "metadata": {},
     "output_type": "execute_result"
    }
   ],
   "source": [
    "a = torch.tensor([0])\n",
    "b = torch.tensor([0, 1])\n",
    "c = torch.tensor([[0], [1]])\n",
    "d = torch.t(c)\n",
    "d"
   ],
   "metadata": {
    "collapsed": false
   }
  },
  {
   "cell_type": "code",
   "execution_count": 3,
   "outputs": [
    {
     "name": "stdout",
     "output_type": "stream",
     "text": [
      "tensor([         0, 1215752192], dtype=torch.int32)\n"
     ]
    }
   ],
   "source": [
    "e = numpy.array([0, 1])\n",
    "f = torch.from_numpy(e)\n",
    "print(f*100000000000)"
   ],
   "metadata": {
    "collapsed": false
   }
  },
  {
   "cell_type": "code",
   "execution_count": 4,
   "outputs": [
    {
     "data": {
      "text/plain": "tensor([0.4322, 0.2411])"
     },
     "execution_count": 4,
     "metadata": {},
     "output_type": "execute_result"
    }
   ],
   "source": [
    "g = torch.ones_like(f)\n",
    "h = torch.rand_like(f, dtype=torch.float)\n",
    "h"
   ],
   "metadata": {
    "collapsed": false
   }
  },
  {
   "cell_type": "code",
   "execution_count": 5,
   "outputs": [
    {
     "name": "stdout",
     "output_type": "stream",
     "text": [
      "Shape of tensor: torch.Size([3, 4]), torch.float32\n",
      "Datatype of tensor: torch.float32\n",
      "Device tensor is stored on: cpu\n"
     ]
    }
   ],
   "source": [
    "tensor = torch.rand(3,4)\n",
    "\n",
    "print(f\"Shape of tensor: {tensor.shape}, {tensor.dtype}\")\n",
    "print(f\"Datatype of tensor: {tensor.dtype}\")\n",
    "print(f\"Device tensor is stored on: {tensor.device}\")"
   ],
   "metadata": {
    "collapsed": false
   }
  },
  {
   "cell_type": "code",
   "execution_count": 6,
   "outputs": [
    {
     "name": "stdout",
     "output_type": "stream",
     "text": [
      "cuda:0\n"
     ]
    }
   ],
   "source": [
    "if torch.cuda.is_available():\n",
    "    tensor = tensor.to(\"cuda\")\n",
    "\n",
    "print(tensor.device)"
   ],
   "metadata": {
    "collapsed": false
   }
  },
  {
   "cell_type": "code",
   "execution_count": 7,
   "outputs": [
    {
     "name": "stdout",
     "output_type": "stream",
     "text": [
      "tensor([[[0., 0., 0., 0.],\n",
      "         [0., 0., 0., 0.],\n",
      "         [0., 0., 0., 0.],\n",
      "         [0., 0., 0., 0.]],\n",
      "\n",
      "        [[1., 1., 1., 1.],\n",
      "         [1., 1., 1., 1.],\n",
      "         [1., 1., 1., 1.],\n",
      "         [1., 1., 1., 1.]],\n",
      "\n",
      "        [[1., 1., 1., 1.],\n",
      "         [1., 1., 1., 1.],\n",
      "         [1., 1., 1., 1.],\n",
      "         [1., 1., 1., 1.]],\n",
      "\n",
      "        [[1., 1., 1., 1.],\n",
      "         [1., 1., 1., 1.],\n",
      "         [1., 1., 1., 1.],\n",
      "         [1., 1., 1., 1.]]])\n"
     ]
    }
   ],
   "source": [
    "tensor = torch.ones([4, 4, 4])\n",
    "tensor[0, ...] = 0\n",
    "# tensor = torch.cat([tensor, tensor, tensor], dim = 2)\n",
    "print(tensor)"
   ],
   "metadata": {
    "collapsed": false
   }
  },
  {
   "cell_type": "code",
   "execution_count": 8,
   "outputs": [
    {
     "name": "stdout",
     "output_type": "stream",
     "text": [
      "tensor([16, 26, 36, 46])\n",
      "tensor([[0.8354, 0.7218, 1.0167, 0.4785],\n",
      "        [0.7218, 0.7478, 0.7279, 0.4225],\n",
      "        [1.0167, 0.7279, 1.5779, 0.6378],\n",
      "        [0.4785, 0.4225, 0.6378, 0.3271]])\n",
      "tensor([[True, True, True, True],\n",
      "        [True, True, True, True],\n",
      "        [True, True, True, True],\n",
      "        [True, True, True, True]])\n"
     ]
    }
   ],
   "source": [
    "tensor1 = torch.tensor([1, 2, 3, 4])\n",
    "tensor2 = torch.tensor([[1, 2, 3, 4], [2, 3, 4, 5], [1, 2, 3, 4], [2, 3, 4, 5]])\n",
    "print(torch.matmul(tensor1, tensor2))\n",
    "tensor = torch.ones([4, 4])\n",
    "y3 = torch.rand_like(tensor.float())\n",
    "y4 = torch.ones_like(y3)\n",
    "print(torch.matmul(y3, y3.T, out=y4))\n",
    "y5 = y3 @ y3.T\n",
    "print(y5 == y4)"
   ],
   "metadata": {
    "collapsed": false
   }
  },
  {
   "cell_type": "code",
   "execution_count": 9,
   "outputs": [
    {
     "name": "stdout",
     "output_type": "stream",
     "text": [
      "tensor([[1, 2, 3, 5],\n",
      "        [2, 3, 4, 5]])\n",
      "[[1 2 3 5]\n",
      " [2 3 4 5]]\n",
      "tensor([[ 6,  7,  8, 10],\n",
      "        [ 7,  8,  9, 10]])\n",
      "[[ 6  7  8 10]\n",
      " [ 7  8  9 10]]\n"
     ]
    }
   ],
   "source": [
    "tensor = torch.tensor([[1, 2, 3, 5], [2, 3, 4, 5]])\n",
    "agg = tensor.sum().item()\n",
    "print(f\"{tensor}\")\n",
    "n = tensor.numpy()\n",
    "print(f\"{n}\")\n",
    "tensor = tensor.add_(5)\n",
    "print(f\"{tensor}\")\n",
    "print(f\"{n}\")"
   ],
   "metadata": {
    "collapsed": false
   }
  },
  {
   "cell_type": "code",
   "execution_count": 11,
   "outputs": [
    {
     "name": "stdout",
     "output_type": "stream",
     "text": [
      "tensor([[ 6.,  7.,  8., 10.],\n",
      "        [ 7.,  8.,  9., 10.]])\n"
     ]
    }
   ],
   "source": [
    "a = tensor.float()\n",
    "print(a)"
   ],
   "metadata": {
    "collapsed": false
   }
  },
  {
   "cell_type": "code",
   "execution_count": 19,
   "outputs": [
    {
     "name": "stdout",
     "output_type": "stream",
     "text": [
      "tensor([[[5.3050, 4.3900, 5.7852, 6.9054, 2.5551],\n",
      "         [0.5011, 3.5320, 4.1759, 9.8309, 6.2962],\n",
      "         [1.4065, 4.0444, 4.3399, 7.5416, 6.3432],\n",
      "         [7.8352, 8.7920, 3.1381, 6.3337, 6.0502]],\n",
      "\n",
      "        [[2.5306, 9.5310, 1.8379, 2.8526, 6.4841],\n",
      "         [9.6375, 9.4926, 7.5960, 5.7355, 9.9224],\n",
      "         [1.3813, 8.3828, 5.7183, 5.6497, 1.1191],\n",
      "         [8.3038, 0.8610, 9.3517, 9.2442, 4.6675]],\n",
      "\n",
      "        [[5.3910, 7.3777, 6.6001, 1.7749, 6.8757],\n",
      "         [6.7161, 3.5631, 6.7071, 6.2344, 3.9178],\n",
      "         [3.1284, 6.0330, 8.4625, 6.3287, 4.2152],\n",
      "         [9.2663, 5.0223, 9.9890, 5.7620, 3.8498]]])\n"
     ]
    },
    {
     "data": {
      "text/plain": "tensor([[5.3910, 7.3777, 6.6001, 1.7749, 6.8757],\n        [6.7161, 3.5631, 6.7071, 6.2344, 3.9178],\n        [3.1284, 6.0330, 8.4625, 6.3287, 4.2152],\n        [9.2663, 5.0223, 9.9890, 5.7620, 3.8498]])"
     },
     "execution_count": 19,
     "metadata": {},
     "output_type": "execute_result"
    }
   ],
   "source": [
    "three = torch.rand([3, 4, 5])*10\n",
    "print(three)\n",
    "three[2]"
   ],
   "metadata": {
    "collapsed": false
   }
  }
 ],
 "metadata": {
  "kernelspec": {
   "display_name": "Python 3",
   "language": "python",
   "name": "python3"
  },
  "language_info": {
   "codemirror_mode": {
    "name": "ipython",
    "version": 2
   },
   "file_extension": ".py",
   "mimetype": "text/x-python",
   "name": "python",
   "nbconvert_exporter": "python",
   "pygments_lexer": "ipython2",
   "version": "2.7.6"
  }
 },
 "nbformat": 4,
 "nbformat_minor": 0
}
