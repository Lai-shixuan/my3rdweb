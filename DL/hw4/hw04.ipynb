{
 "cells": [
  {
   "cell_type": "markdown",
   "metadata": {
    "id": "C_jdZ5vHJ4A9"
   },
   "source": [
    "# Task description\n",
    "- Classify the speakers of given features.\n",
    "- Main goal: Learn how to use transformer.\n",
    "- Baselines:\n",
    "  - Easy: Run sample code and know how to use transformer.\n",
    "  - Medium: Know how to adjust parameters of transformer.\n",
    "  - Strong: Construct [conformer](https://arxiv.org/abs/2005.08100) which is a variety of transformer.\n",
    "  - Boss: Implement [Self-Attention Pooling](https://arxiv.org/pdf/2008.01077v1.pdf) & [Additive Margin Softmax](https://arxiv.org/pdf/1801.05599.pdf) to further boost the performance.\n",
    "\n",
    "- Other links\n",
    "  - Kaggle: [link](https://www.kaggle.com/t/ac77388c90204a4c8daebeddd40ff916)\n",
    "  - Slide: [link](https://docs.google.com/presentation/d/1HLAj7UUIjZOycDe7DaVLSwJfXVd3bXPOyzSb6Zk3hYU/edit?usp=sharing)\n",
    "  - Data: [link](https://drive.google.com/drive/folders/1vI1kuLB-q1VilIftiwnPOCAeOOFfBZge?usp=sharing)\n",
    "\n",
    "# Download dataset\n",
    "- Data is [here](https://drive.google.com/drive/folders/1vI1kuLB-q1VilIftiwnPOCAeOOFfBZge?usp=sharing)"
   ]
  },
  {
   "cell_type": "markdown",
   "metadata": {
    "id": "ENWVAUDVJtVY"
   },
   "source": [
    "## Fix Random Seed"
   ]
  },
  {
   "cell_type": "code",
   "execution_count": 1,
   "metadata": {
    "id": "E6burzCXIyuA",
    "ExecuteTime": {
     "end_time": "2023-11-22T15:33:57.932740800Z",
     "start_time": "2023-11-22T15:33:56.653553400Z"
    }
   },
   "outputs": [],
   "source": [
    "import numpy as np\n",
    "import torch\n",
    "import random\n",
    "\n",
    "def set_seed(seed):\n",
    "    np.random.seed(seed)\n",
    "    random.seed(seed)\n",
    "    torch.manual_seed(seed)\n",
    "    if torch.cuda.is_available():\n",
    "        torch.cuda.manual_seed(seed)\n",
    "        torch.cuda.manual_seed_all(seed)\n",
    "    torch.backends.cudnn.benchmark = False\n",
    "    torch.backends.cudnn.deterministic = True\n",
    "\n",
    "set_seed(87)"
   ]
  },
  {
   "cell_type": "markdown",
   "metadata": {
    "id": "k7dVbxW2LASN"
   },
   "source": [
    "# Data\n",
    "\n",
    "## Dataset\n",
    "- Original dataset is [Voxceleb2](https://www.robots.ox.ac.uk/~vgg/data/voxceleb/vox2.html).\n",
    "- The [license](https://creativecommons.org/licenses/by/4.0/) and [complete version](https://www.robots.ox.ac.uk/~vgg/data/voxceleb/files/license.txt) of Voxceleb2.\n",
    "- We randomly select 600 speakers from Voxceleb2.\n",
    "- Then preprocess the raw waveforms into mel-spectrograms.\n",
    "\n",
    "- Args:\n",
    "  - data_dir: The path to the data directory.\n",
    "  - metadata_path: The path to the metadata.\n",
    "  - segment_len: The length of audio segment for training.\n",
    "- The architecture of data directory \\\\\n",
    "  - data directory \\\\\n",
    "  |---- metadata.json \\\\\n",
    "  |---- testdata.json \\\\\n",
    "  |---- mapping.json \\\\\n",
    "  |---- uttr-{random string}.pt \\\\\n",
    "\n",
    "- The information in metadata\n",
    "  - \"n_mels\": The dimention of mel-spectrogram.\n",
    "  - \"speakers\": A dictionary.\n",
    "    - Key: speaker ids.\n",
    "    - value: \"feature_path\" and \"mel_len\"\n",
    "\n",
    "\n",
    "For efficiency, we segment the mel-spectrograms into segments in the traing step."
   ]
  },
  {
   "cell_type": "code",
   "execution_count": 11,
   "metadata": {
    "id": "KpuGxl4CI2pr",
    "ExecuteTime": {
     "end_time": "2023-11-22T15:34:59.174564700Z",
     "start_time": "2023-11-22T15:34:59.139044500Z"
    }
   },
   "outputs": [],
   "source": [
    "import os\n",
    "import json\n",
    "import torch\n",
    "import random\n",
    "from pathlib import Path\n",
    "from torch.utils.data import Dataset\n",
    "from torch.nn.utils.rnn import pad_sequence\n",
    "\n",
    "\n",
    "class myDataset(Dataset):\n",
    "\tdef __init__(self, data_dir, segment_len=128):\n",
    "\t\tself.data_dir = data_dir\n",
    "\t\tself.segment_len = segment_len\n",
    "\n",
    "\t\t# Load the mapping from speaker neme to their corresponding id.\n",
    "\t\tmapping_path = Path(data_dir) / \"mapping.json\"\n",
    "\t\tmapping = json.load(mapping_path.open())\n",
    "\t\tself.speaker2id = mapping[\"speaker2id\"]\n",
    "\n",
    "\t\t# Load metadata of training data.\n",
    "\t\tmetadata_path = Path(data_dir) / \"metadata.json\"\n",
    "\t\tmetadata = json.load(open(metadata_path))[\"speakers\"]\n",
    "\n",
    "\t\t# Get the total number of speaker.\n",
    "\t\tself.speaker_num = len(metadata.keys())\n",
    "\t\tself.data = []\n",
    "\t\tfor speaker in metadata.keys():\n",
    "\t\t\tfor utterances in metadata[speaker]:\n",
    "\t\t\t\tself.data.append([utterances[\"feature_path\"], self.speaker2id[speaker]])\n",
    "\n",
    "\tdef __len__(self):\n",
    "\t\t\treturn len(self.data)\n",
    "\n",
    "\tdef __getitem__(self, index):\n",
    "\t\tfeat_path, speaker = self.data[index]\n",
    "\t\t# Load preprocessed mel-spectrogram.\n",
    "\t\tmel = torch.load(os.path.join(self.data_dir, feat_path))\n",
    "\n",
    "\t\t# Segmemt mel-spectrogram into \"segment_len\" frames.\n",
    "\t\tif len(mel) > self.segment_len:\n",
    "\t\t\t# Randomly get the starting point of the segment.\n",
    "\t\t\tstart = random.randint(0, len(mel) - self.segment_len)\n",
    "\t\t\t# Get a segment with \"segment_len\" frames.\n",
    "\t\t\tmel = torch.FloatTensor(mel[start:start+self.segment_len])\n",
    "\t\telse:\n",
    "\t\t\tmel = torch.FloatTensor(mel)\n",
    "\t\t# Turn the speaker id into long for computing loss later.\n",
    "\t\tspeaker = torch.FloatTensor([speaker]).long()\n",
    "\t\treturn mel, speaker\n",
    "\n",
    "\tdef get_speaker_number(self):\n",
    "\t\treturn self.speaker_num"
   ]
  },
  {
   "cell_type": "markdown",
   "metadata": {
    "id": "668hverTMlGN"
   },
   "source": [
    "## Dataloader\n",
    "- Split dataset into training dataset(90%) and validation dataset(10%).\n",
    "- Create dataloader to iterate the data."
   ]
  },
  {
   "cell_type": "code",
   "execution_count": 3,
   "metadata": {
    "id": "B7c2gZYoJDRS",
    "ExecuteTime": {
     "end_time": "2023-11-22T15:33:57.955716700Z",
     "start_time": "2023-11-22T15:33:57.941184400Z"
    }
   },
   "outputs": [],
   "source": [
    "import torch\n",
    "from torch.utils.data import DataLoader, random_split\n",
    "from torch.nn.utils.rnn import pad_sequence\n",
    "\n",
    "\n",
    "def collate_batch(batch):\n",
    "\t# Process features within a batch.\n",
    "\t\"\"\"Collate a batch of data.\"\"\"\n",
    "\tmel, speaker = zip(*batch)\n",
    "\t# Because we train the model batch by batch, we need to pad the features in the same batch to make their lengths the same.\n",
    "\tmel = pad_sequence(mel, batch_first=True, padding_value=-20)    # pad log 10^(-20) which is very small value.\n",
    "\t# mel: (batch size, length, 40)\n",
    "\treturn mel, torch.FloatTensor(speaker).long()\n",
    "\n",
    "\n",
    "def get_dataloader(data_dir, batch_size, n_workers):\n",
    "\t\"\"\"Generate dataloader\"\"\"\n",
    "\tdataset = myDataset(data_dir)\n",
    "\tspeaker_num = dataset.get_speaker_number()\n",
    "\t# Split dataset into training dataset and validation dataset\n",
    "\ttrainlen = int(0.9 * len(dataset))\n",
    "\tlengths = [trainlen, len(dataset) - trainlen]\n",
    "\ttrainset, validset = random_split(dataset, lengths)\n",
    "\n",
    "\ttrain_loader = DataLoader(\n",
    "\t\ttrainset,\n",
    "\t\tbatch_size=batch_size,\n",
    "\t\tshuffle=True,\n",
    "\t\tdrop_last=True,\n",
    "\t\tnum_workers=n_workers,\n",
    "\t\tpin_memory=True,\n",
    "\t\tcollate_fn=collate_batch,\n",
    "\t)\n",
    "\tvalid_loader = DataLoader(\n",
    "\t\tvalidset,\n",
    "\t\tbatch_size=batch_size,\n",
    "\t\tnum_workers=n_workers,\n",
    "\t\tdrop_last=True,\n",
    "\t\tpin_memory=True,\n",
    "\t\tcollate_fn=collate_batch,\n",
    "\t)\n",
    "\treturn train_loader, valid_loader, speaker_num"
   ]
  },
  {
   "cell_type": "markdown",
   "metadata": {
    "id": "5FOSZYxrMqhc"
   },
   "source": [
    "# Model\n",
    "- TransformerEncoderLayer:\n",
    "  - Base transformer encoder layer in [Attention Is All You Need](https://arxiv.org/abs/1706.03762)\n",
    "  - Parameters:\n",
    "    - d_model: the number of expected features of the input (required).\n",
    "\n",
    "    - nhead: the number of heads of the multiheadattention models (required).\n",
    "\n",
    "    - dim_feedforward: the dimension of the feedforward network model (default=2048).\n",
    "\n",
    "    - dropout: the dropout value (default=0.1).\n",
    "\n",
    "    - activation: the activation function of intermediate layer, relu or gelu (default=relu).\n",
    "\n",
    "- TransformerEncoder:\n",
    "  - TransformerEncoder is a stack of N transformer encoder layers\n",
    "  - Parameters:\n",
    "    - encoder_layer: an instance of the TransformerEncoderLayer() class (required).\n",
    "\n",
    "    - num_layers: the number of sub-encoder-layers in the encoder (required).\n",
    "\n",
    "    - norm: the layer normalization component (optional)."
   ]
  },
  {
   "cell_type": "code",
   "execution_count": 4,
   "metadata": {
    "id": "iXZ5B0EKJGs8",
    "ExecuteTime": {
     "end_time": "2023-11-22T15:33:57.979683300Z",
     "start_time": "2023-11-22T15:33:57.958715100Z"
    }
   },
   "outputs": [],
   "source": [
    "import torch\n",
    "import torch.nn as nn\n",
    "import torch.nn.functional as F\n",
    "\n",
    "\n",
    "class Classifier(nn.Module):\n",
    "\tdef __init__(self, d_model=80, n_spks=600, dropout=0.1):\n",
    "\t\tsuper().__init__()\n",
    "\t\t# Project the dimension of features from that of input into d_model.\n",
    "\t\tself.prenet = nn.Linear(40, d_model)\n",
    "\t\t# TODO:\n",
    "\t\t#   Change Transformer to Conformer.\n",
    "\t\t#   https://arxiv.org/abs/2005.08100\n",
    "\t\tself.encoder_layer = nn.TransformerEncoderLayer(\n",
    "\t\t\td_model=d_model, dim_feedforward=256, nhead=2\n",
    "\t\t)\n",
    "\t\t# self.encoder = nn.TransformerEncoder(self.encoder_layer, num_layers=2)\n",
    "\n",
    "\t\t# Project the the dimension of features from d_model into speaker nums.\n",
    "\t\tself.pred_layer = nn.Sequential(\n",
    "\t\t\tnn.Linear(d_model, d_model),\n",
    "\t\t\tnn.ReLU(),\n",
    "\t\t\tnn.Linear(d_model, n_spks),\n",
    "\t\t)\n",
    "\n",
    "\tdef forward(self, mels):\n",
    "\t\t\"\"\"\n",
    "\t\targs:\n",
    "\t\t\tmels: (batch size, length, 40)\n",
    "\t\treturn:\n",
    "\t\t\tout: (batch size, n_spks)\n",
    "\t\t\"\"\"\n",
    "\t\t# out: (batch size, length, d_model)\n",
    "\t\tout = self.prenet(mels)\n",
    "\t\t# out: (length, batch size, d_model)\n",
    "\t\tout = out.permute(1, 0, 2)\n",
    "\t\t# The encoder layer expect features in the shape of (length, batch size, d_model).\n",
    "\t\tout = self.encoder_layer(out)\n",
    "\t\t# out: (batch size, length, d_model)\n",
    "\t\tout = out.transpose(0, 1)\n",
    "\t\t# mean pooling\n",
    "\t\tstats = out.mean(dim=1)\n",
    "\n",
    "\t\t# out: (batch, n_spks)\n",
    "\t\tout = self.pred_layer(stats)\n",
    "\t\treturn out"
   ]
  },
  {
   "cell_type": "markdown",
   "metadata": {
    "id": "W7yX8JinM5Ly"
   },
   "source": [
    "# Learning rate schedule\n",
    "- For transformer architecture, the design of learning rate schedule is different from that of CNN.\n",
    "- Previous works show that the warmup of learning rate is useful for training models with transformer architectures.\n",
    "- The warmup schedule\n",
    "  - Set learning rate to 0 in the beginning.\n",
    "  - The learning rate increases linearly from 0 to initial learning rate during warmup period."
   ]
  },
  {
   "cell_type": "code",
   "execution_count": 5,
   "metadata": {
    "id": "ykt0N1nVJJi2",
    "ExecuteTime": {
     "end_time": "2023-11-22T15:33:57.989208200Z",
     "start_time": "2023-11-22T15:33:57.971180500Z"
    }
   },
   "outputs": [],
   "source": [
    "import math\n",
    "\n",
    "import torch\n",
    "from torch.optim import Optimizer\n",
    "from torch.optim.lr_scheduler import LambdaLR\n",
    "\n",
    "\n",
    "def get_cosine_schedule_with_warmup(\n",
    "\toptimizer: Optimizer,\n",
    "\tnum_warmup_steps: int,\n",
    "\tnum_training_steps: int,\n",
    "\tnum_cycles: float = 0.5,\n",
    "\tlast_epoch: int = -1,\n",
    "):\n",
    "\t\"\"\"\n",
    "\tCreate a schedule with a learning rate that decreases following the values of the cosine function between the\n",
    "\tinitial lr set in the optimizer to 0, after a warmup period during which it increases linearly between 0 and the\n",
    "\tinitial lr set in the optimizer.\n",
    "\n",
    "\tArgs:\n",
    "\t\toptimizer (:class:`~torch.optim.Optimizer`):\n",
    "\t\tThe optimizer for which to schedule the learning rate.\n",
    "\t\tnum_warmup_steps (:obj:`int`):\n",
    "\t\tThe number of steps for the warmup phase.\n",
    "\t\tnum_training_steps (:obj:`int`):\n",
    "\t\tThe total number of training steps.\n",
    "\t\tnum_cycles (:obj:`float`, `optional`, defaults to 0.5):\n",
    "\t\tThe number of waves in the cosine schedule (the defaults is to just decrease from the max value to 0\n",
    "\t\tfollowing a half-cosine).\n",
    "\t\tlast_epoch (:obj:`int`, `optional`, defaults to -1):\n",
    "\t\tThe index of the last epoch when resuming training.\n",
    "\n",
    "\tReturn:\n",
    "\t\t:obj:`torch.optim.lr_scheduler.LambdaLR` with the appropriate schedule.\n",
    "\t\"\"\"\n",
    "\tdef lr_lambda(current_step):\n",
    "\t\t# Warmup\n",
    "\t\tif current_step < num_warmup_steps:\n",
    "\t\t\treturn float(current_step) / float(max(1, num_warmup_steps))\n",
    "\t\t# decadence\n",
    "\t\tprogress = float(current_step - num_warmup_steps) / float(\n",
    "\t\t\tmax(1, num_training_steps - num_warmup_steps)\n",
    "\t\t)\n",
    "\t\treturn max(\n",
    "\t\t\t0.0, 0.5 * (1.0 + math.cos(math.pi * float(num_cycles) * 2.0 * progress))\n",
    "\t\t)\n",
    "\n",
    "\treturn LambdaLR(optimizer, lr_lambda, last_epoch)"
   ]
  },
  {
   "cell_type": "markdown",
   "metadata": {
    "id": "-LN2XkteM_uH"
   },
   "source": [
    "# Model Function\n",
    "- Model forward function."
   ]
  },
  {
   "cell_type": "code",
   "execution_count": 6,
   "metadata": {
    "id": "N-rr8529JMz0",
    "ExecuteTime": {
     "end_time": "2023-11-22T15:33:57.994338500Z",
     "start_time": "2023-11-22T15:33:57.982700800Z"
    }
   },
   "outputs": [],
   "source": [
    "import torch\n",
    "\n",
    "\n",
    "def model_fn(batch, model, criterion, device):\n",
    "\t\"\"\"Forward a batch through the model.\"\"\"\n",
    "\n",
    "\tmels, labels = batch\n",
    "\tmels = mels.to(device)\n",
    "\tlabels = labels.to(device)\n",
    "\n",
    "\touts = model(mels)\n",
    "\n",
    "\tloss = criterion(outs, labels)\n",
    "\n",
    "\t# Get the speaker id with highest probability.\n",
    "\tpreds = outs.argmax(1)\n",
    "\t# Compute accuracy.\n",
    "\taccuracy = torch.mean((preds == labels).float())\n",
    "\n",
    "\treturn loss, accuracy"
   ]
  },
  {
   "cell_type": "markdown",
   "metadata": {
    "id": "cwM_xyOtNCI2"
   },
   "source": [
    "# Validate\n",
    "- Calculate accuracy of the validation set."
   ]
  },
  {
   "cell_type": "code",
   "execution_count": 7,
   "metadata": {
    "id": "YAiv6kpdJRTJ",
    "ExecuteTime": {
     "end_time": "2023-11-22T15:33:58.004924700Z",
     "start_time": "2023-11-22T15:33:57.995339100Z"
    }
   },
   "outputs": [],
   "source": [
    "from tqdm import tqdm\n",
    "import torch\n",
    "\n",
    "\n",
    "def valid(dataloader, model, criterion, device):\n",
    "\t\"\"\"Validate on validation set.\"\"\"\n",
    "\n",
    "\tmodel.eval()\n",
    "\trunning_loss = 0.0\n",
    "\trunning_accuracy = 0.0\n",
    "\tpbar = tqdm(total=len(dataloader.dataset), ncols=0, desc=\"Valid\", unit=\" uttr\")\n",
    "\n",
    "\tfor i, batch in enumerate(dataloader):\n",
    "\t\twith torch.no_grad():\n",
    "\t\t\tloss, accuracy = model_fn(batch, model, criterion, device)\n",
    "\t\t\trunning_loss += loss.item()\n",
    "\t\t\trunning_accuracy += accuracy.item()\n",
    "\n",
    "\t\tpbar.update(dataloader.batch_size)\n",
    "\t\tpbar.set_postfix(\n",
    "\t\t\tloss=f\"{running_loss / (i+1):.2f}\",\n",
    "\t\t\taccuracy=f\"{running_accuracy / (i+1):.2f}\",\n",
    "\t\t)\n",
    "\n",
    "\tpbar.close()\n",
    "\tmodel.train()\n",
    "\n",
    "\treturn running_accuracy / len(dataloader)"
   ]
  },
  {
   "cell_type": "markdown",
   "metadata": {
    "id": "g6ne9G-eNEdG"
   },
   "source": [
    "# Main function"
   ]
  },
  {
   "cell_type": "code",
   "execution_count": 8,
   "outputs": [],
   "source": [
    "from tqdm import tqdm\n",
    "\n",
    "import torch\n",
    "import torch.nn as nn\n",
    "from torch.optim import AdamW\n",
    "from torch.utils.data import DataLoader, random_split\n",
    "\n",
    "\n",
    "data_dir= \"./Dataset\"\n",
    "save_path= \"model.ckpt\"\n",
    "batch_size= 32\n",
    "n_workers= 0\n",
    "valid_steps= 2000\n",
    "warmup_steps= 1000\n",
    "save_steps= 10000\n",
    "total_steps= 70000\n"
   ],
   "metadata": {
    "collapsed": false,
    "ExecuteTime": {
     "end_time": "2023-11-22T15:34:00.141980400Z",
     "start_time": "2023-11-22T15:34:00.137462400Z"
    }
   }
  },
  {
   "cell_type": "code",
   "execution_count": 12,
   "outputs": [
    {
     "name": "stdout",
     "output_type": "stream",
     "text": [
      "[Info]: Use cuda now!\n",
      "[Info]: Finish loading data!\n"
     ]
    }
   ],
   "source": [
    "device = torch.device(\"cuda\" if torch.cuda.is_available() else \"cpu\")\n",
    "print(f\"[Info]: Use {device} now!\")\n",
    "train_loader, valid_loader, speaker_num = get_dataloader(data_dir, batch_size, n_workers)\n",
    "train_iterator = iter(train_loader)\n",
    "print(f\"[Info]: Finish loading data!\",flush = True)"
   ],
   "metadata": {
    "collapsed": false,
    "ExecuteTime": {
     "end_time": "2023-11-22T15:42:52.274844Z",
     "start_time": "2023-11-22T15:35:33.526859400Z"
    }
   }
  },
  {
   "cell_type": "code",
   "execution_count": 10,
   "outputs": [
    {
     "name": "stdout",
     "output_type": "stream",
     "text": [
      "[Info]: Finish creating model!\n"
     ]
    },
    {
     "name": "stderr",
     "output_type": "stream",
     "text": [
      "Train: 100% 2000/2000 [24:28<00:00,  1.36 step/s, accuracy=0.09, loss=4.21, step=2000]\n",
      "Valid: 100% 5664/5667 [02:30<00:00, 37.54 uttr/s, accuracy=0.17, loss=4.08]\n",
      "Train: 100% 2000/2000 [00:24<00:00, 80.78 step/s, accuracy=0.22, loss=3.89, step=4000]\n",
      "Valid: 100% 5664/5667 [00:01<00:00, 3455.31 uttr/s, accuracy=0.27, loss=3.44]\n",
      "Train: 100% 2000/2000 [00:24<00:00, 81.01 step/s, accuracy=0.25, loss=2.91, step=6000]\n",
      "Valid: 100% 5664/5667 [00:01<00:00, 3248.49 uttr/s, accuracy=0.32, loss=3.08]\n",
      "Train: 100% 2000/2000 [00:24<00:00, 81.22 step/s, accuracy=0.34, loss=2.76, step=8000]\n",
      "Valid: 100% 5664/5667 [00:01<00:00, 3582.03 uttr/s, accuracy=0.38, loss=2.78]\n",
      "Train: 100% 2000/2000 [00:24<00:00, 81.78 step/s, accuracy=0.34, loss=3.41, step=1e+4]\n",
      "Valid: 100% 5664/5667 [00:01<00:00, 3292.92 uttr/s, accuracy=0.42, loss=2.63]\n",
      "Train:   1% 15/2000 [00:00<00:26, 76.29 step/s, accuracy=0.44, loss=2.36, step=1e+4]"
     ]
    },
    {
     "name": "stdout",
     "output_type": "stream",
     "text": [
      "Step 10000, best model saved. (accuracy=0.4170)\n"
     ]
    },
    {
     "name": "stderr",
     "output_type": "stream",
     "text": [
      "Train: 100% 2000/2000 [00:24<00:00, 83.21 step/s, accuracy=0.53, loss=2.49, step=12000]\n",
      "Valid: 100% 5664/5667 [00:01<00:00, 3506.57 uttr/s, accuracy=0.47, loss=2.38]\n",
      "Train: 100% 2000/2000 [00:23<00:00, 83.50 step/s, accuracy=0.44, loss=2.08, step=14000]\n",
      "Valid: 100% 5664/5667 [00:01<00:00, 3427.73 uttr/s, accuracy=0.47, loss=2.38]\n",
      "Train: 100% 2000/2000 [00:23<00:00, 84.81 step/s, accuracy=0.50, loss=2.68, step=16000]\n",
      "Valid: 100% 5664/5667 [00:01<00:00, 3550.90 uttr/s, accuracy=0.50, loss=2.25]\n",
      "Train: 100% 2000/2000 [00:23<00:00, 84.32 step/s, accuracy=0.66, loss=1.41, step=18000]\n",
      "Valid: 100% 5664/5667 [00:01<00:00, 3600.19 uttr/s, accuracy=0.50, loss=2.21]\n",
      "Train: 100% 2000/2000 [00:23<00:00, 84.16 step/s, accuracy=0.72, loss=1.87, step=2e+4] \n",
      "Valid: 100% 5664/5667 [00:01<00:00, 3583.23 uttr/s, accuracy=0.53, loss=2.11]\n",
      "Train:   1% 16/2000 [00:00<00:23, 85.76 step/s, accuracy=0.56, loss=1.62, step=2e+4]"
     ]
    },
    {
     "name": "stdout",
     "output_type": "stream",
     "text": [
      "Step 20000, best model saved. (accuracy=0.5320)\n"
     ]
    },
    {
     "name": "stderr",
     "output_type": "stream",
     "text": [
      "Train: 100% 2000/2000 [00:24<00:00, 82.95 step/s, accuracy=0.59, loss=1.34, step=22000]\n",
      "Valid: 100% 5664/5667 [00:01<00:00, 3391.73 uttr/s, accuracy=0.53, loss=2.11]\n",
      "Train: 100% 2000/2000 [00:24<00:00, 83.10 step/s, accuracy=0.75, loss=1.66, step=24000]\n",
      "Valid: 100% 5664/5667 [00:01<00:00, 3568.19 uttr/s, accuracy=0.56, loss=1.99]\n",
      "Train: 100% 2000/2000 [00:24<00:00, 83.24 step/s, accuracy=0.53, loss=1.96, step=26000]\n",
      "Valid: 100% 5664/5667 [00:01<00:00, 3661.88 uttr/s, accuracy=0.56, loss=1.96]\n",
      "Train: 100% 2000/2000 [00:23<00:00, 84.93 step/s, accuracy=0.59, loss=1.60, step=28000]\n",
      "Valid: 100% 5664/5667 [00:01<00:00, 3484.70 uttr/s, accuracy=0.57, loss=1.91]\n",
      "Train: 100% 2000/2000 [00:24<00:00, 82.99 step/s, accuracy=0.69, loss=1.52, step=3e+4] \n",
      "Valid: 100% 5664/5667 [00:01<00:00, 3512.90 uttr/s, accuracy=0.59, loss=1.81]\n",
      "Train:   1% 15/2000 [00:00<00:25, 76.41 step/s, accuracy=0.59, loss=1.41, step=3e+4]"
     ]
    },
    {
     "name": "stdout",
     "output_type": "stream",
     "text": [
      "Step 30000, best model saved. (accuracy=0.5860)\n"
     ]
    },
    {
     "name": "stderr",
     "output_type": "stream",
     "text": [
      "Train: 100% 2000/2000 [00:23<00:00, 85.09 step/s, accuracy=0.75, loss=1.03, step=32000]\n",
      "Valid: 100% 5664/5667 [00:01<00:00, 3462.86 uttr/s, accuracy=0.59, loss=1.78]\n",
      "Train: 100% 2000/2000 [00:23<00:00, 83.72 step/s, accuracy=0.59, loss=1.77, step=34000]\n",
      "Valid: 100% 5664/5667 [00:01<00:00, 3534.67 uttr/s, accuracy=0.60, loss=1.80]\n",
      "Train: 100% 2000/2000 [00:23<00:00, 84.40 step/s, accuracy=0.66, loss=1.34, step=36000]\n",
      "Valid: 100% 5664/5667 [00:01<00:00, 3597.11 uttr/s, accuracy=0.61, loss=1.75]\n",
      "Train: 100% 2000/2000 [00:23<00:00, 84.77 step/s, accuracy=0.72, loss=1.47, step=38000]\n",
      "Valid: 100% 5664/5667 [00:01<00:00, 3422.39 uttr/s, accuracy=0.62, loss=1.71]\n",
      "Train: 100% 2000/2000 [00:23<00:00, 85.44 step/s, accuracy=0.62, loss=1.31, step=4e+4] \n",
      "Valid: 100% 5664/5667 [00:01<00:00, 3642.23 uttr/s, accuracy=0.63, loss=1.65]\n",
      "Train:   1% 16/2000 [00:00<00:23, 83.33 step/s, accuracy=0.62, loss=1.51, step=4e+4]"
     ]
    },
    {
     "name": "stdout",
     "output_type": "stream",
     "text": [
      "Step 40000, best model saved. (accuracy=0.6287)\n"
     ]
    },
    {
     "name": "stderr",
     "output_type": "stream",
     "text": [
      "Train: 100% 2000/2000 [00:23<00:00, 84.92 step/s, accuracy=0.72, loss=1.10, step=42000]\n",
      "Valid: 100% 5664/5667 [00:01<00:00, 3442.76 uttr/s, accuracy=0.63, loss=1.61]\n",
      "Train: 100% 2000/2000 [00:23<00:00, 85.12 step/s, accuracy=0.69, loss=0.91, step=44000]\n",
      "Valid: 100% 5664/5667 [00:01<00:00, 3555.14 uttr/s, accuracy=0.65, loss=1.59]\n",
      "Train: 100% 2000/2000 [00:23<00:00, 83.74 step/s, accuracy=0.59, loss=1.20, step=46000]\n",
      "Valid: 100% 5664/5667 [00:01<00:00, 3510.68 uttr/s, accuracy=0.65, loss=1.53]\n",
      "Train: 100% 2000/2000 [00:23<00:00, 84.00 step/s, accuracy=0.84, loss=0.51, step=48000]\n",
      "Valid: 100% 5664/5667 [00:01<00:00, 3547.55 uttr/s, accuracy=0.65, loss=1.58]\n",
      "Train: 100% 2000/2000 [00:24<00:00, 83.08 step/s, accuracy=0.69, loss=1.15, step=5e+4] \n",
      "Valid: 100% 5664/5667 [00:01<00:00, 3552.44 uttr/s, accuracy=0.65, loss=1.56]\n",
      "Train:   1% 16/2000 [00:00<00:24, 82.52 step/s, accuracy=0.62, loss=1.36, step=5e+4]"
     ]
    },
    {
     "name": "stdout",
     "output_type": "stream",
     "text": [
      "Step 50000, best model saved. (accuracy=0.6518)\n"
     ]
    },
    {
     "name": "stderr",
     "output_type": "stream",
     "text": [
      "Train: 100% 2000/2000 [00:23<00:00, 83.90 step/s, accuracy=0.84, loss=0.73, step=52000]\n",
      "Valid: 100% 5664/5667 [00:01<00:00, 3441.46 uttr/s, accuracy=0.66, loss=1.51]\n",
      "Train: 100% 2000/2000 [00:23<00:00, 83.82 step/s, accuracy=0.69, loss=1.32, step=54000]\n",
      "Valid: 100% 5664/5667 [00:01<00:00, 3523.15 uttr/s, accuracy=0.67, loss=1.49]\n",
      "Train: 100% 2000/2000 [00:23<00:00, 84.39 step/s, accuracy=0.53, loss=1.35, step=56000]\n",
      "Valid: 100% 5664/5667 [00:01<00:00, 3591.91 uttr/s, accuracy=0.67, loss=1.47]\n",
      "Train: 100% 2000/2000 [00:23<00:00, 83.83 step/s, accuracy=0.66, loss=1.27, step=58000]\n",
      "Valid: 100% 5664/5667 [00:01<00:00, 3413.92 uttr/s, accuracy=0.66, loss=1.49]\n",
      "Train: 100% 2000/2000 [00:23<00:00, 83.99 step/s, accuracy=0.66, loss=1.30, step=6e+4] \n",
      "Valid: 100% 5664/5667 [00:01<00:00, 3471.03 uttr/s, accuracy=0.68, loss=1.43]\n",
      "Train:   1% 15/2000 [00:00<00:26, 76.09 step/s, accuracy=0.62, loss=1.83, step=6e+4]"
     ]
    },
    {
     "name": "stdout",
     "output_type": "stream",
     "text": [
      "Step 60000, best model saved. (accuracy=0.6840)\n"
     ]
    },
    {
     "name": "stderr",
     "output_type": "stream",
     "text": [
      "Train: 100% 2000/2000 [00:23<00:00, 84.18 step/s, accuracy=0.78, loss=0.81, step=62000]\n",
      "Valid: 100% 5664/5667 [00:01<00:00, 3414.90 uttr/s, accuracy=0.68, loss=1.44]\n",
      "Train: 100% 2000/2000 [00:23<00:00, 84.25 step/s, accuracy=0.78, loss=0.98, step=64000]\n",
      "Valid: 100% 5664/5667 [00:01<00:00, 3492.01 uttr/s, accuracy=0.69, loss=1.40]\n",
      "Train: 100% 2000/2000 [00:23<00:00, 85.02 step/s, accuracy=0.81, loss=0.83, step=66000]\n",
      "Valid: 100% 5664/5667 [00:01<00:00, 3531.96 uttr/s, accuracy=0.69, loss=1.42]\n",
      "Train: 100% 2000/2000 [00:23<00:00, 84.54 step/s, accuracy=0.75, loss=0.78, step=68000]\n",
      "Valid: 100% 5664/5667 [00:01<00:00, 3471.24 uttr/s, accuracy=0.68, loss=1.42]\n",
      "Train: 100% 2000/2000 [00:23<00:00, 83.69 step/s, accuracy=0.75, loss=1.21, step=7e+4] \n",
      "Valid: 100% 5664/5667 [00:01<00:00, 3388.99 uttr/s, accuracy=0.68, loss=1.45]\n",
      "Train:   0% 0/2000 [00:00<?, ? step/s]"
     ]
    },
    {
     "name": "stdout",
     "output_type": "stream",
     "text": [
      "Step 70000, best model saved. (accuracy=0.6859)\n"
     ]
    },
    {
     "name": "stderr",
     "output_type": "stream",
     "text": [
      "\n"
     ]
    }
   ],
   "source": [
    "\n",
    "model = Classifier(n_spks=speaker_num).to(device)\n",
    "criterion = nn.CrossEntropyLoss()\n",
    "optimizer = AdamW(model.parameters(), lr=1e-3)\n",
    "scheduler = get_cosine_schedule_with_warmup(optimizer, warmup_steps, total_steps)\n",
    "print(f\"[Info]: Finish creating model!\",flush = True)\n",
    "\n",
    "best_accuracy = -1.0\n",
    "best_state_dict = None\n",
    "\n",
    "pbar = tqdm(total=valid_steps, ncols=0, desc=\"Train\", unit=\" step\")\n",
    "\n",
    "for step in range(total_steps):\n",
    "\t# Get data\n",
    "\ttry:\n",
    "\t\tbatch = next(train_iterator)\n",
    "\texcept StopIteration:\n",
    "\t\ttrain_iterator = iter(train_loader)\n",
    "\t\tbatch = next(train_iterator)\n",
    "\n",
    "\tloss, accuracy = model_fn(batch, model, criterion, device)\n",
    "\tbatch_loss = loss.item()\n",
    "\tbatch_accuracy = accuracy.item()\n",
    "\n",
    "\t# Updata model\n",
    "\tloss.backward()\n",
    "\toptimizer.step()\n",
    "\tscheduler.step()\n",
    "\toptimizer.zero_grad()\n",
    "\n",
    "\t# Log\n",
    "\tpbar.update()\n",
    "\tpbar.set_postfix(\n",
    "\t\tloss=f\"{batch_loss:.2f}\",\n",
    "\t\taccuracy=f\"{batch_accuracy:.2f}\",\n",
    "\t\tstep=step + 1,\n",
    "\t)\n",
    "\n",
    "\t# Do validation\n",
    "\tif (step + 1) % valid_steps == 0:\n",
    "\t\tpbar.close()\n",
    "\n",
    "\t\tvalid_accuracy = valid(valid_loader, model, criterion, device)\n",
    "\n",
    "\t\t# keep the best model\n",
    "\t\tif valid_accuracy > best_accuracy:\n",
    "\t\t\tbest_accuracy = valid_accuracy\n",
    "\t\t\tbest_state_dict = model.state_dict()\n",
    "\n",
    "\t\tpbar = tqdm(total=valid_steps, ncols=0, desc=\"Train\", unit=\" step\")\n",
    "\n",
    "\t# Save the best model so far.\n",
    "\tif (step + 1) % save_steps == 0 and best_state_dict is not None:\n",
    "\t\ttorch.save(best_state_dict, save_path)\n",
    "\t\tpbar.write(f\"Step {step + 1}, best model saved. (accuracy={best_accuracy:.4f})\")\n",
    "\n",
    "pbar.close()"
   ],
   "metadata": {
    "collapsed": false,
    "ExecuteTime": {
     "end_time": "2023-11-18T12:42:47.226634500Z",
     "start_time": "2023-11-18T12:01:20.228202800Z"
    }
   }
  },
  {
   "cell_type": "markdown",
   "metadata": {
    "id": "NLatBYAhNNMx"
   },
   "source": [
    "# Inference\n",
    "\n",
    "## Dataset of inference"
   ]
  },
  {
   "cell_type": "code",
   "execution_count": 10,
   "metadata": {
    "colab": {
     "background_save": true
    },
    "id": "efS4pCmAJXJH",
    "ExecuteTime": {
     "end_time": "2023-11-22T15:22:24.315001Z",
     "start_time": "2023-11-22T15:22:24.295355700Z"
    }
   },
   "outputs": [],
   "source": [
    "import os\n",
    "import json\n",
    "import torch\n",
    "from pathlib import Path\n",
    "from torch.utils.data import Dataset\n",
    "\n",
    "\n",
    "class InferenceDataset(Dataset):\n",
    "\tdef __init__(self, data_dir):\n",
    "\t\ttestdata_path = Path(data_dir) / \"testdata.json\"\n",
    "\t\tmetadata = json.load(testdata_path.open())\n",
    "\t\tself.data_dir = data_dir\n",
    "\t\tself.data = metadata[\"utterances\"]\n",
    "\n",
    "\tdef __len__(self):\n",
    "\t\treturn len(self.data)\n",
    "\n",
    "\tdef __getitem__(self, index):\n",
    "\t\tutterance = self.data[index]\n",
    "\t\tfeat_path = utterance[\"feature_path\"]\n",
    "\t\tmel = torch.load(os.path.join(self.data_dir, feat_path))\n",
    "\n",
    "\t\treturn feat_path, mel\n",
    "\n",
    "\n",
    "def inference_collate_batch(batch):\n",
    "\t\"\"\"Collate a batch of data.\"\"\"\n",
    "\tfeat_paths, mels = zip(*batch)\n",
    "\n",
    "\treturn feat_paths, torch.stack(mels)"
   ]
  },
  {
   "cell_type": "markdown",
   "metadata": {
    "id": "tl0WnYwxNK_S"
   },
   "source": [
    "## Main funcrion of Inference"
   ]
  },
  {
   "cell_type": "code",
   "execution_count": 11,
   "metadata": {
    "colab": {
     "background_save": true
    },
    "id": "i8SAbuXEJb2A",
    "ExecuteTime": {
     "end_time": "2023-11-22T15:26:15.918279500Z",
     "start_time": "2023-11-22T15:22:27.511468300Z"
    }
   },
   "outputs": [
    {
     "name": "stdout",
     "output_type": "stream",
     "text": [
      "[Info]: Use cuda now!\n",
      "[Info]: Finish loading data!\n",
      "[Info]: Finish creating model!\n"
     ]
    },
    {
     "data": {
      "text/plain": "  0%|          | 0/8000 [00:00<?, ?it/s]",
      "application/vnd.jupyter.widget-view+json": {
       "version_major": 2,
       "version_minor": 0,
       "model_id": "544102efb7774c9bb5638ce8f72566b7"
      }
     },
     "metadata": {},
     "output_type": "display_data"
    }
   ],
   "source": [
    "import json\n",
    "import csv\n",
    "from pathlib import Path\n",
    "from tqdm.notebook import tqdm\n",
    "\n",
    "import torch\n",
    "from torch.utils.data import DataLoader\n",
    "\n",
    "def parse_args():\n",
    "\t\"\"\"arguments\"\"\"\n",
    "\tconfig = {\n",
    "\t\t\"data_dir\": \"./Dataset\",\n",
    "\t\t\"model_path\": \"./model.ckpt\",\n",
    "\t\t\"output_path\": \"./output.csv\",\n",
    "\t}\n",
    "\n",
    "\treturn config\n",
    "\n",
    "\n",
    "def main(\n",
    "\tdata_dir,\n",
    "\tmodel_path,\n",
    "\toutput_path,\n",
    "):\n",
    "\t\"\"\"Main function.\"\"\"\n",
    "\tdevice = torch.device(\"cuda\" if torch.cuda.is_available() else \"cpu\")\n",
    "\tprint(f\"[Info]: Use {device} now!\")\n",
    "\n",
    "\tmapping_path = Path(data_dir) / \"mapping.json\"\n",
    "\tmapping = json.load(mapping_path.open())\n",
    "\n",
    "\tdataset = InferenceDataset(data_dir)\n",
    "\tdataloader = DataLoader(\n",
    "\t\tdataset,\n",
    "\t\tbatch_size=1,\n",
    "\t\tshuffle=False,\n",
    "\t\tdrop_last=False,\n",
    "\t\tnum_workers=0,\n",
    "\t\tcollate_fn=inference_collate_batch,\n",
    "\t)\n",
    "\tprint(f\"[Info]: Finish loading data!\",flush = True)\n",
    "\n",
    "\tspeaker_num = len(mapping[\"id2speaker\"])\n",
    "\tmodel = Classifier(n_spks=speaker_num).to(device)\n",
    "\tmodel.load_state_dict(torch.load(model_path))\n",
    "\tmodel.eval()\n",
    "\tprint(f\"[Info]: Finish creating model!\",flush = True)\n",
    "\n",
    "\tresults = [[\"Id\", \"Category\"]]\n",
    "\tfor feat_paths, mels in tqdm(dataloader):\n",
    "\t\twith torch.no_grad():\n",
    "\t\t\tmels = mels.to(device)\n",
    "\t\t\touts = model(mels)\n",
    "\t\t\tpreds = outs.argmax(1).cpu().numpy()\n",
    "\t\t\tfor feat_path, pred in zip(feat_paths, preds):\n",
    "\t\t\t\tresults.append([feat_path, mapping[\"id2speaker\"][str(pred)]])\n",
    "\n",
    "\twith open(output_path, 'w', newline='') as csvfile:\n",
    "\t\twriter = csv.writer(csvfile)\n",
    "\t\twriter.writerows(results)\n",
    "\n",
    "\n",
    "if __name__ == \"__main__\":\n",
    "\tmain(**parse_args())"
   ]
  }
 ],
 "metadata": {
  "accelerator": "GPU",
  "colab": {
   "provenance": [
    {
     "file_id": "1gC2Gojv9ov9MUQ1a1WDpVBD6FOcLZsog",
     "timestamp": 1700286872412
    }
   ]
  },
  "kernelspec": {
   "name": "python3",
   "language": "python",
   "display_name": "Python 3 (ipykernel)"
  },
  "language_info": {
   "name": "python"
  }
 },
 "nbformat": 4,
 "nbformat_minor": 0
}
