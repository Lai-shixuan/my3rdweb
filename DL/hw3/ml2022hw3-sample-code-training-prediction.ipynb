{
 "metadata": {
  "kernelspec": {
   "language": "python",
   "display_name": "Python 3",
   "name": "python3"
  },
  "language_info": {
   "pygments_lexer": "ipython3",
   "nbconvert_exporter": "python",
   "version": "3.6.4",
   "file_extension": ".py",
   "codemirror_mode": {
    "name": "ipython",
    "version": 3
   },
   "name": "python",
   "mimetype": "text/x-python"
  }
 },
 "nbformat_minor": 4,
 "nbformat": 4,
 "cells": [
  {
   "cell_type": "markdown",
   "source": [
    "# Includes"
   ],
   "metadata": {
    "collapsed": false
   }
  },
  {
   "cell_type": "code",
   "execution_count": 1,
   "outputs": [],
   "source": [
    "_exp_name = \"sample\""
   ],
   "metadata": {
    "collapsed": false,
    "ExecuteTime": {
     "end_time": "2023-11-05T08:32:33.418409400Z",
     "start_time": "2023-11-05T08:32:33.400847200Z"
    }
   }
  },
  {
   "cell_type": "code",
   "source": [
    "# Import necessary packages.\n",
    "import numpy as np\n",
    "import torch\n",
    "import os\n",
    "import torch.nn as nn\n",
    "import torchvision.transforms as transforms\n",
    "import datetime\n",
    "from PIL import Image\n",
    "# \"ConcatDataset\" and \"Subset\" are possibly useful when doing semi-supervised learning.\n",
    "from torch.utils.data import ConcatDataset, DataLoader, Subset, Dataset\n",
    "from torchvision.datasets import DatasetFolder, VisionDataset\n",
    "import pandas as pd\n",
    "\n",
    "# This is for the progress bar.\n",
    "from tqdm.auto import tqdm\n",
    "import random\n",
    "import csv\n",
    "\n",
    "from sklearn.model_selection import KFold\n",
    "from sklearn import preprocessing"
   ],
   "metadata": {
    "papermill": {
     "duration": 1.654263,
     "end_time": "2022-02-23T10:03:07.947242",
     "exception": false,
     "start_time": "2022-02-23T10:03:06.292979",
     "status": "completed"
    },
    "tags": [],
    "execution": {
     "iopub.status.busy": "2022-03-04T07:49:47.240504Z",
     "iopub.execute_input": "2022-03-04T07:49:47.240907Z",
     "iopub.status.idle": "2022-03-04T07:49:48.860296Z",
     "shell.execute_reply.started": "2022-03-04T07:49:47.240872Z",
     "shell.execute_reply": "2022-03-04T07:49:48.859536Z"
    },
    "trusted": true,
    "ExecuteTime": {
     "end_time": "2023-11-05T08:32:36.052830800Z",
     "start_time": "2023-11-05T08:32:33.419409300Z"
    }
   },
   "execution_count": 2,
   "outputs": []
  },
  {
   "cell_type": "code",
   "source": [
    "myseed = 6666  # set a random seed for reproducibility\n",
    "torch.backends.cudnn.deterministic = True\n",
    "torch.backends.cudnn.benchmark = False\n",
    "np.random.seed(myseed)\n",
    "torch.manual_seed(myseed)\n",
    "if torch.cuda.is_available():\n",
    "    torch.cuda.manual_seed_all(myseed)"
   ],
   "metadata": {
    "papermill": {
     "duration": 0.078771,
     "end_time": "2022-02-23T10:03:08.039428",
     "exception": false,
     "start_time": "2022-02-23T10:03:07.960657",
     "status": "completed"
    },
    "tags": [],
    "execution": {
     "iopub.status.busy": "2022-03-04T07:49:48.862365Z",
     "iopub.execute_input": "2022-03-04T07:49:48.862631Z",
     "iopub.status.idle": "2022-03-04T07:49:48.914697Z",
     "shell.execute_reply.started": "2022-03-04T07:49:48.862595Z",
     "shell.execute_reply": "2022-03-04T07:49:48.913996Z"
    },
    "trusted": true,
    "ExecuteTime": {
     "end_time": "2023-11-05T08:32:36.074764400Z",
     "start_time": "2023-11-05T08:32:36.055831Z"
    }
   },
   "execution_count": 3,
   "outputs": []
  },
  {
   "cell_type": "markdown",
   "source": [
    "# Transforms\n",
    "Torchvision provides lots of useful utilities for image preprocessing, data wrapping as well as data augmentation.\n",
    "\n",
    "Please refer to PyTorch official website for details about different transforms."
   ],
   "metadata": {
    "papermill": {
     "duration": 0.01289,
     "end_time": "2022-02-23T10:03:08.065357",
     "exception": false,
     "start_time": "2022-02-23T10:03:08.052467",
     "status": "completed"
    },
    "tags": []
   }
  },
  {
   "cell_type": "code",
   "source": [
    "# Normally, We don't need augmentations in testing and validation.\n",
    "# All we need here is to resize the PIL image and transform it into Tensor.\n",
    "test_tfm = transforms.Compose([\n",
    "    transforms.Resize((128, 128)),\n",
    "    transforms.ToTensor(),\n",
    "])\n",
    "\n",
    "# However, it is also possible to use augmentation in the testing phase.\n",
    "# You may use train_tfm to produce a variety of images and then test using ensemble methods\n",
    "train_tfm = transforms.Compose([\n",
    "    # Resize the image into a fixed shape (height = width = 128)\n",
    "    transforms.Resize((128, 128)),\n",
    "    transforms.RandomHorizontalFlip(),\n",
    "    transforms.RandomVerticalFlip(),\n",
    "    transforms.RandomGrayscale(),\n",
    "    # transforms.RandomResizedCrop,\n",
    "    # transforms.AutoAugment(),\n",
    "    # You may add some transforms here.\n",
    "    # ToTensor() should be the last one of the transforms.\n",
    "    transforms.ToTensor(),\n",
    "])\n"
   ],
   "metadata": {
    "papermill": {
     "duration": 0.021406,
     "end_time": "2022-02-23T10:03:08.099437",
     "exception": false,
     "start_time": "2022-02-23T10:03:08.078031",
     "status": "completed"
    },
    "tags": [],
    "execution": {
     "iopub.status.busy": "2022-03-04T07:49:48.918011Z",
     "iopub.execute_input": "2022-03-04T07:49:48.919438Z",
     "iopub.status.idle": "2022-03-04T07:49:48.924946Z",
     "shell.execute_reply.started": "2022-03-04T07:49:48.919373Z",
     "shell.execute_reply": "2022-03-04T07:49:48.924086Z"
    },
    "trusted": true,
    "ExecuteTime": {
     "end_time": "2023-11-05T08:32:36.087310100Z",
     "start_time": "2023-11-05T08:32:36.074764400Z"
    }
   },
   "execution_count": 4,
   "outputs": []
  },
  {
   "cell_type": "markdown",
   "source": [
    "# Datasets\n",
    "The data is labelled by the name, so we load images and label while calling '__getitem__'"
   ],
   "metadata": {
    "papermill": {
     "duration": 0.012739,
     "end_time": "2022-02-23T10:03:08.125181",
     "exception": false,
     "start_time": "2022-02-23T10:03:08.112442",
     "status": "completed"
    },
    "tags": []
   }
  },
  {
   "cell_type": "code",
   "source": [
    "class FoodDataset(Dataset):\n",
    "\n",
    "    def __init__(self, tfm=test_tfm, files = None):\n",
    "        super(FoodDataset).__init__()\n",
    "        # self.path = path\n",
    "        # self.files = sorted([os.path.join(path,x) for x in os.listdir(path) if x.endswith(\".jpg\")])\n",
    "        self.files = files \n",
    "        # if files != None:\n",
    "        #     self.files = files\n",
    "        # print(f\"One sample\",self.files[0])\n",
    "        self.transform = tfm\n",
    "  \n",
    "    def __len__(self):\n",
    "        return len(self.files)\n",
    "  \n",
    "    def __getitem__(self,idx):\n",
    "        fname = self.files[idx]\n",
    "        im = Image.open(fname)\n",
    "        im = self.transform(im)\n",
    "        #im = self.data[idx]\n",
    "        try:\n",
    "            label = int(os.path.split(fname)[1].split(\"_\")[0])\n",
    "        except:\n",
    "            label = -1 # test has no label\n",
    "        return im,label"
   ],
   "metadata": {
    "papermill": {
     "duration": 0.023022,
     "end_time": "2022-02-23T10:03:08.160912",
     "exception": false,
     "start_time": "2022-02-23T10:03:08.13789",
     "status": "completed"
    },
    "tags": [],
    "execution": {
     "iopub.status.busy": "2022-03-04T07:49:48.927868Z",
     "iopub.execute_input": "2022-03-04T07:49:48.928286Z",
     "iopub.status.idle": "2022-03-04T07:49:48.93946Z",
     "shell.execute_reply.started": "2022-03-04T07:49:48.928256Z",
     "shell.execute_reply": "2022-03-04T07:49:48.938642Z"
    },
    "trusted": true,
    "ExecuteTime": {
     "end_time": "2023-11-05T08:32:36.101283900Z",
     "start_time": "2023-11-05T08:32:36.090310Z"
    }
   },
   "execution_count": 5,
   "outputs": []
  },
  {
   "cell_type": "code",
   "execution_count": 6,
   "outputs": [],
   "source": [
    "_dataset_dir = \"./data/\"\n",
    "\n",
    "def dataset_prefold(path):\n",
    "    dataset = sorted([os.path.join(path,x) for x in os.listdir(path) if x.endswith(\".jpg\")])\n",
    "    return dataset\n",
    "\n",
    "train_set = dataset_prefold(os.path.join(_dataset_dir,\"training\"))\n",
    "val_set = dataset_prefold(os.path.join(_dataset_dir,\"validation\"))\n",
    "train_val_set = train_set + val_set\n",
    "\n",
    "le = preprocessing.LabelEncoder()\n",
    "train_val_encoded = le.fit_transform(train_val_set)\n",
    "\n",
    "kfold = KFold(n_splits=5, shuffle=True, random_state=42)"
   ],
   "metadata": {
    "collapsed": false,
    "ExecuteTime": {
     "end_time": "2023-11-05T08:32:36.140889700Z",
     "start_time": "2023-11-05T08:32:36.102284Z"
    }
   }
  },
  {
   "cell_type": "markdown",
   "source": [
    "# Model"
   ],
   "metadata": {
    "collapsed": false
   }
  },
  {
   "cell_type": "code",
   "execution_count": 7,
   "outputs": [],
   "source": [
    "# \"cuda\" only when GPUs are available.\n",
    "device = \"cuda\" if torch.cuda.is_available() else \"cpu\"\n",
    "\n",
    "# The number of training epochs and patience.\n",
    "n_epochs = 30\n",
    "batch_size = 64\n",
    "patience = 300 # If no improvement in 'patience' epochs, early stop"
   ],
   "metadata": {
    "collapsed": false,
    "ExecuteTime": {
     "end_time": "2023-11-05T08:32:36.150289400Z",
     "start_time": "2023-11-05T08:32:36.140889700Z"
    }
   }
  },
  {
   "cell_type": "code",
   "execution_count": 8,
   "outputs": [],
   "source": [
    "class Classifier(nn.Module):\n",
    "    def __init__(self):\n",
    "        super(Classifier, self).__init__()\n",
    "        # torch.nn.Conv2d(in_channels, out_channels, kernel_size, stride, padding)\n",
    "        # torch.nn.MaxPool2d(kernel_size, stride, padding)\n",
    "        # input 維度 [3, 128, 128]\n",
    "        self.cnn = nn.Sequential(\n",
    "            nn.Conv2d(3, 64, 3, 1, 1),  # [64, 128, 128]\n",
    "            nn.BatchNorm2d(64),\n",
    "            nn.ReLU(),\n",
    "            nn.Conv2d(64, 64, 3, 1, 1),  # [64, 128, 128]\n",
    "            nn.BatchNorm2d(64),\n",
    "            nn.ReLU(),\n",
    "            nn.MaxPool2d(2, 2, 0),      # [64, 64, 64]\n",
    "\n",
    "            nn.Conv2d(64, 128, 3, 1, 1), # [128, 64, 64]\n",
    "            nn.BatchNorm2d(128),\n",
    "            nn.ReLU(),\n",
    "            nn.Conv2d(128, 128, 3, 1, 1), # [128, 64, 64]\n",
    "            nn.BatchNorm2d(128),\n",
    "            nn.ReLU(),\n",
    "            nn.MaxPool2d(2, 2, 0),      # [128, 32, 32]\n",
    "\n",
    "            nn.Conv2d(128, 256, 3, 1, 1), # [256, 32, 32]\n",
    "            nn.BatchNorm2d(256),\n",
    "            nn.ReLU(),\n",
    "            nn.Conv2d(256, 256, 3, 1, 1), # [256, 32, 32]\n",
    "            nn.BatchNorm2d(256),\n",
    "            nn.ReLU(),\n",
    "            nn.Conv2d(256, 256, 3, 1, 1), # [256, 32, 32]\n",
    "            nn.BatchNorm2d(256),\n",
    "            nn.ReLU(),\n",
    "            nn.MaxPool2d(2, 2, 0),      # [256, 16, 16]\n",
    "\n",
    "            nn.Conv2d(256, 512, 3, 1, 1), # [512, 16, 16]\n",
    "            nn.BatchNorm2d(512),\n",
    "            nn.ReLU(),\n",
    "            nn.Conv2d(512, 512, 3, 1, 1), # [512, 16, 16]\n",
    "            nn.BatchNorm2d(512),\n",
    "            nn.ReLU(),\n",
    "            nn.Conv2d(512, 512, 3, 1, 1), # [512, 16, 16]\n",
    "            nn.BatchNorm2d(512),\n",
    "            nn.ReLU(),\n",
    "            nn.MaxPool2d(2, 2, 0),       # [512, 8, 8]\n",
    "            \n",
    "            nn.Conv2d(512, 512, 3, 1, 1), # [512, 8, 8]\n",
    "            nn.BatchNorm2d(512),\n",
    "            nn.ReLU(),\n",
    "            nn.Conv2d(512, 512, 3, 1, 1), # [512, 8, 8]\n",
    "            nn.BatchNorm2d(512),\n",
    "            nn.ReLU(),\n",
    "            nn.Conv2d(512, 512, 3, 1, 1), # [512, 8, 8]\n",
    "            nn.BatchNorm2d(512),\n",
    "            nn.ReLU(),\n",
    "            nn.MaxPool2d(2, 2, 0),       # [512, 4, 4]\n",
    "        )\n",
    "        self.fc = nn.Sequential(\n",
    "            nn.Linear(512*4*4, 1024),\n",
    "            nn.ReLU(),\n",
    "            nn.Linear(1024, 512),\n",
    "            nn.ReLU(),\n",
    "            nn.Linear(512, 11)\n",
    "        )\n",
    "\n",
    "    def forward(self, x):\n",
    "        out = self.cnn(x)\n",
    "        out = out.view(out.size()[0], -1)\n",
    "        return self.fc(out)"
   ],
   "metadata": {
    "collapsed": false,
    "ExecuteTime": {
     "end_time": "2023-11-05T08:32:36.158847900Z",
     "start_time": "2023-11-05T08:32:36.145289300Z"
    }
   }
  },
  {
   "cell_type": "markdown",
   "source": [
    "# Train and Validate"
   ],
   "metadata": {
    "collapsed": false
   }
  },
  {
   "cell_type": "code",
   "execution_count": 9,
   "outputs": [],
   "source": [
    "acc_scores = []\n",
    "\n",
    "with open(f\"./log/{_exp_name}_log.csv\",\"a\", newline=\"\") as f:\n",
    "    writer = csv.writer(f)\n",
    "    writer.writerow([\"fold\", \"mode\", f\"Epoch = {n_epochs}\", \"Loss\", \"Acc\", \"Note\"])"
   ],
   "metadata": {
    "collapsed": false,
    "ExecuteTime": {
     "end_time": "2023-11-05T08:32:36.182448200Z",
     "start_time": "2023-11-05T08:32:36.158847900Z"
    }
   }
  },
  {
   "cell_type": "code",
   "execution_count": 10,
   "outputs": [
    {
     "name": "stdout",
     "output_type": "stream",
     "text": [
      "FOLD 0\n",
      "One sample of train ./data/training\\0_1.jpg\n",
      "One sample of val ./data/training\\0_0.jpg\n",
      "--------------------------------\n"
     ]
    },
    {
     "data": {
      "text/plain": "  0%|          | 0/167 [00:00<?, ?it/s]",
      "application/vnd.jupyter.widget-view+json": {
       "version_major": 2,
       "version_minor": 0,
       "model_id": "407b9736c2fc456cb48fef7f7208532c"
      }
     },
     "metadata": {},
     "output_type": "display_data"
    },
    {
     "name": "stdout",
     "output_type": "stream",
     "text": [
      "0, [ Train | 001/030 ] loss = 2.14722, acc = 0.23182\n"
     ]
    },
    {
     "data": {
      "text/plain": "  0%|          | 0/42 [00:00<?, ?it/s]",
      "application/vnd.jupyter.widget-view+json": {
       "version_major": 2,
       "version_minor": 0,
       "model_id": "309ca73c9d1f483ca59eb31abb19de0d"
      }
     },
     "metadata": {},
     "output_type": "display_data"
    },
    {
     "name": "stdout",
     "output_type": "stream",
     "text": [
      "0, [ Valid | 001/030 ] loss = 2.05848, acc = 0.27211\n",
      "Best model found at epoch 1, saving model\n"
     ]
    },
    {
     "data": {
      "text/plain": "  0%|          | 0/167 [00:00<?, ?it/s]",
      "application/vnd.jupyter.widget-view+json": {
       "version_major": 2,
       "version_minor": 0,
       "model_id": "2e45ce1891ac422cae4b52252757a4e6"
      }
     },
     "metadata": {},
     "output_type": "display_data"
    },
    {
     "name": "stdout",
     "output_type": "stream",
     "text": [
      "0, [ Train | 002/030 ] loss = 1.96536, acc = 0.29959\n"
     ]
    },
    {
     "data": {
      "text/plain": "  0%|          | 0/42 [00:00<?, ?it/s]",
      "application/vnd.jupyter.widget-view+json": {
       "version_major": 2,
       "version_minor": 0,
       "model_id": "702be57c8a544c00bebdf90d9a3034ac"
      }
     },
     "metadata": {},
     "output_type": "display_data"
    },
    {
     "name": "stdout",
     "output_type": "stream",
     "text": [
      "0, [ Valid | 002/030 ] loss = 1.86663, acc = 0.33966\n",
      "Best model found at epoch 2, saving model\n"
     ]
    },
    {
     "data": {
      "text/plain": "  0%|          | 0/167 [00:00<?, ?it/s]",
      "application/vnd.jupyter.widget-view+json": {
       "version_major": 2,
       "version_minor": 0,
       "model_id": "4e7debf7536d4205bdec3bd87f9edca0"
      }
     },
     "metadata": {},
     "output_type": "display_data"
    },
    {
     "name": "stdout",
     "output_type": "stream",
     "text": [
      "0, [ Train | 003/030 ] loss = 1.88599, acc = 0.33299\n"
     ]
    },
    {
     "data": {
      "text/plain": "  0%|          | 0/42 [00:00<?, ?it/s]",
      "application/vnd.jupyter.widget-view+json": {
       "version_major": 2,
       "version_minor": 0,
       "model_id": "6bdc89e3b2f54502ae1d825af9165b24"
      }
     },
     "metadata": {},
     "output_type": "display_data"
    },
    {
     "name": "stdout",
     "output_type": "stream",
     "text": [
      "0, [ Valid | 003/030 ] loss = 1.89508, acc = 0.34305\n",
      "Best model found at epoch 3, saving model\n"
     ]
    },
    {
     "data": {
      "text/plain": "  0%|          | 0/167 [00:00<?, ?it/s]",
      "application/vnd.jupyter.widget-view+json": {
       "version_major": 2,
       "version_minor": 0,
       "model_id": "65a4f69c41294414b78a385fd89e6d2a"
      }
     },
     "metadata": {},
     "output_type": "display_data"
    },
    {
     "name": "stdout",
     "output_type": "stream",
     "text": [
      "0, [ Train | 004/030 ] loss = 1.77180, acc = 0.38058\n"
     ]
    },
    {
     "data": {
      "text/plain": "  0%|          | 0/42 [00:00<?, ?it/s]",
      "application/vnd.jupyter.widget-view+json": {
       "version_major": 2,
       "version_minor": 0,
       "model_id": "76aa4201739d47318a4bae689f73bdbb"
      }
     },
     "metadata": {},
     "output_type": "display_data"
    },
    {
     "name": "stdout",
     "output_type": "stream",
     "text": [
      "0, [ Valid | 004/030 ] loss = 1.76333, acc = 0.38843\n",
      "Best model found at epoch 4, saving model\n"
     ]
    },
    {
     "data": {
      "text/plain": "  0%|          | 0/167 [00:00<?, ?it/s]",
      "application/vnd.jupyter.widget-view+json": {
       "version_major": 2,
       "version_minor": 0,
       "model_id": "98a08ca9593e40148e4ede3aeae91025"
      }
     },
     "metadata": {},
     "output_type": "display_data"
    },
    {
     "name": "stdout",
     "output_type": "stream",
     "text": [
      "0, [ Train | 005/030 ] loss = 1.68881, acc = 0.40831\n"
     ]
    },
    {
     "data": {
      "text/plain": "  0%|          | 0/42 [00:00<?, ?it/s]",
      "application/vnd.jupyter.widget-view+json": {
       "version_major": 2,
       "version_minor": 0,
       "model_id": "48eaaed4e84541518eaa494a96eab756"
      }
     },
     "metadata": {},
     "output_type": "display_data"
    },
    {
     "name": "stdout",
     "output_type": "stream",
     "text": [
      "0, [ Valid | 005/030 ] loss = 1.68941, acc = 0.41431\n",
      "Best model found at epoch 5, saving model\n"
     ]
    },
    {
     "data": {
      "text/plain": "  0%|          | 0/167 [00:00<?, ?it/s]",
      "application/vnd.jupyter.widget-view+json": {
       "version_major": 2,
       "version_minor": 0,
       "model_id": "5becb2e6d3964d1dab93ebffc52c2f72"
      }
     },
     "metadata": {},
     "output_type": "display_data"
    },
    {
     "name": "stdout",
     "output_type": "stream",
     "text": [
      "0, [ Train | 006/030 ] loss = 1.60439, acc = 0.43410\n"
     ]
    },
    {
     "data": {
      "text/plain": "  0%|          | 0/42 [00:00<?, ?it/s]",
      "application/vnd.jupyter.widget-view+json": {
       "version_major": 2,
       "version_minor": 0,
       "model_id": "806fca6f6ba342afb465f28147ce44bd"
      }
     },
     "metadata": {},
     "output_type": "display_data"
    },
    {
     "name": "stdout",
     "output_type": "stream",
     "text": [
      "0, [ Valid | 006/030 ] loss = 1.74947, acc = 0.41939\n",
      "Best model found at epoch 6, saving model\n"
     ]
    },
    {
     "data": {
      "text/plain": "  0%|          | 0/167 [00:00<?, ?it/s]",
      "application/vnd.jupyter.widget-view+json": {
       "version_major": 2,
       "version_minor": 0,
       "model_id": "2e38b6431de0422ab5ce5bc6705e4bfb"
      }
     },
     "metadata": {},
     "output_type": "display_data"
    },
    {
     "name": "stdout",
     "output_type": "stream",
     "text": [
      "0, [ Train | 007/030 ] loss = 1.56028, acc = 0.45157\n"
     ]
    },
    {
     "data": {
      "text/plain": "  0%|          | 0/42 [00:00<?, ?it/s]",
      "application/vnd.jupyter.widget-view+json": {
       "version_major": 2,
       "version_minor": 0,
       "model_id": "92522b58f4434bdd9bb0048c10ed9fc3"
      }
     },
     "metadata": {},
     "output_type": "display_data"
    },
    {
     "name": "stdout",
     "output_type": "stream",
     "text": [
      "0, [ Valid | 007/030 ] loss = 1.97591, acc = 0.38409\n"
     ]
    },
    {
     "data": {
      "text/plain": "  0%|          | 0/167 [00:00<?, ?it/s]",
      "application/vnd.jupyter.widget-view+json": {
       "version_major": 2,
       "version_minor": 0,
       "model_id": "c2a36a910cfc4021b9e04de3b651e44b"
      }
     },
     "metadata": {},
     "output_type": "display_data"
    },
    {
     "name": "stdout",
     "output_type": "stream",
     "text": [
      "0, [ Train | 008/030 ] loss = 1.47904, acc = 0.48366\n"
     ]
    },
    {
     "data": {
      "text/plain": "  0%|          | 0/42 [00:00<?, ?it/s]",
      "application/vnd.jupyter.widget-view+json": {
       "version_major": 2,
       "version_minor": 0,
       "model_id": "d6ee4259deb84ff2949da14f232080a9"
      }
     },
     "metadata": {},
     "output_type": "display_data"
    },
    {
     "name": "stdout",
     "output_type": "stream",
     "text": [
      "0, [ Valid | 008/030 ] loss = 1.41249, acc = 0.50364\n",
      "Best model found at epoch 8, saving model\n"
     ]
    },
    {
     "data": {
      "text/plain": "  0%|          | 0/167 [00:00<?, ?it/s]",
      "application/vnd.jupyter.widget-view+json": {
       "version_major": 2,
       "version_minor": 0,
       "model_id": "3d159d9aa8184452bfcfd9f732da76c6"
      }
     },
     "metadata": {},
     "output_type": "display_data"
    },
    {
     "name": "stdout",
     "output_type": "stream",
     "text": [
      "0, [ Train | 009/030 ] loss = 1.42631, acc = 0.49785\n"
     ]
    },
    {
     "data": {
      "text/plain": "  0%|          | 0/42 [00:00<?, ?it/s]",
      "application/vnd.jupyter.widget-view+json": {
       "version_major": 2,
       "version_minor": 0,
       "model_id": "94956d72a92c416e8378de575772cf26"
      }
     },
     "metadata": {},
     "output_type": "display_data"
    },
    {
     "name": "stdout",
     "output_type": "stream",
     "text": [
      "0, [ Valid | 009/030 ] loss = 1.49713, acc = 0.47144\n"
     ]
    },
    {
     "data": {
      "text/plain": "  0%|          | 0/167 [00:00<?, ?it/s]",
      "application/vnd.jupyter.widget-view+json": {
       "version_major": 2,
       "version_minor": 0,
       "model_id": "177555af9b6b4865988553f770aea454"
      }
     },
     "metadata": {},
     "output_type": "display_data"
    },
    {
     "name": "stdout",
     "output_type": "stream",
     "text": [
      "0, [ Train | 010/030 ] loss = 1.37948, acc = 0.51569\n"
     ]
    },
    {
     "data": {
      "text/plain": "  0%|          | 0/42 [00:00<?, ?it/s]",
      "application/vnd.jupyter.widget-view+json": {
       "version_major": 2,
       "version_minor": 0,
       "model_id": "0477a3990ce94b7e90acd49ca39fe6ec"
      }
     },
     "metadata": {},
     "output_type": "display_data"
    },
    {
     "name": "stdout",
     "output_type": "stream",
     "text": [
      "0, [ Valid | 010/030 ] loss = 1.51453, acc = 0.46941\n"
     ]
    },
    {
     "data": {
      "text/plain": "  0%|          | 0/167 [00:00<?, ?it/s]",
      "application/vnd.jupyter.widget-view+json": {
       "version_major": 2,
       "version_minor": 0,
       "model_id": "2a5702f67ceb403997dec2fcf8bfeb8f"
      }
     },
     "metadata": {},
     "output_type": "display_data"
    },
    {
     "name": "stdout",
     "output_type": "stream",
     "text": [
      "0, [ Train | 011/030 ] loss = 1.33007, acc = 0.53234\n"
     ]
    },
    {
     "data": {
      "text/plain": "  0%|          | 0/42 [00:00<?, ?it/s]",
      "application/vnd.jupyter.widget-view+json": {
       "version_major": 2,
       "version_minor": 0,
       "model_id": "73134dcc1e784d22a8e5f979d7b02340"
      }
     },
     "metadata": {},
     "output_type": "display_data"
    },
    {
     "name": "stdout",
     "output_type": "stream",
     "text": [
      "0, [ Valid | 011/030 ] loss = 1.40989, acc = 0.50492\n",
      "Best model found at epoch 11, saving model\n"
     ]
    },
    {
     "data": {
      "text/plain": "  0%|          | 0/167 [00:00<?, ?it/s]",
      "application/vnd.jupyter.widget-view+json": {
       "version_major": 2,
       "version_minor": 0,
       "model_id": "adb779fafb3142109f56d8f3508e10c1"
      }
     },
     "metadata": {},
     "output_type": "display_data"
    },
    {
     "name": "stdout",
     "output_type": "stream",
     "text": [
      "0, [ Train | 012/030 ] loss = 1.27573, acc = 0.54818\n"
     ]
    },
    {
     "data": {
      "text/plain": "  0%|          | 0/42 [00:00<?, ?it/s]",
      "application/vnd.jupyter.widget-view+json": {
       "version_major": 2,
       "version_minor": 0,
       "model_id": "35f5c96bdd474a7187561201e985595d"
      }
     },
     "metadata": {},
     "output_type": "display_data"
    },
    {
     "name": "stdout",
     "output_type": "stream",
     "text": [
      "0, [ Valid | 012/030 ] loss = 1.26396, acc = 0.57263\n",
      "Best model found at epoch 12, saving model\n"
     ]
    },
    {
     "data": {
      "text/plain": "  0%|          | 0/167 [00:00<?, ?it/s]",
      "application/vnd.jupyter.widget-view+json": {
       "version_major": 2,
       "version_minor": 0,
       "model_id": "0edf333f99c24bd9adf22150d3723d18"
      }
     },
     "metadata": {},
     "output_type": "display_data"
    },
    {
     "name": "stdout",
     "output_type": "stream",
     "text": [
      "0, [ Train | 013/030 ] loss = 1.25024, acc = 0.56899\n"
     ]
    },
    {
     "data": {
      "text/plain": "  0%|          | 0/42 [00:00<?, ?it/s]",
      "application/vnd.jupyter.widget-view+json": {
       "version_major": 2,
       "version_minor": 0,
       "model_id": "b9e0c612ce954951bb26cc72b13b569b"
      }
     },
     "metadata": {},
     "output_type": "display_data"
    },
    {
     "name": "stdout",
     "output_type": "stream",
     "text": [
      "0, [ Valid | 013/030 ] loss = 1.54099, acc = 0.48243\n"
     ]
    },
    {
     "data": {
      "text/plain": "  0%|          | 0/167 [00:00<?, ?it/s]",
      "application/vnd.jupyter.widget-view+json": {
       "version_major": 2,
       "version_minor": 0,
       "model_id": "20d9552815c7479fa25f3d05333933ce"
      }
     },
     "metadata": {},
     "output_type": "display_data"
    },
    {
     "name": "stdout",
     "output_type": "stream",
     "text": [
      "0, [ Train | 014/030 ] loss = 1.20921, acc = 0.57485\n"
     ]
    },
    {
     "data": {
      "text/plain": "  0%|          | 0/42 [00:00<?, ?it/s]",
      "application/vnd.jupyter.widget-view+json": {
       "version_major": 2,
       "version_minor": 0,
       "model_id": "bd1bee9320254f8fb11167e1f93992c2"
      }
     },
     "metadata": {},
     "output_type": "display_data"
    },
    {
     "name": "stdout",
     "output_type": "stream",
     "text": [
      "0, [ Valid | 014/030 ] loss = 1.19342, acc = 0.57478\n",
      "Best model found at epoch 14, saving model\n"
     ]
    },
    {
     "data": {
      "text/plain": "  0%|          | 0/167 [00:00<?, ?it/s]",
      "application/vnd.jupyter.widget-view+json": {
       "version_major": 2,
       "version_minor": 0,
       "model_id": "e9ebb5e412c446428d9e44b7012aa67d"
      }
     },
     "metadata": {},
     "output_type": "display_data"
    },
    {
     "name": "stdout",
     "output_type": "stream",
     "text": [
      "0, [ Train | 015/030 ] loss = 1.14038, acc = 0.60566\n"
     ]
    },
    {
     "data": {
      "text/plain": "  0%|          | 0/42 [00:00<?, ?it/s]",
      "application/vnd.jupyter.widget-view+json": {
       "version_major": 2,
       "version_minor": 0,
       "model_id": "30b2f37c890742eca222a21961b607eb"
      }
     },
     "metadata": {},
     "output_type": "display_data"
    },
    {
     "name": "stdout",
     "output_type": "stream",
     "text": [
      "0, [ Valid | 015/030 ] loss = 1.37076, acc = 0.54179\n"
     ]
    },
    {
     "data": {
      "text/plain": "  0%|          | 0/167 [00:00<?, ?it/s]",
      "application/vnd.jupyter.widget-view+json": {
       "version_major": 2,
       "version_minor": 0,
       "model_id": "5c1a3536ebe24ac9ac783f6c68574334"
      }
     },
     "metadata": {},
     "output_type": "display_data"
    },
    {
     "name": "stdout",
     "output_type": "stream",
     "text": [
      "0, [ Train | 016/030 ] loss = 1.12575, acc = 0.60785\n"
     ]
    },
    {
     "data": {
      "text/plain": "  0%|          | 0/42 [00:00<?, ?it/s]",
      "application/vnd.jupyter.widget-view+json": {
       "version_major": 2,
       "version_minor": 0,
       "model_id": "fd2e25464fe2489f9e8d506338d1da27"
      }
     },
     "metadata": {},
     "output_type": "display_data"
    },
    {
     "name": "stdout",
     "output_type": "stream",
     "text": [
      "0, [ Valid | 016/030 ] loss = 1.35676, acc = 0.55394\n"
     ]
    },
    {
     "data": {
      "text/plain": "  0%|          | 0/167 [00:00<?, ?it/s]",
      "application/vnd.jupyter.widget-view+json": {
       "version_major": 2,
       "version_minor": 0,
       "model_id": "c314dad853ff44b8befb32dbe9b78778"
      }
     },
     "metadata": {},
     "output_type": "display_data"
    },
    {
     "name": "stdout",
     "output_type": "stream",
     "text": [
      "0, [ Train | 017/030 ] loss = 1.09144, acc = 0.62241\n"
     ]
    },
    {
     "data": {
      "text/plain": "  0%|          | 0/42 [00:00<?, ?it/s]",
      "application/vnd.jupyter.widget-view+json": {
       "version_major": 2,
       "version_minor": 0,
       "model_id": "c7e93730b89e45619e3086d57659205c"
      }
     },
     "metadata": {},
     "output_type": "display_data"
    },
    {
     "name": "stdout",
     "output_type": "stream",
     "text": [
      "0, [ Valid | 017/030 ] loss = 1.18673, acc = 0.60884\n",
      "Best model found at epoch 17, saving model\n"
     ]
    },
    {
     "data": {
      "text/plain": "  0%|          | 0/167 [00:00<?, ?it/s]",
      "application/vnd.jupyter.widget-view+json": {
       "version_major": 2,
       "version_minor": 0,
       "model_id": "3f99da83654c4c0aaa864a36506d461d"
      }
     },
     "metadata": {},
     "output_type": "display_data"
    },
    {
     "name": "stdout",
     "output_type": "stream",
     "text": [
      "0, [ Train | 018/030 ] loss = 1.05218, acc = 0.63220\n"
     ]
    },
    {
     "data": {
      "text/plain": "  0%|          | 0/42 [00:00<?, ?it/s]",
      "application/vnd.jupyter.widget-view+json": {
       "version_major": 2,
       "version_minor": 0,
       "model_id": "8ccb79efb91e4bc69725413e80da7c6e"
      }
     },
     "metadata": {},
     "output_type": "display_data"
    },
    {
     "name": "stdout",
     "output_type": "stream",
     "text": [
      "0, [ Valid | 018/030 ] loss = 1.21512, acc = 0.60032\n"
     ]
    },
    {
     "data": {
      "text/plain": "  0%|          | 0/167 [00:00<?, ?it/s]",
      "application/vnd.jupyter.widget-view+json": {
       "version_major": 2,
       "version_minor": 0,
       "model_id": "4bcfde913b044bc38f7b3319979655a8"
      }
     },
     "metadata": {},
     "output_type": "display_data"
    },
    {
     "name": "stdout",
     "output_type": "stream",
     "text": [
      "0, [ Train | 019/030 ] loss = 1.03102, acc = 0.64237\n"
     ]
    },
    {
     "data": {
      "text/plain": "  0%|          | 0/42 [00:00<?, ?it/s]",
      "application/vnd.jupyter.widget-view+json": {
       "version_major": 2,
       "version_minor": 0,
       "model_id": "4bac2a7059774d94bc2b1ba70f08384f"
      }
     },
     "metadata": {},
     "output_type": "display_data"
    },
    {
     "name": "stdout",
     "output_type": "stream",
     "text": [
      "0, [ Valid | 019/030 ] loss = 1.10597, acc = 0.62980\n",
      "Best model found at epoch 19, saving model\n"
     ]
    },
    {
     "data": {
      "text/plain": "  0%|          | 0/167 [00:00<?, ?it/s]",
      "application/vnd.jupyter.widget-view+json": {
       "version_major": 2,
       "version_minor": 0,
       "model_id": "b9e25269735946729a3bc34eca020584"
      }
     },
     "metadata": {},
     "output_type": "display_data"
    },
    {
     "name": "stdout",
     "output_type": "stream",
     "text": [
      "0, [ Train | 020/030 ] loss = 1.00026, acc = 0.65273\n"
     ]
    },
    {
     "data": {
      "text/plain": "  0%|          | 0/42 [00:00<?, ?it/s]",
      "application/vnd.jupyter.widget-view+json": {
       "version_major": 2,
       "version_minor": 0,
       "model_id": "d6d2fe1f18b34930a76eb612d1eecb84"
      }
     },
     "metadata": {},
     "output_type": "display_data"
    },
    {
     "name": "stdout",
     "output_type": "stream",
     "text": [
      "0, [ Valid | 020/030 ] loss = 1.30138, acc = 0.57577\n"
     ]
    },
    {
     "data": {
      "text/plain": "  0%|          | 0/167 [00:00<?, ?it/s]",
      "application/vnd.jupyter.widget-view+json": {
       "version_major": 2,
       "version_minor": 0,
       "model_id": "af2f412b6bcb4555846fa42912a735a9"
      }
     },
     "metadata": {},
     "output_type": "display_data"
    },
    {
     "name": "stdout",
     "output_type": "stream",
     "text": [
      "0, [ Train | 021/030 ] loss = 0.95869, acc = 0.66944\n"
     ]
    },
    {
     "data": {
      "text/plain": "  0%|          | 0/42 [00:00<?, ?it/s]",
      "application/vnd.jupyter.widget-view+json": {
       "version_major": 2,
       "version_minor": 0,
       "model_id": "d697b9818ca14e1cbc21e3f2c7d2985c"
      }
     },
     "metadata": {},
     "output_type": "display_data"
    },
    {
     "name": "stdout",
     "output_type": "stream",
     "text": [
      "0, [ Valid | 021/030 ] loss = 1.15954, acc = 0.62653\n"
     ]
    },
    {
     "data": {
      "text/plain": "  0%|          | 0/167 [00:00<?, ?it/s]",
      "application/vnd.jupyter.widget-view+json": {
       "version_major": 2,
       "version_minor": 0,
       "model_id": "95fb98588f3c40c2909a5c93247d60e4"
      }
     },
     "metadata": {},
     "output_type": "display_data"
    },
    {
     "name": "stdout",
     "output_type": "stream",
     "text": [
      "0, [ Train | 022/030 ] loss = 0.93078, acc = 0.67805\n"
     ]
    },
    {
     "data": {
      "text/plain": "  0%|          | 0/42 [00:00<?, ?it/s]",
      "application/vnd.jupyter.widget-view+json": {
       "version_major": 2,
       "version_minor": 0,
       "model_id": "8ce33404367d4b75ba0bc85c8f84c5d4"
      }
     },
     "metadata": {},
     "output_type": "display_data"
    },
    {
     "name": "stdout",
     "output_type": "stream",
     "text": [
      "0, [ Valid | 022/030 ] loss = 1.01293, acc = 0.67063\n",
      "Best model found at epoch 22, saving model\n"
     ]
    },
    {
     "data": {
      "text/plain": "  0%|          | 0/167 [00:00<?, ?it/s]",
      "application/vnd.jupyter.widget-view+json": {
       "version_major": 2,
       "version_minor": 0,
       "model_id": "b8ac27778080441ea4e8ab3952be921f"
      }
     },
     "metadata": {},
     "output_type": "display_data"
    },
    {
     "name": "stdout",
     "output_type": "stream",
     "text": [
      "0, [ Train | 023/030 ] loss = 0.90456, acc = 0.68663\n"
     ]
    },
    {
     "data": {
      "text/plain": "  0%|          | 0/42 [00:00<?, ?it/s]",
      "application/vnd.jupyter.widget-view+json": {
       "version_major": 2,
       "version_minor": 0,
       "model_id": "063688d6f6954720b3197ede821e18e1"
      }
     },
     "metadata": {},
     "output_type": "display_data"
    },
    {
     "name": "stdout",
     "output_type": "stream",
     "text": [
      "0, [ Valid | 023/030 ] loss = 1.21347, acc = 0.58387\n"
     ]
    },
    {
     "data": {
      "text/plain": "  0%|          | 0/167 [00:00<?, ?it/s]",
      "application/vnd.jupyter.widget-view+json": {
       "version_major": 2,
       "version_minor": 0,
       "model_id": "60428e5c907e4a76b039d1dfc56befec"
      }
     },
     "metadata": {},
     "output_type": "display_data"
    },
    {
     "name": "stdout",
     "output_type": "stream",
     "text": [
      "0, [ Train | 024/030 ] loss = 0.87804, acc = 0.70125\n"
     ]
    },
    {
     "data": {
      "text/plain": "  0%|          | 0/42 [00:00<?, ?it/s]",
      "application/vnd.jupyter.widget-view+json": {
       "version_major": 2,
       "version_minor": 0,
       "model_id": "a4fded2b684a4403aa8e044d8fce6f82"
      }
     },
     "metadata": {},
     "output_type": "display_data"
    },
    {
     "name": "stdout",
     "output_type": "stream",
     "text": [
      "0, [ Valid | 024/030 ] loss = 1.72358, acc = 0.49748\n"
     ]
    },
    {
     "data": {
      "text/plain": "  0%|          | 0/167 [00:00<?, ?it/s]",
      "application/vnd.jupyter.widget-view+json": {
       "version_major": 2,
       "version_minor": 0,
       "model_id": "34fea214b2914ec58f95d73c79ee8a78"
      }
     },
     "metadata": {},
     "output_type": "display_data"
    },
    {
     "name": "stdout",
     "output_type": "stream",
     "text": [
      "0, [ Train | 025/030 ] loss = 0.84753, acc = 0.70674\n"
     ]
    },
    {
     "data": {
      "text/plain": "  0%|          | 0/42 [00:00<?, ?it/s]",
      "application/vnd.jupyter.widget-view+json": {
       "version_major": 2,
       "version_minor": 0,
       "model_id": "295bf2027789445f820eb03392f599c1"
      }
     },
     "metadata": {},
     "output_type": "display_data"
    },
    {
     "name": "stdout",
     "output_type": "stream",
     "text": [
      "0, [ Valid | 025/030 ] loss = 1.23187, acc = 0.61086\n"
     ]
    },
    {
     "data": {
      "text/plain": "  0%|          | 0/167 [00:00<?, ?it/s]",
      "application/vnd.jupyter.widget-view+json": {
       "version_major": 2,
       "version_minor": 0,
       "model_id": "59185c609b724d268ee35be74a52ee1b"
      }
     },
     "metadata": {},
     "output_type": "display_data"
    },
    {
     "name": "stdout",
     "output_type": "stream",
     "text": [
      "0, [ Train | 026/030 ] loss = 0.83065, acc = 0.71242\n"
     ]
    },
    {
     "data": {
      "text/plain": "  0%|          | 0/42 [00:00<?, ?it/s]",
      "application/vnd.jupyter.widget-view+json": {
       "version_major": 2,
       "version_minor": 0,
       "model_id": "66de3de088754a54aa5eb7cb3dce114c"
      }
     },
     "metadata": {},
     "output_type": "display_data"
    },
    {
     "name": "stdout",
     "output_type": "stream",
     "text": [
      "0, [ Valid | 026/030 ] loss = 1.10377, acc = 0.64550\n"
     ]
    },
    {
     "data": {
      "text/plain": "  0%|          | 0/167 [00:00<?, ?it/s]",
      "application/vnd.jupyter.widget-view+json": {
       "version_major": 2,
       "version_minor": 0,
       "model_id": "ef4c15bc0fd34c818f5dc8d7f9fc195b"
      }
     },
     "metadata": {},
     "output_type": "display_data"
    },
    {
     "name": "stdout",
     "output_type": "stream",
     "text": [
      "0, [ Train | 027/030 ] loss = 0.82204, acc = 0.71828\n"
     ]
    },
    {
     "data": {
      "text/plain": "  0%|          | 0/42 [00:00<?, ?it/s]",
      "application/vnd.jupyter.widget-view+json": {
       "version_major": 2,
       "version_minor": 0,
       "model_id": "7b0d6d3d18774e1081a318dbfc08e2c9"
      }
     },
     "metadata": {},
     "output_type": "display_data"
    },
    {
     "name": "stdout",
     "output_type": "stream",
     "text": [
      "0, [ Valid | 027/030 ] loss = 1.14071, acc = 0.64827\n"
     ]
    },
    {
     "data": {
      "text/plain": "  0%|          | 0/167 [00:00<?, ?it/s]",
      "application/vnd.jupyter.widget-view+json": {
       "version_major": 2,
       "version_minor": 0,
       "model_id": "d7cf5dc2ad604edb82361d459efebf47"
      }
     },
     "metadata": {},
     "output_type": "display_data"
    },
    {
     "name": "stdout",
     "output_type": "stream",
     "text": [
      "0, [ Train | 028/030 ] loss = 0.79126, acc = 0.72776\n"
     ]
    },
    {
     "data": {
      "text/plain": "  0%|          | 0/42 [00:00<?, ?it/s]",
      "application/vnd.jupyter.widget-view+json": {
       "version_major": 2,
       "version_minor": 0,
       "model_id": "6cb1929b5c9f4d0b9c8f4a262be12809"
      }
     },
     "metadata": {},
     "output_type": "display_data"
    },
    {
     "name": "stdout",
     "output_type": "stream",
     "text": [
      "0, [ Valid | 028/030 ] loss = 0.92416, acc = 0.69668\n",
      "Best model found at epoch 28, saving model\n"
     ]
    },
    {
     "data": {
      "text/plain": "  0%|          | 0/167 [00:00<?, ?it/s]",
      "application/vnd.jupyter.widget-view+json": {
       "version_major": 2,
       "version_minor": 0,
       "model_id": "fced6be3743e40fb9a6cff0fa4e95d96"
      }
     },
     "metadata": {},
     "output_type": "display_data"
    },
    {
     "name": "stdout",
     "output_type": "stream",
     "text": [
      "0, [ Train | 029/030 ] loss = 0.75616, acc = 0.73572\n"
     ]
    },
    {
     "data": {
      "text/plain": "  0%|          | 0/42 [00:00<?, ?it/s]",
      "application/vnd.jupyter.widget-view+json": {
       "version_major": 2,
       "version_minor": 0,
       "model_id": "a4a9b76a34a64bc7840ac29ba95c652a"
      }
     },
     "metadata": {},
     "output_type": "display_data"
    },
    {
     "name": "stdout",
     "output_type": "stream",
     "text": [
      "0, [ Valid | 029/030 ] loss = 1.20464, acc = 0.62227\n"
     ]
    },
    {
     "data": {
      "text/plain": "  0%|          | 0/167 [00:00<?, ?it/s]",
      "application/vnd.jupyter.widget-view+json": {
       "version_major": 2,
       "version_minor": 0,
       "model_id": "d88c929b06324dc0a1f45ccf4ea0ccb7"
      }
     },
     "metadata": {},
     "output_type": "display_data"
    },
    {
     "name": "stdout",
     "output_type": "stream",
     "text": [
      "0, [ Train | 030/030 ] loss = 0.75087, acc = 0.73933\n"
     ]
    },
    {
     "data": {
      "text/plain": "  0%|          | 0/42 [00:00<?, ?it/s]",
      "application/vnd.jupyter.widget-view+json": {
       "version_major": 2,
       "version_minor": 0,
       "model_id": "f80f2227e8b642c099fbf72fa1d979b3"
      }
     },
     "metadata": {},
     "output_type": "display_data"
    },
    {
     "name": "stdout",
     "output_type": "stream",
     "text": [
      "0, [ Valid | 030/030 ] loss = 1.04349, acc = 0.67171\n",
      "FOLD 1\n",
      "One sample of train ./data/training\\0_0.jpg\n",
      "One sample of val ./data/training\\0_100.jpg\n",
      "--------------------------------\n"
     ]
    },
    {
     "data": {
      "text/plain": "  0%|          | 0/167 [00:00<?, ?it/s]",
      "application/vnd.jupyter.widget-view+json": {
       "version_major": 2,
       "version_minor": 0,
       "model_id": "fbb18d781b644d83b3d38c8ecb5aa653"
      }
     },
     "metadata": {},
     "output_type": "display_data"
    },
    {
     "name": "stdout",
     "output_type": "stream",
     "text": [
      "1, [ Train | 001/030 ] loss = 2.10062, acc = 0.25700\n"
     ]
    },
    {
     "data": {
      "text/plain": "  0%|          | 0/42 [00:00<?, ?it/s]",
      "application/vnd.jupyter.widget-view+json": {
       "version_major": 2,
       "version_minor": 0,
       "model_id": "28f293bf7cdd4cb68200125e8c0c60eb"
      }
     },
     "metadata": {},
     "output_type": "display_data"
    },
    {
     "name": "stdout",
     "output_type": "stream",
     "text": [
      "1, [ Valid | 001/030 ] loss = 2.17818, acc = 0.25507\n",
      "Best model found at epoch 1, saving model\n"
     ]
    },
    {
     "data": {
      "text/plain": "  0%|          | 0/167 [00:00<?, ?it/s]",
      "application/vnd.jupyter.widget-view+json": {
       "version_major": 2,
       "version_minor": 0,
       "model_id": "bdefa2f275374468be97567532fbb1ca"
      }
     },
     "metadata": {},
     "output_type": "display_data"
    },
    {
     "name": "stdout",
     "output_type": "stream",
     "text": [
      "1, [ Train | 002/030 ] loss = 1.94942, acc = 0.31808\n"
     ]
    },
    {
     "data": {
      "text/plain": "  0%|          | 0/42 [00:00<?, ?it/s]",
      "application/vnd.jupyter.widget-view+json": {
       "version_major": 2,
       "version_minor": 0,
       "model_id": "d98e2c1a38c94348bcd8d49a1c9a4273"
      }
     },
     "metadata": {},
     "output_type": "display_data"
    },
    {
     "name": "stdout",
     "output_type": "stream",
     "text": [
      "1, [ Valid | 002/030 ] loss = 1.92831, acc = 0.32966\n",
      "Best model found at epoch 2, saving model\n"
     ]
    },
    {
     "data": {
      "text/plain": "  0%|          | 0/167 [00:00<?, ?it/s]",
      "application/vnd.jupyter.widget-view+json": {
       "version_major": 2,
       "version_minor": 0,
       "model_id": "bfee963af3894016ac1d7560631fe0df"
      }
     },
     "metadata": {},
     "output_type": "display_data"
    },
    {
     "name": "stdout",
     "output_type": "stream",
     "text": [
      "1, [ Train | 003/030 ] loss = 1.85304, acc = 0.34886\n"
     ]
    },
    {
     "data": {
      "text/plain": "  0%|          | 0/42 [00:00<?, ?it/s]",
      "application/vnd.jupyter.widget-view+json": {
       "version_major": 2,
       "version_minor": 0,
       "model_id": "3e000f5fd81341bca2a04110b0a61f18"
      }
     },
     "metadata": {},
     "output_type": "display_data"
    },
    {
     "name": "stdout",
     "output_type": "stream",
     "text": [
      "1, [ Valid | 003/030 ] loss = 1.85271, acc = 0.35866\n",
      "Best model found at epoch 3, saving model\n"
     ]
    },
    {
     "data": {
      "text/plain": "  0%|          | 0/167 [00:00<?, ?it/s]",
      "application/vnd.jupyter.widget-view+json": {
       "version_major": 2,
       "version_minor": 0,
       "model_id": "c726ab708c4848fdb89b5217aa80c7b0"
      }
     },
     "metadata": {},
     "output_type": "display_data"
    },
    {
     "name": "stdout",
     "output_type": "stream",
     "text": [
      "1, [ Train | 004/030 ] loss = 1.76134, acc = 0.38433\n"
     ]
    },
    {
     "data": {
      "text/plain": "  0%|          | 0/42 [00:00<?, ?it/s]",
      "application/vnd.jupyter.widget-view+json": {
       "version_major": 2,
       "version_minor": 0,
       "model_id": "adc4ade0f34e4a5a871ad5310e0309bf"
      }
     },
     "metadata": {},
     "output_type": "display_data"
    },
    {
     "name": "stdout",
     "output_type": "stream",
     "text": [
      "1, [ Valid | 004/030 ] loss = 1.80254, acc = 0.38242\n",
      "Best model found at epoch 4, saving model\n"
     ]
    },
    {
     "data": {
      "text/plain": "  0%|          | 0/167 [00:00<?, ?it/s]",
      "application/vnd.jupyter.widget-view+json": {
       "version_major": 2,
       "version_minor": 0,
       "model_id": "74fa8d04937b411395fb0976f651eecd"
      }
     },
     "metadata": {},
     "output_type": "display_data"
    },
    {
     "name": "stdout",
     "output_type": "stream",
     "text": [
      "1, [ Train | 005/030 ] loss = 1.67507, acc = 0.41594\n"
     ]
    },
    {
     "data": {
      "text/plain": "  0%|          | 0/42 [00:00<?, ?it/s]",
      "application/vnd.jupyter.widget-view+json": {
       "version_major": 2,
       "version_minor": 0,
       "model_id": "fe9f1a52644a41a994ad3cd2f36c976c"
      }
     },
     "metadata": {},
     "output_type": "display_data"
    },
    {
     "name": "stdout",
     "output_type": "stream",
     "text": [
      "1, [ Valid | 005/030 ] loss = 1.68862, acc = 0.39382\n",
      "Best model found at epoch 5, saving model\n"
     ]
    },
    {
     "data": {
      "text/plain": "  0%|          | 0/167 [00:00<?, ?it/s]",
      "application/vnd.jupyter.widget-view+json": {
       "version_major": 2,
       "version_minor": 0,
       "model_id": "abb58d67674843ef85207ae8dbc36bd1"
      }
     },
     "metadata": {},
     "output_type": "display_data"
    },
    {
     "name": "stdout",
     "output_type": "stream",
     "text": [
      "1, [ Train | 006/030 ] loss = 1.60180, acc = 0.43560\n"
     ]
    },
    {
     "data": {
      "text/plain": "  0%|          | 0/42 [00:00<?, ?it/s]",
      "application/vnd.jupyter.widget-view+json": {
       "version_major": 2,
       "version_minor": 0,
       "model_id": "3dbf77ed91b14178ad4471d90e72ba79"
      }
     },
     "metadata": {},
     "output_type": "display_data"
    },
    {
     "name": "stdout",
     "output_type": "stream",
     "text": [
      "1, [ Valid | 006/030 ] loss = 1.72184, acc = 0.40374\n",
      "Best model found at epoch 6, saving model\n"
     ]
    },
    {
     "data": {
      "text/plain": "  0%|          | 0/167 [00:00<?, ?it/s]",
      "application/vnd.jupyter.widget-view+json": {
       "version_major": 2,
       "version_minor": 0,
       "model_id": "6ecccb9a3a0b4d78a67b07f420c9bc09"
      }
     },
     "metadata": {},
     "output_type": "display_data"
    },
    {
     "name": "stdout",
     "output_type": "stream",
     "text": [
      "1, [ Train | 007/030 ] loss = 1.52861, acc = 0.46506\n"
     ]
    },
    {
     "data": {
      "text/plain": "  0%|          | 0/42 [00:00<?, ?it/s]",
      "application/vnd.jupyter.widget-view+json": {
       "version_major": 2,
       "version_minor": 0,
       "model_id": "7f85401af6c04b7db6603b43fa700c47"
      }
     },
     "metadata": {},
     "output_type": "display_data"
    },
    {
     "name": "stdout",
     "output_type": "stream",
     "text": [
      "1, [ Valid | 007/030 ] loss = 1.61468, acc = 0.45136\n",
      "Best model found at epoch 7, saving model\n"
     ]
    },
    {
     "data": {
      "text/plain": "  0%|          | 0/167 [00:00<?, ?it/s]",
      "application/vnd.jupyter.widget-view+json": {
       "version_major": 2,
       "version_minor": 0,
       "model_id": "1bdc3cc1a30c4f3b936f382b26074c99"
      }
     },
     "metadata": {},
     "output_type": "display_data"
    },
    {
     "name": "stdout",
     "output_type": "stream",
     "text": [
      "1, [ Train | 008/030 ] loss = 1.46227, acc = 0.48903\n"
     ]
    },
    {
     "data": {
      "text/plain": "  0%|          | 0/42 [00:00<?, ?it/s]",
      "application/vnd.jupyter.widget-view+json": {
       "version_major": 2,
       "version_minor": 0,
       "model_id": "41314e86bdda47b6addc955b6f0fea38"
      }
     },
     "metadata": {},
     "output_type": "display_data"
    },
    {
     "name": "stdout",
     "output_type": "stream",
     "text": [
      "1, [ Valid | 008/030 ] loss = 1.59178, acc = 0.44064\n"
     ]
    },
    {
     "data": {
      "text/plain": "  0%|          | 0/167 [00:00<?, ?it/s]",
      "application/vnd.jupyter.widget-view+json": {
       "version_major": 2,
       "version_minor": 0,
       "model_id": "68766bf5430c4e10a91fa7c8ccba132e"
      }
     },
     "metadata": {},
     "output_type": "display_data"
    },
    {
     "name": "stdout",
     "output_type": "stream",
     "text": [
      "1, [ Train | 009/030 ] loss = 1.41906, acc = 0.50191\n"
     ]
    },
    {
     "data": {
      "text/plain": "  0%|          | 0/42 [00:00<?, ?it/s]",
      "application/vnd.jupyter.widget-view+json": {
       "version_major": 2,
       "version_minor": 0,
       "model_id": "70fa1093917d4b26b9504b84d775c67d"
      }
     },
     "metadata": {},
     "output_type": "display_data"
    },
    {
     "name": "stdout",
     "output_type": "stream",
     "text": [
      "1, [ Valid | 009/030 ] loss = 1.43841, acc = 0.50034\n",
      "Best model found at epoch 9, saving model\n"
     ]
    },
    {
     "data": {
      "text/plain": "  0%|          | 0/167 [00:00<?, ?it/s]",
      "application/vnd.jupyter.widget-view+json": {
       "version_major": 2,
       "version_minor": 0,
       "model_id": "d9c0212240144203b92f335abbe877bb"
      }
     },
     "metadata": {},
     "output_type": "display_data"
    },
    {
     "name": "stdout",
     "output_type": "stream",
     "text": [
      "1, [ Train | 010/030 ] loss = 1.36115, acc = 0.52398\n"
     ]
    },
    {
     "data": {
      "text/plain": "  0%|          | 0/42 [00:00<?, ?it/s]",
      "application/vnd.jupyter.widget-view+json": {
       "version_major": 2,
       "version_minor": 0,
       "model_id": "78df83f2407243748bd097b43db04e8d"
      }
     },
     "metadata": {},
     "output_type": "display_data"
    },
    {
     "name": "stdout",
     "output_type": "stream",
     "text": [
      "1, [ Valid | 010/030 ] loss = 1.45814, acc = 0.48453\n"
     ]
    },
    {
     "data": {
      "text/plain": "  0%|          | 0/167 [00:00<?, ?it/s]",
      "application/vnd.jupyter.widget-view+json": {
       "version_major": 2,
       "version_minor": 0,
       "model_id": "725bc657db134e6e8059789fbaafc9a0"
      }
     },
     "metadata": {},
     "output_type": "display_data"
    },
    {
     "name": "stdout",
     "output_type": "stream",
     "text": [
      "1, [ Train | 011/030 ] loss = 1.29543, acc = 0.55245\n"
     ]
    },
    {
     "data": {
      "text/plain": "  0%|          | 0/42 [00:00<?, ?it/s]",
      "application/vnd.jupyter.widget-view+json": {
       "version_major": 2,
       "version_minor": 0,
       "model_id": "0d6af01fc176449784db33b7d396fbff"
      }
     },
     "metadata": {},
     "output_type": "display_data"
    },
    {
     "name": "stdout",
     "output_type": "stream",
     "text": [
      "1, [ Valid | 011/030 ] loss = 1.48953, acc = 0.50039\n",
      "Best model found at epoch 11, saving model\n"
     ]
    },
    {
     "data": {
      "text/plain": "  0%|          | 0/167 [00:00<?, ?it/s]",
      "application/vnd.jupyter.widget-view+json": {
       "version_major": 2,
       "version_minor": 0,
       "model_id": "ed82f9cef0254700b34a86fbebc7c3f9"
      }
     },
     "metadata": {},
     "output_type": "display_data"
    },
    {
     "name": "stdout",
     "output_type": "stream",
     "text": [
      "1, [ Train | 012/030 ] loss = 1.23976, acc = 0.56572\n"
     ]
    },
    {
     "data": {
      "text/plain": "  0%|          | 0/42 [00:00<?, ?it/s]",
      "application/vnd.jupyter.widget-view+json": {
       "version_major": 2,
       "version_minor": 0,
       "model_id": "fe84c11958a5442db08edfcea257d452"
      }
     },
     "metadata": {},
     "output_type": "display_data"
    },
    {
     "name": "stdout",
     "output_type": "stream",
     "text": [
      "1, [ Valid | 012/030 ] loss = 1.83567, acc = 0.42706\n"
     ]
    },
    {
     "data": {
      "text/plain": "  0%|          | 0/167 [00:00<?, ?it/s]",
      "application/vnd.jupyter.widget-view+json": {
       "version_major": 2,
       "version_minor": 0,
       "model_id": "ec0fdeddb3064e54a38477271747dc24"
      }
     },
     "metadata": {},
     "output_type": "display_data"
    },
    {
     "name": "stdout",
     "output_type": "stream",
     "text": [
      "1, [ Train | 013/030 ] loss = 1.20604, acc = 0.57967\n"
     ]
    },
    {
     "data": {
      "text/plain": "  0%|          | 0/42 [00:00<?, ?it/s]",
      "application/vnd.jupyter.widget-view+json": {
       "version_major": 2,
       "version_minor": 0,
       "model_id": "0f0649d6ec974898a98177a6b3975437"
      }
     },
     "metadata": {},
     "output_type": "display_data"
    },
    {
     "name": "stdout",
     "output_type": "stream",
     "text": [
      "1, [ Valid | 013/030 ] loss = 1.44966, acc = 0.53264\n",
      "Best model found at epoch 13, saving model\n"
     ]
    },
    {
     "data": {
      "text/plain": "  0%|          | 0/167 [00:00<?, ?it/s]",
      "application/vnd.jupyter.widget-view+json": {
       "version_major": 2,
       "version_minor": 0,
       "model_id": "90cd176a8ef04aaeb2710eb1c82d0e60"
      }
     },
     "metadata": {},
     "output_type": "display_data"
    },
    {
     "name": "stdout",
     "output_type": "stream",
     "text": [
      "1, [ Train | 014/030 ] loss = 1.14956, acc = 0.59687\n"
     ]
    },
    {
     "data": {
      "text/plain": "  0%|          | 0/42 [00:00<?, ?it/s]",
      "application/vnd.jupyter.widget-view+json": {
       "version_major": 2,
       "version_minor": 0,
       "model_id": "1ca1405d9f7d4b908049a19b33fc4644"
      }
     },
     "metadata": {},
     "output_type": "display_data"
    },
    {
     "name": "stdout",
     "output_type": "stream",
     "text": [
      "1, [ Valid | 014/030 ] loss = 1.33108, acc = 0.55980\n",
      "Best model found at epoch 14, saving model\n"
     ]
    },
    {
     "data": {
      "text/plain": "  0%|          | 0/167 [00:00<?, ?it/s]",
      "application/vnd.jupyter.widget-view+json": {
       "version_major": 2,
       "version_minor": 0,
       "model_id": "3fa568fdcba248669a9c93ddc434a3e1"
      }
     },
     "metadata": {},
     "output_type": "display_data"
    },
    {
     "name": "stdout",
     "output_type": "stream",
     "text": [
      "1, [ Train | 015/030 ] loss = 1.09153, acc = 0.62514\n"
     ]
    },
    {
     "data": {
      "text/plain": "  0%|          | 0/42 [00:00<?, ?it/s]",
      "application/vnd.jupyter.widget-view+json": {
       "version_major": 2,
       "version_minor": 0,
       "model_id": "0ef55d0141a5488b988cbb5c9be573fb"
      }
     },
     "metadata": {},
     "output_type": "display_data"
    },
    {
     "name": "stdout",
     "output_type": "stream",
     "text": [
      "1, [ Valid | 015/030 ] loss = 1.16614, acc = 0.59663\n",
      "Best model found at epoch 15, saving model\n"
     ]
    },
    {
     "data": {
      "text/plain": "  0%|          | 0/167 [00:00<?, ?it/s]",
      "application/vnd.jupyter.widget-view+json": {
       "version_major": 2,
       "version_minor": 0,
       "model_id": "15579837b28b4c74a2b7299390bfde2e"
      }
     },
     "metadata": {},
     "output_type": "display_data"
    },
    {
     "name": "stdout",
     "output_type": "stream",
     "text": [
      "1, [ Train | 016/030 ] loss = 1.06997, acc = 0.63022\n"
     ]
    },
    {
     "data": {
      "text/plain": "  0%|          | 0/42 [00:00<?, ?it/s]",
      "application/vnd.jupyter.widget-view+json": {
       "version_major": 2,
       "version_minor": 0,
       "model_id": "09303a4a3f0b4e959c78dabdf03fa119"
      }
     },
     "metadata": {},
     "output_type": "display_data"
    },
    {
     "name": "stdout",
     "output_type": "stream",
     "text": [
      "1, [ Valid | 016/030 ] loss = 1.44410, acc = 0.53791\n"
     ]
    },
    {
     "data": {
      "text/plain": "  0%|          | 0/167 [00:00<?, ?it/s]",
      "application/vnd.jupyter.widget-view+json": {
       "version_major": 2,
       "version_minor": 0,
       "model_id": "360cca0d42c74d848bd73716201a6abc"
      }
     },
     "metadata": {},
     "output_type": "display_data"
    },
    {
     "name": "stdout",
     "output_type": "stream",
     "text": [
      "1, [ Train | 017/030 ] loss = 1.01007, acc = 0.64897\n"
     ]
    },
    {
     "data": {
      "text/plain": "  0%|          | 0/42 [00:00<?, ?it/s]",
      "application/vnd.jupyter.widget-view+json": {
       "version_major": 2,
       "version_minor": 0,
       "model_id": "d87fe2cb2527417daaed19db4555a175"
      }
     },
     "metadata": {},
     "output_type": "display_data"
    },
    {
     "name": "stdout",
     "output_type": "stream",
     "text": [
      "1, [ Valid | 017/030 ] loss = 1.15886, acc = 0.60816\n",
      "Best model found at epoch 17, saving model\n"
     ]
    },
    {
     "data": {
      "text/plain": "  0%|          | 0/167 [00:00<?, ?it/s]",
      "application/vnd.jupyter.widget-view+json": {
       "version_major": 2,
       "version_minor": 0,
       "model_id": "6feade27bc6847d6b2fb5f37741032ad"
      }
     },
     "metadata": {},
     "output_type": "display_data"
    },
    {
     "name": "stdout",
     "output_type": "stream",
     "text": [
      "1, [ Train | 018/030 ] loss = 0.97703, acc = 0.66648\n"
     ]
    },
    {
     "data": {
      "text/plain": "  0%|          | 0/42 [00:00<?, ?it/s]",
      "application/vnd.jupyter.widget-view+json": {
       "version_major": 2,
       "version_minor": 0,
       "model_id": "19cc00f67ba34884ab8636c5cd83d8ad"
      }
     },
     "metadata": {},
     "output_type": "display_data"
    },
    {
     "name": "stdout",
     "output_type": "stream",
     "text": [
      "1, [ Valid | 018/030 ] loss = 1.19485, acc = 0.60748\n"
     ]
    },
    {
     "data": {
      "text/plain": "  0%|          | 0/167 [00:00<?, ?it/s]",
      "application/vnd.jupyter.widget-view+json": {
       "version_major": 2,
       "version_minor": 0,
       "model_id": "bfc92139d8f945c7ad47d3c02ea852a9"
      }
     },
     "metadata": {},
     "output_type": "display_data"
    },
    {
     "name": "stdout",
     "output_type": "stream",
     "text": [
      "1, [ Train | 019/030 ] loss = 0.96004, acc = 0.67287\n"
     ]
    },
    {
     "data": {
      "text/plain": "  0%|          | 0/42 [00:00<?, ?it/s]",
      "application/vnd.jupyter.widget-view+json": {
       "version_major": 2,
       "version_minor": 0,
       "model_id": "f8611f5eaf2048b792cc9759d61cb291"
      }
     },
     "metadata": {},
     "output_type": "display_data"
    },
    {
     "name": "stdout",
     "output_type": "stream",
     "text": [
      "1, [ Valid | 019/030 ] loss = 1.13795, acc = 0.62824\n",
      "Best model found at epoch 19, saving model\n"
     ]
    },
    {
     "data": {
      "text/plain": "  0%|          | 0/167 [00:00<?, ?it/s]",
      "application/vnd.jupyter.widget-view+json": {
       "version_major": 2,
       "version_minor": 0,
       "model_id": "3e2acf954bab4fda81c047160db78ead"
      }
     },
     "metadata": {},
     "output_type": "display_data"
    },
    {
     "name": "stdout",
     "output_type": "stream",
     "text": [
      "1, [ Train | 020/030 ] loss = 0.92305, acc = 0.68286\n"
     ]
    },
    {
     "data": {
      "text/plain": "  0%|          | 0/42 [00:00<?, ?it/s]",
      "application/vnd.jupyter.widget-view+json": {
       "version_major": 2,
       "version_minor": 0,
       "model_id": "27a80c6e67cf424a9c5c16c5047caa19"
      }
     },
     "metadata": {},
     "output_type": "display_data"
    },
    {
     "name": "stdout",
     "output_type": "stream",
     "text": [
      "1, [ Valid | 020/030 ] loss = 1.20753, acc = 0.61460\n"
     ]
    },
    {
     "data": {
      "text/plain": "  0%|          | 0/167 [00:00<?, ?it/s]",
      "application/vnd.jupyter.widget-view+json": {
       "version_major": 2,
       "version_minor": 0,
       "model_id": "964878ba36f141e881abfe8ab9cf9d2a"
      }
     },
     "metadata": {},
     "output_type": "display_data"
    },
    {
     "name": "stdout",
     "output_type": "stream",
     "text": [
      "1, [ Train | 021/030 ] loss = 0.88803, acc = 0.69726\n"
     ]
    },
    {
     "data": {
      "text/plain": "  0%|          | 0/42 [00:00<?, ?it/s]",
      "application/vnd.jupyter.widget-view+json": {
       "version_major": 2,
       "version_minor": 0,
       "model_id": "8cde9a7c55eb4597aa5a50bd4f8607e2"
      }
     },
     "metadata": {},
     "output_type": "display_data"
    },
    {
     "name": "stdout",
     "output_type": "stream",
     "text": [
      "1, [ Valid | 021/030 ] loss = 1.14303, acc = 0.62465\n"
     ]
    },
    {
     "data": {
      "text/plain": "  0%|          | 0/167 [00:00<?, ?it/s]",
      "application/vnd.jupyter.widget-view+json": {
       "version_major": 2,
       "version_minor": 0,
       "model_id": "79ce6c3126774091b70c12bb09b94a5a"
      }
     },
     "metadata": {},
     "output_type": "display_data"
    },
    {
     "name": "stdout",
     "output_type": "stream",
     "text": [
      "1, [ Train | 022/030 ] loss = 0.86730, acc = 0.70130\n"
     ]
    },
    {
     "data": {
      "text/plain": "  0%|          | 0/42 [00:00<?, ?it/s]",
      "application/vnd.jupyter.widget-view+json": {
       "version_major": 2,
       "version_minor": 0,
       "model_id": "0b473ad46bc543cd89ad171c78d1185b"
      }
     },
     "metadata": {},
     "output_type": "display_data"
    },
    {
     "name": "stdout",
     "output_type": "stream",
     "text": [
      "1, [ Valid | 022/030 ] loss = 1.57454, acc = 0.55558\n"
     ]
    },
    {
     "data": {
      "text/plain": "  0%|          | 0/167 [00:00<?, ?it/s]",
      "application/vnd.jupyter.widget-view+json": {
       "version_major": 2,
       "version_minor": 0,
       "model_id": "6df9d722ea164bc4a5ce0e1a0bb00fe3"
      }
     },
     "metadata": {},
     "output_type": "display_data"
    },
    {
     "name": "stdout",
     "output_type": "stream",
     "text": [
      "1, [ Train | 023/030 ] loss = 0.82787, acc = 0.71856\n"
     ]
    },
    {
     "data": {
      "text/plain": "  0%|          | 0/42 [00:00<?, ?it/s]",
      "application/vnd.jupyter.widget-view+json": {
       "version_major": 2,
       "version_minor": 0,
       "model_id": "4f03d664950e453787a3d9202a35ed90"
      }
     },
     "metadata": {},
     "output_type": "display_data"
    },
    {
     "name": "stdout",
     "output_type": "stream",
     "text": [
      "1, [ Valid | 023/030 ] loss = 1.32189, acc = 0.57741\n"
     ]
    },
    {
     "data": {
      "text/plain": "  0%|          | 0/167 [00:00<?, ?it/s]",
      "application/vnd.jupyter.widget-view+json": {
       "version_major": 2,
       "version_minor": 0,
       "model_id": "31884c6e85fc471c81472cd90a4ad35a"
      }
     },
     "metadata": {},
     "output_type": "display_data"
    },
    {
     "name": "stdout",
     "output_type": "stream",
     "text": [
      "1, [ Train | 024/030 ] loss = 0.79119, acc = 0.72685\n"
     ]
    },
    {
     "data": {
      "text/plain": "  0%|          | 0/42 [00:00<?, ?it/s]",
      "application/vnd.jupyter.widget-view+json": {
       "version_major": 2,
       "version_minor": 0,
       "model_id": "d870a881565d44649307bab4785524a1"
      }
     },
     "metadata": {},
     "output_type": "display_data"
    },
    {
     "name": "stdout",
     "output_type": "stream",
     "text": [
      "1, [ Valid | 024/030 ] loss = 1.37272, acc = 0.59725\n"
     ]
    },
    {
     "data": {
      "text/plain": "  0%|          | 0/167 [00:00<?, ?it/s]",
      "application/vnd.jupyter.widget-view+json": {
       "version_major": 2,
       "version_minor": 0,
       "model_id": "c6560911e35b4136af17bc0a426b584d"
      }
     },
     "metadata": {},
     "output_type": "display_data"
    },
    {
     "name": "stdout",
     "output_type": "stream",
     "text": [
      "1, [ Train | 025/030 ] loss = 0.76909, acc = 0.73460\n"
     ]
    },
    {
     "data": {
      "text/plain": "  0%|          | 0/42 [00:00<?, ?it/s]",
      "application/vnd.jupyter.widget-view+json": {
       "version_major": 2,
       "version_minor": 0,
       "model_id": "0a1826a0cf7348baa327b6813eb5c47f"
      }
     },
     "metadata": {},
     "output_type": "display_data"
    },
    {
     "name": "stdout",
     "output_type": "stream",
     "text": [
      "1, [ Valid | 025/030 ] loss = 1.15925, acc = 0.62744\n"
     ]
    },
    {
     "data": {
      "text/plain": "  0%|          | 0/167 [00:00<?, ?it/s]",
      "application/vnd.jupyter.widget-view+json": {
       "version_major": 2,
       "version_minor": 0,
       "model_id": "a70e0b6d00574f7e8c5530739e01877a"
      }
     },
     "metadata": {},
     "output_type": "display_data"
    },
    {
     "name": "stdout",
     "output_type": "stream",
     "text": [
      "1, [ Train | 026/030 ] loss = 0.74859, acc = 0.74254\n"
     ]
    },
    {
     "data": {
      "text/plain": "  0%|          | 0/42 [00:00<?, ?it/s]",
      "application/vnd.jupyter.widget-view+json": {
       "version_major": 2,
       "version_minor": 0,
       "model_id": "2731e2a6ad7841fcb568014e0c222d40"
      }
     },
     "metadata": {},
     "output_type": "display_data"
    },
    {
     "name": "stdout",
     "output_type": "stream",
     "text": [
      "1, [ Valid | 026/030 ] loss = 1.03313, acc = 0.67827\n",
      "Best model found at epoch 26, saving model\n"
     ]
    },
    {
     "data": {
      "text/plain": "  0%|          | 0/167 [00:00<?, ?it/s]",
      "application/vnd.jupyter.widget-view+json": {
       "version_major": 2,
       "version_minor": 0,
       "model_id": "2e348b4f4c1944ebbca4190975dc488e"
      }
     },
     "metadata": {},
     "output_type": "display_data"
    },
    {
     "name": "stdout",
     "output_type": "stream",
     "text": [
      "1, [ Train | 027/030 ] loss = 0.73524, acc = 0.74542\n"
     ]
    },
    {
     "data": {
      "text/plain": "  0%|          | 0/42 [00:00<?, ?it/s]",
      "application/vnd.jupyter.widget-view+json": {
       "version_major": 2,
       "version_minor": 0,
       "model_id": "1cff9342a5d54bae9dfa564dcbd42b85"
      }
     },
     "metadata": {},
     "output_type": "display_data"
    },
    {
     "name": "stdout",
     "output_type": "stream",
     "text": [
      "1, [ Valid | 027/030 ] loss = 1.21914, acc = 0.62725\n"
     ]
    },
    {
     "data": {
      "text/plain": "  0%|          | 0/167 [00:00<?, ?it/s]",
      "application/vnd.jupyter.widget-view+json": {
       "version_major": 2,
       "version_minor": 0,
       "model_id": "ceccc6cc2307422d82be9ff750fad369"
      }
     },
     "metadata": {},
     "output_type": "display_data"
    },
    {
     "name": "stdout",
     "output_type": "stream",
     "text": [
      "1, [ Train | 028/030 ] loss = 0.70631, acc = 0.75714\n"
     ]
    },
    {
     "data": {
      "text/plain": "  0%|          | 0/42 [00:00<?, ?it/s]",
      "application/vnd.jupyter.widget-view+json": {
       "version_major": 2,
       "version_minor": 0,
       "model_id": "f44a145e0b454cebaef7981f26685963"
      }
     },
     "metadata": {},
     "output_type": "display_data"
    },
    {
     "name": "stdout",
     "output_type": "stream",
     "text": [
      "1, [ Valid | 028/030 ] loss = 1.22070, acc = 0.64003\n"
     ]
    },
    {
     "data": {
      "text/plain": "  0%|          | 0/167 [00:00<?, ?it/s]",
      "application/vnd.jupyter.widget-view+json": {
       "version_major": 2,
       "version_minor": 0,
       "model_id": "ad85c472cb004b69b760556cfb8b3347"
      }
     },
     "metadata": {},
     "output_type": "display_data"
    },
    {
     "name": "stdout",
     "output_type": "stream",
     "text": [
      "1, [ Train | 029/030 ] loss = 0.69447, acc = 0.76116\n"
     ]
    },
    {
     "data": {
      "text/plain": "  0%|          | 0/42 [00:00<?, ?it/s]",
      "application/vnd.jupyter.widget-view+json": {
       "version_major": 2,
       "version_minor": 0,
       "model_id": "e9cbce20e6ff4b809d863ff311f6a535"
      }
     },
     "metadata": {},
     "output_type": "display_data"
    },
    {
     "name": "stdout",
     "output_type": "stream",
     "text": [
      "1, [ Valid | 029/030 ] loss = 1.02866, acc = 0.66923\n"
     ]
    },
    {
     "data": {
      "text/plain": "  0%|          | 0/167 [00:00<?, ?it/s]",
      "application/vnd.jupyter.widget-view+json": {
       "version_major": 2,
       "version_minor": 0,
       "model_id": "64004016986a45b29c5a595299840c65"
      }
     },
     "metadata": {},
     "output_type": "display_data"
    },
    {
     "name": "stdout",
     "output_type": "stream",
     "text": [
      "1, [ Train | 030/030 ] loss = 0.67489, acc = 0.77320\n"
     ]
    },
    {
     "data": {
      "text/plain": "  0%|          | 0/42 [00:00<?, ?it/s]",
      "application/vnd.jupyter.widget-view+json": {
       "version_major": 2,
       "version_minor": 0,
       "model_id": "483e725312c1414aa595b96ca2eb4de5"
      }
     },
     "metadata": {},
     "output_type": "display_data"
    },
    {
     "name": "stdout",
     "output_type": "stream",
     "text": [
      "1, [ Valid | 030/030 ] loss = 1.27466, acc = 0.62410\n",
      "FOLD 2\n",
      "One sample of train ./data/training\\0_0.jpg\n",
      "One sample of val ./data/training\\0_121.jpg\n",
      "--------------------------------\n"
     ]
    },
    {
     "data": {
      "text/plain": "  0%|          | 0/167 [00:00<?, ?it/s]",
      "application/vnd.jupyter.widget-view+json": {
       "version_major": 2,
       "version_minor": 0,
       "model_id": "6712c2ffd2e0464ab1bbf58341dba4c8"
      }
     },
     "metadata": {},
     "output_type": "display_data"
    },
    {
     "ename": "KeyboardInterrupt",
     "evalue": "",
     "output_type": "error",
     "traceback": [
      "\u001B[1;31m---------------------------------------------------------------------------\u001B[0m",
      "\u001B[1;31mKeyboardInterrupt\u001B[0m                         Traceback (most recent call last)",
      "Cell \u001B[1;32mIn[10], line 61\u001B[0m\n\u001B[0;32m     58\u001B[0m loss\u001B[38;5;241m.\u001B[39mbackward()\n\u001B[0;32m     60\u001B[0m \u001B[38;5;66;03m# Clip the gradient norms for stable training.\u001B[39;00m\n\u001B[1;32m---> 61\u001B[0m grad_norm \u001B[38;5;241m=\u001B[39m \u001B[43mnn\u001B[49m\u001B[38;5;241;43m.\u001B[39;49m\u001B[43mutils\u001B[49m\u001B[38;5;241;43m.\u001B[39;49m\u001B[43mclip_grad_norm_\u001B[49m\u001B[43m(\u001B[49m\u001B[43mmodel\u001B[49m\u001B[38;5;241;43m.\u001B[39;49m\u001B[43mparameters\u001B[49m\u001B[43m(\u001B[49m\u001B[43m)\u001B[49m\u001B[43m,\u001B[49m\u001B[43m \u001B[49m\u001B[43mmax_norm\u001B[49m\u001B[38;5;241;43m=\u001B[39;49m\u001B[38;5;241;43m10\u001B[39;49m\u001B[43m)\u001B[49m\n\u001B[0;32m     63\u001B[0m \u001B[38;5;66;03m# Update the parameters with computed gradients.\u001B[39;00m\n\u001B[0;32m     64\u001B[0m optimizer\u001B[38;5;241m.\u001B[39mstep()\n",
      "File \u001B[1;32m~\\miniconda3\\envs\\dpln\\Lib\\site-packages\\torch\\nn\\utils\\clip_grad.py:76\u001B[0m, in \u001B[0;36mclip_grad_norm_\u001B[1;34m(parameters, max_norm, norm_type, error_if_nonfinite, foreach)\u001B[0m\n\u001B[0;32m     74\u001B[0m \u001B[38;5;28;01mfor\u001B[39;00m ((device, _), [grads]) \u001B[38;5;129;01min\u001B[39;00m grouped_grads\u001B[38;5;241m.\u001B[39mitems():\n\u001B[0;32m     75\u001B[0m     \u001B[38;5;28;01mif\u001B[39;00m (foreach \u001B[38;5;129;01mis\u001B[39;00m \u001B[38;5;28;01mNone\u001B[39;00m \u001B[38;5;129;01mor\u001B[39;00m foreach) \u001B[38;5;129;01mand\u001B[39;00m _has_foreach_support(grads, device\u001B[38;5;241m=\u001B[39mdevice):\n\u001B[1;32m---> 76\u001B[0m         \u001B[43mtorch\u001B[49m\u001B[38;5;241;43m.\u001B[39;49m\u001B[43m_foreach_mul_\u001B[49m\u001B[43m(\u001B[49m\u001B[43mgrads\u001B[49m\u001B[43m,\u001B[49m\u001B[43m \u001B[49m\u001B[43mclip_coef_clamped\u001B[49m\u001B[38;5;241;43m.\u001B[39;49m\u001B[43mto\u001B[49m\u001B[43m(\u001B[49m\u001B[43mdevice\u001B[49m\u001B[43m)\u001B[49m\u001B[43m)\u001B[49m  \u001B[38;5;66;03m# type: ignore[call-overload]\u001B[39;00m\n\u001B[0;32m     77\u001B[0m     \u001B[38;5;28;01melif\u001B[39;00m foreach:\n\u001B[0;32m     78\u001B[0m         \u001B[38;5;28;01mraise\u001B[39;00m \u001B[38;5;167;01mRuntimeError\u001B[39;00m(\u001B[38;5;124mf\u001B[39m\u001B[38;5;124m'\u001B[39m\u001B[38;5;124mforeach=True was passed, but can\u001B[39m\u001B[38;5;130;01m\\'\u001B[39;00m\u001B[38;5;124mt use the foreach API on \u001B[39m\u001B[38;5;132;01m{\u001B[39;00mdevice\u001B[38;5;241m.\u001B[39mtype\u001B[38;5;132;01m}\u001B[39;00m\u001B[38;5;124m tensors\u001B[39m\u001B[38;5;124m'\u001B[39m)\n",
      "\u001B[1;31mKeyboardInterrupt\u001B[0m: "
     ]
    }
   ],
   "source": [
    "for fold, (train_ids, val_ids) in enumerate(kfold.split(train_val_set)):\n",
    "    # Initialize a model, and put it on the device specified.\n",
    "    model = Classifier().to(device)\n",
    "\n",
    "    # For the classification task, we use cross-entropy as the measurement of performance.\n",
    "    criterion = nn.CrossEntropyLoss()\n",
    "\n",
    "    # Initialize optimizer, you may fine-tune some hyperparameters such as learning rate on your own.\n",
    "    optimizer = torch.optim.Adam(model.parameters(), lr=0.0003, weight_decay=1e-5)\n",
    "    \n",
    "    train_images = [train_val_set[i] for i in train_ids]\n",
    "    val_images = [train_val_set[i] for i in val_ids]\n",
    "    \n",
    "    print(f'FOLD {fold}')\n",
    "    print(f\"One sample of train\",train_images[0])\n",
    "    print(f\"One sample of val\",val_images[0])\n",
    "    print('--------------------------------')\n",
    "\n",
    "    # Initialize trackers, these are not parameters and should not be changed\n",
    "    stale = 0\n",
    "    best_acc = 0\n",
    "    \n",
    "    # Construct datasets.\n",
    "    # The argument \"loader\" tells how torchvision reads the data.\n",
    "    train_set = FoodDataset(files=train_images, tfm=train_tfm)\n",
    "    train_loader = DataLoader(train_set, batch_size=batch_size, shuffle=True, num_workers=0, pin_memory=True)\n",
    "    valid_set = FoodDataset(files=val_images, tfm=test_tfm)\n",
    "    valid_loader = DataLoader(valid_set, batch_size=batch_size, shuffle=True, num_workers=0, pin_memory=True)\n",
    "    \n",
    "    for epoch in range(n_epochs):\n",
    "\n",
    "        # ---------- Training ----------\n",
    "        # Make sure the model is in train mode before training.\n",
    "        model.train()\n",
    "\n",
    "        # These are used to record information in training.\n",
    "        train_loss = []\n",
    "        train_accs = []\n",
    "\n",
    "        for batch in tqdm(train_loader):\n",
    "\n",
    "            # A batch consists of image data and corresponding labels.\n",
    "            imgs, labels = batch\n",
    "            #imgs = imgs.half()\n",
    "            #print(imgs.shape,labels.shape)\n",
    "\n",
    "            # Forward the data. (Make sure data and model are on the same device.)\n",
    "            logits = model(imgs.to(device))\n",
    "\n",
    "            # Calculate the cross-entropy loss.\n",
    "            # We don't need to apply softmax before computing cross-entropy as it is done automatically.\n",
    "            loss = criterion(logits, labels.to(device))\n",
    "\n",
    "            # Gradients stored in the parameters in the previous step should be cleared out first.\n",
    "            optimizer.zero_grad()\n",
    "\n",
    "            # Compute the gradients for parameters.\n",
    "            loss.backward()\n",
    "\n",
    "            # Clip the gradient norms for stable training.\n",
    "            grad_norm = nn.utils.clip_grad_norm_(model.parameters(), max_norm=10)\n",
    "\n",
    "            # Update the parameters with computed gradients.\n",
    "            optimizer.step()\n",
    "\n",
    "            # Compute the accuracy for current batch.\n",
    "            acc = (logits.argmax(dim=-1) == labels.to(device)).float().mean()\n",
    "\n",
    "            # Record the loss and accuracy.\n",
    "            train_loss.append(loss.item())\n",
    "            train_accs.append(acc)\n",
    "            \n",
    "        train_loss = sum(train_loss) / len(train_loss)\n",
    "        train_acc = sum(train_accs) / len(train_accs)\n",
    "\n",
    "        # Print the information.\n",
    "        print(f\"{fold}, [ Train | {epoch + 1:03d}/{n_epochs:03d} ] loss = {train_loss:.5f}, acc = {train_acc:.5f}\")\n",
    "        \n",
    "        # Update the log.\n",
    "        with open(f\"./log/{_exp_name}_log.csv\",\"a\", newline=\"\") as f:\n",
    "            writer = csv.writer(f)\n",
    "            writer.writerow([fold, \"train\", f\"{epoch+1:03d}\", f\"{train_loss:.5f}\", f\"{train_acc:.5f}\", \"\"])\n",
    "\n",
    "        # ---------- Validation ----------\n",
    "        # Make sure the model is in eval mode so that some modules like dropout are disabled and work normally.\n",
    "        model.eval()\n",
    "\n",
    "        # These are used to record information in validation.\n",
    "        valid_loss = []\n",
    "        valid_accs = []\n",
    "\n",
    "        # Iterate the validation set by batches.\n",
    "        for batch in tqdm(valid_loader):\n",
    "\n",
    "            # A batch consists of image data and corresponding labels.\n",
    "            imgs, labels = batch\n",
    "            #imgs = imgs.half()\n",
    "\n",
    "            # We don't need gradient in validation.\n",
    "            # Using torch.no_grad() accelerates the forward process.\n",
    "            with torch.no_grad():\n",
    "                logits = model(imgs.to(device))\n",
    "\n",
    "            # We can still compute the loss (but not the gradient).\n",
    "            loss = criterion(logits, labels.to(device))\n",
    "\n",
    "            # Compute the accuracy for current batch.\n",
    "            acc = (logits.argmax(dim=-1) == labels.to(device)).float().mean()\n",
    "\n",
    "            # Record the loss and accuracy.\n",
    "            valid_loss.append(loss.item())\n",
    "            valid_accs.append(acc)\n",
    "            #break\n",
    "\n",
    "        # The average loss and accuracy for entire validation set is the average of the recorded values.\n",
    "        valid_loss = sum(valid_loss) / len(valid_loss)\n",
    "        valid_acc = sum(valid_accs) / len(valid_accs)\n",
    "\n",
    "        # Print the information.\n",
    "        print(f\"{fold}, [ Valid | {epoch + 1:03d}/{n_epochs:03d} ] loss = {valid_loss:.5f}, acc = {valid_acc:.5f}\")\n",
    "\n",
    "        # update logs\n",
    "        with open(f\"./log/{_exp_name}_log.csv\",\"a\", newline=\"\") as f:\n",
    "            writer = csv.writer(f)\n",
    "            if valid_acc > best_acc:\n",
    "                writer.writerow([fold, \"val\", f\"{epoch+1:03d}\", f\"{valid_loss:.5f}\", f\"{valid_acc:.5f}\", \"best\"])\n",
    "            else:\n",
    "                writer.writerow([fold, \"val\", f\"{epoch+1:03d}\", f\"{valid_loss:.5f}\", f\"{valid_acc:.5f}\", \"\"])\n",
    "        \n",
    "        \n",
    "        # save models\n",
    "        if valid_acc > best_acc:\n",
    "            print(f\"Best model found at epoch {epoch + 1}, saving model\")\n",
    "            torch.save(model.state_dict(), f\"{_exp_name}_best.ckpt\") # only save best to prevent output memory exceed error\n",
    "            best_acc = valid_acc\n",
    "            stale = 0\n",
    "        else:\n",
    "            stale += 1\n",
    "            if stale > patience:\n",
    "                print(f\"No improvment {patience} consecutive epochs, early stopping\")\n",
    "                break\n",
    "                \n",
    "    acc_scores.append(best_acc)"
   ],
   "metadata": {
    "collapsed": false,
    "ExecuteTime": {
     "end_time": "2023-11-05T10:26:38.441447800Z",
     "start_time": "2023-11-05T08:32:36.170448400Z"
    }
   }
  },
  {
   "cell_type": "markdown",
   "source": [
    "# Testing and generate prediction CSV"
   ],
   "metadata": {
    "papermill": {
     "duration": 0.498773,
     "end_time": "2022-02-23T19:10:20.961802",
     "exception": false,
     "start_time": "2022-02-23T19:10:20.463029",
     "status": "completed"
    },
    "tags": []
   }
  },
  {
   "cell_type": "code",
   "execution_count": 12,
   "outputs": [],
   "source": [
    "test_set = dataset_prefold(os.path.join(_dataset_dir,\"validation\"))\n",
    "test_set = FoodDataset(files=test_set, tfm=test_tfm)\n",
    "test_loader = DataLoader(test_set, batch_size=batch_size, shuffle=False, num_workers=0, pin_memory=True)"
   ],
   "metadata": {
    "collapsed": false,
    "ExecuteTime": {
     "end_time": "2023-11-05T10:28:29.419185Z",
     "start_time": "2023-11-05T10:28:29.392121400Z"
    }
   }
  },
  {
   "cell_type": "code",
   "source": [
    "model_best = Classifier().to(device)\n",
    "model_best.load_state_dict(torch.load(f\"{_exp_name}_best.ckpt\"))\n",
    "model_best.eval()\n",
    "prediction = []\n",
    "with torch.no_grad():\n",
    "    for data,_ in test_loader:\n",
    "        test_pred = model_best(data.to(device))\n",
    "        test_label = np.argmax(test_pred.cpu().data.numpy(), axis=1)\n",
    "        prediction += test_label.squeeze().tolist()"
   ],
   "metadata": {
    "papermill": {
     "duration": 49.157727,
     "end_time": "2022-02-23T19:11:10.61523",
     "exception": false,
     "start_time": "2022-02-23T19:10:21.457503",
     "status": "completed"
    },
    "tags": [],
    "execution": {
     "iopub.status.busy": "2022-03-04T07:57:48.800079Z",
     "iopub.execute_input": "2022-03-04T07:57:48.800382Z",
     "iopub.status.idle": "2022-03-04T07:58:26.536525Z",
     "shell.execute_reply.started": "2022-03-04T07:57:48.800344Z",
     "shell.execute_reply": "2022-03-04T07:58:26.535783Z"
    },
    "trusted": true,
    "ExecuteTime": {
     "end_time": "2023-11-05T10:28:59.628909800Z",
     "start_time": "2023-11-05T10:28:41.812141600Z"
    }
   },
   "execution_count": 13,
   "outputs": []
  },
  {
   "cell_type": "code",
   "source": [
    "#create test csv\n",
    "def pad4(i):\n",
    "    return \"0\"*(4-len(str(i)))+str(i)\n",
    "\n",
    "current_time = datetime.datetime.now()\n",
    "month = \"%02d\" % current_time.month\n",
    "day = \"%02d\" % current_time.day\n",
    "hour = \"%02d\" % current_time.hour\n",
    "minute = \"%02d\" % current_time.minute\n",
    "time = f\"{month}{day}{hour}{minute}\"\n",
    "# result_acc = str(round(best_acc.item(), 2))\n",
    "result_acc = str(round(0.67827, 2))\n",
    "\n",
    "df = pd.DataFrame()\n",
    "df[\"Id\"] = [pad4(i) for i in range(1,len(test_set)+1)]\n",
    "df[\"Category\"] = prediction\n",
    "df.to_csv(\"./result/submission_\" + time + \"_\" + result_acc + \".csv\",index = False)"
   ],
   "metadata": {
    "papermill": {
     "duration": 0.554276,
     "end_time": "2022-02-23T19:11:11.870035",
     "exception": false,
     "start_time": "2022-02-23T19:11:11.315759",
     "status": "completed"
    },
    "tags": [],
    "execution": {
     "iopub.status.busy": "2022-03-04T07:58:26.537894Z",
     "iopub.execute_input": "2022-03-04T07:58:26.53815Z",
     "iopub.status.idle": "2022-03-04T07:58:26.56908Z",
     "shell.execute_reply.started": "2022-03-04T07:58:26.538114Z",
     "shell.execute_reply": "2022-03-04T07:58:26.56829Z"
    },
    "trusted": true,
    "ExecuteTime": {
     "end_time": "2023-11-05T10:30:01.954139500Z",
     "start_time": "2023-11-05T10:30:01.927005200Z"
    }
   },
   "execution_count": 15,
   "outputs": []
  },
  {
   "cell_type": "code",
   "execution_count": 16,
   "outputs": [],
   "source": [
    "os.rename(\"./log/sample_log.csv\", \"./log/samplelog_\" + time + \"_\" + result_acc + \".csv\")"
   ],
   "metadata": {
    "collapsed": false,
    "ExecuteTime": {
     "end_time": "2023-11-05T10:30:03.651013800Z",
     "start_time": "2023-11-05T10:30:03.640017500Z"
    }
   }
  }
 ]
}
