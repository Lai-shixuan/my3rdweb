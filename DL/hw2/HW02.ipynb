{
 "cells": [
  {
   "attachments": {},
   "cell_type": "markdown",
   "metadata": {
    "id": "OYlaRwNu7ojq"
   },
   "source": [
    "# **Homework 2 Phoneme Classification**\n",
    "\n",
    "* Slides: https://docs.google.com/presentation/d/1v6HkBWiJb8WNDcJ9_-2kwVstxUWml87b9CnA16Gdoio/edit?usp=sharing\n",
    "* Kaggle: https://www.kaggle.com/c/ml2022spring-hw2\n",
    "* Video: TBA\n"
   ]
  },
  {
   "cell_type": "code",
   "execution_count": 12,
   "metadata": {
    "colab": {
     "base_uri": "https://localhost:8080/"
    },
    "id": "mLQI0mNcmM-O",
    "outputId": "7d5b4d81-9438-4d50-8153-cd235c47ee21",
    "ExecuteTime": {
     "end_time": "2023-06-29T06:21:10.660636100Z",
     "start_time": "2023-06-29T06:21:10.515404800Z"
    }
   },
   "outputs": [
    {
     "name": "stdout",
     "output_type": "stream",
     "text": [
      "Thu Jun 29 14:21:10 2023       \n",
      "+---------------------------------------------------------------------------------------+\n",
      "| NVIDIA-SMI 535.98                 Driver Version: 535.98       CUDA Version: 12.2     |\n",
      "|-----------------------------------------+----------------------+----------------------+\n",
      "| GPU  Name                     TCC/WDDM  | Bus-Id        Disp.A | Volatile Uncorr. ECC |\n",
      "| Fan  Temp   Perf          Pwr:Usage/Cap |         Memory-Usage | GPU-Util  Compute M. |\n",
      "|                                         |                      |               MIG M. |\n",
      "|=========================================+======================+======================|\n",
      "|   0  NVIDIA GeForce RTX 3060      WDDM  | 00000000:01:00.0  On |                  N/A |\n",
      "|  0%   49C    P5              22W / 170W |   4862MiB / 12288MiB |      2%      Default |\n",
      "|                                         |                      |                  N/A |\n",
      "+-----------------------------------------+----------------------+----------------------+\n",
      "                                                                                         \n",
      "+---------------------------------------------------------------------------------------+\n",
      "| Processes:                                                                            |\n",
      "|  GPU   GI   CI        PID   Type   Process name                            GPU Memory |\n",
      "|        ID   ID                                                             Usage      |\n",
      "|=======================================================================================|\n",
      "|    0   N/A  N/A      4340    C+G   ...cal\\Microsoft\\OneDrive\\OneDrive.exe    N/A      |\n",
      "|    0   N/A  N/A      8628    C+G   ...ogram Files (x86)\\Zotero\\zotero.exe    N/A      |\n",
      "|    0   N/A  N/A      9572    C+G   ...)\\Netease\\CloudMusic\\cloudmusic.exe    N/A      |\n",
      "|    0   N/A  N/A     10576    C+G   ...5\\extracted\\runtime\\WeChatAppEx.exe    N/A      |\n",
      "|    0   N/A  N/A     12756    C+G   ...aSpell 2022.3.2\\bin\\dataspell64.exe    N/A      |\n",
      "|    0   N/A  N/A     12972    C+G   ...e Stream\\77.0.3.0\\GoogleDriveFS.exe    N/A      |\n",
      "|    0   N/A  N/A     15636    C+G   ...CBS_cw5n1h2txyewy\\TextInputHost.exe    N/A      |\n",
      "|    0   N/A  N/A     15948    C+G   ...5n1h2txyewy\\ShellExperienceHost.exe    N/A      |\n",
      "|    0   N/A  N/A     16960    C+G   ...soft Office\\root\\Office16\\EXCEL.EXE    N/A      |\n",
      "|    0   N/A  N/A     20948    C+G   ...p5dcp4q3yn5jt\\OneQuick\\OneQuick.exe    N/A      |\n",
      "|    0   N/A  N/A     23376    C+G   ...t.LockApp_cw5n1h2txyewy\\LockApp.exe    N/A      |\n",
      "|    0   N/A  N/A     24088    C+G   C:\\Windows\\explorer.exe                   N/A      |\n",
      "|    0   N/A  N/A     26328    C+G   ...3.5.0_x64__gqbn7fs4pywxm\\Db.App.exe    N/A      |\n",
      "|    0   N/A  N/A     29088    C+G   ...oogle\\Chrome\\Application\\chrome.exe    N/A      |\n",
      "|    0   N/A  N/A     30264    C+G   ...2txyewy\\StartMenuExperienceHost.exe    N/A      |\n",
      "|    0   N/A  N/A     30764    C+G   ...AppData\\Local\\Obsidian\\Obsidian.exe    N/A      |\n",
      "|    0   N/A  N/A     30944    C+G   ...0.0_x64__p7pnf6hceqser\\snipaste.exe    N/A      |\n",
      "|    0   N/A  N/A     31196    C+G   ...tionsPlus\\logioptionsplus_agent.exe    N/A      |\n",
      "|    0   N/A  N/A     31508    C+G   C:\\Program Files\\Listary\\Listary.exe      N/A      |\n",
      "|    0   N/A  N/A     32532    C+G   ...rogram\\tianruo_x64\\TianruoOCR64.exe    N/A      |\n",
      "|    0   N/A  N/A     35880    C+G   ....Search_cw5n1h2txyewy\\SearchApp.exe    N/A      |\n",
      "|    0   N/A  N/A     40240      C   ...h\\anaconda3\\envs\\dplearn\\python.exe    N/A      |\n",
      "|    0   N/A  N/A     40704    C+G   ...les\\flomo卡片笔记\\flomo卡片笔记.exe    N/A      |\n",
      "+---------------------------------------------------------------------------------------+\n"
     ]
    }
   ],
   "source": [
    "!nvidia-smi"
   ]
  },
  {
   "attachments": {},
   "cell_type": "markdown",
   "metadata": {
    "id": "KVUGfWTo7_Oj"
   },
   "source": [
    "## Download Data\n",
    "Download data from google drive, then unzip it.\n",
    "\n",
    "You should have\n",
    "- `libriphone/train_split.txt`\n",
    "- `libriphone/train_labels`\n",
    "- `libriphone/test_split.txt`\n",
    "- `libriphone/feat/train/*.pt`: training feature<br>\n",
    "- `libriphone/feat/test/*.pt`:  testing feature<br>\n",
    "\n",
    "after running the following block.\n",
    "\n",
    "> **Notes: if the links are dead, you can download the data directly from [Kaggle](https://www.kaggle.com/c/ml2022spring-hw2/data) and upload it to the workspace, or you can use [the Kaggle API](https://www.kaggle.com/general/74235) to directly download the data into colab.**\n"
   ]
  },
  {
   "attachments": {},
   "cell_type": "markdown",
   "metadata": {
    "id": "Bj5jYXsD9Ef3"
   },
   "source": [
    "### Download train/test metadata"
   ]
  },
  {
   "cell_type": "code",
   "execution_count": 13,
   "metadata": {
    "colab": {
     "base_uri": "https://localhost:8080/"
    },
    "id": "OzkiMEcC3Foq",
    "outputId": "cc90c16c-ee21-400e-ec08-dfcd422212a6",
    "ExecuteTime": {
     "end_time": "2023-06-29T06:21:10.661636300Z",
     "start_time": "2023-06-29T06:21:10.643636100Z"
    }
   },
   "outputs": [],
   "source": [
    "# Main link\n",
    "# !wget -O libriphone.zip \"https://github.com/xraychen/shiny-robot/releases/download/v1.0/libriphone.zip\"\n",
    "\n",
    "# Backup Link 0\n",
    "# !pip install --upgrade gdown\n",
    "# !gdown --id '1o6Ag-G3qItSmYhTheX6DYiuyNzWyHyTc' --output libriphone.zip\n",
    "\n",
    "# Backup link 1\n",
    "# !pip install --upgrade gdown\n",
    "# !gdown --id '1R1uQYi4QpX0tBfUWt2mbZcncdBsJkxeW' --output libriphone.zip\n",
    "\n",
    "# Backup link 2\n",
    "# !wget -O libriphone.zip \"https://www.dropbox.com/s/wqww8c5dbrl2ka9/libriphone.zip?dl=1\"\n",
    "\n",
    "# Backup link 3\n",
    "# !wget -O libriphone.zip \"https://www.dropbox.com/s/p2ljbtb2bam13in/libriphone.zip?dl=1\"\n",
    "\n",
    "# !unzip -q libriphone.zip\n",
    "# !ls libriphone"
   ]
  },
  {
   "attachments": {},
   "cell_type": "markdown",
   "metadata": {
    "id": "_L_4anls8Drv"
   },
   "source": [
    "### Preparing Data"
   ]
  },
  {
   "attachments": {},
   "cell_type": "markdown",
   "metadata": {
    "id": "po4N3C-AWuWl"
   },
   "source": [
    "**Helper functions to pre-process the training data from raw MFCC features of each utterance.**\n",
    "\n",
    "A phoneme may span several frames and is dependent to past and future frames. \\\n",
    "Hence we concatenate neighboring phonemes for training to achieve higher accuracy. The **concat_feat** function concatenates past and future k frames (total 2k+1 = n frames), and we predict the center frame.\n",
    "\n",
    "Feel free to modify the data preprocess functions, but **do not drop any frame** (if you modify the functions, remember to check that the number of frames are the same as mentioned in the slides)"
   ]
  },
  {
   "cell_type": "code",
   "execution_count": 14,
   "metadata": {
    "ExecuteTime": {
     "end_time": "2023-06-29T06:21:10.688272800Z",
     "start_time": "2023-06-29T06:21:10.658636800Z"
    }
   },
   "outputs": [],
   "source": [
    "import os\n",
    "import random\n",
    "import pandas as pd\n",
    "from tqdm import tqdm\n",
    "import torch.backends.cudnn\n",
    "import numpy as np\n",
    "\n",
    "def load_feat(path):\n",
    "    feat = torch.load(path)\n",
    "    return feat\n",
    "\n",
    "def shift(x, n):        # 确实看着连类型都没有。该函数是将所在的数组缩动位置，比如第1个就把第一行缩掉，以此类推\n",
    "    if n < 0:\n",
    "        left = x[0].repeat(-n, 1)\n",
    "        right = x[:n]\n",
    "\n",
    "    elif n > 0:\n",
    "        right = x[-1].repeat(n, 1)\n",
    "        left = x[n:]\n",
    "    else:\n",
    "        return x\n",
    "\n",
    "    return torch.cat((left, right), dim=0)\n",
    "\n",
    "def concat_feat(x, concat_n):\n",
    "    assert concat_n % 2 == 1 # n must be odd\n",
    "    if concat_n < 2:\n",
    "        return x\n",
    "    seq_len, feature_dim = x.size(0), x.size(1)\n",
    "    x = x.repeat(1, concat_n)\n",
    "    x = x.view(seq_len, concat_n, feature_dim).permute(1, 0, 2) # concat_n, seq_len, feature_dim\n",
    "    mid = (concat_n // 2)\n",
    "    for r_idx in range(1, mid+1):\n",
    "        x[mid + r_idx, :] = shift(x[mid + r_idx], r_idx)\n",
    "        x[mid - r_idx, :] = shift(x[mid - r_idx], -r_idx)\n",
    "\n",
    "    return x.permute(1, 0, 2).view(seq_len, concat_n * feature_dim)\n",
    "\n",
    "def data_spit(length, x, spit=10):\n",
    "    if length % (spit-1) == 0:\n",
    "        num = length // spit\n",
    "    else:\n",
    "        num = length // (spit-1)\n",
    "    x_list = [x[:num], x[num:num*2], x[num*2:num*3], x[num*3:num*4], x[num*4:num*5], x[num*5:num*6], x[num*6:num*7], x[num*7:num*8], x[num*8:num*9], x[num*9:]]\n",
    "    return x_list\n",
    "\n",
    "def preprocess_data(split, feat_dir, phone_path, concat_nframes, train_ratio=1, train_val_seed=1338):     # 有一个没有孤立的种子\n",
    "    # 读取pt档的时候用0.8划分，导致实际的矩阵大小没有按照0.8划分，因为不同的pt档具备的数据量不一样多\n",
    "    class_num = 41 # NOTE: pre-computed, should not need change\n",
    "    mode = 'train' if (split == 'train' or split == 'val') else 'test'\n",
    "    X_list = []\n",
    "    y_list = []\n",
    "    label_dict = {}\n",
    "\n",
    "    # 以下是创建了label的字典，读取完毕\n",
    "    if mode != 'test':\n",
    "      phone_file = open(os.path.join(phone_path, f'{mode}_labels.txt')).readlines()\n",
    "\n",
    "      for line in phone_file:\n",
    "          line = line.strip('\\n').split(' ')\n",
    "          label_dict[line[0]] = [int(p) for p in line[1:]]          \n",
    "    \n",
    "    # 以下直到print，是读取了train, val或者test的文件名字列表\n",
    "    if split == 'train' or split == 'val':\n",
    "        # split training and validation data\n",
    "        usage_list = open(os.path.join(phone_path, 'train_split.txt')).readlines()\n",
    "        # random.seed(train_val_seed)\n",
    "        # random.shuffle(usage_list)      # 固定了种子的shuffle，对名单进行shuffle，导致每次划分成的train和val列表都一样\n",
    "        percent = int(len(usage_list) * train_ratio)\n",
    "        usage_list = usage_list[:percent] if split == 'train' else usage_list[percent:]\n",
    "    elif split == 'test':\n",
    "        usage_list = open(os.path.join(phone_path, 'test_split.txt')).readlines()\n",
    "    else:\n",
    "        raise ValueError('Invalid \\'split\\' argument for dataset: PhoneDataset!')\n",
    "\n",
    "    usage_list = [line.strip('\\n') for line in usage_list]\n",
    "    print('[Dataset] - # phone classes: ' + str(class_num) + ', number of utterances for ' + split + ': ' + str(len(usage_list)))\n",
    "\n",
    "    # 以下部分将利用名单，逐个文件进行load，然后拼成1个tensor\n",
    "    max_len = 3000000                                       \n",
    "    X = torch.empty(max_len, 39 * concat_nframes)\n",
    "    if mode != 'test':\n",
    "      y = torch.empty(max_len, dtype=torch.long)\n",
    "\n",
    "    idx = 0\n",
    "    for i, fname in tqdm(enumerate(usage_list)):\n",
    "        feat = load_feat(os.path.join(feat_dir, mode, f'{fname}.pt'))       # 1个pt档中的所有数据读取后存储在feat中，第1个是[837,39]的tensor\n",
    "        cur_len = len(feat)\n",
    "        feat = concat_feat(feat, concat_nframes)\n",
    "        if mode != 'test':\n",
    "          label = torch.LongTensor(label_dict[fname])\n",
    "\n",
    "        X[idx: idx + cur_len, :] = feat\n",
    "        if mode != 'test':\n",
    "          y[idx: idx + cur_len] = label\n",
    "\n",
    "        idx += cur_len\n",
    "\n",
    "    X = X[:idx, :]\n",
    "    if mode != 'test':\n",
    "        y = y[:idx]\n",
    "\n",
    "    if mode != \"test\":\n",
    "        # 将一个列表切割成10份，并且返回列表头\n",
    "        X_list = data_spit(idx, X)\n",
    "        y_list = data_spit(idx, y)\n",
    "\n",
    "    print(f'[INFO] {split} set')\n",
    "    print(X.shape)\n",
    "    if mode != 'test':\n",
    "        print(y.shape)\n",
    "        return X_list, y_list\n",
    "    else:\n",
    "        return X\n"
   ]
  },
  {
   "attachments": {},
   "cell_type": "markdown",
   "metadata": {
    "id": "us5XW_x6udZQ"
   },
   "source": [
    "## Define Dataset"
   ]
  },
  {
   "cell_type": "code",
   "execution_count": 15,
   "metadata": {
    "id": "Fjf5EcmJtf4e",
    "ExecuteTime": {
     "end_time": "2023-06-29T06:21:10.736236600Z",
     "start_time": "2023-06-29T06:21:10.688272800Z"
    }
   },
   "outputs": [],
   "source": [
    "from torch.utils.data import Dataset\n",
    "from torch.utils.data import DataLoader\n",
    "\n",
    "class LibriDataset(Dataset):\n",
    "    def __init__(self, X, y=None):\n",
    "        self.data = X\n",
    "        if y is not None:\n",
    "            self.label = torch.LongTensor(y)\n",
    "        else:\n",
    "            self.label = None\n",
    "\n",
    "    def __getitem__(self, idx):\n",
    "        if self.label is not None:\n",
    "            return self.data[idx], self.label[idx]\n",
    "        else:\n",
    "            return self.data[idx]\n",
    "\n",
    "    def __len__(self):\n",
    "        return len(self.data)\n"
   ]
  },
  {
   "attachments": {},
   "cell_type": "markdown",
   "metadata": {
    "id": "IRqKNvNZwe3V"
   },
   "source": [
    "## Define Model"
   ]
  },
  {
   "cell_type": "code",
   "execution_count": 16,
   "metadata": {
    "id": "Bg-GRd7ywdrL",
    "ExecuteTime": {
     "end_time": "2023-06-29T06:21:10.746237500Z",
     "start_time": "2023-06-29T06:21:10.691236600Z"
    }
   },
   "outputs": [],
   "source": [
    "import torch\n",
    "import torch.nn as nn\n",
    "import torch.nn.functional as F\n",
    "\n",
    "class BasicBlock(nn.Module):\n",
    "    def __init__(self, input_dim, output_dim):\n",
    "        super(BasicBlock, self).__init__()\n",
    "\n",
    "        self.block = nn.Sequential(\n",
    "            nn.Linear(input_dim, output_dim),\n",
    "            nn.ReLU(),\n",
    "        )\n",
    "\n",
    "    def forward(self, x):\n",
    "        x = self.block(x)\n",
    "        return x\n",
    "\n",
    "\n",
    "class Classifier(nn.Module):\n",
    "    def __init__(self, input_dim, output_dim=41, hidden_layers=1, hidden_dim=256):\n",
    "        super(Classifier, self).__init__()\n",
    "\n",
    "        self.fc = nn.Sequential(\n",
    "            BasicBlock(input_dim, hidden_dim),\n",
    "            *[BasicBlock(hidden_dim, hidden_dim) for _ in range(hidden_layers)],\n",
    "            nn.Linear(hidden_dim, output_dim)\n",
    "        )\n",
    "\n",
    "    def forward(self, x):\n",
    "        x = self.fc(x)\n",
    "        return x"
   ]
  },
  {
   "attachments": {},
   "cell_type": "markdown",
   "metadata": {
    "id": "TlIq8JeqvvHC"
   },
   "source": [
    "## Hyper-parameters"
   ]
  },
  {
   "cell_type": "code",
   "execution_count": 17,
   "metadata": {
    "id": "iIHn79Iav1ri",
    "ExecuteTime": {
     "end_time": "2023-06-29T06:21:10.746237500Z",
     "start_time": "2023-06-29T06:21:10.708236500Z"
    }
   },
   "outputs": [],
   "source": [
    "# data prarameters\n",
    "concat_nframes = 13          # the number of frames to concat with, n must be odd (total 2k+1 = n frames)\n",
    "train_ratio = 1               # the ratio of data used for training, the rest will be used for validation\n",
    "fold_num = 10\n",
    "\n",
    "# training parameters\n",
    "seed = 1024                        # random seed\n",
    "batch_size = 1024               # batch size\n",
    "num_epoch = 3                   # the number of training epoch\n",
    "learning_rate = 0.0001          # learning rate\n",
    "model_path = './model.ckpt'     # the path where the checkpoint will be saved\n",
    "\n",
    "# model parameters\n",
    "input_dim = 39 * concat_nframes # the input dim of the model, you should not change the value\n",
    "hidden_layers = 1               # the number of hidden layers\n",
    "hidden_dim = 256                # the hidden dim"
   ]
  },
  {
   "attachments": {},
   "cell_type": "markdown",
   "metadata": {
    "id": "IIUFRgG5yoDn"
   },
   "source": [
    "## Prepare dataset and model"
   ]
  },
  {
   "cell_type": "code",
   "execution_count": 18,
   "metadata": {
    "colab": {
     "base_uri": "https://localhost:8080/"
    },
    "id": "c1zI3v5jyrDn",
    "outputId": "3ea2823a-83f3-42d9-ef05-2f2c002f9538",
    "ExecuteTime": {
     "end_time": "2023-06-29T06:21:17.000787200Z",
     "start_time": "2023-06-29T06:21:10.723236700Z"
    }
   },
   "outputs": [
    {
     "name": "stdout",
     "output_type": "stream",
     "text": [
      "[Dataset] - # phone classes: 41, number of utterances for train: 4286\n"
     ]
    },
    {
     "name": "stderr",
     "output_type": "stream",
     "text": [
      "4286it [00:05, 735.56it/s]"
     ]
    },
    {
     "name": "stdout",
     "output_type": "stream",
     "text": [
      "[INFO] train set\n",
      "torch.Size([2644158, 507])\n",
      "torch.Size([2644158])\n"
     ]
    },
    {
     "name": "stderr",
     "output_type": "stream",
     "text": [
      "\n"
     ]
    }
   ],
   "source": [
    "import gc\n",
    "\n",
    "# make some lists in advance\n",
    "train_list_x = []\n",
    "train_list_y = []\n",
    "# val_list_x = []\n",
    "# val_list_y = []\n",
    "\n",
    "train_set = []\n",
    "# val_set = []\n",
    "\n",
    "train_loader = []\n",
    "val_loader = []\n",
    "\n",
    "# preprocess data\n",
    "train_list_x, train_list_y = preprocess_data(split='train', feat_dir='./data/libriphone/libriphone/feat', phone_path='./data/libriphone/libriphone', concat_nframes=concat_nframes, train_ratio=train_ratio)\n",
    "# val_list_x, val_list_y = preprocess_data(split='val', feat_dir='./data/libriphone/libriphone/feat', phone_path='./data/libriphone/libriphone', concat_nframes=concat_nframes, train_ratio=train_ratio)\n",
    "\n",
    "# get dataset\n",
    "for i in range(fold_num):\n",
    "    # get dataset\n",
    "    train_set.append(LibriDataset(train_list_x[i], train_list_y[i]))\n",
    "    # val_set.append(LibriDataset(val_list_x[i], val_list_y[i]))\n",
    "\n",
    "for i in range(fold_num):\n",
    "    # get dataloader\n",
    "    train_fold = LibriDataset([], [])\n",
    "    for j in range(fold_num):\n",
    "        if j != i:\n",
    "            train_fold = train_fold + train_set[j]\n",
    "    val_fold = train_set[i]\n",
    "    train_loader.append(DataLoader(train_fold, batch_size=batch_size, shuffle=True))\n",
    "    val_loader.append(DataLoader(val_fold, batch_size=batch_size, shuffle=False))\n",
    "\n",
    "# remove raw feature to save memory\n",
    "# del train_list_x, train_list_y      #, val_list_x, val_list_y\n",
    "# gc.collect()\n"
   ]
  },
  {
   "cell_type": "code",
   "execution_count": 19,
   "metadata": {
    "colab": {
     "base_uri": "https://localhost:8080/"
    },
    "id": "CfRUEgC0GxUV",
    "outputId": "f9804711-72b1-4717-896b-821a300cfe87",
    "ExecuteTime": {
     "end_time": "2023-06-29T06:21:17.017243100Z",
     "start_time": "2023-06-29T06:21:17.001786600Z"
    }
   },
   "outputs": [
    {
     "name": "stdout",
     "output_type": "stream",
     "text": [
      "DEVICE: cuda:0\n"
     ]
    }
   ],
   "source": [
    "device = 'cuda:0' if torch.cuda.is_available() else 'cpu'\n",
    "print(f'DEVICE: {device}')"
   ]
  },
  {
   "cell_type": "code",
   "execution_count": 20,
   "metadata": {
    "id": "88xPiUnm0tAd",
    "ExecuteTime": {
     "end_time": "2023-06-29T06:21:17.061479300Z",
     "start_time": "2023-06-29T06:21:17.017243100Z"
    }
   },
   "outputs": [],
   "source": [
    "import numpy as np\n",
    "\n",
    "#fix seed\n",
    "def same_seeds(seed):\n",
    "    torch.manual_seed(seed)\n",
    "    if torch.cuda.is_available():\n",
    "        torch.cuda.manual_seed(seed)\n",
    "        torch.cuda.manual_seed_all(seed)  \n",
    "    np.random.seed(seed)  \n",
    "    torch.backends.cudnn.benchmark = False\n",
    "    torch.backends.cudnn.deterministic = True"
   ]
  },
  {
   "cell_type": "code",
   "execution_count": 21,
   "metadata": {
    "id": "QTp3ZXg1yO9Y",
    "ExecuteTime": {
     "end_time": "2023-06-29T06:21:17.076480200Z",
     "start_time": "2023-06-29T06:21:17.035477700Z"
    }
   },
   "outputs": [],
   "source": [
    "# fix random seed\n",
    "same_seeds(seed)\n",
    "\n",
    "# create model, define a loss function, and optimizer\n",
    "model = Classifier(input_dim=input_dim, hidden_layers=hidden_layers, hidden_dim=hidden_dim).to(device)\n",
    "criterion = nn.CrossEntropyLoss() \n",
    "optimizer = torch.optim.AdamW(model.parameters(), lr=learning_rate)"
   ]
  },
  {
   "attachments": {},
   "cell_type": "markdown",
   "metadata": {
    "id": "pwWH1KIqzxEr"
   },
   "source": [
    "## Training"
   ]
  },
  {
   "cell_type": "code",
   "execution_count": 22,
   "metadata": {
    "colab": {
     "base_uri": "https://localhost:8080/"
    },
    "id": "CdMWsBs7zzNs",
    "outputId": "17922ad2-a319-4253-8783-3e4939d0a7cf",
    "ExecuteTime": {
     "end_time": "2023-06-29T06:55:07.938862300Z",
     "start_time": "2023-06-29T06:21:17.063479800Z"
    }
   },
   "outputs": [
    {
     "name": "stderr",
     "output_type": "stream",
     "text": [
      "100%|██████████| 2296/2296 [00:23<00:00, 99.00it/s] \n",
      "100%|██████████| 287/287 [00:01<00:00, 147.73it/s]\n"
     ]
    },
    {
     "name": "stdout",
     "output_type": "stream",
     "text": [
      "[001/003] Train Acc: 1.858480 Loss: 0.164311 | Val Acc: 0.063378 loss: 0.159219\n"
     ]
    },
    {
     "name": "stderr",
     "output_type": "stream",
     "text": [
      "100%|██████████| 2296/2296 [00:24<00:00, 92.07it/s] \n",
      "100%|██████████| 287/287 [00:01<00:00, 152.78it/s]\n"
     ]
    },
    {
     "name": "stdout",
     "output_type": "stream",
     "text": [
      "[001/003] Train Acc: 2.114663 Loss: 0.133501 | Val Acc: 0.067401 loss: 0.144590\n"
     ]
    },
    {
     "name": "stderr",
     "output_type": "stream",
     "text": [
      "100%|██████████| 2296/2296 [00:23<00:00, 98.01it/s] \n",
      "100%|██████████| 287/287 [00:01<00:00, 150.03it/s]\n"
     ]
    },
    {
     "name": "stdout",
     "output_type": "stream",
     "text": [
      "[001/003] Train Acc: 2.187641 Loss: 0.125613 | Val Acc: 0.069168 loss: 0.138700\n"
     ]
    },
    {
     "name": "stderr",
     "output_type": "stream",
     "text": [
      "100%|██████████| 2296/2296 [00:23<00:00, 98.06it/s] \n",
      "100%|██████████| 287/287 [00:01<00:00, 152.87it/s]\n"
     ]
    },
    {
     "name": "stdout",
     "output_type": "stream",
     "text": [
      "[001/003] Train Acc: 2.233083 Loss: 0.120900 | Val Acc: 0.069899 loss: 0.135259\n"
     ]
    },
    {
     "name": "stderr",
     "output_type": "stream",
     "text": [
      "100%|██████████| 2296/2296 [00:23<00:00, 98.12it/s] \n",
      "100%|██████████| 287/287 [00:01<00:00, 166.18it/s]\n"
     ]
    },
    {
     "name": "stdout",
     "output_type": "stream",
     "text": [
      "[001/003] Train Acc: 2.261724 Loss: 0.117803 | Val Acc: 0.070904 loss: 0.131202\n"
     ]
    },
    {
     "name": "stderr",
     "output_type": "stream",
     "text": [
      "100%|██████████| 2296/2296 [00:23<00:00, 97.86it/s] \n",
      "100%|██████████| 287/287 [00:01<00:00, 150.78it/s]\n"
     ]
    },
    {
     "name": "stdout",
     "output_type": "stream",
     "text": [
      "[001/003] Train Acc: 2.286059 Loss: 0.115213 | Val Acc: 0.071355 loss: 0.129337\n"
     ]
    },
    {
     "name": "stderr",
     "output_type": "stream",
     "text": [
      "100%|██████████| 2296/2296 [00:23<00:00, 97.64it/s] \n",
      "100%|██████████| 287/287 [00:01<00:00, 152.20it/s]\n"
     ]
    },
    {
     "name": "stdout",
     "output_type": "stream",
     "text": [
      "[001/003] Train Acc: 2.304964 Loss: 0.113178 | Val Acc: 0.071971 loss: 0.127512\n"
     ]
    },
    {
     "name": "stderr",
     "output_type": "stream",
     "text": [
      "100%|██████████| 2296/2296 [00:23<00:00, 96.18it/s] \n",
      "100%|██████████| 287/287 [00:01<00:00, 160.54it/s]\n"
     ]
    },
    {
     "name": "stdout",
     "output_type": "stream",
     "text": [
      "[001/003] Train Acc: 2.319907 Loss: 0.111554 | Val Acc: 0.072563 loss: 0.125665\n"
     ]
    },
    {
     "name": "stderr",
     "output_type": "stream",
     "text": [
      "100%|██████████| 2296/2296 [00:55<00:00, 41.61it/s]\n",
      "100%|██████████| 287/287 [00:07<00:00, 36.94it/s]\n"
     ]
    },
    {
     "name": "stdout",
     "output_type": "stream",
     "text": [
      "[001/003] Train Acc: 2.333628 Loss: 0.110076 | Val Acc: 0.072674 loss: 0.124563\n"
     ]
    },
    {
     "name": "stderr",
     "output_type": "stream",
     "text": [
      "100%|██████████| 2583/2583 [01:18<00:00, 32.72it/s]\n",
      "100%|██████████| 1/1 [00:00<00:00, 499.98it/s]\n"
     ]
    },
    {
     "name": "stdout",
     "output_type": "stream",
     "text": [
      "[001/003] Train Acc: 2.639048 Loss: 0.122426 | Val Acc: 0.000001 loss: 0.000013\n",
      "saving model with acc 0.000\n"
     ]
    },
    {
     "name": "stderr",
     "output_type": "stream",
     "text": [
      "100%|██████████| 2296/2296 [01:14<00:00, 30.84it/s]\n",
      "100%|██████████| 287/287 [00:09<00:00, 31.75it/s]\n"
     ]
    },
    {
     "name": "stdout",
     "output_type": "stream",
     "text": [
      "[002/003] Train Acc: 2.360379 Loss: 0.107393 | Val Acc: 0.072922 loss: 0.123355\n"
     ]
    },
    {
     "name": "stderr",
     "output_type": "stream",
     "text": [
      "100%|██████████| 2296/2296 [01:16<00:00, 30.04it/s]\n",
      "100%|██████████| 287/287 [00:08<00:00, 33.61it/s]\n"
     ]
    },
    {
     "name": "stdout",
     "output_type": "stream",
     "text": [
      "[002/003] Train Acc: 2.365111 Loss: 0.106741 | Val Acc: 0.074083 loss: 0.119390\n"
     ]
    },
    {
     "name": "stderr",
     "output_type": "stream",
     "text": [
      "100%|██████████| 2296/2296 [01:15<00:00, 30.52it/s]\n",
      "100%|██████████| 287/287 [00:09<00:00, 31.58it/s]\n"
     ]
    },
    {
     "name": "stdout",
     "output_type": "stream",
     "text": [
      "[002/003] Train Acc: 2.374327 Loss: 0.105760 | Val Acc: 0.074299 loss: 0.119174\n"
     ]
    },
    {
     "name": "stderr",
     "output_type": "stream",
     "text": [
      "100%|██████████| 2296/2296 [01:14<00:00, 30.80it/s]\n",
      "100%|██████████| 287/287 [00:09<00:00, 31.66it/s]\n"
     ]
    },
    {
     "name": "stdout",
     "output_type": "stream",
     "text": [
      "[002/003] Train Acc: 2.384547 Loss: 0.104862 | Val Acc: 0.074114 loss: 0.119293\n"
     ]
    },
    {
     "name": "stderr",
     "output_type": "stream",
     "text": [
      "100%|██████████| 2296/2296 [01:14<00:00, 30.65it/s]\n",
      "100%|██████████| 287/287 [00:08<00:00, 31.93it/s]\n"
     ]
    },
    {
     "name": "stdout",
     "output_type": "stream",
     "text": [
      "[002/003] Train Acc: 2.390066 Loss: 0.104313 | Val Acc: 0.074724 loss: 0.116925\n"
     ]
    },
    {
     "name": "stderr",
     "output_type": "stream",
     "text": [
      "100%|██████████| 2296/2296 [01:15<00:00, 30.50it/s]\n",
      "100%|██████████| 287/287 [00:08<00:00, 31.99it/s]\n"
     ]
    },
    {
     "name": "stdout",
     "output_type": "stream",
     "text": [
      "[002/003] Train Acc: 2.397592 Loss: 0.103524 | Val Acc: 0.074650 loss: 0.117093\n"
     ]
    },
    {
     "name": "stderr",
     "output_type": "stream",
     "text": [
      "100%|██████████| 2296/2296 [01:15<00:00, 30.50it/s]\n",
      "100%|██████████| 287/287 [00:09<00:00, 31.43it/s]\n"
     ]
    },
    {
     "name": "stdout",
     "output_type": "stream",
     "text": [
      "[002/003] Train Acc: 2.403947 Loss: 0.102880 | Val Acc: 0.074914 loss: 0.116534\n"
     ]
    },
    {
     "name": "stderr",
     "output_type": "stream",
     "text": [
      "100%|██████████| 2296/2296 [01:15<00:00, 30.42it/s]\n",
      "100%|██████████| 287/287 [00:09<00:00, 31.49it/s]\n"
     ]
    },
    {
     "name": "stdout",
     "output_type": "stream",
     "text": [
      "[002/003] Train Acc: 2.409311 Loss: 0.102346 | Val Acc: 0.075113 loss: 0.115809\n"
     ]
    },
    {
     "name": "stderr",
     "output_type": "stream",
     "text": [
      "100%|██████████| 2296/2296 [01:14<00:00, 30.63it/s]\n",
      "100%|██████████| 287/287 [00:09<00:00, 31.65it/s]\n"
     ]
    },
    {
     "name": "stdout",
     "output_type": "stream",
     "text": [
      "[002/003] Train Acc: 2.414302 Loss: 0.101747 | Val Acc: 0.075181 loss: 0.115608\n"
     ]
    },
    {
     "name": "stderr",
     "output_type": "stream",
     "text": [
      "100%|██████████| 2583/2583 [01:25<00:00, 30.33it/s]\n",
      "100%|██████████| 1/1 [00:00<00:00, 333.38it/s]\n"
     ]
    },
    {
     "name": "stdout",
     "output_type": "stream",
     "text": [
      "[002/003] Train Acc: 2.721980 Loss: 0.113931 | Val Acc: 0.000001 loss: 0.000008\n"
     ]
    },
    {
     "name": "stderr",
     "output_type": "stream",
     "text": [
      "100%|██████████| 2296/2296 [01:15<00:00, 30.53it/s]\n",
      "100%|██████████| 287/287 [00:09<00:00, 31.64it/s]\n"
     ]
    },
    {
     "name": "stdout",
     "output_type": "stream",
     "text": [
      "[003/003] Train Acc: 2.427796 Loss: 0.100509 | Val Acc: 0.074927 loss: 0.115907\n"
     ]
    },
    {
     "name": "stderr",
     "output_type": "stream",
     "text": [
      "100%|██████████| 2296/2296 [01:14<00:00, 30.64it/s]\n",
      "100%|██████████| 287/287 [00:09<00:00, 31.78it/s]\n"
     ]
    },
    {
     "name": "stdout",
     "output_type": "stream",
     "text": [
      "[003/003] Train Acc: 2.428660 Loss: 0.100369 | Val Acc: 0.076014 loss: 0.112580\n"
     ]
    },
    {
     "name": "stderr",
     "output_type": "stream",
     "text": [
      "100%|██████████| 2296/2296 [01:15<00:00, 30.49it/s]\n",
      "100%|██████████| 287/287 [00:08<00:00, 31.95it/s]\n"
     ]
    },
    {
     "name": "stdout",
     "output_type": "stream",
     "text": [
      "[003/003] Train Acc: 2.433605 Loss: 0.099859 | Val Acc: 0.075983 loss: 0.112870\n"
     ]
    },
    {
     "name": "stderr",
     "output_type": "stream",
     "text": [
      "100%|██████████| 2296/2296 [01:15<00:00, 30.57it/s]\n",
      "100%|██████████| 287/287 [00:08<00:00, 32.76it/s]\n"
     ]
    },
    {
     "name": "stdout",
     "output_type": "stream",
     "text": [
      "[003/003] Train Acc: 2.439255 Loss: 0.099327 | Val Acc: 0.075726 loss: 0.113594\n"
     ]
    },
    {
     "name": "stderr",
     "output_type": "stream",
     "text": [
      "100%|██████████| 2296/2296 [01:14<00:00, 30.68it/s]\n",
      "100%|██████████| 287/287 [00:08<00:00, 32.11it/s]\n"
     ]
    },
    {
     "name": "stdout",
     "output_type": "stream",
     "text": [
      "[003/003] Train Acc: 2.441974 Loss: 0.099137 | Val Acc: 0.076300 loss: 0.111214\n"
     ]
    },
    {
     "name": "stderr",
     "output_type": "stream",
     "text": [
      "100%|██████████| 2296/2296 [01:15<00:00, 30.45it/s]\n",
      "100%|██████████| 287/287 [00:08<00:00, 31.94it/s]\n"
     ]
    },
    {
     "name": "stdout",
     "output_type": "stream",
     "text": [
      "[003/003] Train Acc: 2.446244 Loss: 0.098678 | Val Acc: 0.076042 loss: 0.111785\n"
     ]
    },
    {
     "name": "stderr",
     "output_type": "stream",
     "text": [
      "100%|██████████| 2296/2296 [01:15<00:00, 30.40it/s]\n",
      "100%|██████████| 287/287 [00:09<00:00, 31.52it/s]\n"
     ]
    },
    {
     "name": "stdout",
     "output_type": "stream",
     "text": [
      "[003/003] Train Acc: 2.449530 Loss: 0.098286 | Val Acc: 0.076319 loss: 0.111527\n"
     ]
    },
    {
     "name": "stderr",
     "output_type": "stream",
     "text": [
      "100%|██████████| 2296/2296 [01:15<00:00, 30.60it/s]\n",
      "100%|██████████| 287/287 [00:09<00:00, 31.54it/s]\n"
     ]
    },
    {
     "name": "stdout",
     "output_type": "stream",
     "text": [
      "[003/003] Train Acc: 2.452710 Loss: 0.098003 | Val Acc: 0.076505 loss: 0.110757\n"
     ]
    },
    {
     "name": "stderr",
     "output_type": "stream",
     "text": [
      "100%|██████████| 2296/2296 [01:14<00:00, 30.76it/s]\n",
      "100%|██████████| 287/287 [00:08<00:00, 31.94it/s]\n"
     ]
    },
    {
     "name": "stdout",
     "output_type": "stream",
     "text": [
      "[003/003] Train Acc: 2.456262 Loss: 0.097626 | Val Acc: 0.076485 loss: 0.110974\n"
     ]
    },
    {
     "name": "stderr",
     "output_type": "stream",
     "text": [
      "100%|██████████| 2583/2583 [01:25<00:00, 30.37it/s]\n",
      "100%|██████████| 1/1 [00:00<00:00, 500.04it/s]"
     ]
    },
    {
     "name": "stdout",
     "output_type": "stream",
     "text": [
      "[003/003] Train Acc: 2.766102 Loss: 0.109535 | Val Acc: 0.000001 loss: 0.000014\n"
     ]
    },
    {
     "name": "stderr",
     "output_type": "stream",
     "text": [
      "\n"
     ]
    }
   ],
   "source": [
    "best_acc = 0.0\n",
    "for epoch in range(num_epoch):\n",
    "\n",
    "    # training\n",
    "    model.train() # set the model to training mode\n",
    "    for k in range(10):\n",
    "        train_acc = 0.0\n",
    "        train_loss = 0.0\n",
    "        val_acc = 0.0\n",
    "        val_loss = 0.0\n",
    "\n",
    "        train_acc_sum = 0\n",
    "        train_loss_sum = 0\n",
    "        val_acc_sum = 0\n",
    "        val_loss_sum = 0\n",
    "\n",
    "        for i, batch in enumerate(tqdm(train_loader[k])):\n",
    "            features, labels = batch\n",
    "            features = features.to(device)\n",
    "            labels = labels.to(device)\n",
    "\n",
    "            optimizer.zero_grad()\n",
    "            outputs = model(features)\n",
    "\n",
    "            loss = criterion(outputs, labels)\n",
    "            loss.backward()                 # backward()是建立在cross entropy的基础上的，是该类返回对象的方法\n",
    "            optimizer.step()\n",
    "\n",
    "            _, train_pred = torch.max(outputs, 1) # get the index of the class with the highest probability\n",
    "            train_acc += (train_pred.detach() == labels.detach()).sum().item()  # detach 似乎只是为了减少属性以便于执行相等判断\n",
    "            train_loss += loss.item()\n",
    "\n",
    "        # validation\n",
    "        # if len(val_set) > 0:        # 为什么要有这个if语句？\n",
    "        model.eval() # set the model to evaluation mode\n",
    "        with torch.no_grad():\n",
    "            for i, batch in enumerate(tqdm(val_loader[k])):\n",
    "                features, labels = batch\n",
    "                features = features.to(device)\n",
    "                labels = labels.to(device)\n",
    "                outputs = model(features)\n",
    "\n",
    "                loss = criterion(outputs, labels)\n",
    "\n",
    "                _, val_pred = torch.max(outputs, 1)\n",
    "                val_acc += (val_pred.cpu() == labels.cpu()).sum().item() # get the index of the class with the highest probability\n",
    "                val_loss += loss.item()\n",
    "\n",
    "        train_acc_sum = train_acc_sum + train_acc\n",
    "        train_loss_sum = train_loss_sum + train_loss\n",
    "        val_acc_sum = val_acc_sum + val_acc\n",
    "        val_loss_sum = val_loss_sum + val_loss\n",
    "\n",
    "        print('[{:03d}/{:03d}] Train Acc: {:3.6f} Loss: {:3.6f} | Val Acc: {:3.6f} loss: {:3.6f}'.format(\n",
    "            epoch + 1, num_epoch, train_acc_sum/2644158*4, train_loss_sum/(len(train_loader[0])*9+2583), val_acc_sum/2644158, val_loss_sum/(len(val_loader[0])*9+1)\n",
    "        ))\n",
    "\n",
    "\n",
    "            # if the model improves, save a checkpoint at this epoch\n",
    "    if val_acc_sum > best_acc:\n",
    "        best_acc = val_acc_sum\n",
    "        torch.save(model.state_dict(), model_path)\n",
    "        print('saving model with acc {:.3f}'.format(best_acc/2644158))\n",
    "    # else:\n",
    "    #     print('[{:03d}/{:03d}] Train Acc: {:3.6f} Loss: {:3.6f}'.format(\n",
    "    #         epoch + 1, num_epoch, train_acc/len(train_set), train_loss/len(train_loader)\n",
    "    #     ))\n",
    "\n",
    "# if not validating, save the last epoch\n",
    "# if len(val_set) == 0:\n",
    "#     torch.save(model.state_dict(), model_path)\n",
    "#     print('saving model at last epoch')\n"
   ]
  },
  {
   "cell_type": "code",
   "execution_count": 23,
   "metadata": {
    "colab": {
     "base_uri": "https://localhost:8080/"
    },
    "id": "ab33MxosWLmG",
    "outputId": "911e8c9b-fc0f-4591-b0f6-311a1231c5e2",
    "ExecuteTime": {
     "end_time": "2023-06-29T06:55:08.014340200Z",
     "start_time": "2023-06-29T06:55:07.937861Z"
    }
   },
   "outputs": [
    {
     "data": {
      "text/plain": "9"
     },
     "execution_count": 23,
     "metadata": {},
     "output_type": "execute_result"
    }
   ],
   "source": [
    "del train_loader, val_loader\n",
    "gc.collect()"
   ]
  },
  {
   "cell_type": "code",
   "execution_count": 24,
   "metadata": {
    "ExecuteTime": {
     "end_time": "2023-06-29T06:55:08.093745200Z",
     "start_time": "2023-06-29T06:55:08.077955500Z"
    }
   },
   "outputs": [
    {
     "data": {
      "text/plain": "0"
     },
     "execution_count": 24,
     "metadata": {},
     "output_type": "execute_result"
    }
   ],
   "source": [
    "del train_set   #, val_set\n",
    "gc.collect()"
   ]
  },
  {
   "attachments": {},
   "cell_type": "markdown",
   "metadata": {
    "id": "1Hi7jTn3PX-m"
   },
   "source": [
    "## Testing\n",
    "Create a testing dataset, and load model from the saved checkpoint."
   ]
  },
  {
   "cell_type": "code",
   "execution_count": 25,
   "metadata": {
    "colab": {
     "base_uri": "https://localhost:8080/"
    },
    "id": "VOG1Ou0PGrhc",
    "outputId": "abaaa25b-a93c-49b0-d228-9eca1e2ab2e0",
    "ExecuteTime": {
     "end_time": "2023-06-29T06:55:08.420670100Z",
     "start_time": "2023-06-29T06:55:08.094745600Z"
    }
   },
   "outputs": [
    {
     "name": "stdout",
     "output_type": "stream",
     "text": [
      "[Dataset] - # phone classes: 41, number of utterances for test: 1078\n"
     ]
    },
    {
     "ename": "RuntimeError",
     "evalue": "[enforce fail at C:\\cb\\pytorch_1000000000000\\work\\c10\\core\\impl\\alloc_cpu.cpp:72] data. DefaultCPUAllocator: not enough memory: you tried to allocate 6084000000 bytes.",
     "output_type": "error",
     "traceback": [
      "\u001B[1;31m---------------------------------------------------------------------------\u001B[0m",
      "\u001B[1;31mRuntimeError\u001B[0m                              Traceback (most recent call last)",
      "Cell \u001B[1;32mIn[25], line 2\u001B[0m\n\u001B[0;32m      1\u001B[0m \u001B[38;5;66;03m# load data\u001B[39;00m\n\u001B[1;32m----> 2\u001B[0m test_X \u001B[38;5;241m=\u001B[39m \u001B[43mpreprocess_data\u001B[49m\u001B[43m(\u001B[49m\u001B[43msplit\u001B[49m\u001B[38;5;241;43m=\u001B[39;49m\u001B[38;5;124;43m'\u001B[39;49m\u001B[38;5;124;43mtest\u001B[39;49m\u001B[38;5;124;43m'\u001B[39;49m\u001B[43m,\u001B[49m\u001B[43m \u001B[49m\u001B[43mfeat_dir\u001B[49m\u001B[38;5;241;43m=\u001B[39;49m\u001B[38;5;124;43m'\u001B[39;49m\u001B[38;5;124;43m./data/libriphone/libriphone/feat\u001B[39;49m\u001B[38;5;124;43m'\u001B[39;49m\u001B[43m,\u001B[49m\u001B[43m \u001B[49m\u001B[43mphone_path\u001B[49m\u001B[38;5;241;43m=\u001B[39;49m\u001B[38;5;124;43m'\u001B[39;49m\u001B[38;5;124;43m./data/libriphone/libriphone/\u001B[39;49m\u001B[38;5;124;43m'\u001B[39;49m\u001B[43m,\u001B[49m\u001B[43m \u001B[49m\u001B[43mconcat_nframes\u001B[49m\u001B[38;5;241;43m=\u001B[39;49m\u001B[43mconcat_nframes\u001B[49m\u001B[43m)\u001B[49m\n\u001B[0;32m      3\u001B[0m test_set \u001B[38;5;241m=\u001B[39m LibriDataset(test_X, \u001B[38;5;28;01mNone\u001B[39;00m)\n\u001B[0;32m      4\u001B[0m test_loader \u001B[38;5;241m=\u001B[39m DataLoader(test_set, batch_size\u001B[38;5;241m=\u001B[39mbatch_size, shuffle\u001B[38;5;241m=\u001B[39m\u001B[38;5;28;01mFalse\u001B[39;00m)\n",
      "Cell \u001B[1;32mIn[14], line 81\u001B[0m, in \u001B[0;36mpreprocess_data\u001B[1;34m(split, feat_dir, phone_path, concat_nframes, train_ratio, train_val_seed)\u001B[0m\n\u001B[0;32m     79\u001B[0m \u001B[38;5;66;03m# 以下部分将利用名单，逐个文件进行load，然后拼成1个tensor\u001B[39;00m\n\u001B[0;32m     80\u001B[0m max_len \u001B[38;5;241m=\u001B[39m \u001B[38;5;241m3000000\u001B[39m                                       \n\u001B[1;32m---> 81\u001B[0m X \u001B[38;5;241m=\u001B[39m \u001B[43mtorch\u001B[49m\u001B[38;5;241;43m.\u001B[39;49m\u001B[43mempty\u001B[49m\u001B[43m(\u001B[49m\u001B[43mmax_len\u001B[49m\u001B[43m,\u001B[49m\u001B[43m \u001B[49m\u001B[38;5;241;43m39\u001B[39;49m\u001B[43m \u001B[49m\u001B[38;5;241;43m*\u001B[39;49m\u001B[43m \u001B[49m\u001B[43mconcat_nframes\u001B[49m\u001B[43m)\u001B[49m\n\u001B[0;32m     82\u001B[0m \u001B[38;5;28;01mif\u001B[39;00m mode \u001B[38;5;241m!=\u001B[39m \u001B[38;5;124m'\u001B[39m\u001B[38;5;124mtest\u001B[39m\u001B[38;5;124m'\u001B[39m:\n\u001B[0;32m     83\u001B[0m   y \u001B[38;5;241m=\u001B[39m torch\u001B[38;5;241m.\u001B[39mempty(max_len, dtype\u001B[38;5;241m=\u001B[39mtorch\u001B[38;5;241m.\u001B[39mlong)\n",
      "\u001B[1;31mRuntimeError\u001B[0m: [enforce fail at C:\\cb\\pytorch_1000000000000\\work\\c10\\core\\impl\\alloc_cpu.cpp:72] data. DefaultCPUAllocator: not enough memory: you tried to allocate 6084000000 bytes."
     ]
    }
   ],
   "source": [
    "# load data\n",
    "test_X = preprocess_data(split='test', feat_dir='./data/libriphone/libriphone/feat', phone_path='./data/libriphone/libriphone/', concat_nframes=concat_nframes)\n",
    "test_set = LibriDataset(test_X, None)\n",
    "test_loader = DataLoader(test_set, batch_size=batch_size, shuffle=False)"
   ]
  },
  {
   "cell_type": "code",
   "execution_count": null,
   "metadata": {
    "colab": {
     "base_uri": "https://localhost:8080/"
    },
    "id": "ay0Fu8Ovkdad",
    "outputId": "e5b20aa7-4d8b-43a9-e068-f5c89706a360"
   },
   "outputs": [],
   "source": [
    "# load model\n",
    "model = Classifier(input_dim=input_dim, hidden_layers=hidden_layers, hidden_dim=hidden_dim).to(device)\n",
    "model.load_state_dict(torch.load(model_path))"
   ]
  },
  {
   "attachments": {},
   "cell_type": "markdown",
   "metadata": {
    "id": "zp-DV1p4r7Nz"
   },
   "source": [
    "Make prediction."
   ]
  },
  {
   "cell_type": "code",
   "execution_count": null,
   "metadata": {
    "colab": {
     "base_uri": "https://localhost:8080/"
    },
    "id": "84HU5GGjPqR0",
    "outputId": "cebd6694-8f74-44ff-f922-96ca4385acb8"
   },
   "outputs": [],
   "source": [
    "test_acc = 0.0\n",
    "test_lengths = 0\n",
    "pred = np.array([], dtype=np.int32)\n",
    "\n",
    "model.eval()\n",
    "with torch.no_grad():\n",
    "    for i, batch in enumerate(tqdm(test_loader)):\n",
    "        features = batch\n",
    "        features = features.to(device)\n",
    "\n",
    "        outputs = model(features)\n",
    "\n",
    "        _, test_pred = torch.max(outputs, 1) # get the index of the class with the highest probability\n",
    "        pred = np.concatenate((pred, test_pred.cpu().numpy()), axis=0)\n"
   ]
  },
  {
   "attachments": {},
   "cell_type": "markdown",
   "metadata": {
    "id": "wyZqy40Prz0v"
   },
   "source": [
    "Write prediction to a CSV file.\n",
    "\n",
    "After finish running this block, download the file `prediction.csv` from the files section on the left-hand side and submit it to Kaggle."
   ]
  },
  {
   "cell_type": "code",
   "execution_count": null,
   "metadata": {
    "id": "GuljYSPHcZir"
   },
   "outputs": [],
   "source": [
    "with open('prediction.csv', 'w') as f:\n",
    "    f.write('Id,Class\\n')\n",
    "    for i, y in enumerate(pred):\n",
    "        f.write('{},{}\\n'.format(i, y))"
   ]
  }
 ],
 "metadata": {
  "accelerator": "GPU",
  "colab": {
   "collapsed_sections": [],
   "name": "ML2022Spring - HW2.ipynb",
   "provenance": []
  },
  "kernelspec": {
   "display_name": "Python 3 (ipykernel)",
   "language": "python",
   "name": "python3"
  },
  "language_info": {
   "codemirror_mode": {
    "name": "ipython",
    "version": 3
   },
   "file_extension": ".py",
   "mimetype": "text/x-python",
   "name": "python",
   "nbconvert_exporter": "python",
   "pygments_lexer": "ipython3",
   "version": "3.10.9"
  }
 },
 "nbformat": 4,
 "nbformat_minor": 1
}
