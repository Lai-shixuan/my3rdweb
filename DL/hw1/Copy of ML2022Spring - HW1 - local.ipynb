{
 "cells": [
  {
   "cell_type": "markdown",
   "metadata": {
    "id": "6zxadcyUNU50"
   },
   "source": [
    "# **Homework 1: COVID-19 Cases Prediction (Regression)**"
   ]
  },
  {
   "cell_type": "markdown",
   "metadata": {
    "id": "Jr-De0XzNU6B"
   },
   "source": [
    "Objectives:\n",
    "* Solve a regression problem with deep neural networks (DNN).\n",
    "* Understand basic DNN training tips.\n",
    "* Familiarize yourself with PyTorch.\n",
    "\n",
    "If you have any questions, please contact the TAs via TA hours, NTU COOL, or email to mlta-2022-spring@googlegroups.com"
   ]
  },
  {
   "cell_type": "markdown",
   "metadata": {
    "id": "Tm2aXcb-j9Fc"
   },
   "source": [
    "# Download data\n",
    "If the Google Drive links below do not work, you can download data from [Kaggle](https://www.kaggle.com/t/a3ebd5b5542f0f55e828d4f00de8e59a), and upload data manually to the workspace."
   ]
  },
  {
   "cell_type": "code",
   "execution_count": 1,
   "metadata": {
    "ExecuteTime": {
     "end_time": "2023-05-04T18:35:40.986560Z",
     "start_time": "2023-05-04T18:35:40.956560Z"
    },
    "colab": {
     "base_uri": "https://localhost:8080/"
    },
    "executionInfo": {
     "elapsed": 2722,
     "status": "ok",
     "timestamp": 1678246081958,
     "user": {
      "displayName": "赖世宣",
      "userId": "13598398087408319646"
     },
     "user_tz": -480
    },
    "id": "YPmfl-awlKZA",
    "outputId": "1ca5309d-4185-439a-a02d-ab0dd8629603"
   },
   "outputs": [],
   "source": [
    "# !gdown --id '1kLSW_-cW2Huj7bh84YTdimGBOJaODiOS' --output covid.train.csv\n",
    "# !gdown --id '1iiI5qROrAhZn-o4FPqsE97bMzDEFvIdg' --output covid.test.csv"
   ]
  },
  {
   "cell_type": "markdown",
   "metadata": {
    "id": "igqIMEgu64-F"
   },
   "source": [
    "# Import packages"
   ]
  },
  {
   "cell_type": "markdown",
   "metadata": {
    "id": "fTAVqRfc2KK3"
   },
   "source": [
    "# Some Utility Functions\n",
    "\n",
    "You do not need to modify this part."
   ]
  },
  {
   "cell_type": "code",
   "execution_count": 3,
   "metadata": {
    "ExecuteTime": {
     "end_time": "2023-05-04T18:35:41.015560Z",
     "start_time": "2023-05-04T18:35:40.987560Z"
    },
    "executionInfo": {
     "elapsed": 25,
     "status": "ok",
     "timestamp": 1678246085160,
     "user": {
      "displayName": "赖世宣",
      "userId": "13598398087408319646"
     },
     "user_tz": -480
    },
    "id": "RbrcpfYN2I-H"
   },
   "outputs": [],
   "source": [
    "def same_seed(seed): \n",
    "    '''Fixes random number generator seeds for reproducibility.'''\n",
    "    torch.backends.cudnn.deterministic = True\n",
    "    torch.backends.cudnn.benchmark = False\n",
    "    np.random.seed(seed)\n",
    "    torch.manual_seed(seed)\n",
    "    if torch.cuda.is_available():\n",
    "        torch.cuda.manual_seed_all(seed)\n",
    "\n",
    "def train_valid_split(data_set, valid_ratio, seed):\n",
    "    '''Split provided training data into training set and validation set'''\n",
    "    valid_set_size = int(valid_ratio * len(data_set)) \n",
    "    train_set_size = len(data_set) - valid_set_size\n",
    "    train_set, valid_set = random_split(data_set, [train_set_size, valid_set_size], generator=torch.Generator().manual_seed(seed))\n",
    "    return np.array(train_set), np.array(valid_set)\n",
    "\n",
    "def predict(test_loader, model, device):\n",
    "    model.eval() # Set your model to evaluation mode.\n",
    "    preds = []\n",
    "    for x in tqdm(test_loader):\n",
    "        x = x.to(device)                        \n",
    "        with torch.no_grad():                   \n",
    "            pred = model(x)                     \n",
    "            preds.append(pred.detach().cpu())   \n",
    "    preds = torch.cat(preds, dim=0).numpy()  \n",
    "    return preds"
   ]
  },
  {
   "cell_type": "markdown",
   "metadata": {
    "id": "IqO3lTm78nNO"
   },
   "source": [
    "# Dataset"
   ]
  },
  {
   "cell_type": "code",
   "execution_count": 4,
   "metadata": {
    "ExecuteTime": {
     "end_time": "2023-05-04T18:35:41.027560Z",
     "start_time": "2023-05-04T18:35:41.004562Z"
    },
    "executionInfo": {
     "elapsed": 25,
     "status": "ok",
     "timestamp": 1678246085161,
     "user": {
      "displayName": "赖世宣",
      "userId": "13598398087408319646"
     },
     "user_tz": -480
    },
    "id": "-mjaJM0wprMs"
   },
   "outputs": [],
   "source": [
    "class COVID19Dataset(Dataset):\n",
    "    '''\n",
    "    x: Features.\n",
    "    y: Targets, if none, do prediction.\n",
    "    '''\n",
    "    def __init__(self, x, y=None):\n",
    "        if y is None:\n",
    "            self.y = y\n",
    "        else:\n",
    "            self.y = torch.FloatTensor(y)\n",
    "        self.x = torch.FloatTensor(x)\n",
    "\n",
    "    def __getitem__(self, idx):\n",
    "        if self.y is None:\n",
    "            return self.x[idx]\n",
    "        else:\n",
    "            return self.x[idx], self.y[idx]\n",
    "\n",
    "    def __len__(self):\n",
    "        return len(self.x)"
   ]
  },
  {
   "cell_type": "markdown",
   "metadata": {
    "id": "m73ooU75CL_j"
   },
   "source": [
    "# Neural Network Model\n",
    "Try out different model architectures by modifying the class below."
   ]
  },
  {
   "cell_type": "code",
   "execution_count": 5,
   "outputs": [],
   "source": [
    "class My_Model(nn.Module):\n",
    "    def __init__(self, input_dim):\n",
    "        super(My_Model, self).__init__()\n",
    "        # TODO: modify model's structure, be aware of dimensions.\n",
    "        self.layers = nn.Sequential(\n",
    "            nn.Linear(input_dim, 16),\n",
    "            nn.ReLU(),\n",
    "            nn.Linear(16, 8),\n",
    "            nn.ReLU(),\n",
    "            nn.Linear(8, 1)\n",
    "        )\n",
    "\n",
    "    def forward(self, x):\n",
    "        x = self.layers(x)\n",
    "        x = x.squeeze(1) # (B, 1) -> (B)\n",
    "        return x"
   ],
   "metadata": {
    "collapsed": false,
    "ExecuteTime": {
     "end_time": "2023-05-04T18:35:41.033561Z",
     "start_time": "2023-05-04T18:35:41.019560Z"
    }
   }
  },
  {
   "cell_type": "markdown",
   "metadata": {
    "id": "x5-LKF6R8xeq"
   },
   "source": [
    "# Feature Selection\n",
    "Choose features you deem useful by modifying the function below."
   ]
  },
  {
   "cell_type": "code",
   "execution_count": 6,
   "metadata": {
    "ExecuteTime": {
     "end_time": "2023-05-04T18:35:41.055560Z",
     "start_time": "2023-05-04T18:35:41.036561Z"
    },
    "executionInfo": {
     "elapsed": 387,
     "status": "ok",
     "timestamp": 1678246085525,
     "user": {
      "displayName": "赖世宣",
      "userId": "13598398087408319646"
     },
     "user_tz": -480
    },
    "id": "0FEnKRaIIeKp"
   },
   "outputs": [],
   "source": [
    "def select_feat(train_data, valid_data, test_data, select_all=True):\n",
    "    '''Selects useful features to perform regression'''\n",
    "    y_train, y_valid = train_data[:,-1], valid_data[:,-1]\n",
    "    raw_x_train, raw_x_valid, raw_x_test = train_data[:,:-1], valid_data[:,:-1], test_data\n",
    "\n",
    "    if select_all:\n",
    "        feat_idx = list(range(raw_x_train.shape[1]))\n",
    "    else:\n",
    "        feat_idx = np.concatenate((np.arange(1, 38), np.arange(38, 43), np.arange(53, 59),\n",
    "                                   np.arange(69, 75), np.arange(85, 91), np.arange(101, 107))) \\\n",
    "            # TODO: Select suitable feature columns.\n",
    "\n",
    "    return raw_x_train[:,feat_idx], raw_x_valid[:,feat_idx], raw_x_test[:,feat_idx], y_train, y_valid"
   ]
  },
  {
   "cell_type": "markdown",
   "metadata": {
    "id": "kADIPNQ2Ih5X"
   },
   "source": [
    "# Training Loop"
   ]
  },
  {
   "cell_type": "code",
   "execution_count": 2,
   "outputs": [],
   "source": [
    "# Numerical Operations\n",
    "import math\n",
    "import numpy as np\n",
    "\n",
    "# Reading/Writing Data\n",
    "import pandas as pd\n",
    "import os\n",
    "import csv\n",
    "\n",
    "# For Progress Bar\n",
    "from tqdm import tqdm\n",
    "\n",
    "# Pytorch\n",
    "import torch\n",
    "import torch.nn as nn\n",
    "from torch.utils.data import Dataset, DataLoader, random_split\n",
    "from torch.backends import cudnn\n",
    "\n",
    "# For plotting learning curve\n",
    "from torch.utils.tensorboard import SummaryWriter"
   ],
   "metadata": {
    "collapsed": false,
    "ExecuteTime": {
     "end_time": "2023-05-05T01:43:45.637456200Z",
     "start_time": "2023-05-05T01:43:44.329894800Z"
    }
   }
  },
  {
   "cell_type": "code",
   "execution_count": 7,
   "metadata": {
    "ExecuteTime": {
     "end_time": "2023-05-04T18:35:41.068561Z",
     "start_time": "2023-05-04T18:35:41.052560Z"
    },
    "executionInfo": {
     "elapsed": 9,
     "status": "ok",
     "timestamp": 1678246085527,
     "user": {
      "displayName": "赖世宣",
      "userId": "13598398087408319646"
     },
     "user_tz": -480
    },
    "id": "k4Rq8_TztAhq"
   },
   "outputs": [],
   "source": [
    "def trainer(train_loader, valid_loader, model, config, device):\n",
    "\n",
    "    criterion = nn.MSELoss(reduction='mean') # Define your loss function, do not modify this.\n",
    "\n",
    "    # Define your optimization algorithm. \n",
    "    # TODO: Please check https://pytorch.org/docs/stable/optim.html to get more available algorithms.\n",
    "    # TODO: L2 regularization (optimizer(weight decay...) or implement by your self).\n",
    "    optimizer = torch.optim.Adam(model.parameters(), lr=config['learning_rate']) \n",
    "    # optimizer = torch.optim.SGD(model.parameters(), lr=config['learning_rate'], momentum=0.9) \n",
    "\n",
    "    writer = SummaryWriter() # Writer of tensoboard.\n",
    "\n",
    "    if not os.path.isdir('./models'):\n",
    "        os.mkdir('./models') # Create directory of saving models.\n",
    "\n",
    "    n_epochs, best_loss, step, early_stop_count = config['n_epochs'], math.inf, 0, 0\n",
    "\n",
    "    for epoch in range(n_epochs):\n",
    "        model.train() # Set your model to train mode.\n",
    "        loss_record = []\n",
    "\n",
    "        # tqdm is a package to visualize your training progress.\n",
    "        train_pbar = tqdm(train_loader, position=0, leave=True)\n",
    "        for x, y in train_pbar:\n",
    "            optimizer.zero_grad()               # Set gradient to zero.\n",
    "            x, y = x.to(device), y.to(device)   # Move your data to device.\n",
    "            pred = model(x)\n",
    "            loss = criterion(pred, y)\n",
    "            loss.backward()                     # Compute gradient(backpropagation).\n",
    "            optimizer.step()                    # Update parameters.\n",
    "            step += 1\n",
    "            loss_record.append(loss.detach().item())\n",
    "            \n",
    "            # Display current epoch number and loss on tqdm progress bar.\n",
    "            # train_pbar.set_description(f'Epoch [{epoch+1}/{n_epochs}]')\n",
    "            # train_pbar.set_postfix({'loss': loss.detach().item()})\n",
    "\n",
    "        mean_train_loss = sum(loss_record)/len(loss_record)\n",
    "        writer.add_scalar('Loss/train', mean_train_loss, step)\n",
    "\n",
    "        model.eval() # Set your model to evaluation mode.\n",
    "        loss_record = []\n",
    "        for x, y in valid_loader:\n",
    "            x, y = x.to(device), y.to(device)\n",
    "            with torch.no_grad():\n",
    "                pred = model(x)\n",
    "                loss = criterion(pred, y)\n",
    "\n",
    "            loss_record.append(loss.item())\n",
    "\n",
    "        mean_valid_loss = sum(loss_record)/len(loss_record)\n",
    "        if epoch % 20 == 0:\n",
    "            print(f'Epoch [{epoch+1}/{n_epochs}]: Train loss: {mean_train_loss:.4f}, Valid loss: {mean_valid_loss:.4f}')\n",
    "            writer.add_scalar('Loss/valid', mean_valid_loss, step)\n",
    "\n",
    "        if mean_valid_loss < best_loss:\n",
    "            best_loss = mean_valid_loss\n",
    "            torch.save(model.state_dict(), config['save_path']) # Save your best model\n",
    "            print('Saving model with loss {:.3f}...'.format(best_loss))\n",
    "            early_stop_count = 0\n",
    "        else: \n",
    "            early_stop_count += 1\n",
    "\n",
    "        if early_stop_count >= config['early_stop']:\n",
    "            print('\\nModel is not improving, so we halt the training session.')\n",
    "            return"
   ]
  },
  {
   "cell_type": "markdown",
   "metadata": {
    "id": "0pgkOh2e9UjE"
   },
   "source": [
    "# Configurations\n",
    "`config` contains hyper-parameters for training and the path to save your model."
   ]
  },
  {
   "cell_type": "code",
   "execution_count": 8,
   "metadata": {
    "ExecuteTime": {
     "end_time": "2023-05-04T18:35:41.083985Z",
     "start_time": "2023-05-04T18:35:41.064560Z"
    },
    "executionInfo": {
     "elapsed": 15,
     "status": "ok",
     "timestamp": 1678246085964,
     "user": {
      "displayName": "赖世宣",
      "userId": "13598398087408319646"
     },
     "user_tz": -480
    },
    "id": "QoWPUahCtoT6"
   },
   "outputs": [],
   "source": [
    "device = 'cuda' if torch.cuda.is_available() else 'cpu'\n",
    "config = {\n",
    "    'seed': 5211314,      # Your seed number, you can pick your lucky number. :)\n",
    "    'select_all': False,   # Whether to use all features.\n",
    "    'valid_ratio': 0.2,   # validation_size = train_size * valid_ratio\n",
    "    'n_epochs': 6000,     # Number of epochs.            \n",
    "    'batch_size': 128, \n",
    "    'learning_rate': 1e-5,              \n",
    "    'early_stop': 400,    # If model has not improved for this many consecutive epochs, stop training.     \n",
    "    'save_path': './models/model.ckpt'  # Your model will be saved here.\n",
    "}"
   ]
  },
  {
   "cell_type": "markdown",
   "metadata": {
    "id": "lrS-aJJh9XkW"
   },
   "source": [
    "# Dataloader\n",
    "Read data from files and set up training, validation, and testing sets. You do not need to modify this part."
   ]
  },
  {
   "cell_type": "code",
   "execution_count": 9,
   "metadata": {
    "ExecuteTime": {
     "end_time": "2023-05-04T18:35:41.142985Z",
     "start_time": "2023-05-04T18:35:41.081985Z"
    },
    "colab": {
     "base_uri": "https://localhost:8080/"
    },
    "executionInfo": {
     "elapsed": 404,
     "status": "ok",
     "timestamp": 1678246086354,
     "user": {
      "displayName": "赖世宣",
      "userId": "13598398087408319646"
     },
     "user_tz": -480
    },
    "id": "2jc7ZfDot2t9",
    "outputId": "e727f699-061d-460e-fe8f-3edca50e88b6"
   },
   "outputs": [
    {
     "name": "stdout",
     "output_type": "stream",
     "text": [
      "train_data size: (2160, 118) \n",
      "valid_data size: (539, 118) \n",
      "test_data size: (1078, 117)\n",
      "number of features: 66\n"
     ]
    }
   ],
   "source": [
    "# Set seed for reproducibility\n",
    "same_seed(config['seed'])\n",
    "\n",
    "\n",
    "# train_data size: 2699 x 118 (id + 37 states + 16 features x 5 days) \n",
    "# test_data size: 1078 x 117 (without last day's positive rate)\n",
    "train_data, test_data = pd.read_csv('./covid.train.csv').values, pd.read_csv('./covid.test.csv').values\n",
    "train_data, valid_data = train_valid_split(train_data, config['valid_ratio'], config['seed'])\n",
    "\n",
    "# Print out the data size.\n",
    "print(f\"\"\"train_data size: {train_data.shape} \n",
    "valid_data size: {valid_data.shape} \n",
    "test_data size: {test_data.shape}\"\"\")\n",
    "\n",
    "# Select features\n",
    "x_train, x_valid, x_test, y_train, y_valid = select_feat(train_data, valid_data, test_data, config['select_all'])\n",
    "\n",
    "# Print out the number of features.\n",
    "print(f'number of features: {x_train.shape[1]}')\n",
    "\n",
    "train_dataset, valid_dataset, test_dataset = COVID19Dataset(x_train, y_train), \\\n",
    "                                            COVID19Dataset(x_valid, y_valid), \\\n",
    "                                            COVID19Dataset(x_test)\n",
    "\n",
    "# Pytorch data loader loads pytorch dataset into batches.\n",
    "train_loader = DataLoader(train_dataset, batch_size=config['batch_size'], shuffle=True, pin_memory=True)\n",
    "valid_loader = DataLoader(valid_dataset, batch_size=config['batch_size'], shuffle=True, pin_memory=True)\n",
    "test_loader = DataLoader(test_dataset, batch_size=config['batch_size'], shuffle=False, pin_memory=True)"
   ]
  },
  {
   "cell_type": "markdown",
   "metadata": {
    "id": "0OBYgjCA-YwD"
   },
   "source": [
    "# Start training!"
   ]
  },
  {
   "cell_type": "code",
   "execution_count": 10,
   "metadata": {
    "ExecuteTime": {
     "end_time": "2023-05-04T17:32:36.602080Z",
     "start_time": "2023-05-04T17:19:35.939770Z"
    },
    "colab": {
     "base_uri": "https://localhost:8080/"
    },
    "id": "YdttVRkAfu2t",
    "outputId": "c77a9ce9-f66c-4f8d-ca91-f09e0b552228"
   },
   "outputs": [
    {
     "name": "stderr",
     "output_type": "stream",
     "text": [
      "100%|██████████| 17/17 [00:02<00:00,  6.09it/s]\n"
     ]
    },
    {
     "name": "stdout",
     "output_type": "stream",
     "text": [
      "Epoch [1/6000]: Train loss: 157.0271, Valid loss: 164.6660\n",
      "Saving model with loss 164.666...\n"
     ]
    },
    {
     "name": "stderr",
     "output_type": "stream",
     "text": [
      "100%|██████████| 17/17 [00:00<00:00, 575.04it/s]\n"
     ]
    },
    {
     "name": "stdout",
     "output_type": "stream",
     "text": [
      "Saving model with loss 157.856...\n"
     ]
    },
    {
     "name": "stderr",
     "output_type": "stream",
     "text": [
      "100%|██████████| 17/17 [00:00<00:00, 326.92it/s]\n",
      "100%|██████████| 17/17 [00:00<00:00, 515.26it/s]\n"
     ]
    },
    {
     "name": "stdout",
     "output_type": "stream",
     "text": [
      "Saving model with loss 150.464...\n"
     ]
    },
    {
     "name": "stderr",
     "output_type": "stream",
     "text": [
      "100%|██████████| 17/17 [00:00<00:00, 435.89it/s]\n",
      "100%|██████████| 17/17 [00:00<00:00, 638.33it/s]\n",
      "100%|██████████| 17/17 [00:00<00:00, 330.05it/s]\n"
     ]
    },
    {
     "name": "stdout",
     "output_type": "stream",
     "text": [
      "Saving model with loss 142.408...\n"
     ]
    },
    {
     "name": "stderr",
     "output_type": "stream",
     "text": [
      "100%|██████████| 17/17 [00:00<00:00, 531.26it/s]\n",
      "100%|██████████| 17/17 [00:00<00:00, 340.00it/s]\n",
      "100%|██████████| 17/17 [00:00<00:00, 548.38it/s]\n",
      "100%|██████████| 17/17 [00:00<00:00, 531.28it/s]\n",
      "100%|██████████| 17/17 [00:00<00:00, 500.00it/s]\n",
      "100%|██████████| 17/17 [00:00<00:00, 377.78it/s]\n",
      "100%|██████████| 17/17 [00:00<00:00, 414.64it/s]\n",
      "100%|██████████| 17/17 [00:00<00:00, 531.27it/s]\n",
      "100%|██████████| 17/17 [00:00<00:00, 485.72it/s]\n",
      "100%|██████████| 17/17 [00:00<00:00, 354.17it/s]\n",
      "100%|██████████| 17/17 [00:00<00:00, 531.25it/s]\n"
     ]
    },
    {
     "name": "stdout",
     "output_type": "stream",
     "text": [
      "Saving model with loss 140.448...\n"
     ]
    },
    {
     "name": "stderr",
     "output_type": "stream",
     "text": [
      "100%|██████████| 17/17 [00:00<00:00, 346.94it/s]\n",
      "100%|██████████| 17/17 [00:00<00:00, 515.14it/s]\n",
      "100%|██████████| 17/17 [00:00<00:00, 447.37it/s]\n"
     ]
    },
    {
     "name": "stdout",
     "output_type": "stream",
     "text": [
      "Epoch [21/6000]: Train loss: 145.4581, Valid loss: 145.7254\n"
     ]
    },
    {
     "name": "stderr",
     "output_type": "stream",
     "text": [
      "100%|██████████| 17/17 [00:00<00:00, 377.79it/s]\n",
      "100%|██████████| 17/17 [00:00<00:00, 500.00it/s]\n",
      "100%|██████████| 17/17 [00:00<00:00, 340.00it/s]\n"
     ]
    },
    {
     "name": "stdout",
     "output_type": "stream",
     "text": [
      "Saving model with loss 137.087...\n"
     ]
    },
    {
     "name": "stderr",
     "output_type": "stream",
     "text": [
      "100%|██████████| 17/17 [00:00<00:00, 459.47it/s]\n",
      "100%|██████████| 17/17 [00:00<00:00, 333.34it/s]\n",
      "100%|██████████| 17/17 [00:00<00:00, 515.16it/s]\n",
      "100%|██████████| 17/17 [00:00<00:00, 346.94it/s]\n",
      "100%|██████████| 17/17 [00:00<00:00, 680.80it/s]\n",
      "100%|██████████| 17/17 [00:00<00:00, 435.90it/s]\n",
      "100%|██████████| 17/17 [00:00<00:00, 485.71it/s]\n"
     ]
    },
    {
     "name": "stdout",
     "output_type": "stream",
     "text": [
      "Saving model with loss 133.564...\n"
     ]
    },
    {
     "name": "stderr",
     "output_type": "stream",
     "text": [
      "100%|██████████| 17/17 [00:00<00:00, 500.00it/s]\n",
      "100%|██████████| 17/17 [00:00<00:00, 340.00it/s]\n",
      "100%|██████████| 17/17 [00:00<00:00, 342.94it/s]\n",
      "100%|██████████| 17/17 [00:00<00:00, 346.94it/s]\n",
      "100%|██████████| 17/17 [00:00<00:00, 708.33it/s]\n",
      "100%|██████████| 17/17 [00:00<00:00, 485.72it/s]\n",
      "100%|██████████| 17/17 [00:00<00:00, 377.78it/s]\n",
      "100%|██████████| 17/17 [00:00<00:00, 404.76it/s]\n",
      "100%|██████████| 17/17 [00:00<00:00, 435.90it/s]\n"
     ]
    },
    {
     "name": "stdout",
     "output_type": "stream",
     "text": [
      "Saving model with loss 133.105...\n"
     ]
    },
    {
     "name": "stderr",
     "output_type": "stream",
     "text": [
      "100%|██████████| 17/17 [00:00<00:00, 548.39it/s]\n"
     ]
    },
    {
     "name": "stdout",
     "output_type": "stream",
     "text": [
      "Epoch [41/6000]: Train loss: 136.0885, Valid loss: 135.2835\n"
     ]
    },
    {
     "name": "stderr",
     "output_type": "stream",
     "text": [
      "100%|██████████| 17/17 [00:00<00:00, 607.17it/s]\n",
      "100%|██████████| 17/17 [00:00<00:00, 346.93it/s]\n"
     ]
    },
    {
     "name": "stdout",
     "output_type": "stream",
     "text": [
      "Saving model with loss 131.598...\n"
     ]
    },
    {
     "name": "stderr",
     "output_type": "stream",
     "text": [
      "100%|██████████| 17/17 [00:00<00:00, 314.81it/s]\n",
      "100%|██████████| 17/17 [00:00<00:00, 319.59it/s]\n",
      "100%|██████████| 17/17 [00:00<00:00, 333.34it/s]\n",
      "100%|██████████| 17/17 [00:00<00:00, 447.38it/s]\n",
      "100%|██████████| 17/17 [00:00<00:00, 309.09it/s]\n",
      "100%|██████████| 17/17 [00:00<00:00, 485.72it/s]\n",
      "100%|██████████| 17/17 [00:00<00:00, 340.00it/s]\n"
     ]
    },
    {
     "name": "stdout",
     "output_type": "stream",
     "text": [
      "Saving model with loss 126.092...\n"
     ]
    },
    {
     "name": "stderr",
     "output_type": "stream",
     "text": [
      "100%|██████████| 17/17 [00:00<00:00, 404.76it/s]\n"
     ]
    },
    {
     "name": "stdout",
     "output_type": "stream",
     "text": [
      "Saving model with loss 125.731...\n"
     ]
    },
    {
     "name": "stderr",
     "output_type": "stream",
     "text": [
      "100%|██████████| 17/17 [00:00<00:00, 653.87it/s]\n",
      "100%|██████████| 17/17 [00:00<00:00, 485.72it/s]\n",
      "100%|██████████| 17/17 [00:00<00:00, 500.00it/s]\n",
      "100%|██████████| 17/17 [00:00<00:00, 309.09it/s]\n",
      "100%|██████████| 17/17 [00:00<00:00, 414.64it/s]\n",
      "100%|██████████| 17/17 [00:00<00:00, 607.12it/s]\n"
     ]
    },
    {
     "name": "stdout",
     "output_type": "stream",
     "text": [
      "Saving model with loss 122.259...\n"
     ]
    },
    {
     "name": "stderr",
     "output_type": "stream",
     "text": [
      "100%|██████████| 17/17 [00:00<00:00, 435.90it/s]\n",
      "100%|██████████| 17/17 [00:00<00:00, 515.15it/s]\n",
      "100%|██████████| 17/17 [00:00<00:00, 369.56it/s]\n",
      "100%|██████████| 17/17 [00:00<00:00, 320.75it/s]\n"
     ]
    },
    {
     "name": "stdout",
     "output_type": "stream",
     "text": [
      "Epoch [61/6000]: Train loss: 127.3346, Valid loss: 126.1981\n"
     ]
    },
    {
     "name": "stderr",
     "output_type": "stream",
     "text": [
      "100%|██████████| 17/17 [00:00<00:00, 354.17it/s]\n"
     ]
    },
    {
     "name": "stdout",
     "output_type": "stream",
     "text": [
      "Saving model with loss 117.528...\n"
     ]
    },
    {
     "name": "stderr",
     "output_type": "stream",
     "text": [
      "100%|██████████| 17/17 [00:00<00:00, 309.09it/s]\n",
      "100%|██████████| 17/17 [00:00<00:00, 333.34it/s]\n",
      "100%|██████████| 17/17 [00:00<00:00, 472.22it/s]\n",
      "100%|██████████| 17/17 [00:00<00:00, 708.31it/s]\n",
      "100%|██████████| 17/17 [00:00<00:00, 708.36it/s]\n",
      "100%|██████████| 17/17 [00:00<00:00, 680.00it/s]\n",
      "100%|██████████| 17/17 [00:00<00:00, 653.83it/s]\n",
      "100%|██████████| 17/17 [00:00<00:00, 653.86it/s]\n",
      "100%|██████████| 17/17 [00:00<00:00, 653.84it/s]\n"
     ]
    },
    {
     "name": "stdout",
     "output_type": "stream",
     "text": [
      "Saving model with loss 115.508...\n"
     ]
    },
    {
     "name": "stderr",
     "output_type": "stream",
     "text": [
      "100%|██████████| 17/17 [00:00<00:00, 629.64it/s]\n",
      "100%|██████████| 17/17 [00:00<00:00, 607.14it/s]\n",
      "100%|██████████| 17/17 [00:00<00:00, 586.22it/s]\n",
      "100%|██████████| 17/17 [00:00<00:00, 607.14it/s]\n",
      "100%|██████████| 17/17 [00:00<00:00, 653.85it/s]\n",
      "100%|██████████| 17/17 [00:00<00:00, 626.98it/s]\n",
      "100%|██████████| 17/17 [00:00<00:00, 586.21it/s]\n",
      "100%|██████████| 17/17 [00:00<00:00, 680.00it/s]\n",
      "100%|██████████| 17/17 [00:00<00:00, 680.02it/s]\n",
      "100%|██████████| 17/17 [00:00<00:00, 680.00it/s]\n"
     ]
    },
    {
     "name": "stdout",
     "output_type": "stream",
     "text": [
      "Epoch [81/6000]: Train loss: 118.9196, Valid loss: 110.2030\n",
      "Saving model with loss 110.203...\n"
     ]
    },
    {
     "name": "stderr",
     "output_type": "stream",
     "text": [
      "100%|██████████| 17/17 [00:00<00:00, 653.84it/s]\n",
      "100%|██████████| 17/17 [00:00<00:00, 653.85it/s]\n",
      "100%|██████████| 17/17 [00:00<00:00, 629.65it/s]\n",
      "100%|██████████| 17/17 [00:00<00:00, 708.32it/s]\n",
      "100%|██████████| 17/17 [00:00<00:00, 629.62it/s]\n",
      "100%|██████████| 17/17 [00:00<00:00, 680.00it/s]\n",
      "100%|██████████| 17/17 [00:00<00:00, 586.23it/s]\n",
      "100%|██████████| 17/17 [00:00<00:00, 629.61it/s]\n"
     ]
    },
    {
     "name": "stdout",
     "output_type": "stream",
     "text": [
      "Saving model with loss 107.134...\n"
     ]
    },
    {
     "name": "stderr",
     "output_type": "stream",
     "text": [
      "100%|██████████| 17/17 [00:00<00:00, 629.64it/s]\n",
      "100%|██████████| 17/17 [00:00<00:00, 629.63it/s]\n",
      "100%|██████████| 17/17 [00:00<00:00, 708.33it/s]\n",
      "100%|██████████| 17/17 [00:00<00:00, 680.20it/s]\n",
      "100%|██████████| 17/17 [00:00<00:00, 629.64it/s]\n",
      "100%|██████████| 17/17 [00:00<00:00, 629.62it/s]\n",
      "100%|██████████| 17/17 [00:00<00:00, 679.99it/s]\n"
     ]
    },
    {
     "name": "stdout",
     "output_type": "stream",
     "text": [
      "Saving model with loss 106.398...\n"
     ]
    },
    {
     "name": "stderr",
     "output_type": "stream",
     "text": [
      "100%|██████████| 17/17 [00:00<00:00, 653.85it/s]\n",
      "100%|██████████| 17/17 [00:00<00:00, 653.85it/s]\n",
      "100%|██████████| 17/17 [00:00<00:00, 447.36it/s]\n",
      "100%|██████████| 17/17 [00:00<00:00, 326.93it/s]\n",
      "100%|██████████| 17/17 [00:00<00:00, 309.09it/s]\n"
     ]
    },
    {
     "name": "stdout",
     "output_type": "stream",
     "text": [
      "Epoch [101/6000]: Train loss: 109.8928, Valid loss: 114.7801\n"
     ]
    },
    {
     "name": "stderr",
     "output_type": "stream",
     "text": [
      "100%|██████████| 17/17 [00:00<00:00, 298.24it/s]\n"
     ]
    },
    {
     "name": "stdout",
     "output_type": "stream",
     "text": [
      "Saving model with loss 103.726...\n"
     ]
    },
    {
     "name": "stderr",
     "output_type": "stream",
     "text": [
      "100%|██████████| 17/17 [00:00<00:00, 404.76it/s]\n",
      "100%|██████████| 17/17 [00:00<00:00, 629.64it/s]\n",
      "100%|██████████| 17/17 [00:00<00:00, 531.24it/s]\n"
     ]
    },
    {
     "name": "stdout",
     "output_type": "stream",
     "text": [
      "Saving model with loss 102.643...\n"
     ]
    },
    {
     "name": "stderr",
     "output_type": "stream",
     "text": [
      "100%|██████████| 17/17 [00:00<00:00, 531.24it/s]\n"
     ]
    },
    {
     "name": "stdout",
     "output_type": "stream",
     "text": [
      "Saving model with loss 102.550...\n"
     ]
    },
    {
     "name": "stderr",
     "output_type": "stream",
     "text": [
      "100%|██████████| 17/17 [00:00<00:00, 604.95it/s]\n",
      "100%|██████████| 17/17 [00:00<00:00, 566.67it/s]\n",
      "100%|██████████| 17/17 [00:00<00:00, 566.67it/s]\n",
      "100%|██████████| 17/17 [00:00<00:00, 607.14it/s]\n",
      "100%|██████████| 17/17 [00:00<00:00, 566.67it/s]\n",
      "100%|██████████| 17/17 [00:00<00:00, 607.14it/s]\n",
      "100%|██████████| 17/17 [00:00<00:00, 586.21it/s]\n"
     ]
    },
    {
     "name": "stdout",
     "output_type": "stream",
     "text": [
      "Saving model with loss 98.056...\n"
     ]
    },
    {
     "name": "stderr",
     "output_type": "stream",
     "text": [
      "100%|██████████| 17/17 [00:00<00:00, 586.21it/s]\n",
      "100%|██████████| 17/17 [00:00<00:00, 531.25it/s]\n"
     ]
    },
    {
     "name": "stdout",
     "output_type": "stream",
     "text": [
      "Saving model with loss 95.371...\n"
     ]
    },
    {
     "name": "stderr",
     "output_type": "stream",
     "text": [
      "100%|██████████| 17/17 [00:00<00:00, 653.85it/s]\n",
      "100%|██████████| 17/17 [00:00<00:00, 485.73it/s]\n",
      "100%|██████████| 17/17 [00:00<00:00, 274.20it/s]\n",
      "100%|██████████| 17/17 [00:00<00:00, 283.34it/s]\n",
      "100%|██████████| 17/17 [00:00<00:00, 566.66it/s]\n",
      "100%|██████████| 17/17 [00:00<00:00, 548.39it/s]\n"
     ]
    },
    {
     "name": "stdout",
     "output_type": "stream",
     "text": [
      "Epoch [121/6000]: Train loss: 101.0596, Valid loss: 102.1553\n"
     ]
    },
    {
     "name": "stderr",
     "output_type": "stream",
     "text": [
      "100%|██████████| 17/17 [00:00<00:00, 739.12it/s]\n",
      "100%|██████████| 17/17 [00:00<00:00, 653.85it/s]\n",
      "100%|██████████| 17/17 [00:00<00:00, 653.83it/s]\n",
      "100%|██████████| 17/17 [00:00<00:00, 548.40it/s]\n",
      "100%|██████████| 17/17 [00:00<00:00, 531.25it/s]\n",
      "100%|██████████| 17/17 [00:00<00:00, 548.40it/s]\n",
      "100%|██████████| 17/17 [00:00<00:00, 548.39it/s]\n",
      "100%|██████████| 17/17 [00:00<00:00, 653.83it/s]\n"
     ]
    },
    {
     "name": "stdout",
     "output_type": "stream",
     "text": [
      "Saving model with loss 94.863...\n"
     ]
    },
    {
     "name": "stderr",
     "output_type": "stream",
     "text": [
      "100%|██████████| 17/17 [00:00<00:00, 564.73it/s]\n"
     ]
    },
    {
     "name": "stdout",
     "output_type": "stream",
     "text": [
      "Saving model with loss 90.310...\n"
     ]
    },
    {
     "name": "stderr",
     "output_type": "stream",
     "text": [
      "100%|██████████| 17/17 [00:00<00:00, 548.38it/s]\n",
      "100%|██████████| 17/17 [00:00<00:00, 548.38it/s]\n",
      "100%|██████████| 17/17 [00:00<00:00, 548.39it/s]\n",
      "100%|██████████| 17/17 [00:00<00:00, 653.83it/s]\n",
      "100%|██████████| 17/17 [00:00<00:00, 629.64it/s]\n",
      "100%|██████████| 17/17 [00:00<00:00, 531.26it/s]\n",
      "100%|██████████| 17/17 [00:00<00:00, 548.39it/s]\n",
      "100%|██████████| 17/17 [00:00<00:00, 531.26it/s]\n",
      "100%|██████████| 17/17 [00:00<00:00, 548.39it/s]\n"
     ]
    },
    {
     "name": "stdout",
     "output_type": "stream",
     "text": [
      "Saving model with loss 89.213...\n"
     ]
    },
    {
     "name": "stderr",
     "output_type": "stream",
     "text": [
      "100%|██████████| 17/17 [00:00<00:00, 680.02it/s]\n"
     ]
    },
    {
     "name": "stdout",
     "output_type": "stream",
     "text": [
      "Saving model with loss 88.666...\n"
     ]
    },
    {
     "name": "stderr",
     "output_type": "stream",
     "text": [
      "100%|██████████| 17/17 [00:00<00:00, 566.68it/s]\n"
     ]
    },
    {
     "name": "stdout",
     "output_type": "stream",
     "text": [
      "Epoch [141/6000]: Train loss: 91.8118, Valid loss: 89.0745\n"
     ]
    },
    {
     "name": "stderr",
     "output_type": "stream",
     "text": [
      "100%|██████████| 17/17 [00:00<00:00, 548.39it/s]\n",
      "100%|██████████| 17/17 [00:00<00:00, 653.85it/s]\n",
      "100%|██████████| 17/17 [00:00<00:00, 680.00it/s]\n",
      "100%|██████████| 17/17 [00:00<00:00, 739.14it/s]\n",
      "100%|██████████| 17/17 [00:00<00:00, 739.14it/s]\n"
     ]
    },
    {
     "name": "stdout",
     "output_type": "stream",
     "text": [
      "Saving model with loss 86.412...\n"
     ]
    },
    {
     "name": "stderr",
     "output_type": "stream",
     "text": [
      "100%|██████████| 17/17 [00:00<00:00, 739.12it/s]\n",
      "100%|██████████| 17/17 [00:00<00:00, 629.62it/s]\n",
      "100%|██████████| 17/17 [00:00<00:00, 708.34it/s]\n",
      "100%|██████████| 17/17 [00:00<00:00, 739.14it/s]\n",
      "100%|██████████| 17/17 [00:00<00:00, 772.72it/s]\n"
     ]
    },
    {
     "name": "stdout",
     "output_type": "stream",
     "text": [
      "Saving model with loss 85.669...\n"
     ]
    },
    {
     "name": "stderr",
     "output_type": "stream",
     "text": [
      "100%|██████████| 17/17 [00:00<00:00, 708.33it/s]\n"
     ]
    },
    {
     "name": "stdout",
     "output_type": "stream",
     "text": [
      "Saving model with loss 85.172...\n"
     ]
    },
    {
     "name": "stderr",
     "output_type": "stream",
     "text": [
      "100%|██████████| 17/17 [00:00<00:00, 629.61it/s]\n",
      "100%|██████████| 17/17 [00:00<00:00, 653.83it/s]\n",
      "100%|██████████| 17/17 [00:00<00:00, 708.34it/s]\n"
     ]
    },
    {
     "name": "stdout",
     "output_type": "stream",
     "text": [
      "Saving model with loss 82.693...\n"
     ]
    },
    {
     "name": "stderr",
     "output_type": "stream",
     "text": [
      "100%|██████████| 17/17 [00:00<00:00, 739.12it/s]\n",
      "100%|██████████| 17/17 [00:00<00:00, 739.14it/s]\n",
      "100%|██████████| 17/17 [00:00<00:00, 739.12it/s]\n",
      "100%|██████████| 17/17 [00:00<00:00, 653.85it/s]\n",
      "100%|██████████| 17/17 [00:00<00:00, 653.85it/s]\n",
      "100%|██████████| 17/17 [00:00<00:00, 772.71it/s]\n"
     ]
    },
    {
     "name": "stdout",
     "output_type": "stream",
     "text": [
      "Epoch [161/6000]: Train loss: 82.4923, Valid loss: 75.7788\n",
      "Saving model with loss 75.779...\n"
     ]
    },
    {
     "name": "stderr",
     "output_type": "stream",
     "text": [
      "100%|██████████| 17/17 [00:00<00:00, 739.15it/s]\n",
      "100%|██████████| 17/17 [00:00<00:00, 708.31it/s]\n",
      "100%|██████████| 17/17 [00:00<00:00, 629.64it/s]\n",
      "100%|██████████| 17/17 [00:00<00:00, 680.00it/s]\n",
      "100%|██████████| 17/17 [00:00<00:00, 739.12it/s]\n",
      "100%|██████████| 17/17 [00:00<00:00, 708.33it/s]\n",
      "100%|██████████| 17/17 [00:00<00:00, 680.00it/s]\n",
      "100%|██████████| 17/17 [00:00<00:00, 679.98it/s]\n",
      "100%|██████████| 17/17 [00:00<00:00, 679.99it/s]\n",
      "100%|██████████| 17/17 [00:00<00:00, 739.12it/s]\n",
      "100%|██████████| 17/17 [00:00<00:00, 739.13it/s]\n"
     ]
    },
    {
     "name": "stdout",
     "output_type": "stream",
     "text": [
      "Saving model with loss 72.598...\n"
     ]
    },
    {
     "name": "stderr",
     "output_type": "stream",
     "text": [
      "100%|██████████| 17/17 [00:00<00:00, 739.12it/s]\n",
      "100%|██████████| 17/17 [00:00<00:00, 653.83it/s]\n",
      "100%|██████████| 17/17 [00:00<00:00, 708.33it/s]\n",
      "100%|██████████| 17/17 [00:00<00:00, 739.14it/s]\n"
     ]
    },
    {
     "name": "stdout",
     "output_type": "stream",
     "text": [
      "Saving model with loss 72.528...\n"
     ]
    },
    {
     "name": "stderr",
     "output_type": "stream",
     "text": [
      "100%|██████████| 17/17 [00:00<00:00, 739.12it/s]\n",
      "100%|██████████| 17/17 [00:00<00:00, 708.34it/s]\n",
      "100%|██████████| 17/17 [00:00<00:00, 607.13it/s]\n"
     ]
    },
    {
     "name": "stdout",
     "output_type": "stream",
     "text": [
      "Saving model with loss 70.073...\n"
     ]
    },
    {
     "name": "stderr",
     "output_type": "stream",
     "text": [
      "100%|██████████| 17/17 [00:00<00:00, 680.00it/s]\n",
      "100%|██████████| 17/17 [00:00<00:00, 680.01it/s]\n"
     ]
    },
    {
     "name": "stdout",
     "output_type": "stream",
     "text": [
      "Epoch [181/6000]: Train loss: 73.0448, Valid loss: 74.6246\n"
     ]
    },
    {
     "name": "stderr",
     "output_type": "stream",
     "text": [
      "100%|██████████| 17/17 [00:00<00:00, 772.72it/s]\n"
     ]
    },
    {
     "name": "stdout",
     "output_type": "stream",
     "text": [
      "Saving model with loss 69.063...\n"
     ]
    },
    {
     "name": "stderr",
     "output_type": "stream",
     "text": [
      "100%|██████████| 17/17 [00:00<00:00, 739.13it/s]\n",
      "100%|██████████| 17/17 [00:00<00:00, 548.38it/s]\n",
      "100%|██████████| 17/17 [00:00<00:00, 739.14it/s]\n",
      "100%|██████████| 17/17 [00:00<00:00, 653.84it/s]\n"
     ]
    },
    {
     "name": "stdout",
     "output_type": "stream",
     "text": [
      "Saving model with loss 66.336...\n"
     ]
    },
    {
     "name": "stderr",
     "output_type": "stream",
     "text": [
      "100%|██████████| 17/17 [00:00<00:00, 680.00it/s]\n",
      "100%|██████████| 17/17 [00:00<00:00, 708.34it/s]\n",
      "100%|██████████| 17/17 [00:00<00:00, 772.72it/s]\n",
      "100%|██████████| 17/17 [00:00<00:00, 739.15it/s]\n"
     ]
    },
    {
     "name": "stdout",
     "output_type": "stream",
     "text": [
      "Saving model with loss 65.391...\n"
     ]
    },
    {
     "name": "stderr",
     "output_type": "stream",
     "text": [
      "100%|██████████| 17/17 [00:00<00:00, 653.83it/s]\n",
      "100%|██████████| 17/17 [00:00<00:00, 680.00it/s]\n",
      "100%|██████████| 17/17 [00:00<00:00, 739.12it/s]\n",
      "100%|██████████| 17/17 [00:00<00:00, 774.50it/s]\n",
      "100%|██████████| 17/17 [00:00<00:00, 708.34it/s]\n",
      "100%|██████████| 17/17 [00:00<00:00, 640.01it/s]\n"
     ]
    },
    {
     "name": "stdout",
     "output_type": "stream",
     "text": [
      "Saving model with loss 63.818...\n"
     ]
    },
    {
     "name": "stderr",
     "output_type": "stream",
     "text": [
      "100%|██████████| 17/17 [00:00<00:00, 680.00it/s]\n",
      "100%|██████████| 17/17 [00:00<00:00, 739.12it/s]\n",
      "100%|██████████| 17/17 [00:00<00:00, 739.12it/s]\n",
      "100%|██████████| 17/17 [00:00<00:00, 680.08it/s]\n",
      "100%|██████████| 17/17 [00:00<00:00, 640.41it/s]\n"
     ]
    },
    {
     "name": "stdout",
     "output_type": "stream",
     "text": [
      "Epoch [201/6000]: Train loss: 63.8139, Valid loss: 65.3283\n"
     ]
    },
    {
     "name": "stderr",
     "output_type": "stream",
     "text": [
      "100%|██████████| 17/17 [00:00<00:00, 676.95it/s]\n"
     ]
    },
    {
     "name": "stdout",
     "output_type": "stream",
     "text": [
      "Saving model with loss 61.305...\n"
     ]
    },
    {
     "name": "stderr",
     "output_type": "stream",
     "text": [
      "100%|██████████| 17/17 [00:00<00:00, 772.72it/s]\n"
     ]
    },
    {
     "name": "stdout",
     "output_type": "stream",
     "text": [
      "Saving model with loss 61.080...\n"
     ]
    },
    {
     "name": "stderr",
     "output_type": "stream",
     "text": [
      "100%|██████████| 17/17 [00:00<00:00, 702.78it/s]\n",
      "100%|██████████| 17/17 [00:00<00:00, 708.32it/s]\n"
     ]
    },
    {
     "name": "stdout",
     "output_type": "stream",
     "text": [
      "Saving model with loss 58.714...\n"
     ]
    },
    {
     "name": "stderr",
     "output_type": "stream",
     "text": [
      "100%|██████████| 17/17 [00:00<00:00, 653.86it/s]\n",
      "100%|██████████| 17/17 [00:00<00:00, 676.74it/s]\n",
      "100%|██████████| 17/17 [00:00<00:00, 665.53it/s]\n",
      "100%|██████████| 17/17 [00:00<00:00, 622.96it/s]\n",
      "100%|██████████| 17/17 [00:00<00:00, 739.15it/s]\n",
      "100%|██████████| 17/17 [00:00<00:00, 708.35it/s]\n"
     ]
    },
    {
     "name": "stdout",
     "output_type": "stream",
     "text": [
      "Saving model with loss 55.042...\n"
     ]
    },
    {
     "name": "stderr",
     "output_type": "stream",
     "text": [
      "100%|██████████| 17/17 [00:00<00:00, 653.84it/s]\n",
      "100%|██████████| 17/17 [00:00<00:00, 629.63it/s]\n",
      "100%|██████████| 17/17 [00:00<00:00, 680.02it/s]\n",
      "100%|██████████| 17/17 [00:00<00:00, 663.87it/s]\n",
      "100%|██████████| 17/17 [00:00<00:00, 708.34it/s]\n",
      "100%|██████████| 17/17 [00:00<00:00, 739.14it/s]\n",
      "100%|██████████| 17/17 [00:00<00:00, 739.14it/s]\n"
     ]
    },
    {
     "name": "stdout",
     "output_type": "stream",
     "text": [
      "Saving model with loss 54.713...\n"
     ]
    },
    {
     "name": "stderr",
     "output_type": "stream",
     "text": [
      "100%|██████████| 17/17 [00:00<00:00, 629.63it/s]\n",
      "100%|██████████| 17/17 [00:00<00:00, 653.85it/s]\n",
      "100%|██████████| 17/17 [00:00<00:00, 653.86it/s]\n"
     ]
    },
    {
     "name": "stdout",
     "output_type": "stream",
     "text": [
      "Epoch [221/6000]: Train loss: 55.2768, Valid loss: 53.2118\n",
      "Saving model with loss 53.212...\n"
     ]
    },
    {
     "name": "stderr",
     "output_type": "stream",
     "text": [
      "100%|██████████| 17/17 [00:00<00:00, 739.14it/s]\n",
      "100%|██████████| 17/17 [00:00<00:00, 739.14it/s]\n",
      "100%|██████████| 17/17 [00:00<00:00, 680.00it/s]\n",
      "100%|██████████| 17/17 [00:00<00:00, 653.85it/s]\n",
      "100%|██████████| 17/17 [00:00<00:00, 653.85it/s]\n",
      "100%|██████████| 17/17 [00:00<00:00, 708.34it/s]\n"
     ]
    },
    {
     "name": "stdout",
     "output_type": "stream",
     "text": [
      "Saving model with loss 52.112...\n"
     ]
    },
    {
     "name": "stderr",
     "output_type": "stream",
     "text": [
      "100%|██████████| 17/17 [00:00<00:00, 680.03it/s]\n"
     ]
    },
    {
     "name": "stdout",
     "output_type": "stream",
     "text": [
      "Saving model with loss 50.930...\n"
     ]
    },
    {
     "name": "stderr",
     "output_type": "stream",
     "text": [
      "100%|██████████| 17/17 [00:00<00:00, 679.98it/s]\n",
      "100%|██████████| 17/17 [00:00<00:00, 708.36it/s]\n"
     ]
    },
    {
     "name": "stdout",
     "output_type": "stream",
     "text": [
      "Saving model with loss 47.959...\n"
     ]
    },
    {
     "name": "stderr",
     "output_type": "stream",
     "text": [
      "100%|██████████| 17/17 [00:00<00:00, 708.34it/s]\n",
      "100%|██████████| 17/17 [00:00<00:00, 629.63it/s]\n"
     ]
    },
    {
     "name": "stdout",
     "output_type": "stream",
     "text": [
      "Saving model with loss 47.536...\n"
     ]
    },
    {
     "name": "stderr",
     "output_type": "stream",
     "text": [
      "100%|██████████| 17/17 [00:00<00:00, 739.13it/s]\n",
      "100%|██████████| 17/17 [00:00<00:00, 629.60it/s]\n",
      "100%|██████████| 17/17 [00:00<00:00, 680.00it/s]\n"
     ]
    },
    {
     "name": "stdout",
     "output_type": "stream",
     "text": [
      "Saving model with loss 47.355...\n"
     ]
    },
    {
     "name": "stderr",
     "output_type": "stream",
     "text": [
      "100%|██████████| 17/17 [00:00<00:00, 653.84it/s]\n",
      "100%|██████████| 17/17 [00:00<00:00, 739.12it/s]\n",
      "100%|██████████| 17/17 [00:00<00:00, 708.33it/s]\n",
      "100%|██████████| 17/17 [00:00<00:00, 708.34it/s]\n"
     ]
    },
    {
     "name": "stdout",
     "output_type": "stream",
     "text": [
      "Saving model with loss 45.686...\n"
     ]
    },
    {
     "name": "stderr",
     "output_type": "stream",
     "text": [
      "100%|██████████| 17/17 [00:00<00:00, 629.63it/s]\n"
     ]
    },
    {
     "name": "stdout",
     "output_type": "stream",
     "text": [
      "Saving model with loss 45.509...\n"
     ]
    },
    {
     "name": "stderr",
     "output_type": "stream",
     "text": [
      "100%|██████████| 17/17 [00:00<00:00, 708.36it/s]\n"
     ]
    },
    {
     "name": "stdout",
     "output_type": "stream",
     "text": [
      "Epoch [241/6000]: Train loss: 47.3879, Valid loss: 47.7937\n"
     ]
    },
    {
     "name": "stderr",
     "output_type": "stream",
     "text": [
      "100%|██████████| 17/17 [00:00<00:00, 607.16it/s]\n"
     ]
    },
    {
     "name": "stdout",
     "output_type": "stream",
     "text": [
      "Saving model with loss 44.707...\n"
     ]
    },
    {
     "name": "stderr",
     "output_type": "stream",
     "text": [
      "100%|██████████| 17/17 [00:00<00:00, 679.99it/s]\n",
      "100%|██████████| 17/17 [00:00<00:00, 679.99it/s]\n",
      "100%|██████████| 17/17 [00:00<00:00, 708.34it/s]\n",
      "100%|██████████| 17/17 [00:00<00:00, 708.34it/s]\n",
      "100%|██████████| 17/17 [00:00<00:00, 680.00it/s]\n"
     ]
    },
    {
     "name": "stdout",
     "output_type": "stream",
     "text": [
      "Saving model with loss 43.892...\n"
     ]
    },
    {
     "name": "stderr",
     "output_type": "stream",
     "text": [
      "100%|██████████| 17/17 [00:00<00:00, 629.65it/s]\n"
     ]
    },
    {
     "name": "stdout",
     "output_type": "stream",
     "text": [
      "Saving model with loss 42.585...\n"
     ]
    },
    {
     "name": "stderr",
     "output_type": "stream",
     "text": [
      "100%|██████████| 17/17 [00:00<00:00, 653.85it/s]\n",
      "100%|██████████| 17/17 [00:00<00:00, 629.63it/s]\n",
      "100%|██████████| 17/17 [00:00<00:00, 550.60it/s]\n"
     ]
    },
    {
     "name": "stdout",
     "output_type": "stream",
     "text": [
      "Saving model with loss 42.491...\n"
     ]
    },
    {
     "name": "stderr",
     "output_type": "stream",
     "text": [
      "100%|██████████| 17/17 [00:00<00:00, 500.01it/s]\n",
      "100%|██████████| 17/17 [00:00<00:00, 531.25it/s]\n",
      "100%|██████████| 17/17 [00:00<00:00, 515.15it/s]\n",
      "100%|██████████| 17/17 [00:00<00:00, 500.00it/s]\n",
      "100%|██████████| 17/17 [00:00<00:00, 499.99it/s]\n"
     ]
    },
    {
     "name": "stdout",
     "output_type": "stream",
     "text": [
      "Saving model with loss 41.721...\n"
     ]
    },
    {
     "name": "stderr",
     "output_type": "stream",
     "text": [
      "100%|██████████| 17/17 [00:00<00:00, 472.64it/s]\n"
     ]
    },
    {
     "name": "stdout",
     "output_type": "stream",
     "text": [
      "Saving model with loss 39.927...\n"
     ]
    },
    {
     "name": "stderr",
     "output_type": "stream",
     "text": [
      "100%|██████████| 17/17 [00:00<00:00, 548.39it/s]\n",
      "100%|██████████| 17/17 [00:00<00:00, 485.71it/s]\n",
      "100%|██████████| 17/17 [00:00<00:00, 515.15it/s]\n"
     ]
    },
    {
     "name": "stdout",
     "output_type": "stream",
     "text": [
      "Saving model with loss 38.939...\n"
     ]
    },
    {
     "name": "stderr",
     "output_type": "stream",
     "text": [
      "100%|██████████| 17/17 [00:00<00:00, 548.39it/s]\n"
     ]
    },
    {
     "name": "stdout",
     "output_type": "stream",
     "text": [
      "Epoch [261/6000]: Train loss: 40.4609, Valid loss: 43.2580\n"
     ]
    },
    {
     "name": "stderr",
     "output_type": "stream",
     "text": [
      "100%|██████████| 17/17 [00:00<00:00, 485.71it/s]\n",
      "100%|██████████| 17/17 [00:00<00:00, 531.24it/s]\n",
      "100%|██████████| 17/17 [00:00<00:00, 499.99it/s]\n",
      "100%|██████████| 17/17 [00:00<00:00, 531.24it/s]\n",
      "100%|██████████| 17/17 [00:00<00:00, 586.20it/s]\n"
     ]
    },
    {
     "name": "stdout",
     "output_type": "stream",
     "text": [
      "Saving model with loss 38.005...\n"
     ]
    },
    {
     "name": "stderr",
     "output_type": "stream",
     "text": [
      "100%|██████████| 17/17 [00:00<00:00, 531.25it/s]\n"
     ]
    },
    {
     "name": "stdout",
     "output_type": "stream",
     "text": [
      "Saving model with loss 37.049...\n"
     ]
    },
    {
     "name": "stderr",
     "output_type": "stream",
     "text": [
      "100%|██████████| 17/17 [00:00<00:00, 566.67it/s]\n",
      "100%|██████████| 17/17 [00:00<00:00, 515.15it/s]\n"
     ]
    },
    {
     "name": "stdout",
     "output_type": "stream",
     "text": [
      "Saving model with loss 36.967...\n"
     ]
    },
    {
     "name": "stderr",
     "output_type": "stream",
     "text": [
      "100%|██████████| 17/17 [00:00<00:00, 653.84it/s]\n"
     ]
    },
    {
     "name": "stdout",
     "output_type": "stream",
     "text": [
      "Saving model with loss 33.876...\n"
     ]
    },
    {
     "name": "stderr",
     "output_type": "stream",
     "text": [
      "100%|██████████| 17/17 [00:00<00:00, 566.67it/s]\n",
      "100%|██████████| 17/17 [00:00<00:00, 566.66it/s]\n",
      "100%|██████████| 17/17 [00:00<00:00, 586.20it/s]\n",
      "100%|██████████| 17/17 [00:00<00:00, 566.66it/s]\n",
      "100%|██████████| 17/17 [00:00<00:00, 566.66it/s]\n",
      "100%|██████████| 17/17 [00:00<00:00, 586.21it/s]\n",
      "100%|██████████| 17/17 [00:00<00:00, 514.54it/s]\n",
      "100%|██████████| 17/17 [00:00<00:00, 566.68it/s]\n"
     ]
    },
    {
     "name": "stdout",
     "output_type": "stream",
     "text": [
      "Saving model with loss 31.769...\n"
     ]
    },
    {
     "name": "stderr",
     "output_type": "stream",
     "text": [
      "100%|██████████| 17/17 [00:00<00:00, 586.21it/s]\n",
      "100%|██████████| 17/17 [00:00<00:00, 566.66it/s]\n",
      "100%|██████████| 17/17 [00:00<00:00, 522.28it/s]\n"
     ]
    },
    {
     "name": "stdout",
     "output_type": "stream",
     "text": [
      "Epoch [281/6000]: Train loss: 34.6023, Valid loss: 32.5212\n"
     ]
    },
    {
     "name": "stderr",
     "output_type": "stream",
     "text": [
      "100%|██████████| 17/17 [00:00<00:00, 566.66it/s]\n",
      "100%|██████████| 17/17 [00:00<00:00, 653.83it/s]\n",
      "100%|██████████| 17/17 [00:00<00:00, 629.64it/s]\n",
      "100%|██████████| 17/17 [00:00<00:00, 620.22it/s]\n",
      "100%|██████████| 17/17 [00:00<00:00, 615.43it/s]\n"
     ]
    },
    {
     "name": "stdout",
     "output_type": "stream",
     "text": [
      "Saving model with loss 31.635...\n"
     ]
    },
    {
     "name": "stderr",
     "output_type": "stream",
     "text": [
      "100%|██████████| 17/17 [00:00<00:00, 607.13it/s]\n",
      "100%|██████████| 17/17 [00:00<00:00, 629.63it/s]\n"
     ]
    },
    {
     "name": "stdout",
     "output_type": "stream",
     "text": [
      "Saving model with loss 31.268...\n"
     ]
    },
    {
     "name": "stderr",
     "output_type": "stream",
     "text": [
      "100%|██████████| 17/17 [00:00<00:00, 607.14it/s]\n",
      "100%|██████████| 17/17 [00:00<00:00, 629.64it/s]\n",
      "100%|██████████| 17/17 [00:00<00:00, 629.64it/s]\n"
     ]
    },
    {
     "name": "stdout",
     "output_type": "stream",
     "text": [
      "Saving model with loss 29.912...\n"
     ]
    },
    {
     "name": "stderr",
     "output_type": "stream",
     "text": [
      "100%|██████████| 17/17 [00:00<00:00, 653.84it/s]\n",
      "100%|██████████| 17/17 [00:00<00:00, 653.83it/s]\n",
      "100%|██████████| 17/17 [00:00<00:00, 629.64it/s]\n"
     ]
    },
    {
     "name": "stdout",
     "output_type": "stream",
     "text": [
      "Saving model with loss 29.691...\n"
     ]
    },
    {
     "name": "stderr",
     "output_type": "stream",
     "text": [
      "100%|██████████| 17/17 [00:00<00:00, 607.12it/s]\n",
      "100%|██████████| 17/17 [00:00<00:00, 629.64it/s]\n",
      "100%|██████████| 17/17 [00:00<00:00, 603.58it/s]\n",
      "100%|██████████| 17/17 [00:00<00:00, 582.34it/s]\n"
     ]
    },
    {
     "name": "stdout",
     "output_type": "stream",
     "text": [
      "Saving model with loss 27.653...\n"
     ]
    },
    {
     "name": "stderr",
     "output_type": "stream",
     "text": [
      "100%|██████████| 17/17 [00:00<00:00, 485.72it/s]\n",
      "100%|██████████| 17/17 [00:00<00:00, 500.00it/s]\n",
      "100%|██████████| 17/17 [00:00<00:00, 499.51it/s]\n"
     ]
    },
    {
     "name": "stdout",
     "output_type": "stream",
     "text": [
      "Epoch [301/6000]: Train loss: 29.5351, Valid loss: 29.9373\n"
     ]
    },
    {
     "name": "stderr",
     "output_type": "stream",
     "text": [
      "100%|██████████| 17/17 [00:00<00:00, 485.71it/s]\n",
      "100%|██████████| 17/17 [00:00<00:00, 500.00it/s]\n",
      "100%|██████████| 17/17 [00:00<00:00, 472.23it/s]\n",
      "100%|██████████| 17/17 [00:00<00:00, 499.99it/s]\n"
     ]
    },
    {
     "name": "stdout",
     "output_type": "stream",
     "text": [
      "Saving model with loss 27.141...\n"
     ]
    },
    {
     "name": "stderr",
     "output_type": "stream",
     "text": [
      "100%|██████████| 17/17 [00:00<00:00, 485.72it/s]\n",
      "100%|██████████| 17/17 [00:00<00:00, 586.21it/s]\n",
      "100%|██████████| 17/17 [00:00<00:00, 607.16it/s]\n",
      "100%|██████████| 17/17 [00:00<00:00, 500.00it/s]\n",
      "100%|██████████| 17/17 [00:00<00:00, 566.65it/s]\n",
      "100%|██████████| 17/17 [00:00<00:00, 561.65it/s]\n"
     ]
    },
    {
     "name": "stdout",
     "output_type": "stream",
     "text": [
      "Saving model with loss 26.529...\n"
     ]
    },
    {
     "name": "stderr",
     "output_type": "stream",
     "text": [
      "100%|██████████| 17/17 [00:00<00:00, 425.00it/s]\n",
      "100%|██████████| 17/17 [00:00<00:00, 515.16it/s]\n",
      "100%|██████████| 17/17 [00:00<00:00, 548.66it/s]\n",
      "100%|██████████| 17/17 [00:00<00:00, 680.00it/s]\n"
     ]
    },
    {
     "name": "stdout",
     "output_type": "stream",
     "text": [
      "Saving model with loss 25.852...\n"
     ]
    },
    {
     "name": "stderr",
     "output_type": "stream",
     "text": [
      "100%|██████████| 17/17 [00:00<00:00, 531.25it/s]\n",
      "100%|██████████| 17/17 [00:00<00:00, 531.25it/s]\n",
      "100%|██████████| 17/17 [00:00<00:00, 515.17it/s]\n"
     ]
    },
    {
     "name": "stdout",
     "output_type": "stream",
     "text": [
      "Saving model with loss 25.018...\n"
     ]
    },
    {
     "name": "stderr",
     "output_type": "stream",
     "text": [
      "100%|██████████| 17/17 [00:00<00:00, 680.01it/s]\n",
      "100%|██████████| 17/17 [00:00<00:00, 500.00it/s]\n"
     ]
    },
    {
     "name": "stdout",
     "output_type": "stream",
     "text": [
      "Saving model with loss 24.952...\n"
     ]
    },
    {
     "name": "stderr",
     "output_type": "stream",
     "text": [
      "100%|██████████| 17/17 [00:00<00:00, 500.00it/s]\n"
     ]
    },
    {
     "name": "stdout",
     "output_type": "stream",
     "text": [
      "Epoch [321/6000]: Train loss: 25.4702, Valid loss: 25.3327\n"
     ]
    },
    {
     "name": "stderr",
     "output_type": "stream",
     "text": [
      "100%|██████████| 17/17 [00:00<00:00, 531.26it/s]\n",
      "100%|██████████| 17/17 [00:00<00:00, 472.23it/s]\n",
      "100%|██████████| 17/17 [00:00<00:00, 472.23it/s]\n",
      "100%|██████████| 17/17 [00:00<00:00, 500.01it/s]"
     ]
    },
    {
     "name": "stdout",
     "output_type": "stream",
     "text": [
      "Saving model with loss 24.077...\n"
     ]
    },
    {
     "name": "stderr",
     "output_type": "stream",
     "text": [
      "\n",
      "100%|██████████| 17/17 [00:00<00:00, 414.64it/s]\n"
     ]
    },
    {
     "name": "stdout",
     "output_type": "stream",
     "text": [
      "Saving model with loss 22.990...\n"
     ]
    },
    {
     "name": "stderr",
     "output_type": "stream",
     "text": [
      "100%|██████████| 17/17 [00:00<00:00, 515.14it/s]\n",
      "100%|██████████| 17/17 [00:00<00:00, 485.71it/s]\n",
      "100%|██████████| 17/17 [00:00<00:00, 485.70it/s]\n",
      "100%|██████████| 17/17 [00:00<00:00, 586.21it/s]\n",
      "100%|██████████| 17/17 [00:00<00:00, 515.16it/s]\n",
      "100%|██████████| 17/17 [00:00<00:00, 515.16it/s]\n",
      "100%|██████████| 17/17 [00:00<00:00, 531.23it/s]\n",
      "100%|██████████| 17/17 [00:00<00:00, 500.00it/s]\n",
      "100%|██████████| 17/17 [00:00<00:00, 515.16it/s]\n",
      "100%|██████████| 17/17 [00:00<00:00, 629.64it/s]\n"
     ]
    },
    {
     "name": "stdout",
     "output_type": "stream",
     "text": [
      "Saving model with loss 22.103...\n"
     ]
    },
    {
     "name": "stderr",
     "output_type": "stream",
     "text": [
      "100%|██████████| 17/17 [00:00<00:00, 548.39it/s]\n",
      "100%|██████████| 17/17 [00:00<00:00, 531.24it/s]\n"
     ]
    },
    {
     "name": "stdout",
     "output_type": "stream",
     "text": [
      "Saving model with loss 19.796...\n"
     ]
    },
    {
     "name": "stderr",
     "output_type": "stream",
     "text": [
      "100%|██████████| 17/17 [00:00<00:00, 531.27it/s]\n",
      "100%|██████████| 17/17 [00:00<00:00, 472.23it/s]\n",
      "100%|██████████| 17/17 [00:00<00:00, 454.55it/s]\n"
     ]
    },
    {
     "name": "stdout",
     "output_type": "stream",
     "text": [
      "Epoch [341/6000]: Train loss: 22.1340, Valid loss: 22.7254\n"
     ]
    },
    {
     "name": "stderr",
     "output_type": "stream",
     "text": [
      "100%|██████████| 17/17 [00:00<00:00, 515.14it/s]\n",
      "100%|██████████| 17/17 [00:00<00:00, 483.02it/s]\n",
      "100%|██████████| 17/17 [00:00<00:00, 500.00it/s]\n",
      "100%|██████████| 17/17 [00:00<00:00, 462.47it/s]\n",
      "100%|██████████| 17/17 [00:00<00:00, 548.39it/s]\n",
      "100%|██████████| 17/17 [00:00<00:00, 431.99it/s]\n",
      "100%|██████████| 17/17 [00:00<00:00, 739.15it/s]\n",
      "100%|██████████| 17/17 [00:00<00:00, 707.96it/s]\n"
     ]
    },
    {
     "name": "stdout",
     "output_type": "stream",
     "text": [
      "Saving model with loss 19.034...\n"
     ]
    },
    {
     "name": "stderr",
     "output_type": "stream",
     "text": [
      "100%|██████████| 17/17 [00:00<00:00, 244.72it/s]\n",
      "100%|██████████| 17/17 [00:00<00:00, 708.35it/s]\n",
      "100%|██████████| 17/17 [00:00<00:00, 484.40it/s]\n",
      "100%|██████████| 17/17 [00:00<00:00, 515.07it/s]\n",
      "100%|██████████| 17/17 [00:00<00:00, 607.14it/s]\n",
      "100%|██████████| 17/17 [00:00<00:00, 629.65it/s]\n",
      "100%|██████████| 17/17 [00:00<00:00, 629.65it/s]\n"
     ]
    },
    {
     "name": "stdout",
     "output_type": "stream",
     "text": [
      "Saving model with loss 19.021...\n"
     ]
    },
    {
     "name": "stderr",
     "output_type": "stream",
     "text": [
      "100%|██████████| 17/17 [00:00<00:00, 629.63it/s]\n"
     ]
    },
    {
     "name": "stdout",
     "output_type": "stream",
     "text": [
      "Saving model with loss 18.858...\n"
     ]
    },
    {
     "name": "stderr",
     "output_type": "stream",
     "text": [
      "100%|██████████| 17/17 [00:00<00:00, 629.63it/s]\n",
      "100%|██████████| 17/17 [00:00<00:00, 629.61it/s]\n",
      "100%|██████████| 17/17 [00:00<00:00, 629.65it/s]\n",
      "100%|██████████| 17/17 [00:00<00:00, 653.85it/s]\n"
     ]
    },
    {
     "name": "stdout",
     "output_type": "stream",
     "text": [
      "Epoch [361/6000]: Train loss: 19.4789, Valid loss: 18.8114\n",
      "Saving model with loss 18.811...\n"
     ]
    },
    {
     "name": "stderr",
     "output_type": "stream",
     "text": [
      "100%|██████████| 17/17 [00:00<00:00, 628.12it/s]\n",
      "100%|██████████| 17/17 [00:00<00:00, 629.62it/s]\n",
      "100%|██████████| 17/17 [00:00<00:00, 629.63it/s]\n",
      "100%|██████████| 17/17 [00:00<00:00, 629.63it/s]\n",
      "100%|██████████| 17/17 [00:00<00:00, 629.64it/s]\n",
      "100%|██████████| 17/17 [00:00<00:00, 629.63it/s]\n"
     ]
    },
    {
     "name": "stdout",
     "output_type": "stream",
     "text": [
      "Saving model with loss 18.250...\n"
     ]
    },
    {
     "name": "stderr",
     "output_type": "stream",
     "text": [
      "100%|██████████| 17/17 [00:00<00:00, 607.13it/s]\n"
     ]
    },
    {
     "name": "stdout",
     "output_type": "stream",
     "text": [
      "Saving model with loss 18.130...\n"
     ]
    },
    {
     "name": "stderr",
     "output_type": "stream",
     "text": [
      "100%|██████████| 17/17 [00:00<00:00, 607.16it/s]\n",
      "100%|██████████| 17/17 [00:00<00:00, 629.65it/s]\n",
      "100%|██████████| 17/17 [00:00<00:00, 653.85it/s]\n"
     ]
    },
    {
     "name": "stdout",
     "output_type": "stream",
     "text": [
      "Saving model with loss 17.185...\n"
     ]
    },
    {
     "name": "stderr",
     "output_type": "stream",
     "text": [
      "100%|██████████| 17/17 [00:00<00:00, 629.63it/s]\n",
      "100%|██████████| 17/17 [00:00<00:00, 629.63it/s]\n",
      "100%|██████████| 17/17 [00:00<00:00, 708.33it/s]\n",
      "100%|██████████| 17/17 [00:00<00:00, 680.01it/s]\n"
     ]
    },
    {
     "name": "stdout",
     "output_type": "stream",
     "text": [
      "Saving model with loss 16.328...\n"
     ]
    },
    {
     "name": "stderr",
     "output_type": "stream",
     "text": [
      "100%|██████████| 17/17 [00:00<00:00, 708.32it/s]\n",
      "100%|██████████| 17/17 [00:00<00:00, 682.92it/s]\n",
      "100%|██████████| 17/17 [00:00<00:00, 653.88it/s]\n",
      "100%|██████████| 17/17 [00:00<00:00, 679.82it/s]\n",
      "100%|██████████| 17/17 [00:00<00:00, 661.92it/s]\n",
      "100%|██████████| 17/17 [00:00<00:00, 650.72it/s]\n"
     ]
    },
    {
     "name": "stdout",
     "output_type": "stream",
     "text": [
      "Epoch [381/6000]: Train loss: 17.2976, Valid loss: 17.1844\n"
     ]
    },
    {
     "name": "stderr",
     "output_type": "stream",
     "text": [
      "100%|██████████| 17/17 [00:00<00:00, 586.21it/s]\n",
      "100%|██████████| 17/17 [00:00<00:00, 614.02it/s]\n",
      "100%|██████████| 17/17 [00:00<00:00, 531.25it/s]\n",
      "100%|██████████| 17/17 [00:00<00:00, 425.00it/s]\n"
     ]
    },
    {
     "name": "stdout",
     "output_type": "stream",
     "text": [
      "Saving model with loss 15.742...\n"
     ]
    },
    {
     "name": "stderr",
     "output_type": "stream",
     "text": [
      "100%|██████████| 17/17 [00:00<00:00, 395.36it/s]\n",
      "100%|██████████| 17/17 [00:00<00:00, 427.28it/s]\n",
      "100%|██████████| 17/17 [00:00<00:00, 386.36it/s]\n",
      "100%|██████████| 17/17 [00:00<00:00, 414.64it/s]\n",
      "100%|██████████| 17/17 [00:00<00:00, 377.78it/s]\n"
     ]
    },
    {
     "name": "stdout",
     "output_type": "stream",
     "text": [
      "Saving model with loss 15.693...\n"
     ]
    },
    {
     "name": "stderr",
     "output_type": "stream",
     "text": [
      "100%|██████████| 17/17 [00:00<00:00, 531.25it/s]\n"
     ]
    },
    {
     "name": "stdout",
     "output_type": "stream",
     "text": [
      "Saving model with loss 15.384...\n"
     ]
    },
    {
     "name": "stderr",
     "output_type": "stream",
     "text": [
      "100%|██████████| 17/17 [00:00<00:00, 566.68it/s]\n"
     ]
    },
    {
     "name": "stdout",
     "output_type": "stream",
     "text": [
      "Saving model with loss 14.836...\n"
     ]
    },
    {
     "name": "stderr",
     "output_type": "stream",
     "text": [
      "100%|██████████| 17/17 [00:00<00:00, 586.20it/s]\n",
      "100%|██████████| 17/17 [00:00<00:00, 607.16it/s]\n",
      "100%|██████████| 17/17 [00:00<00:00, 586.20it/s]\n",
      "100%|██████████| 17/17 [00:00<00:00, 500.00it/s]\n",
      "100%|██████████| 17/17 [00:00<00:00, 680.00it/s]\n",
      "100%|██████████| 17/17 [00:00<00:00, 607.14it/s]\n",
      "100%|██████████| 17/17 [00:00<00:00, 531.26it/s]\n",
      "100%|██████████| 17/17 [00:00<00:00, 531.25it/s]\n",
      "100%|██████████| 17/17 [00:00<00:00, 607.16it/s]\n"
     ]
    },
    {
     "name": "stdout",
     "output_type": "stream",
     "text": [
      "Epoch [401/6000]: Train loss: 15.6781, Valid loss: 14.8062\n",
      "Saving model with loss 14.806...\n"
     ]
    },
    {
     "name": "stderr",
     "output_type": "stream",
     "text": [
      "100%|██████████| 17/17 [00:00<00:00, 586.22it/s]\n",
      "100%|██████████| 17/17 [00:00<00:00, 596.61it/s]\n"
     ]
    },
    {
     "name": "stdout",
     "output_type": "stream",
     "text": [
      "Saving model with loss 14.126...\n"
     ]
    },
    {
     "name": "stderr",
     "output_type": "stream",
     "text": [
      "100%|██████████| 17/17 [00:00<00:00, 680.02it/s]\n",
      "100%|██████████| 17/17 [00:00<00:00, 697.12it/s]\n",
      "100%|██████████| 17/17 [00:00<00:00, 708.34it/s]\n",
      "100%|██████████| 17/17 [00:00<00:00, 708.32it/s]\n",
      "100%|██████████| 17/17 [00:00<00:00, 653.92it/s]\n",
      "100%|██████████| 17/17 [00:00<00:00, 607.15it/s]\n",
      "100%|██████████| 17/17 [00:00<00:00, 620.07it/s]\n",
      "100%|██████████| 17/17 [00:00<00:00, 629.63it/s]\n",
      "100%|██████████| 17/17 [00:00<00:00, 629.63it/s]\n",
      "100%|██████████| 17/17 [00:00<00:00, 607.14it/s]\n",
      "100%|██████████| 17/17 [00:00<00:00, 653.82it/s]\n",
      "100%|██████████| 17/17 [00:00<00:00, 708.34it/s]\n",
      "100%|██████████| 17/17 [00:00<00:00, 653.85it/s]\n",
      "100%|██████████| 17/17 [00:00<00:00, 653.84it/s]\n",
      "100%|██████████| 17/17 [00:00<00:00, 653.85it/s]\n"
     ]
    },
    {
     "name": "stdout",
     "output_type": "stream",
     "text": [
      "Saving model with loss 13.683...\n"
     ]
    },
    {
     "name": "stderr",
     "output_type": "stream",
     "text": [
      "100%|██████████| 17/17 [00:00<00:00, 561.86it/s]\n",
      "100%|██████████| 17/17 [00:00<00:00, 680.00it/s]\n",
      "100%|██████████| 17/17 [00:00<00:00, 708.33it/s]\n"
     ]
    },
    {
     "name": "stdout",
     "output_type": "stream",
     "text": [
      "Epoch [421/6000]: Train loss: 14.2827, Valid loss: 13.9244\n"
     ]
    },
    {
     "name": "stderr",
     "output_type": "stream",
     "text": [
      "100%|██████████| 17/17 [00:00<00:00, 679.99it/s]\n",
      "100%|██████████| 17/17 [00:00<00:00, 653.85it/s]\n",
      "100%|██████████| 17/17 [00:00<00:00, 653.87it/s]\n"
     ]
    },
    {
     "name": "stdout",
     "output_type": "stream",
     "text": [
      "Saving model with loss 13.337...\n"
     ]
    },
    {
     "name": "stderr",
     "output_type": "stream",
     "text": [
      "100%|██████████| 17/17 [00:00<00:00, 653.85it/s]\n",
      "100%|██████████| 17/17 [00:00<00:00, 679.99it/s]\n",
      "100%|██████████| 17/17 [00:00<00:00, 680.00it/s]\n"
     ]
    },
    {
     "name": "stdout",
     "output_type": "stream",
     "text": [
      "Saving model with loss 12.884...\n"
     ]
    },
    {
     "name": "stderr",
     "output_type": "stream",
     "text": [
      "100%|██████████| 17/17 [00:00<00:00, 680.00it/s]\n",
      "100%|██████████| 17/17 [00:00<00:00, 653.85it/s]\n",
      "100%|██████████| 17/17 [00:00<00:00, 680.00it/s]\n",
      "100%|██████████| 17/17 [00:00<00:00, 708.34it/s]\n",
      "100%|██████████| 17/17 [00:00<00:00, 708.34it/s]\n",
      "100%|██████████| 17/17 [00:00<00:00, 607.14it/s]\n"
     ]
    },
    {
     "name": "stdout",
     "output_type": "stream",
     "text": [
      "Saving model with loss 12.707...\n"
     ]
    },
    {
     "name": "stderr",
     "output_type": "stream",
     "text": [
      "100%|██████████| 17/17 [00:00<00:00, 629.61it/s]\n",
      "100%|██████████| 17/17 [00:00<00:00, 629.61it/s]\n"
     ]
    },
    {
     "name": "stdout",
     "output_type": "stream",
     "text": [
      "Saving model with loss 12.644...\n"
     ]
    },
    {
     "name": "stderr",
     "output_type": "stream",
     "text": [
      "100%|██████████| 17/17 [00:00<00:00, 586.22it/s]\n",
      "100%|██████████| 17/17 [00:00<00:00, 653.85it/s]\n",
      "100%|██████████| 17/17 [00:00<00:00, 586.21it/s]\n"
     ]
    },
    {
     "name": "stdout",
     "output_type": "stream",
     "text": [
      "Saving model with loss 12.358...\n"
     ]
    },
    {
     "name": "stderr",
     "output_type": "stream",
     "text": [
      "100%|██████████| 17/17 [00:00<00:00, 629.63it/s]\n"
     ]
    },
    {
     "name": "stdout",
     "output_type": "stream",
     "text": [
      "Saving model with loss 12.351...\n"
     ]
    },
    {
     "name": "stderr",
     "output_type": "stream",
     "text": [
      "100%|██████████| 17/17 [00:00<00:00, 606.48it/s]\n",
      "100%|██████████| 17/17 [00:00<00:00, 639.56it/s]\n"
     ]
    },
    {
     "name": "stdout",
     "output_type": "stream",
     "text": [
      "Epoch [441/6000]: Train loss: 12.9913, Valid loss: 12.2609\n",
      "Saving model with loss 12.261...\n"
     ]
    },
    {
     "name": "stderr",
     "output_type": "stream",
     "text": [
      "100%|██████████| 17/17 [00:00<00:00, 472.23it/s]\n",
      "100%|██████████| 17/17 [00:00<00:00, 618.20it/s]\n",
      "100%|██████████| 17/17 [00:00<00:00, 708.34it/s]\n",
      "100%|██████████| 17/17 [00:00<00:00, 708.34it/s]\n",
      "100%|██████████| 17/17 [00:00<00:00, 680.00it/s]\n"
     ]
    },
    {
     "name": "stdout",
     "output_type": "stream",
     "text": [
      "Saving model with loss 12.020...\n"
     ]
    },
    {
     "name": "stderr",
     "output_type": "stream",
     "text": [
      "100%|██████████| 17/17 [00:00<00:00, 680.00it/s]\n",
      "100%|██████████| 17/17 [00:00<00:00, 708.37it/s]\n",
      "100%|██████████| 17/17 [00:00<00:00, 607.17it/s]\n"
     ]
    },
    {
     "name": "stdout",
     "output_type": "stream",
     "text": [
      "Saving model with loss 11.446...\n"
     ]
    },
    {
     "name": "stderr",
     "output_type": "stream",
     "text": [
      "100%|██████████| 17/17 [00:00<00:00, 653.85it/s]\n",
      "100%|██████████| 17/17 [00:00<00:00, 680.00it/s]\n",
      "100%|██████████| 17/17 [00:00<00:00, 680.00it/s]\n",
      "100%|██████████| 17/17 [00:00<00:00, 653.80it/s]\n",
      "100%|██████████| 17/17 [00:00<00:00, 653.86it/s]\n",
      "100%|██████████| 17/17 [00:00<00:00, 680.01it/s]\n",
      "100%|██████████| 17/17 [00:00<00:00, 629.64it/s]\n",
      "100%|██████████| 17/17 [00:00<00:00, 586.21it/s]\n"
     ]
    },
    {
     "name": "stdout",
     "output_type": "stream",
     "text": [
      "Saving model with loss 10.614...\n"
     ]
    },
    {
     "name": "stderr",
     "output_type": "stream",
     "text": [
      "100%|██████████| 17/17 [00:00<00:00, 629.64it/s]\n",
      "100%|██████████| 17/17 [00:00<00:00, 607.15it/s]\n",
      "100%|██████████| 17/17 [00:00<00:00, 653.85it/s]\n",
      "100%|██████████| 17/17 [00:00<00:00, 586.21it/s]\n"
     ]
    },
    {
     "name": "stdout",
     "output_type": "stream",
     "text": [
      "Epoch [461/6000]: Train loss: 11.7996, Valid loss: 10.8550\n"
     ]
    },
    {
     "name": "stderr",
     "output_type": "stream",
     "text": [
      "100%|██████████| 17/17 [00:00<00:00, 607.16it/s]\n",
      "100%|██████████| 17/17 [00:00<00:00, 653.82it/s]\n",
      "100%|██████████| 17/17 [00:00<00:00, 586.20it/s]\n",
      "100%|██████████| 17/17 [00:00<00:00, 607.15it/s]\n",
      "100%|██████████| 17/17 [00:00<00:00, 673.63it/s]\n",
      "100%|██████████| 17/17 [00:00<00:00, 586.21it/s]\n",
      "100%|██████████| 17/17 [00:00<00:00, 629.64it/s]\n"
     ]
    },
    {
     "name": "stdout",
     "output_type": "stream",
     "text": [
      "Saving model with loss 10.600...\n"
     ]
    },
    {
     "name": "stderr",
     "output_type": "stream",
     "text": [
      "100%|██████████| 17/17 [00:00<00:00, 629.63it/s]\n",
      "100%|██████████| 17/17 [00:00<00:00, 653.84it/s]\n",
      "100%|██████████| 17/17 [00:00<00:00, 623.12it/s]\n",
      "100%|██████████| 17/17 [00:00<00:00, 607.15it/s]\n",
      "100%|██████████| 17/17 [00:00<00:00, 629.63it/s]\n",
      "100%|██████████| 17/17 [00:00<00:00, 629.62it/s]\n",
      "100%|██████████| 17/17 [00:00<00:00, 679.99it/s]\n",
      "100%|██████████| 17/17 [00:00<00:00, 680.00it/s]\n"
     ]
    },
    {
     "name": "stdout",
     "output_type": "stream",
     "text": [
      "Saving model with loss 10.471...\n"
     ]
    },
    {
     "name": "stderr",
     "output_type": "stream",
     "text": [
      "100%|██████████| 17/17 [00:00<00:00, 653.85it/s]\n",
      "100%|██████████| 17/17 [00:00<00:00, 680.02it/s]\n"
     ]
    },
    {
     "name": "stdout",
     "output_type": "stream",
     "text": [
      "Saving model with loss 10.129...\n"
     ]
    },
    {
     "name": "stderr",
     "output_type": "stream",
     "text": [
      "100%|██████████| 17/17 [00:00<00:00, 708.34it/s]\n",
      "100%|██████████| 17/17 [00:00<00:00, 658.28it/s]\n"
     ]
    },
    {
     "name": "stdout",
     "output_type": "stream",
     "text": [
      "Saving model with loss 10.123...\n"
     ]
    },
    {
     "name": "stderr",
     "output_type": "stream",
     "text": [
      "100%|██████████| 17/17 [00:00<00:00, 680.00it/s]\n"
     ]
    },
    {
     "name": "stdout",
     "output_type": "stream",
     "text": [
      "Epoch [481/6000]: Train loss: 10.7106, Valid loss: 10.4369\n"
     ]
    },
    {
     "name": "stderr",
     "output_type": "stream",
     "text": [
      "100%|██████████| 17/17 [00:00<00:00, 679.97it/s]\n",
      "100%|██████████| 17/17 [00:00<00:00, 679.98it/s]\n"
     ]
    },
    {
     "name": "stdout",
     "output_type": "stream",
     "text": [
      "Saving model with loss 9.764...\n"
     ]
    },
    {
     "name": "stderr",
     "output_type": "stream",
     "text": [
      "100%|██████████| 17/17 [00:00<00:00, 653.85it/s]\n",
      "100%|██████████| 17/17 [00:00<00:00, 653.87it/s]\n",
      "100%|██████████| 17/17 [00:00<00:00, 586.20it/s]\n",
      "100%|██████████| 17/17 [00:00<00:00, 629.63it/s]\n",
      "100%|██████████| 17/17 [00:00<00:00, 629.64it/s]\n",
      "100%|██████████| 17/17 [00:00<00:00, 586.23it/s]\n",
      "100%|██████████| 17/17 [00:00<00:00, 607.14it/s]\n"
     ]
    },
    {
     "name": "stdout",
     "output_type": "stream",
     "text": [
      "Saving model with loss 9.661...\n"
     ]
    },
    {
     "name": "stderr",
     "output_type": "stream",
     "text": [
      "100%|██████████| 17/17 [00:00<00:00, 607.14it/s]\n",
      "100%|██████████| 17/17 [00:00<00:00, 586.21it/s]\n",
      "100%|██████████| 17/17 [00:00<00:00, 629.64it/s]\n",
      "100%|██████████| 17/17 [00:00<00:00, 629.65it/s]\n",
      "100%|██████████| 17/17 [00:00<00:00, 629.63it/s]\n",
      "100%|██████████| 17/17 [00:00<00:00, 617.78it/s]\n"
     ]
    },
    {
     "name": "stdout",
     "output_type": "stream",
     "text": [
      "Saving model with loss 9.363...\n"
     ]
    },
    {
     "name": "stderr",
     "output_type": "stream",
     "text": [
      "100%|██████████| 17/17 [00:00<00:00, 639.51it/s]\n",
      "100%|██████████| 17/17 [00:00<00:00, 629.64it/s]\n",
      "100%|██████████| 17/17 [00:00<00:00, 586.22it/s]\n"
     ]
    },
    {
     "name": "stdout",
     "output_type": "stream",
     "text": [
      "Saving model with loss 8.926...\n"
     ]
    },
    {
     "name": "stderr",
     "output_type": "stream",
     "text": [
      "100%|██████████| 17/17 [00:00<00:00, 629.63it/s]\n",
      "100%|██████████| 17/17 [00:00<00:00, 629.66it/s]\n"
     ]
    },
    {
     "name": "stdout",
     "output_type": "stream",
     "text": [
      "Epoch [501/6000]: Train loss: 9.7555, Valid loss: 9.6164\n"
     ]
    },
    {
     "name": "stderr",
     "output_type": "stream",
     "text": [
      "100%|██████████| 17/17 [00:00<00:00, 658.44it/s]\n",
      "100%|██████████| 17/17 [00:00<00:00, 629.63it/s]\n"
     ]
    },
    {
     "name": "stdout",
     "output_type": "stream",
     "text": [
      "Saving model with loss 8.762...\n"
     ]
    },
    {
     "name": "stderr",
     "output_type": "stream",
     "text": [
      "100%|██████████| 17/17 [00:00<00:00, 607.14it/s]\n",
      "100%|██████████| 17/17 [00:00<00:00, 607.13it/s]\n",
      "100%|██████████| 17/17 [00:00<00:00, 607.15it/s]\n",
      "100%|██████████| 17/17 [00:00<00:00, 629.63it/s]\n",
      "100%|██████████| 17/17 [00:00<00:00, 629.64it/s]\n",
      "100%|██████████| 17/17 [00:00<00:00, 629.63it/s]\n",
      "100%|██████████| 17/17 [00:00<00:00, 566.67it/s]\n",
      "100%|██████████| 17/17 [00:00<00:00, 607.15it/s]\n",
      "100%|██████████| 17/17 [00:00<00:00, 629.64it/s]\n",
      "100%|██████████| 17/17 [00:00<00:00, 653.87it/s]\n",
      "100%|██████████| 17/17 [00:00<00:00, 629.63it/s]\n",
      "100%|██████████| 17/17 [00:00<00:00, 629.61it/s]\n",
      "100%|██████████| 17/17 [00:00<00:00, 629.61it/s]\n"
     ]
    },
    {
     "name": "stdout",
     "output_type": "stream",
     "text": [
      "Saving model with loss 8.447...\n"
     ]
    },
    {
     "name": "stderr",
     "output_type": "stream",
     "text": [
      "100%|██████████| 17/17 [00:00<00:00, 629.64it/s]\n",
      "100%|██████████| 17/17 [00:00<00:00, 607.14it/s]\n",
      "100%|██████████| 17/17 [00:00<00:00, 607.15it/s]\n",
      "100%|██████████| 17/17 [00:00<00:00, 607.15it/s]\n",
      "100%|██████████| 17/17 [00:00<00:00, 629.63it/s]\n"
     ]
    },
    {
     "name": "stdout",
     "output_type": "stream",
     "text": [
      "Epoch [521/6000]: Train loss: 8.8715, Valid loss: 8.2508\n",
      "Saving model with loss 8.251...\n"
     ]
    },
    {
     "name": "stderr",
     "output_type": "stream",
     "text": [
      "100%|██████████| 17/17 [00:00<00:00, 607.14it/s]\n"
     ]
    },
    {
     "name": "stdout",
     "output_type": "stream",
     "text": [
      "Saving model with loss 8.247...\n"
     ]
    },
    {
     "name": "stderr",
     "output_type": "stream",
     "text": [
      "100%|██████████| 17/17 [00:00<00:00, 629.64it/s]\n",
      "100%|██████████| 17/17 [00:00<00:00, 629.63it/s]\n",
      "100%|██████████| 17/17 [00:00<00:00, 653.85it/s]\n",
      "100%|██████████| 17/17 [00:00<00:00, 629.62it/s]\n",
      "100%|██████████| 17/17 [00:00<00:00, 607.12it/s]\n",
      "100%|██████████| 17/17 [00:00<00:00, 680.00it/s]\n",
      "100%|██████████| 17/17 [00:00<00:00, 680.00it/s]\n",
      "100%|██████████| 17/17 [00:00<00:00, 708.34it/s]\n"
     ]
    },
    {
     "name": "stdout",
     "output_type": "stream",
     "text": [
      "Saving model with loss 7.862...\n"
     ]
    },
    {
     "name": "stderr",
     "output_type": "stream",
     "text": [
      "100%|██████████| 17/17 [00:00<00:00, 653.85it/s]\n",
      "100%|██████████| 17/17 [00:00<00:00, 680.00it/s]\n",
      "100%|██████████| 17/17 [00:00<00:00, 680.00it/s]\n",
      "100%|██████████| 17/17 [00:00<00:00, 629.61it/s]\n",
      "100%|██████████| 17/17 [00:00<00:00, 586.21it/s]\n",
      "100%|██████████| 17/17 [00:00<00:00, 607.14it/s]\n",
      "100%|██████████| 17/17 [00:00<00:00, 629.66it/s]\n"
     ]
    },
    {
     "name": "stdout",
     "output_type": "stream",
     "text": [
      "Saving model with loss 7.775...\n"
     ]
    },
    {
     "name": "stderr",
     "output_type": "stream",
     "text": [
      "100%|██████████| 17/17 [00:00<00:00, 586.21it/s]\n",
      "100%|██████████| 17/17 [00:00<00:00, 680.00it/s]\n",
      "100%|██████████| 17/17 [00:00<00:00, 548.38it/s]\n",
      "100%|██████████| 17/17 [00:00<00:00, 629.52it/s]\n"
     ]
    },
    {
     "name": "stdout",
     "output_type": "stream",
     "text": [
      "Epoch [541/6000]: Train loss: 8.1198, Valid loss: 8.7341\n"
     ]
    },
    {
     "name": "stderr",
     "output_type": "stream",
     "text": [
      "100%|██████████| 17/17 [00:00<00:00, 586.21it/s]\n",
      "100%|██████████| 17/17 [00:00<00:00, 653.85it/s]\n",
      "100%|██████████| 17/17 [00:00<00:00, 607.15it/s]\n",
      "100%|██████████| 17/17 [00:00<00:00, 607.16it/s]\n",
      "100%|██████████| 17/17 [00:00<00:00, 629.64it/s]\n"
     ]
    },
    {
     "name": "stdout",
     "output_type": "stream",
     "text": [
      "Saving model with loss 7.724...\n"
     ]
    },
    {
     "name": "stderr",
     "output_type": "stream",
     "text": [
      "100%|██████████| 17/17 [00:00<00:00, 653.84it/s]\n",
      "100%|██████████| 17/17 [00:00<00:00, 607.15it/s]\n",
      "100%|██████████| 17/17 [00:00<00:00, 653.85it/s]\n"
     ]
    },
    {
     "name": "stdout",
     "output_type": "stream",
     "text": [
      "Saving model with loss 7.197...\n"
     ]
    },
    {
     "name": "stderr",
     "output_type": "stream",
     "text": [
      "100%|██████████| 17/17 [00:00<00:00, 586.21it/s]\n",
      "100%|██████████| 17/17 [00:00<00:00, 653.85it/s]\n",
      "100%|██████████| 17/17 [00:00<00:00, 653.85it/s]\n",
      "100%|██████████| 17/17 [00:00<00:00, 653.85it/s]\n",
      "100%|██████████| 17/17 [00:00<00:00, 680.02it/s]\n",
      "100%|██████████| 17/17 [00:00<00:00, 680.00it/s]\n"
     ]
    },
    {
     "name": "stdout",
     "output_type": "stream",
     "text": [
      "Saving model with loss 7.111...\n"
     ]
    },
    {
     "name": "stderr",
     "output_type": "stream",
     "text": [
      "100%|██████████| 17/17 [00:00<00:00, 680.01it/s]\n",
      "100%|██████████| 17/17 [00:00<00:00, 708.34it/s]\n",
      "100%|██████████| 17/17 [00:00<00:00, 680.00it/s]\n",
      "100%|██████████| 17/17 [00:00<00:00, 679.99it/s]\n",
      "100%|██████████| 17/17 [00:00<00:00, 607.13it/s]\n",
      "100%|██████████| 17/17 [00:00<00:00, 680.00it/s]\n"
     ]
    },
    {
     "name": "stdout",
     "output_type": "stream",
     "text": [
      "Epoch [561/6000]: Train loss: 7.5152, Valid loss: 7.3701\n"
     ]
    },
    {
     "name": "stderr",
     "output_type": "stream",
     "text": [
      "100%|██████████| 17/17 [00:00<00:00, 586.21it/s]\n",
      "100%|██████████| 17/17 [00:00<00:00, 679.98it/s]\n",
      "100%|██████████| 17/17 [00:00<00:00, 607.14it/s]\n"
     ]
    },
    {
     "name": "stdout",
     "output_type": "stream",
     "text": [
      "Saving model with loss 7.098...\n"
     ]
    },
    {
     "name": "stderr",
     "output_type": "stream",
     "text": [
      "100%|██████████| 17/17 [00:00<00:00, 629.63it/s]\n",
      "100%|██████████| 17/17 [00:00<00:00, 629.63it/s]\n",
      "100%|██████████| 17/17 [00:00<00:00, 634.38it/s]\n",
      "100%|██████████| 17/17 [00:00<00:00, 629.62it/s]\n"
     ]
    },
    {
     "name": "stdout",
     "output_type": "stream",
     "text": [
      "Saving model with loss 7.051...\n"
     ]
    },
    {
     "name": "stderr",
     "output_type": "stream",
     "text": [
      "100%|██████████| 17/17 [00:00<00:00, 607.15it/s]\n",
      "100%|██████████| 17/17 [00:00<00:00, 629.66it/s]\n",
      "100%|██████████| 17/17 [00:00<00:00, 586.23it/s]\n",
      "100%|██████████| 17/17 [00:00<00:00, 531.24it/s]\n"
     ]
    },
    {
     "name": "stdout",
     "output_type": "stream",
     "text": [
      "Saving model with loss 6.821...\n"
     ]
    },
    {
     "name": "stderr",
     "output_type": "stream",
     "text": [
      "100%|██████████| 17/17 [00:00<00:00, 708.36it/s]\n",
      "100%|██████████| 17/17 [00:00<00:00, 607.15it/s]\n",
      "100%|██████████| 17/17 [00:00<00:00, 607.15it/s]\n",
      "100%|██████████| 17/17 [00:00<00:00, 607.15it/s]\n",
      "100%|██████████| 17/17 [00:00<00:00, 629.63it/s]\n",
      "100%|██████████| 17/17 [00:00<00:00, 653.83it/s]\n",
      "100%|██████████| 17/17 [00:00<00:00, 629.63it/s]\n",
      "100%|██████████| 17/17 [00:00<00:00, 629.63it/s]\n",
      "100%|██████████| 17/17 [00:00<00:00, 629.63it/s]\n"
     ]
    },
    {
     "name": "stdout",
     "output_type": "stream",
     "text": [
      "Epoch [581/6000]: Train loss: 7.0067, Valid loss: 6.6147\n",
      "Saving model with loss 6.615...\n"
     ]
    },
    {
     "name": "stderr",
     "output_type": "stream",
     "text": [
      "100%|██████████| 17/17 [00:00<00:00, 586.21it/s]\n",
      "100%|██████████| 17/17 [00:00<00:00, 586.21it/s]\n",
      "100%|██████████| 17/17 [00:00<00:00, 586.21it/s]\n"
     ]
    },
    {
     "name": "stdout",
     "output_type": "stream",
     "text": [
      "Saving model with loss 6.292...\n"
     ]
    },
    {
     "name": "stderr",
     "output_type": "stream",
     "text": [
      "100%|██████████| 17/17 [00:00<00:00, 607.15it/s]\n",
      "100%|██████████| 17/17 [00:00<00:00, 629.63it/s]\n",
      "100%|██████████| 17/17 [00:00<00:00, 377.78it/s]\n",
      "100%|██████████| 17/17 [00:00<00:00, 435.90it/s]\n",
      "100%|██████████| 17/17 [00:00<00:00, 566.65it/s]\n",
      "100%|██████████| 17/17 [00:00<00:00, 585.56it/s]\n",
      "100%|██████████| 17/17 [00:00<00:00, 607.15it/s]\n",
      "100%|██████████| 17/17 [00:00<00:00, 566.69it/s]\n",
      "100%|██████████| 17/17 [00:00<00:00, 566.67it/s]\n",
      "100%|██████████| 17/17 [00:00<00:00, 607.15it/s]\n",
      "100%|██████████| 17/17 [00:00<00:00, 586.20it/s]\n",
      "100%|██████████| 17/17 [00:00<00:00, 629.63it/s]\n",
      "100%|██████████| 17/17 [00:00<00:00, 586.21it/s]\n",
      "100%|██████████| 17/17 [00:00<00:00, 653.85it/s]\n",
      "100%|██████████| 17/17 [00:00<00:00, 586.23it/s]\n",
      "100%|██████████| 17/17 [00:00<00:00, 654.94it/s]\n",
      "100%|██████████| 17/17 [00:00<00:00, 653.86it/s]\n"
     ]
    },
    {
     "name": "stdout",
     "output_type": "stream",
     "text": [
      "Epoch [601/6000]: Train loss: 6.6237, Valid loss: 6.5145\n"
     ]
    },
    {
     "name": "stderr",
     "output_type": "stream",
     "text": [
      "100%|██████████| 17/17 [00:00<00:00, 629.64it/s]\n",
      "100%|██████████| 17/17 [00:00<00:00, 586.21it/s]\n",
      "100%|██████████| 17/17 [00:00<00:00, 607.14it/s]\n"
     ]
    },
    {
     "name": "stdout",
     "output_type": "stream",
     "text": [
      "Saving model with loss 6.240...\n"
     ]
    },
    {
     "name": "stderr",
     "output_type": "stream",
     "text": [
      "100%|██████████| 17/17 [00:00<00:00, 653.86it/s]\n",
      "100%|██████████| 17/17 [00:00<00:00, 653.86it/s]\n"
     ]
    },
    {
     "name": "stdout",
     "output_type": "stream",
     "text": [
      "Saving model with loss 6.171...\n"
     ]
    },
    {
     "name": "stderr",
     "output_type": "stream",
     "text": [
      "100%|██████████| 17/17 [00:00<00:00, 680.00it/s]\n",
      "100%|██████████| 17/17 [00:00<00:00, 708.35it/s]\n",
      "100%|██████████| 17/17 [00:00<00:00, 629.64it/s]\n",
      "100%|██████████| 17/17 [00:00<00:00, 629.63it/s]\n",
      "100%|██████████| 17/17 [00:00<00:00, 500.00it/s]\n",
      "100%|██████████| 17/17 [00:00<00:00, 629.63it/s]\n",
      "100%|██████████| 17/17 [00:00<00:00, 629.64it/s]\n",
      "100%|██████████| 17/17 [00:00<00:00, 653.85it/s]\n",
      "100%|██████████| 17/17 [00:00<00:00, 586.20it/s]\n"
     ]
    },
    {
     "name": "stdout",
     "output_type": "stream",
     "text": [
      "Saving model with loss 6.163...\n"
     ]
    },
    {
     "name": "stderr",
     "output_type": "stream",
     "text": [
      "100%|██████████| 17/17 [00:00<00:00, 586.21it/s]\n",
      "100%|██████████| 17/17 [00:00<00:00, 586.18it/s]\n"
     ]
    },
    {
     "name": "stdout",
     "output_type": "stream",
     "text": [
      "Saving model with loss 6.047...\n"
     ]
    },
    {
     "name": "stderr",
     "output_type": "stream",
     "text": [
      "100%|██████████| 17/17 [00:00<00:00, 586.21it/s]\n"
     ]
    },
    {
     "name": "stdout",
     "output_type": "stream",
     "text": [
      "Saving model with loss 6.000...\n"
     ]
    },
    {
     "name": "stderr",
     "output_type": "stream",
     "text": [
      "100%|██████████| 17/17 [00:00<00:00, 607.16it/s]\n",
      "100%|██████████| 17/17 [00:00<00:00, 586.21it/s]\n",
      "100%|██████████| 17/17 [00:00<00:00, 633.06it/s]\n"
     ]
    },
    {
     "name": "stdout",
     "output_type": "stream",
     "text": [
      "Epoch [621/6000]: Train loss: 6.3618, Valid loss: 6.2303\n"
     ]
    },
    {
     "name": "stderr",
     "output_type": "stream",
     "text": [
      "100%|██████████| 17/17 [00:00<00:00, 586.22it/s]\n"
     ]
    },
    {
     "name": "stdout",
     "output_type": "stream",
     "text": [
      "Saving model with loss 5.968...\n"
     ]
    },
    {
     "name": "stderr",
     "output_type": "stream",
     "text": [
      "100%|██████████| 17/17 [00:00<00:00, 566.67it/s]\n",
      "100%|██████████| 17/17 [00:00<00:00, 586.21it/s]\n",
      "100%|██████████| 17/17 [00:00<00:00, 566.68it/s]\n",
      "100%|██████████| 17/17 [00:00<00:00, 566.67it/s]\n",
      "100%|██████████| 17/17 [00:00<00:00, 607.15it/s]"
     ]
    },
    {
     "name": "stdout",
     "output_type": "stream",
     "text": [
      "Saving model with loss 5.891...\n"
     ]
    },
    {
     "name": "stderr",
     "output_type": "stream",
     "text": [
      "\n",
      "100%|██████████| 17/17 [00:00<00:00, 629.63it/s]\n",
      "100%|██████████| 17/17 [00:00<00:00, 629.63it/s]\n",
      "100%|██████████| 17/17 [00:00<00:00, 586.22it/s]\n",
      "100%|██████████| 17/17 [00:00<00:00, 566.66it/s]\n"
     ]
    },
    {
     "name": "stdout",
     "output_type": "stream",
     "text": [
      "Saving model with loss 5.881...\n"
     ]
    },
    {
     "name": "stderr",
     "output_type": "stream",
     "text": [
      "100%|██████████| 17/17 [00:00<00:00, 566.66it/s]\n"
     ]
    },
    {
     "name": "stdout",
     "output_type": "stream",
     "text": [
      "Saving model with loss 5.608...\n"
     ]
    },
    {
     "name": "stderr",
     "output_type": "stream",
     "text": [
      "100%|██████████| 17/17 [00:00<00:00, 586.21it/s]\n",
      "100%|██████████| 17/17 [00:00<00:00, 607.12it/s]\n",
      "100%|██████████| 17/17 [00:00<00:00, 629.63it/s]\n",
      "100%|██████████| 17/17 [00:00<00:00, 629.63it/s]\n",
      "100%|██████████| 17/17 [00:00<00:00, 653.84it/s]\n",
      "100%|██████████| 17/17 [00:00<00:00, 653.84it/s]\n",
      "100%|██████████| 17/17 [00:00<00:00, 629.64it/s]\n",
      "100%|██████████| 17/17 [00:00<00:00, 653.85it/s]\n",
      "100%|██████████| 17/17 [00:00<00:00, 653.85it/s]\n"
     ]
    },
    {
     "name": "stdout",
     "output_type": "stream",
     "text": [
      "Epoch [641/6000]: Train loss: 6.1382, Valid loss: 6.0402\n"
     ]
    },
    {
     "name": "stderr",
     "output_type": "stream",
     "text": [
      "100%|██████████| 17/17 [00:00<00:00, 607.14it/s]\n",
      "100%|██████████| 17/17 [00:00<00:00, 607.15it/s]\n",
      "100%|██████████| 17/17 [00:00<00:00, 621.74it/s]\n",
      "100%|██████████| 17/17 [00:00<00:00, 607.16it/s]\n",
      "100%|██████████| 17/17 [00:00<00:00, 607.44it/s]\n",
      "100%|██████████| 17/17 [00:00<00:00, 607.15it/s]\n",
      "100%|██████████| 17/17 [00:00<00:00, 586.20it/s]\n",
      "100%|██████████| 17/17 [00:00<00:00, 607.14it/s]\n",
      "100%|██████████| 17/17 [00:00<00:00, 607.15it/s]\n",
      "100%|██████████| 17/17 [00:00<00:00, 607.14it/s]\n",
      "100%|██████████| 17/17 [00:00<00:00, 586.21it/s]\n",
      "100%|██████████| 17/17 [00:00<00:00, 586.22it/s]\n",
      "100%|██████████| 17/17 [00:00<00:00, 586.22it/s]\n"
     ]
    },
    {
     "name": "stdout",
     "output_type": "stream",
     "text": [
      "Saving model with loss 5.428...\n"
     ]
    },
    {
     "name": "stderr",
     "output_type": "stream",
     "text": [
      "100%|██████████| 17/17 [00:00<00:00, 586.21it/s]\n",
      "100%|██████████| 17/17 [00:00<00:00, 629.60it/s]\n",
      "100%|██████████| 17/17 [00:00<00:00, 607.14it/s]\n",
      "100%|██████████| 17/17 [00:00<00:00, 589.86it/s]\n",
      "100%|██████████| 17/17 [00:00<00:00, 607.14it/s]\n",
      "100%|██████████| 17/17 [00:00<00:00, 586.21it/s]\n",
      "100%|██████████| 17/17 [00:00<00:00, 629.64it/s]\n"
     ]
    },
    {
     "name": "stdout",
     "output_type": "stream",
     "text": [
      "Epoch [661/6000]: Train loss: 5.9988, Valid loss: 5.5619\n"
     ]
    },
    {
     "name": "stderr",
     "output_type": "stream",
     "text": [
      "100%|██████████| 17/17 [00:00<00:00, 629.66it/s]\n",
      "100%|██████████| 17/17 [00:00<00:00, 586.20it/s]\n",
      "100%|██████████| 17/17 [00:00<00:00, 653.86it/s]\n",
      "100%|██████████| 17/17 [00:00<00:00, 639.93it/s]\n",
      "100%|██████████| 17/17 [00:00<00:00, 629.64it/s]\n",
      "100%|██████████| 17/17 [00:00<00:00, 607.15it/s]\n",
      "100%|██████████| 17/17 [00:00<00:00, 653.85it/s]\n",
      "100%|██████████| 17/17 [00:00<00:00, 586.22it/s]\n",
      "100%|██████████| 17/17 [00:00<00:00, 607.15it/s]\n",
      "100%|██████████| 17/17 [00:00<00:00, 586.22it/s]\n",
      "100%|██████████| 17/17 [00:00<00:00, 586.22it/s]\n",
      "100%|██████████| 17/17 [00:00<00:00, 575.23it/s]\n",
      "100%|██████████| 17/17 [00:00<00:00, 586.21it/s]\n",
      "100%|██████████| 17/17 [00:00<00:00, 607.17it/s]\n",
      "100%|██████████| 17/17 [00:00<00:00, 607.15it/s]\n",
      "100%|██████████| 17/17 [00:00<00:00, 577.28it/s]\n",
      "100%|██████████| 17/17 [00:00<00:00, 566.67it/s]\n",
      "100%|██████████| 17/17 [00:00<00:00, 629.64it/s]\n",
      "100%|██████████| 17/17 [00:00<00:00, 653.86it/s]\n",
      "100%|██████████| 17/17 [00:00<00:00, 629.61it/s]\n"
     ]
    },
    {
     "name": "stdout",
     "output_type": "stream",
     "text": [
      "Epoch [681/6000]: Train loss: 5.8862, Valid loss: 5.7686\n"
     ]
    },
    {
     "name": "stderr",
     "output_type": "stream",
     "text": [
      "100%|██████████| 17/17 [00:00<00:00, 653.85it/s]\n",
      "100%|██████████| 17/17 [00:00<00:00, 653.86it/s]\n",
      "100%|██████████| 17/17 [00:00<00:00, 653.85it/s]\n"
     ]
    },
    {
     "name": "stdout",
     "output_type": "stream",
     "text": [
      "Saving model with loss 5.385...\n"
     ]
    },
    {
     "name": "stderr",
     "output_type": "stream",
     "text": [
      "100%|██████████| 17/17 [00:00<00:00, 653.81it/s]\n",
      "100%|██████████| 17/17 [00:00<00:00, 653.85it/s]\n",
      "100%|██████████| 17/17 [00:00<00:00, 653.85it/s]\n",
      "100%|██████████| 17/17 [00:00<00:00, 629.63it/s]\n",
      "100%|██████████| 17/17 [00:00<00:00, 653.84it/s]\n",
      "100%|██████████| 17/17 [00:00<00:00, 653.86it/s]\n",
      "100%|██████████| 17/17 [00:00<00:00, 653.85it/s]\n",
      "100%|██████████| 17/17 [00:00<00:00, 653.85it/s]\n",
      "100%|██████████| 17/17 [00:00<00:00, 653.85it/s]\n",
      "100%|██████████| 17/17 [00:00<00:00, 629.63it/s]\n",
      "100%|██████████| 17/17 [00:00<00:00, 653.85it/s]\n",
      "100%|██████████| 17/17 [00:00<00:00, 629.63it/s]\n",
      "100%|██████████| 17/17 [00:00<00:00, 653.86it/s]\n",
      "100%|██████████| 17/17 [00:00<00:00, 485.72it/s]\n",
      "100%|██████████| 17/17 [00:00<00:00, 586.22it/s]\n",
      "100%|██████████| 17/17 [00:00<00:00, 607.16it/s]\n",
      "100%|██████████| 17/17 [00:00<00:00, 515.15it/s]\n"
     ]
    },
    {
     "name": "stdout",
     "output_type": "stream",
     "text": [
      "Epoch [701/6000]: Train loss: 5.8034, Valid loss: 6.3465\n"
     ]
    },
    {
     "name": "stderr",
     "output_type": "stream",
     "text": [
      "100%|██████████| 17/17 [00:00<00:00, 566.67it/s]\n"
     ]
    },
    {
     "name": "stdout",
     "output_type": "stream",
     "text": [
      "Saving model with loss 5.230...\n"
     ]
    },
    {
     "name": "stderr",
     "output_type": "stream",
     "text": [
      "100%|██████████| 17/17 [00:00<00:00, 586.20it/s]\n",
      "100%|██████████| 17/17 [00:00<00:00, 566.67it/s]\n",
      "100%|██████████| 17/17 [00:00<00:00, 586.22it/s]\n",
      "100%|██████████| 17/17 [00:00<00:00, 586.21it/s]\n",
      "100%|██████████| 17/17 [00:00<00:00, 607.15it/s]\n",
      "100%|██████████| 17/17 [00:00<00:00, 586.20it/s]\n",
      "100%|██████████| 17/17 [00:00<00:00, 586.22it/s]\n",
      "100%|██████████| 17/17 [00:00<00:00, 607.15it/s]\n",
      "100%|██████████| 17/17 [00:00<00:00, 531.26it/s]\n",
      "100%|██████████| 17/17 [00:00<00:00, 615.81it/s]\n",
      "100%|██████████| 17/17 [00:00<00:00, 607.15it/s]\n",
      "100%|██████████| 17/17 [00:00<00:00, 639.55it/s]\n",
      "100%|██████████| 17/17 [00:00<00:00, 607.16it/s]\n",
      "100%|██████████| 17/17 [00:00<00:00, 617.69it/s]\n",
      "100%|██████████| 17/17 [00:00<00:00, 629.80it/s]\n",
      "100%|██████████| 17/17 [00:00<00:00, 629.64it/s]\n",
      "100%|██████████| 17/17 [00:00<00:00, 653.85it/s]\n",
      "100%|██████████| 17/17 [00:00<00:00, 629.64it/s]\n",
      "100%|██████████| 17/17 [00:00<00:00, 664.57it/s]\n"
     ]
    },
    {
     "name": "stdout",
     "output_type": "stream",
     "text": [
      "Epoch [721/6000]: Train loss: 5.6915, Valid loss: 5.7519\n"
     ]
    },
    {
     "name": "stderr",
     "output_type": "stream",
     "text": [
      "100%|██████████| 17/17 [00:00<00:00, 653.85it/s]\n",
      "100%|██████████| 17/17 [00:00<00:00, 693.63it/s]\n",
      "100%|██████████| 17/17 [00:00<00:00, 679.99it/s]\n",
      "100%|██████████| 17/17 [00:00<00:00, 684.47it/s]\n",
      "100%|██████████| 17/17 [00:00<00:00, 679.92it/s]\n",
      "100%|██████████| 17/17 [00:00<00:00, 680.02it/s]\n",
      "100%|██████████| 17/17 [00:00<00:00, 607.15it/s]\n",
      "100%|██████████| 17/17 [00:00<00:00, 653.76it/s]\n",
      "100%|██████████| 17/17 [00:00<00:00, 653.85it/s]\n",
      "100%|██████████| 17/17 [00:00<00:00, 653.86it/s]\n",
      "100%|██████████| 17/17 [00:00<00:00, 653.77it/s]\n",
      "100%|██████████| 17/17 [00:00<00:00, 708.34it/s]\n",
      "100%|██████████| 17/17 [00:00<00:00, 708.34it/s]\n",
      "100%|██████████| 17/17 [00:00<00:00, 679.79it/s]\n",
      "100%|██████████| 17/17 [00:00<00:00, 680.03it/s]\n",
      "100%|██████████| 17/17 [00:00<00:00, 680.03it/s]\n",
      "100%|██████████| 17/17 [00:00<00:00, 607.15it/s]\n",
      "100%|██████████| 17/17 [00:00<00:00, 629.65it/s]\n",
      "100%|██████████| 17/17 [00:00<00:00, 653.87it/s]\n",
      "100%|██████████| 17/17 [00:00<00:00, 653.86it/s]\n"
     ]
    },
    {
     "name": "stdout",
     "output_type": "stream",
     "text": [
      "Epoch [741/6000]: Train loss: 5.6072, Valid loss: 5.4449\n"
     ]
    },
    {
     "name": "stderr",
     "output_type": "stream",
     "text": [
      "100%|██████████| 17/17 [00:00<00:00, 653.77it/s]\n",
      "100%|██████████| 17/17 [00:00<00:00, 653.84it/s]\n",
      "100%|██████████| 17/17 [00:00<00:00, 680.02it/s]\n",
      "100%|██████████| 17/17 [00:00<00:00, 708.24it/s]\n"
     ]
    },
    {
     "name": "stdout",
     "output_type": "stream",
     "text": [
      "Saving model with loss 5.099...\n"
     ]
    },
    {
     "name": "stderr",
     "output_type": "stream",
     "text": [
      "100%|██████████| 17/17 [00:00<00:00, 680.00it/s]\n"
     ]
    },
    {
     "name": "stdout",
     "output_type": "stream",
     "text": [
      "Saving model with loss 5.004...\n"
     ]
    },
    {
     "name": "stderr",
     "output_type": "stream",
     "text": [
      "100%|██████████| 17/17 [00:00<00:00, 680.00it/s]\n",
      "100%|██████████| 17/17 [00:00<00:00, 708.24it/s]\n",
      "100%|██████████| 17/17 [00:00<00:00, 708.35it/s]\n",
      "100%|██████████| 17/17 [00:00<00:00, 708.32it/s]\n",
      "100%|██████████| 17/17 [00:00<00:00, 658.56it/s]\n",
      "100%|██████████| 17/17 [00:00<00:00, 653.85it/s]\n",
      "100%|██████████| 17/17 [00:00<00:00, 653.86it/s]\n",
      "100%|██████████| 17/17 [00:00<00:00, 653.76it/s]\n",
      "100%|██████████| 17/17 [00:00<00:00, 629.63it/s]\n",
      "100%|██████████| 17/17 [00:00<00:00, 629.62it/s]\n",
      "100%|██████████| 17/17 [00:00<00:00, 653.77it/s]\n",
      "100%|██████████| 17/17 [00:00<00:00, 708.36it/s]\n",
      "100%|██████████| 17/17 [00:00<00:00, 680.00it/s]\n",
      "100%|██████████| 17/17 [00:00<00:00, 673.79it/s]\n",
      "100%|██████████| 17/17 [00:00<00:00, 708.34it/s]\n"
     ]
    },
    {
     "name": "stdout",
     "output_type": "stream",
     "text": [
      "Epoch [761/6000]: Train loss: 5.5334, Valid loss: 5.9607\n"
     ]
    },
    {
     "name": "stderr",
     "output_type": "stream",
     "text": [
      "100%|██████████| 17/17 [00:00<00:00, 629.63it/s]\n",
      "100%|██████████| 17/17 [00:00<00:00, 586.21it/s]\n",
      "100%|██████████| 17/17 [00:00<00:00, 653.85it/s]\n",
      "100%|██████████| 17/17 [00:00<00:00, 629.62it/s]\n",
      "100%|██████████| 17/17 [00:00<00:00, 629.63it/s]\n",
      "100%|██████████| 17/17 [00:00<00:00, 629.55it/s]\n",
      "100%|██████████| 17/17 [00:00<00:00, 653.85it/s]\n"
     ]
    },
    {
     "name": "stdout",
     "output_type": "stream",
     "text": [
      "Saving model with loss 4.839...\n"
     ]
    },
    {
     "name": "stderr",
     "output_type": "stream",
     "text": [
      "100%|██████████| 17/17 [00:00<00:00, 708.35it/s]\n",
      "100%|██████████| 17/17 [00:00<00:00, 679.89it/s]\n",
      "100%|██████████| 17/17 [00:00<00:00, 680.01it/s]\n",
      "100%|██████████| 17/17 [00:00<00:00, 680.00it/s]\n",
      "100%|██████████| 17/17 [00:00<00:00, 679.93it/s]\n",
      "100%|██████████| 17/17 [00:00<00:00, 586.21it/s]\n",
      "100%|██████████| 17/17 [00:00<00:00, 629.63it/s]\n",
      "100%|██████████| 17/17 [00:00<00:00, 629.54it/s]\n",
      "100%|██████████| 17/17 [00:00<00:00, 653.85it/s]\n",
      "100%|██████████| 17/17 [00:00<00:00, 629.63it/s]\n",
      "100%|██████████| 17/17 [00:00<00:00, 608.26it/s]\n",
      "100%|██████████| 17/17 [00:00<00:00, 708.34it/s]\n",
      "100%|██████████| 17/17 [00:00<00:00, 708.33it/s]\n"
     ]
    },
    {
     "name": "stdout",
     "output_type": "stream",
     "text": [
      "Epoch [781/6000]: Train loss: 5.4628, Valid loss: 5.7544\n"
     ]
    },
    {
     "name": "stderr",
     "output_type": "stream",
     "text": [
      "100%|██████████| 17/17 [00:00<00:00, 653.76it/s]\n",
      "100%|██████████| 17/17 [00:00<00:00, 653.87it/s]\n",
      "100%|██████████| 17/17 [00:00<00:00, 653.86it/s]\n",
      "100%|██████████| 17/17 [00:00<00:00, 680.02it/s]\n",
      "100%|██████████| 17/17 [00:00<00:00, 629.62it/s]\n",
      "100%|██████████| 17/17 [00:00<00:00, 586.21it/s]\n",
      "100%|██████████| 17/17 [00:00<00:00, 653.86it/s]\n",
      "100%|██████████| 17/17 [00:00<00:00, 629.62it/s]\n",
      "100%|██████████| 17/17 [00:00<00:00, 653.85it/s]\n",
      "100%|██████████| 17/17 [00:00<00:00, 607.14it/s]\n",
      "100%|██████████| 17/17 [00:00<00:00, 629.64it/s]\n",
      "100%|██████████| 17/17 [00:00<00:00, 653.86it/s]\n",
      "100%|██████████| 17/17 [00:00<00:00, 629.63it/s]\n",
      "100%|██████████| 17/17 [00:00<00:00, 629.54it/s]\n",
      "100%|██████████| 17/17 [00:00<00:00, 653.85it/s]\n",
      "100%|██████████| 17/17 [00:00<00:00, 653.85it/s]\n",
      "100%|██████████| 17/17 [00:00<00:00, 708.23it/s]\n",
      "100%|██████████| 17/17 [00:00<00:00, 708.33it/s]\n",
      "100%|██████████| 17/17 [00:00<00:00, 680.02it/s]\n",
      "100%|██████████| 17/17 [00:00<00:00, 679.91it/s]\n"
     ]
    },
    {
     "name": "stdout",
     "output_type": "stream",
     "text": [
      "Epoch [801/6000]: Train loss: 5.3758, Valid loss: 6.2636\n"
     ]
    },
    {
     "name": "stderr",
     "output_type": "stream",
     "text": [
      "100%|██████████| 17/17 [00:00<00:00, 680.01it/s]\n",
      "100%|██████████| 17/17 [00:00<00:00, 708.33it/s]\n",
      "100%|██████████| 17/17 [00:00<00:00, 653.75it/s]\n",
      "100%|██████████| 17/17 [00:00<00:00, 629.61it/s]\n",
      "100%|██████████| 17/17 [00:00<00:00, 629.63it/s]\n",
      "100%|██████████| 17/17 [00:00<00:00, 629.52it/s]\n",
      "100%|██████████| 17/17 [00:00<00:00, 629.62it/s]\n",
      "100%|██████████| 17/17 [00:00<00:00, 607.14it/s]\n",
      "100%|██████████| 17/17 [00:00<00:00, 607.00it/s]\n",
      "100%|██████████| 17/17 [00:00<00:00, 653.84it/s]\n",
      "100%|██████████| 17/17 [00:00<00:00, 708.32it/s]\n",
      "100%|██████████| 17/17 [00:00<00:00, 679.85it/s]\n",
      "100%|██████████| 17/17 [00:00<00:00, 680.01it/s]\n",
      "100%|██████████| 17/17 [00:00<00:00, 708.33it/s]\n",
      "100%|██████████| 17/17 [00:00<00:00, 679.97it/s]\n",
      "100%|██████████| 17/17 [00:00<00:00, 607.15it/s]\n",
      "100%|██████████| 17/17 [00:00<00:00, 629.65it/s]\n",
      "100%|██████████| 17/17 [00:00<00:00, 607.14it/s]\n",
      "100%|██████████| 17/17 [00:00<00:00, 607.15it/s]\n",
      "100%|██████████| 17/17 [00:00<00:00, 629.64it/s]\n"
     ]
    },
    {
     "name": "stdout",
     "output_type": "stream",
     "text": [
      "Epoch [821/6000]: Train loss: 5.2941, Valid loss: 5.6758\n"
     ]
    },
    {
     "name": "stderr",
     "output_type": "stream",
     "text": [
      "100%|██████████| 17/17 [00:00<00:00, 629.63it/s]\n",
      "100%|██████████| 17/17 [00:00<00:00, 607.15it/s]\n",
      "100%|██████████| 17/17 [00:00<00:00, 586.21it/s]\n"
     ]
    },
    {
     "name": "stdout",
     "output_type": "stream",
     "text": [
      "Saving model with loss 4.828...\n"
     ]
    },
    {
     "name": "stderr",
     "output_type": "stream",
     "text": [
      "100%|██████████| 17/17 [00:00<00:00, 653.86it/s]\n",
      "100%|██████████| 17/17 [00:00<00:00, 629.65it/s]\n",
      "100%|██████████| 17/17 [00:00<00:00, 485.72it/s]\n"
     ]
    },
    {
     "name": "stdout",
     "output_type": "stream",
     "text": [
      "Saving model with loss 4.827...\n"
     ]
    },
    {
     "name": "stderr",
     "output_type": "stream",
     "text": [
      "100%|██████████| 17/17 [00:00<00:00, 607.14it/s]\n",
      "100%|██████████| 17/17 [00:00<00:00, 607.15it/s]\n",
      "100%|██████████| 17/17 [00:00<00:00, 586.21it/s]\n",
      "100%|██████████| 17/17 [00:00<00:00, 586.21it/s]\n",
      "100%|██████████| 17/17 [00:00<00:00, 586.22it/s]\n",
      "100%|██████████| 17/17 [00:00<00:00, 586.22it/s]\n",
      "100%|██████████| 17/17 [00:00<00:00, 586.23it/s]\n",
      "100%|██████████| 17/17 [00:00<00:00, 607.15it/s]\n"
     ]
    },
    {
     "name": "stdout",
     "output_type": "stream",
     "text": [
      "Saving model with loss 4.816...\n"
     ]
    },
    {
     "name": "stderr",
     "output_type": "stream",
     "text": [
      "100%|██████████| 17/17 [00:00<00:00, 607.16it/s]\n",
      "100%|██████████| 17/17 [00:00<00:00, 653.85it/s]\n",
      "100%|██████████| 17/17 [00:00<00:00, 629.64it/s]\n",
      "100%|██████████| 17/17 [00:00<00:00, 629.65it/s]\n",
      "100%|██████████| 17/17 [00:00<00:00, 632.43it/s]\n",
      "100%|██████████| 17/17 [00:00<00:00, 584.36it/s]\n"
     ]
    },
    {
     "name": "stdout",
     "output_type": "stream",
     "text": [
      "Epoch [841/6000]: Train loss: 5.2024, Valid loss: 5.4302\n"
     ]
    },
    {
     "name": "stderr",
     "output_type": "stream",
     "text": [
      "100%|██████████| 17/17 [00:00<00:00, 591.79it/s]\n",
      "100%|██████████| 17/17 [00:00<00:00, 608.27it/s]\n"
     ]
    },
    {
     "name": "stdout",
     "output_type": "stream",
     "text": [
      "Saving model with loss 4.809...\n"
     ]
    },
    {
     "name": "stderr",
     "output_type": "stream",
     "text": [
      "100%|██████████| 17/17 [00:00<00:00, 578.85it/s]\n",
      "100%|██████████| 17/17 [00:00<00:00, 580.12it/s]\n",
      "100%|██████████| 17/17 [00:00<00:00, 596.21it/s]\n",
      "100%|██████████| 17/17 [00:00<00:00, 586.23it/s]\n",
      "100%|██████████| 17/17 [00:00<00:00, 617.73it/s]\n"
     ]
    },
    {
     "name": "stdout",
     "output_type": "stream",
     "text": [
      "Saving model with loss 4.805...\n"
     ]
    },
    {
     "name": "stderr",
     "output_type": "stream",
     "text": [
      "100%|██████████| 17/17 [00:00<00:00, 602.82it/s]\n",
      "100%|██████████| 17/17 [00:00<00:00, 653.91it/s]\n",
      "100%|██████████| 17/17 [00:00<00:00, 607.16it/s]\n",
      "100%|██████████| 17/17 [00:00<00:00, 617.86it/s]\n"
     ]
    },
    {
     "name": "stdout",
     "output_type": "stream",
     "text": [
      "Saving model with loss 4.578...\n"
     ]
    },
    {
     "name": "stderr",
     "output_type": "stream",
     "text": [
      "100%|██████████| 17/17 [00:00<00:00, 628.73it/s]\n",
      "100%|██████████| 17/17 [00:00<00:00, 607.14it/s]\n",
      "100%|██████████| 17/17 [00:00<00:00, 629.64it/s]\n",
      "100%|██████████| 17/17 [00:00<00:00, 607.06it/s]\n",
      "100%|██████████| 17/17 [00:00<00:00, 630.64it/s]\n",
      "100%|██████████| 17/17 [00:00<00:00, 607.15it/s]\n",
      "100%|██████████| 17/17 [00:00<00:00, 576.00it/s]\n",
      "100%|██████████| 17/17 [00:00<00:00, 607.07it/s]\n",
      "100%|██████████| 17/17 [00:00<00:00, 607.15it/s]\n"
     ]
    },
    {
     "name": "stdout",
     "output_type": "stream",
     "text": [
      "Epoch [861/6000]: Train loss: 5.1226, Valid loss: 4.6890\n"
     ]
    },
    {
     "name": "stderr",
     "output_type": "stream",
     "text": [
      "100%|██████████| 17/17 [00:00<00:00, 629.63it/s]\n",
      "100%|██████████| 17/17 [00:00<00:00, 589.72it/s]\n",
      "100%|██████████| 17/17 [00:00<00:00, 606.69it/s]\n",
      "100%|██████████| 17/17 [00:00<00:00, 653.86it/s]\n",
      "100%|██████████| 17/17 [00:00<00:00, 586.23it/s]\n",
      "100%|██████████| 17/17 [00:00<00:00, 641.06it/s]\n",
      "100%|██████████| 17/17 [00:00<00:00, 596.25it/s]\n",
      "100%|██████████| 17/17 [00:00<00:00, 629.65it/s]\n",
      "100%|██████████| 17/17 [00:00<00:00, 629.56it/s]\n",
      "100%|██████████| 17/17 [00:00<00:00, 601.19it/s]\n",
      "100%|██████████| 17/17 [00:00<00:00, 607.15it/s]\n",
      "100%|██████████| 17/17 [00:00<00:00, 680.01it/s]\n",
      "100%|██████████| 17/17 [00:00<00:00, 596.79it/s]\n",
      "100%|██████████| 17/17 [00:00<00:00, 618.07it/s]\n",
      "100%|██████████| 17/17 [00:00<00:00, 607.22it/s]\n",
      "100%|██████████| 17/17 [00:00<00:00, 607.16it/s]\n",
      "100%|██████████| 17/17 [00:00<00:00, 616.58it/s]\n",
      "100%|██████████| 17/17 [00:00<00:00, 515.16it/s]\n",
      "100%|██████████| 17/17 [00:00<00:00, 586.22it/s]\n",
      "100%|██████████| 17/17 [00:00<00:00, 576.00it/s]\n"
     ]
    },
    {
     "name": "stdout",
     "output_type": "stream",
     "text": [
      "Epoch [881/6000]: Train loss: 5.0407, Valid loss: 4.9719\n"
     ]
    },
    {
     "name": "stderr",
     "output_type": "stream",
     "text": [
      "100%|██████████| 17/17 [00:00<00:00, 566.68it/s]\n",
      "100%|██████████| 17/17 [00:00<00:00, 607.16it/s]\n",
      "100%|██████████| 17/17 [00:00<00:00, 629.56it/s]\n",
      "100%|██████████| 17/17 [00:00<00:00, 629.64it/s]\n",
      "100%|██████████| 17/17 [00:00<00:00, 629.63it/s]\n",
      "100%|██████████| 17/17 [00:00<00:00, 657.39it/s]\n",
      "100%|██████████| 17/17 [00:00<00:00, 693.47it/s]\n",
      "100%|██████████| 17/17 [00:00<00:00, 680.00it/s]\n",
      "100%|██████████| 17/17 [00:00<00:00, 708.35it/s]\n"
     ]
    },
    {
     "name": "stdout",
     "output_type": "stream",
     "text": [
      "Saving model with loss 4.549...\n"
     ]
    },
    {
     "name": "stderr",
     "output_type": "stream",
     "text": [
      "100%|██████████| 17/17 [00:00<00:00, 708.24it/s]\n",
      "100%|██████████| 17/17 [00:00<00:00, 629.18it/s]\n",
      "100%|██████████| 17/17 [00:00<00:00, 666.45it/s]\n",
      "100%|██████████| 17/17 [00:00<00:00, 653.86it/s]\n",
      "100%|██████████| 17/17 [00:00<00:00, 653.75it/s]\n",
      "100%|██████████| 17/17 [00:00<00:00, 658.03it/s]\n",
      "100%|██████████| 17/17 [00:00<00:00, 653.86it/s]\n",
      "100%|██████████| 17/17 [00:00<00:00, 607.14it/s]\n",
      "100%|██████████| 17/17 [00:00<00:00, 629.55it/s]\n",
      "100%|██████████| 17/17 [00:00<00:00, 680.01it/s]\n",
      "100%|██████████| 17/17 [00:00<00:00, 680.02it/s]\n"
     ]
    },
    {
     "name": "stdout",
     "output_type": "stream",
     "text": [
      "Epoch [901/6000]: Train loss: 4.9676, Valid loss: 4.9437\n"
     ]
    },
    {
     "name": "stderr",
     "output_type": "stream",
     "text": [
      "100%|██████████| 17/17 [00:00<00:00, 653.75it/s]\n",
      "100%|██████████| 17/17 [00:00<00:00, 668.79it/s]\n",
      "100%|██████████| 17/17 [00:00<00:00, 500.00it/s]\n"
     ]
    },
    {
     "name": "stdout",
     "output_type": "stream",
     "text": [
      "Saving model with loss 4.529...\n"
     ]
    },
    {
     "name": "stderr",
     "output_type": "stream",
     "text": [
      "100%|██████████| 17/17 [00:00<00:00, 653.85it/s]\n",
      "100%|██████████| 17/17 [00:00<00:00, 641.04it/s]\n",
      "100%|██████████| 17/17 [00:00<00:00, 596.29it/s]\n",
      "100%|██████████| 17/17 [00:00<00:00, 629.63it/s]\n",
      "100%|██████████| 17/17 [00:00<00:00, 607.06it/s]\n",
      "100%|██████████| 17/17 [00:00<00:00, 617.87it/s]\n",
      "100%|██████████| 17/17 [00:00<00:00, 680.02it/s]\n",
      "100%|██████████| 17/17 [00:00<00:00, 680.00it/s]\n",
      "100%|██████████| 17/17 [00:00<00:00, 679.91it/s]\n",
      "100%|██████████| 17/17 [00:00<00:00, 666.43it/s]\n",
      "100%|██████████| 17/17 [00:00<00:00, 607.04it/s]\n",
      "100%|██████████| 17/17 [00:00<00:00, 653.76it/s]\n",
      "100%|██████████| 17/17 [00:00<00:00, 641.20it/s]\n",
      "100%|██████████| 17/17 [00:00<00:00, 617.98it/s]\n",
      "100%|██████████| 17/17 [00:00<00:00, 653.85it/s]\n",
      "100%|██████████| 17/17 [00:00<00:00, 629.54it/s]\n",
      "100%|██████████| 17/17 [00:00<00:00, 653.75it/s]\n"
     ]
    },
    {
     "name": "stdout",
     "output_type": "stream",
     "text": [
      "Epoch [921/6000]: Train loss: 4.8837, Valid loss: 4.9856\n"
     ]
    },
    {
     "name": "stderr",
     "output_type": "stream",
     "text": [
      "100%|██████████| 17/17 [00:00<00:00, 629.60it/s]\n",
      "100%|██████████| 17/17 [00:00<00:00, 589.81it/s]\n",
      "100%|██████████| 17/17 [00:00<00:00, 607.15it/s]\n",
      "100%|██████████| 17/17 [00:00<00:00, 607.14it/s]\n",
      "100%|██████████| 17/17 [00:00<00:00, 739.13it/s]\n",
      "100%|██████████| 17/17 [00:00<00:00, 738.95it/s]\n",
      "100%|██████████| 17/17 [00:00<00:00, 698.65it/s]\n",
      "100%|██████████| 17/17 [00:00<00:00, 629.79it/s]\n",
      "100%|██████████| 17/17 [00:00<00:00, 607.14it/s]\n",
      "100%|██████████| 17/17 [00:00<00:00, 648.20it/s]\n",
      "100%|██████████| 17/17 [00:00<00:00, 772.59it/s]\n",
      "100%|██████████| 17/17 [00:00<00:00, 723.12it/s]\n",
      "100%|██████████| 17/17 [00:00<00:00, 708.59it/s]\n",
      "100%|██████████| 17/17 [00:00<00:00, 617.84it/s]\n",
      "100%|██████████| 17/17 [00:00<00:00, 629.45it/s]\n",
      "100%|██████████| 17/17 [00:00<00:00, 629.64it/s]\n",
      "100%|██████████| 17/17 [00:00<00:00, 653.86it/s]\n",
      "100%|██████████| 17/17 [00:00<00:00, 629.55it/s]\n",
      "100%|██████████| 17/17 [00:00<00:00, 612.59it/s]\n"
     ]
    },
    {
     "name": "stdout",
     "output_type": "stream",
     "text": [
      "Saving model with loss 4.506...\n"
     ]
    },
    {
     "name": "stderr",
     "output_type": "stream",
     "text": [
      "100%|██████████| 17/17 [00:00<00:00, 629.63it/s]\n"
     ]
    },
    {
     "name": "stdout",
     "output_type": "stream",
     "text": [
      "Epoch [941/6000]: Train loss: 4.7938, Valid loss: 5.1741\n"
     ]
    },
    {
     "name": "stderr",
     "output_type": "stream",
     "text": [
      "100%|██████████| 17/17 [00:00<00:00, 629.64it/s]\n",
      "100%|██████████| 17/17 [00:00<00:00, 642.42it/s]\n",
      "100%|██████████| 17/17 [00:00<00:00, 607.15it/s]\n"
     ]
    },
    {
     "name": "stdout",
     "output_type": "stream",
     "text": [
      "Saving model with loss 4.387...\n"
     ]
    },
    {
     "name": "stderr",
     "output_type": "stream",
     "text": [
      "100%|██████████| 17/17 [00:00<00:00, 607.14it/s]\n",
      "100%|██████████| 17/17 [00:00<00:00, 617.50it/s]\n",
      "100%|██████████| 17/17 [00:00<00:00, 606.28it/s]\n",
      "100%|██████████| 17/17 [00:00<00:00, 653.83it/s]\n",
      "100%|██████████| 17/17 [00:00<00:00, 629.64it/s]\n",
      "100%|██████████| 17/17 [00:00<00:00, 691.79it/s]\n",
      "100%|██████████| 17/17 [00:00<00:00, 665.23it/s]\n",
      "100%|██████████| 17/17 [00:00<00:00, 708.29it/s]\n",
      "100%|██████████| 17/17 [00:00<00:00, 679.69it/s]\n",
      "100%|██████████| 17/17 [00:00<00:00, 586.22it/s]\n",
      "100%|██████████| 17/17 [00:00<00:00, 607.15it/s]\n",
      "100%|██████████| 17/17 [00:00<00:00, 586.22it/s]\n"
     ]
    },
    {
     "name": "stdout",
     "output_type": "stream",
     "text": [
      "Saving model with loss 4.382...\n"
     ]
    },
    {
     "name": "stderr",
     "output_type": "stream",
     "text": [
      "100%|██████████| 17/17 [00:00<00:00, 607.15it/s]\n",
      "100%|██████████| 17/17 [00:00<00:00, 607.16it/s]\n",
      "100%|██████████| 17/17 [00:00<00:00, 586.21it/s]\n",
      "100%|██████████| 17/17 [00:00<00:00, 586.21it/s]\n",
      "100%|██████████| 17/17 [00:00<00:00, 559.47it/s]\n"
     ]
    },
    {
     "name": "stdout",
     "output_type": "stream",
     "text": [
      "Epoch [961/6000]: Train loss: 4.7172, Valid loss: 4.4524\n"
     ]
    },
    {
     "name": "stderr",
     "output_type": "stream",
     "text": [
      "100%|██████████| 17/17 [00:00<00:00, 629.64it/s]\n",
      "100%|██████████| 17/17 [00:00<00:00, 653.87it/s]\n",
      "100%|██████████| 17/17 [00:00<00:00, 653.86it/s]\n",
      "100%|██████████| 17/17 [00:00<00:00, 653.87it/s]\n",
      "100%|██████████| 17/17 [00:00<00:00, 653.86it/s]\n",
      "100%|██████████| 17/17 [00:00<00:00, 653.85it/s]\n",
      "100%|██████████| 17/17 [00:00<00:00, 680.01it/s]\n"
     ]
    },
    {
     "name": "stdout",
     "output_type": "stream",
     "text": [
      "Saving model with loss 4.263...\n"
     ]
    },
    {
     "name": "stderr",
     "output_type": "stream",
     "text": [
      "100%|██████████| 17/17 [00:00<00:00, 586.21it/s]\n",
      "100%|██████████| 17/17 [00:00<00:00, 566.69it/s]\n",
      "100%|██████████| 17/17 [00:00<00:00, 607.15it/s]\n",
      "100%|██████████| 17/17 [00:00<00:00, 586.20it/s]\n",
      "100%|██████████| 17/17 [00:00<00:00, 586.22it/s]\n",
      "100%|██████████| 17/17 [00:00<00:00, 586.21it/s]\n",
      "100%|██████████| 17/17 [00:00<00:00, 586.21it/s]\n",
      "100%|██████████| 17/17 [00:00<00:00, 586.22it/s]\n",
      "100%|██████████| 17/17 [00:00<00:00, 607.15it/s]\n"
     ]
    },
    {
     "name": "stdout",
     "output_type": "stream",
     "text": [
      "Saving model with loss 4.253...\n"
     ]
    },
    {
     "name": "stderr",
     "output_type": "stream",
     "text": [
      "100%|██████████| 17/17 [00:00<00:00, 607.16it/s]\n",
      "100%|██████████| 17/17 [00:00<00:00, 653.85it/s]\n",
      "100%|██████████| 17/17 [00:00<00:00, 629.65it/s]\n",
      "100%|██████████| 17/17 [00:00<00:00, 653.85it/s]\n"
     ]
    },
    {
     "name": "stdout",
     "output_type": "stream",
     "text": [
      "Epoch [981/6000]: Train loss: 4.6423, Valid loss: 4.3242\n"
     ]
    },
    {
     "name": "stderr",
     "output_type": "stream",
     "text": [
      "100%|██████████| 17/17 [00:00<00:00, 642.39it/s]\n",
      "100%|██████████| 17/17 [00:00<00:00, 629.61it/s]\n",
      "100%|██████████| 17/17 [00:00<00:00, 653.83it/s]\n",
      "100%|██████████| 17/17 [00:00<00:00, 577.51it/s]\n",
      "100%|██████████| 17/17 [00:00<00:00, 586.20it/s]\n"
     ]
    },
    {
     "name": "stdout",
     "output_type": "stream",
     "text": [
      "Saving model with loss 4.135...\n"
     ]
    },
    {
     "name": "stderr",
     "output_type": "stream",
     "text": [
      "100%|██████████| 17/17 [00:00<00:00, 523.74it/s]\n",
      "100%|██████████| 17/17 [00:00<00:00, 566.67it/s]\n",
      "100%|██████████| 17/17 [00:00<00:00, 540.34it/s]\n",
      "100%|██████████| 17/17 [00:00<00:00, 531.26it/s]\n"
     ]
    },
    {
     "name": "stdout",
     "output_type": "stream",
     "text": [
      "Saving model with loss 4.133...\n"
     ]
    },
    {
     "name": "stderr",
     "output_type": "stream",
     "text": [
      "100%|██████████| 17/17 [00:00<00:00, 515.14it/s]\n",
      "100%|██████████| 17/17 [00:00<00:00, 607.16it/s]\n",
      "100%|██████████| 17/17 [00:00<00:00, 566.67it/s]\n",
      "100%|██████████| 17/17 [00:00<00:00, 586.19it/s]\n",
      "100%|██████████| 17/17 [00:00<00:00, 586.22it/s]\n",
      "100%|██████████| 17/17 [00:00<00:00, 586.22it/s]\n",
      "100%|██████████| 17/17 [00:00<00:00, 607.16it/s]\n",
      "100%|██████████| 17/17 [00:00<00:00, 586.20it/s]\n",
      "100%|██████████| 17/17 [00:00<00:00, 629.63it/s]\n",
      "100%|██████████| 17/17 [00:00<00:00, 629.64it/s]\n",
      "100%|██████████| 17/17 [00:00<00:00, 629.64it/s]\n"
     ]
    },
    {
     "name": "stdout",
     "output_type": "stream",
     "text": [
      "Epoch [1001/6000]: Train loss: 4.5463, Valid loss: 4.1452\n"
     ]
    },
    {
     "name": "stderr",
     "output_type": "stream",
     "text": [
      "100%|██████████| 17/17 [00:00<00:00, 629.64it/s]\n",
      "100%|██████████| 17/17 [00:00<00:00, 653.86it/s]\n",
      "100%|██████████| 17/17 [00:00<00:00, 702.18it/s]\n",
      "100%|██████████| 17/17 [00:00<00:00, 680.00it/s]\n",
      "100%|██████████| 17/17 [00:00<00:00, 653.86it/s]\n",
      "100%|██████████| 17/17 [00:00<00:00, 653.86it/s]\n",
      "100%|██████████| 17/17 [00:00<00:00, 653.86it/s]\n",
      "100%|██████████| 17/17 [00:00<00:00, 629.66it/s]\n",
      "100%|██████████| 17/17 [00:00<00:00, 680.02it/s]\n",
      "100%|██████████| 17/17 [00:00<00:00, 680.02it/s]\n",
      "100%|██████████| 17/17 [00:00<00:00, 607.16it/s]\n",
      "100%|██████████| 17/17 [00:00<00:00, 586.23it/s]\n",
      "100%|██████████| 17/17 [00:00<00:00, 653.86it/s]\n",
      "100%|██████████| 17/17 [00:00<00:00, 653.85it/s]\n",
      "100%|██████████| 17/17 [00:00<00:00, 680.02it/s]\n",
      "100%|██████████| 17/17 [00:00<00:00, 629.64it/s]\n",
      "100%|██████████| 17/17 [00:00<00:00, 555.81it/s]\n"
     ]
    },
    {
     "name": "stdout",
     "output_type": "stream",
     "text": [
      "Saving model with loss 4.037...\n"
     ]
    },
    {
     "name": "stderr",
     "output_type": "stream",
     "text": [
      "100%|██████████| 17/17 [00:00<00:00, 617.92it/s]\n",
      "100%|██████████| 17/17 [00:00<00:00, 607.08it/s]\n",
      "100%|██████████| 17/17 [00:00<00:00, 607.15it/s]\n"
     ]
    },
    {
     "name": "stdout",
     "output_type": "stream",
     "text": [
      "Epoch [1021/6000]: Train loss: 4.4726, Valid loss: 4.2251\n"
     ]
    },
    {
     "name": "stderr",
     "output_type": "stream",
     "text": [
      "100%|██████████| 17/17 [00:00<00:00, 586.21it/s]\n",
      "100%|██████████| 17/17 [00:00<00:00, 607.14it/s]\n",
      "100%|██████████| 17/17 [00:00<00:00, 607.16it/s]\n",
      "100%|██████████| 17/17 [00:00<00:00, 586.20it/s]\n",
      "100%|██████████| 17/17 [00:00<00:00, 653.86it/s]\n",
      "100%|██████████| 17/17 [00:00<00:00, 586.20it/s]\n",
      "100%|██████████| 17/17 [00:00<00:00, 629.64it/s]\n",
      "100%|██████████| 17/17 [00:00<00:00, 629.61it/s]\n",
      "100%|██████████| 17/17 [00:00<00:00, 607.16it/s]\n",
      "100%|██████████| 17/17 [00:00<00:00, 607.12it/s]\n",
      "100%|██████████| 17/17 [00:00<00:00, 629.65it/s]\n",
      "100%|██████████| 17/17 [00:00<00:00, 548.38it/s]\n"
     ]
    },
    {
     "name": "stdout",
     "output_type": "stream",
     "text": [
      "Saving model with loss 3.959...\n"
     ]
    },
    {
     "name": "stderr",
     "output_type": "stream",
     "text": [
      "100%|██████████| 17/17 [00:00<00:00, 586.20it/s]\n",
      "100%|██████████| 17/17 [00:00<00:00, 586.21it/s]\n",
      "100%|██████████| 17/17 [00:00<00:00, 607.15it/s]\n",
      "100%|██████████| 17/17 [00:00<00:00, 548.43it/s]\n",
      "100%|██████████| 17/17 [00:00<00:00, 586.22it/s]\n",
      "100%|██████████| 17/17 [00:00<00:00, 607.22it/s]\n",
      "100%|██████████| 17/17 [00:00<00:00, 653.85it/s]\n",
      "100%|██████████| 17/17 [00:00<00:00, 607.16it/s]\n"
     ]
    },
    {
     "name": "stdout",
     "output_type": "stream",
     "text": [
      "Epoch [1041/6000]: Train loss: 4.3841, Valid loss: 4.5605\n"
     ]
    },
    {
     "name": "stderr",
     "output_type": "stream",
     "text": [
      "100%|██████████| 17/17 [00:00<00:00, 607.15it/s]\n",
      "100%|██████████| 17/17 [00:00<00:00, 629.63it/s]\n",
      "100%|██████████| 17/17 [00:00<00:00, 531.25it/s]\n"
     ]
    },
    {
     "name": "stdout",
     "output_type": "stream",
     "text": [
      "Saving model with loss 3.925...\n"
     ]
    },
    {
     "name": "stderr",
     "output_type": "stream",
     "text": [
      "100%|██████████| 17/17 [00:00<00:00, 548.39it/s]\n",
      "100%|██████████| 17/17 [00:00<00:00, 472.22it/s]\n"
     ]
    },
    {
     "name": "stdout",
     "output_type": "stream",
     "text": [
      "Saving model with loss 3.910...\n"
     ]
    },
    {
     "name": "stderr",
     "output_type": "stream",
     "text": [
      "100%|██████████| 17/17 [00:00<00:00, 414.64it/s]\n",
      "100%|██████████| 17/17 [00:00<00:00, 485.68it/s]\n",
      "100%|██████████| 17/17 [00:00<00:00, 515.08it/s]\n",
      "100%|██████████| 17/17 [00:00<00:00, 485.74it/s]\n",
      "100%|██████████| 17/17 [00:00<00:00, 548.38it/s]\n",
      "100%|██████████| 17/17 [00:00<00:00, 586.19it/s]\n",
      "100%|██████████| 17/17 [00:00<00:00, 586.22it/s]\n",
      "100%|██████████| 17/17 [00:00<00:00, 566.68it/s]\n",
      "100%|██████████| 17/17 [00:00<00:00, 586.21it/s]\n",
      "100%|██████████| 17/17 [00:00<00:00, 607.15it/s]\n",
      "100%|██████████| 17/17 [00:00<00:00, 607.15it/s]\n",
      "100%|██████████| 17/17 [00:00<00:00, 653.85it/s]\n",
      "100%|██████████| 17/17 [00:00<00:00, 566.67it/s]\n",
      "100%|██████████| 17/17 [00:00<00:00, 653.86it/s]\n"
     ]
    },
    {
     "name": "stdout",
     "output_type": "stream",
     "text": [
      "Saving model with loss 3.892...\n"
     ]
    },
    {
     "name": "stderr",
     "output_type": "stream",
     "text": [
      "100%|██████████| 17/17 [00:00<00:00, 629.64it/s]\n"
     ]
    },
    {
     "name": "stdout",
     "output_type": "stream",
     "text": [
      "Epoch [1061/6000]: Train loss: 4.3030, Valid loss: 3.8639\n",
      "Saving model with loss 3.864...\n"
     ]
    },
    {
     "name": "stderr",
     "output_type": "stream",
     "text": [
      "100%|██████████| 17/17 [00:00<00:00, 659.84it/s]\n",
      "100%|██████████| 17/17 [00:00<00:00, 653.86it/s]\n",
      "100%|██████████| 17/17 [00:00<00:00, 664.04it/s]\n"
     ]
    },
    {
     "name": "stdout",
     "output_type": "stream",
     "text": [
      "Saving model with loss 3.723...\n"
     ]
    },
    {
     "name": "stderr",
     "output_type": "stream",
     "text": [
      "100%|██████████| 17/17 [00:00<00:00, 531.17it/s]\n",
      "100%|██████████| 17/17 [00:00<00:00, 607.14it/s]\n",
      "100%|██████████| 17/17 [00:00<00:00, 607.14it/s]\n",
      "100%|██████████| 17/17 [00:00<00:00, 607.15it/s]\n",
      "100%|██████████| 17/17 [00:00<00:00, 629.64it/s]\n",
      "100%|██████████| 17/17 [00:00<00:00, 607.15it/s]\n",
      "100%|██████████| 17/17 [00:00<00:00, 607.15it/s]\n",
      "100%|██████████| 17/17 [00:00<00:00, 606.94it/s]\n",
      "100%|██████████| 17/17 [00:00<00:00, 607.17it/s]\n",
      "100%|██████████| 17/17 [00:00<00:00, 586.22it/s]\n",
      "100%|██████████| 17/17 [00:00<00:00, 586.14it/s]\n",
      "100%|██████████| 17/17 [00:00<00:00, 601.94it/s]\n",
      "100%|██████████| 17/17 [00:00<00:00, 527.65it/s]\n",
      "100%|██████████| 17/17 [00:00<00:00, 657.42it/s]\n",
      "100%|██████████| 17/17 [00:00<00:00, 653.85it/s]\n",
      "100%|██████████| 17/17 [00:00<00:00, 629.63it/s]\n",
      "100%|██████████| 17/17 [00:00<00:00, 607.09it/s]\n"
     ]
    },
    {
     "name": "stdout",
     "output_type": "stream",
     "text": [
      "Epoch [1081/6000]: Train loss: 4.2281, Valid loss: 4.2226\n"
     ]
    },
    {
     "name": "stderr",
     "output_type": "stream",
     "text": [
      "100%|██████████| 17/17 [00:00<00:00, 607.16it/s]\n",
      "100%|██████████| 17/17 [00:00<00:00, 607.16it/s]\n",
      "100%|██████████| 17/17 [00:00<00:00, 607.04it/s]\n",
      "100%|██████████| 17/17 [00:00<00:00, 586.22it/s]\n",
      "100%|██████████| 17/17 [00:00<00:00, 629.65it/s]\n"
     ]
    },
    {
     "name": "stdout",
     "output_type": "stream",
     "text": [
      "Saving model with loss 3.668...\n"
     ]
    },
    {
     "name": "stderr",
     "output_type": "stream",
     "text": [
      "100%|██████████| 17/17 [00:00<00:00, 607.06it/s]\n",
      "100%|██████████| 17/17 [00:00<00:00, 566.68it/s]\n",
      "100%|██████████| 17/17 [00:00<00:00, 629.65it/s]\n",
      "100%|██████████| 17/17 [00:00<00:00, 629.54it/s]\n",
      "100%|██████████| 17/17 [00:00<00:00, 629.62it/s]\n",
      "100%|██████████| 17/17 [00:00<00:00, 653.85it/s]\n",
      "100%|██████████| 17/17 [00:00<00:00, 629.54it/s]\n",
      "100%|██████████| 17/17 [00:00<00:00, 629.64it/s]\n",
      "100%|██████████| 17/17 [00:00<00:00, 629.63it/s]\n",
      "100%|██████████| 17/17 [00:00<00:00, 659.02it/s]\n",
      "100%|██████████| 17/17 [00:00<00:00, 653.85it/s]\n",
      "100%|██████████| 17/17 [00:00<00:00, 653.85it/s]\n",
      "100%|██████████| 17/17 [00:00<00:00, 680.00it/s]\n",
      "100%|██████████| 17/17 [00:00<00:00, 679.97it/s]\n",
      "100%|██████████| 17/17 [00:00<00:00, 680.01it/s]\n"
     ]
    },
    {
     "name": "stdout",
     "output_type": "stream",
     "text": [
      "Epoch [1101/6000]: Train loss: 4.1473, Valid loss: 4.1045\n"
     ]
    },
    {
     "name": "stderr",
     "output_type": "stream",
     "text": [
      "100%|██████████| 17/17 [00:00<00:00, 653.85it/s]\n",
      "100%|██████████| 17/17 [00:00<00:00, 653.85it/s]\n",
      "100%|██████████| 17/17 [00:00<00:00, 548.38it/s]\n",
      "100%|██████████| 17/17 [00:00<00:00, 586.23it/s]\n",
      "100%|██████████| 17/17 [00:00<00:00, 629.63it/s]\n",
      "100%|██████████| 17/17 [00:00<00:00, 607.14it/s]\n",
      "100%|██████████| 17/17 [00:00<00:00, 607.15it/s]\n",
      "100%|██████████| 17/17 [00:00<00:00, 566.67it/s]\n",
      "100%|██████████| 17/17 [00:00<00:00, 607.15it/s]\n",
      "100%|██████████| 17/17 [00:00<00:00, 586.22it/s]\n",
      "100%|██████████| 17/17 [00:00<00:00, 629.64it/s]\n",
      "100%|██████████| 17/17 [00:00<00:00, 607.14it/s]\n",
      "100%|██████████| 17/17 [00:00<00:00, 586.20it/s]\n",
      "100%|██████████| 17/17 [00:00<00:00, 586.21it/s]\n",
      "100%|██████████| 17/17 [00:00<00:00, 607.15it/s]\n",
      "100%|██████████| 17/17 [00:00<00:00, 586.21it/s]\n",
      "100%|██████████| 17/17 [00:00<00:00, 629.65it/s]\n",
      "100%|██████████| 17/17 [00:00<00:00, 629.65it/s]\n",
      "100%|██████████| 17/17 [00:00<00:00, 629.62it/s]\n"
     ]
    },
    {
     "name": "stdout",
     "output_type": "stream",
     "text": [
      "Saving model with loss 3.627...\n"
     ]
    },
    {
     "name": "stderr",
     "output_type": "stream",
     "text": [
      "100%|██████████| 17/17 [00:00<00:00, 653.85it/s]\n"
     ]
    },
    {
     "name": "stdout",
     "output_type": "stream",
     "text": [
      "Epoch [1121/6000]: Train loss: 4.0695, Valid loss: 3.8583\n"
     ]
    },
    {
     "name": "stderr",
     "output_type": "stream",
     "text": [
      "100%|██████████| 17/17 [00:00<00:00, 680.00it/s]\n",
      "100%|██████████| 17/17 [00:00<00:00, 653.86it/s]\n",
      "100%|██████████| 17/17 [00:00<00:00, 662.87it/s]\n",
      "100%|██████████| 17/17 [00:00<00:00, 680.04it/s]\n",
      "100%|██████████| 17/17 [00:00<00:00, 666.68it/s]\n",
      "100%|██████████| 17/17 [00:00<00:00, 680.00it/s]\n",
      "100%|██████████| 17/17 [00:00<00:00, 708.35it/s]\n",
      "100%|██████████| 17/17 [00:00<00:00, 629.52it/s]\n",
      "100%|██████████| 17/17 [00:00<00:00, 629.63it/s]\n",
      "100%|██████████| 17/17 [00:00<00:00, 653.86it/s]\n",
      "100%|██████████| 17/17 [00:00<00:00, 607.04it/s]\n",
      "100%|██████████| 17/17 [00:00<00:00, 586.20it/s]\n",
      "100%|██████████| 17/17 [00:00<00:00, 607.16it/s]\n",
      "100%|██████████| 17/17 [00:00<00:00, 653.85it/s]\n",
      "100%|██████████| 17/17 [00:00<00:00, 586.21it/s]\n",
      "100%|██████████| 17/17 [00:00<00:00, 626.83it/s]\n",
      "100%|██████████| 17/17 [00:00<00:00, 607.04it/s]\n",
      "100%|██████████| 17/17 [00:00<00:00, 586.21it/s]\n",
      "100%|██████████| 17/17 [00:00<00:00, 680.02it/s]\n",
      "100%|██████████| 17/17 [00:00<00:00, 586.13it/s]\n"
     ]
    },
    {
     "name": "stdout",
     "output_type": "stream",
     "text": [
      "Epoch [1141/6000]: Train loss: 3.9848, Valid loss: 3.6944\n"
     ]
    },
    {
     "name": "stderr",
     "output_type": "stream",
     "text": [
      "100%|██████████| 17/17 [00:00<00:00, 629.63it/s]\n",
      "100%|██████████| 17/17 [00:00<00:00, 629.62it/s]\n",
      "100%|██████████| 17/17 [00:00<00:00, 656.02it/s]\n",
      "100%|██████████| 17/17 [00:00<00:00, 653.85it/s]\n",
      "100%|██████████| 17/17 [00:00<00:00, 629.63it/s]\n",
      "100%|██████████| 17/17 [00:00<00:00, 653.74it/s]\n",
      "100%|██████████| 17/17 [00:00<00:00, 653.85it/s]\n"
     ]
    },
    {
     "name": "stdout",
     "output_type": "stream",
     "text": [
      "Saving model with loss 3.509...\n"
     ]
    },
    {
     "name": "stderr",
     "output_type": "stream",
     "text": [
      "100%|██████████| 17/17 [00:00<00:00, 653.83it/s]\n",
      "100%|██████████| 17/17 [00:00<00:00, 679.90it/s]\n",
      "100%|██████████| 17/17 [00:00<00:00, 653.85it/s]\n",
      "100%|██████████| 17/17 [00:00<00:00, 653.84it/s]\n",
      "100%|██████████| 17/17 [00:00<00:00, 653.73it/s]\n",
      "100%|██████████| 17/17 [00:00<00:00, 653.86it/s]\n",
      "100%|██████████| 17/17 [00:00<00:00, 653.83it/s]\n",
      "100%|██████████| 17/17 [00:00<00:00, 679.89it/s]\n",
      "100%|██████████| 17/17 [00:00<00:00, 680.01it/s]\n",
      "100%|██████████| 17/17 [00:00<00:00, 653.86it/s]\n",
      "100%|██████████| 17/17 [00:00<00:00, 679.91it/s]\n",
      "100%|██████████| 17/17 [00:00<00:00, 680.02it/s]\n",
      "100%|██████████| 17/17 [00:00<00:00, 680.00it/s]\n"
     ]
    },
    {
     "name": "stdout",
     "output_type": "stream",
     "text": [
      "Epoch [1161/6000]: Train loss: 3.9181, Valid loss: 3.7232\n"
     ]
    },
    {
     "name": "stderr",
     "output_type": "stream",
     "text": [
      "100%|██████████| 17/17 [00:00<00:00, 679.93it/s]\n",
      "100%|██████████| 17/17 [00:00<00:00, 586.24it/s]\n",
      "100%|██████████| 17/17 [00:00<00:00, 629.64it/s]\n",
      "100%|██████████| 17/17 [00:00<00:00, 679.92it/s]\n",
      "100%|██████████| 17/17 [00:00<00:00, 680.00it/s]\n",
      "100%|██████████| 17/17 [00:00<00:00, 653.86it/s]\n",
      "100%|██████████| 17/17 [00:00<00:00, 629.56it/s]\n",
      "100%|██████████| 17/17 [00:00<00:00, 653.86it/s]\n",
      "100%|██████████| 17/17 [00:00<00:00, 680.02it/s]\n",
      "100%|██████████| 17/17 [00:00<00:00, 679.94it/s]\n",
      "100%|██████████| 17/17 [00:00<00:00, 680.01it/s]\n",
      "100%|██████████| 17/17 [00:00<00:00, 629.61it/s]\n",
      "100%|██████████| 17/17 [00:00<00:00, 653.74it/s]\n",
      "100%|██████████| 17/17 [00:00<00:00, 653.85it/s]\n",
      "100%|██████████| 17/17 [00:00<00:00, 653.85it/s]\n",
      "100%|██████████| 17/17 [00:00<00:00, 629.56it/s]\n",
      "100%|██████████| 17/17 [00:00<00:00, 679.99it/s]\n",
      "100%|██████████| 17/17 [00:00<00:00, 680.00it/s]\n",
      "100%|██████████| 17/17 [00:00<00:00, 653.77it/s]\n",
      "100%|██████████| 17/17 [00:00<00:00, 679.98it/s]\n"
     ]
    },
    {
     "name": "stdout",
     "output_type": "stream",
     "text": [
      "Epoch [1181/6000]: Train loss: 3.8351, Valid loss: 4.6625\n"
     ]
    },
    {
     "name": "stderr",
     "output_type": "stream",
     "text": [
      "100%|██████████| 17/17 [00:00<00:00, 680.04it/s]\n"
     ]
    },
    {
     "name": "stdout",
     "output_type": "stream",
     "text": [
      "Saving model with loss 3.482...\n"
     ]
    },
    {
     "name": "stderr",
     "output_type": "stream",
     "text": [
      "100%|██████████| 17/17 [00:00<00:00, 679.90it/s]\n",
      "100%|██████████| 17/17 [00:00<00:00, 629.63it/s]\n",
      "100%|██████████| 17/17 [00:00<00:00, 680.00it/s]\n",
      "100%|██████████| 17/17 [00:00<00:00, 679.89it/s]\n",
      "100%|██████████| 17/17 [00:00<00:00, 629.64it/s]\n",
      "100%|██████████| 17/17 [00:00<00:00, 629.64it/s]\n",
      "100%|██████████| 17/17 [00:00<00:00, 485.73it/s]\n",
      "100%|██████████| 17/17 [00:00<00:00, 548.38it/s]\n",
      "100%|██████████| 17/17 [00:00<00:00, 485.65it/s]\n",
      "100%|██████████| 17/17 [00:00<00:00, 447.36it/s]\n",
      "100%|██████████| 17/17 [00:00<00:00, 472.18it/s]\n",
      "100%|██████████| 17/17 [00:00<00:00, 629.62it/s]\n",
      "100%|██████████| 17/17 [00:00<00:00, 481.90it/s]\n",
      "100%|██████████| 17/17 [00:00<00:00, 629.54it/s]\n"
     ]
    },
    {
     "name": "stdout",
     "output_type": "stream",
     "text": [
      "Saving model with loss 3.481...\n"
     ]
    },
    {
     "name": "stderr",
     "output_type": "stream",
     "text": [
      "100%|██████████| 17/17 [00:00<00:00, 485.78it/s]\n",
      "100%|██████████| 17/17 [00:00<00:00, 507.31it/s]\n",
      "100%|██████████| 17/17 [00:00<00:00, 629.63it/s]\n"
     ]
    },
    {
     "name": "stdout",
     "output_type": "stream",
     "text": [
      "Saving model with loss 3.401...\n"
     ]
    },
    {
     "name": "stderr",
     "output_type": "stream",
     "text": [
      "100%|██████████| 17/17 [00:00<00:00, 485.72it/s]\n",
      "100%|██████████| 17/17 [00:00<00:00, 607.14it/s]\n"
     ]
    },
    {
     "name": "stdout",
     "output_type": "stream",
     "text": [
      "Epoch [1201/6000]: Train loss: 3.7549, Valid loss: 3.4546\n"
     ]
    },
    {
     "name": "stderr",
     "output_type": "stream",
     "text": [
      "100%|██████████| 17/17 [00:00<00:00, 500.00it/s]\n",
      "100%|██████████| 17/17 [00:00<00:00, 536.35it/s]\n",
      "100%|██████████| 17/17 [00:00<00:00, 481.50it/s]\n",
      "100%|██████████| 17/17 [00:00<00:00, 531.24it/s]\n",
      "100%|██████████| 17/17 [00:00<00:00, 629.64it/s]\n",
      "100%|██████████| 17/17 [00:00<00:00, 515.15it/s]\n",
      "100%|██████████| 17/17 [00:00<00:00, 499.99it/s]\n",
      "100%|██████████| 17/17 [00:00<00:00, 548.38it/s]\n"
     ]
    },
    {
     "name": "stdout",
     "output_type": "stream",
     "text": [
      "Saving model with loss 3.382...\n"
     ]
    },
    {
     "name": "stderr",
     "output_type": "stream",
     "text": [
      "100%|██████████| 17/17 [00:00<00:00, 499.99it/s]\n",
      "100%|██████████| 17/17 [00:00<00:00, 607.15it/s]\n",
      "100%|██████████| 17/17 [00:00<00:00, 485.71it/s]\n",
      "100%|██████████| 17/17 [00:00<00:00, 500.00it/s]\n",
      "100%|██████████| 17/17 [00:00<00:00, 566.65it/s]\n",
      "100%|██████████| 17/17 [00:00<00:00, 500.00it/s]\n",
      "100%|██████████| 17/17 [00:00<00:00, 629.66it/s]\n",
      "100%|██████████| 17/17 [00:00<00:00, 485.69it/s]\n",
      "100%|██████████| 17/17 [00:00<00:00, 459.46it/s]\n",
      "100%|██████████| 17/17 [00:00<00:00, 566.67it/s]\n",
      "100%|██████████| 17/17 [00:00<00:00, 485.71it/s]\n",
      "100%|██████████| 17/17 [00:00<00:00, 653.85it/s]\n"
     ]
    },
    {
     "name": "stdout",
     "output_type": "stream",
     "text": [
      "Epoch [1221/6000]: Train loss: 3.6778, Valid loss: 3.4438\n"
     ]
    },
    {
     "name": "stderr",
     "output_type": "stream",
     "text": [
      "100%|██████████| 17/17 [00:00<00:00, 531.25it/s]\n",
      "100%|██████████| 17/17 [00:00<00:00, 515.15it/s]\n",
      "100%|██████████| 17/17 [00:00<00:00, 680.01it/s]\n"
     ]
    },
    {
     "name": "stdout",
     "output_type": "stream",
     "text": [
      "Saving model with loss 3.364...\n"
     ]
    },
    {
     "name": "stderr",
     "output_type": "stream",
     "text": [
      "100%|██████████| 17/17 [00:00<00:00, 485.72it/s]\n",
      "100%|██████████| 17/17 [00:00<00:00, 586.20it/s]\n",
      "100%|██████████| 17/17 [00:00<00:00, 515.16it/s]\n",
      "100%|██████████| 17/17 [00:00<00:00, 515.16it/s]\n"
     ]
    },
    {
     "name": "stdout",
     "output_type": "stream",
     "text": [
      "Saving model with loss 3.285...\n"
     ]
    },
    {
     "name": "stderr",
     "output_type": "stream",
     "text": [
      "100%|██████████| 17/17 [00:00<00:00, 629.64it/s]\n",
      "100%|██████████| 17/17 [00:00<00:00, 531.26it/s]\n",
      "100%|██████████| 17/17 [00:00<00:00, 515.16it/s]\n",
      "100%|██████████| 17/17 [00:00<00:00, 653.86it/s]\n",
      "100%|██████████| 17/17 [00:00<00:00, 500.00it/s]\n",
      "100%|██████████| 17/17 [00:00<00:00, 515.15it/s]\n",
      "100%|██████████| 17/17 [00:00<00:00, 548.38it/s]\n",
      "100%|██████████| 17/17 [00:00<00:00, 515.14it/s]\n",
      "100%|██████████| 17/17 [00:00<00:00, 548.39it/s]\n",
      "100%|██████████| 17/17 [00:00<00:00, 485.72it/s]\n"
     ]
    },
    {
     "name": "stdout",
     "output_type": "stream",
     "text": [
      "Saving model with loss 3.193...\n"
     ]
    },
    {
     "name": "stderr",
     "output_type": "stream",
     "text": [
      "100%|██████████| 17/17 [00:00<00:00, 485.71it/s]\n",
      "100%|██████████| 17/17 [00:00<00:00, 515.15it/s]\n",
      "100%|██████████| 17/17 [00:00<00:00, 531.26it/s]\n"
     ]
    },
    {
     "name": "stdout",
     "output_type": "stream",
     "text": [
      "Epoch [1241/6000]: Train loss: 3.6026, Valid loss: 3.8644\n"
     ]
    },
    {
     "name": "stderr",
     "output_type": "stream",
     "text": [
      "100%|██████████| 17/17 [00:00<00:00, 548.39it/s]\n",
      "100%|██████████| 17/17 [00:00<00:00, 485.72it/s]\n",
      "100%|██████████| 17/17 [00:00<00:00, 629.61it/s]\n",
      "100%|██████████| 17/17 [00:00<00:00, 513.66it/s]\n",
      "100%|██████████| 17/17 [00:00<00:00, 531.25it/s]\n",
      "100%|██████████| 17/17 [00:00<00:00, 653.87it/s]\n",
      "100%|██████████| 17/17 [00:00<00:00, 548.40it/s]\n",
      "100%|██████████| 17/17 [00:00<00:00, 472.22it/s]\n",
      "100%|██████████| 17/17 [00:00<00:00, 435.90it/s]\n",
      "100%|██████████| 17/17 [00:00<00:00, 500.00it/s]\n",
      "100%|██████████| 17/17 [00:00<00:00, 607.16it/s]\n",
      "100%|██████████| 17/17 [00:00<00:00, 485.71it/s]\n",
      "100%|██████████| 17/17 [00:00<00:00, 586.21it/s]\n",
      "100%|██████████| 17/17 [00:00<00:00, 531.26it/s]\n",
      "100%|██████████| 17/17 [00:00<00:00, 515.15it/s]\n",
      "100%|██████████| 17/17 [00:00<00:00, 653.85it/s]\n",
      "100%|██████████| 17/17 [00:00<00:00, 531.25it/s]\n",
      "100%|██████████| 17/17 [00:00<00:00, 515.13it/s]\n",
      "100%|██████████| 17/17 [00:00<00:00, 531.26it/s]\n",
      "100%|██████████| 17/17 [00:00<00:00, 653.85it/s]\n"
     ]
    },
    {
     "name": "stdout",
     "output_type": "stream",
     "text": [
      "Epoch [1261/6000]: Train loss: 3.5274, Valid loss: 3.3153\n"
     ]
    },
    {
     "name": "stderr",
     "output_type": "stream",
     "text": [
      "100%|██████████| 17/17 [00:00<00:00, 531.24it/s]\n",
      "100%|██████████| 17/17 [00:00<00:00, 515.15it/s]\n",
      "100%|██████████| 17/17 [00:00<00:00, 653.85it/s]\n",
      "100%|██████████| 17/17 [00:00<00:00, 531.25it/s]\n",
      "100%|██████████| 17/17 [00:00<00:00, 500.00it/s]\n",
      "100%|██████████| 17/17 [00:00<00:00, 629.63it/s]\n",
      "100%|██████████| 17/17 [00:00<00:00, 472.23it/s]\n",
      "100%|██████████| 17/17 [00:00<00:00, 607.15it/s]\n",
      "100%|██████████| 17/17 [00:00<00:00, 515.15it/s]\n",
      "100%|██████████| 17/17 [00:00<00:00, 500.00it/s]\n",
      "100%|██████████| 17/17 [00:00<00:00, 607.14it/s]\n",
      "100%|██████████| 17/17 [00:00<00:00, 500.02it/s]\n",
      "100%|██████████| 17/17 [00:00<00:00, 548.39it/s]\n",
      "100%|██████████| 17/17 [00:00<00:00, 499.99it/s]\n",
      "100%|██████████| 17/17 [00:00<00:00, 500.00it/s]\n"
     ]
    },
    {
     "name": "stdout",
     "output_type": "stream",
     "text": [
      "Saving model with loss 3.058...\n"
     ]
    },
    {
     "name": "stderr",
     "output_type": "stream",
     "text": [
      "100%|██████████| 17/17 [00:00<00:00, 629.64it/s]\n",
      "100%|██████████| 17/17 [00:00<00:00, 515.15it/s]\n",
      "100%|██████████| 17/17 [00:00<00:00, 515.14it/s]\n",
      "100%|██████████| 17/17 [00:00<00:00, 629.63it/s]\n",
      "100%|██████████| 17/17 [00:00<00:00, 500.00it/s]\n"
     ]
    },
    {
     "name": "stdout",
     "output_type": "stream",
     "text": [
      "Epoch [1281/6000]: Train loss: 3.4487, Valid loss: 3.4498\n"
     ]
    },
    {
     "name": "stderr",
     "output_type": "stream",
     "text": [
      "100%|██████████| 17/17 [00:00<00:00, 515.16it/s]\n",
      "100%|██████████| 17/17 [00:00<00:00, 629.63it/s]\n",
      "100%|██████████| 17/17 [00:00<00:00, 500.00it/s]\n",
      "100%|██████████| 17/17 [00:00<00:00, 500.00it/s]\n",
      "100%|██████████| 17/17 [00:00<00:00, 629.63it/s]\n",
      "100%|██████████| 17/17 [00:00<00:00, 515.15it/s]\n",
      "100%|██████████| 17/17 [00:00<00:00, 515.14it/s]\n",
      "100%|██████████| 17/17 [00:00<00:00, 629.65it/s]\n",
      "100%|██████████| 17/17 [00:00<00:00, 521.59it/s]\n",
      "100%|██████████| 17/17 [00:00<00:00, 499.61it/s]\n",
      "100%|██████████| 17/17 [00:00<00:00, 641.24it/s]\n",
      "100%|██████████| 17/17 [00:00<00:00, 485.76it/s]\n",
      "100%|██████████| 17/17 [00:00<00:00, 488.48it/s]\n",
      "100%|██████████| 17/17 [00:00<00:00, 566.67it/s]\n",
      "100%|██████████| 17/17 [00:00<00:00, 515.15it/s]\n",
      "100%|██████████| 17/17 [00:00<00:00, 555.97it/s]\n",
      "100%|██████████| 17/17 [00:00<00:00, 531.26it/s]\n",
      "100%|██████████| 17/17 [00:00<00:00, 522.95it/s]\n"
     ]
    },
    {
     "name": "stdout",
     "output_type": "stream",
     "text": [
      "Saving model with loss 3.007...\n"
     ]
    },
    {
     "name": "stderr",
     "output_type": "stream",
     "text": [
      "100%|██████████| 17/17 [00:00<00:00, 607.14it/s]\n",
      "100%|██████████| 17/17 [00:00<00:00, 485.73it/s]\n"
     ]
    },
    {
     "name": "stdout",
     "output_type": "stream",
     "text": [
      "Epoch [1301/6000]: Train loss: 3.3741, Valid loss: 3.7675\n"
     ]
    },
    {
     "name": "stderr",
     "output_type": "stream",
     "text": [
      "100%|██████████| 17/17 [00:00<00:00, 500.01it/s]\n",
      "100%|██████████| 17/17 [00:00<00:00, 653.82it/s]\n",
      "100%|██████████| 17/17 [00:00<00:00, 515.15it/s]\n",
      "100%|██████████| 17/17 [00:00<00:00, 500.00it/s]\n",
      "100%|██████████| 17/17 [00:00<00:00, 515.15it/s]\n",
      "100%|██████████| 17/17 [00:00<00:00, 496.64it/s]\n",
      "100%|██████████| 17/17 [00:00<00:00, 653.85it/s]\n",
      "100%|██████████| 17/17 [00:00<00:00, 515.14it/s]\n",
      "100%|██████████| 17/17 [00:00<00:00, 500.00it/s]\n",
      "100%|██████████| 17/17 [00:00<00:00, 653.84it/s]\n",
      "100%|██████████| 17/17 [00:00<00:00, 500.00it/s]\n",
      "100%|██████████| 17/17 [00:00<00:00, 515.16it/s]\n",
      "100%|██████████| 17/17 [00:00<00:00, 586.21it/s]\n",
      "100%|██████████| 17/17 [00:00<00:00, 500.00it/s]\n",
      "100%|██████████| 17/17 [00:00<00:00, 500.01it/s]\n",
      "100%|██████████| 17/17 [00:00<00:00, 566.67it/s]\n",
      "100%|██████████| 17/17 [00:00<00:00, 515.16it/s]\n",
      "100%|██████████| 17/17 [00:00<00:00, 447.38it/s]\n",
      "100%|██████████| 17/17 [00:00<00:00, 548.38it/s]\n"
     ]
    },
    {
     "name": "stdout",
     "output_type": "stream",
     "text": [
      "Saving model with loss 2.978...\n"
     ]
    },
    {
     "name": "stderr",
     "output_type": "stream",
     "text": [
      "100%|██████████| 17/17 [00:00<00:00, 425.00it/s]\n"
     ]
    },
    {
     "name": "stdout",
     "output_type": "stream",
     "text": [
      "Epoch [1321/6000]: Train loss: 3.3021, Valid loss: 3.1981\n"
     ]
    },
    {
     "name": "stderr",
     "output_type": "stream",
     "text": [
      "100%|██████████| 17/17 [00:00<00:00, 500.00it/s]\n",
      "100%|██████████| 17/17 [00:00<00:00, 629.63it/s]\n",
      "100%|██████████| 17/17 [00:00<00:00, 531.26it/s]\n",
      "100%|██████████| 17/17 [00:00<00:00, 531.26it/s]\n",
      "100%|██████████| 17/17 [00:00<00:00, 607.14it/s]\n",
      "100%|██████████| 17/17 [00:00<00:00, 586.23it/s]\n",
      "100%|██████████| 17/17 [00:00<00:00, 515.15it/s]\n",
      "100%|██████████| 17/17 [00:00<00:00, 515.16it/s]\n",
      "100%|██████████| 17/17 [00:00<00:00, 637.69it/s]\n",
      "100%|██████████| 17/17 [00:00<00:00, 500.00it/s]\n",
      "100%|██████████| 17/17 [00:00<00:00, 515.16it/s]\n",
      "100%|██████████| 17/17 [00:00<00:00, 548.39it/s]\n",
      "100%|██████████| 17/17 [00:00<00:00, 500.00it/s]\n",
      "100%|██████████| 17/17 [00:00<00:00, 566.66it/s]\n",
      "100%|██████████| 17/17 [00:00<00:00, 486.09it/s]\n",
      "100%|██████████| 17/17 [00:00<00:00, 515.16it/s]\n",
      "100%|██████████| 17/17 [00:00<00:00, 629.65it/s]\n"
     ]
    },
    {
     "name": "stdout",
     "output_type": "stream",
     "text": [
      "Saving model with loss 2.921...\n"
     ]
    },
    {
     "name": "stderr",
     "output_type": "stream",
     "text": [
      "100%|██████████| 17/17 [00:00<00:00, 515.15it/s]\n",
      "100%|██████████| 17/17 [00:00<00:00, 571.72it/s]\n",
      "100%|██████████| 17/17 [00:00<00:00, 515.15it/s]\n"
     ]
    },
    {
     "name": "stdout",
     "output_type": "stream",
     "text": [
      "Epoch [1341/6000]: Train loss: 3.2379, Valid loss: 3.2502\n"
     ]
    },
    {
     "name": "stderr",
     "output_type": "stream",
     "text": [
      "100%|██████████| 17/17 [00:00<00:00, 481.30it/s]\n",
      "100%|██████████| 17/17 [00:00<00:00, 629.64it/s]\n",
      "100%|██████████| 17/17 [00:00<00:00, 444.19it/s]\n",
      "100%|██████████| 17/17 [00:00<00:00, 680.02it/s]\n",
      "100%|██████████| 17/17 [00:00<00:00, 705.27it/s]\n",
      "100%|██████████| 17/17 [00:00<00:00, 629.63it/s]\n",
      "100%|██████████| 17/17 [00:00<00:00, 635.91it/s]\n"
     ]
    },
    {
     "name": "stdout",
     "output_type": "stream",
     "text": [
      "Saving model with loss 2.805...\n"
     ]
    },
    {
     "name": "stderr",
     "output_type": "stream",
     "text": [
      "100%|██████████| 17/17 [00:00<00:00, 639.83it/s]\n"
     ]
    },
    {
     "name": "stdout",
     "output_type": "stream",
     "text": [
      "Saving model with loss 2.804...\n"
     ]
    },
    {
     "name": "stderr",
     "output_type": "stream",
     "text": [
      "100%|██████████| 17/17 [00:00<00:00, 607.15it/s]\n",
      "100%|██████████| 17/17 [00:00<00:00, 653.83it/s]\n",
      "100%|██████████| 17/17 [00:00<00:00, 607.13it/s]\n",
      "100%|██████████| 17/17 [00:00<00:00, 586.21it/s]\n",
      "100%|██████████| 17/17 [00:00<00:00, 607.15it/s]\n",
      "100%|██████████| 17/17 [00:00<00:00, 607.16it/s]\n",
      "100%|██████████| 17/17 [00:00<00:00, 629.63it/s]\n",
      "100%|██████████| 17/17 [00:00<00:00, 607.15it/s]\n",
      "100%|██████████| 17/17 [00:00<00:00, 629.64it/s]\n",
      "100%|██████████| 17/17 [00:00<00:00, 607.15it/s]\n",
      "100%|██████████| 17/17 [00:00<00:00, 629.63it/s]\n",
      "100%|██████████| 17/17 [00:00<00:00, 629.66it/s]\n"
     ]
    },
    {
     "name": "stdout",
     "output_type": "stream",
     "text": [
      "Epoch [1361/6000]: Train loss: 3.1705, Valid loss: 2.9327\n"
     ]
    },
    {
     "name": "stderr",
     "output_type": "stream",
     "text": [
      "100%|██████████| 17/17 [00:00<00:00, 629.63it/s]\n",
      "100%|██████████| 17/17 [00:00<00:00, 629.64it/s]\n",
      "100%|██████████| 17/17 [00:00<00:00, 629.63it/s]\n",
      "100%|██████████| 17/17 [00:00<00:00, 607.11it/s]\n",
      "100%|██████████| 17/17 [00:00<00:00, 629.62it/s]\n",
      "100%|██████████| 17/17 [00:00<00:00, 680.01it/s]\n"
     ]
    },
    {
     "name": "stdout",
     "output_type": "stream",
     "text": [
      "Saving model with loss 2.735...\n"
     ]
    },
    {
     "name": "stderr",
     "output_type": "stream",
     "text": [
      "100%|██████████| 17/17 [00:00<00:00, 679.99it/s]\n",
      "100%|██████████| 17/17 [00:00<00:00, 680.00it/s]\n",
      "100%|██████████| 17/17 [00:00<00:00, 679.96it/s]\n",
      "100%|██████████| 17/17 [00:00<00:00, 679.99it/s]\n",
      "100%|██████████| 17/17 [00:00<00:00, 680.00it/s]\n",
      "100%|██████████| 17/17 [00:00<00:00, 639.53it/s]\n",
      "100%|██████████| 17/17 [00:00<00:00, 586.22it/s]\n",
      "100%|██████████| 17/17 [00:00<00:00, 607.15it/s]\n",
      "100%|██████████| 17/17 [00:00<00:00, 629.64it/s]\n",
      "100%|██████████| 17/17 [00:00<00:00, 629.64it/s]\n",
      "100%|██████████| 17/17 [00:00<00:00, 629.63it/s]\n",
      "100%|██████████| 17/17 [00:00<00:00, 639.62it/s]\n",
      "100%|██████████| 17/17 [00:00<00:00, 708.34it/s]\n",
      "100%|██████████| 17/17 [00:00<00:00, 679.99it/s]\n"
     ]
    },
    {
     "name": "stdout",
     "output_type": "stream",
     "text": [
      "Epoch [1381/6000]: Train loss: 3.1090, Valid loss: 2.9696\n"
     ]
    },
    {
     "name": "stderr",
     "output_type": "stream",
     "text": [
      "100%|██████████| 17/17 [00:00<00:00, 708.34it/s]\n",
      "100%|██████████| 17/17 [00:00<00:00, 653.85it/s]\n",
      "100%|██████████| 17/17 [00:00<00:00, 708.35it/s]\n",
      "100%|██████████| 17/17 [00:00<00:00, 680.02it/s]\n",
      "100%|██████████| 17/17 [00:00<00:00, 607.15it/s]\n",
      "100%|██████████| 17/17 [00:00<00:00, 653.85it/s]\n",
      "100%|██████████| 17/17 [00:00<00:00, 653.86it/s]\n",
      "100%|██████████| 17/17 [00:00<00:00, 653.85it/s]\n",
      "100%|██████████| 17/17 [00:00<00:00, 708.34it/s]\n",
      "100%|██████████| 17/17 [00:00<00:00, 708.32it/s]\n"
     ]
    },
    {
     "name": "stdout",
     "output_type": "stream",
     "text": [
      "Saving model with loss 2.703...\n"
     ]
    },
    {
     "name": "stderr",
     "output_type": "stream",
     "text": [
      "100%|██████████| 17/17 [00:00<00:00, 680.00it/s]\n",
      "100%|██████████| 17/17 [00:00<00:00, 708.35it/s]\n",
      "100%|██████████| 17/17 [00:00<00:00, 629.61it/s]\n",
      "100%|██████████| 17/17 [00:00<00:00, 653.83it/s]\n",
      "100%|██████████| 17/17 [00:00<00:00, 607.15it/s]\n",
      "100%|██████████| 17/17 [00:00<00:00, 680.02it/s]\n",
      "100%|██████████| 17/17 [00:00<00:00, 653.85it/s]\n",
      "100%|██████████| 17/17 [00:00<00:00, 679.99it/s]\n",
      "100%|██████████| 17/17 [00:00<00:00, 679.98it/s]\n",
      "100%|██████████| 17/17 [00:00<00:00, 708.34it/s]\n"
     ]
    },
    {
     "name": "stdout",
     "output_type": "stream",
     "text": [
      "Epoch [1401/6000]: Train loss: 3.0417, Valid loss: 3.1521\n"
     ]
    },
    {
     "name": "stderr",
     "output_type": "stream",
     "text": [
      "100%|██████████| 17/17 [00:00<00:00, 708.32it/s]\n",
      "100%|██████████| 17/17 [00:00<00:00, 629.61it/s]\n",
      "100%|██████████| 17/17 [00:00<00:00, 613.40it/s]\n",
      "100%|██████████| 17/17 [00:00<00:00, 556.85it/s]\n",
      "100%|██████████| 17/17 [00:00<00:00, 629.64it/s]\n",
      "100%|██████████| 17/17 [00:00<00:00, 612.51it/s]\n",
      "100%|██████████| 17/17 [00:00<00:00, 629.63it/s]\n",
      "100%|██████████| 17/17 [00:00<00:00, 536.29it/s]\n",
      "100%|██████████| 17/17 [00:00<00:00, 566.85it/s]\n",
      "100%|██████████| 17/17 [00:00<00:00, 534.34it/s]\n",
      "100%|██████████| 17/17 [00:00<00:00, 620.29it/s]\n",
      "100%|██████████| 17/17 [00:00<00:00, 653.86it/s]\n",
      "100%|██████████| 17/17 [00:00<00:00, 629.63it/s]\n",
      "100%|██████████| 17/17 [00:00<00:00, 653.85it/s]\n"
     ]
    },
    {
     "name": "stdout",
     "output_type": "stream",
     "text": [
      "Saving model with loss 2.664...\n"
     ]
    },
    {
     "name": "stderr",
     "output_type": "stream",
     "text": [
      "100%|██████████| 17/17 [00:00<00:00, 586.20it/s]\n",
      "100%|██████████| 17/17 [00:00<00:00, 607.15it/s]\n",
      "100%|██████████| 17/17 [00:00<00:00, 586.21it/s]\n",
      "100%|██████████| 17/17 [00:00<00:00, 607.16it/s]\n",
      "100%|██████████| 17/17 [00:00<00:00, 629.64it/s]\n",
      "100%|██████████| 17/17 [00:00<00:00, 653.85it/s]\n"
     ]
    },
    {
     "name": "stdout",
     "output_type": "stream",
     "text": [
      "Epoch [1421/6000]: Train loss: 2.9815, Valid loss: 2.5755\n",
      "Saving model with loss 2.576...\n"
     ]
    },
    {
     "name": "stderr",
     "output_type": "stream",
     "text": [
      "100%|██████████| 17/17 [00:00<00:00, 653.85it/s]\n",
      "100%|██████████| 17/17 [00:00<00:00, 739.15it/s]\n",
      "100%|██████████| 17/17 [00:00<00:00, 680.00it/s]\n",
      "100%|██████████| 17/17 [00:00<00:00, 708.33it/s]\n",
      "100%|██████████| 17/17 [00:00<00:00, 566.67it/s]\n",
      "100%|██████████| 17/17 [00:00<00:00, 653.85it/s]\n",
      "100%|██████████| 17/17 [00:00<00:00, 680.00it/s]\n",
      "100%|██████████| 17/17 [00:00<00:00, 680.02it/s]\n",
      "100%|██████████| 17/17 [00:00<00:00, 680.00it/s]\n",
      "100%|██████████| 17/17 [00:00<00:00, 680.00it/s]\n",
      "100%|██████████| 17/17 [00:00<00:00, 680.00it/s]\n",
      "100%|██████████| 17/17 [00:00<00:00, 653.84it/s]\n",
      "100%|██████████| 17/17 [00:00<00:00, 584.35it/s]\n",
      "100%|██████████| 17/17 [00:00<00:00, 548.38it/s]\n",
      "100%|██████████| 17/17 [00:00<00:00, 687.94it/s]\n",
      "100%|██████████| 17/17 [00:00<00:00, 629.64it/s]\n",
      "100%|██████████| 17/17 [00:00<00:00, 607.17it/s]\n",
      "100%|██████████| 17/17 [00:00<00:00, 629.64it/s]\n",
      "100%|██████████| 17/17 [00:00<00:00, 629.64it/s]\n",
      "100%|██████████| 17/17 [00:00<00:00, 602.06it/s]\n"
     ]
    },
    {
     "name": "stdout",
     "output_type": "stream",
     "text": [
      "Epoch [1441/6000]: Train loss: 2.9206, Valid loss: 2.7164\n"
     ]
    },
    {
     "name": "stderr",
     "output_type": "stream",
     "text": [
      "100%|██████████| 17/17 [00:00<00:00, 595.17it/s]\n",
      "100%|██████████| 17/17 [00:00<00:00, 629.63it/s]\n",
      "100%|██████████| 17/17 [00:00<00:00, 566.67it/s]\n",
      "100%|██████████| 17/17 [00:00<00:00, 607.15it/s]\n",
      "100%|██████████| 17/17 [00:00<00:00, 607.15it/s]\n",
      "100%|██████████| 17/17 [00:00<00:00, 653.86it/s]\n",
      "100%|██████████| 17/17 [00:00<00:00, 653.86it/s]\n",
      "100%|██████████| 17/17 [00:00<00:00, 629.64it/s]\n",
      "100%|██████████| 17/17 [00:00<00:00, 708.37it/s]\n",
      "100%|██████████| 17/17 [00:00<00:00, 680.00it/s]\n",
      "100%|██████████| 17/17 [00:00<00:00, 708.34it/s]\n",
      "100%|██████████| 17/17 [00:00<00:00, 653.83it/s]\n",
      "100%|██████████| 17/17 [00:00<00:00, 600.06it/s]\n",
      "100%|██████████| 17/17 [00:00<00:00, 653.86it/s]\n",
      "100%|██████████| 17/17 [00:00<00:00, 675.32it/s]\n",
      "100%|██████████| 17/17 [00:00<00:00, 612.20it/s]\n",
      "100%|██████████| 17/17 [00:00<00:00, 708.34it/s]\n",
      "100%|██████████| 17/17 [00:00<00:00, 708.33it/s]\n",
      "100%|██████████| 17/17 [00:00<00:00, 680.00it/s]\n",
      "100%|██████████| 17/17 [00:00<00:00, 646.66it/s]\n"
     ]
    },
    {
     "name": "stdout",
     "output_type": "stream",
     "text": [
      "Epoch [1461/6000]: Train loss: 2.8655, Valid loss: 2.9606\n"
     ]
    },
    {
     "name": "stderr",
     "output_type": "stream",
     "text": [
      "100%|██████████| 17/17 [00:00<00:00, 680.02it/s]\n",
      "100%|██████████| 17/17 [00:00<00:00, 708.34it/s]\n",
      "100%|██████████| 17/17 [00:00<00:00, 607.13it/s]\n",
      "100%|██████████| 17/17 [00:00<00:00, 629.64it/s]\n",
      "100%|██████████| 17/17 [00:00<00:00, 566.66it/s]\n",
      "100%|██████████| 17/17 [00:00<00:00, 653.88it/s]\n",
      "100%|██████████| 17/17 [00:00<00:00, 653.86it/s]\n",
      "100%|██████████| 17/17 [00:00<00:00, 653.87it/s]\n",
      "100%|██████████| 17/17 [00:00<00:00, 708.33it/s]\n"
     ]
    },
    {
     "name": "stdout",
     "output_type": "stream",
     "text": [
      "Saving model with loss 2.441...\n"
     ]
    },
    {
     "name": "stderr",
     "output_type": "stream",
     "text": [
      "100%|██████████| 17/17 [00:00<00:00, 707.74it/s]\n",
      "100%|██████████| 17/17 [00:00<00:00, 708.35it/s]\n",
      "100%|██████████| 17/17 [00:00<00:00, 708.35it/s]\n",
      "100%|██████████| 17/17 [00:00<00:00, 653.84it/s]\n",
      "100%|██████████| 17/17 [00:00<00:00, 629.62it/s]\n",
      "100%|██████████| 17/17 [00:00<00:00, 607.15it/s]\n",
      "100%|██████████| 17/17 [00:00<00:00, 629.64it/s]\n",
      "100%|██████████| 17/17 [00:00<00:00, 653.87it/s]\n",
      "100%|██████████| 17/17 [00:00<00:00, 653.83it/s]\n",
      "100%|██████████| 17/17 [00:00<00:00, 586.21it/s]\n",
      "100%|██████████| 17/17 [00:00<00:00, 708.34it/s]\n"
     ]
    },
    {
     "name": "stdout",
     "output_type": "stream",
     "text": [
      "Epoch [1481/6000]: Train loss: 2.8058, Valid loss: 2.7249\n"
     ]
    },
    {
     "name": "stderr",
     "output_type": "stream",
     "text": [
      "100%|██████████| 17/17 [00:00<00:00, 708.34it/s]\n",
      "100%|██████████| 17/17 [00:00<00:00, 629.64it/s]\n",
      "100%|██████████| 17/17 [00:00<00:00, 459.45it/s]\n",
      "100%|██████████| 17/17 [00:00<00:00, 531.25it/s]\n",
      "100%|██████████| 17/17 [00:00<00:00, 515.15it/s]\n",
      "100%|██████████| 17/17 [00:00<00:00, 485.86it/s]\n",
      "100%|██████████| 17/17 [00:00<00:00, 485.72it/s]\n",
      "100%|██████████| 17/17 [00:00<00:00, 485.72it/s]\n",
      "100%|██████████| 17/17 [00:00<00:00, 531.25it/s]\n"
     ]
    },
    {
     "name": "stdout",
     "output_type": "stream",
     "text": [
      "Saving model with loss 2.397...\n"
     ]
    },
    {
     "name": "stderr",
     "output_type": "stream",
     "text": [
      "100%|██████████| 17/17 [00:00<00:00, 548.39it/s]\n",
      "100%|██████████| 17/17 [00:00<00:00, 395.35it/s]\n",
      "100%|██████████| 17/17 [00:00<00:00, 435.91it/s]\n",
      "100%|██████████| 17/17 [00:00<00:00, 586.22it/s]\n",
      "100%|██████████| 17/17 [00:00<00:00, 653.88it/s]\n",
      "100%|██████████| 17/17 [00:00<00:00, 629.66it/s]\n",
      "100%|██████████| 17/17 [00:00<00:00, 629.63it/s]\n",
      "100%|██████████| 17/17 [00:00<00:00, 629.65it/s]\n",
      "100%|██████████| 17/17 [00:00<00:00, 586.22it/s]\n",
      "100%|██████████| 17/17 [00:00<00:00, 653.86it/s]\n",
      "100%|██████████| 17/17 [00:00<00:00, 586.22it/s]\n"
     ]
    },
    {
     "name": "stdout",
     "output_type": "stream",
     "text": [
      "Epoch [1501/6000]: Train loss: 2.7514, Valid loss: 2.7185\n"
     ]
    },
    {
     "name": "stderr",
     "output_type": "stream",
     "text": [
      "100%|██████████| 17/17 [00:00<00:00, 629.64it/s]\n",
      "100%|██████████| 17/17 [00:00<00:00, 606.80it/s]\n",
      "100%|██████████| 17/17 [00:00<00:00, 653.88it/s]\n",
      "100%|██████████| 17/17 [00:00<00:00, 629.65it/s]\n",
      "100%|██████████| 17/17 [00:00<00:00, 680.00it/s]\n"
     ]
    },
    {
     "name": "stdout",
     "output_type": "stream",
     "text": [
      "Saving model with loss 2.371...\n"
     ]
    },
    {
     "name": "stderr",
     "output_type": "stream",
     "text": [
      "100%|██████████| 17/17 [00:00<00:00, 680.00it/s]\n",
      "100%|██████████| 17/17 [00:00<00:00, 708.34it/s]\n"
     ]
    },
    {
     "name": "stdout",
     "output_type": "stream",
     "text": [
      "Saving model with loss 2.337...\n"
     ]
    },
    {
     "name": "stderr",
     "output_type": "stream",
     "text": [
      "100%|██████████| 17/17 [00:00<00:00, 679.98it/s]\n",
      "100%|██████████| 17/17 [00:00<00:00, 680.00it/s]\n",
      "100%|██████████| 17/17 [00:00<00:00, 653.87it/s]\n",
      "100%|██████████| 17/17 [00:00<00:00, 653.85it/s]\n",
      "100%|██████████| 17/17 [00:00<00:00, 653.86it/s]\n",
      "100%|██████████| 17/17 [00:00<00:00, 629.62it/s]\n",
      "100%|██████████| 17/17 [00:00<00:00, 653.85it/s]\n",
      "100%|██████████| 17/17 [00:00<00:00, 548.40it/s]\n",
      "100%|██████████| 17/17 [00:00<00:00, 629.63it/s]\n",
      "100%|██████████| 17/17 [00:00<00:00, 653.85it/s]\n",
      "100%|██████████| 17/17 [00:00<00:00, 708.34it/s]\n",
      "100%|██████████| 17/17 [00:00<00:00, 708.33it/s]\n",
      "100%|██████████| 17/17 [00:00<00:00, 680.00it/s]\n"
     ]
    },
    {
     "name": "stdout",
     "output_type": "stream",
     "text": [
      "Epoch [1521/6000]: Train loss: 2.6994, Valid loss: 2.4586\n"
     ]
    },
    {
     "name": "stderr",
     "output_type": "stream",
     "text": [
      "100%|██████████| 17/17 [00:00<00:00, 653.83it/s]\n",
      "100%|██████████| 17/17 [00:00<00:00, 653.85it/s]\n",
      "100%|██████████| 17/17 [00:00<00:00, 680.01it/s]\n",
      "100%|██████████| 17/17 [00:00<00:00, 653.85it/s]\n",
      "100%|██████████| 17/17 [00:00<00:00, 653.87it/s]\n",
      "100%|██████████| 17/17 [00:00<00:00, 680.00it/s]\n",
      "100%|██████████| 17/17 [00:00<00:00, 653.85it/s]\n",
      "100%|██████████| 17/17 [00:00<00:00, 649.04it/s]\n",
      "100%|██████████| 17/17 [00:00<00:00, 679.98it/s]\n",
      "100%|██████████| 17/17 [00:00<00:00, 679.96it/s]\n",
      "100%|██████████| 17/17 [00:00<00:00, 680.00it/s]\n",
      "100%|██████████| 17/17 [00:00<00:00, 566.68it/s]\n",
      "100%|██████████| 17/17 [00:00<00:00, 653.83it/s]\n",
      "100%|██████████| 17/17 [00:00<00:00, 629.63it/s]\n",
      "100%|██████████| 17/17 [00:00<00:00, 425.00it/s]\n",
      "100%|██████████| 17/17 [00:00<00:00, 566.68it/s]\n",
      "100%|██████████| 17/17 [00:00<00:00, 586.21it/s]\n",
      "100%|██████████| 17/17 [00:00<00:00, 531.24it/s]\n",
      "100%|██████████| 17/17 [00:00<00:00, 459.46it/s]\n",
      "100%|██████████| 17/17 [00:00<00:00, 404.76it/s]\n"
     ]
    },
    {
     "name": "stdout",
     "output_type": "stream",
     "text": [
      "Epoch [1541/6000]: Train loss: 2.6554, Valid loss: 2.5958\n"
     ]
    },
    {
     "name": "stderr",
     "output_type": "stream",
     "text": [
      "100%|██████████| 17/17 [00:00<00:00, 426.83it/s]\n",
      "100%|██████████| 17/17 [00:00<00:00, 472.22it/s]\n",
      "100%|██████████| 17/17 [00:00<00:00, 447.35it/s]\n",
      "100%|██████████| 17/17 [00:00<00:00, 500.00it/s]\n",
      "100%|██████████| 17/17 [00:00<00:00, 500.00it/s]\n",
      "100%|██████████| 17/17 [00:00<00:00, 515.16it/s]\n",
      "100%|██████████| 17/17 [00:00<00:00, 485.72it/s]\n",
      "100%|██████████| 17/17 [00:00<00:00, 566.67it/s]\n",
      "100%|██████████| 17/17 [00:00<00:00, 566.67it/s]\n",
      "100%|██████████| 17/17 [00:00<00:00, 531.25it/s]\n",
      "100%|██████████| 17/17 [00:00<00:00, 515.16it/s]\n",
      "100%|██████████| 17/17 [00:00<00:00, 515.15it/s]\n",
      "100%|██████████| 17/17 [00:00<00:00, 472.25it/s]\n",
      "100%|██████████| 17/17 [00:00<00:00, 531.24it/s]\n",
      "100%|██████████| 17/17 [00:00<00:00, 679.98it/s]\n",
      "100%|██████████| 17/17 [00:00<00:00, 425.00it/s]\n",
      "100%|██████████| 17/17 [00:00<00:00, 607.14it/s]\n",
      "100%|██████████| 17/17 [00:00<00:00, 586.20it/s]\n",
      "100%|██████████| 17/17 [00:00<00:00, 629.62it/s]\n",
      "100%|██████████| 17/17 [00:00<00:00, 629.63it/s]\n"
     ]
    },
    {
     "name": "stdout",
     "output_type": "stream",
     "text": [
      "Epoch [1561/6000]: Train loss: 2.6104, Valid loss: 2.3559\n"
     ]
    },
    {
     "name": "stderr",
     "output_type": "stream",
     "text": [
      "100%|██████████| 17/17 [00:00<00:00, 566.68it/s]\n",
      "100%|██████████| 17/17 [00:00<00:00, 548.39it/s]\n",
      "100%|██████████| 17/17 [00:00<00:00, 680.02it/s]\n",
      "100%|██████████| 17/17 [00:00<00:00, 586.18it/s]\n",
      "100%|██████████| 17/17 [00:00<00:00, 629.63it/s]\n",
      "100%|██████████| 17/17 [00:00<00:00, 566.67it/s]\n"
     ]
    },
    {
     "name": "stdout",
     "output_type": "stream",
     "text": [
      "Saving model with loss 2.312...\n"
     ]
    },
    {
     "name": "stderr",
     "output_type": "stream",
     "text": [
      "100%|██████████| 17/17 [00:00<00:00, 629.64it/s]\n",
      "100%|██████████| 17/17 [00:00<00:00, 607.16it/s]\n",
      "100%|██████████| 17/17 [00:00<00:00, 629.63it/s]\n",
      "100%|██████████| 17/17 [00:00<00:00, 586.21it/s]\n",
      "100%|██████████| 17/17 [00:00<00:00, 607.14it/s]\n",
      "100%|██████████| 17/17 [00:00<00:00, 607.15it/s]\n",
      "100%|██████████| 17/17 [00:00<00:00, 653.85it/s]\n",
      "100%|██████████| 17/17 [00:00<00:00, 607.15it/s]\n",
      "100%|██████████| 17/17 [00:00<00:00, 607.14it/s]\n",
      "100%|██████████| 17/17 [00:00<00:00, 629.63it/s]\n",
      "100%|██████████| 17/17 [00:00<00:00, 629.65it/s]\n",
      "100%|██████████| 17/17 [00:00<00:00, 629.62it/s]\n",
      "100%|██████████| 17/17 [00:00<00:00, 607.17it/s]\n",
      "100%|██████████| 17/17 [00:00<00:00, 485.71it/s]\n"
     ]
    },
    {
     "name": "stdout",
     "output_type": "stream",
     "text": [
      "Epoch [1581/6000]: Train loss: 2.5626, Valid loss: 2.5463\n"
     ]
    },
    {
     "name": "stderr",
     "output_type": "stream",
     "text": [
      "100%|██████████| 17/17 [00:00<00:00, 485.72it/s]\n",
      "100%|██████████| 17/17 [00:00<00:00, 500.01it/s]\n",
      "100%|██████████| 17/17 [00:00<00:00, 499.28it/s]\n",
      "100%|██████████| 17/17 [00:00<00:00, 531.26it/s]\n",
      "100%|██████████| 17/17 [00:00<00:00, 548.37it/s]\n",
      "100%|██████████| 17/17 [00:00<00:00, 485.71it/s]\n",
      "100%|██████████| 17/17 [00:00<00:00, 566.66it/s]\n",
      "100%|██████████| 17/17 [00:00<00:00, 566.66it/s]\n"
     ]
    },
    {
     "name": "stdout",
     "output_type": "stream",
     "text": [
      "Saving model with loss 2.281...\n"
     ]
    },
    {
     "name": "stderr",
     "output_type": "stream",
     "text": [
      "100%|██████████| 17/17 [00:00<00:00, 531.26it/s]\n",
      "100%|██████████| 17/17 [00:00<00:00, 586.20it/s]\n",
      "100%|██████████| 17/17 [00:00<00:00, 531.25it/s]\n",
      "100%|██████████| 17/17 [00:00<00:00, 531.25it/s]\n",
      "100%|██████████| 17/17 [00:00<00:00, 586.21it/s]\n",
      "100%|██████████| 17/17 [00:00<00:00, 500.00it/s]\n",
      "100%|██████████| 17/17 [00:00<00:00, 548.40it/s]\n"
     ]
    },
    {
     "name": "stdout",
     "output_type": "stream",
     "text": [
      "Saving model with loss 2.263...\n"
     ]
    },
    {
     "name": "stderr",
     "output_type": "stream",
     "text": [
      "100%|██████████| 17/17 [00:00<00:00, 472.22it/s]\n",
      "100%|██████████| 17/17 [00:00<00:00, 566.66it/s]\n",
      "100%|██████████| 17/17 [00:00<00:00, 548.39it/s]\n",
      "100%|██████████| 17/17 [00:00<00:00, 586.23it/s]\n",
      "100%|██████████| 17/17 [00:00<00:00, 515.16it/s]\n"
     ]
    },
    {
     "name": "stdout",
     "output_type": "stream",
     "text": [
      "Epoch [1601/6000]: Train loss: 2.5242, Valid loss: 2.2006\n",
      "Saving model with loss 2.201...\n"
     ]
    },
    {
     "name": "stderr",
     "output_type": "stream",
     "text": [
      "100%|██████████| 17/17 [00:00<00:00, 515.16it/s]\n",
      "100%|██████████| 17/17 [00:00<00:00, 500.00it/s]\n",
      "100%|██████████| 17/17 [00:00<00:00, 515.14it/s]\n",
      "100%|██████████| 17/17 [00:00<00:00, 607.14it/s]\n",
      "100%|██████████| 17/17 [00:00<00:00, 472.23it/s]\n",
      "100%|██████████| 17/17 [00:00<00:00, 531.24it/s]\n",
      "100%|██████████| 17/17 [00:00<00:00, 500.00it/s]\n",
      "100%|██████████| 17/17 [00:00<00:00, 515.14it/s]\n",
      "100%|██████████| 17/17 [00:00<00:00, 566.66it/s]\n",
      "100%|██████████| 17/17 [00:00<00:00, 485.71it/s]\n",
      "100%|██████████| 17/17 [00:00<00:00, 548.39it/s]\n"
     ]
    },
    {
     "name": "stdout",
     "output_type": "stream",
     "text": [
      "Saving model with loss 2.168...\n"
     ]
    },
    {
     "name": "stderr",
     "output_type": "stream",
     "text": [
      "100%|██████████| 17/17 [00:00<00:00, 459.47it/s]\n",
      "100%|██████████| 17/17 [00:00<00:00, 548.38it/s]\n",
      "100%|██████████| 17/17 [00:00<00:00, 566.68it/s]\n",
      "100%|██████████| 17/17 [00:00<00:00, 500.00it/s]\n",
      "100%|██████████| 17/17 [00:00<00:00, 548.39it/s]\n",
      "100%|██████████| 17/17 [00:00<00:00, 485.71it/s]\n",
      "100%|██████████| 17/17 [00:00<00:00, 531.26it/s]\n",
      "100%|██████████| 17/17 [00:00<00:00, 531.25it/s]\n",
      "100%|██████████| 17/17 [00:00<00:00, 586.21it/s]\n"
     ]
    },
    {
     "name": "stdout",
     "output_type": "stream",
     "text": [
      "Epoch [1621/6000]: Train loss: 2.4848, Valid loss: 2.2959\n"
     ]
    },
    {
     "name": "stderr",
     "output_type": "stream",
     "text": [
      "100%|██████████| 17/17 [00:00<00:00, 485.72it/s]\n",
      "100%|██████████| 17/17 [00:00<00:00, 566.67it/s]\n",
      "100%|██████████| 17/17 [00:00<00:00, 472.23it/s]\n",
      "100%|██████████| 17/17 [00:00<00:00, 548.39it/s]\n",
      "100%|██████████| 17/17 [00:00<00:00, 548.38it/s]\n",
      "100%|██████████| 17/17 [00:00<00:00, 566.64it/s]\n",
      "100%|██████████| 17/17 [00:00<00:00, 485.72it/s]\n"
     ]
    },
    {
     "name": "stdout",
     "output_type": "stream",
     "text": [
      "Saving model with loss 2.163...\n"
     ]
    },
    {
     "name": "stderr",
     "output_type": "stream",
     "text": [
      "100%|██████████| 17/17 [00:00<00:00, 548.37it/s]\n",
      "100%|██████████| 17/17 [00:00<00:00, 538.17it/s]\n",
      "100%|██████████| 17/17 [00:00<00:00, 485.71it/s]\n",
      "100%|██████████| 17/17 [00:00<00:00, 548.41it/s]\n",
      "100%|██████████| 17/17 [00:00<00:00, 607.16it/s]\n",
      "100%|██████████| 17/17 [00:00<00:00, 513.55it/s]\n",
      "100%|██████████| 17/17 [00:00<00:00, 566.67it/s]\n",
      "100%|██████████| 17/17 [00:00<00:00, 553.84it/s]\n",
      "100%|██████████| 17/17 [00:00<00:00, 515.15it/s]\n",
      "100%|██████████| 17/17 [00:00<00:00, 542.11it/s]\n",
      "100%|██████████| 17/17 [00:00<00:00, 566.67it/s]\n",
      "100%|██████████| 17/17 [00:00<00:00, 548.38it/s]\n"
     ]
    },
    {
     "name": "stdout",
     "output_type": "stream",
     "text": [
      "Saving model with loss 2.096...\n"
     ]
    },
    {
     "name": "stderr",
     "output_type": "stream",
     "text": [
      "100%|██████████| 17/17 [00:00<00:00, 566.68it/s]\n"
     ]
    },
    {
     "name": "stdout",
     "output_type": "stream",
     "text": [
      "Epoch [1641/6000]: Train loss: 2.4477, Valid loss: 2.3012\n"
     ]
    },
    {
     "name": "stderr",
     "output_type": "stream",
     "text": [
      "100%|██████████| 17/17 [00:00<00:00, 500.00it/s]\n",
      "100%|██████████| 17/17 [00:00<00:00, 531.24it/s]\n",
      "100%|██████████| 17/17 [00:00<00:00, 459.46it/s]\n",
      "100%|██████████| 17/17 [00:00<00:00, 531.24it/s]\n",
      "100%|██████████| 17/17 [00:00<00:00, 472.23it/s]\n",
      "100%|██████████| 17/17 [00:00<00:00, 531.24it/s]\n",
      "100%|██████████| 17/17 [00:00<00:00, 500.02it/s]\n",
      "100%|██████████| 17/17 [00:00<00:00, 586.20it/s]\n",
      "100%|██████████| 17/17 [00:00<00:00, 566.66it/s]\n",
      "100%|██████████| 17/17 [00:00<00:00, 566.67it/s]\n",
      "100%|██████████| 17/17 [00:00<00:00, 566.67it/s]\n",
      "100%|██████████| 17/17 [00:00<00:00, 515.15it/s]\n",
      "100%|██████████| 17/17 [00:00<00:00, 566.67it/s]\n",
      "100%|██████████| 17/17 [00:00<00:00, 566.67it/s]\n",
      "100%|██████████| 17/17 [00:00<00:00, 566.66it/s]\n",
      "100%|██████████| 17/17 [00:00<00:00, 500.00it/s]\n",
      "100%|██████████| 17/17 [00:00<00:00, 515.16it/s]\n",
      "100%|██████████| 17/17 [00:00<00:00, 618.00it/s]\n",
      "100%|██████████| 17/17 [00:00<00:00, 512.90it/s]\n",
      "100%|██████████| 17/17 [00:00<00:00, 500.00it/s]\n"
     ]
    },
    {
     "name": "stdout",
     "output_type": "stream",
     "text": [
      "Epoch [1661/6000]: Train loss: 2.4158, Valid loss: 2.2059\n"
     ]
    },
    {
     "name": "stderr",
     "output_type": "stream",
     "text": [
      "100%|██████████| 17/17 [00:00<00:00, 491.74it/s]\n",
      "100%|██████████| 17/17 [00:00<00:00, 464.21it/s]\n",
      "100%|██████████| 17/17 [00:00<00:00, 424.28it/s]\n",
      "100%|██████████| 17/17 [00:00<00:00, 478.78it/s]\n"
     ]
    },
    {
     "name": "stdout",
     "output_type": "stream",
     "text": [
      "Saving model with loss 2.086...\n"
     ]
    },
    {
     "name": "stderr",
     "output_type": "stream",
     "text": [
      "100%|██████████| 17/17 [00:00<00:00, 472.23it/s]\n",
      "100%|██████████| 17/17 [00:00<00:00, 472.23it/s]\n",
      "100%|██████████| 17/17 [00:00<00:00, 548.38it/s]\n",
      "100%|██████████| 17/17 [00:00<00:00, 377.78it/s]\n",
      "100%|██████████| 17/17 [00:00<00:00, 566.67it/s]\n",
      "100%|██████████| 17/17 [00:00<00:00, 485.72it/s]\n",
      "100%|██████████| 17/17 [00:00<00:00, 531.24it/s]\n",
      "100%|██████████| 17/17 [00:00<00:00, 512.22it/s]\n",
      "100%|██████████| 17/17 [00:00<00:00, 548.39it/s]\n",
      "100%|██████████| 17/17 [00:00<00:00, 548.38it/s]\n",
      "100%|██████████| 17/17 [00:00<00:00, 566.65it/s]\n",
      "100%|██████████| 17/17 [00:00<00:00, 586.21it/s]\n",
      "100%|██████████| 17/17 [00:00<00:00, 485.71it/s]\n",
      "100%|██████████| 17/17 [00:00<00:00, 531.26it/s]\n",
      "100%|██████████| 17/17 [00:00<00:00, 472.53it/s]\n",
      "100%|██████████| 17/17 [00:00<00:00, 548.39it/s]\n"
     ]
    },
    {
     "name": "stdout",
     "output_type": "stream",
     "text": [
      "Epoch [1681/6000]: Train loss: 2.3825, Valid loss: 2.1355\n"
     ]
    },
    {
     "name": "stderr",
     "output_type": "stream",
     "text": [
      "100%|██████████| 17/17 [00:00<00:00, 515.13it/s]\n",
      "100%|██████████| 17/17 [00:00<00:00, 500.00it/s]\n"
     ]
    },
    {
     "name": "stdout",
     "output_type": "stream",
     "text": [
      "Saving model with loss 2.035...\n"
     ]
    },
    {
     "name": "stderr",
     "output_type": "stream",
     "text": [
      "100%|██████████| 17/17 [00:00<00:00, 509.84it/s]\n",
      "100%|██████████| 17/17 [00:00<00:00, 472.23it/s]\n",
      "100%|██████████| 17/17 [00:00<00:00, 515.30it/s]\n",
      "100%|██████████| 17/17 [00:00<00:00, 515.16it/s]\n",
      "100%|██████████| 17/17 [00:00<00:00, 485.72it/s]\n",
      "100%|██████████| 17/17 [00:00<00:00, 492.04it/s]\n",
      "100%|██████████| 17/17 [00:00<00:00, 485.71it/s]\n",
      "100%|██████████| 17/17 [00:00<00:00, 500.01it/s]\n",
      "100%|██████████| 17/17 [00:00<00:00, 459.47it/s]\n",
      "100%|██████████| 17/17 [00:00<00:00, 472.21it/s]\n",
      "100%|██████████| 17/17 [00:00<00:00, 500.00it/s]\n",
      "100%|██████████| 17/17 [00:00<00:00, 500.00it/s]\n",
      "100%|██████████| 17/17 [00:00<00:00, 485.71it/s]\n",
      "100%|██████████| 17/17 [00:00<00:00, 480.32it/s]\n",
      "100%|██████████| 17/17 [00:00<00:00, 515.16it/s]\n",
      "100%|██████████| 17/17 [00:00<00:00, 447.37it/s]\n",
      "100%|██████████| 17/17 [00:00<00:00, 500.00it/s]\n",
      "100%|██████████| 17/17 [00:00<00:00, 459.45it/s]\n"
     ]
    },
    {
     "name": "stdout",
     "output_type": "stream",
     "text": [
      "Epoch [1701/6000]: Train loss: 2.3556, Valid loss: 2.1390\n"
     ]
    },
    {
     "name": "stderr",
     "output_type": "stream",
     "text": [
      "100%|██████████| 17/17 [00:00<00:00, 548.38it/s]\n",
      "100%|██████████| 17/17 [00:00<00:00, 472.23it/s]\n",
      "100%|██████████| 17/17 [00:00<00:00, 515.17it/s]\n",
      "100%|██████████| 17/17 [00:00<00:00, 653.84it/s]\n",
      "100%|██████████| 17/17 [00:00<00:00, 485.72it/s]\n",
      "100%|██████████| 17/17 [00:00<00:00, 326.92it/s]\n",
      "100%|██████████| 17/17 [00:00<00:00, 381.41it/s]\n",
      "100%|██████████| 17/17 [00:00<00:00, 515.86it/s]\n",
      "100%|██████████| 17/17 [00:00<00:00, 499.99it/s]\n"
     ]
    },
    {
     "name": "stdout",
     "output_type": "stream",
     "text": [
      "Saving model with loss 1.998...\n"
     ]
    },
    {
     "name": "stderr",
     "output_type": "stream",
     "text": [
      "100%|██████████| 17/17 [00:00<00:00, 472.23it/s]\n",
      "100%|██████████| 17/17 [00:00<00:00, 485.71it/s]\n",
      "100%|██████████| 17/17 [00:00<00:00, 531.25it/s]\n",
      "100%|██████████| 17/17 [00:00<00:00, 548.38it/s]\n",
      "100%|██████████| 17/17 [00:00<00:00, 548.39it/s]\n",
      "100%|██████████| 17/17 [00:00<00:00, 548.38it/s]\n",
      "100%|██████████| 17/17 [00:00<00:00, 500.01it/s]\n",
      "100%|██████████| 17/17 [00:00<00:00, 548.38it/s]\n",
      "100%|██████████| 17/17 [00:00<00:00, 548.37it/s]\n",
      "100%|██████████| 17/17 [00:00<00:00, 472.23it/s]\n",
      "100%|██████████| 17/17 [00:00<00:00, 531.25it/s]\n"
     ]
    },
    {
     "name": "stdout",
     "output_type": "stream",
     "text": [
      "Epoch [1721/6000]: Train loss: 2.3299, Valid loss: 2.1283\n"
     ]
    },
    {
     "name": "stderr",
     "output_type": "stream",
     "text": [
      "100%|██████████| 17/17 [00:00<00:00, 473.61it/s]\n",
      "100%|██████████| 17/17 [00:00<00:00, 566.66it/s]\n",
      "100%|██████████| 17/17 [00:00<00:00, 333.33it/s]\n",
      "100%|██████████| 17/17 [00:00<00:00, 500.00it/s]\n"
     ]
    },
    {
     "name": "stdout",
     "output_type": "stream",
     "text": [
      "Saving model with loss 1.956...\n"
     ]
    },
    {
     "name": "stderr",
     "output_type": "stream",
     "text": [
      "100%|██████████| 17/17 [00:00<00:00, 566.67it/s]\n",
      "100%|██████████| 17/17 [00:00<00:00, 515.16it/s]\n",
      "100%|██████████| 17/17 [00:00<00:00, 629.63it/s]\n",
      "100%|██████████| 17/17 [00:00<00:00, 500.00it/s]\n",
      "100%|██████████| 17/17 [00:00<00:00, 531.25it/s]\n",
      "100%|██████████| 17/17 [00:00<00:00, 515.16it/s]\n",
      "100%|██████████| 17/17 [00:00<00:00, 653.85it/s]\n",
      "100%|██████████| 17/17 [00:00<00:00, 548.39it/s]\n",
      "100%|██████████| 17/17 [00:00<00:00, 531.26it/s]\n",
      "100%|██████████| 17/17 [00:00<00:00, 586.20it/s]\n",
      "100%|██████████| 17/17 [00:00<00:00, 586.25it/s]\n",
      "100%|██████████| 17/17 [00:00<00:00, 607.14it/s]\n",
      "100%|██████████| 17/17 [00:00<00:00, 548.39it/s]\n",
      "100%|██████████| 17/17 [00:00<00:00, 548.40it/s]\n",
      "100%|██████████| 17/17 [00:00<00:00, 607.16it/s]\n",
      "100%|██████████| 17/17 [00:00<00:00, 257.57it/s]\n"
     ]
    },
    {
     "name": "stdout",
     "output_type": "stream",
     "text": [
      "Epoch [1741/6000]: Train loss: 2.3020, Valid loss: 2.1522\n"
     ]
    },
    {
     "name": "stderr",
     "output_type": "stream",
     "text": [
      "100%|██████████| 17/17 [00:00<00:00, 495.49it/s]\n",
      "100%|██████████| 17/17 [00:00<00:00, 485.72it/s]\n",
      "100%|██████████| 17/17 [00:00<00:00, 531.25it/s]\n",
      "100%|██████████| 17/17 [00:00<00:00, 531.26it/s]\n",
      "100%|██████████| 17/17 [00:00<00:00, 531.24it/s]\n",
      "100%|██████████| 17/17 [00:00<00:00, 531.25it/s]\n",
      "100%|██████████| 17/17 [00:00<00:00, 629.64it/s]\n",
      "100%|██████████| 17/17 [00:00<00:00, 515.14it/s]\n",
      "100%|██████████| 17/17 [00:00<00:00, 548.38it/s]\n",
      "100%|██████████| 17/17 [00:00<00:00, 531.25it/s]\n",
      "100%|██████████| 17/17 [00:00<00:00, 500.01it/s]\n",
      "100%|██████████| 17/17 [00:00<00:00, 566.69it/s]\n",
      "100%|██████████| 17/17 [00:00<00:00, 586.20it/s]\n",
      "100%|██████████| 17/17 [00:00<00:00, 566.67it/s]\n",
      "100%|██████████| 17/17 [00:00<00:00, 586.21it/s]\n",
      "100%|██████████| 17/17 [00:00<00:00, 515.16it/s]\n",
      "100%|██████████| 17/17 [00:00<00:00, 515.15it/s]\n",
      "100%|██████████| 17/17 [00:00<00:00, 531.24it/s]\n",
      "100%|██████████| 17/17 [00:00<00:00, 515.16it/s]\n"
     ]
    },
    {
     "name": "stdout",
     "output_type": "stream",
     "text": [
      "Saving model with loss 1.925...\n"
     ]
    },
    {
     "name": "stderr",
     "output_type": "stream",
     "text": [
      "100%|██████████| 17/17 [00:00<00:00, 515.15it/s]\n"
     ]
    },
    {
     "name": "stdout",
     "output_type": "stream",
     "text": [
      "Epoch [1761/6000]: Train loss: 2.2744, Valid loss: 1.9645\n"
     ]
    },
    {
     "name": "stderr",
     "output_type": "stream",
     "text": [
      "100%|██████████| 17/17 [00:00<00:00, 500.00it/s]\n",
      "100%|██████████| 17/17 [00:00<00:00, 565.14it/s]\n",
      "100%|██████████| 17/17 [00:00<00:00, 586.22it/s]\n",
      "100%|██████████| 17/17 [00:00<00:00, 548.39it/s]\n",
      "100%|██████████| 17/17 [00:00<00:00, 515.16it/s]\n",
      "100%|██████████| 17/17 [00:00<00:00, 607.14it/s]\n",
      "100%|██████████| 17/17 [00:00<00:00, 515.16it/s]\n",
      "100%|██████████| 17/17 [00:00<00:00, 515.16it/s]\n",
      "100%|██████████| 17/17 [00:00<00:00, 586.21it/s]\n",
      "100%|██████████| 17/17 [00:00<00:00, 531.26it/s]\n",
      "100%|██████████| 17/17 [00:00<00:00, 566.67it/s]\n",
      "100%|██████████| 17/17 [00:00<00:00, 531.25it/s]\n",
      "100%|██████████| 17/17 [00:00<00:00, 566.66it/s]\n",
      "100%|██████████| 17/17 [00:00<00:00, 485.72it/s]\n",
      "100%|██████████| 17/17 [00:00<00:00, 515.15it/s]\n",
      "100%|██████████| 17/17 [00:00<00:00, 500.00it/s]\n"
     ]
    },
    {
     "name": "stdout",
     "output_type": "stream",
     "text": [
      "Saving model with loss 1.866...\n"
     ]
    },
    {
     "name": "stderr",
     "output_type": "stream",
     "text": [
      "100%|██████████| 17/17 [00:00<00:00, 500.02it/s]\n",
      "100%|██████████| 17/17 [00:00<00:00, 499.98it/s]\n",
      "100%|██████████| 17/17 [00:00<00:00, 531.27it/s]\n",
      "100%|██████████| 17/17 [00:00<00:00, 500.01it/s]\n"
     ]
    },
    {
     "name": "stdout",
     "output_type": "stream",
     "text": [
      "Epoch [1781/6000]: Train loss: 2.2553, Valid loss: 2.2877\n"
     ]
    },
    {
     "name": "stderr",
     "output_type": "stream",
     "text": [
      "100%|██████████| 17/17 [00:00<00:00, 447.37it/s]\n",
      "100%|██████████| 17/17 [00:00<00:00, 566.69it/s]\n",
      "100%|██████████| 17/17 [00:00<00:00, 531.28it/s]\n",
      "100%|██████████| 17/17 [00:00<00:00, 515.14it/s]\n",
      "100%|██████████| 17/17 [00:00<00:00, 515.16it/s]\n",
      "100%|██████████| 17/17 [00:00<00:00, 528.35it/s]\n",
      "100%|██████████| 17/17 [00:00<00:00, 531.26it/s]\n",
      "100%|██████████| 17/17 [00:00<00:00, 515.15it/s]\n",
      "100%|██████████| 17/17 [00:00<00:00, 531.28it/s]\n",
      "100%|██████████| 17/17 [00:00<00:00, 531.24it/s]\n",
      "100%|██████████| 17/17 [00:00<00:00, 531.24it/s]\n",
      "100%|██████████| 17/17 [00:00<00:00, 499.99it/s]\n",
      "100%|██████████| 17/17 [00:00<00:00, 548.39it/s]\n",
      "100%|██████████| 17/17 [00:00<00:00, 531.24it/s]\n",
      "100%|██████████| 17/17 [00:00<00:00, 566.66it/s]\n",
      "100%|██████████| 17/17 [00:00<00:00, 548.38it/s]\n",
      "100%|██████████| 17/17 [00:00<00:00, 548.40it/s]\n",
      "100%|██████████| 17/17 [00:00<00:00, 586.22it/s]\n",
      "100%|██████████| 17/17 [00:00<00:00, 586.22it/s]\n",
      "100%|██████████| 17/17 [00:00<00:00, 548.40it/s]\n"
     ]
    },
    {
     "name": "stdout",
     "output_type": "stream",
     "text": [
      "Epoch [1801/6000]: Train loss: 2.2290, Valid loss: 1.9677\n"
     ]
    },
    {
     "name": "stderr",
     "output_type": "stream",
     "text": [
      "100%|██████████| 17/17 [00:00<00:00, 515.15it/s]\n",
      "100%|██████████| 17/17 [00:00<00:00, 515.15it/s]\n",
      "100%|██████████| 17/17 [00:00<00:00, 586.23it/s]\n",
      "100%|██████████| 17/17 [00:00<00:00, 500.02it/s]\n",
      "100%|██████████| 17/17 [00:00<00:00, 515.15it/s]\n",
      "100%|██████████| 17/17 [00:00<00:00, 607.15it/s]\n",
      "100%|██████████| 17/17 [00:00<00:00, 515.16it/s]\n",
      "100%|██████████| 17/17 [00:00<00:00, 500.01it/s]\n",
      "100%|██████████| 17/17 [00:00<00:00, 485.70it/s]\n",
      "100%|██████████| 17/17 [00:00<00:00, 531.25it/s]\n",
      "100%|██████████| 17/17 [00:00<00:00, 515.16it/s]\n",
      "100%|██████████| 17/17 [00:00<00:00, 472.23it/s]\n",
      "100%|██████████| 17/17 [00:00<00:00, 548.38it/s]\n",
      "100%|██████████| 17/17 [00:00<00:00, 548.37it/s]\n",
      "100%|██████████| 17/17 [00:00<00:00, 499.99it/s]\n",
      "100%|██████████| 17/17 [00:00<00:00, 548.39it/s]\n",
      "100%|██████████| 17/17 [00:00<00:00, 548.38it/s]\n",
      "100%|██████████| 17/17 [00:00<00:00, 459.46it/s]\n",
      "100%|██████████| 17/17 [00:00<00:00, 515.15it/s]\n",
      "100%|██████████| 17/17 [00:00<00:00, 548.37it/s]\n"
     ]
    },
    {
     "name": "stdout",
     "output_type": "stream",
     "text": [
      "Epoch [1821/6000]: Train loss: 2.2156, Valid loss: 2.3626\n"
     ]
    },
    {
     "name": "stderr",
     "output_type": "stream",
     "text": [
      "100%|██████████| 17/17 [00:00<00:00, 566.66it/s]\n",
      "100%|██████████| 17/17 [00:00<00:00, 566.67it/s]\n",
      "100%|██████████| 17/17 [00:00<00:00, 548.38it/s]\n",
      "100%|██████████| 17/17 [00:00<00:00, 485.72it/s]\n",
      "100%|██████████| 17/17 [00:00<00:00, 499.99it/s]\n",
      "100%|██████████| 17/17 [00:00<00:00, 531.24it/s]\n",
      "100%|██████████| 17/17 [00:00<00:00, 459.47it/s]\n",
      "100%|██████████| 17/17 [00:00<00:00, 548.39it/s]\n",
      "100%|██████████| 17/17 [00:00<00:00, 500.02it/s]\n",
      "100%|██████████| 17/17 [00:00<00:00, 548.38it/s]\n",
      "100%|██████████| 17/17 [00:00<00:00, 531.26it/s]\n",
      "100%|██████████| 17/17 [00:00<00:00, 531.24it/s]\n",
      "100%|██████████| 17/17 [00:00<00:00, 566.66it/s]\n",
      "100%|██████████| 17/17 [00:00<00:00, 500.01it/s]\n",
      "100%|██████████| 17/17 [00:00<00:00, 566.66it/s]\n",
      "100%|██████████| 17/17 [00:00<00:00, 500.00it/s]\n",
      "100%|██████████| 17/17 [00:00<00:00, 500.00it/s]\n",
      "100%|██████████| 17/17 [00:00<00:00, 485.72it/s]\n",
      "100%|██████████| 17/17 [00:00<00:00, 515.15it/s]\n",
      "100%|██████████| 17/17 [00:00<00:00, 485.72it/s]\n"
     ]
    },
    {
     "name": "stdout",
     "output_type": "stream",
     "text": [
      "Epoch [1841/6000]: Train loss: 2.1962, Valid loss: 2.1226\n"
     ]
    },
    {
     "name": "stderr",
     "output_type": "stream",
     "text": [
      "100%|██████████| 17/17 [00:00<00:00, 500.00it/s]\n",
      "100%|██████████| 17/17 [00:00<00:00, 472.22it/s]\n",
      "100%|██████████| 17/17 [00:00<00:00, 500.01it/s]\n",
      "100%|██████████| 17/17 [00:00<00:00, 500.01it/s]\n",
      "100%|██████████| 17/17 [00:00<00:00, 548.38it/s]\n",
      "100%|██████████| 17/17 [00:00<00:00, 548.38it/s]\n",
      "100%|██████████| 17/17 [00:00<00:00, 586.26it/s]\n",
      "100%|██████████| 17/17 [00:00<00:00, 500.02it/s]\n",
      "100%|██████████| 17/17 [00:00<00:00, 515.18it/s]\n",
      "100%|██████████| 17/17 [00:00<00:00, 485.72it/s]\n",
      "100%|██████████| 17/17 [00:00<00:00, 548.38it/s]\n"
     ]
    },
    {
     "name": "stdout",
     "output_type": "stream",
     "text": [
      "Saving model with loss 1.853...\n"
     ]
    },
    {
     "name": "stderr",
     "output_type": "stream",
     "text": [
      "100%|██████████| 17/17 [00:00<00:00, 548.39it/s]\n",
      "100%|██████████| 17/17 [00:00<00:00, 459.45it/s]\n",
      "100%|██████████| 17/17 [00:00<00:00, 548.38it/s]\n",
      "100%|██████████| 17/17 [00:00<00:00, 548.39it/s]\n",
      "100%|██████████| 17/17 [00:00<00:00, 566.67it/s]\n",
      "100%|██████████| 17/17 [00:00<00:00, 500.01it/s]\n"
     ]
    },
    {
     "name": "stdout",
     "output_type": "stream",
     "text": [
      "Saving model with loss 1.853...\n"
     ]
    },
    {
     "name": "stderr",
     "output_type": "stream",
     "text": [
      "100%|██████████| 17/17 [00:00<00:00, 548.39it/s]\n",
      "100%|██████████| 17/17 [00:00<00:00, 607.15it/s]\n",
      "100%|██████████| 17/17 [00:00<00:00, 485.72it/s]\n"
     ]
    },
    {
     "name": "stdout",
     "output_type": "stream",
     "text": [
      "Epoch [1861/6000]: Train loss: 2.1781, Valid loss: 1.8747\n"
     ]
    },
    {
     "name": "stderr",
     "output_type": "stream",
     "text": [
      "100%|██████████| 17/17 [00:00<00:00, 515.16it/s]\n",
      "100%|██████████| 17/17 [00:00<00:00, 653.86it/s]\n",
      "100%|██████████| 17/17 [00:00<00:00, 472.22it/s]\n",
      "100%|██████████| 17/17 [00:00<00:00, 485.73it/s]\n",
      "100%|██████████| 17/17 [00:00<00:00, 320.76it/s]\n",
      "100%|██████████| 17/17 [00:00<00:00, 326.93it/s]\n",
      "100%|██████████| 17/17 [00:00<00:00, 404.76it/s]\n",
      "100%|██████████| 17/17 [00:00<00:00, 629.64it/s]\n",
      "100%|██████████| 17/17 [00:00<00:00, 531.25it/s]\n",
      "100%|██████████| 17/17 [00:00<00:00, 566.66it/s]\n",
      "100%|██████████| 17/17 [00:00<00:00, 586.22it/s]\n",
      "100%|██████████| 17/17 [00:00<00:00, 566.69it/s]\n"
     ]
    },
    {
     "name": "stdout",
     "output_type": "stream",
     "text": [
      "Saving model with loss 1.827...\n"
     ]
    },
    {
     "name": "stderr",
     "output_type": "stream",
     "text": [
      "100%|██████████| 17/17 [00:00<00:00, 566.66it/s]\n",
      "100%|██████████| 17/17 [00:00<00:00, 548.39it/s]\n",
      "100%|██████████| 17/17 [00:00<00:00, 566.67it/s]\n",
      "100%|██████████| 17/17 [00:00<00:00, 531.26it/s]\n",
      "100%|██████████| 17/17 [00:00<00:00, 586.22it/s]\n",
      "100%|██████████| 17/17 [00:00<00:00, 531.24it/s]\n",
      "100%|██████████| 17/17 [00:00<00:00, 531.24it/s]\n",
      "100%|██████████| 17/17 [00:00<00:00, 346.94it/s]\n"
     ]
    },
    {
     "name": "stdout",
     "output_type": "stream",
     "text": [
      "Epoch [1881/6000]: Train loss: 2.1601, Valid loss: 1.8761\n"
     ]
    },
    {
     "name": "stderr",
     "output_type": "stream",
     "text": [
      "100%|██████████| 17/17 [00:00<00:00, 333.34it/s]\n",
      "100%|██████████| 17/17 [00:00<00:00, 333.33it/s]\n",
      "100%|██████████| 17/17 [00:00<00:00, 447.37it/s]\n",
      "100%|██████████| 17/17 [00:00<00:00, 500.01it/s]\n",
      "100%|██████████| 17/17 [00:00<00:00, 653.83it/s]\n",
      "100%|██████████| 17/17 [00:00<00:00, 468.42it/s]\n",
      "100%|██████████| 17/17 [00:00<00:00, 531.25it/s]\n",
      "100%|██████████| 17/17 [00:00<00:00, 435.91it/s]\n",
      "100%|██████████| 17/17 [00:00<00:00, 354.18it/s]\n",
      "100%|██████████| 17/17 [00:00<00:00, 320.75it/s]\n",
      "100%|██████████| 17/17 [00:00<00:00, 361.70it/s]\n",
      "100%|██████████| 17/17 [00:00<00:00, 680.00it/s]\n",
      "100%|██████████| 17/17 [00:00<00:00, 531.25it/s]\n",
      "100%|██████████| 17/17 [00:00<00:00, 586.22it/s]\n",
      "100%|██████████| 17/17 [00:00<00:00, 607.15it/s]\n"
     ]
    },
    {
     "name": "stdout",
     "output_type": "stream",
     "text": [
      "Saving model with loss 1.801...\n"
     ]
    },
    {
     "name": "stderr",
     "output_type": "stream",
     "text": [
      "100%|██████████| 17/17 [00:00<00:00, 472.23it/s]\n",
      "100%|██████████| 17/17 [00:00<00:00, 447.36it/s]\n"
     ]
    },
    {
     "name": "stdout",
     "output_type": "stream",
     "text": [
      "Saving model with loss 1.769...\n"
     ]
    },
    {
     "name": "stderr",
     "output_type": "stream",
     "text": [
      "100%|██████████| 17/17 [00:00<00:00, 320.76it/s]\n",
      "100%|██████████| 17/17 [00:00<00:00, 326.92it/s]\n",
      "100%|██████████| 17/17 [00:00<00:00, 346.94it/s]\n"
     ]
    },
    {
     "name": "stdout",
     "output_type": "stream",
     "text": [
      "Epoch [1901/6000]: Train loss: 2.1465, Valid loss: 2.1125\n"
     ]
    },
    {
     "name": "stderr",
     "output_type": "stream",
     "text": [
      "100%|██████████| 17/17 [00:00<00:00, 607.15it/s]\n",
      "100%|██████████| 17/17 [00:00<00:00, 548.39it/s]\n",
      "100%|██████████| 17/17 [00:00<00:00, 566.66it/s]\n",
      "100%|██████████| 17/17 [00:00<00:00, 628.61it/s]\n",
      "100%|██████████| 17/17 [00:00<00:00, 515.15it/s]\n",
      "100%|██████████| 17/17 [00:00<00:00, 298.25it/s]\n",
      "100%|██████████| 17/17 [00:00<00:00, 320.37it/s]\n",
      "100%|██████████| 17/17 [00:00<00:00, 369.56it/s]\n",
      "100%|██████████| 17/17 [00:00<00:00, 653.85it/s]\n",
      "100%|██████████| 17/17 [00:00<00:00, 472.22it/s]\n",
      "100%|██████████| 17/17 [00:00<00:00, 332.16it/s]\n",
      "100%|██████████| 17/17 [00:00<00:00, 292.19it/s]\n",
      "100%|██████████| 17/17 [00:00<00:00, 566.66it/s]\n",
      "100%|██████████| 17/17 [00:00<00:00, 607.15it/s]\n",
      "100%|██████████| 17/17 [00:00<00:00, 278.69it/s]\n",
      "100%|██████████| 17/17 [00:00<00:00, 278.69it/s]\n",
      "100%|██████████| 17/17 [00:00<00:00, 395.34it/s]\n",
      "100%|██████████| 17/17 [00:00<00:00, 653.84it/s]\n",
      "100%|██████████| 17/17 [00:00<00:00, 629.64it/s]\n",
      "100%|██████████| 17/17 [00:00<00:00, 680.01it/s]\n"
     ]
    },
    {
     "name": "stdout",
     "output_type": "stream",
     "text": [
      "Epoch [1921/6000]: Train loss: 2.1329, Valid loss: 2.0741\n"
     ]
    },
    {
     "name": "stderr",
     "output_type": "stream",
     "text": [
      "100%|██████████| 17/17 [00:00<00:00, 680.00it/s]\n",
      "100%|██████████| 17/17 [00:00<00:00, 680.01it/s]\n",
      "100%|██████████| 17/17 [00:00<00:00, 708.30it/s]\n",
      "100%|██████████| 17/17 [00:00<00:00, 708.34it/s]\n",
      "100%|██████████| 17/17 [00:00<00:00, 680.00it/s]\n",
      "100%|██████████| 17/17 [00:00<00:00, 708.34it/s]\n",
      "100%|██████████| 17/17 [00:00<00:00, 708.35it/s]\n",
      "100%|██████████| 17/17 [00:00<00:00, 708.34it/s]\n",
      "100%|██████████| 17/17 [00:00<00:00, 708.33it/s]\n",
      "100%|██████████| 17/17 [00:00<00:00, 653.86it/s]\n",
      "100%|██████████| 17/17 [00:00<00:00, 680.00it/s]\n",
      "100%|██████████| 17/17 [00:00<00:00, 649.71it/s]\n",
      "100%|██████████| 17/17 [00:00<00:00, 689.44it/s]\n",
      "100%|██████████| 17/17 [00:00<00:00, 653.84it/s]\n",
      "100%|██████████| 17/17 [00:00<00:00, 629.34it/s]\n",
      "100%|██████████| 17/17 [00:00<00:00, 653.84it/s]\n",
      "100%|██████████| 17/17 [00:00<00:00, 680.02it/s]\n",
      "100%|██████████| 17/17 [00:00<00:00, 629.66it/s]\n",
      "100%|██████████| 17/17 [00:00<00:00, 653.84it/s]\n",
      "100%|██████████| 17/17 [00:00<00:00, 668.07it/s]\n"
     ]
    },
    {
     "name": "stdout",
     "output_type": "stream",
     "text": [
      "Epoch [1941/6000]: Train loss: 2.1171, Valid loss: 1.8446\n"
     ]
    },
    {
     "name": "stderr",
     "output_type": "stream",
     "text": [
      "100%|██████████| 17/17 [00:00<00:00, 680.00it/s]\n",
      "100%|██████████| 17/17 [00:00<00:00, 708.33it/s]\n",
      "100%|██████████| 17/17 [00:00<00:00, 663.82it/s]\n"
     ]
    },
    {
     "name": "stdout",
     "output_type": "stream",
     "text": [
      "Saving model with loss 1.757...\n"
     ]
    },
    {
     "name": "stderr",
     "output_type": "stream",
     "text": [
      "100%|██████████| 17/17 [00:00<00:00, 680.00it/s]\n",
      "100%|██████████| 17/17 [00:00<00:00, 653.83it/s]\n",
      "100%|██████████| 17/17 [00:00<00:00, 680.00it/s]\n",
      "100%|██████████| 17/17 [00:00<00:00, 653.83it/s]\n",
      "100%|██████████| 17/17 [00:00<00:00, 653.86it/s]\n",
      "100%|██████████| 17/17 [00:00<00:00, 653.82it/s]\n",
      "100%|██████████| 17/17 [00:00<00:00, 679.99it/s]\n",
      "100%|██████████| 17/17 [00:00<00:00, 739.13it/s]\n",
      "100%|██████████| 17/17 [00:00<00:00, 672.33it/s]\n",
      "100%|██████████| 17/17 [00:00<00:00, 680.00it/s]\n",
      "100%|██████████| 17/17 [00:00<00:00, 680.02it/s]\n",
      "100%|██████████| 17/17 [00:00<00:00, 679.99it/s]\n",
      "100%|██████████| 17/17 [00:00<00:00, 680.01it/s]\n",
      "100%|██████████| 17/17 [00:00<00:00, 708.36it/s]\n",
      "100%|██████████| 17/17 [00:00<00:00, 641.22it/s]\n",
      "100%|██████████| 17/17 [00:00<00:00, 629.63it/s]\n",
      "100%|██████████| 17/17 [00:00<00:00, 659.71it/s]\n"
     ]
    },
    {
     "name": "stdout",
     "output_type": "stream",
     "text": [
      "Epoch [1961/6000]: Train loss: 2.1024, Valid loss: 1.9501\n"
     ]
    },
    {
     "name": "stderr",
     "output_type": "stream",
     "text": [
      "100%|██████████| 17/17 [00:00<00:00, 679.99it/s]\n",
      "100%|██████████| 17/17 [00:00<00:00, 708.32it/s]\n",
      "100%|██████████| 17/17 [00:00<00:00, 653.85it/s]\n",
      "100%|██████████| 17/17 [00:00<00:00, 447.38it/s]\n",
      "100%|██████████| 17/17 [00:00<00:00, 629.64it/s]\n",
      "100%|██████████| 17/17 [00:00<00:00, 581.89it/s]\n",
      "100%|██████████| 17/17 [00:00<00:00, 468.26it/s]\n",
      "100%|██████████| 17/17 [00:00<00:00, 708.34it/s]\n",
      "100%|██████████| 17/17 [00:00<00:00, 708.34it/s]\n",
      "100%|██████████| 17/17 [00:00<00:00, 708.35it/s]\n"
     ]
    },
    {
     "name": "stdout",
     "output_type": "stream",
     "text": [
      "Saving model with loss 1.753...\n"
     ]
    },
    {
     "name": "stderr",
     "output_type": "stream",
     "text": [
      "100%|██████████| 17/17 [00:00<00:00, 739.14it/s]\n",
      "100%|██████████| 17/17 [00:00<00:00, 708.32it/s]\n",
      "100%|██████████| 17/17 [00:00<00:00, 653.85it/s]\n",
      "100%|██████████| 17/17 [00:00<00:00, 741.31it/s]\n",
      "100%|██████████| 17/17 [00:00<00:00, 714.52it/s]\n",
      "100%|██████████| 17/17 [00:00<00:00, 586.21it/s]\n",
      "100%|██████████| 17/17 [00:00<00:00, 583.71it/s]\n",
      "100%|██████████| 17/17 [00:00<00:00, 629.63it/s]\n",
      "100%|██████████| 17/17 [00:00<00:00, 666.48it/s]\n",
      "100%|██████████| 17/17 [00:00<00:00, 708.38it/s]\n"
     ]
    },
    {
     "name": "stdout",
     "output_type": "stream",
     "text": [
      "Epoch [1981/6000]: Train loss: 2.0962, Valid loss: 1.8948\n"
     ]
    },
    {
     "name": "stderr",
     "output_type": "stream",
     "text": [
      "100%|██████████| 17/17 [00:00<00:00, 680.02it/s]\n",
      "100%|██████████| 17/17 [00:00<00:00, 607.16it/s]\n",
      "100%|██████████| 17/17 [00:00<00:00, 680.00it/s]\n",
      "100%|██████████| 17/17 [00:00<00:00, 680.02it/s]\n",
      "100%|██████████| 17/17 [00:00<00:00, 679.99it/s]\n",
      "100%|██████████| 17/17 [00:00<00:00, 680.02it/s]\n",
      "100%|██████████| 17/17 [00:00<00:00, 653.86it/s]\n",
      "100%|██████████| 17/17 [00:00<00:00, 680.00it/s]\n"
     ]
    },
    {
     "name": "stdout",
     "output_type": "stream",
     "text": [
      "Saving model with loss 1.746...\n"
     ]
    },
    {
     "name": "stderr",
     "output_type": "stream",
     "text": [
      "100%|██████████| 17/17 [00:00<00:00, 680.00it/s]\n",
      "100%|██████████| 17/17 [00:00<00:00, 680.02it/s]\n",
      "100%|██████████| 17/17 [00:00<00:00, 680.00it/s]\n"
     ]
    },
    {
     "name": "stdout",
     "output_type": "stream",
     "text": [
      "Saving model with loss 1.735...\n"
     ]
    },
    {
     "name": "stderr",
     "output_type": "stream",
     "text": [
      "100%|██████████| 17/17 [00:00<00:00, 653.88it/s]\n",
      "100%|██████████| 17/17 [00:00<00:00, 653.86it/s]\n",
      "100%|██████████| 17/17 [00:00<00:00, 653.84it/s]\n",
      "100%|██████████| 17/17 [00:00<00:00, 653.86it/s]\n",
      "100%|██████████| 17/17 [00:00<00:00, 680.00it/s]\n",
      "100%|██████████| 17/17 [00:00<00:00, 680.00it/s]\n",
      "100%|██████████| 17/17 [00:00<00:00, 708.34it/s]\n",
      "100%|██████████| 17/17 [00:00<00:00, 680.01it/s]\n",
      "100%|██████████| 17/17 [00:00<00:00, 708.36it/s]\n"
     ]
    },
    {
     "name": "stdout",
     "output_type": "stream",
     "text": [
      "Epoch [2001/6000]: Train loss: 2.0812, Valid loss: 1.9374\n"
     ]
    },
    {
     "name": "stderr",
     "output_type": "stream",
     "text": [
      "100%|██████████| 17/17 [00:00<00:00, 680.01it/s]\n",
      "100%|██████████| 17/17 [00:00<00:00, 680.00it/s]\n",
      "100%|██████████| 17/17 [00:00<00:00, 680.01it/s]\n",
      "100%|██████████| 17/17 [00:00<00:00, 680.00it/s]\n",
      "100%|██████████| 17/17 [00:00<00:00, 653.85it/s]\n",
      "100%|██████████| 17/17 [00:00<00:00, 708.32it/s]\n",
      "100%|██████████| 17/17 [00:00<00:00, 708.32it/s]\n",
      "100%|██████████| 17/17 [00:00<00:00, 653.82it/s]\n",
      "100%|██████████| 17/17 [00:00<00:00, 708.34it/s]\n",
      "100%|██████████| 17/17 [00:00<00:00, 607.16it/s]\n",
      "100%|██████████| 17/17 [00:00<00:00, 653.85it/s]\n",
      "100%|██████████| 17/17 [00:00<00:00, 708.32it/s]\n",
      "100%|██████████| 17/17 [00:00<00:00, 548.38it/s]\n",
      "100%|██████████| 17/17 [00:00<00:00, 629.64it/s]\n",
      "100%|██████████| 17/17 [00:00<00:00, 680.02it/s]\n",
      "100%|██████████| 17/17 [00:00<00:00, 531.25it/s]\n",
      "100%|██████████| 17/17 [00:00<00:00, 653.86it/s]\n",
      "100%|██████████| 17/17 [00:00<00:00, 708.34it/s]\n",
      "100%|██████████| 17/17 [00:00<00:00, 629.64it/s]\n",
      "100%|██████████| 17/17 [00:00<00:00, 653.85it/s]\n"
     ]
    },
    {
     "name": "stdout",
     "output_type": "stream",
     "text": [
      "Epoch [2021/6000]: Train loss: 2.0736, Valid loss: 1.9307\n"
     ]
    },
    {
     "name": "stderr",
     "output_type": "stream",
     "text": [
      "100%|██████████| 17/17 [00:00<00:00, 629.63it/s]\n",
      "100%|██████████| 17/17 [00:00<00:00, 653.87it/s]\n",
      "100%|██████████| 17/17 [00:00<00:00, 653.85it/s]\n",
      "100%|██████████| 17/17 [00:00<00:00, 629.60it/s]\n",
      "100%|██████████| 17/17 [00:00<00:00, 708.31it/s]\n",
      "100%|██████████| 17/17 [00:00<00:00, 739.12it/s]\n",
      "100%|██████████| 17/17 [00:00<00:00, 708.34it/s]\n",
      "100%|██████████| 17/17 [00:00<00:00, 680.00it/s]\n",
      "100%|██████████| 17/17 [00:00<00:00, 679.98it/s]\n",
      "100%|██████████| 17/17 [00:00<00:00, 679.99it/s]\n",
      "100%|██████████| 17/17 [00:00<00:00, 680.00it/s]\n",
      "100%|██████████| 17/17 [00:00<00:00, 708.34it/s]\n"
     ]
    },
    {
     "name": "stdout",
     "output_type": "stream",
     "text": [
      "Saving model with loss 1.720...\n"
     ]
    },
    {
     "name": "stderr",
     "output_type": "stream",
     "text": [
      "100%|██████████| 17/17 [00:00<00:00, 653.86it/s]\n",
      "100%|██████████| 17/17 [00:00<00:00, 680.01it/s]\n",
      "100%|██████████| 17/17 [00:00<00:00, 653.84it/s]\n",
      "100%|██████████| 17/17 [00:00<00:00, 680.00it/s]\n",
      "100%|██████████| 17/17 [00:00<00:00, 680.00it/s]\n",
      "100%|██████████| 17/17 [00:00<00:00, 708.34it/s]\n",
      "100%|██████████| 17/17 [00:00<00:00, 708.34it/s]\n",
      "100%|██████████| 17/17 [00:00<00:00, 680.00it/s]\n"
     ]
    },
    {
     "name": "stdout",
     "output_type": "stream",
     "text": [
      "Epoch [2041/6000]: Train loss: 2.0627, Valid loss: 1.8184\n"
     ]
    },
    {
     "name": "stderr",
     "output_type": "stream",
     "text": [
      "100%|██████████| 17/17 [00:00<00:00, 680.01it/s]\n",
      "100%|██████████| 17/17 [00:00<00:00, 653.85it/s]\n",
      "100%|██████████| 17/17 [00:00<00:00, 708.33it/s]\n",
      "100%|██████████| 17/17 [00:00<00:00, 708.33it/s]\n",
      "100%|██████████| 17/17 [00:00<00:00, 680.01it/s]\n",
      "100%|██████████| 17/17 [00:00<00:00, 680.00it/s]\n",
      "100%|██████████| 17/17 [00:00<00:00, 708.33it/s]\n",
      "100%|██████████| 17/17 [00:00<00:00, 708.33it/s]\n",
      "100%|██████████| 17/17 [00:00<00:00, 708.34it/s]\n",
      "100%|██████████| 17/17 [00:00<00:00, 680.01it/s]\n",
      "100%|██████████| 17/17 [00:00<00:00, 607.16it/s]\n",
      "100%|██████████| 17/17 [00:00<00:00, 531.25it/s]\n",
      "100%|██████████| 17/17 [00:00<00:00, 708.33it/s]\n",
      "100%|██████████| 17/17 [00:00<00:00, 680.00it/s]\n",
      "100%|██████████| 17/17 [00:00<00:00, 680.01it/s]\n",
      "100%|██████████| 17/17 [00:00<00:00, 653.85it/s]\n",
      "100%|██████████| 17/17 [00:00<00:00, 708.32it/s]\n",
      "100%|██████████| 17/17 [00:00<00:00, 653.85it/s]\n",
      "100%|██████████| 17/17 [00:00<00:00, 652.07it/s]\n",
      "100%|██████████| 17/17 [00:00<00:00, 708.33it/s]\n"
     ]
    },
    {
     "name": "stdout",
     "output_type": "stream",
     "text": [
      "Epoch [2061/6000]: Train loss: 2.0522, Valid loss: 1.8039\n"
     ]
    },
    {
     "name": "stderr",
     "output_type": "stream",
     "text": [
      "100%|██████████| 17/17 [00:00<00:00, 708.34it/s]\n",
      "100%|██████████| 17/17 [00:00<00:00, 708.34it/s]\n",
      "100%|██████████| 17/17 [00:00<00:00, 739.14it/s]\n",
      "100%|██████████| 17/17 [00:00<00:00, 708.31it/s]\n",
      "100%|██████████| 17/17 [00:00<00:00, 679.99it/s]\n",
      "100%|██████████| 17/17 [00:00<00:00, 708.34it/s]\n",
      "100%|██████████| 17/17 [00:00<00:00, 653.83it/s]\n",
      "100%|██████████| 17/17 [00:00<00:00, 679.99it/s]\n",
      "100%|██████████| 17/17 [00:00<00:00, 680.01it/s]\n",
      "100%|██████████| 17/17 [00:00<00:00, 708.34it/s]\n",
      "100%|██████████| 17/17 [00:00<00:00, 708.33it/s]\n",
      "100%|██████████| 17/17 [00:00<00:00, 708.34it/s]\n",
      "100%|██████████| 17/17 [00:00<00:00, 680.00it/s]\n",
      "100%|██████████| 17/17 [00:00<00:00, 680.00it/s]\n",
      "100%|██████████| 17/17 [00:00<00:00, 653.83it/s]\n",
      "100%|██████████| 17/17 [00:00<00:00, 739.13it/s]\n",
      "100%|██████████| 17/17 [00:00<00:00, 680.00it/s]\n",
      "100%|██████████| 17/17 [00:00<00:00, 708.33it/s]\n",
      "100%|██████████| 17/17 [00:00<00:00, 709.56it/s]\n",
      "100%|██████████| 17/17 [00:00<00:00, 708.31it/s]\n"
     ]
    },
    {
     "name": "stdout",
     "output_type": "stream",
     "text": [
      "Epoch [2081/6000]: Train loss: 2.0402, Valid loss: 1.8957\n"
     ]
    },
    {
     "name": "stderr",
     "output_type": "stream",
     "text": [
      "100%|██████████| 17/17 [00:00<00:00, 708.34it/s]\n",
      "100%|██████████| 17/17 [00:00<00:00, 708.36it/s]\n",
      "100%|██████████| 17/17 [00:00<00:00, 680.00it/s]\n",
      "100%|██████████| 17/17 [00:00<00:00, 679.99it/s]\n",
      "100%|██████████| 17/17 [00:00<00:00, 653.84it/s]\n",
      "100%|██████████| 17/17 [00:00<00:00, 708.34it/s]\n",
      "100%|██████████| 17/17 [00:00<00:00, 708.35it/s]\n",
      "100%|██████████| 17/17 [00:00<00:00, 772.74it/s]\n",
      "100%|██████████| 17/17 [00:00<00:00, 739.12it/s]\n",
      "100%|██████████| 17/17 [00:00<00:00, 772.71it/s]\n",
      "100%|██████████| 17/17 [00:00<00:00, 739.14it/s]\n",
      "100%|██████████| 17/17 [00:00<00:00, 772.72it/s]\n",
      "100%|██████████| 17/17 [00:00<00:00, 739.15it/s]\n",
      "100%|██████████| 17/17 [00:00<00:00, 739.13it/s]\n",
      "100%|██████████| 17/17 [00:00<00:00, 739.10it/s]\n",
      "100%|██████████| 17/17 [00:00<00:00, 772.73it/s]\n",
      "100%|██████████| 17/17 [00:00<00:00, 739.13it/s]\n",
      "100%|██████████| 17/17 [00:00<00:00, 708.34it/s]\n",
      "100%|██████████| 17/17 [00:00<00:00, 796.35it/s]\n"
     ]
    },
    {
     "name": "stdout",
     "output_type": "stream",
     "text": [
      "Saving model with loss 1.697...\n"
     ]
    },
    {
     "name": "stderr",
     "output_type": "stream",
     "text": [
      "100%|██████████| 17/17 [00:00<00:00, 739.15it/s]\n"
     ]
    },
    {
     "name": "stdout",
     "output_type": "stream",
     "text": [
      "Epoch [2101/6000]: Train loss: 2.0296, Valid loss: 1.8220\n"
     ]
    },
    {
     "name": "stderr",
     "output_type": "stream",
     "text": [
      "100%|██████████| 17/17 [00:00<00:00, 739.13it/s]\n",
      "100%|██████████| 17/17 [00:00<00:00, 739.12it/s]\n",
      "100%|██████████| 17/17 [00:00<00:00, 772.73it/s]\n",
      "100%|██████████| 17/17 [00:00<00:00, 729.03it/s]\n",
      "100%|██████████| 17/17 [00:00<00:00, 713.00it/s]\n",
      "100%|██████████| 17/17 [00:00<00:00, 739.12it/s]\n",
      "100%|██████████| 17/17 [00:00<00:00, 739.02it/s]\n",
      "100%|██████████| 17/17 [00:00<00:00, 629.60it/s]\n",
      "100%|██████████| 17/17 [00:00<00:00, 739.12it/s]\n",
      "100%|██████████| 17/17 [00:00<00:00, 739.14it/s]\n",
      "100%|██████████| 17/17 [00:00<00:00, 739.15it/s]\n",
      "100%|██████████| 17/17 [00:00<00:00, 708.34it/s]\n",
      "100%|██████████| 17/17 [00:00<00:00, 739.14it/s]\n",
      "100%|██████████| 17/17 [00:00<00:00, 708.26it/s]\n",
      "100%|██████████| 17/17 [00:00<00:00, 680.01it/s]\n",
      "100%|██████████| 17/17 [00:00<00:00, 653.85it/s]\n",
      "100%|██████████| 17/17 [00:00<00:00, 680.02it/s]\n",
      "100%|██████████| 17/17 [00:00<00:00, 386.37it/s]\n",
      "100%|██████████| 17/17 [00:00<00:00, 566.66it/s]\n",
      "100%|██████████| 17/17 [00:00<00:00, 695.93it/s]\n"
     ]
    },
    {
     "name": "stdout",
     "output_type": "stream",
     "text": [
      "Epoch [2121/6000]: Train loss: 2.0245, Valid loss: 1.9220\n"
     ]
    },
    {
     "name": "stderr",
     "output_type": "stream",
     "text": [
      "100%|██████████| 17/17 [00:00<00:00, 653.84it/s]\n",
      "100%|██████████| 17/17 [00:00<00:00, 680.02it/s]\n",
      "100%|██████████| 17/17 [00:00<00:00, 675.45it/s]\n",
      "100%|██████████| 17/17 [00:00<00:00, 607.14it/s]\n",
      "100%|██████████| 17/17 [00:00<00:00, 629.63it/s]\n",
      "100%|██████████| 17/17 [00:00<00:00, 697.28it/s]\n",
      "100%|██████████| 17/17 [00:00<00:00, 629.63it/s]\n",
      "100%|██████████| 17/17 [00:00<00:00, 680.01it/s]\n",
      "100%|██████████| 17/17 [00:00<00:00, 706.04it/s]\n",
      "100%|██████████| 17/17 [00:00<00:00, 708.36it/s]\n",
      "100%|██████████| 17/17 [00:00<00:00, 653.84it/s]\n",
      "100%|██████████| 17/17 [00:00<00:00, 728.19it/s]\n",
      "100%|██████████| 17/17 [00:00<00:00, 708.35it/s]\n",
      "100%|██████████| 17/17 [00:00<00:00, 689.33it/s]\n",
      "100%|██████████| 17/17 [00:00<00:00, 680.01it/s]\n",
      "100%|██████████| 17/17 [00:00<00:00, 679.07it/s]\n",
      "100%|██████████| 17/17 [00:00<00:00, 566.66it/s]\n",
      "100%|██████████| 17/17 [00:00<00:00, 708.34it/s]\n",
      "100%|██████████| 17/17 [00:00<00:00, 722.80it/s]\n",
      "100%|██████████| 17/17 [00:00<00:00, 679.99it/s]\n"
     ]
    },
    {
     "name": "stdout",
     "output_type": "stream",
     "text": [
      "Epoch [2141/6000]: Train loss: 2.0158, Valid loss: 1.8802\n"
     ]
    },
    {
     "name": "stderr",
     "output_type": "stream",
     "text": [
      "100%|██████████| 17/17 [00:00<00:00, 708.34it/s]\n",
      "100%|██████████| 17/17 [00:00<00:00, 708.33it/s]\n",
      "100%|██████████| 17/17 [00:00<00:00, 708.34it/s]\n",
      "100%|██████████| 17/17 [00:00<00:00, 708.36it/s]\n",
      "100%|██████████| 17/17 [00:00<00:00, 708.31it/s]\n"
     ]
    },
    {
     "name": "stdout",
     "output_type": "stream",
     "text": [
      "Saving model with loss 1.643...\n"
     ]
    },
    {
     "name": "stderr",
     "output_type": "stream",
     "text": [
      "100%|██████████| 17/17 [00:00<00:00, 708.33it/s]\n",
      "100%|██████████| 17/17 [00:00<00:00, 739.13it/s]\n",
      "100%|██████████| 17/17 [00:00<00:00, 680.00it/s]\n",
      "100%|██████████| 17/17 [00:00<00:00, 708.32it/s]\n",
      "100%|██████████| 17/17 [00:00<00:00, 708.33it/s]\n",
      "100%|██████████| 17/17 [00:00<00:00, 708.32it/s]\n",
      "100%|██████████| 17/17 [00:00<00:00, 680.03it/s]\n",
      "100%|██████████| 17/17 [00:00<00:00, 708.35it/s]\n",
      "100%|██████████| 17/17 [00:00<00:00, 708.33it/s]\n",
      "100%|██████████| 17/17 [00:00<00:00, 679.98it/s]\n",
      "100%|██████████| 17/17 [00:00<00:00, 708.33it/s]\n",
      "100%|██████████| 17/17 [00:00<00:00, 708.36it/s]\n",
      "100%|██████████| 17/17 [00:00<00:00, 680.02it/s]\n",
      "100%|██████████| 17/17 [00:00<00:00, 679.98it/s]\n",
      "100%|██████████| 17/17 [00:00<00:00, 653.85it/s]\n"
     ]
    },
    {
     "name": "stdout",
     "output_type": "stream",
     "text": [
      "Epoch [2161/6000]: Train loss: 2.0020, Valid loss: 1.7022\n"
     ]
    },
    {
     "name": "stderr",
     "output_type": "stream",
     "text": [
      "100%|██████████| 17/17 [00:00<00:00, 679.98it/s]\n",
      "100%|██████████| 17/17 [00:00<00:00, 680.03it/s]\n",
      "100%|██████████| 17/17 [00:00<00:00, 708.37it/s]\n",
      "100%|██████████| 17/17 [00:00<00:00, 586.21it/s]\n",
      "100%|██████████| 17/17 [00:00<00:00, 679.98it/s]\n",
      "100%|██████████| 17/17 [00:00<00:00, 739.15it/s]\n",
      "100%|██████████| 17/17 [00:00<00:00, 708.34it/s]\n",
      "100%|██████████| 17/17 [00:00<00:00, 739.14it/s]\n",
      "100%|██████████| 17/17 [00:00<00:00, 680.00it/s]\n",
      "100%|██████████| 17/17 [00:00<00:00, 689.29it/s]\n",
      "100%|██████████| 17/17 [00:00<00:00, 708.68it/s]\n",
      "100%|██████████| 17/17 [00:00<00:00, 708.34it/s]\n",
      "100%|██████████| 17/17 [00:00<00:00, 739.14it/s]\n",
      "100%|██████████| 17/17 [00:00<00:00, 708.33it/s]\n",
      "100%|██████████| 17/17 [00:00<00:00, 708.35it/s]\n",
      "100%|██████████| 17/17 [00:00<00:00, 708.34it/s]\n",
      "100%|██████████| 17/17 [00:00<00:00, 708.36it/s]\n",
      "100%|██████████| 17/17 [00:00<00:00, 679.98it/s]\n",
      "100%|██████████| 17/17 [00:00<00:00, 676.84it/s]\n",
      "100%|██████████| 17/17 [00:00<00:00, 708.36it/s]\n"
     ]
    },
    {
     "name": "stdout",
     "output_type": "stream",
     "text": [
      "Epoch [2181/6000]: Train loss: 1.9930, Valid loss: 2.0584\n"
     ]
    },
    {
     "name": "stderr",
     "output_type": "stream",
     "text": [
      "100%|██████████| 17/17 [00:00<00:00, 708.31it/s]\n",
      "100%|██████████| 17/17 [00:00<00:00, 739.16it/s]\n",
      "100%|██████████| 17/17 [00:00<00:00, 739.14it/s]\n",
      "100%|██████████| 17/17 [00:00<00:00, 723.18it/s]\n",
      "100%|██████████| 17/17 [00:00<00:00, 739.12it/s]\n",
      "100%|██████████| 17/17 [00:00<00:00, 708.34it/s]\n",
      "100%|██████████| 17/17 [00:00<00:00, 708.33it/s]\n",
      "100%|██████████| 17/17 [00:00<00:00, 739.12it/s]\n",
      "100%|██████████| 17/17 [00:00<00:00, 680.00it/s]\n",
      "100%|██████████| 17/17 [00:00<00:00, 708.34it/s]\n",
      "100%|██████████| 17/17 [00:00<00:00, 303.57it/s]\n",
      "100%|██████████| 17/17 [00:00<00:00, 354.17it/s]\n",
      "100%|██████████| 17/17 [00:00<00:00, 447.37it/s]\n",
      "100%|██████████| 17/17 [00:00<00:00, 377.78it/s]\n",
      "100%|██████████| 17/17 [00:00<00:00, 377.78it/s]\n",
      "100%|██████████| 17/17 [00:00<00:00, 369.57it/s]\n",
      "100%|██████████| 17/17 [00:00<00:00, 404.76it/s]\n",
      "100%|██████████| 17/17 [00:00<00:00, 680.01it/s]\n",
      "100%|██████████| 17/17 [00:00<00:00, 680.02it/s]\n",
      "100%|██████████| 17/17 [00:00<00:00, 708.34it/s]\n"
     ]
    },
    {
     "name": "stdout",
     "output_type": "stream",
     "text": [
      "Epoch [2201/6000]: Train loss: 1.9885, Valid loss: 1.8019\n"
     ]
    },
    {
     "name": "stderr",
     "output_type": "stream",
     "text": [
      "100%|██████████| 17/17 [00:00<00:00, 680.00it/s]\n",
      "100%|██████████| 17/17 [00:00<00:00, 686.09it/s]\n",
      "100%|██████████| 17/17 [00:00<00:00, 739.14it/s]\n",
      "100%|██████████| 17/17 [00:00<00:00, 708.33it/s]\n",
      "100%|██████████| 17/17 [00:00<00:00, 739.14it/s]\n",
      "100%|██████████| 17/17 [00:00<00:00, 708.32it/s]\n",
      "100%|██████████| 17/17 [00:00<00:00, 708.33it/s]\n",
      "100%|██████████| 17/17 [00:00<00:00, 708.34it/s]\n",
      "100%|██████████| 17/17 [00:00<00:00, 708.34it/s]\n",
      "100%|██████████| 17/17 [00:00<00:00, 708.32it/s]\n",
      "100%|██████████| 17/17 [00:00<00:00, 708.37it/s]\n",
      "100%|██████████| 17/17 [00:00<00:00, 708.34it/s]\n",
      "100%|██████████| 17/17 [00:00<00:00, 708.35it/s]\n",
      "100%|██████████| 17/17 [00:00<00:00, 708.33it/s]\n",
      "100%|██████████| 17/17 [00:00<00:00, 680.00it/s]\n",
      "100%|██████████| 17/17 [00:00<00:00, 708.33it/s]\n",
      "100%|██████████| 17/17 [00:00<00:00, 739.81it/s]\n",
      "100%|██████████| 17/17 [00:00<00:00, 708.35it/s]\n",
      "100%|██████████| 17/17 [00:00<00:00, 708.34it/s]\n",
      "100%|██████████| 17/17 [00:00<00:00, 708.35it/s]\n"
     ]
    },
    {
     "name": "stdout",
     "output_type": "stream",
     "text": [
      "Epoch [2221/6000]: Train loss: 1.9799, Valid loss: 1.8591\n"
     ]
    },
    {
     "name": "stderr",
     "output_type": "stream",
     "text": [
      "100%|██████████| 17/17 [00:00<00:00, 680.00it/s]\n",
      "100%|██████████| 17/17 [00:00<00:00, 680.00it/s]\n",
      "100%|██████████| 17/17 [00:00<00:00, 708.35it/s]\n",
      "100%|██████████| 17/17 [00:00<00:00, 708.35it/s]\n",
      "100%|██████████| 17/17 [00:00<00:00, 708.34it/s]\n",
      "100%|██████████| 17/17 [00:00<00:00, 708.33it/s]\n",
      "100%|██████████| 17/17 [00:00<00:00, 708.34it/s]\n",
      "100%|██████████| 17/17 [00:00<00:00, 708.31it/s]\n",
      "100%|██████████| 17/17 [00:00<00:00, 708.32it/s]\n",
      "100%|██████████| 17/17 [00:00<00:00, 739.15it/s]\n",
      "100%|██████████| 17/17 [00:00<00:00, 708.34it/s]\n",
      "100%|██████████| 17/17 [00:00<00:00, 708.34it/s]\n",
      "100%|██████████| 17/17 [00:00<00:00, 708.33it/s]\n",
      "100%|██████████| 17/17 [00:00<00:00, 708.34it/s]\n",
      "100%|██████████| 17/17 [00:00<00:00, 708.31it/s]\n"
     ]
    },
    {
     "name": "stdout",
     "output_type": "stream",
     "text": [
      "Saving model with loss 1.637...\n"
     ]
    },
    {
     "name": "stderr",
     "output_type": "stream",
     "text": [
      "100%|██████████| 17/17 [00:00<00:00, 708.36it/s]\n",
      "100%|██████████| 17/17 [00:00<00:00, 708.33it/s]\n",
      "100%|██████████| 17/17 [00:00<00:00, 679.98it/s]\n",
      "100%|██████████| 17/17 [00:00<00:00, 708.35it/s]\n",
      "100%|██████████| 17/17 [00:00<00:00, 739.11it/s]\n"
     ]
    },
    {
     "name": "stdout",
     "output_type": "stream",
     "text": [
      "Epoch [2241/6000]: Train loss: 1.9745, Valid loss: 1.7413\n"
     ]
    },
    {
     "name": "stderr",
     "output_type": "stream",
     "text": [
      "100%|██████████| 17/17 [00:00<00:00, 708.34it/s]\n",
      "100%|██████████| 17/17 [00:00<00:00, 680.01it/s]\n",
      "100%|██████████| 17/17 [00:00<00:00, 708.31it/s]\n",
      "100%|██████████| 17/17 [00:00<00:00, 739.14it/s]\n"
     ]
    },
    {
     "name": "stdout",
     "output_type": "stream",
     "text": [
      "Saving model with loss 1.635...\n"
     ]
    },
    {
     "name": "stderr",
     "output_type": "stream",
     "text": [
      "100%|██████████| 17/17 [00:00<00:00, 739.15it/s]\n",
      "100%|██████████| 17/17 [00:00<00:00, 708.36it/s]\n",
      "100%|██████████| 17/17 [00:00<00:00, 680.00it/s]\n",
      "100%|██████████| 17/17 [00:00<00:00, 708.34it/s]\n",
      "100%|██████████| 17/17 [00:00<00:00, 708.34it/s]\n",
      "100%|██████████| 17/17 [00:00<00:00, 680.01it/s]\n",
      "100%|██████████| 17/17 [00:00<00:00, 680.00it/s]\n",
      "100%|██████████| 17/17 [00:00<00:00, 653.85it/s]\n",
      "100%|██████████| 17/17 [00:00<00:00, 708.34it/s]\n",
      "100%|██████████| 17/17 [00:00<00:00, 653.83it/s]\n",
      "100%|██████████| 17/17 [00:00<00:00, 529.76it/s]\n",
      "100%|██████████| 17/17 [00:00<00:00, 680.02it/s]\n",
      "100%|██████████| 17/17 [00:00<00:00, 680.00it/s]\n",
      "100%|██████████| 17/17 [00:00<00:00, 708.34it/s]\n",
      "100%|██████████| 17/17 [00:00<00:00, 708.32it/s]\n",
      "100%|██████████| 17/17 [00:00<00:00, 708.34it/s]\n"
     ]
    },
    {
     "name": "stdout",
     "output_type": "stream",
     "text": [
      "Epoch [2261/6000]: Train loss: 1.9647, Valid loss: 1.7208\n"
     ]
    },
    {
     "name": "stderr",
     "output_type": "stream",
     "text": [
      "100%|██████████| 17/17 [00:00<00:00, 708.33it/s]\n",
      "100%|██████████| 17/17 [00:00<00:00, 708.34it/s]\n",
      "100%|██████████| 17/17 [00:00<00:00, 708.33it/s]\n",
      "100%|██████████| 17/17 [00:00<00:00, 680.00it/s]\n",
      "100%|██████████| 17/17 [00:00<00:00, 679.97it/s]\n",
      "100%|██████████| 17/17 [00:00<00:00, 653.82it/s]\n",
      "100%|██████████| 17/17 [00:00<00:00, 680.02it/s]\n",
      "100%|██████████| 17/17 [00:00<00:00, 679.98it/s]\n",
      "100%|██████████| 17/17 [00:00<00:00, 708.35it/s]\n",
      "100%|██████████| 17/17 [00:00<00:00, 679.98it/s]\n",
      "100%|██████████| 17/17 [00:00<00:00, 679.98it/s]\n",
      "100%|██████████| 17/17 [00:00<00:00, 708.34it/s]\n",
      "100%|██████████| 17/17 [00:00<00:00, 708.34it/s]\n",
      "100%|██████████| 17/17 [00:00<00:00, 708.36it/s]\n",
      "100%|██████████| 17/17 [00:00<00:00, 679.98it/s]\n",
      "100%|██████████| 17/17 [00:00<00:00, 708.32it/s]\n",
      "100%|██████████| 17/17 [00:00<00:00, 708.34it/s]\n",
      "100%|██████████| 17/17 [00:00<00:00, 708.34it/s]\n",
      "100%|██████████| 17/17 [00:00<00:00, 708.34it/s]\n",
      "100%|██████████| 17/17 [00:00<00:00, 708.33it/s]\n"
     ]
    },
    {
     "name": "stdout",
     "output_type": "stream",
     "text": [
      "Epoch [2281/6000]: Train loss: 1.9510, Valid loss: 1.6530\n"
     ]
    },
    {
     "name": "stderr",
     "output_type": "stream",
     "text": [
      "100%|██████████| 17/17 [00:00<00:00, 708.35it/s]\n",
      "100%|██████████| 17/17 [00:00<00:00, 680.03it/s]\n",
      "100%|██████████| 17/17 [00:00<00:00, 679.98it/s]\n",
      "100%|██████████| 17/17 [00:00<00:00, 679.99it/s]\n",
      "100%|██████████| 17/17 [00:00<00:00, 680.01it/s]\n",
      "100%|██████████| 17/17 [00:00<00:00, 680.02it/s]\n",
      "100%|██████████| 17/17 [00:00<00:00, 708.34it/s]\n",
      "100%|██████████| 17/17 [00:00<00:00, 739.14it/s]\n",
      "100%|██████████| 17/17 [00:00<00:00, 680.00it/s]\n",
      "100%|██████████| 17/17 [00:00<00:00, 653.88it/s]\n",
      "100%|██████████| 17/17 [00:00<00:00, 586.21it/s]\n",
      "100%|██████████| 17/17 [00:00<00:00, 425.01it/s]\n",
      "100%|██████████| 17/17 [00:00<00:00, 377.77it/s]\n",
      "100%|██████████| 17/17 [00:00<00:00, 346.94it/s]\n",
      "100%|██████████| 17/17 [00:00<00:00, 298.24it/s]\n",
      "100%|██████████| 17/17 [00:00<00:00, 245.53it/s]\n",
      "100%|██████████| 17/17 [00:00<00:00, 295.85it/s]\n"
     ]
    },
    {
     "name": "stdout",
     "output_type": "stream",
     "text": [
      "Saving model with loss 1.601...\n"
     ]
    },
    {
     "name": "stderr",
     "output_type": "stream",
     "text": [
      "100%|██████████| 17/17 [00:00<00:00, 653.82it/s]\n",
      "100%|██████████| 17/17 [00:00<00:00, 607.12it/s]\n",
      "100%|██████████| 17/17 [00:00<00:00, 629.65it/s]\n"
     ]
    },
    {
     "name": "stdout",
     "output_type": "stream",
     "text": [
      "Epoch [2301/6000]: Train loss: 1.9515, Valid loss: 1.7713\n"
     ]
    },
    {
     "name": "stderr",
     "output_type": "stream",
     "text": [
      "100%|██████████| 17/17 [00:00<00:00, 653.84it/s]\n",
      "100%|██████████| 17/17 [00:00<00:00, 653.85it/s]\n",
      "100%|██████████| 17/17 [00:00<00:00, 679.98it/s]\n",
      "100%|██████████| 17/17 [00:00<00:00, 629.61it/s]\n",
      "100%|██████████| 17/17 [00:00<00:00, 303.58it/s]\n",
      "100%|██████████| 17/17 [00:00<00:00, 320.76it/s]\n",
      "100%|██████████| 17/17 [00:00<00:00, 320.76it/s]\n",
      "100%|██████████| 17/17 [00:00<00:00, 447.38it/s]\n",
      "100%|██████████| 17/17 [00:00<00:00, 653.86it/s]\n",
      "100%|██████████| 17/17 [00:00<00:00, 628.13it/s]\n",
      "100%|██████████| 17/17 [00:00<00:00, 653.85it/s]\n",
      "100%|██████████| 17/17 [00:00<00:00, 653.86it/s]\n",
      "100%|██████████| 17/17 [00:00<00:00, 653.85it/s]\n",
      "100%|██████████| 17/17 [00:00<00:00, 629.63it/s]\n",
      "100%|██████████| 17/17 [00:00<00:00, 653.85it/s]\n",
      "100%|██████████| 17/17 [00:00<00:00, 653.85it/s]\n",
      "100%|██████████| 17/17 [00:00<00:00, 653.85it/s]\n",
      "100%|██████████| 17/17 [00:00<00:00, 653.83it/s]\n",
      "100%|██████████| 17/17 [00:00<00:00, 680.00it/s]\n",
      "100%|██████████| 17/17 [00:00<00:00, 679.99it/s]\n"
     ]
    },
    {
     "name": "stdout",
     "output_type": "stream",
     "text": [
      "Epoch [2321/6000]: Train loss: 1.9436, Valid loss: 1.7380\n"
     ]
    },
    {
     "name": "stderr",
     "output_type": "stream",
     "text": [
      "100%|██████████| 17/17 [00:00<00:00, 653.85it/s]\n",
      "100%|██████████| 17/17 [00:00<00:00, 653.84it/s]\n",
      "100%|██████████| 17/17 [00:00<00:00, 653.85it/s]\n",
      "100%|██████████| 17/17 [00:00<00:00, 679.98it/s]\n",
      "100%|██████████| 17/17 [00:00<00:00, 629.62it/s]\n",
      "100%|██████████| 17/17 [00:00<00:00, 653.84it/s]\n",
      "100%|██████████| 17/17 [00:00<00:00, 679.98it/s]\n",
      "100%|██████████| 17/17 [00:00<00:00, 680.00it/s]\n",
      "100%|██████████| 17/17 [00:00<00:00, 653.84it/s]\n",
      "100%|██████████| 17/17 [00:00<00:00, 653.85it/s]\n",
      "100%|██████████| 17/17 [00:00<00:00, 679.98it/s]\n",
      "100%|██████████| 17/17 [00:00<00:00, 680.02it/s]\n",
      "100%|██████████| 17/17 [00:00<00:00, 679.98it/s]\n",
      "100%|██████████| 17/17 [00:00<00:00, 694.60it/s]\n",
      "100%|██████████| 17/17 [00:00<00:00, 680.01it/s]\n",
      "100%|██████████| 17/17 [00:00<00:00, 680.02it/s]\n",
      "100%|██████████| 17/17 [00:00<00:00, 661.15it/s]\n",
      "100%|██████████| 17/17 [00:00<00:00, 680.00it/s]\n",
      "100%|██████████| 17/17 [00:00<00:00, 680.00it/s]\n",
      "100%|██████████| 17/17 [00:00<00:00, 680.01it/s]\n"
     ]
    },
    {
     "name": "stdout",
     "output_type": "stream",
     "text": [
      "Epoch [2341/6000]: Train loss: 1.9367, Valid loss: 1.7471\n"
     ]
    },
    {
     "name": "stderr",
     "output_type": "stream",
     "text": [
      "100%|██████████| 17/17 [00:00<00:00, 653.83it/s]\n",
      "100%|██████████| 17/17 [00:00<00:00, 653.86it/s]\n",
      "100%|██████████| 17/17 [00:00<00:00, 629.63it/s]\n",
      "100%|██████████| 17/17 [00:00<00:00, 326.93it/s]\n",
      "100%|██████████| 17/17 [00:00<00:00, 316.88it/s]\n",
      "100%|██████████| 17/17 [00:00<00:00, 254.84it/s]\n",
      "100%|██████████| 17/17 [00:00<00:00, 281.18it/s]\n",
      "100%|██████████| 17/17 [00:00<00:00, 312.61it/s]\n",
      "100%|██████████| 17/17 [00:00<00:00, 395.35it/s]\n",
      "100%|██████████| 17/17 [00:00<00:00, 607.15it/s]\n",
      "100%|██████████| 17/17 [00:00<00:00, 680.03it/s]\n",
      "100%|██████████| 17/17 [00:00<00:00, 653.85it/s]\n",
      "100%|██████████| 17/17 [00:00<00:00, 679.99it/s]\n",
      "100%|██████████| 17/17 [00:00<00:00, 739.15it/s]\n",
      "100%|██████████| 17/17 [00:00<00:00, 395.36it/s]\n",
      "100%|██████████| 17/17 [00:00<00:00, 447.37it/s]\n",
      "100%|██████████| 17/17 [00:00<00:00, 653.85it/s]\n",
      "100%|██████████| 17/17 [00:00<00:00, 680.01it/s]\n",
      "100%|██████████| 17/17 [00:00<00:00, 708.32it/s]\n",
      "100%|██████████| 17/17 [00:00<00:00, 326.93it/s]\n"
     ]
    },
    {
     "name": "stdout",
     "output_type": "stream",
     "text": [
      "Epoch [2361/6000]: Train loss: 1.9258, Valid loss: 2.1399\n"
     ]
    },
    {
     "name": "stderr",
     "output_type": "stream",
     "text": [
      "100%|██████████| 17/17 [00:00<00:00, 246.38it/s]\n",
      "100%|██████████| 17/17 [00:00<00:00, 326.93it/s]\n",
      "100%|██████████| 17/17 [00:00<00:00, 483.08it/s]\n",
      "100%|██████████| 17/17 [00:00<00:00, 607.14it/s]\n",
      "100%|██████████| 17/17 [00:00<00:00, 515.15it/s]\n",
      "100%|██████████| 17/17 [00:00<00:00, 708.34it/s]\n",
      "100%|██████████| 17/17 [00:00<00:00, 414.63it/s]\n",
      "100%|██████████| 17/17 [00:00<00:00, 280.43it/s]\n",
      "100%|██████████| 17/17 [00:00<00:00, 298.24it/s]\n",
      "100%|██████████| 17/17 [00:00<00:00, 321.54it/s]\n",
      "100%|██████████| 17/17 [00:00<00:00, 333.33it/s]\n",
      "100%|██████████| 17/17 [00:00<00:00, 326.92it/s]\n",
      "100%|██████████| 17/17 [00:00<00:00, 293.11it/s]\n",
      "100%|██████████| 17/17 [00:00<00:00, 309.09it/s]\n",
      "100%|██████████| 17/17 [00:00<00:00, 293.10it/s]\n",
      "100%|██████████| 17/17 [00:00<00:00, 485.71it/s]\n",
      "100%|██████████| 17/17 [00:00<00:00, 739.13it/s]\n",
      "100%|██████████| 17/17 [00:00<00:00, 653.85it/s]\n",
      "100%|██████████| 17/17 [00:00<00:00, 672.36it/s]\n",
      "100%|██████████| 17/17 [00:00<00:00, 326.92it/s]\n"
     ]
    },
    {
     "name": "stdout",
     "output_type": "stream",
     "text": [
      "Epoch [2381/6000]: Train loss: 1.9223, Valid loss: 1.6248\n"
     ]
    },
    {
     "name": "stderr",
     "output_type": "stream",
     "text": [
      "100%|██████████| 17/17 [00:00<00:00, 386.37it/s]\n",
      "100%|██████████| 17/17 [00:00<00:00, 708.33it/s]\n",
      "100%|██████████| 17/17 [00:00<00:00, 680.00it/s]\n",
      "100%|██████████| 17/17 [00:00<00:00, 679.94it/s]\n",
      "100%|██████████| 17/17 [00:00<00:00, 340.01it/s]\n",
      "100%|██████████| 17/17 [00:00<00:00, 326.92it/s]\n",
      "100%|██████████| 17/17 [00:00<00:00, 314.82it/s]\n",
      "100%|██████████| 17/17 [00:00<00:00, 414.64it/s]\n",
      "100%|██████████| 17/17 [00:00<00:00, 739.15it/s]\n",
      "100%|██████████| 17/17 [00:00<00:00, 629.63it/s]\n",
      "100%|██████████| 17/17 [00:00<00:00, 708.33it/s]\n",
      "100%|██████████| 17/17 [00:00<00:00, 629.64it/s]\n",
      "100%|██████████| 17/17 [00:00<00:00, 653.85it/s]\n",
      "100%|██████████| 17/17 [00:00<00:00, 739.15it/s]\n",
      "100%|██████████| 17/17 [00:00<00:00, 708.34it/s]\n",
      "100%|██████████| 17/17 [00:00<00:00, 708.35it/s]\n",
      "100%|██████████| 17/17 [00:00<00:00, 708.35it/s]\n",
      "100%|██████████| 17/17 [00:00<00:00, 739.49it/s]\n",
      "100%|██████████| 17/17 [00:00<00:00, 653.85it/s]\n",
      "100%|██████████| 17/17 [00:00<00:00, 680.01it/s]\n"
     ]
    },
    {
     "name": "stdout",
     "output_type": "stream",
     "text": [
      "Epoch [2401/6000]: Train loss: 1.9127, Valid loss: 1.5867\n",
      "Saving model with loss 1.587...\n"
     ]
    },
    {
     "name": "stderr",
     "output_type": "stream",
     "text": [
      "100%|██████████| 17/17 [00:00<00:00, 653.86it/s]\n",
      "100%|██████████| 17/17 [00:00<00:00, 653.89it/s]\n",
      "100%|██████████| 17/17 [00:00<00:00, 653.84it/s]\n",
      "100%|██████████| 17/17 [00:00<00:00, 708.17it/s]\n",
      "100%|██████████| 17/17 [00:00<00:00, 739.14it/s]\n",
      "100%|██████████| 17/17 [00:00<00:00, 708.36it/s]\n",
      "100%|██████████| 17/17 [00:00<00:00, 515.14it/s]\n",
      "100%|██████████| 17/17 [00:00<00:00, 369.57it/s]\n",
      "100%|██████████| 17/17 [00:00<00:00, 414.58it/s]\n",
      "100%|██████████| 17/17 [00:00<00:00, 314.85it/s]\n",
      "100%|██████████| 17/17 [00:00<00:00, 471.79it/s]\n",
      "100%|██████████| 17/17 [00:00<00:00, 739.14it/s]\n",
      "100%|██████████| 17/17 [00:00<00:00, 653.84it/s]\n",
      "100%|██████████| 17/17 [00:00<00:00, 629.63it/s]\n",
      "100%|██████████| 17/17 [00:00<00:00, 680.00it/s]\n",
      "100%|██████████| 17/17 [00:00<00:00, 739.12it/s]\n",
      "100%|██████████| 17/17 [00:00<00:00, 739.15it/s]\n",
      "100%|██████████| 17/17 [00:00<00:00, 739.00it/s]\n",
      "100%|██████████| 17/17 [00:00<00:00, 629.64it/s]\n",
      "100%|██████████| 17/17 [00:00<00:00, 653.84it/s]\n"
     ]
    },
    {
     "name": "stdout",
     "output_type": "stream",
     "text": [
      "Epoch [2421/6000]: Train loss: 1.9026, Valid loss: 1.7632\n"
     ]
    },
    {
     "name": "stderr",
     "output_type": "stream",
     "text": [
      "100%|██████████| 17/17 [00:00<00:00, 708.20it/s]\n",
      "100%|██████████| 17/17 [00:00<00:00, 708.35it/s]\n",
      "100%|██████████| 17/17 [00:00<00:00, 739.13it/s]\n",
      "100%|██████████| 17/17 [00:00<00:00, 653.74it/s]\n",
      "100%|██████████| 17/17 [00:00<00:00, 739.12it/s]\n",
      "100%|██████████| 17/17 [00:00<00:00, 708.31it/s]\n",
      "100%|██████████| 17/17 [00:00<00:00, 680.00it/s]\n",
      "100%|██████████| 17/17 [00:00<00:00, 653.76it/s]\n",
      "100%|██████████| 17/17 [00:00<00:00, 679.98it/s]\n",
      "100%|██████████| 17/17 [00:00<00:00, 708.32it/s]\n",
      "100%|██████████| 17/17 [00:00<00:00, 738.88it/s]\n",
      "100%|██████████| 17/17 [00:00<00:00, 653.82it/s]\n",
      "100%|██████████| 17/17 [00:00<00:00, 680.00it/s]\n"
     ]
    },
    {
     "name": "stdout",
     "output_type": "stream",
     "text": [
      "Saving model with loss 1.586...\n"
     ]
    },
    {
     "name": "stderr",
     "output_type": "stream",
     "text": [
      "100%|██████████| 17/17 [00:00<00:00, 708.33it/s]\n",
      "100%|██████████| 17/17 [00:00<00:00, 729.37it/s]\n",
      "100%|██████████| 17/17 [00:00<00:00, 772.76it/s]\n",
      "100%|██████████| 17/17 [00:00<00:00, 653.83it/s]\n",
      "100%|██████████| 17/17 [00:00<00:00, 629.55it/s]\n",
      "100%|██████████| 17/17 [00:00<00:00, 629.63it/s]\n",
      "100%|██████████| 17/17 [00:00<00:00, 586.21it/s]\n"
     ]
    },
    {
     "name": "stdout",
     "output_type": "stream",
     "text": [
      "Epoch [2441/6000]: Train loss: 1.8995, Valid loss: 1.7198\n"
     ]
    },
    {
     "name": "stderr",
     "output_type": "stream",
     "text": [
      "100%|██████████| 17/17 [00:00<00:00, 531.15it/s]\n",
      "100%|██████████| 17/17 [00:00<00:00, 566.67it/s]\n",
      "100%|██████████| 17/17 [00:00<00:00, 531.25it/s]\n",
      "100%|██████████| 17/17 [00:00<00:00, 586.13it/s]\n",
      "100%|██████████| 17/17 [00:00<00:00, 629.63it/s]\n",
      "100%|██████████| 17/17 [00:00<00:00, 586.20it/s]\n",
      "100%|██████████| 17/17 [00:00<00:00, 607.06it/s]\n",
      "100%|██████████| 17/17 [00:00<00:00, 629.63it/s]\n",
      "100%|██████████| 17/17 [00:00<00:00, 653.85it/s]\n",
      "100%|██████████| 17/17 [00:00<00:00, 708.21it/s]\n",
      "100%|██████████| 17/17 [00:00<00:00, 629.63it/s]\n",
      "100%|██████████| 17/17 [00:00<00:00, 653.85it/s]\n",
      "100%|██████████| 17/17 [00:00<00:00, 653.68it/s]\n",
      "100%|██████████| 17/17 [00:00<00:00, 629.64it/s]\n",
      "100%|██████████| 17/17 [00:00<00:00, 566.67it/s]\n",
      "100%|██████████| 17/17 [00:00<00:00, 548.38it/s]\n",
      "100%|██████████| 17/17 [00:00<00:00, 607.15it/s]\n"
     ]
    },
    {
     "name": "stdout",
     "output_type": "stream",
     "text": [
      "Saving model with loss 1.563...\n"
     ]
    },
    {
     "name": "stderr",
     "output_type": "stream",
     "text": [
      "100%|██████████| 17/17 [00:00<00:00, 586.22it/s]\n",
      "100%|██████████| 17/17 [00:00<00:00, 548.39it/s]\n",
      "100%|██████████| 17/17 [00:00<00:00, 566.69it/s]\n"
     ]
    },
    {
     "name": "stdout",
     "output_type": "stream",
     "text": [
      "Epoch [2461/6000]: Train loss: 1.8897, Valid loss: 1.5932\n"
     ]
    },
    {
     "name": "stderr",
     "output_type": "stream",
     "text": [
      "100%|██████████| 17/17 [00:00<00:00, 586.15it/s]\n",
      "100%|██████████| 17/17 [00:00<00:00, 653.85it/s]\n",
      "100%|██████████| 17/17 [00:00<00:00, 425.00it/s]\n",
      "100%|██████████| 17/17 [00:00<00:00, 629.53it/s]\n",
      "100%|██████████| 17/17 [00:00<00:00, 629.63it/s]\n",
      "100%|██████████| 17/17 [00:00<00:00, 629.63it/s]\n",
      "100%|██████████| 17/17 [00:00<00:00, 607.07it/s]\n",
      "100%|██████████| 17/17 [00:00<00:00, 607.14it/s]\n",
      "100%|██████████| 17/17 [00:00<00:00, 607.14it/s]\n",
      "100%|██████████| 17/17 [00:00<00:00, 582.63it/s]\n",
      "100%|██████████| 17/17 [00:00<00:00, 586.21it/s]\n",
      "100%|██████████| 17/17 [00:00<00:00, 586.21it/s]\n",
      "100%|██████████| 17/17 [00:00<00:00, 607.06it/s]\n",
      "100%|██████████| 17/17 [00:00<00:00, 586.21it/s]\n",
      "100%|██████████| 17/17 [00:00<00:00, 485.72it/s]\n",
      "100%|██████████| 17/17 [00:00<00:00, 586.13it/s]\n",
      "100%|██████████| 17/17 [00:00<00:00, 531.24it/s]\n",
      "100%|██████████| 17/17 [00:00<00:00, 586.21it/s]\n",
      "100%|██████████| 17/17 [00:00<00:00, 607.15it/s]\n",
      "100%|██████████| 17/17 [00:00<00:00, 629.63it/s]\n"
     ]
    },
    {
     "name": "stdout",
     "output_type": "stream",
     "text": [
      "Epoch [2481/6000]: Train loss: 1.8839, Valid loss: 1.6696\n"
     ]
    },
    {
     "name": "stderr",
     "output_type": "stream",
     "text": [
      "100%|██████████| 17/17 [00:00<00:00, 629.63it/s]\n",
      "100%|██████████| 17/17 [00:00<00:00, 629.53it/s]\n",
      "100%|██████████| 17/17 [00:00<00:00, 629.64it/s]\n",
      "100%|██████████| 17/17 [00:00<00:00, 629.61it/s]\n",
      "100%|██████████| 17/17 [00:00<00:00, 607.07it/s]\n",
      "100%|██████████| 17/17 [00:00<00:00, 680.02it/s]\n",
      "100%|██████████| 17/17 [00:00<00:00, 566.69it/s]\n",
      "100%|██████████| 17/17 [00:00<00:00, 555.85it/s]\n",
      "100%|██████████| 17/17 [00:00<00:00, 531.25it/s]\n",
      "100%|██████████| 17/17 [00:00<00:00, 607.15it/s]\n",
      "100%|██████████| 17/17 [00:00<00:00, 531.25it/s]\n",
      "100%|██████████| 17/17 [00:00<00:00, 515.15it/s]\n",
      "100%|██████████| 17/17 [00:00<00:00, 548.38it/s]\n",
      "100%|██████████| 17/17 [00:00<00:00, 566.65it/s]\n",
      "100%|██████████| 17/17 [00:00<00:00, 586.21it/s]\n",
      "100%|██████████| 17/17 [00:00<00:00, 607.15it/s]\n",
      "100%|██████████| 17/17 [00:00<00:00, 566.66it/s]\n",
      "100%|██████████| 17/17 [00:00<00:00, 607.16it/s]\n",
      "100%|██████████| 17/17 [00:00<00:00, 586.21it/s]\n",
      "100%|██████████| 17/17 [00:00<00:00, 566.67it/s]\n"
     ]
    },
    {
     "name": "stdout",
     "output_type": "stream",
     "text": [
      "Epoch [2501/6000]: Train loss: 1.8750, Valid loss: 1.6695\n"
     ]
    },
    {
     "name": "stderr",
     "output_type": "stream",
     "text": [
      "100%|██████████| 17/17 [00:00<00:00, 548.41it/s]\n",
      "100%|██████████| 17/17 [00:00<00:00, 531.25it/s]\n",
      "100%|██████████| 17/17 [00:00<00:00, 653.87it/s]\n",
      "100%|██████████| 17/17 [00:00<00:00, 607.13it/s]\n",
      "100%|██████████| 17/17 [00:00<00:00, 586.21it/s]\n",
      "100%|██████████| 17/17 [00:00<00:00, 566.67it/s]\n",
      "100%|██████████| 17/17 [00:00<00:00, 653.85it/s]\n"
     ]
    },
    {
     "name": "stdout",
     "output_type": "stream",
     "text": [
      "Saving model with loss 1.556...\n"
     ]
    },
    {
     "name": "stderr",
     "output_type": "stream",
     "text": [
      "100%|██████████| 17/17 [00:00<00:00, 586.21it/s]\n",
      "100%|██████████| 17/17 [00:00<00:00, 629.64it/s]\n",
      "100%|██████████| 17/17 [00:00<00:00, 680.00it/s]\n",
      "100%|██████████| 17/17 [00:00<00:00, 548.39it/s]\n",
      "100%|██████████| 17/17 [00:00<00:00, 548.38it/s]\n",
      "100%|██████████| 17/17 [00:00<00:00, 548.39it/s]\n",
      "100%|██████████| 17/17 [00:00<00:00, 548.38it/s]\n",
      "100%|██████████| 17/17 [00:00<00:00, 607.14it/s]\n",
      "100%|██████████| 17/17 [00:00<00:00, 531.25it/s]\n"
     ]
    },
    {
     "name": "stdout",
     "output_type": "stream",
     "text": [
      "Saving model with loss 1.548...\n"
     ]
    },
    {
     "name": "stderr",
     "output_type": "stream",
     "text": [
      "100%|██████████| 17/17 [00:00<00:00, 607.16it/s]\n",
      "100%|██████████| 17/17 [00:00<00:00, 607.15it/s]\n",
      "100%|██████████| 17/17 [00:00<00:00, 629.65it/s]\n",
      "100%|██████████| 17/17 [00:00<00:00, 607.14it/s]\n"
     ]
    },
    {
     "name": "stdout",
     "output_type": "stream",
     "text": [
      "Epoch [2521/6000]: Train loss: 1.8742, Valid loss: 1.6615\n"
     ]
    },
    {
     "name": "stderr",
     "output_type": "stream",
     "text": [
      "100%|██████████| 17/17 [00:00<00:00, 629.64it/s]\n",
      "100%|██████████| 17/17 [00:00<00:00, 607.14it/s]\n",
      "100%|██████████| 17/17 [00:00<00:00, 566.67it/s]\n",
      "100%|██████████| 17/17 [00:00<00:00, 303.55it/s]\n",
      "100%|██████████| 17/17 [00:00<00:00, 354.17it/s]\n",
      "100%|██████████| 17/17 [00:00<00:00, 386.19it/s]\n",
      "100%|██████████| 17/17 [00:00<00:00, 680.00it/s]\n",
      "100%|██████████| 17/17 [00:00<00:00, 515.16it/s]\n",
      "100%|██████████| 17/17 [00:00<00:00, 515.16it/s]\n",
      "100%|██████████| 17/17 [00:00<00:00, 653.89it/s]\n",
      "100%|██████████| 17/17 [00:00<00:00, 500.02it/s]\n",
      "100%|██████████| 17/17 [00:00<00:00, 515.16it/s]\n",
      "100%|██████████| 17/17 [00:00<00:00, 629.63it/s]\n",
      "100%|██████████| 17/17 [00:00<00:00, 531.25it/s]\n",
      "100%|██████████| 17/17 [00:00<00:00, 515.15it/s]\n",
      "100%|██████████| 17/17 [00:00<00:00, 586.20it/s]\n",
      "100%|██████████| 17/17 [00:00<00:00, 472.22it/s]\n",
      "100%|██████████| 17/17 [00:00<00:00, 333.33it/s]\n",
      "100%|██████████| 17/17 [00:00<00:00, 377.78it/s]\n",
      "100%|██████████| 17/17 [00:00<00:00, 395.35it/s]\n"
     ]
    },
    {
     "name": "stdout",
     "output_type": "stream",
     "text": [
      "Epoch [2541/6000]: Train loss: 1.8640, Valid loss: 1.8671\n"
     ]
    },
    {
     "name": "stderr",
     "output_type": "stream",
     "text": [
      "100%|██████████| 17/17 [00:00<00:00, 607.15it/s]\n",
      "100%|██████████| 17/17 [00:00<00:00, 485.71it/s]\n",
      "100%|██████████| 17/17 [00:00<00:00, 531.26it/s]\n",
      "100%|██████████| 17/17 [00:00<00:00, 586.23it/s]\n",
      "100%|██████████| 17/17 [00:00<00:00, 515.17it/s]\n",
      "100%|██████████| 17/17 [00:00<00:00, 586.22it/s]\n",
      "100%|██████████| 17/17 [00:00<00:00, 586.21it/s]\n",
      "100%|██████████| 17/17 [00:00<00:00, 607.15it/s]\n",
      "100%|██████████| 17/17 [00:00<00:00, 548.39it/s]\n",
      "100%|██████████| 17/17 [00:00<00:00, 500.00it/s]\n",
      "100%|██████████| 17/17 [00:00<00:00, 566.66it/s]\n",
      "100%|██████████| 17/17 [00:00<00:00, 515.16it/s]\n",
      "100%|██████████| 17/17 [00:00<00:00, 586.21it/s]\n",
      "100%|██████████| 17/17 [00:00<00:00, 566.67it/s]\n",
      "100%|██████████| 17/17 [00:00<00:00, 586.21it/s]\n"
     ]
    },
    {
     "name": "stdout",
     "output_type": "stream",
     "text": [
      "Saving model with loss 1.545...\n"
     ]
    },
    {
     "name": "stderr",
     "output_type": "stream",
     "text": [
      "100%|██████████| 17/17 [00:00<00:00, 566.67it/s]\n",
      "100%|██████████| 17/17 [00:00<00:00, 607.14it/s]\n",
      "100%|██████████| 17/17 [00:00<00:00, 515.15it/s]\n",
      "100%|██████████| 17/17 [00:00<00:00, 386.37it/s]\n",
      "100%|██████████| 17/17 [00:00<00:00, 515.15it/s]\n"
     ]
    },
    {
     "name": "stdout",
     "output_type": "stream",
     "text": [
      "Epoch [2561/6000]: Train loss: 1.8602, Valid loss: 1.6657\n"
     ]
    },
    {
     "name": "stderr",
     "output_type": "stream",
     "text": [
      "100%|██████████| 17/17 [00:00<00:00, 447.38it/s]\n",
      "100%|██████████| 17/17 [00:00<00:00, 500.00it/s]\n",
      "100%|██████████| 17/17 [00:00<00:00, 369.56it/s]\n",
      "100%|██████████| 17/17 [00:00<00:00, 586.20it/s]\n",
      "100%|██████████| 17/17 [00:00<00:00, 377.75it/s]\n",
      "100%|██████████| 17/17 [00:00<00:00, 680.00it/s]\n",
      "100%|██████████| 17/17 [00:00<00:00, 680.79it/s]\n",
      "100%|██████████| 17/17 [00:00<00:00, 772.72it/s]\n",
      "100%|██████████| 17/17 [00:00<00:00, 739.17it/s]\n",
      "100%|██████████| 17/17 [00:00<00:00, 719.11it/s]\n",
      "100%|██████████| 17/17 [00:00<00:00, 769.60it/s]\n",
      "100%|██████████| 17/17 [00:00<00:00, 808.51it/s]\n",
      "100%|██████████| 17/17 [00:00<00:00, 809.53it/s]\n",
      "100%|██████████| 17/17 [00:00<00:00, 772.71it/s]\n",
      "100%|██████████| 17/17 [00:00<00:00, 809.39it/s]\n",
      "100%|██████████| 17/17 [00:00<00:00, 772.25it/s]\n",
      "100%|██████████| 17/17 [00:00<00:00, 772.61it/s]\n",
      "100%|██████████| 17/17 [00:00<00:00, 746.55it/s]\n",
      "100%|██████████| 17/17 [00:00<00:00, 772.73it/s]\n",
      "100%|██████████| 17/17 [00:00<00:00, 809.52it/s]\n"
     ]
    },
    {
     "name": "stdout",
     "output_type": "stream",
     "text": [
      "Epoch [2581/6000]: Train loss: 1.8495, Valid loss: 1.6293\n"
     ]
    },
    {
     "name": "stderr",
     "output_type": "stream",
     "text": [
      "100%|██████████| 17/17 [00:00<00:00, 739.15it/s]\n",
      "100%|██████████| 17/17 [00:00<00:00, 772.61it/s]\n",
      "100%|██████████| 17/17 [00:00<00:00, 548.39it/s]\n",
      "100%|██████████| 17/17 [00:00<00:00, 604.00it/s]\n",
      "100%|██████████| 17/17 [00:00<00:00, 693.63it/s]\n",
      "100%|██████████| 17/17 [00:00<00:00, 706.88it/s]\n",
      "100%|██████████| 17/17 [00:00<00:00, 739.14it/s]\n",
      "100%|██████████| 17/17 [00:00<00:00, 708.34it/s]\n",
      "100%|██████████| 17/17 [00:00<00:00, 739.14it/s]\n",
      "100%|██████████| 17/17 [00:00<00:00, 708.36it/s]\n",
      "100%|██████████| 17/17 [00:00<00:00, 708.34it/s]\n",
      "100%|██████████| 17/17 [00:00<00:00, 708.31it/s]\n",
      "100%|██████████| 17/17 [00:00<00:00, 520.62it/s]\n",
      "100%|██████████| 17/17 [00:00<00:00, 772.72it/s]\n",
      "100%|██████████| 17/17 [00:00<00:00, 755.24it/s]\n",
      "100%|██████████| 17/17 [00:00<00:00, 515.16it/s]\n",
      "100%|██████████| 17/17 [00:00<00:00, 772.80it/s]\n",
      "100%|██████████| 17/17 [00:00<00:00, 739.14it/s]\n",
      "100%|██████████| 17/17 [00:00<00:00, 772.74it/s]\n",
      "100%|██████████| 17/17 [00:00<00:00, 769.19it/s]\n"
     ]
    },
    {
     "name": "stdout",
     "output_type": "stream",
     "text": [
      "Epoch [2601/6000]: Train loss: 1.8429, Valid loss: 1.5950\n"
     ]
    },
    {
     "name": "stderr",
     "output_type": "stream",
     "text": [
      "100%|██████████| 17/17 [00:00<00:00, 670.72it/s]\n",
      "100%|██████████| 17/17 [00:00<00:00, 790.06it/s]\n",
      "100%|██████████| 17/17 [00:00<00:00, 769.43it/s]\n",
      "100%|██████████| 17/17 [00:00<00:00, 739.13it/s]\n",
      "100%|██████████| 17/17 [00:00<00:00, 772.71it/s]\n",
      "100%|██████████| 17/17 [00:00<00:00, 739.15it/s]\n",
      "100%|██████████| 17/17 [00:00<00:00, 772.72it/s]\n"
     ]
    },
    {
     "name": "stdout",
     "output_type": "stream",
     "text": [
      "Saving model with loss 1.519...\n"
     ]
    },
    {
     "name": "stderr",
     "output_type": "stream",
     "text": [
      "100%|██████████| 17/17 [00:00<00:00, 809.52it/s]\n",
      "100%|██████████| 17/17 [00:00<00:00, 729.85it/s]\n",
      "100%|██████████| 17/17 [00:00<00:00, 635.92it/s]\n",
      "100%|██████████| 17/17 [00:00<00:00, 809.54it/s]\n",
      "100%|██████████| 17/17 [00:00<00:00, 772.73it/s]\n",
      "100%|██████████| 17/17 [00:00<00:00, 739.13it/s]\n",
      "100%|██████████| 17/17 [00:00<00:00, 772.76it/s]\n",
      "100%|██████████| 17/17 [00:00<00:00, 772.72it/s]\n",
      "100%|██████████| 17/17 [00:00<00:00, 734.49it/s]\n",
      "100%|██████████| 17/17 [00:00<00:00, 701.31it/s]\n",
      "100%|██████████| 17/17 [00:00<00:00, 739.13it/s]\n",
      "100%|██████████| 17/17 [00:00<00:00, 739.15it/s]\n",
      "100%|██████████| 17/17 [00:00<00:00, 772.90it/s]\n"
     ]
    },
    {
     "name": "stdout",
     "output_type": "stream",
     "text": [
      "Epoch [2621/6000]: Train loss: 1.8358, Valid loss: 1.7348\n"
     ]
    },
    {
     "name": "stderr",
     "output_type": "stream",
     "text": [
      "100%|██████████| 17/17 [00:00<00:00, 680.00it/s]\n",
      "100%|██████████| 17/17 [00:00<00:00, 739.12it/s]\n",
      "100%|██████████| 17/17 [00:00<00:00, 708.23it/s]\n",
      "100%|██████████| 17/17 [00:00<00:00, 697.60it/s]\n",
      "100%|██████████| 17/17 [00:00<00:00, 712.77it/s]\n",
      "100%|██████████| 17/17 [00:00<00:00, 708.33it/s]\n",
      "100%|██████████| 17/17 [00:00<00:00, 653.77it/s]\n",
      "100%|██████████| 17/17 [00:00<00:00, 723.03it/s]\n",
      "100%|██████████| 17/17 [00:00<00:00, 693.62it/s]\n",
      "100%|██████████| 17/17 [00:00<00:00, 629.62it/s]\n",
      "100%|██████████| 17/17 [00:00<00:00, 429.96it/s]\n",
      "100%|██████████| 17/17 [00:00<00:00, 282.33it/s]\n",
      "100%|██████████| 17/17 [00:00<00:00, 566.60it/s]\n",
      "100%|██████████| 17/17 [00:00<00:00, 595.75it/s]\n",
      "100%|██████████| 17/17 [00:00<00:00, 596.91it/s]\n",
      "100%|██████████| 17/17 [00:00<00:00, 653.85it/s]\n",
      "100%|██████████| 17/17 [00:00<00:00, 708.20it/s]\n",
      "100%|██████████| 17/17 [00:00<00:00, 693.50it/s]\n",
      "100%|██████████| 17/17 [00:00<00:00, 708.34it/s]\n",
      "100%|██████████| 17/17 [00:00<00:00, 739.13it/s]\n"
     ]
    },
    {
     "name": "stdout",
     "output_type": "stream",
     "text": [
      "Epoch [2641/6000]: Train loss: 1.8284, Valid loss: 1.7160\n"
     ]
    },
    {
     "name": "stderr",
     "output_type": "stream",
     "text": [
      "100%|██████████| 17/17 [00:00<00:00, 708.24it/s]\n",
      "100%|██████████| 17/17 [00:00<00:00, 665.32it/s]\n",
      "100%|██████████| 17/17 [00:00<00:00, 361.70it/s]\n",
      "100%|██████████| 17/17 [00:00<00:00, 586.20it/s]\n",
      "100%|██████████| 17/17 [00:00<00:00, 669.83it/s]\n",
      "100%|██████████| 17/17 [00:00<00:00, 693.75it/s]\n",
      "100%|██████████| 17/17 [00:00<00:00, 653.86it/s]\n",
      "100%|██████████| 17/17 [00:00<00:00, 499.89it/s]\n",
      "100%|██████████| 17/17 [00:00<00:00, 363.36it/s]\n",
      "100%|██████████| 17/17 [00:00<00:00, 453.20it/s]\n"
     ]
    },
    {
     "name": "stdout",
     "output_type": "stream",
     "text": [
      "Saving model with loss 1.515...\n"
     ]
    },
    {
     "name": "stderr",
     "output_type": "stream",
     "text": [
      "100%|██████████| 17/17 [00:00<00:00, 575.99it/s]\n",
      "100%|██████████| 17/17 [00:00<00:00, 522.92it/s]\n",
      "100%|██████████| 17/17 [00:00<00:00, 607.14it/s]\n",
      "100%|██████████| 17/17 [00:00<00:00, 586.15it/s]\n"
     ]
    },
    {
     "name": "stdout",
     "output_type": "stream",
     "text": [
      "Saving model with loss 1.488...\n"
     ]
    },
    {
     "name": "stderr",
     "output_type": "stream",
     "text": [
      "100%|██████████| 17/17 [00:00<00:00, 629.63it/s]\n",
      "100%|██████████| 17/17 [00:00<00:00, 586.21it/s]\n",
      "100%|██████████| 17/17 [00:00<00:00, 607.15it/s]\n",
      "100%|██████████| 17/17 [00:00<00:00, 629.65it/s]\n",
      "100%|██████████| 17/17 [00:00<00:00, 629.55it/s]\n",
      "100%|██████████| 17/17 [00:00<00:00, 610.53it/s]\n"
     ]
    },
    {
     "name": "stdout",
     "output_type": "stream",
     "text": [
      "Epoch [2661/6000]: Train loss: 1.8227, Valid loss: 1.6706\n"
     ]
    },
    {
     "name": "stderr",
     "output_type": "stream",
     "text": [
      "100%|██████████| 17/17 [00:00<00:00, 629.60it/s]\n",
      "100%|██████████| 17/17 [00:00<00:00, 629.63it/s]\n",
      "100%|██████████| 17/17 [00:00<00:00, 629.68it/s]\n",
      "100%|██████████| 17/17 [00:00<00:00, 641.34it/s]\n",
      "100%|██████████| 17/17 [00:00<00:00, 607.13it/s]\n",
      "100%|██████████| 17/17 [00:00<00:00, 629.57it/s]\n",
      "100%|██████████| 17/17 [00:00<00:00, 617.88it/s]\n",
      "100%|██████████| 17/17 [00:00<00:00, 607.15it/s]\n",
      "100%|██████████| 17/17 [00:00<00:00, 629.64it/s]\n",
      "100%|██████████| 17/17 [00:00<00:00, 679.90it/s]\n",
      "100%|██████████| 17/17 [00:00<00:00, 666.66it/s]\n",
      "100%|██████████| 17/17 [00:00<00:00, 629.57it/s]\n",
      "100%|██████████| 17/17 [00:00<00:00, 693.60it/s]\n",
      "100%|██████████| 17/17 [00:00<00:00, 679.86it/s]\n",
      "100%|██████████| 17/17 [00:00<00:00, 653.78it/s]\n",
      "100%|██████████| 17/17 [00:00<00:00, 680.02it/s]\n",
      "100%|██████████| 17/17 [00:00<00:00, 708.19it/s]\n",
      "100%|██████████| 17/17 [00:00<00:00, 654.51it/s]\n",
      "100%|██████████| 17/17 [00:00<00:00, 586.21it/s]\n",
      "100%|██████████| 17/17 [00:00<00:00, 653.86it/s]\n"
     ]
    },
    {
     "name": "stdout",
     "output_type": "stream",
     "text": [
      "Epoch [2681/6000]: Train loss: 1.8185, Valid loss: 1.5120\n"
     ]
    },
    {
     "name": "stderr",
     "output_type": "stream",
     "text": [
      "100%|██████████| 17/17 [00:00<00:00, 630.90it/s]\n",
      "100%|██████████| 17/17 [00:00<00:00, 629.19it/s]\n",
      "100%|██████████| 17/17 [00:00<00:00, 629.64it/s]\n",
      "100%|██████████| 17/17 [00:00<00:00, 653.77it/s]\n",
      "100%|██████████| 17/17 [00:00<00:00, 617.87it/s]\n",
      "100%|██████████| 17/17 [00:00<00:00, 607.15it/s]\n",
      "100%|██████████| 17/17 [00:00<00:00, 641.28it/s]\n",
      "100%|██████████| 17/17 [00:00<00:00, 629.57it/s]\n",
      "100%|██████████| 17/17 [00:00<00:00, 652.56it/s]\n",
      "100%|██████████| 17/17 [00:00<00:00, 619.17it/s]\n",
      "100%|██████████| 17/17 [00:00<00:00, 653.83it/s]\n",
      "100%|██████████| 17/17 [00:00<00:00, 617.77it/s]\n",
      "100%|██████████| 17/17 [00:00<00:00, 612.66it/s]\n",
      "100%|██████████| 17/17 [00:00<00:00, 653.85it/s]\n",
      "100%|██████████| 17/17 [00:00<00:00, 666.30it/s]\n",
      "100%|██████████| 17/17 [00:00<00:00, 707.99it/s]\n",
      "100%|██████████| 17/17 [00:00<00:00, 653.84it/s]\n",
      "100%|██████████| 17/17 [00:00<00:00, 680.01it/s]\n",
      "100%|██████████| 17/17 [00:00<00:00, 653.76it/s]\n",
      "100%|██████████| 17/17 [00:00<00:00, 596.21it/s]\n"
     ]
    },
    {
     "name": "stdout",
     "output_type": "stream",
     "text": [
      "Epoch [2701/6000]: Train loss: 1.8092, Valid loss: 1.6195\n"
     ]
    },
    {
     "name": "stderr",
     "output_type": "stream",
     "text": [
      "100%|██████████| 17/17 [00:00<00:00, 629.64it/s]\n",
      "100%|██████████| 17/17 [00:00<00:00, 586.21it/s]\n",
      "100%|██████████| 17/17 [00:00<00:00, 629.45it/s]\n",
      "100%|██████████| 17/17 [00:00<00:00, 596.29it/s]\n",
      "100%|██████████| 17/17 [00:00<00:00, 607.14it/s]\n",
      "100%|██████████| 17/17 [00:00<00:00, 430.21it/s]\n",
      "100%|██████████| 17/17 [00:00<00:00, 566.30it/s]\n",
      "100%|██████████| 17/17 [00:00<00:00, 548.40it/s]\n",
      "100%|██████████| 17/17 [00:00<00:00, 662.61it/s]\n",
      "100%|██████████| 17/17 [00:00<00:00, 680.00it/s]\n",
      "100%|██████████| 17/17 [00:00<00:00, 653.74it/s]\n",
      "100%|██████████| 17/17 [00:00<00:00, 653.83it/s]\n",
      "100%|██████████| 17/17 [00:00<00:00, 607.14it/s]\n",
      "100%|██████████| 17/17 [00:00<00:00, 447.31it/s]\n",
      "100%|██████████| 17/17 [00:00<00:00, 653.83it/s]\n",
      "100%|██████████| 17/17 [00:00<00:00, 653.85it/s]\n",
      "100%|██████████| 17/17 [00:00<00:00, 653.85it/s]\n",
      "100%|██████████| 17/17 [00:00<00:00, 680.00it/s]\n",
      "100%|██████████| 17/17 [00:00<00:00, 666.45it/s]\n",
      "100%|██████████| 17/17 [00:00<00:00, 708.52it/s]\n"
     ]
    },
    {
     "name": "stdout",
     "output_type": "stream",
     "text": [
      "Epoch [2721/6000]: Train loss: 1.8016, Valid loss: 1.5682\n"
     ]
    },
    {
     "name": "stderr",
     "output_type": "stream",
     "text": [
      "100%|██████████| 17/17 [00:00<00:00, 687.23it/s]\n",
      "100%|██████████| 17/17 [00:00<00:00, 653.83it/s]\n",
      "100%|██████████| 17/17 [00:00<00:00, 673.07it/s]\n",
      "100%|██████████| 17/17 [00:00<00:00, 629.64it/s]\n",
      "100%|██████████| 17/17 [00:00<00:00, 629.65it/s]\n",
      "100%|██████████| 17/17 [00:00<00:00, 584.30it/s]\n",
      "100%|██████████| 17/17 [00:00<00:00, 680.00it/s]\n",
      "100%|██████████| 17/17 [00:00<00:00, 621.44it/s]\n",
      "100%|██████████| 17/17 [00:00<00:00, 653.83it/s]\n",
      "100%|██████████| 17/17 [00:00<00:00, 607.15it/s]\n",
      "100%|██████████| 17/17 [00:00<00:00, 586.21it/s]\n",
      "100%|██████████| 17/17 [00:00<00:00, 607.14it/s]\n",
      "100%|██████████| 17/17 [00:00<00:00, 531.24it/s]\n",
      "100%|██████████| 17/17 [00:00<00:00, 531.25it/s]\n",
      "100%|██████████| 17/17 [00:00<00:00, 377.79it/s]\n",
      "100%|██████████| 17/17 [00:00<00:00, 653.85it/s]\n",
      "100%|██████████| 17/17 [00:00<00:00, 653.85it/s]\n",
      "100%|██████████| 17/17 [00:00<00:00, 679.99it/s]\n",
      "100%|██████████| 17/17 [00:00<00:00, 707.31it/s]\n",
      "100%|██████████| 17/17 [00:00<00:00, 739.11it/s]\n"
     ]
    },
    {
     "name": "stdout",
     "output_type": "stream",
     "text": [
      "Epoch [2741/6000]: Train loss: 1.7987, Valid loss: 1.6991\n"
     ]
    },
    {
     "name": "stderr",
     "output_type": "stream",
     "text": [
      "100%|██████████| 17/17 [00:00<00:00, 739.14it/s]\n",
      "100%|██████████| 17/17 [00:00<00:00, 680.01it/s]\n",
      "100%|██████████| 17/17 [00:00<00:00, 708.35it/s]\n",
      "100%|██████████| 17/17 [00:00<00:00, 708.36it/s]\n",
      "100%|██████████| 17/17 [00:00<00:00, 739.13it/s]\n",
      "100%|██████████| 17/17 [00:00<00:00, 680.00it/s]\n",
      "100%|██████████| 17/17 [00:00<00:00, 679.99it/s]\n",
      "100%|██████████| 17/17 [00:00<00:00, 653.83it/s]\n",
      "100%|██████████| 17/17 [00:00<00:00, 708.34it/s]\n",
      "100%|██████████| 17/17 [00:00<00:00, 752.98it/s]\n",
      "100%|██████████| 17/17 [00:00<00:00, 772.73it/s]\n",
      "100%|██████████| 17/17 [00:00<00:00, 739.12it/s]\n",
      "100%|██████████| 17/17 [00:00<00:00, 772.72it/s]\n",
      "100%|██████████| 17/17 [00:00<00:00, 679.99it/s]\n",
      "100%|██████████| 17/17 [00:00<00:00, 772.74it/s]\n",
      "100%|██████████| 17/17 [00:00<00:00, 739.12it/s]\n",
      "100%|██████████| 17/17 [00:00<00:00, 739.13it/s]\n",
      "100%|██████████| 17/17 [00:00<00:00, 809.52it/s]\n",
      "100%|██████████| 17/17 [00:00<00:00, 809.54it/s]\n",
      "100%|██████████| 17/17 [00:00<00:00, 739.13it/s]\n"
     ]
    },
    {
     "name": "stdout",
     "output_type": "stream",
     "text": [
      "Epoch [2761/6000]: Train loss: 1.7920, Valid loss: 1.8195\n"
     ]
    },
    {
     "name": "stderr",
     "output_type": "stream",
     "text": [
      "100%|██████████| 17/17 [00:00<00:00, 400.85it/s]\n",
      "100%|██████████| 17/17 [00:00<00:00, 586.20it/s]\n",
      "100%|██████████| 17/17 [00:00<00:00, 629.62it/s]\n",
      "100%|██████████| 17/17 [00:00<00:00, 653.83it/s]\n",
      "100%|██████████| 17/17 [00:00<00:00, 655.82it/s]\n",
      "100%|██████████| 17/17 [00:00<00:00, 680.01it/s]\n",
      "100%|██████████| 17/17 [00:00<00:00, 708.27it/s]\n",
      "100%|██████████| 17/17 [00:00<00:00, 680.00it/s]\n",
      "100%|██████████| 17/17 [00:00<00:00, 708.34it/s]\n",
      "100%|██████████| 17/17 [00:00<00:00, 708.27it/s]\n",
      "100%|██████████| 17/17 [00:00<00:00, 586.21it/s]\n",
      "100%|██████████| 17/17 [00:00<00:00, 515.15it/s]\n",
      "100%|██████████| 17/17 [00:00<00:00, 603.31it/s]\n",
      "100%|██████████| 17/17 [00:00<00:00, 629.63it/s]\n",
      "100%|██████████| 17/17 [00:00<00:00, 653.85it/s]\n",
      "100%|██████████| 17/17 [00:00<00:00, 685.81it/s]\n",
      "100%|██████████| 17/17 [00:00<00:00, 708.33it/s]\n",
      "100%|██████████| 17/17 [00:00<00:00, 680.00it/s]\n",
      "100%|██████████| 17/17 [00:00<00:00, 666.47it/s]\n",
      "100%|██████████| 17/17 [00:00<00:00, 739.13it/s]\n"
     ]
    },
    {
     "name": "stdout",
     "output_type": "stream",
     "text": [
      "Epoch [2781/6000]: Train loss: 1.7834, Valid loss: 1.4837\n",
      "Saving model with loss 1.484...\n"
     ]
    },
    {
     "name": "stderr",
     "output_type": "stream",
     "text": [
      "100%|██████████| 17/17 [00:00<00:00, 708.34it/s]\n",
      "100%|██████████| 17/17 [00:00<00:00, 739.07it/s]\n",
      "100%|██████████| 17/17 [00:00<00:00, 500.00it/s]\n",
      "100%|██████████| 17/17 [00:00<00:00, 629.63it/s]\n",
      "100%|██████████| 17/17 [00:00<00:00, 708.27it/s]\n"
     ]
    },
    {
     "name": "stdout",
     "output_type": "stream",
     "text": [
      "Saving model with loss 1.453...\n"
     ]
    },
    {
     "name": "stderr",
     "output_type": "stream",
     "text": [
      "100%|██████████| 17/17 [00:00<00:00, 739.14it/s]\n",
      "100%|██████████| 17/17 [00:00<00:00, 653.84it/s]\n",
      "100%|██████████| 17/17 [00:00<00:00, 707.74it/s]\n",
      "100%|██████████| 17/17 [00:00<00:00, 680.00it/s]\n",
      "100%|██████████| 17/17 [00:00<00:00, 739.12it/s]\n",
      "100%|██████████| 17/17 [00:00<00:00, 708.34it/s]\n",
      "100%|██████████| 17/17 [00:00<00:00, 679.93it/s]\n",
      "100%|██████████| 17/17 [00:00<00:00, 506.31it/s]\n",
      "100%|██████████| 17/17 [00:00<00:00, 708.34it/s]\n",
      "100%|██████████| 17/17 [00:00<00:00, 333.32it/s]\n",
      "100%|██████████| 17/17 [00:00<00:00, 414.12it/s]\n",
      "100%|██████████| 17/17 [00:00<00:00, 586.20it/s]\n",
      "100%|██████████| 17/17 [00:00<00:00, 629.64it/s]\n",
      "100%|██████████| 17/17 [00:00<00:00, 629.63it/s]\n",
      "100%|██████████| 17/17 [00:00<00:00, 653.84it/s]\n"
     ]
    },
    {
     "name": "stdout",
     "output_type": "stream",
     "text": [
      "Epoch [2801/6000]: Train loss: 1.7799, Valid loss: 1.6306\n"
     ]
    },
    {
     "name": "stderr",
     "output_type": "stream",
     "text": [
      "100%|██████████| 17/17 [00:00<00:00, 653.85it/s]\n",
      "100%|██████████| 17/17 [00:00<00:00, 680.00it/s]\n",
      "100%|██████████| 17/17 [00:00<00:00, 679.99it/s]\n",
      "100%|██████████| 17/17 [00:00<00:00, 680.00it/s]\n",
      "100%|██████████| 17/17 [00:00<00:00, 680.00it/s]\n",
      "100%|██████████| 17/17 [00:00<00:00, 680.00it/s]\n",
      "100%|██████████| 17/17 [00:00<00:00, 708.34it/s]\n",
      "100%|██████████| 17/17 [00:00<00:00, 708.33it/s]\n",
      "100%|██████████| 17/17 [00:00<00:00, 680.00it/s]\n",
      "100%|██████████| 17/17 [00:00<00:00, 411.55it/s]\n",
      "100%|██████████| 17/17 [00:00<00:00, 424.99it/s]\n",
      "100%|██████████| 17/17 [00:00<00:00, 436.27it/s]\n",
      "100%|██████████| 17/17 [00:00<00:00, 455.80it/s]\n",
      "100%|██████████| 17/17 [00:00<00:00, 485.72it/s]\n",
      "100%|██████████| 17/17 [00:00<00:00, 568.36it/s]\n",
      "100%|██████████| 17/17 [00:00<00:00, 618.02it/s]\n",
      "100%|██████████| 17/17 [00:00<00:00, 606.41it/s]\n",
      "100%|██████████| 17/17 [00:00<00:00, 576.91it/s]\n",
      "100%|██████████| 17/17 [00:00<00:00, 654.10it/s]\n",
      "100%|██████████| 17/17 [00:00<00:00, 629.64it/s]\n"
     ]
    },
    {
     "name": "stdout",
     "output_type": "stream",
     "text": [
      "Epoch [2821/6000]: Train loss: 1.7755, Valid loss: 1.6744\n"
     ]
    },
    {
     "name": "stderr",
     "output_type": "stream",
     "text": [
      "100%|██████████| 17/17 [00:00<00:00, 459.47it/s]\n",
      "100%|██████████| 17/17 [00:00<00:00, 566.66it/s]\n",
      "100%|██████████| 17/17 [00:00<00:00, 568.90it/s]\n",
      "100%|██████████| 17/17 [00:00<00:00, 566.66it/s]\n",
      "100%|██████████| 17/17 [00:00<00:00, 653.83it/s]\n",
      "100%|██████████| 17/17 [00:00<00:00, 629.64it/s]\n",
      "100%|██████████| 17/17 [00:00<00:00, 424.67it/s]\n",
      "100%|██████████| 17/17 [00:00<00:00, 653.85it/s]\n",
      "100%|██████████| 17/17 [00:00<00:00, 265.02it/s]\n",
      "100%|██████████| 17/17 [00:00<00:00, 459.84it/s]\n",
      "100%|██████████| 17/17 [00:00<00:00, 463.81it/s]\n",
      "100%|██████████| 17/17 [00:00<00:00, 629.63it/s]\n",
      "100%|██████████| 17/17 [00:00<00:00, 265.24it/s]\n",
      "100%|██████████| 17/17 [00:00<00:00, 270.86it/s]\n",
      "100%|██████████| 17/17 [00:00<00:00, 211.08it/s]\n",
      "100%|██████████| 17/17 [00:00<00:00, 236.80it/s]\n",
      "100%|██████████| 17/17 [00:00<00:00, 438.78it/s]\n",
      "100%|██████████| 17/17 [00:00<00:00, 220.92it/s]\n",
      "100%|██████████| 17/17 [00:00<00:00, 423.61it/s]\n",
      "100%|██████████| 17/17 [00:00<00:00, 599.59it/s]\n"
     ]
    },
    {
     "name": "stdout",
     "output_type": "stream",
     "text": [
      "Epoch [2841/6000]: Train loss: 1.7644, Valid loss: 1.6918\n"
     ]
    },
    {
     "name": "stderr",
     "output_type": "stream",
     "text": [
      "100%|██████████| 17/17 [00:00<00:00, 690.00it/s]\n",
      "100%|██████████| 17/17 [00:00<00:00, 705.45it/s]\n",
      "100%|██████████| 17/17 [00:00<00:00, 676.98it/s]\n",
      "100%|██████████| 17/17 [00:00<00:00, 679.99it/s]\n",
      "100%|██████████| 17/17 [00:00<00:00, 578.74it/s]\n",
      "100%|██████████| 17/17 [00:00<00:00, 692.25it/s]\n",
      "100%|██████████| 17/17 [00:00<00:00, 651.09it/s]\n",
      "100%|██████████| 17/17 [00:00<00:00, 696.37it/s]\n",
      "100%|██████████| 17/17 [00:00<00:00, 642.89it/s]\n",
      "100%|██████████| 17/17 [00:00<00:00, 679.92it/s]\n",
      "100%|██████████| 17/17 [00:00<00:00, 296.68it/s]\n",
      "100%|██████████| 17/17 [00:00<00:00, 361.70it/s]\n",
      "100%|██████████| 17/17 [00:00<00:00, 293.10it/s]\n",
      "100%|██████████| 17/17 [00:00<00:00, 283.33it/s]\n",
      "100%|██████████| 17/17 [00:00<00:00, 354.17it/s]\n",
      "100%|██████████| 17/17 [00:00<00:00, 629.63it/s]\n",
      "100%|██████████| 17/17 [00:00<00:00, 708.34it/s]\n",
      "100%|██████████| 17/17 [00:00<00:00, 708.33it/s]\n",
      "100%|██████████| 17/17 [00:00<00:00, 680.01it/s]\n",
      "100%|██████████| 17/17 [00:00<00:00, 680.00it/s]\n"
     ]
    },
    {
     "name": "stdout",
     "output_type": "stream",
     "text": [
      "Epoch [2861/6000]: Train loss: 1.7608, Valid loss: 1.6039\n"
     ]
    },
    {
     "name": "stderr",
     "output_type": "stream",
     "text": [
      "100%|██████████| 17/17 [00:00<00:00, 629.63it/s]\n",
      "100%|██████████| 17/17 [00:00<00:00, 680.02it/s]\n",
      "100%|██████████| 17/17 [00:00<00:00, 680.00it/s]\n",
      "100%|██████████| 17/17 [00:00<00:00, 680.00it/s]\n",
      "100%|██████████| 17/17 [00:00<00:00, 653.83it/s]\n",
      "100%|██████████| 17/17 [00:00<00:00, 653.86it/s]\n",
      "100%|██████████| 17/17 [00:00<00:00, 653.83it/s]\n",
      "100%|██████████| 17/17 [00:00<00:00, 653.84it/s]\n",
      "100%|██████████| 17/17 [00:00<00:00, 655.88it/s]\n",
      "100%|██████████| 17/17 [00:00<00:00, 653.85it/s]\n",
      "100%|██████████| 17/17 [00:00<00:00, 680.00it/s]\n",
      "100%|██████████| 17/17 [00:00<00:00, 680.00it/s]\n",
      "100%|██████████| 17/17 [00:00<00:00, 708.34it/s]\n",
      "100%|██████████| 17/17 [00:00<00:00, 653.85it/s]\n",
      "100%|██████████| 17/17 [00:00<00:00, 629.63it/s]\n",
      "100%|██████████| 17/17 [00:00<00:00, 679.99it/s]\n",
      "100%|██████████| 17/17 [00:00<00:00, 679.98it/s]\n",
      "100%|██████████| 17/17 [00:00<00:00, 680.00it/s]\n",
      "100%|██████████| 17/17 [00:00<00:00, 680.00it/s]\n",
      "100%|██████████| 17/17 [00:00<00:00, 680.00it/s]\n"
     ]
    },
    {
     "name": "stdout",
     "output_type": "stream",
     "text": [
      "Epoch [2881/6000]: Train loss: 1.7563, Valid loss: 1.5514\n"
     ]
    },
    {
     "name": "stderr",
     "output_type": "stream",
     "text": [
      "100%|██████████| 17/17 [00:00<00:00, 531.26it/s]\n",
      "100%|██████████| 17/17 [00:00<00:00, 354.17it/s]\n",
      "100%|██████████| 17/17 [00:00<00:00, 566.66it/s]\n",
      "100%|██████████| 17/17 [00:00<00:00, 607.16it/s]\n",
      "100%|██████████| 17/17 [00:00<00:00, 653.84it/s]\n",
      "100%|██████████| 17/17 [00:00<00:00, 653.84it/s]\n",
      "100%|██████████| 17/17 [00:00<00:00, 679.99it/s]\n",
      "100%|██████████| 17/17 [00:00<00:00, 708.33it/s]\n",
      "100%|██████████| 17/17 [00:00<00:00, 708.33it/s]\n",
      "100%|██████████| 17/17 [00:00<00:00, 680.01it/s]\n",
      "100%|██████████| 17/17 [00:00<00:00, 708.33it/s]\n",
      "100%|██████████| 17/17 [00:00<00:00, 708.34it/s]\n",
      "100%|██████████| 17/17 [00:00<00:00, 680.00it/s]\n",
      "100%|██████████| 17/17 [00:00<00:00, 708.33it/s]\n",
      "100%|██████████| 17/17 [00:00<00:00, 708.33it/s]\n",
      "100%|██████████| 17/17 [00:00<00:00, 739.12it/s]\n",
      "100%|██████████| 17/17 [00:00<00:00, 708.34it/s]\n"
     ]
    },
    {
     "name": "stdout",
     "output_type": "stream",
     "text": [
      "Saving model with loss 1.429...\n"
     ]
    },
    {
     "name": "stderr",
     "output_type": "stream",
     "text": [
      "100%|██████████| 17/17 [00:00<00:00, 680.00it/s]\n",
      "100%|██████████| 17/17 [00:00<00:00, 708.33it/s]\n",
      "100%|██████████| 17/17 [00:00<00:00, 708.34it/s]\n"
     ]
    },
    {
     "name": "stdout",
     "output_type": "stream",
     "text": [
      "Epoch [2901/6000]: Train loss: 1.7487, Valid loss: 1.7058\n"
     ]
    },
    {
     "name": "stderr",
     "output_type": "stream",
     "text": [
      "100%|██████████| 17/17 [00:00<00:00, 680.00it/s]\n",
      "100%|██████████| 17/17 [00:00<00:00, 679.99it/s]\n",
      "100%|██████████| 17/17 [00:00<00:00, 680.00it/s]\n",
      "100%|██████████| 17/17 [00:00<00:00, 653.85it/s]\n",
      "100%|██████████| 17/17 [00:00<00:00, 586.22it/s]\n",
      "100%|██████████| 17/17 [00:00<00:00, 653.84it/s]\n",
      "100%|██████████| 17/17 [00:00<00:00, 680.00it/s]\n",
      "100%|██████████| 17/17 [00:00<00:00, 708.34it/s]\n",
      "100%|██████████| 17/17 [00:00<00:00, 708.33it/s]\n",
      "100%|██████████| 17/17 [00:00<00:00, 680.01it/s]\n",
      "100%|██████████| 17/17 [00:00<00:00, 659.66it/s]\n",
      "100%|██████████| 17/17 [00:00<00:00, 653.83it/s]\n",
      "100%|██████████| 17/17 [00:00<00:00, 524.75it/s]\n",
      "100%|██████████| 17/17 [00:00<00:00, 629.64it/s]\n",
      "100%|██████████| 17/17 [00:00<00:00, 354.17it/s]\n",
      "100%|██████████| 17/17 [00:00<00:00, 415.65it/s]\n",
      "100%|██████████| 17/17 [00:00<00:00, 472.22it/s]\n",
      "100%|██████████| 17/17 [00:00<00:00, 499.19it/s]\n",
      "100%|██████████| 17/17 [00:00<00:00, 354.16it/s]\n",
      "100%|██████████| 17/17 [00:00<00:00, 368.79it/s]\n"
     ]
    },
    {
     "name": "stdout",
     "output_type": "stream",
     "text": [
      "Epoch [2921/6000]: Train loss: 1.7433, Valid loss: 1.5814\n"
     ]
    },
    {
     "name": "stderr",
     "output_type": "stream",
     "text": [
      "100%|██████████| 17/17 [00:00<00:00, 607.14it/s]\n",
      "100%|██████████| 17/17 [00:00<00:00, 680.02it/s]\n",
      "100%|██████████| 17/17 [00:00<00:00, 680.01it/s]\n",
      "100%|██████████| 17/17 [00:00<00:00, 653.85it/s]\n",
      "100%|██████████| 17/17 [00:00<00:00, 708.34it/s]\n",
      "100%|██████████| 17/17 [00:00<00:00, 691.66it/s]\n",
      "100%|██████████| 17/17 [00:00<00:00, 708.32it/s]\n",
      "100%|██████████| 17/17 [00:00<00:00, 708.35it/s]\n",
      "100%|██████████| 17/17 [00:00<00:00, 739.16it/s]\n",
      "100%|██████████| 17/17 [00:00<00:00, 708.33it/s]\n",
      "100%|██████████| 17/17 [00:00<00:00, 653.84it/s]\n",
      "100%|██████████| 17/17 [00:00<00:00, 485.71it/s]\n",
      "100%|██████████| 17/17 [00:00<00:00, 490.75it/s]\n",
      "100%|██████████| 17/17 [00:00<00:00, 607.14it/s]\n",
      "100%|██████████| 17/17 [00:00<00:00, 629.63it/s]\n",
      "100%|██████████| 17/17 [00:00<00:00, 679.99it/s]\n",
      "100%|██████████| 17/17 [00:00<00:00, 679.98it/s]\n",
      "100%|██████████| 17/17 [00:00<00:00, 653.83it/s]\n",
      "100%|██████████| 17/17 [00:00<00:00, 500.00it/s]\n",
      "100%|██████████| 17/17 [00:00<00:00, 627.11it/s]\n"
     ]
    },
    {
     "name": "stdout",
     "output_type": "stream",
     "text": [
      "Epoch [2941/6000]: Train loss: 1.7368, Valid loss: 1.5732\n"
     ]
    },
    {
     "name": "stderr",
     "output_type": "stream",
     "text": [
      "100%|██████████| 17/17 [00:00<00:00, 357.82it/s]\n",
      "100%|██████████| 17/17 [00:00<00:00, 374.26it/s]\n",
      "100%|██████████| 17/17 [00:00<00:00, 458.50it/s]\n",
      "100%|██████████| 17/17 [00:00<00:00, 468.97it/s]\n",
      "100%|██████████| 17/17 [00:00<00:00, 629.61it/s]\n",
      "100%|██████████| 17/17 [00:00<00:00, 317.23it/s]\n",
      "100%|██████████| 17/17 [00:00<00:00, 245.20it/s]\n",
      "100%|██████████| 17/17 [00:00<00:00, 253.73it/s]\n",
      "100%|██████████| 17/17 [00:00<00:00, 280.42it/s]\n",
      "100%|██████████| 17/17 [00:00<00:00, 253.34it/s]\n",
      "100%|██████████| 17/17 [00:00<00:00, 395.68it/s]\n",
      "100%|██████████| 17/17 [00:00<00:00, 485.72it/s]\n",
      "100%|██████████| 17/17 [00:00<00:00, 480.85it/s]\n",
      "100%|██████████| 17/17 [00:00<00:00, 500.00it/s]\n",
      "100%|██████████| 17/17 [00:00<00:00, 485.71it/s]\n",
      "100%|██████████| 17/17 [00:00<00:00, 485.71it/s]\n",
      "100%|██████████| 17/17 [00:00<00:00, 499.99it/s]\n",
      "100%|██████████| 17/17 [00:00<00:00, 515.16it/s]\n",
      "100%|██████████| 17/17 [00:00<00:00, 500.37it/s]\n",
      "100%|██████████| 17/17 [00:00<00:00, 708.33it/s]\n"
     ]
    },
    {
     "name": "stdout",
     "output_type": "stream",
     "text": [
      "Epoch [2961/6000]: Train loss: 1.7328, Valid loss: 1.5691\n"
     ]
    },
    {
     "name": "stderr",
     "output_type": "stream",
     "text": [
      "100%|██████████| 17/17 [00:00<00:00, 361.70it/s]\n",
      "100%|██████████| 17/17 [00:00<00:00, 515.14it/s]\n",
      "100%|██████████| 17/17 [00:00<00:00, 679.98it/s]\n",
      "100%|██████████| 17/17 [00:00<00:00, 361.70it/s]\n",
      "100%|██████████| 17/17 [00:00<00:00, 472.21it/s]\n",
      "100%|██████████| 17/17 [00:00<00:00, 472.22it/s]\n",
      "100%|██████████| 17/17 [00:00<00:00, 485.71it/s]\n",
      "100%|██████████| 17/17 [00:00<00:00, 500.00it/s]\n",
      "100%|██████████| 17/17 [00:00<00:00, 500.00it/s]\n",
      "100%|██████████| 17/17 [00:00<00:00, 653.74it/s]\n",
      "100%|██████████| 17/17 [00:00<00:00, 369.57it/s]\n",
      "100%|██████████| 17/17 [00:00<00:00, 489.66it/s]\n",
      "100%|██████████| 17/17 [00:00<00:00, 248.70it/s]\n"
     ]
    },
    {
     "name": "stdout",
     "output_type": "stream",
     "text": [
      "Saving model with loss 1.426...\n"
     ]
    },
    {
     "name": "stderr",
     "output_type": "stream",
     "text": [
      "100%|██████████| 17/17 [00:00<00:00, 629.64it/s]\n",
      "100%|██████████| 17/17 [00:00<00:00, 269.65it/s]\n",
      "100%|██████████| 17/17 [00:00<00:00, 462.89it/s]\n",
      "100%|██████████| 17/17 [00:00<00:00, 302.76it/s]\n",
      "100%|██████████| 17/17 [00:00<00:00, 392.58it/s]\n",
      "100%|██████████| 17/17 [00:00<00:00, 525.08it/s]\n",
      "100%|██████████| 17/17 [00:00<00:00, 411.76it/s]\n"
     ]
    },
    {
     "name": "stdout",
     "output_type": "stream",
     "text": [
      "Epoch [2981/6000]: Train loss: 1.7242, Valid loss: 1.5228\n"
     ]
    },
    {
     "name": "stderr",
     "output_type": "stream",
     "text": [
      "100%|██████████| 17/17 [00:00<00:00, 238.25it/s]\n",
      "100%|██████████| 17/17 [00:00<00:00, 291.32it/s]\n",
      "100%|██████████| 17/17 [00:00<00:00, 336.92it/s]\n",
      "100%|██████████| 17/17 [00:00<00:00, 323.16it/s]\n",
      "100%|██████████| 17/17 [00:00<00:00, 384.53it/s]\n",
      "100%|██████████| 17/17 [00:00<00:00, 479.17it/s]\n",
      "100%|██████████| 17/17 [00:00<00:00, 387.92it/s]\n",
      "100%|██████████| 17/17 [00:00<00:00, 460.90it/s]\n",
      "100%|██████████| 17/17 [00:00<00:00, 444.75it/s]\n",
      "100%|██████████| 17/17 [00:00<00:00, 341.60it/s]\n",
      "100%|██████████| 17/17 [00:00<00:00, 607.16it/s]\n",
      "100%|██████████| 17/17 [00:00<00:00, 629.63it/s]\n",
      "100%|██████████| 17/17 [00:00<00:00, 591.54it/s]\n",
      "100%|██████████| 17/17 [00:00<00:00, 447.38it/s]\n",
      "100%|██████████| 17/17 [00:00<00:00, 447.37it/s]\n",
      "100%|██████████| 17/17 [00:00<00:00, 511.67it/s]\n",
      "100%|██████████| 17/17 [00:00<00:00, 459.46it/s]\n",
      "100%|██████████| 17/17 [00:00<00:00, 492.59it/s]\n",
      "100%|██████████| 17/17 [00:00<00:00, 583.26it/s]\n",
      "100%|██████████| 17/17 [00:00<00:00, 680.01it/s]\n"
     ]
    },
    {
     "name": "stdout",
     "output_type": "stream",
     "text": [
      "Epoch [3001/6000]: Train loss: 1.7197, Valid loss: 1.5206\n"
     ]
    },
    {
     "name": "stderr",
     "output_type": "stream",
     "text": [
      "100%|██████████| 17/17 [00:00<00:00, 653.88it/s]\n",
      "100%|██████████| 17/17 [00:00<00:00, 708.28it/s]\n",
      "100%|██████████| 17/17 [00:00<00:00, 707.93it/s]\n",
      "100%|██████████| 17/17 [00:00<00:00, 586.21it/s]\n",
      "100%|██████████| 17/17 [00:00<00:00, 653.86it/s]\n",
      "100%|██████████| 17/17 [00:00<00:00, 724.85it/s]\n",
      "100%|██████████| 17/17 [00:00<00:00, 709.99it/s]\n",
      "100%|██████████| 17/17 [00:00<00:00, 708.32it/s]\n",
      "100%|██████████| 17/17 [00:00<00:00, 679.99it/s]\n",
      "100%|██████████| 17/17 [00:00<00:00, 629.54it/s]\n",
      "100%|██████████| 17/17 [00:00<00:00, 712.40it/s]\n",
      "100%|██████████| 17/17 [00:00<00:00, 708.31it/s]\n",
      "100%|██████████| 17/17 [00:00<00:00, 679.05it/s]\n",
      "100%|██████████| 17/17 [00:00<00:00, 739.14it/s]\n",
      "100%|██████████| 17/17 [00:00<00:00, 708.33it/s]\n",
      "100%|██████████| 17/17 [00:00<00:00, 739.12it/s]\n"
     ]
    },
    {
     "name": "stdout",
     "output_type": "stream",
     "text": [
      "Saving model with loss 1.424...\n"
     ]
    },
    {
     "name": "stderr",
     "output_type": "stream",
     "text": [
      "100%|██████████| 17/17 [00:00<00:00, 708.34it/s]\n",
      "100%|██████████| 17/17 [00:00<00:00, 708.36it/s]\n",
      "100%|██████████| 17/17 [00:00<00:00, 739.12it/s]\n",
      "100%|██████████| 17/17 [00:00<00:00, 753.16it/s]\n"
     ]
    },
    {
     "name": "stdout",
     "output_type": "stream",
     "text": [
      "Epoch [3021/6000]: Train loss: 1.7153, Valid loss: 1.5705\n"
     ]
    },
    {
     "name": "stderr",
     "output_type": "stream",
     "text": [
      "100%|██████████| 17/17 [00:00<00:00, 548.38it/s]\n"
     ]
    },
    {
     "name": "stdout",
     "output_type": "stream",
     "text": [
      "Saving model with loss 1.412...\n"
     ]
    },
    {
     "name": "stderr",
     "output_type": "stream",
     "text": [
      "100%|██████████| 17/17 [00:00<00:00, 708.32it/s]\n",
      "100%|██████████| 17/17 [00:00<00:00, 772.75it/s]\n",
      "100%|██████████| 17/17 [00:00<00:00, 708.34it/s]\n",
      "100%|██████████| 17/17 [00:00<00:00, 679.98it/s]\n",
      "100%|██████████| 17/17 [00:00<00:00, 718.34it/s]\n",
      "100%|██████████| 17/17 [00:00<00:00, 739.13it/s]\n",
      "100%|██████████| 17/17 [00:00<00:00, 708.34it/s]\n",
      "100%|██████████| 17/17 [00:00<00:00, 708.33it/s]\n",
      "100%|██████████| 17/17 [00:00<00:00, 738.95it/s]\n",
      "100%|██████████| 17/17 [00:00<00:00, 739.14it/s]\n",
      "100%|██████████| 17/17 [00:00<00:00, 708.33it/s]\n",
      "100%|██████████| 17/17 [00:00<00:00, 708.34it/s]\n",
      "100%|██████████| 17/17 [00:00<00:00, 708.34it/s]\n",
      "100%|██████████| 17/17 [00:00<00:00, 708.35it/s]\n",
      "100%|██████████| 17/17 [00:00<00:00, 739.10it/s]\n",
      "100%|██████████| 17/17 [00:00<00:00, 772.72it/s]\n",
      "100%|██████████| 17/17 [00:00<00:00, 739.12it/s]\n",
      "100%|██████████| 17/17 [00:00<00:00, 708.34it/s]\n",
      "100%|██████████| 17/17 [00:00<00:00, 708.34it/s]\n"
     ]
    },
    {
     "name": "stdout",
     "output_type": "stream",
     "text": [
      "Epoch [3041/6000]: Train loss: 1.7058, Valid loss: 1.5499\n"
     ]
    },
    {
     "name": "stderr",
     "output_type": "stream",
     "text": [
      "100%|██████████| 17/17 [00:00<00:00, 739.13it/s]\n",
      "100%|██████████| 17/17 [00:00<00:00, 708.34it/s]\n",
      "100%|██████████| 17/17 [00:00<00:00, 772.72it/s]\n",
      "100%|██████████| 17/17 [00:00<00:00, 739.14it/s]\n",
      "100%|██████████| 17/17 [00:00<00:00, 739.15it/s]\n",
      "100%|██████████| 17/17 [00:00<00:00, 708.34it/s]\n",
      "100%|██████████| 17/17 [00:00<00:00, 739.12it/s]\n",
      "100%|██████████| 17/17 [00:00<00:00, 708.34it/s]\n",
      "100%|██████████| 17/17 [00:00<00:00, 772.74it/s]\n",
      "100%|██████████| 17/17 [00:00<00:00, 653.85it/s]\n",
      "100%|██████████| 17/17 [00:00<00:00, 680.02it/s]\n",
      "100%|██████████| 17/17 [00:00<00:00, 708.32it/s]\n",
      "100%|██████████| 17/17 [00:00<00:00, 515.14it/s]\n",
      "100%|██████████| 17/17 [00:00<00:00, 404.76it/s]\n",
      "100%|██████████| 17/17 [00:00<00:00, 515.16it/s]\n",
      "100%|██████████| 17/17 [00:00<00:00, 507.85it/s]\n",
      "100%|██████████| 17/17 [00:00<00:00, 499.99it/s]\n",
      "100%|██████████| 17/17 [00:00<00:00, 537.94it/s]\n",
      "100%|██████████| 17/17 [00:00<00:00, 679.98it/s]\n",
      "100%|██████████| 17/17 [00:00<00:00, 676.20it/s]\n"
     ]
    },
    {
     "name": "stdout",
     "output_type": "stream",
     "text": [
      "Epoch [3061/6000]: Train loss: 1.6999, Valid loss: 1.4861\n"
     ]
    },
    {
     "name": "stderr",
     "output_type": "stream",
     "text": [
      "100%|██████████| 17/17 [00:00<00:00, 680.02it/s]\n",
      "100%|██████████| 17/17 [00:00<00:00, 708.33it/s]\n",
      "100%|██████████| 17/17 [00:00<00:00, 653.85it/s]\n",
      "100%|██████████| 17/17 [00:00<00:00, 629.61it/s]\n",
      "100%|██████████| 17/17 [00:00<00:00, 472.23it/s]\n",
      "100%|██████████| 17/17 [00:00<00:00, 708.34it/s]\n",
      "100%|██████████| 17/17 [00:00<00:00, 441.45it/s]\n",
      "100%|██████████| 17/17 [00:00<00:00, 645.66it/s]\n",
      "100%|██████████| 17/17 [00:00<00:00, 660.81it/s]\n",
      "100%|██████████| 17/17 [00:00<00:00, 679.99it/s]\n",
      "100%|██████████| 17/17 [00:00<00:00, 679.99it/s]\n",
      "100%|██████████| 17/17 [00:00<00:00, 636.75it/s]\n",
      "100%|██████████| 17/17 [00:00<00:00, 617.99it/s]\n",
      "100%|██████████| 17/17 [00:00<00:00, 630.67it/s]\n",
      "100%|██████████| 17/17 [00:00<00:00, 653.85it/s]\n",
      "100%|██████████| 17/17 [00:00<00:00, 681.69it/s]\n",
      "100%|██████████| 17/17 [00:00<00:00, 708.34it/s]\n",
      "100%|██████████| 17/17 [00:00<00:00, 679.99it/s]\n",
      "100%|██████████| 17/17 [00:00<00:00, 680.00it/s]\n",
      "100%|██████████| 17/17 [00:00<00:00, 708.34it/s]\n"
     ]
    },
    {
     "name": "stdout",
     "output_type": "stream",
     "text": [
      "Epoch [3081/6000]: Train loss: 1.6983, Valid loss: 1.4821\n"
     ]
    },
    {
     "name": "stderr",
     "output_type": "stream",
     "text": [
      "100%|██████████| 17/17 [00:00<00:00, 708.35it/s]\n",
      "100%|██████████| 17/17 [00:00<00:00, 708.34it/s]\n",
      "100%|██████████| 17/17 [00:00<00:00, 700.60it/s]\n",
      "100%|██████████| 17/17 [00:00<00:00, 548.40it/s]\n",
      "100%|██████████| 17/17 [00:00<00:00, 629.62it/s]\n",
      "100%|██████████| 17/17 [00:00<00:00, 687.13it/s]\n",
      "100%|██████████| 17/17 [00:00<00:00, 708.33it/s]\n"
     ]
    },
    {
     "name": "stdout",
     "output_type": "stream",
     "text": [
      "Saving model with loss 1.407...\n"
     ]
    },
    {
     "name": "stderr",
     "output_type": "stream",
     "text": [
      "100%|██████████| 17/17 [00:00<00:00, 685.88it/s]\n",
      "100%|██████████| 17/17 [00:00<00:00, 650.29it/s]\n",
      "100%|██████████| 17/17 [00:00<00:00, 739.15it/s]\n",
      "100%|██████████| 17/17 [00:00<00:00, 708.34it/s]\n",
      "100%|██████████| 17/17 [00:00<00:00, 739.11it/s]\n",
      "100%|██████████| 17/17 [00:00<00:00, 708.33it/s]\n",
      "100%|██████████| 17/17 [00:00<00:00, 708.35it/s]\n",
      "100%|██████████| 17/17 [00:00<00:00, 708.33it/s]\n",
      "100%|██████████| 17/17 [00:00<00:00, 739.12it/s]\n"
     ]
    },
    {
     "name": "stdout",
     "output_type": "stream",
     "text": [
      "Saving model with loss 1.351...\n"
     ]
    },
    {
     "name": "stderr",
     "output_type": "stream",
     "text": [
      "100%|██████████| 17/17 [00:00<00:00, 739.11it/s]\n",
      "100%|██████████| 17/17 [00:00<00:00, 739.12it/s]\n",
      "100%|██████████| 17/17 [00:00<00:00, 708.34it/s]\n",
      "100%|██████████| 17/17 [00:00<00:00, 681.10it/s]\n"
     ]
    },
    {
     "name": "stdout",
     "output_type": "stream",
     "text": [
      "Epoch [3101/6000]: Train loss: 1.6923, Valid loss: 1.4862\n"
     ]
    },
    {
     "name": "stderr",
     "output_type": "stream",
     "text": [
      "100%|██████████| 17/17 [00:00<00:00, 708.35it/s]\n",
      "100%|██████████| 17/17 [00:00<00:00, 648.56it/s]\n",
      "100%|██████████| 17/17 [00:00<00:00, 653.84it/s]\n",
      "100%|██████████| 17/17 [00:00<00:00, 571.83it/s]\n",
      "100%|██████████| 17/17 [00:00<00:00, 515.15it/s]\n",
      "100%|██████████| 17/17 [00:00<00:00, 515.16it/s]\n",
      "100%|██████████| 17/17 [00:00<00:00, 584.33it/s]\n",
      "100%|██████████| 17/17 [00:00<00:00, 587.22it/s]\n",
      "100%|██████████| 17/17 [00:00<00:00, 531.24it/s]\n",
      "100%|██████████| 17/17 [00:00<00:00, 566.66it/s]\n",
      "100%|██████████| 17/17 [00:00<00:00, 530.84it/s]\n",
      "100%|██████████| 17/17 [00:00<00:00, 586.21it/s]\n",
      "100%|██████████| 17/17 [00:00<00:00, 680.00it/s]\n",
      "100%|██████████| 17/17 [00:00<00:00, 607.09it/s]\n",
      "100%|██████████| 17/17 [00:00<00:00, 653.86it/s]\n",
      "100%|██████████| 17/17 [00:00<00:00, 653.84it/s]\n",
      "100%|██████████| 17/17 [00:00<00:00, 653.79it/s]\n",
      "100%|██████████| 17/17 [00:00<00:00, 708.36it/s]\n",
      "100%|██████████| 17/17 [00:00<00:00, 739.13it/s]\n",
      "100%|██████████| 17/17 [00:00<00:00, 739.16it/s]\n"
     ]
    },
    {
     "name": "stdout",
     "output_type": "stream",
     "text": [
      "Epoch [3121/6000]: Train loss: 1.6833, Valid loss: 1.6034\n"
     ]
    },
    {
     "name": "stderr",
     "output_type": "stream",
     "text": [
      "100%|██████████| 17/17 [00:00<00:00, 739.15it/s]\n",
      "100%|██████████| 17/17 [00:00<00:00, 772.73it/s]\n",
      "100%|██████████| 17/17 [00:00<00:00, 772.75it/s]\n",
      "100%|██████████| 17/17 [00:00<00:00, 809.44it/s]\n",
      "100%|██████████| 17/17 [00:00<00:00, 739.12it/s]\n",
      "100%|██████████| 17/17 [00:00<00:00, 775.41it/s]\n",
      "100%|██████████| 17/17 [00:00<00:00, 772.72it/s]\n",
      "100%|██████████| 17/17 [00:00<00:00, 766.95it/s]\n",
      "100%|██████████| 17/17 [00:00<00:00, 772.72it/s]\n",
      "100%|██████████| 17/17 [00:00<00:00, 772.75it/s]\n",
      "100%|██████████| 17/17 [00:00<00:00, 739.15it/s]\n",
      "100%|██████████| 17/17 [00:00<00:00, 772.88it/s]\n",
      "100%|██████████| 17/17 [00:00<00:00, 653.85it/s]\n",
      "100%|██████████| 17/17 [00:00<00:00, 680.00it/s]\n",
      "100%|██████████| 17/17 [00:00<00:00, 680.04it/s]\n",
      "100%|██████████| 17/17 [00:00<00:00, 708.34it/s]\n",
      "100%|██████████| 17/17 [00:00<00:00, 739.16it/s]\n",
      "100%|██████████| 17/17 [00:00<00:00, 708.68it/s]\n",
      "100%|██████████| 17/17 [00:00<00:00, 772.76it/s]\n",
      "100%|██████████| 17/17 [00:00<00:00, 739.11it/s]\n"
     ]
    },
    {
     "name": "stdout",
     "output_type": "stream",
     "text": [
      "Epoch [3141/6000]: Train loss: 1.6786, Valid loss: 1.4852\n"
     ]
    },
    {
     "name": "stderr",
     "output_type": "stream",
     "text": [
      "100%|██████████| 17/17 [00:00<00:00, 739.13it/s]\n",
      "100%|██████████| 17/17 [00:00<00:00, 772.72it/s]\n",
      "100%|██████████| 17/17 [00:00<00:00, 772.73it/s]\n",
      "100%|██████████| 17/17 [00:00<00:00, 739.11it/s]\n",
      "100%|██████████| 17/17 [00:00<00:00, 772.73it/s]\n",
      "100%|██████████| 17/17 [00:00<00:00, 739.12it/s]\n",
      "100%|██████████| 17/17 [00:00<00:00, 739.12it/s]\n",
      "100%|██████████| 17/17 [00:00<00:00, 739.11it/s]\n",
      "100%|██████████| 17/17 [00:00<00:00, 739.17it/s]\n",
      "100%|██████████| 17/17 [00:00<00:00, 739.15it/s]\n",
      "100%|██████████| 17/17 [00:00<00:00, 708.32it/s]\n",
      "100%|██████████| 17/17 [00:00<00:00, 772.72it/s]\n",
      "100%|██████████| 17/17 [00:00<00:00, 739.13it/s]\n",
      "100%|██████████| 17/17 [00:00<00:00, 772.75it/s]\n",
      "100%|██████████| 17/17 [00:00<00:00, 739.13it/s]\n",
      "100%|██████████| 17/17 [00:00<00:00, 472.22it/s]\n",
      "100%|██████████| 17/17 [00:00<00:00, 653.83it/s]\n",
      "100%|██████████| 17/17 [00:00<00:00, 653.85it/s]\n",
      "100%|██████████| 17/17 [00:00<00:00, 706.17it/s]\n",
      "100%|██████████| 17/17 [00:00<00:00, 711.79it/s]\n"
     ]
    },
    {
     "name": "stdout",
     "output_type": "stream",
     "text": [
      "Epoch [3161/6000]: Train loss: 1.6745, Valid loss: 1.5233\n"
     ]
    },
    {
     "name": "stderr",
     "output_type": "stream",
     "text": [
      "100%|██████████| 17/17 [00:00<00:00, 739.15it/s]\n",
      "100%|██████████| 17/17 [00:00<00:00, 653.84it/s]\n",
      "100%|██████████| 17/17 [00:00<00:00, 680.00it/s]\n",
      "100%|██████████| 17/17 [00:00<00:00, 708.33it/s]\n",
      "100%|██████████| 17/17 [00:00<00:00, 723.19it/s]\n",
      "100%|██████████| 17/17 [00:00<00:00, 708.34it/s]\n",
      "100%|██████████| 17/17 [00:00<00:00, 680.00it/s]\n",
      "100%|██████████| 17/17 [00:00<00:00, 739.11it/s]\n",
      "100%|██████████| 17/17 [00:00<00:00, 708.34it/s]\n",
      "100%|██████████| 17/17 [00:00<00:00, 739.14it/s]\n",
      "100%|██████████| 17/17 [00:00<00:00, 680.00it/s]\n",
      "100%|██████████| 17/17 [00:00<00:00, 734.12it/s]\n",
      "100%|██████████| 17/17 [00:00<00:00, 679.98it/s]\n",
      "100%|██████████| 17/17 [00:00<00:00, 708.32it/s]\n",
      "100%|██████████| 17/17 [00:00<00:00, 739.13it/s]\n",
      "100%|██████████| 17/17 [00:00<00:00, 708.34it/s]\n",
      "100%|██████████| 17/17 [00:00<00:00, 739.15it/s]\n",
      "100%|██████████| 17/17 [00:00<00:00, 679.99it/s]\n",
      "100%|██████████| 17/17 [00:00<00:00, 680.00it/s]\n",
      "100%|██████████| 17/17 [00:00<00:00, 708.33it/s]\n"
     ]
    },
    {
     "name": "stdout",
     "output_type": "stream",
     "text": [
      "Epoch [3181/6000]: Train loss: 1.6671, Valid loss: 1.3206\n",
      "Saving model with loss 1.321...\n"
     ]
    },
    {
     "name": "stderr",
     "output_type": "stream",
     "text": [
      "100%|██████████| 17/17 [00:00<00:00, 665.23it/s]\n",
      "100%|██████████| 17/17 [00:00<00:00, 708.34it/s]\n",
      "100%|██████████| 17/17 [00:00<00:00, 739.12it/s]\n",
      "100%|██████████| 17/17 [00:00<00:00, 708.34it/s]\n",
      "100%|██████████| 17/17 [00:00<00:00, 708.34it/s]\n",
      "100%|██████████| 17/17 [00:00<00:00, 708.36it/s]\n",
      "100%|██████████| 17/17 [00:00<00:00, 708.32it/s]\n",
      "100%|██████████| 17/17 [00:00<00:00, 708.33it/s]\n",
      "100%|██████████| 17/17 [00:00<00:00, 739.12it/s]\n",
      "100%|██████████| 17/17 [00:00<00:00, 708.34it/s]\n",
      "100%|██████████| 17/17 [00:00<00:00, 708.34it/s]\n",
      "100%|██████████| 17/17 [00:00<00:00, 680.00it/s]\n",
      "100%|██████████| 17/17 [00:00<00:00, 708.34it/s]\n",
      "100%|██████████| 17/17 [00:00<00:00, 739.14it/s]\n",
      "100%|██████████| 17/17 [00:00<00:00, 739.12it/s]\n",
      "100%|██████████| 17/17 [00:00<00:00, 739.13it/s]\n",
      "100%|██████████| 17/17 [00:00<00:00, 739.14it/s]\n",
      "100%|██████████| 17/17 [00:00<00:00, 739.13it/s]\n",
      "100%|██████████| 17/17 [00:00<00:00, 708.34it/s]\n",
      "100%|██████████| 17/17 [00:00<00:00, 708.33it/s]\n"
     ]
    },
    {
     "name": "stdout",
     "output_type": "stream",
     "text": [
      "Epoch [3201/6000]: Train loss: 1.6620, Valid loss: 1.4697\n"
     ]
    },
    {
     "name": "stderr",
     "output_type": "stream",
     "text": [
      "100%|██████████| 17/17 [00:00<00:00, 739.14it/s]\n",
      "100%|██████████| 17/17 [00:00<00:00, 708.34it/s]\n",
      "100%|██████████| 17/17 [00:00<00:00, 739.13it/s]\n",
      "100%|██████████| 17/17 [00:00<00:00, 708.34it/s]\n",
      "100%|██████████| 17/17 [00:00<00:00, 772.72it/s]\n",
      "100%|██████████| 17/17 [00:00<00:00, 739.13it/s]\n",
      "100%|██████████| 17/17 [00:00<00:00, 739.13it/s]\n",
      "100%|██████████| 17/17 [00:00<00:00, 739.12it/s]\n",
      "100%|██████████| 17/17 [00:00<00:00, 739.13it/s]\n",
      "100%|██████████| 17/17 [00:00<00:00, 739.13it/s]\n",
      "100%|██████████| 17/17 [00:00<00:00, 739.13it/s]\n",
      "100%|██████████| 17/17 [00:00<00:00, 739.14it/s]\n",
      "100%|██████████| 17/17 [00:00<00:00, 708.34it/s]\n",
      "100%|██████████| 17/17 [00:00<00:00, 708.33it/s]\n",
      "100%|██████████| 17/17 [00:00<00:00, 708.34it/s]\n",
      "100%|██████████| 17/17 [00:00<00:00, 739.12it/s]\n",
      "100%|██████████| 17/17 [00:00<00:00, 708.34it/s]\n",
      "100%|██████████| 17/17 [00:00<00:00, 739.13it/s]\n",
      "100%|██████████| 17/17 [00:00<00:00, 739.15it/s]\n",
      "100%|██████████| 17/17 [00:00<00:00, 708.34it/s]\n"
     ]
    },
    {
     "name": "stdout",
     "output_type": "stream",
     "text": [
      "Epoch [3221/6000]: Train loss: 1.6561, Valid loss: 1.4427\n"
     ]
    },
    {
     "name": "stderr",
     "output_type": "stream",
     "text": [
      "100%|██████████| 17/17 [00:00<00:00, 703.83it/s]\n",
      "100%|██████████| 17/17 [00:00<00:00, 739.12it/s]\n",
      "100%|██████████| 17/17 [00:00<00:00, 739.14it/s]\n",
      "100%|██████████| 17/17 [00:00<00:00, 739.14it/s]\n",
      "100%|██████████| 17/17 [00:00<00:00, 708.34it/s]\n",
      "100%|██████████| 17/17 [00:00<00:00, 708.34it/s]\n",
      "100%|██████████| 17/17 [00:00<00:00, 708.33it/s]\n",
      "100%|██████████| 17/17 [00:00<00:00, 714.58it/s]\n",
      "100%|██████████| 17/17 [00:00<00:00, 680.00it/s]\n",
      "100%|██████████| 17/17 [00:00<00:00, 546.93it/s]\n",
      "100%|██████████| 17/17 [00:00<00:00, 566.68it/s]\n",
      "100%|██████████| 17/17 [00:00<00:00, 531.25it/s]\n",
      "100%|██████████| 17/17 [00:00<00:00, 499.98it/s]\n",
      "100%|██████████| 17/17 [00:00<00:00, 531.25it/s]\n",
      "100%|██████████| 17/17 [00:00<00:00, 531.24it/s]\n",
      "100%|██████████| 17/17 [00:00<00:00, 566.66it/s]\n",
      "100%|██████████| 17/17 [00:00<00:00, 531.25it/s]\n",
      "100%|██████████| 17/17 [00:00<00:00, 566.66it/s]\n",
      "100%|██████████| 17/17 [00:00<00:00, 548.39it/s]\n",
      "100%|██████████| 17/17 [00:00<00:00, 582.97it/s]\n"
     ]
    },
    {
     "name": "stdout",
     "output_type": "stream",
     "text": [
      "Epoch [3241/6000]: Train loss: 1.6498, Valid loss: 1.5861\n"
     ]
    },
    {
     "name": "stderr",
     "output_type": "stream",
     "text": [
      "100%|██████████| 17/17 [00:00<00:00, 607.15it/s]\n",
      "100%|██████████| 17/17 [00:00<00:00, 629.61it/s]\n",
      "100%|██████████| 17/17 [00:00<00:00, 708.35it/s]\n",
      "100%|██████████| 17/17 [00:00<00:00, 679.98it/s]\n",
      "100%|██████████| 17/17 [00:00<00:00, 680.00it/s]\n",
      "100%|██████████| 17/17 [00:00<00:00, 629.63it/s]\n",
      "100%|██████████| 17/17 [00:00<00:00, 566.66it/s]\n",
      "100%|██████████| 17/17 [00:00<00:00, 531.24it/s]\n",
      "100%|██████████| 17/17 [00:00<00:00, 548.38it/s]\n",
      "100%|██████████| 17/17 [00:00<00:00, 548.39it/s]\n",
      "100%|██████████| 17/17 [00:00<00:00, 566.67it/s]\n",
      "100%|██████████| 17/17 [00:00<00:00, 607.18it/s]\n",
      "100%|██████████| 17/17 [00:00<00:00, 629.60it/s]\n",
      "100%|██████████| 17/17 [00:00<00:00, 679.98it/s]\n",
      "100%|██████████| 17/17 [00:00<00:00, 708.34it/s]\n",
      "100%|██████████| 17/17 [00:00<00:00, 629.63it/s]\n",
      "100%|██████████| 17/17 [00:00<00:00, 708.33it/s]\n",
      "100%|██████████| 17/17 [00:00<00:00, 667.01it/s]\n",
      "100%|██████████| 17/17 [00:00<00:00, 708.34it/s]\n",
      "100%|██████████| 17/17 [00:00<00:00, 629.62it/s]\n"
     ]
    },
    {
     "name": "stdout",
     "output_type": "stream",
     "text": [
      "Epoch [3261/6000]: Train loss: 1.6448, Valid loss: 1.4575\n"
     ]
    },
    {
     "name": "stderr",
     "output_type": "stream",
     "text": [
      "100%|██████████| 17/17 [00:00<00:00, 459.47it/s]\n",
      "100%|██████████| 17/17 [00:00<00:00, 653.86it/s]\n",
      "100%|██████████| 17/17 [00:00<00:00, 435.88it/s]\n",
      "100%|██████████| 17/17 [00:00<00:00, 183.27it/s]\n",
      "100%|██████████| 17/17 [00:00<00:00, 530.31it/s]\n",
      "100%|██████████| 17/17 [00:00<00:00, 548.39it/s]\n",
      "100%|██████████| 17/17 [00:00<00:00, 459.47it/s]\n",
      "100%|██████████| 17/17 [00:00<00:00, 566.67it/s]\n",
      "100%|██████████| 17/17 [00:00<00:00, 515.14it/s]\n",
      "100%|██████████| 17/17 [00:00<00:00, 531.26it/s]\n",
      "100%|██████████| 17/17 [00:00<00:00, 531.25it/s]\n",
      "100%|██████████| 17/17 [00:00<00:00, 653.85it/s]\n",
      "100%|██████████| 17/17 [00:00<00:00, 293.11it/s]\n",
      "100%|██████████| 17/17 [00:00<00:00, 333.33it/s]\n",
      "100%|██████████| 17/17 [00:00<00:00, 607.16it/s]\n",
      "100%|██████████| 17/17 [00:00<00:00, 607.16it/s]\n",
      "100%|██████████| 17/17 [00:00<00:00, 680.00it/s]\n",
      "100%|██████████| 17/17 [00:00<00:00, 680.02it/s]\n",
      "100%|██████████| 17/17 [00:00<00:00, 679.98it/s]\n",
      "100%|██████████| 17/17 [00:00<00:00, 653.84it/s]\n"
     ]
    },
    {
     "name": "stdout",
     "output_type": "stream",
     "text": [
      "Epoch [3281/6000]: Train loss: 1.6399, Valid loss: 1.5628\n"
     ]
    },
    {
     "name": "stderr",
     "output_type": "stream",
     "text": [
      "100%|██████████| 17/17 [00:00<00:00, 653.86it/s]\n",
      "100%|██████████| 17/17 [00:00<00:00, 680.02it/s]\n",
      "100%|██████████| 17/17 [00:00<00:00, 653.84it/s]\n",
      "100%|██████████| 17/17 [00:00<00:00, 680.01it/s]\n",
      "100%|██████████| 17/17 [00:00<00:00, 708.34it/s]\n",
      "100%|██████████| 17/17 [00:00<00:00, 739.13it/s]\n",
      "100%|██████████| 17/17 [00:00<00:00, 772.74it/s]\n",
      "100%|██████████| 17/17 [00:00<00:00, 772.72it/s]\n",
      "100%|██████████| 17/17 [00:00<00:00, 708.33it/s]\n",
      "100%|██████████| 17/17 [00:00<00:00, 772.71it/s]\n",
      "100%|██████████| 17/17 [00:00<00:00, 772.73it/s]\n",
      "100%|██████████| 17/17 [00:00<00:00, 739.13it/s]\n",
      "100%|██████████| 17/17 [00:00<00:00, 809.53it/s]\n",
      "100%|██████████| 17/17 [00:00<00:00, 739.12it/s]\n",
      "100%|██████████| 17/17 [00:00<00:00, 739.13it/s]\n",
      "100%|██████████| 17/17 [00:00<00:00, 739.13it/s]\n",
      "100%|██████████| 17/17 [00:00<00:00, 772.72it/s]\n",
      "100%|██████████| 17/17 [00:00<00:00, 739.11it/s]\n",
      "100%|██████████| 17/17 [00:00<00:00, 739.13it/s]\n",
      "100%|██████████| 17/17 [00:00<00:00, 679.99it/s]\n"
     ]
    },
    {
     "name": "stdout",
     "output_type": "stream",
     "text": [
      "Epoch [3301/6000]: Train loss: 1.6352, Valid loss: 1.5308\n"
     ]
    },
    {
     "name": "stderr",
     "output_type": "stream",
     "text": [
      "100%|██████████| 17/17 [00:00<00:00, 708.33it/s]\n",
      "100%|██████████| 17/17 [00:00<00:00, 739.13it/s]\n",
      "100%|██████████| 17/17 [00:00<00:00, 739.13it/s]\n",
      "100%|██████████| 17/17 [00:00<00:00, 739.13it/s]\n",
      "100%|██████████| 17/17 [00:00<00:00, 679.98it/s]\n",
      "100%|██████████| 17/17 [00:00<00:00, 708.32it/s]\n",
      "100%|██████████| 17/17 [00:00<00:00, 680.00it/s]\n",
      "100%|██████████| 17/17 [00:00<00:00, 653.66it/s]\n",
      "100%|██████████| 17/17 [00:00<00:00, 680.02it/s]\n",
      "100%|██████████| 17/17 [00:00<00:00, 680.00it/s]\n",
      "100%|██████████| 17/17 [00:00<00:00, 425.00it/s]\n",
      "100%|██████████| 17/17 [00:00<00:00, 472.22it/s]\n",
      "100%|██████████| 17/17 [00:00<00:00, 607.15it/s]\n",
      "100%|██████████| 17/17 [00:00<00:00, 315.84it/s]\n",
      "100%|██████████| 17/17 [00:00<00:00, 308.21it/s]\n",
      "100%|██████████| 17/17 [00:00<00:00, 322.15it/s]\n",
      "100%|██████████| 17/17 [00:00<00:00, 313.96it/s]\n",
      "100%|██████████| 17/17 [00:00<00:00, 312.98it/s]\n",
      "100%|██████████| 17/17 [00:00<00:00, 409.05it/s]\n",
      "100%|██████████| 17/17 [00:00<00:00, 435.91it/s]\n"
     ]
    },
    {
     "name": "stdout",
     "output_type": "stream",
     "text": [
      "Epoch [3321/6000]: Train loss: 1.6298, Valid loss: 1.4489\n"
     ]
    },
    {
     "name": "stderr",
     "output_type": "stream",
     "text": [
      "100%|██████████| 17/17 [00:00<00:00, 447.36it/s]\n",
      "100%|██████████| 17/17 [00:00<00:00, 459.47it/s]\n",
      "100%|██████████| 17/17 [00:00<00:00, 441.02it/s]\n",
      "100%|██████████| 17/17 [00:00<00:00, 414.64it/s]\n",
      "100%|██████████| 17/17 [00:00<00:00, 410.89it/s]\n",
      "100%|██████████| 17/17 [00:00<00:00, 404.77it/s]\n",
      "100%|██████████| 17/17 [00:00<00:00, 395.34it/s]\n",
      "100%|██████████| 17/17 [00:00<00:00, 459.46it/s]\n",
      "100%|██████████| 17/17 [00:00<00:00, 449.37it/s]\n",
      "100%|██████████| 17/17 [00:00<00:00, 450.68it/s]\n",
      "100%|██████████| 17/17 [00:00<00:00, 435.89it/s]\n",
      "100%|██████████| 17/17 [00:00<00:00, 459.45it/s]\n",
      "100%|██████████| 17/17 [00:00<00:00, 406.46it/s]\n",
      "100%|██████████| 17/17 [00:00<00:00, 395.35it/s]\n",
      "100%|██████████| 17/17 [00:00<00:00, 395.35it/s]\n",
      "100%|██████████| 17/17 [00:00<00:00, 377.20it/s]\n",
      "100%|██████████| 17/17 [00:00<00:00, 307.26it/s]\n",
      "100%|██████████| 17/17 [00:00<00:00, 261.22it/s]\n",
      "100%|██████████| 17/17 [00:00<00:00, 322.26it/s]\n",
      "100%|██████████| 17/17 [00:00<00:00, 372.38it/s]\n"
     ]
    },
    {
     "name": "stdout",
     "output_type": "stream",
     "text": [
      "Epoch [3341/6000]: Train loss: 1.6252, Valid loss: 1.4456\n"
     ]
    },
    {
     "name": "stderr",
     "output_type": "stream",
     "text": [
      "100%|██████████| 17/17 [00:00<00:00, 380.21it/s]\n",
      "100%|██████████| 17/17 [00:00<00:00, 414.65it/s]\n",
      "100%|██████████| 17/17 [00:00<00:00, 447.38it/s]\n",
      "100%|██████████| 17/17 [00:00<00:00, 435.89it/s]\n",
      "100%|██████████| 17/17 [00:00<00:00, 404.76it/s]\n",
      "100%|██████████| 17/17 [00:00<00:00, 395.18it/s]\n",
      "100%|██████████| 17/17 [00:00<00:00, 515.15it/s]\n",
      "100%|██████████| 17/17 [00:00<00:00, 607.16it/s]\n",
      "100%|██████████| 17/17 [00:00<00:00, 653.86it/s]\n",
      "100%|██████████| 17/17 [00:00<00:00, 680.02it/s]\n",
      "100%|██████████| 17/17 [00:00<00:00, 653.85it/s]\n",
      "100%|██████████| 17/17 [00:00<00:00, 708.34it/s]\n",
      "100%|██████████| 17/17 [00:00<00:00, 680.00it/s]\n",
      "100%|██████████| 17/17 [00:00<00:00, 682.84it/s]\n",
      "100%|██████████| 17/17 [00:00<00:00, 680.01it/s]\n",
      "100%|██████████| 17/17 [00:00<00:00, 679.98it/s]\n",
      "100%|██████████| 17/17 [00:00<00:00, 679.99it/s]\n",
      "100%|██████████| 17/17 [00:00<00:00, 680.02it/s]\n",
      "100%|██████████| 17/17 [00:00<00:00, 691.75it/s]\n",
      "100%|██████████| 17/17 [00:00<00:00, 710.93it/s]\n"
     ]
    },
    {
     "name": "stdout",
     "output_type": "stream",
     "text": [
      "Epoch [3361/6000]: Train loss: 1.6214, Valid loss: 1.4734\n"
     ]
    },
    {
     "name": "stderr",
     "output_type": "stream",
     "text": [
      "100%|██████████| 17/17 [00:00<00:00, 653.85it/s]\n",
      "100%|██████████| 17/17 [00:00<00:00, 653.86it/s]\n",
      "100%|██████████| 17/17 [00:00<00:00, 607.14it/s]\n",
      "100%|██████████| 17/17 [00:00<00:00, 645.28it/s]\n",
      "100%|██████████| 17/17 [00:00<00:00, 607.13it/s]\n",
      "100%|██████████| 17/17 [00:00<00:00, 641.30it/s]\n",
      "100%|██████████| 17/17 [00:00<00:00, 683.85it/s]\n",
      "100%|██████████| 17/17 [00:00<00:00, 653.85it/s]\n",
      "100%|██████████| 17/17 [00:00<00:00, 679.99it/s]\n",
      "100%|██████████| 17/17 [00:00<00:00, 680.02it/s]\n",
      "100%|██████████| 17/17 [00:00<00:00, 653.83it/s]\n",
      "100%|██████████| 17/17 [00:00<00:00, 680.00it/s]\n",
      "100%|██████████| 17/17 [00:00<00:00, 680.01it/s]\n",
      "100%|██████████| 17/17 [00:00<00:00, 653.86it/s]\n",
      "100%|██████████| 17/17 [00:00<00:00, 708.33it/s]\n",
      "100%|██████████| 17/17 [00:00<00:00, 679.99it/s]\n",
      "100%|██████████| 17/17 [00:00<00:00, 739.14it/s]\n",
      "100%|██████████| 17/17 [00:00<00:00, 708.33it/s]\n",
      "100%|██████████| 17/17 [00:00<00:00, 680.00it/s]\n",
      "100%|██████████| 17/17 [00:00<00:00, 708.32it/s]\n"
     ]
    },
    {
     "name": "stdout",
     "output_type": "stream",
     "text": [
      "Epoch [3381/6000]: Train loss: 1.6150, Valid loss: 1.4521\n"
     ]
    },
    {
     "name": "stderr",
     "output_type": "stream",
     "text": [
      "100%|██████████| 17/17 [00:00<00:00, 656.59it/s]\n",
      "100%|██████████| 17/17 [00:00<00:00, 680.00it/s]\n",
      "100%|██████████| 17/17 [00:00<00:00, 680.06it/s]\n",
      "100%|██████████| 17/17 [00:00<00:00, 680.01it/s]\n",
      "100%|██████████| 17/17 [00:00<00:00, 680.00it/s]\n",
      "100%|██████████| 17/17 [00:00<00:00, 686.27it/s]\n",
      "100%|██████████| 17/17 [00:00<00:00, 739.12it/s]\n",
      "100%|██████████| 17/17 [00:00<00:00, 708.33it/s]\n",
      "100%|██████████| 17/17 [00:00<00:00, 708.32it/s]\n",
      "100%|██████████| 17/17 [00:00<00:00, 708.32it/s]\n",
      "100%|██████████| 17/17 [00:00<00:00, 708.32it/s]\n",
      "100%|██████████| 17/17 [00:00<00:00, 680.00it/s]\n",
      "100%|██████████| 17/17 [00:00<00:00, 680.04it/s]\n",
      "100%|██████████| 17/17 [00:00<00:00, 694.93it/s]\n",
      "100%|██████████| 17/17 [00:00<00:00, 629.61it/s]\n",
      "100%|██████████| 17/17 [00:00<00:00, 708.33it/s]\n",
      "100%|██████████| 17/17 [00:00<00:00, 706.65it/s]\n",
      "100%|██████████| 17/17 [00:00<00:00, 708.33it/s]\n",
      "100%|██████████| 17/17 [00:00<00:00, 708.32it/s]\n",
      "100%|██████████| 17/17 [00:00<00:00, 739.11it/s]\n"
     ]
    },
    {
     "name": "stdout",
     "output_type": "stream",
     "text": [
      "Epoch [3401/6000]: Train loss: 1.6079, Valid loss: 1.4534\n"
     ]
    },
    {
     "name": "stderr",
     "output_type": "stream",
     "text": [
      "100%|██████████| 17/17 [00:00<00:00, 708.60it/s]\n",
      "100%|██████████| 17/17 [00:00<00:00, 708.31it/s]\n",
      "100%|██████████| 17/17 [00:00<00:00, 708.34it/s]\n",
      "100%|██████████| 17/17 [00:00<00:00, 653.85it/s]\n",
      "100%|██████████| 17/17 [00:00<00:00, 679.98it/s]\n",
      "100%|██████████| 17/17 [00:00<00:00, 708.34it/s]\n",
      "100%|██████████| 17/17 [00:00<00:00, 708.32it/s]\n",
      "100%|██████████| 17/17 [00:00<00:00, 708.33it/s]\n",
      "100%|██████████| 17/17 [00:00<00:00, 680.00it/s]\n",
      "100%|██████████| 17/17 [00:00<00:00, 708.35it/s]\n",
      "100%|██████████| 17/17 [00:00<00:00, 680.02it/s]\n",
      "100%|██████████| 17/17 [00:00<00:00, 708.34it/s]\n",
      "100%|██████████| 17/17 [00:00<00:00, 708.33it/s]\n",
      "100%|██████████| 17/17 [00:00<00:00, 708.36it/s]\n",
      "100%|██████████| 17/17 [00:00<00:00, 708.34it/s]\n",
      "100%|██████████| 17/17 [00:00<00:00, 739.14it/s]\n",
      "100%|██████████| 17/17 [00:00<00:00, 739.12it/s]\n",
      "100%|██████████| 17/17 [00:00<00:00, 680.00it/s]\n",
      "100%|██████████| 17/17 [00:00<00:00, 708.34it/s]\n",
      "100%|██████████| 17/17 [00:00<00:00, 744.99it/s]\n"
     ]
    },
    {
     "name": "stdout",
     "output_type": "stream",
     "text": [
      "Epoch [3421/6000]: Train loss: 1.6053, Valid loss: 1.3807\n"
     ]
    },
    {
     "name": "stderr",
     "output_type": "stream",
     "text": [
      "100%|██████████| 17/17 [00:00<00:00, 739.16it/s]\n",
      "100%|██████████| 17/17 [00:00<00:00, 739.14it/s]\n",
      "100%|██████████| 17/17 [00:00<00:00, 708.35it/s]\n",
      "100%|██████████| 17/17 [00:00<00:00, 739.13it/s]\n",
      "100%|██████████| 17/17 [00:00<00:00, 739.14it/s]\n",
      "100%|██████████| 17/17 [00:00<00:00, 708.34it/s]\n",
      "100%|██████████| 17/17 [00:00<00:00, 739.12it/s]\n",
      "100%|██████████| 17/17 [00:00<00:00, 708.34it/s]\n",
      "100%|██████████| 17/17 [00:00<00:00, 708.33it/s]\n",
      "100%|██████████| 17/17 [00:00<00:00, 708.34it/s]\n",
      "100%|██████████| 17/17 [00:00<00:00, 721.99it/s]\n",
      "100%|██████████| 17/17 [00:00<00:00, 772.72it/s]\n",
      "100%|██████████| 17/17 [00:00<00:00, 739.13it/s]\n",
      "100%|██████████| 17/17 [00:00<00:00, 739.14it/s]\n",
      "100%|██████████| 17/17 [00:00<00:00, 739.13it/s]\n",
      "100%|██████████| 17/17 [00:00<00:00, 679.99it/s]\n",
      "100%|██████████| 17/17 [00:00<00:00, 739.14it/s]\n",
      "100%|██████████| 17/17 [00:00<00:00, 739.12it/s]\n",
      "100%|██████████| 17/17 [00:00<00:00, 708.34it/s]\n",
      "100%|██████████| 17/17 [00:00<00:00, 708.33it/s]\n"
     ]
    },
    {
     "name": "stdout",
     "output_type": "stream",
     "text": [
      "Epoch [3441/6000]: Train loss: 1.5967, Valid loss: 1.3266\n"
     ]
    },
    {
     "name": "stderr",
     "output_type": "stream",
     "text": [
      "100%|██████████| 17/17 [00:00<00:00, 708.32it/s]\n",
      "100%|██████████| 17/17 [00:00<00:00, 739.13it/s]\n",
      "100%|██████████| 17/17 [00:00<00:00, 607.14it/s]\n",
      "100%|██████████| 17/17 [00:00<00:00, 772.74it/s]\n",
      "100%|██████████| 17/17 [00:00<00:00, 772.73it/s]\n",
      "100%|██████████| 17/17 [00:00<00:00, 739.16it/s]\n",
      "100%|██████████| 17/17 [00:00<00:00, 772.73it/s]\n",
      "100%|██████████| 17/17 [00:00<00:00, 777.39it/s]\n",
      "100%|██████████| 17/17 [00:00<00:00, 769.84it/s]\n",
      "100%|██████████| 17/17 [00:00<00:00, 739.14it/s]\n"
     ]
    },
    {
     "name": "stdout",
     "output_type": "stream",
     "text": [
      "Saving model with loss 1.311...\n"
     ]
    },
    {
     "name": "stderr",
     "output_type": "stream",
     "text": [
      "100%|██████████| 17/17 [00:00<00:00, 708.31it/s]\n",
      "100%|██████████| 17/17 [00:00<00:00, 772.72it/s]\n",
      "100%|██████████| 17/17 [00:00<00:00, 772.75it/s]\n",
      "100%|██████████| 17/17 [00:00<00:00, 739.14it/s]\n",
      "100%|██████████| 17/17 [00:00<00:00, 772.72it/s]\n",
      "100%|██████████| 17/17 [00:00<00:00, 739.11it/s]\n",
      "100%|██████████| 17/17 [00:00<00:00, 739.11it/s]\n",
      "100%|██████████| 17/17 [00:00<00:00, 739.14it/s]\n",
      "100%|██████████| 17/17 [00:00<00:00, 772.71it/s]\n",
      "100%|██████████| 17/17 [00:00<00:00, 772.73it/s]\n"
     ]
    },
    {
     "name": "stdout",
     "output_type": "stream",
     "text": [
      "Epoch [3461/6000]: Train loss: 1.5948, Valid loss: 1.3898\n"
     ]
    },
    {
     "name": "stderr",
     "output_type": "stream",
     "text": [
      "100%|██████████| 17/17 [00:00<00:00, 739.13it/s]\n",
      "100%|██████████| 17/17 [00:00<00:00, 739.12it/s]\n",
      "100%|██████████| 17/17 [00:00<00:00, 772.72it/s]\n",
      "100%|██████████| 17/17 [00:00<00:00, 739.12it/s]\n",
      "100%|██████████| 17/17 [00:00<00:00, 739.14it/s]\n"
     ]
    },
    {
     "name": "stdout",
     "output_type": "stream",
     "text": [
      "Saving model with loss 1.287...\n"
     ]
    },
    {
     "name": "stderr",
     "output_type": "stream",
     "text": [
      "100%|██████████| 17/17 [00:00<00:00, 739.11it/s]\n",
      "100%|██████████| 17/17 [00:00<00:00, 809.53it/s]\n",
      "100%|██████████| 17/17 [00:00<00:00, 772.72it/s]\n",
      "100%|██████████| 17/17 [00:00<00:00, 739.12it/s]\n",
      "100%|██████████| 17/17 [00:00<00:00, 772.71it/s]\n",
      "100%|██████████| 17/17 [00:00<00:00, 739.13it/s]\n",
      "100%|██████████| 17/17 [00:00<00:00, 772.73it/s]\n",
      "100%|██████████| 17/17 [00:00<00:00, 772.72it/s]\n",
      "100%|██████████| 17/17 [00:00<00:00, 772.72it/s]\n",
      "100%|██████████| 17/17 [00:00<00:00, 772.73it/s]\n",
      "100%|██████████| 17/17 [00:00<00:00, 772.72it/s]\n",
      "100%|██████████| 17/17 [00:00<00:00, 739.12it/s]\n",
      "100%|██████████| 17/17 [00:00<00:00, 739.12it/s]\n",
      "100%|██████████| 17/17 [00:00<00:00, 772.73it/s]\n",
      "100%|██████████| 17/17 [00:00<00:00, 739.13it/s]\n"
     ]
    },
    {
     "name": "stdout",
     "output_type": "stream",
     "text": [
      "Epoch [3481/6000]: Train loss: 1.5864, Valid loss: 1.3878\n"
     ]
    },
    {
     "name": "stderr",
     "output_type": "stream",
     "text": [
      "100%|██████████| 17/17 [00:00<00:00, 772.26it/s]\n",
      "100%|██████████| 17/17 [00:00<00:00, 772.72it/s]\n",
      "100%|██████████| 17/17 [00:00<00:00, 772.72it/s]\n",
      "100%|██████████| 17/17 [00:00<00:00, 708.32it/s]\n",
      "100%|██████████| 17/17 [00:00<00:00, 708.34it/s]\n",
      "100%|██████████| 17/17 [00:00<00:00, 708.34it/s]\n",
      "100%|██████████| 17/17 [00:00<00:00, 772.72it/s]\n",
      "100%|██████████| 17/17 [00:00<00:00, 739.12it/s]\n",
      "100%|██████████| 17/17 [00:00<00:00, 739.12it/s]\n",
      "100%|██████████| 17/17 [00:00<00:00, 739.14it/s]\n",
      "100%|██████████| 17/17 [00:00<00:00, 772.72it/s]\n",
      "100%|██████████| 17/17 [00:00<00:00, 739.13it/s]\n",
      "100%|██████████| 17/17 [00:00<00:00, 739.17it/s]\n",
      "100%|██████████| 17/17 [00:00<00:00, 772.72it/s]\n",
      "100%|██████████| 17/17 [00:00<00:00, 708.31it/s]\n",
      "100%|██████████| 17/17 [00:00<00:00, 739.17it/s]\n",
      "100%|██████████| 17/17 [00:00<00:00, 739.12it/s]\n",
      "100%|██████████| 17/17 [00:00<00:00, 708.34it/s]\n",
      "100%|██████████| 17/17 [00:00<00:00, 708.33it/s]\n",
      "100%|██████████| 17/17 [00:00<00:00, 636.44it/s]\n"
     ]
    },
    {
     "name": "stdout",
     "output_type": "stream",
     "text": [
      "Epoch [3501/6000]: Train loss: 1.5867, Valid loss: 1.4951\n"
     ]
    },
    {
     "name": "stderr",
     "output_type": "stream",
     "text": [
      "100%|██████████| 17/17 [00:00<00:00, 772.74it/s]\n",
      "100%|██████████| 17/17 [00:00<00:00, 772.72it/s]\n",
      "100%|██████████| 17/17 [00:00<00:00, 739.11it/s]\n",
      "100%|██████████| 17/17 [00:00<00:00, 739.13it/s]\n",
      "100%|██████████| 17/17 [00:00<00:00, 753.66it/s]\n",
      "100%|██████████| 17/17 [00:00<00:00, 772.72it/s]\n",
      "100%|██████████| 17/17 [00:00<00:00, 739.12it/s]\n",
      "100%|██████████| 17/17 [00:00<00:00, 708.34it/s]\n",
      "100%|██████████| 17/17 [00:00<00:00, 739.13it/s]\n",
      "100%|██████████| 17/17 [00:00<00:00, 772.72it/s]\n",
      "100%|██████████| 17/17 [00:00<00:00, 788.91it/s]\n",
      "100%|██████████| 17/17 [00:00<00:00, 714.60it/s]\n",
      "100%|██████████| 17/17 [00:00<00:00, 739.12it/s]\n",
      "100%|██████████| 17/17 [00:00<00:00, 739.12it/s]\n",
      "100%|██████████| 17/17 [00:00<00:00, 739.12it/s]\n",
      "100%|██████████| 17/17 [00:00<00:00, 749.94it/s]\n",
      "100%|██████████| 17/17 [00:00<00:00, 772.73it/s]\n",
      "100%|██████████| 17/17 [00:00<00:00, 772.72it/s]\n",
      "100%|██████████| 17/17 [00:00<00:00, 772.75it/s]\n",
      "100%|██████████| 17/17 [00:00<00:00, 772.72it/s]\n"
     ]
    },
    {
     "name": "stdout",
     "output_type": "stream",
     "text": [
      "Epoch [3521/6000]: Train loss: 1.5787, Valid loss: 1.7487\n"
     ]
    },
    {
     "name": "stderr",
     "output_type": "stream",
     "text": [
      "100%|██████████| 17/17 [00:00<00:00, 706.83it/s]\n",
      "100%|██████████| 17/17 [00:00<00:00, 772.74it/s]\n",
      "100%|██████████| 17/17 [00:00<00:00, 739.14it/s]\n",
      "100%|██████████| 17/17 [00:00<00:00, 739.12it/s]\n",
      "100%|██████████| 17/17 [00:00<00:00, 739.13it/s]\n",
      "100%|██████████| 17/17 [00:00<00:00, 772.75it/s]\n",
      "100%|██████████| 17/17 [00:00<00:00, 739.14it/s]\n",
      "100%|██████████| 17/17 [00:00<00:00, 772.72it/s]\n",
      "100%|██████████| 17/17 [00:00<00:00, 772.73it/s]\n",
      "100%|██████████| 17/17 [00:00<00:00, 772.74it/s]\n",
      "100%|██████████| 17/17 [00:00<00:00, 772.72it/s]\n",
      "100%|██████████| 17/17 [00:00<00:00, 708.33it/s]\n",
      "100%|██████████| 17/17 [00:00<00:00, 772.72it/s]\n",
      "100%|██████████| 17/17 [00:00<00:00, 772.73it/s]\n",
      "100%|██████████| 17/17 [00:00<00:00, 739.13it/s]\n",
      "100%|██████████| 17/17 [00:00<00:00, 708.34it/s]\n",
      "100%|██████████| 17/17 [00:00<00:00, 772.71it/s]\n",
      "100%|██████████| 17/17 [00:00<00:00, 739.01it/s]\n",
      "100%|██████████| 17/17 [00:00<00:00, 739.12it/s]\n",
      "100%|██████████| 17/17 [00:00<00:00, 739.84it/s]\n"
     ]
    },
    {
     "name": "stdout",
     "output_type": "stream",
     "text": [
      "Epoch [3541/6000]: Train loss: 1.5771, Valid loss: 1.6606\n"
     ]
    },
    {
     "name": "stderr",
     "output_type": "stream",
     "text": [
      "100%|██████████| 17/17 [00:00<00:00, 739.12it/s]\n",
      "100%|██████████| 17/17 [00:00<00:00, 739.12it/s]\n",
      "100%|██████████| 17/17 [00:00<00:00, 739.13it/s]\n",
      "100%|██████████| 17/17 [00:00<00:00, 708.34it/s]\n",
      "100%|██████████| 17/17 [00:00<00:00, 708.34it/s]\n",
      "100%|██████████| 17/17 [00:00<00:00, 772.72it/s]\n",
      "100%|██████████| 17/17 [00:00<00:00, 739.14it/s]\n",
      "100%|██████████| 17/17 [00:00<00:00, 708.37it/s]\n",
      "100%|██████████| 17/17 [00:00<00:00, 739.14it/s]\n",
      "100%|██████████| 17/17 [00:00<00:00, 708.31it/s]\n",
      "100%|██████████| 17/17 [00:00<00:00, 739.14it/s]\n",
      "100%|██████████| 17/17 [00:00<00:00, 739.12it/s]\n",
      "100%|██████████| 17/17 [00:00<00:00, 708.38it/s]\n",
      "100%|██████████| 17/17 [00:00<00:00, 739.16it/s]\n",
      "100%|██████████| 17/17 [00:00<00:00, 739.12it/s]\n",
      "100%|██████████| 17/17 [00:00<00:00, 739.12it/s]\n",
      "100%|██████████| 17/17 [00:00<00:00, 772.72it/s]\n",
      "100%|██████████| 17/17 [00:00<00:00, 708.34it/s]\n",
      "100%|██████████| 17/17 [00:00<00:00, 708.34it/s]\n",
      "100%|██████████| 17/17 [00:00<00:00, 772.73it/s]\n"
     ]
    },
    {
     "name": "stdout",
     "output_type": "stream",
     "text": [
      "Epoch [3561/6000]: Train loss: 1.5708, Valid loss: 1.3754\n"
     ]
    },
    {
     "name": "stderr",
     "output_type": "stream",
     "text": [
      "100%|██████████| 17/17 [00:00<00:00, 739.15it/s]\n",
      "100%|██████████| 17/17 [00:00<00:00, 739.15it/s]\n",
      "100%|██████████| 17/17 [00:00<00:00, 708.33it/s]\n",
      "100%|██████████| 17/17 [00:00<00:00, 708.33it/s]\n",
      "100%|██████████| 17/17 [00:00<00:00, 708.32it/s]\n",
      "100%|██████████| 17/17 [00:00<00:00, 739.15it/s]\n",
      "100%|██████████| 17/17 [00:00<00:00, 772.71it/s]\n",
      "100%|██████████| 17/17 [00:00<00:00, 772.75it/s]\n",
      "100%|██████████| 17/17 [00:00<00:00, 772.75it/s]\n",
      "100%|██████████| 17/17 [00:00<00:00, 809.55it/s]\n",
      "100%|██████████| 17/17 [00:00<00:00, 772.73it/s]\n",
      "100%|██████████| 17/17 [00:00<00:00, 708.34it/s]\n",
      "100%|██████████| 17/17 [00:00<00:00, 772.74it/s]\n",
      "100%|██████████| 17/17 [00:00<00:00, 772.73it/s]\n",
      "100%|██████████| 17/17 [00:00<00:00, 772.72it/s]\n",
      "100%|██████████| 17/17 [00:00<00:00, 772.71it/s]\n",
      "100%|██████████| 17/17 [00:00<00:00, 772.76it/s]\n",
      "100%|██████████| 17/17 [00:00<00:00, 739.15it/s]\n",
      "100%|██████████| 17/17 [00:00<00:00, 772.75it/s]\n",
      "100%|██████████| 17/17 [00:00<00:00, 772.74it/s]\n"
     ]
    },
    {
     "name": "stdout",
     "output_type": "stream",
     "text": [
      "Epoch [3581/6000]: Train loss: 1.5631, Valid loss: 1.7308\n"
     ]
    },
    {
     "name": "stderr",
     "output_type": "stream",
     "text": [
      "100%|██████████| 17/17 [00:00<00:00, 772.75it/s]\n",
      "100%|██████████| 17/17 [00:00<00:00, 708.33it/s]\n",
      "100%|██████████| 17/17 [00:00<00:00, 772.71it/s]\n",
      "100%|██████████| 17/17 [00:00<00:00, 772.72it/s]\n",
      "100%|██████████| 17/17 [00:00<00:00, 739.12it/s]\n",
      "100%|██████████| 17/17 [00:00<00:00, 739.15it/s]\n",
      "100%|██████████| 17/17 [00:00<00:00, 772.72it/s]\n",
      "100%|██████████| 17/17 [00:00<00:00, 772.74it/s]\n",
      "100%|██████████| 17/17 [00:00<00:00, 772.75it/s]\n",
      "100%|██████████| 17/17 [00:00<00:00, 739.13it/s]\n",
      "100%|██████████| 17/17 [00:00<00:00, 772.74it/s]\n",
      "100%|██████████| 17/17 [00:00<00:00, 772.76it/s]\n",
      "100%|██████████| 17/17 [00:00<00:00, 772.23it/s]\n",
      "100%|██████████| 17/17 [00:00<00:00, 739.13it/s]\n",
      "100%|██████████| 17/17 [00:00<00:00, 772.75it/s]\n",
      "100%|██████████| 17/17 [00:00<00:00, 772.75it/s]\n",
      "100%|██████████| 17/17 [00:00<00:00, 772.72it/s]\n",
      "100%|██████████| 17/17 [00:00<00:00, 739.15it/s]\n",
      "100%|██████████| 17/17 [00:00<00:00, 772.74it/s]\n",
      "100%|██████████| 17/17 [00:00<00:00, 772.73it/s]\n"
     ]
    },
    {
     "name": "stdout",
     "output_type": "stream",
     "text": [
      "Epoch [3601/6000]: Train loss: 1.5589, Valid loss: 1.5037\n"
     ]
    },
    {
     "name": "stderr",
     "output_type": "stream",
     "text": [
      "100%|██████████| 17/17 [00:00<00:00, 739.12it/s]\n",
      "100%|██████████| 17/17 [00:00<00:00, 739.12it/s]\n",
      "100%|██████████| 17/17 [00:00<00:00, 772.73it/s]\n",
      "100%|██████████| 17/17 [00:00<00:00, 739.13it/s]\n",
      "100%|██████████| 17/17 [00:00<00:00, 772.75it/s]\n",
      "100%|██████████| 17/17 [00:00<00:00, 809.55it/s]\n",
      "100%|██████████| 17/17 [00:00<00:00, 772.72it/s]\n",
      "100%|██████████| 17/17 [00:00<00:00, 680.03it/s]\n",
      "100%|██████████| 17/17 [00:00<00:00, 739.13it/s]\n",
      "100%|██████████| 17/17 [00:00<00:00, 739.14it/s]\n",
      "100%|██████████| 17/17 [00:00<00:00, 772.72it/s]\n",
      "100%|██████████| 17/17 [00:00<00:00, 772.73it/s]\n",
      "100%|██████████| 17/17 [00:00<00:00, 772.72it/s]\n",
      "100%|██████████| 17/17 [00:00<00:00, 772.73it/s]\n",
      "100%|██████████| 17/17 [00:00<00:00, 772.72it/s]\n",
      "100%|██████████| 17/17 [00:00<00:00, 739.12it/s]\n",
      "100%|██████████| 17/17 [00:00<00:00, 772.72it/s]\n",
      "100%|██████████| 17/17 [00:00<00:00, 809.51it/s]\n",
      "100%|██████████| 17/17 [00:00<00:00, 772.72it/s]\n",
      "100%|██████████| 17/17 [00:00<00:00, 739.02it/s]\n"
     ]
    },
    {
     "name": "stdout",
     "output_type": "stream",
     "text": [
      "Epoch [3621/6000]: Train loss: 1.5568, Valid loss: 1.3033\n"
     ]
    },
    {
     "name": "stderr",
     "output_type": "stream",
     "text": [
      "100%|██████████| 17/17 [00:00<00:00, 708.31it/s]\n",
      "100%|██████████| 17/17 [00:00<00:00, 772.72it/s]\n",
      "100%|██████████| 17/17 [00:00<00:00, 772.74it/s]\n",
      "100%|██████████| 17/17 [00:00<00:00, 739.15it/s]\n",
      "100%|██████████| 17/17 [00:00<00:00, 809.53it/s]\n",
      "100%|██████████| 17/17 [00:00<00:00, 809.55it/s]\n",
      "100%|██████████| 17/17 [00:00<00:00, 739.13it/s]\n",
      "100%|██████████| 17/17 [00:00<00:00, 772.72it/s]\n",
      "100%|██████████| 17/17 [00:00<00:00, 772.72it/s]\n",
      "100%|██████████| 17/17 [00:00<00:00, 680.00it/s]\n",
      "100%|██████████| 17/17 [00:00<00:00, 809.55it/s]\n",
      "100%|██████████| 17/17 [00:00<00:00, 772.69it/s]\n",
      "100%|██████████| 17/17 [00:00<00:00, 772.73it/s]\n",
      "100%|██████████| 17/17 [00:00<00:00, 772.74it/s]\n",
      "100%|██████████| 17/17 [00:00<00:00, 739.15it/s]\n"
     ]
    },
    {
     "name": "stdout",
     "output_type": "stream",
     "text": [
      "Saving model with loss 1.279...\n"
     ]
    },
    {
     "name": "stderr",
     "output_type": "stream",
     "text": [
      "100%|██████████| 17/17 [00:00<00:00, 772.72it/s]\n",
      "100%|██████████| 17/17 [00:00<00:00, 739.13it/s]\n",
      "100%|██████████| 17/17 [00:00<00:00, 772.75it/s]\n"
     ]
    },
    {
     "name": "stdout",
     "output_type": "stream",
     "text": [
      "Saving model with loss 1.275...\n"
     ]
    },
    {
     "name": "stderr",
     "output_type": "stream",
     "text": [
      "100%|██████████| 17/17 [00:00<00:00, 739.13it/s]\n",
      "100%|██████████| 17/17 [00:00<00:00, 772.73it/s]\n"
     ]
    },
    {
     "name": "stdout",
     "output_type": "stream",
     "text": [
      "Epoch [3641/6000]: Train loss: 1.5492, Valid loss: 1.3129\n"
     ]
    },
    {
     "name": "stderr",
     "output_type": "stream",
     "text": [
      "100%|██████████| 17/17 [00:00<00:00, 809.53it/s]\n",
      "100%|██████████| 17/17 [00:00<00:00, 739.12it/s]\n",
      "100%|██████████| 17/17 [00:00<00:00, 772.72it/s]\n",
      "100%|██████████| 17/17 [00:00<00:00, 809.51it/s]\n",
      "100%|██████████| 17/17 [00:00<00:00, 772.75it/s]\n",
      "100%|██████████| 17/17 [00:00<00:00, 772.75it/s]\n",
      "100%|██████████| 17/17 [00:00<00:00, 773.07it/s]\n",
      "100%|██████████| 17/17 [00:00<00:00, 772.72it/s]\n",
      "100%|██████████| 17/17 [00:00<00:00, 813.31it/s]\n",
      "100%|██████████| 17/17 [00:00<00:00, 725.66it/s]\n",
      "100%|██████████| 17/17 [00:00<00:00, 772.73it/s]\n",
      "100%|██████████| 17/17 [00:00<00:00, 778.15it/s]\n",
      "100%|██████████| 17/17 [00:00<00:00, 708.33it/s]\n",
      "100%|██████████| 17/17 [00:00<00:00, 772.75it/s]\n",
      "100%|██████████| 17/17 [00:00<00:00, 772.72it/s]\n",
      "100%|██████████| 17/17 [00:00<00:00, 739.14it/s]\n",
      "100%|██████████| 17/17 [00:00<00:00, 739.13it/s]\n",
      "100%|██████████| 17/17 [00:00<00:00, 772.73it/s]\n",
      "100%|██████████| 17/17 [00:00<00:00, 772.73it/s]\n",
      "100%|██████████| 17/17 [00:00<00:00, 772.74it/s]\n"
     ]
    },
    {
     "name": "stdout",
     "output_type": "stream",
     "text": [
      "Epoch [3661/6000]: Train loss: 1.5465, Valid loss: 1.4475\n"
     ]
    },
    {
     "name": "stderr",
     "output_type": "stream",
     "text": [
      "100%|██████████| 17/17 [00:00<00:00, 739.14it/s]\n",
      "100%|██████████| 17/17 [00:00<00:00, 739.14it/s]\n",
      "100%|██████████| 17/17 [00:00<00:00, 772.72it/s]\n",
      "100%|██████████| 17/17 [00:00<00:00, 739.13it/s]\n",
      "100%|██████████| 17/17 [00:00<00:00, 708.34it/s]\n",
      "100%|██████████| 17/17 [00:00<00:00, 772.52it/s]\n",
      "100%|██████████| 17/17 [00:00<00:00, 772.73it/s]\n",
      "100%|██████████| 17/17 [00:00<00:00, 739.14it/s]\n",
      "100%|██████████| 17/17 [00:00<00:00, 772.73it/s]\n",
      "100%|██████████| 17/17 [00:00<00:00, 772.72it/s]\n",
      "100%|██████████| 17/17 [00:00<00:00, 772.73it/s]\n",
      "100%|██████████| 17/17 [00:00<00:00, 772.68it/s]\n",
      "100%|██████████| 17/17 [00:00<00:00, 739.08it/s]\n",
      "100%|██████████| 17/17 [00:00<00:00, 772.73it/s]\n",
      "100%|██████████| 17/17 [00:00<00:00, 772.77it/s]\n",
      "100%|██████████| 17/17 [00:00<00:00, 739.13it/s]\n",
      "100%|██████████| 17/17 [00:00<00:00, 772.72it/s]\n",
      "100%|██████████| 17/17 [00:00<00:00, 772.72it/s]\n",
      "100%|██████████| 17/17 [00:00<00:00, 739.15it/s]\n",
      "100%|██████████| 17/17 [00:00<00:00, 772.71it/s]\n"
     ]
    },
    {
     "name": "stdout",
     "output_type": "stream",
     "text": [
      "Epoch [3681/6000]: Train loss: 1.5439, Valid loss: 1.3657\n"
     ]
    },
    {
     "name": "stderr",
     "output_type": "stream",
     "text": [
      "100%|██████████| 17/17 [00:00<00:00, 772.73it/s]\n",
      "100%|██████████| 17/17 [00:00<00:00, 772.73it/s]\n",
      "100%|██████████| 17/17 [00:00<00:00, 708.32it/s]\n",
      "100%|██████████| 17/17 [00:00<00:00, 739.15it/s]\n",
      "100%|██████████| 17/17 [00:00<00:00, 772.74it/s]\n",
      "100%|██████████| 17/17 [00:00<00:00, 809.55it/s]\n",
      "100%|██████████| 17/17 [00:00<00:00, 746.91it/s]\n",
      "100%|██████████| 17/17 [00:00<00:00, 772.72it/s]\n",
      "100%|██████████| 17/17 [00:00<00:00, 772.77it/s]\n",
      "100%|██████████| 17/17 [00:00<00:00, 750.73it/s]\n",
      "100%|██████████| 17/17 [00:00<00:00, 653.85it/s]\n",
      "100%|██████████| 17/17 [00:00<00:00, 668.30it/s]\n",
      "100%|██████████| 17/17 [00:00<00:00, 629.79it/s]\n",
      "100%|██████████| 17/17 [00:00<00:00, 679.99it/s]\n",
      "100%|██████████| 17/17 [00:00<00:00, 809.55it/s]\n",
      "100%|██████████| 17/17 [00:00<00:00, 772.72it/s]\n",
      "100%|██████████| 17/17 [00:00<00:00, 772.72it/s]\n",
      "100%|██████████| 17/17 [00:00<00:00, 762.03it/s]\n",
      "100%|██████████| 17/17 [00:00<00:00, 789.36it/s]\n",
      "100%|██████████| 17/17 [00:00<00:00, 772.73it/s]\n"
     ]
    },
    {
     "name": "stdout",
     "output_type": "stream",
     "text": [
      "Epoch [3701/6000]: Train loss: 1.5362, Valid loss: 1.3276\n"
     ]
    },
    {
     "name": "stderr",
     "output_type": "stream",
     "text": [
      "100%|██████████| 17/17 [00:00<00:00, 809.51it/s]\n",
      "100%|██████████| 17/17 [00:00<00:00, 772.72it/s]\n",
      "100%|██████████| 17/17 [00:00<00:00, 772.59it/s]\n",
      "100%|██████████| 17/17 [00:00<00:00, 772.73it/s]\n"
     ]
    },
    {
     "name": "stdout",
     "output_type": "stream",
     "text": [
      "Saving model with loss 1.236...\n"
     ]
    },
    {
     "name": "stderr",
     "output_type": "stream",
     "text": [
      "100%|██████████| 17/17 [00:00<00:00, 739.13it/s]\n",
      "100%|██████████| 17/17 [00:00<00:00, 772.76it/s]\n",
      "100%|██████████| 17/17 [00:00<00:00, 772.72it/s]\n",
      "100%|██████████| 17/17 [00:00<00:00, 739.14it/s]\n",
      "100%|██████████| 17/17 [00:00<00:00, 739.14it/s]\n",
      "100%|██████████| 17/17 [00:00<00:00, 809.38it/s]\n",
      "100%|██████████| 17/17 [00:00<00:00, 772.73it/s]\n",
      "100%|██████████| 17/17 [00:00<00:00, 739.13it/s]\n",
      "100%|██████████| 17/17 [00:00<00:00, 772.72it/s]\n",
      "100%|██████████| 17/17 [00:00<00:00, 760.88it/s]\n",
      "100%|██████████| 17/17 [00:00<00:00, 739.17it/s]\n",
      "100%|██████████| 17/17 [00:00<00:00, 739.13it/s]\n",
      "100%|██████████| 17/17 [00:00<00:00, 708.22it/s]\n",
      "100%|██████████| 17/17 [00:00<00:00, 708.34it/s]\n",
      "100%|██████████| 17/17 [00:00<00:00, 772.74it/s]\n",
      "100%|██████████| 17/17 [00:00<00:00, 772.73it/s]\n"
     ]
    },
    {
     "name": "stdout",
     "output_type": "stream",
     "text": [
      "Epoch [3721/6000]: Train loss: 1.5335, Valid loss: 1.7258\n"
     ]
    },
    {
     "name": "stderr",
     "output_type": "stream",
     "text": [
      "100%|██████████| 17/17 [00:00<00:00, 772.60it/s]\n",
      "100%|██████████| 17/17 [00:00<00:00, 707.41it/s]\n",
      "100%|██████████| 17/17 [00:00<00:00, 740.17it/s]\n",
      "100%|██████████| 17/17 [00:00<00:00, 738.99it/s]\n",
      "100%|██████████| 17/17 [00:00<00:00, 739.12it/s]\n",
      "100%|██████████| 17/17 [00:00<00:00, 739.12it/s]\n",
      "100%|██████████| 17/17 [00:00<00:00, 772.72it/s]\n",
      "100%|██████████| 17/17 [00:00<00:00, 739.03it/s]\n",
      "100%|██████████| 17/17 [00:00<00:00, 680.00it/s]\n",
      "100%|██████████| 17/17 [00:00<00:00, 739.14it/s]\n",
      "100%|██████████| 17/17 [00:00<00:00, 679.89it/s]\n",
      "100%|██████████| 17/17 [00:00<00:00, 708.35it/s]\n",
      "100%|██████████| 17/17 [00:00<00:00, 772.72it/s]\n",
      "100%|██████████| 17/17 [00:00<00:00, 772.74it/s]\n",
      "100%|██████████| 17/17 [00:00<00:00, 708.24it/s]\n",
      "100%|██████████| 17/17 [00:00<00:00, 708.34it/s]\n",
      "100%|██████████| 17/17 [00:00<00:00, 725.54it/s]\n",
      "100%|██████████| 17/17 [00:00<00:00, 708.24it/s]\n",
      "100%|██████████| 17/17 [00:00<00:00, 772.77it/s]\n",
      "100%|██████████| 17/17 [00:00<00:00, 679.98it/s]\n"
     ]
    },
    {
     "name": "stdout",
     "output_type": "stream",
     "text": [
      "Epoch [3741/6000]: Train loss: 1.5282, Valid loss: 1.4796\n"
     ]
    },
    {
     "name": "stderr",
     "output_type": "stream",
     "text": [
      "100%|██████████| 17/17 [00:00<00:00, 708.33it/s]\n",
      "100%|██████████| 17/17 [00:00<00:00, 708.22it/s]\n",
      "100%|██████████| 17/17 [00:00<00:00, 708.34it/s]\n",
      "100%|██████████| 17/17 [00:00<00:00, 772.74it/s]\n",
      "100%|██████████| 17/17 [00:00<00:00, 738.97it/s]\n",
      "100%|██████████| 17/17 [00:00<00:00, 653.86it/s]\n",
      "100%|██████████| 17/17 [00:00<00:00, 708.34it/s]\n",
      "100%|██████████| 17/17 [00:00<00:00, 708.36it/s]\n",
      "100%|██████████| 17/17 [00:00<00:00, 629.04it/s]\n",
      "100%|██████████| 17/17 [00:00<00:00, 680.00it/s]\n",
      "100%|██████████| 17/17 [00:00<00:00, 708.34it/s]\n",
      "100%|██████████| 17/17 [00:00<00:00, 708.23it/s]\n",
      "100%|██████████| 17/17 [00:00<00:00, 739.12it/s]\n",
      "100%|██████████| 17/17 [00:00<00:00, 708.36it/s]\n",
      "100%|██████████| 17/17 [00:00<00:00, 698.04it/s]\n",
      "100%|██████████| 17/17 [00:00<00:00, 708.34it/s]\n",
      "100%|██████████| 17/17 [00:00<00:00, 708.35it/s]\n",
      "100%|██████████| 17/17 [00:00<00:00, 772.74it/s]\n",
      "100%|██████████| 17/17 [00:00<00:00, 781.97it/s]\n",
      "100%|██████████| 17/17 [00:00<00:00, 772.75it/s]\n"
     ]
    },
    {
     "name": "stdout",
     "output_type": "stream",
     "text": [
      "Epoch [3761/6000]: Train loss: 1.5232, Valid loss: 1.3730\n"
     ]
    },
    {
     "name": "stderr",
     "output_type": "stream",
     "text": [
      "100%|██████████| 17/17 [00:00<00:00, 653.85it/s]\n",
      "100%|██████████| 17/17 [00:00<00:00, 708.30it/s]\n",
      "100%|██████████| 17/17 [00:00<00:00, 739.12it/s]\n",
      "100%|██████████| 17/17 [00:00<00:00, 708.34it/s]\n",
      "100%|██████████| 17/17 [00:00<00:00, 670.70it/s]\n",
      "100%|██████████| 17/17 [00:00<00:00, 708.31it/s]\n",
      "100%|██████████| 17/17 [00:00<00:00, 708.33it/s]\n",
      "100%|██████████| 17/17 [00:00<00:00, 739.13it/s]\n",
      "100%|██████████| 17/17 [00:00<00:00, 708.34it/s]\n",
      "100%|██████████| 17/17 [00:00<00:00, 739.14it/s]\n",
      "100%|██████████| 17/17 [00:00<00:00, 739.12it/s]\n",
      "100%|██████████| 17/17 [00:00<00:00, 772.72it/s]\n",
      "100%|██████████| 17/17 [00:00<00:00, 710.31it/s]\n",
      "100%|██████████| 17/17 [00:00<00:00, 739.18it/s]\n",
      "100%|██████████| 17/17 [00:00<00:00, 739.14it/s]\n",
      "100%|██████████| 17/17 [00:00<00:00, 708.22it/s]\n",
      "100%|██████████| 17/17 [00:00<00:00, 708.34it/s]\n",
      "100%|██████████| 17/17 [00:00<00:00, 739.15it/s]\n",
      "100%|██████████| 17/17 [00:00<00:00, 739.02it/s]\n",
      "100%|██████████| 17/17 [00:00<00:00, 708.34it/s]\n"
     ]
    },
    {
     "name": "stdout",
     "output_type": "stream",
     "text": [
      "Epoch [3781/6000]: Train loss: 1.5186, Valid loss: 1.3171\n"
     ]
    },
    {
     "name": "stderr",
     "output_type": "stream",
     "text": [
      "100%|██████████| 17/17 [00:00<00:00, 708.32it/s]\n",
      "100%|██████████| 17/17 [00:00<00:00, 708.31it/s]\n",
      "100%|██████████| 17/17 [00:00<00:00, 739.02it/s]\n",
      "100%|██████████| 17/17 [00:00<00:00, 772.73it/s]\n",
      "100%|██████████| 17/17 [00:00<00:00, 708.35it/s]\n",
      "100%|██████████| 17/17 [00:00<00:00, 739.03it/s]\n",
      "100%|██████████| 17/17 [00:00<00:00, 708.31it/s]\n",
      "100%|██████████| 17/17 [00:00<00:00, 739.13it/s]\n",
      "100%|██████████| 17/17 [00:00<00:00, 739.14it/s]\n",
      "100%|██████████| 17/17 [00:00<00:00, 739.02it/s]\n",
      "100%|██████████| 17/17 [00:00<00:00, 708.36it/s]\n",
      "100%|██████████| 17/17 [00:00<00:00, 739.13it/s]\n",
      "100%|██████████| 17/17 [00:00<00:00, 738.84it/s]\n",
      "100%|██████████| 17/17 [00:00<00:00, 708.34it/s]\n",
      "100%|██████████| 17/17 [00:00<00:00, 708.32it/s]\n",
      "100%|██████████| 17/17 [00:00<00:00, 739.14it/s]\n",
      "100%|██████████| 17/17 [00:00<00:00, 739.01it/s]\n",
      "100%|██████████| 17/17 [00:00<00:00, 680.02it/s]\n",
      "100%|██████████| 17/17 [00:00<00:00, 739.18it/s]\n",
      "100%|██████████| 17/17 [00:00<00:00, 708.22it/s]\n"
     ]
    },
    {
     "name": "stdout",
     "output_type": "stream",
     "text": [
      "Epoch [3801/6000]: Train loss: 1.5133, Valid loss: 1.5311\n"
     ]
    },
    {
     "name": "stderr",
     "output_type": "stream",
     "text": [
      "100%|██████████| 17/17 [00:00<00:00, 708.33it/s]\n",
      "100%|██████████| 17/17 [00:00<00:00, 703.53it/s]\n",
      "100%|██████████| 17/17 [00:00<00:00, 739.13it/s]\n",
      "100%|██████████| 17/17 [00:00<00:00, 739.02it/s]\n",
      "100%|██████████| 17/17 [00:00<00:00, 739.13it/s]\n",
      "100%|██████████| 17/17 [00:00<00:00, 708.34it/s]\n",
      "100%|██████████| 17/17 [00:00<00:00, 737.92it/s]\n",
      "100%|██████████| 17/17 [00:00<00:00, 739.11it/s]\n",
      "100%|██████████| 17/17 [00:00<00:00, 708.36it/s]\n",
      "100%|██████████| 17/17 [00:00<00:00, 739.14it/s]\n",
      "100%|██████████| 17/17 [00:00<00:00, 708.24it/s]\n",
      "100%|██████████| 17/17 [00:00<00:00, 708.35it/s]\n",
      "100%|██████████| 17/17 [00:00<00:00, 708.32it/s]\n",
      "100%|██████████| 17/17 [00:00<00:00, 740.08it/s]\n",
      "100%|██████████| 17/17 [00:00<00:00, 772.73it/s]\n",
      "100%|██████████| 17/17 [00:00<00:00, 739.15it/s]\n",
      "100%|██████████| 17/17 [00:00<00:00, 739.14it/s]\n",
      "100%|██████████| 17/17 [00:00<00:00, 708.23it/s]\n",
      "100%|██████████| 17/17 [00:00<00:00, 739.15it/s]\n",
      "100%|██████████| 17/17 [00:00<00:00, 739.12it/s]\n"
     ]
    },
    {
     "name": "stdout",
     "output_type": "stream",
     "text": [
      "Epoch [3821/6000]: Train loss: 1.5088, Valid loss: 1.3071\n"
     ]
    },
    {
     "name": "stderr",
     "output_type": "stream",
     "text": [
      "100%|██████████| 17/17 [00:00<00:00, 755.27it/s]\n",
      "100%|██████████| 17/17 [00:00<00:00, 706.52it/s]\n",
      "100%|██████████| 17/17 [00:00<00:00, 680.00it/s]\n",
      "100%|██████████| 17/17 [00:00<00:00, 701.73it/s]\n",
      "100%|██████████| 17/17 [00:00<00:00, 739.14it/s]\n",
      "100%|██████████| 17/17 [00:00<00:00, 739.15it/s]\n",
      "100%|██████████| 17/17 [00:00<00:00, 751.19it/s]\n",
      "100%|██████████| 17/17 [00:00<00:00, 723.13it/s]\n",
      "100%|██████████| 17/17 [00:00<00:00, 739.14it/s]\n",
      "100%|██████████| 17/17 [00:00<00:00, 772.75it/s]\n",
      "100%|██████████| 17/17 [00:00<00:00, 679.98it/s]\n",
      "100%|██████████| 17/17 [00:00<00:00, 739.13it/s]\n",
      "100%|██████████| 17/17 [00:00<00:00, 653.74it/s]\n",
      "100%|██████████| 17/17 [00:00<00:00, 708.34it/s]\n",
      "100%|██████████| 17/17 [00:00<00:00, 708.33it/s]\n",
      "100%|██████████| 17/17 [00:00<00:00, 708.31it/s]\n",
      "100%|██████████| 17/17 [00:00<00:00, 772.72it/s]\n",
      "100%|██████████| 17/17 [00:00<00:00, 739.14it/s]\n",
      "100%|██████████| 17/17 [00:00<00:00, 739.14it/s]\n",
      "100%|██████████| 17/17 [00:00<00:00, 708.33it/s]\n"
     ]
    },
    {
     "name": "stdout",
     "output_type": "stream",
     "text": [
      "Epoch [3841/6000]: Train loss: 1.5048, Valid loss: 1.3598\n"
     ]
    },
    {
     "name": "stderr",
     "output_type": "stream",
     "text": [
      "100%|██████████| 17/17 [00:00<00:00, 708.34it/s]\n",
      "100%|██████████| 17/17 [00:00<00:00, 739.09it/s]\n",
      "100%|██████████| 17/17 [00:00<00:00, 739.13it/s]\n",
      "100%|██████████| 17/17 [00:00<00:00, 739.18it/s]\n",
      "100%|██████████| 17/17 [00:00<00:00, 708.34it/s]\n",
      "100%|██████████| 17/17 [00:00<00:00, 708.34it/s]\n",
      "100%|██████████| 17/17 [00:00<00:00, 772.73it/s]\n",
      "100%|██████████| 17/17 [00:00<00:00, 772.72it/s]\n",
      "100%|██████████| 17/17 [00:00<00:00, 708.33it/s]\n",
      "100%|██████████| 17/17 [00:00<00:00, 708.34it/s]\n",
      "100%|██████████| 17/17 [00:00<00:00, 680.00it/s]\n"
     ]
    },
    {
     "name": "stdout",
     "output_type": "stream",
     "text": [
      "Saving model with loss 1.220...\n"
     ]
    },
    {
     "name": "stderr",
     "output_type": "stream",
     "text": [
      "100%|██████████| 17/17 [00:00<00:00, 708.32it/s]\n",
      "100%|██████████| 17/17 [00:00<00:00, 739.13it/s]\n",
      "100%|██████████| 17/17 [00:00<00:00, 739.14it/s]\n",
      "100%|██████████| 17/17 [00:00<00:00, 708.32it/s]\n",
      "100%|██████████| 17/17 [00:00<00:00, 708.34it/s]\n",
      "100%|██████████| 17/17 [00:00<00:00, 742.94it/s]\n",
      "100%|██████████| 17/17 [00:00<00:00, 739.13it/s]\n",
      "100%|██████████| 17/17 [00:00<00:00, 739.26it/s]\n",
      "100%|██████████| 17/17 [00:00<00:00, 668.36it/s]\n"
     ]
    },
    {
     "name": "stdout",
     "output_type": "stream",
     "text": [
      "Epoch [3861/6000]: Train loss: 1.5028, Valid loss: 1.3820\n"
     ]
    },
    {
     "name": "stderr",
     "output_type": "stream",
     "text": [
      "100%|██████████| 17/17 [00:00<00:00, 739.12it/s]\n",
      "100%|██████████| 17/17 [00:00<00:00, 771.96it/s]\n",
      "100%|██████████| 17/17 [00:00<00:00, 739.14it/s]\n",
      "100%|██████████| 17/17 [00:00<00:00, 739.12it/s]\n",
      "100%|██████████| 17/17 [00:00<00:00, 739.11it/s]\n",
      "100%|██████████| 17/17 [00:00<00:00, 739.15it/s]\n",
      "100%|██████████| 17/17 [00:00<00:00, 739.08it/s]\n",
      "100%|██████████| 17/17 [00:00<00:00, 772.77it/s]\n",
      "100%|██████████| 17/17 [00:00<00:00, 739.12it/s]\n",
      "100%|██████████| 17/17 [00:00<00:00, 722.97it/s]\n",
      "100%|██████████| 17/17 [00:00<00:00, 772.71it/s]\n",
      "100%|██████████| 17/17 [00:00<00:00, 772.73it/s]\n",
      "100%|██████████| 17/17 [00:00<00:00, 772.74it/s]\n",
      "100%|██████████| 17/17 [00:00<00:00, 772.72it/s]\n",
      "100%|██████████| 17/17 [00:00<00:00, 772.72it/s]\n",
      "100%|██████████| 17/17 [00:00<00:00, 772.72it/s]\n",
      "100%|██████████| 17/17 [00:00<00:00, 739.90it/s]\n",
      "100%|██████████| 17/17 [00:00<00:00, 739.15it/s]\n",
      "100%|██████████| 17/17 [00:00<00:00, 772.69it/s]\n",
      "100%|██████████| 17/17 [00:00<00:00, 772.73it/s]\n"
     ]
    },
    {
     "name": "stdout",
     "output_type": "stream",
     "text": [
      "Epoch [3881/6000]: Train loss: 1.4965, Valid loss: 1.2349\n"
     ]
    },
    {
     "name": "stderr",
     "output_type": "stream",
     "text": [
      "100%|██████████| 17/17 [00:00<00:00, 772.76it/s]\n",
      "100%|██████████| 17/17 [00:00<00:00, 739.12it/s]\n",
      "100%|██████████| 17/17 [00:00<00:00, 809.54it/s]\n",
      "100%|██████████| 17/17 [00:00<00:00, 772.73it/s]\n",
      "100%|██████████| 17/17 [00:00<00:00, 739.14it/s]\n",
      "100%|██████████| 17/17 [00:00<00:00, 772.74it/s]\n",
      "100%|██████████| 17/17 [00:00<00:00, 772.71it/s]\n",
      "100%|██████████| 17/17 [00:00<00:00, 772.72it/s]\n",
      "100%|██████████| 17/17 [00:00<00:00, 772.73it/s]\n",
      "100%|██████████| 17/17 [00:00<00:00, 739.09it/s]\n",
      "100%|██████████| 17/17 [00:00<00:00, 809.53it/s]\n",
      "100%|██████████| 17/17 [00:00<00:00, 772.76it/s]\n",
      "100%|██████████| 17/17 [00:00<00:00, 739.13it/s]\n",
      "100%|██████████| 17/17 [00:00<00:00, 772.73it/s]\n",
      "100%|██████████| 17/17 [00:00<00:00, 753.68it/s]\n",
      "100%|██████████| 17/17 [00:00<00:00, 721.63it/s]\n",
      "100%|██████████| 17/17 [00:00<00:00, 772.72it/s]\n",
      "100%|██████████| 17/17 [00:00<00:00, 772.74it/s]\n",
      "100%|██████████| 17/17 [00:00<00:00, 739.13it/s]\n",
      "100%|██████████| 17/17 [00:00<00:00, 772.72it/s]\n"
     ]
    },
    {
     "name": "stdout",
     "output_type": "stream",
     "text": [
      "Epoch [3901/6000]: Train loss: 1.4928, Valid loss: 1.3636\n"
     ]
    },
    {
     "name": "stderr",
     "output_type": "stream",
     "text": [
      "100%|██████████| 17/17 [00:00<00:00, 739.15it/s]\n",
      "100%|██████████| 17/17 [00:00<00:00, 772.73it/s]\n",
      "100%|██████████| 17/17 [00:00<00:00, 772.73it/s]\n",
      "100%|██████████| 17/17 [00:00<00:00, 680.00it/s]\n",
      "100%|██████████| 17/17 [00:00<00:00, 772.73it/s]\n",
      "100%|██████████| 17/17 [00:00<00:00, 772.77it/s]\n",
      "100%|██████████| 17/17 [00:00<00:00, 772.73it/s]\n",
      "100%|██████████| 17/17 [00:00<00:00, 739.14it/s]\n",
      "100%|██████████| 17/17 [00:00<00:00, 739.14it/s]\n",
      "100%|██████████| 17/17 [00:00<00:00, 708.32it/s]\n",
      "100%|██████████| 17/17 [00:00<00:00, 809.51it/s]\n",
      "100%|██████████| 17/17 [00:00<00:00, 708.33it/s]\n",
      "100%|██████████| 17/17 [00:00<00:00, 629.63it/s]\n",
      "100%|██████████| 17/17 [00:00<00:00, 680.02it/s]\n",
      "100%|██████████| 17/17 [00:00<00:00, 653.84it/s]\n",
      "100%|██████████| 17/17 [00:00<00:00, 653.85it/s]\n",
      "100%|██████████| 17/17 [00:00<00:00, 679.98it/s]\n",
      "100%|██████████| 17/17 [00:00<00:00, 679.99it/s]\n",
      "100%|██████████| 17/17 [00:00<00:00, 653.85it/s]\n",
      "100%|██████████| 17/17 [00:00<00:00, 708.34it/s]\n"
     ]
    },
    {
     "name": "stdout",
     "output_type": "stream",
     "text": [
      "Epoch [3921/6000]: Train loss: 1.4871, Valid loss: 1.3500\n"
     ]
    },
    {
     "name": "stderr",
     "output_type": "stream",
     "text": [
      "100%|██████████| 17/17 [00:00<00:00, 653.86it/s]\n",
      "100%|██████████| 17/17 [00:00<00:00, 653.85it/s]\n",
      "100%|██████████| 17/17 [00:00<00:00, 653.86it/s]\n",
      "100%|██████████| 17/17 [00:00<00:00, 679.99it/s]\n",
      "100%|██████████| 17/17 [00:00<00:00, 680.00it/s]\n",
      "100%|██████████| 17/17 [00:00<00:00, 653.84it/s]\n",
      "100%|██████████| 17/17 [00:00<00:00, 680.00it/s]\n",
      "100%|██████████| 17/17 [00:00<00:00, 607.16it/s]\n",
      "100%|██████████| 17/17 [00:00<00:00, 651.66it/s]\n",
      "100%|██████████| 17/17 [00:00<00:00, 679.99it/s]\n",
      "100%|██████████| 17/17 [00:00<00:00, 653.84it/s]\n",
      "100%|██████████| 17/17 [00:00<00:00, 708.34it/s]\n",
      "100%|██████████| 17/17 [00:00<00:00, 679.98it/s]\n",
      "100%|██████████| 17/17 [00:00<00:00, 643.40it/s]\n",
      "100%|██████████| 17/17 [00:00<00:00, 653.85it/s]\n",
      "100%|██████████| 17/17 [00:00<00:00, 679.99it/s]\n",
      "100%|██████████| 17/17 [00:00<00:00, 641.26it/s]\n",
      "100%|██████████| 17/17 [00:00<00:00, 629.63it/s]\n",
      "100%|██████████| 17/17 [00:00<00:00, 636.93it/s]\n",
      "100%|██████████| 17/17 [00:00<00:00, 653.85it/s]\n"
     ]
    },
    {
     "name": "stdout",
     "output_type": "stream",
     "text": [
      "Epoch [3941/6000]: Train loss: 1.4836, Valid loss: 1.3418\n"
     ]
    },
    {
     "name": "stderr",
     "output_type": "stream",
     "text": [
      "100%|██████████| 17/17 [00:00<00:00, 614.42it/s]\n",
      "100%|██████████| 17/17 [00:00<00:00, 566.65it/s]\n",
      "100%|██████████| 17/17 [00:00<00:00, 629.61it/s]\n"
     ]
    },
    {
     "name": "stdout",
     "output_type": "stream",
     "text": [
      "Saving model with loss 1.211...\n"
     ]
    },
    {
     "name": "stderr",
     "output_type": "stream",
     "text": [
      "100%|██████████| 17/17 [00:00<00:00, 682.78it/s]\n",
      "100%|██████████| 17/17 [00:00<00:00, 679.98it/s]\n",
      "100%|██████████| 17/17 [00:00<00:00, 653.82it/s]\n",
      "100%|██████████| 17/17 [00:00<00:00, 680.00it/s]\n",
      "100%|██████████| 17/17 [00:00<00:00, 652.22it/s]\n",
      "100%|██████████| 17/17 [00:00<00:00, 653.80it/s]\n",
      "100%|██████████| 17/17 [00:00<00:00, 680.02it/s]\n",
      "100%|██████████| 17/17 [00:00<00:00, 708.33it/s]\n",
      "100%|██████████| 17/17 [00:00<00:00, 708.35it/s]\n",
      "100%|██████████| 17/17 [00:00<00:00, 680.00it/s]\n",
      "100%|██████████| 17/17 [00:00<00:00, 629.63it/s]\n",
      "100%|██████████| 17/17 [00:00<00:00, 680.00it/s]\n",
      "100%|██████████| 17/17 [00:00<00:00, 653.85it/s]\n",
      "100%|██████████| 17/17 [00:00<00:00, 680.00it/s]\n",
      "100%|██████████| 17/17 [00:00<00:00, 708.34it/s]\n",
      "100%|██████████| 17/17 [00:00<00:00, 680.02it/s]\n",
      "100%|██████████| 17/17 [00:00<00:00, 680.01it/s]\n"
     ]
    },
    {
     "name": "stdout",
     "output_type": "stream",
     "text": [
      "Epoch [3961/6000]: Train loss: 1.4798, Valid loss: 1.2469\n"
     ]
    },
    {
     "name": "stderr",
     "output_type": "stream",
     "text": [
      "100%|██████████| 17/17 [00:00<00:00, 653.84it/s]\n",
      "100%|██████████| 17/17 [00:00<00:00, 653.85it/s]\n",
      "100%|██████████| 17/17 [00:00<00:00, 653.84it/s]\n",
      "100%|██████████| 17/17 [00:00<00:00, 708.35it/s]\n",
      "100%|██████████| 17/17 [00:00<00:00, 680.01it/s]\n",
      "100%|██████████| 17/17 [00:00<00:00, 643.22it/s]\n",
      "100%|██████████| 17/17 [00:00<00:00, 594.22it/s]\n",
      "100%|██████████| 17/17 [00:00<00:00, 635.08it/s]\n",
      "100%|██████████| 17/17 [00:00<00:00, 670.90it/s]\n",
      "100%|██████████| 17/17 [00:00<00:00, 695.69it/s]\n",
      "100%|██████████| 17/17 [00:00<00:00, 629.42it/s]\n",
      "100%|██████████| 17/17 [00:00<00:00, 666.20it/s]\n",
      "100%|██████████| 17/17 [00:00<00:00, 666.43it/s]\n",
      "100%|██████████| 17/17 [00:00<00:00, 680.00it/s]\n",
      "100%|██████████| 17/17 [00:00<00:00, 653.76it/s]\n",
      "100%|██████████| 17/17 [00:00<00:00, 661.86it/s]\n",
      "100%|██████████| 17/17 [00:00<00:00, 708.34it/s]\n",
      "100%|██████████| 17/17 [00:00<00:00, 680.02it/s]\n",
      "100%|██████████| 17/17 [00:00<00:00, 679.80it/s]\n",
      "100%|██████████| 17/17 [00:00<00:00, 708.22it/s]\n"
     ]
    },
    {
     "name": "stdout",
     "output_type": "stream",
     "text": [
      "Epoch [3981/6000]: Train loss: 1.4759, Valid loss: 1.3841\n"
     ]
    },
    {
     "name": "stderr",
     "output_type": "stream",
     "text": [
      "100%|██████████| 17/17 [00:00<00:00, 548.38it/s]\n",
      "100%|██████████| 17/17 [00:00<00:00, 708.35it/s]\n",
      "100%|██████████| 17/17 [00:00<00:00, 679.90it/s]\n",
      "100%|██████████| 17/17 [00:00<00:00, 680.00it/s]\n",
      "100%|██████████| 17/17 [00:00<00:00, 680.00it/s]\n",
      "100%|██████████| 17/17 [00:00<00:00, 679.20it/s]\n",
      "100%|██████████| 17/17 [00:00<00:00, 693.50it/s]\n",
      "100%|██████████| 17/17 [00:00<00:00, 641.28it/s]\n",
      "100%|██████████| 17/17 [00:00<00:00, 679.98it/s]\n",
      "100%|██████████| 17/17 [00:00<00:00, 708.24it/s]\n",
      "100%|██████████| 17/17 [00:00<00:00, 666.36it/s]\n",
      "100%|██████████| 17/17 [00:00<00:00, 739.13it/s]\n",
      "100%|██████████| 17/17 [00:00<00:00, 708.34it/s]\n",
      "100%|██████████| 17/17 [00:00<00:00, 629.55it/s]\n",
      "100%|██████████| 17/17 [00:00<00:00, 693.52it/s]\n",
      "100%|██████████| 17/17 [00:00<00:00, 629.63it/s]\n",
      "100%|██████████| 17/17 [00:00<00:00, 629.63it/s]\n",
      "100%|██████████| 17/17 [00:00<00:00, 606.79it/s]\n",
      "100%|██████████| 17/17 [00:00<00:00, 629.21it/s]\n",
      "100%|██████████| 17/17 [00:00<00:00, 629.63it/s]\n"
     ]
    },
    {
     "name": "stdout",
     "output_type": "stream",
     "text": [
      "Epoch [4001/6000]: Train loss: 1.4710, Valid loss: 1.3206\n"
     ]
    },
    {
     "name": "stderr",
     "output_type": "stream",
     "text": [
      "100%|██████████| 17/17 [00:00<00:00, 575.88it/s]\n",
      "100%|██████████| 17/17 [00:00<00:00, 641.27it/s]\n",
      "100%|██████████| 17/17 [00:00<00:00, 653.85it/s]\n",
      "100%|██████████| 17/17 [00:00<00:00, 653.75it/s]\n",
      "100%|██████████| 17/17 [00:00<00:00, 653.25it/s]\n",
      "100%|██████████| 17/17 [00:00<00:00, 653.84it/s]\n",
      "100%|██████████| 17/17 [00:00<00:00, 653.86it/s]\n",
      "100%|██████████| 17/17 [00:00<00:00, 607.03it/s]\n",
      "100%|██████████| 17/17 [00:00<00:00, 629.06it/s]\n",
      "100%|██████████| 17/17 [00:00<00:00, 653.83it/s]\n",
      "100%|██████████| 17/17 [00:00<00:00, 607.14it/s]\n",
      "100%|██████████| 17/17 [00:00<00:00, 629.44it/s]\n",
      "100%|██████████| 17/17 [00:00<00:00, 587.98it/s]\n",
      "100%|██████████| 17/17 [00:00<00:00, 680.02it/s]\n",
      "100%|██████████| 17/17 [00:00<00:00, 617.98it/s]\n",
      "100%|██████████| 17/17 [00:00<00:00, 629.70it/s]\n",
      "100%|██████████| 17/17 [00:00<00:00, 627.37it/s]\n",
      "100%|██████████| 17/17 [00:00<00:00, 629.62it/s]\n",
      "100%|██████████| 17/17 [00:00<00:00, 653.85it/s]\n",
      "100%|██████████| 17/17 [00:00<00:00, 653.85it/s]\n"
     ]
    },
    {
     "name": "stdout",
     "output_type": "stream",
     "text": [
      "Epoch [4021/6000]: Train loss: 1.4664, Valid loss: 1.3343\n"
     ]
    },
    {
     "name": "stderr",
     "output_type": "stream",
     "text": [
      "100%|██████████| 17/17 [00:00<00:00, 629.64it/s]\n",
      "100%|██████████| 17/17 [00:00<00:00, 653.84it/s]\n",
      "100%|██████████| 17/17 [00:00<00:00, 629.56it/s]\n",
      "100%|██████████| 17/17 [00:00<00:00, 653.40it/s]\n",
      "100%|██████████| 17/17 [00:00<00:00, 629.63it/s]\n",
      "100%|██████████| 17/17 [00:00<00:00, 653.85it/s]\n",
      "100%|██████████| 17/17 [00:00<00:00, 653.76it/s]\n",
      "100%|██████████| 17/17 [00:00<00:00, 595.58it/s]\n",
      "100%|██████████| 17/17 [00:00<00:00, 665.07it/s]\n",
      "100%|██████████| 17/17 [00:00<00:00, 586.21it/s]\n",
      "100%|██████████| 17/17 [00:00<00:00, 617.88it/s]\n",
      "100%|██████████| 17/17 [00:00<00:00, 629.64it/s]\n",
      "100%|██████████| 17/17 [00:00<00:00, 629.63it/s]\n",
      "100%|██████████| 17/17 [00:00<00:00, 653.87it/s]\n",
      "100%|██████████| 17/17 [00:00<00:00, 607.07it/s]\n",
      "100%|██████████| 17/17 [00:00<00:00, 679.99it/s]\n",
      "100%|██████████| 17/17 [00:00<00:00, 629.61it/s]\n",
      "100%|██████████| 17/17 [00:00<00:00, 653.74it/s]\n",
      "100%|██████████| 17/17 [00:00<00:00, 641.23it/s]\n",
      "100%|██████████| 17/17 [00:00<00:00, 629.63it/s]\n"
     ]
    },
    {
     "name": "stdout",
     "output_type": "stream",
     "text": [
      "Epoch [4041/6000]: Train loss: 1.4606, Valid loss: 1.3521\n"
     ]
    },
    {
     "name": "stderr",
     "output_type": "stream",
     "text": [
      "100%|██████████| 17/17 [00:00<00:00, 629.63it/s]\n",
      "100%|██████████| 17/17 [00:00<00:00, 607.07it/s]\n",
      "100%|██████████| 17/17 [00:00<00:00, 641.28it/s]\n",
      "100%|██████████| 17/17 [00:00<00:00, 617.98it/s]\n",
      "100%|██████████| 17/17 [00:00<00:00, 629.64it/s]\n",
      "100%|██████████| 17/17 [00:00<00:00, 679.89it/s]\n",
      "100%|██████████| 17/17 [00:00<00:00, 653.86it/s]\n",
      "100%|██████████| 17/17 [00:00<00:00, 629.64it/s]\n",
      "100%|██████████| 17/17 [00:00<00:00, 653.73it/s]\n",
      "100%|██████████| 17/17 [00:00<00:00, 629.56it/s]\n",
      "100%|██████████| 17/17 [00:00<00:00, 653.84it/s]\n",
      "100%|██████████| 17/17 [00:00<00:00, 629.55it/s]\n",
      "100%|██████████| 17/17 [00:00<00:00, 633.23it/s]\n",
      "100%|██████████| 17/17 [00:00<00:00, 629.63it/s]\n",
      "100%|██████████| 17/17 [00:00<00:00, 629.63it/s]\n",
      "100%|██████████| 17/17 [00:00<00:00, 653.76it/s]\n",
      "100%|██████████| 17/17 [00:00<00:00, 607.15it/s]\n"
     ]
    },
    {
     "name": "stdout",
     "output_type": "stream",
     "text": [
      "Saving model with loss 1.189...\n"
     ]
    },
    {
     "name": "stderr",
     "output_type": "stream",
     "text": [
      "100%|██████████| 17/17 [00:00<00:00, 653.86it/s]\n",
      "100%|██████████| 17/17 [00:00<00:00, 607.16it/s]\n",
      "100%|██████████| 17/17 [00:00<00:00, 639.47it/s]\n"
     ]
    },
    {
     "name": "stdout",
     "output_type": "stream",
     "text": [
      "Epoch [4061/6000]: Train loss: 1.4597, Valid loss: 1.4714\n"
     ]
    },
    {
     "name": "stderr",
     "output_type": "stream",
     "text": [
      "100%|██████████| 17/17 [00:00<00:00, 586.22it/s]\n",
      "100%|██████████| 17/17 [00:00<00:00, 641.30it/s]\n",
      "100%|██████████| 17/17 [00:00<00:00, 629.55it/s]\n",
      "100%|██████████| 17/17 [00:00<00:00, 606.73it/s]\n",
      "100%|██████████| 17/17 [00:00<00:00, 629.63it/s]\n",
      "100%|██████████| 17/17 [00:00<00:00, 629.54it/s]\n",
      "100%|██████████| 17/17 [00:00<00:00, 641.23it/s]\n",
      "100%|██████████| 17/17 [00:00<00:00, 653.85it/s]\n",
      "100%|██████████| 17/17 [00:00<00:00, 629.64it/s]\n",
      "100%|██████████| 17/17 [00:00<00:00, 666.32it/s]\n",
      "100%|██████████| 17/17 [00:00<00:00, 617.93it/s]\n",
      "100%|██████████| 17/17 [00:00<00:00, 653.85it/s]\n",
      "100%|██████████| 17/17 [00:00<00:00, 586.21it/s]\n",
      "100%|██████████| 17/17 [00:00<00:00, 629.64it/s]\n",
      "100%|██████████| 17/17 [00:00<00:00, 653.39it/s]\n",
      "100%|██████████| 17/17 [00:00<00:00, 607.14it/s]\n",
      "100%|██████████| 17/17 [00:00<00:00, 653.85it/s]\n",
      "100%|██████████| 17/17 [00:00<00:00, 598.77it/s]\n",
      "100%|██████████| 17/17 [00:00<00:00, 641.26it/s]\n",
      "100%|██████████| 17/17 [00:00<00:00, 653.79it/s]\n"
     ]
    },
    {
     "name": "stdout",
     "output_type": "stream",
     "text": [
      "Epoch [4081/6000]: Train loss: 1.4553, Valid loss: 1.2413\n"
     ]
    },
    {
     "name": "stderr",
     "output_type": "stream",
     "text": [
      "100%|██████████| 17/17 [00:00<00:00, 629.54it/s]\n",
      "100%|██████████| 17/17 [00:00<00:00, 666.33it/s]\n",
      "100%|██████████| 17/17 [00:00<00:00, 629.53it/s]\n",
      "100%|██████████| 17/17 [00:00<00:00, 653.85it/s]\n",
      "100%|██████████| 17/17 [00:00<00:00, 653.71it/s]\n",
      "100%|██████████| 17/17 [00:00<00:00, 629.18it/s]\n",
      "100%|██████████| 17/17 [00:00<00:00, 653.85it/s]\n",
      "100%|██████████| 17/17 [00:00<00:00, 586.22it/s]\n",
      "100%|██████████| 17/17 [00:00<00:00, 641.20it/s]\n",
      "100%|██████████| 17/17 [00:00<00:00, 607.14it/s]\n",
      "100%|██████████| 17/17 [00:00<00:00, 629.63it/s]\n",
      "100%|██████████| 17/17 [00:00<00:00, 641.28it/s]\n",
      "100%|██████████| 17/17 [00:00<00:00, 629.51it/s]\n",
      "100%|██████████| 17/17 [00:00<00:00, 653.83it/s]\n",
      "100%|██████████| 17/17 [00:00<00:00, 653.76it/s]\n",
      "100%|██████████| 17/17 [00:00<00:00, 666.35it/s]\n",
      "100%|██████████| 17/17 [00:00<00:00, 666.41it/s]\n",
      "100%|██████████| 17/17 [00:00<00:00, 606.95it/s]\n",
      "100%|██████████| 17/17 [00:00<00:00, 653.76it/s]\n",
      "100%|██████████| 17/17 [00:00<00:00, 629.02it/s]\n"
     ]
    },
    {
     "name": "stdout",
     "output_type": "stream",
     "text": [
      "Epoch [4101/6000]: Train loss: 1.4510, Valid loss: 1.2126\n"
     ]
    },
    {
     "name": "stderr",
     "output_type": "stream",
     "text": [
      "100%|██████████| 17/17 [00:00<00:00, 629.41it/s]\n",
      "100%|██████████| 17/17 [00:00<00:00, 629.64it/s]\n",
      "100%|██████████| 17/17 [00:00<00:00, 653.74it/s]\n",
      "100%|██████████| 17/17 [00:00<00:00, 650.74it/s]\n",
      "100%|██████████| 17/17 [00:00<00:00, 629.55it/s]\n",
      "100%|██████████| 17/17 [00:00<00:00, 629.64it/s]\n",
      "100%|██████████| 17/17 [00:00<00:00, 629.62it/s]\n",
      "100%|██████████| 17/17 [00:00<00:00, 653.85it/s]\n",
      "100%|██████████| 17/17 [00:00<00:00, 629.63it/s]\n",
      "100%|██████████| 17/17 [00:00<00:00, 607.15it/s]\n",
      "100%|██████████| 17/17 [00:00<00:00, 679.99it/s]\n",
      "100%|██████████| 17/17 [00:00<00:00, 653.84it/s]\n",
      "100%|██████████| 17/17 [00:00<00:00, 607.11it/s]\n",
      "100%|██████████| 17/17 [00:00<00:00, 653.85it/s]\n",
      "100%|██████████| 17/17 [00:00<00:00, 607.14it/s]\n",
      "100%|██████████| 17/17 [00:00<00:00, 653.85it/s]\n",
      "100%|██████████| 17/17 [00:00<00:00, 653.87it/s]\n"
     ]
    },
    {
     "name": "stdout",
     "output_type": "stream",
     "text": [
      "Saving model with loss 1.186...\n"
     ]
    },
    {
     "name": "stderr",
     "output_type": "stream",
     "text": [
      "100%|██████████| 17/17 [00:00<00:00, 629.63it/s]\n",
      "100%|██████████| 17/17 [00:00<00:00, 607.14it/s]\n",
      "100%|██████████| 17/17 [00:00<00:00, 629.63it/s]\n"
     ]
    },
    {
     "name": "stdout",
     "output_type": "stream",
     "text": [
      "Epoch [4121/6000]: Train loss: 1.4457, Valid loss: 1.3249\n"
     ]
    },
    {
     "name": "stderr",
     "output_type": "stream",
     "text": [
      "100%|██████████| 17/17 [00:00<00:00, 629.61it/s]\n",
      "100%|██████████| 17/17 [00:00<00:00, 566.67it/s]\n",
      "100%|██████████| 17/17 [00:00<00:00, 680.00it/s]\n",
      "100%|██████████| 17/17 [00:00<00:00, 653.85it/s]\n",
      "100%|██████████| 17/17 [00:00<00:00, 607.15it/s]\n",
      "100%|██████████| 17/17 [00:00<00:00, 653.84it/s]\n",
      "100%|██████████| 17/17 [00:00<00:00, 607.12it/s]\n",
      "100%|██████████| 17/17 [00:00<00:00, 629.63it/s]\n",
      "100%|██████████| 17/17 [00:00<00:00, 583.36it/s]\n",
      "100%|██████████| 17/17 [00:00<00:00, 653.85it/s]\n",
      "100%|██████████| 17/17 [00:00<00:00, 629.63it/s]\n",
      "100%|██████████| 17/17 [00:00<00:00, 629.63it/s]\n",
      "100%|██████████| 17/17 [00:00<00:00, 653.85it/s]\n",
      "100%|██████████| 17/17 [00:00<00:00, 629.64it/s]\n",
      "100%|██████████| 17/17 [00:00<00:00, 653.83it/s]\n",
      "100%|██████████| 17/17 [00:00<00:00, 459.46it/s]\n",
      "100%|██████████| 17/17 [00:00<00:00, 653.86it/s]\n",
      "100%|██████████| 17/17 [00:00<00:00, 653.85it/s]\n",
      "100%|██████████| 17/17 [00:00<00:00, 629.61it/s]\n"
     ]
    },
    {
     "name": "stdout",
     "output_type": "stream",
     "text": [
      "Saving model with loss 1.156...\n"
     ]
    },
    {
     "name": "stderr",
     "output_type": "stream",
     "text": [
      "100%|██████████| 17/17 [00:00<00:00, 629.65it/s]\n"
     ]
    },
    {
     "name": "stdout",
     "output_type": "stream",
     "text": [
      "Epoch [4141/6000]: Train loss: 1.4427, Valid loss: 1.2968\n"
     ]
    },
    {
     "name": "stderr",
     "output_type": "stream",
     "text": [
      "100%|██████████| 17/17 [00:00<00:00, 629.65it/s]\n",
      "100%|██████████| 17/17 [00:00<00:00, 607.14it/s]\n",
      "100%|██████████| 17/17 [00:00<00:00, 607.14it/s]\n",
      "100%|██████████| 17/17 [00:00<00:00, 629.63it/s]\n",
      "100%|██████████| 17/17 [00:00<00:00, 653.85it/s]\n",
      "100%|██████████| 17/17 [00:00<00:00, 629.63it/s]\n",
      "100%|██████████| 17/17 [00:00<00:00, 653.85it/s]\n",
      "100%|██████████| 17/17 [00:00<00:00, 653.85it/s]\n",
      "100%|██████████| 17/17 [00:00<00:00, 629.63it/s]\n",
      "100%|██████████| 17/17 [00:00<00:00, 607.14it/s]\n",
      "100%|██████████| 17/17 [00:00<00:00, 607.16it/s]\n",
      "100%|██████████| 17/17 [00:00<00:00, 653.85it/s]\n",
      "100%|██████████| 17/17 [00:00<00:00, 607.16it/s]\n",
      "100%|██████████| 17/17 [00:00<00:00, 629.63it/s]\n",
      "100%|██████████| 17/17 [00:00<00:00, 629.62it/s]\n",
      "100%|██████████| 17/17 [00:00<00:00, 629.63it/s]\n",
      "100%|██████████| 17/17 [00:00<00:00, 653.85it/s]\n",
      "100%|██████████| 17/17 [00:00<00:00, 585.74it/s]\n",
      "100%|██████████| 17/17 [00:00<00:00, 629.63it/s]\n",
      "100%|██████████| 17/17 [00:00<00:00, 629.63it/s]\n"
     ]
    },
    {
     "name": "stdout",
     "output_type": "stream",
     "text": [
      "Epoch [4161/6000]: Train loss: 1.4426, Valid loss: 1.2693\n"
     ]
    },
    {
     "name": "stderr",
     "output_type": "stream",
     "text": [
      "100%|██████████| 17/17 [00:00<00:00, 629.64it/s]\n",
      "100%|██████████| 17/17 [00:00<00:00, 653.85it/s]\n",
      "100%|██████████| 17/17 [00:00<00:00, 629.63it/s]\n",
      "100%|██████████| 17/17 [00:00<00:00, 679.99it/s]\n",
      "100%|██████████| 17/17 [00:00<00:00, 607.13it/s]\n",
      "100%|██████████| 17/17 [00:00<00:00, 629.63it/s]\n",
      "100%|██████████| 17/17 [00:00<00:00, 629.62it/s]\n",
      "100%|██████████| 17/17 [00:00<00:00, 629.63it/s]\n",
      "100%|██████████| 17/17 [00:00<00:00, 653.82it/s]\n",
      "100%|██████████| 17/17 [00:00<00:00, 607.14it/s]\n",
      "100%|██████████| 17/17 [00:00<00:00, 629.63it/s]\n",
      "100%|██████████| 17/17 [00:00<00:00, 653.83it/s]\n",
      "100%|██████████| 17/17 [00:00<00:00, 629.63it/s]\n",
      "100%|██████████| 17/17 [00:00<00:00, 637.82it/s]\n",
      "100%|██████████| 17/17 [00:00<00:00, 653.85it/s]\n",
      "100%|██████████| 17/17 [00:00<00:00, 629.63it/s]\n",
      "100%|██████████| 17/17 [00:00<00:00, 653.85it/s]\n",
      "100%|██████████| 17/17 [00:00<00:00, 629.62it/s]\n",
      "100%|██████████| 17/17 [00:00<00:00, 607.14it/s]\n",
      "100%|██████████| 17/17 [00:00<00:00, 629.65it/s]\n"
     ]
    },
    {
     "name": "stdout",
     "output_type": "stream",
     "text": [
      "Epoch [4181/6000]: Train loss: 1.4368, Valid loss: 1.3036\n"
     ]
    },
    {
     "name": "stderr",
     "output_type": "stream",
     "text": [
      "100%|██████████| 17/17 [00:00<00:00, 629.63it/s]\n",
      "100%|██████████| 17/17 [00:00<00:00, 577.91it/s]\n",
      "100%|██████████| 17/17 [00:00<00:00, 653.85it/s]\n",
      "100%|██████████| 17/17 [00:00<00:00, 620.26it/s]\n",
      "100%|██████████| 17/17 [00:00<00:00, 607.16it/s]\n",
      "100%|██████████| 17/17 [00:00<00:00, 617.64it/s]\n",
      "100%|██████████| 17/17 [00:00<00:00, 608.88it/s]\n",
      "100%|██████████| 17/17 [00:00<00:00, 629.64it/s]\n",
      "100%|██████████| 17/17 [00:00<00:00, 604.27it/s]\n",
      "100%|██████████| 17/17 [00:00<00:00, 653.88it/s]\n",
      "100%|██████████| 17/17 [00:00<00:00, 635.39it/s]\n",
      "100%|██████████| 17/17 [00:00<00:00, 653.85it/s]\n",
      "100%|██████████| 17/17 [00:00<00:00, 653.84it/s]\n",
      "100%|██████████| 17/17 [00:00<00:00, 629.63it/s]\n",
      "100%|██████████| 17/17 [00:00<00:00, 629.64it/s]\n",
      "100%|██████████| 17/17 [00:00<00:00, 629.63it/s]\n",
      "100%|██████████| 17/17 [00:00<00:00, 629.64it/s]\n",
      "100%|██████████| 17/17 [00:00<00:00, 629.64it/s]\n",
      "100%|██████████| 17/17 [00:00<00:00, 629.63it/s]\n",
      "100%|██████████| 17/17 [00:00<00:00, 629.55it/s]\n"
     ]
    },
    {
     "name": "stdout",
     "output_type": "stream",
     "text": [
      "Epoch [4201/6000]: Train loss: 1.4309, Valid loss: 1.2506\n"
     ]
    },
    {
     "name": "stderr",
     "output_type": "stream",
     "text": [
      "100%|██████████| 17/17 [00:00<00:00, 629.64it/s]\n",
      "100%|██████████| 17/17 [00:00<00:00, 629.64it/s]\n",
      "100%|██████████| 17/17 [00:00<00:00, 629.62it/s]\n",
      "100%|██████████| 17/17 [00:00<00:00, 653.85it/s]\n",
      "100%|██████████| 17/17 [00:00<00:00, 652.76it/s]\n",
      "100%|██████████| 17/17 [00:00<00:00, 653.85it/s]\n",
      "100%|██████████| 17/17 [00:00<00:00, 629.64it/s]\n",
      "100%|██████████| 17/17 [00:00<00:00, 629.63it/s]\n",
      "100%|██████████| 17/17 [00:00<00:00, 629.63it/s]\n",
      "100%|██████████| 17/17 [00:00<00:00, 629.62it/s]\n",
      "100%|██████████| 17/17 [00:00<00:00, 653.85it/s]\n",
      "100%|██████████| 17/17 [00:00<00:00, 607.15it/s]\n",
      "100%|██████████| 17/17 [00:00<00:00, 629.63it/s]\n",
      "100%|██████████| 17/17 [00:00<00:00, 607.15it/s]\n",
      "100%|██████████| 17/17 [00:00<00:00, 629.63it/s]\n",
      "100%|██████████| 17/17 [00:00<00:00, 607.16it/s]\n",
      "100%|██████████| 17/17 [00:00<00:00, 629.63it/s]\n",
      "100%|██████████| 17/17 [00:00<00:00, 607.14it/s]\n",
      "100%|██████████| 17/17 [00:00<00:00, 629.64it/s]\n",
      "100%|██████████| 17/17 [00:00<00:00, 653.84it/s]\n"
     ]
    },
    {
     "name": "stdout",
     "output_type": "stream",
     "text": [
      "Epoch [4221/6000]: Train loss: 1.4289, Valid loss: 1.2481\n"
     ]
    },
    {
     "name": "stderr",
     "output_type": "stream",
     "text": [
      "100%|██████████| 17/17 [00:00<00:00, 607.15it/s]\n",
      "100%|██████████| 17/17 [00:00<00:00, 629.64it/s]\n",
      "100%|██████████| 17/17 [00:00<00:00, 586.21it/s]\n",
      "100%|██████████| 17/17 [00:00<00:00, 629.64it/s]\n",
      "100%|██████████| 17/17 [00:00<00:00, 653.85it/s]\n",
      "100%|██████████| 17/17 [00:00<00:00, 566.67it/s]\n",
      "100%|██████████| 17/17 [00:00<00:00, 653.86it/s]\n",
      "100%|██████████| 17/17 [00:00<00:00, 607.16it/s]\n",
      "100%|██████████| 17/17 [00:00<00:00, 645.97it/s]\n",
      "100%|██████████| 17/17 [00:00<00:00, 586.20it/s]\n",
      "100%|██████████| 17/17 [00:00<00:00, 641.31it/s]\n",
      "100%|██████████| 17/17 [00:00<00:00, 653.98it/s]\n",
      "100%|██████████| 17/17 [00:00<00:00, 629.63it/s]\n",
      "100%|██████████| 17/17 [00:00<00:00, 653.75it/s]\n",
      "100%|██████████| 17/17 [00:00<00:00, 629.63it/s]\n",
      "100%|██████████| 17/17 [00:00<00:00, 629.62it/s]\n",
      "100%|██████████| 17/17 [00:00<00:00, 652.11it/s]\n",
      "100%|██████████| 17/17 [00:00<00:00, 619.63it/s]\n",
      "100%|██████████| 17/17 [00:00<00:00, 653.85it/s]\n",
      "100%|██████████| 17/17 [00:00<00:00, 635.22it/s]\n"
     ]
    },
    {
     "name": "stdout",
     "output_type": "stream",
     "text": [
      "Epoch [4241/6000]: Train loss: 1.4272, Valid loss: 1.3124\n"
     ]
    },
    {
     "name": "stderr",
     "output_type": "stream",
     "text": [
      "100%|██████████| 17/17 [00:00<00:00, 607.14it/s]\n",
      "100%|██████████| 17/17 [00:00<00:00, 607.15it/s]\n",
      "100%|██████████| 17/17 [00:00<00:00, 629.63it/s]\n",
      "100%|██████████| 17/17 [00:00<00:00, 629.63it/s]\n",
      "100%|██████████| 17/17 [00:00<00:00, 566.68it/s]\n",
      "100%|██████████| 17/17 [00:00<00:00, 629.65it/s]\n",
      "100%|██████████| 17/17 [00:00<00:00, 607.13it/s]\n",
      "100%|██████████| 17/17 [00:00<00:00, 607.16it/s]\n",
      "100%|██████████| 17/17 [00:00<00:00, 629.66it/s]\n",
      "100%|██████████| 17/17 [00:00<00:00, 607.14it/s]\n",
      "100%|██████████| 17/17 [00:00<00:00, 629.62it/s]\n",
      "100%|██████████| 17/17 [00:00<00:00, 629.61it/s]\n",
      "100%|██████████| 17/17 [00:00<00:00, 653.86it/s]\n",
      "100%|██████████| 17/17 [00:00<00:00, 607.15it/s]\n",
      "100%|██████████| 17/17 [00:00<00:00, 653.84it/s]\n",
      "100%|██████████| 17/17 [00:00<00:00, 629.61it/s]\n",
      "100%|██████████| 17/17 [00:00<00:00, 586.04it/s]\n",
      "100%|██████████| 17/17 [00:00<00:00, 653.85it/s]\n",
      "100%|██████████| 17/17 [00:00<00:00, 629.63it/s]\n",
      "100%|██████████| 17/17 [00:00<00:00, 586.21it/s]\n"
     ]
    },
    {
     "name": "stdout",
     "output_type": "stream",
     "text": [
      "Epoch [4261/6000]: Train loss: 1.4191, Valid loss: 1.5435\n"
     ]
    },
    {
     "name": "stderr",
     "output_type": "stream",
     "text": [
      "100%|██████████| 17/17 [00:00<00:00, 566.67it/s]\n",
      "100%|██████████| 17/17 [00:00<00:00, 629.63it/s]\n",
      "100%|██████████| 17/17 [00:00<00:00, 629.63it/s]\n",
      "100%|██████████| 17/17 [00:00<00:00, 607.16it/s]\n",
      "100%|██████████| 17/17 [00:00<00:00, 653.84it/s]\n",
      "100%|██████████| 17/17 [00:00<00:00, 586.20it/s]\n",
      "100%|██████████| 17/17 [00:00<00:00, 653.86it/s]\n",
      "100%|██████████| 17/17 [00:00<00:00, 607.15it/s]\n",
      "100%|██████████| 17/17 [00:00<00:00, 653.85it/s]\n",
      "100%|██████████| 17/17 [00:00<00:00, 548.39it/s]\n",
      "100%|██████████| 17/17 [00:00<00:00, 607.16it/s]\n",
      "100%|██████████| 17/17 [00:00<00:00, 629.63it/s]\n",
      "100%|██████████| 17/17 [00:00<00:00, 586.20it/s]\n",
      "100%|██████████| 17/17 [00:00<00:00, 607.14it/s]\n",
      "100%|██████████| 17/17 [00:00<00:00, 629.64it/s]\n",
      "100%|██████████| 17/17 [00:00<00:00, 653.85it/s]\n",
      "100%|██████████| 17/17 [00:00<00:00, 607.14it/s]\n",
      "100%|██████████| 17/17 [00:00<00:00, 653.88it/s]\n",
      "100%|██████████| 17/17 [00:00<00:00, 653.84it/s]\n",
      "100%|██████████| 17/17 [00:00<00:00, 653.84it/s]\n"
     ]
    },
    {
     "name": "stdout",
     "output_type": "stream",
     "text": [
      "Epoch [4281/6000]: Train loss: 1.4196, Valid loss: 1.5165\n"
     ]
    },
    {
     "name": "stderr",
     "output_type": "stream",
     "text": [
      "100%|██████████| 17/17 [00:00<00:00, 333.34it/s]\n",
      "100%|██████████| 17/17 [00:00<00:00, 101.48it/s]\n",
      "100%|██████████| 17/17 [00:00<00:00, 419.70it/s]\n",
      "100%|██████████| 17/17 [00:00<00:00, 630.00it/s]\n",
      "100%|██████████| 17/17 [00:00<00:00, 772.73it/s]\n",
      "100%|██████████| 17/17 [00:00<00:00, 739.13it/s]\n",
      "100%|██████████| 17/17 [00:00<00:00, 772.73it/s]\n",
      "100%|██████████| 17/17 [00:00<00:00, 724.03it/s]\n",
      "100%|██████████| 17/17 [00:00<00:00, 679.98it/s]\n",
      "100%|██████████| 17/17 [00:00<00:00, 739.11it/s]\n",
      "100%|██████████| 17/17 [00:00<00:00, 739.15it/s]\n",
      "100%|██████████| 17/17 [00:00<00:00, 708.32it/s]\n",
      "100%|██████████| 17/17 [00:00<00:00, 708.34it/s]\n",
      "100%|██████████| 17/17 [00:00<00:00, 653.85it/s]\n",
      "100%|██████████| 17/17 [00:00<00:00, 680.03it/s]\n",
      "100%|██████████| 17/17 [00:00<00:00, 708.33it/s]\n",
      "100%|██████████| 17/17 [00:00<00:00, 708.34it/s]\n",
      "100%|██████████| 17/17 [00:00<00:00, 772.72it/s]\n",
      "100%|██████████| 17/17 [00:00<00:00, 772.76it/s]\n",
      "100%|██████████| 17/17 [00:00<00:00, 653.83it/s]\n"
     ]
    },
    {
     "name": "stdout",
     "output_type": "stream",
     "text": [
      "Epoch [4301/6000]: Train loss: 1.4185, Valid loss: 1.3767\n"
     ]
    },
    {
     "name": "stderr",
     "output_type": "stream",
     "text": [
      "100%|██████████| 17/17 [00:00<00:00, 708.35it/s]\n",
      "100%|██████████| 17/17 [00:00<00:00, 739.16it/s]\n",
      "100%|██████████| 17/17 [00:00<00:00, 739.15it/s]\n",
      "100%|██████████| 17/17 [00:00<00:00, 772.72it/s]\n",
      "100%|██████████| 17/17 [00:00<00:00, 739.15it/s]\n",
      "100%|██████████| 17/17 [00:00<00:00, 732.84it/s]\n",
      "100%|██████████| 17/17 [00:00<00:00, 772.72it/s]\n",
      "100%|██████████| 17/17 [00:00<00:00, 772.72it/s]\n",
      "100%|██████████| 17/17 [00:00<00:00, 739.13it/s]\n",
      "100%|██████████| 17/17 [00:00<00:00, 772.71it/s]\n",
      "100%|██████████| 17/17 [00:00<00:00, 708.34it/s]\n",
      "100%|██████████| 17/17 [00:00<00:00, 772.72it/s]\n",
      "100%|██████████| 17/17 [00:00<00:00, 772.73it/s]\n",
      "100%|██████████| 17/17 [00:00<00:00, 739.15it/s]\n",
      "100%|██████████| 17/17 [00:00<00:00, 708.31it/s]\n",
      "100%|██████████| 17/17 [00:00<00:00, 708.31it/s]\n",
      "100%|██████████| 17/17 [00:00<00:00, 739.13it/s]\n",
      "100%|██████████| 17/17 [00:00<00:00, 739.14it/s]\n",
      "100%|██████████| 17/17 [00:00<00:00, 772.76it/s]\n",
      "100%|██████████| 17/17 [00:00<00:00, 653.85it/s]\n"
     ]
    },
    {
     "name": "stdout",
     "output_type": "stream",
     "text": [
      "Epoch [4321/6000]: Train loss: 1.4126, Valid loss: 1.2759\n"
     ]
    },
    {
     "name": "stderr",
     "output_type": "stream",
     "text": [
      "100%|██████████| 17/17 [00:00<00:00, 708.34it/s]\n",
      "100%|██████████| 17/17 [00:00<00:00, 680.00it/s]\n",
      "100%|██████████| 17/17 [00:00<00:00, 739.15it/s]\n",
      "100%|██████████| 17/17 [00:00<00:00, 708.32it/s]\n",
      "100%|██████████| 17/17 [00:00<00:00, 739.12it/s]\n",
      "100%|██████████| 17/17 [00:00<00:00, 739.14it/s]\n",
      "100%|██████████| 17/17 [00:00<00:00, 708.33it/s]\n",
      "100%|██████████| 17/17 [00:00<00:00, 679.98it/s]\n"
     ]
    },
    {
     "name": "stdout",
     "output_type": "stream",
     "text": [
      "Saving model with loss 1.125...\n"
     ]
    },
    {
     "name": "stderr",
     "output_type": "stream",
     "text": [
      "100%|██████████| 17/17 [00:00<00:00, 739.12it/s]\n",
      "100%|██████████| 17/17 [00:00<00:00, 708.35it/s]\n",
      "100%|██████████| 17/17 [00:00<00:00, 680.02it/s]\n",
      "100%|██████████| 17/17 [00:00<00:00, 772.73it/s]\n",
      "100%|██████████| 17/17 [00:00<00:00, 708.31it/s]\n",
      "100%|██████████| 17/17 [00:00<00:00, 739.13it/s]\n",
      "100%|██████████| 17/17 [00:00<00:00, 772.72it/s]\n",
      "100%|██████████| 17/17 [00:00<00:00, 679.99it/s]\n",
      "100%|██████████| 17/17 [00:00<00:00, 739.13it/s]\n",
      "100%|██████████| 17/17 [00:00<00:00, 708.33it/s]\n",
      "100%|██████████| 17/17 [00:00<00:00, 680.02it/s]\n",
      "100%|██████████| 17/17 [00:00<00:00, 708.34it/s]\n"
     ]
    },
    {
     "name": "stdout",
     "output_type": "stream",
     "text": [
      "Epoch [4341/6000]: Train loss: 1.4080, Valid loss: 1.3292\n"
     ]
    },
    {
     "name": "stderr",
     "output_type": "stream",
     "text": [
      "100%|██████████| 17/17 [00:00<00:00, 629.63it/s]\n",
      "100%|██████████| 17/17 [00:00<00:00, 772.73it/s]\n",
      "100%|██████████| 17/17 [00:00<00:00, 739.14it/s]\n",
      "100%|██████████| 17/17 [00:00<00:00, 629.63it/s]\n",
      "100%|██████████| 17/17 [00:00<00:00, 365.64it/s]\n",
      "100%|██████████| 17/17 [00:00<00:00, 442.46it/s]\n",
      "100%|██████████| 17/17 [00:00<00:00, 483.49it/s]\n",
      "100%|██████████| 17/17 [00:00<00:00, 468.62it/s]\n",
      "100%|██████████| 17/17 [00:00<00:00, 472.21it/s]\n",
      "100%|██████████| 17/17 [00:00<00:00, 531.24it/s]\n",
      "100%|██████████| 17/17 [00:00<00:00, 531.26it/s]\n",
      "100%|██████████| 17/17 [00:00<00:00, 531.25it/s]\n",
      "100%|██████████| 17/17 [00:00<00:00, 586.20it/s]\n",
      "100%|██████████| 17/17 [00:00<00:00, 556.53it/s]\n",
      "100%|██████████| 17/17 [00:00<00:00, 404.76it/s]\n",
      "100%|██████████| 17/17 [00:00<00:00, 531.28it/s]\n",
      "100%|██████████| 17/17 [00:00<00:00, 607.16it/s]\n",
      "100%|██████████| 17/17 [00:00<00:00, 607.13it/s]\n",
      "100%|██████████| 17/17 [00:00<00:00, 708.34it/s]\n",
      "100%|██████████| 17/17 [00:00<00:00, 708.36it/s]\n"
     ]
    },
    {
     "name": "stdout",
     "output_type": "stream",
     "text": [
      "Epoch [4361/6000]: Train loss: 1.4084, Valid loss: 1.2519\n"
     ]
    },
    {
     "name": "stderr",
     "output_type": "stream",
     "text": [
      "100%|██████████| 17/17 [00:00<00:00, 679.99it/s]\n",
      "100%|██████████| 17/17 [00:00<00:00, 708.32it/s]\n",
      "100%|██████████| 17/17 [00:00<00:00, 708.36it/s]\n",
      "100%|██████████| 17/17 [00:00<00:00, 680.00it/s]\n",
      "100%|██████████| 17/17 [00:00<00:00, 653.85it/s]\n",
      "100%|██████████| 17/17 [00:00<00:00, 679.99it/s]\n",
      "100%|██████████| 17/17 [00:00<00:00, 739.12it/s]\n",
      "100%|██████████| 17/17 [00:00<00:00, 708.35it/s]\n",
      "100%|██████████| 17/17 [00:00<00:00, 678.59it/s]\n",
      "100%|██████████| 17/17 [00:00<00:00, 680.02it/s]\n",
      "100%|██████████| 17/17 [00:00<00:00, 708.34it/s]\n",
      "100%|██████████| 17/17 [00:00<00:00, 708.34it/s]\n",
      "100%|██████████| 17/17 [00:00<00:00, 680.00it/s]\n",
      "100%|██████████| 17/17 [00:00<00:00, 629.61it/s]\n",
      "100%|██████████| 17/17 [00:00<00:00, 679.98it/s]\n",
      "100%|██████████| 17/17 [00:00<00:00, 708.31it/s]\n",
      "100%|██████████| 17/17 [00:00<00:00, 739.14it/s]\n",
      "100%|██████████| 17/17 [00:00<00:00, 739.14it/s]\n",
      "100%|██████████| 17/17 [00:00<00:00, 708.32it/s]\n",
      "100%|██████████| 17/17 [00:00<00:00, 680.00it/s]\n"
     ]
    },
    {
     "name": "stdout",
     "output_type": "stream",
     "text": [
      "Epoch [4381/6000]: Train loss: 1.4026, Valid loss: 1.2600\n"
     ]
    },
    {
     "name": "stderr",
     "output_type": "stream",
     "text": [
      "100%|██████████| 17/17 [00:00<00:00, 680.00it/s]\n",
      "100%|██████████| 17/17 [00:00<00:00, 679.99it/s]\n",
      "100%|██████████| 17/17 [00:00<00:00, 708.32it/s]\n",
      "100%|██████████| 17/17 [00:00<00:00, 679.98it/s]\n",
      "100%|██████████| 17/17 [00:00<00:00, 739.12it/s]\n",
      "100%|██████████| 17/17 [00:00<00:00, 739.14it/s]\n",
      "100%|██████████| 17/17 [00:00<00:00, 679.99it/s]\n",
      "100%|██████████| 17/17 [00:00<00:00, 653.86it/s]\n",
      "100%|██████████| 17/17 [00:00<00:00, 772.72it/s]\n",
      "100%|██████████| 17/17 [00:00<00:00, 809.52it/s]\n",
      "100%|██████████| 17/17 [00:00<00:00, 772.72it/s]\n",
      "100%|██████████| 17/17 [00:00<00:00, 739.12it/s]\n",
      "100%|██████████| 17/17 [00:00<00:00, 739.15it/s]\n",
      "100%|██████████| 17/17 [00:00<00:00, 772.73it/s]\n",
      "100%|██████████| 17/17 [00:00<00:00, 772.72it/s]\n",
      "100%|██████████| 17/17 [00:00<00:00, 772.76it/s]\n",
      "100%|██████████| 17/17 [00:00<00:00, 809.53it/s]\n",
      "100%|██████████| 17/17 [00:00<00:00, 809.52it/s]\n",
      "100%|██████████| 17/17 [00:00<00:00, 739.13it/s]\n",
      "100%|██████████| 17/17 [00:00<00:00, 739.13it/s]\n"
     ]
    },
    {
     "name": "stdout",
     "output_type": "stream",
     "text": [
      "Epoch [4401/6000]: Train loss: 1.3985, Valid loss: 1.6168\n"
     ]
    },
    {
     "name": "stderr",
     "output_type": "stream",
     "text": [
      "100%|██████████| 17/17 [00:00<00:00, 772.72it/s]\n",
      "100%|██████████| 17/17 [00:00<00:00, 772.72it/s]\n",
      "100%|██████████| 17/17 [00:00<00:00, 809.52it/s]\n",
      "100%|██████████| 17/17 [00:00<00:00, 809.52it/s]\n",
      "100%|██████████| 17/17 [00:00<00:00, 772.78it/s]\n",
      "100%|██████████| 17/17 [00:00<00:00, 739.14it/s]\n",
      "100%|██████████| 17/17 [00:00<00:00, 772.72it/s]\n",
      "100%|██████████| 17/17 [00:00<00:00, 809.53it/s]\n",
      "100%|██████████| 17/17 [00:00<00:00, 772.74it/s]\n",
      "100%|██████████| 17/17 [00:00<00:00, 739.12it/s]\n",
      "100%|██████████| 17/17 [00:00<00:00, 809.52it/s]\n",
      "100%|██████████| 17/17 [00:00<00:00, 809.53it/s]\n",
      "100%|██████████| 17/17 [00:00<00:00, 772.50it/s]\n",
      "100%|██████████| 17/17 [00:00<00:00, 809.52it/s]\n",
      "100%|██████████| 17/17 [00:00<00:00, 809.52it/s]\n",
      "100%|██████████| 17/17 [00:00<00:00, 772.72it/s]\n",
      "100%|██████████| 17/17 [00:00<00:00, 772.72it/s]\n",
      "100%|██████████| 17/17 [00:00<00:00, 809.52it/s]\n",
      "100%|██████████| 17/17 [00:00<00:00, 739.14it/s]\n",
      "100%|██████████| 17/17 [00:00<00:00, 850.00it/s]\n"
     ]
    },
    {
     "name": "stdout",
     "output_type": "stream",
     "text": [
      "Epoch [4421/6000]: Train loss: 1.3949, Valid loss: 1.2961\n"
     ]
    },
    {
     "name": "stderr",
     "output_type": "stream",
     "text": [
      "100%|██████████| 17/17 [00:00<00:00, 809.53it/s]\n",
      "100%|██████████| 17/17 [00:00<00:00, 739.11it/s]\n",
      "100%|██████████| 17/17 [00:00<00:00, 772.73it/s]\n",
      "100%|██████████| 17/17 [00:00<00:00, 772.72it/s]\n",
      "100%|██████████| 17/17 [00:00<00:00, 680.00it/s]\n",
      "100%|██████████| 17/17 [00:00<00:00, 772.71it/s]\n",
      "100%|██████████| 17/17 [00:00<00:00, 809.52it/s]\n",
      "100%|██████████| 17/17 [00:00<00:00, 772.71it/s]\n",
      "100%|██████████| 17/17 [00:00<00:00, 739.15it/s]\n",
      "100%|██████████| 17/17 [00:00<00:00, 772.72it/s]\n",
      "100%|██████████| 17/17 [00:00<00:00, 772.72it/s]\n",
      "100%|██████████| 17/17 [00:00<00:00, 772.74it/s]\n",
      "100%|██████████| 17/17 [00:00<00:00, 772.74it/s]\n",
      "100%|██████████| 17/17 [00:00<00:00, 809.53it/s]\n",
      "100%|██████████| 17/17 [00:00<00:00, 772.73it/s]\n",
      "100%|██████████| 17/17 [00:00<00:00, 739.15it/s]\n",
      "100%|██████████| 17/17 [00:00<00:00, 739.12it/s]\n",
      "100%|██████████| 17/17 [00:00<00:00, 772.74it/s]\n",
      "100%|██████████| 17/17 [00:00<00:00, 809.51it/s]\n",
      "100%|██████████| 17/17 [00:00<00:00, 809.52it/s]\n"
     ]
    },
    {
     "name": "stdout",
     "output_type": "stream",
     "text": [
      "Epoch [4441/6000]: Train loss: 1.3942, Valid loss: 1.2220\n"
     ]
    },
    {
     "name": "stderr",
     "output_type": "stream",
     "text": [
      "100%|██████████| 17/17 [00:00<00:00, 772.72it/s]\n",
      "100%|██████████| 17/17 [00:00<00:00, 772.72it/s]\n",
      "100%|██████████| 17/17 [00:00<00:00, 772.75it/s]\n",
      "100%|██████████| 17/17 [00:00<00:00, 772.74it/s]\n",
      "100%|██████████| 17/17 [00:00<00:00, 772.72it/s]\n",
      "100%|██████████| 17/17 [00:00<00:00, 772.71it/s]\n",
      "100%|██████████| 17/17 [00:00<00:00, 809.51it/s]\n",
      "100%|██████████| 17/17 [00:00<00:00, 809.52it/s]\n",
      "100%|██████████| 17/17 [00:00<00:00, 772.73it/s]\n",
      "100%|██████████| 17/17 [00:00<00:00, 708.34it/s]\n",
      "100%|██████████| 17/17 [00:00<00:00, 809.55it/s]\n",
      "100%|██████████| 17/17 [00:00<00:00, 772.72it/s]\n",
      "100%|██████████| 17/17 [00:00<00:00, 809.52it/s]\n",
      "100%|██████████| 17/17 [00:00<00:00, 772.70it/s]\n",
      "100%|██████████| 17/17 [00:00<00:00, 772.72it/s]\n",
      "100%|██████████| 17/17 [00:00<00:00, 772.72it/s]\n",
      "100%|██████████| 17/17 [00:00<00:00, 708.34it/s]\n",
      "100%|██████████| 17/17 [00:00<00:00, 708.32it/s]\n",
      "100%|██████████| 17/17 [00:00<00:00, 772.76it/s]\n",
      "100%|██████████| 17/17 [00:00<00:00, 772.73it/s]\n"
     ]
    },
    {
     "name": "stdout",
     "output_type": "stream",
     "text": [
      "Epoch [4461/6000]: Train loss: 1.3901, Valid loss: 1.1533\n"
     ]
    },
    {
     "name": "stderr",
     "output_type": "stream",
     "text": [
      "100%|██████████| 17/17 [00:00<00:00, 772.72it/s]\n",
      "100%|██████████| 17/17 [00:00<00:00, 772.74it/s]\n",
      "100%|██████████| 17/17 [00:00<00:00, 772.72it/s]\n",
      "100%|██████████| 17/17 [00:00<00:00, 772.72it/s]\n",
      "100%|██████████| 17/17 [00:00<00:00, 772.70it/s]\n",
      "100%|██████████| 17/17 [00:00<00:00, 772.71it/s]\n",
      "100%|██████████| 17/17 [00:00<00:00, 772.72it/s]\n",
      "100%|██████████| 17/17 [00:00<00:00, 773.04it/s]\n",
      "100%|██████████| 17/17 [00:00<00:00, 809.53it/s]\n",
      "100%|██████████| 17/17 [00:00<00:00, 772.72it/s]\n",
      "100%|██████████| 17/17 [00:00<00:00, 739.12it/s]\n",
      "100%|██████████| 17/17 [00:00<00:00, 809.51it/s]\n",
      "100%|██████████| 17/17 [00:00<00:00, 809.52it/s]\n",
      "100%|██████████| 17/17 [00:00<00:00, 772.72it/s]\n",
      "100%|██████████| 17/17 [00:00<00:00, 772.67it/s]\n",
      "100%|██████████| 17/17 [00:00<00:00, 809.57it/s]\n",
      "100%|██████████| 17/17 [00:00<00:00, 809.52it/s]\n",
      "100%|██████████| 17/17 [00:00<00:00, 772.72it/s]\n",
      "100%|██████████| 17/17 [00:00<00:00, 772.72it/s]\n",
      "100%|██████████| 17/17 [00:00<00:00, 739.14it/s]\n"
     ]
    },
    {
     "name": "stdout",
     "output_type": "stream",
     "text": [
      "Epoch [4481/6000]: Train loss: 1.3865, Valid loss: 1.3058\n"
     ]
    },
    {
     "name": "stderr",
     "output_type": "stream",
     "text": [
      "100%|██████████| 17/17 [00:00<00:00, 772.74it/s]\n",
      "100%|██████████| 17/17 [00:00<00:00, 772.72it/s]\n",
      "100%|██████████| 17/17 [00:00<00:00, 809.54it/s]\n",
      "100%|██████████| 17/17 [00:00<00:00, 772.74it/s]\n",
      "100%|██████████| 17/17 [00:00<00:00, 772.72it/s]\n",
      "100%|██████████| 17/17 [00:00<00:00, 772.71it/s]\n",
      "100%|██████████| 17/17 [00:00<00:00, 772.73it/s]\n",
      "100%|██████████| 17/17 [00:00<00:00, 772.71it/s]\n",
      "100%|██████████| 17/17 [00:00<00:00, 809.53it/s]\n",
      "100%|██████████| 17/17 [00:00<00:00, 772.75it/s]\n",
      "100%|██████████| 17/17 [00:00<00:00, 772.70it/s]\n",
      "100%|██████████| 17/17 [00:00<00:00, 809.49it/s]\n",
      "100%|██████████| 17/17 [00:00<00:00, 809.52it/s]\n",
      "100%|██████████| 17/17 [00:00<00:00, 772.72it/s]\n",
      "100%|██████████| 17/17 [00:00<00:00, 809.51it/s]\n",
      "100%|██████████| 17/17 [00:00<00:00, 772.72it/s]\n",
      "100%|██████████| 17/17 [00:00<00:00, 680.02it/s]\n",
      "100%|██████████| 17/17 [00:00<00:00, 739.13it/s]\n",
      "100%|██████████| 17/17 [00:00<00:00, 739.15it/s]\n"
     ]
    },
    {
     "name": "stdout",
     "output_type": "stream",
     "text": [
      "Saving model with loss 1.122...\n"
     ]
    },
    {
     "name": "stderr",
     "output_type": "stream",
     "text": [
      "100%|██████████| 17/17 [00:00<00:00, 739.12it/s]\n"
     ]
    },
    {
     "name": "stdout",
     "output_type": "stream",
     "text": [
      "Epoch [4501/6000]: Train loss: 1.3853, Valid loss: 1.1626\n"
     ]
    },
    {
     "name": "stderr",
     "output_type": "stream",
     "text": [
      "100%|██████████| 17/17 [00:00<00:00, 772.72it/s]\n"
     ]
    },
    {
     "name": "stdout",
     "output_type": "stream",
     "text": [
      "Saving model with loss 1.117...\n"
     ]
    },
    {
     "name": "stderr",
     "output_type": "stream",
     "text": [
      "100%|██████████| 17/17 [00:00<00:00, 739.12it/s]\n",
      "100%|██████████| 17/17 [00:00<00:00, 772.72it/s]\n",
      "100%|██████████| 17/17 [00:00<00:00, 708.35it/s]\n",
      "100%|██████████| 17/17 [00:00<00:00, 739.11it/s]\n",
      "100%|██████████| 17/17 [00:00<00:00, 739.13it/s]\n",
      "100%|██████████| 17/17 [00:00<00:00, 708.35it/s]\n",
      "100%|██████████| 17/17 [00:00<00:00, 708.34it/s]\n",
      "100%|██████████| 17/17 [00:00<00:00, 737.94it/s]\n",
      "100%|██████████| 17/17 [00:00<00:00, 739.12it/s]\n",
      "100%|██████████| 17/17 [00:00<00:00, 739.12it/s]\n",
      "100%|██████████| 17/17 [00:00<00:00, 739.13it/s]\n",
      "100%|██████████| 17/17 [00:00<00:00, 739.14it/s]\n",
      "100%|██████████| 17/17 [00:00<00:00, 739.12it/s]\n",
      "100%|██████████| 17/17 [00:00<00:00, 736.12it/s]\n",
      "100%|██████████| 17/17 [00:00<00:00, 739.13it/s]\n",
      "100%|██████████| 17/17 [00:00<00:00, 739.15it/s]\n",
      "100%|██████████| 17/17 [00:00<00:00, 708.33it/s]\n",
      "100%|██████████| 17/17 [00:00<00:00, 772.72it/s]\n",
      "100%|██████████| 17/17 [00:00<00:00, 772.72it/s]\n"
     ]
    },
    {
     "name": "stdout",
     "output_type": "stream",
     "text": [
      "Epoch [4521/6000]: Train loss: 1.3767, Valid loss: 1.2780\n"
     ]
    },
    {
     "name": "stderr",
     "output_type": "stream",
     "text": [
      "100%|██████████| 17/17 [00:00<00:00, 739.13it/s]\n",
      "100%|██████████| 17/17 [00:00<00:00, 739.15it/s]\n",
      "100%|██████████| 17/17 [00:00<00:00, 739.12it/s]\n",
      "100%|██████████| 17/17 [00:00<00:00, 739.13it/s]\n",
      "100%|██████████| 17/17 [00:00<00:00, 772.72it/s]\n",
      "100%|██████████| 17/17 [00:00<00:00, 739.15it/s]\n",
      "100%|██████████| 17/17 [00:00<00:00, 708.34it/s]\n",
      "100%|██████████| 17/17 [00:00<00:00, 739.12it/s]\n",
      "100%|██████████| 17/17 [00:00<00:00, 772.73it/s]\n",
      "100%|██████████| 17/17 [00:00<00:00, 739.12it/s]\n",
      "100%|██████████| 17/17 [00:00<00:00, 739.36it/s]\n",
      "100%|██████████| 17/17 [00:00<00:00, 739.12it/s]\n",
      "100%|██████████| 17/17 [00:00<00:00, 679.99it/s]\n",
      "100%|██████████| 17/17 [00:00<00:00, 708.34it/s]\n",
      "100%|██████████| 17/17 [00:00<00:00, 739.14it/s]\n",
      "100%|██████████| 17/17 [00:00<00:00, 708.30it/s]\n",
      "100%|██████████| 17/17 [00:00<00:00, 739.13it/s]\n",
      "100%|██████████| 17/17 [00:00<00:00, 739.14it/s]\n",
      "100%|██████████| 17/17 [00:00<00:00, 708.34it/s]\n",
      "100%|██████████| 17/17 [00:00<00:00, 739.12it/s]\n"
     ]
    },
    {
     "name": "stdout",
     "output_type": "stream",
     "text": [
      "Epoch [4541/6000]: Train loss: 1.3745, Valid loss: 1.2330\n"
     ]
    },
    {
     "name": "stderr",
     "output_type": "stream",
     "text": [
      "100%|██████████| 17/17 [00:00<00:00, 751.51it/s]\n",
      "100%|██████████| 17/17 [00:00<00:00, 772.72it/s]\n",
      "100%|██████████| 17/17 [00:00<00:00, 708.35it/s]\n",
      "100%|██████████| 17/17 [00:00<00:00, 788.78it/s]\n",
      "100%|██████████| 17/17 [00:00<00:00, 772.73it/s]\n",
      "100%|██████████| 17/17 [00:00<00:00, 709.24it/s]\n",
      "100%|██████████| 17/17 [00:00<00:00, 708.34it/s]\n",
      "100%|██████████| 17/17 [00:00<00:00, 739.12it/s]\n",
      "100%|██████████| 17/17 [00:00<00:00, 739.12it/s]\n",
      "100%|██████████| 17/17 [00:00<00:00, 739.14it/s]\n",
      "100%|██████████| 17/17 [00:00<00:00, 772.73it/s]\n",
      "100%|██████████| 17/17 [00:00<00:00, 708.36it/s]\n",
      "100%|██████████| 17/17 [00:00<00:00, 708.33it/s]\n",
      "100%|██████████| 17/17 [00:00<00:00, 772.73it/s]\n",
      "100%|██████████| 17/17 [00:00<00:00, 739.15it/s]\n",
      "100%|██████████| 17/17 [00:00<00:00, 719.42it/s]\n",
      "100%|██████████| 17/17 [00:00<00:00, 739.14it/s]\n",
      "100%|██████████| 17/17 [00:00<00:00, 739.12it/s]\n",
      "100%|██████████| 17/17 [00:00<00:00, 772.73it/s]\n",
      "100%|██████████| 17/17 [00:00<00:00, 739.13it/s]\n"
     ]
    },
    {
     "name": "stdout",
     "output_type": "stream",
     "text": [
      "Epoch [4561/6000]: Train loss: 1.3758, Valid loss: 1.2214\n"
     ]
    },
    {
     "name": "stderr",
     "output_type": "stream",
     "text": [
      "100%|██████████| 17/17 [00:00<00:00, 708.35it/s]\n",
      "100%|██████████| 17/17 [00:00<00:00, 739.14it/s]\n",
      "100%|██████████| 17/17 [00:00<00:00, 708.34it/s]\n",
      "100%|██████████| 17/17 [00:00<00:00, 772.72it/s]\n",
      "100%|██████████| 17/17 [00:00<00:00, 739.12it/s]\n",
      "100%|██████████| 17/17 [00:00<00:00, 772.75it/s]\n",
      "100%|██████████| 17/17 [00:00<00:00, 708.34it/s]\n",
      "100%|██████████| 17/17 [00:00<00:00, 772.72it/s]\n",
      "100%|██████████| 17/17 [00:00<00:00, 680.00it/s]\n",
      "100%|██████████| 17/17 [00:00<00:00, 708.36it/s]\n",
      "100%|██████████| 17/17 [00:00<00:00, 772.77it/s]\n",
      "100%|██████████| 17/17 [00:00<00:00, 739.14it/s]\n",
      "100%|██████████| 17/17 [00:00<00:00, 679.99it/s]\n",
      "100%|██████████| 17/17 [00:00<00:00, 708.31it/s]\n",
      "100%|██████████| 17/17 [00:00<00:00, 739.13it/s]\n",
      "100%|██████████| 17/17 [00:00<00:00, 739.14it/s]\n",
      "100%|██████████| 17/17 [00:00<00:00, 739.15it/s]\n",
      "100%|██████████| 17/17 [00:00<00:00, 739.13it/s]\n",
      "100%|██████████| 17/17 [00:00<00:00, 772.72it/s]\n",
      "100%|██████████| 17/17 [00:00<00:00, 772.72it/s]\n"
     ]
    },
    {
     "name": "stdout",
     "output_type": "stream",
     "text": [
      "Epoch [4581/6000]: Train loss: 1.3742, Valid loss: 1.2129\n"
     ]
    },
    {
     "name": "stderr",
     "output_type": "stream",
     "text": [
      "100%|██████████| 17/17 [00:00<00:00, 739.17it/s]\n",
      "100%|██████████| 17/17 [00:00<00:00, 739.12it/s]\n",
      "100%|██████████| 17/17 [00:00<00:00, 739.13it/s]\n",
      "100%|██████████| 17/17 [00:00<00:00, 772.72it/s]\n",
      "100%|██████████| 17/17 [00:00<00:00, 739.15it/s]\n",
      "100%|██████████| 17/17 [00:00<00:00, 676.58it/s]\n",
      "100%|██████████| 17/17 [00:00<00:00, 739.13it/s]\n",
      "100%|██████████| 17/17 [00:00<00:00, 739.13it/s]\n",
      "100%|██████████| 17/17 [00:00<00:00, 772.72it/s]\n",
      "100%|██████████| 17/17 [00:00<00:00, 739.16it/s]\n",
      "100%|██████████| 17/17 [00:00<00:00, 708.31it/s]\n",
      "100%|██████████| 17/17 [00:00<00:00, 739.14it/s]\n",
      "100%|██████████| 17/17 [00:00<00:00, 739.14it/s]\n",
      "100%|██████████| 17/17 [00:00<00:00, 739.13it/s]\n",
      "100%|██████████| 17/17 [00:00<00:00, 708.34it/s]\n",
      "100%|██████████| 17/17 [00:00<00:00, 708.34it/s]\n",
      "100%|██████████| 17/17 [00:00<00:00, 708.32it/s]\n",
      "100%|██████████| 17/17 [00:00<00:00, 708.33it/s]\n",
      "100%|██████████| 17/17 [00:00<00:00, 739.13it/s]\n",
      "100%|██████████| 17/17 [00:00<00:00, 739.15it/s]\n"
     ]
    },
    {
     "name": "stdout",
     "output_type": "stream",
     "text": [
      "Epoch [4601/6000]: Train loss: 1.3654, Valid loss: 1.2273\n"
     ]
    },
    {
     "name": "stderr",
     "output_type": "stream",
     "text": [
      "100%|██████████| 17/17 [00:00<00:00, 739.15it/s]\n",
      "100%|██████████| 17/17 [00:00<00:00, 708.31it/s]\n",
      "100%|██████████| 17/17 [00:00<00:00, 772.73it/s]\n"
     ]
    },
    {
     "name": "stdout",
     "output_type": "stream",
     "text": [
      "Saving model with loss 1.107...\n"
     ]
    },
    {
     "name": "stderr",
     "output_type": "stream",
     "text": [
      "100%|██████████| 17/17 [00:00<00:00, 680.03it/s]\n",
      "100%|██████████| 17/17 [00:00<00:00, 739.13it/s]\n",
      "100%|██████████| 17/17 [00:00<00:00, 772.76it/s]\n",
      "100%|██████████| 17/17 [00:00<00:00, 772.71it/s]\n",
      "100%|██████████| 17/17 [00:00<00:00, 708.34it/s]\n",
      "100%|██████████| 17/17 [00:00<00:00, 772.72it/s]\n",
      "100%|██████████| 17/17 [00:00<00:00, 653.83it/s]\n",
      "100%|██████████| 17/17 [00:00<00:00, 708.32it/s]\n",
      "100%|██████████| 17/17 [00:00<00:00, 739.12it/s]\n",
      "100%|██████████| 17/17 [00:00<00:00, 739.14it/s]\n",
      "100%|██████████| 17/17 [00:00<00:00, 739.12it/s]\n",
      "100%|██████████| 17/17 [00:00<00:00, 739.15it/s]\n",
      "100%|██████████| 17/17 [00:00<00:00, 739.12it/s]\n",
      "100%|██████████| 17/17 [00:00<00:00, 739.13it/s]\n",
      "100%|██████████| 17/17 [00:00<00:00, 712.49it/s]\n",
      "100%|██████████| 17/17 [00:00<00:00, 708.34it/s]\n",
      "100%|██████████| 17/17 [00:00<00:00, 739.12it/s]\n"
     ]
    },
    {
     "name": "stdout",
     "output_type": "stream",
     "text": [
      "Epoch [4621/6000]: Train loss: 1.3634, Valid loss: 1.3377\n"
     ]
    },
    {
     "name": "stderr",
     "output_type": "stream",
     "text": [
      "100%|██████████| 17/17 [00:00<00:00, 739.14it/s]\n",
      "100%|██████████| 17/17 [00:00<00:00, 739.12it/s]\n",
      "100%|██████████| 17/17 [00:00<00:00, 708.33it/s]\n",
      "100%|██████████| 17/17 [00:00<00:00, 772.72it/s]\n",
      "100%|██████████| 17/17 [00:00<00:00, 708.34it/s]\n",
      "100%|██████████| 17/17 [00:00<00:00, 772.70it/s]\n",
      "100%|██████████| 17/17 [00:00<00:00, 739.15it/s]\n",
      "100%|██████████| 17/17 [00:00<00:00, 739.15it/s]\n",
      "100%|██████████| 17/17 [00:00<00:00, 708.34it/s]\n",
      "100%|██████████| 17/17 [00:00<00:00, 739.13it/s]\n",
      "100%|██████████| 17/17 [00:00<00:00, 739.13it/s]\n",
      "100%|██████████| 17/17 [00:00<00:00, 739.14it/s]\n",
      "100%|██████████| 17/17 [00:00<00:00, 708.35it/s]\n",
      "100%|██████████| 17/17 [00:00<00:00, 739.13it/s]\n",
      "100%|██████████| 17/17 [00:00<00:00, 739.12it/s]\n",
      "100%|██████████| 17/17 [00:00<00:00, 739.12it/s]\n",
      "100%|██████████| 17/17 [00:00<00:00, 739.12it/s]\n",
      "100%|██████████| 17/17 [00:00<00:00, 708.34it/s]\n",
      "100%|██████████| 17/17 [00:00<00:00, 653.85it/s]\n",
      "100%|██████████| 17/17 [00:00<00:00, 708.31it/s]\n"
     ]
    },
    {
     "name": "stdout",
     "output_type": "stream",
     "text": [
      "Epoch [4641/6000]: Train loss: 1.3604, Valid loss: 1.2509\n"
     ]
    },
    {
     "name": "stderr",
     "output_type": "stream",
     "text": [
      "100%|██████████| 17/17 [00:00<00:00, 739.15it/s]\n",
      "100%|██████████| 17/17 [00:00<00:00, 708.36it/s]\n",
      "100%|██████████| 17/17 [00:00<00:00, 739.15it/s]\n",
      "100%|██████████| 17/17 [00:00<00:00, 708.33it/s]\n",
      "100%|██████████| 17/17 [00:00<00:00, 739.12it/s]\n",
      "100%|██████████| 17/17 [00:00<00:00, 739.14it/s]\n",
      "100%|██████████| 17/17 [00:00<00:00, 708.34it/s]\n",
      "100%|██████████| 17/17 [00:00<00:00, 772.73it/s]\n",
      "100%|██████████| 17/17 [00:00<00:00, 739.15it/s]\n",
      "100%|██████████| 17/17 [00:00<00:00, 772.70it/s]\n",
      "100%|██████████| 17/17 [00:00<00:00, 809.53it/s]\n",
      "100%|██████████| 17/17 [00:00<00:00, 772.73it/s]\n",
      "100%|██████████| 17/17 [00:00<00:00, 772.73it/s]\n",
      "100%|██████████| 17/17 [00:00<00:00, 772.67it/s]\n",
      "100%|██████████| 17/17 [00:00<00:00, 809.52it/s]\n",
      "100%|██████████| 17/17 [00:00<00:00, 772.17it/s]\n",
      "100%|██████████| 17/17 [00:00<00:00, 772.71it/s]\n",
      "100%|██████████| 17/17 [00:00<00:00, 802.89it/s]\n",
      "100%|██████████| 17/17 [00:00<00:00, 772.71it/s]\n",
      "100%|██████████| 17/17 [00:00<00:00, 772.73it/s]\n"
     ]
    },
    {
     "name": "stdout",
     "output_type": "stream",
     "text": [
      "Epoch [4661/6000]: Train loss: 1.3603, Valid loss: 1.2546\n"
     ]
    },
    {
     "name": "stderr",
     "output_type": "stream",
     "text": [
      "100%|██████████| 17/17 [00:00<00:00, 772.72it/s]\n",
      "100%|██████████| 17/17 [00:00<00:00, 809.53it/s]\n",
      "100%|██████████| 17/17 [00:00<00:00, 772.73it/s]\n",
      "100%|██████████| 17/17 [00:00<00:00, 680.00it/s]\n",
      "100%|██████████| 17/17 [00:00<00:00, 739.13it/s]\n",
      "100%|██████████| 17/17 [00:00<00:00, 772.73it/s]\n",
      "100%|██████████| 17/17 [00:00<00:00, 772.72it/s]\n",
      "100%|██████████| 17/17 [00:00<00:00, 772.76it/s]\n",
      "100%|██████████| 17/17 [00:00<00:00, 772.74it/s]\n",
      "100%|██████████| 17/17 [00:00<00:00, 772.71it/s]\n",
      "100%|██████████| 17/17 [00:00<00:00, 772.72it/s]\n",
      "100%|██████████| 17/17 [00:00<00:00, 772.72it/s]\n",
      "100%|██████████| 17/17 [00:00<00:00, 772.73it/s]\n",
      "100%|██████████| 17/17 [00:00<00:00, 772.73it/s]\n",
      "100%|██████████| 17/17 [00:00<00:00, 680.00it/s]\n",
      "100%|██████████| 17/17 [00:00<00:00, 739.13it/s]\n",
      "100%|██████████| 17/17 [00:00<00:00, 680.01it/s]\n",
      "100%|██████████| 17/17 [00:00<00:00, 771.59it/s]\n",
      "100%|██████████| 17/17 [00:00<00:00, 708.33it/s]\n",
      "100%|██████████| 17/17 [00:00<00:00, 739.13it/s]\n"
     ]
    },
    {
     "name": "stdout",
     "output_type": "stream",
     "text": [
      "Epoch [4681/6000]: Train loss: 1.3536, Valid loss: 1.2528\n"
     ]
    },
    {
     "name": "stderr",
     "output_type": "stream",
     "text": [
      "100%|██████████| 17/17 [00:00<00:00, 772.73it/s]\n",
      "100%|██████████| 17/17 [00:00<00:00, 772.70it/s]\n",
      "100%|██████████| 17/17 [00:00<00:00, 772.72it/s]\n",
      "100%|██████████| 17/17 [00:00<00:00, 772.72it/s]\n",
      "100%|██████████| 17/17 [00:00<00:00, 739.13it/s]\n",
      "100%|██████████| 17/17 [00:00<00:00, 680.00it/s]\n",
      "100%|██████████| 17/17 [00:00<00:00, 739.14it/s]\n",
      "100%|██████████| 17/17 [00:00<00:00, 739.13it/s]\n",
      "100%|██████████| 17/17 [00:00<00:00, 772.72it/s]\n",
      "100%|██████████| 17/17 [00:00<00:00, 739.14it/s]\n",
      "100%|██████████| 17/17 [00:00<00:00, 739.12it/s]\n",
      "100%|██████████| 17/17 [00:00<00:00, 809.53it/s]\n",
      "100%|██████████| 17/17 [00:00<00:00, 755.22it/s]\n",
      "100%|██████████| 17/17 [00:00<00:00, 772.72it/s]\n",
      "100%|██████████| 17/17 [00:00<00:00, 772.74it/s]\n",
      "100%|██████████| 17/17 [00:00<00:00, 772.72it/s]\n",
      "100%|██████████| 17/17 [00:00<00:00, 809.55it/s]\n",
      "100%|██████████| 17/17 [00:00<00:00, 739.14it/s]\n",
      "100%|██████████| 17/17 [00:00<00:00, 739.13it/s]\n",
      "100%|██████████| 17/17 [00:00<00:00, 772.72it/s]\n"
     ]
    },
    {
     "name": "stdout",
     "output_type": "stream",
     "text": [
      "Epoch [4701/6000]: Train loss: 1.3522, Valid loss: 1.3020\n"
     ]
    },
    {
     "name": "stderr",
     "output_type": "stream",
     "text": [
      "100%|██████████| 17/17 [00:00<00:00, 772.76it/s]\n",
      "100%|██████████| 17/17 [00:00<00:00, 739.10it/s]\n",
      "100%|██████████| 17/17 [00:00<00:00, 739.13it/s]\n",
      "100%|██████████| 17/17 [00:00<00:00, 772.76it/s]\n",
      "100%|██████████| 17/17 [00:00<00:00, 772.71it/s]\n",
      "100%|██████████| 17/17 [00:00<00:00, 772.72it/s]\n",
      "100%|██████████| 17/17 [00:00<00:00, 809.53it/s]\n",
      "100%|██████████| 17/17 [00:00<00:00, 809.50it/s]\n",
      "100%|██████████| 17/17 [00:00<00:00, 739.14it/s]\n",
      "100%|██████████| 17/17 [00:00<00:00, 772.72it/s]\n",
      "100%|██████████| 17/17 [00:00<00:00, 708.36it/s]\n",
      "100%|██████████| 17/17 [00:00<00:00, 739.12it/s]\n",
      "100%|██████████| 17/17 [00:00<00:00, 739.13it/s]\n",
      "100%|██████████| 17/17 [00:00<00:00, 809.53it/s]\n",
      "100%|██████████| 17/17 [00:00<00:00, 739.04it/s]\n",
      "100%|██████████| 17/17 [00:00<00:00, 772.76it/s]\n",
      "100%|██████████| 17/17 [00:00<00:00, 739.12it/s]\n",
      "100%|██████████| 17/17 [00:00<00:00, 772.72it/s]\n",
      "100%|██████████| 17/17 [00:00<00:00, 809.53it/s]\n",
      "100%|██████████| 17/17 [00:00<00:00, 739.14it/s]\n"
     ]
    },
    {
     "name": "stdout",
     "output_type": "stream",
     "text": [
      "Epoch [4721/6000]: Train loss: 1.3467, Valid loss: 1.1845\n"
     ]
    },
    {
     "name": "stderr",
     "output_type": "stream",
     "text": [
      "100%|██████████| 17/17 [00:00<00:00, 772.73it/s]\n",
      "100%|██████████| 17/17 [00:00<00:00, 809.52it/s]\n",
      "100%|██████████| 17/17 [00:00<00:00, 739.14it/s]\n",
      "100%|██████████| 17/17 [00:00<00:00, 772.71it/s]\n",
      "100%|██████████| 17/17 [00:00<00:00, 809.52it/s]\n",
      "100%|██████████| 17/17 [00:00<00:00, 772.72it/s]\n",
      "100%|██████████| 17/17 [00:00<00:00, 772.74it/s]\n",
      "100%|██████████| 17/17 [00:00<00:00, 809.53it/s]\n",
      "100%|██████████| 17/17 [00:00<00:00, 762.31it/s]\n",
      "100%|██████████| 17/17 [00:00<00:00, 772.72it/s]\n",
      "100%|██████████| 17/17 [00:00<00:00, 809.53it/s]\n",
      "100%|██████████| 17/17 [00:00<00:00, 772.72it/s]\n",
      "100%|██████████| 17/17 [00:00<00:00, 772.73it/s]\n",
      "100%|██████████| 17/17 [00:00<00:00, 772.68it/s]\n",
      "100%|██████████| 17/17 [00:00<00:00, 679.99it/s]\n",
      "100%|██████████| 17/17 [00:00<00:00, 709.17it/s]\n",
      "100%|██████████| 17/17 [00:00<00:00, 739.16it/s]\n",
      "100%|██████████| 17/17 [00:00<00:00, 708.33it/s]\n",
      "100%|██████████| 17/17 [00:00<00:00, 708.34it/s]\n",
      "100%|██████████| 17/17 [00:00<00:00, 708.32it/s]\n"
     ]
    },
    {
     "name": "stdout",
     "output_type": "stream",
     "text": [
      "Epoch [4741/6000]: Train loss: 1.3482, Valid loss: 1.1413\n"
     ]
    },
    {
     "name": "stderr",
     "output_type": "stream",
     "text": [
      "100%|██████████| 17/17 [00:00<00:00, 708.33it/s]\n",
      "100%|██████████| 17/17 [00:00<00:00, 739.13it/s]\n",
      "100%|██████████| 17/17 [00:00<00:00, 708.34it/s]\n"
     ]
    },
    {
     "name": "stdout",
     "output_type": "stream",
     "text": [
      "Saving model with loss 1.105...\n"
     ]
    },
    {
     "name": "stderr",
     "output_type": "stream",
     "text": [
      "100%|██████████| 17/17 [00:00<00:00, 739.18it/s]\n",
      "100%|██████████| 17/17 [00:00<00:00, 708.34it/s]\n",
      "100%|██████████| 17/17 [00:00<00:00, 679.99it/s]\n",
      "100%|██████████| 17/17 [00:00<00:00, 629.63it/s]\n",
      "100%|██████████| 17/17 [00:00<00:00, 653.85it/s]\n",
      "100%|██████████| 17/17 [00:00<00:00, 607.15it/s]\n",
      "100%|██████████| 17/17 [00:00<00:00, 531.24it/s]\n",
      "100%|██████████| 17/17 [00:00<00:00, 447.38it/s]\n",
      "100%|██████████| 17/17 [00:00<00:00, 680.03it/s]\n",
      "100%|██████████| 17/17 [00:00<00:00, 680.00it/s]\n",
      "100%|██████████| 17/17 [00:00<00:00, 265.63it/s]\n",
      "100%|██████████| 17/17 [00:00<00:00, 414.63it/s]\n",
      "100%|██████████| 17/17 [00:00<00:00, 500.01it/s]\n",
      "100%|██████████| 17/17 [00:00<00:00, 680.02it/s]\n",
      "100%|██████████| 17/17 [00:00<00:00, 739.14it/s]\n",
      "100%|██████████| 17/17 [00:00<00:00, 500.00it/s]\n",
      "100%|██████████| 17/17 [00:00<00:00, 708.34it/s]\n"
     ]
    },
    {
     "name": "stdout",
     "output_type": "stream",
     "text": [
      "Epoch [4761/6000]: Train loss: 1.3446, Valid loss: 1.2126\n"
     ]
    },
    {
     "name": "stderr",
     "output_type": "stream",
     "text": [
      "100%|██████████| 17/17 [00:00<00:00, 680.00it/s]\n",
      "100%|██████████| 17/17 [00:00<00:00, 515.15it/s]\n",
      "100%|██████████| 17/17 [00:00<00:00, 679.98it/s]\n",
      "100%|██████████| 17/17 [00:00<00:00, 653.85it/s]\n",
      "100%|██████████| 17/17 [00:00<00:00, 680.00it/s]\n",
      "100%|██████████| 17/17 [00:00<00:00, 354.17it/s]\n",
      "100%|██████████| 17/17 [00:00<00:00, 425.00it/s]\n",
      "100%|██████████| 17/17 [00:00<00:00, 447.36it/s]\n",
      "100%|██████████| 17/17 [00:00<00:00, 531.25it/s]\n",
      "100%|██████████| 17/17 [00:00<00:00, 515.15it/s]\n",
      "100%|██████████| 17/17 [00:00<00:00, 472.22it/s]\n",
      "100%|██████████| 17/17 [00:00<00:00, 607.16it/s]\n",
      "100%|██████████| 17/17 [00:00<00:00, 629.63it/s]\n",
      "100%|██████████| 17/17 [00:00<00:00, 333.33it/s]\n",
      "100%|██████████| 17/17 [00:00<00:00, 425.01it/s]\n",
      "100%|██████████| 17/17 [00:00<00:00, 515.16it/s]\n",
      "100%|██████████| 17/17 [00:00<00:00, 566.66it/s]\n",
      "100%|██████████| 17/17 [00:00<00:00, 459.45it/s]\n",
      "100%|██████████| 17/17 [00:00<00:00, 515.16it/s]\n",
      "100%|██████████| 17/17 [00:00<00:00, 566.69it/s]\n"
     ]
    },
    {
     "name": "stdout",
     "output_type": "stream",
     "text": [
      "Epoch [4781/6000]: Train loss: 1.3450, Valid loss: 1.1186\n"
     ]
    },
    {
     "name": "stderr",
     "output_type": "stream",
     "text": [
      "100%|██████████| 17/17 [00:00<00:00, 566.67it/s]\n",
      "100%|██████████| 17/17 [00:00<00:00, 739.12it/s]\n",
      "100%|██████████| 17/17 [00:00<00:00, 739.13it/s]\n",
      "100%|██████████| 17/17 [00:00<00:00, 548.39it/s]\n",
      "100%|██████████| 17/17 [00:00<00:00, 704.54it/s]\n",
      "100%|██████████| 17/17 [00:00<00:00, 772.76it/s]\n",
      "100%|██████████| 17/17 [00:00<00:00, 772.74it/s]\n",
      "100%|██████████| 17/17 [00:00<00:00, 607.16it/s]\n",
      "100%|██████████| 17/17 [00:00<00:00, 809.53it/s]\n",
      "100%|██████████| 17/17 [00:00<00:00, 739.14it/s]\n",
      "100%|██████████| 17/17 [00:00<00:00, 739.13it/s]\n",
      "100%|██████████| 17/17 [00:00<00:00, 772.76it/s]\n",
      "100%|██████████| 17/17 [00:00<00:00, 809.54it/s]\n",
      "100%|██████████| 17/17 [00:00<00:00, 772.72it/s]\n",
      "100%|██████████| 17/17 [00:00<00:00, 772.72it/s]\n",
      "100%|██████████| 17/17 [00:00<00:00, 809.52it/s]\n",
      "100%|██████████| 17/17 [00:00<00:00, 772.72it/s]\n",
      "100%|██████████| 17/17 [00:00<00:00, 809.52it/s]\n",
      "100%|██████████| 17/17 [00:00<00:00, 772.72it/s]\n",
      "100%|██████████| 17/17 [00:00<00:00, 809.54it/s]\n"
     ]
    },
    {
     "name": "stdout",
     "output_type": "stream",
     "text": [
      "Epoch [4801/6000]: Train loss: 1.3378, Valid loss: 1.2230\n"
     ]
    },
    {
     "name": "stderr",
     "output_type": "stream",
     "text": [
      "100%|██████████| 17/17 [00:00<00:00, 772.72it/s]\n",
      "100%|██████████| 17/17 [00:00<00:00, 739.11it/s]\n",
      "100%|██████████| 17/17 [00:00<00:00, 772.73it/s]\n",
      "100%|██████████| 17/17 [00:00<00:00, 739.16it/s]\n",
      "100%|██████████| 17/17 [00:00<00:00, 739.11it/s]\n",
      "100%|██████████| 17/17 [00:00<00:00, 708.31it/s]\n",
      "100%|██████████| 17/17 [00:00<00:00, 772.60it/s]\n",
      "100%|██████████| 17/17 [00:00<00:00, 708.36it/s]\n",
      "100%|██████████| 17/17 [00:00<00:00, 772.73it/s]\n",
      "100%|██████████| 17/17 [00:00<00:00, 772.72it/s]\n",
      "100%|██████████| 17/17 [00:00<00:00, 772.73it/s]\n",
      "100%|██████████| 17/17 [00:00<00:00, 772.72it/s]\n",
      "100%|██████████| 17/17 [00:00<00:00, 772.70it/s]\n",
      "100%|██████████| 17/17 [00:00<00:00, 772.73it/s]\n",
      "100%|██████████| 17/17 [00:00<00:00, 772.76it/s]\n",
      "100%|██████████| 17/17 [00:00<00:00, 772.74it/s]\n",
      "100%|██████████| 17/17 [00:00<00:00, 772.74it/s]\n",
      "100%|██████████| 17/17 [00:00<00:00, 772.73it/s]\n",
      "100%|██████████| 17/17 [00:00<00:00, 772.73it/s]\n",
      "100%|██████████| 17/17 [00:00<00:00, 772.72it/s]\n"
     ]
    },
    {
     "name": "stdout",
     "output_type": "stream",
     "text": [
      "Epoch [4821/6000]: Train loss: 1.3363, Valid loss: 1.1249\n"
     ]
    },
    {
     "name": "stderr",
     "output_type": "stream",
     "text": [
      "100%|██████████| 17/17 [00:00<00:00, 772.73it/s]\n",
      "100%|██████████| 17/17 [00:00<00:00, 739.13it/s]\n",
      "100%|██████████| 17/17 [00:00<00:00, 739.12it/s]\n",
      "100%|██████████| 17/17 [00:00<00:00, 772.72it/s]\n",
      "100%|██████████| 17/17 [00:00<00:00, 772.69it/s]\n",
      "100%|██████████| 17/17 [00:00<00:00, 772.72it/s]\n",
      "100%|██████████| 17/17 [00:00<00:00, 772.72it/s]\n",
      "100%|██████████| 17/17 [00:00<00:00, 772.73it/s]\n",
      "100%|██████████| 17/17 [00:00<00:00, 739.14it/s]\n",
      "100%|██████████| 17/17 [00:00<00:00, 772.70it/s]\n"
     ]
    },
    {
     "name": "stdout",
     "output_type": "stream",
     "text": [
      "Saving model with loss 1.101...\n"
     ]
    },
    {
     "name": "stderr",
     "output_type": "stream",
     "text": [
      "100%|██████████| 17/17 [00:00<00:00, 772.72it/s]\n"
     ]
    },
    {
     "name": "stdout",
     "output_type": "stream",
     "text": [
      "Saving model with loss 1.087...\n"
     ]
    },
    {
     "name": "stderr",
     "output_type": "stream",
     "text": [
      "100%|██████████| 17/17 [00:00<00:00, 772.72it/s]\n",
      "100%|██████████| 17/17 [00:00<00:00, 809.52it/s]\n",
      "100%|██████████| 17/17 [00:00<00:00, 739.15it/s]\n",
      "100%|██████████| 17/17 [00:00<00:00, 772.74it/s]\n",
      "100%|██████████| 17/17 [00:00<00:00, 772.71it/s]\n",
      "100%|██████████| 17/17 [00:00<00:00, 739.09it/s]\n",
      "100%|██████████| 17/17 [00:00<00:00, 772.75it/s]\n",
      "100%|██████████| 17/17 [00:00<00:00, 772.77it/s]\n",
      "100%|██████████| 17/17 [00:00<00:00, 680.00it/s]\n"
     ]
    },
    {
     "name": "stdout",
     "output_type": "stream",
     "text": [
      "Epoch [4841/6000]: Train loss: 1.3345, Valid loss: 1.1699\n"
     ]
    },
    {
     "name": "stderr",
     "output_type": "stream",
     "text": [
      "100%|██████████| 17/17 [00:00<00:00, 772.72it/s]\n",
      "100%|██████████| 17/17 [00:00<00:00, 809.55it/s]\n",
      "100%|██████████| 17/17 [00:00<00:00, 708.39it/s]\n",
      "100%|██████████| 17/17 [00:00<00:00, 680.00it/s]\n",
      "100%|██████████| 17/17 [00:00<00:00, 772.71it/s]\n",
      "100%|██████████| 17/17 [00:00<00:00, 739.13it/s]\n",
      "100%|██████████| 17/17 [00:00<00:00, 772.73it/s]\n",
      "100%|██████████| 17/17 [00:00<00:00, 708.35it/s]\n",
      "100%|██████████| 17/17 [00:00<00:00, 739.13it/s]\n",
      "100%|██████████| 17/17 [00:00<00:00, 772.73it/s]\n",
      "100%|██████████| 17/17 [00:00<00:00, 772.73it/s]\n",
      "100%|██████████| 17/17 [00:00<00:00, 680.00it/s]\n",
      "100%|██████████| 17/17 [00:00<00:00, 772.71it/s]\n",
      "100%|██████████| 17/17 [00:00<00:00, 809.53it/s]\n",
      "100%|██████████| 17/17 [00:00<00:00, 708.36it/s]\n",
      "100%|██████████| 17/17 [00:00<00:00, 742.87it/s]\n",
      "100%|██████████| 17/17 [00:00<00:00, 680.01it/s]\n",
      "100%|██████████| 17/17 [00:00<00:00, 738.31it/s]\n",
      "100%|██████████| 17/17 [00:00<00:00, 744.87it/s]\n",
      "100%|██████████| 17/17 [00:00<00:00, 739.21it/s]\n"
     ]
    },
    {
     "name": "stdout",
     "output_type": "stream",
     "text": [
      "Epoch [4861/6000]: Train loss: 1.3294, Valid loss: 1.1521\n"
     ]
    },
    {
     "name": "stderr",
     "output_type": "stream",
     "text": [
      "100%|██████████| 17/17 [00:00<00:00, 739.71it/s]\n",
      "100%|██████████| 17/17 [00:00<00:00, 739.12it/s]\n",
      "100%|██████████| 17/17 [00:00<00:00, 772.72it/s]\n"
     ]
    },
    {
     "name": "stdout",
     "output_type": "stream",
     "text": [
      "Saving model with loss 1.068...\n"
     ]
    },
    {
     "name": "stderr",
     "output_type": "stream",
     "text": [
      "100%|██████████| 17/17 [00:00<00:00, 752.97it/s]\n",
      "100%|██████████| 17/17 [00:00<00:00, 772.72it/s]\n",
      "100%|██████████| 17/17 [00:00<00:00, 739.10it/s]\n",
      "100%|██████████| 17/17 [00:00<00:00, 772.72it/s]\n",
      "100%|██████████| 17/17 [00:00<00:00, 772.72it/s]\n",
      "100%|██████████| 17/17 [00:00<00:00, 739.15it/s]\n",
      "100%|██████████| 17/17 [00:00<00:00, 772.68it/s]\n",
      "100%|██████████| 17/17 [00:00<00:00, 772.72it/s]\n",
      "100%|██████████| 17/17 [00:00<00:00, 772.77it/s]\n",
      "100%|██████████| 17/17 [00:00<00:00, 772.73it/s]\n",
      "100%|██████████| 17/17 [00:00<00:00, 772.72it/s]\n",
      "100%|██████████| 17/17 [00:00<00:00, 809.53it/s]\n",
      "100%|██████████| 17/17 [00:00<00:00, 680.00it/s]\n",
      "100%|██████████| 17/17 [00:00<00:00, 739.12it/s]\n",
      "100%|██████████| 17/17 [00:00<00:00, 772.75it/s]\n",
      "100%|██████████| 17/17 [00:00<00:00, 772.72it/s]\n",
      "100%|██████████| 17/17 [00:00<00:00, 680.00it/s]\n"
     ]
    },
    {
     "name": "stdout",
     "output_type": "stream",
     "text": [
      "Epoch [4881/6000]: Train loss: 1.3293, Valid loss: 1.2173\n"
     ]
    },
    {
     "name": "stderr",
     "output_type": "stream",
     "text": [
      "100%|██████████| 17/17 [00:00<00:00, 739.12it/s]\n",
      "100%|██████████| 17/17 [00:00<00:00, 772.73it/s]\n",
      "100%|██████████| 17/17 [00:00<00:00, 809.55it/s]\n",
      "100%|██████████| 17/17 [00:00<00:00, 739.13it/s]\n",
      "100%|██████████| 17/17 [00:00<00:00, 772.69it/s]\n",
      "100%|██████████| 17/17 [00:00<00:00, 772.72it/s]\n",
      "100%|██████████| 17/17 [00:00<00:00, 772.72it/s]\n",
      "100%|██████████| 17/17 [00:00<00:00, 739.15it/s]\n",
      "100%|██████████| 17/17 [00:00<00:00, 809.53it/s]\n",
      "100%|██████████| 17/17 [00:00<00:00, 772.75it/s]\n",
      "100%|██████████| 17/17 [00:00<00:00, 772.74it/s]\n",
      "100%|██████████| 17/17 [00:00<00:00, 772.73it/s]\n",
      "100%|██████████| 17/17 [00:00<00:00, 809.53it/s]\n",
      "100%|██████████| 17/17 [00:00<00:00, 739.13it/s]\n",
      "100%|██████████| 17/17 [00:00<00:00, 809.53it/s]\n",
      "100%|██████████| 17/17 [00:00<00:00, 809.53it/s]\n",
      "100%|██████████| 17/17 [00:00<00:00, 739.14it/s]\n",
      "100%|██████████| 17/17 [00:00<00:00, 739.13it/s]\n",
      "100%|██████████| 17/17 [00:00<00:00, 772.72it/s]\n",
      "100%|██████████| 17/17 [00:00<00:00, 809.51it/s]\n"
     ]
    },
    {
     "name": "stdout",
     "output_type": "stream",
     "text": [
      "Epoch [4901/6000]: Train loss: 1.3256, Valid loss: 1.1624\n"
     ]
    },
    {
     "name": "stderr",
     "output_type": "stream",
     "text": [
      "100%|██████████| 17/17 [00:00<00:00, 787.70it/s]\n",
      "100%|██████████| 17/17 [00:00<00:00, 772.73it/s]\n",
      "100%|██████████| 17/17 [00:00<00:00, 772.72it/s]\n",
      "100%|██████████| 17/17 [00:00<00:00, 772.73it/s]\n",
      "100%|██████████| 17/17 [00:00<00:00, 772.73it/s]\n",
      "100%|██████████| 17/17 [00:00<00:00, 772.73it/s]\n",
      "100%|██████████| 17/17 [00:00<00:00, 772.72it/s]\n",
      "100%|██████████| 17/17 [00:00<00:00, 809.52it/s]\n",
      "100%|██████████| 17/17 [00:00<00:00, 809.53it/s]\n",
      "100%|██████████| 17/17 [00:00<00:00, 772.72it/s]\n",
      "100%|██████████| 17/17 [00:00<00:00, 772.70it/s]\n",
      "100%|██████████| 17/17 [00:00<00:00, 809.53it/s]\n",
      "100%|██████████| 17/17 [00:00<00:00, 708.34it/s]\n",
      "100%|██████████| 17/17 [00:00<00:00, 772.73it/s]\n",
      "100%|██████████| 17/17 [00:00<00:00, 739.13it/s]\n",
      "100%|██████████| 17/17 [00:00<00:00, 772.73it/s]\n",
      "100%|██████████| 17/17 [00:00<00:00, 772.73it/s]\n",
      "100%|██████████| 17/17 [00:00<00:00, 772.72it/s]\n",
      "100%|██████████| 17/17 [00:00<00:00, 772.73it/s]\n",
      "100%|██████████| 17/17 [00:00<00:00, 772.73it/s]\n"
     ]
    },
    {
     "name": "stdout",
     "output_type": "stream",
     "text": [
      "Epoch [4921/6000]: Train loss: 1.3217, Valid loss: 1.2137\n"
     ]
    },
    {
     "name": "stderr",
     "output_type": "stream",
     "text": [
      "100%|██████████| 17/17 [00:00<00:00, 772.74it/s]\n",
      "100%|██████████| 17/17 [00:00<00:00, 809.51it/s]\n",
      "100%|██████████| 17/17 [00:00<00:00, 772.72it/s]\n",
      "100%|██████████| 17/17 [00:00<00:00, 772.76it/s]\n",
      "100%|██████████| 17/17 [00:00<00:00, 772.70it/s]\n",
      "100%|██████████| 17/17 [00:00<00:00, 809.52it/s]\n",
      "100%|██████████| 17/17 [00:00<00:00, 772.72it/s]\n",
      "100%|██████████| 17/17 [00:00<00:00, 708.34it/s]\n",
      "100%|██████████| 17/17 [00:00<00:00, 739.12it/s]\n",
      "100%|██████████| 17/17 [00:00<00:00, 739.13it/s]\n",
      "100%|██████████| 17/17 [00:00<00:00, 738.25it/s]\n",
      "100%|██████████| 17/17 [00:00<00:00, 739.14it/s]\n",
      "100%|██████████| 17/17 [00:00<00:00, 772.72it/s]\n",
      "100%|██████████| 17/17 [00:00<00:00, 772.73it/s]\n",
      "100%|██████████| 17/17 [00:00<00:00, 708.34it/s]\n",
      "100%|██████████| 17/17 [00:00<00:00, 739.13it/s]\n",
      "100%|██████████| 17/17 [00:00<00:00, 772.74it/s]\n",
      "100%|██████████| 17/17 [00:00<00:00, 772.73it/s]\n",
      "100%|██████████| 17/17 [00:00<00:00, 708.34it/s]\n",
      "100%|██████████| 17/17 [00:00<00:00, 739.13it/s]\n"
     ]
    },
    {
     "name": "stdout",
     "output_type": "stream",
     "text": [
      "Epoch [4941/6000]: Train loss: 1.3218, Valid loss: 1.2619\n"
     ]
    },
    {
     "name": "stderr",
     "output_type": "stream",
     "text": [
      "100%|██████████| 17/17 [00:00<00:00, 772.73it/s]\n",
      "100%|██████████| 17/17 [00:00<00:00, 739.13it/s]\n",
      "100%|██████████| 17/17 [00:00<00:00, 739.11it/s]\n",
      "100%|██████████| 17/17 [00:00<00:00, 739.13it/s]\n",
      "100%|██████████| 17/17 [00:00<00:00, 739.13it/s]\n",
      "100%|██████████| 17/17 [00:00<00:00, 739.13it/s]\n",
      "100%|██████████| 17/17 [00:00<00:00, 739.12it/s]\n",
      "100%|██████████| 17/17 [00:00<00:00, 739.12it/s]\n",
      "100%|██████████| 17/17 [00:00<00:00, 679.98it/s]\n",
      "100%|██████████| 17/17 [00:00<00:00, 739.13it/s]\n",
      "100%|██████████| 17/17 [00:00<00:00, 772.72it/s]\n",
      "100%|██████████| 17/17 [00:00<00:00, 708.34it/s]\n",
      "100%|██████████| 17/17 [00:00<00:00, 739.15it/s]\n",
      "100%|██████████| 17/17 [00:00<00:00, 772.72it/s]\n",
      "100%|██████████| 17/17 [00:00<00:00, 739.13it/s]\n",
      "100%|██████████| 17/17 [00:00<00:00, 739.13it/s]\n",
      "100%|██████████| 17/17 [00:00<00:00, 739.13it/s]\n",
      "100%|██████████| 17/17 [00:00<00:00, 739.14it/s]\n",
      "100%|██████████| 17/17 [00:00<00:00, 739.13it/s]\n",
      "100%|██████████| 17/17 [00:00<00:00, 739.15it/s]\n"
     ]
    },
    {
     "name": "stdout",
     "output_type": "stream",
     "text": [
      "Epoch [4961/6000]: Train loss: 1.3178, Valid loss: 1.1468\n"
     ]
    },
    {
     "name": "stderr",
     "output_type": "stream",
     "text": [
      "100%|██████████| 17/17 [00:00<00:00, 708.34it/s]\n",
      "100%|██████████| 17/17 [00:00<00:00, 739.13it/s]\n",
      "100%|██████████| 17/17 [00:00<00:00, 739.13it/s]\n",
      "100%|██████████| 17/17 [00:00<00:00, 739.11it/s]\n",
      "100%|██████████| 17/17 [00:00<00:00, 739.13it/s]\n",
      "100%|██████████| 17/17 [00:00<00:00, 739.15it/s]\n",
      "100%|██████████| 17/17 [00:00<00:00, 738.68it/s]\n",
      "100%|██████████| 17/17 [00:00<00:00, 772.73it/s]\n",
      "100%|██████████| 17/17 [00:00<00:00, 695.29it/s]\n",
      "100%|██████████| 17/17 [00:00<00:00, 723.10it/s]\n",
      "100%|██████████| 17/17 [00:00<00:00, 772.72it/s]\n",
      "100%|██████████| 17/17 [00:00<00:00, 745.02it/s]\n",
      "100%|██████████| 17/17 [00:00<00:00, 680.00it/s]\n",
      "100%|██████████| 17/17 [00:00<00:00, 727.90it/s]\n",
      "100%|██████████| 17/17 [00:00<00:00, 708.33it/s]\n",
      "100%|██████████| 17/17 [00:00<00:00, 739.14it/s]\n",
      "100%|██████████| 17/17 [00:00<00:00, 730.30it/s]\n",
      "100%|██████████| 17/17 [00:00<00:00, 753.67it/s]\n",
      "100%|██████████| 17/17 [00:00<00:00, 653.88it/s]\n",
      "100%|██████████| 17/17 [00:00<00:00, 687.43it/s]\n"
     ]
    },
    {
     "name": "stdout",
     "output_type": "stream",
     "text": [
      "Epoch [4981/6000]: Train loss: 1.3154, Valid loss: 1.1579\n"
     ]
    },
    {
     "name": "stderr",
     "output_type": "stream",
     "text": [
      "100%|██████████| 17/17 [00:00<00:00, 708.34it/s]\n",
      "100%|██████████| 17/17 [00:00<00:00, 708.34it/s]\n",
      "100%|██████████| 17/17 [00:00<00:00, 772.71it/s]\n",
      "100%|██████████| 17/17 [00:00<00:00, 711.93it/s]\n",
      "100%|██████████| 17/17 [00:00<00:00, 739.13it/s]\n",
      "100%|██████████| 17/17 [00:00<00:00, 772.72it/s]\n",
      "100%|██████████| 17/17 [00:00<00:00, 739.13it/s]\n",
      "100%|██████████| 17/17 [00:00<00:00, 772.72it/s]\n",
      "100%|██████████| 17/17 [00:00<00:00, 772.72it/s]\n",
      "100%|██████████| 17/17 [00:00<00:00, 772.74it/s]\n",
      "100%|██████████| 17/17 [00:00<00:00, 739.05it/s]\n",
      "100%|██████████| 17/17 [00:00<00:00, 772.74it/s]\n",
      "100%|██████████| 17/17 [00:00<00:00, 739.13it/s]\n",
      "100%|██████████| 17/17 [00:00<00:00, 772.81it/s]\n",
      "100%|██████████| 17/17 [00:00<00:00, 743.90it/s]\n",
      "100%|██████████| 17/17 [00:00<00:00, 772.73it/s]\n",
      "100%|██████████| 17/17 [00:00<00:00, 809.51it/s]\n",
      "100%|██████████| 17/17 [00:00<00:00, 739.13it/s]\n",
      "100%|██████████| 17/17 [00:00<00:00, 772.72it/s]\n",
      "100%|██████████| 17/17 [00:00<00:00, 772.78it/s]\n"
     ]
    },
    {
     "name": "stdout",
     "output_type": "stream",
     "text": [
      "Epoch [5001/6000]: Train loss: 1.3135, Valid loss: 1.1383\n"
     ]
    },
    {
     "name": "stderr",
     "output_type": "stream",
     "text": [
      "100%|██████████| 17/17 [00:00<00:00, 772.73it/s]\n",
      "100%|██████████| 17/17 [00:00<00:00, 738.99it/s]\n",
      "100%|██████████| 17/17 [00:00<00:00, 808.30it/s]\n",
      "100%|██████████| 17/17 [00:00<00:00, 772.74it/s]\n",
      "100%|██████████| 17/17 [00:00<00:00, 772.73it/s]\n",
      "100%|██████████| 17/17 [00:00<00:00, 708.19it/s]\n",
      "100%|██████████| 17/17 [00:00<00:00, 739.14it/s]\n",
      "100%|██████████| 17/17 [00:00<00:00, 739.14it/s]\n",
      "100%|██████████| 17/17 [00:00<00:00, 772.62it/s]\n",
      "100%|██████████| 17/17 [00:00<00:00, 772.75it/s]\n",
      "100%|██████████| 17/17 [00:00<00:00, 680.00it/s]\n",
      "100%|██████████| 17/17 [00:00<00:00, 809.50it/s]\n",
      "100%|██████████| 17/17 [00:00<00:00, 809.39it/s]\n",
      "100%|██████████| 17/17 [00:00<00:00, 772.73it/s]\n",
      "100%|██████████| 17/17 [00:00<00:00, 772.73it/s]\n",
      "100%|██████████| 17/17 [00:00<00:00, 772.73it/s]\n",
      "100%|██████████| 17/17 [00:00<00:00, 774.22it/s]\n",
      "100%|██████████| 17/17 [00:00<00:00, 772.72it/s]\n",
      "100%|██████████| 17/17 [00:00<00:00, 772.73it/s]\n",
      "100%|██████████| 17/17 [00:00<00:00, 679.91it/s]\n"
     ]
    },
    {
     "name": "stdout",
     "output_type": "stream",
     "text": [
      "Epoch [5021/6000]: Train loss: 1.3102, Valid loss: 1.1627\n"
     ]
    },
    {
     "name": "stderr",
     "output_type": "stream",
     "text": [
      "100%|██████████| 17/17 [00:00<00:00, 739.13it/s]\n",
      "100%|██████████| 17/17 [00:00<00:00, 739.13it/s]\n",
      "100%|██████████| 17/17 [00:00<00:00, 772.73it/s]\n",
      "100%|██████████| 17/17 [00:00<00:00, 739.00it/s]\n",
      "100%|██████████| 17/17 [00:00<00:00, 772.74it/s]\n",
      "100%|██████████| 17/17 [00:00<00:00, 772.70it/s]\n",
      "100%|██████████| 17/17 [00:00<00:00, 708.21it/s]\n",
      "100%|██████████| 17/17 [00:00<00:00, 739.14it/s]\n",
      "100%|██████████| 17/17 [00:00<00:00, 772.73it/s]\n",
      "100%|██████████| 17/17 [00:00<00:00, 772.72it/s]\n",
      "100%|██████████| 17/17 [00:00<00:00, 772.62it/s]\n",
      "100%|██████████| 17/17 [00:00<00:00, 809.52it/s]\n",
      "100%|██████████| 17/17 [00:00<00:00, 772.73it/s]\n",
      "100%|██████████| 17/17 [00:00<00:00, 772.72it/s]\n",
      "100%|██████████| 17/17 [00:00<00:00, 772.88it/s]\n",
      "100%|██████████| 17/17 [00:00<00:00, 772.72it/s]\n",
      "100%|██████████| 17/17 [00:00<00:00, 739.13it/s]\n",
      "100%|██████████| 17/17 [00:00<00:00, 739.01it/s]\n",
      "100%|██████████| 17/17 [00:00<00:00, 779.25it/s]\n",
      "100%|██████████| 17/17 [00:00<00:00, 771.93it/s]\n"
     ]
    },
    {
     "name": "stdout",
     "output_type": "stream",
     "text": [
      "Epoch [5041/6000]: Train loss: 1.3084, Valid loss: 1.0961\n"
     ]
    },
    {
     "name": "stderr",
     "output_type": "stream",
     "text": [
      "100%|██████████| 17/17 [00:00<00:00, 739.14it/s]\n",
      "100%|██████████| 17/17 [00:00<00:00, 768.65it/s]\n",
      "100%|██████████| 17/17 [00:00<00:00, 708.33it/s]\n",
      "100%|██████████| 17/17 [00:00<00:00, 739.13it/s]\n",
      "100%|██████████| 17/17 [00:00<00:00, 739.02it/s]\n",
      "100%|██████████| 17/17 [00:00<00:00, 772.74it/s]\n",
      "100%|██████████| 17/17 [00:00<00:00, 708.34it/s]\n",
      "100%|██████████| 17/17 [00:00<00:00, 721.36it/s]\n",
      "100%|██████████| 17/17 [00:00<00:00, 739.12it/s]\n",
      "100%|██████████| 17/17 [00:00<00:00, 739.14it/s]\n",
      "100%|██████████| 17/17 [00:00<00:00, 772.74it/s]\n",
      "100%|██████████| 17/17 [00:00<00:00, 739.13it/s]\n",
      "100%|██████████| 17/17 [00:00<00:00, 772.73it/s]\n",
      "100%|██████████| 17/17 [00:00<00:00, 772.73it/s]\n",
      "100%|██████████| 17/17 [00:00<00:00, 739.15it/s]\n",
      "100%|██████████| 17/17 [00:00<00:00, 680.00it/s]\n",
      "100%|██████████| 17/17 [00:00<00:00, 809.52it/s]\n",
      "100%|██████████| 17/17 [00:00<00:00, 735.06it/s]\n",
      "100%|██████████| 17/17 [00:00<00:00, 739.13it/s]\n",
      "100%|██████████| 17/17 [00:00<00:00, 708.33it/s]\n"
     ]
    },
    {
     "name": "stdout",
     "output_type": "stream",
     "text": [
      "Epoch [5061/6000]: Train loss: 1.3074, Valid loss: 1.1730\n"
     ]
    },
    {
     "name": "stderr",
     "output_type": "stream",
     "text": [
      "100%|██████████| 17/17 [00:00<00:00, 772.72it/s]\n",
      "100%|██████████| 17/17 [00:00<00:00, 739.12it/s]\n",
      "100%|██████████| 17/17 [00:00<00:00, 772.73it/s]\n",
      "100%|██████████| 17/17 [00:00<00:00, 772.69it/s]\n",
      "100%|██████████| 17/17 [00:00<00:00, 772.72it/s]\n",
      "100%|██████████| 17/17 [00:00<00:00, 809.53it/s]\n",
      "100%|██████████| 17/17 [00:00<00:00, 739.14it/s]\n",
      "100%|██████████| 17/17 [00:00<00:00, 772.72it/s]\n",
      "100%|██████████| 17/17 [00:00<00:00, 772.72it/s]\n",
      "100%|██████████| 17/17 [00:00<00:00, 708.34it/s]\n",
      "100%|██████████| 17/17 [00:00<00:00, 772.72it/s]\n",
      "100%|██████████| 17/17 [00:00<00:00, 772.73it/s]\n",
      "100%|██████████| 17/17 [00:00<00:00, 772.73it/s]\n",
      "100%|██████████| 17/17 [00:00<00:00, 739.14it/s]\n",
      "100%|██████████| 17/17 [00:00<00:00, 752.33it/s]\n",
      "100%|██████████| 17/17 [00:00<00:00, 739.12it/s]\n",
      "100%|██████████| 17/17 [00:00<00:00, 739.13it/s]\n",
      "100%|██████████| 17/17 [00:00<00:00, 739.12it/s]\n",
      "100%|██████████| 17/17 [00:00<00:00, 739.15it/s]\n",
      "100%|██████████| 17/17 [00:00<00:00, 772.72it/s]\n"
     ]
    },
    {
     "name": "stdout",
     "output_type": "stream",
     "text": [
      "Epoch [5081/6000]: Train loss: 1.3061, Valid loss: 1.1804\n"
     ]
    },
    {
     "name": "stderr",
     "output_type": "stream",
     "text": [
      "100%|██████████| 17/17 [00:00<00:00, 772.75it/s]\n",
      "100%|██████████| 17/17 [00:00<00:00, 786.77it/s]\n",
      "100%|██████████| 17/17 [00:00<00:00, 739.14it/s]\n",
      "100%|██████████| 17/17 [00:00<00:00, 772.70it/s]\n",
      "100%|██████████| 17/17 [00:00<00:00, 739.03it/s]\n",
      "100%|██████████| 17/17 [00:00<00:00, 772.72it/s]\n",
      "100%|██████████| 17/17 [00:00<00:00, 772.73it/s]\n",
      "100%|██████████| 17/17 [00:00<00:00, 739.11it/s]\n",
      "100%|██████████| 17/17 [00:00<00:00, 772.72it/s]\n",
      "100%|██████████| 17/17 [00:00<00:00, 809.53it/s]\n",
      "100%|██████████| 17/17 [00:00<00:00, 739.13it/s]\n",
      "100%|██████████| 17/17 [00:00<00:00, 629.55it/s]\n",
      "100%|██████████| 17/17 [00:00<00:00, 772.72it/s]\n",
      "100%|██████████| 17/17 [00:00<00:00, 772.74it/s]\n",
      "100%|██████████| 17/17 [00:00<00:00, 739.12it/s]\n",
      "100%|██████████| 17/17 [00:00<00:00, 708.21it/s]\n",
      "100%|██████████| 17/17 [00:00<00:00, 739.15it/s]\n",
      "100%|██████████| 17/17 [00:00<00:00, 739.13it/s]\n",
      "100%|██████████| 17/17 [00:00<00:00, 772.62it/s]\n",
      "100%|██████████| 17/17 [00:00<00:00, 739.13it/s]\n"
     ]
    },
    {
     "name": "stdout",
     "output_type": "stream",
     "text": [
      "Epoch [5101/6000]: Train loss: 1.3025, Valid loss: 1.2036\n"
     ]
    },
    {
     "name": "stderr",
     "output_type": "stream",
     "text": [
      "100%|██████████| 17/17 [00:00<00:00, 772.75it/s]\n",
      "100%|██████████| 17/17 [00:00<00:00, 772.72it/s]\n",
      "100%|██████████| 17/17 [00:00<00:00, 772.63it/s]\n",
      "100%|██████████| 17/17 [00:00<00:00, 739.13it/s]\n",
      "100%|██████████| 17/17 [00:00<00:00, 772.72it/s]\n",
      "100%|██████████| 17/17 [00:00<00:00, 809.55it/s]\n",
      "100%|██████████| 17/17 [00:00<00:00, 739.12it/s]\n",
      "100%|██████████| 17/17 [00:00<00:00, 772.73it/s]\n",
      "100%|██████████| 17/17 [00:00<00:00, 772.72it/s]\n",
      "100%|██████████| 17/17 [00:00<00:00, 776.48it/s]\n",
      "100%|██████████| 17/17 [00:00<00:00, 739.13it/s]\n",
      "100%|██████████| 17/17 [00:00<00:00, 772.72it/s]\n",
      "100%|██████████| 17/17 [00:00<00:00, 739.13it/s]\n",
      "100%|██████████| 17/17 [00:00<00:00, 772.64it/s]\n",
      "100%|██████████| 17/17 [00:00<00:00, 719.73it/s]\n",
      "100%|██████████| 17/17 [00:00<00:00, 772.72it/s]\n",
      "100%|██████████| 17/17 [00:00<00:00, 722.88it/s]\n",
      "100%|██████████| 17/17 [00:00<00:00, 757.21it/s]\n",
      "100%|██████████| 17/17 [00:00<00:00, 772.73it/s]\n",
      "100%|██████████| 17/17 [00:00<00:00, 708.33it/s]\n"
     ]
    },
    {
     "name": "stdout",
     "output_type": "stream",
     "text": [
      "Epoch [5121/6000]: Train loss: 1.3011, Valid loss: 1.1833\n"
     ]
    },
    {
     "name": "stderr",
     "output_type": "stream",
     "text": [
      "100%|██████████| 17/17 [00:00<00:00, 738.51it/s]\n",
      "100%|██████████| 17/17 [00:00<00:00, 728.88it/s]\n",
      "100%|██████████| 17/17 [00:00<00:00, 772.73it/s]\n",
      "100%|██████████| 17/17 [00:00<00:00, 739.14it/s]\n",
      "100%|██████████| 17/17 [00:00<00:00, 708.34it/s]\n",
      "100%|██████████| 17/17 [00:00<00:00, 772.70it/s]\n",
      "100%|██████████| 17/17 [00:00<00:00, 772.73it/s]\n",
      "100%|██████████| 17/17 [00:00<00:00, 679.90it/s]\n",
      "100%|██████████| 17/17 [00:00<00:00, 739.13it/s]\n",
      "100%|██████████| 17/17 [00:00<00:00, 739.12it/s]\n",
      "100%|██████████| 17/17 [00:00<00:00, 739.12it/s]\n",
      "100%|██████████| 17/17 [00:00<00:00, 708.34it/s]\n",
      "100%|██████████| 17/17 [00:00<00:00, 739.13it/s]\n",
      "100%|██████████| 17/17 [00:00<00:00, 708.35it/s]\n",
      "100%|██████████| 17/17 [00:00<00:00, 772.58it/s]\n",
      "100%|██████████| 17/17 [00:00<00:00, 772.73it/s]\n",
      "100%|██████████| 17/17 [00:00<00:00, 772.73it/s]\n",
      "100%|██████████| 17/17 [00:00<00:00, 708.34it/s]\n",
      "100%|██████████| 17/17 [00:00<00:00, 739.11it/s]\n",
      "100%|██████████| 17/17 [00:00<00:00, 772.72it/s]\n"
     ]
    },
    {
     "name": "stdout",
     "output_type": "stream",
     "text": [
      "Epoch [5141/6000]: Train loss: 1.2983, Valid loss: 1.2428\n"
     ]
    },
    {
     "name": "stderr",
     "output_type": "stream",
     "text": [
      "100%|██████████| 17/17 [00:00<00:00, 653.86it/s]\n",
      "100%|██████████| 17/17 [00:00<00:00, 772.72it/s]\n"
     ]
    },
    {
     "name": "stdout",
     "output_type": "stream",
     "text": [
      "Saving model with loss 1.066...\n"
     ]
    },
    {
     "name": "stderr",
     "output_type": "stream",
     "text": [
      "100%|██████████| 17/17 [00:00<00:00, 772.73it/s]\n",
      "100%|██████████| 17/17 [00:00<00:00, 772.72it/s]\n",
      "100%|██████████| 17/17 [00:00<00:00, 765.48it/s]\n",
      "100%|██████████| 17/17 [00:00<00:00, 772.72it/s]\n",
      "100%|██████████| 17/17 [00:00<00:00, 809.83it/s]\n",
      "100%|██████████| 17/17 [00:00<00:00, 772.82it/s]\n",
      "100%|██████████| 17/17 [00:00<00:00, 772.72it/s]\n",
      "100%|██████████| 17/17 [00:00<00:00, 739.14it/s]\n",
      "100%|██████████| 17/17 [00:00<00:00, 772.74it/s]\n",
      "100%|██████████| 17/17 [00:00<00:00, 708.34it/s]\n",
      "100%|██████████| 17/17 [00:00<00:00, 708.31it/s]\n",
      "100%|██████████| 17/17 [00:00<00:00, 809.53it/s]\n",
      "100%|██████████| 17/17 [00:00<00:00, 772.75it/s]\n",
      "100%|██████████| 17/17 [00:00<00:00, 739.12it/s]\n",
      "100%|██████████| 17/17 [00:00<00:00, 743.58it/s]\n",
      "100%|██████████| 17/17 [00:00<00:00, 753.52it/s]\n",
      "100%|██████████| 17/17 [00:00<00:00, 741.34it/s]\n",
      "100%|██████████| 17/17 [00:00<00:00, 723.11it/s]\n"
     ]
    },
    {
     "name": "stdout",
     "output_type": "stream",
     "text": [
      "Epoch [5161/6000]: Train loss: 1.2954, Valid loss: 1.4288\n"
     ]
    },
    {
     "name": "stderr",
     "output_type": "stream",
     "text": [
      "100%|██████████| 17/17 [00:00<00:00, 739.14it/s]\n",
      "100%|██████████| 17/17 [00:00<00:00, 739.14it/s]\n",
      "100%|██████████| 17/17 [00:00<00:00, 772.75it/s]\n",
      "100%|██████████| 17/17 [00:00<00:00, 680.02it/s]\n",
      "100%|██████████| 17/17 [00:00<00:00, 772.73it/s]\n",
      "100%|██████████| 17/17 [00:00<00:00, 739.16it/s]\n",
      "100%|██████████| 17/17 [00:00<00:00, 739.14it/s]\n"
     ]
    },
    {
     "name": "stdout",
     "output_type": "stream",
     "text": [
      "Saving model with loss 1.059...\n"
     ]
    },
    {
     "name": "stderr",
     "output_type": "stream",
     "text": [
      "100%|██████████| 17/17 [00:00<00:00, 739.01it/s]\n",
      "100%|██████████| 17/17 [00:00<00:00, 809.57it/s]\n",
      "100%|██████████| 17/17 [00:00<00:00, 708.35it/s]\n",
      "100%|██████████| 17/17 [00:00<00:00, 739.14it/s]\n",
      "100%|██████████| 17/17 [00:00<00:00, 772.72it/s]\n",
      "100%|██████████| 17/17 [00:00<00:00, 739.15it/s]\n",
      "100%|██████████| 17/17 [00:00<00:00, 739.12it/s]\n",
      "100%|██████████| 17/17 [00:00<00:00, 739.14it/s]\n",
      "100%|██████████| 17/17 [00:00<00:00, 772.72it/s]\n",
      "100%|██████████| 17/17 [00:00<00:00, 739.15it/s]\n",
      "100%|██████████| 17/17 [00:00<00:00, 772.72it/s]\n",
      "100%|██████████| 17/17 [00:00<00:00, 739.12it/s]\n",
      "100%|██████████| 17/17 [00:00<00:00, 739.12it/s]\n"
     ]
    },
    {
     "name": "stdout",
     "output_type": "stream",
     "text": [
      "Epoch [5181/6000]: Train loss: 1.2959, Valid loss: 1.0493\n",
      "Saving model with loss 1.049...\n"
     ]
    },
    {
     "name": "stderr",
     "output_type": "stream",
     "text": [
      "100%|██████████| 17/17 [00:00<00:00, 739.15it/s]\n",
      "100%|██████████| 17/17 [00:00<00:00, 772.73it/s]\n",
      "100%|██████████| 17/17 [00:00<00:00, 708.34it/s]\n",
      "100%|██████████| 17/17 [00:00<00:00, 652.63it/s]\n",
      "100%|██████████| 17/17 [00:00<00:00, 680.04it/s]\n",
      "100%|██████████| 17/17 [00:00<00:00, 708.35it/s]\n",
      "100%|██████████| 17/17 [00:00<00:00, 708.30it/s]\n",
      "100%|██████████| 17/17 [00:00<00:00, 772.72it/s]\n",
      "100%|██████████| 17/17 [00:00<00:00, 772.73it/s]\n",
      "100%|██████████| 17/17 [00:00<00:00, 772.73it/s]\n",
      "100%|██████████| 17/17 [00:00<00:00, 772.75it/s]\n",
      "100%|██████████| 17/17 [00:00<00:00, 772.74it/s]\n",
      "100%|██████████| 17/17 [00:00<00:00, 772.72it/s]\n",
      "100%|██████████| 17/17 [00:00<00:00, 809.53it/s]\n",
      "100%|██████████| 17/17 [00:00<00:00, 809.51it/s]\n",
      "100%|██████████| 17/17 [00:00<00:00, 739.13it/s]\n",
      "100%|██████████| 17/17 [00:00<00:00, 809.53it/s]\n",
      "100%|██████████| 17/17 [00:00<00:00, 739.13it/s]\n",
      "100%|██████████| 17/17 [00:00<00:00, 772.78it/s]\n",
      "100%|██████████| 17/17 [00:00<00:00, 739.13it/s]\n"
     ]
    },
    {
     "name": "stdout",
     "output_type": "stream",
     "text": [
      "Epoch [5201/6000]: Train loss: 1.2925, Valid loss: 1.1170\n"
     ]
    },
    {
     "name": "stderr",
     "output_type": "stream",
     "text": [
      "100%|██████████| 17/17 [00:00<00:00, 772.71it/s]\n",
      "100%|██████████| 17/17 [00:00<00:00, 739.15it/s]\n",
      "100%|██████████| 17/17 [00:00<00:00, 739.12it/s]\n",
      "100%|██████████| 17/17 [00:00<00:00, 739.14it/s]\n",
      "100%|██████████| 17/17 [00:00<00:00, 772.72it/s]\n",
      "100%|██████████| 17/17 [00:00<00:00, 809.55it/s]\n",
      "100%|██████████| 17/17 [00:00<00:00, 739.13it/s]\n",
      "100%|██████████| 17/17 [00:00<00:00, 772.72it/s]\n",
      "100%|██████████| 17/17 [00:00<00:00, 809.54it/s]\n",
      "100%|██████████| 17/17 [00:00<00:00, 739.12it/s]\n"
     ]
    },
    {
     "name": "stdout",
     "output_type": "stream",
     "text": [
      "Saving model with loss 1.044...\n"
     ]
    },
    {
     "name": "stderr",
     "output_type": "stream",
     "text": [
      "100%|██████████| 17/17 [00:00<00:00, 772.72it/s]\n",
      "100%|██████████| 17/17 [00:00<00:00, 809.53it/s]\n",
      "100%|██████████| 17/17 [00:00<00:00, 772.71it/s]\n",
      "100%|██████████| 17/17 [00:00<00:00, 772.73it/s]\n",
      "100%|██████████| 17/17 [00:00<00:00, 809.53it/s]\n",
      "100%|██████████| 17/17 [00:00<00:00, 747.66it/s]\n",
      "100%|██████████| 17/17 [00:00<00:00, 707.98it/s]\n",
      "100%|██████████| 17/17 [00:00<00:00, 772.76it/s]\n",
      "100%|██████████| 17/17 [00:00<00:00, 772.72it/s]\n",
      "100%|██████████| 17/17 [00:00<00:00, 755.58it/s]\n"
     ]
    },
    {
     "name": "stdout",
     "output_type": "stream",
     "text": [
      "Epoch [5221/6000]: Train loss: 1.2909, Valid loss: 1.1229\n"
     ]
    },
    {
     "name": "stderr",
     "output_type": "stream",
     "text": [
      "100%|██████████| 17/17 [00:00<00:00, 772.73it/s]\n",
      "100%|██████████| 17/17 [00:00<00:00, 809.54it/s]\n",
      "100%|██████████| 17/17 [00:00<00:00, 772.76it/s]\n",
      "100%|██████████| 17/17 [00:00<00:00, 785.56it/s]\n",
      "100%|██████████| 17/17 [00:00<00:00, 809.54it/s]\n",
      "100%|██████████| 17/17 [00:00<00:00, 809.52it/s]\n",
      "100%|██████████| 17/17 [00:00<00:00, 772.73it/s]\n",
      "100%|██████████| 17/17 [00:00<00:00, 809.51it/s]\n",
      "100%|██████████| 17/17 [00:00<00:00, 809.53it/s]\n",
      "100%|██████████| 17/17 [00:00<00:00, 772.77it/s]\n",
      "100%|██████████| 17/17 [00:00<00:00, 772.70it/s]\n",
      "100%|██████████| 17/17 [00:00<00:00, 809.55it/s]\n",
      "100%|██████████| 17/17 [00:00<00:00, 772.73it/s]\n",
      "100%|██████████| 17/17 [00:00<00:00, 809.52it/s]\n",
      "100%|██████████| 17/17 [00:00<00:00, 809.53it/s]\n",
      "100%|██████████| 17/17 [00:00<00:00, 739.14it/s]\n",
      "100%|██████████| 17/17 [00:00<00:00, 772.72it/s]\n",
      "100%|██████████| 17/17 [00:00<00:00, 809.52it/s]\n",
      "100%|██████████| 17/17 [00:00<00:00, 809.53it/s]\n",
      "100%|██████████| 17/17 [00:00<00:00, 772.73it/s]\n"
     ]
    },
    {
     "name": "stdout",
     "output_type": "stream",
     "text": [
      "Epoch [5241/6000]: Train loss: 1.2854, Valid loss: 1.4656\n"
     ]
    },
    {
     "name": "stderr",
     "output_type": "stream",
     "text": [
      "100%|██████████| 17/17 [00:00<00:00, 809.53it/s]\n",
      "100%|██████████| 17/17 [00:00<00:00, 809.54it/s]\n",
      "100%|██████████| 17/17 [00:00<00:00, 772.75it/s]\n",
      "100%|██████████| 17/17 [00:00<00:00, 772.72it/s]\n",
      "100%|██████████| 17/17 [00:00<00:00, 809.53it/s]\n",
      "100%|██████████| 17/17 [00:00<00:00, 809.45it/s]\n",
      "100%|██████████| 17/17 [00:00<00:00, 809.53it/s]\n",
      "100%|██████████| 17/17 [00:00<00:00, 772.78it/s]\n",
      "100%|██████████| 17/17 [00:00<00:00, 772.69it/s]\n",
      "100%|██████████| 17/17 [00:00<00:00, 809.52it/s]\n",
      "100%|██████████| 17/17 [00:00<00:00, 772.73it/s]\n",
      "100%|██████████| 17/17 [00:00<00:00, 772.72it/s]\n",
      "100%|██████████| 17/17 [00:00<00:00, 849.99it/s]\n",
      "100%|██████████| 17/17 [00:00<00:00, 809.55it/s]\n",
      "100%|██████████| 17/17 [00:00<00:00, 771.46it/s]\n",
      "100%|██████████| 17/17 [00:00<00:00, 809.53it/s]\n",
      "100%|██████████| 17/17 [00:00<00:00, 809.54it/s]\n"
     ]
    },
    {
     "name": "stdout",
     "output_type": "stream",
     "text": [
      "Saving model with loss 1.024...\n"
     ]
    },
    {
     "name": "stderr",
     "output_type": "stream",
     "text": [
      "100%|██████████| 17/17 [00:00<00:00, 772.72it/s]\n",
      "100%|██████████| 17/17 [00:00<00:00, 809.53it/s]\n",
      "100%|██████████| 17/17 [00:00<00:00, 809.52it/s]\n"
     ]
    },
    {
     "name": "stdout",
     "output_type": "stream",
     "text": [
      "Epoch [5261/6000]: Train loss: 1.2880, Valid loss: 1.0387\n"
     ]
    },
    {
     "name": "stderr",
     "output_type": "stream",
     "text": [
      "100%|██████████| 17/17 [00:00<00:00, 772.73it/s]\n",
      "100%|██████████| 17/17 [00:00<00:00, 809.51it/s]\n",
      "100%|██████████| 17/17 [00:00<00:00, 772.75it/s]\n",
      "100%|██████████| 17/17 [00:00<00:00, 809.52it/s]\n",
      "100%|██████████| 17/17 [00:00<00:00, 809.53it/s]\n",
      "100%|██████████| 17/17 [00:00<00:00, 809.55it/s]\n",
      "100%|██████████| 17/17 [00:00<00:00, 772.72it/s]\n",
      "100%|██████████| 17/17 [00:00<00:00, 772.72it/s]\n",
      "100%|██████████| 17/17 [00:00<00:00, 809.54it/s]\n",
      "100%|██████████| 17/17 [00:00<00:00, 772.76it/s]\n",
      "100%|██████████| 17/17 [00:00<00:00, 772.70it/s]\n",
      "100%|██████████| 17/17 [00:00<00:00, 772.72it/s]\n",
      "100%|██████████| 17/17 [00:00<00:00, 809.56it/s]\n",
      "100%|██████████| 17/17 [00:00<00:00, 680.00it/s]\n",
      "100%|██████████| 17/17 [00:00<00:00, 772.74it/s]\n",
      "100%|██████████| 17/17 [00:00<00:00, 809.53it/s]\n",
      "100%|██████████| 17/17 [00:00<00:00, 772.72it/s]\n",
      "100%|██████████| 17/17 [00:00<00:00, 772.73it/s]\n",
      "100%|██████████| 17/17 [00:00<00:00, 809.55it/s]\n",
      "100%|██████████| 17/17 [00:00<00:00, 772.72it/s]\n"
     ]
    },
    {
     "name": "stdout",
     "output_type": "stream",
     "text": [
      "Epoch [5281/6000]: Train loss: 1.2838, Valid loss: 1.1385\n"
     ]
    },
    {
     "name": "stderr",
     "output_type": "stream",
     "text": [
      "100%|██████████| 17/17 [00:00<00:00, 772.71it/s]\n",
      "100%|██████████| 17/17 [00:00<00:00, 772.72it/s]\n",
      "100%|██████████| 17/17 [00:00<00:00, 809.53it/s]\n",
      "100%|██████████| 17/17 [00:00<00:00, 809.50it/s]\n",
      "100%|██████████| 17/17 [00:00<00:00, 809.53it/s]\n",
      "100%|██████████| 17/17 [00:00<00:00, 809.53it/s]\n",
      "100%|██████████| 17/17 [00:00<00:00, 809.53it/s]\n",
      "100%|██████████| 17/17 [00:00<00:00, 809.53it/s]\n",
      "100%|██████████| 17/17 [00:00<00:00, 809.52it/s]\n",
      "100%|██████████| 17/17 [00:00<00:00, 809.53it/s]\n",
      "100%|██████████| 17/17 [00:00<00:00, 809.53it/s]\n",
      "100%|██████████| 17/17 [00:00<00:00, 772.73it/s]\n",
      "100%|██████████| 17/17 [00:00<00:00, 772.73it/s]\n",
      "100%|██████████| 17/17 [00:00<00:00, 772.73it/s]\n",
      "100%|██████████| 17/17 [00:00<00:00, 808.22it/s]\n",
      "100%|██████████| 17/17 [00:00<00:00, 809.53it/s]\n",
      "100%|██████████| 17/17 [00:00<00:00, 809.52it/s]\n",
      "100%|██████████| 17/17 [00:00<00:00, 739.13it/s]\n",
      "100%|██████████| 17/17 [00:00<00:00, 772.72it/s]\n",
      "100%|██████████| 17/17 [00:00<00:00, 809.55it/s]\n"
     ]
    },
    {
     "name": "stdout",
     "output_type": "stream",
     "text": [
      "Epoch [5301/6000]: Train loss: 1.2828, Valid loss: 1.4651\n"
     ]
    },
    {
     "name": "stderr",
     "output_type": "stream",
     "text": [
      "100%|██████████| 17/17 [00:00<00:00, 809.56it/s]\n",
      "100%|██████████| 17/17 [00:00<00:00, 809.52it/s]\n",
      "100%|██████████| 17/17 [00:00<00:00, 772.74it/s]\n",
      "100%|██████████| 17/17 [00:00<00:00, 809.52it/s]\n",
      "100%|██████████| 17/17 [00:00<00:00, 809.53it/s]\n",
      "100%|██████████| 17/17 [00:00<00:00, 772.74it/s]\n",
      "100%|██████████| 17/17 [00:00<00:00, 809.53it/s]\n",
      "100%|██████████| 17/17 [00:00<00:00, 809.52it/s]\n",
      "100%|██████████| 17/17 [00:00<00:00, 772.73it/s]\n",
      "100%|██████████| 17/17 [00:00<00:00, 772.70it/s]\n",
      "100%|██████████| 17/17 [00:00<00:00, 809.52it/s]\n",
      "100%|██████████| 17/17 [00:00<00:00, 708.34it/s]\n",
      "100%|██████████| 17/17 [00:00<00:00, 809.51it/s]\n",
      "100%|██████████| 17/17 [00:00<00:00, 809.52it/s]\n",
      "100%|██████████| 17/17 [00:00<00:00, 809.55it/s]\n",
      "100%|██████████| 17/17 [00:00<00:00, 739.14it/s]\n",
      "100%|██████████| 17/17 [00:00<00:00, 809.53it/s]\n",
      "100%|██████████| 17/17 [00:00<00:00, 809.53it/s]\n",
      "100%|██████████| 17/17 [00:00<00:00, 772.71it/s]\n",
      "100%|██████████| 17/17 [00:00<00:00, 850.00it/s]\n"
     ]
    },
    {
     "name": "stdout",
     "output_type": "stream",
     "text": [
      "Epoch [5321/6000]: Train loss: 1.2804, Valid loss: 1.1289\n"
     ]
    },
    {
     "name": "stderr",
     "output_type": "stream",
     "text": [
      "100%|██████████| 17/17 [00:00<00:00, 772.73it/s]\n",
      "100%|██████████| 17/17 [00:00<00:00, 772.73it/s]\n",
      "100%|██████████| 17/17 [00:00<00:00, 809.55it/s]\n",
      "100%|██████████| 17/17 [00:00<00:00, 809.50it/s]\n",
      "100%|██████████| 17/17 [00:00<00:00, 809.46it/s]\n",
      "100%|██████████| 17/17 [00:00<00:00, 772.72it/s]\n",
      "100%|██████████| 17/17 [00:00<00:00, 809.59it/s]\n",
      "100%|██████████| 17/17 [00:00<00:00, 772.72it/s]\n",
      "100%|██████████| 17/17 [00:00<00:00, 809.55it/s]\n",
      "100%|██████████| 17/17 [00:00<00:00, 772.75it/s]\n",
      "100%|██████████| 17/17 [00:00<00:00, 772.72it/s]\n",
      "100%|██████████| 17/17 [00:00<00:00, 809.52it/s]\n",
      "100%|██████████| 17/17 [00:00<00:00, 809.54it/s]\n",
      "100%|██████████| 17/17 [00:00<00:00, 772.73it/s]\n",
      "100%|██████████| 17/17 [00:00<00:00, 809.52it/s]\n",
      "100%|██████████| 17/17 [00:00<00:00, 768.27it/s]\n",
      "100%|██████████| 17/17 [00:00<00:00, 819.18it/s]\n",
      "100%|██████████| 17/17 [00:00<00:00, 809.56it/s]\n",
      "100%|██████████| 17/17 [00:00<00:00, 800.06it/s]\n",
      "100%|██████████| 17/17 [00:00<00:00, 772.72it/s]\n"
     ]
    },
    {
     "name": "stdout",
     "output_type": "stream",
     "text": [
      "Epoch [5341/6000]: Train loss: 1.2764, Valid loss: 1.1125\n"
     ]
    },
    {
     "name": "stderr",
     "output_type": "stream",
     "text": [
      "100%|██████████| 17/17 [00:00<00:00, 809.53it/s]\n",
      "100%|██████████| 17/17 [00:00<00:00, 789.84it/s]\n",
      "100%|██████████| 17/17 [00:00<00:00, 772.73it/s]\n",
      "100%|██████████| 17/17 [00:00<00:00, 814.99it/s]\n",
      "100%|██████████| 17/17 [00:00<00:00, 809.54it/s]\n",
      "100%|██████████| 17/17 [00:00<00:00, 772.72it/s]\n",
      "100%|██████████| 17/17 [00:00<00:00, 809.50it/s]\n",
      "100%|██████████| 17/17 [00:00<00:00, 809.52it/s]\n",
      "100%|██████████| 17/17 [00:00<00:00, 772.72it/s]\n",
      "100%|██████████| 17/17 [00:00<00:00, 772.73it/s]\n",
      "100%|██████████| 17/17 [00:00<00:00, 809.53it/s]\n",
      "100%|██████████| 17/17 [00:00<00:00, 809.54it/s]\n",
      "100%|██████████| 17/17 [00:00<00:00, 772.70it/s]\n",
      "100%|██████████| 17/17 [00:00<00:00, 772.72it/s]\n",
      "100%|██████████| 17/17 [00:00<00:00, 772.78it/s]\n",
      "100%|██████████| 17/17 [00:00<00:00, 772.72it/s]\n",
      "100%|██████████| 17/17 [00:00<00:00, 809.53it/s]\n",
      "100%|██████████| 17/17 [00:00<00:00, 809.53it/s]\n",
      "100%|██████████| 17/17 [00:00<00:00, 772.73it/s]\n",
      "100%|██████████| 17/17 [00:00<00:00, 850.01it/s]\n"
     ]
    },
    {
     "name": "stdout",
     "output_type": "stream",
     "text": [
      "Epoch [5361/6000]: Train loss: 1.2759, Valid loss: 1.1616\n"
     ]
    },
    {
     "name": "stderr",
     "output_type": "stream",
     "text": [
      "100%|██████████| 17/17 [00:00<00:00, 809.50it/s]\n",
      "100%|██████████| 17/17 [00:00<00:00, 809.53it/s]\n",
      "100%|██████████| 17/17 [00:00<00:00, 809.52it/s]\n",
      "100%|██████████| 17/17 [00:00<00:00, 850.02it/s]\n",
      "100%|██████████| 17/17 [00:00<00:00, 809.53it/s]\n",
      "100%|██████████| 17/17 [00:00<00:00, 809.53it/s]\n",
      "100%|██████████| 17/17 [00:00<00:00, 772.73it/s]\n",
      "100%|██████████| 17/17 [00:00<00:00, 819.27it/s]\n",
      "100%|██████████| 17/17 [00:00<00:00, 809.56it/s]\n",
      "100%|██████████| 17/17 [00:00<00:00, 809.53it/s]\n",
      "100%|██████████| 17/17 [00:00<00:00, 804.01it/s]\n",
      "100%|██████████| 17/17 [00:00<00:00, 772.73it/s]\n",
      "100%|██████████| 17/17 [00:00<00:00, 809.53it/s]\n",
      "100%|██████████| 17/17 [00:00<00:00, 809.54it/s]\n",
      "100%|██████████| 17/17 [00:00<00:00, 739.13it/s]\n",
      "100%|██████████| 17/17 [00:00<00:00, 739.14it/s]\n",
      "100%|██████████| 17/17 [00:00<00:00, 739.15it/s]\n",
      "100%|██████████| 17/17 [00:00<00:00, 772.72it/s]\n",
      "100%|██████████| 17/17 [00:00<00:00, 739.13it/s]\n",
      "100%|██████████| 17/17 [00:00<00:00, 739.12it/s]\n"
     ]
    },
    {
     "name": "stdout",
     "output_type": "stream",
     "text": [
      "Epoch [5381/6000]: Train loss: 1.2742, Valid loss: 1.0726\n"
     ]
    },
    {
     "name": "stderr",
     "output_type": "stream",
     "text": [
      "100%|██████████| 17/17 [00:00<00:00, 739.13it/s]\n",
      "100%|██████████| 17/17 [00:00<00:00, 714.10it/s]\n",
      "100%|██████████| 17/17 [00:00<00:00, 772.73it/s]\n",
      "100%|██████████| 17/17 [00:00<00:00, 739.14it/s]\n",
      "100%|██████████| 17/17 [00:00<00:00, 772.73it/s]\n",
      "100%|██████████| 17/17 [00:00<00:00, 739.13it/s]\n",
      "100%|██████████| 17/17 [00:00<00:00, 680.00it/s]\n",
      "100%|██████████| 17/17 [00:00<00:00, 739.12it/s]\n",
      "100%|██████████| 17/17 [00:00<00:00, 739.15it/s]\n",
      "100%|██████████| 17/17 [00:00<00:00, 680.02it/s]\n",
      "100%|██████████| 17/17 [00:00<00:00, 772.72it/s]\n",
      "100%|██████████| 17/17 [00:00<00:00, 772.72it/s]\n",
      "100%|██████████| 17/17 [00:00<00:00, 739.15it/s]\n",
      "100%|██████████| 17/17 [00:00<00:00, 739.14it/s]\n",
      "100%|██████████| 17/17 [00:00<00:00, 708.31it/s]\n",
      "100%|██████████| 17/17 [00:00<00:00, 739.12it/s]\n",
      "100%|██████████| 17/17 [00:00<00:00, 772.73it/s]\n",
      "100%|██████████| 17/17 [00:00<00:00, 739.13it/s]\n",
      "100%|██████████| 17/17 [00:00<00:00, 739.15it/s]\n",
      "100%|██████████| 17/17 [00:00<00:00, 772.72it/s]\n"
     ]
    },
    {
     "name": "stdout",
     "output_type": "stream",
     "text": [
      "Epoch [5401/6000]: Train loss: 1.2711, Valid loss: 1.1788\n"
     ]
    },
    {
     "name": "stderr",
     "output_type": "stream",
     "text": [
      "100%|██████████| 17/17 [00:00<00:00, 772.75it/s]\n",
      "100%|██████████| 17/17 [00:00<00:00, 739.13it/s]\n",
      "100%|██████████| 17/17 [00:00<00:00, 739.09it/s]\n",
      "100%|██████████| 17/17 [00:00<00:00, 742.78it/s]\n",
      "100%|██████████| 17/17 [00:00<00:00, 739.12it/s]\n",
      "100%|██████████| 17/17 [00:00<00:00, 739.13it/s]\n",
      "100%|██████████| 17/17 [00:00<00:00, 772.71it/s]\n",
      "100%|██████████| 17/17 [00:00<00:00, 739.15it/s]\n",
      "100%|██████████| 17/17 [00:00<00:00, 772.72it/s]\n",
      "100%|██████████| 17/17 [00:00<00:00, 739.14it/s]\n",
      "100%|██████████| 17/17 [00:00<00:00, 624.02it/s]\n",
      "100%|██████████| 17/17 [00:00<00:00, 739.14it/s]\n",
      "100%|██████████| 17/17 [00:00<00:00, 772.73it/s]\n",
      "100%|██████████| 17/17 [00:00<00:00, 701.65it/s]\n",
      "100%|██████████| 17/17 [00:00<00:00, 739.15it/s]\n",
      "100%|██████████| 17/17 [00:00<00:00, 673.11it/s]\n",
      "100%|██████████| 17/17 [00:00<00:00, 680.01it/s]\n",
      "100%|██████████| 17/17 [00:00<00:00, 634.39it/s]\n",
      "100%|██████████| 17/17 [00:00<00:00, 708.34it/s]\n",
      "100%|██████████| 17/17 [00:00<00:00, 739.17it/s]\n"
     ]
    },
    {
     "name": "stdout",
     "output_type": "stream",
     "text": [
      "Epoch [5421/6000]: Train loss: 1.2717, Valid loss: 1.0891\n"
     ]
    },
    {
     "name": "stderr",
     "output_type": "stream",
     "text": [
      "100%|██████████| 17/17 [00:00<00:00, 680.00it/s]\n",
      "100%|██████████| 17/17 [00:00<00:00, 708.34it/s]\n",
      "100%|██████████| 17/17 [00:00<00:00, 772.73it/s]\n",
      "100%|██████████| 17/17 [00:00<00:00, 772.77it/s]\n",
      "100%|██████████| 17/17 [00:00<00:00, 739.17it/s]\n",
      "100%|██████████| 17/17 [00:00<00:00, 739.14it/s]\n",
      "100%|██████████| 17/17 [00:00<00:00, 741.35it/s]\n",
      "100%|██████████| 17/17 [00:00<00:00, 750.40it/s]\n",
      "100%|██████████| 17/17 [00:00<00:00, 772.72it/s]\n",
      "100%|██████████| 17/17 [00:00<00:00, 739.13it/s]\n",
      "100%|██████████| 17/17 [00:00<00:00, 739.12it/s]\n",
      "100%|██████████| 17/17 [00:00<00:00, 772.73it/s]\n",
      "100%|██████████| 17/17 [00:00<00:00, 772.74it/s]\n",
      "100%|██████████| 17/17 [00:00<00:00, 708.34it/s]\n",
      "100%|██████████| 17/17 [00:00<00:00, 739.12it/s]\n",
      "100%|██████████| 17/17 [00:00<00:00, 739.14it/s]\n",
      "100%|██████████| 17/17 [00:00<00:00, 739.13it/s]\n",
      "100%|██████████| 17/17 [00:00<00:00, 726.90it/s]\n",
      "100%|██████████| 17/17 [00:00<00:00, 739.11it/s]\n",
      "100%|██████████| 17/17 [00:00<00:00, 772.72it/s]\n"
     ]
    },
    {
     "name": "stdout",
     "output_type": "stream",
     "text": [
      "Epoch [5441/6000]: Train loss: 1.2683, Valid loss: 1.1430\n"
     ]
    },
    {
     "name": "stderr",
     "output_type": "stream",
     "text": [
      "100%|██████████| 17/17 [00:00<00:00, 739.13it/s]\n",
      "100%|██████████| 17/17 [00:00<00:00, 742.15it/s]\n",
      "100%|██████████| 17/17 [00:00<00:00, 739.13it/s]\n",
      "100%|██████████| 17/17 [00:00<00:00, 772.72it/s]\n",
      "100%|██████████| 17/17 [00:00<00:00, 772.73it/s]\n",
      "100%|██████████| 17/17 [00:00<00:00, 710.41it/s]\n",
      "100%|██████████| 17/17 [00:00<00:00, 743.62it/s]\n",
      "100%|██████████| 17/17 [00:00<00:00, 739.13it/s]\n",
      "100%|██████████| 17/17 [00:00<00:00, 770.67it/s]\n",
      "100%|██████████| 17/17 [00:00<00:00, 739.13it/s]\n",
      "100%|██████████| 17/17 [00:00<00:00, 755.18it/s]\n",
      "100%|██████████| 17/17 [00:00<00:00, 739.15it/s]\n",
      "100%|██████████| 17/17 [00:00<00:00, 739.12it/s]\n",
      "100%|██████████| 17/17 [00:00<00:00, 715.10it/s]\n",
      "100%|██████████| 17/17 [00:00<00:00, 739.13it/s]\n",
      "100%|██████████| 17/17 [00:00<00:00, 739.13it/s]\n",
      "100%|██████████| 17/17 [00:00<00:00, 739.12it/s]\n",
      "100%|██████████| 17/17 [00:00<00:00, 679.98it/s]\n",
      "100%|██████████| 17/17 [00:00<00:00, 739.13it/s]\n",
      "100%|██████████| 17/17 [00:00<00:00, 772.75it/s]\n"
     ]
    },
    {
     "name": "stdout",
     "output_type": "stream",
     "text": [
      "Epoch [5461/6000]: Train loss: 1.2674, Valid loss: 1.1980\n"
     ]
    },
    {
     "name": "stderr",
     "output_type": "stream",
     "text": [
      "100%|██████████| 17/17 [00:00<00:00, 739.12it/s]\n",
      "100%|██████████| 17/17 [00:00<00:00, 708.31it/s]\n",
      "100%|██████████| 17/17 [00:00<00:00, 737.33it/s]\n",
      "100%|██████████| 17/17 [00:00<00:00, 680.05it/s]\n",
      "100%|██████████| 17/17 [00:00<00:00, 740.09it/s]\n",
      "100%|██████████| 17/17 [00:00<00:00, 680.01it/s]\n",
      "100%|██████████| 17/17 [00:00<00:00, 680.01it/s]\n",
      "100%|██████████| 17/17 [00:00<00:00, 679.93it/s]\n",
      "100%|██████████| 17/17 [00:00<00:00, 708.36it/s]\n",
      "100%|██████████| 17/17 [00:00<00:00, 772.72it/s]\n",
      "100%|██████████| 17/17 [00:00<00:00, 772.72it/s]\n",
      "100%|██████████| 17/17 [00:00<00:00, 739.18it/s]\n",
      "100%|██████████| 17/17 [00:00<00:00, 739.13it/s]\n",
      "100%|██████████| 17/17 [00:00<00:00, 742.23it/s]\n",
      "100%|██████████| 17/17 [00:00<00:00, 739.13it/s]\n",
      "100%|██████████| 17/17 [00:00<00:00, 739.15it/s]\n",
      "100%|██████████| 17/17 [00:00<00:00, 708.33it/s]\n",
      "100%|██████████| 17/17 [00:00<00:00, 739.11it/s]\n",
      "100%|██████████| 17/17 [00:00<00:00, 772.72it/s]\n",
      "100%|██████████| 17/17 [00:00<00:00, 739.14it/s]\n"
     ]
    },
    {
     "name": "stdout",
     "output_type": "stream",
     "text": [
      "Epoch [5481/6000]: Train loss: 1.2669, Valid loss: 1.1025\n"
     ]
    },
    {
     "name": "stderr",
     "output_type": "stream",
     "text": [
      "100%|██████████| 17/17 [00:00<00:00, 708.33it/s]\n",
      "100%|██████████| 17/17 [00:00<00:00, 739.14it/s]\n",
      "100%|██████████| 17/17 [00:00<00:00, 739.13it/s]\n",
      "100%|██████████| 17/17 [00:00<00:00, 739.13it/s]\n",
      "100%|██████████| 17/17 [00:00<00:00, 739.13it/s]\n",
      "100%|██████████| 17/17 [00:00<00:00, 708.34it/s]\n",
      "100%|██████████| 17/17 [00:00<00:00, 708.34it/s]\n",
      "100%|██████████| 17/17 [00:00<00:00, 739.12it/s]\n",
      "100%|██████████| 17/17 [00:00<00:00, 751.87it/s]\n",
      "100%|██████████| 17/17 [00:00<00:00, 739.13it/s]\n",
      "100%|██████████| 17/17 [00:00<00:00, 739.15it/s]\n",
      "100%|██████████| 17/17 [00:00<00:00, 739.13it/s]\n",
      "100%|██████████| 17/17 [00:00<00:00, 708.31it/s]\n",
      "100%|██████████| 17/17 [00:00<00:00, 772.72it/s]\n",
      "100%|██████████| 17/17 [00:00<00:00, 708.33it/s]\n",
      "100%|██████████| 17/17 [00:00<00:00, 708.34it/s]\n",
      "100%|██████████| 17/17 [00:00<00:00, 708.32it/s]\n",
      "100%|██████████| 17/17 [00:00<00:00, 739.13it/s]\n",
      "100%|██████████| 17/17 [00:00<00:00, 739.15it/s]\n",
      "100%|██████████| 17/17 [00:00<00:00, 708.33it/s]\n"
     ]
    },
    {
     "name": "stdout",
     "output_type": "stream",
     "text": [
      "Epoch [5501/6000]: Train loss: 1.2609, Valid loss: 1.2096\n"
     ]
    },
    {
     "name": "stderr",
     "output_type": "stream",
     "text": [
      "100%|██████████| 17/17 [00:00<00:00, 680.00it/s]\n",
      "100%|██████████| 17/17 [00:00<00:00, 742.75it/s]\n",
      "100%|██████████| 17/17 [00:00<00:00, 772.73it/s]\n",
      "100%|██████████| 17/17 [00:00<00:00, 739.13it/s]\n",
      "100%|██████████| 17/17 [00:00<00:00, 739.15it/s]\n",
      "100%|██████████| 17/17 [00:00<00:00, 739.13it/s]\n",
      "100%|██████████| 17/17 [00:00<00:00, 772.75it/s]\n",
      "100%|██████████| 17/17 [00:00<00:00, 739.12it/s]\n",
      "100%|██████████| 17/17 [00:00<00:00, 739.13it/s]\n",
      "100%|██████████| 17/17 [00:00<00:00, 739.15it/s]\n",
      "100%|██████████| 17/17 [00:00<00:00, 739.12it/s]\n",
      "100%|██████████| 17/17 [00:00<00:00, 772.72it/s]\n",
      "100%|██████████| 17/17 [00:00<00:00, 736.25it/s]\n",
      "100%|██████████| 17/17 [00:00<00:00, 708.33it/s]\n",
      "100%|██████████| 17/17 [00:00<00:00, 739.12it/s]\n",
      "100%|██████████| 17/17 [00:00<00:00, 772.73it/s]\n",
      "100%|██████████| 17/17 [00:00<00:00, 739.15it/s]\n",
      "100%|██████████| 17/17 [00:00<00:00, 708.33it/s]\n",
      "100%|██████████| 17/17 [00:00<00:00, 772.73it/s]\n",
      "100%|██████████| 17/17 [00:00<00:00, 772.73it/s]\n"
     ]
    },
    {
     "name": "stdout",
     "output_type": "stream",
     "text": [
      "Epoch [5521/6000]: Train loss: 1.2645, Valid loss: 1.0719\n"
     ]
    },
    {
     "name": "stderr",
     "output_type": "stream",
     "text": [
      "100%|██████████| 17/17 [00:00<00:00, 739.15it/s]\n",
      "100%|██████████| 17/17 [00:00<00:00, 772.75it/s]\n",
      "100%|██████████| 17/17 [00:00<00:00, 772.72it/s]\n",
      "100%|██████████| 17/17 [00:00<00:00, 772.73it/s]\n",
      "100%|██████████| 17/17 [00:00<00:00, 772.73it/s]\n",
      "100%|██████████| 17/17 [00:00<00:00, 739.15it/s]\n",
      "100%|██████████| 17/17 [00:00<00:00, 708.30it/s]\n",
      "100%|██████████| 17/17 [00:00<00:00, 772.73it/s]\n",
      "100%|██████████| 17/17 [00:00<00:00, 772.73it/s]\n",
      "100%|██████████| 17/17 [00:00<00:00, 772.73it/s]\n",
      "100%|██████████| 17/17 [00:00<00:00, 739.14it/s]\n",
      "100%|██████████| 17/17 [00:00<00:00, 772.74it/s]\n",
      "100%|██████████| 17/17 [00:00<00:00, 772.75it/s]\n",
      "100%|██████████| 17/17 [00:00<00:00, 772.72it/s]\n",
      "100%|██████████| 17/17 [00:00<00:00, 772.71it/s]\n",
      "100%|██████████| 17/17 [00:00<00:00, 772.72it/s]\n",
      "100%|██████████| 17/17 [00:00<00:00, 772.70it/s]\n",
      "100%|██████████| 17/17 [00:00<00:00, 809.51it/s]\n",
      "100%|██████████| 17/17 [00:00<00:00, 809.53it/s]\n",
      "100%|██████████| 17/17 [00:00<00:00, 739.13it/s]\n"
     ]
    },
    {
     "name": "stdout",
     "output_type": "stream",
     "text": [
      "Epoch [5541/6000]: Train loss: 1.2639, Valid loss: 1.1010\n"
     ]
    },
    {
     "name": "stderr",
     "output_type": "stream",
     "text": [
      "100%|██████████| 17/17 [00:00<00:00, 809.53it/s]\n",
      "100%|██████████| 17/17 [00:00<00:00, 772.73it/s]\n",
      "100%|██████████| 17/17 [00:00<00:00, 772.72it/s]\n",
      "100%|██████████| 17/17 [00:00<00:00, 772.77it/s]\n",
      "100%|██████████| 17/17 [00:00<00:00, 772.72it/s]\n",
      "100%|██████████| 17/17 [00:00<00:00, 772.72it/s]\n",
      "100%|██████████| 17/17 [00:00<00:00, 739.13it/s]\n",
      "100%|██████████| 17/17 [00:00<00:00, 772.76it/s]\n",
      "100%|██████████| 17/17 [00:00<00:00, 739.12it/s]\n",
      "100%|██████████| 17/17 [00:00<00:00, 772.73it/s]\n"
     ]
    },
    {
     "name": "stdout",
     "output_type": "stream",
     "text": [
      "Saving model with loss 1.019...\n"
     ]
    },
    {
     "name": "stderr",
     "output_type": "stream",
     "text": [
      "100%|██████████| 17/17 [00:00<00:00, 772.72it/s]\n",
      "100%|██████████| 17/17 [00:00<00:00, 772.77it/s]\n",
      "100%|██████████| 17/17 [00:00<00:00, 772.71it/s]\n",
      "100%|██████████| 17/17 [00:00<00:00, 708.34it/s]\n",
      "100%|██████████| 17/17 [00:00<00:00, 772.70it/s]\n",
      "100%|██████████| 17/17 [00:00<00:00, 772.73it/s]\n",
      "100%|██████████| 17/17 [00:00<00:00, 739.15it/s]\n",
      "100%|██████████| 17/17 [00:00<00:00, 772.73it/s]\n",
      "100%|██████████| 17/17 [00:00<00:00, 809.51it/s]\n",
      "100%|██████████| 17/17 [00:00<00:00, 809.53it/s]\n"
     ]
    },
    {
     "name": "stdout",
     "output_type": "stream",
     "text": [
      "Epoch [5561/6000]: Train loss: 1.2617, Valid loss: 1.1060\n"
     ]
    },
    {
     "name": "stderr",
     "output_type": "stream",
     "text": [
      "100%|██████████| 17/17 [00:00<00:00, 739.12it/s]\n",
      "100%|██████████| 17/17 [00:00<00:00, 739.14it/s]\n",
      "100%|██████████| 17/17 [00:00<00:00, 739.12it/s]\n",
      "100%|██████████| 17/17 [00:00<00:00, 680.00it/s]\n",
      "100%|██████████| 17/17 [00:00<00:00, 772.59it/s]\n",
      "100%|██████████| 17/17 [00:00<00:00, 708.35it/s]\n",
      "100%|██████████| 17/17 [00:00<00:00, 772.72it/s]\n",
      "100%|██████████| 17/17 [00:00<00:00, 679.99it/s]\n",
      "100%|██████████| 17/17 [00:00<00:00, 809.54it/s]\n",
      "100%|██████████| 17/17 [00:00<00:00, 772.73it/s]\n",
      "100%|██████████| 17/17 [00:00<00:00, 772.72it/s]\n",
      "100%|██████████| 17/17 [00:00<00:00, 739.12it/s]\n",
      "100%|██████████| 17/17 [00:00<00:00, 772.71it/s]\n",
      "100%|██████████| 17/17 [00:00<00:00, 739.13it/s]\n",
      "100%|██████████| 17/17 [00:00<00:00, 772.70it/s]\n",
      "100%|██████████| 17/17 [00:00<00:00, 772.72it/s]\n",
      "100%|██████████| 17/17 [00:00<00:00, 772.76it/s]\n",
      "100%|██████████| 17/17 [00:00<00:00, 739.13it/s]\n",
      "100%|██████████| 17/17 [00:00<00:00, 739.11it/s]\n",
      "100%|██████████| 17/17 [00:00<00:00, 772.74it/s]\n"
     ]
    },
    {
     "name": "stdout",
     "output_type": "stream",
     "text": [
      "Epoch [5581/6000]: Train loss: 1.2561, Valid loss: 1.0765\n"
     ]
    },
    {
     "name": "stderr",
     "output_type": "stream",
     "text": [
      "100%|██████████| 17/17 [00:00<00:00, 772.76it/s]\n",
      "100%|██████████| 17/17 [00:00<00:00, 739.12it/s]\n",
      "100%|██████████| 17/17 [00:00<00:00, 809.53it/s]\n",
      "100%|██████████| 17/17 [00:00<00:00, 809.55it/s]\n",
      "100%|██████████| 17/17 [00:00<00:00, 772.72it/s]\n",
      "100%|██████████| 17/17 [00:00<00:00, 770.55it/s]\n",
      "100%|██████████| 17/17 [00:00<00:00, 809.52it/s]\n",
      "100%|██████████| 17/17 [00:00<00:00, 739.12it/s]\n",
      "100%|██████████| 17/17 [00:00<00:00, 772.72it/s]\n",
      "100%|██████████| 17/17 [00:00<00:00, 772.72it/s]\n",
      "100%|██████████| 17/17 [00:00<00:00, 809.54it/s]\n",
      "100%|██████████| 17/17 [00:00<00:00, 772.73it/s]\n",
      "100%|██████████| 17/17 [00:00<00:00, 772.72it/s]\n",
      "100%|██████████| 17/17 [00:00<00:00, 772.73it/s]\n",
      "100%|██████████| 17/17 [00:00<00:00, 747.78it/s]\n",
      "100%|██████████| 17/17 [00:00<00:00, 772.72it/s]\n",
      "100%|██████████| 17/17 [00:00<00:00, 772.73it/s]\n",
      "100%|██████████| 17/17 [00:00<00:00, 772.74it/s]\n",
      "100%|██████████| 17/17 [00:00<00:00, 772.75it/s]\n",
      "100%|██████████| 17/17 [00:00<00:00, 708.31it/s]\n"
     ]
    },
    {
     "name": "stdout",
     "output_type": "stream",
     "text": [
      "Epoch [5601/6000]: Train loss: 1.2547, Valid loss: 1.0849\n"
     ]
    },
    {
     "name": "stderr",
     "output_type": "stream",
     "text": [
      "100%|██████████| 17/17 [00:00<00:00, 772.75it/s]\n",
      "100%|██████████| 17/17 [00:00<00:00, 809.53it/s]\n",
      "100%|██████████| 17/17 [00:00<00:00, 772.72it/s]\n",
      "100%|██████████| 17/17 [00:00<00:00, 739.12it/s]\n",
      "100%|██████████| 17/17 [00:00<00:00, 772.72it/s]\n",
      "100%|██████████| 17/17 [00:00<00:00, 772.72it/s]\n",
      "100%|██████████| 17/17 [00:00<00:00, 772.73it/s]\n",
      "100%|██████████| 17/17 [00:00<00:00, 772.72it/s]\n",
      "100%|██████████| 17/17 [00:00<00:00, 809.53it/s]\n",
      "100%|██████████| 17/17 [00:00<00:00, 772.72it/s]\n",
      "100%|██████████| 17/17 [00:00<00:00, 772.71it/s]\n",
      "100%|██████████| 17/17 [00:00<00:00, 772.72it/s]\n",
      "100%|██████████| 17/17 [00:00<00:00, 772.76it/s]\n",
      "100%|██████████| 17/17 [00:00<00:00, 772.77it/s]\n",
      "100%|██████████| 17/17 [00:00<00:00, 772.61it/s]\n",
      "100%|██████████| 17/17 [00:00<00:00, 809.53it/s]\n",
      "100%|██████████| 17/17 [00:00<00:00, 739.15it/s]\n",
      "100%|██████████| 17/17 [00:00<00:00, 772.71it/s]\n",
      "100%|██████████| 17/17 [00:00<00:00, 772.72it/s]\n",
      "100%|██████████| 17/17 [00:00<00:00, 772.72it/s]\n"
     ]
    },
    {
     "name": "stdout",
     "output_type": "stream",
     "text": [
      "Epoch [5621/6000]: Train loss: 1.2539, Valid loss: 1.1839\n"
     ]
    },
    {
     "name": "stderr",
     "output_type": "stream",
     "text": [
      "100%|██████████| 17/17 [00:00<00:00, 772.73it/s]\n",
      "100%|██████████| 17/17 [00:00<00:00, 772.71it/s]\n",
      "100%|██████████| 17/17 [00:00<00:00, 772.73it/s]\n",
      "100%|██████████| 17/17 [00:00<00:00, 772.69it/s]\n",
      "100%|██████████| 17/17 [00:00<00:00, 809.52it/s]\n",
      "100%|██████████| 17/17 [00:00<00:00, 772.72it/s]\n",
      "100%|██████████| 17/17 [00:00<00:00, 772.71it/s]\n",
      "100%|██████████| 17/17 [00:00<00:00, 773.21it/s]\n",
      "100%|██████████| 17/17 [00:00<00:00, 772.73it/s]\n",
      "100%|██████████| 17/17 [00:00<00:00, 772.72it/s]\n",
      "100%|██████████| 17/17 [00:00<00:00, 809.55it/s]\n",
      "100%|██████████| 17/17 [00:00<00:00, 772.73it/s]\n",
      "100%|██████████| 17/17 [00:00<00:00, 772.73it/s]\n",
      "100%|██████████| 17/17 [00:00<00:00, 739.11it/s]\n",
      "100%|██████████| 17/17 [00:00<00:00, 809.54it/s]\n",
      "100%|██████████| 17/17 [00:00<00:00, 739.12it/s]\n",
      "100%|██████████| 17/17 [00:00<00:00, 680.00it/s]\n",
      "100%|██████████| 17/17 [00:00<00:00, 809.52it/s]\n",
      "100%|██████████| 17/17 [00:00<00:00, 772.73it/s]\n",
      "100%|██████████| 17/17 [00:00<00:00, 772.76it/s]\n"
     ]
    },
    {
     "name": "stdout",
     "output_type": "stream",
     "text": [
      "Epoch [5641/6000]: Train loss: 1.2511, Valid loss: 1.1032\n"
     ]
    },
    {
     "name": "stderr",
     "output_type": "stream",
     "text": [
      "100%|██████████| 17/17 [00:00<00:00, 739.13it/s]\n",
      "100%|██████████| 17/17 [00:00<00:00, 772.72it/s]\n",
      "100%|██████████| 17/17 [00:00<00:00, 809.56it/s]\n",
      "100%|██████████| 17/17 [00:00<00:00, 772.70it/s]\n",
      "100%|██████████| 17/17 [00:00<00:00, 809.51it/s]\n",
      "100%|██████████| 17/17 [00:00<00:00, 809.53it/s]\n",
      "100%|██████████| 17/17 [00:00<00:00, 739.12it/s]\n",
      "100%|██████████| 17/17 [00:00<00:00, 739.13it/s]\n",
      "100%|██████████| 17/17 [00:00<00:00, 772.72it/s]\n",
      "100%|██████████| 17/17 [00:00<00:00, 772.73it/s]\n",
      "100%|██████████| 17/17 [00:00<00:00, 772.75it/s]\n",
      "100%|██████████| 17/17 [00:00<00:00, 809.53it/s]\n",
      "100%|██████████| 17/17 [00:00<00:00, 772.73it/s]\n",
      "100%|██████████| 17/17 [00:00<00:00, 772.71it/s]\n",
      "100%|██████████| 17/17 [00:00<00:00, 772.70it/s]\n",
      "100%|██████████| 17/17 [00:00<00:00, 809.53it/s]\n",
      "100%|██████████| 17/17 [00:00<00:00, 809.62it/s]\n",
      "100%|██████████| 17/17 [00:00<00:00, 772.73it/s]\n",
      "100%|██████████| 17/17 [00:00<00:00, 772.73it/s]\n",
      "100%|██████████| 17/17 [00:00<00:00, 758.85it/s]\n"
     ]
    },
    {
     "name": "stdout",
     "output_type": "stream",
     "text": [
      "Epoch [5661/6000]: Train loss: 1.2487, Valid loss: 1.0935\n"
     ]
    },
    {
     "name": "stderr",
     "output_type": "stream",
     "text": [
      "100%|██████████| 17/17 [00:00<00:00, 739.12it/s]\n",
      "100%|██████████| 17/17 [00:00<00:00, 772.73it/s]\n",
      "100%|██████████| 17/17 [00:00<00:00, 772.73it/s]\n",
      "100%|██████████| 17/17 [00:00<00:00, 772.72it/s]\n",
      "100%|██████████| 17/17 [00:00<00:00, 772.69it/s]\n",
      "100%|██████████| 17/17 [00:00<00:00, 809.53it/s]\n",
      "100%|██████████| 17/17 [00:00<00:00, 809.55it/s]\n",
      "100%|██████████| 17/17 [00:00<00:00, 772.72it/s]\n",
      "100%|██████████| 17/17 [00:00<00:00, 772.74it/s]\n",
      "100%|██████████| 17/17 [00:00<00:00, 809.53it/s]\n",
      "100%|██████████| 17/17 [00:00<00:00, 739.11it/s]\n",
      "100%|██████████| 17/17 [00:00<00:00, 739.14it/s]\n",
      "100%|██████████| 17/17 [00:00<00:00, 739.13it/s]\n",
      "100%|██████████| 17/17 [00:00<00:00, 653.86it/s]\n",
      "100%|██████████| 17/17 [00:00<00:00, 739.14it/s]\n",
      "100%|██████████| 17/17 [00:00<00:00, 739.16it/s]\n",
      "100%|██████████| 17/17 [00:00<00:00, 739.14it/s]\n",
      "100%|██████████| 17/17 [00:00<00:00, 739.13it/s]\n",
      "100%|██████████| 17/17 [00:00<00:00, 739.12it/s]\n",
      "100%|██████████| 17/17 [00:00<00:00, 739.13it/s]\n"
     ]
    },
    {
     "name": "stdout",
     "output_type": "stream",
     "text": [
      "Epoch [5681/6000]: Train loss: 1.2511, Valid loss: 1.0359\n"
     ]
    },
    {
     "name": "stderr",
     "output_type": "stream",
     "text": [
      "100%|██████████| 17/17 [00:00<00:00, 772.73it/s]\n",
      "100%|██████████| 17/17 [00:00<00:00, 739.14it/s]\n",
      "100%|██████████| 17/17 [00:00<00:00, 772.76it/s]\n",
      "100%|██████████| 17/17 [00:00<00:00, 739.17it/s]\n",
      "100%|██████████| 17/17 [00:00<00:00, 708.32it/s]\n",
      "100%|██████████| 17/17 [00:00<00:00, 739.11it/s]\n",
      "100%|██████████| 17/17 [00:00<00:00, 739.13it/s]\n",
      "100%|██████████| 17/17 [00:00<00:00, 739.13it/s]\n",
      "100%|██████████| 17/17 [00:00<00:00, 739.15it/s]\n"
     ]
    },
    {
     "name": "stdout",
     "output_type": "stream",
     "text": [
      "Saving model with loss 1.013...\n"
     ]
    },
    {
     "name": "stderr",
     "output_type": "stream",
     "text": [
      "100%|██████████| 17/17 [00:00<00:00, 708.34it/s]\n",
      "100%|██████████| 17/17 [00:00<00:00, 739.07it/s]\n",
      "100%|██████████| 17/17 [00:00<00:00, 772.73it/s]\n",
      "100%|██████████| 17/17 [00:00<00:00, 739.13it/s]\n",
      "100%|██████████| 17/17 [00:00<00:00, 772.73it/s]\n",
      "100%|██████████| 17/17 [00:00<00:00, 708.34it/s]\n",
      "100%|██████████| 17/17 [00:00<00:00, 739.13it/s]\n",
      "100%|██████████| 17/17 [00:00<00:00, 739.13it/s]\n",
      "100%|██████████| 17/17 [00:00<00:00, 753.28it/s]\n",
      "100%|██████████| 17/17 [00:00<00:00, 693.56it/s]\n",
      "100%|██████████| 17/17 [00:00<00:00, 739.14it/s]\n"
     ]
    },
    {
     "name": "stdout",
     "output_type": "stream",
     "text": [
      "Epoch [5701/6000]: Train loss: 1.2484, Valid loss: 1.0696\n"
     ]
    },
    {
     "name": "stderr",
     "output_type": "stream",
     "text": [
      "100%|██████████| 17/17 [00:00<00:00, 739.11it/s]\n",
      "100%|██████████| 17/17 [00:00<00:00, 738.99it/s]\n",
      "100%|██████████| 17/17 [00:00<00:00, 739.12it/s]\n",
      "100%|██████████| 17/17 [00:00<00:00, 708.33it/s]\n",
      "100%|██████████| 17/17 [00:00<00:00, 719.99it/s]\n",
      "100%|██████████| 17/17 [00:00<00:00, 708.29it/s]\n",
      "100%|██████████| 17/17 [00:00<00:00, 739.12it/s]\n",
      "100%|██████████| 17/17 [00:00<00:00, 708.34it/s]\n",
      "100%|██████████| 17/17 [00:00<00:00, 680.02it/s]\n",
      "100%|██████████| 17/17 [00:00<00:00, 635.72it/s]\n",
      "100%|██████████| 17/17 [00:00<00:00, 740.09it/s]\n",
      "100%|██████████| 17/17 [00:00<00:00, 680.00it/s]\n",
      "100%|██████████| 17/17 [00:00<00:00, 708.34it/s]\n",
      "100%|██████████| 17/17 [00:00<00:00, 708.33it/s]\n",
      "100%|██████████| 17/17 [00:00<00:00, 679.96it/s]\n",
      "100%|██████████| 17/17 [00:00<00:00, 738.99it/s]\n",
      "100%|██████████| 17/17 [00:00<00:00, 739.13it/s]\n",
      "100%|██████████| 17/17 [00:00<00:00, 680.00it/s]\n"
     ]
    },
    {
     "name": "stdout",
     "output_type": "stream",
     "text": [
      "Saving model with loss 0.992...\n"
     ]
    },
    {
     "name": "stderr",
     "output_type": "stream",
     "text": [
      "100%|██████████| 17/17 [00:00<00:00, 708.23it/s]\n",
      "100%|██████████| 17/17 [00:00<00:00, 708.33it/s]\n"
     ]
    },
    {
     "name": "stdout",
     "output_type": "stream",
     "text": [
      "Epoch [5721/6000]: Train loss: 1.2461, Valid loss: 1.1536\n"
     ]
    },
    {
     "name": "stderr",
     "output_type": "stream",
     "text": [
      "100%|██████████| 17/17 [00:00<00:00, 772.72it/s]\n",
      "100%|██████████| 17/17 [00:00<00:00, 772.72it/s]\n",
      "100%|██████████| 17/17 [00:00<00:00, 772.58it/s]\n",
      "100%|██████████| 17/17 [00:00<00:00, 809.51it/s]\n",
      "100%|██████████| 17/17 [00:00<00:00, 772.73it/s]\n",
      "100%|██████████| 17/17 [00:00<00:00, 739.12it/s]\n",
      "100%|██████████| 17/17 [00:00<00:00, 809.70it/s]\n",
      "100%|██████████| 17/17 [00:00<00:00, 772.73it/s]\n",
      "100%|██████████| 17/17 [00:00<00:00, 809.54it/s]\n",
      "100%|██████████| 17/17 [00:00<00:00, 741.22it/s]\n",
      "100%|██████████| 17/17 [00:00<00:00, 809.54it/s]\n",
      "100%|██████████| 17/17 [00:00<00:00, 772.72it/s]\n",
      "100%|██████████| 17/17 [00:00<00:00, 739.13it/s]\n",
      "100%|██████████| 17/17 [00:00<00:00, 772.58it/s]\n",
      "100%|██████████| 17/17 [00:00<00:00, 772.71it/s]\n",
      "100%|██████████| 17/17 [00:00<00:00, 772.72it/s]\n",
      "100%|██████████| 17/17 [00:00<00:00, 772.72it/s]\n",
      "100%|██████████| 17/17 [00:00<00:00, 809.39it/s]\n",
      "100%|██████████| 17/17 [00:00<00:00, 746.99it/s]\n",
      "100%|██████████| 17/17 [00:00<00:00, 772.70it/s]\n"
     ]
    },
    {
     "name": "stdout",
     "output_type": "stream",
     "text": [
      "Epoch [5741/6000]: Train loss: 1.2438, Valid loss: 1.1233\n"
     ]
    },
    {
     "name": "stderr",
     "output_type": "stream",
     "text": [
      "100%|██████████| 17/17 [00:00<00:00, 798.66it/s]\n",
      "100%|██████████| 17/17 [00:00<00:00, 772.76it/s]\n",
      "100%|██████████| 17/17 [00:00<00:00, 772.67it/s]\n",
      "100%|██████████| 17/17 [00:00<00:00, 757.92it/s]\n",
      "100%|██████████| 17/17 [00:00<00:00, 708.24it/s]\n",
      "100%|██████████| 17/17 [00:00<00:00, 779.43it/s]\n",
      "100%|██████████| 17/17 [00:00<00:00, 772.72it/s]\n",
      "100%|██████████| 17/17 [00:00<00:00, 772.72it/s]\n",
      "100%|██████████| 17/17 [00:00<00:00, 739.02it/s]\n",
      "100%|██████████| 17/17 [00:00<00:00, 809.52it/s]\n",
      "100%|██████████| 17/17 [00:00<00:00, 772.73it/s]\n",
      "100%|██████████| 17/17 [00:00<00:00, 809.53it/s]\n",
      "100%|██████████| 17/17 [00:00<00:00, 739.12it/s]\n",
      "100%|██████████| 17/17 [00:00<00:00, 809.59it/s]\n",
      "100%|██████████| 17/17 [00:00<00:00, 772.72it/s]\n",
      "100%|██████████| 17/17 [00:00<00:00, 739.03it/s]\n",
      "100%|██████████| 17/17 [00:00<00:00, 809.55it/s]\n",
      "100%|██████████| 17/17 [00:00<00:00, 772.72it/s]\n",
      "100%|██████████| 17/17 [00:00<00:00, 772.73it/s]\n",
      "100%|██████████| 17/17 [00:00<00:00, 805.79it/s]\n"
     ]
    },
    {
     "name": "stdout",
     "output_type": "stream",
     "text": [
      "Epoch [5761/6000]: Train loss: 1.2439, Valid loss: 1.0076\n"
     ]
    },
    {
     "name": "stderr",
     "output_type": "stream",
     "text": [
      "100%|██████████| 17/17 [00:00<00:00, 809.54it/s]\n",
      "100%|██████████| 17/17 [00:00<00:00, 772.73it/s]\n",
      "100%|██████████| 17/17 [00:00<00:00, 606.95it/s]\n",
      "100%|██████████| 17/17 [00:00<00:00, 739.13it/s]\n",
      "100%|██████████| 17/17 [00:00<00:00, 708.31it/s]\n",
      "100%|██████████| 17/17 [00:00<00:00, 739.15it/s]\n",
      "100%|██████████| 17/17 [00:00<00:00, 772.59it/s]\n",
      "100%|██████████| 17/17 [00:00<00:00, 739.14it/s]\n",
      "100%|██████████| 17/17 [00:00<00:00, 708.34it/s]\n",
      "100%|██████████| 17/17 [00:00<00:00, 703.94it/s]\n",
      "100%|██████████| 17/17 [00:00<00:00, 772.72it/s]\n",
      "100%|██████████| 17/17 [00:00<00:00, 809.54it/s]\n",
      "100%|██████████| 17/17 [00:00<00:00, 772.72it/s]\n",
      "100%|██████████| 17/17 [00:00<00:00, 809.37it/s]\n",
      "100%|██████████| 17/17 [00:00<00:00, 772.73it/s]\n",
      "100%|██████████| 17/17 [00:00<00:00, 772.71it/s]\n",
      "100%|██████████| 17/17 [00:00<00:00, 772.73it/s]\n",
      "100%|██████████| 17/17 [00:00<00:00, 772.60it/s]\n",
      "100%|██████████| 17/17 [00:00<00:00, 772.72it/s]\n",
      "100%|██████████| 17/17 [00:00<00:00, 809.52it/s]\n"
     ]
    },
    {
     "name": "stdout",
     "output_type": "stream",
     "text": [
      "Epoch [5781/6000]: Train loss: 1.2428, Valid loss: 1.2062\n"
     ]
    },
    {
     "name": "stderr",
     "output_type": "stream",
     "text": [
      "100%|██████████| 17/17 [00:00<00:00, 679.98it/s]\n",
      "100%|██████████| 17/17 [00:00<00:00, 772.72it/s]\n",
      "100%|██████████| 17/17 [00:00<00:00, 772.73it/s]\n",
      "100%|██████████| 17/17 [00:00<00:00, 809.51it/s]\n",
      "100%|██████████| 17/17 [00:00<00:00, 772.72it/s]\n",
      "100%|██████████| 17/17 [00:00<00:00, 772.72it/s]\n",
      "100%|██████████| 17/17 [00:00<00:00, 772.73it/s]\n",
      "100%|██████████| 17/17 [00:00<00:00, 809.55it/s]\n",
      "100%|██████████| 17/17 [00:00<00:00, 772.62it/s]\n",
      "100%|██████████| 17/17 [00:00<00:00, 772.73it/s]\n",
      "100%|██████████| 17/17 [00:00<00:00, 772.72it/s]\n",
      "100%|██████████| 17/17 [00:00<00:00, 772.72it/s]\n",
      "100%|██████████| 17/17 [00:00<00:00, 809.35it/s]\n",
      "100%|██████████| 17/17 [00:00<00:00, 809.52it/s]\n",
      "100%|██████████| 17/17 [00:00<00:00, 739.15it/s]\n",
      "100%|██████████| 17/17 [00:00<00:00, 772.73it/s]\n",
      "100%|██████████| 17/17 [00:00<00:00, 809.53it/s]\n",
      "100%|██████████| 17/17 [00:00<00:00, 772.72it/s]\n",
      "100%|██████████| 17/17 [00:00<00:00, 809.53it/s]\n",
      "100%|██████████| 17/17 [00:00<00:00, 772.61it/s]\n"
     ]
    },
    {
     "name": "stdout",
     "output_type": "stream",
     "text": [
      "Epoch [5801/6000]: Train loss: 1.2414, Valid loss: 1.4593\n"
     ]
    },
    {
     "name": "stderr",
     "output_type": "stream",
     "text": [
      "100%|██████████| 17/17 [00:00<00:00, 772.77it/s]\n",
      "100%|██████████| 17/17 [00:00<00:00, 772.74it/s]\n",
      "100%|██████████| 17/17 [00:00<00:00, 809.52it/s]\n",
      "100%|██████████| 17/17 [00:00<00:00, 772.62it/s]\n",
      "100%|██████████| 17/17 [00:00<00:00, 809.52it/s]\n",
      "100%|██████████| 17/17 [00:00<00:00, 772.73it/s]\n",
      "100%|██████████| 17/17 [00:00<00:00, 809.53it/s]\n",
      "100%|██████████| 17/17 [00:00<00:00, 733.16it/s]\n",
      "100%|██████████| 17/17 [00:00<00:00, 739.13it/s]\n",
      "100%|██████████| 17/17 [00:00<00:00, 809.53it/s]\n",
      "100%|██████████| 17/17 [00:00<00:00, 772.62it/s]\n",
      "100%|██████████| 17/17 [00:00<00:00, 809.53it/s]\n",
      "100%|██████████| 17/17 [00:00<00:00, 719.99it/s]\n",
      "100%|██████████| 17/17 [00:00<00:00, 739.13it/s]\n",
      "100%|██████████| 17/17 [00:00<00:00, 790.33it/s]\n",
      "100%|██████████| 17/17 [00:00<00:00, 774.68it/s]\n",
      "100%|██████████| 17/17 [00:00<00:00, 772.83it/s]\n",
      "100%|██████████| 17/17 [00:00<00:00, 708.31it/s]\n",
      "100%|██████████| 17/17 [00:00<00:00, 708.34it/s]\n",
      "100%|██████████| 17/17 [00:00<00:00, 739.12it/s]\n"
     ]
    },
    {
     "name": "stdout",
     "output_type": "stream",
     "text": [
      "Epoch [5821/6000]: Train loss: 1.2380, Valid loss: 1.0108\n"
     ]
    },
    {
     "name": "stderr",
     "output_type": "stream",
     "text": [
      "100%|██████████| 17/17 [00:00<00:00, 772.73it/s]\n",
      "100%|██████████| 17/17 [00:00<00:00, 731.24it/s]\n",
      "100%|██████████| 17/17 [00:00<00:00, 708.34it/s]\n",
      "100%|██████████| 17/17 [00:00<00:00, 652.86it/s]\n",
      "100%|██████████| 17/17 [00:00<00:00, 679.99it/s]\n",
      "100%|██████████| 17/17 [00:00<00:00, 739.15it/s]\n",
      "100%|██████████| 17/17 [00:00<00:00, 708.33it/s]\n",
      "100%|██████████| 17/17 [00:00<00:00, 739.15it/s]\n",
      "100%|██████████| 17/17 [00:00<00:00, 739.13it/s]\n",
      "100%|██████████| 17/17 [00:00<00:00, 739.14it/s]\n",
      "100%|██████████| 17/17 [00:00<00:00, 742.01it/s]\n",
      "100%|██████████| 17/17 [00:00<00:00, 765.00it/s]\n",
      "100%|██████████| 17/17 [00:00<00:00, 739.12it/s]\n",
      "100%|██████████| 17/17 [00:00<00:00, 772.72it/s]\n",
      "100%|██████████| 17/17 [00:00<00:00, 772.72it/s]\n",
      "100%|██████████| 17/17 [00:00<00:00, 754.80it/s]\n",
      "100%|██████████| 17/17 [00:00<00:00, 739.13it/s]\n",
      "100%|██████████| 17/17 [00:00<00:00, 772.06it/s]\n",
      "100%|██████████| 17/17 [00:00<00:00, 739.13it/s]\n",
      "100%|██████████| 17/17 [00:00<00:00, 739.13it/s]\n"
     ]
    },
    {
     "name": "stdout",
     "output_type": "stream",
     "text": [
      "Epoch [5841/6000]: Train loss: 1.2345, Valid loss: 1.1132\n"
     ]
    },
    {
     "name": "stderr",
     "output_type": "stream",
     "text": [
      "100%|██████████| 17/17 [00:00<00:00, 721.83it/s]\n",
      "100%|██████████| 17/17 [00:00<00:00, 708.31it/s]\n",
      "100%|██████████| 17/17 [00:00<00:00, 751.73it/s]\n",
      "100%|██████████| 17/17 [00:00<00:00, 739.15it/s]\n",
      "100%|██████████| 17/17 [00:00<00:00, 680.01it/s]\n",
      "100%|██████████| 17/17 [00:00<00:00, 653.85it/s]\n",
      "100%|██████████| 17/17 [00:00<00:00, 679.99it/s]\n",
      "100%|██████████| 17/17 [00:00<00:00, 653.86it/s]\n",
      "100%|██████████| 17/17 [00:00<00:00, 653.85it/s]\n",
      "100%|██████████| 17/17 [00:00<00:00, 653.84it/s]\n",
      "100%|██████████| 17/17 [00:00<00:00, 653.85it/s]\n",
      "100%|██████████| 17/17 [00:00<00:00, 680.00it/s]\n",
      "100%|██████████| 17/17 [00:00<00:00, 435.90it/s]\n",
      "100%|██████████| 17/17 [00:00<00:00, 653.85it/s]\n",
      "100%|██████████| 17/17 [00:00<00:00, 653.85it/s]\n",
      "100%|██████████| 17/17 [00:00<00:00, 629.63it/s]\n",
      "100%|██████████| 17/17 [00:00<00:00, 653.85it/s]\n",
      "100%|██████████| 17/17 [00:00<00:00, 653.85it/s]\n",
      "100%|██████████| 17/17 [00:00<00:00, 653.85it/s]\n",
      "100%|██████████| 17/17 [00:00<00:00, 653.85it/s]\n"
     ]
    },
    {
     "name": "stdout",
     "output_type": "stream",
     "text": [
      "Epoch [5861/6000]: Train loss: 1.2388, Valid loss: 1.1114\n"
     ]
    },
    {
     "name": "stderr",
     "output_type": "stream",
     "text": [
      "100%|██████████| 17/17 [00:00<00:00, 653.86it/s]\n",
      "100%|██████████| 17/17 [00:00<00:00, 653.86it/s]\n",
      "100%|██████████| 17/17 [00:00<00:00, 629.63it/s]\n",
      "100%|██████████| 17/17 [00:00<00:00, 653.85it/s]\n",
      "100%|██████████| 17/17 [00:00<00:00, 653.85it/s]\n",
      "100%|██████████| 17/17 [00:00<00:00, 653.85it/s]\n",
      "100%|██████████| 17/17 [00:00<00:00, 680.00it/s]\n",
      "100%|██████████| 17/17 [00:00<00:00, 634.32it/s]\n",
      "100%|██████████| 17/17 [00:00<00:00, 679.99it/s]\n",
      "100%|██████████| 17/17 [00:00<00:00, 653.85it/s]\n",
      "100%|██████████| 17/17 [00:00<00:00, 680.00it/s]\n",
      "100%|██████████| 17/17 [00:00<00:00, 654.54it/s]\n",
      "100%|██████████| 17/17 [00:00<00:00, 653.86it/s]\n",
      "100%|██████████| 17/17 [00:00<00:00, 664.69it/s]\n",
      "100%|██████████| 17/17 [00:00<00:00, 680.00it/s]\n",
      "100%|██████████| 17/17 [00:00<00:00, 680.00it/s]\n",
      "100%|██████████| 17/17 [00:00<00:00, 680.00it/s]\n",
      "100%|██████████| 17/17 [00:00<00:00, 680.00it/s]\n",
      "100%|██████████| 17/17 [00:00<00:00, 680.00it/s]\n",
      "100%|██████████| 17/17 [00:00<00:00, 680.00it/s]\n"
     ]
    },
    {
     "name": "stdout",
     "output_type": "stream",
     "text": [
      "Epoch [5881/6000]: Train loss: 1.2349, Valid loss: 1.0481\n"
     ]
    },
    {
     "name": "stderr",
     "output_type": "stream",
     "text": [
      "100%|██████████| 17/17 [00:00<00:00, 682.29it/s]\n",
      "100%|██████████| 17/17 [00:00<00:00, 664.62it/s]\n",
      "100%|██████████| 17/17 [00:00<00:00, 680.00it/s]\n",
      "100%|██████████| 17/17 [00:00<00:00, 485.71it/s]\n",
      "100%|██████████| 17/17 [00:00<00:00, 680.00it/s]\n",
      "100%|██████████| 17/17 [00:00<00:00, 680.00it/s]\n",
      "100%|██████████| 17/17 [00:00<00:00, 653.85it/s]\n",
      "100%|██████████| 17/17 [00:00<00:00, 679.98it/s]\n",
      "100%|██████████| 17/17 [00:00<00:00, 653.84it/s]\n",
      "100%|██████████| 17/17 [00:00<00:00, 679.99it/s]\n",
      "100%|██████████| 17/17 [00:00<00:00, 680.00it/s]\n",
      "100%|██████████| 17/17 [00:00<00:00, 708.37it/s]\n",
      "100%|██████████| 17/17 [00:00<00:00, 680.00it/s]\n",
      "100%|██████████| 17/17 [00:00<00:00, 680.00it/s]\n",
      "100%|██████████| 17/17 [00:00<00:00, 653.84it/s]\n",
      "100%|██████████| 17/17 [00:00<00:00, 680.00it/s]\n",
      "100%|██████████| 17/17 [00:00<00:00, 653.85it/s]\n",
      "100%|██████████| 17/17 [00:00<00:00, 653.85it/s]\n",
      "100%|██████████| 17/17 [00:00<00:00, 679.99it/s]\n",
      "100%|██████████| 17/17 [00:00<00:00, 680.02it/s]\n"
     ]
    },
    {
     "name": "stdout",
     "output_type": "stream",
     "text": [
      "Epoch [5901/6000]: Train loss: 1.2321, Valid loss: 1.0438\n"
     ]
    },
    {
     "name": "stderr",
     "output_type": "stream",
     "text": [
      "100%|██████████| 17/17 [00:00<00:00, 679.99it/s]\n",
      "100%|██████████| 17/17 [00:00<00:00, 653.84it/s]\n",
      "100%|██████████| 17/17 [00:00<00:00, 680.00it/s]\n",
      "100%|██████████| 17/17 [00:00<00:00, 680.01it/s]\n",
      "100%|██████████| 17/17 [00:00<00:00, 653.84it/s]\n",
      "100%|██████████| 17/17 [00:00<00:00, 653.85it/s]\n",
      "100%|██████████| 17/17 [00:00<00:00, 653.85it/s]\n",
      "100%|██████████| 17/17 [00:00<00:00, 653.84it/s]\n",
      "100%|██████████| 17/17 [00:00<00:00, 653.84it/s]\n",
      "100%|██████████| 17/17 [00:00<00:00, 680.00it/s]\n",
      "100%|██████████| 17/17 [00:00<00:00, 680.00it/s]\n",
      "100%|██████████| 17/17 [00:00<00:00, 680.00it/s]\n",
      "100%|██████████| 17/17 [00:00<00:00, 680.00it/s]\n",
      "100%|██████████| 17/17 [00:00<00:00, 680.00it/s]\n",
      "100%|██████████| 17/17 [00:00<00:00, 679.98it/s]\n",
      "100%|██████████| 17/17 [00:00<00:00, 447.37it/s]\n",
      "100%|██████████| 17/17 [00:00<00:00, 653.85it/s]\n",
      "100%|██████████| 17/17 [00:00<00:00, 653.85it/s]\n",
      "100%|██████████| 17/17 [00:00<00:00, 607.15it/s]\n",
      "100%|██████████| 17/17 [00:00<00:00, 629.63it/s]\n"
     ]
    },
    {
     "name": "stdout",
     "output_type": "stream",
     "text": [
      "Epoch [5921/6000]: Train loss: 1.2303, Valid loss: 1.0305\n"
     ]
    },
    {
     "name": "stderr",
     "output_type": "stream",
     "text": [
      "100%|██████████| 17/17 [00:00<00:00, 629.63it/s]\n",
      "100%|██████████| 17/17 [00:00<00:00, 653.86it/s]\n",
      "100%|██████████| 17/17 [00:00<00:00, 653.85it/s]\n",
      "100%|██████████| 17/17 [00:00<00:00, 653.85it/s]\n",
      "100%|██████████| 17/17 [00:00<00:00, 680.00it/s]\n",
      "100%|██████████| 17/17 [00:00<00:00, 680.00it/s]\n",
      "100%|██████████| 17/17 [00:00<00:00, 680.00it/s]\n",
      "100%|██████████| 17/17 [00:00<00:00, 680.00it/s]\n",
      "100%|██████████| 17/17 [00:00<00:00, 629.64it/s]\n",
      "100%|██████████| 17/17 [00:00<00:00, 653.84it/s]\n",
      "100%|██████████| 17/17 [00:00<00:00, 653.83it/s]\n",
      "100%|██████████| 17/17 [00:00<00:00, 653.85it/s]\n",
      "100%|██████████| 17/17 [00:00<00:00, 653.85it/s]\n",
      "100%|██████████| 17/17 [00:00<00:00, 653.85it/s]\n",
      "100%|██████████| 17/17 [00:00<00:00, 653.85it/s]\n",
      "100%|██████████| 17/17 [00:00<00:00, 642.62it/s]\n",
      "100%|██████████| 17/17 [00:00<00:00, 653.87it/s]\n",
      "100%|██████████| 17/17 [00:00<00:00, 653.88it/s]\n",
      "100%|██████████| 17/17 [00:00<00:00, 680.01it/s]\n",
      "100%|██████████| 17/17 [00:00<00:00, 653.85it/s]\n"
     ]
    },
    {
     "name": "stdout",
     "output_type": "stream",
     "text": [
      "Epoch [5941/6000]: Train loss: 1.2302, Valid loss: 1.0263\n"
     ]
    },
    {
     "name": "stderr",
     "output_type": "stream",
     "text": [
      "100%|██████████| 17/17 [00:00<00:00, 653.85it/s]\n",
      "100%|██████████| 17/17 [00:00<00:00, 653.86it/s]\n",
      "100%|██████████| 17/17 [00:00<00:00, 653.86it/s]\n",
      "100%|██████████| 17/17 [00:00<00:00, 653.85it/s]\n",
      "100%|██████████| 17/17 [00:00<00:00, 653.83it/s]\n",
      "100%|██████████| 17/17 [00:00<00:00, 653.84it/s]\n",
      "100%|██████████| 17/17 [00:00<00:00, 414.63it/s]\n",
      "100%|██████████| 17/17 [00:00<00:00, 653.84it/s]\n",
      "100%|██████████| 17/17 [00:00<00:00, 680.00it/s]\n",
      "100%|██████████| 17/17 [00:00<00:00, 680.00it/s]\n",
      "100%|██████████| 17/17 [00:00<00:00, 653.85it/s]\n",
      "100%|██████████| 17/17 [00:00<00:00, 679.99it/s]\n",
      "100%|██████████| 17/17 [00:00<00:00, 680.00it/s]\n",
      "100%|██████████| 17/17 [00:00<00:00, 653.86it/s]\n",
      "100%|██████████| 17/17 [00:00<00:00, 679.99it/s]\n",
      "100%|██████████| 17/17 [00:00<00:00, 653.85it/s]\n",
      "100%|██████████| 17/17 [00:00<00:00, 657.43it/s]\n",
      "100%|██████████| 17/17 [00:00<00:00, 653.85it/s]\n",
      "100%|██████████| 17/17 [00:00<00:00, 653.84it/s]\n",
      "100%|██████████| 17/17 [00:00<00:00, 585.07it/s]\n"
     ]
    },
    {
     "name": "stdout",
     "output_type": "stream",
     "text": [
      "Epoch [5961/6000]: Train loss: 1.2329, Valid loss: 1.0971\n"
     ]
    },
    {
     "name": "stderr",
     "output_type": "stream",
     "text": [
      "100%|██████████| 17/17 [00:00<00:00, 654.67it/s]\n",
      "100%|██████████| 17/17 [00:00<00:00, 629.63it/s]\n",
      "100%|██████████| 17/17 [00:00<00:00, 679.98it/s]\n",
      "100%|██████████| 17/17 [00:00<00:00, 679.98it/s]\n",
      "100%|██████████| 17/17 [00:00<00:00, 653.83it/s]\n",
      "100%|██████████| 17/17 [00:00<00:00, 680.00it/s]\n",
      "100%|██████████| 17/17 [00:00<00:00, 679.99it/s]\n",
      "100%|██████████| 17/17 [00:00<00:00, 680.00it/s]\n",
      "100%|██████████| 17/17 [00:00<00:00, 653.82it/s]\n",
      "100%|██████████| 17/17 [00:00<00:00, 680.00it/s]\n",
      "100%|██████████| 17/17 [00:00<00:00, 679.99it/s]\n",
      "100%|██████████| 17/17 [00:00<00:00, 653.84it/s]\n",
      "100%|██████████| 17/17 [00:00<00:00, 680.00it/s]\n",
      "100%|██████████| 17/17 [00:00<00:00, 680.00it/s]\n",
      "100%|██████████| 17/17 [00:00<00:00, 680.01it/s]\n",
      "100%|██████████| 17/17 [00:00<00:00, 660.79it/s]\n",
      "100%|██████████| 17/17 [00:00<00:00, 680.00it/s]\n",
      "100%|██████████| 17/17 [00:00<00:00, 449.55it/s]\n",
      "100%|██████████| 17/17 [00:00<00:00, 653.85it/s]\n",
      "100%|██████████| 17/17 [00:00<00:00, 619.27it/s]\n"
     ]
    },
    {
     "name": "stdout",
     "output_type": "stream",
     "text": [
      "Epoch [5981/6000]: Train loss: 1.2279, Valid loss: 1.0968\n"
     ]
    },
    {
     "name": "stderr",
     "output_type": "stream",
     "text": [
      "100%|██████████| 17/17 [00:00<00:00, 629.65it/s]\n",
      "100%|██████████| 17/17 [00:00<00:00, 655.19it/s]\n",
      "100%|██████████| 17/17 [00:00<00:00, 629.63it/s]\n",
      "100%|██████████| 17/17 [00:00<00:00, 653.85it/s]\n",
      "100%|██████████| 17/17 [00:00<00:00, 680.00it/s]\n",
      "100%|██████████| 17/17 [00:00<00:00, 653.86it/s]\n",
      "100%|██████████| 17/17 [00:00<00:00, 653.84it/s]\n",
      "100%|██████████| 17/17 [00:00<00:00, 680.03it/s]\n",
      "100%|██████████| 17/17 [00:00<00:00, 653.86it/s]\n",
      "100%|██████████| 17/17 [00:00<00:00, 653.85it/s]\n",
      "100%|██████████| 17/17 [00:00<00:00, 629.64it/s]\n",
      "100%|██████████| 17/17 [00:00<00:00, 678.68it/s]\n",
      "100%|██████████| 17/17 [00:00<00:00, 653.85it/s]\n",
      "100%|██████████| 17/17 [00:00<00:00, 653.85it/s]\n",
      "100%|██████████| 17/17 [00:00<00:00, 680.00it/s]\n",
      "100%|██████████| 17/17 [00:00<00:00, 653.83it/s]\n",
      "100%|██████████| 17/17 [00:00<00:00, 679.99it/s]\n",
      "100%|██████████| 17/17 [00:00<00:00, 653.85it/s]\n",
      "100%|██████████| 17/17 [00:00<00:00, 680.00it/s]\n"
     ]
    }
   ],
   "source": [
    "model = My_Model(input_dim=x_train.shape[1]).to(device) # put your model and data on the same computation device.\n",
    "trainer(train_loader, valid_loader, model, config, device)"
   ]
  },
  {
   "cell_type": "markdown",
   "metadata": {
    "id": "Ik09KPqU-di-"
   },
   "source": [
    "# Plot learning curves with `tensorboard` (optional)\n",
    "\n",
    "`tensorboard` is a tool that allows you to visualize your training progress.\n",
    "\n",
    "If this block does not display your learning curve, please wait for few minutes, and re-run this block. It might take some time to load your logging information. "
   ]
  },
  {
   "cell_type": "code",
   "execution_count": 11,
   "metadata": {
    "ExecuteTime": {
     "end_time": "2023-05-04T17:32:36.602080Z",
     "start_time": "2023-05-04T17:23:22.634677Z"
    },
    "id": "loA4nKmLGQ-n"
   },
   "outputs": [],
   "source": [
    "# %reload_ext tensorboard\n",
    "# %tensorboard --logdir=./runs/"
   ]
  },
  {
   "cell_type": "markdown",
   "metadata": {
    "id": "yhAHGqC9-woK"
   },
   "source": [
    "# Testing\n",
    "The predictions of your model on testing set will be stored at `pred.csv`."
   ]
  },
  {
   "cell_type": "code",
   "execution_count": 12,
   "metadata": {
    "ExecuteTime": {
     "end_time": "2023-05-04T17:32:36.602080Z",
     "start_time": "2023-05-04T17:23:22.651095Z"
    },
    "id": "Q5eVdpbvAlAe"
   },
   "outputs": [
    {
     "name": "stderr",
     "output_type": "stream",
     "text": [
      "100%|██████████| 9/9 [00:00<00:00, 1499.63it/s]\n"
     ]
    }
   ],
   "source": [
    "def save_pred(preds, file):\n",
    "    ''' Save predictions to specified file '''\n",
    "    with open(file, 'w') as fp:\n",
    "        writer = csv.writer(fp)\n",
    "        writer.writerow(['id', 'tested_positive'])\n",
    "        for i, p in enumerate(preds):\n",
    "            writer.writerow([i, p])\n",
    "\n",
    "model = My_Model(input_dim=x_train.shape[1]).to(device)\n",
    "model.load_state_dict(torch.load(config['save_path']))\n",
    "preds = predict(test_loader, model, device) \n",
    "save_pred(preds, 'pred05041716.csv')"
   ]
  },
  {
   "cell_type": "markdown",
   "metadata": {
    "id": "IJ_k5rY0GvSV"
   },
   "source": [
    "# Reference\n",
    "This notebook uses code written by Heng-Jui Chang @ NTUEE (https://github.com/ga642381/ML2021-Spring/blob/main/HW01/HW01.ipynb)"
   ]
  }
 ],
 "metadata": {
  "accelerator": "GPU",
  "colab": {
   "provenance": [
    {
     "file_id": "1FTcG6CE-HILnvFztEFKdauMlPKfQvm5Z",
     "timestamp": 1677480801674
    },
    {
     "file_id": "11ZsfGKBOCYwYgUFfRiPuRfStCDL0TK4i",
     "timestamp": 1643255172964
    }
   ],
   "toc_visible": true
  },
  "gpuClass": "standard",
  "kernelspec": {
   "display_name": "Python 3 (ipykernel)",
   "language": "python",
   "name": "python3"
  },
  "language_info": {
   "codemirror_mode": {
    "name": "ipython",
    "version": 3
   },
   "file_extension": ".py",
   "mimetype": "text/x-python",
   "name": "python",
   "nbconvert_exporter": "python",
   "pygments_lexer": "ipython3",
   "version": "3.10.9"
  }
 },
 "nbformat": 4,
 "nbformat_minor": 1
}
