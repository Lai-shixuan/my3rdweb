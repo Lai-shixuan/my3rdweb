{
 "cells": [
  {
   "cell_type": "markdown",
   "metadata": {
    "id": "6zxadcyUNU50"
   },
   "source": [
    "# **Homework 1: COVID-19 Cases Prediction (Regression)**"
   ]
  },
  {
   "cell_type": "markdown",
   "metadata": {
    "id": "Jr-De0XzNU6B"
   },
   "source": [
    "Objectives:\n",
    "* Solve a regression problem with deep neural networks (DNN).\n",
    "* Understand basic DNN training tips.\n",
    "* Familiarize yourself with PyTorch.\n",
    "\n",
    "If you have any questions, please contact the TAs via TA hours, NTU COOL, or email to mlta-2022-spring@googlegroups.com"
   ]
  },
  {
   "cell_type": "markdown",
   "metadata": {
    "id": "Tm2aXcb-j9Fc"
   },
   "source": [
    "# Download data\n",
    "If the Google Drive links below do not work, you can download data from [Kaggle](https://www.kaggle.com/t/a3ebd5b5542f0f55e828d4f00de8e59a), and upload data manually to the workspace."
   ]
  },
  {
   "cell_type": "code",
   "execution_count": 1,
   "metadata": {
    "ExecuteTime": {
     "end_time": "2023-05-17T05:57:51.777701400Z",
     "start_time": "2023-05-17T05:57:51.371058900Z"
    },
    "colab": {
     "base_uri": "https://localhost:8080/"
    },
    "executionInfo": {
     "elapsed": 2722,
     "status": "ok",
     "timestamp": 1678246081958,
     "user": {
      "displayName": "赖世宣",
      "userId": "13598398087408319646"
     },
     "user_tz": -480
    },
    "id": "YPmfl-awlKZA",
    "outputId": "1ca5309d-4185-439a-a02d-ab0dd8629603"
   },
   "outputs": [],
   "source": [
    "# !gdown --id '1kLSW_-cW2Huj7bh84YTdimGBOJaODiOS' --output covid.train.csv\n",
    "# !gdown --id '1iiI5qROrAhZn-o4FPqsE97bMzDEFvIdg' --output covid.test.csv"
   ]
  },
  {
   "cell_type": "markdown",
   "metadata": {
    "id": "igqIMEgu64-F"
   },
   "source": [
    "# Import packages"
   ]
  },
  {
   "cell_type": "code",
   "execution_count": 2,
   "metadata": {
    "ExecuteTime": {
     "end_time": "2023-05-17T05:57:52.965187200Z",
     "start_time": "2023-05-17T05:57:51.385014400Z"
    },
    "executionInfo": {
     "elapsed": 3219,
     "status": "ok",
     "timestamp": 1678246085157,
     "user": {
      "displayName": "赖世宣",
      "userId": "13598398087408319646"
     },
     "user_tz": -480
    },
    "id": "xybQNYCXYu13"
   },
   "outputs": [],
   "source": [
    "# Numerical Operations\n",
    "import math\n",
    "import numpy as np\n",
    "\n",
    "# Reading/Writing Data\n",
    "import pandas as pd\n",
    "import os\n",
    "import csv\n",
    "\n",
    "# For Progress Bar\n",
    "from tqdm import tqdm\n",
    "\n",
    "# Pytorch\n",
    "import torch \n",
    "import torch.nn as nn\n",
    "from torch.utils.data import Dataset, DataLoader, random_split\n",
    "from torch.backends import cudnn\n",
    "\n",
    "# For plotting learning curve\n",
    "from torch.utils.tensorboard import SummaryWriter"
   ]
  },
  {
   "cell_type": "markdown",
   "metadata": {
    "id": "fTAVqRfc2KK3"
   },
   "source": [
    "# Some Utility Functions\n",
    "\n",
    "You do not need to modify this part."
   ]
  },
  {
   "cell_type": "code",
   "execution_count": 3,
   "metadata": {
    "ExecuteTime": {
     "end_time": "2023-05-17T05:57:52.981098200Z",
     "start_time": "2023-05-17T05:57:52.970134700Z"
    },
    "executionInfo": {
     "elapsed": 25,
     "status": "ok",
     "timestamp": 1678246085160,
     "user": {
      "displayName": "赖世宣",
      "userId": "13598398087408319646"
     },
     "user_tz": -480
    },
    "id": "RbrcpfYN2I-H"
   },
   "outputs": [],
   "source": [
    "def same_seed(seed): \n",
    "    '''Fixes random number generator seeds for reproducibility.'''\n",
    "    torch.backends.cudnn.deterministic = True\n",
    "    torch.backends.cudnn.benchmark = False\n",
    "    np.random.seed(seed)\n",
    "    torch.manual_seed(seed)\n",
    "    if torch.cuda.is_available():\n",
    "        torch.cuda.manual_seed_all(seed)\n",
    "\n",
    "def train_valid_split(data_set, valid_ratio, seed):\n",
    "    '''Split provided training data into training set and validation set'''\n",
    "    valid_set_size = int(valid_ratio * len(data_set)) \n",
    "    train_set_size = len(data_set) - valid_set_size\n",
    "    train_set, valid_set = random_split(data_set, [train_set_size, valid_set_size], generator=torch.Generator().manual_seed(seed))\n",
    "    return np.array(train_set), np.array(valid_set)\n",
    "\n",
    "def predict(test_loader, model, device):\n",
    "    model.eval() # Set your model to evaluation mode.\n",
    "    preds = []\n",
    "    for x in tqdm(test_loader):\n",
    "        x = x.to(device)                        \n",
    "        with torch.no_grad():                   \n",
    "            pred = model(x)                     \n",
    "            preds.append(pred.detach().cpu())   \n",
    "    preds = torch.cat(preds, dim=0).numpy()  \n",
    "    return preds"
   ]
  },
  {
   "cell_type": "markdown",
   "metadata": {
    "id": "IqO3lTm78nNO"
   },
   "source": [
    "# Dataset"
   ]
  },
  {
   "cell_type": "code",
   "execution_count": 4,
   "metadata": {
    "ExecuteTime": {
     "end_time": "2023-05-17T05:57:53.010001300Z",
     "start_time": "2023-05-17T05:57:52.981098200Z"
    },
    "executionInfo": {
     "elapsed": 25,
     "status": "ok",
     "timestamp": 1678246085161,
     "user": {
      "displayName": "赖世宣",
      "userId": "13598398087408319646"
     },
     "user_tz": -480
    },
    "id": "-mjaJM0wprMs"
   },
   "outputs": [],
   "source": [
    "class COVID19Dataset(Dataset):\n",
    "    '''\n",
    "    x: Features.\n",
    "    y: Targets, if none, do prediction.\n",
    "    '''\n",
    "    def __init__(self, x, y=None):\n",
    "        if y is None:\n",
    "            self.y = y\n",
    "        else:\n",
    "            self.y = torch.FloatTensor(y)\n",
    "        self.x = torch.FloatTensor(x)\n",
    "\n",
    "    def __getitem__(self, idx):\n",
    "        if self.y is None:\n",
    "            return self.x[idx]\n",
    "        else:\n",
    "            return self.x[idx], self.y[idx]\n",
    "\n",
    "    def __len__(self):\n",
    "        return len(self.x)"
   ]
  },
  {
   "cell_type": "markdown",
   "metadata": {
    "id": "m73ooU75CL_j"
   },
   "source": [
    "# Neural Network Model\n",
    "Try out different model architectures by modifying the class below."
   ]
  },
  {
   "cell_type": "code",
   "execution_count": 5,
   "metadata": {
    "ExecuteTime": {
     "end_time": "2023-05-17T05:57:53.012991600Z",
     "start_time": "2023-05-17T05:57:53.001031400Z"
    },
    "executionInfo": {
     "elapsed": 25,
     "status": "ok",
     "timestamp": 1678246085163,
     "user": {
      "displayName": "赖世宣",
      "userId": "13598398087408319646"
     },
     "user_tz": -480
    },
    "id": "Qn97_WvvrEkG"
   },
   "outputs": [],
   "source": [
    "class My_Model(nn.Module):\n",
    "    def __init__(self, input_dim):\n",
    "        super(My_Model, self).__init__()\n",
    "        # TODO: modify model's structure, be aware of dimensions. \n",
    "        self.layers = nn.Sequential(\n",
    "            nn.Linear(input_dim, 16),\n",
    "            nn.ReLU(),\n",
    "            nn.Linear(16, 8),\n",
    "            nn.ReLU(),\n",
    "            nn.Linear(8, 1)\n",
    "        )\n",
    "\n",
    "    def forward(self, x):\n",
    "        x = self.layers(x)\n",
    "        x = x.squeeze(1) # (B, 1) -> (B)\n",
    "        return x"
   ]
  },
  {
   "cell_type": "markdown",
   "metadata": {
    "id": "x5-LKF6R8xeq"
   },
   "source": [
    "# Feature Selection\n",
    "Choose features you deem useful by modifying the function below."
   ]
  },
  {
   "cell_type": "code",
   "execution_count": 6,
   "metadata": {
    "ExecuteTime": {
     "end_time": "2023-05-17T05:57:53.027448200Z",
     "start_time": "2023-05-17T05:57:53.014985100Z"
    },
    "executionInfo": {
     "elapsed": 387,
     "status": "ok",
     "timestamp": 1678246085525,
     "user": {
      "displayName": "赖世宣",
      "userId": "13598398087408319646"
     },
     "user_tz": -480
    },
    "id": "0FEnKRaIIeKp"
   },
   "outputs": [],
   "source": [
    "def select_feat(train_data, valid_data, test_data, select_all=True):\n",
    "    '''Selects useful features to perform regression'''\n",
    "    y_train, y_valid = train_data[:,-1], valid_data[:,-1]\n",
    "    raw_x_train, raw_x_valid, raw_x_test = train_data[:,:-1], valid_data[:,:-1], test_data\n",
    "\n",
    "    if select_all:\n",
    "        feat_idx = list(range(raw_x_train.shape[1]))\n",
    "    else:\n",
    "        feat_idx = np.concatenate((np.arange(1, 38), np.arange(38, 43), np.arange(53, 59),\n",
    "                                   np.arange(69, 75), np.arange(85, 91), np.arange(101, 107))) \\\n",
    "            # TODO: Select suitable feature columns.\n",
    "\n",
    "    return raw_x_train[:,feat_idx], raw_x_valid[:,feat_idx], raw_x_test[:,feat_idx], y_train, y_valid"
   ]
  },
  {
   "cell_type": "markdown",
   "metadata": {
    "id": "kADIPNQ2Ih5X"
   },
   "source": [
    "# Training Loop"
   ]
  },
  {
   "cell_type": "code",
   "execution_count": 7,
   "metadata": {
    "ExecuteTime": {
     "end_time": "2023-05-17T05:57:53.058345100Z",
     "start_time": "2023-05-17T05:57:53.028444900Z"
    },
    "executionInfo": {
     "elapsed": 9,
     "status": "ok",
     "timestamp": 1678246085527,
     "user": {
      "displayName": "赖世宣",
      "userId": "13598398087408319646"
     },
     "user_tz": -480
    },
    "id": "k4Rq8_TztAhq"
   },
   "outputs": [],
   "source": [
    "def trainer(train_loader, valid_loader, model, config, device):\n",
    "\n",
    "    criterion = nn.MSELoss(reduction='mean') # Define your loss function, do not modify this.\n",
    "\n",
    "    # Define your optimization algorithm. \n",
    "    # TODO: Please check https://pytorch.org/docs/stable/optim.html to get more available algorithms.\n",
    "    # TODO: L2 regularization (optimizer(weight decay...) or implement by your self).\n",
    "    optimizer = torch.optim.Adam(model.parameters(), lr=config['learning_rate']) \n",
    "    # optimizer = torch.optim.SGD(model.parameters(), lr=config['learning_rate'], momentum=0.9) \n",
    "\n",
    "    writer = SummaryWriter() # Writer of tensoboard.\n",
    "\n",
    "    if not os.path.isdir('./models'):\n",
    "        os.mkdir('./models') # Create directory of saving models.\n",
    "\n",
    "    n_epochs, best_loss, step, early_stop_count = config['n_epochs'], math.inf, 0, 0\n",
    "\n",
    "    for epoch in range(n_epochs):\n",
    "        model.train() # Set your model to train mode.\n",
    "        loss_record = []\n",
    "\n",
    "        # tqdm is a package to visualize your training progress.\n",
    "        train_pbar = tqdm(train_loader, position=0, leave=True)\n",
    "        for x, y in train_pbar:\n",
    "            optimizer.zero_grad()               # Set gradient to zero.\n",
    "            x, y = x.to(device), y.to(device)   # Move your data to device.\n",
    "            pred = model(x)\n",
    "            loss = criterion(pred, y)\n",
    "            loss.backward()                     # Compute gradient(backpropagation).\n",
    "            optimizer.step()                    # Update parameters.\n",
    "            step += 1\n",
    "            loss_record.append(loss.detach().item())\n",
    "            \n",
    "            # Display current epoch number and loss on tqdm progress bar.\n",
    "            # train_pbar.set_description(f'Epoch [{epoch+1}/{n_epochs}]')\n",
    "            # train_pbar.set_postfix({'loss': loss.detach().item()})\n",
    "\n",
    "        mean_train_loss = sum(loss_record)/len(loss_record)\n",
    "        writer.add_scalar('Loss/train', mean_train_loss, step)\n",
    "\n",
    "        model.eval() # Set your model to evaluation mode.\n",
    "        loss_record = []\n",
    "        for x, y in valid_loader:\n",
    "            x, y = x.to(device), y.to(device)\n",
    "            with torch.no_grad():\n",
    "                pred = model(x)\n",
    "                loss = criterion(pred, y)\n",
    "\n",
    "            loss_record.append(loss.item())\n",
    "\n",
    "        mean_valid_loss = sum(loss_record)/len(loss_record)\n",
    "        if epoch % 20 == 0:\n",
    "            print(f'Epoch [{epoch+1}/{n_epochs}]: Train loss: {mean_train_loss:.4f}, Valid loss: {mean_valid_loss:.4f}')\n",
    "            writer.add_scalar('Loss/valid', mean_valid_loss, step)\n",
    "\n",
    "        if mean_valid_loss < best_loss:\n",
    "            best_loss = mean_valid_loss\n",
    "            torch.save(model.state_dict(), config['save_path']) # Save your best model\n",
    "            print('Saving model with loss {:.3f}...'.format(best_loss))\n",
    "            early_stop_count = 0\n",
    "        else: \n",
    "            early_stop_count += 1\n",
    "\n",
    "        if early_stop_count >= config['early_stop']:\n",
    "            print('\\nModel is not improving, so we halt the training session.')\n",
    "            return"
   ]
  },
  {
   "cell_type": "markdown",
   "metadata": {
    "id": "0pgkOh2e9UjE"
   },
   "source": [
    "# Configurations\n",
    "`config` contains hyper-parameters for training and the path to save your model."
   ]
  },
  {
   "cell_type": "code",
   "execution_count": 8,
   "metadata": {
    "ExecuteTime": {
     "end_time": "2023-05-17T05:57:53.125745600Z",
     "start_time": "2023-05-17T05:57:53.044391600Z"
    },
    "executionInfo": {
     "elapsed": 15,
     "status": "ok",
     "timestamp": 1678246085964,
     "user": {
      "displayName": "赖世宣",
      "userId": "13598398087408319646"
     },
     "user_tz": -480
    },
    "id": "QoWPUahCtoT6"
   },
   "outputs": [],
   "source": [
    "device = 'cuda' if torch.cuda.is_available() else 'cpu'\n",
    "config = {\n",
    "    'seed': 5211314,      # Your seed number, you can pick your lucky number. :)\n",
    "    'select_all': False,   # Whether to use all features.\n",
    "    'valid_ratio': 0.2,   # validation_size = train_size * valid_ratio\n",
    "    'n_epochs': 6000,     # Number of epochs.            \n",
    "    'batch_size': 128, \n",
    "    'learning_rate': 1e-5,              \n",
    "    'early_stop': 400,    # If model has not improved for this many consecutive epochs, stop training.     \n",
    "    'save_path': './models/model.ckpt'  # Your model will be saved here.\n",
    "}"
   ]
  },
  {
   "cell_type": "markdown",
   "metadata": {
    "id": "lrS-aJJh9XkW"
   },
   "source": [
    "# Dataloader\n",
    "Read data from files and set up training, validation, and testing sets. You do not need to modify this part."
   ]
  },
  {
   "cell_type": "code",
   "execution_count": 9,
   "metadata": {
    "ExecuteTime": {
     "end_time": "2023-05-17T05:57:53.254895900Z",
     "start_time": "2023-05-17T05:57:53.129732300Z"
    },
    "colab": {
     "base_uri": "https://localhost:8080/"
    },
    "executionInfo": {
     "elapsed": 404,
     "status": "ok",
     "timestamp": 1678246086354,
     "user": {
      "displayName": "赖世宣",
      "userId": "13598398087408319646"
     },
     "user_tz": -480
    },
    "id": "2jc7ZfDot2t9",
    "outputId": "e727f699-061d-460e-fe8f-3edca50e88b6"
   },
   "outputs": [
    {
     "name": "stdout",
     "output_type": "stream",
     "text": [
      "train_data size: (2160, 118) \n",
      "valid_data size: (539, 118) \n",
      "test_data size: (1078, 117)\n",
      "number of features: 66\n"
     ]
    }
   ],
   "source": [
    "# Set seed for reproducibility\n",
    "same_seed(config['seed'])\n",
    "\n",
    "\n",
    "# train_data size: 2699 x 118 (id + 37 states + 16 features x 5 days) \n",
    "# test_data size: 1078 x 117 (without last day's positive rate)\n",
    "train_data, test_data = pd.read_csv('./covid.train.csv').values, pd.read_csv('./covid.test.csv').values\n",
    "train_data, valid_data = train_valid_split(train_data, config['valid_ratio'], config['seed'])\n",
    "\n",
    "# Print out the data size.\n",
    "print(f\"\"\"train_data size: {train_data.shape} \n",
    "valid_data size: {valid_data.shape} \n",
    "test_data size: {test_data.shape}\"\"\")\n",
    "\n",
    "# Select features\n",
    "x_train, x_valid, x_test, y_train, y_valid = select_feat(train_data, valid_data, test_data, config['select_all'])\n",
    "\n",
    "# Print out the number of features.\n",
    "print(f'number of features: {x_train.shape[1]}')\n",
    "\n",
    "train_dataset, valid_dataset, test_dataset = COVID19Dataset(x_train, y_train), \\\n",
    "                                            COVID19Dataset(x_valid, y_valid), \\\n",
    "                                            COVID19Dataset(x_test)\n",
    "\n",
    "# Pytorch data loader loads pytorch dataset into batches.\n",
    "train_loader = DataLoader(train_dataset, batch_size=config['batch_size'], shuffle=True, pin_memory=True)\n",
    "valid_loader = DataLoader(valid_dataset, batch_size=config['batch_size'], shuffle=True, pin_memory=True)\n",
    "test_loader = DataLoader(test_dataset, batch_size=config['batch_size'], shuffle=False, pin_memory=True)"
   ]
  },
  {
   "cell_type": "markdown",
   "metadata": {
    "id": "0OBYgjCA-YwD"
   },
   "source": [
    "# Start training!"
   ]
  },
  {
   "cell_type": "code",
   "execution_count": null,
   "metadata": {
    "ExecuteTime": {
     "end_time": "2023-05-17T05:57:56.719324800Z",
     "start_time": "2023-05-17T05:57:53.248916800Z"
    },
    "colab": {
     "base_uri": "https://localhost:8080/"
    },
    "id": "YdttVRkAfu2t",
    "outputId": "c77a9ce9-f66c-4f8d-ca91-f09e0b552228"
   },
   "outputs": [
    {
     "name": "stderr",
     "output_type": "stream",
     "text": [
      "100%|██████████| 17/17 [00:01<00:00, 12.43it/s]\n"
     ]
    },
    {
     "name": "stdout",
     "output_type": "stream",
     "text": [
      "Epoch [1/6000]: Train loss: 157.0271, Valid loss: 164.6660\n",
      "Saving model with loss 164.666...\n"
     ]
    },
    {
     "name": "stderr",
     "output_type": "stream",
     "text": [
      "100%|██████████| 17/17 [00:00<00:00, 682.13it/s]\n"
     ]
    },
    {
     "name": "stdout",
     "output_type": "stream",
     "text": [
      "Saving model with loss 157.856...\n"
     ]
    },
    {
     "name": "stderr",
     "output_type": "stream",
     "text": [
      "100%|██████████| 17/17 [00:00<00:00, 682.30it/s]\n",
      "100%|██████████| 17/17 [00:00<00:00, 710.72it/s]\n"
     ]
    },
    {
     "name": "stdout",
     "output_type": "stream",
     "text": [
      "Saving model with loss 150.464...\n"
     ]
    },
    {
     "name": "stderr",
     "output_type": "stream",
     "text": [
      "100%|██████████| 17/17 [00:00<00:00, 668.70it/s]\n",
      "100%|██████████| 17/17 [00:00<00:00, 682.27it/s]\n",
      "100%|██████████| 17/17 [00:00<00:00, 710.64it/s]\n"
     ]
    },
    {
     "name": "stdout",
     "output_type": "stream",
     "text": [
      "Saving model with loss 142.408...\n"
     ]
    },
    {
     "name": "stderr",
     "output_type": "stream",
     "text": [
      "100%|██████████| 17/17 [00:00<00:00, 730.07it/s]\n",
      "100%|██████████| 17/17 [00:00<00:00, 775.34it/s]\n",
      "100%|██████████| 17/17 [00:00<00:00, 775.32it/s]\n",
      "100%|██████████| 17/17 [00:00<00:00, 741.62it/s]\n",
      "100%|██████████| 17/17 [00:00<00:00, 741.61it/s]\n",
      "100%|██████████| 17/17 [00:00<00:00, 710.69it/s]\n",
      "100%|██████████| 17/17 [00:00<00:00, 775.30it/s]\n",
      "100%|██████████| 17/17 [00:00<00:00, 741.61it/s]\n",
      "100%|██████████| 17/17 [00:00<00:00, 741.60it/s]\n",
      "100%|██████████| 17/17 [00:00<00:00, 741.56it/s]\n",
      "100%|██████████| 17/17 [00:00<00:00, 741.60it/s]\n"
     ]
    },
    {
     "name": "stdout",
     "output_type": "stream",
     "text": [
      "Saving model with loss 140.448...\n"
     ]
    },
    {
     "name": "stderr",
     "output_type": "stream",
     "text": [
      "100%|██████████| 17/17 [00:00<00:00, 741.60it/s]\n",
      "100%|██████████| 17/17 [00:00<00:00, 741.61it/s]\n",
      "100%|██████████| 17/17 [00:00<00:00, 775.31it/s]\n"
     ]
    },
    {
     "name": "stdout",
     "output_type": "stream",
     "text": [
      "Epoch [21/6000]: Train loss: 145.4581, Valid loss: 145.7254\n"
     ]
    },
    {
     "name": "stderr",
     "output_type": "stream",
     "text": [
      "100%|██████████| 17/17 [00:00<00:00, 722.31it/s]\n",
      "100%|██████████| 17/17 [00:00<00:00, 741.61it/s]\n",
      "100%|██████████| 17/17 [00:00<00:00, 775.32it/s]\n"
     ]
    },
    {
     "name": "stdout",
     "output_type": "stream",
     "text": [
      "Saving model with loss 137.087...\n"
     ]
    },
    {
     "name": "stderr",
     "output_type": "stream",
     "text": [
      "100%|██████████| 17/17 [00:00<00:00, 741.58it/s]\n",
      "100%|██████████| 17/17 [00:00<00:00, 741.58it/s]\n",
      "100%|██████████| 17/17 [00:00<00:00, 741.59it/s]\n",
      "100%|██████████| 17/17 [00:00<00:00, 741.61it/s]\n",
      "100%|██████████| 17/17 [00:00<00:00, 710.67it/s]\n",
      "100%|██████████| 17/17 [00:00<00:00, 710.70it/s]\n",
      "100%|██████████| 17/17 [00:00<00:00, 710.72it/s]\n"
     ]
    },
    {
     "name": "stdout",
     "output_type": "stream",
     "text": [
      "Saving model with loss 133.564...\n"
     ]
    },
    {
     "name": "stderr",
     "output_type": "stream",
     "text": [
      "100%|██████████| 17/17 [00:00<00:00, 741.60it/s]\n",
      "100%|██████████| 17/17 [00:00<00:00, 710.69it/s]\n",
      "100%|██████████| 17/17 [00:00<00:00, 775.32it/s]\n",
      "100%|██████████| 17/17 [00:00<00:00, 741.61it/s]\n",
      "100%|██████████| 17/17 [00:00<00:00, 710.71it/s]\n",
      "100%|██████████| 17/17 [00:00<00:00, 710.68it/s]\n",
      "100%|██████████| 17/17 [00:00<00:00, 775.30it/s]\n",
      "100%|██████████| 17/17 [00:00<00:00, 682.28it/s]\n",
      "100%|██████████| 17/17 [00:00<00:00, 775.34it/s]\n"
     ]
    },
    {
     "name": "stdout",
     "output_type": "stream",
     "text": [
      "Saving model with loss 133.105...\n"
     ]
    },
    {
     "name": "stderr",
     "output_type": "stream",
     "text": [
      "100%|██████████| 17/17 [00:00<00:00, 682.29it/s]\n"
     ]
    },
    {
     "name": "stdout",
     "output_type": "stream",
     "text": [
      "Epoch [41/6000]: Train loss: 136.0885, Valid loss: 135.2835\n"
     ]
    },
    {
     "name": "stderr",
     "output_type": "stream",
     "text": [
      "100%|██████████| 17/17 [00:00<00:00, 741.59it/s]\n",
      "100%|██████████| 17/17 [00:00<00:00, 741.61it/s]\n"
     ]
    },
    {
     "name": "stdout",
     "output_type": "stream",
     "text": [
      "Saving model with loss 131.598...\n"
     ]
    },
    {
     "name": "stderr",
     "output_type": "stream",
     "text": [
      "100%|██████████| 17/17 [00:00<00:00, 741.60it/s]\n",
      "100%|██████████| 17/17 [00:00<00:00, 710.70it/s]\n",
      "100%|██████████| 17/17 [00:00<00:00, 775.31it/s]\n",
      "100%|██████████| 17/17 [00:00<00:00, 741.60it/s]\n",
      "100%|██████████| 17/17 [00:00<00:00, 775.32it/s]\n",
      "100%|██████████| 17/17 [00:00<00:00, 741.61it/s]\n",
      "100%|██████████| 17/17 [00:00<00:00, 741.61it/s]\n"
     ]
    },
    {
     "name": "stdout",
     "output_type": "stream",
     "text": [
      "Saving model with loss 126.092...\n"
     ]
    },
    {
     "name": "stderr",
     "output_type": "stream",
     "text": [
      "100%|██████████| 17/17 [00:00<00:00, 741.48it/s]\n"
     ]
    },
    {
     "name": "stdout",
     "output_type": "stream",
     "text": [
      "Saving model with loss 125.731...\n"
     ]
    },
    {
     "name": "stderr",
     "output_type": "stream",
     "text": [
      "100%|██████████| 17/17 [00:00<00:00, 741.58it/s]\n",
      "100%|██████████| 17/17 [00:00<00:00, 741.62it/s]\n",
      "100%|██████████| 17/17 [00:00<00:00, 710.70it/s]\n",
      "100%|██████████| 17/17 [00:00<00:00, 812.23it/s]\n",
      "100%|██████████| 17/17 [00:00<00:00, 741.61it/s]\n",
      "100%|██████████| 17/17 [00:00<00:00, 741.60it/s]\n"
     ]
    },
    {
     "name": "stdout",
     "output_type": "stream",
     "text": [
      "Saving model with loss 122.259...\n"
     ]
    },
    {
     "name": "stderr",
     "output_type": "stream",
     "text": [
      "100%|██████████| 17/17 [00:00<00:00, 741.59it/s]\n",
      "100%|██████████| 17/17 [00:00<00:00, 710.53it/s]\n",
      "100%|██████████| 17/17 [00:00<00:00, 710.72it/s]\n",
      "100%|██████████| 17/17 [00:00<00:00, 710.71it/s]\n"
     ]
    },
    {
     "name": "stdout",
     "output_type": "stream",
     "text": [
      "Epoch [61/6000]: Train loss: 127.3346, Valid loss: 126.1981\n"
     ]
    },
    {
     "name": "stderr",
     "output_type": "stream",
     "text": [
      "100%|██████████| 17/17 [00:00<00:00, 775.33it/s]\n"
     ]
    },
    {
     "name": "stdout",
     "output_type": "stream",
     "text": [
      "Saving model with loss 117.528...\n"
     ]
    },
    {
     "name": "stderr",
     "output_type": "stream",
     "text": [
      "100%|██████████| 17/17 [00:00<00:00, 741.62it/s]\n",
      "100%|██████████| 17/17 [00:00<00:00, 682.26it/s]\n",
      "100%|██████████| 17/17 [00:00<00:00, 778.62it/s]\n",
      "100%|██████████| 17/17 [00:00<00:00, 710.71it/s]\n",
      "100%|██████████| 17/17 [00:00<00:00, 710.71it/s]\n",
      "100%|██████████| 17/17 [00:00<00:00, 812.25it/s]\n",
      "100%|██████████| 17/17 [00:00<00:00, 812.24it/s]\n",
      "100%|██████████| 17/17 [00:00<00:00, 775.32it/s]\n",
      "100%|██████████| 17/17 [00:00<00:00, 741.63it/s]\n"
     ]
    },
    {
     "name": "stdout",
     "output_type": "stream",
     "text": [
      "Saving model with loss 115.508...\n"
     ]
    },
    {
     "name": "stderr",
     "output_type": "stream",
     "text": [
      "100%|██████████| 17/17 [00:00<00:00, 741.61it/s]\n",
      "100%|██████████| 17/17 [00:00<00:00, 812.24it/s]\n",
      "100%|██████████| 17/17 [00:00<00:00, 741.60it/s]\n",
      "100%|██████████| 17/17 [00:00<00:00, 741.61it/s]\n",
      "100%|██████████| 17/17 [00:00<00:00, 812.23it/s]\n",
      "100%|██████████| 17/17 [00:00<00:00, 741.61it/s]\n",
      "100%|██████████| 17/17 [00:00<00:00, 741.61it/s]\n",
      "100%|██████████| 17/17 [00:00<00:00, 741.62it/s]\n",
      "100%|██████████| 17/17 [00:00<00:00, 775.33it/s]\n",
      "100%|██████████| 17/17 [00:00<00:00, 741.59it/s]\n"
     ]
    },
    {
     "name": "stdout",
     "output_type": "stream",
     "text": [
      "Epoch [81/6000]: Train loss: 118.9196, Valid loss: 110.2030\n",
      "Saving model with loss 110.203...\n"
     ]
    },
    {
     "name": "stderr",
     "output_type": "stream",
     "text": [
      "100%|██████████| 17/17 [00:00<00:00, 741.61it/s]\n",
      "100%|██████████| 17/17 [00:00<00:00, 741.60it/s]\n",
      "100%|██████████| 17/17 [00:00<00:00, 741.59it/s]\n",
      "100%|██████████| 17/17 [00:00<00:00, 741.61it/s]\n",
      "100%|██████████| 17/17 [00:00<00:00, 775.31it/s]\n",
      "100%|██████████| 17/17 [00:00<00:00, 710.69it/s]\n",
      "100%|██████████| 17/17 [00:00<00:00, 741.61it/s]\n",
      "100%|██████████| 17/17 [00:00<00:00, 710.70it/s]\n"
     ]
    },
    {
     "name": "stdout",
     "output_type": "stream",
     "text": [
      "Saving model with loss 107.134...\n"
     ]
    },
    {
     "name": "stderr",
     "output_type": "stream",
     "text": [
      "100%|██████████| 17/17 [00:00<00:00, 710.71it/s]\n",
      "100%|██████████| 17/17 [00:00<00:00, 710.70it/s]\n",
      "100%|██████████| 17/17 [00:00<00:00, 741.60it/s]\n",
      "100%|██████████| 17/17 [00:00<00:00, 775.30it/s]\n",
      "100%|██████████| 17/17 [00:00<00:00, 710.70it/s]\n",
      "100%|██████████| 17/17 [00:00<00:00, 775.32it/s]\n",
      "100%|██████████| 17/17 [00:00<00:00, 775.33it/s]\n"
     ]
    },
    {
     "name": "stdout",
     "output_type": "stream",
     "text": [
      "Saving model with loss 106.398...\n"
     ]
    },
    {
     "name": "stderr",
     "output_type": "stream",
     "text": [
      "100%|██████████| 17/17 [00:00<00:00, 741.61it/s]\n",
      "100%|██████████| 17/17 [00:00<00:00, 741.61it/s]\n",
      "100%|██████████| 17/17 [00:00<00:00, 775.32it/s]\n",
      "100%|██████████| 17/17 [00:00<00:00, 710.70it/s]\n",
      "100%|██████████| 17/17 [00:00<00:00, 741.60it/s]\n"
     ]
    },
    {
     "name": "stdout",
     "output_type": "stream",
     "text": [
      "Epoch [101/6000]: Train loss: 109.8928, Valid loss: 114.7801\n"
     ]
    },
    {
     "name": "stderr",
     "output_type": "stream",
     "text": [
      "100%|██████████| 17/17 [00:00<00:00, 741.59it/s]\n"
     ]
    },
    {
     "name": "stdout",
     "output_type": "stream",
     "text": [
      "Saving model with loss 103.726...\n"
     ]
    },
    {
     "name": "stderr",
     "output_type": "stream",
     "text": [
      "100%|██████████| 17/17 [00:00<00:00, 741.61it/s]\n",
      "100%|██████████| 17/17 [00:00<00:00, 741.61it/s]\n",
      "100%|██████████| 17/17 [00:00<00:00, 775.22it/s]\n"
     ]
    },
    {
     "name": "stdout",
     "output_type": "stream",
     "text": [
      "Saving model with loss 102.643...\n"
     ]
    },
    {
     "name": "stderr",
     "output_type": "stream",
     "text": [
      "100%|██████████| 17/17 [00:00<00:00, 741.61it/s]\n"
     ]
    },
    {
     "name": "stdout",
     "output_type": "stream",
     "text": [
      "Saving model with loss 102.550...\n"
     ]
    },
    {
     "name": "stderr",
     "output_type": "stream",
     "text": [
      "100%|██████████| 17/17 [00:00<00:00, 682.26it/s]\n",
      "100%|██████████| 17/17 [00:00<00:00, 741.54it/s]\n",
      "100%|██████████| 17/17 [00:00<00:00, 741.61it/s]\n",
      "100%|██████████| 17/17 [00:00<00:00, 775.32it/s]\n",
      "100%|██████████| 17/17 [00:00<00:00, 775.31it/s]\n",
      "100%|██████████| 17/17 [00:00<00:00, 741.14it/s]\n",
      "100%|██████████| 17/17 [00:00<00:00, 741.60it/s]\n"
     ]
    },
    {
     "name": "stdout",
     "output_type": "stream",
     "text": [
      "Saving model with loss 98.056...\n"
     ]
    },
    {
     "name": "stderr",
     "output_type": "stream",
     "text": [
      "100%|██████████| 17/17 [00:00<00:00, 741.60it/s]\n",
      "100%|██████████| 17/17 [00:00<00:00, 812.23it/s]\n"
     ]
    },
    {
     "name": "stdout",
     "output_type": "stream",
     "text": [
      "Saving model with loss 95.371...\n"
     ]
    },
    {
     "name": "stderr",
     "output_type": "stream",
     "text": [
      "100%|██████████| 17/17 [00:00<00:00, 710.70it/s]\n",
      "100%|██████████| 17/17 [00:00<00:00, 775.30it/s]\n",
      "100%|██████████| 17/17 [00:00<00:00, 741.61it/s]\n",
      "100%|██████████| 17/17 [00:00<00:00, 775.32it/s]\n",
      "100%|██████████| 17/17 [00:00<00:00, 722.94it/s]\n",
      "100%|██████████| 17/17 [00:00<00:00, 775.30it/s]\n"
     ]
    },
    {
     "name": "stdout",
     "output_type": "stream",
     "text": [
      "Epoch [121/6000]: Train loss: 101.0596, Valid loss: 102.1553\n"
     ]
    },
    {
     "name": "stderr",
     "output_type": "stream",
     "text": [
      "100%|██████████| 17/17 [00:00<00:00, 741.63it/s]\n",
      "100%|██████████| 17/17 [00:00<00:00, 775.25it/s]\n",
      "100%|██████████| 17/17 [00:00<00:00, 710.70it/s]\n",
      "100%|██████████| 17/17 [00:00<00:00, 710.70it/s]\n",
      "100%|██████████| 17/17 [00:00<00:00, 741.54it/s]\n",
      "100%|██████████| 17/17 [00:00<00:00, 710.69it/s]\n",
      "100%|██████████| 17/17 [00:00<00:00, 775.31it/s]\n",
      "100%|██████████| 17/17 [00:00<00:00, 710.70it/s]\n"
     ]
    },
    {
     "name": "stdout",
     "output_type": "stream",
     "text": [
      "Saving model with loss 94.863...\n"
     ]
    },
    {
     "name": "stderr",
     "output_type": "stream",
     "text": [
      "100%|██████████| 17/17 [00:00<00:00, 668.75it/s]\n"
     ]
    },
    {
     "name": "stdout",
     "output_type": "stream",
     "text": [
      "Saving model with loss 90.310...\n"
     ]
    },
    {
     "name": "stderr",
     "output_type": "stream",
     "text": [
      "100%|██████████| 17/17 [00:00<00:00, 682.28it/s]\n",
      "100%|██████████| 17/17 [00:00<00:00, 710.70it/s]\n",
      "100%|██████████| 17/17 [00:00<00:00, 725.67it/s]\n",
      "100%|██████████| 17/17 [00:00<00:00, 710.70it/s]\n",
      "100%|██████████| 17/17 [00:00<00:00, 741.60it/s]\n",
      "100%|██████████| 17/17 [00:00<00:00, 741.60it/s]\n",
      "100%|██████████| 17/17 [00:00<00:00, 656.14it/s]\n",
      "100%|██████████| 17/17 [00:00<00:00, 656.04it/s]\n",
      "100%|██████████| 17/17 [00:00<00:00, 741.60it/s]\n"
     ]
    },
    {
     "name": "stdout",
     "output_type": "stream",
     "text": [
      "Saving model with loss 89.213...\n"
     ]
    },
    {
     "name": "stderr",
     "output_type": "stream",
     "text": [
      "100%|██████████| 17/17 [00:00<00:00, 696.03it/s]\n"
     ]
    },
    {
     "name": "stdout",
     "output_type": "stream",
     "text": [
      "Saving model with loss 88.666...\n"
     ]
    },
    {
     "name": "stderr",
     "output_type": "stream",
     "text": [
      "100%|██████████| 17/17 [00:00<00:00, 775.32it/s]\n"
     ]
    },
    {
     "name": "stdout",
     "output_type": "stream",
     "text": [
      "Epoch [141/6000]: Train loss: 91.8118, Valid loss: 89.0745\n"
     ]
    },
    {
     "name": "stderr",
     "output_type": "stream",
     "text": [
      "100%|██████████| 17/17 [00:00<00:00, 710.70it/s]\n",
      "100%|██████████| 17/17 [00:00<00:00, 710.69it/s]\n",
      "100%|██████████| 17/17 [00:00<00:00, 710.71it/s]\n",
      "100%|██████████| 17/17 [00:00<00:00, 350.44it/s]\n",
      "100%|██████████| 17/17 [00:00<00:00, 321.83it/s]\n"
     ]
    },
    {
     "name": "stdout",
     "output_type": "stream",
     "text": [
      "Saving model with loss 86.412...\n"
     ]
    },
    {
     "name": "stderr",
     "output_type": "stream",
     "text": [
      "100%|██████████| 17/17 [00:00<00:00, 321.83it/s]\n",
      "100%|██████████| 17/17 [00:00<00:00, 328.02it/s]\n",
      "100%|██████████| 17/17 [00:00<00:00, 321.83it/s]\n",
      "100%|██████████| 17/17 [00:00<00:00, 328.02it/s]\n",
      "100%|██████████| 17/17 [00:00<00:00, 310.13it/s]\n"
     ]
    },
    {
     "name": "stdout",
     "output_type": "stream",
     "text": [
      "Saving model with loss 85.669...\n"
     ]
    },
    {
     "name": "stderr",
     "output_type": "stream",
     "text": [
      "100%|██████████| 17/17 [00:00<00:00, 328.01it/s]\n"
     ]
    },
    {
     "name": "stdout",
     "output_type": "stream",
     "text": [
      "Saving model with loss 85.172...\n"
     ]
    },
    {
     "name": "stderr",
     "output_type": "stream",
     "text": [
      "100%|██████████| 17/17 [00:00<00:00, 321.83it/s]\n",
      "100%|██████████| 17/17 [00:00<00:00, 321.83it/s]\n",
      "100%|██████████| 17/17 [00:00<00:00, 315.87it/s]\n"
     ]
    },
    {
     "name": "stdout",
     "output_type": "stream",
     "text": [
      "Saving model with loss 82.693...\n"
     ]
    },
    {
     "name": "stderr",
     "output_type": "stream",
     "text": [
      "100%|██████████| 17/17 [00:00<00:00, 310.12it/s]\n",
      "100%|██████████| 17/17 [00:00<00:00, 321.83it/s]\n",
      "100%|██████████| 17/17 [00:00<00:00, 325.15it/s]\n",
      "100%|██████████| 17/17 [00:00<00:00, 321.83it/s]\n",
      "100%|██████████| 17/17 [00:00<00:00, 318.77it/s]\n",
      "100%|██████████| 17/17 [00:00<00:00, 268.58it/s]\n"
     ]
    },
    {
     "name": "stdout",
     "output_type": "stream",
     "text": [
      "Epoch [161/6000]: Train loss: 82.4923, Valid loss: 75.7788\n",
      "Saving model with loss 75.779...\n"
     ]
    },
    {
     "name": "stderr",
     "output_type": "stream",
     "text": [
      "100%|██████████| 17/17 [00:00<00:00, 289.08it/s]\n",
      "100%|██████████| 17/17 [00:00<00:00, 297.24it/s]\n",
      "100%|██████████| 17/17 [00:00<00:00, 270.71it/s]\n",
      "100%|██████████| 17/17 [00:00<00:00, 294.09it/s]\n",
      "100%|██████████| 17/17 [00:00<00:00, 270.73it/s]\n",
      "100%|██████████| 17/17 [00:00<00:00, 304.59it/s]\n",
      "100%|██████████| 17/17 [00:00<00:00, 275.11it/s]\n",
      "100%|██████████| 17/17 [00:00<00:00, 289.10it/s]\n",
      "100%|██████████| 17/17 [00:00<00:00, 294.07it/s]\n",
      "100%|██████████| 17/17 [00:00<00:00, 258.44it/s]\n",
      "100%|██████████| 17/17 [00:00<00:00, 299.24it/s]\n"
     ]
    },
    {
     "name": "stdout",
     "output_type": "stream",
     "text": [
      "Saving model with loss 72.598...\n"
     ]
    },
    {
     "name": "stderr",
     "output_type": "stream",
     "text": [
      "100%|██████████| 17/17 [00:00<00:00, 279.62it/s]\n",
      "100%|██████████| 17/17 [00:00<00:00, 294.08it/s]\n",
      "100%|██████████| 17/17 [00:00<00:00, 291.74it/s]\n",
      "100%|██████████| 17/17 [00:00<00:00, 275.11it/s]\n"
     ]
    },
    {
     "name": "stdout",
     "output_type": "stream",
     "text": [
      "Saving model with loss 72.528...\n"
     ]
    },
    {
     "name": "stderr",
     "output_type": "stream",
     "text": [
      "100%|██████████| 17/17 [00:00<00:00, 294.08it/s]\n",
      "100%|██████████| 17/17 [00:00<00:00, 294.08it/s]\n",
      "100%|██████████| 17/17 [00:00<00:00, 299.24it/s]\n"
     ]
    },
    {
     "name": "stdout",
     "output_type": "stream",
     "text": [
      "Saving model with loss 70.073...\n"
     ]
    },
    {
     "name": "stderr",
     "output_type": "stream",
     "text": [
      "100%|██████████| 17/17 [00:00<00:00, 266.51it/s]\n",
      "100%|██████████| 17/17 [00:00<00:00, 294.08it/s]\n"
     ]
    },
    {
     "name": "stdout",
     "output_type": "stream",
     "text": [
      "Epoch [181/6000]: Train loss: 73.0448, Valid loss: 74.6246\n"
     ]
    },
    {
     "name": "stderr",
     "output_type": "stream",
     "text": [
      "100%|██████████| 17/17 [00:00<00:00, 289.10it/s]\n"
     ]
    },
    {
     "name": "stdout",
     "output_type": "stream",
     "text": [
      "Saving model with loss 69.063...\n"
     ]
    },
    {
     "name": "stderr",
     "output_type": "stream",
     "text": [
      "100%|██████████| 17/17 [00:00<00:00, 281.15it/s]\n",
      "100%|██████████| 17/17 [00:00<00:00, 289.10it/s]\n",
      "100%|██████████| 17/17 [00:00<00:00, 289.10it/s]\n",
      "100%|██████████| 17/17 [00:00<00:00, 304.59it/s]\n"
     ]
    },
    {
     "name": "stdout",
     "output_type": "stream",
     "text": [
      "Saving model with loss 66.336...\n"
     ]
    },
    {
     "name": "stderr",
     "output_type": "stream",
     "text": [
      "100%|██████████| 17/17 [00:00<00:00, 266.51it/s]\n",
      "100%|██████████| 17/17 [00:00<00:00, 291.32it/s]\n",
      "100%|██████████| 17/17 [00:00<00:00, 289.10it/s]\n",
      "100%|██████████| 17/17 [00:00<00:00, 289.07it/s]\n"
     ]
    },
    {
     "name": "stdout",
     "output_type": "stream",
     "text": [
      "Saving model with loss 65.391...\n"
     ]
    },
    {
     "name": "stderr",
     "output_type": "stream",
     "text": [
      "100%|██████████| 17/17 [00:00<00:00, 299.24it/s]\n",
      "100%|██████████| 17/17 [00:00<00:00, 304.58it/s]\n",
      "100%|██████████| 17/17 [00:00<00:00, 306.65it/s]\n",
      "100%|██████████| 17/17 [00:00<00:00, 299.22it/s]\n",
      "100%|██████████| 17/17 [00:00<00:00, 279.62it/s]\n",
      "100%|██████████| 17/17 [00:00<00:00, 268.57it/s]\n"
     ]
    },
    {
     "name": "stdout",
     "output_type": "stream",
     "text": [
      "Saving model with loss 63.818...\n"
     ]
    },
    {
     "name": "stderr",
     "output_type": "stream",
     "text": [
      "100%|██████████| 17/17 [00:00<00:00, 296.59it/s]\n",
      "100%|██████████| 17/17 [00:00<00:00, 301.86it/s]\n",
      "100%|██████████| 17/17 [00:00<00:00, 254.58it/s]\n",
      "100%|██████████| 17/17 [00:00<00:00, 284.28it/s]\n",
      "100%|██████████| 17/17 [00:00<00:00, 275.11it/s]\n"
     ]
    },
    {
     "name": "stdout",
     "output_type": "stream",
     "text": [
      "Epoch [201/6000]: Train loss: 63.8139, Valid loss: 65.3283\n"
     ]
    },
    {
     "name": "stderr",
     "output_type": "stream",
     "text": [
      "100%|██████████| 17/17 [00:00<00:00, 289.09it/s]\n"
     ]
    },
    {
     "name": "stdout",
     "output_type": "stream",
     "text": [
      "Saving model with loss 61.305...\n"
     ]
    },
    {
     "name": "stderr",
     "output_type": "stream",
     "text": [
      "100%|██████████| 17/17 [00:00<00:00, 289.10it/s]\n"
     ]
    },
    {
     "name": "stdout",
     "output_type": "stream",
     "text": [
      "Saving model with loss 61.080...\n"
     ]
    },
    {
     "name": "stderr",
     "output_type": "stream",
     "text": [
      "100%|██████████| 17/17 [00:00<00:00, 288.82it/s]\n",
      "100%|██████████| 17/17 [00:00<00:00, 285.02it/s]\n"
     ]
    },
    {
     "name": "stdout",
     "output_type": "stream",
     "text": [
      "Saving model with loss 58.714...\n"
     ]
    },
    {
     "name": "stderr",
     "output_type": "stream",
     "text": [
      "100%|██████████| 17/17 [00:00<00:00, 282.15it/s]\n",
      "100%|██████████| 17/17 [00:00<00:00, 260.17it/s]\n",
      "100%|██████████| 17/17 [00:00<00:00, 234.75it/s]\n",
      "100%|██████████| 17/17 [00:00<00:00, 286.59it/s]\n",
      "100%|██████████| 17/17 [00:00<00:00, 279.62it/s]\n",
      "100%|██████████| 17/17 [00:00<00:00, 279.62it/s]\n"
     ]
    },
    {
     "name": "stdout",
     "output_type": "stream",
     "text": [
      "Saving model with loss 55.042...\n"
     ]
    },
    {
     "name": "stderr",
     "output_type": "stream",
     "text": [
      "100%|██████████| 17/17 [00:00<00:00, 268.52it/s]\n",
      "100%|██████████| 17/17 [00:00<00:00, 270.74it/s]\n",
      "100%|██████████| 17/17 [00:00<00:00, 284.28it/s]\n",
      "100%|██████████| 17/17 [00:00<00:00, 284.42it/s]\n",
      "100%|██████████| 17/17 [00:00<00:00, 288.81it/s]\n",
      "100%|██████████| 17/17 [00:00<00:00, 294.08it/s]\n",
      "100%|██████████| 17/17 [00:00<00:00, 270.72it/s]\n"
     ]
    },
    {
     "name": "stdout",
     "output_type": "stream",
     "text": [
      "Saving model with loss 54.713...\n"
     ]
    },
    {
     "name": "stderr",
     "output_type": "stream",
     "text": [
      "100%|██████████| 17/17 [00:00<00:00, 266.27it/s]\n",
      "100%|██████████| 17/17 [00:00<00:00, 275.87it/s]\n",
      "100%|██████████| 17/17 [00:00<00:00, 289.10it/s]\n"
     ]
    },
    {
     "name": "stdout",
     "output_type": "stream",
     "text": [
      "Epoch [221/6000]: Train loss: 55.2768, Valid loss: 53.2118\n",
      "Saving model with loss 53.212...\n"
     ]
    },
    {
     "name": "stderr",
     "output_type": "stream",
     "text": [
      "100%|██████████| 17/17 [00:00<00:00, 289.09it/s]\n",
      "100%|██████████| 17/17 [00:00<00:00, 250.83it/s]\n",
      "100%|██████████| 17/17 [00:00<00:00, 270.74it/s]\n",
      "100%|██████████| 17/17 [00:00<00:00, 279.62it/s]\n",
      "100%|██████████| 17/17 [00:00<00:00, 281.88it/s]\n",
      "100%|██████████| 17/17 [00:00<00:00, 296.60it/s]\n"
     ]
    },
    {
     "name": "stdout",
     "output_type": "stream",
     "text": [
      "Saving model with loss 52.112...\n"
     ]
    },
    {
     "name": "stderr",
     "output_type": "stream",
     "text": [
      "100%|██████████| 17/17 [00:00<00:00, 275.11it/s]\n"
     ]
    },
    {
     "name": "stdout",
     "output_type": "stream",
     "text": [
      "Saving model with loss 50.930...\n"
     ]
    },
    {
     "name": "stderr",
     "output_type": "stream",
     "text": [
      "100%|██████████| 17/17 [00:00<00:00, 199.47it/s]\n",
      "100%|██████████| 17/17 [00:00<00:00, 243.67it/s]\n"
     ]
    },
    {
     "name": "stdout",
     "output_type": "stream",
     "text": [
      "Saving model with loss 47.959...\n"
     ]
    },
    {
     "name": "stderr",
     "output_type": "stream",
     "text": [
      "100%|██████████| 17/17 [00:00<00:00, 279.61it/s]\n",
      "100%|██████████| 17/17 [00:00<00:00, 247.17it/s]\n"
     ]
    },
    {
     "name": "stdout",
     "output_type": "stream",
     "text": [
      "Saving model with loss 47.536...\n"
     ]
    },
    {
     "name": "stderr",
     "output_type": "stream",
     "text": [
      "100%|██████████| 17/17 [00:00<00:00, 250.84it/s]\n",
      "100%|██████████| 17/17 [00:00<00:00, 270.75it/s]\n",
      "100%|██████████| 17/17 [00:00<00:00, 247.10it/s]\n"
     ]
    },
    {
     "name": "stdout",
     "output_type": "stream",
     "text": [
      "Saving model with loss 47.355...\n"
     ]
    },
    {
     "name": "stderr",
     "output_type": "stream",
     "text": [
      "100%|██████████| 17/17 [00:00<00:00, 289.20it/s]\n",
      "100%|██████████| 17/17 [00:00<00:00, 200.77it/s]\n",
      "100%|██████████| 17/17 [00:00<00:00, 236.90it/s]\n",
      "100%|██████████| 17/17 [00:00<00:00, 289.10it/s]\n"
     ]
    },
    {
     "name": "stdout",
     "output_type": "stream",
     "text": [
      "Saving model with loss 45.686...\n"
     ]
    },
    {
     "name": "stderr",
     "output_type": "stream",
     "text": [
      "100%|██████████| 17/17 [00:00<00:00, 277.91it/s]\n"
     ]
    },
    {
     "name": "stdout",
     "output_type": "stream",
     "text": [
      "Saving model with loss 45.509...\n"
     ]
    },
    {
     "name": "stderr",
     "output_type": "stream",
     "text": [
      "100%|██████████| 17/17 [00:00<00:00, 294.09it/s]\n"
     ]
    },
    {
     "name": "stdout",
     "output_type": "stream",
     "text": [
      "Epoch [241/6000]: Train loss: 47.3879, Valid loss: 47.7937\n"
     ]
    },
    {
     "name": "stderr",
     "output_type": "stream",
     "text": [
      "100%|██████████| 17/17 [00:00<00:00, 299.24it/s]\n"
     ]
    },
    {
     "name": "stdout",
     "output_type": "stream",
     "text": [
      "Saving model with loss 44.707...\n"
     ]
    },
    {
     "name": "stderr",
     "output_type": "stream",
     "text": [
      "100%|██████████| 17/17 [00:00<00:00, 289.10it/s]\n",
      "100%|██████████| 17/17 [00:00<00:00, 294.08it/s]\n",
      "100%|██████████| 17/17 [00:00<00:00, 304.58it/s]\n",
      "100%|██████████| 17/17 [00:00<00:00, 299.08it/s]\n",
      "100%|██████████| 17/17 [00:00<00:00, 296.60it/s]\n"
     ]
    },
    {
     "name": "stdout",
     "output_type": "stream",
     "text": [
      "Saving model with loss 43.892...\n"
     ]
    },
    {
     "name": "stderr",
     "output_type": "stream",
     "text": [
      "100%|██████████| 17/17 [00:00<00:00, 294.08it/s]\n"
     ]
    },
    {
     "name": "stdout",
     "output_type": "stream",
     "text": [
      "Saving model with loss 42.585...\n"
     ]
    },
    {
     "name": "stderr",
     "output_type": "stream",
     "text": [
      "100%|██████████| 17/17 [00:00<00:00, 230.49it/s]\n",
      "100%|██████████| 17/17 [00:00<00:00, 208.01it/s]\n",
      "100%|██████████| 17/17 [00:00<00:00, 270.74it/s]\n"
     ]
    },
    {
     "name": "stdout",
     "output_type": "stream",
     "text": [
      "Saving model with loss 42.491...\n"
     ]
    },
    {
     "name": "stderr",
     "output_type": "stream",
     "text": [
      "100%|██████████| 17/17 [00:00<00:00, 286.99it/s]\n",
      "100%|██████████| 17/17 [00:00<00:00, 295.77it/s]\n",
      "100%|██████████| 17/17 [00:00<00:00, 299.25it/s]\n",
      "100%|██████████| 17/17 [00:00<00:00, 294.07it/s]\n",
      "100%|██████████| 17/17 [00:00<00:00, 299.20it/s]\n"
     ]
    },
    {
     "name": "stdout",
     "output_type": "stream",
     "text": [
      "Saving model with loss 41.721...\n"
     ]
    },
    {
     "name": "stderr",
     "output_type": "stream",
     "text": [
      "100%|██████████| 17/17 [00:00<00:00, 301.67it/s]\n"
     ]
    },
    {
     "name": "stdout",
     "output_type": "stream",
     "text": [
      "Saving model with loss 39.927...\n"
     ]
    },
    {
     "name": "stderr",
     "output_type": "stream",
     "text": [
      "100%|██████████| 17/17 [00:00<00:00, 294.24it/s]\n",
      "100%|██████████| 17/17 [00:00<00:00, 291.53it/s]\n",
      "100%|██████████| 17/17 [00:00<00:00, 299.24it/s]\n"
     ]
    },
    {
     "name": "stdout",
     "output_type": "stream",
     "text": [
      "Saving model with loss 38.939...\n"
     ]
    },
    {
     "name": "stderr",
     "output_type": "stream",
     "text": [
      "100%|██████████| 17/17 [00:00<00:00, 296.59it/s]\n"
     ]
    },
    {
     "name": "stdout",
     "output_type": "stream",
     "text": [
      "Epoch [261/6000]: Train loss: 40.4609, Valid loss: 43.2580\n"
     ]
    },
    {
     "name": "stderr",
     "output_type": "stream",
     "text": [
      "100%|██████████| 17/17 [00:00<00:00, 291.53it/s]\n",
      "100%|██████████| 17/17 [00:00<00:00, 310.12it/s]\n",
      "100%|██████████| 17/17 [00:00<00:00, 310.13it/s]\n",
      "100%|██████████| 17/17 [00:00<00:00, 304.59it/s]\n",
      "100%|██████████| 17/17 [00:00<00:00, 299.24it/s]\n"
     ]
    },
    {
     "name": "stdout",
     "output_type": "stream",
     "text": [
      "Saving model with loss 38.005...\n"
     ]
    },
    {
     "name": "stderr",
     "output_type": "stream",
     "text": [
      "100%|██████████| 17/17 [00:00<00:00, 299.24it/s]\n"
     ]
    },
    {
     "name": "stdout",
     "output_type": "stream",
     "text": [
      "Saving model with loss 37.049...\n"
     ]
    },
    {
     "name": "stderr",
     "output_type": "stream",
     "text": [
      "100%|██████████| 17/17 [00:00<00:00, 310.12it/s]\n",
      "100%|██████████| 17/17 [00:00<00:00, 321.83it/s]\n"
     ]
    },
    {
     "name": "stdout",
     "output_type": "stream",
     "text": [
      "Saving model with loss 36.967...\n"
     ]
    },
    {
     "name": "stderr",
     "output_type": "stream",
     "text": [
      "100%|██████████| 17/17 [00:00<00:00, 304.04it/s]\n"
     ]
    },
    {
     "name": "stdout",
     "output_type": "stream",
     "text": [
      "Saving model with loss 33.876...\n"
     ]
    },
    {
     "name": "stderr",
     "output_type": "stream",
     "text": [
      "100%|██████████| 17/17 [00:00<00:00, 310.12it/s]\n",
      "100%|██████████| 17/17 [00:00<00:00, 304.13it/s]\n",
      "100%|██████████| 17/17 [00:00<00:00, 294.45it/s]\n",
      "100%|██████████| 17/17 [00:00<00:00, 301.94it/s]\n",
      "100%|██████████| 17/17 [00:00<00:00, 299.24it/s]\n",
      "100%|██████████| 17/17 [00:00<00:00, 289.10it/s]\n",
      "100%|██████████| 17/17 [00:00<00:00, 294.08it/s]\n",
      "100%|██████████| 17/17 [00:00<00:00, 289.10it/s]\n"
     ]
    },
    {
     "name": "stdout",
     "output_type": "stream",
     "text": [
      "Saving model with loss 31.769...\n"
     ]
    },
    {
     "name": "stderr",
     "output_type": "stream",
     "text": [
      "100%|██████████| 17/17 [00:00<00:00, 289.10it/s]\n",
      "100%|██████████| 17/17 [00:00<00:00, 295.69it/s]\n",
      "100%|██████████| 17/17 [00:00<00:00, 312.93it/s]\n"
     ]
    },
    {
     "name": "stdout",
     "output_type": "stream",
     "text": [
      "Epoch [281/6000]: Train loss: 34.6023, Valid loss: 32.5212\n"
     ]
    },
    {
     "name": "stderr",
     "output_type": "stream",
     "text": [
      "100%|██████████| 17/17 [00:00<00:00, 299.25it/s]\n",
      "100%|██████████| 17/17 [00:00<00:00, 304.59it/s]\n",
      "100%|██████████| 17/17 [00:00<00:00, 315.84it/s]\n",
      "100%|██████████| 17/17 [00:00<00:00, 290.83it/s]\n",
      "100%|██████████| 17/17 [00:00<00:00, 286.37it/s]\n"
     ]
    },
    {
     "name": "stdout",
     "output_type": "stream",
     "text": [
      "Saving model with loss 31.635...\n"
     ]
    },
    {
     "name": "stderr",
     "output_type": "stream",
     "text": [
      "100%|██████████| 17/17 [00:00<00:00, 279.62it/s]\n",
      "100%|██████████| 17/17 [00:00<00:00, 289.10it/s]\n"
     ]
    },
    {
     "name": "stdout",
     "output_type": "stream",
     "text": [
      "Saving model with loss 31.268...\n"
     ]
    },
    {
     "name": "stderr",
     "output_type": "stream",
     "text": [
      "100%|██████████| 17/17 [00:00<00:00, 277.02it/s]\n",
      "100%|██████████| 17/17 [00:00<00:00, 282.24it/s]\n",
      "100%|██████████| 17/17 [00:00<00:00, 294.08it/s]\n"
     ]
    },
    {
     "name": "stdout",
     "output_type": "stream",
     "text": [
      "Saving model with loss 29.912...\n"
     ]
    },
    {
     "name": "stderr",
     "output_type": "stream",
     "text": [
      "100%|██████████| 17/17 [00:00<00:00, 289.09it/s]\n",
      "100%|██████████| 17/17 [00:00<00:00, 266.49it/s]\n",
      "100%|██████████| 17/17 [00:00<00:00, 294.06it/s]\n"
     ]
    },
    {
     "name": "stdout",
     "output_type": "stream",
     "text": [
      "Saving model with loss 29.691...\n"
     ]
    },
    {
     "name": "stderr",
     "output_type": "stream",
     "text": [
      "100%|██████████| 17/17 [00:00<00:00, 295.16it/s]\n",
      "100%|██████████| 17/17 [00:00<00:00, 296.59it/s]\n",
      "100%|██████████| 17/17 [00:00<00:00, 272.87it/s]\n",
      "100%|██████████| 17/17 [00:00<00:00, 294.08it/s]\n"
     ]
    },
    {
     "name": "stdout",
     "output_type": "stream",
     "text": [
      "Saving model with loss 27.653...\n"
     ]
    },
    {
     "name": "stderr",
     "output_type": "stream",
     "text": [
      "100%|██████████| 17/17 [00:00<00:00, 289.09it/s]\n",
      "100%|██████████| 17/17 [00:00<00:00, 279.62it/s]\n",
      "100%|██████████| 17/17 [00:00<00:00, 289.09it/s]\n"
     ]
    },
    {
     "name": "stdout",
     "output_type": "stream",
     "text": [
      "Epoch [301/6000]: Train loss: 29.5351, Valid loss: 29.9373\n"
     ]
    },
    {
     "name": "stderr",
     "output_type": "stream",
     "text": [
      "100%|██████████| 17/17 [00:00<00:00, 289.10it/s]\n",
      "100%|██████████| 17/17 [00:00<00:00, 294.08it/s]\n",
      "100%|██████████| 17/17 [00:00<00:00, 290.18it/s]\n",
      "100%|██████████| 17/17 [00:00<00:00, 265.49it/s]\n"
     ]
    },
    {
     "name": "stdout",
     "output_type": "stream",
     "text": [
      "Saving model with loss 27.141...\n"
     ]
    },
    {
     "name": "stderr",
     "output_type": "stream",
     "text": [
      "100%|██████████| 17/17 [00:00<00:00, 258.43it/s]\n",
      "100%|██████████| 17/17 [00:00<00:00, 284.28it/s]\n",
      "100%|██████████| 17/17 [00:00<00:00, 294.08it/s]\n",
      "100%|██████████| 17/17 [00:00<00:00, 279.62it/s]\n",
      "100%|██████████| 17/17 [00:00<00:00, 270.62it/s]\n",
      "100%|██████████| 17/17 [00:00<00:00, 284.28it/s]\n"
     ]
    },
    {
     "name": "stdout",
     "output_type": "stream",
     "text": [
      "Saving model with loss 26.529...\n"
     ]
    },
    {
     "name": "stderr",
     "output_type": "stream",
     "text": [
      "100%|██████████| 17/17 [00:00<00:00, 279.34it/s]\n",
      "100%|██████████| 17/17 [00:00<00:00, 294.08it/s]\n",
      "100%|██████████| 17/17 [00:00<00:00, 285.57it/s]\n",
      "100%|██████████| 17/17 [00:00<00:00, 279.60it/s]\n"
     ]
    },
    {
     "name": "stdout",
     "output_type": "stream",
     "text": [
      "Saving model with loss 25.852...\n"
     ]
    },
    {
     "name": "stderr",
     "output_type": "stream",
     "text": [
      "100%|██████████| 17/17 [00:00<00:00, 279.61it/s]\n",
      "100%|██████████| 17/17 [00:00<00:00, 290.74it/s]\n",
      "100%|██████████| 17/17 [00:00<00:00, 281.71it/s]\n"
     ]
    },
    {
     "name": "stdout",
     "output_type": "stream",
     "text": [
      "Saving model with loss 25.018...\n"
     ]
    },
    {
     "name": "stderr",
     "output_type": "stream",
     "text": [
      "100%|██████████| 17/17 [00:00<00:00, 275.11it/s]\n",
      "100%|██████████| 17/17 [00:00<00:00, 284.28it/s]\n"
     ]
    },
    {
     "name": "stdout",
     "output_type": "stream",
     "text": [
      "Saving model with loss 24.952...\n"
     ]
    },
    {
     "name": "stderr",
     "output_type": "stream",
     "text": [
      "100%|██████████| 17/17 [00:00<00:00, 270.61it/s]\n"
     ]
    },
    {
     "name": "stdout",
     "output_type": "stream",
     "text": [
      "Epoch [321/6000]: Train loss: 25.4702, Valid loss: 25.3327\n"
     ]
    },
    {
     "name": "stderr",
     "output_type": "stream",
     "text": [
      "100%|██████████| 17/17 [00:00<00:00, 281.89it/s]\n",
      "100%|██████████| 17/17 [00:00<00:00, 291.81it/s]\n",
      "100%|██████████| 17/17 [00:00<00:00, 275.11it/s]\n",
      "100%|██████████| 17/17 [00:00<00:00, 291.52it/s]\n"
     ]
    },
    {
     "name": "stdout",
     "output_type": "stream",
     "text": [
      "Saving model with loss 24.077...\n"
     ]
    },
    {
     "name": "stderr",
     "output_type": "stream",
     "text": [
      "100%|██████████| 17/17 [00:00<00:00, 286.64it/s]\n"
     ]
    },
    {
     "name": "stdout",
     "output_type": "stream",
     "text": [
      "Saving model with loss 22.990...\n"
     ]
    },
    {
     "name": "stderr",
     "output_type": "stream",
     "text": [
      "100%|██████████| 17/17 [00:00<00:00, 275.86it/s]\n",
      "100%|██████████| 17/17 [00:00<00:00, 286.62it/s]\n",
      "100%|██████████| 17/17 [00:00<00:00, 284.28it/s]\n",
      "100%|██████████| 17/17 [00:00<00:00, 270.74it/s]\n",
      "100%|██████████| 17/17 [00:00<00:00, 294.08it/s]\n",
      "100%|██████████| 17/17 [00:00<00:00, 294.08it/s]\n",
      "100%|██████████| 17/17 [00:00<00:00, 289.10it/s]\n",
      "100%|██████████| 17/17 [00:00<00:00, 270.74it/s]\n",
      "100%|██████████| 17/17 [00:00<00:00, 284.28it/s]\n",
      "100%|██████████| 17/17 [00:00<00:00, 279.62it/s]\n"
     ]
    },
    {
     "name": "stdout",
     "output_type": "stream",
     "text": [
      "Saving model with loss 22.103...\n"
     ]
    },
    {
     "name": "stderr",
     "output_type": "stream",
     "text": [
      "100%|██████████| 17/17 [00:00<00:00, 254.58it/s]\n",
      "100%|██████████| 17/17 [00:00<00:00, 266.51it/s]\n"
     ]
    },
    {
     "name": "stdout",
     "output_type": "stream",
     "text": [
      "Saving model with loss 19.796...\n"
     ]
    },
    {
     "name": "stderr",
     "output_type": "stream",
     "text": [
      "100%|██████████| 17/17 [00:00<00:00, 289.10it/s]\n",
      "100%|██████████| 17/17 [00:00<00:00, 284.28it/s]\n",
      "100%|██████████| 17/17 [00:00<00:00, 279.62it/s]\n"
     ]
    },
    {
     "name": "stdout",
     "output_type": "stream",
     "text": [
      "Epoch [341/6000]: Train loss: 22.1340, Valid loss: 22.7254\n"
     ]
    },
    {
     "name": "stderr",
     "output_type": "stream",
     "text": [
      "100%|██████████| 17/17 [00:00<00:00, 283.27it/s]\n",
      "100%|██████████| 17/17 [00:00<00:00, 277.26it/s]\n",
      "100%|██████████| 17/17 [00:00<00:00, 275.11it/s]\n",
      "100%|██████████| 17/17 [00:00<00:00, 255.15it/s]\n",
      "100%|██████████| 17/17 [00:00<00:00, 91.52it/s]\n",
      "100%|██████████| 17/17 [00:00<00:00, 310.12it/s]\n",
      "100%|██████████| 17/17 [00:00<00:00, 315.29it/s]\n",
      "100%|██████████| 17/17 [00:00<00:00, 321.82it/s]\n"
     ]
    },
    {
     "name": "stdout",
     "output_type": "stream",
     "text": [
      "Saving model with loss 19.034...\n"
     ]
    },
    {
     "name": "stderr",
     "output_type": "stream",
     "text": [
      "100%|██████████| 17/17 [00:00<00:00, 321.83it/s]\n",
      "100%|██████████| 17/17 [00:00<00:00, 325.99it/s]\n",
      "100%|██████████| 17/17 [00:00<00:00, 328.02it/s]\n",
      "100%|██████████| 17/17 [00:00<00:00, 330.70it/s]\n",
      "100%|██████████| 17/17 [00:00<00:00, 327.51it/s]\n",
      "100%|██████████| 17/17 [00:00<00:00, 321.83it/s]\n",
      "100%|██████████| 17/17 [00:00<00:00, 331.15it/s]\n"
     ]
    },
    {
     "name": "stdout",
     "output_type": "stream",
     "text": [
      "Saving model with loss 19.021...\n"
     ]
    },
    {
     "name": "stderr",
     "output_type": "stream",
     "text": [
      "100%|██████████| 17/17 [00:00<00:00, 328.01it/s]\n"
     ]
    },
    {
     "name": "stdout",
     "output_type": "stream",
     "text": [
      "Saving model with loss 18.858...\n"
     ]
    },
    {
     "name": "stderr",
     "output_type": "stream",
     "text": [
      "100%|██████████| 17/17 [00:00<00:00, 327.20it/s]\n",
      "100%|██████████| 17/17 [00:00<00:00, 328.02it/s]\n",
      "100%|██████████| 17/17 [00:00<00:00, 321.82it/s]\n",
      "100%|██████████| 17/17 [00:00<00:00, 328.01it/s]\n"
     ]
    },
    {
     "name": "stdout",
     "output_type": "stream",
     "text": [
      "Epoch [361/6000]: Train loss: 19.4789, Valid loss: 18.8114\n",
      "Saving model with loss 18.811...\n"
     ]
    },
    {
     "name": "stderr",
     "output_type": "stream",
     "text": [
      "100%|██████████| 17/17 [00:00<00:00, 321.83it/s]\n",
      "100%|██████████| 17/17 [00:00<00:00, 321.83it/s]\n",
      "100%|██████████| 17/17 [00:00<00:00, 315.87it/s]\n",
      "100%|██████████| 17/17 [00:00<00:00, 321.82it/s]\n",
      "100%|██████████| 17/17 [00:00<00:00, 328.01it/s]\n",
      "100%|██████████| 17/17 [00:00<00:00, 328.01it/s]\n"
     ]
    },
    {
     "name": "stdout",
     "output_type": "stream",
     "text": [
      "Saving model with loss 18.250...\n"
     ]
    },
    {
     "name": "stderr",
     "output_type": "stream",
     "text": [
      "100%|██████████| 17/17 [00:00<00:00, 328.01it/s]\n"
     ]
    },
    {
     "name": "stdout",
     "output_type": "stream",
     "text": [
      "Saving model with loss 18.130...\n"
     ]
    },
    {
     "name": "stderr",
     "output_type": "stream",
     "text": [
      "100%|██████████| 17/17 [00:00<00:00, 321.82it/s]\n",
      "100%|██████████| 17/17 [00:00<00:00, 328.01it/s]\n",
      "100%|██████████| 17/17 [00:00<00:00, 328.01it/s]"
     ]
    },
    {
     "name": "stdout",
     "output_type": "stream",
     "text": [
      "Saving model with loss 17.185...\n"
     ]
    },
    {
     "name": "stderr",
     "output_type": "stream",
     "text": [
      "\n",
      "100%|██████████| 17/17 [00:00<00:00, 328.02it/s]\n",
      "100%|██████████| 17/17 [00:00<00:00, 323.64it/s]\n",
      "100%|██████████| 17/17 [00:00<00:00, 330.59it/s]\n",
      "100%|██████████| 17/17 [00:00<00:00, 328.00it/s]\n"
     ]
    },
    {
     "name": "stdout",
     "output_type": "stream",
     "text": [
      "Saving model with loss 16.328...\n"
     ]
    },
    {
     "name": "stderr",
     "output_type": "stream",
     "text": [
      "100%|██████████| 17/17 [00:00<00:00, 310.12it/s]\n",
      "100%|██████████| 17/17 [00:00<00:00, 321.83it/s]\n",
      "100%|██████████| 17/17 [00:00<00:00, 321.80it/s]\n",
      "100%|██████████| 17/17 [00:00<00:00, 321.83it/s]\n",
      "100%|██████████| 17/17 [00:00<00:00, 315.84it/s]\n",
      "100%|██████████| 17/17 [00:00<00:00, 328.02it/s]\n"
     ]
    },
    {
     "name": "stdout",
     "output_type": "stream",
     "text": [
      "Epoch [381/6000]: Train loss: 17.2976, Valid loss: 17.1844\n"
     ]
    },
    {
     "name": "stderr",
     "output_type": "stream",
     "text": [
      "100%|██████████| 17/17 [00:00<00:00, 312.88it/s]\n",
      "100%|██████████| 17/17 [00:00<00:00, 321.83it/s]\n",
      "100%|██████████| 17/17 [00:00<00:00, 325.24it/s]\n",
      "100%|██████████| 17/17 [00:00<00:00, 315.87it/s]\n"
     ]
    },
    {
     "name": "stdout",
     "output_type": "stream",
     "text": [
      "Saving model with loss 15.742...\n"
     ]
    },
    {
     "name": "stderr",
     "output_type": "stream",
     "text": [
      "100%|██████████| 17/17 [00:00<00:00, 318.77it/s]\n",
      "100%|██████████| 17/17 [00:00<00:00, 321.83it/s]\n",
      "100%|██████████| 17/17 [00:00<00:00, 321.82it/s]\n",
      "100%|██████████| 17/17 [00:00<00:00, 321.82it/s]\n",
      "100%|██████████| 17/17 [00:00<00:00, 321.83it/s]\n"
     ]
    },
    {
     "name": "stdout",
     "output_type": "stream",
     "text": [
      "Saving model with loss 15.693...\n"
     ]
    },
    {
     "name": "stderr",
     "output_type": "stream",
     "text": [
      "100%|██████████| 17/17 [00:00<00:00, 310.13it/s]\n"
     ]
    },
    {
     "name": "stdout",
     "output_type": "stream",
     "text": [
      "Saving model with loss 15.384...\n"
     ]
    },
    {
     "name": "stderr",
     "output_type": "stream",
     "text": [
      "100%|██████████| 17/17 [00:00<00:00, 315.86it/s]\n"
     ]
    },
    {
     "name": "stdout",
     "output_type": "stream",
     "text": [
      "Saving model with loss 14.836...\n"
     ]
    },
    {
     "name": "stderr",
     "output_type": "stream",
     "text": [
      "100%|██████████| 17/17 [00:00<00:00, 310.13it/s]\n",
      "100%|██████████| 17/17 [00:00<00:00, 328.02it/s]\n",
      "100%|██████████| 17/17 [00:00<00:00, 321.80it/s]\n",
      "100%|██████████| 17/17 [00:00<00:00, 321.82it/s]\n",
      "100%|██████████| 17/17 [00:00<00:00, 321.83it/s]\n",
      "100%|██████████| 17/17 [00:00<00:00, 328.02it/s]\n",
      "100%|██████████| 17/17 [00:00<00:00, 310.12it/s]\n",
      "100%|██████████| 17/17 [00:00<00:00, 328.02it/s]\n",
      "100%|██████████| 17/17 [00:00<00:00, 310.12it/s]\n"
     ]
    },
    {
     "name": "stdout",
     "output_type": "stream",
     "text": [
      "Epoch [401/6000]: Train loss: 15.6781, Valid loss: 14.8062\n",
      "Saving model with loss 14.806...\n"
     ]
    },
    {
     "name": "stderr",
     "output_type": "stream",
     "text": [
      "100%|██████████| 17/17 [00:00<00:00, 286.63it/s]\n",
      "100%|██████████| 17/17 [00:00<00:00, 286.64it/s]\n"
     ]
    },
    {
     "name": "stdout",
     "output_type": "stream",
     "text": [
      "Saving model with loss 14.126...\n"
     ]
    },
    {
     "name": "stderr",
     "output_type": "stream",
     "text": [
      "100%|██████████| 17/17 [00:00<00:00, 299.25it/s]\n",
      "100%|██████████| 17/17 [00:00<00:00, 289.17it/s]\n",
      "100%|██████████| 17/17 [00:00<00:00, 280.24it/s]\n",
      "100%|██████████| 17/17 [00:00<00:00, 299.24it/s]\n",
      "100%|██████████| 17/17 [00:00<00:00, 310.12it/s]\n",
      "100%|██████████| 17/17 [00:00<00:00, 304.59it/s]\n",
      "100%|██████████| 17/17 [00:00<00:00, 299.24it/s]\n",
      "100%|██████████| 17/17 [00:00<00:00, 299.22it/s]\n",
      "100%|██████████| 17/17 [00:00<00:00, 272.88it/s]\n",
      "100%|██████████| 17/17 [00:00<00:00, 270.73it/s]\n",
      "100%|██████████| 17/17 [00:00<00:00, 279.62it/s]\n",
      "100%|██████████| 17/17 [00:00<00:00, 301.84it/s]\n",
      "100%|██████████| 17/17 [00:00<00:00, 304.58it/s]\n",
      "100%|██████████| 17/17 [00:00<00:00, 299.24it/s]\n",
      "100%|██████████| 17/17 [00:00<00:00, 307.28it/s]\n"
     ]
    },
    {
     "name": "stdout",
     "output_type": "stream",
     "text": [
      "Saving model with loss 13.683...\n"
     ]
    },
    {
     "name": "stderr",
     "output_type": "stream",
     "text": [
      "100%|██████████| 17/17 [00:00<00:00, 282.67it/s]\n",
      "100%|██████████| 17/17 [00:00<00:00, 289.10it/s]\n",
      "100%|██████████| 17/17 [00:00<00:00, 294.08it/s]\n"
     ]
    },
    {
     "name": "stdout",
     "output_type": "stream",
     "text": [
      "Epoch [421/6000]: Train loss: 14.2827, Valid loss: 13.9244\n"
     ]
    },
    {
     "name": "stderr",
     "output_type": "stream",
     "text": [
      "100%|██████████| 17/17 [00:00<00:00, 284.28it/s]\n",
      "100%|██████████| 17/17 [00:00<00:00, 296.27it/s]\n",
      "100%|██████████| 17/17 [00:00<00:00, 310.13it/s]\n"
     ]
    },
    {
     "name": "stdout",
     "output_type": "stream",
     "text": [
      "Saving model with loss 13.337...\n"
     ]
    },
    {
     "name": "stderr",
     "output_type": "stream",
     "text": [
      "100%|██████████| 17/17 [00:00<00:00, 250.84it/s]\n",
      "100%|██████████| 17/17 [00:00<00:00, 275.11it/s]\n",
      "100%|██████████| 17/17 [00:00<00:00, 284.28it/s]\n"
     ]
    },
    {
     "name": "stdout",
     "output_type": "stream",
     "text": [
      "Saving model with loss 12.884...\n"
     ]
    },
    {
     "name": "stderr",
     "output_type": "stream",
     "text": [
      "100%|██████████| 17/17 [00:00<00:00, 275.11it/s]\n",
      "100%|██████████| 17/17 [00:00<00:00, 289.09it/s]\n",
      "100%|██████████| 17/17 [00:00<00:00, 289.10it/s]\n",
      "100%|██████████| 17/17 [00:00<00:00, 284.28it/s]\n",
      "100%|██████████| 17/17 [00:00<00:00, 266.51it/s]\n",
      "100%|██████████| 17/17 [00:00<00:00, 275.11it/s]\n"
     ]
    },
    {
     "name": "stdout",
     "output_type": "stream",
     "text": [
      "Saving model with loss 12.707...\n"
     ]
    },
    {
     "name": "stderr",
     "output_type": "stream",
     "text": [
      "100%|██████████| 17/17 [00:00<00:00, 270.74it/s]\n",
      "100%|██████████| 17/17 [00:00<00:00, 285.22it/s]\n"
     ]
    },
    {
     "name": "stdout",
     "output_type": "stream",
     "text": [
      "Saving model with loss 12.644...\n"
     ]
    },
    {
     "name": "stderr",
     "output_type": "stream",
     "text": [
      "100%|██████████| 17/17 [00:00<00:00, 266.50it/s]\n",
      "100%|██████████| 17/17 [00:00<00:00, 275.11it/s]\n",
      "100%|██████████| 17/17 [00:00<00:00, 301.32it/s]\n"
     ]
    },
    {
     "name": "stdout",
     "output_type": "stream",
     "text": [
      "Saving model with loss 12.358...\n"
     ]
    },
    {
     "name": "stderr",
     "output_type": "stream",
     "text": [
      "100%|██████████| 17/17 [00:00<00:00, 270.75it/s]\n"
     ]
    },
    {
     "name": "stdout",
     "output_type": "stream",
     "text": [
      "Saving model with loss 12.351...\n"
     ]
    },
    {
     "name": "stderr",
     "output_type": "stream",
     "text": [
      "100%|██████████| 17/17 [00:00<00:00, 289.08it/s]\n",
      "100%|██████████| 17/17 [00:00<00:00, 304.58it/s]\n"
     ]
    },
    {
     "name": "stdout",
     "output_type": "stream",
     "text": [
      "Epoch [441/6000]: Train loss: 12.9913, Valid loss: 12.2609\n",
      "Saving model with loss 12.261...\n"
     ]
    },
    {
     "name": "stderr",
     "output_type": "stream",
     "text": [
      "100%|██████████| 17/17 [00:00<00:00, 273.38it/s]\n",
      "100%|██████████| 17/17 [00:00<00:00, 284.26it/s]\n",
      "100%|██████████| 17/17 [00:00<00:00, 275.76it/s]\n",
      "100%|██████████| 17/17 [00:00<00:00, 277.31it/s]\n",
      "100%|██████████| 17/17 [00:00<00:00, 268.88it/s]\n"
     ]
    },
    {
     "name": "stdout",
     "output_type": "stream",
     "text": [
      "Saving model with loss 12.020...\n"
     ]
    },
    {
     "name": "stderr",
     "output_type": "stream",
     "text": [
      "100%|██████████| 17/17 [00:00<00:00, 279.62it/s]\n",
      "100%|██████████| 17/17 [00:00<00:00, 275.11it/s]\n",
      "100%|██████████| 17/17 [00:00<00:00, 266.51it/s]\n"
     ]
    },
    {
     "name": "stdout",
     "output_type": "stream",
     "text": [
      "Saving model with loss 11.446...\n"
     ]
    },
    {
     "name": "stderr",
     "output_type": "stream",
     "text": [
      "100%|██████████| 17/17 [00:00<00:00, 262.41it/s]\n",
      "100%|██████████| 17/17 [00:00<00:00, 299.24it/s]\n",
      "100%|██████████| 17/17 [00:00<00:00, 224.43it/s]\n",
      "100%|██████████| 17/17 [00:00<00:00, 215.91it/s]\n",
      "100%|██████████| 17/17 [00:00<00:00, 299.24it/s]\n",
      "100%|██████████| 17/17 [00:00<00:00, 268.05it/s]\n",
      "100%|██████████| 17/17 [00:00<00:00, 266.51it/s]\n",
      "100%|██████████| 17/17 [00:00<00:00, 262.42it/s]\n"
     ]
    },
    {
     "name": "stdout",
     "output_type": "stream",
     "text": [
      "Saving model with loss 10.614...\n"
     ]
    },
    {
     "name": "stderr",
     "output_type": "stream",
     "text": [
      "100%|██████████| 17/17 [00:00<00:00, 240.23it/s]\n",
      "100%|██████████| 17/17 [00:00<00:00, 277.31it/s]\n",
      "100%|██████████| 17/17 [00:00<00:00, 270.74it/s]\n",
      "100%|██████████| 17/17 [00:00<00:00, 270.74it/s]\n"
     ]
    },
    {
     "name": "stdout",
     "output_type": "stream",
     "text": [
      "Epoch [461/6000]: Train loss: 11.7996, Valid loss: 10.8550\n"
     ]
    },
    {
     "name": "stderr",
     "output_type": "stream",
     "text": [
      "100%|██████████| 17/17 [00:00<00:00, 262.40it/s]\n",
      "100%|██████████| 17/17 [00:00<00:00, 275.12it/s]\n",
      "100%|██████████| 17/17 [00:00<00:00, 254.58it/s]\n",
      "100%|██████████| 17/17 [00:00<00:00, 270.74it/s]\n",
      "100%|██████████| 17/17 [00:00<00:00, 250.81it/s]\n",
      "100%|██████████| 17/17 [00:00<00:00, 272.65it/s]\n",
      "100%|██████████| 17/17 [00:00<00:00, 264.41it/s]\n"
     ]
    },
    {
     "name": "stdout",
     "output_type": "stream",
     "text": [
      "Saving model with loss 10.600...\n"
     ]
    },
    {
     "name": "stderr",
     "output_type": "stream",
     "text": [
      "100%|██████████| 17/17 [00:00<00:00, 258.44it/s]\n",
      "100%|██████████| 17/17 [00:00<00:00, 281.89it/s]\n",
      "100%|██████████| 17/17 [00:00<00:00, 259.07it/s]\n",
      "100%|██████████| 17/17 [00:00<00:00, 263.77it/s]\n",
      "100%|██████████| 17/17 [00:00<00:00, 294.08it/s]\n",
      "100%|██████████| 17/17 [00:00<00:00, 279.10it/s]\n",
      "100%|██████████| 17/17 [00:00<00:00, 275.11it/s]\n",
      "100%|██████████| 17/17 [00:00<00:00, 275.11it/s]\n"
     ]
    },
    {
     "name": "stdout",
     "output_type": "stream",
     "text": [
      "Saving model with loss 10.471...\n"
     ]
    },
    {
     "name": "stderr",
     "output_type": "stream",
     "text": [
      "100%|██████████| 17/17 [00:00<00:00, 275.10it/s]\n",
      "100%|██████████| 17/17 [00:00<00:00, 290.54it/s]\n"
     ]
    },
    {
     "name": "stdout",
     "output_type": "stream",
     "text": [
      "Saving model with loss 10.129...\n"
     ]
    },
    {
     "name": "stderr",
     "output_type": "stream",
     "text": [
      "100%|██████████| 17/17 [00:00<00:00, 275.11it/s]\n",
      "100%|██████████| 17/17 [00:00<00:00, 268.33it/s]\n"
     ]
    },
    {
     "name": "stdout",
     "output_type": "stream",
     "text": [
      "Saving model with loss 10.123...\n"
     ]
    },
    {
     "name": "stderr",
     "output_type": "stream",
     "text": [
      "100%|██████████| 17/17 [00:00<00:00, 267.37it/s]\n"
     ]
    },
    {
     "name": "stdout",
     "output_type": "stream",
     "text": [
      "Epoch [481/6000]: Train loss: 10.7106, Valid loss: 10.4369\n"
     ]
    },
    {
     "name": "stderr",
     "output_type": "stream",
     "text": [
      "100%|██████████| 17/17 [00:00<00:00, 280.75it/s]\n",
      "100%|██████████| 17/17 [00:00<00:00, 289.10it/s]\n"
     ]
    },
    {
     "name": "stdout",
     "output_type": "stream",
     "text": [
      "Saving model with loss 9.764...\n"
     ]
    },
    {
     "name": "stderr",
     "output_type": "stream",
     "text": [
      "100%|██████████| 17/17 [00:00<00:00, 285.18it/s]\n",
      "100%|██████████| 17/17 [00:00<00:00, 254.58it/s]\n",
      "100%|██████████| 17/17 [00:00<00:00, 279.62it/s]\n",
      "100%|██████████| 17/17 [00:00<00:00, 275.11it/s]\n",
      "100%|██████████| 17/17 [00:00<00:00, 265.43it/s]\n",
      "100%|██████████| 17/17 [00:00<00:00, 272.54it/s]\n",
      "100%|██████████| 17/17 [00:00<00:00, 247.73it/s]\n"
     ]
    },
    {
     "name": "stdout",
     "output_type": "stream",
     "text": [
      "Saving model with loss 9.661...\n"
     ]
    },
    {
     "name": "stderr",
     "output_type": "stream",
     "text": [
      "100%|██████████| 17/17 [00:00<00:00, 275.11it/s]\n",
      "100%|██████████| 17/17 [00:00<00:00, 275.11it/s]\n",
      "100%|██████████| 17/17 [00:00<00:00, 278.23it/s]\n",
      "100%|██████████| 17/17 [00:00<00:00, 266.51it/s]\n",
      "100%|██████████| 17/17 [00:00<00:00, 271.07it/s]\n",
      "100%|██████████| 17/17 [00:00<00:00, 279.62it/s]\n"
     ]
    },
    {
     "name": "stdout",
     "output_type": "stream",
     "text": [
      "Saving model with loss 9.363...\n"
     ]
    },
    {
     "name": "stderr",
     "output_type": "stream",
     "text": [
      "100%|██████████| 17/17 [00:00<00:00, 273.29it/s]\n",
      "100%|██████████| 17/17 [00:00<00:00, 254.58it/s]\n",
      "100%|██████████| 17/17 [00:00<00:00, 250.83it/s]\n"
     ]
    },
    {
     "name": "stdout",
     "output_type": "stream",
     "text": [
      "Saving model with loss 8.926...\n"
     ]
    },
    {
     "name": "stderr",
     "output_type": "stream",
     "text": [
      "100%|██████████| 17/17 [00:00<00:00, 205.50it/s]\n",
      "100%|██████████| 17/17 [00:00<00:00, 222.23it/s]\n"
     ]
    },
    {
     "name": "stdout",
     "output_type": "stream",
     "text": [
      "Epoch [501/6000]: Train loss: 9.7555, Valid loss: 9.6164\n"
     ]
    },
    {
     "name": "stderr",
     "output_type": "stream",
     "text": [
      "100%|██████████| 17/17 [00:00<00:00, 263.60it/s]\n",
      "100%|██████████| 17/17 [00:00<00:00, 294.08it/s]\n"
     ]
    },
    {
     "name": "stdout",
     "output_type": "stream",
     "text": [
      "Saving model with loss 8.762...\n"
     ]
    },
    {
     "name": "stderr",
     "output_type": "stream",
     "text": [
      "100%|██████████| 17/17 [00:00<00:00, 253.05it/s]\n",
      "100%|██████████| 17/17 [00:00<00:00, 270.74it/s]\n",
      "100%|██████████| 17/17 [00:00<00:00, 266.49it/s]\n",
      "100%|██████████| 17/17 [00:00<00:00, 266.52it/s]\n",
      "100%|██████████| 17/17 [00:00<00:00, 254.58it/s]\n",
      "100%|██████████| 17/17 [00:00<00:00, 284.28it/s]\n",
      "100%|██████████| 17/17 [00:00<00:00, 279.62it/s]\n",
      "100%|██████████| 17/17 [00:00<00:00, 284.28it/s]\n",
      "100%|██████████| 17/17 [00:00<00:00, 270.74it/s]\n",
      "100%|██████████| 17/17 [00:00<00:00, 293.98it/s]\n",
      "100%|██████████| 17/17 [00:00<00:00, 270.75it/s]\n",
      "100%|██████████| 17/17 [00:00<00:00, 284.28it/s]\n",
      "100%|██████████| 17/17 [00:00<00:00, 299.24it/s]\n"
     ]
    },
    {
     "name": "stdout",
     "output_type": "stream",
     "text": [
      "Saving model with loss 8.447...\n"
     ]
    },
    {
     "name": "stderr",
     "output_type": "stream",
     "text": [
      "100%|██████████| 17/17 [00:00<00:00, 268.30it/s]\n",
      "100%|██████████| 17/17 [00:00<00:00, 284.28it/s]\n",
      "100%|██████████| 17/17 [00:00<00:00, 289.09it/s]\n",
      "100%|██████████| 17/17 [00:00<00:00, 271.67it/s]\n",
      "100%|██████████| 17/17 [00:00<00:00, 266.24it/s]\n"
     ]
    },
    {
     "name": "stdout",
     "output_type": "stream",
     "text": [
      "Epoch [521/6000]: Train loss: 8.8715, Valid loss: 8.2508\n",
      "Saving model with loss 8.251...\n"
     ]
    },
    {
     "name": "stderr",
     "output_type": "stream",
     "text": [
      "100%|██████████| 17/17 [00:00<00:00, 279.62it/s]\n"
     ]
    },
    {
     "name": "stdout",
     "output_type": "stream",
     "text": [
      "Saving model with loss 8.247...\n"
     ]
    },
    {
     "name": "stderr",
     "output_type": "stream",
     "text": [
      "100%|██████████| 17/17 [00:00<00:00, 289.09it/s]\n",
      "100%|██████████| 17/17 [00:00<00:00, 275.10it/s]\n",
      "100%|██████████| 17/17 [00:00<00:00, 262.91it/s]\n",
      "100%|██████████| 17/17 [00:00<00:00, 274.36it/s]\n",
      "100%|██████████| 17/17 [00:00<00:00, 289.10it/s]\n",
      "100%|██████████| 17/17 [00:00<00:00, 270.74it/s]\n",
      "100%|██████████| 17/17 [00:00<00:00, 270.75it/s]\n",
      "100%|██████████| 17/17 [00:00<00:00, 270.73it/s]\n"
     ]
    },
    {
     "name": "stdout",
     "output_type": "stream",
     "text": [
      "Saving model with loss 7.862...\n"
     ]
    },
    {
     "name": "stderr",
     "output_type": "stream",
     "text": [
      "100%|██████████| 17/17 [00:00<00:00, 270.74it/s]\n",
      "100%|██████████| 17/17 [00:00<00:00, 268.58it/s]\n",
      "100%|██████████| 17/17 [00:00<00:00, 277.30it/s]\n",
      "100%|██████████| 17/17 [00:00<00:00, 284.27it/s]\n",
      "100%|██████████| 17/17 [00:00<00:00, 272.88it/s]\n",
      "100%|██████████| 17/17 [00:00<00:00, 289.08it/s]\n",
      "100%|██████████| 17/17 [00:00<00:00, 276.30it/s]\n"
     ]
    },
    {
     "name": "stdout",
     "output_type": "stream",
     "text": [
      "Saving model with loss 7.775...\n"
     ]
    },
    {
     "name": "stderr",
     "output_type": "stream",
     "text": [
      "100%|██████████| 17/17 [00:00<00:00, 254.58it/s]\n",
      "100%|██████████| 17/17 [00:00<00:00, 284.29it/s]\n",
      "100%|██████████| 17/17 [00:00<00:00, 275.10it/s]\n",
      "100%|██████████| 17/17 [00:00<00:00, 284.28it/s]\n"
     ]
    },
    {
     "name": "stdout",
     "output_type": "stream",
     "text": [
      "Epoch [541/6000]: Train loss: 8.1198, Valid loss: 8.7341\n"
     ]
    },
    {
     "name": "stderr",
     "output_type": "stream",
     "text": [
      "100%|██████████| 17/17 [00:00<00:00, 254.58it/s]\n",
      "100%|██████████| 17/17 [00:00<00:00, 279.62it/s]\n",
      "100%|██████████| 17/17 [00:00<00:00, 266.51it/s]\n",
      "100%|██████████| 17/17 [00:00<00:00, 275.11it/s]\n",
      "100%|██████████| 17/17 [00:00<00:00, 289.10it/s]\n"
     ]
    },
    {
     "name": "stdout",
     "output_type": "stream",
     "text": [
      "Saving model with loss 7.724...\n"
     ]
    },
    {
     "name": "stderr",
     "output_type": "stream",
     "text": [
      "100%|██████████| 17/17 [00:00<00:00, 262.41it/s]\n",
      "100%|██████████| 17/17 [00:00<00:00, 284.28it/s]\n",
      "100%|██████████| 17/17 [00:00<00:00, 304.59it/s]\n"
     ]
    },
    {
     "name": "stdout",
     "output_type": "stream",
     "text": [
      "Saving model with loss 7.197...\n"
     ]
    },
    {
     "name": "stderr",
     "output_type": "stream",
     "text": [
      "100%|██████████| 17/17 [00:00<00:00, 270.74it/s]\n",
      "100%|██████████| 17/17 [00:00<00:00, 284.28it/s]\n",
      "100%|██████████| 17/17 [00:00<00:00, 279.63it/s]\n",
      "100%|██████████| 17/17 [00:00<00:00, 290.61it/s]\n",
      "100%|██████████| 17/17 [00:00<00:00, 279.03it/s]\n",
      "100%|██████████| 17/17 [00:00<00:00, 279.61it/s]\n"
     ]
    },
    {
     "name": "stdout",
     "output_type": "stream",
     "text": [
      "Saving model with loss 7.111...\n"
     ]
    },
    {
     "name": "stderr",
     "output_type": "stream",
     "text": [
      "100%|██████████| 17/17 [00:00<00:00, 284.28it/s]\n",
      "100%|██████████| 17/17 [00:00<00:00, 266.51it/s]\n",
      "100%|██████████| 17/17 [00:00<00:00, 262.39it/s]\n",
      "100%|██████████| 17/17 [00:00<00:00, 211.86it/s]\n",
      "100%|██████████| 17/17 [00:00<00:00, 176.74it/s]\n",
      "100%|██████████| 17/17 [00:00<00:00, 199.48it/s]\n"
     ]
    },
    {
     "name": "stdout",
     "output_type": "stream",
     "text": [
      "Epoch [561/6000]: Train loss: 7.5152, Valid loss: 7.3701\n"
     ]
    },
    {
     "name": "stderr",
     "output_type": "stream",
     "text": [
      "100%|██████████| 17/17 [00:00<00:00, 204.25it/s]\n",
      "100%|██████████| 17/17 [00:00<00:00, 220.07it/s]\n",
      "100%|██████████| 17/17 [00:00<00:00, 215.91it/s]\n"
     ]
    },
    {
     "name": "stdout",
     "output_type": "stream",
     "text": [
      "Saving model with loss 7.098...\n"
     ]
    },
    {
     "name": "stderr",
     "output_type": "stream",
     "text": [
      "100%|██████████| 17/17 [00:00<00:00, 304.59it/s]\n",
      "100%|██████████| 17/17 [00:00<00:00, 310.88it/s]\n",
      "100%|██████████| 17/17 [00:00<00:00, 315.86it/s]\n",
      "100%|██████████| 17/17 [00:00<00:00, 319.78it/s]\n"
     ]
    },
    {
     "name": "stdout",
     "output_type": "stream",
     "text": [
      "Saving model with loss 7.051...\n"
     ]
    },
    {
     "name": "stderr",
     "output_type": "stream",
     "text": [
      "100%|██████████| 17/17 [00:00<00:00, 316.37it/s]\n",
      "100%|██████████| 17/17 [00:00<00:00, 318.35it/s]\n",
      "100%|██████████| 17/17 [00:00<00:00, 315.87it/s]\n",
      "100%|██████████| 17/17 [00:00<00:00, 310.12it/s]\n"
     ]
    },
    {
     "name": "stdout",
     "output_type": "stream",
     "text": [
      "Saving model with loss 6.821...\n"
     ]
    },
    {
     "name": "stderr",
     "output_type": "stream",
     "text": [
      "100%|██████████| 17/17 [00:00<00:00, 310.12it/s]\n",
      "100%|██████████| 17/17 [00:00<00:00, 315.86it/s]\n",
      "100%|██████████| 17/17 [00:00<00:00, 321.82it/s]\n",
      "100%|██████████| 17/17 [00:00<00:00, 315.87it/s]\n",
      "100%|██████████| 17/17 [00:00<00:00, 321.82it/s]\n",
      "100%|██████████| 17/17 [00:00<00:00, 306.94it/s]\n",
      "100%|██████████| 17/17 [00:00<00:00, 294.28it/s]\n",
      "100%|██████████| 17/17 [00:00<00:00, 315.86it/s]\n",
      "100%|██████████| 17/17 [00:00<00:00, 318.76it/s]\n"
     ]
    },
    {
     "name": "stdout",
     "output_type": "stream",
     "text": [
      "Epoch [581/6000]: Train loss: 7.0067, Valid loss: 6.6147\n",
      "Saving model with loss 6.615...\n"
     ]
    },
    {
     "name": "stderr",
     "output_type": "stream",
     "text": [
      "100%|██████████| 17/17 [00:00<00:00, 312.58it/s]\n",
      "100%|██████████| 17/17 [00:00<00:00, 319.99it/s]\n",
      "100%|██████████| 17/17 [00:00<00:00, 315.84it/s]\n"
     ]
    },
    {
     "name": "stdout",
     "output_type": "stream",
     "text": [
      "Saving model with loss 6.292...\n"
     ]
    },
    {
     "name": "stderr",
     "output_type": "stream",
     "text": [
      "100%|██████████| 17/17 [00:00<00:00, 315.87it/s]\n",
      "100%|██████████| 17/17 [00:00<00:00, 324.67it/s]\n",
      "100%|██████████| 17/17 [00:00<00:00, 328.02it/s]\n",
      "100%|██████████| 17/17 [00:00<00:00, 321.82it/s]\n",
      "100%|██████████| 17/17 [00:00<00:00, 321.82it/s]\n",
      "100%|██████████| 17/17 [00:00<00:00, 321.83it/s]\n",
      "100%|██████████| 17/17 [00:00<00:00, 315.87it/s]\n",
      "100%|██████████| 17/17 [00:00<00:00, 318.77it/s]\n",
      "100%|██████████| 17/17 [00:00<00:00, 306.63it/s]\n",
      "100%|██████████| 17/17 [00:00<00:00, 307.13it/s]\n",
      "100%|██████████| 17/17 [00:00<00:00, 289.11it/s]\n",
      "100%|██████████| 17/17 [00:00<00:00, 284.28it/s]\n",
      "100%|██████████| 17/17 [00:00<00:00, 289.10it/s]\n",
      "100%|██████████| 17/17 [00:00<00:00, 298.42it/s]\n",
      "100%|██████████| 17/17 [00:00<00:00, 294.08it/s]\n",
      "100%|██████████| 17/17 [00:00<00:00, 308.64it/s]\n",
      "100%|██████████| 17/17 [00:00<00:00, 262.41it/s]\n"
     ]
    },
    {
     "name": "stdout",
     "output_type": "stream",
     "text": [
      "Epoch [601/6000]: Train loss: 6.6237, Valid loss: 6.5145\n"
     ]
    },
    {
     "name": "stderr",
     "output_type": "stream",
     "text": [
      "100%|██████████| 17/17 [00:00<00:00, 279.62it/s]\n",
      "100%|██████████| 17/17 [00:00<00:00, 448.81it/s]\n",
      "100%|██████████| 17/17 [00:00<00:00, 416.01it/s]\n"
     ]
    },
    {
     "name": "stdout",
     "output_type": "stream",
     "text": [
      "Saving model with loss 6.240...\n"
     ]
    },
    {
     "name": "stderr",
     "output_type": "stream",
     "text": [
      "100%|██████████| 17/17 [00:00<00:00, 568.56it/s]\n",
      "100%|██████████| 17/17 [00:00<00:00, 631.75it/s]\n"
     ]
    },
    {
     "name": "stdout",
     "output_type": "stream",
     "text": [
      "Saving model with loss 6.171...\n"
     ]
    },
    {
     "name": "stderr",
     "output_type": "stream",
     "text": [
      "100%|██████████| 17/17 [00:00<00:00, 473.80it/s]\n",
      "100%|██████████| 17/17 [00:00<00:00, 588.17it/s]\n",
      "100%|██████████| 17/17 [00:00<00:00, 588.17it/s]\n",
      "100%|██████████| 17/17 [00:00<00:00, 568.56it/s]\n",
      "100%|██████████| 17/17 [00:00<00:00, 416.02it/s]\n",
      "100%|██████████| 17/17 [00:00<00:00, 370.79it/s]\n",
      "100%|██████████| 17/17 [00:00<00:00, 568.54it/s]\n",
      "100%|██████████| 17/17 [00:00<00:00, 550.22it/s]\n",
      "100%|██████████| 17/17 [00:00<00:00, 516.88it/s]\n"
     ]
    },
    {
     "name": "stdout",
     "output_type": "stream",
     "text": [
      "Saving model with loss 6.163...\n"
     ]
    },
    {
     "name": "stderr",
     "output_type": "stream",
     "text": [
      "100%|██████████| 17/17 [00:00<00:00, 550.21it/s]\n",
      "100%|██████████| 17/17 [00:00<00:00, 410.93it/s]\n"
     ]
    },
    {
     "name": "stdout",
     "output_type": "stream",
     "text": [
      "Saving model with loss 6.047...\n"
     ]
    },
    {
     "name": "stderr",
     "output_type": "stream",
     "text": [
      "100%|██████████| 17/17 [00:00<00:00, 262.41it/s]\n"
     ]
    },
    {
     "name": "stdout",
     "output_type": "stream",
     "text": [
      "Saving model with loss 6.000...\n"
     ]
    },
    {
     "name": "stderr",
     "output_type": "stream",
     "text": [
      "100%|██████████| 17/17 [00:00<00:00, 240.24it/s]\n",
      "100%|██████████| 17/17 [00:00<00:00, 243.67it/s]\n",
      "100%|██████████| 17/17 [00:00<00:00, 291.53it/s]\n"
     ]
    },
    {
     "name": "stdout",
     "output_type": "stream",
     "text": [
      "Epoch [621/6000]: Train loss: 6.3618, Valid loss: 6.2303\n"
     ]
    },
    {
     "name": "stderr",
     "output_type": "stream",
     "text": [
      "100%|██████████| 17/17 [00:00<00:00, 243.52it/s]\n"
     ]
    },
    {
     "name": "stdout",
     "output_type": "stream",
     "text": [
      "Saving model with loss 5.968...\n"
     ]
    },
    {
     "name": "stderr",
     "output_type": "stream",
     "text": [
      "100%|██████████| 17/17 [00:00<00:00, 258.44it/s]\n",
      "100%|██████████| 17/17 [00:00<00:00, 473.80it/s]\n",
      "100%|██████████| 17/17 [00:00<00:00, 448.82it/s]\n",
      "100%|██████████| 17/17 [00:00<00:00, 533.02it/s]\n",
      "100%|██████████| 17/17 [00:00<00:00, 421.06it/s]\n"
     ]
    },
    {
     "name": "stdout",
     "output_type": "stream",
     "text": [
      "Saving model with loss 5.891...\n"
     ]
    },
    {
     "name": "stderr",
     "output_type": "stream",
     "text": [
      "100%|██████████| 17/17 [00:00<00:00, 656.04it/s]\n",
      "100%|██████████| 17/17 [00:00<00:00, 550.21it/s]\n",
      "100%|██████████| 17/17 [00:00<00:00, 643.50it/s]\n",
      "100%|██████████| 17/17 [00:00<00:00, 588.17it/s]\n"
     ]
    },
    {
     "name": "stdout",
     "output_type": "stream",
     "text": [
      "Saving model with loss 5.881...\n"
     ]
    },
    {
     "name": "stderr",
     "output_type": "stream",
     "text": [
      "100%|██████████| 17/17 [00:00<00:00, 609.17it/s]\n"
     ]
    },
    {
     "name": "stdout",
     "output_type": "stream",
     "text": [
      "Saving model with loss 5.608...\n"
     ]
    },
    {
     "name": "stderr",
     "output_type": "stream",
     "text": [
      "100%|██████████| 17/17 [00:00<00:00, 547.04it/s]\n",
      "100%|██████████| 17/17 [00:00<00:00, 533.03it/s]\n",
      "100%|██████████| 17/17 [00:00<00:00, 559.02it/s]\n",
      "100%|██████████| 17/17 [00:00<00:00, 609.17it/s]\n",
      "100%|██████████| 17/17 [00:00<00:00, 631.73it/s]\n",
      "100%|██████████| 17/17 [00:00<00:00, 598.31it/s]\n",
      "100%|██████████| 17/17 [00:00<00:00, 588.17it/s]\n",
      "100%|██████████| 17/17 [00:00<00:00, 460.99it/s]\n",
      "100%|██████████| 17/17 [00:00<00:00, 541.34it/s]\n"
     ]
    },
    {
     "name": "stdout",
     "output_type": "stream",
     "text": [
      "Epoch [641/6000]: Train loss: 6.1382, Valid loss: 6.0402\n"
     ]
    },
    {
     "name": "stderr",
     "output_type": "stream",
     "text": [
      "100%|██████████| 17/17 [00:00<00:00, 631.75it/s]\n",
      "100%|██████████| 17/17 [00:00<00:00, 533.04it/s]\n",
      "100%|██████████| 17/17 [00:00<00:00, 682.28it/s]\n",
      "100%|██████████| 17/17 [00:00<00:00, 656.03it/s]\n",
      "100%|██████████| 17/17 [00:00<00:00, 656.03it/s]\n",
      "100%|██████████| 17/17 [00:00<00:00, 656.04it/s]\n",
      "100%|██████████| 17/17 [00:00<00:00, 631.73it/s]\n",
      "100%|██████████| 17/17 [00:00<00:00, 631.73it/s]\n",
      "100%|██████████| 17/17 [00:00<00:00, 656.04it/s]\n",
      "100%|██████████| 17/17 [00:00<00:00, 682.27it/s]\n",
      "100%|██████████| 17/17 [00:00<00:00, 631.76it/s]\n",
      "100%|██████████| 17/17 [00:00<00:00, 656.04it/s]\n",
      "100%|██████████| 17/17 [00:00<00:00, 656.03it/s]\n"
     ]
    },
    {
     "name": "stdout",
     "output_type": "stream",
     "text": [
      "Saving model with loss 5.428...\n"
     ]
    },
    {
     "name": "stderr",
     "output_type": "stream",
     "text": [
      "100%|██████████| 17/17 [00:00<00:00, 609.17it/s]\n",
      "100%|██████████| 17/17 [00:00<00:00, 609.17it/s]\n",
      "100%|██████████| 17/17 [00:00<00:00, 631.75it/s]\n",
      "100%|██████████| 17/17 [00:00<00:00, 631.73it/s]\n",
      "100%|██████████| 17/17 [00:00<00:00, 615.01it/s]\n",
      "100%|██████████| 17/17 [00:00<00:00, 656.05it/s]\n",
      "100%|██████████| 17/17 [00:00<00:00, 609.17it/s]\n"
     ]
    },
    {
     "name": "stdout",
     "output_type": "stream",
     "text": [
      "Epoch [661/6000]: Train loss: 5.9988, Valid loss: 5.5619\n"
     ]
    },
    {
     "name": "stderr",
     "output_type": "stream",
     "text": [
      "100%|██████████| 17/17 [00:00<00:00, 609.17it/s]\n",
      "100%|██████████| 17/17 [00:00<00:00, 631.74it/s]\n",
      "100%|██████████| 17/17 [00:00<00:00, 631.74it/s]\n",
      "100%|██████████| 17/17 [00:00<00:00, 588.16it/s]\n",
      "100%|██████████| 17/17 [00:00<00:00, 608.44it/s]\n",
      "100%|██████████| 17/17 [00:00<00:00, 631.74it/s]\n",
      "100%|██████████| 17/17 [00:00<00:00, 656.04it/s]\n",
      "100%|██████████| 17/17 [00:00<00:00, 609.17it/s]\n",
      "100%|██████████| 17/17 [00:00<00:00, 568.57it/s]\n",
      "100%|██████████| 17/17 [00:00<00:00, 461.01it/s]\n",
      "100%|██████████| 17/17 [00:00<00:00, 588.18it/s]\n",
      "100%|██████████| 17/17 [00:00<00:00, 656.03it/s]\n",
      "100%|██████████| 17/17 [00:00<00:00, 608.20it/s]\n",
      "100%|██████████| 17/17 [00:00<00:00, 631.73it/s]\n",
      "100%|██████████| 17/17 [00:00<00:00, 609.17it/s]\n",
      "100%|██████████| 17/17 [00:00<00:00, 588.16it/s]\n",
      "100%|██████████| 17/17 [00:00<00:00, 588.18it/s]\n",
      "100%|██████████| 17/17 [00:00<00:00, 609.18it/s]\n",
      "100%|██████████| 17/17 [00:00<00:00, 656.03it/s]\n",
      "100%|██████████| 17/17 [00:00<00:00, 710.69it/s]\n"
     ]
    },
    {
     "name": "stdout",
     "output_type": "stream",
     "text": [
      "Epoch [681/6000]: Train loss: 5.8862, Valid loss: 5.7686\n"
     ]
    },
    {
     "name": "stderr",
     "output_type": "stream",
     "text": [
      "100%|██████████| 17/17 [00:00<00:00, 710.71it/s]\n",
      "100%|██████████| 17/17 [00:00<00:00, 662.71it/s]\n",
      "100%|██████████| 17/17 [00:00<00:00, 631.75it/s]\n"
     ]
    },
    {
     "name": "stdout",
     "output_type": "stream",
     "text": [
      "Saving model with loss 5.385...\n"
     ]
    },
    {
     "name": "stderr",
     "output_type": "stream",
     "text": [
      "100%|██████████| 17/17 [00:00<00:00, 588.17it/s]\n",
      "100%|██████████| 17/17 [00:00<00:00, 596.54it/s]\n",
      "100%|██████████| 17/17 [00:00<00:00, 588.18it/s]\n",
      "100%|██████████| 17/17 [00:00<00:00, 431.73it/s]\n",
      "100%|██████████| 17/17 [00:00<00:00, 416.02it/s]\n",
      "100%|██████████| 17/17 [00:00<00:00, 473.80it/s]\n",
      "100%|██████████| 17/17 [00:00<00:00, 426.42it/s]\n",
      "100%|██████████| 17/17 [00:00<00:00, 448.86it/s]\n",
      "100%|██████████| 17/17 [00:00<00:00, 431.71it/s]\n",
      "100%|██████████| 17/17 [00:00<00:00, 487.34it/s]\n",
      "100%|██████████| 17/17 [00:00<00:00, 516.88it/s]\n",
      "100%|██████████| 17/17 [00:00<00:00, 710.70it/s]\n",
      "100%|██████████| 17/17 [00:00<00:00, 710.71it/s]\n",
      "100%|██████████| 17/17 [00:00<00:00, 710.71it/s]\n",
      "100%|██████████| 17/17 [00:00<00:00, 710.71it/s]\n",
      "100%|██████████| 17/17 [00:00<00:00, 710.71it/s]\n",
      "100%|██████████| 17/17 [00:00<00:00, 682.27it/s]\n"
     ]
    },
    {
     "name": "stdout",
     "output_type": "stream",
     "text": [
      "Epoch [701/6000]: Train loss: 5.8034, Valid loss: 6.3465\n"
     ]
    },
    {
     "name": "stderr",
     "output_type": "stream",
     "text": [
      "100%|██████████| 17/17 [00:00<00:00, 682.27it/s]\n"
     ]
    },
    {
     "name": "stdout",
     "output_type": "stream",
     "text": [
      "Saving model with loss 5.230...\n"
     ]
    },
    {
     "name": "stderr",
     "output_type": "stream",
     "text": [
      "100%|██████████| 17/17 [00:00<00:00, 682.29it/s]\n",
      "100%|██████████| 17/17 [00:00<00:00, 710.73it/s]\n",
      "100%|██████████| 17/17 [00:00<00:00, 682.29it/s]\n",
      "100%|██████████| 17/17 [00:00<00:00, 710.71it/s]\n",
      "100%|██████████| 17/17 [00:00<00:00, 682.29it/s]\n",
      "100%|██████████| 17/17 [00:00<00:00, 682.28it/s]\n",
      "100%|██████████| 17/17 [00:00<00:00, 710.71it/s]\n",
      "100%|██████████| 17/17 [00:00<00:00, 682.28it/s]\n",
      "100%|██████████| 17/17 [00:00<00:00, 656.03it/s]\n",
      "100%|██████████| 17/17 [00:00<00:00, 682.29it/s]\n",
      "100%|██████████| 17/17 [00:00<00:00, 682.27it/s]\n",
      "100%|██████████| 17/17 [00:00<00:00, 710.69it/s]\n",
      "100%|██████████| 17/17 [00:00<00:00, 741.58it/s]\n",
      "100%|██████████| 17/17 [00:00<00:00, 656.01it/s]\n",
      "100%|██████████| 17/17 [00:00<00:00, 682.29it/s]\n",
      "100%|██████████| 17/17 [00:00<00:00, 710.70it/s]\n",
      "100%|██████████| 17/17 [00:00<00:00, 682.27it/s]\n",
      "100%|██████████| 17/17 [00:00<00:00, 710.72it/s]\n",
      "100%|██████████| 17/17 [00:00<00:00, 741.62it/s]\n"
     ]
    },
    {
     "name": "stdout",
     "output_type": "stream",
     "text": [
      "Epoch [721/6000]: Train loss: 5.6915, Valid loss: 5.7519\n"
     ]
    },
    {
     "name": "stderr",
     "output_type": "stream",
     "text": [
      "100%|██████████| 17/17 [00:00<00:00, 682.29it/s]\n",
      "100%|██████████| 17/17 [00:00<00:00, 682.26it/s]\n",
      "100%|██████████| 17/17 [00:00<00:00, 682.29it/s]\n",
      "100%|██████████| 17/17 [00:00<00:00, 682.27it/s]\n",
      "100%|██████████| 17/17 [00:00<00:00, 710.67it/s]\n",
      "100%|██████████| 17/17 [00:00<00:00, 609.17it/s]\n",
      "100%|██████████| 17/17 [00:00<00:00, 682.26it/s]\n",
      "100%|██████████| 17/17 [00:00<00:00, 710.74it/s]\n",
      "100%|██████████| 17/17 [00:00<00:00, 631.72it/s]\n",
      "100%|██████████| 17/17 [00:00<00:00, 682.17it/s]\n",
      "100%|██████████| 17/17 [00:00<00:00, 682.29it/s]\n",
      "100%|██████████| 17/17 [00:00<00:00, 609.18it/s]\n",
      "100%|██████████| 17/17 [00:00<00:00, 533.04it/s]\n",
      "100%|██████████| 17/17 [00:00<00:00, 588.17it/s]\n",
      "100%|██████████| 17/17 [00:00<00:00, 240.23it/s]\n",
      "100%|██████████| 17/17 [00:00<00:00, 275.12it/s]\n",
      "100%|██████████| 17/17 [00:00<00:00, 588.17it/s]\n",
      "100%|██████████| 17/17 [00:00<00:00, 710.71it/s]\n",
      "100%|██████████| 17/17 [00:00<00:00, 741.63it/s]\n",
      "100%|██████████| 17/17 [00:00<00:00, 741.63it/s]\n"
     ]
    },
    {
     "name": "stdout",
     "output_type": "stream",
     "text": [
      "Epoch [741/6000]: Train loss: 5.6072, Valid loss: 5.4449\n"
     ]
    },
    {
     "name": "stderr",
     "output_type": "stream",
     "text": [
      "100%|██████████| 17/17 [00:00<00:00, 710.71it/s]\n",
      "100%|██████████| 17/17 [00:00<00:00, 710.74it/s]\n",
      "100%|██████████| 17/17 [00:00<00:00, 741.61it/s]\n",
      "100%|██████████| 17/17 [00:00<00:00, 710.70it/s]\n"
     ]
    },
    {
     "name": "stdout",
     "output_type": "stream",
     "text": [
      "Saving model with loss 5.099...\n"
     ]
    },
    {
     "name": "stderr",
     "output_type": "stream",
     "text": [
      "100%|██████████| 17/17 [00:00<00:00, 706.55it/s]\n"
     ]
    },
    {
     "name": "stdout",
     "output_type": "stream",
     "text": [
      "Saving model with loss 5.004...\n"
     ]
    },
    {
     "name": "stderr",
     "output_type": "stream",
     "text": [
      "100%|██████████| 17/17 [00:00<00:00, 710.70it/s]\n",
      "100%|██████████| 17/17 [00:00<00:00, 710.70it/s]\n",
      "100%|██████████| 17/17 [00:00<00:00, 710.58it/s]\n",
      "100%|██████████| 17/17 [00:00<00:00, 710.70it/s]\n",
      "100%|██████████| 17/17 [00:00<00:00, 588.16it/s]\n",
      "100%|██████████| 17/17 [00:00<00:00, 620.07it/s]\n",
      "100%|██████████| 17/17 [00:00<00:00, 656.02it/s]\n",
      "100%|██████████| 17/17 [00:00<00:00, 656.04it/s]\n",
      "100%|██████████| 17/17 [00:00<00:00, 620.00it/s]\n",
      "100%|██████████| 17/17 [00:00<00:00, 710.74it/s]\n",
      "100%|██████████| 17/17 [00:00<00:00, 631.73it/s]\n",
      "100%|██████████| 17/17 [00:00<00:00, 656.02it/s]\n",
      "100%|██████████| 17/17 [00:00<00:00, 682.28it/s]\n",
      "100%|██████████| 17/17 [00:00<00:00, 609.18it/s]\n",
      "100%|██████████| 17/17 [00:00<00:00, 631.73it/s]\n"
     ]
    },
    {
     "name": "stdout",
     "output_type": "stream",
     "text": [
      "Epoch [761/6000]: Train loss: 5.5334, Valid loss: 5.9607\n"
     ]
    },
    {
     "name": "stderr",
     "output_type": "stream",
     "text": [
      "100%|██████████| 17/17 [00:00<00:00, 631.72it/s]\n",
      "100%|██████████| 17/17 [00:00<00:00, 741.60it/s]\n",
      "100%|██████████| 17/17 [00:00<00:00, 631.74it/s]\n",
      "100%|██████████| 17/17 [00:00<00:00, 682.18it/s]\n",
      "100%|██████████| 17/17 [00:00<00:00, 631.75it/s]\n",
      "100%|██████████| 17/17 [00:00<00:00, 631.74it/s]\n",
      "100%|██████████| 17/17 [00:00<00:00, 682.26it/s]\n"
     ]
    },
    {
     "name": "stdout",
     "output_type": "stream",
     "text": [
      "Saving model with loss 4.839...\n"
     ]
    },
    {
     "name": "stderr",
     "output_type": "stream",
     "text": [
      "100%|██████████| 17/17 [00:00<00:00, 631.76it/s]\n",
      "100%|██████████| 17/17 [00:00<00:00, 609.19it/s]\n",
      "100%|██████████| 17/17 [00:00<00:00, 609.20it/s]\n",
      "100%|██████████| 17/17 [00:00<00:00, 631.76it/s]\n",
      "100%|██████████| 17/17 [00:00<00:00, 741.59it/s]\n",
      "100%|██████████| 17/17 [00:00<00:00, 682.27it/s]\n",
      "100%|██████████| 17/17 [00:00<00:00, 741.59it/s]\n",
      "100%|██████████| 17/17 [00:00<00:00, 631.72it/s]\n",
      "100%|██████████| 17/17 [00:00<00:00, 682.27it/s]\n",
      "100%|██████████| 17/17 [00:00<00:00, 631.76it/s]\n",
      "100%|██████████| 17/17 [00:00<00:00, 682.31it/s]\n",
      "100%|██████████| 17/17 [00:00<00:00, 682.27it/s]\n",
      "100%|██████████| 17/17 [00:00<00:00, 656.04it/s]\n"
     ]
    },
    {
     "name": "stdout",
     "output_type": "stream",
     "text": [
      "Epoch [781/6000]: Train loss: 5.4628, Valid loss: 5.7544\n"
     ]
    },
    {
     "name": "stderr",
     "output_type": "stream",
     "text": [
      "100%|██████████| 17/17 [00:00<00:00, 516.88it/s]\n",
      "100%|██████████| 17/17 [00:00<00:00, 634.43it/s]\n",
      "100%|██████████| 17/17 [00:00<00:00, 609.17it/s]\n",
      "100%|██████████| 17/17 [00:00<00:00, 609.18it/s]\n",
      "100%|██████████| 17/17 [00:00<00:00, 588.17it/s]\n",
      "100%|██████████| 17/17 [00:00<00:00, 682.27it/s]\n",
      "100%|██████████| 17/17 [00:00<00:00, 631.73it/s]\n",
      "100%|██████████| 17/17 [00:00<00:00, 710.70it/s]\n",
      "100%|██████████| 17/17 [00:00<00:00, 668.77it/s]\n",
      "100%|██████████| 17/17 [00:00<00:00, 631.73it/s]\n",
      "100%|██████████| 17/17 [00:00<00:00, 609.17it/s]\n",
      "100%|██████████| 17/17 [00:00<00:00, 682.22it/s]\n",
      "100%|██████████| 17/17 [00:00<00:00, 631.73it/s]\n",
      "100%|██████████| 17/17 [00:00<00:00, 588.16it/s]\n",
      "100%|██████████| 17/17 [00:00<00:00, 631.68it/s]\n",
      "100%|██████████| 17/17 [00:00<00:00, 609.17it/s]\n",
      "100%|██████████| 17/17 [00:00<00:00, 588.17it/s]\n",
      "100%|██████████| 17/17 [00:00<00:00, 609.16it/s]\n",
      "100%|██████████| 17/17 [00:00<00:00, 568.57it/s]\n",
      "100%|██████████| 17/17 [00:00<00:00, 609.17it/s]\n"
     ]
    },
    {
     "name": "stdout",
     "output_type": "stream",
     "text": [
      "Epoch [801/6000]: Train loss: 5.3758, Valid loss: 6.2636\n"
     ]
    },
    {
     "name": "stderr",
     "output_type": "stream",
     "text": [
      "100%|██████████| 17/17 [00:00<00:00, 609.12it/s]\n",
      "100%|██████████| 17/17 [00:00<00:00, 631.73it/s]\n",
      "100%|██████████| 17/17 [00:00<00:00, 656.04it/s]\n",
      "100%|██████████| 17/17 [00:00<00:00, 682.22it/s]\n",
      "100%|██████████| 17/17 [00:00<00:00, 620.14it/s]\n",
      "100%|██████████| 17/17 [00:00<00:00, 631.74it/s]\n",
      "100%|██████████| 17/17 [00:00<00:00, 609.18it/s]\n",
      "100%|██████████| 17/17 [00:00<00:00, 588.16it/s]\n",
      "100%|██████████| 17/17 [00:00<00:00, 563.88it/s]\n",
      "100%|██████████| 17/17 [00:00<00:00, 631.77it/s]\n",
      "100%|██████████| 17/17 [00:00<00:00, 588.43it/s]\n",
      "100%|██████████| 17/17 [00:00<00:00, 584.53it/s]\n",
      "100%|██████████| 17/17 [00:00<00:00, 631.75it/s]\n",
      "100%|██████████| 17/17 [00:00<00:00, 588.17it/s]\n",
      "100%|██████████| 17/17 [00:00<00:00, 588.17it/s]\n",
      "100%|██████████| 17/17 [00:00<00:00, 609.17it/s]\n",
      "100%|██████████| 17/17 [00:00<00:00, 656.05it/s]\n",
      "100%|██████████| 17/17 [00:00<00:00, 588.17it/s]\n",
      "100%|██████████| 17/17 [00:00<00:00, 588.18it/s]\n",
      "100%|██████████| 17/17 [00:00<00:00, 588.18it/s]\n"
     ]
    },
    {
     "name": "stdout",
     "output_type": "stream",
     "text": [
      "Epoch [821/6000]: Train loss: 5.2941, Valid loss: 5.6758\n"
     ]
    },
    {
     "name": "stderr",
     "output_type": "stream",
     "text": [
      "100%|██████████| 17/17 [00:00<00:00, 656.02it/s]\n",
      "100%|██████████| 17/17 [00:00<00:00, 656.04it/s]\n",
      "100%|██████████| 17/17 [00:00<00:00, 682.27it/s]\n"
     ]
    },
    {
     "name": "stdout",
     "output_type": "stream",
     "text": [
      "Saving model with loss 4.828...\n"
     ]
    },
    {
     "name": "stderr",
     "output_type": "stream",
     "text": [
      "100%|██████████| 17/17 [00:00<00:00, 609.18it/s]\n",
      "100%|██████████| 17/17 [00:00<00:00, 609.17it/s]\n",
      "100%|██████████| 17/17 [00:00<00:00, 656.01it/s]\n"
     ]
    },
    {
     "name": "stdout",
     "output_type": "stream",
     "text": [
      "Saving model with loss 4.827...\n"
     ]
    },
    {
     "name": "stderr",
     "output_type": "stream",
     "text": [
      "100%|██████████| 17/17 [00:00<00:00, 631.74it/s]\n",
      "100%|██████████| 17/17 [00:00<00:00, 631.75it/s]\n",
      "100%|██████████| 17/17 [00:00<00:00, 582.47it/s]\n",
      "100%|██████████| 17/17 [00:00<00:00, 588.17it/s]\n",
      "100%|██████████| 17/17 [00:00<00:00, 609.17it/s]\n",
      "100%|██████████| 17/17 [00:00<00:00, 656.07it/s]\n",
      "100%|██████████| 17/17 [00:00<00:00, 656.04it/s]\n",
      "100%|██████████| 17/17 [00:00<00:00, 631.73it/s]\n"
     ]
    },
    {
     "name": "stdout",
     "output_type": "stream",
     "text": [
      "Saving model with loss 4.816...\n"
     ]
    },
    {
     "name": "stderr",
     "output_type": "stream",
     "text": [
      "100%|██████████| 17/17 [00:00<00:00, 609.19it/s]\n",
      "100%|██████████| 17/17 [00:00<00:00, 609.18it/s]\n",
      "100%|██████████| 17/17 [00:00<00:00, 609.17it/s]\n",
      "100%|██████████| 17/17 [00:00<00:00, 609.18it/s]\n",
      "100%|██████████| 17/17 [00:00<00:00, 656.04it/s]\n",
      "100%|██████████| 17/17 [00:00<00:00, 631.74it/s]\n"
     ]
    },
    {
     "name": "stdout",
     "output_type": "stream",
     "text": [
      "Epoch [841/6000]: Train loss: 5.2024, Valid loss: 5.4302\n"
     ]
    },
    {
     "name": "stderr",
     "output_type": "stream",
     "text": [
      "100%|██████████| 17/17 [00:00<00:00, 609.17it/s]\n",
      "100%|██████████| 17/17 [00:00<00:00, 609.17it/s]\n"
     ]
    },
    {
     "name": "stdout",
     "output_type": "stream",
     "text": [
      "Saving model with loss 4.809...\n"
     ]
    },
    {
     "name": "stderr",
     "output_type": "stream",
     "text": [
      "100%|██████████| 17/17 [00:00<00:00, 609.18it/s]\n",
      "100%|██████████| 17/17 [00:00<00:00, 588.16it/s]\n",
      "100%|██████████| 17/17 [00:00<00:00, 563.40it/s]\n",
      "100%|██████████| 17/17 [00:00<00:00, 609.19it/s]\n",
      "100%|██████████| 17/17 [00:00<00:00, 656.02it/s]\n"
     ]
    },
    {
     "name": "stdout",
     "output_type": "stream",
     "text": [
      "Saving model with loss 4.805...\n"
     ]
    },
    {
     "name": "stderr",
     "output_type": "stream",
     "text": [
      "100%|██████████| 17/17 [00:00<00:00, 588.18it/s]\n",
      "100%|██████████| 17/17 [00:00<00:00, 656.03it/s]\n",
      "100%|██████████| 17/17 [00:00<00:00, 631.75it/s]\n",
      "100%|██████████| 17/17 [00:00<00:00, 562.67it/s]\n"
     ]
    },
    {
     "name": "stdout",
     "output_type": "stream",
     "text": [
      "Saving model with loss 4.578...\n"
     ]
    },
    {
     "name": "stderr",
     "output_type": "stream",
     "text": [
      "100%|██████████| 17/17 [00:00<00:00, 588.16it/s]\n",
      "100%|██████████| 17/17 [00:00<00:00, 609.19it/s]\n",
      "100%|██████████| 17/17 [00:00<00:00, 609.18it/s]\n",
      "100%|██████████| 17/17 [00:00<00:00, 631.74it/s]\n",
      "100%|██████████| 17/17 [00:00<00:00, 568.56it/s]\n",
      "100%|██████████| 17/17 [00:00<00:00, 573.85it/s]\n",
      "100%|██████████| 17/17 [00:00<00:00, 609.17it/s]\n",
      "100%|██████████| 17/17 [00:00<00:00, 576.23it/s]\n",
      "100%|██████████| 17/17 [00:00<00:00, 589.10it/s]\n"
     ]
    },
    {
     "name": "stdout",
     "output_type": "stream",
     "text": [
      "Epoch [861/6000]: Train loss: 5.1226, Valid loss: 4.6890\n"
     ]
    },
    {
     "name": "stderr",
     "output_type": "stream",
     "text": [
      "100%|██████████| 17/17 [00:00<00:00, 656.04it/s]\n",
      "100%|██████████| 17/17 [00:00<00:00, 631.75it/s]\n",
      "100%|██████████| 17/17 [00:00<00:00, 631.72it/s]\n",
      "100%|██████████| 17/17 [00:00<00:00, 656.03it/s]\n",
      "100%|██████████| 17/17 [00:00<00:00, 682.27it/s]\n",
      "100%|██████████| 17/17 [00:00<00:00, 656.04it/s]\n",
      "100%|██████████| 17/17 [00:00<00:00, 682.27it/s]\n",
      "100%|██████████| 17/17 [00:00<00:00, 631.73it/s]\n",
      "100%|██████████| 17/17 [00:00<00:00, 573.94it/s]\n",
      "100%|██████████| 17/17 [00:00<00:00, 588.18it/s]\n",
      "100%|██████████| 17/17 [00:00<00:00, 609.16it/s]\n",
      "100%|██████████| 17/17 [00:00<00:00, 639.49it/s]\n",
      "100%|██████████| 17/17 [00:00<00:00, 609.17it/s]\n",
      "100%|██████████| 17/17 [00:00<00:00, 609.16it/s]\n",
      "100%|██████████| 17/17 [00:00<00:00, 588.15it/s]\n",
      "100%|██████████| 17/17 [00:00<00:00, 656.03it/s]\n",
      "100%|██████████| 17/17 [00:00<00:00, 609.17it/s]\n",
      "100%|██████████| 17/17 [00:00<00:00, 487.34it/s]\n",
      "100%|██████████| 17/17 [00:00<00:00, 609.17it/s]\n",
      "100%|██████████| 17/17 [00:00<00:00, 516.88it/s]\n"
     ]
    },
    {
     "name": "stdout",
     "output_type": "stream",
     "text": [
      "Epoch [881/6000]: Train loss: 5.0407, Valid loss: 4.9719\n"
     ]
    },
    {
     "name": "stderr",
     "output_type": "stream",
     "text": [
      "100%|██████████| 17/17 [00:00<00:00, 461.00it/s]\n",
      "100%|██████████| 17/17 [00:00<00:00, 533.03it/s]\n",
      "100%|██████████| 17/17 [00:00<00:00, 568.56it/s]\n",
      "100%|██████████| 17/17 [00:00<00:00, 550.23it/s]\n",
      "100%|██████████| 17/17 [00:00<00:00, 516.88it/s]\n",
      "100%|██████████| 17/17 [00:00<00:00, 516.88it/s]\n",
      "100%|██████████| 17/17 [00:00<00:00, 416.02it/s]\n",
      "100%|██████████| 17/17 [00:00<00:00, 501.67it/s]\n",
      "100%|██████████| 17/17 [00:00<00:00, 487.34it/s]\n"
     ]
    },
    {
     "name": "stdout",
     "output_type": "stream",
     "text": [
      "Saving model with loss 4.549...\n"
     ]
    },
    {
     "name": "stderr",
     "output_type": "stream",
     "text": [
      "100%|██████████| 17/17 [00:00<00:00, 370.80it/s]\n",
      "100%|██████████| 17/17 [00:00<00:00, 355.35it/s]\n",
      "100%|██████████| 17/17 [00:00<00:00, 416.02it/s]\n",
      "100%|██████████| 17/17 [00:00<00:00, 533.04it/s]\n",
      "100%|██████████| 17/17 [00:00<00:00, 631.76it/s]\n",
      "100%|██████████| 17/17 [00:00<00:00, 631.75it/s]\n",
      "100%|██████████| 17/17 [00:00<00:00, 631.74it/s]\n",
      "100%|██████████| 17/17 [00:00<00:00, 221.52it/s]\n",
      "100%|██████████| 17/17 [00:00<00:00, 461.00it/s]\n",
      "100%|██████████| 17/17 [00:00<00:00, 262.41it/s]\n",
      "100%|██████████| 17/17 [00:00<00:00, 215.91it/s]\n"
     ]
    },
    {
     "name": "stdout",
     "output_type": "stream",
     "text": [
      "Epoch [901/6000]: Train loss: 4.9676, Valid loss: 4.9437\n"
     ]
    },
    {
     "name": "stderr",
     "output_type": "stream",
     "text": [
      "100%|██████████| 17/17 [00:00<00:00, 487.35it/s]\n",
      "100%|██████████| 17/17 [00:00<00:00, 631.75it/s]\n",
      "100%|██████████| 17/17 [00:00<00:00, 682.28it/s]\n"
     ]
    },
    {
     "name": "stdout",
     "output_type": "stream",
     "text": [
      "Saving model with loss 4.529...\n"
     ]
    },
    {
     "name": "stderr",
     "output_type": "stream",
     "text": [
      "100%|██████████| 17/17 [00:00<00:00, 710.72it/s]\n",
      "100%|██████████| 17/17 [00:00<00:00, 628.09it/s]\n",
      "100%|██████████| 17/17 [00:00<00:00, 631.73it/s]\n",
      "100%|██████████| 17/17 [00:00<00:00, 588.57it/s]\n",
      "100%|██████████| 17/17 [00:00<00:00, 609.18it/s]\n",
      "100%|██████████| 17/17 [00:00<00:00, 605.45it/s]\n",
      "100%|██████████| 17/17 [00:00<00:00, 609.21it/s]\n",
      "100%|██████████| 17/17 [00:00<00:00, 426.43it/s]\n",
      "100%|██████████| 17/17 [00:00<00:00, 340.52it/s]\n",
      "100%|██████████| 17/17 [00:00<00:00, 516.87it/s]\n",
      "100%|██████████| 17/17 [00:00<00:00, 590.54it/s]\n",
      "100%|██████████| 17/17 [00:00<00:00, 655.99it/s]\n",
      "100%|██████████| 17/17 [00:00<00:00, 631.72it/s]\n",
      "100%|██████████| 17/17 [00:00<00:00, 656.03it/s]\n",
      "100%|██████████| 17/17 [00:00<00:00, 631.77it/s]\n",
      "100%|██████████| 17/17 [00:00<00:00, 656.04it/s]\n",
      "100%|██████████| 17/17 [00:00<00:00, 631.73it/s]\n"
     ]
    },
    {
     "name": "stdout",
     "output_type": "stream",
     "text": [
      "Epoch [921/6000]: Train loss: 4.8837, Valid loss: 4.9856\n"
     ]
    },
    {
     "name": "stderr",
     "output_type": "stream",
     "text": [
      "100%|██████████| 17/17 [00:00<00:00, 568.56it/s]\n",
      "100%|██████████| 17/17 [00:00<00:00, 682.29it/s]\n",
      "100%|██████████| 17/17 [00:00<00:00, 682.27it/s]\n",
      "100%|██████████| 17/17 [00:00<00:00, 710.70it/s]\n",
      "100%|██████████| 17/17 [00:00<00:00, 723.65it/s]\n",
      "100%|██████████| 17/17 [00:00<00:00, 682.27it/s]\n",
      "100%|██████████| 17/17 [00:00<00:00, 656.04it/s]\n",
      "100%|██████████| 17/17 [00:00<00:00, 550.23it/s]\n",
      "100%|██████████| 17/17 [00:00<00:00, 656.04it/s]\n",
      "100%|██████████| 17/17 [00:00<00:00, 682.28it/s]\n",
      "100%|██████████| 17/17 [00:00<00:00, 710.73it/s]\n",
      "100%|██████████| 17/17 [00:00<00:00, 682.27it/s]\n",
      "100%|██████████| 17/17 [00:00<00:00, 672.81it/s]\n",
      "100%|██████████| 17/17 [00:00<00:00, 745.40it/s]\n",
      "100%|██████████| 17/17 [00:00<00:00, 656.03it/s]\n",
      "100%|██████████| 17/17 [00:00<00:00, 682.27it/s]\n",
      "100%|██████████| 17/17 [00:00<00:00, 656.06it/s]\n",
      "100%|██████████| 17/17 [00:00<00:00, 656.02it/s]\n",
      "100%|██████████| 17/17 [00:00<00:00, 741.60it/s]\n"
     ]
    },
    {
     "name": "stdout",
     "output_type": "stream",
     "text": [
      "Saving model with loss 4.506...\n"
     ]
    },
    {
     "name": "stderr",
     "output_type": "stream",
     "text": [
      "100%|██████████| 17/17 [00:00<00:00, 678.07it/s]\n"
     ]
    },
    {
     "name": "stdout",
     "output_type": "stream",
     "text": [
      "Epoch [941/6000]: Train loss: 4.7938, Valid loss: 5.1741\n"
     ]
    },
    {
     "name": "stderr",
     "output_type": "stream",
     "text": [
      "100%|██████████| 17/17 [00:00<00:00, 710.67it/s]\n",
      "100%|██████████| 17/17 [00:00<00:00, 775.31it/s]\n",
      "100%|██████████| 17/17 [00:00<00:00, 656.04it/s]\n"
     ]
    },
    {
     "name": "stdout",
     "output_type": "stream",
     "text": [
      "Saving model with loss 4.387...\n"
     ]
    },
    {
     "name": "stderr",
     "output_type": "stream",
     "text": [
      "100%|██████████| 17/17 [00:00<00:00, 631.74it/s]\n",
      "100%|██████████| 17/17 [00:00<00:00, 656.04it/s]\n",
      "100%|██████████| 17/17 [00:00<00:00, 710.70it/s]\n",
      "100%|██████████| 17/17 [00:00<00:00, 741.60it/s]\n",
      "100%|██████████| 17/17 [00:00<00:00, 631.74it/s]\n",
      "100%|██████████| 17/17 [00:00<00:00, 609.17it/s]\n",
      "100%|██████████| 17/17 [00:00<00:00, 682.27it/s]\n",
      "100%|██████████| 17/17 [00:00<00:00, 656.02it/s]\n",
      "100%|██████████| 17/17 [00:00<00:00, 710.71it/s]\n",
      "100%|██████████| 17/17 [00:00<00:00, 710.72it/s]\n",
      "100%|██████████| 17/17 [00:00<00:00, 710.71it/s]\n",
      "100%|██████████| 17/17 [00:00<00:00, 682.27it/s]\n"
     ]
    },
    {
     "name": "stdout",
     "output_type": "stream",
     "text": [
      "Saving model with loss 4.382...\n"
     ]
    },
    {
     "name": "stderr",
     "output_type": "stream",
     "text": [
      "100%|██████████| 17/17 [00:00<00:00, 631.76it/s]\n",
      "100%|██████████| 17/17 [00:00<00:00, 682.26it/s]\n",
      "100%|██████████| 17/17 [00:00<00:00, 631.73it/s]\n",
      "100%|██████████| 17/17 [00:00<00:00, 488.56it/s]\n",
      "100%|██████████| 17/17 [00:00<00:00, 495.17it/s]\n"
     ]
    },
    {
     "name": "stdout",
     "output_type": "stream",
     "text": [
      "Epoch [961/6000]: Train loss: 4.7172, Valid loss: 4.4524\n"
     ]
    },
    {
     "name": "stderr",
     "output_type": "stream",
     "text": [
      "100%|██████████| 17/17 [00:00<00:00, 386.54it/s]\n",
      "100%|██████████| 17/17 [00:00<00:00, 487.34it/s]\n",
      "100%|██████████| 17/17 [00:00<00:00, 542.67it/s]\n",
      "100%|██████████| 17/17 [00:00<00:00, 545.50it/s]\n",
      "100%|██████████| 17/17 [00:00<00:00, 533.02it/s]\n",
      "100%|██████████| 17/17 [00:00<00:00, 609.18it/s]\n",
      "100%|██████████| 17/17 [00:00<00:00, 533.04it/s]\n"
     ]
    },
    {
     "name": "stdout",
     "output_type": "stream",
     "text": [
      "Saving model with loss 4.263...\n"
     ]
    },
    {
     "name": "stderr",
     "output_type": "stream",
     "text": [
      "100%|██████████| 17/17 [00:00<00:00, 588.17it/s]\n",
      "100%|██████████| 17/17 [00:00<00:00, 588.16it/s]\n",
      "100%|██████████| 17/17 [00:00<00:00, 588.18it/s]\n",
      "100%|██████████| 17/17 [00:00<00:00, 588.18it/s]\n",
      "100%|██████████| 17/17 [00:00<00:00, 596.16it/s]\n",
      "100%|██████████| 17/17 [00:00<00:00, 588.17it/s]\n",
      "100%|██████████| 17/17 [00:00<00:00, 550.23it/s]\n",
      "100%|██████████| 17/17 [00:00<00:00, 540.14it/s]\n",
      "100%|██████████| 17/17 [00:00<00:00, 550.22it/s]\n"
     ]
    },
    {
     "name": "stdout",
     "output_type": "stream",
     "text": [
      "Saving model with loss 4.253...\n"
     ]
    },
    {
     "name": "stderr",
     "output_type": "stream",
     "text": [
      "100%|██████████| 17/17 [00:00<00:00, 609.18it/s]\n",
      "100%|██████████| 17/17 [00:00<00:00, 626.16it/s]\n",
      "100%|██████████| 17/17 [00:00<00:00, 609.18it/s]\n",
      "100%|██████████| 17/17 [00:00<00:00, 609.18it/s]\n"
     ]
    },
    {
     "name": "stdout",
     "output_type": "stream",
     "text": [
      "Epoch [981/6000]: Train loss: 4.6423, Valid loss: 4.3242\n"
     ]
    },
    {
     "name": "stderr",
     "output_type": "stream",
     "text": [
      "100%|██████████| 17/17 [00:00<00:00, 550.22it/s]\n",
      "100%|██████████| 17/17 [00:00<00:00, 588.18it/s]\n",
      "100%|██████████| 17/17 [00:00<00:00, 588.17it/s]\n",
      "100%|██████████| 17/17 [00:00<00:00, 631.73it/s]\n",
      "100%|██████████| 17/17 [00:00<00:00, 564.77it/s]"
     ]
    },
    {
     "name": "stdout",
     "output_type": "stream",
     "text": [
      "Saving model with loss 4.135...\n"
     ]
    },
    {
     "name": "stderr",
     "output_type": "stream",
     "text": [
      "\n",
      "100%|██████████| 17/17 [00:00<00:00, 568.55it/s]\n",
      "100%|██████████| 17/17 [00:00<00:00, 609.16it/s]\n",
      "100%|██████████| 17/17 [00:00<00:00, 568.55it/s]\n",
      "100%|██████████| 17/17 [00:00<00:00, 437.36it/s]\n"
     ]
    },
    {
     "name": "stdout",
     "output_type": "stream",
     "text": [
      "Saving model with loss 4.133...\n"
     ]
    },
    {
     "name": "stderr",
     "output_type": "stream",
     "text": [
      "100%|██████████| 17/17 [00:00<00:00, 569.23it/s]\n",
      "100%|██████████| 17/17 [00:00<00:00, 631.73it/s]\n",
      "100%|██████████| 17/17 [00:00<00:00, 681.77it/s]\n",
      "100%|██████████| 17/17 [00:00<00:00, 379.04it/s]\n",
      "100%|██████████| 17/17 [00:00<00:00, 387.65it/s]\n",
      "100%|██████████| 17/17 [00:00<00:00, 406.12it/s]\n",
      "100%|██████████| 17/17 [00:00<00:00, 473.80it/s]\n",
      "100%|██████████| 17/17 [00:00<00:00, 531.44it/s]\n",
      "100%|██████████| 17/17 [00:00<00:00, 550.21it/s]\n",
      "100%|██████████| 17/17 [00:00<00:00, 682.27it/s]\n",
      "100%|██████████| 17/17 [00:00<00:00, 609.17it/s]\n"
     ]
    },
    {
     "name": "stdout",
     "output_type": "stream",
     "text": [
      "Epoch [1001/6000]: Train loss: 4.5463, Valid loss: 4.1452\n"
     ]
    },
    {
     "name": "stderr",
     "output_type": "stream",
     "text": [
      "100%|██████████| 17/17 [00:00<00:00, 609.16it/s]\n",
      "100%|██████████| 17/17 [00:00<00:00, 710.71it/s]\n",
      "100%|██████████| 17/17 [00:00<00:00, 656.02it/s]\n",
      "100%|██████████| 17/17 [00:00<00:00, 682.26it/s]\n",
      "100%|██████████| 17/17 [00:00<00:00, 682.27it/s]\n",
      "100%|██████████| 17/17 [00:00<00:00, 710.71it/s]\n",
      "100%|██████████| 17/17 [00:00<00:00, 710.71it/s]\n",
      "100%|██████████| 17/17 [00:00<00:00, 656.04it/s]\n",
      "100%|██████████| 17/17 [00:00<00:00, 682.26it/s]\n",
      "100%|██████████| 17/17 [00:00<00:00, 710.71it/s]\n",
      "100%|██████████| 17/17 [00:00<00:00, 710.69it/s]\n",
      "100%|██████████| 17/17 [00:00<00:00, 656.02it/s]\n",
      "100%|██████████| 17/17 [00:00<00:00, 741.59it/s]\n",
      "100%|██████████| 17/17 [00:00<00:00, 682.25it/s]\n",
      "100%|██████████| 17/17 [00:00<00:00, 682.27it/s]\n",
      "100%|██████████| 17/17 [00:00<00:00, 682.27it/s]\n",
      "100%|██████████| 17/17 [00:00<00:00, 631.73it/s]\n"
     ]
    },
    {
     "name": "stdout",
     "output_type": "stream",
     "text": [
      "Saving model with loss 4.037...\n"
     ]
    },
    {
     "name": "stderr",
     "output_type": "stream",
     "text": [
      "100%|██████████| 17/17 [00:00<00:00, 518.67it/s]\n",
      "100%|██████████| 17/17 [00:00<00:00, 631.76it/s]\n",
      "100%|██████████| 17/17 [00:00<00:00, 656.04it/s]\n"
     ]
    },
    {
     "name": "stdout",
     "output_type": "stream",
     "text": [
      "Epoch [1021/6000]: Train loss: 4.4726, Valid loss: 4.2251\n"
     ]
    },
    {
     "name": "stderr",
     "output_type": "stream",
     "text": [
      "100%|██████████| 17/17 [00:00<00:00, 631.71it/s]\n",
      "100%|██████████| 17/17 [00:00<00:00, 631.73it/s]\n",
      "100%|██████████| 17/17 [00:00<00:00, 682.29it/s]\n",
      "100%|██████████| 17/17 [00:00<00:00, 682.27it/s]\n",
      "100%|██████████| 17/17 [00:00<00:00, 631.75it/s]\n",
      "100%|██████████| 17/17 [00:00<00:00, 631.72it/s]\n",
      "100%|██████████| 17/17 [00:00<00:00, 643.27it/s]\n",
      "100%|██████████| 17/17 [00:00<00:00, 588.16it/s]\n",
      "100%|██████████| 17/17 [00:00<00:00, 588.19it/s]\n",
      "100%|██████████| 17/17 [00:00<00:00, 567.85it/s]\n",
      "100%|██████████| 17/17 [00:00<00:00, 568.56it/s]\n",
      "100%|██████████| 17/17 [00:00<00:00, 588.17it/s]\n"
     ]
    },
    {
     "name": "stdout",
     "output_type": "stream",
     "text": [
      "Saving model with loss 3.959...\n"
     ]
    },
    {
     "name": "stderr",
     "output_type": "stream",
     "text": [
      "100%|██████████| 17/17 [00:00<00:00, 533.02it/s]\n",
      "100%|██████████| 17/17 [00:00<00:00, 533.02it/s]\n",
      "100%|██████████| 17/17 [00:00<00:00, 559.14it/s]\n",
      "100%|██████████| 17/17 [00:00<00:00, 609.20it/s]\n",
      "100%|██████████| 17/17 [00:00<00:00, 631.73it/s]\n",
      "100%|██████████| 17/17 [00:00<00:00, 564.19it/s]\n",
      "100%|██████████| 17/17 [00:00<00:00, 588.16it/s]\n",
      "100%|██████████| 17/17 [00:00<00:00, 550.23it/s]\n"
     ]
    },
    {
     "name": "stdout",
     "output_type": "stream",
     "text": [
      "Epoch [1041/6000]: Train loss: 4.3841, Valid loss: 4.5605\n"
     ]
    },
    {
     "name": "stderr",
     "output_type": "stream",
     "text": [
      "100%|██████████| 17/17 [00:00<00:00, 507.31it/s]\n",
      "100%|██████████| 17/17 [00:00<00:00, 550.20it/s]\n",
      "100%|██████████| 17/17 [00:00<00:00, 588.16it/s]\n"
     ]
    },
    {
     "name": "stdout",
     "output_type": "stream",
     "text": [
      "Saving model with loss 3.925...\n"
     ]
    },
    {
     "name": "stderr",
     "output_type": "stream",
     "text": [
      "100%|██████████| 17/17 [00:00<00:00, 487.33it/s]\n",
      "100%|██████████| 17/17 [00:00<00:00, 568.53it/s]\n"
     ]
    },
    {
     "name": "stdout",
     "output_type": "stream",
     "text": [
      "Saving model with loss 3.910...\n"
     ]
    },
    {
     "name": "stderr",
     "output_type": "stream",
     "text": [
      "100%|██████████| 17/17 [00:00<00:00, 568.56it/s]\n",
      "100%|██████████| 17/17 [00:00<00:00, 550.23it/s]\n",
      "100%|██████████| 17/17 [00:00<00:00, 533.03it/s]\n",
      "100%|██████████| 17/17 [00:00<00:00, 588.17it/s]\n",
      "100%|██████████| 17/17 [00:00<00:00, 656.04it/s]\n",
      "100%|██████████| 17/17 [00:00<00:00, 631.75it/s]\n",
      "100%|██████████| 17/17 [00:00<00:00, 609.17it/s]\n",
      "100%|██████████| 17/17 [00:00<00:00, 631.73it/s]\n",
      "100%|██████████| 17/17 [00:00<00:00, 631.73it/s]\n",
      "100%|██████████| 17/17 [00:00<00:00, 656.04it/s]\n",
      "100%|██████████| 17/17 [00:00<00:00, 656.03it/s]\n",
      "100%|██████████| 17/17 [00:00<00:00, 710.71it/s]\n",
      "100%|██████████| 17/17 [00:00<00:00, 710.71it/s]\n",
      "100%|██████████| 17/17 [00:00<00:00, 656.03it/s]\n"
     ]
    },
    {
     "name": "stdout",
     "output_type": "stream",
     "text": [
      "Saving model with loss 3.892...\n"
     ]
    },
    {
     "name": "stderr",
     "output_type": "stream",
     "text": [
      "100%|██████████| 17/17 [00:00<00:00, 656.04it/s]\n"
     ]
    },
    {
     "name": "stdout",
     "output_type": "stream",
     "text": [
      "Epoch [1061/6000]: Train loss: 4.3030, Valid loss: 3.8639\n",
      "Saving model with loss 3.864...\n"
     ]
    },
    {
     "name": "stderr",
     "output_type": "stream",
     "text": [
      "100%|██████████| 17/17 [00:00<00:00, 682.28it/s]\n",
      "100%|██████████| 17/17 [00:00<00:00, 550.23it/s]\n",
      "100%|██████████| 17/17 [00:00<00:00, 533.04it/s]\n"
     ]
    },
    {
     "name": "stdout",
     "output_type": "stream",
     "text": [
      "Saving model with loss 3.723...\n"
     ]
    },
    {
     "name": "stderr",
     "output_type": "stream",
     "text": [
      "100%|██████████| 17/17 [00:00<00:00, 631.74it/s]\n",
      "100%|██████████| 17/17 [00:00<00:00, 533.02it/s]\n",
      "100%|██████████| 17/17 [00:00<00:00, 568.56it/s]\n",
      "100%|██████████| 17/17 [00:00<00:00, 682.27it/s]\n",
      "100%|██████████| 17/17 [00:00<00:00, 710.71it/s]\n",
      "100%|██████████| 17/17 [00:00<00:00, 656.03it/s]\n",
      "100%|██████████| 17/17 [00:00<00:00, 696.03it/s]\n",
      "100%|██████████| 17/17 [00:00<00:00, 710.70it/s]\n",
      "100%|██████████| 17/17 [00:00<00:00, 710.71it/s]\n",
      "100%|██████████| 17/17 [00:00<00:00, 682.27it/s]\n",
      "100%|██████████| 17/17 [00:00<00:00, 643.51it/s]\n",
      "100%|██████████| 17/17 [00:00<00:00, 682.34it/s]\n",
      "100%|██████████| 17/17 [00:00<00:00, 682.27it/s]\n",
      "100%|██████████| 17/17 [00:00<00:00, 682.22it/s]\n",
      "100%|██████████| 17/17 [00:00<00:00, 631.74it/s]\n",
      "100%|██████████| 17/17 [00:00<00:00, 682.27it/s]\n",
      "100%|██████████| 17/17 [00:00<00:00, 655.98it/s]\n"
     ]
    },
    {
     "name": "stdout",
     "output_type": "stream",
     "text": [
      "Epoch [1081/6000]: Train loss: 4.2281, Valid loss: 4.2226\n"
     ]
    },
    {
     "name": "stderr",
     "output_type": "stream",
     "text": [
      "100%|██████████| 17/17 [00:00<00:00, 710.71it/s]\n",
      "100%|██████████| 17/17 [00:00<00:00, 710.71it/s]\n",
      "100%|██████████| 17/17 [00:00<00:00, 666.00it/s]\n",
      "100%|██████████| 17/17 [00:00<00:00, 682.27it/s]\n",
      "100%|██████████| 17/17 [00:00<00:00, 741.60it/s]\n"
     ]
    },
    {
     "name": "stdout",
     "output_type": "stream",
     "text": [
      "Saving model with loss 3.668...\n"
     ]
    },
    {
     "name": "stderr",
     "output_type": "stream",
     "text": [
      "100%|██████████| 17/17 [00:00<00:00, 656.04it/s]\n",
      "100%|██████████| 17/17 [00:00<00:00, 682.28it/s]\n",
      "100%|██████████| 17/17 [00:00<00:00, 710.71it/s]\n",
      "100%|██████████| 17/17 [00:00<00:00, 682.27it/s]\n",
      "100%|██████████| 17/17 [00:00<00:00, 682.23it/s]\n",
      "100%|██████████| 17/17 [00:00<00:00, 682.28it/s]\n",
      "100%|██████████| 17/17 [00:00<00:00, 710.70it/s]\n",
      "100%|██████████| 17/17 [00:00<00:00, 682.27it/s]\n",
      "100%|██████████| 17/17 [00:00<00:00, 682.27it/s]\n",
      "100%|██████████| 17/17 [00:00<00:00, 631.74it/s]\n",
      "100%|██████████| 17/17 [00:00<00:00, 656.03it/s]\n",
      "100%|██████████| 17/17 [00:00<00:00, 696.04it/s]\n",
      "100%|██████████| 17/17 [00:00<00:00, 656.03it/s]\n",
      "100%|██████████| 17/17 [00:00<00:00, 631.73it/s]\n",
      "100%|██████████| 17/17 [00:00<00:00, 643.51it/s]\n"
     ]
    },
    {
     "name": "stdout",
     "output_type": "stream",
     "text": [
      "Epoch [1101/6000]: Train loss: 4.1473, Valid loss: 4.1045\n"
     ]
    },
    {
     "name": "stderr",
     "output_type": "stream",
     "text": [
      "100%|██████████| 17/17 [00:00<00:00, 631.73it/s]\n",
      "100%|██████████| 17/17 [00:00<00:00, 656.03it/s]\n",
      "100%|██████████| 17/17 [00:00<00:00, 668.77it/s]\n",
      "100%|██████████| 17/17 [00:00<00:00, 710.71it/s]\n",
      "100%|██████████| 17/17 [00:00<00:00, 682.27it/s]\n",
      "100%|██████████| 17/17 [00:00<00:00, 668.68it/s]\n",
      "100%|██████████| 17/17 [00:00<00:00, 710.69it/s]\n",
      "100%|██████████| 17/17 [00:00<00:00, 710.71it/s]\n",
      "100%|██████████| 17/17 [00:00<00:00, 656.04it/s]\n",
      "100%|██████████| 17/17 [00:00<00:00, 725.67it/s]\n",
      "100%|██████████| 17/17 [00:00<00:00, 710.70it/s]\n",
      "100%|██████████| 17/17 [00:00<00:00, 656.03it/s]\n",
      "100%|██████████| 17/17 [00:00<00:00, 656.03it/s]\n",
      "100%|██████████| 17/17 [00:00<00:00, 682.27it/s]\n",
      "100%|██████████| 17/17 [00:00<00:00, 710.71it/s]\n",
      "100%|██████████| 17/17 [00:00<00:00, 609.12it/s]\n",
      "100%|██████████| 17/17 [00:00<00:00, 656.04it/s]\n",
      "100%|██████████| 17/17 [00:00<00:00, 656.05it/s]\n",
      "100%|██████████| 17/17 [00:00<00:00, 682.27it/s]\n"
     ]
    },
    {
     "name": "stdout",
     "output_type": "stream",
     "text": [
      "Saving model with loss 3.627...\n"
     ]
    },
    {
     "name": "stderr",
     "output_type": "stream",
     "text": [
      "100%|██████████| 17/17 [00:00<00:00, 656.04it/s]\n"
     ]
    },
    {
     "name": "stdout",
     "output_type": "stream",
     "text": [
      "Epoch [1121/6000]: Train loss: 4.0695, Valid loss: 3.8583\n"
     ]
    },
    {
     "name": "stderr",
     "output_type": "stream",
     "text": [
      "100%|██████████| 17/17 [00:00<00:00, 710.70it/s]\n",
      "100%|██████████| 17/17 [00:00<00:00, 682.28it/s]\n",
      "100%|██████████| 17/17 [00:00<00:00, 710.70it/s]\n",
      "100%|██████████| 17/17 [00:00<00:00, 656.03it/s]\n",
      "100%|██████████| 17/17 [00:00<00:00, 656.04it/s]\n",
      "100%|██████████| 17/17 [00:00<00:00, 631.74it/s]\n",
      "100%|██████████| 17/17 [00:00<00:00, 609.17it/s]\n",
      "100%|██████████| 17/17 [00:00<00:00, 631.74it/s]\n",
      "100%|██████████| 17/17 [00:00<00:00, 682.27it/s]\n",
      "100%|██████████| 17/17 [00:00<00:00, 710.71it/s]\n",
      "100%|██████████| 17/17 [00:00<00:00, 682.29it/s]\n",
      "100%|██████████| 17/17 [00:00<00:00, 656.04it/s]\n",
      "100%|██████████| 17/17 [00:00<00:00, 643.54it/s]\n",
      "100%|██████████| 17/17 [00:00<00:00, 682.28it/s]\n",
      "100%|██████████| 17/17 [00:00<00:00, 631.73it/s]\n",
      "100%|██████████| 17/17 [00:00<00:00, 656.05it/s]\n",
      "100%|██████████| 17/17 [00:00<00:00, 710.70it/s]\n",
      "100%|██████████| 17/17 [00:00<00:00, 631.73it/s]\n",
      "100%|██████████| 17/17 [00:00<00:00, 631.73it/s]\n",
      "100%|██████████| 17/17 [00:00<00:00, 656.02it/s]\n"
     ]
    },
    {
     "name": "stdout",
     "output_type": "stream",
     "text": [
      "Epoch [1141/6000]: Train loss: 3.9848, Valid loss: 3.6944\n"
     ]
    },
    {
     "name": "stderr",
     "output_type": "stream",
     "text": [
      "100%|██████████| 17/17 [00:00<00:00, 656.04it/s]\n",
      "100%|██████████| 17/17 [00:00<00:00, 643.54it/s]\n",
      "100%|██████████| 17/17 [00:00<00:00, 682.29it/s]\n",
      "100%|██████████| 17/17 [00:00<00:00, 682.27it/s]\n",
      "100%|██████████| 17/17 [00:00<00:00, 682.27it/s]\n",
      "100%|██████████| 17/17 [00:00<00:00, 754.63it/s]\n",
      "100%|██████████| 17/17 [00:00<00:00, 682.27it/s]\n"
     ]
    },
    {
     "name": "stdout",
     "output_type": "stream",
     "text": [
      "Saving model with loss 3.509...\n"
     ]
    },
    {
     "name": "stderr",
     "output_type": "stream",
     "text": [
      "100%|██████████| 17/17 [00:00<00:00, 656.04it/s]\n",
      "100%|██████████| 17/17 [00:00<00:00, 710.64it/s]\n",
      "100%|██████████| 17/17 [00:00<00:00, 656.03it/s]\n",
      "100%|██████████| 17/17 [00:00<00:00, 682.28it/s]\n",
      "100%|██████████| 17/17 [00:00<00:00, 656.02it/s]\n",
      "100%|██████████| 17/17 [00:00<00:00, 656.04it/s]\n",
      "100%|██████████| 17/17 [00:00<00:00, 631.74it/s]\n",
      "100%|██████████| 17/17 [00:00<00:00, 710.71it/s]\n",
      "100%|██████████| 17/17 [00:00<00:00, 682.28it/s]\n",
      "100%|██████████| 17/17 [00:00<00:00, 682.27it/s]\n",
      "100%|██████████| 17/17 [00:00<00:00, 682.27it/s]\n",
      "100%|██████████| 17/17 [00:00<00:00, 588.13it/s]\n",
      "100%|██████████| 17/17 [00:00<00:00, 631.72it/s]\n"
     ]
    },
    {
     "name": "stdout",
     "output_type": "stream",
     "text": [
      "Epoch [1161/6000]: Train loss: 3.9181, Valid loss: 3.7232\n"
     ]
    },
    {
     "name": "stderr",
     "output_type": "stream",
     "text": [
      "100%|██████████| 17/17 [00:00<00:00, 631.73it/s]\n",
      "100%|██████████| 17/17 [00:00<00:00, 643.52it/s]\n",
      "100%|██████████| 17/17 [00:00<00:00, 656.04it/s]\n",
      "100%|██████████| 17/17 [00:00<00:00, 656.06it/s]\n",
      "100%|██████████| 17/17 [00:00<00:00, 696.03it/s]\n",
      "100%|██████████| 17/17 [00:00<00:00, 710.71it/s]\n",
      "100%|██████████| 17/17 [00:00<00:00, 656.04it/s]\n",
      "100%|██████████| 17/17 [00:00<00:00, 620.14it/s]\n",
      "100%|██████████| 17/17 [00:00<00:00, 631.74it/s]\n",
      "100%|██████████| 17/17 [00:00<00:00, 682.27it/s]\n",
      "100%|██████████| 17/17 [00:00<00:00, 665.26it/s]\n",
      "100%|██████████| 17/17 [00:00<00:00, 656.04it/s]\n",
      "100%|██████████| 17/17 [00:00<00:00, 682.22it/s]\n",
      "100%|██████████| 17/17 [00:00<00:00, 682.27it/s]\n",
      "100%|██████████| 17/17 [00:00<00:00, 656.77it/s]\n",
      "100%|██████████| 17/17 [00:00<00:00, 682.27it/s]\n",
      "100%|██████████| 17/17 [00:00<00:00, 631.34it/s]\n",
      "100%|██████████| 17/17 [00:00<00:00, 609.17it/s]\n",
      "100%|██████████| 17/17 [00:00<00:00, 656.04it/s]\n",
      "100%|██████████| 17/17 [00:00<00:00, 189.51it/s]\n"
     ]
    },
    {
     "name": "stdout",
     "output_type": "stream",
     "text": [
      "Epoch [1181/6000]: Train loss: 3.8351, Valid loss: 4.6625\n"
     ]
    },
    {
     "name": "stderr",
     "output_type": "stream",
     "text": [
      "100%|██████████| 17/17 [00:00<00:00, 254.39it/s]\n"
     ]
    },
    {
     "name": "stdout",
     "output_type": "stream",
     "text": [
      "Saving model with loss 3.482...\n"
     ]
    },
    {
     "name": "stderr",
     "output_type": "stream",
     "text": [
      "100%|██████████| 17/17 [00:00<00:00, 631.73it/s]\n",
      "100%|██████████| 17/17 [00:00<00:00, 682.26it/s]\n",
      "100%|██████████| 17/17 [00:00<00:00, 741.60it/s]\n",
      "100%|██████████| 17/17 [00:00<00:00, 775.30it/s]\n",
      "100%|██████████| 17/17 [00:00<00:00, 720.31it/s]\n",
      "100%|██████████| 17/17 [00:00<00:00, 741.61it/s]\n",
      "100%|██████████| 17/17 [00:00<00:00, 656.04it/s]\n",
      "100%|██████████| 17/17 [00:00<00:00, 710.69it/s]\n",
      "100%|██████████| 17/17 [00:00<00:00, 691.34it/s]\n",
      "100%|██████████| 17/17 [00:00<00:00, 775.31it/s]\n",
      "100%|██████████| 17/17 [00:00<00:00, 710.69it/s]\n",
      "100%|██████████| 17/17 [00:00<00:00, 710.69it/s]\n",
      "100%|██████████| 17/17 [00:00<00:00, 741.64it/s]\n",
      "100%|██████████| 17/17 [00:00<00:00, 745.61it/s]\n"
     ]
    },
    {
     "name": "stdout",
     "output_type": "stream",
     "text": [
      "Saving model with loss 3.481...\n"
     ]
    },
    {
     "name": "stderr",
     "output_type": "stream",
     "text": [
      "100%|██████████| 17/17 [00:00<00:00, 741.60it/s]\n",
      "100%|██████████| 17/17 [00:00<00:00, 741.61it/s]\n",
      "100%|██████████| 17/17 [00:00<00:00, 273.71it/s]\n"
     ]
    },
    {
     "name": "stdout",
     "output_type": "stream",
     "text": [
      "Saving model with loss 3.401...\n"
     ]
    },
    {
     "name": "stderr",
     "output_type": "stream",
     "text": [
      "100%|██████████| 17/17 [00:00<00:00, 460.99it/s]\n",
      "100%|██████████| 17/17 [00:00<00:00, 516.88it/s]\n"
     ]
    },
    {
     "name": "stdout",
     "output_type": "stream",
     "text": [
      "Epoch [1201/6000]: Train loss: 3.7549, Valid loss: 3.4546\n"
     ]
    },
    {
     "name": "stderr",
     "output_type": "stream",
     "text": [
      "100%|██████████| 17/17 [00:00<00:00, 501.70it/s]\n",
      "100%|██████████| 17/17 [00:00<00:00, 448.85it/s]\n",
      "100%|██████████| 17/17 [00:00<00:00, 631.73it/s]\n",
      "100%|██████████| 17/17 [00:00<00:00, 609.18it/s]\n",
      "100%|██████████| 17/17 [00:00<00:00, 611.38it/s]\n",
      "100%|██████████| 17/17 [00:00<00:00, 609.16it/s]\n",
      "100%|██████████| 17/17 [00:00<00:00, 710.69it/s]\n",
      "100%|██████████| 17/17 [00:00<00:00, 637.69it/s]\n"
     ]
    },
    {
     "name": "stdout",
     "output_type": "stream",
     "text": [
      "Saving model with loss 3.382...\n"
     ]
    },
    {
     "name": "stderr",
     "output_type": "stream",
     "text": [
      "100%|██████████| 17/17 [00:00<00:00, 775.31it/s]\n",
      "100%|██████████| 17/17 [00:00<00:00, 775.31it/s]\n",
      "100%|██████████| 17/17 [00:00<00:00, 696.05it/s]\n",
      "100%|██████████| 17/17 [00:00<00:00, 741.61it/s]\n",
      "100%|██████████| 17/17 [00:00<00:00, 741.61it/s]\n",
      "100%|██████████| 17/17 [00:00<00:00, 682.24it/s]\n",
      "100%|██████████| 17/17 [00:00<00:00, 775.30it/s]\n",
      "100%|██████████| 17/17 [00:00<00:00, 710.72it/s]\n",
      "100%|██████████| 17/17 [00:00<00:00, 710.71it/s]\n",
      "100%|██████████| 17/17 [00:00<00:00, 696.06it/s]\n",
      "100%|██████████| 17/17 [00:00<00:00, 710.69it/s]\n",
      "100%|██████████| 17/17 [00:00<00:00, 741.61it/s]\n"
     ]
    },
    {
     "name": "stdout",
     "output_type": "stream",
     "text": [
      "Epoch [1221/6000]: Train loss: 3.6778, Valid loss: 3.4437\n"
     ]
    },
    {
     "name": "stderr",
     "output_type": "stream",
     "text": [
      "100%|██████████| 17/17 [00:00<00:00, 741.61it/s]\n",
      "100%|██████████| 17/17 [00:00<00:00, 741.60it/s]\n",
      "100%|██████████| 17/17 [00:00<00:00, 741.61it/s]\n"
     ]
    },
    {
     "name": "stdout",
     "output_type": "stream",
     "text": [
      "Saving model with loss 3.364...\n"
     ]
    },
    {
     "name": "stderr",
     "output_type": "stream",
     "text": [
      "100%|██████████| 17/17 [00:00<00:00, 741.61it/s]\n",
      "100%|██████████| 17/17 [00:00<00:00, 741.51it/s]\n",
      "100%|██████████| 17/17 [00:00<00:00, 775.31it/s]\n",
      "100%|██████████| 17/17 [00:00<00:00, 741.59it/s]\n"
     ]
    },
    {
     "name": "stdout",
     "output_type": "stream",
     "text": [
      "Saving model with loss 3.285...\n"
     ]
    },
    {
     "name": "stderr",
     "output_type": "stream",
     "text": [
      "100%|██████████| 17/17 [00:00<00:00, 741.61it/s]\n",
      "100%|██████████| 17/17 [00:00<00:00, 710.70it/s]\n",
      "100%|██████████| 17/17 [00:00<00:00, 741.60it/s]\n",
      "100%|██████████| 17/17 [00:00<00:00, 741.61it/s]\n",
      "100%|██████████| 17/17 [00:00<00:00, 710.69it/s]\n",
      "100%|██████████| 17/17 [00:00<00:00, 741.61it/s]\n",
      "100%|██████████| 17/17 [00:00<00:00, 710.71it/s]\n",
      "100%|██████████| 17/17 [00:00<00:00, 710.71it/s]\n",
      "100%|██████████| 17/17 [00:00<00:00, 741.73it/s]\n",
      "100%|██████████| 17/17 [00:00<00:00, 710.71it/s]\n"
     ]
    },
    {
     "name": "stdout",
     "output_type": "stream",
     "text": [
      "Saving model with loss 3.193...\n"
     ]
    },
    {
     "name": "stderr",
     "output_type": "stream",
     "text": [
      "100%|██████████| 17/17 [00:00<00:00, 775.31it/s]\n",
      "100%|██████████| 17/17 [00:00<00:00, 812.17it/s]\n",
      "100%|██████████| 17/17 [00:00<00:00, 741.61it/s]\n"
     ]
    },
    {
     "name": "stdout",
     "output_type": "stream",
     "text": [
      "Epoch [1241/6000]: Train loss: 3.6026, Valid loss: 3.8644\n"
     ]
    },
    {
     "name": "stderr",
     "output_type": "stream",
     "text": [
      "100%|██████████| 17/17 [00:00<00:00, 682.28it/s]\n",
      "100%|██████████| 17/17 [00:00<00:00, 710.71it/s]\n",
      "100%|██████████| 17/17 [00:00<00:00, 725.68it/s]\n",
      "100%|██████████| 17/17 [00:00<00:00, 710.70it/s]\n",
      "100%|██████████| 17/17 [00:00<00:00, 631.75it/s]\n",
      "100%|██████████| 17/17 [00:00<00:00, 643.54it/s]\n",
      "100%|██████████| 17/17 [00:00<00:00, 682.63it/s]\n",
      "100%|██████████| 17/17 [00:00<00:00, 668.16it/s]\n",
      "100%|██████████| 17/17 [00:00<00:00, 682.27it/s]\n",
      "100%|██████████| 17/17 [00:00<00:00, 710.71it/s]\n",
      "100%|██████████| 17/17 [00:00<00:00, 682.29it/s]\n",
      "100%|██████████| 17/17 [00:00<00:00, 682.27it/s]\n",
      "100%|██████████| 17/17 [00:00<00:00, 656.03it/s]\n",
      "100%|██████████| 17/17 [00:00<00:00, 710.69it/s]\n",
      "100%|██████████| 17/17 [00:00<00:00, 533.03it/s]\n",
      "100%|██████████| 17/17 [00:00<00:00, 568.56it/s]\n",
      "100%|██████████| 17/17 [00:00<00:00, 588.16it/s]\n",
      "100%|██████████| 17/17 [00:00<00:00, 568.57it/s]\n",
      "100%|██████████| 17/17 [00:00<00:00, 568.56it/s]\n",
      "100%|██████████| 17/17 [00:00<00:00, 568.56it/s]\n"
     ]
    },
    {
     "name": "stdout",
     "output_type": "stream",
     "text": [
      "Epoch [1261/6000]: Train loss: 3.5274, Valid loss: 3.3153\n"
     ]
    },
    {
     "name": "stderr",
     "output_type": "stream",
     "text": [
      "100%|██████████| 17/17 [00:00<00:00, 568.58it/s]\n",
      "100%|██████████| 17/17 [00:00<00:00, 516.87it/s]\n",
      "100%|██████████| 17/17 [00:00<00:00, 550.45it/s]\n",
      "100%|██████████| 17/17 [00:00<00:00, 550.22it/s]\n",
      "100%|██████████| 17/17 [00:00<00:00, 550.22it/s]\n",
      "100%|██████████| 17/17 [00:00<00:00, 568.55it/s]\n",
      "100%|██████████| 17/17 [00:00<00:00, 588.17it/s]\n",
      "100%|██████████| 17/17 [00:00<00:00, 550.22it/s]\n",
      "100%|██████████| 17/17 [00:00<00:00, 533.02it/s]\n",
      "100%|██████████| 17/17 [00:00<00:00, 568.56it/s]\n",
      "100%|██████████| 17/17 [00:00<00:00, 568.56it/s]\n",
      "100%|██████████| 17/17 [00:00<00:00, 568.57it/s]\n",
      "100%|██████████| 17/17 [00:00<00:00, 588.16it/s]\n",
      "100%|██████████| 17/17 [00:00<00:00, 656.03it/s]\n",
      "100%|██████████| 17/17 [00:00<00:00, 631.73it/s]\n"
     ]
    },
    {
     "name": "stdout",
     "output_type": "stream",
     "text": [
      "Saving model with loss 3.058...\n"
     ]
    },
    {
     "name": "stderr",
     "output_type": "stream",
     "text": [
      "100%|██████████| 17/17 [00:00<00:00, 656.04it/s]\n",
      "100%|██████████| 17/17 [00:00<00:00, 631.73it/s]\n",
      "100%|██████████| 17/17 [00:00<00:00, 609.16it/s]\n",
      "100%|██████████| 17/17 [00:00<00:00, 588.17it/s]\n",
      "100%|██████████| 17/17 [00:00<00:00, 656.04it/s]\n"
     ]
    },
    {
     "name": "stdout",
     "output_type": "stream",
     "text": [
      "Epoch [1281/6000]: Train loss: 3.4487, Valid loss: 3.4498\n"
     ]
    },
    {
     "name": "stderr",
     "output_type": "stream",
     "text": [
      "100%|██████████| 17/17 [00:00<00:00, 631.74it/s]\n",
      "100%|██████████| 17/17 [00:00<00:00, 631.74it/s]\n",
      "100%|██████████| 17/17 [00:00<00:00, 609.17it/s]\n",
      "100%|██████████| 17/17 [00:00<00:00, 631.73it/s]\n",
      "100%|██████████| 17/17 [00:00<00:00, 609.17it/s]\n",
      "100%|██████████| 17/17 [00:00<00:00, 631.75it/s]\n",
      "100%|██████████| 17/17 [00:00<00:00, 656.04it/s]\n",
      "100%|██████████| 17/17 [00:00<00:00, 609.19it/s]\n",
      "100%|██████████| 17/17 [00:00<00:00, 631.73it/s]\n",
      "100%|██████████| 17/17 [00:00<00:00, 577.34it/s]\n",
      "100%|██████████| 17/17 [00:00<00:00, 533.03it/s]\n",
      "100%|██████████| 17/17 [00:00<00:00, 566.88it/s]\n",
      "100%|██████████| 17/17 [00:00<00:00, 487.33it/s]\n",
      "100%|██████████| 17/17 [00:00<00:00, 631.75it/s]\n",
      "100%|██████████| 17/17 [00:00<00:00, 609.17it/s]\n",
      "100%|██████████| 17/17 [00:00<00:00, 682.29it/s]\n",
      "100%|██████████| 17/17 [00:00<00:00, 631.75it/s]\n",
      "100%|██████████| 17/17 [00:00<00:00, 682.28it/s]\n"
     ]
    },
    {
     "name": "stdout",
     "output_type": "stream",
     "text": [
      "Saving model with loss 3.007...\n"
     ]
    },
    {
     "name": "stderr",
     "output_type": "stream",
     "text": [
      "100%|██████████| 17/17 [00:00<00:00, 682.29it/s]\n",
      "100%|██████████| 17/17 [00:00<00:00, 656.04it/s]\n"
     ]
    },
    {
     "name": "stdout",
     "output_type": "stream",
     "text": [
      "Epoch [1301/6000]: Train loss: 3.3741, Valid loss: 3.7675\n"
     ]
    },
    {
     "name": "stderr",
     "output_type": "stream",
     "text": [
      "100%|██████████| 17/17 [00:00<00:00, 631.72it/s]\n",
      "100%|██████████| 17/17 [00:00<00:00, 650.54it/s]\n",
      "100%|██████████| 17/17 [00:00<00:00, 682.29it/s]\n",
      "100%|██████████| 17/17 [00:00<00:00, 682.27it/s]\n",
      "100%|██████████| 17/17 [00:00<00:00, 656.04it/s]\n",
      "100%|██████████| 17/17 [00:00<00:00, 682.29it/s]\n",
      "100%|██████████| 17/17 [00:00<00:00, 609.18it/s]\n",
      "100%|██████████| 17/17 [00:00<00:00, 588.17it/s]\n",
      "100%|██████████| 17/17 [00:00<00:00, 631.73it/s]\n",
      "100%|██████████| 17/17 [00:00<00:00, 609.17it/s]\n",
      "100%|██████████| 17/17 [00:00<00:00, 609.17it/s]\n",
      "100%|██████████| 17/17 [00:00<00:00, 631.75it/s]\n",
      "100%|██████████| 17/17 [00:00<00:00, 656.08it/s]\n",
      "100%|██████████| 17/17 [00:00<00:00, 656.04it/s]\n",
      "100%|██████████| 17/17 [00:00<00:00, 588.16it/s]\n",
      "100%|██████████| 17/17 [00:00<00:00, 631.73it/s]\n",
      "100%|██████████| 17/17 [00:00<00:00, 609.17it/s]\n",
      "100%|██████████| 17/17 [00:00<00:00, 631.74it/s]\n",
      "100%|██████████| 17/17 [00:00<00:00, 609.17it/s]\n"
     ]
    },
    {
     "name": "stdout",
     "output_type": "stream",
     "text": [
      "Saving model with loss 2.978...\n"
     ]
    },
    {
     "name": "stderr",
     "output_type": "stream",
     "text": [
      "100%|██████████| 17/17 [00:00<00:00, 631.73it/s]\n"
     ]
    },
    {
     "name": "stdout",
     "output_type": "stream",
     "text": [
      "Epoch [1321/6000]: Train loss: 3.3021, Valid loss: 3.1981\n"
     ]
    },
    {
     "name": "stderr",
     "output_type": "stream",
     "text": [
      "100%|██████████| 17/17 [00:00<00:00, 631.75it/s]\n",
      "100%|██████████| 17/17 [00:00<00:00, 609.19it/s]\n",
      "100%|██████████| 17/17 [00:00<00:00, 631.75it/s]\n",
      "100%|██████████| 17/17 [00:00<00:00, 631.74it/s]\n",
      "100%|██████████| 17/17 [00:00<00:00, 631.73it/s]\n",
      "100%|██████████| 17/17 [00:00<00:00, 631.73it/s]\n",
      "100%|██████████| 17/17 [00:00<00:00, 656.03it/s]\n",
      "100%|██████████| 17/17 [00:00<00:00, 656.04it/s]\n",
      "100%|██████████| 17/17 [00:00<00:00, 667.08it/s]\n",
      "100%|██████████| 17/17 [00:00<00:00, 656.04it/s]\n",
      "100%|██████████| 17/17 [00:00<00:00, 631.75it/s]\n",
      "100%|██████████| 17/17 [00:00<00:00, 609.17it/s]\n",
      "100%|██████████| 17/17 [00:00<00:00, 631.76it/s]\n",
      "100%|██████████| 17/17 [00:00<00:00, 631.75it/s]\n",
      "100%|██████████| 17/17 [00:00<00:00, 631.74it/s]\n",
      "100%|██████████| 17/17 [00:00<00:00, 309.92it/s]\n",
      "100%|██████████| 17/17 [00:00<00:00, 304.59it/s]\n"
     ]
    },
    {
     "name": "stdout",
     "output_type": "stream",
     "text": [
      "Saving model with loss 2.921...\n"
     ]
    },
    {
     "name": "stderr",
     "output_type": "stream",
     "text": [
      "100%|██████████| 17/17 [00:00<00:00, 304.59it/s]\n",
      "100%|██████████| 17/17 [00:00<00:00, 310.13it/s]\n",
      "100%|██████████| 17/17 [00:00<00:00, 289.10it/s]\n"
     ]
    },
    {
     "name": "stdout",
     "output_type": "stream",
     "text": [
      "Epoch [1341/6000]: Train loss: 3.2379, Valid loss: 3.2502\n"
     ]
    },
    {
     "name": "stderr",
     "output_type": "stream",
     "text": [
      "100%|██████████| 17/17 [00:00<00:00, 284.28it/s]\n",
      "100%|██████████| 17/17 [00:00<00:00, 290.59it/s]\n",
      "100%|██████████| 17/17 [00:00<00:00, 275.11it/s]\n",
      "100%|██████████| 17/17 [00:00<00:00, 289.10it/s]\n",
      "100%|██████████| 17/17 [00:00<00:00, 289.08it/s]\n",
      "100%|██████████| 17/17 [00:00<00:00, 299.25it/s]\n",
      "100%|██████████| 17/17 [00:00<00:00, 315.87it/s]\n"
     ]
    },
    {
     "name": "stdout",
     "output_type": "stream",
     "text": [
      "Saving model with loss 2.805...\n"
     ]
    },
    {
     "name": "stderr",
     "output_type": "stream",
     "text": [
      "100%|██████████| 17/17 [00:00<00:00, 307.30it/s]\n"
     ]
    },
    {
     "name": "stdout",
     "output_type": "stream",
     "text": [
      "Saving model with loss 2.804...\n"
     ]
    },
    {
     "name": "stderr",
     "output_type": "stream",
     "text": [
      "100%|██████████| 17/17 [00:00<00:00, 318.77it/s]\n",
      "100%|██████████| 17/17 [00:00<00:00, 315.87it/s]\n",
      "100%|██████████| 17/17 [00:00<00:00, 312.92it/s]\n",
      "100%|██████████| 17/17 [00:00<00:00, 297.89it/s]\n",
      "100%|██████████| 17/17 [00:00<00:00, 304.59it/s]\n",
      "100%|██████████| 17/17 [00:00<00:00, 310.09it/s]\n",
      "100%|██████████| 17/17 [00:00<00:00, 310.12it/s]\n",
      "100%|██████████| 17/17 [00:00<00:00, 304.59it/s]\n",
      "100%|██████████| 17/17 [00:00<00:00, 315.87it/s]\n",
      "100%|██████████| 17/17 [00:00<00:00, 310.12it/s]\n",
      "100%|██████████| 17/17 [00:00<00:00, 315.86it/s]\n",
      "100%|██████████| 17/17 [00:00<00:00, 306.72it/s]\n"
     ]
    },
    {
     "name": "stdout",
     "output_type": "stream",
     "text": [
      "Epoch [1361/6000]: Train loss: 3.1705, Valid loss: 2.9327\n"
     ]
    },
    {
     "name": "stderr",
     "output_type": "stream",
     "text": [
      "100%|██████████| 17/17 [00:00<00:00, 310.12it/s]\n",
      "100%|██████████| 17/17 [00:00<00:00, 299.24it/s]\n",
      "100%|██████████| 17/17 [00:00<00:00, 310.12it/s]\n",
      "100%|██████████| 17/17 [00:00<00:00, 310.12it/s]\n",
      "100%|██████████| 17/17 [00:00<00:00, 304.58it/s]\n",
      "100%|██████████| 17/17 [00:00<00:00, 299.24it/s]\n"
     ]
    },
    {
     "name": "stdout",
     "output_type": "stream",
     "text": [
      "Saving model with loss 2.735...\n"
     ]
    },
    {
     "name": "stderr",
     "output_type": "stream",
     "text": [
      "100%|██████████| 17/17 [00:00<00:00, 299.24it/s]\n",
      "100%|██████████| 17/17 [00:00<00:00, 304.59it/s]\n",
      "100%|██████████| 17/17 [00:00<00:00, 310.12it/s]\n",
      "100%|██████████| 17/17 [00:00<00:00, 310.11it/s]\n",
      "100%|██████████| 17/17 [00:00<00:00, 294.09it/s]\n",
      "100%|██████████| 17/17 [00:00<00:00, 299.24it/s]\n",
      "100%|██████████| 17/17 [00:00<00:00, 284.28it/s]\n",
      "100%|██████████| 17/17 [00:00<00:00, 304.22it/s]\n",
      "100%|██████████| 17/17 [00:00<00:00, 299.25it/s]\n",
      "100%|██████████| 17/17 [00:00<00:00, 266.51it/s]\n",
      "100%|██████████| 17/17 [00:00<00:00, 294.08it/s]\n",
      "100%|██████████| 17/17 [00:00<00:00, 289.10it/s]\n",
      "100%|██████████| 17/17 [00:00<00:00, 289.08it/s]\n",
      "100%|██████████| 17/17 [00:00<00:00, 294.06it/s]\n"
     ]
    },
    {
     "name": "stdout",
     "output_type": "stream",
     "text": [
      "Epoch [1381/6000]: Train loss: 3.1090, Valid loss: 2.9696\n"
     ]
    },
    {
     "name": "stderr",
     "output_type": "stream",
     "text": [
      "100%|██████████| 17/17 [00:00<00:00, 262.41it/s]\n",
      "100%|██████████| 17/17 [00:00<00:00, 299.25it/s]\n",
      "100%|██████████| 17/17 [00:00<00:00, 291.54it/s]\n",
      "100%|██████████| 17/17 [00:00<00:00, 286.03it/s]\n",
      "100%|██████████| 17/17 [00:00<00:00, 274.13it/s]\n",
      "100%|██████████| 17/17 [00:00<00:00, 249.51it/s]\n",
      "100%|██████████| 17/17 [00:00<00:00, 221.52it/s]\n",
      "100%|██████████| 17/17 [00:00<00:00, 228.92it/s]\n",
      "100%|██████████| 17/17 [00:00<00:00, 230.50it/s]\n",
      "100%|██████████| 17/17 [00:00<00:00, 289.10it/s]\n"
     ]
    },
    {
     "name": "stdout",
     "output_type": "stream",
     "text": [
      "Saving model with loss 2.703...\n"
     ]
    },
    {
     "name": "stderr",
     "output_type": "stream",
     "text": [
      "100%|██████████| 17/17 [00:00<00:00, 272.01it/s]\n",
      "100%|██████████| 17/17 [00:00<00:00, 279.62it/s]\n",
      "100%|██████████| 17/17 [00:00<00:00, 288.75it/s]\n",
      "100%|██████████| 17/17 [00:00<00:00, 259.95it/s]\n",
      "100%|██████████| 17/17 [00:00<00:00, 294.09it/s]\n",
      "100%|██████████| 17/17 [00:00<00:00, 254.57it/s]\n",
      "100%|██████████| 17/17 [00:00<00:00, 247.20it/s]\n",
      "100%|██████████| 17/17 [00:00<00:00, 258.44it/s]\n",
      "100%|██████████| 17/17 [00:00<00:00, 236.90it/s]\n",
      "100%|██████████| 17/17 [00:00<00:00, 258.44it/s]\n"
     ]
    },
    {
     "name": "stdout",
     "output_type": "stream",
     "text": [
      "Epoch [1401/6000]: Train loss: 3.0417, Valid loss: 3.1520\n"
     ]
    },
    {
     "name": "stderr",
     "output_type": "stream",
     "text": [
      "100%|██████████| 17/17 [00:00<00:00, 243.67it/s]\n",
      "100%|██████████| 17/17 [00:00<00:00, 262.41it/s]\n",
      "100%|██████████| 17/17 [00:00<00:00, 289.10it/s]\n",
      "100%|██████████| 17/17 [00:00<00:00, 279.62it/s]\n",
      "100%|██████████| 17/17 [00:00<00:00, 266.50it/s]\n",
      "100%|██████████| 17/17 [00:00<00:00, 284.38it/s]\n",
      "100%|██████████| 17/17 [00:00<00:00, 289.10it/s]\n",
      "100%|██████████| 17/17 [00:00<00:00, 240.22it/s]\n",
      "100%|██████████| 17/17 [00:00<00:00, 242.82it/s]\n",
      "100%|██████████| 17/17 [00:00<00:00, 233.64it/s]\n",
      "100%|██████████| 17/17 [00:00<00:00, 236.90it/s]\n",
      "100%|██████████| 17/17 [00:00<00:00, 293.24it/s]\n",
      "100%|██████████| 17/17 [00:00<00:00, 289.10it/s]\n",
      "100%|██████████| 17/17 [00:00<00:00, 277.32it/s]\n"
     ]
    },
    {
     "name": "stdout",
     "output_type": "stream",
     "text": [
      "Saving model with loss 2.664...\n"
     ]
    },
    {
     "name": "stderr",
     "output_type": "stream",
     "text": [
      "100%|██████████| 17/17 [00:00<00:00, 284.28it/s]\n",
      "100%|██████████| 17/17 [00:00<00:00, 268.57it/s]\n",
      "100%|██████████| 17/17 [00:00<00:00, 291.52it/s]\n",
      "100%|██████████| 17/17 [00:00<00:00, 292.26it/s]\n",
      "100%|██████████| 17/17 [00:00<00:00, 299.24it/s]\n",
      "100%|██████████| 17/17 [00:00<00:00, 289.09it/s]\n"
     ]
    },
    {
     "name": "stdout",
     "output_type": "stream",
     "text": [
      "Epoch [1421/6000]: Train loss: 2.9815, Valid loss: 2.5755\n",
      "Saving model with loss 2.576...\n"
     ]
    },
    {
     "name": "stderr",
     "output_type": "stream",
     "text": [
      "100%|██████████| 17/17 [00:00<00:00, 284.28it/s]\n",
      "100%|██████████| 17/17 [00:00<00:00, 284.28it/s]\n",
      "100%|██████████| 17/17 [00:00<00:00, 297.69it/s]\n",
      "100%|██████████| 17/17 [00:00<00:00, 285.40it/s]\n",
      "100%|██████████| 17/17 [00:00<00:00, 294.08it/s]\n",
      "100%|██████████| 17/17 [00:00<00:00, 277.49it/s]\n",
      "100%|██████████| 17/17 [00:00<00:00, 295.15it/s]\n",
      "100%|██████████| 17/17 [00:00<00:00, 268.51it/s]\n",
      "100%|██████████| 17/17 [00:00<00:00, 274.08it/s]\n",
      "100%|██████████| 17/17 [00:00<00:00, 274.38it/s]\n",
      "100%|██████████| 17/17 [00:00<00:00, 224.43it/s]\n",
      "100%|██████████| 17/17 [00:00<00:00, 284.28it/s]\n",
      "100%|██████████| 17/17 [00:00<00:00, 289.10it/s]\n",
      "100%|██████████| 17/17 [00:00<00:00, 299.24it/s]\n",
      "100%|██████████| 17/17 [00:00<00:00, 270.74it/s]\n",
      "100%|██████████| 17/17 [00:00<00:00, 266.51it/s]\n",
      "100%|██████████| 17/17 [00:00<00:00, 281.38it/s]\n",
      "100%|██████████| 17/17 [00:00<00:00, 279.62it/s]\n",
      "100%|██████████| 17/17 [00:00<00:00, 264.02it/s]\n",
      "100%|██████████| 17/17 [00:00<00:00, 284.28it/s]\n"
     ]
    },
    {
     "name": "stdout",
     "output_type": "stream",
     "text": [
      "Epoch [1441/6000]: Train loss: 2.9206, Valid loss: 2.7164\n"
     ]
    },
    {
     "name": "stderr",
     "output_type": "stream",
     "text": [
      "100%|██████████| 17/17 [00:00<00:00, 258.44it/s]\n",
      "100%|██████████| 17/17 [00:00<00:00, 258.44it/s]\n",
      "100%|██████████| 17/17 [00:00<00:00, 260.38it/s]\n",
      "100%|██████████| 17/17 [00:00<00:00, 261.82it/s]\n",
      "100%|██████████| 17/17 [00:00<00:00, 279.62it/s]\n",
      "100%|██████████| 17/17 [00:00<00:00, 275.11it/s]\n",
      "100%|██████████| 17/17 [00:00<00:00, 254.58it/s]\n",
      "100%|██████████| 17/17 [00:00<00:00, 275.09it/s]\n",
      "100%|██████████| 17/17 [00:00<00:00, 254.58it/s]\n",
      "100%|██████████| 17/17 [00:00<00:00, 270.74it/s]\n",
      "100%|██████████| 17/17 [00:00<00:00, 262.41it/s]\n",
      "100%|██████████| 17/17 [00:00<00:00, 279.60it/s]\n",
      "100%|██████████| 17/17 [00:00<00:00, 250.84it/s]\n",
      "100%|██████████| 17/17 [00:00<00:00, 275.11it/s]\n",
      "100%|██████████| 17/17 [00:00<00:00, 272.87it/s]\n",
      "100%|██████████| 17/17 [00:00<00:00, 269.94it/s]\n",
      "100%|██████████| 17/17 [00:00<00:00, 289.10it/s]\n",
      "100%|██████████| 17/17 [00:00<00:00, 262.41it/s]\n",
      "100%|██████████| 17/17 [00:00<00:00, 284.28it/s]\n",
      "100%|██████████| 17/17 [00:00<00:00, 286.58it/s]\n"
     ]
    },
    {
     "name": "stdout",
     "output_type": "stream",
     "text": [
      "Epoch [1461/6000]: Train loss: 2.8655, Valid loss: 2.9606\n"
     ]
    },
    {
     "name": "stderr",
     "output_type": "stream",
     "text": [
      "100%|██████████| 17/17 [00:00<00:00, 262.41it/s]\n",
      "100%|██████████| 17/17 [00:00<00:00, 289.10it/s]\n",
      "100%|██████████| 17/17 [00:00<00:00, 295.76it/s]\n",
      "100%|██████████| 17/17 [00:00<00:00, 279.62it/s]\n",
      "100%|██████████| 17/17 [00:00<00:00, 284.28it/s]\n",
      "100%|██████████| 17/17 [00:00<00:00, 284.28it/s]\n",
      "100%|██████████| 17/17 [00:00<00:00, 254.57it/s]\n",
      "100%|██████████| 17/17 [00:00<00:00, 266.51it/s]\n",
      "100%|██████████| 17/17 [00:00<00:00, 247.19it/s]\n"
     ]
    },
    {
     "name": "stdout",
     "output_type": "stream",
     "text": [
      "Saving model with loss 2.441...\n"
     ]
    },
    {
     "name": "stderr",
     "output_type": "stream",
     "text": [
      "100%|██████████| 17/17 [00:00<00:00, 233.65it/s]\n",
      "100%|██████████| 17/17 [00:00<00:00, 262.41it/s]\n",
      "100%|██████████| 17/17 [00:00<00:00, 260.38it/s]\n",
      "100%|██████████| 17/17 [00:00<00:00, 266.51it/s]\n",
      "100%|██████████| 17/17 [00:00<00:00, 277.49it/s]\n",
      "100%|██████████| 17/17 [00:00<00:00, 247.37it/s]\n",
      "100%|██████████| 17/17 [00:00<00:00, 247.06it/s]\n",
      "100%|██████████| 17/17 [00:00<00:00, 250.83it/s]\n",
      "100%|██████████| 17/17 [00:00<00:00, 266.52it/s]\n",
      "100%|██████████| 17/17 [00:00<00:00, 272.18it/s]\n",
      "100%|██████████| 17/17 [00:00<00:00, 262.40it/s]\n"
     ]
    },
    {
     "name": "stdout",
     "output_type": "stream",
     "text": [
      "Epoch [1481/6000]: Train loss: 2.8058, Valid loss: 2.7249\n"
     ]
    },
    {
     "name": "stderr",
     "output_type": "stream",
     "text": [
      "100%|██████████| 17/17 [00:00<00:00, 279.62it/s]\n",
      "100%|██████████| 17/17 [00:00<00:00, 281.63it/s]\n",
      "100%|██████████| 17/17 [00:00<00:00, 279.81it/s]\n",
      "100%|██████████| 17/17 [00:00<00:00, 286.79it/s]\n",
      "100%|██████████| 17/17 [00:00<00:00, 289.10it/s]\n",
      "100%|██████████| 17/17 [00:00<00:00, 285.81it/s]\n",
      "100%|██████████| 17/17 [00:00<00:00, 243.67it/s]\n",
      "100%|██████████| 17/17 [00:00<00:00, 254.58it/s]\n",
      "100%|██████████| 17/17 [00:00<00:00, 281.53it/s]\n"
     ]
    },
    {
     "name": "stdout",
     "output_type": "stream",
     "text": [
      "Saving model with loss 2.397...\n"
     ]
    },
    {
     "name": "stderr",
     "output_type": "stream",
     "text": [
      "100%|██████████| 17/17 [00:00<00:00, 243.67it/s]\n",
      "100%|██████████| 17/17 [00:00<00:00, 294.08it/s]\n",
      "100%|██████████| 17/17 [00:00<00:00, 289.09it/s]\n",
      "100%|██████████| 17/17 [00:00<00:00, 266.52it/s]\n",
      "100%|██████████| 17/17 [00:00<00:00, 279.62it/s]\n",
      "100%|██████████| 17/17 [00:00<00:00, 262.41it/s]\n",
      "100%|██████████| 17/17 [00:00<00:00, 281.48it/s]\n",
      "100%|██████████| 17/17 [00:00<00:00, 265.21it/s]\n",
      "100%|██████████| 17/17 [00:00<00:00, 294.09it/s]\n",
      "100%|██████████| 17/17 [00:00<00:00, 285.00it/s]\n",
      "100%|██████████| 17/17 [00:00<00:00, 252.84it/s]\n"
     ]
    },
    {
     "name": "stdout",
     "output_type": "stream",
     "text": [
      "Epoch [1501/6000]: Train loss: 2.7514, Valid loss: 2.7185\n"
     ]
    },
    {
     "name": "stderr",
     "output_type": "stream",
     "text": [
      "100%|██████████| 17/17 [00:00<00:00, 279.78it/s]\n",
      "100%|██████████| 17/17 [00:00<00:00, 233.66it/s]\n",
      "100%|██████████| 17/17 [00:00<00:00, 234.45it/s]\n",
      "100%|██████████| 17/17 [00:00<00:00, 279.33it/s]\n",
      "100%|██████████| 17/17 [00:00<00:00, 279.62it/s]\n"
     ]
    },
    {
     "name": "stdout",
     "output_type": "stream",
     "text": [
      "Saving model with loss 2.371...\n"
     ]
    },
    {
     "name": "stderr",
     "output_type": "stream",
     "text": [
      "100%|██████████| 17/17 [00:00<00:00, 258.02it/s]\n",
      "100%|██████████| 17/17 [00:00<00:00, 283.53it/s]\n"
     ]
    },
    {
     "name": "stdout",
     "output_type": "stream",
     "text": [
      "Saving model with loss 2.337...\n"
     ]
    },
    {
     "name": "stderr",
     "output_type": "stream",
     "text": [
      "100%|██████████| 17/17 [00:00<00:00, 279.60it/s]\n",
      "100%|██████████| 17/17 [00:00<00:00, 289.08it/s]\n",
      "100%|██████████| 17/17 [00:00<00:00, 270.74it/s]\n",
      "100%|██████████| 17/17 [00:00<00:00, 291.16it/s]\n",
      "100%|██████████| 17/17 [00:00<00:00, 279.62it/s]\n",
      "100%|██████████| 17/17 [00:00<00:00, 294.07it/s]\n",
      "100%|██████████| 17/17 [00:00<00:00, 289.10it/s]\n",
      "100%|██████████| 17/17 [00:00<00:00, 266.49it/s]\n",
      "100%|██████████| 17/17 [00:00<00:00, 294.08it/s]\n",
      "100%|██████████| 17/17 [00:00<00:00, 275.11it/s]\n",
      "100%|██████████| 17/17 [00:00<00:00, 266.52it/s]\n",
      "100%|██████████| 17/17 [00:00<00:00, 294.22it/s]\n",
      "100%|██████████| 17/17 [00:00<00:00, 261.89it/s]\n"
     ]
    },
    {
     "name": "stdout",
     "output_type": "stream",
     "text": [
      "Epoch [1521/6000]: Train loss: 2.6994, Valid loss: 2.4586\n"
     ]
    },
    {
     "name": "stderr",
     "output_type": "stream",
     "text": [
      "100%|██████████| 17/17 [00:00<00:00, 266.51it/s]\n",
      "100%|██████████| 17/17 [00:00<00:00, 262.41it/s]\n",
      "100%|██████████| 17/17 [00:00<00:00, 279.62it/s]\n",
      "100%|██████████| 17/17 [00:00<00:00, 266.51it/s]\n",
      "100%|██████████| 17/17 [00:00<00:00, 289.10it/s]\n",
      "100%|██████████| 17/17 [00:00<00:00, 277.53it/s]\n",
      "100%|██████████| 17/17 [00:00<00:00, 270.65it/s]\n",
      "100%|██████████| 17/17 [00:00<00:00, 247.21it/s]\n",
      "100%|██████████| 17/17 [00:00<00:00, 235.25it/s]\n",
      "100%|██████████| 17/17 [00:00<00:00, 279.62it/s]\n",
      "100%|██████████| 17/17 [00:00<00:00, 268.59it/s]\n",
      "100%|██████████| 17/17 [00:00<00:00, 270.75it/s]\n",
      "100%|██████████| 17/17 [00:00<00:00, 279.60it/s]\n",
      "100%|██████████| 17/17 [00:00<00:00, 266.51it/s]\n",
      "100%|██████████| 17/17 [00:00<00:00, 284.27it/s]\n",
      "100%|██████████| 17/17 [00:00<00:00, 294.08it/s]\n",
      "100%|██████████| 17/17 [00:00<00:00, 262.41it/s]\n",
      "100%|██████████| 17/17 [00:00<00:00, 279.62it/s]\n",
      "100%|██████████| 17/17 [00:00<00:00, 266.80it/s]\n",
      "100%|██████████| 17/17 [00:00<00:00, 281.92it/s]\n"
     ]
    },
    {
     "name": "stdout",
     "output_type": "stream",
     "text": [
      "Epoch [1541/6000]: Train loss: 2.6554, Valid loss: 2.5958\n"
     ]
    },
    {
     "name": "stderr",
     "output_type": "stream",
     "text": [
      "100%|██████████| 17/17 [00:00<00:00, 262.42it/s]\n",
      "100%|██████████| 17/17 [00:00<00:00, 284.28it/s]\n",
      "100%|██████████| 17/17 [00:00<00:00, 283.13it/s]\n",
      "100%|██████████| 17/17 [00:00<00:00, 248.98it/s]\n",
      "100%|██████████| 17/17 [00:00<00:00, 270.74it/s]\n",
      "100%|██████████| 17/17 [00:00<00:00, 262.41it/s]\n",
      "100%|██████████| 17/17 [00:00<00:00, 247.20it/s]\n",
      "100%|██████████| 17/17 [00:00<00:00, 262.41it/s]\n",
      "100%|██████████| 17/17 [00:00<00:00, 178.90it/s]\n",
      "100%|██████████| 17/17 [00:00<00:00, 262.41it/s]\n",
      "100%|██████████| 17/17 [00:00<00:00, 266.51it/s]\n",
      "100%|██████████| 17/17 [00:00<00:00, 258.44it/s]\n",
      "100%|██████████| 17/17 [00:00<00:00, 275.11it/s]\n",
      "100%|██████████| 17/17 [00:00<00:00, 253.51it/s]\n",
      "100%|██████████| 17/17 [00:00<00:00, 296.41it/s]\n",
      "100%|██████████| 17/17 [00:00<00:00, 305.00it/s]\n",
      "100%|██████████| 17/17 [00:00<00:00, 311.80it/s]\n",
      "100%|██████████| 17/17 [00:00<00:00, 315.84it/s]\n",
      "100%|██████████| 17/17 [00:00<00:00, 310.12it/s]\n",
      "100%|██████████| 17/17 [00:00<00:00, 307.29it/s]\n"
     ]
    },
    {
     "name": "stdout",
     "output_type": "stream",
     "text": [
      "Epoch [1561/6000]: Train loss: 2.6104, Valid loss: 2.3559\n"
     ]
    },
    {
     "name": "stderr",
     "output_type": "stream",
     "text": [
      "100%|██████████| 17/17 [00:00<00:00, 310.12it/s]\n",
      "100%|██████████| 17/17 [00:00<00:00, 304.59it/s]\n",
      "100%|██████████| 17/17 [00:00<00:00, 317.93it/s]\n",
      "100%|██████████| 17/17 [00:00<00:00, 310.12it/s]\n",
      "100%|██████████| 17/17 [00:00<00:00, 315.88it/s]\n",
      "100%|██████████| 17/17 [00:00<00:00, 313.64it/s]\n"
     ]
    },
    {
     "name": "stdout",
     "output_type": "stream",
     "text": [
      "Saving model with loss 2.312...\n"
     ]
    },
    {
     "name": "stderr",
     "output_type": "stream",
     "text": [
      "100%|██████████| 17/17 [00:00<00:00, 301.53it/s]\n",
      "100%|██████████| 17/17 [00:00<00:00, 304.59it/s]\n",
      "100%|██████████| 17/17 [00:00<00:00, 309.51it/s]\n",
      "100%|██████████| 17/17 [00:00<00:00, 310.12it/s]\n",
      "100%|██████████| 17/17 [00:00<00:00, 314.33it/s]\n",
      "100%|██████████| 17/17 [00:00<00:00, 320.48it/s]\n",
      "100%|██████████| 17/17 [00:00<00:00, 315.86it/s]\n",
      "100%|██████████| 17/17 [00:00<00:00, 302.83it/s]\n",
      "100%|██████████| 17/17 [00:00<00:00, 308.20it/s]\n",
      "100%|██████████| 17/17 [00:00<00:00, 304.59it/s]\n",
      "100%|██████████| 17/17 [00:00<00:00, 308.19it/s]\n",
      "100%|██████████| 17/17 [00:00<00:00, 315.86it/s]\n",
      "100%|██████████| 17/17 [00:00<00:00, 299.25it/s]\n",
      "100%|██████████| 17/17 [00:00<00:00, 297.18it/s]\n"
     ]
    },
    {
     "name": "stdout",
     "output_type": "stream",
     "text": [
      "Epoch [1581/6000]: Train loss: 2.5626, Valid loss: 2.5463\n"
     ]
    },
    {
     "name": "stderr",
     "output_type": "stream",
     "text": [
      "100%|██████████| 17/17 [00:00<00:00, 310.12it/s]\n",
      "100%|██████████| 17/17 [00:00<00:00, 310.13it/s]\n",
      "100%|██████████| 17/17 [00:00<00:00, 215.91it/s]\n",
      "100%|██████████| 17/17 [00:00<00:00, 196.06it/s]\n",
      "100%|██████████| 17/17 [00:00<00:00, 239.13it/s]\n",
      "100%|██████████| 17/17 [00:00<00:00, 279.62it/s]\n",
      "100%|██████████| 17/17 [00:00<00:00, 283.17it/s]\n",
      "100%|██████████| 17/17 [00:00<00:00, 210.58it/s]\n"
     ]
    },
    {
     "name": "stdout",
     "output_type": "stream",
     "text": [
      "Saving model with loss 2.281...\n"
     ]
    },
    {
     "name": "stderr",
     "output_type": "stream",
     "text": [
      "100%|██████████| 17/17 [00:00<00:00, 294.08it/s]\n",
      "100%|██████████| 17/17 [00:00<00:00, 304.59it/s]\n",
      "100%|██████████| 17/17 [00:00<00:00, 304.59it/s]\n",
      "100%|██████████| 17/17 [00:00<00:00, 284.28it/s]\n",
      "100%|██████████| 17/17 [00:00<00:00, 203.06it/s]\n",
      "100%|██████████| 17/17 [00:00<00:00, 310.12it/s]\n",
      "100%|██████████| 17/17 [00:00<00:00, 219.83it/s]\n"
     ]
    },
    {
     "name": "stdout",
     "output_type": "stream",
     "text": [
      "Saving model with loss 2.263...\n"
     ]
    },
    {
     "name": "stderr",
     "output_type": "stream",
     "text": [
      "100%|██████████| 17/17 [00:00<00:00, 182.05it/s]\n",
      "100%|██████████| 17/17 [00:00<00:00, 277.31it/s]\n",
      "100%|██████████| 17/17 [00:00<00:00, 284.28it/s]\n",
      "100%|██████████| 17/17 [00:00<00:00, 270.74it/s]\n",
      "100%|██████████| 17/17 [00:00<00:00, 279.60it/s]\n"
     ]
    },
    {
     "name": "stdout",
     "output_type": "stream",
     "text": [
      "Epoch [1601/6000]: Train loss: 2.5242, Valid loss: 2.2006\n",
      "Saving model with loss 2.201...\n"
     ]
    },
    {
     "name": "stderr",
     "output_type": "stream",
     "text": [
      "100%|██████████| 17/17 [00:00<00:00, 275.11it/s]\n",
      "100%|██████████| 17/17 [00:00<00:00, 275.11it/s]\n",
      "100%|██████████| 17/17 [00:00<00:00, 310.11it/s]\n",
      "100%|██████████| 17/17 [00:00<00:00, 306.19it/s]\n",
      "100%|██████████| 17/17 [00:00<00:00, 315.88it/s]\n",
      "100%|██████████| 17/17 [00:00<00:00, 312.92it/s]\n",
      "100%|██████████| 17/17 [00:00<00:00, 306.58it/s]\n",
      "100%|██████████| 17/17 [00:00<00:00, 284.28it/s]\n",
      "100%|██████████| 17/17 [00:00<00:00, 279.62it/s]\n",
      "100%|██████████| 17/17 [00:00<00:00, 289.09it/s]\n",
      "100%|██████████| 17/17 [00:00<00:00, 310.12it/s]\n"
     ]
    },
    {
     "name": "stdout",
     "output_type": "stream",
     "text": [
      "Saving model with loss 2.168...\n"
     ]
    },
    {
     "name": "stderr",
     "output_type": "stream",
     "text": [
      "100%|██████████| 17/17 [00:00<00:00, 310.12it/s]\n",
      "100%|██████████| 17/17 [00:00<00:00, 309.45it/s]\n",
      "100%|██████████| 17/17 [00:00<00:00, 299.25it/s]\n",
      "100%|██████████| 17/17 [00:00<00:00, 258.44it/s]\n",
      "100%|██████████| 17/17 [00:00<00:00, 315.86it/s]\n",
      "100%|██████████| 17/17 [00:00<00:00, 310.13it/s]\n",
      "100%|██████████| 17/17 [00:00<00:00, 289.10it/s]\n",
      "100%|██████████| 17/17 [00:00<00:00, 268.34it/s]\n",
      "100%|██████████| 17/17 [00:00<00:00, 315.87it/s]\n"
     ]
    },
    {
     "name": "stdout",
     "output_type": "stream",
     "text": [
      "Epoch [1621/6000]: Train loss: 2.4848, Valid loss: 2.2959\n"
     ]
    },
    {
     "name": "stderr",
     "output_type": "stream",
     "text": [
      "100%|██████████| 17/17 [00:00<00:00, 299.24it/s]\n",
      "100%|██████████| 17/17 [00:00<00:00, 279.62it/s]\n",
      "100%|██████████| 17/17 [00:00<00:00, 264.43it/s]\n",
      "100%|██████████| 17/17 [00:00<00:00, 310.13it/s]\n",
      "100%|██████████| 17/17 [00:00<00:00, 301.48it/s]\n",
      "100%|██████████| 17/17 [00:00<00:00, 262.97it/s]\n",
      "100%|██████████| 17/17 [00:00<00:00, 268.58it/s]\n"
     ]
    },
    {
     "name": "stdout",
     "output_type": "stream",
     "text": [
      "Saving model with loss 2.163...\n"
     ]
    },
    {
     "name": "stderr",
     "output_type": "stream",
     "text": [
      "100%|██████████| 17/17 [00:00<00:00, 299.24it/s]\n",
      "100%|██████████| 17/17 [00:00<00:00, 310.09it/s]\n",
      "100%|██████████| 17/17 [00:00<00:00, 302.17it/s]\n",
      "100%|██████████| 17/17 [00:00<00:00, 310.13it/s]\n",
      "100%|██████████| 17/17 [00:00<00:00, 301.97it/s]\n",
      "100%|██████████| 17/17 [00:00<00:00, 297.63it/s]\n",
      "100%|██████████| 17/17 [00:00<00:00, 304.59it/s]\n",
      "100%|██████████| 17/17 [00:00<00:00, 299.25it/s]\n",
      "100%|██████████| 17/17 [00:00<00:00, 247.20it/s]\n",
      "100%|██████████| 17/17 [00:00<00:00, 275.11it/s]\n",
      "100%|██████████| 17/17 [00:00<00:00, 276.85it/s]\n",
      "100%|██████████| 17/17 [00:00<00:00, 240.30it/s]\n"
     ]
    },
    {
     "name": "stdout",
     "output_type": "stream",
     "text": [
      "Saving model with loss 2.096...\n"
     ]
    },
    {
     "name": "stderr",
     "output_type": "stream",
     "text": [
      "100%|██████████| 17/17 [00:00<00:00, 268.58it/s]\n"
     ]
    },
    {
     "name": "stdout",
     "output_type": "stream",
     "text": [
      "Epoch [1641/6000]: Train loss: 2.4477, Valid loss: 2.3012\n"
     ]
    },
    {
     "name": "stderr",
     "output_type": "stream",
     "text": [
      "100%|██████████| 17/17 [00:00<00:00, 289.09it/s]\n",
      "100%|██████████| 17/17 [00:00<00:00, 299.24it/s]\n",
      "100%|██████████| 17/17 [00:00<00:00, 304.59it/s]\n",
      "100%|██████████| 17/17 [00:00<00:00, 89.21it/s]\n",
      "100%|██████████| 17/17 [00:00<00:00, 233.35it/s]\n",
      "100%|██████████| 17/17 [00:00<00:00, 198.84it/s]\n",
      "100%|██████████| 17/17 [00:00<00:00, 252.02it/s]\n",
      "100%|██████████| 17/17 [00:00<00:00, 262.41it/s]\n",
      "100%|██████████| 17/17 [00:00<00:00, 240.23it/s]\n",
      "100%|██████████| 17/17 [00:00<00:00, 227.42it/s]\n",
      "100%|██████████| 17/17 [00:00<00:00, 460.99it/s]\n",
      "100%|██████████| 17/17 [00:00<00:00, 348.10it/s]\n",
      "100%|██████████| 17/17 [00:00<00:00, 609.17it/s]\n",
      "100%|██████████| 17/17 [00:00<00:00, 609.18it/s]\n",
      "100%|██████████| 17/17 [00:00<00:00, 501.68it/s]\n",
      "100%|██████████| 17/17 [00:00<00:00, 568.58it/s]\n",
      "100%|██████████| 17/17 [00:00<00:00, 448.87it/s]\n",
      "100%|██████████| 17/17 [00:00<00:00, 588.16it/s]\n",
      "100%|██████████| 17/17 [00:00<00:00, 609.11it/s]\n",
      "100%|██████████| 17/17 [00:00<00:00, 473.80it/s]\n"
     ]
    },
    {
     "name": "stdout",
     "output_type": "stream",
     "text": [
      "Epoch [1661/6000]: Train loss: 2.4158, Valid loss: 2.2059\n"
     ]
    },
    {
     "name": "stderr",
     "output_type": "stream",
     "text": [
      "100%|██████████| 17/17 [00:00<00:00, 682.27it/s]\n",
      "100%|██████████| 17/17 [00:00<00:00, 655.94it/s]\n",
      "100%|██████████| 17/17 [00:00<00:00, 631.75it/s]\n",
      "100%|██████████| 17/17 [00:00<00:00, 710.71it/s]\n"
     ]
    },
    {
     "name": "stdout",
     "output_type": "stream",
     "text": [
      "Saving model with loss 2.086...\n"
     ]
    },
    {
     "name": "stderr",
     "output_type": "stream",
     "text": [
      "100%|██████████| 17/17 [00:00<00:00, 682.31it/s]\n",
      "100%|██████████| 17/17 [00:00<00:00, 550.23it/s]\n",
      "100%|██████████| 17/17 [00:00<00:00, 189.52it/s]\n",
      "100%|██████████| 17/17 [00:00<00:00, 501.70it/s]\n",
      "100%|██████████| 17/17 [00:00<00:00, 656.03it/s]\n",
      "100%|██████████| 17/17 [00:00<00:00, 656.04it/s]\n",
      "100%|██████████| 17/17 [00:00<00:00, 588.18it/s]\n",
      "100%|██████████| 17/17 [00:00<00:00, 568.56it/s]\n",
      "100%|██████████| 17/17 [00:00<00:00, 487.37it/s]\n",
      "100%|██████████| 17/17 [00:00<00:00, 656.04it/s]\n",
      "100%|██████████| 17/17 [00:00<00:00, 655.34it/s]\n",
      "100%|██████████| 17/17 [00:00<00:00, 656.04it/s]\n",
      "100%|██████████| 17/17 [00:00<00:00, 710.71it/s]\n",
      "100%|██████████| 17/17 [00:00<00:00, 710.72it/s]\n",
      "100%|██████████| 17/17 [00:00<00:00, 710.70it/s]\n",
      "100%|██████████| 17/17 [00:00<00:00, 609.18it/s]\n"
     ]
    },
    {
     "name": "stdout",
     "output_type": "stream",
     "text": [
      "Epoch [1681/6000]: Train loss: 2.3825, Valid loss: 2.1355\n"
     ]
    },
    {
     "name": "stderr",
     "output_type": "stream",
     "text": [
      "100%|██████████| 17/17 [00:00<00:00, 609.18it/s]\n",
      "100%|██████████| 17/17 [00:00<00:00, 575.68it/s]\n"
     ]
    },
    {
     "name": "stdout",
     "output_type": "stream",
     "text": [
      "Saving model with loss 2.035...\n"
     ]
    },
    {
     "name": "stderr",
     "output_type": "stream",
     "text": [
      "100%|██████████| 17/17 [00:00<00:00, 550.23it/s]\n",
      "100%|██████████| 17/17 [00:00<00:00, 588.16it/s]\n",
      "100%|██████████| 17/17 [00:00<00:00, 588.17it/s]\n",
      "100%|██████████| 17/17 [00:00<00:00, 609.18it/s]\n",
      "100%|██████████| 17/17 [00:00<00:00, 588.17it/s]\n",
      "100%|██████████| 17/17 [00:00<00:00, 588.17it/s]\n",
      "100%|██████████| 17/17 [00:00<00:00, 588.16it/s]\n",
      "100%|██████████| 17/17 [00:00<00:00, 682.28it/s]\n",
      "100%|██████████| 17/17 [00:00<00:00, 710.71it/s]\n",
      "100%|██████████| 17/17 [00:00<00:00, 647.76it/s]\n",
      "100%|██████████| 17/17 [00:00<00:00, 741.61it/s]\n",
      "100%|██████████| 17/17 [00:00<00:00, 767.25it/s]\n",
      "100%|██████████| 17/17 [00:00<00:00, 741.61it/s]\n",
      "100%|██████████| 17/17 [00:00<00:00, 710.71it/s]\n",
      "100%|██████████| 17/17 [00:00<00:00, 710.69it/s]\n",
      "100%|██████████| 17/17 [00:00<00:00, 710.70it/s]\n",
      "100%|██████████| 17/17 [00:00<00:00, 741.60it/s]\n",
      "100%|██████████| 17/17 [00:00<00:00, 710.70it/s]\n"
     ]
    },
    {
     "name": "stdout",
     "output_type": "stream",
     "text": [
      "Epoch [1701/6000]: Train loss: 2.3556, Valid loss: 2.1390\n"
     ]
    },
    {
     "name": "stderr",
     "output_type": "stream",
     "text": [
      "100%|██████████| 17/17 [00:00<00:00, 710.72it/s]\n",
      "100%|██████████| 17/17 [00:00<00:00, 539.49it/s]\n",
      "100%|██████████| 17/17 [00:00<00:00, 682.27it/s]\n",
      "100%|██████████| 17/17 [00:00<00:00, 741.61it/s]\n",
      "100%|██████████| 17/17 [00:00<00:00, 682.31it/s]\n",
      "100%|██████████| 17/17 [00:00<00:00, 741.61it/s]\n",
      "100%|██████████| 17/17 [00:00<00:00, 682.28it/s]\n",
      "100%|██████████| 17/17 [00:00<00:00, 695.97it/s]\n",
      "100%|██████████| 17/17 [00:00<00:00, 710.70it/s]\n"
     ]
    },
    {
     "name": "stdout",
     "output_type": "stream",
     "text": [
      "Saving model with loss 1.998...\n"
     ]
    },
    {
     "name": "stderr",
     "output_type": "stream",
     "text": [
      "100%|██████████| 17/17 [00:00<00:00, 710.71it/s]\n",
      "100%|██████████| 17/17 [00:00<00:00, 695.98it/s]\n",
      "100%|██████████| 17/17 [00:00<00:00, 682.27it/s]\n",
      "100%|██████████| 17/17 [00:00<00:00, 710.71it/s]\n",
      "100%|██████████| 17/17 [00:00<00:00, 710.72it/s]\n",
      "100%|██████████| 17/17 [00:00<00:00, 741.61it/s]\n",
      "100%|██████████| 17/17 [00:00<00:00, 682.27it/s]\n",
      "100%|██████████| 17/17 [00:00<00:00, 710.70it/s]\n",
      "100%|██████████| 17/17 [00:00<00:00, 710.59it/s]\n",
      "100%|██████████| 17/17 [00:00<00:00, 741.61it/s]\n",
      "100%|██████████| 17/17 [00:00<00:00, 710.69it/s]\n"
     ]
    },
    {
     "name": "stdout",
     "output_type": "stream",
     "text": [
      "Epoch [1721/6000]: Train loss: 2.3299, Valid loss: 2.1283\n"
     ]
    },
    {
     "name": "stderr",
     "output_type": "stream",
     "text": [
      "100%|██████████| 17/17 [00:00<00:00, 682.19it/s]\n",
      "100%|██████████| 17/17 [00:00<00:00, 656.02it/s]\n",
      "100%|██████████| 17/17 [00:00<00:00, 741.59it/s]\n",
      "100%|██████████| 17/17 [00:00<00:00, 710.70it/s]\n"
     ]
    },
    {
     "name": "stdout",
     "output_type": "stream",
     "text": [
      "Saving model with loss 1.956...\n"
     ]
    },
    {
     "name": "stderr",
     "output_type": "stream",
     "text": [
      "100%|██████████| 17/17 [00:00<00:00, 656.04it/s]\n",
      "100%|██████████| 17/17 [00:00<00:00, 692.99it/s]\n",
      "100%|██████████| 17/17 [00:00<00:00, 656.05it/s]\n",
      "100%|██████████| 17/17 [00:00<00:00, 710.70it/s]\n",
      "100%|██████████| 17/17 [00:00<00:00, 741.61it/s]\n",
      "100%|██████████| 17/17 [00:00<00:00, 682.27it/s]\n",
      "100%|██████████| 17/17 [00:00<00:00, 710.71it/s]\n",
      "100%|██████████| 17/17 [00:00<00:00, 741.62it/s]\n",
      "100%|██████████| 17/17 [00:00<00:00, 710.69it/s]\n",
      "100%|██████████| 17/17 [00:00<00:00, 682.27it/s]\n",
      "100%|██████████| 17/17 [00:00<00:00, 677.76it/s]\n",
      "100%|██████████| 17/17 [00:00<00:00, 682.29it/s]\n",
      "100%|██████████| 17/17 [00:00<00:00, 682.26it/s]\n",
      "100%|██████████| 17/17 [00:00<00:00, 609.20it/s]\n",
      "100%|██████████| 17/17 [00:00<00:00, 656.04it/s]\n",
      "100%|██████████| 17/17 [00:00<00:00, 710.71it/s]\n"
     ]
    },
    {
     "name": "stdout",
     "output_type": "stream",
     "text": [
      "Epoch [1741/6000]: Train loss: 2.3020, Valid loss: 2.1522\n"
     ]
    },
    {
     "name": "stderr",
     "output_type": "stream",
     "text": [
      "100%|██████████| 17/17 [00:00<00:00, 710.73it/s]\n",
      "100%|██████████| 17/17 [00:00<00:00, 682.27it/s]\n",
      "100%|██████████| 17/17 [00:00<00:00, 741.61it/s]\n",
      "100%|██████████| 17/17 [00:00<00:00, 741.61it/s]\n",
      "100%|██████████| 17/17 [00:00<00:00, 710.71it/s]\n",
      "100%|██████████| 17/17 [00:00<00:00, 682.27it/s]\n",
      "100%|██████████| 17/17 [00:00<00:00, 682.28it/s]\n",
      "100%|██████████| 17/17 [00:00<00:00, 710.71it/s]\n",
      "100%|██████████| 17/17 [00:00<00:00, 682.27it/s]\n",
      "100%|██████████| 17/17 [00:00<00:00, 710.70it/s]\n",
      "100%|██████████| 17/17 [00:00<00:00, 682.27it/s]\n",
      "100%|██████████| 17/17 [00:00<00:00, 710.71it/s]\n",
      "100%|██████████| 17/17 [00:00<00:00, 741.61it/s]\n",
      "100%|██████████| 17/17 [00:00<00:00, 710.71it/s]\n",
      "100%|██████████| 17/17 [00:00<00:00, 656.03it/s]\n",
      "100%|██████████| 17/17 [00:00<00:00, 682.27it/s]\n",
      "100%|██████████| 17/17 [00:00<00:00, 682.28it/s]\n",
      "100%|██████████| 17/17 [00:00<00:00, 710.71it/s]\n",
      "100%|██████████| 17/17 [00:00<00:00, 741.60it/s]\n"
     ]
    },
    {
     "name": "stdout",
     "output_type": "stream",
     "text": [
      "Saving model with loss 1.925...\n"
     ]
    },
    {
     "name": "stderr",
     "output_type": "stream",
     "text": [
      "100%|██████████| 17/17 [00:00<00:00, 682.29it/s]\n"
     ]
    },
    {
     "name": "stdout",
     "output_type": "stream",
     "text": [
      "Epoch [1761/6000]: Train loss: 2.2744, Valid loss: 1.9645\n"
     ]
    },
    {
     "name": "stderr",
     "output_type": "stream",
     "text": [
      "100%|██████████| 17/17 [00:00<00:00, 656.04it/s]\n",
      "100%|██████████| 17/17 [00:00<00:00, 656.04it/s]\n",
      "100%|██████████| 17/17 [00:00<00:00, 710.71it/s]\n",
      "100%|██████████| 17/17 [00:00<00:00, 710.72it/s]\n",
      "100%|██████████| 17/17 [00:00<00:00, 656.04it/s]\n",
      "100%|██████████| 17/17 [00:00<00:00, 710.71it/s]\n",
      "100%|██████████| 17/17 [00:00<00:00, 682.29it/s]\n",
      "100%|██████████| 17/17 [00:00<00:00, 682.29it/s]\n",
      "100%|██████████| 17/17 [00:00<00:00, 682.27it/s]\n",
      "100%|██████████| 17/17 [00:00<00:00, 710.71it/s]\n",
      "100%|██████████| 17/17 [00:00<00:00, 682.28it/s]\n",
      "100%|██████████| 17/17 [00:00<00:00, 656.05it/s]\n",
      "100%|██████████| 17/17 [00:00<00:00, 710.69it/s]\n",
      "100%|██████████| 17/17 [00:00<00:00, 710.70it/s]\n",
      "100%|██████████| 17/17 [00:00<00:00, 693.39it/s]\n",
      "100%|██████████| 17/17 [00:00<00:00, 682.27it/s]\n"
     ]
    },
    {
     "name": "stdout",
     "output_type": "stream",
     "text": [
      "Saving model with loss 1.866...\n"
     ]
    },
    {
     "name": "stderr",
     "output_type": "stream",
     "text": [
      "100%|██████████| 17/17 [00:00<00:00, 656.04it/s]\n",
      "100%|██████████| 17/17 [00:00<00:00, 710.62it/s]\n",
      "100%|██████████| 17/17 [00:00<00:00, 710.73it/s]\n",
      "100%|██████████| 17/17 [00:00<00:00, 684.56it/s]\n"
     ]
    },
    {
     "name": "stdout",
     "output_type": "stream",
     "text": [
      "Epoch [1781/6000]: Train loss: 2.2553, Valid loss: 2.2877\n"
     ]
    },
    {
     "name": "stderr",
     "output_type": "stream",
     "text": [
      "100%|██████████| 17/17 [00:00<00:00, 682.27it/s]\n",
      "100%|██████████| 17/17 [00:00<00:00, 656.04it/s]\n",
      "100%|██████████| 17/17 [00:00<00:00, 682.27it/s]\n",
      "100%|██████████| 17/17 [00:00<00:00, 710.71it/s]\n",
      "100%|██████████| 17/17 [00:00<00:00, 682.18it/s]\n",
      "100%|██████████| 17/17 [00:00<00:00, 656.03it/s]\n",
      "100%|██████████| 17/17 [00:00<00:00, 656.03it/s]\n",
      "100%|██████████| 17/17 [00:00<00:00, 710.59it/s]\n",
      "100%|██████████| 17/17 [00:00<00:00, 682.29it/s]\n",
      "100%|██████████| 17/17 [00:00<00:00, 710.71it/s]\n",
      "100%|██████████| 17/17 [00:00<00:00, 682.27it/s]\n",
      "100%|██████████| 17/17 [00:00<00:00, 620.08it/s]\n",
      "100%|██████████| 17/17 [00:00<00:00, 631.74it/s]\n",
      "100%|██████████| 17/17 [00:00<00:00, 631.74it/s]\n",
      "100%|██████████| 17/17 [00:00<00:00, 620.09it/s]\n",
      "100%|██████████| 17/17 [00:00<00:00, 656.04it/s]\n",
      "100%|██████████| 17/17 [00:00<00:00, 656.04it/s]\n",
      "100%|██████████| 17/17 [00:00<00:00, 668.75it/s]\n",
      "100%|██████████| 17/17 [00:00<00:00, 682.28it/s]\n",
      "100%|██████████| 17/17 [00:00<00:00, 609.17it/s]\n"
     ]
    },
    {
     "name": "stdout",
     "output_type": "stream",
     "text": [
      "Epoch [1801/6000]: Train loss: 2.2290, Valid loss: 1.9677\n"
     ]
    },
    {
     "name": "stderr",
     "output_type": "stream",
     "text": [
      "100%|██████████| 17/17 [00:00<00:00, 656.04it/s]\n",
      "100%|██████████| 17/17 [00:00<00:00, 609.18it/s]\n",
      "100%|██████████| 17/17 [00:00<00:00, 631.73it/s]\n",
      "100%|██████████| 17/17 [00:00<00:00, 631.75it/s]\n",
      "100%|██████████| 17/17 [00:00<00:00, 568.56it/s]\n",
      "100%|██████████| 17/17 [00:00<00:00, 609.17it/s]\n",
      "100%|██████████| 17/17 [00:00<00:00, 631.73it/s]\n",
      "100%|██████████| 17/17 [00:00<00:00, 631.76it/s]\n",
      "100%|██████████| 17/17 [00:00<00:00, 588.17it/s]\n",
      "100%|██████████| 17/17 [00:00<00:00, 609.20it/s]\n",
      "100%|██████████| 17/17 [00:00<00:00, 609.18it/s]\n",
      "100%|██████████| 17/17 [00:00<00:00, 661.73it/s]\n",
      "100%|██████████| 17/17 [00:00<00:00, 682.29it/s]\n",
      "100%|██████████| 17/17 [00:00<00:00, 682.28it/s]\n",
      "100%|██████████| 17/17 [00:00<00:00, 631.73it/s]\n",
      "100%|██████████| 17/17 [00:00<00:00, 656.07it/s]\n",
      "100%|██████████| 17/17 [00:00<00:00, 690.83it/s]\n",
      "100%|██████████| 17/17 [00:00<00:00, 656.05it/s]\n",
      "100%|██████████| 17/17 [00:00<00:00, 656.03it/s]\n",
      "100%|██████████| 17/17 [00:00<00:00, 682.27it/s]\n"
     ]
    },
    {
     "name": "stdout",
     "output_type": "stream",
     "text": [
      "Epoch [1821/6000]: Train loss: 2.2156, Valid loss: 2.3626\n"
     ]
    },
    {
     "name": "stderr",
     "output_type": "stream",
     "text": [
      "100%|██████████| 17/17 [00:00<00:00, 631.75it/s]\n",
      "100%|██████████| 17/17 [00:00<00:00, 682.29it/s]\n",
      "100%|██████████| 17/17 [00:00<00:00, 656.02it/s]\n",
      "100%|██████████| 17/17 [00:00<00:00, 656.05it/s]\n",
      "100%|██████████| 17/17 [00:00<00:00, 656.02it/s]\n",
      "100%|██████████| 17/17 [00:00<00:00, 609.19it/s]\n",
      "100%|██████████| 17/17 [00:00<00:00, 682.29it/s]\n",
      "100%|██████████| 17/17 [00:00<00:00, 682.27it/s]\n",
      "100%|██████████| 17/17 [00:00<00:00, 656.04it/s]\n",
      "100%|██████████| 17/17 [00:00<00:00, 656.02it/s]\n",
      "100%|██████████| 17/17 [00:00<00:00, 674.46it/s]\n",
      "100%|██████████| 17/17 [00:00<00:00, 656.02it/s]\n",
      "100%|██████████| 17/17 [00:00<00:00, 631.73it/s]\n",
      "100%|██████████| 17/17 [00:00<00:00, 609.15it/s]\n",
      "100%|██████████| 17/17 [00:00<00:00, 656.04it/s]\n",
      "100%|██████████| 17/17 [00:00<00:00, 631.75it/s]\n",
      "100%|██████████| 17/17 [00:00<00:00, 631.76it/s]\n",
      "100%|██████████| 17/17 [00:00<00:00, 682.26it/s]\n",
      "100%|██████████| 17/17 [00:00<00:00, 682.16it/s]\n",
      "100%|██████████| 17/17 [00:00<00:00, 682.35it/s]\n"
     ]
    },
    {
     "name": "stdout",
     "output_type": "stream",
     "text": [
      "Epoch [1841/6000]: Train loss: 2.1962, Valid loss: 2.1226\n"
     ]
    },
    {
     "name": "stderr",
     "output_type": "stream",
     "text": [
      "100%|██████████| 17/17 [00:00<00:00, 682.29it/s]\n",
      "100%|██████████| 17/17 [00:00<00:00, 631.64it/s]\n",
      "100%|██████████| 17/17 [00:00<00:00, 682.27it/s]\n",
      "100%|██████████| 17/17 [00:00<00:00, 682.31it/s]\n",
      "100%|██████████| 17/17 [00:00<00:00, 656.04it/s]\n",
      "100%|██████████| 17/17 [00:00<00:00, 682.31it/s]\n",
      "100%|██████████| 17/17 [00:00<00:00, 656.07it/s]\n",
      "100%|██████████| 17/17 [00:00<00:00, 682.31it/s]\n",
      "100%|██████████| 17/17 [00:00<00:00, 682.18it/s]\n",
      "100%|██████████| 17/17 [00:00<00:00, 682.27it/s]\n",
      "100%|██████████| 17/17 [00:00<00:00, 656.02it/s]\n"
     ]
    },
    {
     "name": "stdout",
     "output_type": "stream",
     "text": [
      "Saving model with loss 1.853...\n"
     ]
    },
    {
     "name": "stderr",
     "output_type": "stream",
     "text": [
      "100%|██████████| 17/17 [00:00<00:00, 655.93it/s]\n",
      "100%|██████████| 17/17 [00:00<00:00, 609.19it/s]\n",
      "100%|██████████| 17/17 [00:00<00:00, 656.03it/s]\n",
      "100%|██████████| 17/17 [00:00<00:00, 696.00it/s]\n",
      "100%|██████████| 17/17 [00:00<00:00, 631.75it/s]\n",
      "100%|██████████| 17/17 [00:00<00:00, 656.04it/s]\n"
     ]
    },
    {
     "name": "stdout",
     "output_type": "stream",
     "text": [
      "Saving model with loss 1.853...\n"
     ]
    },
    {
     "name": "stderr",
     "output_type": "stream",
     "text": [
      "100%|██████████| 17/17 [00:00<00:00, 668.71it/s]\n",
      "100%|██████████| 17/17 [00:00<00:00, 656.04it/s]\n",
      "100%|██████████| 17/17 [00:00<00:00, 656.04it/s]\n"
     ]
    },
    {
     "name": "stdout",
     "output_type": "stream",
     "text": [
      "Epoch [1861/6000]: Train loss: 2.1781, Valid loss: 1.8747\n"
     ]
    },
    {
     "name": "stderr",
     "output_type": "stream",
     "text": [
      "100%|██████████| 17/17 [00:00<00:00, 710.71it/s]\n",
      "100%|██████████| 17/17 [00:00<00:00, 567.84it/s]\n",
      "100%|██████████| 17/17 [00:00<00:00, 617.04it/s]\n",
      "100%|██████████| 17/17 [00:00<00:00, 609.16it/s]\n",
      "100%|██████████| 17/17 [00:00<00:00, 631.76it/s]\n",
      "100%|██████████| 17/17 [00:00<00:00, 656.04it/s]\n",
      "100%|██████████| 17/17 [00:00<00:00, 682.28it/s]\n",
      "100%|██████████| 17/17 [00:00<00:00, 631.74it/s]\n",
      "100%|██████████| 17/17 [00:00<00:00, 682.29it/s]\n",
      "100%|██████████| 17/17 [00:00<00:00, 656.03it/s]\n",
      "100%|██████████| 17/17 [00:00<00:00, 682.29it/s]\n",
      "100%|██████████| 17/17 [00:00<00:00, 710.71it/s]\n"
     ]
    },
    {
     "name": "stdout",
     "output_type": "stream",
     "text": [
      "Saving model with loss 1.827...\n"
     ]
    },
    {
     "name": "stderr",
     "output_type": "stream",
     "text": [
      "100%|██████████| 17/17 [00:00<00:00, 656.03it/s]\n",
      "100%|██████████| 17/17 [00:00<00:00, 682.27it/s]\n",
      "100%|██████████| 17/17 [00:00<00:00, 656.04it/s]\n",
      "100%|██████████| 17/17 [00:00<00:00, 656.03it/s]\n",
      "100%|██████████| 17/17 [00:00<00:00, 682.27it/s]\n",
      "100%|██████████| 17/17 [00:00<00:00, 682.28it/s]\n",
      "100%|██████████| 17/17 [00:00<00:00, 656.04it/s]\n",
      "100%|██████████| 17/17 [00:00<00:00, 656.04it/s]\n"
     ]
    },
    {
     "name": "stdout",
     "output_type": "stream",
     "text": [
      "Epoch [1881/6000]: Train loss: 2.1601, Valid loss: 1.8761\n"
     ]
    },
    {
     "name": "stderr",
     "output_type": "stream",
     "text": [
      "100%|██████████| 17/17 [00:00<00:00, 631.74it/s]\n",
      "100%|██████████| 17/17 [00:00<00:00, 656.04it/s]\n",
      "100%|██████████| 17/17 [00:00<00:00, 656.04it/s]\n",
      "100%|██████████| 17/17 [00:00<00:00, 631.74it/s]\n",
      "100%|██████████| 17/17 [00:00<00:00, 631.73it/s]\n",
      "100%|██████████| 17/17 [00:00<00:00, 631.74it/s]\n",
      "100%|██████████| 17/17 [00:00<00:00, 656.04it/s]\n",
      "100%|██████████| 17/17 [00:00<00:00, 656.04it/s]\n",
      "100%|██████████| 17/17 [00:00<00:00, 710.71it/s]\n",
      "100%|██████████| 17/17 [00:00<00:00, 656.04it/s]\n",
      "100%|██████████| 17/17 [00:00<00:00, 682.27it/s]\n",
      "100%|██████████| 17/17 [00:00<00:00, 640.96it/s]\n",
      "100%|██████████| 17/17 [00:00<00:00, 656.03it/s]\n",
      "100%|██████████| 17/17 [00:00<00:00, 656.04it/s]\n",
      "100%|██████████| 17/17 [00:00<00:00, 682.28it/s]\n"
     ]
    },
    {
     "name": "stdout",
     "output_type": "stream",
     "text": [
      "Saving model with loss 1.801...\n"
     ]
    },
    {
     "name": "stderr",
     "output_type": "stream",
     "text": [
      "100%|██████████| 17/17 [00:00<00:00, 682.29it/s]\n",
      "100%|██████████| 17/17 [00:00<00:00, 609.17it/s]\n"
     ]
    },
    {
     "name": "stdout",
     "output_type": "stream",
     "text": [
      "Saving model with loss 1.769...\n"
     ]
    },
    {
     "name": "stderr",
     "output_type": "stream",
     "text": [
      "100%|██████████| 17/17 [00:00<00:00, 656.04it/s]\n",
      "100%|██████████| 17/17 [00:00<00:00, 656.04it/s]\n",
      "100%|██████████| 17/17 [00:00<00:00, 656.17it/s]\n"
     ]
    },
    {
     "name": "stdout",
     "output_type": "stream",
     "text": [
      "Epoch [1901/6000]: Train loss: 2.1465, Valid loss: 2.1125\n"
     ]
    },
    {
     "name": "stderr",
     "output_type": "stream",
     "text": [
      "100%|██████████| 17/17 [00:00<00:00, 631.74it/s]\n",
      "100%|██████████| 17/17 [00:00<00:00, 656.03it/s]\n",
      "100%|██████████| 17/17 [00:00<00:00, 656.03it/s]\n",
      "100%|██████████| 17/17 [00:00<00:00, 656.04it/s]\n",
      "100%|██████████| 17/17 [00:00<00:00, 682.27it/s]\n",
      "100%|██████████| 17/17 [00:00<00:00, 682.22it/s]\n",
      "100%|██████████| 17/17 [00:00<00:00, 682.28it/s]\n",
      "100%|██████████| 17/17 [00:00<00:00, 631.74it/s]\n",
      "100%|██████████| 17/17 [00:00<00:00, 656.01it/s]\n",
      "100%|██████████| 17/17 [00:00<00:00, 656.03it/s]\n",
      "100%|██████████| 17/17 [00:00<00:00, 656.04it/s]\n",
      "100%|██████████| 17/17 [00:00<00:00, 643.03it/s]\n",
      "100%|██████████| 17/17 [00:00<00:00, 656.04it/s]\n",
      "100%|██████████| 17/17 [00:00<00:00, 682.27it/s]\n",
      "100%|██████████| 17/17 [00:00<00:00, 682.28it/s]\n",
      "100%|██████████| 17/17 [00:00<00:00, 656.14it/s]\n",
      "100%|██████████| 17/17 [00:00<00:00, 631.74it/s]\n",
      "100%|██████████| 17/17 [00:00<00:00, 682.27it/s]\n",
      "  0%|          | 0/17 [00:00<?, ?it/s]"
     ]
    }
   ],
   "source": [
    "model = My_Model(input_dim=x_train.shape[1]).to(device) # put your model and data on the same computation device.\n",
    "trainer(train_loader, valid_loader, model, config, device)"
   ]
  },
  {
   "cell_type": "markdown",
   "metadata": {
    "id": "Ik09KPqU-di-"
   },
   "source": [
    "# Plot learning curves with `tensorboard` (optional)\n",
    "\n",
    "`tensorboard` is a tool that allows you to visualize your training progress.\n",
    "\n",
    "If this block does not display your learning curve, please wait for few minutes, and re-run this block. It might take some time to load your logging information. "
   ]
  },
  {
   "cell_type": "code",
   "execution_count": null,
   "metadata": {
    "id": "loA4nKmLGQ-n"
   },
   "outputs": [],
   "source": [
    "# %reload_ext tensorboard\n",
    "# %tensorboard --logdir=./runs/"
   ]
  },
  {
   "cell_type": "markdown",
   "metadata": {
    "id": "yhAHGqC9-woK"
   },
   "source": [
    "# Testing\n",
    "The predictions of your model on testing set will be stored at `pred.csv`."
   ]
  },
  {
   "cell_type": "code",
   "execution_count": null,
   "metadata": {
    "id": "Q5eVdpbvAlAe"
   },
   "outputs": [],
   "source": [
    "def save_pred(preds, file):\n",
    "    ''' Save predictions to specified file '''\n",
    "    with open(file, 'w') as fp:\n",
    "        writer = csv.writer(fp)\n",
    "        writer.writerow(['id', 'tested_positive'])\n",
    "        for i, p in enumerate(preds):\n",
    "            writer.writerow([i, p])\n",
    "\n",
    "model = My_Model(input_dim=x_train.shape[1]).to(device)\n",
    "model.load_state_dict(torch.load(config['save_path']))\n",
    "preds = predict(test_loader, model, device) \n",
    "save_pred(preds, 'pred05041716.csv')"
   ]
  },
  {
   "cell_type": "markdown",
   "metadata": {
    "id": "IJ_k5rY0GvSV"
   },
   "source": [
    "# Reference\n",
    "This notebook uses code written by Heng-Jui Chang @ NTUEE (https://github.com/ga642381/ML2021-Spring/blob/main/HW01/HW01.ipynb)"
   ]
  }
 ],
 "metadata": {
  "accelerator": "GPU",
  "colab": {
   "provenance": [
    {
     "file_id": "1FTcG6CE-HILnvFztEFKdauMlPKfQvm5Z",
     "timestamp": 1677480801674
    },
    {
     "file_id": "11ZsfGKBOCYwYgUFfRiPuRfStCDL0TK4i",
     "timestamp": 1643255172964
    }
   ],
   "toc_visible": true
  },
  "gpuClass": "standard",
  "kernelspec": {
   "display_name": "Python 3 (ipykernel)",
   "language": "python",
   "name": "python3"
  },
  "language_info": {
   "codemirror_mode": {
    "name": "ipython",
    "version": 3
   },
   "file_extension": ".py",
   "mimetype": "text/x-python",
   "name": "python",
   "nbconvert_exporter": "python",
   "pygments_lexer": "ipython3",
   "version": "3.10.9"
  }
 },
 "nbformat": 4,
 "nbformat_minor": 1
}
