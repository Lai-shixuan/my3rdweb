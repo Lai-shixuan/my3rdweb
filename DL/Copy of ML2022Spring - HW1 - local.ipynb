{
 "cells": [
  {
   "cell_type": "markdown",
   "source": [
    "# **Homework 1: COVID-19 Cases Prediction (Regression)**"
   ],
   "metadata": {
    "collapsed": false,
    "id": "6zxadcyUNU50"
   }
  },
  {
   "cell_type": "markdown",
   "source": [
    "Objectives:\n",
    "* Solve a regression problem with deep neural networks (DNN).\n",
    "* Understand basic DNN training tips.\n",
    "* Familiarize yourself with PyTorch.\n",
    "\n",
    "If you have any questions, please contact the TAs via TA hours, NTU COOL, or email to mlta-2022-spring@googlegroups.com"
   ],
   "metadata": {
    "collapsed": false,
    "id": "Jr-De0XzNU6B"
   }
  },
  {
   "cell_type": "markdown",
   "metadata": {
    "id": "Tm2aXcb-j9Fc"
   },
   "source": [
    "# Download data\n",
    "If the Google Drive links below do not work, you can download data from [Kaggle](https://www.kaggle.com/t/a3ebd5b5542f0f55e828d4f00de8e59a), and upload data manually to the workspace."
   ]
  },
  {
   "cell_type": "code",
   "execution_count": null,
   "metadata": {
    "colab": {
     "base_uri": "https://localhost:8080/"
    },
    "executionInfo": {
     "elapsed": 2722,
     "status": "ok",
     "timestamp": 1678246081958,
     "user": {
      "displayName": "赖世宣",
      "userId": "13598398087408319646"
     },
     "user_tz": -480
    },
    "id": "YPmfl-awlKZA",
    "outputId": "1ca5309d-4185-439a-a02d-ab0dd8629603",
    "pycharm": {
     "is_executing": true
    }
   },
   "outputs": [],
   "source": [
    "# !gdown --id '1kLSW_-cW2Huj7bh84YTdimGBOJaODiOS' --output covid.train.csv\n",
    "# !gdown --id '1iiI5qROrAhZn-o4FPqsE97bMzDEFvIdg' --output covid.test.csv"
   ]
  },
  {
   "cell_type": "markdown",
   "metadata": {
    "id": "igqIMEgu64-F"
   },
   "source": [
    "# Import packages"
   ]
  },
  {
   "cell_type": "code",
   "execution_count": 4,
   "metadata": {
    "executionInfo": {
     "elapsed": 3219,
     "status": "ok",
     "timestamp": 1678246085157,
     "user": {
      "displayName": "赖世宣",
      "userId": "13598398087408319646"
     },
     "user_tz": -480
    },
    "id": "xybQNYCXYu13"
   },
   "outputs": [],
   "source": [
    "# Numerical Operations\n",
    "import math\n",
    "import numpy as np\n",
    "\n",
    "# Reading/Writing Data\n",
    "import pandas as pd\n",
    "import os\n",
    "import csv\n",
    "\n",
    "# For Progress Bar\n",
    "from tqdm import tqdm\n",
    "\n",
    "# Pytorch\n",
    "import torch \n",
    "import torch.nn as nn\n",
    "from torch.utils.data import Dataset, DataLoader, random_split\n",
    "\n",
    "# For plotting learning curve\n",
    "from torch.utils.tensorboard import SummaryWriter"
   ]
  },
  {
   "cell_type": "markdown",
   "metadata": {
    "id": "fTAVqRfc2KK3"
   },
   "source": [
    "# Some Utility Functions\n",
    "\n",
    "You do not need to modify this part."
   ]
  },
  {
   "cell_type": "code",
   "execution_count": 5,
   "metadata": {
    "executionInfo": {
     "elapsed": 25,
     "status": "ok",
     "timestamp": 1678246085160,
     "user": {
      "displayName": "赖世宣",
      "userId": "13598398087408319646"
     },
     "user_tz": -480
    },
    "id": "RbrcpfYN2I-H"
   },
   "outputs": [],
   "source": [
    "def same_seed(seed): \n",
    "    '''Fixes random number generator seeds for reproducibility.'''\n",
    "    torch.backends.cudnn.deterministic = True\n",
    "    torch.backends.cudnn.benchmark = False\n",
    "    np.random.seed(seed)\n",
    "    torch.manual_seed(seed)\n",
    "    if torch.cuda.is_available():\n",
    "        torch.cuda.manual_seed_all(seed)\n",
    "\n",
    "def train_valid_split(data_set, valid_ratio, seed):\n",
    "    '''Split provided training data into training set and validation set'''\n",
    "    valid_set_size = int(valid_ratio * len(data_set)) \n",
    "    train_set_size = len(data_set) - valid_set_size\n",
    "    train_set, valid_set = random_split(data_set, [train_set_size, valid_set_size], generator=torch.Generator().manual_seed(seed))\n",
    "    return np.array(train_set), np.array(valid_set)\n",
    "\n",
    "def predict(test_loader, model, device):\n",
    "    model.eval() # Set your model to evaluation mode.\n",
    "    preds = []\n",
    "    for x in tqdm(test_loader):\n",
    "        x = x.to(device)                        \n",
    "        with torch.no_grad():                   \n",
    "            pred = model(x)                     \n",
    "            preds.append(pred.detach().cpu())   \n",
    "    preds = torch.cat(preds, dim=0).numpy()  \n",
    "    return preds"
   ]
  },
  {
   "cell_type": "markdown",
   "metadata": {
    "id": "IqO3lTm78nNO"
   },
   "source": [
    "# Dataset"
   ]
  },
  {
   "cell_type": "code",
   "execution_count": 6,
   "metadata": {
    "executionInfo": {
     "elapsed": 25,
     "status": "ok",
     "timestamp": 1678246085161,
     "user": {
      "displayName": "赖世宣",
      "userId": "13598398087408319646"
     },
     "user_tz": -480
    },
    "id": "-mjaJM0wprMs"
   },
   "outputs": [],
   "source": [
    "class COVID19Dataset(Dataset):\n",
    "    '''\n",
    "    x: Features.\n",
    "    y: Targets, if none, do prediction.\n",
    "    '''\n",
    "    def __init__(self, x, y=None):\n",
    "        if y is None:\n",
    "            self.y = y\n",
    "        else:\n",
    "            self.y = torch.FloatTensor(y)\n",
    "        self.x = torch.FloatTensor(x)\n",
    "\n",
    "    def __getitem__(self, idx):\n",
    "        if self.y is None:\n",
    "            return self.x[idx]\n",
    "        else:\n",
    "            return self.x[idx], self.y[idx]\n",
    "\n",
    "    def __len__(self):\n",
    "        return len(self.x)"
   ]
  },
  {
   "cell_type": "markdown",
   "metadata": {
    "id": "m73ooU75CL_j"
   },
   "source": [
    "# Neural Network Model\n",
    "Try out different model architectures by modifying the class below."
   ]
  },
  {
   "cell_type": "code",
   "execution_count": 7,
   "metadata": {
    "executionInfo": {
     "elapsed": 25,
     "status": "ok",
     "timestamp": 1678246085163,
     "user": {
      "displayName": "赖世宣",
      "userId": "13598398087408319646"
     },
     "user_tz": -480
    },
    "id": "Qn97_WvvrEkG"
   },
   "outputs": [],
   "source": [
    "class My_Model(nn.Module):\n",
    "    def __init__(self, input_dim):\n",
    "        super(My_Model, self).__init__()\n",
    "        # TODO: modify model's structure, be aware of dimensions. \n",
    "        self.layers = nn.Sequential(\n",
    "            nn.Linear(input_dim, 16),\n",
    "            nn.ReLU(),\n",
    "            nn.Linear(16, 8),\n",
    "            nn.ReLU(),\n",
    "            nn.Linear(8, 1)\n",
    "        )\n",
    "\n",
    "    def forward(self, x):\n",
    "        x = self.layers(x)\n",
    "        x = x.squeeze(1) # (B, 1) -> (B)\n",
    "        return x"
   ]
  },
  {
   "cell_type": "markdown",
   "metadata": {
    "id": "x5-LKF6R8xeq"
   },
   "source": [
    "# Feature Selection\n",
    "Choose features you deem useful by modifying the function below."
   ]
  },
  {
   "cell_type": "code",
   "execution_count": 8,
   "metadata": {
    "executionInfo": {
     "elapsed": 387,
     "status": "ok",
     "timestamp": 1678246085525,
     "user": {
      "displayName": "赖世宣",
      "userId": "13598398087408319646"
     },
     "user_tz": -480
    },
    "id": "0FEnKRaIIeKp"
   },
   "outputs": [],
   "source": [
    "def select_feat(train_data, valid_data, test_data, select_all=True):\n",
    "    '''Selects useful features to perform regression'''\n",
    "    y_train, y_valid = train_data[:,-1], valid_data[:,-1]\n",
    "    raw_x_train, raw_x_valid, raw_x_test = train_data[:,:-1], valid_data[:,:-1], test_data\n",
    "\n",
    "    if select_all:\n",
    "        feat_idx = list(range(raw_x_train.shape[1]))\n",
    "    else:\n",
    "        feat_idx = np.concatenate((np.arange(1, 38), np.arange(38, 43), np.arange(53, 59), \\\n",
    "                                   np.arange(69, 75), np.arange(85, 91), np.arange(101, 107))) \\\n",
    "            # TODO: Select suitable feature columns.\n",
    "\n",
    "    return raw_x_train[:,feat_idx], raw_x_valid[:,feat_idx], raw_x_test[:,feat_idx], y_train, y_valid"
   ]
  },
  {
   "cell_type": "markdown",
   "metadata": {
    "id": "kADIPNQ2Ih5X"
   },
   "source": [
    "# Training Loop"
   ]
  },
  {
   "cell_type": "code",
   "execution_count": 9,
   "metadata": {
    "executionInfo": {
     "elapsed": 9,
     "status": "ok",
     "timestamp": 1678246085527,
     "user": {
      "displayName": "赖世宣",
      "userId": "13598398087408319646"
     },
     "user_tz": -480
    },
    "id": "k4Rq8_TztAhq"
   },
   "outputs": [],
   "source": [
    "def trainer(train_loader, valid_loader, model, config, device):\n",
    "\n",
    "    criterion = nn.MSELoss(reduction='mean') # Define your loss function, do not modify this.\n",
    "\n",
    "    # Define your optimization algorithm. \n",
    "    # TODO: Please check https://pytorch.org/docs/stable/optim.html to get more available algorithms.\n",
    "    # TODO: L2 regularization (optimizer(weight decay...) or implement by your self).\n",
    "    optimizer = torch.optim.Adam(model.parameters(), lr=config['learning_rate']) \n",
    "    # optimizer = torch.optim.SGD(model.parameters(), lr=config['learning_rate'], momentum=0.9) \n",
    "\n",
    "    writer = SummaryWriter() # Writer of tensoboard.\n",
    "\n",
    "    if not os.path.isdir('./models'):\n",
    "        os.mkdir('./models') # Create directory of saving models.\n",
    "\n",
    "    n_epochs, best_loss, step, early_stop_count = config['n_epochs'], math.inf, 0, 0\n",
    "\n",
    "    for epoch in range(n_epochs):\n",
    "        model.train() # Set your model to train mode.\n",
    "        loss_record = []\n",
    "\n",
    "        # tqdm is a package to visualize your training progress.\n",
    "        train_pbar = tqdm(train_loader, position=0, leave=True)\n",
    "        for x, y in train_pbar:\n",
    "            optimizer.zero_grad()               # Set gradient to zero.\n",
    "            x, y = x.to(device), y.to(device)   # Move your data to device. \n",
    "            pred = model(x)             \n",
    "            loss = criterion(pred, y)\n",
    "            loss.backward()                     # Compute gradient(backpropagation).\n",
    "            optimizer.step()                    # Update parameters.\n",
    "            step += 1\n",
    "            loss_record.append(loss.detach().item())\n",
    "            \n",
    "            # Display current epoch number and loss on tqdm progress bar.\n",
    "            train_pbar.set_description(f'Epoch [{epoch+1}/{n_epochs}]')\n",
    "            train_pbar.set_postfix({'loss': loss.detach().item()})\n",
    "\n",
    "        mean_train_loss = sum(loss_record)/len(loss_record)\n",
    "        writer.add_scalar('Loss/train', mean_train_loss, step)\n",
    "\n",
    "        model.eval() # Set your model to evaluation mode.\n",
    "        loss_record = []\n",
    "        for x, y in valid_loader:\n",
    "            x, y = x.to(device), y.to(device)\n",
    "            with torch.no_grad():\n",
    "                pred = model(x)\n",
    "                loss = criterion(pred, y)\n",
    "\n",
    "            loss_record.append(loss.item())\n",
    "            \n",
    "        mean_valid_loss = sum(loss_record)/len(loss_record)\n",
    "        print(f'Epoch [{epoch+1}/{n_epochs}]: Train loss: {mean_train_loss:.4f}, Valid loss: {mean_valid_loss:.4f}')\n",
    "        writer.add_scalar('Loss/valid', mean_valid_loss, step)\n",
    "\n",
    "        if mean_valid_loss < best_loss:\n",
    "            best_loss = mean_valid_loss\n",
    "            torch.save(model.state_dict(), config['save_path']) # Save your best model\n",
    "            print('Saving model with loss {:.3f}...'.format(best_loss))\n",
    "            early_stop_count = 0\n",
    "        else: \n",
    "            early_stop_count += 1\n",
    "\n",
    "        if early_stop_count >= config['early_stop']:\n",
    "            print('\\nModel is not improving, so we halt the training session.')\n",
    "            return"
   ]
  },
  {
   "cell_type": "markdown",
   "metadata": {
    "id": "0pgkOh2e9UjE"
   },
   "source": [
    "# Configurations\n",
    "`config` contains hyper-parameters for training and the path to save your model."
   ]
  },
  {
   "cell_type": "code",
   "execution_count": 10,
   "metadata": {
    "executionInfo": {
     "elapsed": 15,
     "status": "ok",
     "timestamp": 1678246085964,
     "user": {
      "displayName": "赖世宣",
      "userId": "13598398087408319646"
     },
     "user_tz": -480
    },
    "id": "QoWPUahCtoT6"
   },
   "outputs": [],
   "source": [
    "device = 'cuda' if torch.cuda.is_available() else 'cpu'\n",
    "config = {\n",
    "    'seed': 5211314,      # Your seed number, you can pick your lucky number. :)\n",
    "    'select_all': False,   # Whether to use all features.\n",
    "    'valid_ratio': 0.2,   # validation_size = train_size * valid_ratio\n",
    "    'n_epochs': 6000,     # Number of epochs.            \n",
    "    'batch_size': 128, \n",
    "    'learning_rate': 1e-5,              \n",
    "    'early_stop': 400,    # If model has not improved for this many consecutive epochs, stop training.     \n",
    "    'save_path': './models/model.ckpt'  # Your model will be saved here.\n",
    "}"
   ]
  },
  {
   "cell_type": "markdown",
   "metadata": {
    "id": "lrS-aJJh9XkW"
   },
   "source": [
    "# Dataloader\n",
    "Read data from files and set up training, validation, and testing sets. You do not need to modify this part."
   ]
  },
  {
   "cell_type": "code",
   "execution_count": 11,
   "metadata": {
    "colab": {
     "base_uri": "https://localhost:8080/"
    },
    "executionInfo": {
     "elapsed": 404,
     "status": "ok",
     "timestamp": 1678246086354,
     "user": {
      "displayName": "赖世宣",
      "userId": "13598398087408319646"
     },
     "user_tz": -480
    },
    "id": "2jc7ZfDot2t9",
    "outputId": "e727f699-061d-460e-fe8f-3edca50e88b6"
   },
   "outputs": [
    {
     "output_type": "stream",
     "name": "stdout",
     "text": [
      "train_data size: (2160, 118) \n",
      "valid_data size: (539, 118) \n",
      "test_data size: (1078, 117)\n",
      "number of features: 66\n"
     ]
    }
   ],
   "source": [
    "# Set seed for reproducibility\n",
    "same_seed(config['seed'])\n",
    "\n",
    "\n",
    "# train_data size: 2699 x 118 (id + 37 states + 16 features x 5 days) \n",
    "# test_data size: 1078 x 117 (without last day's positive rate)\n",
    "train_data, test_data = pd.read_csv('./covid.train.csv').values, pd.read_csv('./covid.test.csv').values\n",
    "train_data, valid_data = train_valid_split(train_data, config['valid_ratio'], config['seed'])\n",
    "\n",
    "# Print out the data size.\n",
    "print(f\"\"\"train_data size: {train_data.shape} \n",
    "valid_data size: {valid_data.shape} \n",
    "test_data size: {test_data.shape}\"\"\")\n",
    "\n",
    "# Select features\n",
    "x_train, x_valid, x_test, y_train, y_valid = select_feat(train_data, valid_data, test_data, config['select_all'])\n",
    "\n",
    "# Print out the number of features.\n",
    "print(f'number of features: {x_train.shape[1]}')\n",
    "\n",
    "train_dataset, valid_dataset, test_dataset = COVID19Dataset(x_train, y_train), \\\n",
    "                                            COVID19Dataset(x_valid, y_valid), \\\n",
    "                                            COVID19Dataset(x_test)\n",
    "\n",
    "# Pytorch data loader loads pytorch dataset into batches.\n",
    "train_loader = DataLoader(train_dataset, batch_size=config['batch_size'], shuffle=True, pin_memory=True)\n",
    "valid_loader = DataLoader(valid_dataset, batch_size=config['batch_size'], shuffle=True, pin_memory=True)\n",
    "test_loader = DataLoader(test_dataset, batch_size=config['batch_size'], shuffle=False, pin_memory=True)"
   ]
  },
  {
   "cell_type": "markdown",
   "metadata": {
    "id": "0OBYgjCA-YwD"
   },
   "source": [
    "# Start training!"
   ]
  },
  {
   "cell_type": "code",
   "execution_count": null,
   "metadata": {
    "colab": {
     "base_uri": "https://localhost:8080/"
    },
    "id": "YdttVRkAfu2t",
    "outputId": "c77a9ce9-f66c-4f8d-ca91-f09e0b552228"
   },
   "outputs": [
    {
     "output_type": "stream",
     "name": "stderr",
     "text": [
      "Epoch [1/6000]: 100%|██████████| 17/17 [00:05<00:00,  3.30it/s, loss=163]\n"
     ]
    },
    {
     "output_type": "stream",
     "name": "stdout",
     "text": [
      "Epoch [1/6000]: Train loss: 157.0271, Valid loss: 164.6660\n",
      "Saving model with loss 164.666...\n"
     ]
    },
    {
     "output_type": "stream",
     "name": "stderr",
     "text": [
      "Epoch [2/6000]: 100%|██████████| 17/17 [00:00<00:00, 123.79it/s, loss=162]\n"
     ]
    },
    {
     "output_type": "stream",
     "name": "stdout",
     "text": [
      "Epoch [2/6000]: Train loss: 156.3680, Valid loss: 157.8564\n",
      "Saving model with loss 157.856...\n"
     ]
    },
    {
     "output_type": "stream",
     "name": "stderr",
     "text": [
      "Epoch [3/6000]: 100%|██████████| 17/17 [00:00<00:00, 107.97it/s, loss=170]\n"
     ]
    },
    {
     "output_type": "stream",
     "name": "stdout",
     "text": [
      "Epoch [3/6000]: Train loss: 155.7857, Valid loss: 164.2710\n"
     ]
    },
    {
     "output_type": "stream",
     "name": "stderr",
     "text": [
      "Epoch [4/6000]: 100%|██████████| 17/17 [00:00<00:00, 125.19it/s, loss=167]\n"
     ]
    },
    {
     "output_type": "stream",
     "name": "stdout",
     "text": [
      "Epoch [4/6000]: Train loss: 155.1230, Valid loss: 150.4635\n",
      "Saving model with loss 150.464...\n"
     ]
    },
    {
     "output_type": "stream",
     "name": "stderr",
     "text": [
      "Epoch [5/6000]: 100%|██████████| 17/17 [00:00<00:00, 117.70it/s, loss=144]\n"
     ]
    },
    {
     "output_type": "stream",
     "name": "stdout",
     "text": [
      "Epoch [5/6000]: Train loss: 154.3250, Valid loss: 153.9446\n"
     ]
    },
    {
     "output_type": "stream",
     "name": "stderr",
     "text": [
      "Epoch [6/6000]: 100%|██████████| 17/17 [00:00<00:00, 110.09it/s, loss=164]\n"
     ]
    },
    {
     "output_type": "stream",
     "name": "stdout",
     "text": [
      "Epoch [6/6000]: Train loss: 153.8441, Valid loss: 152.9199\n"
     ]
    },
    {
     "output_type": "stream",
     "name": "stderr",
     "text": [
      "Epoch [7/6000]: 100%|██████████| 17/17 [00:00<00:00, 117.43it/s, loss=181]\n"
     ]
    },
    {
     "output_type": "stream",
     "name": "stdout",
     "text": [
      "Epoch [7/6000]: Train loss: 153.3531, Valid loss: 142.4082\n",
      "Saving model with loss 142.408...\n"
     ]
    },
    {
     "output_type": "stream",
     "name": "stderr",
     "text": [
      "Epoch [8/6000]: 100%|██████████| 17/17 [00:00<00:00, 111.34it/s, loss=214]\n"
     ]
    },
    {
     "output_type": "stream",
     "name": "stdout",
     "text": [
      "Epoch [8/6000]: Train loss: 152.9856, Valid loss: 152.9013\n"
     ]
    },
    {
     "output_type": "stream",
     "name": "stderr",
     "text": [
      "Epoch [9/6000]: 100%|██████████| 17/17 [00:00<00:00, 115.34it/s, loss=112]\n"
     ]
    },
    {
     "output_type": "stream",
     "name": "stdout",
     "text": [
      "Epoch [9/6000]: Train loss: 151.6362, Valid loss: 150.0928\n"
     ]
    },
    {
     "output_type": "stream",
     "name": "stderr",
     "text": [
      "Epoch [10/6000]: 100%|██████████| 17/17 [00:00<00:00, 112.81it/s, loss=146]\n"
     ]
    },
    {
     "output_type": "stream",
     "name": "stdout",
     "text": [
      "Epoch [10/6000]: Train loss: 151.2918, Valid loss: 153.0983\n"
     ]
    },
    {
     "output_type": "stream",
     "name": "stderr",
     "text": [
      "Epoch [11/6000]: 100%|██████████| 17/17 [00:00<00:00, 116.08it/s, loss=161]\n"
     ]
    },
    {
     "output_type": "stream",
     "name": "stdout",
     "text": [
      "Epoch [11/6000]: Train loss: 150.8171, Valid loss: 158.3083\n"
     ]
    },
    {
     "output_type": "stream",
     "name": "stderr",
     "text": [
      "Epoch [12/6000]: 100%|██████████| 17/17 [00:00<00:00, 121.50it/s, loss=155]\n"
     ]
    },
    {
     "output_type": "stream",
     "name": "stdout",
     "text": [
      "Epoch [12/6000]: Train loss: 150.2094, Valid loss: 153.2788\n"
     ]
    },
    {
     "output_type": "stream",
     "name": "stderr",
     "text": [
      "Epoch [13/6000]: 100%|██████████| 17/17 [00:00<00:00, 119.08it/s, loss=156]\n"
     ]
    },
    {
     "output_type": "stream",
     "name": "stdout",
     "text": [
      "Epoch [13/6000]: Train loss: 149.6485, Valid loss: 152.0838\n"
     ]
    },
    {
     "output_type": "stream",
     "name": "stderr",
     "text": [
      "Epoch [14/6000]: 100%|██████████| 17/17 [00:00<00:00, 115.66it/s, loss=128]\n"
     ]
    },
    {
     "output_type": "stream",
     "name": "stdout",
     "text": [
      "Epoch [14/6000]: Train loss: 148.8964, Valid loss: 144.5101\n"
     ]
    },
    {
     "output_type": "stream",
     "name": "stderr",
     "text": [
      "Epoch [15/6000]: 100%|██████████| 17/17 [00:00<00:00, 117.28it/s, loss=157]\n"
     ]
    },
    {
     "output_type": "stream",
     "name": "stdout",
     "text": [
      "Epoch [15/6000]: Train loss: 148.5711, Valid loss: 145.5138\n"
     ]
    },
    {
     "output_type": "stream",
     "name": "stderr",
     "text": [
      "Epoch [16/6000]: 100%|██████████| 17/17 [00:00<00:00, 120.49it/s, loss=151]\n"
     ]
    },
    {
     "output_type": "stream",
     "name": "stdout",
     "text": [
      "Epoch [16/6000]: Train loss: 147.9892, Valid loss: 147.3710\n"
     ]
    },
    {
     "output_type": "stream",
     "name": "stderr",
     "text": [
      "Epoch [17/6000]: 100%|██████████| 17/17 [00:00<00:00, 116.17it/s, loss=124]\n"
     ]
    },
    {
     "output_type": "stream",
     "name": "stdout",
     "text": [
      "Epoch [17/6000]: Train loss: 147.2698, Valid loss: 144.5573\n"
     ]
    },
    {
     "output_type": "stream",
     "name": "stderr",
     "text": [
      "Epoch [18/6000]: 100%|██████████| 17/17 [00:00<00:00, 122.93it/s, loss=164]\n"
     ]
    },
    {
     "output_type": "stream",
     "name": "stdout",
     "text": [
      "Epoch [18/6000]: Train loss: 147.0522, Valid loss: 140.4478\n",
      "Saving model with loss 140.448...\n"
     ]
    },
    {
     "output_type": "stream",
     "name": "stderr",
     "text": [
      "Epoch [19/6000]: 100%|██████████| 17/17 [00:00<00:00, 124.00it/s, loss=151]\n"
     ]
    },
    {
     "output_type": "stream",
     "name": "stdout",
     "text": [
      "Epoch [19/6000]: Train loss: 146.4566, Valid loss: 145.1022\n"
     ]
    },
    {
     "output_type": "stream",
     "name": "stderr",
     "text": [
      "Epoch [20/6000]: 100%|██████████| 17/17 [00:00<00:00, 124.89it/s, loss=126]\n"
     ]
    },
    {
     "output_type": "stream",
     "name": "stdout",
     "text": [
      "Epoch [20/6000]: Train loss: 145.7949, Valid loss: 147.3222\n"
     ]
    },
    {
     "output_type": "stream",
     "name": "stderr",
     "text": [
      "Epoch [21/6000]: 100%|██████████| 17/17 [00:00<00:00, 115.49it/s, loss=146]\n"
     ]
    },
    {
     "output_type": "stream",
     "name": "stdout",
     "text": [
      "Epoch [21/6000]: Train loss: 145.4581, Valid loss: 145.7254\n"
     ]
    },
    {
     "output_type": "stream",
     "name": "stderr",
     "text": [
      "Epoch [22/6000]: 100%|██████████| 17/17 [00:00<00:00, 119.86it/s, loss=153]\n"
     ]
    },
    {
     "output_type": "stream",
     "name": "stdout",
     "text": [
      "Epoch [22/6000]: Train loss: 145.0412, Valid loss: 147.0142\n"
     ]
    },
    {
     "output_type": "stream",
     "name": "stderr",
     "text": [
      "Epoch [23/6000]: 100%|██████████| 17/17 [00:00<00:00, 118.13it/s, loss=146]\n"
     ]
    },
    {
     "output_type": "stream",
     "name": "stdout",
     "text": [
      "Epoch [23/6000]: Train loss: 144.5153, Valid loss: 144.1895\n"
     ]
    },
    {
     "output_type": "stream",
     "name": "stderr",
     "text": [
      "Epoch [24/6000]: 100%|██████████| 17/17 [00:00<00:00, 121.28it/s, loss=146]\n"
     ]
    },
    {
     "output_type": "stream",
     "name": "stdout",
     "text": [
      "Epoch [24/6000]: Train loss: 144.0600, Valid loss: 137.0874\n",
      "Saving model with loss 137.087...\n"
     ]
    },
    {
     "output_type": "stream",
     "name": "stderr",
     "text": [
      "Epoch [25/6000]: 100%|██████████| 17/17 [00:00<00:00, 119.94it/s, loss=136]\n"
     ]
    },
    {
     "output_type": "stream",
     "name": "stdout",
     "text": [
      "Epoch [25/6000]: Train loss: 143.5204, Valid loss: 142.8519\n"
     ]
    },
    {
     "output_type": "stream",
     "name": "stderr",
     "text": [
      "Epoch [26/6000]: 100%|██████████| 17/17 [00:00<00:00, 118.06it/s, loss=162]\n"
     ]
    },
    {
     "output_type": "stream",
     "name": "stdout",
     "text": [
      "Epoch [26/6000]: Train loss: 143.2557, Valid loss: 139.2267\n"
     ]
    },
    {
     "output_type": "stream",
     "name": "stderr",
     "text": [
      "Epoch [27/6000]: 100%|██████████| 17/17 [00:00<00:00, 115.50it/s, loss=129]\n"
     ]
    },
    {
     "output_type": "stream",
     "name": "stdout",
     "text": [
      "Epoch [27/6000]: Train loss: 142.5550, Valid loss: 148.8519\n"
     ]
    },
    {
     "output_type": "stream",
     "name": "stderr",
     "text": [
      "Epoch [28/6000]: 100%|██████████| 17/17 [00:00<00:00, 113.72it/s, loss=145]\n"
     ]
    },
    {
     "output_type": "stream",
     "name": "stdout",
     "text": [
      "Epoch [28/6000]: Train loss: 142.2209, Valid loss: 141.0171\n"
     ]
    },
    {
     "output_type": "stream",
     "name": "stderr",
     "text": [
      "Epoch [29/6000]: 100%|██████████| 17/17 [00:00<00:00, 113.10it/s, loss=145]\n"
     ]
    },
    {
     "output_type": "stream",
     "name": "stdout",
     "text": [
      "Epoch [29/6000]: Train loss: 141.7660, Valid loss: 152.9827\n"
     ]
    },
    {
     "output_type": "stream",
     "name": "stderr",
     "text": [
      "Epoch [30/6000]: 100%|██████████| 17/17 [00:00<00:00, 110.29it/s, loss=131]\n"
     ]
    },
    {
     "output_type": "stream",
     "name": "stdout",
     "text": [
      "Epoch [30/6000]: Train loss: 141.2064, Valid loss: 143.6069\n"
     ]
    },
    {
     "output_type": "stream",
     "name": "stderr",
     "text": [
      "Epoch [31/6000]: 100%|██████████| 17/17 [00:00<00:00, 119.35it/s, loss=140]\n"
     ]
    },
    {
     "output_type": "stream",
     "name": "stdout",
     "text": [
      "Epoch [31/6000]: Train loss: 140.8183, Valid loss: 133.5642\n",
      "Saving model with loss 133.564...\n"
     ]
    },
    {
     "output_type": "stream",
     "name": "stderr",
     "text": [
      "Epoch [32/6000]: 100%|██████████| 17/17 [00:00<00:00, 112.69it/s, loss=132]\n"
     ]
    },
    {
     "output_type": "stream",
     "name": "stdout",
     "text": [
      "Epoch [32/6000]: Train loss: 140.3079, Valid loss: 138.3607\n"
     ]
    },
    {
     "output_type": "stream",
     "name": "stderr",
     "text": [
      "Epoch [33/6000]: 100%|██████████| 17/17 [00:00<00:00, 110.79it/s, loss=144]\n"
     ]
    },
    {
     "output_type": "stream",
     "name": "stdout",
     "text": [
      "Epoch [33/6000]: Train loss: 139.9438, Valid loss: 135.6441\n"
     ]
    },
    {
     "output_type": "stream",
     "name": "stderr",
     "text": [
      "Epoch [34/6000]: 100%|██████████| 17/17 [00:00<00:00, 116.74it/s, loss=161]\n"
     ]
    },
    {
     "output_type": "stream",
     "name": "stdout",
     "text": [
      "Epoch [34/6000]: Train loss: 139.6196, Valid loss: 138.2383\n"
     ]
    },
    {
     "output_type": "stream",
     "name": "stderr",
     "text": [
      "Epoch [35/6000]: 100%|██████████| 17/17 [00:00<00:00, 106.53it/s, loss=138]\n"
     ]
    },
    {
     "output_type": "stream",
     "name": "stdout",
     "text": [
      "Epoch [35/6000]: Train loss: 139.0093, Valid loss: 134.0688\n"
     ]
    },
    {
     "output_type": "stream",
     "name": "stderr",
     "text": [
      "Epoch [36/6000]: 100%|██████████| 17/17 [00:00<00:00, 110.94it/s, loss=137]\n"
     ]
    },
    {
     "output_type": "stream",
     "name": "stdout",
     "text": [
      "Epoch [36/6000]: Train loss: 138.5484, Valid loss: 145.1409\n"
     ]
    },
    {
     "output_type": "stream",
     "name": "stderr",
     "text": [
      "Epoch [37/6000]: 100%|██████████| 17/17 [00:00<00:00, 119.81it/s, loss=140]\n"
     ]
    },
    {
     "output_type": "stream",
     "name": "stdout",
     "text": [
      "Epoch [37/6000]: Train loss: 138.1201, Valid loss: 134.0373\n"
     ]
    },
    {
     "output_type": "stream",
     "name": "stderr",
     "text": [
      "Epoch [38/6000]: 100%|██████████| 17/17 [00:00<00:00, 108.10it/s, loss=142]\n"
     ]
    },
    {
     "output_type": "stream",
     "name": "stdout",
     "text": [
      "Epoch [38/6000]: Train loss: 137.6910, Valid loss: 141.9847\n"
     ]
    },
    {
     "output_type": "stream",
     "name": "stderr",
     "text": [
      "Epoch [39/6000]: 100%|██████████| 17/17 [00:00<00:00, 112.19it/s, loss=119]\n"
     ]
    },
    {
     "output_type": "stream",
     "name": "stdout",
     "text": [
      "Epoch [39/6000]: Train loss: 137.0690, Valid loss: 148.5289\n"
     ]
    },
    {
     "output_type": "stream",
     "name": "stderr",
     "text": [
      "Epoch [40/6000]: 100%|██████████| 17/17 [00:00<00:00, 107.69it/s, loss=147]\n"
     ]
    },
    {
     "output_type": "stream",
     "name": "stdout",
     "text": [
      "Epoch [40/6000]: Train loss: 136.8282, Valid loss: 133.1053\n",
      "Saving model with loss 133.105...\n"
     ]
    },
    {
     "output_type": "stream",
     "name": "stderr",
     "text": [
      "Epoch [41/6000]: 100%|██████████| 17/17 [00:00<00:00, 113.80it/s, loss=107]\n"
     ]
    },
    {
     "output_type": "stream",
     "name": "stdout",
     "text": [
      "Epoch [41/6000]: Train loss: 136.0885, Valid loss: 135.2835\n"
     ]
    },
    {
     "output_type": "stream",
     "name": "stderr",
     "text": [
      "Epoch [42/6000]: 100%|██████████| 17/17 [00:00<00:00, 113.08it/s, loss=114]\n"
     ]
    },
    {
     "output_type": "stream",
     "name": "stdout",
     "text": [
      "Epoch [42/6000]: Train loss: 135.6881, Valid loss: 138.4295\n"
     ]
    },
    {
     "output_type": "stream",
     "name": "stderr",
     "text": [
      "Epoch [43/6000]: 100%|██████████| 17/17 [00:00<00:00, 108.15it/s, loss=155]\n"
     ]
    },
    {
     "output_type": "stream",
     "name": "stdout",
     "text": [
      "Epoch [43/6000]: Train loss: 135.5390, Valid loss: 131.5984\n",
      "Saving model with loss 131.598...\n"
     ]
    },
    {
     "output_type": "stream",
     "name": "stderr",
     "text": [
      "Epoch [44/6000]: 100%|██████████| 17/17 [00:00<00:00, 109.05it/s, loss=104]\n"
     ]
    },
    {
     "output_type": "stream",
     "name": "stdout",
     "text": [
      "Epoch [44/6000]: Train loss: 134.7165, Valid loss: 141.7987\n"
     ]
    },
    {
     "output_type": "stream",
     "name": "stderr",
     "text": [
      "Epoch [45/6000]: 100%|██████████| 17/17 [00:00<00:00, 121.47it/s, loss=127]\n"
     ]
    },
    {
     "output_type": "stream",
     "name": "stdout",
     "text": [
      "Epoch [45/6000]: Train loss: 134.4371, Valid loss: 133.1112\n"
     ]
    },
    {
     "output_type": "stream",
     "name": "stderr",
     "text": [
      "Epoch [46/6000]: 100%|██████████| 17/17 [00:00<00:00, 118.34it/s, loss=118]\n"
     ]
    },
    {
     "output_type": "stream",
     "name": "stdout",
     "text": [
      "Epoch [46/6000]: Train loss: 133.9202, Valid loss: 135.4442\n"
     ]
    },
    {
     "output_type": "stream",
     "name": "stderr",
     "text": [
      "Epoch [47/6000]: 100%|██████████| 17/17 [00:00<00:00, 102.73it/s, loss=137]\n"
     ]
    },
    {
     "output_type": "stream",
     "name": "stdout",
     "text": [
      "Epoch [47/6000]: Train loss: 133.6145, Valid loss: 137.2746\n"
     ]
    },
    {
     "output_type": "stream",
     "name": "stderr",
     "text": [
      "Epoch [48/6000]: 100%|██████████| 17/17 [00:00<00:00, 122.46it/s, loss=116]\n"
     ]
    },
    {
     "output_type": "stream",
     "name": "stdout",
     "text": [
      "Epoch [48/6000]: Train loss: 133.0170, Valid loss: 132.3732\n"
     ]
    },
    {
     "output_type": "stream",
     "name": "stderr",
     "text": [
      "Epoch [49/6000]: 100%|██████████| 17/17 [00:00<00:00, 109.81it/s, loss=148]\n"
     ]
    },
    {
     "output_type": "stream",
     "name": "stdout",
     "text": [
      "Epoch [49/6000]: Train loss: 132.8029, Valid loss: 140.4272\n"
     ]
    },
    {
     "output_type": "stream",
     "name": "stderr",
     "text": [
      "Epoch [50/6000]: 100%|██████████| 17/17 [00:00<00:00, 108.17it/s, loss=137]\n"
     ]
    },
    {
     "output_type": "stream",
     "name": "stdout",
     "text": [
      "Epoch [50/6000]: Train loss: 132.2853, Valid loss: 126.0923\n",
      "Saving model with loss 126.092...\n"
     ]
    },
    {
     "output_type": "stream",
     "name": "stderr",
     "text": [
      "Epoch [51/6000]: 100%|██████████| 17/17 [00:00<00:00, 116.33it/s, loss=134]\n"
     ]
    },
    {
     "output_type": "stream",
     "name": "stdout",
     "text": [
      "Epoch [51/6000]: Train loss: 131.8168, Valid loss: 125.7311\n",
      "Saving model with loss 125.731...\n"
     ]
    },
    {
     "output_type": "stream",
     "name": "stderr",
     "text": [
      "Epoch [52/6000]: 100%|██████████| 17/17 [00:00<00:00, 121.95it/s, loss=133]\n"
     ]
    },
    {
     "output_type": "stream",
     "name": "stdout",
     "text": [
      "Epoch [52/6000]: Train loss: 131.3691, Valid loss: 129.7218\n"
     ]
    },
    {
     "output_type": "stream",
     "name": "stderr",
     "text": [
      "Epoch [53/6000]: 100%|██████████| 17/17 [00:00<00:00, 116.19it/s, loss=164]\n"
     ]
    },
    {
     "output_type": "stream",
     "name": "stdout",
     "text": [
      "Epoch [53/6000]: Train loss: 131.1535, Valid loss: 127.0282\n"
     ]
    },
    {
     "output_type": "stream",
     "name": "stderr",
     "text": [
      "Epoch [54/6000]: 100%|██████████| 17/17 [00:00<00:00, 119.12it/s, loss=127]\n"
     ]
    },
    {
     "output_type": "stream",
     "name": "stdout",
     "text": [
      "Epoch [54/6000]: Train loss: 130.4476, Valid loss: 126.6131\n"
     ]
    },
    {
     "output_type": "stream",
     "name": "stderr",
     "text": [
      "Epoch [55/6000]: 100%|██████████| 17/17 [00:00<00:00, 108.99it/s, loss=123]\n"
     ]
    },
    {
     "output_type": "stream",
     "name": "stdout",
     "text": [
      "Epoch [55/6000]: Train loss: 129.9769, Valid loss: 128.4011\n"
     ]
    },
    {
     "output_type": "stream",
     "name": "stderr",
     "text": [
      "Epoch [56/6000]: 100%|██████████| 17/17 [00:00<00:00, 114.79it/s, loss=124]\n"
     ]
    },
    {
     "output_type": "stream",
     "name": "stdout",
     "text": [
      "Epoch [56/6000]: Train loss: 129.5475, Valid loss: 127.3344\n"
     ]
    },
    {
     "output_type": "stream",
     "name": "stderr",
     "text": [
      "Epoch [57/6000]: 100%|██████████| 17/17 [00:00<00:00, 113.57it/s, loss=171]\n"
     ]
    },
    {
     "output_type": "stream",
     "name": "stdout",
     "text": [
      "Epoch [57/6000]: Train loss: 129.4637, Valid loss: 122.2586\n",
      "Saving model with loss 122.259...\n"
     ]
    },
    {
     "output_type": "stream",
     "name": "stderr",
     "text": [
      "Epoch [58/6000]: 100%|██████████| 17/17 [00:00<00:00, 125.75it/s, loss=108]\n"
     ]
    },
    {
     "output_type": "stream",
     "name": "stdout",
     "text": [
      "Epoch [58/6000]: Train loss: 128.5752, Valid loss: 132.7684\n"
     ]
    },
    {
     "output_type": "stream",
     "name": "stderr",
     "text": [
      "Epoch [59/6000]: 100%|██████████| 17/17 [00:00<00:00, 129.74it/s, loss=102]\n"
     ]
    },
    {
     "output_type": "stream",
     "name": "stdout",
     "text": [
      "Epoch [59/6000]: Train loss: 128.0955, Valid loss: 131.7170\n"
     ]
    },
    {
     "output_type": "stream",
     "name": "stderr",
     "text": [
      "Epoch [60/6000]: 100%|██████████| 17/17 [00:00<00:00, 122.82it/s, loss=114]\n"
     ]
    },
    {
     "output_type": "stream",
     "name": "stdout",
     "text": [
      "Epoch [60/6000]: Train loss: 127.7560, Valid loss: 132.3536\n"
     ]
    },
    {
     "output_type": "stream",
     "name": "stderr",
     "text": [
      "Epoch [61/6000]: 100%|██████████| 17/17 [00:00<00:00, 122.73it/s, loss=116]\n"
     ]
    },
    {
     "output_type": "stream",
     "name": "stdout",
     "text": [
      "Epoch [61/6000]: Train loss: 127.3346, Valid loss: 126.1981\n"
     ]
    },
    {
     "output_type": "stream",
     "name": "stderr",
     "text": [
      "Epoch [62/6000]: 100%|██████████| 17/17 [00:00<00:00, 130.49it/s, loss=95.8]\n"
     ]
    },
    {
     "output_type": "stream",
     "name": "stdout",
     "text": [
      "Epoch [62/6000]: Train loss: 126.7590, Valid loss: 117.5282\n",
      "Saving model with loss 117.528...\n"
     ]
    },
    {
     "output_type": "stream",
     "name": "stderr",
     "text": [
      "Epoch [63/6000]: 100%|██████████| 17/17 [00:00<00:00, 123.22it/s, loss=127]\n"
     ]
    },
    {
     "output_type": "stream",
     "name": "stdout",
     "text": [
      "Epoch [63/6000]: Train loss: 126.5541, Valid loss: 127.2375\n"
     ]
    },
    {
     "output_type": "stream",
     "name": "stderr",
     "text": [
      "Epoch [64/6000]: 100%|██████████| 17/17 [00:00<00:00, 132.34it/s, loss=123]\n"
     ]
    },
    {
     "output_type": "stream",
     "name": "stdout",
     "text": [
      "Epoch [64/6000]: Train loss: 126.0910, Valid loss: 124.9705\n"
     ]
    },
    {
     "output_type": "stream",
     "name": "stderr",
     "text": [
      "Epoch [65/6000]: 100%|██████████| 17/17 [00:00<00:00, 129.57it/s, loss=122]\n"
     ]
    },
    {
     "output_type": "stream",
     "name": "stdout",
     "text": [
      "Epoch [65/6000]: Train loss: 125.6522, Valid loss: 123.6737\n"
     ]
    },
    {
     "output_type": "stream",
     "name": "stderr",
     "text": [
      "Epoch [66/6000]: 100%|██████████| 17/17 [00:00<00:00, 98.94it/s, loss=109] \n"
     ]
    },
    {
     "output_type": "stream",
     "name": "stdout",
     "text": [
      "Epoch [66/6000]: Train loss: 125.1244, Valid loss: 127.1926\n"
     ]
    },
    {
     "output_type": "stream",
     "name": "stderr",
     "text": [
      "Epoch [67/6000]: 100%|██████████| 17/17 [00:00<00:00, 130.86it/s, loss=105]\n"
     ]
    },
    {
     "output_type": "stream",
     "name": "stdout",
     "text": [
      "Epoch [67/6000]: Train loss: 124.6612, Valid loss: 122.6113\n"
     ]
    },
    {
     "output_type": "stream",
     "name": "stderr",
     "text": [
      "Epoch [68/6000]: 100%|██████████| 17/17 [00:00<00:00, 122.75it/s, loss=144]\n"
     ]
    },
    {
     "output_type": "stream",
     "name": "stdout",
     "text": [
      "Epoch [68/6000]: Train loss: 124.5150, Valid loss: 126.4094\n"
     ]
    },
    {
     "output_type": "stream",
     "name": "stderr",
     "text": [
      "Epoch [69/6000]: 100%|██████████| 17/17 [00:00<00:00, 114.65it/s, loss=148]\n"
     ]
    },
    {
     "output_type": "stream",
     "name": "stdout",
     "text": [
      "Epoch [69/6000]: Train loss: 124.1141, Valid loss: 123.1802\n"
     ]
    },
    {
     "output_type": "stream",
     "name": "stderr",
     "text": [
      "Epoch [70/6000]: 100%|██████████| 17/17 [00:00<00:00, 117.85it/s, loss=121]\n"
     ]
    },
    {
     "output_type": "stream",
     "name": "stdout",
     "text": [
      "Epoch [70/6000]: Train loss: 123.4848, Valid loss: 120.0096\n"
     ]
    },
    {
     "output_type": "stream",
     "name": "stderr",
     "text": [
      "Epoch [71/6000]: 100%|██████████| 17/17 [00:00<00:00, 109.01it/s, loss=111]\n"
     ]
    },
    {
     "output_type": "stream",
     "name": "stdout",
     "text": [
      "Epoch [71/6000]: Train loss: 122.9851, Valid loss: 115.5080\n",
      "Saving model with loss 115.508...\n"
     ]
    },
    {
     "output_type": "stream",
     "name": "stderr",
     "text": [
      "Epoch [72/6000]: 100%|██████████| 17/17 [00:00<00:00, 110.68it/s, loss=97.1]\n"
     ]
    },
    {
     "output_type": "stream",
     "name": "stdout",
     "text": [
      "Epoch [72/6000]: Train loss: 122.4570, Valid loss: 126.1581\n"
     ]
    },
    {
     "output_type": "stream",
     "name": "stderr",
     "text": [
      "Epoch [73/6000]: 100%|██████████| 17/17 [00:00<00:00, 112.97it/s, loss=126]\n"
     ]
    },
    {
     "output_type": "stream",
     "name": "stdout",
     "text": [
      "Epoch [73/6000]: Train loss: 122.2336, Valid loss: 116.8960\n"
     ]
    },
    {
     "output_type": "stream",
     "name": "stderr",
     "text": [
      "Epoch [74/6000]: 100%|██████████| 17/17 [00:00<00:00, 118.84it/s, loss=130]\n"
     ]
    },
    {
     "output_type": "stream",
     "name": "stdout",
     "text": [
      "Epoch [74/6000]: Train loss: 121.8416, Valid loss: 124.2520\n"
     ]
    },
    {
     "output_type": "stream",
     "name": "stderr",
     "text": [
      "Epoch [75/6000]: 100%|██████████| 17/17 [00:00<00:00, 115.97it/s, loss=144]\n"
     ]
    },
    {
     "output_type": "stream",
     "name": "stdout",
     "text": [
      "Epoch [75/6000]: Train loss: 121.5110, Valid loss: 121.3197\n"
     ]
    },
    {
     "output_type": "stream",
     "name": "stderr",
     "text": [
      "Epoch [76/6000]: 100%|██████████| 17/17 [00:00<00:00, 107.00it/s, loss=153]\n"
     ]
    },
    {
     "output_type": "stream",
     "name": "stdout",
     "text": [
      "Epoch [76/6000]: Train loss: 121.1450, Valid loss: 119.0107\n"
     ]
    },
    {
     "output_type": "stream",
     "name": "stderr",
     "text": [
      "Epoch [77/6000]: 100%|██████████| 17/17 [00:00<00:00, 120.35it/s, loss=106]\n"
     ]
    },
    {
     "output_type": "stream",
     "name": "stdout",
     "text": [
      "Epoch [77/6000]: Train loss: 120.3695, Valid loss: 119.1411\n"
     ]
    },
    {
     "output_type": "stream",
     "name": "stderr",
     "text": [
      "Epoch [78/6000]: 100%|██████████| 17/17 [00:00<00:00, 114.46it/s, loss=110]\n"
     ]
    },
    {
     "output_type": "stream",
     "name": "stdout",
     "text": [
      "Epoch [78/6000]: Train loss: 119.9698, Valid loss: 127.2661\n"
     ]
    },
    {
     "output_type": "stream",
     "name": "stderr",
     "text": [
      "Epoch [79/6000]: 100%|██████████| 17/17 [00:00<00:00, 113.77it/s, loss=102]\n"
     ]
    },
    {
     "output_type": "stream",
     "name": "stdout",
     "text": [
      "Epoch [79/6000]: Train loss: 119.4725, Valid loss: 124.2978\n"
     ]
    },
    {
     "output_type": "stream",
     "name": "stderr",
     "text": [
      "Epoch [80/6000]: 100%|██████████| 17/17 [00:00<00:00, 114.23it/s, loss=115]\n"
     ]
    },
    {
     "output_type": "stream",
     "name": "stdout",
     "text": [
      "Epoch [80/6000]: Train loss: 119.1343, Valid loss: 116.8091\n"
     ]
    },
    {
     "output_type": "stream",
     "name": "stderr",
     "text": [
      "Epoch [81/6000]: 100%|██████████| 17/17 [00:00<00:00, 111.59it/s, loss=145]\n"
     ]
    },
    {
     "output_type": "stream",
     "name": "stdout",
     "text": [
      "Epoch [81/6000]: Train loss: 118.9196, Valid loss: 110.2030\n",
      "Saving model with loss 110.203...\n"
     ]
    },
    {
     "output_type": "stream",
     "name": "stderr",
     "text": [
      "Epoch [82/6000]: 100%|██████████| 17/17 [00:00<00:00, 112.06it/s, loss=125]\n"
     ]
    },
    {
     "output_type": "stream",
     "name": "stdout",
     "text": [
      "Epoch [82/6000]: Train loss: 118.3431, Valid loss: 115.6913\n"
     ]
    },
    {
     "output_type": "stream",
     "name": "stderr",
     "text": [
      "Epoch [83/6000]: 100%|██████████| 17/17 [00:00<00:00, 108.49it/s, loss=108]\n"
     ]
    },
    {
     "output_type": "stream",
     "name": "stdout",
     "text": [
      "Epoch [83/6000]: Train loss: 117.7805, Valid loss: 115.3729\n"
     ]
    },
    {
     "output_type": "stream",
     "name": "stderr",
     "text": [
      "Epoch [84/6000]: 100%|██████████| 17/17 [00:00<00:00, 110.21it/s, loss=117]\n"
     ]
    },
    {
     "output_type": "stream",
     "name": "stdout",
     "text": [
      "Epoch [84/6000]: Train loss: 117.4080, Valid loss: 116.2528\n"
     ]
    },
    {
     "output_type": "stream",
     "name": "stderr",
     "text": [
      "Epoch [85/6000]: 100%|██████████| 17/17 [00:00<00:00, 103.80it/s, loss=102]\n"
     ]
    },
    {
     "output_type": "stream",
     "name": "stdout",
     "text": [
      "Epoch [85/6000]: Train loss: 116.8630, Valid loss: 110.9727\n"
     ]
    },
    {
     "output_type": "stream",
     "name": "stderr",
     "text": [
      "Epoch [86/6000]: 100%|██████████| 17/17 [00:00<00:00, 118.83it/s, loss=129]\n"
     ]
    },
    {
     "output_type": "stream",
     "name": "stdout",
     "text": [
      "Epoch [86/6000]: Train loss: 116.6199, Valid loss: 115.0557\n"
     ]
    },
    {
     "output_type": "stream",
     "name": "stderr",
     "text": [
      "Epoch [87/6000]: 100%|██████████| 17/17 [00:00<00:00, 113.07it/s, loss=84.2]\n"
     ]
    },
    {
     "output_type": "stream",
     "name": "stdout",
     "text": [
      "Epoch [87/6000]: Train loss: 115.8592, Valid loss: 121.8375\n"
     ]
    },
    {
     "output_type": "stream",
     "name": "stderr",
     "text": [
      "Epoch [88/6000]: 100%|██████████| 17/17 [00:00<00:00, 118.47it/s, loss=102]\n"
     ]
    },
    {
     "output_type": "stream",
     "name": "stdout",
     "text": [
      "Epoch [88/6000]: Train loss: 115.5491, Valid loss: 110.7144\n"
     ]
    },
    {
     "output_type": "stream",
     "name": "stderr",
     "text": [
      "Epoch [89/6000]: 100%|██████████| 17/17 [00:00<00:00, 131.02it/s, loss=117]\n"
     ]
    },
    {
     "output_type": "stream",
     "name": "stdout",
     "text": [
      "Epoch [89/6000]: Train loss: 115.2178, Valid loss: 107.1345\n",
      "Saving model with loss 107.134...\n"
     ]
    },
    {
     "output_type": "stream",
     "name": "stderr",
     "text": [
      "Epoch [90/6000]: 100%|██████████| 17/17 [00:00<00:00, 118.55it/s, loss=102]\n"
     ]
    },
    {
     "output_type": "stream",
     "name": "stdout",
     "text": [
      "Epoch [90/6000]: Train loss: 114.6745, Valid loss: 119.1218\n"
     ]
    },
    {
     "output_type": "stream",
     "name": "stderr",
     "text": [
      "Epoch [91/6000]: 100%|██████████| 17/17 [00:00<00:00, 110.20it/s, loss=114]\n"
     ]
    },
    {
     "output_type": "stream",
     "name": "stdout",
     "text": [
      "Epoch [91/6000]: Train loss: 114.3211, Valid loss: 117.0112\n"
     ]
    },
    {
     "output_type": "stream",
     "name": "stderr",
     "text": [
      "Epoch [92/6000]: 100%|██████████| 17/17 [00:00<00:00, 118.46it/s, loss=106]\n"
     ]
    },
    {
     "output_type": "stream",
     "name": "stdout",
     "text": [
      "Epoch [92/6000]: Train loss: 113.8269, Valid loss: 111.5355\n"
     ]
    },
    {
     "output_type": "stream",
     "name": "stderr",
     "text": [
      "Epoch [93/6000]: 100%|██████████| 17/17 [00:00<00:00, 125.91it/s, loss=134]\n"
     ]
    },
    {
     "output_type": "stream",
     "name": "stdout",
     "text": [
      "Epoch [93/6000]: Train loss: 113.5932, Valid loss: 110.7304\n"
     ]
    },
    {
     "output_type": "stream",
     "name": "stderr",
     "text": [
      "Epoch [94/6000]: 100%|██████████| 17/17 [00:00<00:00, 133.20it/s, loss=119]\n"
     ]
    },
    {
     "output_type": "stream",
     "name": "stdout",
     "text": [
      "Epoch [94/6000]: Train loss: 113.0474, Valid loss: 111.1313\n"
     ]
    },
    {
     "output_type": "stream",
     "name": "stderr",
     "text": [
      "Epoch [95/6000]: 100%|██████████| 17/17 [00:00<00:00, 125.30it/s, loss=123]\n"
     ]
    },
    {
     "output_type": "stream",
     "name": "stdout",
     "text": [
      "Epoch [95/6000]: Train loss: 112.6425, Valid loss: 113.3789\n"
     ]
    },
    {
     "output_type": "stream",
     "name": "stderr",
     "text": [
      "Epoch [96/6000]: 100%|██████████| 17/17 [00:00<00:00, 127.58it/s, loss=119]\n"
     ]
    },
    {
     "output_type": "stream",
     "name": "stdout",
     "text": [
      "Epoch [96/6000]: Train loss: 112.1708, Valid loss: 106.3977\n",
      "Saving model with loss 106.398...\n"
     ]
    },
    {
     "output_type": "stream",
     "name": "stderr",
     "text": [
      "Epoch [97/6000]: 100%|██████████| 17/17 [00:00<00:00, 125.70it/s, loss=113]\n"
     ]
    },
    {
     "output_type": "stream",
     "name": "stdout",
     "text": [
      "Epoch [97/6000]: Train loss: 111.6907, Valid loss: 108.0851\n"
     ]
    },
    {
     "output_type": "stream",
     "name": "stderr",
     "text": [
      "Epoch [98/6000]: 100%|██████████| 17/17 [00:00<00:00, 114.81it/s, loss=115]\n"
     ]
    },
    {
     "output_type": "stream",
     "name": "stdout",
     "text": [
      "Epoch [98/6000]: Train loss: 111.2676, Valid loss: 110.6165\n"
     ]
    },
    {
     "output_type": "stream",
     "name": "stderr",
     "text": [
      "Epoch [99/6000]: 100%|██████████| 17/17 [00:00<00:00, 133.45it/s, loss=115]\n"
     ]
    },
    {
     "output_type": "stream",
     "name": "stdout",
     "text": [
      "Epoch [99/6000]: Train loss: 110.8329, Valid loss: 116.5784\n"
     ]
    },
    {
     "output_type": "stream",
     "name": "stderr",
     "text": [
      "Epoch [100/6000]: 100%|██████████| 17/17 [00:00<00:00, 120.53it/s, loss=106]\n"
     ]
    },
    {
     "output_type": "stream",
     "name": "stdout",
     "text": [
      "Epoch [100/6000]: Train loss: 110.3267, Valid loss: 110.6733\n"
     ]
    },
    {
     "output_type": "stream",
     "name": "stderr",
     "text": [
      "Epoch [101/6000]: 100%|██████████| 17/17 [00:00<00:00, 125.31it/s, loss=106]\n"
     ]
    },
    {
     "output_type": "stream",
     "name": "stdout",
     "text": [
      "Epoch [101/6000]: Train loss: 109.8928, Valid loss: 114.7801\n"
     ]
    },
    {
     "output_type": "stream",
     "name": "stderr",
     "text": [
      "Epoch [102/6000]: 100%|██████████| 17/17 [00:00<00:00, 120.88it/s, loss=114]\n"
     ]
    },
    {
     "output_type": "stream",
     "name": "stdout",
     "text": [
      "Epoch [102/6000]: Train loss: 109.5124, Valid loss: 103.7265\n",
      "Saving model with loss 103.726...\n"
     ]
    },
    {
     "output_type": "stream",
     "name": "stderr",
     "text": [
      "Epoch [103/6000]: 100%|██████████| 17/17 [00:00<00:00, 106.88it/s, loss=117]\n"
     ]
    },
    {
     "output_type": "stream",
     "name": "stdout",
     "text": [
      "Epoch [103/6000]: Train loss: 109.0967, Valid loss: 107.4260\n"
     ]
    },
    {
     "output_type": "stream",
     "name": "stderr",
     "text": [
      "Epoch [104/6000]: 100%|██████████| 17/17 [00:00<00:00, 120.78it/s, loss=99.9]\n"
     ]
    },
    {
     "output_type": "stream",
     "name": "stdout",
     "text": [
      "Epoch [104/6000]: Train loss: 108.5328, Valid loss: 106.7706\n"
     ]
    },
    {
     "output_type": "stream",
     "name": "stderr",
     "text": [
      "Epoch [105/6000]: 100%|██████████| 17/17 [00:00<00:00, 118.01it/s, loss=123]\n"
     ]
    },
    {
     "output_type": "stream",
     "name": "stdout",
     "text": [
      "Epoch [105/6000]: Train loss: 108.2649, Valid loss: 102.6427\n",
      "Saving model with loss 102.643...\n"
     ]
    },
    {
     "output_type": "stream",
     "name": "stderr",
     "text": [
      "Epoch [106/6000]: 100%|██████████| 17/17 [00:00<00:00, 121.54it/s, loss=108]\n"
     ]
    },
    {
     "output_type": "stream",
     "name": "stdout",
     "text": [
      "Epoch [106/6000]: Train loss: 107.7100, Valid loss: 102.5500\n",
      "Saving model with loss 102.550...\n"
     ]
    },
    {
     "output_type": "stream",
     "name": "stderr",
     "text": [
      "Epoch [107/6000]: 100%|██████████| 17/17 [00:00<00:00, 116.62it/s, loss=129]\n"
     ]
    },
    {
     "output_type": "stream",
     "name": "stdout",
     "text": [
      "Epoch [107/6000]: Train loss: 107.4275, Valid loss: 105.5457\n"
     ]
    },
    {
     "output_type": "stream",
     "name": "stderr",
     "text": [
      "Epoch [108/6000]: 100%|██████████| 17/17 [00:00<00:00, 134.92it/s, loss=110]\n"
     ]
    },
    {
     "output_type": "stream",
     "name": "stdout",
     "text": [
      "Epoch [108/6000]: Train loss: 106.8488, Valid loss: 107.3352\n"
     ]
    },
    {
     "output_type": "stream",
     "name": "stderr",
     "text": [
      "Epoch [109/6000]: 100%|██████████| 17/17 [00:00<00:00, 116.75it/s, loss=87.4]\n"
     ]
    },
    {
     "output_type": "stream",
     "name": "stdout",
     "text": [
      "Epoch [109/6000]: Train loss: 106.2446, Valid loss: 110.1414\n"
     ]
    },
    {
     "output_type": "stream",
     "name": "stderr",
     "text": [
      "Epoch [110/6000]: 100%|██████████| 17/17 [00:00<00:00, 117.00it/s, loss=104]\n"
     ]
    },
    {
     "output_type": "stream",
     "name": "stdout",
     "text": [
      "Epoch [110/6000]: Train loss: 105.9225, Valid loss: 105.9211\n"
     ]
    },
    {
     "output_type": "stream",
     "name": "stderr",
     "text": [
      "Epoch [111/6000]: 100%|██████████| 17/17 [00:00<00:00, 114.28it/s, loss=121]\n"
     ]
    },
    {
     "output_type": "stream",
     "name": "stdout",
     "text": [
      "Epoch [111/6000]: Train loss: 105.6077, Valid loss: 109.3555\n"
     ]
    },
    {
     "output_type": "stream",
     "name": "stderr",
     "text": [
      "Epoch [112/6000]: 100%|██████████| 17/17 [00:00<00:00, 117.36it/s, loss=97.1]\n"
     ]
    },
    {
     "output_type": "stream",
     "name": "stdout",
     "text": [
      "Epoch [112/6000]: Train loss: 104.9953, Valid loss: 103.1084\n"
     ]
    },
    {
     "output_type": "stream",
     "name": "stderr",
     "text": [
      "Epoch [113/6000]: 100%|██████████| 17/17 [00:00<00:00, 120.35it/s, loss=104]\n"
     ]
    },
    {
     "output_type": "stream",
     "name": "stdout",
     "text": [
      "Epoch [113/6000]: Train loss: 104.6014, Valid loss: 98.0559\n",
      "Saving model with loss 98.056...\n"
     ]
    },
    {
     "output_type": "stream",
     "name": "stderr",
     "text": [
      "Epoch [114/6000]: 100%|██████████| 17/17 [00:00<00:00, 120.57it/s, loss=112]\n"
     ]
    },
    {
     "output_type": "stream",
     "name": "stdout",
     "text": [
      "Epoch [114/6000]: Train loss: 104.2218, Valid loss: 103.5047\n"
     ]
    },
    {
     "output_type": "stream",
     "name": "stderr",
     "text": [
      "Epoch [115/6000]: 100%|██████████| 17/17 [00:00<00:00, 114.56it/s, loss=105]\n"
     ]
    },
    {
     "output_type": "stream",
     "name": "stdout",
     "text": [
      "Epoch [115/6000]: Train loss: 103.7282, Valid loss: 95.3709\n",
      "Saving model with loss 95.371...\n"
     ]
    },
    {
     "output_type": "stream",
     "name": "stderr",
     "text": [
      "Epoch [116/6000]: 100%|██████████| 17/17 [00:00<00:00, 119.08it/s, loss=108]\n"
     ]
    },
    {
     "output_type": "stream",
     "name": "stdout",
     "text": [
      "Epoch [116/6000]: Train loss: 103.3063, Valid loss: 96.2250\n"
     ]
    },
    {
     "output_type": "stream",
     "name": "stderr",
     "text": [
      "Epoch [117/6000]: 100%|██████████| 17/17 [00:00<00:00, 121.17it/s, loss=114]\n"
     ]
    },
    {
     "output_type": "stream",
     "name": "stdout",
     "text": [
      "Epoch [117/6000]: Train loss: 102.9063, Valid loss: 105.0484\n"
     ]
    },
    {
     "output_type": "stream",
     "name": "stderr",
     "text": [
      "Epoch [118/6000]: 100%|██████████| 17/17 [00:00<00:00, 118.61it/s, loss=101]\n"
     ]
    },
    {
     "output_type": "stream",
     "name": "stdout",
     "text": [
      "Epoch [118/6000]: Train loss: 102.3624, Valid loss: 97.9475\n"
     ]
    },
    {
     "output_type": "stream",
     "name": "stderr",
     "text": [
      "Epoch [119/6000]: 100%|██████████| 17/17 [00:00<00:00, 122.96it/s, loss=92.8]\n"
     ]
    },
    {
     "output_type": "stream",
     "name": "stdout",
     "text": [
      "Epoch [119/6000]: Train loss: 101.8600, Valid loss: 112.4155\n"
     ]
    },
    {
     "output_type": "stream",
     "name": "stderr",
     "text": [
      "Epoch [120/6000]: 100%|██████████| 17/17 [00:00<00:00, 130.02it/s, loss=127]\n"
     ]
    },
    {
     "output_type": "stream",
     "name": "stdout",
     "text": [
      "Epoch [120/6000]: Train loss: 101.6681, Valid loss: 105.2147\n"
     ]
    },
    {
     "output_type": "stream",
     "name": "stderr",
     "text": [
      "Epoch [121/6000]: 100%|██████████| 17/17 [00:00<00:00, 131.39it/s, loss=105]\n"
     ]
    },
    {
     "output_type": "stream",
     "name": "stdout",
     "text": [
      "Epoch [121/6000]: Train loss: 101.0596, Valid loss: 102.1553\n"
     ]
    },
    {
     "output_type": "stream",
     "name": "stderr",
     "text": [
      "Epoch [122/6000]: 100%|██████████| 17/17 [00:00<00:00, 128.60it/s, loss=86.8]\n"
     ]
    },
    {
     "output_type": "stream",
     "name": "stdout",
     "text": [
      "Epoch [122/6000]: Train loss: 100.4730, Valid loss: 102.1275\n"
     ]
    },
    {
     "output_type": "stream",
     "name": "stderr",
     "text": [
      "Epoch [123/6000]: 100%|██████████| 17/17 [00:00<00:00, 120.01it/s, loss=97.6]\n"
     ]
    },
    {
     "output_type": "stream",
     "name": "stdout",
     "text": [
      "Epoch [123/6000]: Train loss: 100.1037, Valid loss: 99.6804\n"
     ]
    },
    {
     "output_type": "stream",
     "name": "stderr",
     "text": [
      "Epoch [124/6000]: 100%|██████████| 17/17 [00:00<00:00, 117.92it/s, loss=85.1]\n"
     ]
    },
    {
     "output_type": "stream",
     "name": "stdout",
     "text": [
      "Epoch [124/6000]: Train loss: 99.5611, Valid loss: 103.0205\n"
     ]
    },
    {
     "output_type": "stream",
     "name": "stderr",
     "text": [
      "Epoch [125/6000]: 100%|██████████| 17/17 [00:00<00:00, 123.10it/s, loss=90.8]\n"
     ]
    },
    {
     "output_type": "stream",
     "name": "stdout",
     "text": [
      "Epoch [125/6000]: Train loss: 99.1527, Valid loss: 101.0541\n"
     ]
    },
    {
     "output_type": "stream",
     "name": "stderr",
     "text": [
      "Epoch [126/6000]: 100%|██████████| 17/17 [00:00<00:00, 102.81it/s, loss=125]\n"
     ]
    },
    {
     "output_type": "stream",
     "name": "stdout",
     "text": [
      "Epoch [126/6000]: Train loss: 98.9469, Valid loss: 108.3076\n"
     ]
    },
    {
     "output_type": "stream",
     "name": "stderr",
     "text": [
      "Epoch [127/6000]: 100%|██████████| 17/17 [00:00<00:00, 97.28it/s, loss=121]\n"
     ]
    },
    {
     "output_type": "stream",
     "name": "stdout",
     "text": [
      "Epoch [127/6000]: Train loss: 98.4714, Valid loss: 102.0974\n"
     ]
    },
    {
     "output_type": "stream",
     "name": "stderr",
     "text": [
      "Epoch [128/6000]: 100%|██████████| 17/17 [00:00<00:00, 104.76it/s, loss=103]\n"
     ]
    },
    {
     "output_type": "stream",
     "name": "stdout",
     "text": [
      "Epoch [128/6000]: Train loss: 97.8871, Valid loss: 98.2117\n"
     ]
    },
    {
     "output_type": "stream",
     "name": "stderr",
     "text": [
      "Epoch [129/6000]: 100%|██████████| 17/17 [00:00<00:00, 121.68it/s, loss=102]\n"
     ]
    },
    {
     "output_type": "stream",
     "name": "stdout",
     "text": [
      "Epoch [129/6000]: Train loss: 97.4263, Valid loss: 94.8631\n",
      "Saving model with loss 94.863...\n"
     ]
    },
    {
     "output_type": "stream",
     "name": "stderr",
     "text": [
      "Epoch [130/6000]: 100%|██████████| 17/17 [00:00<00:00, 109.14it/s, loss=64.5]\n"
     ]
    },
    {
     "output_type": "stream",
     "name": "stdout",
     "text": [
      "Epoch [130/6000]: Train loss: 96.6959, Valid loss: 90.3095\n",
      "Saving model with loss 90.310...\n"
     ]
    },
    {
     "output_type": "stream",
     "name": "stderr",
     "text": [
      "Epoch [131/6000]: 100%|██████████| 17/17 [00:00<00:00, 103.60it/s, loss=80]\n"
     ]
    },
    {
     "output_type": "stream",
     "name": "stdout",
     "text": [
      "Epoch [131/6000]: Train loss: 96.3480, Valid loss: 100.0036\n"
     ]
    },
    {
     "output_type": "stream",
     "name": "stderr",
     "text": [
      "Epoch [132/6000]: 100%|██████████| 17/17 [00:00<00:00, 120.86it/s, loss=105]\n"
     ]
    },
    {
     "output_type": "stream",
     "name": "stdout",
     "text": [
      "Epoch [132/6000]: Train loss: 96.0774, Valid loss: 91.7621\n"
     ]
    },
    {
     "output_type": "stream",
     "name": "stderr",
     "text": [
      "Epoch [133/6000]: 100%|██████████| 17/17 [00:00<00:00, 120.77it/s, loss=89.4]\n"
     ]
    },
    {
     "output_type": "stream",
     "name": "stdout",
     "text": [
      "Epoch [133/6000]: Train loss: 95.5070, Valid loss: 93.0992\n"
     ]
    },
    {
     "output_type": "stream",
     "name": "stderr",
     "text": [
      "Epoch [134/6000]: 100%|██████████| 17/17 [00:00<00:00, 115.79it/s, loss=88.4]\n"
     ]
    },
    {
     "output_type": "stream",
     "name": "stdout",
     "text": [
      "Epoch [134/6000]: Train loss: 95.0398, Valid loss: 102.1146\n"
     ]
    },
    {
     "output_type": "stream",
     "name": "stderr",
     "text": [
      "Epoch [135/6000]: 100%|██████████| 17/17 [00:00<00:00, 122.63it/s, loss=109]\n"
     ]
    },
    {
     "output_type": "stream",
     "name": "stdout",
     "text": [
      "Epoch [135/6000]: Train loss: 94.7316, Valid loss: 92.8065\n"
     ]
    },
    {
     "output_type": "stream",
     "name": "stderr",
     "text": [
      "Epoch [136/6000]: 100%|██████████| 17/17 [00:00<00:00, 124.95it/s, loss=99.9]\n"
     ]
    },
    {
     "output_type": "stream",
     "name": "stdout",
     "text": [
      "Epoch [136/6000]: Train loss: 94.2074, Valid loss: 92.7307\n"
     ]
    },
    {
     "output_type": "stream",
     "name": "stderr",
     "text": [
      "Epoch [137/6000]: 100%|██████████| 17/17 [00:00<00:00, 118.57it/s, loss=104]\n"
     ]
    },
    {
     "output_type": "stream",
     "name": "stdout",
     "text": [
      "Epoch [137/6000]: Train loss: 93.7737, Valid loss: 93.4101\n"
     ]
    },
    {
     "output_type": "stream",
     "name": "stderr",
     "text": [
      "Epoch [138/6000]: 100%|██████████| 17/17 [00:00<00:00, 113.62it/s, loss=109]\n"
     ]
    },
    {
     "output_type": "stream",
     "name": "stdout",
     "text": [
      "Epoch [138/6000]: Train loss: 93.3527, Valid loss: 98.7931\n"
     ]
    },
    {
     "output_type": "stream",
     "name": "stderr",
     "text": [
      "Epoch [139/6000]: 100%|██████████| 17/17 [00:00<00:00, 117.50it/s, loss=95]\n"
     ]
    },
    {
     "output_type": "stream",
     "name": "stdout",
     "text": [
      "Epoch [139/6000]: Train loss: 92.7882, Valid loss: 89.2133\n",
      "Saving model with loss 89.213...\n"
     ]
    },
    {
     "output_type": "stream",
     "name": "stderr",
     "text": [
      "Epoch [140/6000]: 100%|██████████| 17/17 [00:00<00:00, 115.58it/s, loss=103]\n"
     ]
    },
    {
     "output_type": "stream",
     "name": "stdout",
     "text": [
      "Epoch [140/6000]: Train loss: 92.3859, Valid loss: 88.6658\n",
      "Saving model with loss 88.666...\n"
     ]
    },
    {
     "output_type": "stream",
     "name": "stderr",
     "text": [
      "Epoch [141/6000]: 100%|██████████| 17/17 [00:00<00:00, 120.00it/s, loss=88.4]\n"
     ]
    },
    {
     "output_type": "stream",
     "name": "stdout",
     "text": [
      "Epoch [141/6000]: Train loss: 91.8118, Valid loss: 89.0745\n"
     ]
    },
    {
     "output_type": "stream",
     "name": "stderr",
     "text": [
      "Epoch [142/6000]: 100%|██████████| 17/17 [00:00<00:00, 123.74it/s, loss=91.4]\n"
     ]
    },
    {
     "output_type": "stream",
     "name": "stdout",
     "text": [
      "Epoch [142/6000]: Train loss: 91.3706, Valid loss: 90.6249\n"
     ]
    },
    {
     "output_type": "stream",
     "name": "stderr",
     "text": [
      "Epoch [143/6000]: 100%|██████████| 17/17 [00:00<00:00, 116.68it/s, loss=82.9]\n"
     ]
    },
    {
     "output_type": "stream",
     "name": "stdout",
     "text": [
      "Epoch [143/6000]: Train loss: 90.8442, Valid loss: 99.7044\n"
     ]
    },
    {
     "output_type": "stream",
     "name": "stderr",
     "text": [
      "Epoch [144/6000]: 100%|██████████| 17/17 [00:00<00:00, 108.63it/s, loss=104]\n"
     ]
    },
    {
     "output_type": "stream",
     "name": "stdout",
     "text": [
      "Epoch [144/6000]: Train loss: 90.5306, Valid loss: 89.2181\n"
     ]
    },
    {
     "output_type": "stream",
     "name": "stderr",
     "text": [
      "Epoch [145/6000]: 100%|██████████| 17/17 [00:00<00:00, 107.51it/s, loss=68.6]\n"
     ]
    },
    {
     "output_type": "stream",
     "name": "stdout",
     "text": [
      "Epoch [145/6000]: Train loss: 89.8085, Valid loss: 91.9824\n"
     ]
    },
    {
     "output_type": "stream",
     "name": "stderr",
     "text": [
      "Epoch [146/6000]: 100%|██████████| 17/17 [00:00<00:00, 111.90it/s, loss=93.6]\n"
     ]
    },
    {
     "output_type": "stream",
     "name": "stdout",
     "text": [
      "Epoch [146/6000]: Train loss: 89.5270, Valid loss: 86.4124\n",
      "Saving model with loss 86.412...\n"
     ]
    },
    {
     "output_type": "stream",
     "name": "stderr",
     "text": [
      "Epoch [147/6000]: 100%|██████████| 17/17 [00:00<00:00, 101.55it/s, loss=80.4]\n"
     ]
    },
    {
     "output_type": "stream",
     "name": "stdout",
     "text": [
      "Epoch [147/6000]: Train loss: 88.9635, Valid loss: 94.2396\n"
     ]
    },
    {
     "output_type": "stream",
     "name": "stderr",
     "text": [
      "Epoch [148/6000]: 100%|██████████| 17/17 [00:00<00:00, 119.92it/s, loss=97.2]\n"
     ]
    },
    {
     "output_type": "stream",
     "name": "stdout",
     "text": [
      "Epoch [148/6000]: Train loss: 88.6150, Valid loss: 95.9039\n"
     ]
    },
    {
     "output_type": "stream",
     "name": "stderr",
     "text": [
      "Epoch [149/6000]: 100%|██████████| 17/17 [00:00<00:00, 113.63it/s, loss=100]\n"
     ]
    },
    {
     "output_type": "stream",
     "name": "stdout",
     "text": [
      "Epoch [149/6000]: Train loss: 88.1764, Valid loss: 93.2222\n"
     ]
    },
    {
     "output_type": "stream",
     "name": "stderr",
     "text": [
      "Epoch [150/6000]: 100%|██████████| 17/17 [00:00<00:00, 116.18it/s, loss=80.8]\n"
     ]
    },
    {
     "output_type": "stream",
     "name": "stdout",
     "text": [
      "Epoch [150/6000]: Train loss: 87.5633, Valid loss: 86.5743\n"
     ]
    },
    {
     "output_type": "stream",
     "name": "stderr",
     "text": [
      "Epoch [151/6000]: 100%|██████████| 17/17 [00:00<00:00, 105.79it/s, loss=84.7]\n"
     ]
    },
    {
     "output_type": "stream",
     "name": "stdout",
     "text": [
      "Epoch [151/6000]: Train loss: 87.1230, Valid loss: 85.6688\n",
      "Saving model with loss 85.669...\n"
     ]
    },
    {
     "output_type": "stream",
     "name": "stderr",
     "text": [
      "Epoch [152/6000]: 100%|██████████| 17/17 [00:00<00:00, 114.89it/s, loss=76.4]\n"
     ]
    },
    {
     "output_type": "stream",
     "name": "stdout",
     "text": [
      "Epoch [152/6000]: Train loss: 86.5975, Valid loss: 85.1715\n",
      "Saving model with loss 85.172...\n"
     ]
    },
    {
     "output_type": "stream",
     "name": "stderr",
     "text": [
      "Epoch [153/6000]: 100%|██████████| 17/17 [00:00<00:00, 108.23it/s, loss=116]\n"
     ]
    },
    {
     "output_type": "stream",
     "name": "stdout",
     "text": [
      "Epoch [153/6000]: Train loss: 86.4157, Valid loss: 86.6979\n"
     ]
    },
    {
     "output_type": "stream",
     "name": "stderr",
     "text": [
      "Epoch [154/6000]: 100%|██████████| 17/17 [00:00<00:00, 109.91it/s, loss=72.7]\n"
     ]
    },
    {
     "output_type": "stream",
     "name": "stdout",
     "text": [
      "Epoch [154/6000]: Train loss: 85.6308, Valid loss: 90.6092\n"
     ]
    },
    {
     "output_type": "stream",
     "name": "stderr",
     "text": [
      "Epoch [155/6000]: 100%|██████████| 17/17 [00:00<00:00, 114.03it/s, loss=94.5]\n"
     ]
    },
    {
     "output_type": "stream",
     "name": "stdout",
     "text": [
      "Epoch [155/6000]: Train loss: 85.3195, Valid loss: 82.6929\n",
      "Saving model with loss 82.693...\n"
     ]
    },
    {
     "output_type": "stream",
     "name": "stderr",
     "text": [
      "Epoch [156/6000]: 100%|██████████| 17/17 [00:00<00:00, 117.23it/s, loss=85.3]\n"
     ]
    },
    {
     "output_type": "stream",
     "name": "stdout",
     "text": [
      "Epoch [156/6000]: Train loss: 84.7832, Valid loss: 89.5755\n"
     ]
    },
    {
     "output_type": "stream",
     "name": "stderr",
     "text": [
      "Epoch [157/6000]: 100%|██████████| 17/17 [00:00<00:00, 116.51it/s, loss=98.6]\n"
     ]
    },
    {
     "output_type": "stream",
     "name": "stdout",
     "text": [
      "Epoch [157/6000]: Train loss: 84.4124, Valid loss: 83.4448\n"
     ]
    },
    {
     "output_type": "stream",
     "name": "stderr",
     "text": [
      "Epoch [158/6000]: 100%|██████████| 17/17 [00:00<00:00, 126.38it/s, loss=87.3]\n"
     ]
    },
    {
     "output_type": "stream",
     "name": "stdout",
     "text": [
      "Epoch [158/6000]: Train loss: 83.8593, Valid loss: 86.6116\n"
     ]
    },
    {
     "output_type": "stream",
     "name": "stderr",
     "text": [
      "Epoch [159/6000]: 100%|██████████| 17/17 [00:00<00:00, 125.52it/s, loss=72.5]\n"
     ]
    },
    {
     "output_type": "stream",
     "name": "stdout",
     "text": [
      "Epoch [159/6000]: Train loss: 83.2774, Valid loss: 85.7853\n"
     ]
    },
    {
     "output_type": "stream",
     "name": "stderr",
     "text": [
      "Epoch [160/6000]: 100%|██████████| 17/17 [00:00<00:00, 108.64it/s, loss=64.8]\n"
     ]
    },
    {
     "output_type": "stream",
     "name": "stdout",
     "text": [
      "Epoch [160/6000]: Train loss: 82.7548, Valid loss: 89.2205\n"
     ]
    },
    {
     "output_type": "stream",
     "name": "stderr",
     "text": [
      "Epoch [161/6000]: 100%|██████████| 17/17 [00:00<00:00, 109.96it/s, loss=93.3]\n"
     ]
    },
    {
     "output_type": "stream",
     "name": "stdout",
     "text": [
      "Epoch [161/6000]: Train loss: 82.4923, Valid loss: 75.7787\n",
      "Saving model with loss 75.779...\n"
     ]
    },
    {
     "output_type": "stream",
     "name": "stderr",
     "text": [
      "Epoch [162/6000]: 100%|██████████| 17/17 [00:00<00:00, 105.11it/s, loss=66.2]\n"
     ]
    },
    {
     "output_type": "stream",
     "name": "stdout",
     "text": [
      "Epoch [162/6000]: Train loss: 81.8255, Valid loss: 79.2758\n"
     ]
    },
    {
     "output_type": "stream",
     "name": "stderr",
     "text": [
      "Epoch [163/6000]: 100%|██████████| 17/17 [00:00<00:00, 125.53it/s, loss=82.1]\n"
     ]
    },
    {
     "output_type": "stream",
     "name": "stdout",
     "text": [
      "Epoch [163/6000]: Train loss: 81.4716, Valid loss: 79.3511\n"
     ]
    },
    {
     "output_type": "stream",
     "name": "stderr",
     "text": [
      "Epoch [164/6000]: 100%|██████████| 17/17 [00:00<00:00, 117.06it/s, loss=79]\n"
     ]
    },
    {
     "output_type": "stream",
     "name": "stdout",
     "text": [
      "Epoch [164/6000]: Train loss: 80.9774, Valid loss: 86.8327\n"
     ]
    },
    {
     "output_type": "stream",
     "name": "stderr",
     "text": [
      "Epoch [165/6000]: 100%|██████████| 17/17 [00:00<00:00, 106.77it/s, loss=76.2]\n"
     ]
    },
    {
     "output_type": "stream",
     "name": "stdout",
     "text": [
      "Epoch [165/6000]: Train loss: 80.4904, Valid loss: 84.4152\n"
     ]
    },
    {
     "output_type": "stream",
     "name": "stderr",
     "text": [
      "Epoch [166/6000]: 100%|██████████| 17/17 [00:00<00:00, 102.13it/s, loss=82.1]\n"
     ]
    },
    {
     "output_type": "stream",
     "name": "stdout",
     "text": [
      "Epoch [166/6000]: Train loss: 80.0604, Valid loss: 78.7188\n"
     ]
    },
    {
     "output_type": "stream",
     "name": "stderr",
     "text": [
      "Epoch [167/6000]: 100%|██████████| 17/17 [00:00<00:00, 108.37it/s, loss=82.2]\n"
     ]
    },
    {
     "output_type": "stream",
     "name": "stdout",
     "text": [
      "Epoch [167/6000]: Train loss: 79.5946, Valid loss: 86.6771\n"
     ]
    },
    {
     "output_type": "stream",
     "name": "stderr",
     "text": [
      "Epoch [168/6000]: 100%|██████████| 17/17 [00:00<00:00, 115.54it/s, loss=65.2]\n"
     ]
    },
    {
     "output_type": "stream",
     "name": "stdout",
     "text": [
      "Epoch [168/6000]: Train loss: 79.0020, Valid loss: 79.2412\n"
     ]
    },
    {
     "output_type": "stream",
     "name": "stderr",
     "text": [
      "Epoch [169/6000]: 100%|██████████| 17/17 [00:00<00:00, 114.53it/s, loss=97.4]\n"
     ]
    },
    {
     "output_type": "stream",
     "name": "stdout",
     "text": [
      "Epoch [169/6000]: Train loss: 78.7634, Valid loss: 77.0464\n"
     ]
    },
    {
     "output_type": "stream",
     "name": "stderr",
     "text": [
      "Epoch [170/6000]: 100%|██████████| 17/17 [00:00<00:00, 123.74it/s, loss=80.3]\n"
     ]
    },
    {
     "output_type": "stream",
     "name": "stdout",
     "text": [
      "Epoch [170/6000]: Train loss: 78.1738, Valid loss: 79.1172\n"
     ]
    },
    {
     "output_type": "stream",
     "name": "stderr",
     "text": [
      "Epoch [171/6000]: 100%|██████████| 17/17 [00:00<00:00, 113.57it/s, loss=91.1]\n"
     ]
    },
    {
     "output_type": "stream",
     "name": "stdout",
     "text": [
      "Epoch [171/6000]: Train loss: 77.7826, Valid loss: 77.5017\n"
     ]
    },
    {
     "output_type": "stream",
     "name": "stderr",
     "text": [
      "Epoch [172/6000]: 100%|██████████| 17/17 [00:00<00:00, 124.21it/s, loss=80.1]\n"
     ]
    },
    {
     "output_type": "stream",
     "name": "stdout",
     "text": [
      "Epoch [172/6000]: Train loss: 77.2344, Valid loss: 72.5976\n",
      "Saving model with loss 72.598...\n"
     ]
    },
    {
     "output_type": "stream",
     "name": "stderr",
     "text": [
      "Epoch [173/6000]: 100%|██████████| 17/17 [00:00<00:00, 117.35it/s, loss=69.6]\n"
     ]
    },
    {
     "output_type": "stream",
     "name": "stdout",
     "text": [
      "Epoch [173/6000]: Train loss: 76.6880, Valid loss: 80.0065\n"
     ]
    },
    {
     "output_type": "stream",
     "name": "stderr",
     "text": [
      "Epoch [174/6000]: 100%|██████████| 17/17 [00:00<00:00, 115.61it/s, loss=69.5]\n"
     ]
    },
    {
     "output_type": "stream",
     "name": "stdout",
     "text": [
      "Epoch [174/6000]: Train loss: 76.2203, Valid loss: 77.6563\n"
     ]
    },
    {
     "output_type": "stream",
     "name": "stderr",
     "text": [
      "Epoch [175/6000]: 100%|██████████| 17/17 [00:00<00:00, 110.19it/s, loss=77.1]\n"
     ]
    },
    {
     "output_type": "stream",
     "name": "stdout",
     "text": [
      "Epoch [175/6000]: Train loss: 75.8096, Valid loss: 78.1598\n"
     ]
    },
    {
     "output_type": "stream",
     "name": "stderr",
     "text": [
      "Epoch [176/6000]: 100%|██████████| 17/17 [00:00<00:00, 112.62it/s, loss=86.2]\n"
     ]
    },
    {
     "output_type": "stream",
     "name": "stdout",
     "text": [
      "Epoch [176/6000]: Train loss: 75.4093, Valid loss: 72.5284\n",
      "Saving model with loss 72.528...\n"
     ]
    },
    {
     "output_type": "stream",
     "name": "stderr",
     "text": [
      "Epoch [177/6000]: 100%|██████████| 17/17 [00:00<00:00, 106.87it/s, loss=107]\n"
     ]
    },
    {
     "output_type": "stream",
     "name": "stdout",
     "text": [
      "Epoch [177/6000]: Train loss: 75.0954, Valid loss: 74.8124\n"
     ]
    },
    {
     "output_type": "stream",
     "name": "stderr",
     "text": [
      "Epoch [178/6000]: 100%|██████████| 17/17 [00:00<00:00, 122.14it/s, loss=73.5]\n"
     ]
    },
    {
     "output_type": "stream",
     "name": "stdout",
     "text": [
      "Epoch [178/6000]: Train loss: 74.3890, Valid loss: 74.3314\n"
     ]
    },
    {
     "output_type": "stream",
     "name": "stderr",
     "text": [
      "Epoch [179/6000]: 100%|██████████| 17/17 [00:00<00:00, 116.05it/s, loss=74.9]\n"
     ]
    },
    {
     "output_type": "stream",
     "name": "stdout",
     "text": [
      "Epoch [179/6000]: Train loss: 73.9280, Valid loss: 70.0734\n",
      "Saving model with loss 70.073...\n"
     ]
    },
    {
     "output_type": "stream",
     "name": "stderr",
     "text": [
      "Epoch [180/6000]: 100%|██████████| 17/17 [00:00<00:00, 122.64it/s, loss=72.3]\n"
     ]
    },
    {
     "output_type": "stream",
     "name": "stdout",
     "text": [
      "Epoch [180/6000]: Train loss: 73.4470, Valid loss: 75.2027\n"
     ]
    },
    {
     "output_type": "stream",
     "name": "stderr",
     "text": [
      "Epoch [181/6000]: 100%|██████████| 17/17 [00:00<00:00, 109.63it/s, loss=80.9]\n"
     ]
    },
    {
     "output_type": "stream",
     "name": "stdout",
     "text": [
      "Epoch [181/6000]: Train loss: 73.0448, Valid loss: 74.6246\n"
     ]
    },
    {
     "output_type": "stream",
     "name": "stderr",
     "text": [
      "Epoch [182/6000]: 100%|██████████| 17/17 [00:00<00:00, 112.03it/s, loss=85.4]\n"
     ]
    },
    {
     "output_type": "stream",
     "name": "stdout",
     "text": [
      "Epoch [182/6000]: Train loss: 72.6164, Valid loss: 69.0627\n",
      "Saving model with loss 69.063...\n"
     ]
    },
    {
     "output_type": "stream",
     "name": "stderr",
     "text": [
      "Epoch [183/6000]: 100%|██████████| 17/17 [00:00<00:00, 115.82it/s, loss=79.3]\n"
     ]
    },
    {
     "output_type": "stream",
     "name": "stdout",
     "text": [
      "Epoch [183/6000]: Train loss: 72.1049, Valid loss: 69.2888\n"
     ]
    },
    {
     "output_type": "stream",
     "name": "stderr",
     "text": [
      "Epoch [184/6000]: 100%|██████████| 17/17 [00:00<00:00, 96.60it/s, loss=73.3]\n"
     ]
    },
    {
     "output_type": "stream",
     "name": "stdout",
     "text": [
      "Epoch [184/6000]: Train loss: 71.6029, Valid loss: 73.0307\n"
     ]
    },
    {
     "output_type": "stream",
     "name": "stderr",
     "text": [
      "Epoch [185/6000]: 100%|██████████| 17/17 [00:00<00:00, 113.05it/s, loss=61.8]\n"
     ]
    },
    {
     "output_type": "stream",
     "name": "stdout",
     "text": [
      "Epoch [185/6000]: Train loss: 71.0593, Valid loss: 71.0048\n"
     ]
    },
    {
     "output_type": "stream",
     "name": "stderr",
     "text": [
      "Epoch [186/6000]: 100%|██████████| 17/17 [00:00<00:00, 109.27it/s, loss=68.4]\n"
     ]
    },
    {
     "output_type": "stream",
     "name": "stdout",
     "text": [
      "Epoch [186/6000]: Train loss: 70.6467, Valid loss: 66.3364\n",
      "Saving model with loss 66.336...\n"
     ]
    },
    {
     "output_type": "stream",
     "name": "stderr",
     "text": [
      "Epoch [187/6000]: 100%|██████████| 17/17 [00:00<00:00, 120.71it/s, loss=69.1]\n"
     ]
    },
    {
     "output_type": "stream",
     "name": "stdout",
     "text": [
      "Epoch [187/6000]: Train loss: 70.1904, Valid loss: 72.1608\n"
     ]
    },
    {
     "output_type": "stream",
     "name": "stderr",
     "text": [
      "Epoch [188/6000]: 100%|██████████| 17/17 [00:00<00:00, 111.51it/s, loss=49.6]\n"
     ]
    },
    {
     "output_type": "stream",
     "name": "stdout",
     "text": [
      "Epoch [188/6000]: Train loss: 69.5883, Valid loss: 67.7733\n"
     ]
    },
    {
     "output_type": "stream",
     "name": "stderr",
     "text": [
      "Epoch [189/6000]: 100%|██████████| 17/17 [00:00<00:00, 110.89it/s, loss=62.2]\n"
     ]
    },
    {
     "output_type": "stream",
     "name": "stdout",
     "text": [
      "Epoch [189/6000]: Train loss: 69.2255, Valid loss: 72.9459\n"
     ]
    },
    {
     "output_type": "stream",
     "name": "stderr",
     "text": [
      "Epoch [190/6000]: 100%|██████████| 17/17 [00:00<00:00, 114.84it/s, loss=73.4]\n"
     ]
    },
    {
     "output_type": "stream",
     "name": "stdout",
     "text": [
      "Epoch [190/6000]: Train loss: 68.8529, Valid loss: 65.3908\n",
      "Saving model with loss 65.391...\n"
     ]
    },
    {
     "output_type": "stream",
     "name": "stderr",
     "text": [
      "Epoch [191/6000]: 100%|██████████| 17/17 [00:00<00:00, 127.92it/s, loss=70.2]\n"
     ]
    },
    {
     "output_type": "stream",
     "name": "stdout",
     "text": [
      "Epoch [191/6000]: Train loss: 68.3762, Valid loss: 70.4225\n"
     ]
    },
    {
     "output_type": "stream",
     "name": "stderr",
     "text": [
      "Epoch [192/6000]: 100%|██████████| 17/17 [00:00<00:00, 121.13it/s, loss=56.3]\n"
     ]
    },
    {
     "output_type": "stream",
     "name": "stdout",
     "text": [
      "Epoch [192/6000]: Train loss: 67.8164, Valid loss: 68.9760\n"
     ]
    },
    {
     "output_type": "stream",
     "name": "stderr",
     "text": [
      "Epoch [193/6000]: 100%|██████████| 17/17 [00:00<00:00, 106.77it/s, loss=70.9]\n"
     ]
    },
    {
     "output_type": "stream",
     "name": "stdout",
     "text": [
      "Epoch [193/6000]: Train loss: 67.4695, Valid loss: 68.1796\n"
     ]
    },
    {
     "output_type": "stream",
     "name": "stderr",
     "text": [
      "Epoch [194/6000]: 100%|██████████| 17/17 [00:00<00:00, 117.87it/s, loss=68]\n"
     ]
    },
    {
     "output_type": "stream",
     "name": "stdout",
     "text": [
      "Epoch [194/6000]: Train loss: 66.9993, Valid loss: 65.4557\n"
     ]
    },
    {
     "output_type": "stream",
     "name": "stderr",
     "text": [
      "Epoch [195/6000]: 100%|██████████| 17/17 [00:00<00:00, 121.86it/s, loss=71.5]\n"
     ]
    },
    {
     "output_type": "stream",
     "name": "stdout",
     "text": [
      "Epoch [195/6000]: Train loss: 66.5714, Valid loss: 67.7579\n"
     ]
    },
    {
     "output_type": "stream",
     "name": "stderr",
     "text": [
      "Epoch [196/6000]: 100%|██████████| 17/17 [00:00<00:00, 95.84it/s, loss=60.6] \n"
     ]
    },
    {
     "output_type": "stream",
     "name": "stdout",
     "text": [
      "Epoch [196/6000]: Train loss: 66.0411, Valid loss: 63.8178\n",
      "Saving model with loss 63.818...\n"
     ]
    },
    {
     "output_type": "stream",
     "name": "stderr",
     "text": [
      "Epoch [197/6000]: 100%|██████████| 17/17 [00:00<00:00, 109.16it/s, loss=48.9]\n"
     ]
    },
    {
     "output_type": "stream",
     "name": "stdout",
     "text": [
      "Epoch [197/6000]: Train loss: 65.5090, Valid loss: 67.9151\n"
     ]
    },
    {
     "output_type": "stream",
     "name": "stderr",
     "text": [
      "Epoch [198/6000]: 100%|██████████| 17/17 [00:00<00:00, 104.36it/s, loss=53.6]\n"
     ]
    },
    {
     "output_type": "stream",
     "name": "stdout",
     "text": [
      "Epoch [198/6000]: Train loss: 65.0937, Valid loss: 69.8379\n"
     ]
    },
    {
     "output_type": "stream",
     "name": "stderr",
     "text": [
      "Epoch [199/6000]: 100%|██████████| 17/17 [00:00<00:00, 99.28it/s, loss=60.4]\n"
     ]
    },
    {
     "output_type": "stream",
     "name": "stdout",
     "text": [
      "Epoch [199/6000]: Train loss: 64.6949, Valid loss: 65.5609\n"
     ]
    },
    {
     "output_type": "stream",
     "name": "stderr",
     "text": [
      "Epoch [200/6000]: 100%|██████████| 17/17 [00:00<00:00, 113.85it/s, loss=71.4]\n"
     ]
    },
    {
     "output_type": "stream",
     "name": "stdout",
     "text": [
      "Epoch [200/6000]: Train loss: 64.3338, Valid loss: 68.9683\n"
     ]
    },
    {
     "output_type": "stream",
     "name": "stderr",
     "text": [
      "Epoch [201/6000]: 100%|██████████| 17/17 [00:00<00:00, 100.09it/s, loss=61.3]\n"
     ]
    },
    {
     "output_type": "stream",
     "name": "stdout",
     "text": [
      "Epoch [201/6000]: Train loss: 63.8139, Valid loss: 65.3283\n"
     ]
    },
    {
     "output_type": "stream",
     "name": "stderr",
     "text": [
      "Epoch [202/6000]: 100%|██████████| 17/17 [00:00<00:00, 118.95it/s, loss=80.3]\n"
     ]
    },
    {
     "output_type": "stream",
     "name": "stdout",
     "text": [
      "Epoch [202/6000]: Train loss: 63.5103, Valid loss: 61.3047\n",
      "Saving model with loss 61.305...\n"
     ]
    },
    {
     "output_type": "stream",
     "name": "stderr",
     "text": [
      "Epoch [203/6000]: 100%|██████████| 17/17 [00:00<00:00, 100.54it/s, loss=61.4]\n"
     ]
    },
    {
     "output_type": "stream",
     "name": "stdout",
     "text": [
      "Epoch [203/6000]: Train loss: 62.9313, Valid loss: 61.0803\n",
      "Saving model with loss 61.080...\n"
     ]
    },
    {
     "output_type": "stream",
     "name": "stderr",
     "text": [
      "Epoch [204/6000]: 100%|██████████| 17/17 [00:00<00:00, 104.26it/s, loss=65.6]\n"
     ]
    },
    {
     "output_type": "stream",
     "name": "stdout",
     "text": [
      "Epoch [204/6000]: Train loss: 62.5228, Valid loss: 64.2423\n"
     ]
    },
    {
     "output_type": "stream",
     "name": "stderr",
     "text": [
      "Epoch [205/6000]: 100%|██████████| 17/17 [00:00<00:00, 118.74it/s, loss=80.5]\n"
     ]
    },
    {
     "output_type": "stream",
     "name": "stdout",
     "text": [
      "Epoch [205/6000]: Train loss: 62.1910, Valid loss: 58.7138\n",
      "Saving model with loss 58.714...\n"
     ]
    },
    {
     "output_type": "stream",
     "name": "stderr",
     "text": [
      "Epoch [206/6000]: 100%|██████████| 17/17 [00:00<00:00, 110.28it/s, loss=67.6]\n"
     ]
    },
    {
     "output_type": "stream",
     "name": "stdout",
     "text": [
      "Epoch [206/6000]: Train loss: 61.6584, Valid loss: 59.5227\n"
     ]
    },
    {
     "output_type": "stream",
     "name": "stderr",
     "text": [
      "Epoch [207/6000]: 100%|██████████| 17/17 [00:00<00:00, 112.85it/s, loss=55.2]\n"
     ]
    },
    {
     "output_type": "stream",
     "name": "stdout",
     "text": [
      "Epoch [207/6000]: Train loss: 61.1331, Valid loss: 66.5695\n"
     ]
    },
    {
     "output_type": "stream",
     "name": "stderr",
     "text": [
      "Epoch [208/6000]: 100%|██████████| 17/17 [00:00<00:00, 111.13it/s, loss=84.9]\n"
     ]
    },
    {
     "output_type": "stream",
     "name": "stdout",
     "text": [
      "Epoch [208/6000]: Train loss: 60.9182, Valid loss: 60.0177\n"
     ]
    },
    {
     "output_type": "stream",
     "name": "stderr",
     "text": [
      "Epoch [209/6000]: 100%|██████████| 17/17 [00:00<00:00, 99.32it/s, loss=59] \n"
     ]
    },
    {
     "output_type": "stream",
     "name": "stdout",
     "text": [
      "Epoch [209/6000]: Train loss: 60.2944, Valid loss: 64.5170\n"
     ]
    },
    {
     "output_type": "stream",
     "name": "stderr",
     "text": [
      "Epoch [210/6000]: 100%|██████████| 17/17 [00:00<00:00, 117.70it/s, loss=69]\n"
     ]
    },
    {
     "output_type": "stream",
     "name": "stdout",
     "text": [
      "Epoch [210/6000]: Train loss: 59.9324, Valid loss: 59.1914\n"
     ]
    },
    {
     "output_type": "stream",
     "name": "stderr",
     "text": [
      "Epoch [211/6000]: 100%|██████████| 17/17 [00:00<00:00, 128.34it/s, loss=51.7]\n"
     ]
    },
    {
     "output_type": "stream",
     "name": "stdout",
     "text": [
      "Epoch [211/6000]: Train loss: 59.3809, Valid loss: 55.0425\n",
      "Saving model with loss 55.042...\n"
     ]
    },
    {
     "output_type": "stream",
     "name": "stderr",
     "text": [
      "Epoch [212/6000]: 100%|██████████| 17/17 [00:00<00:00, 77.11it/s, loss=66.6] \n"
     ]
    },
    {
     "output_type": "stream",
     "name": "stdout",
     "text": [
      "Epoch [212/6000]: Train loss: 59.0580, Valid loss: 63.2985\n"
     ]
    },
    {
     "output_type": "stream",
     "name": "stderr",
     "text": [
      "Epoch [213/6000]: 100%|██████████| 17/17 [00:00<00:00, 30.00it/s, loss=58.1]\n"
     ]
    },
    {
     "output_type": "stream",
     "name": "stdout",
     "text": [
      "Epoch [213/6000]: Train loss: 58.5732, Valid loss: 65.9199\n"
     ]
    },
    {
     "output_type": "stream",
     "name": "stderr",
     "text": [
      "Epoch [214/6000]: 100%|██████████| 17/17 [00:00<00:00, 106.27it/s, loss=56.9]\n"
     ]
    },
    {
     "output_type": "stream",
     "name": "stdout",
     "text": [
      "Epoch [214/6000]: Train loss: 58.1388, Valid loss: 60.1881\n"
     ]
    },
    {
     "output_type": "stream",
     "name": "stderr",
     "text": [
      "Epoch [215/6000]: 100%|██████████| 17/17 [00:00<00:00, 106.80it/s, loss=63.9]\n"
     ]
    },
    {
     "output_type": "stream",
     "name": "stdout",
     "text": [
      "Epoch [215/6000]: Train loss: 57.7703, Valid loss: 60.6809\n"
     ]
    },
    {
     "output_type": "stream",
     "name": "stderr",
     "text": [
      "Epoch [216/6000]: 100%|██████████| 17/17 [00:00<00:00, 112.72it/s, loss=79.1]\n"
     ]
    },
    {
     "output_type": "stream",
     "name": "stdout",
     "text": [
      "Epoch [216/6000]: Train loss: 57.4522, Valid loss: 58.9326\n"
     ]
    },
    {
     "output_type": "stream",
     "name": "stderr",
     "text": [
      "Epoch [217/6000]: 100%|██████████| 17/17 [00:00<00:00, 109.92it/s, loss=59.5]\n"
     ]
    },
    {
     "output_type": "stream",
     "name": "stdout",
     "text": [
      "Epoch [217/6000]: Train loss: 56.8949, Valid loss: 58.3798\n"
     ]
    },
    {
     "output_type": "stream",
     "name": "stderr",
     "text": [
      "Epoch [218/6000]: 100%|██████████| 17/17 [00:00<00:00, 118.48it/s, loss=53.4]\n"
     ]
    },
    {
     "output_type": "stream",
     "name": "stdout",
     "text": [
      "Epoch [218/6000]: Train loss: 56.4370, Valid loss: 54.7130\n",
      "Saving model with loss 54.713...\n"
     ]
    },
    {
     "output_type": "stream",
     "name": "stderr",
     "text": [
      "Epoch [219/6000]: 100%|██████████| 17/17 [00:00<00:00, 120.17it/s, loss=52.7]\n"
     ]
    },
    {
     "output_type": "stream",
     "name": "stdout",
     "text": [
      "Epoch [219/6000]: Train loss: 56.0066, Valid loss: 55.7896\n"
     ]
    },
    {
     "output_type": "stream",
     "name": "stderr",
     "text": [
      "Epoch [220/6000]: 100%|██████████| 17/17 [00:00<00:00, 102.39it/s, loss=61.6]\n"
     ]
    },
    {
     "output_type": "stream",
     "name": "stdout",
     "text": [
      "Epoch [220/6000]: Train loss: 55.6621, Valid loss: 59.7998\n"
     ]
    },
    {
     "output_type": "stream",
     "name": "stderr",
     "text": [
      "Epoch [221/6000]: 100%|██████████| 17/17 [00:00<00:00, 115.48it/s, loss=64.8]\n"
     ]
    },
    {
     "output_type": "stream",
     "name": "stdout",
     "text": [
      "Epoch [221/6000]: Train loss: 55.2768, Valid loss: 53.2118\n",
      "Saving model with loss 53.212...\n"
     ]
    },
    {
     "output_type": "stream",
     "name": "stderr",
     "text": [
      "Epoch [222/6000]: 100%|██████████| 17/17 [00:00<00:00, 122.21it/s, loss=62.4]\n"
     ]
    },
    {
     "output_type": "stream",
     "name": "stdout",
     "text": [
      "Epoch [222/6000]: Train loss: 54.8414, Valid loss: 59.5331\n"
     ]
    },
    {
     "output_type": "stream",
     "name": "stderr",
     "text": [
      "Epoch [223/6000]: 100%|██████████| 17/17 [00:00<00:00, 122.51it/s, loss=59]\n"
     ]
    },
    {
     "output_type": "stream",
     "name": "stdout",
     "text": [
      "Epoch [223/6000]: Train loss: 54.4169, Valid loss: 55.3420\n"
     ]
    },
    {
     "output_type": "stream",
     "name": "stderr",
     "text": [
      "Epoch [224/6000]: 100%|██████████| 17/17 [00:00<00:00, 113.84it/s, loss=55.6]\n"
     ]
    },
    {
     "output_type": "stream",
     "name": "stdout",
     "text": [
      "Epoch [224/6000]: Train loss: 53.9794, Valid loss: 58.1519\n"
     ]
    },
    {
     "output_type": "stream",
     "name": "stderr",
     "text": [
      "Epoch [225/6000]: 100%|██████████| 17/17 [00:00<00:00, 120.67it/s, loss=57.3]\n"
     ]
    },
    {
     "output_type": "stream",
     "name": "stdout",
     "text": [
      "Epoch [225/6000]: Train loss: 53.5903, Valid loss: 60.9314\n"
     ]
    },
    {
     "output_type": "stream",
     "name": "stderr",
     "text": [
      "Epoch [226/6000]: 100%|██████████| 17/17 [00:00<00:00, 114.49it/s, loss=52.8]\n"
     ]
    },
    {
     "output_type": "stream",
     "name": "stdout",
     "text": [
      "Epoch [226/6000]: Train loss: 53.1550, Valid loss: 58.5282\n"
     ]
    },
    {
     "output_type": "stream",
     "name": "stderr",
     "text": [
      "Epoch [227/6000]: 100%|██████████| 17/17 [00:00<00:00, 102.67it/s, loss=52.9]\n"
     ]
    },
    {
     "output_type": "stream",
     "name": "stdout",
     "text": [
      "Epoch [227/6000]: Train loss: 52.7547, Valid loss: 52.1124\n",
      "Saving model with loss 52.112...\n"
     ]
    },
    {
     "output_type": "stream",
     "name": "stderr",
     "text": [
      "Epoch [228/6000]: 100%|██████████| 17/17 [00:00<00:00, 99.37it/s, loss=71.1] \n"
     ]
    },
    {
     "output_type": "stream",
     "name": "stdout",
     "text": [
      "Epoch [228/6000]: Train loss: 52.4903, Valid loss: 50.9296\n",
      "Saving model with loss 50.930...\n"
     ]
    },
    {
     "output_type": "stream",
     "name": "stderr",
     "text": [
      "Epoch [229/6000]: 100%|██████████| 17/17 [00:00<00:00, 96.71it/s, loss=57.1] \n"
     ]
    },
    {
     "output_type": "stream",
     "name": "stdout",
     "text": [
      "Epoch [229/6000]: Train loss: 51.9961, Valid loss: 52.5390\n"
     ]
    },
    {
     "output_type": "stream",
     "name": "stderr",
     "text": [
      "Epoch [230/6000]: 100%|██████████| 17/17 [00:00<00:00, 109.13it/s, loss=56.4]\n"
     ]
    },
    {
     "output_type": "stream",
     "name": "stdout",
     "text": [
      "Epoch [230/6000]: Train loss: 51.5968, Valid loss: 47.9595\n",
      "Saving model with loss 47.959...\n"
     ]
    },
    {
     "output_type": "stream",
     "name": "stderr",
     "text": [
      "Epoch [231/6000]: 100%|██████████| 17/17 [00:00<00:00, 107.70it/s, loss=45.2]\n"
     ]
    },
    {
     "output_type": "stream",
     "name": "stdout",
     "text": [
      "Epoch [231/6000]: Train loss: 51.1202, Valid loss: 50.9853\n"
     ]
    },
    {
     "output_type": "stream",
     "name": "stderr",
     "text": [
      "Epoch [232/6000]: 100%|██████████| 17/17 [00:00<00:00, 113.43it/s, loss=53.9]\n"
     ]
    },
    {
     "output_type": "stream",
     "name": "stdout",
     "text": [
      "Epoch [232/6000]: Train loss: 50.7930, Valid loss: 47.5359\n",
      "Saving model with loss 47.536...\n"
     ]
    },
    {
     "output_type": "stream",
     "name": "stderr",
     "text": [
      "Epoch [233/6000]: 100%|██████████| 17/17 [00:00<00:00, 110.36it/s, loss=48.5]\n"
     ]
    },
    {
     "output_type": "stream",
     "name": "stdout",
     "text": [
      "Epoch [233/6000]: Train loss: 50.3706, Valid loss: 49.9700\n"
     ]
    },
    {
     "output_type": "stream",
     "name": "stderr",
     "text": [
      "Epoch [234/6000]: 100%|██████████| 17/17 [00:00<00:00, 108.27it/s, loss=39.2]\n"
     ]
    },
    {
     "output_type": "stream",
     "name": "stdout",
     "text": [
      "Epoch [234/6000]: Train loss: 49.9172, Valid loss: 50.4854\n"
     ]
    },
    {
     "output_type": "stream",
     "name": "stderr",
     "text": [
      "Epoch [235/6000]: 100%|██████████| 17/17 [00:00<00:00, 117.68it/s, loss=41.8]\n"
     ]
    },
    {
     "output_type": "stream",
     "name": "stdout",
     "text": [
      "Epoch [235/6000]: Train loss: 49.5538, Valid loss: 47.3553\n",
      "Saving model with loss 47.355...\n"
     ]
    },
    {
     "output_type": "stream",
     "name": "stderr",
     "text": [
      "Epoch [236/6000]: 100%|██████████| 17/17 [00:00<00:00, 108.84it/s, loss=42.4]\n"
     ]
    },
    {
     "output_type": "stream",
     "name": "stdout",
     "text": [
      "Epoch [236/6000]: Train loss: 49.1802, Valid loss: 50.1121\n"
     ]
    },
    {
     "output_type": "stream",
     "name": "stderr",
     "text": [
      "Epoch [237/6000]: 100%|██████████| 17/17 [00:00<00:00, 117.27it/s, loss=35.4]\n"
     ]
    },
    {
     "output_type": "stream",
     "name": "stdout",
     "text": [
      "Epoch [237/6000]: Train loss: 48.7518, Valid loss: 50.3812\n"
     ]
    },
    {
     "output_type": "stream",
     "name": "stderr",
     "text": [
      "Epoch [238/6000]: 100%|██████████| 17/17 [00:00<00:00, 115.55it/s, loss=40.1]\n"
     ]
    },
    {
     "output_type": "stream",
     "name": "stdout",
     "text": [
      "Epoch [238/6000]: Train loss: 48.4088, Valid loss: 47.7077\n"
     ]
    },
    {
     "output_type": "stream",
     "name": "stderr",
     "text": [
      "Epoch [239/6000]: 100%|██████████| 17/17 [00:00<00:00, 110.55it/s, loss=51.3]\n"
     ]
    },
    {
     "output_type": "stream",
     "name": "stdout",
     "text": [
      "Epoch [239/6000]: Train loss: 48.1185, Valid loss: 45.6859\n",
      "Saving model with loss 45.686...\n"
     ]
    },
    {
     "output_type": "stream",
     "name": "stderr",
     "text": [
      "Epoch [240/6000]: 100%|██████████| 17/17 [00:00<00:00, 116.32it/s, loss=55.7]\n"
     ]
    },
    {
     "output_type": "stream",
     "name": "stdout",
     "text": [
      "Epoch [240/6000]: Train loss: 47.7846, Valid loss: 45.5092\n",
      "Saving model with loss 45.509...\n"
     ]
    },
    {
     "output_type": "stream",
     "name": "stderr",
     "text": [
      "Epoch [241/6000]: 100%|██████████| 17/17 [00:00<00:00, 122.57it/s, loss=52.1]\n"
     ]
    },
    {
     "output_type": "stream",
     "name": "stdout",
     "text": [
      "Epoch [241/6000]: Train loss: 47.3879, Valid loss: 47.7937\n"
     ]
    },
    {
     "output_type": "stream",
     "name": "stderr",
     "text": [
      "Epoch [242/6000]: 100%|██████████| 17/17 [00:00<00:00, 126.56it/s, loss=44.1]\n"
     ]
    },
    {
     "output_type": "stream",
     "name": "stdout",
     "text": [
      "Epoch [242/6000]: Train loss: 46.9646, Valid loss: 44.7072\n",
      "Saving model with loss 44.707...\n"
     ]
    },
    {
     "output_type": "stream",
     "name": "stderr",
     "text": [
      "Epoch [243/6000]: 100%|██████████| 17/17 [00:00<00:00, 133.57it/s, loss=49.8]\n"
     ]
    },
    {
     "output_type": "stream",
     "name": "stdout",
     "text": [
      "Epoch [243/6000]: Train loss: 46.6412, Valid loss: 46.1834\n"
     ]
    },
    {
     "output_type": "stream",
     "name": "stderr",
     "text": [
      "Epoch [244/6000]: 100%|██████████| 17/17 [00:00<00:00, 125.75it/s, loss=52.5]\n"
     ]
    },
    {
     "output_type": "stream",
     "name": "stdout",
     "text": [
      "Epoch [244/6000]: Train loss: 46.2986, Valid loss: 51.2474\n"
     ]
    },
    {
     "output_type": "stream",
     "name": "stderr",
     "text": [
      "Epoch [245/6000]: 100%|██████████| 17/17 [00:00<00:00, 113.07it/s, loss=41.1]\n"
     ]
    },
    {
     "output_type": "stream",
     "name": "stdout",
     "text": [
      "Epoch [245/6000]: Train loss: 45.8618, Valid loss: 47.1254\n"
     ]
    },
    {
     "output_type": "stream",
     "name": "stderr",
     "text": [
      "Epoch [246/6000]: 100%|██████████| 17/17 [00:00<00:00, 123.23it/s, loss=36.7]\n"
     ]
    },
    {
     "output_type": "stream",
     "name": "stdout",
     "text": [
      "Epoch [246/6000]: Train loss: 45.4689, Valid loss: 48.0106\n"
     ]
    },
    {
     "output_type": "stream",
     "name": "stderr",
     "text": [
      "Epoch [247/6000]: 100%|██████████| 17/17 [00:00<00:00, 122.06it/s, loss=36.5]\n"
     ]
    },
    {
     "output_type": "stream",
     "name": "stdout",
     "text": [
      "Epoch [247/6000]: Train loss: 45.1159, Valid loss: 43.8923\n",
      "Saving model with loss 43.892...\n"
     ]
    },
    {
     "output_type": "stream",
     "name": "stderr",
     "text": [
      "Epoch [248/6000]: 100%|██████████| 17/17 [00:00<00:00, 118.99it/s, loss=49]\n"
     ]
    },
    {
     "output_type": "stream",
     "name": "stdout",
     "text": [
      "Epoch [248/6000]: Train loss: 44.8546, Valid loss: 42.5854\n",
      "Saving model with loss 42.585...\n"
     ]
    },
    {
     "output_type": "stream",
     "name": "stderr",
     "text": [
      "Epoch [249/6000]: 100%|██████████| 17/17 [00:00<00:00, 126.67it/s, loss=41.3]\n"
     ]
    },
    {
     "output_type": "stream",
     "name": "stdout",
     "text": [
      "Epoch [249/6000]: Train loss: 44.4529, Valid loss: 43.9189\n"
     ]
    },
    {
     "output_type": "stream",
     "name": "stderr",
     "text": [
      "Epoch [250/6000]: 100%|██████████| 17/17 [00:00<00:00, 129.44it/s, loss=43.3]\n"
     ]
    },
    {
     "output_type": "stream",
     "name": "stdout",
     "text": [
      "Epoch [250/6000]: Train loss: 44.1203, Valid loss: 43.7134\n"
     ]
    },
    {
     "output_type": "stream",
     "name": "stderr",
     "text": [
      "Epoch [251/6000]: 100%|██████████| 17/17 [00:00<00:00, 117.24it/s, loss=56.8]\n"
     ]
    },
    {
     "output_type": "stream",
     "name": "stdout",
     "text": [
      "Epoch [251/6000]: Train loss: 43.8753, Valid loss: 42.4913\n",
      "Saving model with loss 42.491...\n"
     ]
    },
    {
     "output_type": "stream",
     "name": "stderr",
     "text": [
      "Epoch [252/6000]: 100%|██████████| 17/17 [00:00<00:00, 129.74it/s, loss=47.2]\n"
     ]
    },
    {
     "output_type": "stream",
     "name": "stdout",
     "text": [
      "Epoch [252/6000]: Train loss: 43.4675, Valid loss: 45.2775\n"
     ]
    },
    {
     "output_type": "stream",
     "name": "stderr",
     "text": [
      "Epoch [253/6000]: 100%|██████████| 17/17 [00:00<00:00, 109.04it/s, loss=41.8]\n"
     ]
    },
    {
     "output_type": "stream",
     "name": "stdout",
     "text": [
      "Epoch [253/6000]: Train loss: 43.0867, Valid loss: 46.1163\n"
     ]
    },
    {
     "output_type": "stream",
     "name": "stderr",
     "text": [
      "Epoch [254/6000]: 100%|██████████| 17/17 [00:00<00:00, 123.52it/s, loss=38]\n"
     ]
    },
    {
     "output_type": "stream",
     "name": "stdout",
     "text": [
      "Epoch [254/6000]: Train loss: 42.7230, Valid loss: 44.6901\n"
     ]
    },
    {
     "output_type": "stream",
     "name": "stderr",
     "text": [
      "Epoch [264/6000]: 100%|██████████| 17/17 [00:00<00:00, 111.96it/s, loss=37.2]\n"
     ]
    },
    {
     "output_type": "stream",
     "name": "stdout",
     "text": [
      "Epoch [264/6000]: Train loss: 39.4861, Valid loss: 39.3831\n"
     ]
    },
    {
     "output_type": "stream",
     "name": "stderr",
     "text": [
      "Epoch [265/6000]: 100%|██████████| 17/17 [00:00<00:00, 116.76it/s, loss=42.7]\n"
     ]
    },
    {
     "output_type": "stream",
     "name": "stdout",
     "text": [
      "Epoch [265/6000]: Train loss: 39.2189, Valid loss: 39.2588\n"
     ]
    },
    {
     "output_type": "stream",
     "name": "stderr",
     "text": [
      "Epoch [266/6000]: 100%|██████████| 17/17 [00:00<00:00, 115.09it/s, loss=37.4]\n"
     ]
    },
    {
     "output_type": "stream",
     "name": "stdout",
     "text": [
      "Epoch [266/6000]: Train loss: 38.8741, Valid loss: 38.0051\n",
      "Saving model with loss 38.005...\n"
     ]
    },
    {
     "output_type": "stream",
     "name": "stderr",
     "text": [
      "Epoch [267/6000]: 100%|██████████| 17/17 [00:00<00:00, 123.92it/s, loss=40.4]\n"
     ]
    },
    {
     "output_type": "stream",
     "name": "stdout",
     "text": [
      "Epoch [267/6000]: Train loss: 38.5904, Valid loss: 37.0494\n",
      "Saving model with loss 37.049...\n"
     ]
    },
    {
     "output_type": "stream",
     "name": "stderr",
     "text": [
      "Epoch [268/6000]: 100%|██████████| 17/17 [00:00<00:00, 106.98it/s, loss=35.1]\n"
     ]
    },
    {
     "output_type": "stream",
     "name": "stdout",
     "text": [
      "Epoch [268/6000]: Train loss: 38.2534, Valid loss: 42.3672\n"
     ]
    },
    {
     "output_type": "stream",
     "name": "stderr",
     "text": [
      "Epoch [269/6000]: 100%|██████████| 17/17 [00:00<00:00, 112.14it/s, loss=40.3]\n"
     ]
    },
    {
     "output_type": "stream",
     "name": "stdout",
     "text": [
      "Epoch [269/6000]: Train loss: 37.9842, Valid loss: 36.9669\n",
      "Saving model with loss 36.967...\n"
     ]
    },
    {
     "output_type": "stream",
     "name": "stderr",
     "text": [
      "Epoch [270/6000]: 100%|██████████| 17/17 [00:00<00:00, 118.36it/s, loss=40]\n"
     ]
    },
    {
     "output_type": "stream",
     "name": "stdout",
     "text": [
      "Epoch [270/6000]: Train loss: 37.6865, Valid loss: 33.8760\n",
      "Saving model with loss 33.876...\n"
     ]
    },
    {
     "output_type": "stream",
     "name": "stderr",
     "text": [
      "Epoch [271/6000]: 100%|██████████| 17/17 [00:00<00:00, 123.39it/s, loss=37.8]\n"
     ]
    },
    {
     "output_type": "stream",
     "name": "stdout",
     "text": [
      "Epoch [271/6000]: Train loss: 37.3801, Valid loss: 38.7684\n"
     ]
    },
    {
     "output_type": "stream",
     "name": "stderr",
     "text": [
      "Epoch [272/6000]: 100%|██████████| 17/17 [00:00<00:00, 125.49it/s, loss=35.9]\n"
     ]
    },
    {
     "output_type": "stream",
     "name": "stdout",
     "text": [
      "Epoch [272/6000]: Train loss: 37.0710, Valid loss: 38.5844\n"
     ]
    },
    {
     "output_type": "stream",
     "name": "stderr",
     "text": [
      "Epoch [273/6000]: 100%|██████████| 17/17 [00:00<00:00, 123.24it/s, loss=44.7]\n"
     ]
    },
    {
     "output_type": "stream",
     "name": "stdout",
     "text": [
      "Epoch [273/6000]: Train loss: 36.8435, Valid loss: 40.1683\n"
     ]
    },
    {
     "output_type": "stream",
     "name": "stderr",
     "text": [
      "Epoch [274/6000]: 100%|██████████| 17/17 [00:00<00:00, 119.21it/s, loss=31.1]\n"
     ]
    },
    {
     "output_type": "stream",
     "name": "stdout",
     "text": [
      "Epoch [274/6000]: Train loss: 36.4558, Valid loss: 38.7027\n"
     ]
    },
    {
     "output_type": "stream",
     "name": "stderr",
     "text": [
      "Epoch [275/6000]: 100%|██████████| 17/17 [00:00<00:00, 120.79it/s, loss=42.5]\n"
     ]
    },
    {
     "output_type": "stream",
     "name": "stdout",
     "text": [
      "Epoch [275/6000]: Train loss: 36.2523, Valid loss: 37.4360\n"
     ]
    },
    {
     "output_type": "stream",
     "name": "stderr",
     "text": [
      "Epoch [276/6000]: 100%|██████████| 17/17 [00:00<00:00, 119.25it/s, loss=31.6]\n"
     ]
    },
    {
     "output_type": "stream",
     "name": "stdout",
     "text": [
      "Epoch [276/6000]: Train loss: 35.8899, Valid loss: 36.3477\n"
     ]
    },
    {
     "output_type": "stream",
     "name": "stderr",
     "text": [
      "Epoch [280/6000]: 100%|██████████| 17/17 [00:00<00:00, 118.21it/s, loss=24.4]\n"
     ]
    },
    {
     "output_type": "stream",
     "name": "stdout",
     "text": [
      "Epoch [280/6000]: Train loss: 34.7285, Valid loss: 36.2390\n"
     ]
    },
    {
     "output_type": "stream",
     "name": "stderr",
     "text": [
      "Epoch [281/6000]: 100%|██████████| 17/17 [00:00<00:00, 111.21it/s, loss=44.3]\n"
     ]
    },
    {
     "output_type": "stream",
     "name": "stdout",
     "text": [
      "Epoch [281/6000]: Train loss: 34.6023, Valid loss: 32.5212\n"
     ]
    },
    {
     "output_type": "stream",
     "name": "stderr",
     "text": [
      "Epoch [282/6000]: 100%|██████████| 17/17 [00:00<00:00, 126.38it/s, loss=33.7]\n"
     ]
    },
    {
     "output_type": "stream",
     "name": "stdout",
     "text": [
      "Epoch [282/6000]: Train loss: 34.2576, Valid loss: 32.8987\n"
     ]
    },
    {
     "output_type": "stream",
     "name": "stderr",
     "text": [
      "Epoch [283/6000]: 100%|██████████| 17/17 [00:00<00:00, 108.83it/s, loss=37.6]\n"
     ]
    },
    {
     "output_type": "stream",
     "name": "stdout",
     "text": [
      "Epoch [283/6000]: Train loss: 34.0184, Valid loss: 33.9475\n"
     ]
    },
    {
     "output_type": "stream",
     "name": "stderr",
     "text": [
      "Epoch [284/6000]: 100%|██████████| 17/17 [00:00<00:00, 113.10it/s, loss=29.1]\n"
     ]
    },
    {
     "output_type": "stream",
     "name": "stdout",
     "text": [
      "Epoch [284/6000]: Train loss: 33.6952, Valid loss: 33.5356\n"
     ]
    },
    {
     "output_type": "stream",
     "name": "stderr",
     "text": [
      "Epoch [285/6000]: 100%|██████████| 17/17 [00:00<00:00, 117.22it/s, loss=32.4]\n"
     ]
    },
    {
     "output_type": "stream",
     "name": "stdout",
     "text": [
      "Epoch [285/6000]: Train loss: 33.4504, Valid loss: 33.0085\n"
     ]
    },
    {
     "output_type": "stream",
     "name": "stderr",
     "text": [
      "Epoch [286/6000]: 100%|██████████| 17/17 [00:00<00:00, 120.67it/s, loss=36.3]\n"
     ]
    },
    {
     "output_type": "stream",
     "name": "stdout",
     "text": [
      "Epoch [286/6000]: Train loss: 33.2238, Valid loss: 31.6345\n",
      "Saving model with loss 31.635...\n"
     ]
    },
    {
     "output_type": "stream",
     "name": "stderr",
     "text": [
      "Epoch [287/6000]: 100%|██████████| 17/17 [00:00<00:00, 121.39it/s, loss=37.6]\n"
     ]
    },
    {
     "output_type": "stream",
     "name": "stdout",
     "text": [
      "Epoch [287/6000]: Train loss: 32.9737, Valid loss: 32.2457\n"
     ]
    },
    {
     "output_type": "stream",
     "name": "stderr",
     "text": [
      "Epoch [288/6000]: 100%|██████████| 17/17 [00:00<00:00, 116.67it/s, loss=31.9]\n"
     ]
    },
    {
     "output_type": "stream",
     "name": "stdout",
     "text": [
      "Epoch [288/6000]: Train loss: 32.6755, Valid loss: 31.2680\n",
      "Saving model with loss 31.268...\n"
     ]
    },
    {
     "output_type": "stream",
     "name": "stderr",
     "text": [
      "Epoch [289/6000]: 100%|██████████| 17/17 [00:00<00:00, 117.80it/s, loss=40]\n"
     ]
    },
    {
     "output_type": "stream",
     "name": "stdout",
     "text": [
      "Epoch [289/6000]: Train loss: 32.4796, Valid loss: 32.6907\n"
     ]
    },
    {
     "output_type": "stream",
     "name": "stderr",
     "text": [
      "Epoch [290/6000]: 100%|██████████| 17/17 [00:00<00:00, 115.09it/s, loss=32.4]\n"
     ]
    },
    {
     "output_type": "stream",
     "name": "stdout",
     "text": [
      "Epoch [290/6000]: Train loss: 32.1780, Valid loss: 34.2974\n"
     ]
    },
    {
     "output_type": "stream",
     "name": "stderr",
     "text": [
      "Epoch [291/6000]: 100%|██████████| 17/17 [00:00<00:00, 115.59it/s, loss=31.2]\n"
     ]
    },
    {
     "output_type": "stream",
     "name": "stdout",
     "text": [
      "Epoch [291/6000]: Train loss: 31.9167, Valid loss: 29.9121\n",
      "Saving model with loss 29.912...\n"
     ]
    },
    {
     "output_type": "stream",
     "name": "stderr",
     "text": [
      "Epoch [292/6000]: 100%|██████████| 17/17 [00:00<00:00, 121.79it/s, loss=23.5]\n"
     ]
    },
    {
     "output_type": "stream",
     "name": "stdout",
     "text": [
      "Epoch [292/6000]: Train loss: 31.6168, Valid loss: 34.0977\n"
     ]
    },
    {
     "output_type": "stream",
     "name": "stderr",
     "text": [
      "Epoch [293/6000]:   0%|          | 0/17 [00:00<?, ?it/s, loss=23.4]"
     ]
    },
    {
     "output_type": "stream",
     "name": "stdout",
     "text": [
      "Epoch [293/6000]: Train loss: 31.4832, Valid loss: 31.5597\n"
     ]
    },
    {
     "output_type": "stream",
     "name": "stderr",
     "text": [
      "Epoch [294/6000]: 100%|██████████| 17/17 [00:00<00:00, 121.87it/s, loss=32.2]\n"
     ]
    },
    {
     "output_type": "stream",
     "name": "stdout",
     "text": [
      "Epoch [294/6000]: Train loss: 31.1936, Valid loss: 29.6909\n",
      "Saving model with loss 29.691...\n"
     ]
    },
    {
     "output_type": "stream",
     "name": "stderr",
     "text": [
      "Epoch [295/6000]: 100%|██████████| 17/17 [00:00<00:00, 123.61it/s, loss=29.8]\n"
     ]
    },
    {
     "output_type": "stream",
     "name": "stdout",
     "text": [
      "Epoch [295/6000]: Train loss: 30.9340, Valid loss: 30.4673\n"
     ]
    },
    {
     "output_type": "stream",
     "name": "stderr",
     "text": [
      "Epoch [296/6000]: 100%|██████████| 17/17 [00:00<00:00, 118.33it/s, loss=27.8]\n"
     ]
    },
    {
     "output_type": "stream",
     "name": "stdout",
     "text": [
      "Epoch [296/6000]: Train loss: 30.6818, Valid loss: 30.4903\n"
     ]
    },
    {
     "output_type": "stream",
     "name": "stderr",
     "text": [
      "Epoch [297/6000]: 100%|██████████| 17/17 [00:00<00:00, 103.00it/s, loss=39.6]\n"
     ]
    },
    {
     "output_type": "stream",
     "name": "stdout",
     "text": [
      "Epoch [297/6000]: Train loss: 30.5330, Valid loss: 29.9652\n"
     ]
    },
    {
     "output_type": "stream",
     "name": "stderr",
     "text": [
      "Epoch [298/6000]: 100%|██████████| 17/17 [00:00<00:00, 119.84it/s, loss=27.7]\n"
     ]
    },
    {
     "output_type": "stream",
     "name": "stdout",
     "text": [
      "Epoch [298/6000]: Train loss: 30.2159, Valid loss: 27.6527\n",
      "Saving model with loss 27.653...\n"
     ]
    },
    {
     "output_type": "stream",
     "name": "stderr",
     "text": [
      "Epoch [299/6000]: 100%|██████████| 17/17 [00:00<00:00, 117.23it/s, loss=33.6]\n"
     ]
    },
    {
     "output_type": "stream",
     "name": "stdout",
     "text": [
      "Epoch [299/6000]: Train loss: 30.0255, Valid loss: 28.7145\n"
     ]
    },
    {
     "output_type": "stream",
     "name": "stderr",
     "text": [
      "Epoch [300/6000]: 100%|██████████| 17/17 [00:00<00:00, 121.59it/s, loss=36.9]\n"
     ]
    },
    {
     "output_type": "stream",
     "name": "stdout",
     "text": [
      "Epoch [300/6000]: Train loss: 29.8201, Valid loss: 30.1601\n"
     ]
    },
    {
     "output_type": "stream",
     "name": "stderr",
     "text": [
      "Epoch [301/6000]: 100%|██████████| 17/17 [00:00<00:00, 124.24it/s, loss=28.3]\n"
     ]
    },
    {
     "output_type": "stream",
     "name": "stdout",
     "text": [
      "Epoch [301/6000]: Train loss: 29.5351, Valid loss: 29.9373\n"
     ]
    },
    {
     "output_type": "stream",
     "name": "stderr",
     "text": [
      "Epoch [302/6000]: 100%|██████████| 17/17 [00:00<00:00, 113.50it/s, loss=30]\n"
     ]
    },
    {
     "output_type": "stream",
     "name": "stdout",
     "text": [
      "Epoch [302/6000]: Train loss: 29.3166, Valid loss: 29.1163\n"
     ]
    },
    {
     "output_type": "stream",
     "name": "stderr",
     "text": [
      "Epoch [303/6000]: 100%|██████████| 17/17 [00:00<00:00, 118.68it/s, loss=21.7]\n"
     ]
    },
    {
     "output_type": "stream",
     "name": "stdout",
     "text": [
      "Epoch [303/6000]: Train loss: 29.0397, Valid loss: 30.7223\n"
     ]
    },
    {
     "output_type": "stream",
     "name": "stderr",
     "text": [
      "Epoch [304/6000]: 100%|██████████| 17/17 [00:00<00:00, 120.42it/s, loss=28.9]\n"
     ]
    },
    {
     "output_type": "stream",
     "name": "stdout",
     "text": [
      "Epoch [304/6000]: Train loss: 28.8680, Valid loss: 30.5084\n"
     ]
    },
    {
     "output_type": "stream",
     "name": "stderr",
     "text": [
      "Epoch [305/6000]: 100%|██████████| 17/17 [00:00<00:00, 118.71it/s, loss=32.2]\n"
     ]
    },
    {
     "output_type": "stream",
     "name": "stdout",
     "text": [
      "Epoch [305/6000]: Train loss: 28.6766, Valid loss: 27.1410\n",
      "Saving model with loss 27.141...\n"
     ]
    },
    {
     "output_type": "stream",
     "name": "stderr",
     "text": [
      "Epoch [308/6000]: 100%|██████████| 17/17 [00:00<00:00, 105.08it/s, loss=30.2]\n"
     ]
    },
    {
     "output_type": "stream",
     "name": "stdout",
     "text": [
      "Epoch [308/6000]: Train loss: 28.0198, Valid loss: 28.6502\n"
     ]
    },
    {
     "output_type": "stream",
     "name": "stderr",
     "text": [
      "Epoch [309/6000]: 100%|██████████| 17/17 [00:00<00:00, 119.33it/s, loss=28]\n"
     ]
    },
    {
     "output_type": "stream",
     "name": "stdout",
     "text": [
      "Epoch [309/6000]: Train loss: 27.7940, Valid loss: 29.3790\n"
     ]
    },
    {
     "output_type": "stream",
     "name": "stderr",
     "text": [
      "Epoch [310/6000]: 100%|██████████| 17/17 [00:00<00:00, 120.76it/s, loss=35.8]\n"
     ]
    },
    {
     "output_type": "stream",
     "name": "stdout",
     "text": [
      "Epoch [310/6000]: Train loss: 27.6410, Valid loss: 29.9514\n"
     ]
    },
    {
     "output_type": "stream",
     "name": "stderr",
     "text": [
      "Epoch [311/6000]: 100%|██████████| 17/17 [00:00<00:00, 118.18it/s, loss=31.3]\n"
     ]
    },
    {
     "output_type": "stream",
     "name": "stdout",
     "text": [
      "Epoch [311/6000]: Train loss: 27.4071, Valid loss: 26.5287\n",
      "Saving model with loss 26.529...\n"
     ]
    },
    {
     "output_type": "stream",
     "name": "stderr",
     "text": [
      "Epoch [312/6000]: 100%|██████████| 17/17 [00:00<00:00, 118.62it/s, loss=21.9]\n"
     ]
    },
    {
     "output_type": "stream",
     "name": "stdout",
     "text": [
      "Epoch [312/6000]: Train loss: 27.1349, Valid loss: 28.2013\n"
     ]
    },
    {
     "output_type": "stream",
     "name": "stderr",
     "text": [
      "Epoch [313/6000]: 100%|██████████| 17/17 [00:00<00:00, 115.12it/s, loss=25.2]\n"
     ]
    },
    {
     "output_type": "stream",
     "name": "stdout",
     "text": [
      "Epoch [313/6000]: Train loss: 26.9552, Valid loss: 26.7997\n"
     ]
    },
    {
     "output_type": "stream",
     "name": "stderr",
     "text": [
      "Epoch [314/6000]: 100%|██████████| 17/17 [00:00<00:00, 112.88it/s, loss=33.9]\n"
     ]
    },
    {
     "output_type": "stream",
     "name": "stdout",
     "text": [
      "Epoch [314/6000]: Train loss: 26.8196, Valid loss: 26.8907\n"
     ]
    },
    {
     "output_type": "stream",
     "name": "stderr",
     "text": [
      "Epoch [315/6000]: 100%|██████████| 17/17 [00:00<00:00, 120.27it/s, loss=21.2]\n"
     ]
    },
    {
     "output_type": "stream",
     "name": "stdout",
     "text": [
      "Epoch [315/6000]: Train loss: 26.5305, Valid loss: 25.8515\n",
      "Saving model with loss 25.852...\n"
     ]
    },
    {
     "output_type": "stream",
     "name": "stderr",
     "text": [
      "Epoch [316/6000]: 100%|██████████| 17/17 [00:00<00:00, 114.31it/s, loss=21.9]\n"
     ]
    },
    {
     "output_type": "stream",
     "name": "stdout",
     "text": [
      "Epoch [316/6000]: Train loss: 26.3404, Valid loss: 28.8519\n"
     ]
    },
    {
     "output_type": "stream",
     "name": "stderr",
     "text": [
      "Epoch [317/6000]: 100%|██████████| 17/17 [00:00<00:00, 108.14it/s, loss=19.5]\n"
     ]
    },
    {
     "output_type": "stream",
     "name": "stdout",
     "text": [
      "Epoch [317/6000]: Train loss: 26.1307, Valid loss: 27.3364\n"
     ]
    },
    {
     "output_type": "stream",
     "name": "stderr",
     "text": [
      "Epoch [318/6000]: 100%|██████████| 17/17 [00:00<00:00, 116.35it/s, loss=33.7]\n"
     ]
    },
    {
     "output_type": "stream",
     "name": "stdout",
     "text": [
      "Epoch [318/6000]: Train loss: 26.0429, Valid loss: 25.0184\n",
      "Saving model with loss 25.018...\n"
     ]
    },
    {
     "output_type": "stream",
     "name": "stderr",
     "text": [
      "Epoch [319/6000]: 100%|██████████| 17/17 [00:00<00:00, 109.31it/s, loss=23.5]\n"
     ]
    },
    {
     "output_type": "stream",
     "name": "stdout",
     "text": [
      "Epoch [319/6000]: Train loss: 25.7810, Valid loss: 27.9046\n"
     ]
    },
    {
     "output_type": "stream",
     "name": "stderr",
     "text": [
      "Epoch [321/6000]: 100%|██████████| 17/17 [00:00<00:00, 115.13it/s, loss=32.1]\n"
     ]
    },
    {
     "output_type": "stream",
     "name": "stdout",
     "text": [
      "Epoch [321/6000]: Train loss: 25.4702, Valid loss: 25.3327\n"
     ]
    },
    {
     "output_type": "stream",
     "name": "stderr",
     "text": [
      "Epoch [322/6000]: 100%|██████████| 17/17 [00:00<00:00, 114.83it/s, loss=30.3]\n"
     ]
    },
    {
     "output_type": "stream",
     "name": "stdout",
     "text": [
      "Epoch [322/6000]: Train loss: 25.2769, Valid loss: 26.3056\n"
     ]
    },
    {
     "output_type": "stream",
     "name": "stderr",
     "text": [
      "Epoch [323/6000]: 100%|██████████| 17/17 [00:00<00:00, 122.93it/s, loss=22.9]\n"
     ]
    },
    {
     "output_type": "stream",
     "name": "stdout",
     "text": [
      "Epoch [323/6000]: Train loss: 25.0376, Valid loss: 27.0293\n"
     ]
    },
    {
     "output_type": "stream",
     "name": "stderr",
     "text": [
      "Epoch [324/6000]: 100%|██████████| 17/17 [00:00<00:00, 106.67it/s, loss=20.1]\n"
     ]
    },
    {
     "output_type": "stream",
     "name": "stdout",
     "text": [
      "Epoch [324/6000]: Train loss: 24.8372, Valid loss: 25.4593\n"
     ]
    },
    {
     "output_type": "stream",
     "name": "stderr",
     "text": [
      "Epoch [325/6000]: 100%|██████████| 17/17 [00:00<00:00, 106.01it/s, loss=18.7]\n"
     ]
    },
    {
     "output_type": "stream",
     "name": "stdout",
     "text": [
      "Epoch [325/6000]: Train loss: 24.6494, Valid loss: 24.0774\n",
      "Saving model with loss 24.077...\n"
     ]
    },
    {
     "output_type": "stream",
     "name": "stderr",
     "text": [
      "Epoch [326/6000]: 100%|██████████| 17/17 [00:00<00:00, 95.92it/s, loss=24.3]\n"
     ]
    },
    {
     "output_type": "stream",
     "name": "stdout",
     "text": [
      "Epoch [326/6000]: Train loss: 24.5148, Valid loss: 22.9899\n",
      "Saving model with loss 22.990...\n"
     ]
    },
    {
     "output_type": "stream",
     "name": "stderr",
     "text": [
      "Epoch [327/6000]: 100%|██████████| 17/17 [00:00<00:00, 106.62it/s, loss=19.5]\n"
     ]
    },
    {
     "output_type": "stream",
     "name": "stdout",
     "text": [
      "Epoch [327/6000]: Train loss: 24.3058, Valid loss: 24.7112\n"
     ]
    },
    {
     "output_type": "stream",
     "name": "stderr",
     "text": [
      "Epoch [328/6000]: 100%|██████████| 17/17 [00:00<00:00, 122.65it/s, loss=30.9]\n"
     ]
    },
    {
     "output_type": "stream",
     "name": "stdout",
     "text": [
      "Epoch [328/6000]: Train loss: 24.2159, Valid loss: 25.4670\n"
     ]
    },
    {
     "output_type": "stream",
     "name": "stderr",
     "text": [
      "Epoch [329/6000]: 100%|██████████| 17/17 [00:00<00:00, 105.44it/s, loss=34.3]\n"
     ]
    },
    {
     "output_type": "stream",
     "name": "stdout",
     "text": [
      "Epoch [329/6000]: Train loss: 24.0706, Valid loss: 23.3654\n"
     ]
    },
    {
     "output_type": "stream",
     "name": "stderr",
     "text": [
      "Epoch [330/6000]: 100%|██████████| 17/17 [00:00<00:00, 126.82it/s, loss=27.8]\n"
     ]
    },
    {
     "output_type": "stream",
     "name": "stdout",
     "text": [
      "Epoch [330/6000]: Train loss: 23.8552, Valid loss: 23.5412\n"
     ]
    },
    {
     "output_type": "stream",
     "name": "stderr",
     "text": [
      "Epoch [331/6000]: 100%|██████████| 17/17 [00:00<00:00, 110.65it/s, loss=32.7]\n"
     ]
    },
    {
     "output_type": "stream",
     "name": "stdout",
     "text": [
      "Epoch [331/6000]: Train loss: 23.7237, Valid loss: 24.3746\n"
     ]
    },
    {
     "output_type": "stream",
     "name": "stderr",
     "text": [
      "Epoch [332/6000]: 100%|██████████| 17/17 [00:00<00:00, 126.25it/s, loss=19.7]\n"
     ]
    },
    {
     "output_type": "stream",
     "name": "stdout",
     "text": [
      "Epoch [332/6000]: Train loss: 23.4649, Valid loss: 23.6329\n"
     ]
    },
    {
     "output_type": "stream",
     "name": "stderr",
     "text": [
      "Epoch [333/6000]: 100%|██████████| 17/17 [00:00<00:00, 105.34it/s, loss=30.7]\n"
     ]
    },
    {
     "output_type": "stream",
     "name": "stdout",
     "text": [
      "Epoch [333/6000]: Train loss: 23.3795, Valid loss: 23.9655\n"
     ]
    },
    {
     "output_type": "stream",
     "name": "stderr",
     "text": [
      "Epoch [340/6000]: 100%|██████████| 17/17 [00:00<00:00, 115.45it/s, loss=18.7]\n"
     ]
    },
    {
     "output_type": "stream",
     "name": "stdout",
     "text": [
      "Epoch [340/6000]: Train loss: 22.2015, Valid loss: 24.4303\n"
     ]
    },
    {
     "output_type": "stream",
     "name": "stderr",
     "text": [
      "Epoch [341/6000]: 100%|██████████| 17/17 [00:00<00:00, 120.36it/s, loss=30]\n"
     ]
    },
    {
     "output_type": "stream",
     "name": "stdout",
     "text": [
      "Epoch [341/6000]: Train loss: 22.1340, Valid loss: 22.7254\n"
     ]
    },
    {
     "output_type": "stream",
     "name": "stderr",
     "text": [
      "Epoch [342/6000]: 100%|██████████| 17/17 [00:00<00:00, 114.59it/s, loss=16.1]\n"
     ]
    },
    {
     "output_type": "stream",
     "name": "stdout",
     "text": [
      "Epoch [342/6000]: Train loss: 21.8876, Valid loss: 21.8099\n"
     ]
    },
    {
     "output_type": "stream",
     "name": "stderr",
     "text": [
      "Epoch [343/6000]: 100%|██████████| 17/17 [00:00<00:00, 125.38it/s, loss=26.9]\n"
     ]
    },
    {
     "output_type": "stream",
     "name": "stdout",
     "text": [
      "Epoch [343/6000]: Train loss: 21.8196, Valid loss: 22.6881\n"
     ]
    },
    {
     "output_type": "stream",
     "name": "stderr",
     "text": [
      "Epoch [344/6000]: 100%|██████████| 17/17 [00:00<00:00, 107.58it/s, loss=20.3]\n"
     ]
    },
    {
     "output_type": "stream",
     "name": "stdout",
     "text": [
      "Epoch [344/6000]: Train loss: 21.6269, Valid loss: 21.1214\n"
     ]
    },
    {
     "output_type": "stream",
     "name": "stderr",
     "text": [
      "Epoch [345/6000]: 100%|██████████| 17/17 [00:00<00:00, 123.16it/s, loss=21.8]\n"
     ]
    },
    {
     "output_type": "stream",
     "name": "stdout",
     "text": [
      "Epoch [345/6000]: Train loss: 21.4968, Valid loss: 23.1795\n"
     ]
    },
    {
     "output_type": "stream",
     "name": "stderr",
     "text": [
      "Epoch [346/6000]: 100%|██████████| 17/17 [00:00<00:00, 123.20it/s, loss=21.5]\n"
     ]
    },
    {
     "output_type": "stream",
     "name": "stdout",
     "text": [
      "Epoch [346/6000]: Train loss: 21.3520, Valid loss: 19.9112\n"
     ]
    },
    {
     "output_type": "stream",
     "name": "stderr",
     "text": [
      "Epoch [347/6000]: 100%|██████████| 17/17 [00:00<00:00, 112.32it/s, loss=24.4]\n"
     ]
    },
    {
     "output_type": "stream",
     "name": "stdout",
     "text": [
      "Epoch [347/6000]: Train loss: 21.2326, Valid loss: 21.3677\n"
     ]
    },
    {
     "output_type": "stream",
     "name": "stderr",
     "text": [
      "Epoch [348/6000]: 100%|██████████| 17/17 [00:00<00:00, 102.59it/s, loss=22.6]\n"
     ]
    },
    {
     "output_type": "stream",
     "name": "stdout",
     "text": [
      "Epoch [348/6000]: Train loss: 21.0858, Valid loss: 21.4616\n"
     ]
    },
    {
     "output_type": "stream",
     "name": "stderr",
     "text": [
      "Epoch [349/6000]: 100%|██████████| 17/17 [00:00<00:00, 115.83it/s, loss=19.1]\n"
     ]
    },
    {
     "output_type": "stream",
     "name": "stdout",
     "text": [
      "Epoch [349/6000]: Train loss: 20.9257, Valid loss: 19.0342\n",
      "Saving model with loss 19.034...\n"
     ]
    },
    {
     "output_type": "stream",
     "name": "stderr",
     "text": [
      "Epoch [350/6000]: 100%|██████████| 17/17 [00:00<00:00, 114.14it/s, loss=20.5]\n"
     ]
    },
    {
     "output_type": "stream",
     "name": "stdout",
     "text": [
      "Epoch [350/6000]: Train loss: 20.7985, Valid loss: 21.3956\n"
     ]
    },
    {
     "output_type": "stream",
     "name": "stderr",
     "text": [
      "Epoch [351/6000]: 100%|██████████| 17/17 [00:00<00:00, 122.14it/s, loss=21]\n"
     ]
    },
    {
     "output_type": "stream",
     "name": "stdout",
     "text": [
      "Epoch [351/6000]: Train loss: 20.6703, Valid loss: 21.4420\n"
     ]
    },
    {
     "output_type": "stream",
     "name": "stderr",
     "text": [
      "Epoch [352/6000]: 100%|██████████| 17/17 [00:00<00:00, 121.73it/s, loss=20]\n",
      "Epoch [360/6000]: 100%|██████████| 17/17 [00:00<00:00, 104.47it/s, loss=18.5]\n"
     ]
    },
    {
     "output_type": "stream",
     "name": "stdout",
     "text": [
      "Epoch [360/6000]: Train loss: 19.5247, Valid loss: 19.8892\n"
     ]
    },
    {
     "output_type": "stream",
     "name": "stderr",
     "text": [
      "Epoch [361/6000]: 100%|██████████| 17/17 [00:00<00:00, 101.65it/s, loss=28.6]\n"
     ]
    },
    {
     "output_type": "stream",
     "name": "stdout",
     "text": [
      "Epoch [361/6000]: Train loss: 19.4789, Valid loss: 18.8114\n",
      "Saving model with loss 18.811...\n"
     ]
    },
    {
     "output_type": "stream",
     "name": "stderr",
     "text": [
      "Epoch [362/6000]: 100%|██████████| 17/17 [00:00<00:00, 111.59it/s, loss=20.7]\n"
     ]
    },
    {
     "output_type": "stream",
     "name": "stdout",
     "text": [
      "Epoch [362/6000]: Train loss: 19.3079, Valid loss: 21.3407\n"
     ]
    },
    {
     "output_type": "stream",
     "name": "stderr",
     "text": [
      "Epoch [363/6000]: 100%|██████████| 17/17 [00:00<00:00, 124.68it/s, loss=15.4]\n"
     ]
    },
    {
     "output_type": "stream",
     "name": "stdout",
     "text": [
      "Epoch [363/6000]: Train loss: 19.1562, Valid loss: 19.1504\n"
     ]
    },
    {
     "output_type": "stream",
     "name": "stderr",
     "text": [
      "Epoch [364/6000]: 100%|██████████| 17/17 [00:00<00:00, 123.67it/s, loss=18.8]\n"
     ]
    },
    {
     "output_type": "stream",
     "name": "stdout",
     "text": [
      "Epoch [364/6000]: Train loss: 19.0680, Valid loss: 21.6202\n"
     ]
    },
    {
     "output_type": "stream",
     "name": "stderr",
     "text": [
      "Epoch [365/6000]: 100%|██████████| 17/17 [00:00<00:00, 103.08it/s, loss=16.6]\n"
     ]
    },
    {
     "output_type": "stream",
     "name": "stdout",
     "text": [
      "Epoch [365/6000]: Train loss: 18.9405, Valid loss: 20.0412\n"
     ]
    },
    {
     "output_type": "stream",
     "name": "stderr",
     "text": [
      "Epoch [366/6000]: 100%|██████████| 17/17 [00:00<00:00, 116.86it/s, loss=16.6]\n"
     ]
    },
    {
     "output_type": "stream",
     "name": "stdout",
     "text": [
      "Epoch [366/6000]: Train loss: 18.8318, Valid loss: 18.8340\n"
     ]
    },
    {
     "output_type": "stream",
     "name": "stderr",
     "text": [
      "Epoch [367/6000]: 100%|██████████| 17/17 [00:00<00:00, 104.11it/s, loss=23.7]\n"
     ]
    },
    {
     "output_type": "stream",
     "name": "stdout",
     "text": [
      "Epoch [367/6000]: Train loss: 18.7742, Valid loss: 18.2499\n",
      "Saving model with loss 18.250...\n"
     ]
    },
    {
     "output_type": "stream",
     "name": "stderr",
     "text": [
      "Epoch [368/6000]: 100%|██████████| 17/17 [00:00<00:00, 106.22it/s, loss=15.9]\n"
     ]
    },
    {
     "output_type": "stream",
     "name": "stdout",
     "text": [
      "Epoch [368/6000]: Train loss: 18.6113, Valid loss: 18.1303\n",
      "Saving model with loss 18.130...\n"
     ]
    },
    {
     "output_type": "stream",
     "name": "stderr",
     "text": [
      "Epoch [369/6000]: 100%|██████████| 17/17 [00:00<00:00, 122.11it/s, loss=16.2]\n"
     ]
    },
    {
     "output_type": "stream",
     "name": "stdout",
     "text": [
      "Epoch [369/6000]: Train loss: 18.5059, Valid loss: 18.4737\n"
     ]
    },
    {
     "output_type": "stream",
     "name": "stderr",
     "text": [
      "Epoch [370/6000]: 100%|██████████| 17/17 [00:00<00:00, 124.09it/s, loss=20.2]\n"
     ]
    },
    {
     "output_type": "stream",
     "name": "stdout",
     "text": [
      "Epoch [370/6000]: Train loss: 18.4290, Valid loss: 18.1609\n"
     ]
    },
    {
     "output_type": "stream",
     "name": "stderr",
     "text": [
      "Epoch [371/6000]: 100%|██████████| 17/17 [00:00<00:00, 122.41it/s, loss=14.4]\n"
     ]
    },
    {
     "output_type": "stream",
     "name": "stdout",
     "text": [
      "Epoch [371/6000]: Train loss: 18.2836, Valid loss: 17.1852\n",
      "Saving model with loss 17.185...\n"
     ]
    },
    {
     "output_type": "stream",
     "name": "stderr",
     "text": [
      "Epoch [372/6000]: 100%|██████████| 17/17 [00:00<00:00, 120.41it/s, loss=14.1]\n"
     ]
    },
    {
     "output_type": "stream",
     "name": "stdout",
     "text": [
      "Epoch [372/6000]: Train loss: 18.1781, Valid loss: 18.8205\n"
     ]
    },
    {
     "output_type": "stream",
     "name": "stderr",
     "text": [
      "Epoch [373/6000]: 100%|██████████| 17/17 [00:00<00:00, 125.63it/s, loss=17.9]\n"
     ]
    },
    {
     "output_type": "stream",
     "name": "stdout",
     "text": [
      "Epoch [373/6000]: Train loss: 18.1034, Valid loss: 17.8847\n"
     ]
    },
    {
     "output_type": "stream",
     "name": "stderr",
     "text": [
      "Epoch [374/6000]: 100%|██████████| 17/17 [00:00<00:00, 115.48it/s, loss=17.9]\n"
     ]
    },
    {
     "output_type": "stream",
     "name": "stdout",
     "text": [
      "Epoch [374/6000]: Train loss: 18.0036, Valid loss: 20.6468\n"
     ]
    },
    {
     "output_type": "stream",
     "name": "stderr",
     "text": [
      "Epoch [375/6000]: 100%|██████████| 17/17 [00:00<00:00, 126.90it/s, loss=18.6]\n"
     ]
    },
    {
     "output_type": "stream",
     "name": "stdout",
     "text": [
      "Epoch [375/6000]: Train loss: 17.9097, Valid loss: 16.3284\n",
      "Saving model with loss 16.328...\n"
     ]
    },
    {
     "output_type": "stream",
     "name": "stderr",
     "text": [
      "Epoch [376/6000]: 100%|██████████| 17/17 [00:00<00:00, 125.64it/s, loss=15.4]\n"
     ]
    },
    {
     "output_type": "stream",
     "name": "stdout",
     "text": [
      "Epoch [376/6000]: Train loss: 17.7888, Valid loss: 18.1957\n"
     ]
    },
    {
     "output_type": "stream",
     "name": "stderr",
     "text": [
      "Epoch [377/6000]: 100%|██████████| 17/17 [00:00<00:00, 120.32it/s, loss=17.9]\n"
     ]
    },
    {
     "output_type": "stream",
     "name": "stdout",
     "text": [
      "Epoch [377/6000]: Train loss: 17.7087, Valid loss: 19.6168\n"
     ]
    },
    {
     "output_type": "stream",
     "name": "stderr",
     "text": [
      "Epoch [378/6000]: 100%|██████████| 17/17 [00:00<00:00, 124.35it/s, loss=14.5]\n"
     ]
    },
    {
     "output_type": "stream",
     "name": "stdout",
     "text": [
      "Epoch [378/6000]: Train loss: 17.5875, Valid loss: 17.3549\n"
     ]
    },
    {
     "output_type": "stream",
     "name": "stderr",
     "text": [
      "Epoch [379/6000]: 100%|██████████| 17/17 [00:00<00:00, 128.92it/s, loss=17.3]\n"
     ]
    },
    {
     "output_type": "stream",
     "name": "stdout",
     "text": [
      "Epoch [379/6000]: Train loss: 17.5141, Valid loss: 17.8144\n"
     ]
    },
    {
     "output_type": "stream",
     "name": "stderr",
     "text": [
      "Epoch [380/6000]: 100%|██████████| 17/17 [00:00<00:00, 132.78it/s, loss=21.4]\n"
     ]
    },
    {
     "output_type": "stream",
     "name": "stdout",
     "text": [
      "Epoch [380/6000]: Train loss: 17.4500, Valid loss: 17.9968\n"
     ]
    },
    {
     "output_type": "stream",
     "name": "stderr",
     "text": [
      "Epoch [381/6000]: 100%|██████████| 17/17 [00:00<00:00, 128.29it/s, loss=12.9]\n"
     ]
    },
    {
     "output_type": "stream",
     "name": "stdout",
     "text": [
      "Epoch [381/6000]: Train loss: 17.2976, Valid loss: 17.1844\n"
     ]
    },
    {
     "output_type": "stream",
     "name": "stderr",
     "text": [
      "Epoch [382/6000]: 100%|██████████| 17/17 [00:00<00:00, 121.86it/s, loss=18.9]\n"
     ]
    },
    {
     "output_type": "stream",
     "name": "stdout",
     "text": [
      "Epoch [382/6000]: Train loss: 17.2495, Valid loss: 17.7340\n"
     ]
    },
    {
     "output_type": "stream",
     "name": "stderr",
     "text": [
      "Epoch [383/6000]: 100%|██████████| 17/17 [00:00<00:00, 121.56it/s, loss=17.9]\n"
     ]
    },
    {
     "output_type": "stream",
     "name": "stdout",
     "text": [
      "Epoch [383/6000]: Train loss: 17.1537, Valid loss: 17.5800\n"
     ]
    },
    {
     "output_type": "stream",
     "name": "stderr",
     "text": [
      "Epoch [384/6000]: 100%|██████████| 17/17 [00:00<00:00, 131.30it/s, loss=17.3]\n"
     ]
    },
    {
     "output_type": "stream",
     "name": "stdout",
     "text": [
      "Epoch [384/6000]: Train loss: 17.0603, Valid loss: 18.0298\n"
     ]
    },
    {
     "output_type": "stream",
     "name": "stderr",
     "text": [
      "Epoch [385/6000]: 100%|██████████| 17/17 [00:00<00:00, 121.50it/s, loss=16.9]\n"
     ]
    },
    {
     "output_type": "stream",
     "name": "stdout",
     "text": [
      "Epoch [385/6000]: Train loss: 16.9697, Valid loss: 15.7423\n",
      "Saving model with loss 15.742...\n"
     ]
    },
    {
     "output_type": "stream",
     "name": "stderr",
     "text": [
      "Epoch [386/6000]: 100%|██████████| 17/17 [00:00<00:00, 134.06it/s, loss=12]\n"
     ]
    },
    {
     "output_type": "stream",
     "name": "stdout",
     "text": [
      "Epoch [386/6000]: Train loss: 16.8476, Valid loss: 17.3217\n"
     ]
    },
    {
     "output_type": "stream",
     "name": "stderr",
     "text": [
      "Epoch [387/6000]: 100%|██████████| 17/17 [00:00<00:00, 128.47it/s, loss=16.4]\n"
     ]
    },
    {
     "output_type": "stream",
     "name": "stdout",
     "text": [
      "Epoch [387/6000]: Train loss: 16.7942, Valid loss: 17.7402\n"
     ]
    },
    {
     "output_type": "stream",
     "name": "stderr",
     "text": [
      "Epoch [388/6000]: 100%|██████████| 17/17 [00:00<00:00, 131.89it/s, loss=20.3]\n"
     ]
    },
    {
     "output_type": "stream",
     "name": "stdout",
     "text": [
      "Epoch [388/6000]: Train loss: 16.7388, Valid loss: 16.6877\n"
     ]
    },
    {
     "output_type": "stream",
     "name": "stderr",
     "text": [
      "Epoch [389/6000]: 100%|██████████| 17/17 [00:00<00:00, 130.01it/s, loss=17.4]\n"
     ]
    },
    {
     "output_type": "stream",
     "name": "stdout",
     "text": [
      "Epoch [389/6000]: Train loss: 16.6330, Valid loss: 16.5420\n"
     ]
    },
    {
     "output_type": "stream",
     "name": "stderr",
     "text": [
      "Epoch [390/6000]: 100%|██████████| 17/17 [00:00<00:00, 127.99it/s, loss=13.7]\n"
     ]
    },
    {
     "output_type": "stream",
     "name": "stdout",
     "text": [
      "Epoch [390/6000]: Train loss: 16.5258, Valid loss: 15.6935\n",
      "Saving model with loss 15.693...\n"
     ]
    },
    {
     "output_type": "stream",
     "name": "stderr",
     "text": [
      "Epoch [391/6000]: 100%|██████████| 17/17 [00:00<00:00, 124.72it/s, loss=17.6]\n"
     ]
    },
    {
     "output_type": "stream",
     "name": "stdout",
     "text": [
      "Epoch [391/6000]: Train loss: 16.4691, Valid loss: 15.3837\n",
      "Saving model with loss 15.384...\n"
     ]
    },
    {
     "output_type": "stream",
     "name": "stderr",
     "text": [
      "Epoch [392/6000]: 100%|██████████| 17/17 [00:00<00:00, 104.02it/s, loss=18]\n"
     ]
    },
    {
     "output_type": "stream",
     "name": "stdout",
     "text": [
      "Epoch [392/6000]: Train loss: 16.3909, Valid loss: 14.8362\n",
      "Saving model with loss 14.836...\n"
     ]
    },
    {
     "output_type": "stream",
     "name": "stderr",
     "text": [
      "Epoch [393/6000]: 100%|██████████| 17/17 [00:00<00:00, 117.68it/s, loss=18.6]\n"
     ]
    },
    {
     "output_type": "stream",
     "name": "stdout",
     "text": [
      "Epoch [393/6000]: Train loss: 16.3149, Valid loss: 16.1224\n"
     ]
    },
    {
     "output_type": "stream",
     "name": "stderr",
     "text": [
      "Epoch [394/6000]: 100%|██████████| 17/17 [00:00<00:00, 123.15it/s, loss=15.1]\n"
     ]
    },
    {
     "output_type": "stream",
     "name": "stdout",
     "text": [
      "Epoch [394/6000]: Train loss: 16.2094, Valid loss: 16.5467\n"
     ]
    },
    {
     "output_type": "stream",
     "name": "stderr",
     "text": [
      "Epoch [395/6000]: 100%|██████████| 17/17 [00:00<00:00, 118.93it/s, loss=15]\n"
     ]
    },
    {
     "output_type": "stream",
     "name": "stdout",
     "text": [
      "Epoch [395/6000]: Train loss: 16.1287, Valid loss: 15.5636\n"
     ]
    },
    {
     "output_type": "stream",
     "name": "stderr",
     "text": [
      "Epoch [396/6000]: 100%|██████████| 17/17 [00:00<00:00, 117.26it/s, loss=19.4]\n"
     ]
    },
    {
     "output_type": "stream",
     "name": "stdout",
     "text": [
      "Epoch [396/6000]: Train loss: 16.0826, Valid loss: 15.8697\n"
     ]
    },
    {
     "output_type": "stream",
     "name": "stderr",
     "text": [
      "Epoch [397/6000]: 100%|██████████| 17/17 [00:00<00:00, 114.59it/s, loss=16.9]\n"
     ]
    },
    {
     "output_type": "stream",
     "name": "stdout",
     "text": [
      "Epoch [397/6000]: Train loss: 15.9861, Valid loss: 17.3335\n"
     ]
    },
    {
     "output_type": "stream",
     "name": "stderr",
     "text": [
      "Epoch [398/6000]: 100%|██████████| 17/17 [00:00<00:00, 113.82it/s, loss=11.8]\n"
     ]
    },
    {
     "output_type": "stream",
     "name": "stdout",
     "text": [
      "Epoch [398/6000]: Train loss: 15.8735, Valid loss: 15.1902\n"
     ]
    },
    {
     "output_type": "stream",
     "name": "stderr",
     "text": [
      "Epoch [400/6000]: 100%|██████████| 17/17 [00:00<00:00, 108.28it/s, loss=16.2]\n"
     ]
    },
    {
     "output_type": "stream",
     "name": "stdout",
     "text": [
      "Epoch [400/6000]: Train loss: 15.7527, Valid loss: 14.9522\n"
     ]
    },
    {
     "output_type": "stream",
     "name": "stderr",
     "text": [
      "Epoch [401/6000]: 100%|██████████| 17/17 [00:00<00:00, 117.12it/s, loss=16.3]\n"
     ]
    },
    {
     "output_type": "stream",
     "name": "stdout",
     "text": [
      "Epoch [401/6000]: Train loss: 15.6781, Valid loss: 14.8062\n",
      "Saving model with loss 14.806...\n"
     ]
    },
    {
     "output_type": "stream",
     "name": "stderr",
     "text": [
      "Epoch [402/6000]: 100%|██████████| 17/17 [00:00<00:00, 115.10it/s, loss=14.8]\n"
     ]
    },
    {
     "output_type": "stream",
     "name": "stdout",
     "text": [
      "Epoch [402/6000]: Train loss: 15.5928, Valid loss: 15.2040\n"
     ]
    },
    {
     "output_type": "stream",
     "name": "stderr",
     "text": [
      "Epoch [403/6000]: 100%|██████████| 17/17 [00:00<00:00, 122.09it/s, loss=16.2]\n"
     ]
    },
    {
     "output_type": "stream",
     "name": "stdout",
     "text": [
      "Epoch [403/6000]: Train loss: 15.5294, Valid loss: 14.1264\n",
      "Saving model with loss 14.126...\n"
     ]
    },
    {
     "output_type": "stream",
     "name": "stderr",
     "text": [
      "Epoch [404/6000]: 100%|██████████| 17/17 [00:00<00:00, 115.48it/s, loss=13.3]\n"
     ]
    },
    {
     "output_type": "stream",
     "name": "stdout",
     "text": [
      "Epoch [404/6000]: Train loss: 15.4354, Valid loss: 14.8540\n"
     ]
    },
    {
     "output_type": "stream",
     "name": "stderr",
     "text": [
      "Epoch [405/6000]: 100%|██████████| 17/17 [00:00<00:00, 103.38it/s, loss=17.8]\n"
     ]
    },
    {
     "output_type": "stream",
     "name": "stdout",
     "text": [
      "Epoch [405/6000]: Train loss: 15.3947, Valid loss: 16.4335\n"
     ]
    },
    {
     "output_type": "stream",
     "name": "stderr",
     "text": [
      "Epoch [406/6000]: 100%|██████████| 17/17 [00:00<00:00, 110.46it/s, loss=20.4]\n"
     ]
    },
    {
     "output_type": "stream",
     "name": "stdout",
     "text": [
      "Epoch [406/6000]: Train loss: 15.3412, Valid loss: 14.4286\n"
     ]
    },
    {
     "output_type": "stream",
     "name": "stderr",
     "text": [
      "Epoch [407/6000]: 100%|██████████| 17/17 [00:00<00:00, 110.60it/s, loss=14.2]\n"
     ]
    },
    {
     "output_type": "stream",
     "name": "stdout",
     "text": [
      "Epoch [407/6000]: Train loss: 15.2253, Valid loss: 14.1438\n"
     ]
    },
    {
     "output_type": "stream",
     "name": "stderr",
     "text": [
      "Epoch [408/6000]: 100%|██████████| 17/17 [00:00<00:00, 123.84it/s, loss=18.1]\n"
     ]
    },
    {
     "output_type": "stream",
     "name": "stdout",
     "text": [
      "Epoch [408/6000]: Train loss: 15.1833, Valid loss: 15.2086\n"
     ]
    },
    {
     "output_type": "stream",
     "name": "stderr",
     "text": [
      "Epoch [409/6000]: 100%|██████████| 17/17 [00:00<00:00, 124.24it/s, loss=18]\n"
     ]
    },
    {
     "output_type": "stream",
     "name": "stdout",
     "text": [
      "Epoch [409/6000]: Train loss: 15.1117, Valid loss: 14.9661\n"
     ]
    },
    {
     "output_type": "stream",
     "name": "stderr",
     "text": [
      "Epoch [410/6000]: 100%|██████████| 17/17 [00:00<00:00, 112.60it/s, loss=13.9]\n"
     ]
    },
    {
     "output_type": "stream",
     "name": "stdout",
     "text": [
      "Epoch [410/6000]: Train loss: 15.0104, Valid loss: 15.6696\n"
     ]
    },
    {
     "output_type": "stream",
     "name": "stderr",
     "text": [
      "Epoch [411/6000]: 100%|██████████| 17/17 [00:00<00:00, 118.17it/s, loss=13.2]\n"
     ]
    },
    {
     "output_type": "stream",
     "name": "stdout",
     "text": [
      "Epoch [411/6000]: Train loss: 14.9372, Valid loss: 15.0300\n"
     ]
    },
    {
     "output_type": "stream",
     "name": "stderr",
     "text": [
      "Epoch [412/6000]: 100%|██████████| 17/17 [00:00<00:00, 122.91it/s, loss=19.1]\n"
     ]
    },
    {
     "output_type": "stream",
     "name": "stdout",
     "text": [
      "Epoch [412/6000]: Train loss: 14.9100, Valid loss: 15.1115\n"
     ]
    },
    {
     "output_type": "stream",
     "name": "stderr",
     "text": [
      "Epoch [414/6000]: 100%|██████████| 17/17 [00:00<00:00, 115.24it/s, loss=11]\n"
     ]
    },
    {
     "output_type": "stream",
     "name": "stdout",
     "text": [
      "Epoch [414/6000]: Train loss: 14.7139, Valid loss: 14.9604\n"
     ]
    },
    {
     "output_type": "stream",
     "name": "stderr",
     "text": [
      "Epoch [415/6000]: 100%|██████████| 17/17 [00:00<00:00, 117.74it/s, loss=14.6]\n"
     ]
    },
    {
     "output_type": "stream",
     "name": "stdout",
     "text": [
      "Epoch [415/6000]: Train loss: 14.6710, Valid loss: 14.4328\n"
     ]
    },
    {
     "output_type": "stream",
     "name": "stderr",
     "text": [
      "Epoch [416/6000]: 100%|██████████| 17/17 [00:00<00:00, 121.87it/s, loss=15.9]\n"
     ]
    },
    {
     "output_type": "stream",
     "name": "stdout",
     "text": [
      "Epoch [416/6000]: Train loss: 14.6134, Valid loss: 14.2500\n"
     ]
    },
    {
     "output_type": "stream",
     "name": "stderr",
     "text": [
      "Epoch [417/6000]: 100%|██████████| 17/17 [00:00<00:00, 117.54it/s, loss=11]\n"
     ]
    },
    {
     "output_type": "stream",
     "name": "stdout",
     "text": [
      "Epoch [417/6000]: Train loss: 14.5101, Valid loss: 14.7017\n"
     ]
    },
    {
     "output_type": "stream",
     "name": "stderr",
     "text": [
      "Epoch [418/6000]: 100%|██████████| 17/17 [00:00<00:00, 117.31it/s, loss=13.6]\n"
     ]
    },
    {
     "output_type": "stream",
     "name": "stdout",
     "text": [
      "Epoch [418/6000]: Train loss: 14.4623, Valid loss: 13.6829\n",
      "Saving model with loss 13.683...\n"
     ]
    },
    {
     "output_type": "stream",
     "name": "stderr",
     "text": [
      "Epoch [419/6000]: 100%|██████████| 17/17 [00:00<00:00, 117.09it/s, loss=16.7]\n"
     ]
    },
    {
     "output_type": "stream",
     "name": "stdout",
     "text": [
      "Epoch [419/6000]: Train loss: 14.4189, Valid loss: 14.6916\n"
     ]
    },
    {
     "output_type": "stream",
     "name": "stderr",
     "text": [
      "Epoch [420/6000]: 100%|██████████| 17/17 [00:00<00:00, 116.24it/s, loss=15]\n"
     ]
    },
    {
     "output_type": "stream",
     "name": "stdout",
     "text": [
      "Epoch [420/6000]: Train loss: 14.3398, Valid loss: 14.2992\n"
     ]
    },
    {
     "output_type": "stream",
     "name": "stderr",
     "text": [
      "Epoch [421/6000]: 100%|██████████| 17/17 [00:00<00:00, 122.35it/s, loss=16.2]\n"
     ]
    },
    {
     "output_type": "stream",
     "name": "stdout",
     "text": [
      "Epoch [421/6000]: Train loss: 14.2827, Valid loss: 13.9244\n"
     ]
    },
    {
     "output_type": "stream",
     "name": "stderr",
     "text": [
      "Epoch [422/6000]: 100%|██████████| 17/17 [00:00<00:00, 117.38it/s, loss=12.4]\n"
     ]
    },
    {
     "output_type": "stream",
     "name": "stdout",
     "text": [
      "Epoch [422/6000]: Train loss: 14.1890, Valid loss: 13.8357\n"
     ]
    },
    {
     "output_type": "stream",
     "name": "stderr",
     "text": [
      "Epoch [423/6000]: 100%|██████████| 17/17 [00:00<00:00, 123.23it/s, loss=13.2]\n"
     ]
    },
    {
     "output_type": "stream",
     "name": "stdout",
     "text": [
      "Epoch [423/6000]: Train loss: 14.1290, Valid loss: 13.7483\n"
     ]
    },
    {
     "output_type": "stream",
     "name": "stderr",
     "text": [
      "Epoch [424/6000]: 100%|██████████| 17/17 [00:00<00:00, 110.31it/s, loss=12.5]\n"
     ]
    },
    {
     "output_type": "stream",
     "name": "stdout",
     "text": [
      "Epoch [424/6000]: Train loss: 14.0590, Valid loss: 13.3366\n",
      "Saving model with loss 13.337...\n"
     ]
    },
    {
     "output_type": "stream",
     "name": "stderr",
     "text": [
      "Epoch [425/6000]: 100%|██████████| 17/17 [00:00<00:00, 91.03it/s, loss=17.5]\n"
     ]
    },
    {
     "output_type": "stream",
     "name": "stdout",
     "text": [
      "Epoch [425/6000]: Train loss: 14.0299, Valid loss: 13.7387\n"
     ]
    },
    {
     "output_type": "stream",
     "name": "stderr",
     "text": [
      "Epoch [426/6000]: 100%|██████████| 17/17 [00:00<00:00, 118.02it/s, loss=13.1]\n"
     ]
    },
    {
     "output_type": "stream",
     "name": "stdout",
     "text": [
      "Epoch [426/6000]: Train loss: 13.9338, Valid loss: 14.0001\n"
     ]
    },
    {
     "output_type": "stream",
     "name": "stderr",
     "text": [
      "Epoch [431/6000]: 100%|██████████| 17/17 [00:00<00:00, 110.32it/s, loss=13.6]\n"
     ]
    },
    {
     "output_type": "stream",
     "name": "stdout",
     "text": [
      "Epoch [431/6000]: Train loss: 13.6174, Valid loss: 13.2970\n"
     ]
    },
    {
     "output_type": "stream",
     "name": "stderr",
     "text": [
      "Epoch [432/6000]: 100%|██████████| 17/17 [00:00<00:00, 111.60it/s, loss=13.3]\n"
     ]
    },
    {
     "output_type": "stream",
     "name": "stdout",
     "text": [
      "Epoch [432/6000]: Train loss: 13.5519, Valid loss: 13.1088\n"
     ]
    },
    {
     "output_type": "stream",
     "name": "stderr",
     "text": [
      "Epoch [433/6000]: 100%|██████████| 17/17 [00:00<00:00, 125.25it/s, loss=13]\n"
     ]
    },
    {
     "output_type": "stream",
     "name": "stdout",
     "text": [
      "Epoch [433/6000]: Train loss: 13.4871, Valid loss: 12.7065\n",
      "Saving model with loss 12.707...\n"
     ]
    },
    {
     "output_type": "stream",
     "name": "stderr",
     "text": [
      "Epoch [434/6000]: 100%|██████████| 17/17 [00:00<00:00, 127.31it/s, loss=12.9]\n"
     ]
    },
    {
     "output_type": "stream",
     "name": "stdout",
     "text": [
      "Epoch [434/6000]: Train loss: 13.4231, Valid loss: 12.9776\n"
     ]
    },
    {
     "output_type": "stream",
     "name": "stderr",
     "text": [
      "Epoch [435/6000]: 100%|██████████| 17/17 [00:00<00:00, 126.88it/s, loss=12.8]\n"
     ]
    },
    {
     "output_type": "stream",
     "name": "stdout",
     "text": [
      "Epoch [435/6000]: Train loss: 13.3599, Valid loss: 12.6439\n",
      "Saving model with loss 12.644...\n"
     ]
    },
    {
     "output_type": "stream",
     "name": "stderr",
     "text": [
      "Epoch [436/6000]: 100%|██████████| 17/17 [00:00<00:00, 117.51it/s, loss=12.1]\n"
     ]
    },
    {
     "output_type": "stream",
     "name": "stdout",
     "text": [
      "Epoch [436/6000]: Train loss: 13.2925, Valid loss: 14.3022\n"
     ]
    },
    {
     "output_type": "stream",
     "name": "stderr",
     "text": [
      "Epoch [437/6000]: 100%|██████████| 17/17 [00:00<00:00, 123.23it/s, loss=16]\n"
     ]
    },
    {
     "output_type": "stream",
     "name": "stdout",
     "text": [
      "Epoch [437/6000]: Train loss: 13.2582, Valid loss: 14.3420\n"
     ]
    },
    {
     "output_type": "stream",
     "name": "stderr",
     "text": [
      "Epoch [438/6000]: 100%|██████████| 17/17 [00:00<00:00, 122.07it/s, loss=13.7]\n"
     ]
    },
    {
     "output_type": "stream",
     "name": "stdout",
     "text": [
      "Epoch [438/6000]: Train loss: 13.1800, Valid loss: 12.3578\n",
      "Saving model with loss 12.358...\n"
     ]
    },
    {
     "output_type": "stream",
     "name": "stderr",
     "text": [
      "Epoch [439/6000]: 100%|██████████| 17/17 [00:00<00:00, 132.21it/s, loss=13]\n"
     ]
    },
    {
     "output_type": "stream",
     "name": "stdout",
     "text": [
      "Epoch [439/6000]: Train loss: 13.1138, Valid loss: 12.3505\n",
      "Saving model with loss 12.351...\n"
     ]
    },
    {
     "output_type": "stream",
     "name": "stderr",
     "text": [
      "Epoch [440/6000]: 100%|██████████| 17/17 [00:00<00:00, 120.72it/s, loss=13.6]\n"
     ]
    },
    {
     "output_type": "stream",
     "name": "stdout",
     "text": [
      "Epoch [440/6000]: Train loss: 13.0558, Valid loss: 13.3348\n"
     ]
    },
    {
     "output_type": "stream",
     "name": "stderr",
     "text": [
      "Epoch [441/6000]: 100%|██████████| 17/17 [00:00<00:00, 123.20it/s, loss=13.1]\n"
     ]
    },
    {
     "output_type": "stream",
     "name": "stdout",
     "text": [
      "Epoch [441/6000]: Train loss: 12.9913, Valid loss: 12.2609\n",
      "Saving model with loss 12.261...\n"
     ]
    },
    {
     "output_type": "stream",
     "name": "stderr",
     "text": [
      "Epoch [442/6000]: 100%|██████████| 17/17 [00:00<00:00, 120.30it/s, loss=14.1]\n"
     ]
    },
    {
     "output_type": "stream",
     "name": "stdout",
     "text": [
      "Epoch [442/6000]: Train loss: 12.9380, Valid loss: 13.9973\n"
     ]
    },
    {
     "output_type": "stream",
     "name": "stderr",
     "text": [
      "Epoch [443/6000]: 100%|██████████| 17/17 [00:00<00:00, 124.84it/s, loss=13]\n"
     ]
    },
    {
     "output_type": "stream",
     "name": "stdout",
     "text": [
      "Epoch [443/6000]: Train loss: 12.8687, Valid loss: 13.1002\n"
     ]
    },
    {
     "output_type": "stream",
     "name": "stderr",
     "text": [
      "Epoch [452/6000]: 100%|██████████| 17/17 [00:00<00:00, 115.68it/s, loss=14.1]\n"
     ]
    },
    {
     "output_type": "stream",
     "name": "stdout",
     "text": [
      "Epoch [452/6000]: Train loss: 12.3421, Valid loss: 12.3440\n"
     ]
    },
    {
     "output_type": "stream",
     "name": "stderr",
     "text": [
      "Epoch [453/6000]: 100%|██████████| 17/17 [00:00<00:00, 121.09it/s, loss=8.6]\n"
     ]
    },
    {
     "output_type": "stream",
     "name": "stdout",
     "text": [
      "Epoch [453/6000]: Train loss: 12.2457, Valid loss: 12.0277\n"
     ]
    },
    {
     "output_type": "stream",
     "name": "stderr",
     "text": [
      "Epoch [454/6000]: 100%|██████████| 17/17 [00:00<00:00, 127.69it/s, loss=10.9]\n"
     ]
    },
    {
     "output_type": "stream",
     "name": "stdout",
     "text": [
      "Epoch [454/6000]: Train loss: 12.2023, Valid loss: 11.9471\n"
     ]
    },
    {
     "output_type": "stream",
     "name": "stderr",
     "text": [
      "Epoch [455/6000]: 100%|██████████| 17/17 [00:00<00:00, 111.84it/s, loss=10.9]\n"
     ]
    },
    {
     "output_type": "stream",
     "name": "stdout",
     "text": [
      "Epoch [455/6000]: Train loss: 12.1459, Valid loss: 12.0974\n"
     ]
    },
    {
     "output_type": "stream",
     "name": "stderr",
     "text": [
      "Epoch [456/6000]: 100%|██████████| 17/17 [00:00<00:00, 112.01it/s, loss=11.8]\n"
     ]
    },
    {
     "output_type": "stream",
     "name": "stdout",
     "text": [
      "Epoch [456/6000]: Train loss: 12.0945, Valid loss: 11.4818\n"
     ]
    },
    {
     "output_type": "stream",
     "name": "stderr",
     "text": [
      "Epoch [457/6000]: 100%|██████████| 17/17 [00:00<00:00, 112.26it/s, loss=11.7]\n"
     ]
    },
    {
     "output_type": "stream",
     "name": "stdout",
     "text": [
      "Epoch [457/6000]: Train loss: 12.0359, Valid loss: 10.6144\n",
      "Saving model with loss 10.614...\n"
     ]
    },
    {
     "output_type": "stream",
     "name": "stderr",
     "text": [
      "Epoch [458/6000]: 100%|██████████| 17/17 [00:00<00:00, 113.46it/s, loss=10.4]\n"
     ]
    },
    {
     "output_type": "stream",
     "name": "stdout",
     "text": [
      "Epoch [458/6000]: Train loss: 11.9699, Valid loss: 11.3364\n"
     ]
    },
    {
     "output_type": "stream",
     "name": "stderr",
     "text": [
      "Epoch [459/6000]: 100%|██████████| 17/17 [00:00<00:00, 119.25it/s, loss=15.3]\n"
     ]
    },
    {
     "output_type": "stream",
     "name": "stdout",
     "text": [
      "Epoch [459/6000]: Train loss: 11.9481, Valid loss: 11.8208\n"
     ]
    },
    {
     "output_type": "stream",
     "name": "stderr",
     "text": [
      "Epoch [460/6000]: 100%|██████████| 17/17 [00:00<00:00, 122.28it/s, loss=14]\n"
     ]
    },
    {
     "output_type": "stream",
     "name": "stdout",
     "text": [
      "Epoch [460/6000]: Train loss: 11.8835, Valid loss: 11.0989\n"
     ]
    },
    {
     "output_type": "stream",
     "name": "stderr",
     "text": [
      "Epoch [461/6000]: 100%|██████████| 17/17 [00:00<00:00, 118.59it/s, loss=10.3]\n"
     ]
    },
    {
     "output_type": "stream",
     "name": "stdout",
     "text": [
      "Epoch [461/6000]: Train loss: 11.7996, Valid loss: 10.8550\n"
     ]
    },
    {
     "output_type": "stream",
     "name": "stderr",
     "text": [
      "Epoch [462/6000]: 100%|██████████| 17/17 [00:00<00:00, 111.34it/s, loss=10.1]\n"
     ]
    },
    {
     "output_type": "stream",
     "name": "stdout",
     "text": [
      "Epoch [462/6000]: Train loss: 11.7425, Valid loss: 13.3098\n"
     ]
    },
    {
     "output_type": "stream",
     "name": "stderr",
     "text": [
      "Epoch [463/6000]: 100%|██████████| 17/17 [00:00<00:00, 98.10it/s, loss=11.9]\n"
     ]
    },
    {
     "output_type": "stream",
     "name": "stdout",
     "text": [
      "Epoch [463/6000]: Train loss: 11.6991, Valid loss: 11.0658\n"
     ]
    },
    {
     "output_type": "stream",
     "name": "stderr",
     "text": [
      "Epoch [464/6000]: 100%|██████████| 17/17 [00:00<00:00, 112.84it/s, loss=9.83]\n"
     ]
    },
    {
     "output_type": "stream",
     "name": "stdout",
     "text": [
      "Epoch [464/6000]: Train loss: 11.6276, Valid loss: 11.5995\n"
     ]
    },
    {
     "output_type": "stream",
     "name": "stderr",
     "text": [
      "Epoch [465/6000]: 100%|██████████| 17/17 [00:00<00:00, 115.06it/s, loss=12.5]\n"
     ]
    },
    {
     "output_type": "stream",
     "name": "stdout",
     "text": [
      "Epoch [465/6000]: Train loss: 11.5936, Valid loss: 11.2612\n"
     ]
    },
    {
     "output_type": "stream",
     "name": "stderr",
     "text": [
      "Epoch [466/6000]: 100%|██████████| 17/17 [00:00<00:00, 115.92it/s, loss=9]\n"
     ]
    },
    {
     "output_type": "stream",
     "name": "stdout",
     "text": [
      "Epoch [466/6000]: Train loss: 11.5117, Valid loss: 11.3470\n"
     ]
    },
    {
     "output_type": "stream",
     "name": "stderr",
     "text": [
      "Epoch [467/6000]: 100%|██████████| 17/17 [00:00<00:00, 120.12it/s, loss=11.6]\n"
     ]
    },
    {
     "output_type": "stream",
     "name": "stdout",
     "text": [
      "Epoch [467/6000]: Train loss: 11.4753, Valid loss: 11.8944\n"
     ]
    },
    {
     "output_type": "stream",
     "name": "stderr",
     "text": [
      "Epoch [468/6000]: 100%|██████████| 17/17 [00:00<00:00, 122.99it/s, loss=11.2]\n"
     ]
    },
    {
     "output_type": "stream",
     "name": "stdout",
     "text": [
      "Epoch [468/6000]: Train loss: 11.4181, Valid loss: 10.5999\n",
      "Saving model with loss 10.600...\n"
     ]
    },
    {
     "output_type": "stream",
     "name": "stderr",
     "text": [
      "Epoch [469/6000]: 100%|██████████| 17/17 [00:00<00:00, 121.97it/s, loss=15.6]\n"
     ]
    },
    {
     "output_type": "stream",
     "name": "stdout",
     "text": [
      "Epoch [469/6000]: Train loss: 11.3958, Valid loss: 11.4446\n"
     ]
    },
    {
     "output_type": "stream",
     "name": "stderr",
     "text": [
      "Epoch [470/6000]: 100%|██████████| 17/17 [00:00<00:00, 116.98it/s, loss=10.3]\n"
     ]
    },
    {
     "output_type": "stream",
     "name": "stdout",
     "text": [
      "Epoch [470/6000]: Train loss: 11.3030, Valid loss: 11.4994\n"
     ]
    },
    {
     "output_type": "stream",
     "name": "stderr",
     "text": [
      "Epoch [471/6000]: 100%|██████████| 17/17 [00:00<00:00, 124.98it/s, loss=10.7]\n"
     ]
    },
    {
     "output_type": "stream",
     "name": "stdout",
     "text": [
      "Epoch [471/6000]: Train loss: 11.2515, Valid loss: 10.8414\n"
     ]
    },
    {
     "output_type": "stream",
     "name": "stderr",
     "text": [
      "Epoch [472/6000]: 100%|██████████| 17/17 [00:00<00:00, 130.34it/s, loss=11.4]\n"
     ]
    },
    {
     "output_type": "stream",
     "name": "stdout",
     "text": [
      "Epoch [472/6000]: Train loss: 11.2028, Valid loss: 11.2049\n"
     ]
    },
    {
     "output_type": "stream",
     "name": "stderr",
     "text": [
      "Epoch [473/6000]: 100%|██████████| 17/17 [00:00<00:00, 126.13it/s, loss=12.1]\n"
     ]
    },
    {
     "output_type": "stream",
     "name": "stdout",
     "text": [
      "Epoch [473/6000]: Train loss: 11.1545, Valid loss: 11.7508\n"
     ]
    },
    {
     "output_type": "stream",
     "name": "stderr",
     "text": [
      "Epoch [474/6000]: 100%|██████████| 17/17 [00:00<00:00, 124.43it/s, loss=11.3]\n"
     ]
    },
    {
     "output_type": "stream",
     "name": "stdout",
     "text": [
      "Epoch [474/6000]: Train loss: 11.0959, Valid loss: 11.7978\n"
     ]
    },
    {
     "output_type": "stream",
     "name": "stderr",
     "text": [
      "Epoch [475/6000]: 100%|██████████| 17/17 [00:00<00:00, 101.80it/s, loss=9.16]\n"
     ]
    },
    {
     "output_type": "stream",
     "name": "stdout",
     "text": [
      "Epoch [475/6000]: Train loss: 11.0271, Valid loss: 11.0345\n"
     ]
    },
    {
     "output_type": "stream",
     "name": "stderr",
     "text": [
      "Epoch [476/6000]: 100%|██████████| 17/17 [00:00<00:00, 119.21it/s, loss=12.8]\n"
     ]
    },
    {
     "output_type": "stream",
     "name": "stdout",
     "text": [
      "Epoch [476/6000]: Train loss: 11.0012, Valid loss: 10.4713\n",
      "Saving model with loss 10.471...\n"
     ]
    },
    {
     "output_type": "stream",
     "name": "stderr",
     "text": [
      "Epoch [477/6000]: 100%|██████████| 17/17 [00:00<00:00, 103.34it/s, loss=9.94]\n"
     ]
    },
    {
     "output_type": "stream",
     "name": "stdout",
     "text": [
      "Epoch [477/6000]: Train loss: 10.9268, Valid loss: 11.5658\n"
     ]
    },
    {
     "output_type": "stream",
     "name": "stderr",
     "text": [
      "Epoch [478/6000]: 100%|██████████| 17/17 [00:00<00:00, 104.54it/s, loss=11.5]\n"
     ]
    },
    {
     "output_type": "stream",
     "name": "stdout",
     "text": [
      "Epoch [478/6000]: Train loss: 10.8864, Valid loss: 10.1292\n",
      "Saving model with loss 10.129...\n"
     ]
    },
    {
     "output_type": "stream",
     "name": "stderr",
     "text": [
      "Epoch [479/6000]: 100%|██████████| 17/17 [00:00<00:00, 89.55it/s, loss=13.5]\n"
     ]
    },
    {
     "output_type": "stream",
     "name": "stdout",
     "text": [
      "Epoch [479/6000]: Train loss: 10.8490, Valid loss: 10.5434\n"
     ]
    },
    {
     "output_type": "stream",
     "name": "stderr",
     "text": [
      "Epoch [480/6000]: 100%|██████████| 17/17 [00:00<00:00, 105.61it/s, loss=11.6]\n"
     ]
    },
    {
     "output_type": "stream",
     "name": "stdout",
     "text": [
      "Epoch [480/6000]: Train loss: 10.7839, Valid loss: 10.1228\n",
      "Saving model with loss 10.123...\n"
     ]
    },
    {
     "output_type": "stream",
     "name": "stderr",
     "text": [
      "Epoch [481/6000]: 100%|██████████| 17/17 [00:00<00:00, 109.10it/s, loss=8.74]\n"
     ]
    },
    {
     "output_type": "stream",
     "name": "stdout",
     "text": [
      "Epoch [481/6000]: Train loss: 10.7106, Valid loss: 10.4369\n"
     ]
    },
    {
     "output_type": "stream",
     "name": "stderr",
     "text": [
      "Epoch [482/6000]: 100%|██████████| 17/17 [00:00<00:00, 108.57it/s, loss=12.1]\n"
     ]
    },
    {
     "output_type": "stream",
     "name": "stdout",
     "text": [
      "Epoch [482/6000]: Train loss: 10.6837, Valid loss: 10.5199\n"
     ]
    },
    {
     "output_type": "stream",
     "name": "stderr",
     "text": [
      "Epoch [483/6000]: 100%|██████████| 17/17 [00:00<00:00, 113.48it/s, loss=9.04]\n"
     ]
    },
    {
     "output_type": "stream",
     "name": "stdout",
     "text": [
      "Epoch [483/6000]: Train loss: 10.6108, Valid loss: 9.7637\n",
      "Saving model with loss 9.764...\n"
     ]
    },
    {
     "output_type": "stream",
     "name": "stderr",
     "text": [
      "Epoch [484/6000]: 100%|██████████| 17/17 [00:00<00:00, 107.74it/s, loss=12.4]\n"
     ]
    },
    {
     "output_type": "stream",
     "name": "stdout",
     "text": [
      "Epoch [484/6000]: Train loss: 10.5843, Valid loss: 11.4417\n"
     ]
    },
    {
     "output_type": "stream",
     "name": "stderr",
     "text": [
      "Epoch [485/6000]: 100%|██████████| 17/17 [00:00<00:00, 98.81it/s, loss=8.62]\n"
     ]
    },
    {
     "output_type": "stream",
     "name": "stdout",
     "text": [
      "Epoch [485/6000]: Train loss: 10.5072, Valid loss: 10.6196\n"
     ]
    },
    {
     "output_type": "stream",
     "name": "stderr",
     "text": [
      "Epoch [486/6000]: 100%|██████████| 17/17 [00:00<00:00, 100.12it/s, loss=9.94]\n"
     ]
    },
    {
     "output_type": "stream",
     "name": "stdout",
     "text": [
      "Epoch [486/6000]: Train loss: 10.4656, Valid loss: 10.0830\n"
     ]
    },
    {
     "output_type": "stream",
     "name": "stderr",
     "text": [
      "Epoch [487/6000]: 100%|██████████| 17/17 [00:00<00:00, 111.33it/s, loss=12.4]\n"
     ]
    },
    {
     "output_type": "stream",
     "name": "stdout",
     "text": [
      "Epoch [487/6000]: Train loss: 10.4331, Valid loss: 9.8597\n"
     ]
    },
    {
     "output_type": "stream",
     "name": "stderr",
     "text": [
      "Epoch [488/6000]: 100%|██████████| 17/17 [00:00<00:00, 95.86it/s, loss=10.9]"
     ]
    },
    {
     "output_type": "stream",
     "name": "stdout",
     "text": [
      "Epoch [488/6000]: Train loss: 10.3734, Valid loss: 10.5525"
     ]
    },
    {
     "output_type": "stream",
     "name": "stderr",
     "text": [
      "\n"
     ]
    },
    {
     "output_type": "stream",
     "name": "stdout",
     "text": [
      "\n"
     ]
    },
    {
     "output_type": "stream",
     "name": "stderr",
     "text": [
      "Epoch [489/6000]: 100%|██████████| 17/17 [00:00<00:00, 104.73it/s, loss=11.9]\n"
     ]
    },
    {
     "output_type": "stream",
     "name": "stdout",
     "text": [
      "Epoch [489/6000]: Train loss: 10.3307, Valid loss: 10.5328\n"
     ]
    },
    {
     "output_type": "stream",
     "name": "stderr",
     "text": [
      "Epoch [490/6000]: 100%|██████████| 17/17 [00:00<00:00, 123.81it/s, loss=10.7]\n"
     ]
    },
    {
     "output_type": "stream",
     "name": "stdout",
     "text": [
      "Epoch [490/6000]: Train loss: 10.2726, Valid loss: 9.6612\n",
      "Saving model with loss 9.661...\n"
     ]
    },
    {
     "output_type": "stream",
     "name": "stderr",
     "text": [
      "Epoch [491/6000]: 100%|██████████| 17/17 [00:00<00:00, 119.44it/s, loss=12.9]\n"
     ]
    },
    {
     "output_type": "stream",
     "name": "stdout",
     "text": [
      "Epoch [491/6000]: Train loss: 10.2402, Valid loss: 10.3213\n"
     ]
    },
    {
     "output_type": "stream",
     "name": "stderr",
     "text": [
      "Epoch [492/6000]: 100%|██████████| 17/17 [00:00<00:00, 103.51it/s, loss=11]\n"
     ]
    },
    {
     "output_type": "stream",
     "name": "stdout",
     "text": [
      "Epoch [492/6000]: Train loss: 10.1775, Valid loss: 9.9919\n"
     ]
    },
    {
     "output_type": "stream",
     "name": "stderr",
     "text": [
      "Epoch [493/6000]: 100%|██████████| 17/17 [00:00<00:00, 113.97it/s, loss=11.1]\n"
     ]
    },
    {
     "output_type": "stream",
     "name": "stdout",
     "text": [
      "Epoch [493/6000]: Train loss: 10.1299, Valid loss: 10.4711\n"
     ]
    },
    {
     "output_type": "stream",
     "name": "stderr",
     "text": [
      "Epoch [494/6000]: 100%|██████████| 17/17 [00:00<00:00, 102.07it/s, loss=9.03]\n"
     ]
    },
    {
     "output_type": "stream",
     "name": "stdout",
     "text": [
      "Epoch [494/6000]: Train loss: 10.0666, Valid loss: 10.3734\n"
     ]
    },
    {
     "output_type": "stream",
     "name": "stderr",
     "text": [
      "Epoch [495/6000]: 100%|██████████| 17/17 [00:00<00:00, 114.75it/s, loss=10]\n"
     ]
    },
    {
     "output_type": "stream",
     "name": "stdout",
     "text": [
      "Epoch [495/6000]: Train loss: 10.0258, Valid loss: 10.0685\n"
     ]
    },
    {
     "output_type": "stream",
     "name": "stderr",
     "text": [
      "Epoch [496/6000]: 100%|██████████| 17/17 [00:00<00:00, 101.18it/s, loss=8.82]\n"
     ]
    },
    {
     "output_type": "stream",
     "name": "stdout",
     "text": [
      "Epoch [496/6000]: Train loss: 9.9691, Valid loss: 9.3629\n",
      "Saving model with loss 9.363...\n"
     ]
    },
    {
     "output_type": "stream",
     "name": "stderr",
     "text": [
      "Epoch [497/6000]: 100%|██████████| 17/17 [00:00<00:00, 119.06it/s, loss=10.9]\n"
     ]
    },
    {
     "output_type": "stream",
     "name": "stdout",
     "text": [
      "Epoch [497/6000]: Train loss: 9.9383, Valid loss: 10.0092\n"
     ]
    },
    {
     "output_type": "stream",
     "name": "stderr",
     "text": [
      "Epoch [498/6000]: 100%|██████████| 17/17 [00:00<00:00, 119.23it/s, loss=10.3]\n"
     ]
    },
    {
     "output_type": "stream",
     "name": "stdout",
     "text": [
      "Epoch [498/6000]: Train loss: 9.8864, Valid loss: 10.1663\n"
     ]
    },
    {
     "output_type": "stream",
     "name": "stderr",
     "text": [
      "Epoch [499/6000]: 100%|██████████| 17/17 [00:00<00:00, 119.36it/s, loss=7.61]\n"
     ]
    },
    {
     "output_type": "stream",
     "name": "stdout",
     "text": [
      "Epoch [499/6000]: Train loss: 9.8201, Valid loss: 8.9260\n",
      "Saving model with loss 8.926...\n"
     ]
    },
    {
     "output_type": "stream",
     "name": "stderr",
     "text": [
      "Epoch [500/6000]: 100%|██████████| 17/17 [00:00<00:00, 124.53it/s, loss=8.62]\n"
     ]
    },
    {
     "output_type": "stream",
     "name": "stdout",
     "text": [
      "Epoch [500/6000]: Train loss: 9.7814, Valid loss: 9.4213\n"
     ]
    },
    {
     "output_type": "stream",
     "name": "stderr",
     "text": [
      "Epoch [501/6000]: 100%|██████████| 17/17 [00:00<00:00, 121.24it/s, loss=11.5]\n"
     ]
    },
    {
     "output_type": "stream",
     "name": "stdout",
     "text": [
      "Epoch [501/6000]: Train loss: 9.7555, Valid loss: 9.6164\n"
     ]
    },
    {
     "output_type": "stream",
     "name": "stderr",
     "text": [
      "Epoch [502/6000]: 100%|██████████| 17/17 [00:00<00:00, 118.09it/s, loss=13.5]\n"
     ]
    },
    {
     "output_type": "stream",
     "name": "stdout",
     "text": [
      "Epoch [502/6000]: Train loss: 9.7249, Valid loss: 8.9284\n"
     ]
    },
    {
     "output_type": "stream",
     "name": "stderr",
     "text": [
      "Epoch [503/6000]: 100%|██████████| 17/17 [00:00<00:00, 117.42it/s, loss=6.94]\n"
     ]
    },
    {
     "output_type": "stream",
     "name": "stdout",
     "text": [
      "Epoch [503/6000]: Train loss: 9.6314, Valid loss: 8.7623\n",
      "Saving model with loss 8.762...\n"
     ]
    },
    {
     "output_type": "stream",
     "name": "stderr",
     "text": [
      "Epoch [504/6000]: 100%|██████████| 17/17 [00:00<00:00, 113.35it/s, loss=8.5]\n"
     ]
    },
    {
     "output_type": "stream",
     "name": "stdout",
     "text": [
      "Epoch [504/6000]: Train loss: 9.5974, Valid loss: 8.8723\n"
     ]
    },
    {
     "output_type": "stream",
     "name": "stderr",
     "text": [
      "Epoch [505/6000]: 100%|██████████| 17/17 [00:00<00:00, 131.60it/s, loss=6.61]\n"
     ]
    },
    {
     "output_type": "stream",
     "name": "stdout",
     "text": [
      "Epoch [505/6000]: Train loss: 9.5389, Valid loss: 9.9033\n"
     ]
    },
    {
     "output_type": "stream",
     "name": "stderr",
     "text": [
      "Epoch [506/6000]: 100%|██████████| 17/17 [00:00<00:00, 107.54it/s, loss=9.27]\n"
     ]
    },
    {
     "output_type": "stream",
     "name": "stdout",
     "text": [
      "Epoch [506/6000]: Train loss: 9.5136, Valid loss: 9.0946\n"
     ]
    },
    {
     "output_type": "stream",
     "name": "stderr",
     "text": [
      "Epoch [507/6000]: 100%|██████████| 17/17 [00:00<00:00, 99.94it/s, loss=8.89]\n"
     ]
    },
    {
     "output_type": "stream",
     "name": "stdout",
     "text": [
      "Epoch [507/6000]: Train loss: 9.4662, Valid loss: 8.8211\n"
     ]
    },
    {
     "output_type": "stream",
     "name": "stderr",
     "text": [
      "Epoch [508/6000]: 100%|██████████| 17/17 [00:00<00:00, 102.56it/s, loss=11.4]\n"
     ]
    },
    {
     "output_type": "stream",
     "name": "stdout",
     "text": [
      "Epoch [508/6000]: Train loss: 9.4399, Valid loss: 9.7527\n"
     ]
    },
    {
     "output_type": "stream",
     "name": "stderr",
     "text": [
      "Epoch [509/6000]: 100%|██████████| 17/17 [00:00<00:00, 105.60it/s, loss=7.62]\n"
     ]
    },
    {
     "output_type": "stream",
     "name": "stdout",
     "text": [
      "Epoch [509/6000]: Train loss: 9.3690, Valid loss: 9.4513\n"
     ]
    },
    {
     "output_type": "stream",
     "name": "stderr",
     "text": [
      "Epoch [510/6000]: 100%|██████████| 17/17 [00:00<00:00, 101.87it/s, loss=8.31]\n"
     ]
    },
    {
     "output_type": "stream",
     "name": "stdout",
     "text": [
      "Epoch [510/6000]: Train loss: 9.3305, Valid loss: 8.9918\n"
     ]
    },
    {
     "output_type": "stream",
     "name": "stderr",
     "text": [
      "Epoch [511/6000]: 100%|██████████| 17/17 [00:00<00:00, 98.09it/s, loss=9.13]\n"
     ]
    },
    {
     "output_type": "stream",
     "name": "stdout",
     "text": [
      "Epoch [511/6000]: Train loss: 9.2928, Valid loss: 9.6468\n"
     ]
    },
    {
     "output_type": "stream",
     "name": "stderr",
     "text": [
      "Epoch [512/6000]: 100%|██████████| 17/17 [00:00<00:00, 115.38it/s, loss=4.56]\n"
     ]
    },
    {
     "output_type": "stream",
     "name": "stdout",
     "text": [
      "Epoch [512/6000]: Train loss: 9.2174, Valid loss: 10.9208\n"
     ]
    },
    {
     "output_type": "stream",
     "name": "stderr",
     "text": [
      "Epoch [513/6000]: 100%|██████████| 17/17 [00:00<00:00, 119.52it/s, loss=10.4]\n"
     ]
    },
    {
     "output_type": "stream",
     "name": "stdout",
     "text": [
      "Epoch [513/6000]: Train loss: 9.2167, Valid loss: 8.9155\n"
     ]
    },
    {
     "output_type": "stream",
     "name": "stderr",
     "text": [
      "Epoch [514/6000]: 100%|██████████| 17/17 [00:00<00:00, 109.16it/s, loss=6.55]\n"
     ]
    },
    {
     "output_type": "stream",
     "name": "stdout",
     "text": [
      "Epoch [514/6000]: Train loss: 9.1466, Valid loss: 9.4533\n"
     ]
    },
    {
     "output_type": "stream",
     "name": "stderr",
     "text": [
      "Epoch [515/6000]: 100%|██████████| 17/17 [00:00<00:00, 128.02it/s, loss=10.1]\n"
     ]
    },
    {
     "output_type": "stream",
     "name": "stdout",
     "text": [
      "Epoch [515/6000]: Train loss: 9.1307, Valid loss: 8.9287\n"
     ]
    },
    {
     "output_type": "stream",
     "name": "stderr",
     "text": [
      "Epoch [516/6000]: 100%|██████████| 17/17 [00:00<00:00, 117.67it/s, loss=6.14]\n"
     ]
    },
    {
     "output_type": "stream",
     "name": "stdout",
     "text": [
      "Epoch [516/6000]: Train loss: 9.0594, Valid loss: 8.4472\n",
      "Saving model with loss 8.447...\n"
     ]
    },
    {
     "output_type": "stream",
     "name": "stderr",
     "text": [
      "Epoch [517/6000]: 100%|██████████| 17/17 [00:00<00:00, 123.90it/s, loss=9.19]\n"
     ]
    },
    {
     "output_type": "stream",
     "name": "stdout",
     "text": [
      "Epoch [517/6000]: Train loss: 9.0408, Valid loss: 9.4653\n"
     ]
    },
    {
     "output_type": "stream",
     "name": "stderr",
     "text": [
      "Epoch [518/6000]: 100%|██████████| 17/17 [00:00<00:00, 125.75it/s, loss=7.29]\n"
     ]
    },
    {
     "output_type": "stream",
     "name": "stdout",
     "text": [
      "Epoch [518/6000]: Train loss: 8.9848, Valid loss: 8.5954\n"
     ]
    },
    {
     "output_type": "stream",
     "name": "stderr",
     "text": [
      "Epoch [519/6000]: 100%|██████████| 17/17 [00:00<00:00, 125.18it/s, loss=9.58]\n"
     ]
    },
    {
     "output_type": "stream",
     "name": "stdout",
     "text": [
      "Epoch [519/6000]: Train loss: 8.9607, Valid loss: 9.0344\n"
     ]
    },
    {
     "output_type": "stream",
     "name": "stderr",
     "text": [
      "Epoch [520/6000]: 100%|██████████| 17/17 [00:00<00:00, 120.22it/s, loss=10.1]\n"
     ]
    },
    {
     "output_type": "stream",
     "name": "stdout",
     "text": [
      "Epoch [520/6000]: Train loss: 8.9240, Valid loss: 8.5256\n"
     ]
    },
    {
     "output_type": "stream",
     "name": "stderr",
     "text": [
      "Epoch [521/6000]: 100%|██████████| 17/17 [00:00<00:00, 106.79it/s, loss=8.36]\n"
     ]
    },
    {
     "output_type": "stream",
     "name": "stdout",
     "text": [
      "Epoch [521/6000]: Train loss: 8.8715, Valid loss: 8.2508\n",
      "Saving model with loss 8.251...\n"
     ]
    },
    {
     "output_type": "stream",
     "name": "stderr",
     "text": [
      "Epoch [522/6000]: 100%|██████████| 17/17 [00:00<00:00, 99.41it/s, loss=10.9]\n"
     ]
    },
    {
     "output_type": "stream",
     "name": "stdout",
     "text": [
      "Epoch [522/6000]: Train loss: 8.8490, Valid loss: 8.2475\n",
      "Saving model with loss 8.247...\n"
     ]
    },
    {
     "output_type": "stream",
     "name": "stderr",
     "text": [
      "Epoch [523/6000]: 100%|██████████| 17/17 [00:00<00:00, 122.36it/s, loss=11.4]\n"
     ]
    },
    {
     "output_type": "stream",
     "name": "stdout",
     "text": [
      "Epoch [523/6000]: Train loss: 8.8139, Valid loss: 8.6955\n"
     ]
    },
    {
     "output_type": "stream",
     "name": "stderr",
     "text": [
      "Epoch [524/6000]: 100%|██████████| 17/17 [00:00<00:00, 124.58it/s, loss=6.75]\n"
     ]
    },
    {
     "output_type": "stream",
     "name": "stdout",
     "text": [
      "Epoch [524/6000]: Train loss: 8.7400, Valid loss: 9.0098\n"
     ]
    },
    {
     "output_type": "stream",
     "name": "stderr",
     "text": [
      "Epoch [525/6000]: 100%|██████████| 17/17 [00:00<00:00, 129.70it/s, loss=6.43]\n"
     ]
    },
    {
     "output_type": "stream",
     "name": "stdout",
     "text": [
      "Epoch [525/6000]: Train loss: 8.6982, Valid loss: 8.5303\n"
     ]
    },
    {
     "output_type": "stream",
     "name": "stderr",
     "text": [
      "Epoch [526/6000]: 100%|██████████| 17/17 [00:00<00:00, 118.72it/s, loss=7.26]\n"
     ]
    },
    {
     "output_type": "stream",
     "name": "stdout",
     "text": [
      "Epoch [526/6000]: Train loss: 8.6657, Valid loss: 8.4886\n"
     ]
    },
    {
     "output_type": "stream",
     "name": "stderr",
     "text": [
      "Epoch [527/6000]: 100%|██████████| 17/17 [00:00<00:00, 113.58it/s, loss=9.45]\n"
     ]
    },
    {
     "output_type": "stream",
     "name": "stdout",
     "text": [
      "Epoch [527/6000]: Train loss: 8.6437, Valid loss: 8.9988\n"
     ]
    },
    {
     "output_type": "stream",
     "name": "stderr",
     "text": [
      "Epoch [528/6000]: 100%|██████████| 17/17 [00:00<00:00, 117.47it/s, loss=7.85]\n"
     ]
    },
    {
     "output_type": "stream",
     "name": "stdout",
     "text": [
      "Epoch [528/6000]: Train loss: 8.5936, Valid loss: 8.3199\n"
     ]
    },
    {
     "output_type": "stream",
     "name": "stderr",
     "text": [
      "Epoch [529/6000]: 100%|██████████| 17/17 [00:00<00:00, 121.43it/s, loss=8.58]\n"
     ]
    },
    {
     "output_type": "stream",
     "name": "stdout",
     "text": [
      "Epoch [529/6000]: Train loss: 8.5609, Valid loss: 8.3736\n"
     ]
    },
    {
     "output_type": "stream",
     "name": "stderr",
     "text": [
      "Epoch [530/6000]: 100%|██████████| 17/17 [00:00<00:00, 123.15it/s, loss=8.85]\n"
     ]
    },
    {
     "output_type": "stream",
     "name": "stdout",
     "text": [
      "Epoch [530/6000]: Train loss: 8.5255, Valid loss: 7.8620\n",
      "Saving model with loss 7.862...\n"
     ]
    },
    {
     "output_type": "stream",
     "name": "stderr",
     "text": [
      "Epoch [531/6000]: 100%|██████████| 17/17 [00:00<00:00, 132.39it/s, loss=9.1]\n"
     ]
    },
    {
     "output_type": "stream",
     "name": "stdout",
     "text": [
      "Epoch [531/6000]: Train loss: 8.4902, Valid loss: 9.3898\n"
     ]
    },
    {
     "output_type": "stream",
     "name": "stderr",
     "text": [
      "Epoch [532/6000]: 100%|██████████| 17/17 [00:00<00:00, 122.46it/s, loss=7.94]\n"
     ]
    },
    {
     "output_type": "stream",
     "name": "stdout",
     "text": [
      "Epoch [532/6000]: Train loss: 8.4448, Valid loss: 8.7055\n"
     ]
    },
    {
     "output_type": "stream",
     "name": "stderr",
     "text": [
      "Epoch [533/6000]: 100%|██████████| 17/17 [00:00<00:00, 130.22it/s, loss=8.35]\n"
     ]
    },
    {
     "output_type": "stream",
     "name": "stdout",
     "text": [
      "Epoch [533/6000]: Train loss: 8.4110, Valid loss: 8.1059\n"
     ]
    },
    {
     "output_type": "stream",
     "name": "stderr",
     "text": [
      "Epoch [534/6000]: 100%|██████████| 17/17 [00:00<00:00, 116.30it/s, loss=7.12]\n"
     ]
    },
    {
     "output_type": "stream",
     "name": "stdout",
     "text": [
      "Epoch [534/6000]: Train loss: 8.3657, Valid loss: 7.9676\n"
     ]
    },
    {
     "output_type": "stream",
     "name": "stderr",
     "text": [
      "Epoch [535/6000]: 100%|██████████| 17/17 [00:00<00:00, 119.24it/s, loss=7.33]\n"
     ]
    },
    {
     "output_type": "stream",
     "name": "stdout",
     "text": [
      "Epoch [535/6000]: Train loss: 8.3315, Valid loss: 8.4673\n"
     ]
    },
    {
     "output_type": "stream",
     "name": "stderr",
     "text": [
      "Epoch [536/6000]: 100%|██████████| 17/17 [00:00<00:00, 119.11it/s, loss=5.89]\n"
     ]
    },
    {
     "output_type": "stream",
     "name": "stdout",
     "text": [
      "Epoch [536/6000]: Train loss: 8.2849, Valid loss: 8.1107\n"
     ]
    },
    {
     "output_type": "stream",
     "name": "stderr",
     "text": [
      "Epoch [537/6000]: 100%|██████████| 17/17 [00:00<00:00, 109.59it/s, loss=9.52]\n"
     ]
    },
    {
     "output_type": "stream",
     "name": "stdout",
     "text": [
      "Epoch [537/6000]: Train loss: 8.2766, Valid loss: 7.7750\n",
      "Saving model with loss 7.775...\n"
     ]
    },
    {
     "output_type": "stream",
     "name": "stderr",
     "text": [
      "Epoch [538/6000]: 100%|██████████| 17/17 [00:00<00:00, 106.34it/s, loss=9.45]\n"
     ]
    },
    {
     "output_type": "stream",
     "name": "stdout",
     "text": [
      "Epoch [538/6000]: Train loss: 8.2412, Valid loss: 8.4707\n"
     ]
    },
    {
     "output_type": "stream",
     "name": "stderr",
     "text": [
      "Epoch [539/6000]: 100%|██████████| 17/17 [00:00<00:00, 122.98it/s, loss=5.51]\n"
     ]
    },
    {
     "output_type": "stream",
     "name": "stdout",
     "text": [
      "Epoch [539/6000]: Train loss: 8.1771, Valid loss: 8.5723\n"
     ]
    },
    {
     "output_type": "stream",
     "name": "stderr",
     "text": [
      "Epoch [540/6000]: 100%|██████████| 17/17 [00:00<00:00, 118.26it/s, loss=8.3]\n"
     ]
    },
    {
     "output_type": "stream",
     "name": "stdout",
     "text": [
      "Epoch [540/6000]: Train loss: 8.1636, Valid loss: 8.0090\n"
     ]
    },
    {
     "output_type": "stream",
     "name": "stderr",
     "text": [
      "Epoch [541/6000]:  65%|██████▍   | 11/17 [00:00<00:00, 109.08it/s, loss=7.78]\n"
     ]
    },
    {
     "output_type": "stream",
     "name": "stdout",
     "text": [
      "Epoch [545/6000]: Train loss: 8.0010, Valid loss: 8.1511\n"
     ]
    },
    {
     "output_type": "stream",
     "name": "stderr",
     "text": [
      "Epoch [546/6000]: 100%|██████████| 17/17 [00:00<00:00, 104.56it/s, loss=6.73]\n"
     ]
    },
    {
     "output_type": "stream",
     "name": "stdout",
     "text": [
      "Epoch [546/6000]: Train loss: 7.9527, Valid loss: 7.7241\n",
      "Saving model with loss 7.724...\n"
     ]
    },
    {
     "output_type": "stream",
     "name": "stderr",
     "text": [
      "Epoch [547/6000]: 100%|██████████| 17/17 [00:00<00:00, 110.11it/s, loss=9.2]\n"
     ]
    },
    {
     "output_type": "stream",
     "name": "stdout",
     "text": [
      "Epoch [547/6000]: Train loss: 7.9388, Valid loss: 8.4508\n"
     ]
    },
    {
     "output_type": "stream",
     "name": "stderr",
     "text": [
      "Epoch [548/6000]: 100%|██████████| 17/17 [00:00<00:00, 104.37it/s, loss=9.53]\n"
     ]
    },
    {
     "output_type": "stream",
     "name": "stdout",
     "text": [
      "Epoch [548/6000]: Train loss: 7.9093, Valid loss: 8.5741\n"
     ]
    },
    {
     "output_type": "stream",
     "name": "stderr",
     "text": [
      "Epoch [549/6000]: 100%|██████████| 17/17 [00:00<00:00, 117.80it/s, loss=6.47]\n"
     ]
    },
    {
     "output_type": "stream",
     "name": "stdout",
     "text": [
      "Epoch [549/6000]: Train loss: 7.8552, Valid loss: 7.1974\n",
      "Saving model with loss 7.197...\n"
     ]
    },
    {
     "output_type": "stream",
     "name": "stderr",
     "text": [
      "Epoch [550/6000]: 100%|██████████| 17/17 [00:00<00:00, 107.27it/s, loss=9.27]\n"
     ]
    },
    {
     "output_type": "stream",
     "name": "stdout",
     "text": [
      "Epoch [550/6000]: Train loss: 7.8439, Valid loss: 7.4927\n"
     ]
    },
    {
     "output_type": "stream",
     "name": "stderr",
     "text": [
      "Epoch [551/6000]: 100%|██████████| 17/17 [00:00<00:00, 119.26it/s, loss=7.78]\n"
     ]
    },
    {
     "output_type": "stream",
     "name": "stdout",
     "text": [
      "Epoch [551/6000]: Train loss: 7.8030, Valid loss: 7.8436\n"
     ]
    },
    {
     "output_type": "stream",
     "name": "stderr",
     "text": [
      "Epoch [552/6000]: 100%|██████████| 17/17 [00:00<00:00, 127.62it/s, loss=8.75]\n"
     ]
    },
    {
     "output_type": "stream",
     "name": "stdout",
     "text": [
      "Epoch [552/6000]: Train loss: 7.7791, Valid loss: 7.3773\n"
     ]
    },
    {
     "output_type": "stream",
     "name": "stderr",
     "text": [
      "Epoch [553/6000]: 100%|██████████| 17/17 [00:00<00:00, 111.83it/s, loss=6.34]\n"
     ]
    },
    {
     "output_type": "stream",
     "name": "stdout",
     "text": [
      "Epoch [553/6000]: Train loss: 7.7318, Valid loss: 7.9654\n"
     ]
    },
    {
     "output_type": "stream",
     "name": "stderr",
     "text": [
      "Epoch [554/6000]: 100%|██████████| 17/17 [00:00<00:00, 121.09it/s, loss=8.36]\n"
     ]
    },
    {
     "output_type": "stream",
     "name": "stdout",
     "text": [
      "Epoch [554/6000]: Train loss: 7.7159, Valid loss: 7.7502\n"
     ]
    },
    {
     "output_type": "stream",
     "name": "stderr",
     "text": [
      "Epoch [555/6000]: 100%|██████████| 17/17 [00:00<00:00, 128.52it/s, loss=10]\n"
     ]
    },
    {
     "output_type": "stream",
     "name": "stdout",
     "text": [
      "Epoch [555/6000]: Train loss: 7.7004, Valid loss: 7.1111\n",
      "Saving model with loss 7.111...\n"
     ]
    },
    {
     "output_type": "stream",
     "name": "stderr",
     "text": [
      "Epoch [556/6000]: 100%|██████████| 17/17 [00:00<00:00, 116.45it/s, loss=6]\n"
     ]
    },
    {
     "output_type": "stream",
     "name": "stdout",
     "text": [
      "Epoch [556/6000]: Train loss: 7.6401, Valid loss: 7.6772\n"
     ]
    },
    {
     "output_type": "stream",
     "name": "stderr",
     "text": [
      "Epoch [557/6000]: 100%|██████████| 17/17 [00:00<00:00, 122.13it/s, loss=5.33]\n"
     ]
    },
    {
     "output_type": "stream",
     "name": "stdout",
     "text": [
      "Epoch [557/6000]: Train loss: 7.6060, Valid loss: 7.4577\n"
     ]
    },
    {
     "output_type": "stream",
     "name": "stderr",
     "text": [
      "Epoch [558/6000]: 100%|██████████| 17/17 [00:00<00:00, 116.69it/s, loss=9.83]\n"
     ]
    },
    {
     "output_type": "stream",
     "name": "stdout",
     "text": [
      "Epoch [558/6000]: Train loss: 7.6105, Valid loss: 8.2728\n"
     ]
    },
    {
     "output_type": "stream",
     "name": "stderr",
     "text": [
      "Epoch [559/6000]: 100%|██████████| 17/17 [00:00<00:00, 119.26it/s, loss=8.54]\n"
     ]
    },
    {
     "output_type": "stream",
     "name": "stdout",
     "text": [
      "Epoch [559/6000]: Train loss: 7.5727, Valid loss: 7.2950\n"
     ]
    },
    {
     "output_type": "stream",
     "name": "stderr",
     "text": [
      "Epoch [560/6000]: 100%|██████████| 17/17 [00:00<00:00, 128.20it/s, loss=8.99]\n"
     ]
    },
    {
     "output_type": "stream",
     "name": "stdout",
     "text": [
      "Epoch [560/6000]: Train loss: 7.5475, Valid loss: 7.7285\n"
     ]
    },
    {
     "output_type": "stream",
     "name": "stderr",
     "text": [
      "Epoch [561/6000]: 100%|██████████| 17/17 [00:00<00:00, 113.31it/s, loss=8.39]\n"
     ]
    },
    {
     "output_type": "stream",
     "name": "stdout",
     "text": [
      "Epoch [561/6000]: Train loss: 7.5152, Valid loss: 7.3701\n"
     ]
    },
    {
     "output_type": "stream",
     "name": "stderr",
     "text": [
      "Epoch [562/6000]: 100%|██████████| 17/17 [00:00<00:00, 120.20it/s, loss=9.4]\n"
     ]
    },
    {
     "output_type": "stream",
     "name": "stdout",
     "text": [
      "Epoch [562/6000]: Train loss: 7.4951, Valid loss: 7.6096\n"
     ]
    },
    {
     "output_type": "stream",
     "name": "stderr",
     "text": [
      "Epoch [563/6000]: 100%|██████████| 17/17 [00:00<00:00, 134.66it/s, loss=7.1]\n"
     ]
    },
    {
     "output_type": "stream",
     "name": "stdout",
     "text": [
      "Epoch [563/6000]: Train loss: 7.4512, Valid loss: 7.4082\n"
     ]
    },
    {
     "output_type": "stream",
     "name": "stderr",
     "text": [
      "Epoch [564/6000]: 100%|██████████| 17/17 [00:00<00:00, 111.13it/s, loss=9.5]\n"
     ]
    },
    {
     "output_type": "stream",
     "name": "stdout",
     "text": [
      "Epoch [564/6000]: Train loss: 7.4416, Valid loss: 7.0984\n",
      "Saving model with loss 7.098...\n"
     ]
    },
    {
     "output_type": "stream",
     "name": "stderr",
     "text": [
      "Epoch [565/6000]: 100%|██████████| 17/17 [00:00<00:00, 118.88it/s, loss=8.89]\n"
     ]
    },
    {
     "output_type": "stream",
     "name": "stdout",
     "text": [
      "Epoch [565/6000]: Train loss: 7.4110, Valid loss: 7.8022\n"
     ]
    },
    {
     "output_type": "stream",
     "name": "stderr",
     "text": [
      "Epoch [566/6000]: 100%|██████████| 17/17 [00:00<00:00, 135.88it/s, loss=7.27]\n"
     ]
    },
    {
     "output_type": "stream",
     "name": "stdout",
     "text": [
      "Epoch [566/6000]: Train loss: 7.3723, Valid loss: 7.7673\n"
     ]
    },
    {
     "output_type": "stream",
     "name": "stderr",
     "text": [
      "Epoch [567/6000]: 100%|██████████| 17/17 [00:00<00:00, 106.32it/s, loss=7.9]\n"
     ]
    },
    {
     "output_type": "stream",
     "name": "stdout",
     "text": [
      "Epoch [567/6000]: Train loss: 7.3510, Valid loss: 7.4116\n"
     ]
    },
    {
     "output_type": "stream",
     "name": "stderr",
     "text": [
      "Epoch [568/6000]: 100%|██████████| 17/17 [00:00<00:00, 113.28it/s, loss=6.22]\n"
     ]
    },
    {
     "output_type": "stream",
     "name": "stdout",
     "text": [
      "Epoch [568/6000]: Train loss: 7.3128, Valid loss: 7.0515\n",
      "Saving model with loss 7.051...\n"
     ]
    },
    {
     "output_type": "stream",
     "name": "stderr",
     "text": [
      "Epoch [569/6000]: 100%|██████████| 17/17 [00:00<00:00, 124.85it/s, loss=7.22]\n"
     ]
    },
    {
     "output_type": "stream",
     "name": "stdout",
     "text": [
      "Epoch [569/6000]: Train loss: 7.2947, Valid loss: 7.3030\n"
     ]
    },
    {
     "output_type": "stream",
     "name": "stderr",
     "text": [
      "Epoch [570/6000]: 100%|██████████| 17/17 [00:00<00:00, 117.44it/s, loss=7.66]\n"
     ]
    },
    {
     "output_type": "stream",
     "name": "stdout",
     "text": [
      "Epoch [570/6000]: Train loss: 7.2731, Valid loss: 7.5349\n"
     ]
    },
    {
     "output_type": "stream",
     "name": "stderr",
     "text": [
      "Epoch [572/6000]: 100%|██████████| 17/17 [00:00<00:00, 112.10it/s, loss=8.73]\n"
     ]
    },
    {
     "output_type": "stream",
     "name": "stdout",
     "text": [
      "Epoch [572/6000]: Train loss: 7.2320, Valid loss: 6.8211\n",
      "Saving model with loss 6.821...\n"
     ]
    },
    {
     "output_type": "stream",
     "name": "stderr",
     "text": [
      "Epoch [573/6000]: 100%|██████████| 17/17 [00:00<00:00, 111.80it/s, loss=7.28]\n"
     ]
    },
    {
     "output_type": "stream",
     "name": "stdout",
     "text": [
      "Epoch [573/6000]: Train loss: 7.1969, Valid loss: 6.8936\n"
     ]
    },
    {
     "output_type": "stream",
     "name": "stderr",
     "text": [
      "Epoch [574/6000]: 100%|██████████| 17/17 [00:00<00:00, 114.34it/s, loss=8.28]\n"
     ]
    },
    {
     "output_type": "stream",
     "name": "stdout",
     "text": [
      "Epoch [574/6000]: Train loss: 7.1802, Valid loss: 7.5614\n"
     ]
    },
    {
     "output_type": "stream",
     "name": "stderr",
     "text": [
      "Epoch [575/6000]: 100%|██████████| 17/17 [00:00<00:00, 135.01it/s, loss=8.67]\n"
     ]
    },
    {
     "output_type": "stream",
     "name": "stdout",
     "text": [
      "Epoch [575/6000]: Train loss: 7.1595, Valid loss: 7.0900\n"
     ]
    },
    {
     "output_type": "stream",
     "name": "stderr",
     "text": [
      "Epoch [576/6000]: 100%|██████████| 17/17 [00:00<00:00, 126.91it/s, loss=7.22]\n"
     ]
    },
    {
     "output_type": "stream",
     "name": "stdout",
     "text": [
      "Epoch [576/6000]: Train loss: 7.1254, Valid loss: 7.2620\n"
     ]
    },
    {
     "output_type": "stream",
     "name": "stderr",
     "text": [
      "Epoch [577/6000]: 100%|██████████| 17/17 [00:00<00:00, 131.32it/s, loss=8.26]\n"
     ]
    },
    {
     "output_type": "stream",
     "name": "stdout",
     "text": [
      "Epoch [577/6000]: Train loss: 7.1100, Valid loss: 6.8491\n"
     ]
    },
    {
     "output_type": "stream",
     "name": "stderr",
     "text": [
      "Epoch [578/6000]: 100%|██████████| 17/17 [00:00<00:00, 135.55it/s, loss=5.22]\n"
     ]
    },
    {
     "output_type": "stream",
     "name": "stdout",
     "text": [
      "Epoch [578/6000]: Train loss: 7.0656, Valid loss: 7.0396\n"
     ]
    },
    {
     "output_type": "stream",
     "name": "stderr",
     "text": [
      "Epoch [579/6000]: 100%|██████████| 17/17 [00:00<00:00, 130.56it/s, loss=7.19]\n"
     ]
    },
    {
     "output_type": "stream",
     "name": "stdout",
     "text": [
      "Epoch [579/6000]: Train loss: 7.0566, Valid loss: 7.4131\n"
     ]
    },
    {
     "output_type": "stream",
     "name": "stderr",
     "text": [
      "Epoch [580/6000]: 100%|██████████| 17/17 [00:00<00:00, 117.35it/s, loss=8.32]\n"
     ]
    },
    {
     "output_type": "stream",
     "name": "stdout",
     "text": [
      "Epoch [580/6000]: Train loss: 7.0436, Valid loss: 7.4003\n"
     ]
    },
    {
     "output_type": "stream",
     "name": "stderr",
     "text": [
      "Epoch [581/6000]: 100%|██████████| 17/17 [00:00<00:00, 122.97it/s, loss=6.28]\n"
     ]
    },
    {
     "output_type": "stream",
     "name": "stdout",
     "text": [
      "Epoch [581/6000]: Train loss: 7.0067, Valid loss: 6.6147\n",
      "Saving model with loss 6.615...\n"
     ]
    },
    {
     "output_type": "stream",
     "name": "stderr",
     "text": [
      "Epoch [582/6000]: 100%|██████████| 17/17 [00:00<00:00, 136.17it/s, loss=7.05]\n"
     ]
    },
    {
     "output_type": "stream",
     "name": "stdout",
     "text": [
      "Epoch [582/6000]: Train loss: 6.9902, Valid loss: 6.8274\n"
     ]
    },
    {
     "output_type": "stream",
     "name": "stderr",
     "text": [
      "Epoch [583/6000]: 100%|██████████| 17/17 [00:00<00:00, 128.83it/s, loss=8.09]\n"
     ]
    },
    {
     "output_type": "stream",
     "name": "stdout",
     "text": [
      "Epoch [583/6000]: Train loss: 6.9772, Valid loss: 6.8655\n"
     ]
    },
    {
     "output_type": "stream",
     "name": "stderr",
     "text": [
      "Epoch [584/6000]: 100%|██████████| 17/17 [00:00<00:00, 132.85it/s, loss=7.63]\n"
     ]
    },
    {
     "output_type": "stream",
     "name": "stdout",
     "text": [
      "Epoch [584/6000]: Train loss: 6.9529, Valid loss: 6.2923\n",
      "Saving model with loss 6.292...\n"
     ]
    },
    {
     "output_type": "stream",
     "name": "stderr",
     "text": [
      "Epoch [586/6000]: 100%|██████████| 17/17 [00:00<00:00, 127.10it/s, loss=5.81]\n"
     ]
    },
    {
     "output_type": "stream",
     "name": "stdout",
     "text": [
      "Epoch [586/6000]: Train loss: 6.8981, Valid loss: 6.8036\n"
     ]
    },
    {
     "output_type": "stream",
     "name": "stderr",
     "text": [
      "Epoch [587/6000]: 100%|██████████| 17/17 [00:00<00:00, 115.86it/s, loss=6.25]\n"
     ]
    },
    {
     "output_type": "stream",
     "name": "stdout",
     "text": [
      "Epoch [587/6000]: Train loss: 6.8812, Valid loss: 6.5663\n"
     ]
    },
    {
     "output_type": "stream",
     "name": "stderr",
     "text": [
      "Epoch [588/6000]: 100%|██████████| 17/17 [00:00<00:00, 135.10it/s, loss=4.34]\n"
     ]
    },
    {
     "output_type": "stream",
     "name": "stdout",
     "text": [
      "Epoch [588/6000]: Train loss: 6.8468, Valid loss: 6.6498\n"
     ]
    },
    {
     "output_type": "stream",
     "name": "stderr",
     "text": [
      "Epoch [589/6000]: 100%|██████████| 17/17 [00:00<00:00, 129.79it/s, loss=8.86]\n"
     ]
    },
    {
     "output_type": "stream",
     "name": "stdout",
     "text": [
      "Epoch [589/6000]: Train loss: 6.8607, Valid loss: 6.4486\n"
     ]
    },
    {
     "output_type": "stream",
     "name": "stderr",
     "text": [
      "Epoch [590/6000]: 100%|██████████| 17/17 [00:00<00:00, 117.96it/s, loss=5.83]\n"
     ]
    },
    {
     "output_type": "stream",
     "name": "stdout",
     "text": [
      "Epoch [590/6000]: Train loss: 6.8194, Valid loss: 6.3889\n"
     ]
    },
    {
     "output_type": "stream",
     "name": "stderr",
     "text": [
      "Epoch [591/6000]: 100%|██████████| 17/17 [00:00<00:00, 133.18it/s, loss=6.29]\n"
     ]
    },
    {
     "output_type": "stream",
     "name": "stdout",
     "text": [
      "Epoch [591/6000]: Train loss: 6.8034, Valid loss: 6.9143\n"
     ]
    },
    {
     "output_type": "stream",
     "name": "stderr",
     "text": [
      "Epoch [592/6000]: 100%|██████████| 17/17 [00:00<00:00, 127.37it/s, loss=6.75]\n"
     ]
    },
    {
     "output_type": "stream",
     "name": "stdout",
     "text": [
      "Epoch [592/6000]: Train loss: 6.7881, Valid loss: 6.7731\n"
     ]
    },
    {
     "output_type": "stream",
     "name": "stderr",
     "text": [
      "Epoch [593/6000]: 100%|██████████| 17/17 [00:00<00:00, 85.09it/s, loss=6.73]\n"
     ]
    },
    {
     "output_type": "stream",
     "name": "stdout",
     "text": [
      "Epoch [593/6000]: Train loss: 6.7696, Valid loss: 6.5249\n"
     ]
    },
    {
     "output_type": "stream",
     "name": "stderr",
     "text": [
      "Epoch [594/6000]: 100%|██████████| 17/17 [00:00<00:00, 114.95it/s, loss=7.86]\n"
     ]
    },
    {
     "output_type": "stream",
     "name": "stdout",
     "text": [
      "Epoch [594/6000]: Train loss: 6.7590, Valid loss: 7.2200\n"
     ]
    },
    {
     "output_type": "stream",
     "name": "stderr",
     "text": [
      "Epoch [595/6000]: 100%|██████████| 17/17 [00:00<00:00, 114.37it/s, loss=6.08]\n"
     ]
    },
    {
     "output_type": "stream",
     "name": "stdout",
     "text": [
      "Epoch [595/6000]: Train loss: 6.7288, Valid loss: 6.4028\n"
     ]
    },
    {
     "output_type": "stream",
     "name": "stderr",
     "text": [
      "Epoch [596/6000]: 100%|██████████| 17/17 [00:00<00:00, 114.02it/s, loss=7.96]\n"
     ]
    },
    {
     "output_type": "stream",
     "name": "stdout",
     "text": [
      "Epoch [596/6000]: Train loss: 6.7251, Valid loss: 7.1765\n"
     ]
    },
    {
     "output_type": "stream",
     "name": "stderr",
     "text": [
      "Epoch [597/6000]: 100%|██████████| 17/17 [00:00<00:00, 117.12it/s, loss=5.94]\n"
     ]
    },
    {
     "output_type": "stream",
     "name": "stdout",
     "text": [
      "Epoch [597/6000]: Train loss: 6.6927, Valid loss: 6.4046\n"
     ]
    },
    {
     "output_type": "stream",
     "name": "stderr",
     "text": [
      "Epoch [598/6000]: 100%|██████████| 17/17 [00:00<00:00, 126.94it/s, loss=7.74]\n"
     ]
    },
    {
     "output_type": "stream",
     "name": "stdout",
     "text": [
      "Epoch [598/6000]: Train loss: 6.6889, Valid loss: 6.3571\n"
     ]
    },
    {
     "output_type": "stream",
     "name": "stderr",
     "text": [
      "Epoch [599/6000]: 100%|██████████| 17/17 [00:00<00:00, 118.68it/s, loss=4.89]\n"
     ]
    },
    {
     "output_type": "stream",
     "name": "stdout",
     "text": [
      "Epoch [599/6000]: Train loss: 6.6500, Valid loss: 6.4923\n"
     ]
    },
    {
     "output_type": "stream",
     "name": "stderr",
     "text": [
      "Epoch [600/6000]: 100%|██████████| 17/17 [00:00<00:00, 132.71it/s, loss=7.13]\n"
     ]
    },
    {
     "output_type": "stream",
     "name": "stdout",
     "text": [
      "Epoch [600/6000]: Train loss: 6.6500, Valid loss: 6.7615\n"
     ]
    },
    {
     "output_type": "stream",
     "name": "stderr",
     "text": [
      "Epoch [601/6000]: 100%|██████████| 17/17 [00:00<00:00, 124.62it/s, loss=5.72]\n"
     ]
    },
    {
     "output_type": "stream",
     "name": "stdout",
     "text": [
      "Epoch [601/6000]: Train loss: 6.6237, Valid loss: 6.5145\n"
     ]
    },
    {
     "output_type": "stream",
     "name": "stderr",
     "text": [
      "Epoch [602/6000]: 100%|██████████| 17/17 [00:00<00:00, 117.50it/s, loss=6.6]\n"
     ]
    },
    {
     "output_type": "stream",
     "name": "stdout",
     "text": [
      "Epoch [602/6000]: Train loss: 6.6135, Valid loss: 7.0120\n"
     ]
    },
    {
     "output_type": "stream",
     "name": "stderr",
     "text": [
      "Epoch [603/6000]: 100%|██████████| 17/17 [00:00<00:00, 122.63it/s, loss=5.25]\n"
     ]
    },
    {
     "output_type": "stream",
     "name": "stdout",
     "text": [
      "Epoch [603/6000]: Train loss: 6.5886, Valid loss: 6.6420\n"
     ]
    },
    {
     "output_type": "stream",
     "name": "stderr",
     "text": [
      "Epoch [604/6000]: 100%|██████████| 17/17 [00:00<00:00, 130.25it/s, loss=7.38]\n"
     ]
    },
    {
     "output_type": "stream",
     "name": "stdout",
     "text": [
      "Epoch [604/6000]: Train loss: 6.5875, Valid loss: 6.2398\n",
      "Saving model with loss 6.240...\n"
     ]
    },
    {
     "output_type": "stream",
     "name": "stderr",
     "text": [
      "Epoch [605/6000]: 100%|██████████| 17/17 [00:00<00:00, 132.47it/s, loss=6.31]\n"
     ]
    },
    {
     "output_type": "stream",
     "name": "stdout",
     "text": [
      "Epoch [605/6000]: Train loss: 6.5642, Valid loss: 6.7935\n"
     ]
    },
    {
     "output_type": "stream",
     "name": "stderr",
     "text": [
      "Epoch [606/6000]: 100%|██████████| 17/17 [00:00<00:00, 122.85it/s, loss=5.72]\n"
     ]
    },
    {
     "output_type": "stream",
     "name": "stdout",
     "text": [
      "Epoch [606/6000]: Train loss: 6.5453, Valid loss: 6.1714\n",
      "Saving model with loss 6.171...\n"
     ]
    },
    {
     "output_type": "stream",
     "name": "stderr",
     "text": [
      "Epoch [607/6000]: 100%|██████████| 17/17 [00:00<00:00, 125.36it/s, loss=6.14]\n"
     ]
    },
    {
     "output_type": "stream",
     "name": "stdout",
     "text": [
      "Epoch [607/6000]: Train loss: 6.5329, Valid loss: 6.8418\n"
     ]
    },
    {
     "output_type": "stream",
     "name": "stderr",
     "text": [
      "Epoch [608/6000]: 100%|██████████| 17/17 [00:00<00:00, 125.10it/s, loss=7.18]\n"
     ]
    },
    {
     "output_type": "stream",
     "name": "stdout",
     "text": [
      "Epoch [608/6000]: Train loss: 6.5259, Valid loss: 6.7838\n"
     ]
    },
    {
     "output_type": "stream",
     "name": "stderr",
     "text": [
      "Epoch [609/6000]: 100%|██████████| 17/17 [00:00<00:00, 117.28it/s, loss=5.92]\n"
     ]
    },
    {
     "output_type": "stream",
     "name": "stdout",
     "text": [
      "Epoch [609/6000]: Train loss: 6.5022, Valid loss: 6.2983\n"
     ]
    },
    {
     "output_type": "stream",
     "name": "stderr",
     "text": [
      "Epoch [610/6000]: 100%|██████████| 17/17 [00:00<00:00, 125.78it/s, loss=5.99]\n"
     ]
    },
    {
     "output_type": "stream",
     "name": "stdout",
     "text": [
      "Epoch [610/6000]: Train loss: 6.4885, Valid loss: 6.2385\n"
     ]
    },
    {
     "output_type": "stream",
     "name": "stderr",
     "text": [
      "Epoch [623/6000]: 100%|██████████| 17/17 [00:00<00:00, 114.31it/s, loss=6.05]\n"
     ]
    },
    {
     "output_type": "stream",
     "name": "stdout",
     "text": [
      "Epoch [623/6000]: Train loss: 6.3227, Valid loss: 6.0909\n"
     ]
    },
    {
     "output_type": "stream",
     "name": "stderr",
     "text": [
      "Epoch [624/6000]: 100%|██████████| 17/17 [00:00<00:00, 122.21it/s, loss=5.52]\n"
     ]
    },
    {
     "output_type": "stream",
     "name": "stdout",
     "text": [
      "Epoch [624/6000]: Train loss: 6.3071, Valid loss: 6.8538\n"
     ]
    },
    {
     "output_type": "stream",
     "name": "stderr",
     "text": [
      "Epoch [625/6000]: 100%|██████████| 17/17 [00:00<00:00, 114.04it/s, loss=9.19]\n"
     ]
    },
    {
     "output_type": "stream",
     "name": "stdout",
     "text": [
      "Epoch [625/6000]: Train loss: 6.3228, Valid loss: 6.1845\n"
     ]
    },
    {
     "output_type": "stream",
     "name": "stderr",
     "text": [
      "Epoch [626/6000]: 100%|██████████| 17/17 [00:00<00:00, 131.83it/s, loss=8.25]\n"
     ]
    },
    {
     "output_type": "stream",
     "name": "stdout",
     "text": [
      "Epoch [626/6000]: Train loss: 6.3052, Valid loss: 5.9894\n"
     ]
    },
    {
     "output_type": "stream",
     "name": "stderr",
     "text": [
      "Epoch [627/6000]: 100%|██████████| 17/17 [00:00<00:00, 112.63it/s, loss=7.64]\n"
     ]
    },
    {
     "output_type": "stream",
     "name": "stdout",
     "text": [
      "Epoch [627/6000]: Train loss: 6.2898, Valid loss: 5.8911\n",
      "Saving model with loss 5.891...\n"
     ]
    },
    {
     "output_type": "stream",
     "name": "stderr",
     "text": [
      "Epoch [628/6000]: 100%|██████████| 17/17 [00:00<00:00, 116.04it/s, loss=7.71]\n"
     ]
    },
    {
     "output_type": "stream",
     "name": "stdout",
     "text": [
      "Epoch [628/6000]: Train loss: 6.2796, Valid loss: 6.2514\n"
     ]
    },
    {
     "output_type": "stream",
     "name": "stderr",
     "text": [
      "Epoch [629/6000]: 100%|██████████| 17/17 [00:00<00:00, 121.92it/s, loss=5.7]\n"
     ]
    },
    {
     "output_type": "stream",
     "name": "stdout",
     "text": [
      "Epoch [629/6000]: Train loss: 6.2544, Valid loss: 6.7543\n"
     ]
    },
    {
     "output_type": "stream",
     "name": "stderr",
     "text": [
      "Epoch [630/6000]: 100%|██████████| 17/17 [00:00<00:00, 119.35it/s, loss=7.04]\n"
     ]
    },
    {
     "output_type": "stream",
     "name": "stdout",
     "text": [
      "Epoch [630/6000]: Train loss: 6.2539, Valid loss: 6.9099\n"
     ]
    },
    {
     "output_type": "stream",
     "name": "stderr",
     "text": [
      "Epoch [631/6000]: 100%|██████████| 17/17 [00:00<00:00, 112.33it/s, loss=7.96]\n"
     ]
    },
    {
     "output_type": "stream",
     "name": "stdout",
     "text": [
      "Epoch [631/6000]: Train loss: 6.2505, Valid loss: 5.8808\n",
      "Saving model with loss 5.881...\n"
     ]
    },
    {
     "output_type": "stream",
     "name": "stderr",
     "text": [
      "Epoch [632/6000]: 100%|██████████| 17/17 [00:00<00:00, 118.15it/s, loss=6.54]\n"
     ]
    },
    {
     "output_type": "stream",
     "name": "stdout",
     "text": [
      "Epoch [632/6000]: Train loss: 6.2308, Valid loss: 5.6081\n",
      "Saving model with loss 5.608...\n"
     ]
    },
    {
     "output_type": "stream",
     "name": "stderr",
     "text": [
      "Epoch [633/6000]: 100%|██████████| 17/17 [00:00<00:00, 97.42it/s, loss=7.6]\n"
     ]
    },
    {
     "output_type": "stream",
     "name": "stdout",
     "text": [
      "Epoch [633/6000]: Train loss: 6.2278, Valid loss: 6.5098\n"
     ]
    },
    {
     "output_type": "stream",
     "name": "stderr",
     "text": [
      "Epoch [634/6000]: 100%|██████████| 17/17 [00:00<00:00, 132.03it/s, loss=6.34]\n"
     ]
    },
    {
     "output_type": "stream",
     "name": "stdout",
     "text": [
      "Epoch [634/6000]: Train loss: 6.2088, Valid loss: 6.6366\n"
     ]
    },
    {
     "output_type": "stream",
     "name": "stderr",
     "text": [
      "Epoch [635/6000]: 100%|██████████| 17/17 [00:00<00:00, 133.37it/s, loss=5.46]\n"
     ]
    },
    {
     "output_type": "stream",
     "name": "stdout",
     "text": [
      "Epoch [635/6000]: Train loss: 6.1939, Valid loss: 6.2844\n"
     ]
    },
    {
     "output_type": "stream",
     "name": "stderr",
     "text": [
      "Epoch [638/6000]: 100%|██████████| 17/17 [00:00<00:00, 124.46it/s, loss=5.52]\n"
     ]
    },
    {
     "output_type": "stream",
     "name": "stdout",
     "text": [
      "Epoch [638/6000]: Train loss: 6.1660, Valid loss: 6.0386\n"
     ]
    },
    {
     "output_type": "stream",
     "name": "stderr",
     "text": [
      "Epoch [639/6000]: 100%|██████████| 17/17 [00:00<00:00, 128.72it/s, loss=7.84]\n"
     ]
    },
    {
     "output_type": "stream",
     "name": "stdout",
     "text": [
      "Epoch [639/6000]: Train loss: 6.1745, Valid loss: 6.7706\n"
     ]
    },
    {
     "output_type": "stream",
     "name": "stderr",
     "text": [
      "Epoch [640/6000]: 100%|██████████| 17/17 [00:00<00:00, 132.65it/s, loss=5.43]\n"
     ]
    },
    {
     "output_type": "stream",
     "name": "stdout",
     "text": [
      "Epoch [640/6000]: Train loss: 6.1475, Valid loss: 6.5058\n"
     ]
    },
    {
     "output_type": "stream",
     "name": "stderr",
     "text": [
      "Epoch [641/6000]: 100%|██████████| 17/17 [00:00<00:00, 109.18it/s, loss=5.31]\n"
     ]
    },
    {
     "output_type": "stream",
     "name": "stdout",
     "text": [
      "Epoch [641/6000]: Train loss: 6.1382, Valid loss: 6.0402\n"
     ]
    },
    {
     "output_type": "stream",
     "name": "stderr",
     "text": [
      "Epoch [642/6000]: 100%|██████████| 17/17 [00:00<00:00, 132.60it/s, loss=6.36]\n"
     ]
    },
    {
     "output_type": "stream",
     "name": "stdout",
     "text": [
      "Epoch [642/6000]: Train loss: 6.1376, Valid loss: 5.6292\n"
     ]
    },
    {
     "output_type": "stream",
     "name": "stderr",
     "text": [
      "Epoch [643/6000]: 100%|██████████| 17/17 [00:00<00:00, 133.75it/s, loss=6.26]\n"
     ]
    },
    {
     "output_type": "stream",
     "name": "stdout",
     "text": [
      "Epoch [643/6000]: Train loss: 6.1283, Valid loss: 5.6276\n"
     ]
    },
    {
     "output_type": "stream",
     "name": "stderr",
     "text": [
      "Epoch [644/6000]: 100%|██████████| 17/17 [00:00<00:00, 137.43it/s, loss=5.78]\n"
     ]
    },
    {
     "output_type": "stream",
     "name": "stdout",
     "text": [
      "Epoch [644/6000]: Train loss: 6.1169, Valid loss: 5.6323\n"
     ]
    },
    {
     "output_type": "stream",
     "name": "stderr",
     "text": [
      "Epoch [645/6000]: 100%|██████████| 17/17 [00:00<00:00, 125.51it/s, loss=6.22]\n"
     ]
    },
    {
     "output_type": "stream",
     "name": "stdout",
     "text": [
      "Epoch [645/6000]: Train loss: 6.1118, Valid loss: 6.1451\n"
     ]
    },
    {
     "output_type": "stream",
     "name": "stderr",
     "text": [
      "Epoch [646/6000]: 100%|██████████| 17/17 [00:00<00:00, 131.86it/s, loss=6.62]\n"
     ]
    },
    {
     "output_type": "stream",
     "name": "stdout",
     "text": [
      "Epoch [646/6000]: Train loss: 6.1067, Valid loss: 6.6808\n"
     ]
    },
    {
     "output_type": "stream",
     "name": "stderr",
     "text": [
      "Epoch [647/6000]: 100%|██████████| 17/17 [00:00<00:00, 129.49it/s, loss=5.74]\n"
     ]
    },
    {
     "output_type": "stream",
     "name": "stdout",
     "text": [
      "Epoch [647/6000]: Train loss: 6.0929, Valid loss: 5.6557\n"
     ]
    },
    {
     "output_type": "stream",
     "name": "stderr",
     "text": [
      "Epoch [648/6000]: 100%|██████████| 17/17 [00:00<00:00, 110.06it/s, loss=6.49]\n"
     ]
    },
    {
     "output_type": "stream",
     "name": "stdout",
     "text": [
      "Epoch [648/6000]: Train loss: 6.0905, Valid loss: 6.4395\n"
     ]
    },
    {
     "output_type": "stream",
     "name": "stderr",
     "text": [
      "Epoch [649/6000]: 100%|██████████| 17/17 [00:00<00:00, 133.58it/s, loss=5.76]\n"
     ]
    },
    {
     "output_type": "stream",
     "name": "stdout",
     "text": [
      "Epoch [649/6000]: Train loss: 6.0773, Valid loss: 6.5041\n"
     ]
    },
    {
     "output_type": "stream",
     "name": "stderr",
     "text": [
      "Epoch [650/6000]: 100%|██████████| 17/17 [00:00<00:00, 133.61it/s, loss=4.76]\n"
     ]
    },
    {
     "output_type": "stream",
     "name": "stdout",
     "text": [
      "Epoch [650/6000]: Train loss: 6.0626, Valid loss: 5.8357\n"
     ]
    },
    {
     "output_type": "stream",
     "name": "stderr",
     "text": [
      "Epoch [652/6000]: 100%|██████████| 17/17 [00:00<00:00, 117.91it/s, loss=6.65]\n"
     ]
    },
    {
     "output_type": "stream",
     "name": "stdout",
     "text": [
      "Epoch [652/6000]: Train loss: 6.0619, Valid loss: 5.8668\n"
     ]
    },
    {
     "output_type": "stream",
     "name": "stderr",
     "text": [
      "Epoch [653/6000]: 100%|██████████| 17/17 [00:00<00:00, 124.31it/s, loss=7]\n"
     ]
    },
    {
     "output_type": "stream",
     "name": "stdout",
     "text": [
      "Epoch [653/6000]: Train loss: 6.0574, Valid loss: 6.8421\n"
     ]
    },
    {
     "output_type": "stream",
     "name": "stderr",
     "text": [
      "Epoch [654/6000]: 100%|██████████| 17/17 [00:00<00:00, 125.34it/s, loss=6.58]\n"
     ]
    },
    {
     "output_type": "stream",
     "name": "stdout",
     "text": [
      "Epoch [654/6000]: Train loss: 6.0481, Valid loss: 5.4278\n",
      "Saving model with loss 5.428...\n"
     ]
    },
    {
     "output_type": "stream",
     "name": "stderr",
     "text": [
      "Epoch [655/6000]: 100%|██████████| 17/17 [00:00<00:00, 131.42it/s, loss=5.67]\n"
     ]
    },
    {
     "output_type": "stream",
     "name": "stdout",
     "text": [
      "Epoch [655/6000]: Train loss: 6.0332, Valid loss: 5.6059\n"
     ]
    },
    {
     "output_type": "stream",
     "name": "stderr",
     "text": [
      "Epoch [656/6000]: 100%|██████████| 17/17 [00:00<00:00, 144.77it/s, loss=6.78]\n"
     ]
    },
    {
     "output_type": "stream",
     "name": "stdout",
     "text": [
      "Epoch [656/6000]: Train loss: 6.0348, Valid loss: 6.2894\n"
     ]
    },
    {
     "output_type": "stream",
     "name": "stderr",
     "text": [
      "Epoch [657/6000]: 100%|██████████| 17/17 [00:00<00:00, 127.76it/s, loss=7.28]\n"
     ]
    },
    {
     "output_type": "stream",
     "name": "stdout",
     "text": [
      "Epoch [657/6000]: Train loss: 6.0322, Valid loss: 5.4564\n"
     ]
    },
    {
     "output_type": "stream",
     "name": "stderr",
     "text": [
      "Epoch [658/6000]: 100%|██████████| 17/17 [00:00<00:00, 130.91it/s, loss=6.62]\n"
     ]
    },
    {
     "output_type": "stream",
     "name": "stdout",
     "text": [
      "Epoch [658/6000]: Train loss: 6.0202, Valid loss: 5.8844\n"
     ]
    },
    {
     "output_type": "stream",
     "name": "stderr",
     "text": [
      "Epoch [659/6000]: 100%|██████████| 17/17 [00:00<00:00, 127.96it/s, loss=5.3]\n"
     ]
    },
    {
     "output_type": "stream",
     "name": "stdout",
     "text": [
      "Epoch [659/6000]: Train loss: 6.0043, Valid loss: 5.4865\n"
     ]
    },
    {
     "output_type": "stream",
     "name": "stderr",
     "text": [
      "Epoch [660/6000]: 100%|██████████| 17/17 [00:00<00:00, 134.98it/s, loss=6.07]\n"
     ]
    },
    {
     "output_type": "stream",
     "name": "stdout",
     "text": [
      "Epoch [660/6000]: Train loss: 6.0030, Valid loss: 5.4590\n"
     ]
    },
    {
     "output_type": "stream",
     "name": "stderr",
     "text": [
      "Epoch [661/6000]: 100%|██████████| 17/17 [00:00<00:00, 124.84it/s, loss=6.34]\n"
     ]
    },
    {
     "output_type": "stream",
     "name": "stdout",
     "text": [
      "Epoch [661/6000]: Train loss: 5.9988, Valid loss: 5.5619\n"
     ]
    },
    {
     "output_type": "stream",
     "name": "stderr",
     "text": [
      "Epoch [662/6000]: 100%|██████████| 17/17 [00:00<00:00, 118.71it/s, loss=7.03]\n"
     ]
    },
    {
     "output_type": "stream",
     "name": "stdout",
     "text": [
      "Epoch [662/6000]: Train loss: 5.9982, Valid loss: 5.4746\n"
     ]
    },
    {
     "output_type": "stream",
     "name": "stderr",
     "text": [
      "Epoch [663/6000]: 100%|██████████| 17/17 [00:00<00:00, 130.72it/s, loss=6.86]\n"
     ]
    },
    {
     "output_type": "stream",
     "name": "stdout",
     "text": [
      "Epoch [663/6000]: Train loss: 5.9896, Valid loss: 5.7462\n"
     ]
    },
    {
     "output_type": "stream",
     "name": "stderr",
     "text": [
      "Epoch [664/6000]: 100%|██████████| 17/17 [00:00<00:00, 139.72it/s, loss=6.05]\n"
     ]
    },
    {
     "output_type": "stream",
     "name": "stdout",
     "text": [
      "Epoch [664/6000]: Train loss: 5.9778, Valid loss: 6.0704\n"
     ]
    },
    {
     "output_type": "stream",
     "name": "stderr",
     "text": [
      "Epoch [667/6000]: 100%|██████████| 17/17 [00:00<00:00, 124.37it/s, loss=6.42]\n"
     ]
    },
    {
     "output_type": "stream",
     "name": "stdout",
     "text": [
      "Epoch [667/6000]: Train loss: 5.9625, Valid loss: 5.4628\n"
     ]
    },
    {
     "output_type": "stream",
     "name": "stderr",
     "text": [
      "Epoch [668/6000]: 100%|██████████| 17/17 [00:00<00:00, 139.29it/s, loss=5.88]\n"
     ]
    },
    {
     "output_type": "stream",
     "name": "stdout",
     "text": [
      "Epoch [668/6000]: Train loss: 5.9528, Valid loss: 6.2945\n"
     ]
    },
    {
     "output_type": "stream",
     "name": "stderr",
     "text": [
      "Epoch [669/6000]: 100%|██████████| 17/17 [00:00<00:00, 123.64it/s, loss=9.64]\n"
     ]
    },
    {
     "output_type": "stream",
     "name": "stdout",
     "text": [
      "Epoch [669/6000]: Train loss: 5.9746, Valid loss: 6.2387\n"
     ]
    },
    {
     "output_type": "stream",
     "name": "stderr",
     "text": [
      "Epoch [670/6000]: 100%|██████████| 17/17 [00:00<00:00, 127.84it/s, loss=5.81]\n"
     ]
    },
    {
     "output_type": "stream",
     "name": "stdout",
     "text": [
      "Epoch [670/6000]: Train loss: 5.9411, Valid loss: 5.9893\n"
     ]
    },
    {
     "output_type": "stream",
     "name": "stderr",
     "text": [
      "Epoch [671/6000]: 100%|██████████| 17/17 [00:00<00:00, 121.55it/s, loss=7.04]\n"
     ]
    },
    {
     "output_type": "stream",
     "name": "stdout",
     "text": [
      "Epoch [671/6000]: Train loss: 5.9445, Valid loss: 5.7392\n"
     ]
    },
    {
     "output_type": "stream",
     "name": "stderr",
     "text": [
      "Epoch [672/6000]: 100%|██████████| 17/17 [00:00<00:00, 124.75it/s, loss=4.87]\n"
     ]
    },
    {
     "output_type": "stream",
     "name": "stdout",
     "text": [
      "Epoch [672/6000]: Train loss: 5.9230, Valid loss: 6.0568\n"
     ]
    },
    {
     "output_type": "stream",
     "name": "stderr",
     "text": [
      "Epoch [673/6000]: 100%|██████████| 17/17 [00:00<00:00, 120.68it/s, loss=6.1]\n"
     ]
    },
    {
     "output_type": "stream",
     "name": "stdout",
     "text": [
      "Epoch [673/6000]: Train loss: 5.9269, Valid loss: 6.0264\n"
     ]
    },
    {
     "output_type": "stream",
     "name": "stderr",
     "text": [
      "Epoch [674/6000]: 100%|██████████| 17/17 [00:00<00:00, 113.51it/s, loss=6.85]\n"
     ]
    },
    {
     "output_type": "stream",
     "name": "stdout",
     "text": [
      "Epoch [674/6000]: Train loss: 5.9261, Valid loss: 5.9119\n"
     ]
    },
    {
     "output_type": "stream",
     "name": "stderr",
     "text": [
      "Epoch [675/6000]: 100%|██████████| 17/17 [00:00<00:00, 122.92it/s, loss=5.36]\n"
     ]
    },
    {
     "output_type": "stream",
     "name": "stdout",
     "text": [
      "Epoch [675/6000]: Train loss: 5.9095, Valid loss: 5.9922\n"
     ]
    },
    {
     "output_type": "stream",
     "name": "stderr",
     "text": [
      "Epoch [676/6000]: 100%|██████████| 17/17 [00:00<00:00, 122.53it/s, loss=5.69]\n"
     ]
    },
    {
     "output_type": "stream",
     "name": "stdout",
     "text": [
      "Epoch [676/6000]: Train loss: 5.9074, Valid loss: 5.9030\n"
     ]
    },
    {
     "output_type": "stream",
     "name": "stderr",
     "text": [
      "Epoch [677/6000]: 100%|██████████| 17/17 [00:00<00:00, 124.03it/s, loss=7.6]\n"
     ]
    },
    {
     "output_type": "stream",
     "name": "stdout",
     "text": [
      "Epoch [677/6000]: Train loss: 5.9155, Valid loss: 5.9567\n"
     ]
    },
    {
     "output_type": "stream",
     "name": "stderr",
     "text": [
      "Epoch [678/6000]: 100%|██████████| 17/17 [00:00<00:00, 128.30it/s, loss=6.1]\n"
     ]
    },
    {
     "output_type": "stream",
     "name": "stdout",
     "text": [
      "Epoch [678/6000]: Train loss: 5.8999, Valid loss: 6.5534\n"
     ]
    },
    {
     "output_type": "stream",
     "name": "stderr",
     "text": [
      "Epoch [679/6000]: 100%|██████████| 17/17 [00:00<00:00, 128.24it/s, loss=4.35]\n"
     ]
    },
    {
     "output_type": "stream",
     "name": "stdout",
     "text": [
      "Epoch [679/6000]: Train loss: 5.8807, Valid loss: 5.8757\n"
     ]
    },
    {
     "output_type": "stream",
     "name": "stderr",
     "text": [
      "Epoch [680/6000]: 100%|██████████| 17/17 [00:00<00:00, 124.52it/s, loss=4.9]\n"
     ]
    },
    {
     "output_type": "stream",
     "name": "stdout",
     "text": [
      "Epoch [680/6000]: Train loss: 5.8797, Valid loss: 5.5429\n"
     ]
    },
    {
     "output_type": "stream",
     "name": "stderr",
     "text": [
      "Epoch [681/6000]: 100%|██████████| 17/17 [00:00<00:00, 123.38it/s, loss=6.53]\n"
     ]
    },
    {
     "output_type": "stream",
     "name": "stdout",
     "text": [
      "Epoch [681/6000]: Train loss: 5.8862, Valid loss: 5.7686\n"
     ]
    },
    {
     "output_type": "stream",
     "name": "stderr",
     "text": [
      "Epoch [682/6000]: 100%|██████████| 17/17 [00:00<00:00, 121.26it/s, loss=4.53]\n"
     ]
    },
    {
     "output_type": "stream",
     "name": "stdout",
     "text": [
      "Epoch [682/6000]: Train loss: 5.8664, Valid loss: 6.0110\n"
     ]
    },
    {
     "output_type": "stream",
     "name": "stderr",
     "text": [
      "Epoch [683/6000]: 100%|██████████| 17/17 [00:00<00:00, 131.64it/s, loss=5.48]\n"
     ]
    },
    {
     "output_type": "stream",
     "name": "stdout",
     "text": [
      "Epoch [683/6000]: Train loss: 5.8682, Valid loss: 6.2144\n"
     ]
    },
    {
     "output_type": "stream",
     "name": "stderr",
     "text": [
      "Epoch [684/6000]: 100%|██████████| 17/17 [00:00<00:00, 132.73it/s, loss=5.36]\n"
     ]
    },
    {
     "output_type": "stream",
     "name": "stdout",
     "text": [
      "Epoch [684/6000]: Train loss: 5.8624, Valid loss: 5.3848\n",
      "Saving model with loss 5.385...\n"
     ]
    },
    {
     "output_type": "stream",
     "name": "stderr",
     "text": [
      "Epoch [685/6000]: 100%|██████████| 17/17 [00:00<00:00, 135.55it/s, loss=6.61]\n"
     ]
    },
    {
     "output_type": "stream",
     "name": "stdout",
     "text": [
      "Epoch [685/6000]: Train loss: 5.8669, Valid loss: 5.8218\n"
     ]
    },
    {
     "output_type": "stream",
     "name": "stderr",
     "text": [
      "Epoch [686/6000]: 100%|██████████| 17/17 [00:00<00:00, 111.93it/s, loss=6.74]\n"
     ]
    },
    {
     "output_type": "stream",
     "name": "stdout",
     "text": [
      "Epoch [686/6000]: Train loss: 5.8625, Valid loss: 5.6351\n"
     ]
    },
    {
     "output_type": "stream",
     "name": "stderr",
     "text": [
      "Epoch [687/6000]: 100%|██████████| 17/17 [00:00<00:00, 129.96it/s, loss=5.61]\n"
     ]
    },
    {
     "output_type": "stream",
     "name": "stdout",
     "text": [
      "Epoch [687/6000]: Train loss: 5.8491, Valid loss: 5.6095\n"
     ]
    },
    {
     "output_type": "stream",
     "name": "stderr",
     "text": [
      "Epoch [688/6000]: 100%|██████████| 17/17 [00:00<00:00, 110.49it/s, loss=5.06]\n"
     ]
    },
    {
     "output_type": "stream",
     "name": "stdout",
     "text": [
      "Epoch [688/6000]: Train loss: 5.8402, Valid loss: 5.9302\n"
     ]
    },
    {
     "output_type": "stream",
     "name": "stderr",
     "text": [
      "Epoch [689/6000]: 100%|██████████| 17/17 [00:00<00:00, 121.52it/s, loss=6.86]\n"
     ]
    },
    {
     "output_type": "stream",
     "name": "stdout",
     "text": [
      "Epoch [689/6000]: Train loss: 5.8489, Valid loss: 5.7460\n"
     ]
    },
    {
     "output_type": "stream",
     "name": "stderr",
     "text": [
      "Epoch [690/6000]: 100%|██████████| 17/17 [00:00<00:00, 119.79it/s, loss=6.63]\n"
     ]
    },
    {
     "output_type": "stream",
     "name": "stdout",
     "text": [
      "Epoch [690/6000]: Train loss: 5.8422, Valid loss: 5.8227\n"
     ]
    },
    {
     "output_type": "stream",
     "name": "stderr",
     "text": [
      "Epoch [691/6000]: 100%|██████████| 17/17 [00:00<00:00, 130.22it/s, loss=5.27]\n"
     ]
    },
    {
     "output_type": "stream",
     "name": "stdout",
     "text": [
      "Epoch [691/6000]: Train loss: 5.8275, Valid loss: 5.7329\n"
     ]
    },
    {
     "output_type": "stream",
     "name": "stderr",
     "text": [
      "Epoch [692/6000]: 100%|██████████| 17/17 [00:00<00:00, 123.81it/s, loss=5.8]\n"
     ]
    },
    {
     "output_type": "stream",
     "name": "stdout",
     "text": [
      "Epoch [692/6000]: Train loss: 5.8262, Valid loss: 6.4869\n"
     ]
    },
    {
     "output_type": "stream",
     "name": "stderr",
     "text": [
      "Epoch [694/6000]: 100%|██████████| 17/17 [00:00<00:00, 114.64it/s, loss=4.74]\n"
     ]
    },
    {
     "output_type": "stream",
     "name": "stdout",
     "text": [
      "Epoch [694/6000]: Train loss: 5.8095, Valid loss: 5.8213\n"
     ]
    },
    {
     "output_type": "stream",
     "name": "stderr",
     "text": [
      "Epoch [695/6000]: 100%|██████████| 17/17 [00:00<00:00, 123.55it/s, loss=6.1]\n"
     ]
    },
    {
     "output_type": "stream",
     "name": "stdout",
     "text": [
      "Epoch [695/6000]: Train loss: 5.8154, Valid loss: 5.8301\n"
     ]
    },
    {
     "output_type": "stream",
     "name": "stderr",
     "text": [
      "Epoch [696/6000]: 100%|██████████| 17/17 [00:00<00:00, 98.53it/s, loss=6.46] \n"
     ]
    },
    {
     "output_type": "stream",
     "name": "stdout",
     "text": [
      "Epoch [696/6000]: Train loss: 5.8125, Valid loss: 6.3564\n"
     ]
    },
    {
     "output_type": "stream",
     "name": "stderr",
     "text": [
      "Epoch [697/6000]: 100%|██████████| 17/17 [00:00<00:00, 118.61it/s, loss=4.78]\n"
     ]
    },
    {
     "output_type": "stream",
     "name": "stdout",
     "text": [
      "Epoch [697/6000]: Train loss: 5.7960, Valid loss: 5.9418\n"
     ]
    },
    {
     "output_type": "stream",
     "name": "stderr",
     "text": [
      "Epoch [698/6000]: 100%|██████████| 17/17 [00:00<00:00, 116.06it/s, loss=6.99]\n"
     ]
    },
    {
     "output_type": "stream",
     "name": "stdout",
     "text": [
      "Epoch [698/6000]: Train loss: 5.8073, Valid loss: 5.7085\n"
     ]
    },
    {
     "output_type": "stream",
     "name": "stderr",
     "text": [
      "Epoch [699/6000]: 100%|██████████| 17/17 [00:00<00:00, 117.93it/s, loss=6.33]\n"
     ]
    },
    {
     "output_type": "stream",
     "name": "stdout",
     "text": [
      "Epoch [699/6000]: Train loss: 5.7982, Valid loss: 5.4707\n"
     ]
    },
    {
     "output_type": "stream",
     "name": "stderr",
     "text": [
      "Epoch [700/6000]: 100%|██████████| 17/17 [00:00<00:00, 123.31it/s, loss=4.07]\n"
     ]
    },
    {
     "output_type": "stream",
     "name": "stdout",
     "text": [
      "Epoch [700/6000]: Train loss: 5.7768, Valid loss: 6.4505\n"
     ]
    },
    {
     "output_type": "stream",
     "name": "stderr",
     "text": [
      "Epoch [701/6000]: 100%|██████████| 17/17 [00:00<00:00, 123.56it/s, loss=8.28]\n"
     ]
    },
    {
     "output_type": "stream",
     "name": "stdout",
     "text": [
      "Epoch [701/6000]: Train loss: 5.8034, Valid loss: 6.3465\n"
     ]
    },
    {
     "output_type": "stream",
     "name": "stderr",
     "text": [
      "Epoch [702/6000]: 100%|██████████| 17/17 [00:00<00:00, 119.16it/s, loss=5.94]\n"
     ]
    },
    {
     "output_type": "stream",
     "name": "stdout",
     "text": [
      "Epoch [702/6000]: Train loss: 5.7816, Valid loss: 5.2299\n",
      "Saving model with loss 5.230...\n"
     ]
    },
    {
     "output_type": "stream",
     "name": "stderr",
     "text": [
      "Epoch [703/6000]: 100%|██████████| 17/17 [00:00<00:00, 115.26it/s, loss=6.05]\n"
     ]
    },
    {
     "output_type": "stream",
     "name": "stdout",
     "text": [
      "Epoch [703/6000]: Train loss: 5.7788, Valid loss: 5.4804\n"
     ]
    },
    {
     "output_type": "stream",
     "name": "stderr",
     "text": [
      "Epoch [704/6000]: 100%|██████████| 17/17 [00:00<00:00, 116.31it/s, loss=5.45]\n"
     ]
    },
    {
     "output_type": "stream",
     "name": "stdout",
     "text": [
      "Epoch [704/6000]: Train loss: 5.7688, Valid loss: 5.6674\n"
     ]
    },
    {
     "output_type": "stream",
     "name": "stderr",
     "text": [
      "Epoch [705/6000]: 100%|██████████| 17/17 [00:00<00:00, 115.06it/s, loss=5.11]\n"
     ]
    },
    {
     "output_type": "stream",
     "name": "stdout",
     "text": [
      "Epoch [705/6000]: Train loss: 5.7622, Valid loss: 5.6770\n"
     ]
    },
    {
     "output_type": "stream",
     "name": "stderr",
     "text": [
      "Epoch [715/6000]: 100%|██████████| 17/17 [00:00<00:00, 117.36it/s, loss=7.1]\n"
     ]
    },
    {
     "output_type": "stream",
     "name": "stdout",
     "text": [
      "Epoch [715/6000]: Train loss: 5.7338, Valid loss: 5.7763\n"
     ]
    },
    {
     "output_type": "stream",
     "name": "stderr",
     "text": [
      "Epoch [716/6000]: 100%|██████████| 17/17 [00:00<00:00, 140.94it/s, loss=5.31]\n"
     ]
    },
    {
     "output_type": "stream",
     "name": "stdout",
     "text": [
      "Epoch [716/6000]: Train loss: 5.7164, Valid loss: 5.3651\n"
     ]
    },
    {
     "output_type": "stream",
     "name": "stderr",
     "text": [
      "Epoch [717/6000]: 100%|██████████| 17/17 [00:00<00:00, 114.50it/s, loss=5.13]\n"
     ]
    },
    {
     "output_type": "stream",
     "name": "stdout",
     "text": [
      "Epoch [717/6000]: Train loss: 5.7105, Valid loss: 5.5550\n"
     ]
    },
    {
     "output_type": "stream",
     "name": "stderr",
     "text": [
      "Epoch [718/6000]: 100%|██████████| 17/17 [00:00<00:00, 122.30it/s, loss=5.94]\n"
     ]
    },
    {
     "output_type": "stream",
     "name": "stdout",
     "text": [
      "Epoch [718/6000]: Train loss: 5.7126, Valid loss: 6.1269\n"
     ]
    },
    {
     "output_type": "stream",
     "name": "stderr",
     "text": [
      "Epoch [719/6000]: 100%|██████████| 17/17 [00:00<00:00, 104.48it/s, loss=6.37]\n"
     ]
    },
    {
     "output_type": "stream",
     "name": "stdout",
     "text": [
      "Epoch [719/6000]: Train loss: 5.7116, Valid loss: 6.0048\n"
     ]
    },
    {
     "output_type": "stream",
     "name": "stderr",
     "text": [
      "Epoch [720/6000]: 100%|██████████| 17/17 [00:00<00:00, 136.34it/s, loss=4.28]\n"
     ]
    },
    {
     "output_type": "stream",
     "name": "stdout",
     "text": [
      "Epoch [720/6000]: Train loss: 5.6927, Valid loss: 5.5082\n"
     ]
    },
    {
     "output_type": "stream",
     "name": "stderr",
     "text": [
      "Epoch [721/6000]: 100%|██████████| 17/17 [00:00<00:00, 97.53it/s, loss=4.82] \n"
     ]
    },
    {
     "output_type": "stream",
     "name": "stdout",
     "text": [
      "Epoch [721/6000]: Train loss: 5.6915, Valid loss: 5.7519\n"
     ]
    },
    {
     "output_type": "stream",
     "name": "stderr",
     "text": [
      "Epoch [722/6000]: 100%|██████████| 17/17 [00:00<00:00, 97.31it/s, loss=5.09]\n"
     ]
    },
    {
     "output_type": "stream",
     "name": "stdout",
     "text": [
      "Epoch [722/6000]: Train loss: 5.6895, Valid loss: 5.5526\n"
     ]
    },
    {
     "output_type": "stream",
     "name": "stderr",
     "text": [
      "Epoch [723/6000]: 100%|██████████| 17/17 [00:00<00:00, 114.72it/s, loss=6.65]\n"
     ]
    },
    {
     "output_type": "stream",
     "name": "stdout",
     "text": [
      "Epoch [723/6000]: Train loss: 5.6965, Valid loss: 5.5604\n"
     ]
    },
    {
     "output_type": "stream",
     "name": "stderr",
     "text": [
      "Epoch [724/6000]: 100%|██████████| 17/17 [00:00<00:00, 115.84it/s, loss=7.06]\n"
     ]
    },
    {
     "output_type": "stream",
     "name": "stdout",
     "text": [
      "Epoch [724/6000]: Train loss: 5.6965, Valid loss: 5.4466\n"
     ]
    },
    {
     "output_type": "stream",
     "name": "stderr",
     "text": [
      "Epoch [725/6000]: 100%|██████████| 17/17 [00:00<00:00, 110.53it/s, loss=4.4]\n"
     ]
    },
    {
     "output_type": "stream",
     "name": "stdout",
     "text": [
      "Epoch [725/6000]: Train loss: 5.6726, Valid loss: 5.4218\n"
     ]
    },
    {
     "output_type": "stream",
     "name": "stderr",
     "text": [
      "Epoch [726/6000]: 100%|██████████| 17/17 [00:00<00:00, 118.93it/s, loss=5.59]\n"
     ]
    },
    {
     "output_type": "stream",
     "name": "stdout",
     "text": [
      "Epoch [726/6000]: Train loss: 5.6765, Valid loss: 6.0140\n"
     ]
    },
    {
     "output_type": "stream",
     "name": "stderr",
     "text": [
      "Epoch [727/6000]: 100%|██████████| 17/17 [00:00<00:00, 110.75it/s, loss=6.55]\n"
     ]
    },
    {
     "output_type": "stream",
     "name": "stdout",
     "text": [
      "Epoch [727/6000]: Train loss: 5.6793, Valid loss: 5.4499\n"
     ]
    },
    {
     "output_type": "stream",
     "name": "stderr",
     "text": [
      "Epoch [730/6000]: 100%|██████████| 17/17 [00:00<00:00, 108.71it/s, loss=5.87]\n"
     ]
    },
    {
     "output_type": "stream",
     "name": "stdout",
     "text": [
      "Epoch [730/6000]: Train loss: 5.6632, Valid loss: 6.0585\n"
     ]
    },
    {
     "output_type": "stream",
     "name": "stderr",
     "text": [
      "Epoch [731/6000]: 100%|██████████| 17/17 [00:00<00:00, 110.03it/s, loss=6.01]\n"
     ]
    },
    {
     "output_type": "stream",
     "name": "stdout",
     "text": [
      "Epoch [731/6000]: Train loss: 5.6588, Valid loss: 5.2586\n"
     ]
    },
    {
     "output_type": "stream",
     "name": "stderr",
     "text": [
      "Epoch [732/6000]: 100%|██████████| 17/17 [00:00<00:00, 108.51it/s, loss=5.64]\n"
     ]
    },
    {
     "output_type": "stream",
     "name": "stdout",
     "text": [
      "Epoch [732/6000]: Train loss: 5.6526, Valid loss: 5.6816\n"
     ]
    },
    {
     "output_type": "stream",
     "name": "stderr",
     "text": [
      "Epoch [733/6000]: 100%|██████████| 17/17 [00:00<00:00, 108.11it/s, loss=5.87]\n"
     ]
    },
    {
     "output_type": "stream",
     "name": "stdout",
     "text": [
      "Epoch [733/6000]: Train loss: 5.6497, Valid loss: 6.0411\n"
     ]
    },
    {
     "output_type": "stream",
     "name": "stderr",
     "text": [
      "Epoch [734/6000]: 100%|██████████| 17/17 [00:00<00:00, 117.06it/s, loss=6.46]\n"
     ]
    },
    {
     "output_type": "stream",
     "name": "stdout",
     "text": [
      "Epoch [734/6000]: Train loss: 5.6501, Valid loss: 5.7334\n"
     ]
    },
    {
     "output_type": "stream",
     "name": "stderr",
     "text": [
      "Epoch [735/6000]: 100%|██████████| 17/17 [00:00<00:00, 119.71it/s, loss=5.01]\n"
     ]
    },
    {
     "output_type": "stream",
     "name": "stdout",
     "text": [
      "Epoch [735/6000]: Train loss: 5.6364, Valid loss: 5.5995\n"
     ]
    },
    {
     "output_type": "stream",
     "name": "stderr",
     "text": [
      "Epoch [736/6000]: 100%|██████████| 17/17 [00:00<00:00, 130.77it/s, loss=6.74]\n"
     ]
    },
    {
     "output_type": "stream",
     "name": "stdout",
     "text": [
      "Epoch [736/6000]: Train loss: 5.6440, Valid loss: 5.9641\n"
     ]
    },
    {
     "output_type": "stream",
     "name": "stderr",
     "text": [
      "Epoch [737/6000]: 100%|██████████| 17/17 [00:00<00:00, 123.59it/s, loss=4.38]\n"
     ]
    },
    {
     "output_type": "stream",
     "name": "stdout",
     "text": [
      "Epoch [737/6000]: Train loss: 5.6228, Valid loss: 5.4990\n"
     ]
    },
    {
     "output_type": "stream",
     "name": "stderr",
     "text": [
      "Epoch [738/6000]: 100%|██████████| 17/17 [00:00<00:00, 135.75it/s, loss=4.64]\n"
     ]
    },
    {
     "output_type": "stream",
     "name": "stdout",
     "text": [
      "Epoch [738/6000]: Train loss: 5.6205, Valid loss: 5.6434\n"
     ]
    },
    {
     "output_type": "stream",
     "name": "stderr",
     "text": [
      "Epoch [739/6000]: 100%|██████████| 17/17 [00:00<00:00, 130.27it/s, loss=5.22]\n"
     ]
    },
    {
     "output_type": "stream",
     "name": "stdout",
     "text": [
      "Epoch [739/6000]: Train loss: 5.6208, Valid loss: 5.5950\n"
     ]
    },
    {
     "output_type": "stream",
     "name": "stderr",
     "text": [
      "Epoch [740/6000]: 100%|██████████| 17/17 [00:00<00:00, 109.16it/s, loss=6.63]\n"
     ]
    },
    {
     "output_type": "stream",
     "name": "stdout",
     "text": [
      "Epoch [740/6000]: Train loss: 5.6269, Valid loss: 5.5925\n"
     ]
    },
    {
     "output_type": "stream",
     "name": "stderr",
     "text": [
      "Epoch [741/6000]: 100%|██████████| 17/17 [00:00<00:00, 114.22it/s, loss=4.41]\n"
     ]
    },
    {
     "output_type": "stream",
     "name": "stdout",
     "text": [
      "Epoch [741/6000]: Train loss: 5.6072, Valid loss: 5.4449\n"
     ]
    },
    {
     "output_type": "stream",
     "name": "stderr",
     "text": [
      "Epoch [742/6000]: 100%|██████████| 17/17 [00:00<00:00, 111.23it/s, loss=4.64]\n"
     ]
    },
    {
     "output_type": "stream",
     "name": "stdout",
     "text": [
      "Epoch [742/6000]: Train loss: 5.6041, Valid loss: 5.3719\n"
     ]
    },
    {
     "output_type": "stream",
     "name": "stderr",
     "text": [
      "Epoch [743/6000]: 100%|██████████| 17/17 [00:00<00:00, 124.31it/s, loss=4.55]\n"
     ]
    },
    {
     "output_type": "stream",
     "name": "stdout",
     "text": [
      "Epoch [743/6000]: Train loss: 5.5993, Valid loss: 5.9916\n"
     ]
    },
    {
     "output_type": "stream",
     "name": "stderr",
     "text": [
      "Epoch [744/6000]: 100%|██████████| 17/17 [00:00<00:00, 110.33it/s, loss=6.42]\n"
     ]
    },
    {
     "output_type": "stream",
     "name": "stdout",
     "text": [
      "Epoch [744/6000]: Train loss: 5.6091, Valid loss: 5.5418\n"
     ]
    },
    {
     "output_type": "stream",
     "name": "stderr",
     "text": [
      "Epoch [745/6000]: 100%|██████████| 17/17 [00:00<00:00, 112.93it/s, loss=5.85]\n"
     ]
    },
    {
     "output_type": "stream",
     "name": "stdout",
     "text": [
      "Epoch [745/6000]: Train loss: 5.6013, Valid loss: 5.0995\n",
      "Saving model with loss 5.099...\n"
     ]
    },
    {
     "output_type": "stream",
     "name": "stderr",
     "text": [
      "Epoch [746/6000]: 100%|██████████| 17/17 [00:00<00:00, 122.18it/s, loss=4.72]\n"
     ]
    },
    {
     "output_type": "stream",
     "name": "stdout",
     "text": [
      "Epoch [746/6000]: Train loss: 5.5890, Valid loss: 5.0037\n",
      "Saving model with loss 5.004...\n"
     ]
    },
    {
     "output_type": "stream",
     "name": "stderr",
     "text": [
      "Epoch [747/6000]: 100%|██████████| 17/17 [00:00<00:00, 113.98it/s, loss=4.9]\n"
     ]
    },
    {
     "output_type": "stream",
     "name": "stdout",
     "text": [
      "Epoch [747/6000]: Train loss: 5.5867, Valid loss: 5.5223\n"
     ]
    },
    {
     "output_type": "stream",
     "name": "stderr",
     "text": [
      "Epoch [748/6000]: 100%|██████████| 17/17 [00:00<00:00, 119.17it/s, loss=5.53]\n"
     ]
    },
    {
     "output_type": "stream",
     "name": "stdout",
     "text": [
      "Epoch [748/6000]: Train loss: 5.5867, Valid loss: 5.6656\n"
     ]
    },
    {
     "output_type": "stream",
     "name": "stderr",
     "text": [
      "Epoch [749/6000]: 100%|██████████| 17/17 [00:00<00:00, 125.36it/s, loss=7.13]\n"
     ]
    },
    {
     "output_type": "stream",
     "name": "stdout",
     "text": [
      "Epoch [749/6000]: Train loss: 5.5945, Valid loss: 5.5391\n"
     ]
    },
    {
     "output_type": "stream",
     "name": "stderr",
     "text": [
      "Epoch [750/6000]: 100%|██████████| 17/17 [00:00<00:00, 123.01it/s, loss=4.77]\n"
     ]
    },
    {
     "output_type": "stream",
     "name": "stdout",
     "text": [
      "Epoch [750/6000]: Train loss: 5.5729, Valid loss: 5.6171\n"
     ]
    },
    {
     "output_type": "stream",
     "name": "stderr",
     "text": [
      "Epoch [751/6000]: 100%|██████████| 17/17 [00:00<00:00, 117.98it/s, loss=3.4]\n"
     ]
    },
    {
     "output_type": "stream",
     "name": "stdout",
     "text": [
      "Epoch [751/6000]: Train loss: 5.5584, Valid loss: 5.2967\n"
     ]
    },
    {
     "output_type": "stream",
     "name": "stderr",
     "text": [
      "Epoch [752/6000]: 100%|██████████| 17/17 [00:00<00:00, 126.23it/s, loss=6.65]\n"
     ]
    },
    {
     "output_type": "stream",
     "name": "stdout",
     "text": [
      "Epoch [752/6000]: Train loss: 5.5787, Valid loss: 5.0231\n"
     ]
    },
    {
     "output_type": "stream",
     "name": "stderr",
     "text": [
      "Epoch [753/6000]: 100%|██████████| 17/17 [00:00<00:00, 114.60it/s, loss=7.63]\n"
     ]
    },
    {
     "output_type": "stream",
     "name": "stdout",
     "text": [
      "Epoch [753/6000]: Train loss: 5.5819, Valid loss: 5.7250\n"
     ]
    },
    {
     "output_type": "stream",
     "name": "stderr",
     "text": [
      "Epoch [754/6000]: 100%|██████████| 17/17 [00:00<00:00, 117.48it/s, loss=6.85]\n"
     ]
    },
    {
     "output_type": "stream",
     "name": "stdout",
     "text": [
      "Epoch [754/6000]: Train loss: 5.5724, Valid loss: 5.8048\n"
     ]
    },
    {
     "output_type": "stream",
     "name": "stderr",
     "text": [
      "Epoch [755/6000]: 100%|██████████| 17/17 [00:00<00:00, 124.42it/s, loss=5.36]\n"
     ]
    },
    {
     "output_type": "stream",
     "name": "stdout",
     "text": [
      "Epoch [755/6000]: Train loss: 5.5573, Valid loss: 5.3154\n"
     ]
    },
    {
     "output_type": "stream",
     "name": "stderr",
     "text": [
      "Epoch [756/6000]: 100%|██████████| 17/17 [00:00<00:00, 113.75it/s, loss=5.13]\n"
     ]
    },
    {
     "output_type": "stream",
     "name": "stdout",
     "text": [
      "Epoch [756/6000]: Train loss: 5.5514, Valid loss: 5.0342\n"
     ]
    },
    {
     "output_type": "stream",
     "name": "stderr",
     "text": [
      "Epoch [757/6000]: 100%|██████████| 17/17 [00:00<00:00, 126.13it/s, loss=4.06]\n"
     ]
    },
    {
     "output_type": "stream",
     "name": "stdout",
     "text": [
      "Epoch [757/6000]: Train loss: 5.5394, Valid loss: 5.3318\n"
     ]
    },
    {
     "output_type": "stream",
     "name": "stderr",
     "text": [
      "Epoch [758/6000]: 100%|██████████| 17/17 [00:00<00:00, 120.80it/s, loss=5.31]\n"
     ]
    },
    {
     "output_type": "stream",
     "name": "stdout",
     "text": [
      "Epoch [758/6000]: Train loss: 5.5446, Valid loss: 5.2826\n"
     ]
    },
    {
     "output_type": "stream",
     "name": "stderr",
     "text": [
      "Epoch [759/6000]: 100%|██████████| 17/17 [00:00<00:00, 120.11it/s, loss=5.66]\n"
     ]
    },
    {
     "output_type": "stream",
     "name": "stdout",
     "text": [
      "Epoch [759/6000]: Train loss: 5.5430, Valid loss: 5.3085\n"
     ]
    },
    {
     "output_type": "stream",
     "name": "stderr",
     "text": [
      "Epoch [760/6000]: 100%|██████████| 17/17 [00:00<00:00, 118.71it/s, loss=6.52]\n"
     ]
    },
    {
     "output_type": "stream",
     "name": "stdout",
     "text": [
      "Epoch [760/6000]: Train loss: 5.5457, Valid loss: 5.1303\n"
     ]
    },
    {
     "output_type": "stream",
     "name": "stderr",
     "text": [
      "Epoch [761/6000]: 100%|██████████| 17/17 [00:00<00:00, 117.27it/s, loss=5.13]\n"
     ]
    },
    {
     "output_type": "stream",
     "name": "stdout",
     "text": [
      "Epoch [761/6000]: Train loss: 5.5334, Valid loss: 5.9607\n"
     ]
    },
    {
     "output_type": "stream",
     "name": "stderr",
     "text": [
      "Epoch [762/6000]: 100%|██████████| 17/17 [00:00<00:00, 97.38it/s, loss=5.78] \n"
     ]
    },
    {
     "output_type": "stream",
     "name": "stdout",
     "text": [
      "Epoch [762/6000]: Train loss: 5.5319, Valid loss: 5.5813\n"
     ]
    },
    {
     "output_type": "stream",
     "name": "stderr",
     "text": [
      "Epoch [763/6000]: 100%|██████████| 17/17 [00:00<00:00, 97.04it/s, loss=5.32]\n"
     ]
    },
    {
     "output_type": "stream",
     "name": "stdout",
     "text": [
      "Epoch [763/6000]: Train loss: 5.5246, Valid loss: 5.4569\n"
     ]
    },
    {
     "output_type": "stream",
     "name": "stderr",
     "text": [
      "Epoch [764/6000]: 100%|██████████| 17/17 [00:00<00:00, 99.67it/s, loss=5.36] \n"
     ]
    },
    {
     "output_type": "stream",
     "name": "stdout",
     "text": [
      "Epoch [764/6000]: Train loss: 5.5211, Valid loss: 5.5149\n"
     ]
    },
    {
     "output_type": "stream",
     "name": "stderr",
     "text": [
      "Epoch [765/6000]: 100%|██████████| 17/17 [00:00<00:00, 104.85it/s, loss=4.96]\n"
     ]
    },
    {
     "output_type": "stream",
     "name": "stdout",
     "text": [
      "Epoch [765/6000]: Train loss: 5.5137, Valid loss: 5.0560\n"
     ]
    },
    {
     "output_type": "stream",
     "name": "stderr",
     "text": [
      "Epoch [766/6000]: 100%|██████████| 17/17 [00:00<00:00, 89.72it/s, loss=5.11]\n"
     ]
    },
    {
     "output_type": "stream",
     "name": "stdout",
     "text": [
      "Epoch [766/6000]: Train loss: 5.5112, Valid loss: 5.3763\n"
     ]
    },
    {
     "output_type": "stream",
     "name": "stderr",
     "text": [
      "Epoch [767/6000]: 100%|██████████| 17/17 [00:00<00:00, 116.18it/s, loss=4.57]\n"
     ]
    },
    {
     "output_type": "stream",
     "name": "stdout",
     "text": [
      "Epoch [767/6000]: Train loss: 5.5029, Valid loss: 5.6834\n"
     ]
    },
    {
     "output_type": "stream",
     "name": "stderr",
     "text": [
      "Epoch [768/6000]: 100%|██████████| 17/17 [00:00<00:00, 104.06it/s, loss=4.15]\n"
     ]
    },
    {
     "output_type": "stream",
     "name": "stdout",
     "text": [
      "Epoch [768/6000]: Train loss: 5.4964, Valid loss: 4.8386\n",
      "Saving model with loss 4.839...\n"
     ]
    },
    {
     "output_type": "stream",
     "name": "stderr",
     "text": [
      "Epoch [769/6000]: 100%|██████████| 17/17 [00:00<00:00, 101.88it/s, loss=4.76]\n"
     ]
    },
    {
     "output_type": "stream",
     "name": "stdout",
     "text": [
      "Epoch [769/6000]: Train loss: 5.4966, Valid loss: 5.5817\n"
     ]
    },
    {
     "output_type": "stream",
     "name": "stderr",
     "text": [
      "Epoch [770/6000]: 100%|██████████| 17/17 [00:00<00:00, 109.17it/s, loss=4.23]\n"
     ]
    },
    {
     "output_type": "stream",
     "name": "stdout",
     "text": [
      "Epoch [770/6000]: Train loss: 5.4885, Valid loss: 5.6188\n"
     ]
    },
    {
     "output_type": "stream",
     "name": "stderr",
     "text": [
      "Epoch [771/6000]: 100%|██████████| 17/17 [00:00<00:00, 108.83it/s, loss=5.34]\n"
     ]
    },
    {
     "output_type": "stream",
     "name": "stdout",
     "text": [
      "Epoch [771/6000]: Train loss: 5.4927, Valid loss: 4.9439\n"
     ]
    },
    {
     "output_type": "stream",
     "name": "stderr",
     "text": [
      "Epoch [772/6000]: 100%|██████████| 17/17 [00:00<00:00, 96.16it/s, loss=3.65] \n"
     ]
    },
    {
     "output_type": "stream",
     "name": "stdout",
     "text": [
      "Epoch [772/6000]: Train loss: 5.4761, Valid loss: 5.2411\n"
     ]
    },
    {
     "output_type": "stream",
     "name": "stderr",
     "text": [
      "Epoch [773/6000]: 100%|██████████| 17/17 [00:00<00:00, 107.76it/s, loss=7.09]\n"
     ]
    },
    {
     "output_type": "stream",
     "name": "stdout",
     "text": [
      "Epoch [773/6000]: Train loss: 5.4970, Valid loss: 5.0687\n"
     ]
    },
    {
     "output_type": "stream",
     "name": "stderr",
     "text": [
      "Epoch [774/6000]: 100%|██████████| 17/17 [00:00<00:00, 111.29it/s, loss=4.51]\n"
     ]
    },
    {
     "output_type": "stream",
     "name": "stdout",
     "text": [
      "Epoch [774/6000]: Train loss: 5.4744, Valid loss: 5.3279\n"
     ]
    },
    {
     "output_type": "stream",
     "name": "stderr",
     "text": [
      "Epoch [775/6000]: 100%|██████████| 17/17 [00:00<00:00, 99.95it/s, loss=5.25] \n"
     ]
    },
    {
     "output_type": "stream",
     "name": "stdout",
     "text": [
      "Epoch [775/6000]: Train loss: 5.4754, Valid loss: 5.6367\n"
     ]
    },
    {
     "output_type": "stream",
     "name": "stderr",
     "text": [
      "Epoch [776/6000]: 100%|██████████| 17/17 [00:00<00:00, 112.74it/s, loss=7.28]\n"
     ]
    },
    {
     "output_type": "stream",
     "name": "stdout",
     "text": [
      "Epoch [776/6000]: Train loss: 5.4868, Valid loss: 5.8061\n"
     ]
    },
    {
     "output_type": "stream",
     "name": "stderr",
     "text": [
      "Epoch [777/6000]: 100%|██████████| 17/17 [00:00<00:00, 114.11it/s, loss=6.56]\n"
     ]
    },
    {
     "output_type": "stream",
     "name": "stdout",
     "text": [
      "Epoch [777/6000]: Train loss: 5.4772, Valid loss: 5.3309\n"
     ]
    },
    {
     "output_type": "stream",
     "name": "stderr",
     "text": [
      "Epoch [778/6000]: 100%|██████████| 17/17 [00:00<00:00, 101.70it/s, loss=4.5]\n"
     ]
    },
    {
     "output_type": "stream",
     "name": "stdout",
     "text": [
      "Epoch [778/6000]: Train loss: 5.4579, Valid loss: 5.1705\n"
     ]
    },
    {
     "output_type": "stream",
     "name": "stderr",
     "text": [
      "Epoch [779/6000]: 100%|██████████| 17/17 [00:00<00:00, 107.38it/s, loss=5.47]\n"
     ]
    },
    {
     "output_type": "stream",
     "name": "stdout",
     "text": [
      "Epoch [779/6000]: Train loss: 5.4609, Valid loss: 5.8522\n"
     ]
    },
    {
     "output_type": "stream",
     "name": "stderr",
     "text": [
      "Epoch [780/6000]: 100%|██████████| 17/17 [00:00<00:00, 113.55it/s, loss=6.05]\n"
     ]
    },
    {
     "output_type": "stream",
     "name": "stdout",
     "text": [
      "Epoch [780/6000]: Train loss: 5.4614, Valid loss: 4.9570\n"
     ]
    },
    {
     "output_type": "stream",
     "name": "stderr",
     "text": [
      "Epoch [781/6000]: 100%|██████████| 17/17 [00:00<00:00, 96.02it/s, loss=6.81] \n"
     ]
    },
    {
     "output_type": "stream",
     "name": "stdout",
     "text": [
      "Epoch [781/6000]: Train loss: 5.4628, Valid loss: 5.7544\n"
     ]
    },
    {
     "output_type": "stream",
     "name": "stderr",
     "text": [
      "Epoch [782/6000]: 100%|██████████| 17/17 [00:00<00:00, 116.57it/s, loss=5.77]\n"
     ]
    },
    {
     "output_type": "stream",
     "name": "stdout",
     "text": [
      "Epoch [782/6000]: Train loss: 5.4518, Valid loss: 5.0203\n"
     ]
    },
    {
     "output_type": "stream",
     "name": "stderr",
     "text": [
      "Epoch [783/6000]: 100%|██████████| 17/17 [00:00<00:00, 115.61it/s, loss=6.34]\n"
     ]
    },
    {
     "output_type": "stream",
     "name": "stdout",
     "text": [
      "Epoch [783/6000]: Train loss: 5.4513, Valid loss: 5.1913\n"
     ]
    },
    {
     "output_type": "stream",
     "name": "stderr",
     "text": [
      "Epoch [784/6000]: 100%|██████████| 17/17 [00:00<00:00, 111.85it/s, loss=5.04]\n"
     ]
    },
    {
     "output_type": "stream",
     "name": "stdout",
     "text": [
      "Epoch [784/6000]: Train loss: 5.4372, Valid loss: 5.8387\n"
     ]
    },
    {
     "output_type": "stream",
     "name": "stderr",
     "text": [
      "Epoch [785/6000]: 100%|██████████| 17/17 [00:00<00:00, 119.22it/s, loss=5.66]\n"
     ]
    },
    {
     "output_type": "stream",
     "name": "stdout",
     "text": [
      "Epoch [785/6000]: Train loss: 5.4380, Valid loss: 5.1563\n"
     ]
    },
    {
     "output_type": "stream",
     "name": "stderr",
     "text": [
      "Epoch [786/6000]: 100%|██████████| 17/17 [00:00<00:00, 111.22it/s, loss=5.15]\n"
     ]
    },
    {
     "output_type": "stream",
     "name": "stdout",
     "text": [
      "Epoch [786/6000]: Train loss: 5.4299, Valid loss: 5.1283\n"
     ]
    },
    {
     "output_type": "stream",
     "name": "stderr",
     "text": [
      "Epoch [787/6000]: 100%|██████████| 17/17 [00:00<00:00, 101.38it/s, loss=3.72]\n"
     ]
    },
    {
     "output_type": "stream",
     "name": "stdout",
     "text": [
      "Epoch [787/6000]: Train loss: 5.4155, Valid loss: 5.0278\n"
     ]
    },
    {
     "output_type": "stream",
     "name": "stderr",
     "text": [
      "Epoch [788/6000]: 100%|██████████| 17/17 [00:00<00:00, 124.52it/s, loss=5]\n"
     ]
    },
    {
     "output_type": "stream",
     "name": "stdout",
     "text": [
      "Epoch [788/6000]: Train loss: 5.4213, Valid loss: 5.0043\n"
     ]
    },
    {
     "output_type": "stream",
     "name": "stderr",
     "text": [
      "Epoch [789/6000]: 100%|██████████| 17/17 [00:00<00:00, 127.75it/s, loss=4.49]\n"
     ]
    },
    {
     "output_type": "stream",
     "name": "stdout",
     "text": [
      "Epoch [789/6000]: Train loss: 5.4129, Valid loss: 6.0013\n"
     ]
    },
    {
     "output_type": "stream",
     "name": "stderr",
     "text": [
      "Epoch [790/6000]: 100%|██████████| 17/17 [00:00<00:00, 116.30it/s, loss=5.67]\n"
     ]
    },
    {
     "output_type": "stream",
     "name": "stdout",
     "text": [
      "Epoch [790/6000]: Train loss: 5.4179, Valid loss: 4.9941\n"
     ]
    },
    {
     "output_type": "stream",
     "name": "stderr",
     "text": [
      "Epoch [791/6000]: 100%|██████████| 17/17 [00:00<00:00, 127.10it/s, loss=5.85]\n"
     ]
    },
    {
     "output_type": "stream",
     "name": "stdout",
     "text": [
      "Epoch [791/6000]: Train loss: 5.4149, Valid loss: 5.4612\n"
     ]
    },
    {
     "output_type": "stream",
     "name": "stderr",
     "text": [
      "Epoch [792/6000]: 100%|██████████| 17/17 [00:00<00:00, 125.21it/s, loss=5.98]\n"
     ]
    },
    {
     "output_type": "stream",
     "name": "stdout",
     "text": [
      "Epoch [792/6000]: Train loss: 5.4116, Valid loss: 4.9865\n"
     ]
    },
    {
     "output_type": "stream",
     "name": "stderr",
     "text": [
      "Epoch [793/6000]: 100%|██████████| 17/17 [00:00<00:00, 122.27it/s, loss=5.49]\n"
     ]
    },
    {
     "output_type": "stream",
     "name": "stdout",
     "text": [
      "Epoch [793/6000]: Train loss: 5.4040, Valid loss: 5.2562\n"
     ]
    },
    {
     "output_type": "stream",
     "name": "stderr",
     "text": [
      "Epoch [794/6000]: 100%|██████████| 17/17 [00:00<00:00, 123.08it/s, loss=5.5]\n"
     ]
    },
    {
     "output_type": "stream",
     "name": "stdout",
     "text": [
      "Epoch [794/6000]: Train loss: 5.4003, Valid loss: 5.9739\n"
     ]
    },
    {
     "output_type": "stream",
     "name": "stderr",
     "text": [
      "Epoch [795/6000]: 100%|██████████| 17/17 [00:00<00:00, 120.97it/s, loss=5.71]\n"
     ]
    },
    {
     "output_type": "stream",
     "name": "stdout",
     "text": [
      "Epoch [795/6000]: Train loss: 5.3975, Valid loss: 5.5457\n"
     ]
    },
    {
     "output_type": "stream",
     "name": "stderr",
     "text": [
      "Epoch [796/6000]: 100%|██████████| 17/17 [00:00<00:00, 108.42it/s, loss=3.81]\n"
     ]
    },
    {
     "output_type": "stream",
     "name": "stdout",
     "text": [
      "Epoch [796/6000]: Train loss: 5.3795, Valid loss: 5.5105\n"
     ]
    },
    {
     "output_type": "stream",
     "name": "stderr",
     "text": [
      "Epoch [797/6000]: 100%|██████████| 17/17 [00:00<00:00, 100.34it/s, loss=6.01]\n"
     ]
    },
    {
     "output_type": "stream",
     "name": "stdout",
     "text": [
      "Epoch [797/6000]: Train loss: 5.3913, Valid loss: 5.4645\n"
     ]
    },
    {
     "output_type": "stream",
     "name": "stderr",
     "text": [
      "Epoch [798/6000]: 100%|██████████| 17/17 [00:00<00:00, 123.69it/s, loss=6.92]\n"
     ]
    },
    {
     "output_type": "stream",
     "name": "stdout",
     "text": [
      "Epoch [798/6000]: Train loss: 5.3946, Valid loss: 4.9977\n"
     ]
    },
    {
     "output_type": "stream",
     "name": "stderr",
     "text": [
      "Epoch [799/6000]: 100%|██████████| 17/17 [00:00<00:00, 122.73it/s, loss=6.57]\n"
     ]
    },
    {
     "output_type": "stream",
     "name": "stdout",
     "text": [
      "Epoch [799/6000]: Train loss: 5.3882, Valid loss: 5.2632\n"
     ]
    },
    {
     "output_type": "stream",
     "name": "stderr",
     "text": [
      "Epoch [800/6000]: 100%|██████████| 17/17 [00:00<00:00, 113.26it/s, loss=6.14]\n"
     ]
    },
    {
     "output_type": "stream",
     "name": "stdout",
     "text": [
      "Epoch [800/6000]: Train loss: 5.3801, Valid loss: 5.2270\n"
     ]
    },
    {
     "output_type": "stream",
     "name": "stderr",
     "text": [
      "Epoch [801/6000]: 100%|██████████| 17/17 [00:00<00:00, 123.10it/s, loss=6.14]\n"
     ]
    },
    {
     "output_type": "stream",
     "name": "stdout",
     "text": [
      "Epoch [801/6000]: Train loss: 5.3758, Valid loss: 6.2636\n"
     ]
    },
    {
     "output_type": "stream",
     "name": "stderr",
     "text": [
      "Epoch [802/6000]: 100%|██████████| 17/17 [00:00<00:00, 120.70it/s, loss=5.78]\n"
     ]
    },
    {
     "output_type": "stream",
     "name": "stdout",
     "text": [
      "Epoch [802/6000]: Train loss: 5.3693, Valid loss: 5.4856\n"
     ]
    },
    {
     "output_type": "stream",
     "name": "stderr",
     "text": [
      "Epoch [803/6000]: 100%|██████████| 17/17 [00:00<00:00, 122.21it/s, loss=4.96]\n"
     ]
    },
    {
     "output_type": "stream",
     "name": "stdout",
     "text": [
      "Epoch [803/6000]: Train loss: 5.3591, Valid loss: 5.7030\n"
     ]
    },
    {
     "output_type": "stream",
     "name": "stderr",
     "text": [
      "Epoch [804/6000]: 100%|██████████| 17/17 [00:00<00:00, 122.14it/s, loss=6.85]\n"
     ]
    },
    {
     "output_type": "stream",
     "name": "stdout",
     "text": [
      "Epoch [804/6000]: Train loss: 5.3695, Valid loss: 4.9220\n"
     ]
    },
    {
     "output_type": "stream",
     "name": "stderr",
     "text": [
      "Epoch [805/6000]: 100%|██████████| 17/17 [00:00<00:00, 122.40it/s, loss=4.91]\n"
     ]
    },
    {
     "output_type": "stream",
     "name": "stdout",
     "text": [
      "Epoch [805/6000]: Train loss: 5.3525, Valid loss: 6.4689\n"
     ]
    },
    {
     "output_type": "stream",
     "name": "stderr",
     "text": [
      "Epoch [806/6000]: 100%|██████████| 17/17 [00:00<00:00, 119.45it/s, loss=5.15]\n"
     ]
    },
    {
     "output_type": "stream",
     "name": "stdout",
     "text": [
      "Epoch [806/6000]: Train loss: 5.3487, Valid loss: 5.0672\n"
     ]
    },
    {
     "output_type": "stream",
     "name": "stderr",
     "text": [
      "Epoch [810/6000]: 100%|██████████| 17/17 [00:00<00:00, 100.06it/s, loss=3.97]\n"
     ]
    },
    {
     "output_type": "stream",
     "name": "stdout",
     "text": [
      "Epoch [810/6000]: Train loss: 5.3233, Valid loss: 5.4318\n"
     ]
    },
    {
     "output_type": "stream",
     "name": "stderr",
     "text": [
      "Epoch [811/6000]: 100%|██████████| 17/17 [00:00<00:00, 114.58it/s, loss=7.97]\n"
     ]
    },
    {
     "output_type": "stream",
     "name": "stdout",
     "text": [
      "Epoch [811/6000]: Train loss: 5.3490, Valid loss: 5.0395\n"
     ]
    },
    {
     "output_type": "stream",
     "name": "stderr",
     "text": [
      "Epoch [812/6000]: 100%|██████████| 17/17 [00:00<00:00, 112.13it/s, loss=4.14]\n"
     ]
    },
    {
     "output_type": "stream",
     "name": "stdout",
     "text": [
      "Epoch [812/6000]: Train loss: 5.3163, Valid loss: 4.9783\n"
     ]
    },
    {
     "output_type": "stream",
     "name": "stderr",
     "text": [
      "Epoch [813/6000]: 100%|██████████| 17/17 [00:00<00:00, 102.07it/s, loss=4.94]\n"
     ]
    },
    {
     "output_type": "stream",
     "name": "stdout",
     "text": [
      "Epoch [813/6000]: Train loss: 5.3182, Valid loss: 5.1562\n"
     ]
    },
    {
     "output_type": "stream",
     "name": "stderr",
     "text": [
      "Epoch [814/6000]: 100%|██████████| 17/17 [00:00<00:00, 112.11it/s, loss=6.74]\n"
     ]
    },
    {
     "output_type": "stream",
     "name": "stdout",
     "text": [
      "Epoch [814/6000]: Train loss: 5.3272, Valid loss: 4.9400\n"
     ]
    },
    {
     "output_type": "stream",
     "name": "stderr",
     "text": [
      "Epoch [815/6000]: 100%|██████████| 17/17 [00:00<00:00, 124.21it/s, loss=5.35]\n"
     ]
    },
    {
     "output_type": "stream",
     "name": "stdout",
     "text": [
      "Epoch [815/6000]: Train loss: 5.3132, Valid loss: 5.3814\n"
     ]
    },
    {
     "output_type": "stream",
     "name": "stderr",
     "text": [
      "Epoch [816/6000]: 100%|██████████| 17/17 [00:00<00:00, 91.45it/s, loss=6.1] "
     ]
    },
    {
     "output_type": "stream",
     "name": "stdout",
     "text": [
      "Epoch [816/6000]: Train loss: 5.3147, Valid loss: 5.1145"
     ]
    },
    {
     "output_type": "stream",
     "name": "stderr",
     "text": [
      "\n"
     ]
    },
    {
     "output_type": "stream",
     "name": "stdout",
     "text": [
      "\n"
     ]
    },
    {
     "output_type": "stream",
     "name": "stderr",
     "text": [
      "Epoch [817/6000]: 100%|██████████| 17/17 [00:00<00:00, 110.30it/s, loss=6.27]\n"
     ]
    },
    {
     "output_type": "stream",
     "name": "stdout",
     "text": [
      "Epoch [817/6000]: Train loss: 5.3113, Valid loss: 5.1197\n"
     ]
    },
    {
     "output_type": "stream",
     "name": "stderr",
     "text": [
      "Epoch [818/6000]: 100%|██████████| 17/17 [00:00<00:00, 119.58it/s, loss=4.18]\n"
     ]
    },
    {
     "output_type": "stream",
     "name": "stdout",
     "text": [
      "Epoch [818/6000]: Train loss: 5.2926, Valid loss: 5.2077\n"
     ]
    },
    {
     "output_type": "stream",
     "name": "stderr",
     "text": [
      "Epoch [819/6000]: 100%|██████████| 17/17 [00:00<00:00, 102.19it/s, loss=7.37]\n"
     ]
    },
    {
     "output_type": "stream",
     "name": "stdout",
     "text": [
      "Epoch [819/6000]: Train loss: 5.3112, Valid loss: 5.0804\n"
     ]
    },
    {
     "output_type": "stream",
     "name": "stderr",
     "text": [
      "Epoch [820/6000]: 100%|██████████| 17/17 [00:00<00:00, 116.13it/s, loss=5.72]\n"
     ]
    },
    {
     "output_type": "stream",
     "name": "stdout",
     "text": [
      "Epoch [820/6000]: Train loss: 5.2952, Valid loss: 5.1639\n"
     ]
    },
    {
     "output_type": "stream",
     "name": "stderr",
     "text": [
      "Epoch [821/6000]: 100%|██████████| 17/17 [00:00<00:00, 111.58it/s, loss=6.15]\n"
     ]
    },
    {
     "output_type": "stream",
     "name": "stdout",
     "text": [
      "Epoch [821/6000]: Train loss: 5.2941, Valid loss: 5.6758\n"
     ]
    },
    {
     "output_type": "stream",
     "name": "stderr",
     "text": [
      "Epoch [822/6000]: 100%|██████████| 17/17 [00:00<00:00, 110.63it/s, loss=5.42]\n"
     ]
    },
    {
     "output_type": "stream",
     "name": "stdout",
     "text": [
      "Epoch [822/6000]: Train loss: 5.2855, Valid loss: 5.0400\n"
     ]
    },
    {
     "output_type": "stream",
     "name": "stderr",
     "text": [
      "Epoch [823/6000]: 100%|██████████| 17/17 [00:00<00:00, 119.60it/s, loss=6.45]\n"
     ]
    },
    {
     "output_type": "stream",
     "name": "stdout",
     "text": [
      "Epoch [823/6000]: Train loss: 5.2880, Valid loss: 5.0683\n"
     ]
    },
    {
     "output_type": "stream",
     "name": "stderr",
     "text": [
      "Epoch [824/6000]: 100%|██████████| 17/17 [00:00<00:00, 128.44it/s, loss=4.69]\n"
     ]
    },
    {
     "output_type": "stream",
     "name": "stdout",
     "text": [
      "Epoch [824/6000]: Train loss: 5.2712, Valid loss: 4.8275\n",
      "Saving model with loss 4.828...\n"
     ]
    },
    {
     "output_type": "stream",
     "name": "stderr",
     "text": [
      "Epoch [825/6000]: 100%|██████████| 17/17 [00:00<00:00, 114.06it/s, loss=4.8]\n"
     ]
    },
    {
     "output_type": "stream",
     "name": "stdout",
     "text": [
      "Epoch [825/6000]: Train loss: 5.2676, Valid loss: 5.0773\n"
     ]
    },
    {
     "output_type": "stream",
     "name": "stderr",
     "text": [
      "Epoch [826/6000]: 100%|██████████| 17/17 [00:00<00:00, 129.33it/s, loss=4.63]\n"
     ]
    },
    {
     "output_type": "stream",
     "name": "stdout",
     "text": [
      "Epoch [826/6000]: Train loss: 5.2624, Valid loss: 4.8483\n"
     ]
    },
    {
     "output_type": "stream",
     "name": "stderr",
     "text": [
      "Epoch [827/6000]: 100%|██████████| 17/17 [00:00<00:00, 115.76it/s, loss=5.05]\n"
     ]
    },
    {
     "output_type": "stream",
     "name": "stdout",
     "text": [
      "Epoch [827/6000]: Train loss: 5.2618, Valid loss: 4.8266\n",
      "Saving model with loss 4.827...\n"
     ]
    },
    {
     "output_type": "stream",
     "name": "stderr",
     "text": [
      "Epoch [828/6000]: 100%|██████████| 17/17 [00:00<00:00, 110.17it/s, loss=3.98]\n"
     ]
    },
    {
     "output_type": "stream",
     "name": "stdout",
     "text": [
      "Epoch [828/6000]: Train loss: 5.2505, Valid loss: 5.2246\n"
     ]
    },
    {
     "output_type": "stream",
     "name": "stderr",
     "text": [
      "Epoch [829/6000]: 100%|██████████| 17/17 [00:00<00:00, 119.21it/s, loss=3.13]\n"
     ]
    },
    {
     "output_type": "stream",
     "name": "stdout",
     "text": [
      "Epoch [829/6000]: Train loss: 5.2391, Valid loss: 5.1403\n"
     ]
    },
    {
     "output_type": "stream",
     "name": "stderr",
     "text": [
      "Epoch [830/6000]: 100%|██████████| 17/17 [00:00<00:00, 118.41it/s, loss=4.41]\n"
     ]
    },
    {
     "output_type": "stream",
     "name": "stdout",
     "text": [
      "Epoch [830/6000]: Train loss: 5.2446, Valid loss: 5.1331\n"
     ]
    },
    {
     "output_type": "stream",
     "name": "stderr",
     "text": [
      "Epoch [831/6000]: 100%|██████████| 17/17 [00:00<00:00, 122.44it/s, loss=6.36]\n"
     ]
    },
    {
     "output_type": "stream",
     "name": "stdout",
     "text": [
      "Epoch [831/6000]: Train loss: 5.2556, Valid loss: 5.1568\n"
     ]
    },
    {
     "output_type": "stream",
     "name": "stderr",
     "text": [
      "Epoch [832/6000]: 100%|██████████| 17/17 [00:00<00:00, 112.24it/s, loss=6.25]\n"
     ]
    },
    {
     "output_type": "stream",
     "name": "stdout",
     "text": [
      "Epoch [832/6000]: Train loss: 5.2513, Valid loss: 5.2633\n"
     ]
    },
    {
     "output_type": "stream",
     "name": "stderr",
     "text": [
      "Epoch [833/6000]: 100%|██████████| 17/17 [00:00<00:00, 92.76it/s, loss=5.49]\n"
     ]
    },
    {
     "output_type": "stream",
     "name": "stdout",
     "text": [
      "Epoch [833/6000]: Train loss: 5.2400, Valid loss: 4.8450\n"
     ]
    },
    {
     "output_type": "stream",
     "name": "stderr",
     "text": [
      "Epoch [834/6000]: 100%|██████████| 17/17 [00:00<00:00, 87.89it/s, loss=5.97]\n"
     ]
    },
    {
     "output_type": "stream",
     "name": "stdout",
     "text": [
      "Epoch [834/6000]: Train loss: 5.2397, Valid loss: 5.3532\n"
     ]
    },
    {
     "output_type": "stream",
     "name": "stderr",
     "text": [
      "Epoch [835/6000]: 100%|██████████| 17/17 [00:00<00:00, 100.39it/s, loss=4.71]\n"
     ]
    },
    {
     "output_type": "stream",
     "name": "stdout",
     "text": [
      "Epoch [835/6000]: Train loss: 5.2267, Valid loss: 4.8163\n",
      "Saving model with loss 4.816...\n"
     ]
    },
    {
     "output_type": "stream",
     "name": "stderr",
     "text": [
      "Epoch [836/6000]: 100%|██████████| 17/17 [00:00<00:00, 101.42it/s, loss=4.24]\n"
     ]
    },
    {
     "output_type": "stream",
     "name": "stdout",
     "text": [
      "Epoch [836/6000]: Train loss: 5.2199, Valid loss: 5.3078\n"
     ]
    },
    {
     "output_type": "stream",
     "name": "stderr",
     "text": [
      "Epoch [837/6000]: 100%|██████████| 17/17 [00:00<00:00, 102.48it/s, loss=5.92]\n"
     ]
    },
    {
     "output_type": "stream",
     "name": "stdout",
     "text": [
      "Epoch [837/6000]: Train loss: 5.2275, Valid loss: 4.9779\n"
     ]
    },
    {
     "output_type": "stream",
     "name": "stderr",
     "text": [
      "Epoch [838/6000]: 100%|██████████| 17/17 [00:00<00:00, 105.91it/s, loss=4.78]\n"
     ]
    },
    {
     "output_type": "stream",
     "name": "stdout",
     "text": [
      "Epoch [838/6000]: Train loss: 5.2144, Valid loss: 4.9594\n"
     ]
    },
    {
     "output_type": "stream",
     "name": "stderr",
     "text": [
      "Epoch [839/6000]: 100%|██████████| 17/17 [00:00<00:00, 102.75it/s, loss=4.23]\n"
     ]
    },
    {
     "output_type": "stream",
     "name": "stdout",
     "text": [
      "Epoch [839/6000]: Train loss: 5.2067, Valid loss: 4.9654\n"
     ]
    },
    {
     "output_type": "stream",
     "name": "stderr",
     "text": [
      "Epoch [840/6000]: 100%|██████████| 17/17 [00:00<00:00, 100.01it/s, loss=5.89]\n"
     ]
    },
    {
     "output_type": "stream",
     "name": "stdout",
     "text": [
      "Epoch [840/6000]: Train loss: 5.2148, Valid loss: 5.2773\n"
     ]
    },
    {
     "output_type": "stream",
     "name": "stderr",
     "text": [
      "Epoch [841/6000]: 100%|██████████| 17/17 [00:00<00:00, 106.13it/s, loss=4.8]\n"
     ]
    },
    {
     "output_type": "stream",
     "name": "stdout",
     "text": [
      "Epoch [841/6000]: Train loss: 5.2024, Valid loss: 5.4302\n"
     ]
    },
    {
     "output_type": "stream",
     "name": "stderr",
     "text": [
      "Epoch [842/6000]: 100%|██████████| 17/17 [00:00<00:00, 107.76it/s, loss=5.76]\n"
     ]
    },
    {
     "output_type": "stream",
     "name": "stdout",
     "text": [
      "Epoch [842/6000]: Train loss: 5.2063, Valid loss: 5.3666\n"
     ]
    },
    {
     "output_type": "stream",
     "name": "stderr",
     "text": [
      "Epoch [843/6000]: 100%|██████████| 17/17 [00:00<00:00, 99.16it/s, loss=5.23]\n"
     ]
    },
    {
     "output_type": "stream",
     "name": "stdout",
     "text": [
      "Epoch [843/6000]: Train loss: 5.1977, Valid loss: 4.8087\n",
      "Saving model with loss 4.809...\n"
     ]
    },
    {
     "output_type": "stream",
     "name": "stderr",
     "text": [
      "Epoch [844/6000]: 100%|██████████| 17/17 [00:00<00:00, 100.67it/s, loss=5.86]\n"
     ]
    },
    {
     "output_type": "stream",
     "name": "stdout",
     "text": [
      "Epoch [844/6000]: Train loss: 5.1983, Valid loss: 5.3414\n"
     ]
    },
    {
     "output_type": "stream",
     "name": "stderr",
     "text": [
      "Epoch [845/6000]: 100%|██████████| 17/17 [00:00<00:00, 103.93it/s, loss=4.17]\n"
     ]
    },
    {
     "output_type": "stream",
     "name": "stdout",
     "text": [
      "Epoch [845/6000]: Train loss: 5.1823, Valid loss: 5.1130\n"
     ]
    },
    {
     "output_type": "stream",
     "name": "stderr",
     "text": [
      "Epoch [846/6000]: 100%|██████████| 17/17 [00:00<00:00, 117.55it/s, loss=4.11]\n"
     ]
    },
    {
     "output_type": "stream",
     "name": "stdout",
     "text": [
      "Epoch [846/6000]: Train loss: 5.1782, Valid loss: 5.1209\n"
     ]
    },
    {
     "output_type": "stream",
     "name": "stderr",
     "text": [
      "Epoch [847/6000]: 100%|██████████| 17/17 [00:00<00:00, 102.33it/s, loss=4.2]\n"
     ]
    },
    {
     "output_type": "stream",
     "name": "stdout",
     "text": [
      "Epoch [847/6000]: Train loss: 5.1740, Valid loss: 5.2836\n"
     ]
    },
    {
     "output_type": "stream",
     "name": "stderr",
     "text": [
      "Epoch [848/6000]: 100%|██████████| 17/17 [00:00<00:00, 111.88it/s, loss=5.57]\n"
     ]
    },
    {
     "output_type": "stream",
     "name": "stdout",
     "text": [
      "Epoch [848/6000]: Train loss: 5.1801, Valid loss: 4.8054\n",
      "Saving model with loss 4.805...\n"
     ]
    },
    {
     "output_type": "stream",
     "name": "stderr",
     "text": [
      "Epoch [849/6000]: 100%|██████████| 17/17 [00:00<00:00, 108.90it/s, loss=4.71]\n"
     ]
    },
    {
     "output_type": "stream",
     "name": "stdout",
     "text": [
      "Epoch [849/6000]: Train loss: 5.1702, Valid loss: 5.1918\n"
     ]
    },
    {
     "output_type": "stream",
     "name": "stderr",
     "text": [
      "Epoch [850/6000]: 100%|██████████| 17/17 [00:00<00:00, 50.99it/s, loss=3.31] \n"
     ]
    },
    {
     "output_type": "stream",
     "name": "stdout",
     "text": [
      "Epoch [850/6000]: Train loss: 5.1554, Valid loss: 5.1554\n"
     ]
    },
    {
     "output_type": "stream",
     "name": "stderr",
     "text": [
      "Epoch [851/6000]: 100%|██████████| 17/17 [00:00<00:00, 28.99it/s, loss=4.25]\n"
     ]
    },
    {
     "output_type": "stream",
     "name": "stdout",
     "text": [
      "Epoch [851/6000]: Train loss: 5.1584, Valid loss: 5.5368\n"
     ]
    },
    {
     "output_type": "stream",
     "name": "stderr",
     "text": [
      "Epoch [852/6000]: 100%|██████████| 17/17 [00:00<00:00, 106.99it/s, loss=5.93]\n"
     ]
    },
    {
     "output_type": "stream",
     "name": "stdout",
     "text": [
      "Epoch [852/6000]: Train loss: 5.1672, Valid loss: 4.5778\n",
      "Saving model with loss 4.578...\n"
     ]
    },
    {
     "output_type": "stream",
     "name": "stderr",
     "text": [
      "Epoch [853/6000]: 100%|██████████| 17/17 [00:00<00:00, 119.39it/s, loss=5.54]\n"
     ]
    },
    {
     "output_type": "stream",
     "name": "stdout",
     "text": [
      "Epoch [853/6000]: Train loss: 5.1602, Valid loss: 5.2628\n"
     ]
    },
    {
     "output_type": "stream",
     "name": "stderr",
     "text": [
      "Epoch [854/6000]: 100%|██████████| 17/17 [00:00<00:00, 120.33it/s, loss=5.75]\n"
     ]
    },
    {
     "output_type": "stream",
     "name": "stdout",
     "text": [
      "Epoch [854/6000]: Train loss: 5.1580, Valid loss: 4.9776\n"
     ]
    },
    {
     "output_type": "stream",
     "name": "stderr",
     "text": [
      "Epoch [855/6000]: 100%|██████████| 17/17 [00:00<00:00, 111.29it/s, loss=6.55]\n"
     ]
    },
    {
     "output_type": "stream",
     "name": "stdout",
     "text": [
      "Epoch [855/6000]: Train loss: 5.1591, Valid loss: 5.7316\n"
     ]
    },
    {
     "output_type": "stream",
     "name": "stderr",
     "text": [
      "Epoch [856/6000]: 100%|██████████| 17/17 [00:00<00:00, 119.68it/s, loss=5.18]\n"
     ]
    },
    {
     "output_type": "stream",
     "name": "stdout",
     "text": [
      "Epoch [856/6000]: Train loss: 5.1447, Valid loss: 5.5381\n"
     ]
    },
    {
     "output_type": "stream",
     "name": "stderr",
     "text": [
      "Epoch [857/6000]: 100%|██████████| 17/17 [00:00<00:00, 118.24it/s, loss=4.86]\n"
     ]
    },
    {
     "output_type": "stream",
     "name": "stdout",
     "text": [
      "Epoch [857/6000]: Train loss: 5.1383, Valid loss: 4.8622\n"
     ]
    },
    {
     "output_type": "stream",
     "name": "stderr",
     "text": [
      "Epoch [858/6000]: 100%|██████████| 17/17 [00:00<00:00, 121.58it/s, loss=4.94]\n"
     ]
    },
    {
     "output_type": "stream",
     "name": "stdout",
     "text": [
      "Epoch [858/6000]: Train loss: 5.1350, Valid loss: 5.0182\n"
     ]
    },
    {
     "output_type": "stream",
     "name": "stderr",
     "text": [
      "Epoch [859/6000]: 100%|██████████| 17/17 [00:00<00:00, 120.58it/s, loss=5.15]\n"
     ]
    },
    {
     "output_type": "stream",
     "name": "stdout",
     "text": [
      "Epoch [859/6000]: Train loss: 5.1327, Valid loss: 5.2522\n"
     ]
    },
    {
     "output_type": "stream",
     "name": "stderr",
     "text": [
      "Epoch [860/6000]: 100%|██████████| 17/17 [00:00<00:00, 125.84it/s, loss=6.17]\n"
     ]
    },
    {
     "output_type": "stream",
     "name": "stdout",
     "text": [
      "Epoch [860/6000]: Train loss: 5.1357, Valid loss: 5.1868\n"
     ]
    },
    {
     "output_type": "stream",
     "name": "stderr",
     "text": [
      "Epoch [861/6000]: 100%|██████████| 17/17 [00:00<00:00, 113.81it/s, loss=4.77]\n"
     ]
    },
    {
     "output_type": "stream",
     "name": "stdout",
     "text": [
      "Epoch [861/6000]: Train loss: 5.1226, Valid loss: 4.6890\n"
     ]
    },
    {
     "output_type": "stream",
     "name": "stderr",
     "text": [
      "Epoch [862/6000]: 100%|██████████| 17/17 [00:00<00:00, 121.35it/s, loss=5.48]\n"
     ]
    },
    {
     "output_type": "stream",
     "name": "stdout",
     "text": [
      "Epoch [862/6000]: Train loss: 5.1229, Valid loss: 5.0305\n"
     ]
    },
    {
     "output_type": "stream",
     "name": "stderr",
     "text": [
      "Epoch [863/6000]: 100%|██████████| 17/17 [00:00<00:00, 108.15it/s, loss=3.98]\n"
     ]
    },
    {
     "output_type": "stream",
     "name": "stdout",
     "text": [
      "Epoch [863/6000]: Train loss: 5.1084, Valid loss: 4.7485\n"
     ]
    },
    {
     "output_type": "stream",
     "name": "stderr",
     "text": [
      "Epoch [864/6000]: 100%|██████████| 17/17 [00:00<00:00, 105.88it/s, loss=4.74]\n"
     ]
    },
    {
     "output_type": "stream",
     "name": "stdout",
     "text": [
      "Epoch [864/6000]: Train loss: 5.1097, Valid loss: 4.8554\n"
     ]
    },
    {
     "output_type": "stream",
     "name": "stderr",
     "text": [
      "Epoch [865/6000]: 100%|██████████| 17/17 [00:00<00:00, 108.08it/s, loss=3.84]\n"
     ]
    },
    {
     "output_type": "stream",
     "name": "stdout",
     "text": [
      "Epoch [865/6000]: Train loss: 5.0996, Valid loss: 5.1272\n"
     ]
    },
    {
     "output_type": "stream",
     "name": "stderr",
     "text": [
      "Epoch [866/6000]: 100%|██████████| 17/17 [00:00<00:00, 109.18it/s, loss=5.04]\n"
     ]
    },
    {
     "output_type": "stream",
     "name": "stdout",
     "text": [
      "Epoch [866/6000]: Train loss: 5.1032, Valid loss: 4.9292\n"
     ]
    },
    {
     "output_type": "stream",
     "name": "stderr",
     "text": [
      "Epoch [867/6000]: 100%|██████████| 17/17 [00:00<00:00, 102.25it/s, loss=6]\n"
     ]
    },
    {
     "output_type": "stream",
     "name": "stdout",
     "text": [
      "Epoch [867/6000]: Train loss: 5.1073, Valid loss: 4.9725\n"
     ]
    },
    {
     "output_type": "stream",
     "name": "stderr",
     "text": [
      "Epoch [868/6000]: 100%|██████████| 17/17 [00:00<00:00, 121.52it/s, loss=4.99]\n"
     ]
    },
    {
     "output_type": "stream",
     "name": "stdout",
     "text": [
      "Epoch [868/6000]: Train loss: 5.0948, Valid loss: 4.8368\n"
     ]
    },
    {
     "output_type": "stream",
     "name": "stderr",
     "text": [
      "Epoch [869/6000]: 100%|██████████| 17/17 [00:00<00:00, 107.44it/s, loss=4.46]\n"
     ]
    },
    {
     "output_type": "stream",
     "name": "stdout",
     "text": [
      "Epoch [869/6000]: Train loss: 5.0869, Valid loss: 4.6878\n"
     ]
    },
    {
     "output_type": "stream",
     "name": "stderr",
     "text": [
      "Epoch [870/6000]: 100%|██████████| 17/17 [00:00<00:00, 110.16it/s, loss=5.37]\n"
     ]
    },
    {
     "output_type": "stream",
     "name": "stdout",
     "text": [
      "Epoch [870/6000]: Train loss: 5.0903, Valid loss: 4.9047\n"
     ]
    },
    {
     "output_type": "stream",
     "name": "stderr",
     "text": [
      "Epoch [871/6000]: 100%|██████████| 17/17 [00:00<00:00, 116.25it/s, loss=4.18]\n"
     ]
    },
    {
     "output_type": "stream",
     "name": "stdout",
     "text": [
      "Epoch [871/6000]: Train loss: 5.0769, Valid loss: 5.4800\n"
     ]
    },
    {
     "output_type": "stream",
     "name": "stderr",
     "text": [
      "Epoch [872/6000]: 100%|██████████| 17/17 [00:00<00:00, 108.84it/s, loss=4.92]\n"
     ]
    },
    {
     "output_type": "stream",
     "name": "stdout",
     "text": [
      "Epoch [872/6000]: Train loss: 5.0783, Valid loss: 4.7101\n"
     ]
    },
    {
     "output_type": "stream",
     "name": "stderr",
     "text": [
      "Epoch [873/6000]: 100%|██████████| 17/17 [00:00<00:00, 114.51it/s, loss=5.63]\n"
     ]
    },
    {
     "output_type": "stream",
     "name": "stdout",
     "text": [
      "Epoch [873/6000]: Train loss: 5.0794, Valid loss: 4.9380\n"
     ]
    },
    {
     "output_type": "stream",
     "name": "stderr",
     "text": [
      "Epoch [874/6000]: 100%|██████████| 17/17 [00:00<00:00, 108.82it/s, loss=5.72]\n"
     ]
    },
    {
     "output_type": "stream",
     "name": "stdout",
     "text": [
      "Epoch [874/6000]: Train loss: 5.0759, Valid loss: 5.0920\n"
     ]
    },
    {
     "output_type": "stream",
     "name": "stderr",
     "text": [
      "Epoch [875/6000]: 100%|██████████| 17/17 [00:00<00:00, 113.41it/s, loss=5.7]\n"
     ]
    },
    {
     "output_type": "stream",
     "name": "stdout",
     "text": [
      "Epoch [875/6000]: Train loss: 5.0720, Valid loss: 4.9581\n"
     ]
    },
    {
     "output_type": "stream",
     "name": "stderr",
     "text": [
      "Epoch [876/6000]: 100%|██████████| 17/17 [00:00<00:00, 104.95it/s, loss=6.33]\n"
     ]
    },
    {
     "output_type": "stream",
     "name": "stdout",
     "text": [
      "Epoch [876/6000]: Train loss: 5.0721, Valid loss: 5.1191\n"
     ]
    },
    {
     "output_type": "stream",
     "name": "stderr",
     "text": [
      "Epoch [877/6000]: 100%|██████████| 17/17 [00:00<00:00, 112.17it/s, loss=4.97]\n"
     ]
    },
    {
     "output_type": "stream",
     "name": "stdout",
     "text": [
      "Epoch [877/6000]: Train loss: 5.0586, Valid loss: 5.3169\n"
     ]
    },
    {
     "output_type": "stream",
     "name": "stderr",
     "text": [
      "Epoch [878/6000]: 100%|██████████| 17/17 [00:00<00:00, 118.27it/s, loss=3.31]\n"
     ]
    },
    {
     "output_type": "stream",
     "name": "stdout",
     "text": [
      "Epoch [878/6000]: Train loss: 5.0432, Valid loss: 5.1252\n"
     ]
    },
    {
     "output_type": "stream",
     "name": "stderr",
     "text": [
      "Epoch [879/6000]: 100%|██████████| 17/17 [00:00<00:00, 111.86it/s, loss=4.24]\n"
     ]
    },
    {
     "output_type": "stream",
     "name": "stdout",
     "text": [
      "Epoch [879/6000]: Train loss: 5.0445, Valid loss: 4.5780\n"
     ]
    },
    {
     "output_type": "stream",
     "name": "stderr",
     "text": [
      "Epoch [880/6000]: 100%|██████████| 17/17 [00:00<00:00, 119.17it/s, loss=3.37]\n"
     ]
    },
    {
     "output_type": "stream",
     "name": "stdout",
     "text": [
      "Epoch [880/6000]: Train loss: 5.0344, Valid loss: 4.6373\n"
     ]
    },
    {
     "output_type": "stream",
     "name": "stderr",
     "text": [
      "Epoch [881/6000]: 100%|██████████| 17/17 [00:00<00:00, 121.53it/s, loss=4.82]\n"
     ]
    },
    {
     "output_type": "stream",
     "name": "stdout",
     "text": [
      "Epoch [881/6000]: Train loss: 5.0407, Valid loss: 4.9719\n"
     ]
    },
    {
     "output_type": "stream",
     "name": "stderr",
     "text": [
      "Epoch [882/6000]: 100%|██████████| 17/17 [00:00<00:00, 120.15it/s, loss=4.28]\n"
     ]
    },
    {
     "output_type": "stream",
     "name": "stdout",
     "text": [
      "Epoch [882/6000]: Train loss: 5.0328, Valid loss: 5.1239\n"
     ]
    },
    {
     "output_type": "stream",
     "name": "stderr",
     "text": [
      "Epoch [883/6000]: 100%|██████████| 17/17 [00:00<00:00, 116.48it/s, loss=4.36]\n"
     ]
    },
    {
     "output_type": "stream",
     "name": "stdout",
     "text": [
      "Epoch [883/6000]: Train loss: 5.0300, Valid loss: 4.6488\n"
     ]
    },
    {
     "output_type": "stream",
     "name": "stderr",
     "text": [
      "Epoch [884/6000]: 100%|██████████| 17/17 [00:00<00:00, 119.29it/s, loss=6.31]\n"
     ]
    },
    {
     "output_type": "stream",
     "name": "stdout",
     "text": [
      "Epoch [884/6000]: Train loss: 5.0396, Valid loss: 4.8139\n"
     ]
    },
    {
     "output_type": "stream",
     "name": "stderr",
     "text": [
      "Epoch [885/6000]: 100%|██████████| 17/17 [00:00<00:00, 121.83it/s, loss=3.13]\n"
     ]
    },
    {
     "output_type": "stream",
     "name": "stdout",
     "text": [
      "Epoch [885/6000]: Train loss: 5.0121, Valid loss: 5.2385\n"
     ]
    },
    {
     "output_type": "stream",
     "name": "stderr",
     "text": [
      "Epoch [886/6000]: 100%|██████████| 17/17 [00:00<00:00, 117.90it/s, loss=3.59]\n"
     ]
    },
    {
     "output_type": "stream",
     "name": "stdout",
     "text": [
      "Epoch [886/6000]: Train loss: 5.0113, Valid loss: 4.9226\n"
     ]
    },
    {
     "output_type": "stream",
     "name": "stderr",
     "text": [
      "Epoch [891/6000]: 100%|██████████| 17/17 [00:00<00:00, 115.67it/s, loss=5.02]\n"
     ]
    },
    {
     "output_type": "stream",
     "name": "stdout",
     "text": [
      "Epoch [891/6000]: Train loss: 5.0014, Valid loss: 4.7932\n"
     ]
    },
    {
     "output_type": "stream",
     "name": "stderr",
     "text": [
      "Epoch [892/6000]: 100%|██████████| 17/17 [00:00<00:00, 121.16it/s, loss=5.72]\n"
     ]
    },
    {
     "output_type": "stream",
     "name": "stdout",
     "text": [
      "Epoch [892/6000]: Train loss: 5.0023, Valid loss: 4.8265\n"
     ]
    },
    {
     "output_type": "stream",
     "name": "stderr",
     "text": [
      "Epoch [893/6000]: 100%|██████████| 17/17 [00:00<00:00, 121.14it/s, loss=5.34]\n"
     ]
    },
    {
     "output_type": "stream",
     "name": "stdout",
     "text": [
      "Epoch [893/6000]: Train loss: 4.9956, Valid loss: 4.9700\n"
     ]
    },
    {
     "output_type": "stream",
     "name": "stderr",
     "text": [
      "Epoch [894/6000]: 100%|██████████| 17/17 [00:00<00:00, 123.02it/s, loss=4.91]\n"
     ]
    },
    {
     "output_type": "stream",
     "name": "stdout",
     "text": [
      "Epoch [894/6000]: Train loss: 4.9900, Valid loss: 4.9052\n"
     ]
    },
    {
     "output_type": "stream",
     "name": "stderr",
     "text": [
      "Epoch [895/6000]: 100%|██████████| 17/17 [00:00<00:00, 118.98it/s, loss=5.32]\n"
     ]
    },
    {
     "output_type": "stream",
     "name": "stdout",
     "text": [
      "Epoch [895/6000]: Train loss: 4.9875, Valid loss: 4.7291\n"
     ]
    },
    {
     "output_type": "stream",
     "name": "stderr",
     "text": [
      "Epoch [896/6000]: 100%|██████████| 17/17 [00:00<00:00, 122.35it/s, loss=4.56]\n"
     ]
    },
    {
     "output_type": "stream",
     "name": "stdout",
     "text": [
      "Epoch [896/6000]: Train loss: 4.9778, Valid loss: 4.7985\n"
     ]
    },
    {
     "output_type": "stream",
     "name": "stderr",
     "text": [
      "Epoch [897/6000]: 100%|██████████| 17/17 [00:00<00:00, 106.62it/s, loss=4.88]\n"
     ]
    },
    {
     "output_type": "stream",
     "name": "stdout",
     "text": [
      "Epoch [897/6000]: Train loss: 4.9764, Valid loss: 4.8017\n"
     ]
    },
    {
     "output_type": "stream",
     "name": "stderr",
     "text": [
      "Epoch [898/6000]: 100%|██████████| 17/17 [00:00<00:00, 95.08it/s, loss=4.89] \n"
     ]
    },
    {
     "output_type": "stream",
     "name": "stdout",
     "text": [
      "Epoch [898/6000]: Train loss: 4.9724, Valid loss: 4.8870\n"
     ]
    },
    {
     "output_type": "stream",
     "name": "stderr",
     "text": [
      "Epoch [899/6000]: 100%|██████████| 17/17 [00:00<00:00, 105.76it/s, loss=5.94]\n"
     ]
    },
    {
     "output_type": "stream",
     "name": "stdout",
     "text": [
      "Epoch [899/6000]: Train loss: 4.9756, Valid loss: 4.7255\n"
     ]
    },
    {
     "output_type": "stream",
     "name": "stderr",
     "text": [
      "Epoch [900/6000]: 100%|██████████| 17/17 [00:00<00:00, 128.03it/s, loss=4.77]\n"
     ]
    },
    {
     "output_type": "stream",
     "name": "stdout",
     "text": [
      "Epoch [900/6000]: Train loss: 4.9638, Valid loss: 5.2887\n"
     ]
    },
    {
     "output_type": "stream",
     "name": "stderr",
     "text": [
      "Epoch [901/6000]: 100%|██████████| 17/17 [00:00<00:00, 120.60it/s, loss=5.93]\n"
     ]
    },
    {
     "output_type": "stream",
     "name": "stdout",
     "text": [
      "Epoch [901/6000]: Train loss: 4.9676, Valid loss: 4.9437\n"
     ]
    },
    {
     "output_type": "stream",
     "name": "stderr",
     "text": [
      "Epoch [902/6000]: 100%|██████████| 17/17 [00:00<00:00, 119.97it/s, loss=3.58]\n"
     ]
    },
    {
     "output_type": "stream",
     "name": "stdout",
     "text": [
      "Epoch [902/6000]: Train loss: 4.9462, Valid loss: 4.7254\n"
     ]
    },
    {
     "output_type": "stream",
     "name": "stderr",
     "text": [
      "Epoch [903/6000]: 100%|██████████| 17/17 [00:00<00:00, 101.87it/s, loss=4.04]\n"
     ]
    },
    {
     "output_type": "stream",
     "name": "stdout",
     "text": [
      "Epoch [903/6000]: Train loss: 4.9458, Valid loss: 4.8111\n"
     ]
    },
    {
     "output_type": "stream",
     "name": "stderr",
     "text": [
      "Epoch [904/6000]: 100%|██████████| 17/17 [00:00<00:00, 105.93it/s, loss=5.08]\n"
     ]
    },
    {
     "output_type": "stream",
     "name": "stdout",
     "text": [
      "Epoch [904/6000]: Train loss: 4.9508, Valid loss: 4.5291\n",
      "Saving model with loss 4.529...\n"
     ]
    },
    {
     "output_type": "stream",
     "name": "stderr",
     "text": [
      "Epoch [905/6000]: 100%|██████████| 17/17 [00:00<00:00, 110.43it/s, loss=5.6]\n"
     ]
    },
    {
     "output_type": "stream",
     "name": "stdout",
     "text": [
      "Epoch [905/6000]: Train loss: 4.9483, Valid loss: 4.9400\n"
     ]
    },
    {
     "output_type": "stream",
     "name": "stderr",
     "text": [
      "Epoch [906/6000]: 100%|██████████| 17/17 [00:00<00:00, 116.06it/s, loss=5.55]\n"
     ]
    },
    {
     "output_type": "stream",
     "name": "stdout",
     "text": [
      "Epoch [906/6000]: Train loss: 4.9441, Valid loss: 5.1628\n"
     ]
    },
    {
     "output_type": "stream",
     "name": "stderr",
     "text": [
      "Epoch [907/6000]: 100%|██████████| 17/17 [00:00<00:00, 119.41it/s, loss=4.76]\n"
     ]
    },
    {
     "output_type": "stream",
     "name": "stdout",
     "text": [
      "Epoch [907/6000]: Train loss: 4.9342, Valid loss: 4.7553\n"
     ]
    },
    {
     "output_type": "stream",
     "name": "stderr",
     "text": [
      "Epoch [908/6000]: 100%|██████████| 17/17 [00:00<00:00, 102.16it/s, loss=3.42]\n"
     ]
    },
    {
     "output_type": "stream",
     "name": "stdout",
     "text": [
      "Epoch [908/6000]: Train loss: 4.9204, Valid loss: 4.6877\n"
     ]
    },
    {
     "output_type": "stream",
     "name": "stderr",
     "text": [
      "Epoch [909/6000]: 100%|██████████| 17/17 [00:00<00:00, 112.91it/s, loss=4.86]\n"
     ]
    },
    {
     "output_type": "stream",
     "name": "stdout",
     "text": [
      "Epoch [909/6000]: Train loss: 4.9271, Valid loss: 4.8499\n"
     ]
    },
    {
     "output_type": "stream",
     "name": "stderr",
     "text": [
      "Epoch [910/6000]: 100%|██████████| 17/17 [00:00<00:00, 111.89it/s, loss=5.1]\n"
     ]
    },
    {
     "output_type": "stream",
     "name": "stdout",
     "text": [
      "Epoch [910/6000]: Train loss: 4.9246, Valid loss: 4.7495\n"
     ]
    },
    {
     "output_type": "stream",
     "name": "stderr",
     "text": [
      "Epoch [911/6000]: 100%|██████████| 17/17 [00:00<00:00, 120.31it/s, loss=4.1]\n"
     ]
    },
    {
     "output_type": "stream",
     "name": "stdout",
     "text": [
      "Epoch [911/6000]: Train loss: 4.9132, Valid loss: 4.5520\n"
     ]
    },
    {
     "output_type": "stream",
     "name": "stderr",
     "text": [
      "Epoch [912/6000]: 100%|██████████| 17/17 [00:00<00:00, 115.79it/s, loss=4.36]\n"
     ]
    },
    {
     "output_type": "stream",
     "name": "stdout",
     "text": [
      "Epoch [912/6000]: Train loss: 4.9108, Valid loss: 5.0360\n"
     ]
    },
    {
     "output_type": "stream",
     "name": "stderr",
     "text": [
      "Epoch [913/6000]: 100%|██████████| 17/17 [00:00<00:00, 113.20it/s, loss=4.46]\n"
     ]
    },
    {
     "output_type": "stream",
     "name": "stdout",
     "text": [
      "Epoch [913/6000]: Train loss: 4.9081, Valid loss: 5.1102\n"
     ]
    },
    {
     "output_type": "stream",
     "name": "stderr",
     "text": [
      "Epoch [914/6000]: 100%|██████████| 17/17 [00:00<00:00, 102.84it/s, loss=3.79]\n"
     ]
    },
    {
     "output_type": "stream",
     "name": "stdout",
     "text": [
      "Epoch [914/6000]: Train loss: 4.8999, Valid loss: 4.9908\n"
     ]
    },
    {
     "output_type": "stream",
     "name": "stderr",
     "text": [
      "Epoch [915/6000]: 100%|██████████| 17/17 [00:00<00:00, 106.52it/s, loss=5.59]\n"
     ]
    },
    {
     "output_type": "stream",
     "name": "stdout",
     "text": [
      "Epoch [915/6000]: Train loss: 4.9084, Valid loss: 4.6304\n"
     ]
    },
    {
     "output_type": "stream",
     "name": "stderr",
     "text": [
      "Epoch [916/6000]: 100%|██████████| 17/17 [00:00<00:00, 111.64it/s, loss=4.24]\n"
     ]
    },
    {
     "output_type": "stream",
     "name": "stdout",
     "text": [
      "Epoch [916/6000]: Train loss: 4.8935, Valid loss: 4.6657\n"
     ]
    },
    {
     "output_type": "stream",
     "name": "stderr",
     "text": [
      "Epoch [917/6000]: 100%|██████████| 17/17 [00:00<00:00, 112.62it/s, loss=6.74]\n"
     ]
    },
    {
     "output_type": "stream",
     "name": "stdout",
     "text": [
      "Epoch [917/6000]: Train loss: 4.9077, Valid loss: 4.6123\n"
     ]
    },
    {
     "output_type": "stream",
     "name": "stderr",
     "text": [
      "Epoch [918/6000]: 100%|██████████| 17/17 [00:00<00:00, 123.53it/s, loss=3.94]\n"
     ]
    },
    {
     "output_type": "stream",
     "name": "stdout",
     "text": [
      "Epoch [918/6000]: Train loss: 4.8834, Valid loss: 5.4840\n"
     ]
    },
    {
     "output_type": "stream",
     "name": "stderr",
     "text": [
      "Epoch [919/6000]: 100%|██████████| 17/17 [00:00<00:00, 129.25it/s, loss=5.5]\n"
     ]
    },
    {
     "output_type": "stream",
     "name": "stdout",
     "text": [
      "Epoch [919/6000]: Train loss: 4.8911, Valid loss: 4.6357\n"
     ]
    },
    {
     "output_type": "stream",
     "name": "stderr",
     "text": [
      "Epoch [920/6000]: 100%|██████████| 17/17 [00:00<00:00, 118.02it/s, loss=5.68]\n"
     ]
    },
    {
     "output_type": "stream",
     "name": "stdout",
     "text": [
      "Epoch [920/6000]: Train loss: 4.8879, Valid loss: 5.2476\n"
     ]
    },
    {
     "output_type": "stream",
     "name": "stderr",
     "text": [
      "Epoch [921/6000]: 100%|██████████| 17/17 [00:00<00:00, 112.72it/s, loss=5.68]\n"
     ]
    },
    {
     "output_type": "stream",
     "name": "stdout",
     "text": [
      "Epoch [921/6000]: Train loss: 4.8837, Valid loss: 4.9856\n"
     ]
    },
    {
     "output_type": "stream",
     "name": "stderr",
     "text": [
      "Epoch [922/6000]: 100%|██████████| 17/17 [00:00<00:00, 101.59it/s, loss=3.95]\n"
     ]
    },
    {
     "output_type": "stream",
     "name": "stdout",
     "text": [
      "Epoch [922/6000]: Train loss: 4.8671, Valid loss: 4.8054\n"
     ]
    },
    {
     "output_type": "stream",
     "name": "stderr",
     "text": [
      "Epoch [923/6000]: 100%|██████████| 17/17 [00:00<00:00, 108.42it/s, loss=4.93]\n"
     ]
    },
    {
     "output_type": "stream",
     "name": "stdout",
     "text": [
      "Epoch [923/6000]: Train loss: 4.8702, Valid loss: 4.5707\n"
     ]
    },
    {
     "output_type": "stream",
     "name": "stderr",
     "text": [
      "Epoch [924/6000]: 100%|██████████| 17/17 [00:00<00:00, 107.05it/s, loss=5.5]\n"
     ]
    },
    {
     "output_type": "stream",
     "name": "stdout",
     "text": [
      "Epoch [924/6000]: Train loss: 4.8701, Valid loss: 4.6137\n"
     ]
    },
    {
     "output_type": "stream",
     "name": "stderr",
     "text": [
      "Epoch [925/6000]: 100%|██████████| 17/17 [00:00<00:00, 93.08it/s, loss=4.76]\n"
     ]
    },
    {
     "output_type": "stream",
     "name": "stdout",
     "text": [
      "Epoch [925/6000]: Train loss: 4.8613, Valid loss: 4.6355\n"
     ]
    },
    {
     "output_type": "stream",
     "name": "stderr",
     "text": [
      "Epoch [926/6000]: 100%|██████████| 17/17 [00:00<00:00, 108.71it/s, loss=4.17]\n"
     ]
    },
    {
     "output_type": "stream",
     "name": "stdout",
     "text": [
      "Epoch [926/6000]: Train loss: 4.8526, Valid loss: 4.6264\n"
     ]
    },
    {
     "output_type": "stream",
     "name": "stderr",
     "text": [
      "Epoch [927/6000]: 100%|██████████| 17/17 [00:00<00:00, 106.08it/s, loss=5.69]\n"
     ]
    },
    {
     "output_type": "stream",
     "name": "stdout",
     "text": [
      "Epoch [927/6000]: Train loss: 4.8591, Valid loss: 5.1481\n"
     ]
    },
    {
     "output_type": "stream",
     "name": "stderr",
     "text": [
      "Epoch [928/6000]: 100%|██████████| 17/17 [00:00<00:00, 113.20it/s, loss=7]\n"
     ]
    },
    {
     "output_type": "stream",
     "name": "stdout",
     "text": [
      "Epoch [928/6000]: Train loss: 4.8651, Valid loss: 4.7089\n"
     ]
    },
    {
     "output_type": "stream",
     "name": "stderr",
     "text": [
      "Epoch [929/6000]: 100%|██████████| 17/17 [00:00<00:00, 120.51it/s, loss=5.13]\n"
     ]
    },
    {
     "output_type": "stream",
     "name": "stdout",
     "text": [
      "Epoch [929/6000]: Train loss: 4.8470, Valid loss: 4.6867\n"
     ]
    },
    {
     "output_type": "stream",
     "name": "stderr",
     "text": [
      "Epoch [930/6000]: 100%|██████████| 17/17 [00:00<00:00, 116.99it/s, loss=6.33]\n"
     ]
    },
    {
     "output_type": "stream",
     "name": "stdout",
     "text": [
      "Epoch [930/6000]: Train loss: 4.8524, Valid loss: 4.5321\n"
     ]
    },
    {
     "output_type": "stream",
     "name": "stderr",
     "text": [
      "Epoch [931/6000]: 100%|██████████| 17/17 [00:00<00:00, 115.10it/s, loss=5.46]\n"
     ]
    },
    {
     "output_type": "stream",
     "name": "stdout",
     "text": [
      "Epoch [931/6000]: Train loss: 4.8416, Valid loss: 5.0028\n"
     ]
    },
    {
     "output_type": "stream",
     "name": "stderr",
     "text": [
      "Epoch [932/6000]: 100%|██████████| 17/17 [00:00<00:00, 92.73it/s, loss=5.75]\n"
     ]
    },
    {
     "output_type": "stream",
     "name": "stdout",
     "text": [
      "Epoch [932/6000]: Train loss: 4.8398, Valid loss: 4.5423\n"
     ]
    },
    {
     "output_type": "stream",
     "name": "stderr",
     "text": [
      "Epoch [933/6000]: 100%|██████████| 17/17 [00:00<00:00, 108.62it/s, loss=3.43]\n"
     ]
    },
    {
     "output_type": "stream",
     "name": "stdout",
     "text": [
      "Epoch [933/6000]: Train loss: 4.8181, Valid loss: 4.7486\n"
     ]
    },
    {
     "output_type": "stream",
     "name": "stderr",
     "text": [
      "Epoch [934/6000]: 100%|██████████| 17/17 [00:00<00:00, 100.02it/s, loss=4.35]\n"
     ]
    },
    {
     "output_type": "stream",
     "name": "stdout",
     "text": [
      "Epoch [934/6000]: Train loss: 4.8211, Valid loss: 4.5438\n"
     ]
    },
    {
     "output_type": "stream",
     "name": "stderr",
     "text": [
      "Epoch [935/6000]: 100%|██████████| 17/17 [00:00<00:00, 107.16it/s, loss=3.65]\n"
     ]
    },
    {
     "output_type": "stream",
     "name": "stdout",
     "text": [
      "Epoch [935/6000]: Train loss: 4.8118, Valid loss: 4.6225\n"
     ]
    },
    {
     "output_type": "stream",
     "name": "stderr",
     "text": [
      "Epoch [936/6000]: 100%|██████████| 17/17 [00:00<00:00, 117.99it/s, loss=6.19]\n"
     ]
    },
    {
     "output_type": "stream",
     "name": "stdout",
     "text": [
      "Epoch [936/6000]: Train loss: 4.8269, Valid loss: 4.5908\n"
     ]
    },
    {
     "output_type": "stream",
     "name": "stderr",
     "text": [
      "Epoch [937/6000]: 100%|██████████| 17/17 [00:00<00:00, 123.24it/s, loss=5.66]\n"
     ]
    },
    {
     "output_type": "stream",
     "name": "stdout",
     "text": [
      "Epoch [937/6000]: Train loss: 4.8185, Valid loss: 5.0130\n"
     ]
    },
    {
     "output_type": "stream",
     "name": "stderr",
     "text": [
      "Epoch [938/6000]: 100%|██████████| 17/17 [00:00<00:00, 97.64it/s, loss=4.46]\n"
     ]
    },
    {
     "output_type": "stream",
     "name": "stdout",
     "text": [
      "Epoch [938/6000]: Train loss: 4.8053, Valid loss: 4.6434\n"
     ]
    },
    {
     "output_type": "stream",
     "name": "stderr",
     "text": [
      "Epoch [939/6000]: 100%|██████████| 17/17 [00:00<00:00, 116.11it/s, loss=5.14]\n"
     ]
    },
    {
     "output_type": "stream",
     "name": "stdout",
     "text": [
      "Epoch [939/6000]: Train loss: 4.8066, Valid loss: 5.1819\n"
     ]
    },
    {
     "output_type": "stream",
     "name": "stderr",
     "text": [
      "Epoch [940/6000]: 100%|██████████| 17/17 [00:00<00:00, 118.82it/s, loss=4.2]\n"
     ]
    },
    {
     "output_type": "stream",
     "name": "stdout",
     "text": [
      "Epoch [940/6000]: Train loss: 4.7949, Valid loss: 4.5061\n",
      "Saving model with loss 4.506...\n"
     ]
    },
    {
     "output_type": "stream",
     "name": "stderr",
     "text": [
      "Epoch [941/6000]: 100%|██████████| 17/17 [00:00<00:00, 119.88it/s, loss=4.61]\n"
     ]
    },
    {
     "output_type": "stream",
     "name": "stdout",
     "text": [
      "Epoch [941/6000]: Train loss: 4.7938, Valid loss: 5.1741\n"
     ]
    },
    {
     "output_type": "stream",
     "name": "stderr",
     "text": [
      "Epoch [942/6000]: 100%|██████████| 17/17 [00:00<00:00, 104.53it/s, loss=6.35]\n"
     ]
    },
    {
     "output_type": "stream",
     "name": "stdout",
     "text": [
      "Epoch [942/6000]: Train loss: 4.8029, Valid loss: 4.5768\n"
     ]
    },
    {
     "output_type": "stream",
     "name": "stderr",
     "text": [
      "Epoch [943/6000]: 100%|██████████| 17/17 [00:00<00:00, 115.82it/s, loss=4.31]\n"
     ]
    },
    {
     "output_type": "stream",
     "name": "stdout",
     "text": [
      "Epoch [943/6000]: Train loss: 4.7838, Valid loss: 4.6557\n"
     ]
    },
    {
     "output_type": "stream",
     "name": "stderr",
     "text": [
      "Epoch [944/6000]: 100%|██████████| 17/17 [00:00<00:00, 112.16it/s, loss=4.43]\n"
     ]
    },
    {
     "output_type": "stream",
     "name": "stdout",
     "text": [
      "Epoch [944/6000]: Train loss: 4.7805, Valid loss: 4.3868\n",
      "Saving model with loss 4.387...\n"
     ]
    },
    {
     "output_type": "stream",
     "name": "stderr",
     "text": [
      "Epoch [945/6000]: 100%|██████████| 17/17 [00:00<00:00, 122.56it/s, loss=3.14]\n"
     ]
    },
    {
     "output_type": "stream",
     "name": "stdout",
     "text": [
      "Epoch [945/6000]: Train loss: 4.7669, Valid loss: 4.4821\n"
     ]
    },
    {
     "output_type": "stream",
     "name": "stderr",
     "text": [
      "Epoch [946/6000]: 100%|██████████| 17/17 [00:00<00:00, 117.37it/s, loss=4.76]\n"
     ]
    },
    {
     "output_type": "stream",
     "name": "stdout",
     "text": [
      "Epoch [946/6000]: Train loss: 4.7746, Valid loss: 4.8086\n"
     ]
    },
    {
     "output_type": "stream",
     "name": "stderr",
     "text": [
      "Epoch [947/6000]: 100%|██████████| 17/17 [00:00<00:00, 119.07it/s, loss=4.83]\n"
     ]
    },
    {
     "output_type": "stream",
     "name": "stdout",
     "text": [
      "Epoch [947/6000]: Train loss: 4.7707, Valid loss: 4.5833\n"
     ]
    },
    {
     "output_type": "stream",
     "name": "stderr",
     "text": [
      "Epoch [948/6000]: 100%|██████████| 17/17 [00:00<00:00, 111.05it/s, loss=3.73]\n"
     ]
    },
    {
     "output_type": "stream",
     "name": "stdout",
     "text": [
      "Epoch [948/6000]: Train loss: 4.7584, Valid loss: 4.4935\n"
     ]
    },
    {
     "output_type": "stream",
     "name": "stderr",
     "text": [
      "Epoch [949/6000]: 100%|██████████| 17/17 [00:00<00:00, 119.93it/s, loss=5.67]\n"
     ]
    },
    {
     "output_type": "stream",
     "name": "stdout",
     "text": [
      "Epoch [949/6000]: Train loss: 4.7689, Valid loss: 4.5647\n"
     ]
    },
    {
     "output_type": "stream",
     "name": "stderr",
     "text": [
      "Epoch [950/6000]: 100%|██████████| 17/17 [00:00<00:00, 115.96it/s, loss=5.24]\n"
     ]
    },
    {
     "output_type": "stream",
     "name": "stdout",
     "text": [
      "Epoch [950/6000]: Train loss: 4.7619, Valid loss: 4.5471\n"
     ]
    },
    {
     "output_type": "stream",
     "name": "stderr",
     "text": [
      "Epoch [951/6000]: 100%|██████████| 17/17 [00:00<00:00, 116.45it/s, loss=4.84]\n"
     ]
    },
    {
     "output_type": "stream",
     "name": "stdout",
     "text": [
      "Epoch [951/6000]: Train loss: 4.7544, Valid loss: 4.5921\n"
     ]
    },
    {
     "output_type": "stream",
     "name": "stderr",
     "text": [
      "Epoch [952/6000]: 100%|██████████| 17/17 [00:00<00:00, 122.07it/s, loss=4.94]\n"
     ]
    },
    {
     "output_type": "stream",
     "name": "stdout",
     "text": [
      "Epoch [952/6000]: Train loss: 4.7512, Valid loss: 4.5143\n"
     ]
    },
    {
     "output_type": "stream",
     "name": "stderr",
     "text": [
      "Epoch [953/6000]: 100%|██████████| 17/17 [00:00<00:00, 124.08it/s, loss=4.68]\n"
     ]
    },
    {
     "output_type": "stream",
     "name": "stdout",
     "text": [
      "Epoch [953/6000]: Train loss: 4.7449, Valid loss: 4.4011\n"
     ]
    },
    {
     "output_type": "stream",
     "name": "stderr",
     "text": [
      "Epoch [954/6000]: 100%|██████████| 17/17 [00:00<00:00, 114.78it/s, loss=5.6]\n"
     ]
    },
    {
     "output_type": "stream",
     "name": "stdout",
     "text": [
      "Epoch [954/6000]: Train loss: 4.7476, Valid loss: 5.2203\n"
     ]
    },
    {
     "output_type": "stream",
     "name": "stderr",
     "text": [
      "Epoch [955/6000]: 100%|██████████| 17/17 [00:00<00:00, 112.31it/s, loss=5.29]\n"
     ]
    },
    {
     "output_type": "stream",
     "name": "stdout",
     "text": [
      "Epoch [955/6000]: Train loss: 4.7414, Valid loss: 4.4392\n"
     ]
    },
    {
     "output_type": "stream",
     "name": "stderr",
     "text": [
      "Epoch [956/6000]: 100%|██████████| 17/17 [00:00<00:00, 131.52it/s, loss=3.94]\n"
     ]
    },
    {
     "output_type": "stream",
     "name": "stdout",
     "text": [
      "Epoch [956/6000]: Train loss: 4.7270, Valid loss: 4.3824\n",
      "Saving model with loss 4.382...\n"
     ]
    },
    {
     "output_type": "stream",
     "name": "stderr",
     "text": [
      "Epoch [957/6000]: 100%|██████████| 17/17 [00:00<00:00, 104.95it/s, loss=4.3]\n"
     ]
    },
    {
     "output_type": "stream",
     "name": "stdout",
     "text": [
      "Epoch [957/6000]: Train loss: 4.7258, Valid loss: 4.7977\n"
     ]
    },
    {
     "output_type": "stream",
     "name": "stderr",
     "text": [
      "Epoch [958/6000]: 100%|██████████| 17/17 [00:00<00:00, 107.33it/s, loss=3.75]\n"
     ]
    },
    {
     "output_type": "stream",
     "name": "stdout",
     "text": [
      "Epoch [958/6000]: Train loss: 4.7184, Valid loss: 4.4472\n"
     ]
    },
    {
     "output_type": "stream",
     "name": "stderr",
     "text": [
      "Epoch [959/6000]: 100%|██████████| 17/17 [00:00<00:00, 122.95it/s, loss=4.68]\n"
     ]
    },
    {
     "output_type": "stream",
     "name": "stdout",
     "text": [
      "Epoch [959/6000]: Train loss: 4.7208, Valid loss: 4.6048\n"
     ]
    },
    {
     "output_type": "stream",
     "name": "stderr",
     "text": [
      "Epoch [960/6000]: 100%|██████████| 17/17 [00:00<00:00, 114.08it/s, loss=3.54]\n"
     ]
    },
    {
     "output_type": "stream",
     "name": "stdout",
     "text": [
      "Epoch [960/6000]: Train loss: 4.7080, Valid loss: 4.8193\n"
     ]
    },
    {
     "output_type": "stream",
     "name": "stderr",
     "text": [
      "Epoch [961/6000]: 100%|██████████| 17/17 [00:00<00:00, 108.41it/s, loss=5.29]\n"
     ]
    },
    {
     "output_type": "stream",
     "name": "stdout",
     "text": [
      "Epoch [961/6000]: Train loss: 4.7172, Valid loss: 4.4524\n"
     ]
    },
    {
     "output_type": "stream",
     "name": "stderr",
     "text": [
      "Epoch [962/6000]: 100%|██████████| 17/17 [00:00<00:00, 116.89it/s, loss=4.62]\n"
     ]
    },
    {
     "output_type": "stream",
     "name": "stdout",
     "text": [
      "Epoch [962/6000]: Train loss: 4.7077, Valid loss: 4.8647\n"
     ]
    },
    {
     "output_type": "stream",
     "name": "stderr",
     "text": [
      "Epoch [963/6000]: 100%|██████████| 17/17 [00:00<00:00, 119.45it/s, loss=4.24]\n"
     ]
    },
    {
     "output_type": "stream",
     "name": "stdout",
     "text": [
      "Epoch [963/6000]: Train loss: 4.7007, Valid loss: 4.5385\n"
     ]
    },
    {
     "output_type": "stream",
     "name": "stderr",
     "text": [
      "Epoch [964/6000]: 100%|██████████| 17/17 [00:00<00:00, 122.81it/s, loss=5.2]\n"
     ]
    },
    {
     "output_type": "stream",
     "name": "stdout",
     "text": [
      "Epoch [964/6000]: Train loss: 4.7040, Valid loss: 4.6324\n"
     ]
    },
    {
     "output_type": "stream",
     "name": "stderr",
     "text": [
      "Epoch [965/6000]: 100%|██████████| 17/17 [00:00<00:00, 110.77it/s, loss=4.93]\n"
     ]
    },
    {
     "output_type": "stream",
     "name": "stdout",
     "text": [
      "Epoch [965/6000]: Train loss: 4.6976, Valid loss: 4.8284\n"
     ]
    },
    {
     "output_type": "stream",
     "name": "stderr",
     "text": [
      "Epoch [966/6000]: 100%|██████████| 17/17 [00:00<00:00, 121.23it/s, loss=3.87]\n"
     ]
    },
    {
     "output_type": "stream",
     "name": "stdout",
     "text": [
      "Epoch [966/6000]: Train loss: 4.6856, Valid loss: 4.7951\n"
     ]
    },
    {
     "output_type": "stream",
     "name": "stderr",
     "text": [
      "Epoch [967/6000]: 100%|██████████| 17/17 [00:00<00:00, 121.41it/s, loss=5.23]\n"
     ]
    },
    {
     "output_type": "stream",
     "name": "stdout",
     "text": [
      "Epoch [967/6000]: Train loss: 4.6919, Valid loss: 4.7987\n"
     ]
    },
    {
     "output_type": "stream",
     "name": "stderr",
     "text": [
      "Epoch [970/6000]: 100%|██████████| 17/17 [00:00<00:00, 102.25it/s, loss=5.47]\n"
     ]
    },
    {
     "output_type": "stream",
     "name": "stdout",
     "text": [
      "Epoch [970/6000]: Train loss: 4.6811, Valid loss: 4.4621\n"
     ]
    },
    {
     "output_type": "stream",
     "name": "stderr",
     "text": [
      "Epoch [971/6000]: 100%|██████████| 17/17 [00:00<00:00, 115.42it/s, loss=3.74]\n"
     ]
    },
    {
     "output_type": "stream",
     "name": "stdout",
     "text": [
      "Epoch [971/6000]: Train loss: 4.6645, Valid loss: 4.8688\n"
     ]
    },
    {
     "output_type": "stream",
     "name": "stderr",
     "text": [
      "Epoch [972/6000]: 100%|██████████| 17/17 [00:00<00:00, 123.33it/s, loss=6.67]\n"
     ]
    },
    {
     "output_type": "stream",
     "name": "stdout",
     "text": [
      "Epoch [972/6000]: Train loss: 4.6820, Valid loss: 4.5483\n"
     ]
    },
    {
     "output_type": "stream",
     "name": "stderr",
     "text": [
      "Epoch [973/6000]: 100%|██████████| 17/17 [00:00<00:00, 108.00it/s, loss=3.71]\n"
     ]
    },
    {
     "output_type": "stream",
     "name": "stdout",
     "text": [
      "Epoch [973/6000]: Train loss: 4.6558, Valid loss: 4.4893\n"
     ]
    },
    {
     "output_type": "stream",
     "name": "stderr",
     "text": [
      "Epoch [974/6000]: 100%|██████████| 17/17 [00:00<00:00, 105.78it/s, loss=4.42]\n"
     ]
    },
    {
     "output_type": "stream",
     "name": "stdout",
     "text": [
      "Epoch [974/6000]: Train loss: 4.6571, Valid loss: 4.8793\n"
     ]
    },
    {
     "output_type": "stream",
     "name": "stderr",
     "text": [
      "Epoch [975/6000]: 100%|██████████| 17/17 [00:00<00:00, 114.77it/s, loss=5.96]\n"
     ]
    },
    {
     "output_type": "stream",
     "name": "stdout",
     "text": [
      "Epoch [975/6000]: Train loss: 4.6639, Valid loss: 5.0221\n"
     ]
    },
    {
     "output_type": "stream",
     "name": "stderr",
     "text": [
      "Epoch [976/6000]: 100%|██████████| 17/17 [00:00<00:00, 103.21it/s, loss=4.68]\n"
     ]
    },
    {
     "output_type": "stream",
     "name": "stdout",
     "text": [
      "Epoch [976/6000]: Train loss: 4.6507, Valid loss: 4.4520\n"
     ]
    },
    {
     "output_type": "stream",
     "name": "stderr",
     "text": [
      "Epoch [977/6000]: 100%|██████████| 17/17 [00:00<00:00, 96.38it/s, loss=4.62] \n"
     ]
    },
    {
     "output_type": "stream",
     "name": "stdout",
     "text": [
      "Epoch [977/6000]: Train loss: 4.6473, Valid loss: 4.2525\n",
      "Saving model with loss 4.253...\n"
     ]
    },
    {
     "output_type": "stream",
     "name": "stderr",
     "text": [
      "Epoch [978/6000]: 100%|██████████| 17/17 [00:00<00:00, 99.64it/s, loss=5.57]\n"
     ]
    },
    {
     "output_type": "stream",
     "name": "stdout",
     "text": [
      "Epoch [978/6000]: Train loss: 4.6496, Valid loss: 4.7890\n"
     ]
    },
    {
     "output_type": "stream",
     "name": "stderr",
     "text": [
      "Epoch [979/6000]: 100%|██████████| 17/17 [00:00<00:00, 102.98it/s, loss=5.23]\n"
     ]
    },
    {
     "output_type": "stream",
     "name": "stdout",
     "text": [
      "Epoch [979/6000]: Train loss: 4.6424, Valid loss: 4.3211\n"
     ]
    },
    {
     "output_type": "stream",
     "name": "stderr",
     "text": [
      "Epoch [980/6000]: 100%|██████████| 17/17 [00:00<00:00, 103.85it/s, loss=4.15]\n"
     ]
    },
    {
     "output_type": "stream",
     "name": "stdout",
     "text": [
      "Epoch [980/6000]: Train loss: 4.6305, Valid loss: 4.8993\n"
     ]
    },
    {
     "output_type": "stream",
     "name": "stderr",
     "text": [
      "Epoch [981/6000]: 100%|██████████| 17/17 [00:00<00:00, 114.37it/s, loss=6.23]\n"
     ]
    },
    {
     "output_type": "stream",
     "name": "stdout",
     "text": [
      "Epoch [981/6000]: Train loss: 4.6423, Valid loss: 4.3242\n"
     ]
    },
    {
     "output_type": "stream",
     "name": "stderr",
     "text": [
      "Epoch [982/6000]: 100%|██████████| 17/17 [00:00<00:00, 113.86it/s, loss=5.25]\n"
     ]
    },
    {
     "output_type": "stream",
     "name": "stdout",
     "text": [
      "Epoch [982/6000]: Train loss: 4.6304, Valid loss: 4.9776\n"
     ]
    },
    {
     "output_type": "stream",
     "name": "stderr",
     "text": [
      "Epoch [986/6000]: 100%|██████████| 17/17 [00:00<00:00, 114.63it/s, loss=4.5]\n"
     ]
    },
    {
     "output_type": "stream",
     "name": "stdout",
     "text": [
      "Epoch [986/6000]: Train loss: 4.6088, Valid loss: 4.1345\n",
      "Saving model with loss 4.135...\n"
     ]
    },
    {
     "output_type": "stream",
     "name": "stderr",
     "text": [
      "Epoch [987/6000]: 100%|██████████| 17/17 [00:00<00:00, 119.53it/s, loss=5.94]\n"
     ]
    },
    {
     "output_type": "stream",
     "name": "stdout",
     "text": [
      "Epoch [987/6000]: Train loss: 4.6158, Valid loss: 4.3988\n"
     ]
    },
    {
     "output_type": "stream",
     "name": "stderr",
     "text": [
      "Epoch [988/6000]: 100%|██████████| 17/17 [00:00<00:00, 115.04it/s, loss=3.74]\n"
     ]
    },
    {
     "output_type": "stream",
     "name": "stdout",
     "text": [
      "Epoch [988/6000]: Train loss: 4.5950, Valid loss: 4.2868\n"
     ]
    },
    {
     "output_type": "stream",
     "name": "stderr",
     "text": [
      "Epoch [989/6000]: 100%|██████████| 17/17 [00:00<00:00, 135.18it/s, loss=5.63]\n"
     ]
    },
    {
     "output_type": "stream",
     "name": "stdout",
     "text": [
      "Epoch [989/6000]: Train loss: 4.6053, Valid loss: 4.4055\n"
     ]
    },
    {
     "output_type": "stream",
     "name": "stderr",
     "text": [
      "Epoch [990/6000]: 100%|██████████| 17/17 [00:00<00:00, 128.01it/s, loss=3.37]\n"
     ]
    },
    {
     "output_type": "stream",
     "name": "stdout",
     "text": [
      "Epoch [990/6000]: Train loss: 4.5842, Valid loss: 4.1330\n",
      "Saving model with loss 4.133...\n"
     ]
    },
    {
     "output_type": "stream",
     "name": "stderr",
     "text": [
      "Epoch [991/6000]: 100%|██████████| 17/17 [00:00<00:00, 122.39it/s, loss=3.91]\n"
     ]
    },
    {
     "output_type": "stream",
     "name": "stdout",
     "text": [
      "Epoch [991/6000]: Train loss: 4.5846, Valid loss: 4.2683\n"
     ]
    },
    {
     "output_type": "stream",
     "name": "stderr",
     "text": [
      "Epoch [992/6000]: 100%|██████████| 17/17 [00:00<00:00, 127.84it/s, loss=4.52]\n"
     ]
    },
    {
     "output_type": "stream",
     "name": "stdout",
     "text": [
      "Epoch [992/6000]: Train loss: 4.5848, Valid loss: 4.4942\n"
     ]
    },
    {
     "output_type": "stream",
     "name": "stderr",
     "text": [
      "Epoch [993/6000]: 100%|██████████| 17/17 [00:00<00:00, 130.10it/s, loss=4.14]\n"
     ]
    },
    {
     "output_type": "stream",
     "name": "stdout",
     "text": [
      "Epoch [993/6000]: Train loss: 4.5780, Valid loss: 4.3317\n"
     ]
    },
    {
     "output_type": "stream",
     "name": "stderr",
     "text": [
      "Epoch [994/6000]: 100%|██████████| 17/17 [00:00<00:00, 128.15it/s, loss=4.19]\n"
     ]
    },
    {
     "output_type": "stream",
     "name": "stdout",
     "text": [
      "Epoch [994/6000]: Train loss: 4.5761, Valid loss: 4.9151\n"
     ]
    },
    {
     "output_type": "stream",
     "name": "stderr",
     "text": [
      "Epoch [995/6000]: 100%|██████████| 17/17 [00:00<00:00, 136.20it/s, loss=5.23]\n"
     ]
    },
    {
     "output_type": "stream",
     "name": "stdout",
     "text": [
      "Epoch [995/6000]: Train loss: 4.5783, Valid loss: 4.6965\n"
     ]
    },
    {
     "output_type": "stream",
     "name": "stderr",
     "text": [
      "Epoch [996/6000]: 100%|██████████| 17/17 [00:00<00:00, 117.99it/s, loss=5.01]\n"
     ]
    },
    {
     "output_type": "stream",
     "name": "stdout",
     "text": [
      "Epoch [996/6000]: Train loss: 4.5723, Valid loss: 4.4398\n"
     ]
    },
    {
     "output_type": "stream",
     "name": "stderr",
     "text": [
      "Epoch [997/6000]: 100%|██████████| 17/17 [00:00<00:00, 128.96it/s, loss=4.94]\n"
     ]
    },
    {
     "output_type": "stream",
     "name": "stdout",
     "text": [
      "Epoch [997/6000]: Train loss: 4.5677, Valid loss: 4.3954\n"
     ]
    },
    {
     "output_type": "stream",
     "name": "stderr",
     "text": [
      "Epoch [999/6000]: 100%|██████████| 17/17 [00:00<00:00, 118.51it/s, loss=4.44]\n"
     ]
    },
    {
     "output_type": "stream",
     "name": "stdout",
     "text": [
      "Epoch [999/6000]: Train loss: 4.5562, Valid loss: 4.6045\n"
     ]
    },
    {
     "output_type": "stream",
     "name": "stderr",
     "text": [
      "Epoch [1000/6000]: 100%|██████████| 17/17 [00:00<00:00, 121.94it/s, loss=4.88]\n"
     ]
    },
    {
     "output_type": "stream",
     "name": "stdout",
     "text": [
      "Epoch [1000/6000]: Train loss: 4.5552, Valid loss: 4.2444\n"
     ]
    },
    {
     "output_type": "stream",
     "name": "stderr",
     "text": [
      "Epoch [1001/6000]: 100%|██████████| 17/17 [00:00<00:00, 111.86it/s, loss=4.21]\n"
     ]
    },
    {
     "output_type": "stream",
     "name": "stdout",
     "text": [
      "Epoch [1001/6000]: Train loss: 4.5463, Valid loss: 4.1452\n"
     ]
    },
    {
     "output_type": "stream",
     "name": "stderr",
     "text": [
      "Epoch [1002/6000]: 100%|██████████| 17/17 [00:00<00:00, 118.00it/s, loss=5]\n"
     ]
    },
    {
     "output_type": "stream",
     "name": "stdout",
     "text": [
      "Epoch [1002/6000]: Train loss: 4.5483, Valid loss: 4.6459\n"
     ]
    },
    {
     "output_type": "stream",
     "name": "stderr",
     "text": [
      "Epoch [1003/6000]: 100%|██████████| 17/17 [00:00<00:00, 112.78it/s, loss=5.74]\n"
     ]
    },
    {
     "output_type": "stream",
     "name": "stdout",
     "text": [
      "Epoch [1003/6000]: Train loss: 4.5494, Valid loss: 4.1491\n"
     ]
    },
    {
     "output_type": "stream",
     "name": "stderr",
     "text": [
      "Epoch [1004/6000]: 100%|██████████| 17/17 [00:00<00:00, 118.19it/s, loss=4.5]\n"
     ]
    },
    {
     "output_type": "stream",
     "name": "stdout",
     "text": [
      "Epoch [1004/6000]: Train loss: 4.5370, Valid loss: 4.6675\n"
     ]
    },
    {
     "output_type": "stream",
     "name": "stderr",
     "text": [
      "Epoch [1005/6000]: 100%|██████████| 17/17 [00:00<00:00, 116.10it/s, loss=3.2]\n"
     ]
    },
    {
     "output_type": "stream",
     "name": "stdout",
     "text": [
      "Epoch [1005/6000]: Train loss: 4.5225, Valid loss: 4.4163\n"
     ]
    },
    {
     "output_type": "stream",
     "name": "stderr",
     "text": [
      "Epoch [1006/6000]: 100%|██████████| 17/17 [00:00<00:00, 124.68it/s, loss=4.43]\n"
     ]
    },
    {
     "output_type": "stream",
     "name": "stdout",
     "text": [
      "Epoch [1006/6000]: Train loss: 4.5277, Valid loss: 4.5641\n"
     ]
    },
    {
     "output_type": "stream",
     "name": "stderr",
     "text": [
      "Epoch [1007/6000]: 100%|██████████| 17/17 [00:00<00:00, 114.50it/s, loss=4.95]\n"
     ]
    },
    {
     "output_type": "stream",
     "name": "stdout",
     "text": [
      "Epoch [1007/6000]: Train loss: 4.5274, Valid loss: 4.6388\n"
     ]
    },
    {
     "output_type": "stream",
     "name": "stderr",
     "text": [
      "Epoch [1008/6000]: 100%|██████████| 17/17 [00:00<00:00, 100.96it/s, loss=3.99]\n"
     ]
    },
    {
     "output_type": "stream",
     "name": "stdout",
     "text": [
      "Epoch [1008/6000]: Train loss: 4.5163, Valid loss: 4.8800\n"
     ]
    },
    {
     "output_type": "stream",
     "name": "stderr",
     "text": [
      "Epoch [1009/6000]: 100%|██████████| 17/17 [00:00<00:00, 111.49it/s, loss=3.92]\n"
     ]
    },
    {
     "output_type": "stream",
     "name": "stdout",
     "text": [
      "Epoch [1009/6000]: Train loss: 4.5118, Valid loss: 4.6622\n"
     ]
    },
    {
     "output_type": "stream",
     "name": "stderr",
     "text": [
      "Epoch [1010/6000]: 100%|██████████| 17/17 [00:00<00:00, 123.64it/s, loss=4.14]\n"
     ]
    },
    {
     "output_type": "stream",
     "name": "stdout",
     "text": [
      "Epoch [1010/6000]: Train loss: 4.5096, Valid loss: 4.4703\n"
     ]
    },
    {
     "output_type": "stream",
     "name": "stderr",
     "text": [
      "Epoch [1011/6000]: 100%|██████████| 17/17 [00:00<00:00, 110.83it/s, loss=3.34]\n"
     ]
    },
    {
     "output_type": "stream",
     "name": "stdout",
     "text": [
      "Epoch [1011/6000]: Train loss: 4.4998, Valid loss: 4.6415\n"
     ]
    },
    {
     "output_type": "stream",
     "name": "stderr",
     "text": [
      "Epoch [1012/6000]: 100%|██████████| 17/17 [00:00<00:00, 117.14it/s, loss=3.87]\n"
     ]
    },
    {
     "output_type": "stream",
     "name": "stdout",
     "text": [
      "Epoch [1012/6000]: Train loss: 4.4999, Valid loss: 4.8054\n"
     ]
    },
    {
     "output_type": "stream",
     "name": "stderr",
     "text": [
      "Epoch [1013/6000]: 100%|██████████| 17/17 [00:00<00:00, 131.68it/s, loss=4.37]\n"
     ]
    },
    {
     "output_type": "stream",
     "name": "stdout",
     "text": [
      "Epoch [1013/6000]: Train loss: 4.4995, Valid loss: 4.2020\n"
     ]
    },
    {
     "output_type": "stream",
     "name": "stderr",
     "text": [
      "Epoch [1014/6000]: 100%|██████████| 17/17 [00:00<00:00, 112.61it/s, loss=4.97]\n"
     ]
    },
    {
     "output_type": "stream",
     "name": "stdout",
     "text": [
      "Epoch [1014/6000]: Train loss: 4.4997, Valid loss: 4.3215\n"
     ]
    },
    {
     "output_type": "stream",
     "name": "stderr",
     "text": [
      "Epoch [1015/6000]: 100%|██████████| 17/17 [00:00<00:00, 126.13it/s, loss=4.94]\n"
     ]
    },
    {
     "output_type": "stream",
     "name": "stdout",
     "text": [
      "Epoch [1015/6000]: Train loss: 4.4954, Valid loss: 4.5042\n"
     ]
    },
    {
     "output_type": "stream",
     "name": "stderr",
     "text": [
      "Epoch [1016/6000]: 100%|██████████| 17/17 [00:00<00:00, 123.38it/s, loss=4.36]\n"
     ]
    },
    {
     "output_type": "stream",
     "name": "stdout",
     "text": [
      "Epoch [1016/6000]: Train loss: 4.4867, Valid loss: 4.4386\n"
     ]
    },
    {
     "output_type": "stream",
     "name": "stderr",
     "text": [
      "Epoch [1017/6000]: 100%|██████████| 17/17 [00:00<00:00, 92.82it/s, loss=3.87]\n"
     ]
    },
    {
     "output_type": "stream",
     "name": "stdout",
     "text": [
      "Epoch [1017/6000]: Train loss: 4.4792, Valid loss: 4.6154\n"
     ]
    },
    {
     "output_type": "stream",
     "name": "stderr",
     "text": [
      "Epoch [1018/6000]: 100%|██████████| 17/17 [00:00<00:00, 99.84it/s, loss=4.84] \n"
     ]
    },
    {
     "output_type": "stream",
     "name": "stdout",
     "text": [
      "Epoch [1018/6000]: Train loss: 4.4821, Valid loss: 4.0366\n",
      "Saving model with loss 4.037...\n"
     ]
    },
    {
     "output_type": "stream",
     "name": "stderr",
     "text": [
      "Epoch [1019/6000]: 100%|██████████| 17/17 [00:00<00:00, 105.61it/s, loss=3.79]\n"
     ]
    },
    {
     "output_type": "stream",
     "name": "stdout",
     "text": [
      "Epoch [1019/6000]: Train loss: 4.4704, Valid loss: 4.3046\n"
     ]
    },
    {
     "output_type": "stream",
     "name": "stderr",
     "text": [
      "Epoch [1020/6000]: 100%|██████████| 17/17 [00:00<00:00, 117.14it/s, loss=4.27]\n"
     ]
    },
    {
     "output_type": "stream",
     "name": "stdout",
     "text": [
      "Epoch [1020/6000]: Train loss: 4.4700, Valid loss: 4.7082\n"
     ]
    },
    {
     "output_type": "stream",
     "name": "stderr",
     "text": [
      "Epoch [1021/6000]: 100%|██████████| 17/17 [00:00<00:00, 111.55it/s, loss=5.14]\n"
     ]
    },
    {
     "output_type": "stream",
     "name": "stdout",
     "text": [
      "Epoch [1021/6000]: Train loss: 4.4726, Valid loss: 4.2251\n"
     ]
    },
    {
     "output_type": "stream",
     "name": "stderr",
     "text": [
      "Epoch [1022/6000]: 100%|██████████| 17/17 [00:00<00:00, 118.28it/s, loss=4.76]\n"
     ]
    },
    {
     "output_type": "stream",
     "name": "stdout",
     "text": [
      "Epoch [1022/6000]: Train loss: 4.4674, Valid loss: 4.5315\n"
     ]
    },
    {
     "output_type": "stream",
     "name": "stderr",
     "text": [
      "Epoch [1023/6000]: 100%|██████████| 17/17 [00:00<00:00, 113.77it/s, loss=5.17]\n"
     ]
    },
    {
     "output_type": "stream",
     "name": "stdout",
     "text": [
      "Epoch [1023/6000]: Train loss: 4.4643, Valid loss: 4.1693\n"
     ]
    },
    {
     "output_type": "stream",
     "name": "stderr",
     "text": [
      "Epoch [1024/6000]: 100%|██████████| 17/17 [00:00<00:00, 114.89it/s, loss=4.12]\n"
     ]
    },
    {
     "output_type": "stream",
     "name": "stdout",
     "text": [
      "Epoch [1024/6000]: Train loss: 4.4530, Valid loss: 4.7351\n"
     ]
    },
    {
     "output_type": "stream",
     "name": "stderr",
     "text": [
      "Epoch [1031/6000]: 100%|██████████| 17/17 [00:00<00:00, 111.56it/s, loss=5.31]\n"
     ]
    },
    {
     "output_type": "stream",
     "name": "stdout",
     "text": [
      "Epoch [1031/6000]: Train loss: 4.4336, Valid loss: 4.4104\n"
     ]
    },
    {
     "output_type": "stream",
     "name": "stderr",
     "text": [
      "Epoch [1032/6000]: 100%|██████████| 17/17 [00:00<00:00, 116.14it/s, loss=4.21]\n"
     ]
    },
    {
     "output_type": "stream",
     "name": "stdout",
     "text": [
      "Epoch [1032/6000]: Train loss: 4.4215, Valid loss: 4.4345\n"
     ]
    },
    {
     "output_type": "stream",
     "name": "stderr",
     "text": [
      "Epoch [1033/6000]: 100%|██████████| 17/17 [00:00<00:00, 113.80it/s, loss=5.32]\n"
     ]
    },
    {
     "output_type": "stream",
     "name": "stdout",
     "text": [
      "Epoch [1033/6000]: Train loss: 4.4253, Valid loss: 3.9593\n",
      "Saving model with loss 3.959...\n"
     ]
    },
    {
     "output_type": "stream",
     "name": "stderr",
     "text": [
      "Epoch [1034/6000]: 100%|██████████| 17/17 [00:00<00:00, 118.77it/s, loss=3.33]\n"
     ]
    },
    {
     "output_type": "stream",
     "name": "stdout",
     "text": [
      "Epoch [1034/6000]: Train loss: 4.4069, Valid loss: 4.1859\n"
     ]
    },
    {
     "output_type": "stream",
     "name": "stderr",
     "text": [
      "Epoch [1035/6000]: 100%|██████████| 17/17 [00:00<00:00, 121.40it/s, loss=5.89]\n"
     ]
    },
    {
     "output_type": "stream",
     "name": "stdout",
     "text": [
      "Epoch [1035/6000]: Train loss: 4.4226, Valid loss: 4.7918\n"
     ]
    },
    {
     "output_type": "stream",
     "name": "stderr",
     "text": [
      "Epoch [1036/6000]: 100%|██████████| 17/17 [00:00<00:00, 118.94it/s, loss=4.5]\n"
     ]
    },
    {
     "output_type": "stream",
     "name": "stdout",
     "text": [
      "Epoch [1036/6000]: Train loss: 4.4073, Valid loss: 4.2074\n"
     ]
    },
    {
     "output_type": "stream",
     "name": "stderr",
     "text": [
      "Epoch [1037/6000]: 100%|██████████| 17/17 [00:00<00:00, 119.84it/s, loss=4]\n"
     ]
    },
    {
     "output_type": "stream",
     "name": "stdout",
     "text": [
      "Epoch [1037/6000]: Train loss: 4.4004, Valid loss: 4.4242\n"
     ]
    },
    {
     "output_type": "stream",
     "name": "stderr",
     "text": [
      "Epoch [1038/6000]: 100%|██████████| 17/17 [00:00<00:00, 118.68it/s, loss=5.53]\n"
     ]
    },
    {
     "output_type": "stream",
     "name": "stdout",
     "text": [
      "Epoch [1038/6000]: Train loss: 4.4072, Valid loss: 4.2923\n"
     ]
    },
    {
     "output_type": "stream",
     "name": "stderr",
     "text": [
      "Epoch [1039/6000]: 100%|██████████| 17/17 [00:00<00:00, 111.75it/s, loss=4.03]\n"
     ]
    },
    {
     "output_type": "stream",
     "name": "stdout",
     "text": [
      "Epoch [1039/6000]: Train loss: 4.3919, Valid loss: 4.1667\n"
     ]
    },
    {
     "output_type": "stream",
     "name": "stderr",
     "text": [
      "Epoch [1040/6000]: 100%|██████████| 17/17 [00:00<00:00, 122.36it/s, loss=4.1]\n"
     ]
    },
    {
     "output_type": "stream",
     "name": "stdout",
     "text": [
      "Epoch [1040/6000]: Train loss: 4.3888, Valid loss: 4.3279\n"
     ]
    },
    {
     "output_type": "stream",
     "name": "stderr",
     "text": [
      "Epoch [1041/6000]: 100%|██████████| 17/17 [00:00<00:00, 129.88it/s, loss=3.94]\n"
     ]
    },
    {
     "output_type": "stream",
     "name": "stdout",
     "text": [
      "Epoch [1041/6000]: Train loss: 4.3841, Valid loss: 4.5605\n"
     ]
    },
    {
     "output_type": "stream",
     "name": "stderr",
     "text": [
      "Epoch [1042/6000]: 100%|██████████| 17/17 [00:00<00:00, 105.64it/s, loss=3.72]\n"
     ]
    },
    {
     "output_type": "stream",
     "name": "stdout",
     "text": [
      "Epoch [1042/6000]: Train loss: 4.3777, Valid loss: 4.2023\n"
     ]
    },
    {
     "output_type": "stream",
     "name": "stderr",
     "text": [
      "Epoch [1043/6000]: 100%|██████████| 17/17 [00:00<00:00, 121.16it/s, loss=4.94]\n"
     ]
    },
    {
     "output_type": "stream",
     "name": "stdout",
     "text": [
      "Epoch [1043/6000]: Train loss: 4.3826, Valid loss: 4.3629\n"
     ]
    },
    {
     "output_type": "stream",
     "name": "stderr",
     "text": [
      "Epoch [1060/6000]: 100%|██████████| 17/17 [00:00<00:00, 120.99it/s, loss=4.44]\n"
     ]
    },
    {
     "output_type": "stream",
     "name": "stdout",
     "text": [
      "Epoch [1060/6000]: Train loss: 4.3113, Valid loss: 3.8921\n",
      "Saving model with loss 3.892...\n"
     ]
    },
    {
     "output_type": "stream",
     "name": "stderr",
     "text": [
      "Epoch [1061/6000]: 100%|██████████| 17/17 [00:00<00:00, 102.95it/s, loss=3.58]\n"
     ]
    },
    {
     "output_type": "stream",
     "name": "stdout",
     "text": [
      "Epoch [1061/6000]: Train loss: 4.3030, Valid loss: 3.8639\n",
      "Saving model with loss 3.864...\n"
     ]
    },
    {
     "output_type": "stream",
     "name": "stderr",
     "text": [
      "Epoch [1062/6000]: 100%|██████████| 17/17 [00:00<00:00, 115.53it/s, loss=3.8]\n"
     ]
    },
    {
     "output_type": "stream",
     "name": "stdout",
     "text": [
      "Epoch [1062/6000]: Train loss: 4.2985, Valid loss: 3.9235\n"
     ]
    },
    {
     "output_type": "stream",
     "name": "stderr",
     "text": [
      "Epoch [1063/6000]: 100%|██████████| 17/17 [00:00<00:00, 129.77it/s, loss=4.89]\n"
     ]
    },
    {
     "output_type": "stream",
     "name": "stdout",
     "text": [
      "Epoch [1063/6000]: Train loss: 4.3034, Valid loss: 4.0557\n"
     ]
    },
    {
     "output_type": "stream",
     "name": "stderr",
     "text": [
      "Epoch [1064/6000]: 100%|██████████| 17/17 [00:00<00:00, 135.42it/s, loss=3.88]\n"
     ]
    },
    {
     "output_type": "stream",
     "name": "stdout",
     "text": [
      "Epoch [1064/6000]: Train loss: 4.2920, Valid loss: 3.7227\n",
      "Saving model with loss 3.723...\n"
     ]
    },
    {
     "output_type": "stream",
     "name": "stderr",
     "text": [
      "Epoch [1065/6000]: 100%|██████████| 17/17 [00:00<00:00, 133.17it/s, loss=4.84]\n"
     ]
    },
    {
     "output_type": "stream",
     "name": "stdout",
     "text": [
      "Epoch [1065/6000]: Train loss: 4.2952, Valid loss: 4.0530\n"
     ]
    },
    {
     "output_type": "stream",
     "name": "stderr",
     "text": [
      "Epoch [1066/6000]: 100%|██████████| 17/17 [00:00<00:00, 109.13it/s, loss=4.01]\n"
     ]
    },
    {
     "output_type": "stream",
     "name": "stdout",
     "text": [
      "Epoch [1066/6000]: Train loss: 4.2851, Valid loss: 4.3866\n"
     ]
    },
    {
     "output_type": "stream",
     "name": "stderr",
     "text": [
      "Epoch [1067/6000]: 100%|██████████| 17/17 [00:00<00:00, 116.35it/s, loss=3.17]\n"
     ]
    },
    {
     "output_type": "stream",
     "name": "stdout",
     "text": [
      "Epoch [1067/6000]: Train loss: 4.2741, Valid loss: 3.8798\n"
     ]
    },
    {
     "output_type": "stream",
     "name": "stderr",
     "text": [
      "Epoch [1068/6000]: 100%|██████████| 17/17 [00:00<00:00, 118.20it/s, loss=4.87]\n"
     ]
    },
    {
     "output_type": "stream",
     "name": "stdout",
     "text": [
      "Epoch [1068/6000]: Train loss: 4.2836, Valid loss: 3.8286\n"
     ]
    },
    {
     "output_type": "stream",
     "name": "stderr",
     "text": [
      "Epoch [1069/6000]: 100%|██████████| 17/17 [00:00<00:00, 115.77it/s, loss=4.21]\n"
     ]
    },
    {
     "output_type": "stream",
     "name": "stdout",
     "text": [
      "Epoch [1069/6000]: Train loss: 4.2737, Valid loss: 4.3780\n"
     ]
    },
    {
     "output_type": "stream",
     "name": "stderr",
     "text": [
      "Epoch [1070/6000]: 100%|██████████| 17/17 [00:00<00:00, 116.56it/s, loss=4.41]\n"
     ]
    },
    {
     "output_type": "stream",
     "name": "stdout",
     "text": [
      "Epoch [1070/6000]: Train loss: 4.2718, Valid loss: 4.2501\n"
     ]
    },
    {
     "output_type": "stream",
     "name": "stderr",
     "text": [
      "Epoch [1071/6000]: 100%|██████████| 17/17 [00:00<00:00, 109.57it/s, loss=4.26]\n"
     ]
    },
    {
     "output_type": "stream",
     "name": "stdout",
     "text": [
      "Epoch [1071/6000]: Train loss: 4.2663, Valid loss: 4.7644\n"
     ]
    },
    {
     "output_type": "stream",
     "name": "stderr",
     "text": [
      "Epoch [1072/6000]: 100%|██████████| 17/17 [00:00<00:00, 113.47it/s, loss=3.7]\n"
     ]
    },
    {
     "output_type": "stream",
     "name": "stdout",
     "text": [
      "Epoch [1072/6000]: Train loss: 4.2584, Valid loss: 3.8524\n"
     ]
    },
    {
     "output_type": "stream",
     "name": "stderr",
     "text": [
      "Epoch [1080/6000]: 100%|██████████| 17/17 [00:00<00:00, 112.30it/s, loss=3.42]\n"
     ]
    },
    {
     "output_type": "stream",
     "name": "stdout",
     "text": [
      "Epoch [1080/6000]: Train loss: 4.2242, Valid loss: 4.1331\n"
     ]
    },
    {
     "output_type": "stream",
     "name": "stderr",
     "text": [
      "Epoch [1081/6000]: 100%|██████████| 17/17 [00:00<00:00, 117.31it/s, loss=4.39]\n"
     ]
    },
    {
     "output_type": "stream",
     "name": "stdout",
     "text": [
      "Epoch [1081/6000]: Train loss: 4.2281, Valid loss: 4.2226\n"
     ]
    },
    {
     "output_type": "stream",
     "name": "stderr",
     "text": [
      "Epoch [1082/6000]: 100%|██████████| 17/17 [00:00<00:00, 113.60it/s, loss=3.07]\n"
     ]
    },
    {
     "output_type": "stream",
     "name": "stdout",
     "text": [
      "Epoch [1082/6000]: Train loss: 4.2142, Valid loss: 4.5092\n"
     ]
    },
    {
     "output_type": "stream",
     "name": "stderr",
     "text": [
      "Epoch [1083/6000]: 100%|██████████| 17/17 [00:00<00:00, 116.38it/s, loss=3.65]\n"
     ]
    },
    {
     "output_type": "stream",
     "name": "stdout",
     "text": [
      "Epoch [1083/6000]: Train loss: 4.2143, Valid loss: 3.9331\n"
     ]
    },
    {
     "output_type": "stream",
     "name": "stderr",
     "text": [
      "Epoch [1084/6000]: 100%|██████████| 17/17 [00:00<00:00, 114.99it/s, loss=3.85]\n"
     ]
    },
    {
     "output_type": "stream",
     "name": "stdout",
     "text": [
      "Epoch [1084/6000]: Train loss: 4.2122, Valid loss: 3.9785\n"
     ]
    },
    {
     "output_type": "stream",
     "name": "stderr",
     "text": [
      "Epoch [1085/6000]: 100%|██████████| 17/17 [00:00<00:00, 124.21it/s, loss=4.1]\n"
     ]
    },
    {
     "output_type": "stream",
     "name": "stdout",
     "text": [
      "Epoch [1085/6000]: Train loss: 4.2094, Valid loss: 4.3624\n"
     ]
    },
    {
     "output_type": "stream",
     "name": "stderr",
     "text": [
      "Epoch [1086/6000]: 100%|██████████| 17/17 [00:00<00:00, 106.02it/s, loss=4.28]\n"
     ]
    },
    {
     "output_type": "stream",
     "name": "stdout",
     "text": [
      "Epoch [1086/6000]: Train loss: 4.2067, Valid loss: 3.6684\n",
      "Saving model with loss 3.668...\n"
     ]
    },
    {
     "output_type": "stream",
     "name": "stderr",
     "text": [
      "Epoch [1087/6000]: 100%|██████████| 17/17 [00:00<00:00, 117.07it/s, loss=3.82]\n"
     ]
    },
    {
     "output_type": "stream",
     "name": "stdout",
     "text": [
      "Epoch [1087/6000]: Train loss: 4.1997, Valid loss: 4.2643\n"
     ]
    },
    {
     "output_type": "stream",
     "name": "stderr",
     "text": [
      "Epoch [1088/6000]: 100%|██████████| 17/17 [00:00<00:00, 110.08it/s, loss=4.75]\n"
     ]
    },
    {
     "output_type": "stream",
     "name": "stdout",
     "text": [
      "Epoch [1088/6000]: Train loss: 4.2026, Valid loss: 4.5522\n"
     ]
    },
    {
     "output_type": "stream",
     "name": "stderr",
     "text": [
      "Epoch [1089/6000]: 100%|██████████| 17/17 [00:00<00:00, 103.01it/s, loss=5.64]\n"
     ]
    },
    {
     "output_type": "stream",
     "name": "stdout",
     "text": [
      "Epoch [1089/6000]: Train loss: 4.2059, Valid loss: 4.1622\n"
     ]
    },
    {
     "output_type": "stream",
     "name": "stderr",
     "text": [
      "Epoch [1090/6000]: 100%|██████████| 17/17 [00:00<00:00, 111.17it/s, loss=5.37]\n"
     ]
    },
    {
     "output_type": "stream",
     "name": "stdout",
     "text": [
      "Epoch [1090/6000]: Train loss: 4.1997, Valid loss: 4.1425\n"
     ]
    },
    {
     "output_type": "stream",
     "name": "stderr",
     "text": [
      "Epoch [1091/6000]: 100%|██████████| 17/17 [00:00<00:00, 117.17it/s, loss=4.89]\n"
     ]
    },
    {
     "output_type": "stream",
     "name": "stdout",
     "text": [
      "Epoch [1091/6000]: Train loss: 4.1915, Valid loss: 4.1044\n"
     ]
    },
    {
     "output_type": "stream",
     "name": "stderr",
     "text": [
      "Epoch [1092/6000]: 100%|██████████| 17/17 [00:00<00:00, 107.40it/s, loss=3.72]\n"
     ]
    },
    {
     "output_type": "stream",
     "name": "stdout",
     "text": [
      "Epoch [1092/6000]: Train loss: 4.1793, Valid loss: 3.9760\n"
     ]
    },
    {
     "output_type": "stream",
     "name": "stderr",
     "text": [
      "Epoch [1093/6000]: 100%|██████████| 17/17 [00:00<00:00, 102.62it/s, loss=4.82]\n"
     ]
    },
    {
     "output_type": "stream",
     "name": "stdout",
     "text": [
      "Epoch [1093/6000]: Train loss: 4.1849, Valid loss: 4.0926\n"
     ]
    },
    {
     "output_type": "stream",
     "name": "stderr",
     "text": [
      "Epoch [1094/6000]: 100%|██████████| 17/17 [00:00<00:00, 122.47it/s, loss=5.31]\n"
     ]
    },
    {
     "output_type": "stream",
     "name": "stdout",
     "text": [
      "Epoch [1094/6000]: Train loss: 4.1838, Valid loss: 4.3857\n"
     ]
    },
    {
     "output_type": "stream",
     "name": "stderr",
     "text": [
      "Epoch [1095/6000]: 100%|██████████| 17/17 [00:00<00:00, 126.07it/s, loss=4.52]\n"
     ]
    },
    {
     "output_type": "stream",
     "name": "stdout",
     "text": [
      "Epoch [1095/6000]: Train loss: 4.1734, Valid loss: 4.0231\n"
     ]
    },
    {
     "output_type": "stream",
     "name": "stderr",
     "text": [
      "Epoch [1096/6000]: 100%|██████████| 17/17 [00:00<00:00, 123.42it/s, loss=4.23]\n"
     ]
    },
    {
     "output_type": "stream",
     "name": "stdout",
     "text": [
      "Epoch [1096/6000]: Train loss: 4.1669, Valid loss: 4.1981\n"
     ]
    },
    {
     "output_type": "stream",
     "name": "stderr",
     "text": [
      "Epoch [1097/6000]: 100%|██████████| 17/17 [00:00<00:00, 115.67it/s, loss=6.27]\n"
     ]
    },
    {
     "output_type": "stream",
     "name": "stdout",
     "text": [
      "Epoch [1097/6000]: Train loss: 4.1784, Valid loss: 3.7737\n"
     ]
    },
    {
     "output_type": "stream",
     "name": "stderr",
     "text": [
      "Epoch [1098/6000]: 100%|██████████| 17/17 [00:00<00:00, 122.29it/s, loss=5.06]\n"
     ]
    },
    {
     "output_type": "stream",
     "name": "stdout",
     "text": [
      "Epoch [1098/6000]: Train loss: 4.1653, Valid loss: 3.9037\n"
     ]
    },
    {
     "output_type": "stream",
     "name": "stderr",
     "text": [
      "Epoch [1099/6000]: 100%|██████████| 17/17 [00:00<00:00, 108.50it/s, loss=5.09]\n"
     ]
    },
    {
     "output_type": "stream",
     "name": "stdout",
     "text": [
      "Epoch [1099/6000]: Train loss: 4.1613, Valid loss: 3.8509\n"
     ]
    },
    {
     "output_type": "stream",
     "name": "stderr",
     "text": [
      "Epoch [1100/6000]: 100%|██████████| 17/17 [00:00<00:00, 111.72it/s, loss=3.69]\n"
     ]
    },
    {
     "output_type": "stream",
     "name": "stdout",
     "text": [
      "Epoch [1100/6000]: Train loss: 4.1473, Valid loss: 3.9394\n"
     ]
    },
    {
     "output_type": "stream",
     "name": "stderr",
     "text": [
      "Epoch [1101/6000]: 100%|██████████| 17/17 [00:00<00:00, 118.91it/s, loss=4.23]\n"
     ]
    },
    {
     "output_type": "stream",
     "name": "stdout",
     "text": [
      "Epoch [1101/6000]: Train loss: 4.1473, Valid loss: 4.1045\n"
     ]
    },
    {
     "output_type": "stream",
     "name": "stderr",
     "text": [
      "Epoch [1102/6000]: 100%|██████████| 17/17 [00:00<00:00, 119.61it/s, loss=4.95]\n"
     ]
    },
    {
     "output_type": "stream",
     "name": "stdout",
     "text": [
      "Epoch [1102/6000]: Train loss: 4.1485, Valid loss: 3.8254\n"
     ]
    },
    {
     "output_type": "stream",
     "name": "stderr",
     "text": [
      "Epoch [1103/6000]: 100%|██████████| 17/17 [00:00<00:00, 121.96it/s, loss=3.32]\n"
     ]
    },
    {
     "output_type": "stream",
     "name": "stdout",
     "text": [
      "Epoch [1103/6000]: Train loss: 4.1335, Valid loss: 3.9832\n"
     ]
    },
    {
     "output_type": "stream",
     "name": "stderr",
     "text": [
      "Epoch [1104/6000]: 100%|██████████| 17/17 [00:00<00:00, 115.65it/s, loss=3.88]\n"
     ]
    },
    {
     "output_type": "stream",
     "name": "stdout",
     "text": [
      "Epoch [1104/6000]: Train loss: 4.1332, Valid loss: 3.6909\n"
     ]
    },
    {
     "output_type": "stream",
     "name": "stderr",
     "text": [
      "Epoch [1105/6000]: 100%|██████████| 17/17 [00:00<00:00, 107.63it/s, loss=4.54]\n"
     ]
    },
    {
     "output_type": "stream",
     "name": "stdout",
     "text": [
      "Epoch [1105/6000]: Train loss: 4.1340, Valid loss: 4.5485\n"
     ]
    },
    {
     "output_type": "stream",
     "name": "stderr",
     "text": [
      "Epoch [1106/6000]: 100%|██████████| 17/17 [00:00<00:00, 89.88it/s, loss=5.07]\n"
     ]
    },
    {
     "output_type": "stream",
     "name": "stdout",
     "text": [
      "Epoch [1106/6000]: Train loss: 4.1348, Valid loss: 3.8760\n"
     ]
    },
    {
     "output_type": "stream",
     "name": "stderr",
     "text": [
      "Epoch [1107/6000]: 100%|██████████| 17/17 [00:00<00:00, 108.90it/s, loss=3.49]\n"
     ]
    },
    {
     "output_type": "stream",
     "name": "stdout",
     "text": [
      "Epoch [1107/6000]: Train loss: 4.1178, Valid loss: 4.1874\n"
     ]
    },
    {
     "output_type": "stream",
     "name": "stderr",
     "text": [
      "Epoch [1108/6000]: 100%|██████████| 17/17 [00:00<00:00, 117.48it/s, loss=4.57]\n"
     ]
    },
    {
     "output_type": "stream",
     "name": "stdout",
     "text": [
      "Epoch [1108/6000]: Train loss: 4.1224, Valid loss: 3.7924\n"
     ]
    },
    {
     "output_type": "stream",
     "name": "stderr",
     "text": [
      "Epoch [1109/6000]: 100%|██████████| 17/17 [00:00<00:00, 115.51it/s, loss=5.11]\n"
     ]
    },
    {
     "output_type": "stream",
     "name": "stdout",
     "text": [
      "Epoch [1109/6000]: Train loss: 4.1221, Valid loss: 3.7965\n"
     ]
    },
    {
     "output_type": "stream",
     "name": "stderr",
     "text": [
      "Epoch [1110/6000]: 100%|██████████| 17/17 [00:00<00:00, 122.45it/s, loss=4.03]\n"
     ]
    },
    {
     "output_type": "stream",
     "name": "stdout",
     "text": [
      "Epoch [1110/6000]: Train loss: 4.1104, Valid loss: 3.9560\n"
     ]
    },
    {
     "output_type": "stream",
     "name": "stderr",
     "text": [
      "Epoch [1111/6000]: 100%|██████████| 17/17 [00:00<00:00, 129.68it/s, loss=3.75]\n"
     ]
    },
    {
     "output_type": "stream",
     "name": "stdout",
     "text": [
      "Epoch [1111/6000]: Train loss: 4.1069, Valid loss: 3.8145\n"
     ]
    },
    {
     "output_type": "stream",
     "name": "stderr",
     "text": [
      "Epoch [1112/6000]: 100%|██████████| 17/17 [00:00<00:00, 120.65it/s, loss=4.82]\n"
     ]
    },
    {
     "output_type": "stream",
     "name": "stdout",
     "text": [
      "Epoch [1112/6000]: Train loss: 4.1081, Valid loss: 4.2759\n"
     ]
    },
    {
     "output_type": "stream",
     "name": "stderr",
     "text": [
      "Epoch [1113/6000]: 100%|██████████| 17/17 [00:00<00:00, 125.66it/s, loss=5.94]\n"
     ]
    },
    {
     "output_type": "stream",
     "name": "stdout",
     "text": [
      "Epoch [1113/6000]: Train loss: 4.1126, Valid loss: 4.3817\n"
     ]
    },
    {
     "output_type": "stream",
     "name": "stderr",
     "text": [
      "Epoch [1114/6000]: 100%|██████████| 17/17 [00:00<00:00, 122.94it/s, loss=3.35]\n"
     ]
    },
    {
     "output_type": "stream",
     "name": "stdout",
     "text": [
      "Epoch [1114/6000]: Train loss: 4.0895, Valid loss: 3.7763\n"
     ]
    },
    {
     "output_type": "stream",
     "name": "stderr",
     "text": [
      "Epoch [1115/6000]: 100%|██████████| 17/17 [00:00<00:00, 115.19it/s, loss=4.12]\n"
     ]
    },
    {
     "output_type": "stream",
     "name": "stdout",
     "text": [
      "Epoch [1115/6000]: Train loss: 4.0916, Valid loss: 3.7852\n"
     ]
    },
    {
     "output_type": "stream",
     "name": "stderr",
     "text": [
      "Epoch [1116/6000]: 100%|██████████| 17/17 [00:00<00:00, 118.90it/s, loss=2.79]\n"
     ]
    },
    {
     "output_type": "stream",
     "name": "stdout",
     "text": [
      "Epoch [1116/6000]: Train loss: 4.0781, Valid loss: 4.1927\n"
     ]
    },
    {
     "output_type": "stream",
     "name": "stderr",
     "text": [
      "Epoch [1117/6000]: 100%|██████████| 17/17 [00:00<00:00, 117.81it/s, loss=3.79]\n"
     ]
    },
    {
     "output_type": "stream",
     "name": "stdout",
     "text": [
      "Epoch [1117/6000]: Train loss: 4.0812, Valid loss: 4.5709\n"
     ]
    },
    {
     "output_type": "stream",
     "name": "stderr",
     "text": [
      "Epoch [1118/6000]: 100%|██████████| 17/17 [00:00<00:00, 134.41it/s, loss=4.01]\n"
     ]
    },
    {
     "output_type": "stream",
     "name": "stdout",
     "text": [
      "Epoch [1118/6000]: Train loss: 4.0800, Valid loss: 3.9140\n"
     ]
    },
    {
     "output_type": "stream",
     "name": "stderr",
     "text": [
      "Epoch [1119/6000]: 100%|██████████| 17/17 [00:00<00:00, 122.75it/s, loss=4.81]\n"
     ]
    },
    {
     "output_type": "stream",
     "name": "stdout",
     "text": [
      "Epoch [1119/6000]: Train loss: 4.0806, Valid loss: 3.9261\n"
     ]
    },
    {
     "output_type": "stream",
     "name": "stderr",
     "text": [
      "Epoch [1120/6000]: 100%|██████████| 17/17 [00:00<00:00, 112.35it/s, loss=4.58]\n"
     ]
    },
    {
     "output_type": "stream",
     "name": "stdout",
     "text": [
      "Epoch [1120/6000]: Train loss: 4.0755, Valid loss: 3.6271\n",
      "Saving model with loss 3.627...\n"
     ]
    },
    {
     "output_type": "stream",
     "name": "stderr",
     "text": [
      "Epoch [1121/6000]: 100%|██████████| 17/17 [00:00<00:00, 106.54it/s, loss=4.36]\n"
     ]
    },
    {
     "output_type": "stream",
     "name": "stdout",
     "text": [
      "Epoch [1121/6000]: Train loss: 4.0695, Valid loss: 3.8583\n"
     ]
    },
    {
     "output_type": "stream",
     "name": "stderr",
     "text": [
      "Epoch [1122/6000]: 100%|██████████| 17/17 [00:00<00:00, 110.89it/s, loss=4.75]\n"
     ]
    },
    {
     "output_type": "stream",
     "name": "stdout",
     "text": [
      "Epoch [1122/6000]: Train loss: 4.0687, Valid loss: 3.9890\n"
     ]
    },
    {
     "output_type": "stream",
     "name": "stderr",
     "text": [
      "Epoch [1123/6000]: 100%|██████████| 17/17 [00:00<00:00, 104.04it/s, loss=3.25]\n"
     ]
    },
    {
     "output_type": "stream",
     "name": "stdout",
     "text": [
      "Epoch [1123/6000]: Train loss: 4.0537, Valid loss: 4.3115\n"
     ]
    },
    {
     "output_type": "stream",
     "name": "stderr",
     "text": [
      "Epoch [1124/6000]: 100%|██████████| 17/17 [00:00<00:00, 114.32it/s, loss=3.78]\n"
     ]
    },
    {
     "output_type": "stream",
     "name": "stdout",
     "text": [
      "Epoch [1124/6000]: Train loss: 4.0538, Valid loss: 3.9300\n"
     ]
    },
    {
     "output_type": "stream",
     "name": "stderr",
     "text": [
      "Epoch [1125/6000]: 100%|██████████| 17/17 [00:00<00:00, 121.40it/s, loss=2.83]\n"
     ]
    },
    {
     "output_type": "stream",
     "name": "stdout",
     "text": [
      "Epoch [1125/6000]: Train loss: 4.0425, Valid loss: 3.6276\n"
     ]
    },
    {
     "output_type": "stream",
     "name": "stderr",
     "text": [
      "Epoch [1126/6000]: 100%|██████████| 17/17 [00:00<00:00, 117.88it/s, loss=2.88]\n"
     ]
    },
    {
     "output_type": "stream",
     "name": "stdout",
     "text": [
      "Epoch [1126/6000]: Train loss: 4.0388, Valid loss: 3.7132\n"
     ]
    },
    {
     "output_type": "stream",
     "name": "stderr",
     "text": [
      "Epoch [1127/6000]: 100%|██████████| 17/17 [00:00<00:00, 115.53it/s, loss=3.97]\n"
     ]
    },
    {
     "output_type": "stream",
     "name": "stdout",
     "text": [
      "Epoch [1127/6000]: Train loss: 4.0440, Valid loss: 3.9036\n"
     ]
    },
    {
     "output_type": "stream",
     "name": "stderr",
     "text": [
      "Epoch [1128/6000]: 100%|██████████| 17/17 [00:00<00:00, 120.61it/s, loss=3.71]\n"
     ]
    },
    {
     "output_type": "stream",
     "name": "stdout",
     "text": [
      "Epoch [1128/6000]: Train loss: 4.0372, Valid loss: 3.7485\n"
     ]
    },
    {
     "output_type": "stream",
     "name": "stderr",
     "text": [
      "Epoch [1129/6000]: 100%|██████████| 17/17 [00:00<00:00, 115.80it/s, loss=4.74]\n"
     ]
    },
    {
     "output_type": "stream",
     "name": "stdout",
     "text": [
      "Epoch [1129/6000]: Train loss: 4.0407, Valid loss: 4.1989\n"
     ]
    },
    {
     "output_type": "stream",
     "name": "stderr",
     "text": [
      "Epoch [1130/6000]: 100%|██████████| 17/17 [00:00<00:00, 117.79it/s, loss=3.27]\n"
     ]
    },
    {
     "output_type": "stream",
     "name": "stdout",
     "text": [
      "Epoch [1130/6000]: Train loss: 4.0261, Valid loss: 3.7922\n"
     ]
    },
    {
     "output_type": "stream",
     "name": "stderr",
     "text": [
      "Epoch [1131/6000]: 100%|██████████| 17/17 [00:00<00:00, 107.65it/s, loss=3.63]\n"
     ]
    },
    {
     "output_type": "stream",
     "name": "stdout",
     "text": [
      "Epoch [1131/6000]: Train loss: 4.0250, Valid loss: 3.8655\n"
     ]
    },
    {
     "output_type": "stream",
     "name": "stderr",
     "text": [
      "Epoch [1132/6000]: 100%|██████████| 17/17 [00:00<00:00, 126.19it/s, loss=3.7]\n"
     ]
    },
    {
     "output_type": "stream",
     "name": "stdout",
     "text": [
      "Epoch [1132/6000]: Train loss: 4.0214, Valid loss: 3.9487\n"
     ]
    },
    {
     "output_type": "stream",
     "name": "stderr",
     "text": [
      "Epoch [1133/6000]: 100%|██████████| 17/17 [00:00<00:00, 123.05it/s, loss=3.65]\n"
     ]
    },
    {
     "output_type": "stream",
     "name": "stdout",
     "text": [
      "Epoch [1133/6000]: Train loss: 4.0172, Valid loss: 3.9399\n"
     ]
    },
    {
     "output_type": "stream",
     "name": "stderr",
     "text": [
      "Epoch [1134/6000]: 100%|██████████| 17/17 [00:00<00:00, 128.23it/s, loss=2.45]\n"
     ]
    },
    {
     "output_type": "stream",
     "name": "stdout",
     "text": [
      "Epoch [1134/6000]: Train loss: 4.0047, Valid loss: 4.0428\n"
     ]
    },
    {
     "output_type": "stream",
     "name": "stderr",
     "text": [
      "Epoch [1135/6000]: 100%|██████████| 17/17 [00:00<00:00, 119.42it/s, loss=3.88]\n"
     ]
    },
    {
     "output_type": "stream",
     "name": "stdout",
     "text": [
      "Epoch [1135/6000]: Train loss: 4.0110, Valid loss: 4.1896\n"
     ]
    },
    {
     "output_type": "stream",
     "name": "stderr",
     "text": [
      "Epoch [1136/6000]: 100%|██████████| 17/17 [00:00<00:00, 119.15it/s, loss=4.09]\n"
     ]
    },
    {
     "output_type": "stream",
     "name": "stdout",
     "text": [
      "Epoch [1136/6000]: Train loss: 4.0089, Valid loss: 3.8460\n"
     ]
    },
    {
     "output_type": "stream",
     "name": "stderr",
     "text": [
      "Epoch [1137/6000]: 100%|██████████| 17/17 [00:00<00:00, 121.91it/s, loss=4.02]\n"
     ]
    },
    {
     "output_type": "stream",
     "name": "stdout",
     "text": [
      "Epoch [1137/6000]: Train loss: 4.0041, Valid loss: 3.7167\n"
     ]
    },
    {
     "output_type": "stream",
     "name": "stderr",
     "text": [
      "Epoch [1138/6000]: 100%|██████████| 17/17 [00:00<00:00, 114.25it/s, loss=2.92]\n"
     ]
    },
    {
     "output_type": "stream",
     "name": "stdout",
     "text": [
      "Epoch [1138/6000]: Train loss: 3.9920, Valid loss: 3.6947\n"
     ]
    },
    {
     "output_type": "stream",
     "name": "stderr",
     "text": [
      "Epoch [1139/6000]: 100%|██████████| 17/17 [00:00<00:00, 121.30it/s, loss=4.01]\n"
     ]
    },
    {
     "output_type": "stream",
     "name": "stdout",
     "text": [
      "Epoch [1139/6000]: Train loss: 3.9962, Valid loss: 3.7044\n"
     ]
    },
    {
     "output_type": "stream",
     "name": "stderr",
     "text": [
      "Epoch [1140/6000]: 100%|██████████| 17/17 [00:00<00:00, 117.83it/s, loss=5.25]\n"
     ]
    },
    {
     "output_type": "stream",
     "name": "stdout",
     "text": [
      "Epoch [1140/6000]: Train loss: 4.0015, Valid loss: 3.9941\n"
     ]
    },
    {
     "output_type": "stream",
     "name": "stderr",
     "text": [
      "Epoch [1141/6000]: 100%|██████████| 17/17 [00:00<00:00, 97.01it/s, loss=3.39] \n"
     ]
    },
    {
     "output_type": "stream",
     "name": "stdout",
     "text": [
      "Epoch [1141/6000]: Train loss: 3.9848, Valid loss: 3.6944\n"
     ]
    },
    {
     "output_type": "stream",
     "name": "stderr",
     "text": [
      "Epoch [1142/6000]: 100%|██████████| 17/17 [00:00<00:00, 108.24it/s, loss=3.42]\n"
     ]
    },
    {
     "output_type": "stream",
     "name": "stdout",
     "text": [
      "Epoch [1142/6000]: Train loss: 3.9800, Valid loss: 4.1182\n"
     ]
    },
    {
     "output_type": "stream",
     "name": "stderr",
     "text": [
      "Epoch [1143/6000]: 100%|██████████| 17/17 [00:00<00:00, 130.15it/s, loss=3.4]\n"
     ]
    },
    {
     "output_type": "stream",
     "name": "stdout",
     "text": [
      "Epoch [1143/6000]: Train loss: 3.9759, Valid loss: 3.9420\n"
     ]
    },
    {
     "output_type": "stream",
     "name": "stderr",
     "text": [
      "Epoch [1144/6000]: 100%|██████████| 17/17 [00:00<00:00, 102.22it/s, loss=3.68]\n"
     ]
    },
    {
     "output_type": "stream",
     "name": "stdout",
     "text": [
      "Epoch [1144/6000]: Train loss: 3.9753, Valid loss: 4.3507\n"
     ]
    },
    {
     "output_type": "stream",
     "name": "stderr",
     "text": [
      "Epoch [1145/6000]: 100%|██████████| 17/17 [00:00<00:00, 102.41it/s, loss=5.33]\n"
     ]
    },
    {
     "output_type": "stream",
     "name": "stdout",
     "text": [
      "Epoch [1145/6000]: Train loss: 3.9829, Valid loss: 3.9549\n"
     ]
    },
    {
     "output_type": "stream",
     "name": "stderr",
     "text": [
      "Epoch [1146/6000]: 100%|██████████| 17/17 [00:00<00:00, 106.03it/s, loss=5.32]\n"
     ]
    },
    {
     "output_type": "stream",
     "name": "stdout",
     "text": [
      "Epoch [1146/6000]: Train loss: 3.9785, Valid loss: 3.8070\n"
     ]
    },
    {
     "output_type": "stream",
     "name": "stderr",
     "text": [
      "Epoch [1147/6000]: 100%|██████████| 17/17 [00:00<00:00, 112.76it/s, loss=4.68]\n"
     ]
    },
    {
     "output_type": "stream",
     "name": "stdout",
     "text": [
      "Epoch [1147/6000]: Train loss: 3.9701, Valid loss: 3.8983\n"
     ]
    },
    {
     "output_type": "stream",
     "name": "stderr",
     "text": [
      "Epoch [1148/6000]: 100%|██████████| 17/17 [00:00<00:00, 111.88it/s, loss=3.99]\n"
     ]
    },
    {
     "output_type": "stream",
     "name": "stdout",
     "text": [
      "Epoch [1148/6000]: Train loss: 3.9620, Valid loss: 3.5092\n",
      "Saving model with loss 3.509...\n"
     ]
    },
    {
     "output_type": "stream",
     "name": "stderr",
     "text": [
      "Epoch [1149/6000]: 100%|██████████| 17/17 [00:00<00:00, 111.88it/s, loss=3.16]\n"
     ]
    },
    {
     "output_type": "stream",
     "name": "stdout",
     "text": [
      "Epoch [1149/6000]: Train loss: 3.9519, Valid loss: 3.9432\n"
     ]
    },
    {
     "output_type": "stream",
     "name": "stderr",
     "text": [
      "Epoch [1150/6000]: 100%|██████████| 17/17 [00:00<00:00, 107.50it/s, loss=3.06]\n"
     ]
    },
    {
     "output_type": "stream",
     "name": "stdout",
     "text": [
      "Epoch [1150/6000]: Train loss: 3.9461, Valid loss: 4.0507\n"
     ]
    },
    {
     "output_type": "stream",
     "name": "stderr",
     "text": [
      "Epoch [1151/6000]: 100%|██████████| 17/17 [00:00<00:00, 115.34it/s, loss=3.64]\n"
     ]
    },
    {
     "output_type": "stream",
     "name": "stdout",
     "text": [
      "Epoch [1151/6000]: Train loss: 3.9464, Valid loss: 3.9006\n"
     ]
    },
    {
     "output_type": "stream",
     "name": "stderr",
     "text": [
      "Epoch [1152/6000]: 100%|██████████| 17/17 [00:00<00:00, 120.46it/s, loss=3.26]\n"
     ]
    },
    {
     "output_type": "stream",
     "name": "stdout",
     "text": [
      "Epoch [1152/6000]: Train loss: 3.9395, Valid loss: 3.8937\n"
     ]
    },
    {
     "output_type": "stream",
     "name": "stderr",
     "text": [
      "Epoch [1153/6000]: 100%|██████████| 17/17 [00:00<00:00, 112.71it/s, loss=4.05]\n"
     ]
    },
    {
     "output_type": "stream",
     "name": "stdout",
     "text": [
      "Epoch [1153/6000]: Train loss: 3.9423, Valid loss: 3.6135\n"
     ]
    },
    {
     "output_type": "stream",
     "name": "stderr",
     "text": [
      "Epoch [1154/6000]: 100%|██████████| 17/17 [00:00<00:00, 119.91it/s, loss=5.12]\n"
     ]
    },
    {
     "output_type": "stream",
     "name": "stdout",
     "text": [
      "Epoch [1154/6000]: Train loss: 3.9458, Valid loss: 3.6140\n"
     ]
    },
    {
     "output_type": "stream",
     "name": "stderr",
     "text": [
      "Epoch [1155/6000]: 100%|██████████| 17/17 [00:00<00:00, 104.03it/s, loss=3.78]\n"
     ]
    },
    {
     "output_type": "stream",
     "name": "stdout",
     "text": [
      "Epoch [1155/6000]: Train loss: 3.9319, Valid loss: 3.8928\n"
     ]
    },
    {
     "output_type": "stream",
     "name": "stderr",
     "text": [
      "Epoch [1156/6000]: 100%|██████████| 17/17 [00:00<00:00, 112.30it/s, loss=3.8]\n"
     ]
    },
    {
     "output_type": "stream",
     "name": "stdout",
     "text": [
      "Epoch [1156/6000]: Train loss: 3.9284, Valid loss: 4.2856\n"
     ]
    },
    {
     "output_type": "stream",
     "name": "stderr",
     "text": [
      "Epoch [1167/6000]: 100%|██████████| 17/17 [00:00<00:00, 109.56it/s, loss=3.48]\n"
     ]
    },
    {
     "output_type": "stream",
     "name": "stdout",
     "text": [
      "Epoch [1167/6000]: Train loss: 3.8829, Valid loss: 3.7707\n"
     ]
    },
    {
     "output_type": "stream",
     "name": "stderr",
     "text": [
      "Epoch [1168/6000]: 100%|██████████| 17/17 [00:00<00:00, 115.00it/s, loss=3.28]\n"
     ]
    },
    {
     "output_type": "stream",
     "name": "stdout",
     "text": [
      "Epoch [1168/6000]: Train loss: 3.8778, Valid loss: 3.8407\n"
     ]
    },
    {
     "output_type": "stream",
     "name": "stderr",
     "text": [
      "Epoch [1169/6000]: 100%|██████████| 17/17 [00:00<00:00, 114.34it/s, loss=4.86]\n"
     ]
    },
    {
     "output_type": "stream",
     "name": "stdout",
     "text": [
      "Epoch [1169/6000]: Train loss: 3.8869, Valid loss: 3.5311\n"
     ]
    },
    {
     "output_type": "stream",
     "name": "stderr",
     "text": [
      "Epoch [1170/6000]: 100%|██████████| 17/17 [00:00<00:00, 110.73it/s, loss=4.6]\n"
     ]
    },
    {
     "output_type": "stream",
     "name": "stdout",
     "text": [
      "Epoch [1170/6000]: Train loss: 3.8800, Valid loss: 4.2381\n"
     ]
    },
    {
     "output_type": "stream",
     "name": "stderr",
     "text": [
      "Epoch [1171/6000]: 100%|██████████| 17/17 [00:00<00:00, 119.89it/s, loss=4.12]\n"
     ]
    },
    {
     "output_type": "stream",
     "name": "stdout",
     "text": [
      "Epoch [1171/6000]: Train loss: 3.8726, Valid loss: 3.7983\n"
     ]
    },
    {
     "output_type": "stream",
     "name": "stderr",
     "text": [
      "Epoch [1172/6000]: 100%|██████████| 17/17 [00:00<00:00, 112.67it/s, loss=3.81]\n"
     ]
    },
    {
     "output_type": "stream",
     "name": "stdout",
     "text": [
      "Epoch [1172/6000]: Train loss: 3.8664, Valid loss: 3.7677\n"
     ]
    },
    {
     "output_type": "stream",
     "name": "stderr",
     "text": [
      "Epoch [1173/6000]: 100%|██████████| 17/17 [00:00<00:00, 112.43it/s, loss=4.73]\n"
     ]
    },
    {
     "output_type": "stream",
     "name": "stdout",
     "text": [
      "Epoch [1173/6000]: Train loss: 3.8697, Valid loss: 3.5711\n"
     ]
    },
    {
     "output_type": "stream",
     "name": "stderr",
     "text": [
      "Epoch [1174/6000]: 100%|██████████| 17/17 [00:00<00:00, 111.49it/s, loss=3.36]\n"
     ]
    },
    {
     "output_type": "stream",
     "name": "stdout",
     "text": [
      "Epoch [1174/6000]: Train loss: 3.8552, Valid loss: 3.9641\n"
     ]
    },
    {
     "output_type": "stream",
     "name": "stderr",
     "text": [
      "Epoch [1175/6000]: 100%|██████████| 17/17 [00:00<00:00, 107.72it/s, loss=3.7]\n"
     ]
    },
    {
     "output_type": "stream",
     "name": "stdout",
     "text": [
      "Epoch [1175/6000]: Train loss: 3.8537, Valid loss: 3.7519\n"
     ]
    },
    {
     "output_type": "stream",
     "name": "stderr",
     "text": [
      "Epoch [1176/6000]: 100%|██████████| 17/17 [00:00<00:00, 96.11it/s, loss=3.54]\n"
     ]
    },
    {
     "output_type": "stream",
     "name": "stdout",
     "text": [
      "Epoch [1176/6000]: Train loss: 3.8488, Valid loss: 3.7724\n"
     ]
    },
    {
     "output_type": "stream",
     "name": "stderr",
     "text": [
      "Epoch [1177/6000]: 100%|██████████| 17/17 [00:00<00:00, 104.56it/s, loss=4.02]\n"
     ]
    },
    {
     "output_type": "stream",
     "name": "stdout",
     "text": [
      "Epoch [1177/6000]: Train loss: 3.8485, Valid loss: 3.8078\n"
     ]
    },
    {
     "output_type": "stream",
     "name": "stderr",
     "text": [
      "Epoch [1178/6000]: 100%|██████████| 17/17 [00:00<00:00, 110.02it/s, loss=3.99]\n"
     ]
    },
    {
     "output_type": "stream",
     "name": "stdout",
     "text": [
      "Epoch [1178/6000]: Train loss: 3.8447, Valid loss: 4.1375\n"
     ]
    },
    {
     "output_type": "stream",
     "name": "stderr",
     "text": [
      "Epoch [1179/6000]: 100%|██████████| 17/17 [00:00<00:00, 110.91it/s, loss=3.42]\n"
     ]
    },
    {
     "output_type": "stream",
     "name": "stdout",
     "text": [
      "Epoch [1179/6000]: Train loss: 3.8359, Valid loss: 3.7153\n"
     ]
    },
    {
     "output_type": "stream",
     "name": "stderr",
     "text": [
      "Epoch [1180/6000]: 100%|██████████| 17/17 [00:00<00:00, 108.77it/s, loss=3.07]\n"
     ]
    },
    {
     "output_type": "stream",
     "name": "stdout",
     "text": [
      "Epoch [1180/6000]: Train loss: 3.8294, Valid loss: 4.0029\n"
     ]
    },
    {
     "output_type": "stream",
     "name": "stderr",
     "text": [
      "Epoch [1181/6000]: 100%|██████████| 17/17 [00:00<00:00, 112.19it/s, loss=4.36]\n"
     ]
    },
    {
     "output_type": "stream",
     "name": "stdout",
     "text": [
      "Epoch [1181/6000]: Train loss: 3.8351, Valid loss: 4.6625\n"
     ]
    },
    {
     "output_type": "stream",
     "name": "stderr",
     "text": [
      "Epoch [1182/6000]: 100%|██████████| 17/17 [00:00<00:00, 106.97it/s, loss=3.29]\n"
     ]
    },
    {
     "output_type": "stream",
     "name": "stdout",
     "text": [
      "Epoch [1182/6000]: Train loss: 3.8237, Valid loss: 3.4823\n",
      "Saving model with loss 3.482...\n"
     ]
    },
    {
     "output_type": "stream",
     "name": "stderr",
     "text": [
      "Epoch [1183/6000]: 100%|██████████| 17/17 [00:00<00:00, 96.09it/s, loss=3.21]\n"
     ]
    },
    {
     "output_type": "stream",
     "name": "stdout",
     "text": [
      "Epoch [1183/6000]: Train loss: 3.8194, Valid loss: 3.5391\n"
     ]
    },
    {
     "output_type": "stream",
     "name": "stderr",
     "text": [
      "Epoch [1184/6000]: 100%|██████████| 17/17 [00:00<00:00, 120.39it/s, loss=4.28]\n"
     ]
    },
    {
     "output_type": "stream",
     "name": "stdout",
     "text": [
      "Epoch [1184/6000]: Train loss: 3.8229, Valid loss: 3.9396\n"
     ]
    },
    {
     "output_type": "stream",
     "name": "stderr",
     "text": [
      "Epoch [1185/6000]: 100%|██████████| 17/17 [00:00<00:00, 116.98it/s, loss=3.21]\n"
     ]
    },
    {
     "output_type": "stream",
     "name": "stdout",
     "text": [
      "Epoch [1185/6000]: Train loss: 3.8115, Valid loss: 3.6399\n"
     ]
    },
    {
     "output_type": "stream",
     "name": "stderr",
     "text": [
      "Epoch [1186/6000]: 100%|██████████| 17/17 [00:00<00:00, 116.72it/s, loss=3.7]\n"
     ]
    },
    {
     "output_type": "stream",
     "name": "stdout",
     "text": [
      "Epoch [1186/6000]: Train loss: 3.8110, Valid loss: 3.5948\n"
     ]
    },
    {
     "output_type": "stream",
     "name": "stderr",
     "text": [
      "Epoch [1187/6000]: 100%|██████████| 17/17 [00:00<00:00, 107.73it/s, loss=4.08]\n"
     ]
    },
    {
     "output_type": "stream",
     "name": "stdout",
     "text": [
      "Epoch [1187/6000]: Train loss: 3.8106, Valid loss: 3.9909\n"
     ]
    },
    {
     "output_type": "stream",
     "name": "stderr",
     "text": [
      "Epoch [1188/6000]: 100%|██████████| 17/17 [00:00<00:00, 110.74it/s, loss=3.86]\n"
     ]
    },
    {
     "output_type": "stream",
     "name": "stdout",
     "text": [
      "Epoch [1188/6000]: Train loss: 3.8043, Valid loss: 3.7771\n"
     ]
    },
    {
     "output_type": "stream",
     "name": "stderr",
     "text": [
      "Epoch [1189/6000]: 100%|██████████| 17/17 [00:00<00:00, 107.10it/s, loss=3.99]\n"
     ]
    },
    {
     "output_type": "stream",
     "name": "stdout",
     "text": [
      "Epoch [1189/6000]: Train loss: 3.8024, Valid loss: 3.8183\n"
     ]
    },
    {
     "output_type": "stream",
     "name": "stderr",
     "text": [
      "Epoch [1190/6000]: 100%|██████████| 17/17 [00:00<00:00, 111.09it/s, loss=3.7]\n"
     ]
    },
    {
     "output_type": "stream",
     "name": "stdout",
     "text": [
      "Epoch [1190/6000]: Train loss: 3.7956, Valid loss: 3.6484\n"
     ]
    },
    {
     "output_type": "stream",
     "name": "stderr",
     "text": [
      "Epoch [1191/6000]: 100%|██████████| 17/17 [00:00<00:00, 117.60it/s, loss=3.41]\n"
     ]
    },
    {
     "output_type": "stream",
     "name": "stdout",
     "text": [
      "Epoch [1191/6000]: Train loss: 3.7897, Valid loss: 3.4931\n"
     ]
    },
    {
     "output_type": "stream",
     "name": "stderr",
     "text": [
      "Epoch [1192/6000]: 100%|██████████| 17/17 [00:00<00:00, 125.21it/s, loss=3.81]\n"
     ]
    },
    {
     "output_type": "stream",
     "name": "stdout",
     "text": [
      "Epoch [1192/6000]: Train loss: 3.7886, Valid loss: 3.6309\n"
     ]
    },
    {
     "output_type": "stream",
     "name": "stderr",
     "text": [
      "Epoch [1193/6000]: 100%|██████████| 17/17 [00:00<00:00, 125.85it/s, loss=3.31]\n"
     ]
    },
    {
     "output_type": "stream",
     "name": "stdout",
     "text": [
      "Epoch [1193/6000]: Train loss: 3.7812, Valid loss: 3.5931\n"
     ]
    },
    {
     "output_type": "stream",
     "name": "stderr",
     "text": [
      "Epoch [1194/6000]: 100%|██████████| 17/17 [00:00<00:00, 133.36it/s, loss=3.43]\n"
     ]
    },
    {
     "output_type": "stream",
     "name": "stdout",
     "text": [
      "Epoch [1194/6000]: Train loss: 3.7785, Valid loss: 3.6703\n"
     ]
    },
    {
     "output_type": "stream",
     "name": "stderr",
     "text": [
      "Epoch [1195/6000]: 100%|██████████| 17/17 [00:00<00:00, 135.03it/s, loss=2.97]\n"
     ]
    },
    {
     "output_type": "stream",
     "name": "stdout",
     "text": [
      "Epoch [1195/6000]: Train loss: 3.7711, Valid loss: 3.7731\n"
     ]
    },
    {
     "output_type": "stream",
     "name": "stderr",
     "text": [
      "Epoch [1196/6000]: 100%|██████████| 17/17 [00:00<00:00, 107.00it/s, loss=2.82]\n"
     ]
    },
    {
     "output_type": "stream",
     "name": "stdout",
     "text": [
      "Epoch [1196/6000]: Train loss: 3.7664, Valid loss: 3.4808\n",
      "Saving model with loss 3.481...\n"
     ]
    },
    {
     "output_type": "stream",
     "name": "stderr",
     "text": [
      "Epoch [1197/6000]: 100%|██████████| 17/17 [00:00<00:00, 120.76it/s, loss=4.53]\n"
     ]
    },
    {
     "output_type": "stream",
     "name": "stdout",
     "text": [
      "Epoch [1197/6000]: Train loss: 3.7745, Valid loss: 3.7286\n"
     ]
    },
    {
     "output_type": "stream",
     "name": "stderr",
     "text": [
      "Epoch [1198/6000]: 100%|██████████| 17/17 [00:00<00:00, 121.74it/s, loss=3.66]\n"
     ]
    },
    {
     "output_type": "stream",
     "name": "stdout",
     "text": [
      "Epoch [1198/6000]: Train loss: 3.7644, Valid loss: 3.6879\n"
     ]
    },
    {
     "output_type": "stream",
     "name": "stderr",
     "text": [
      "Epoch [1199/6000]: 100%|██████████| 17/17 [00:00<00:00, 112.84it/s, loss=3.04]\n"
     ]
    },
    {
     "output_type": "stream",
     "name": "stdout",
     "text": [
      "Epoch [1199/6000]: Train loss: 3.7565, Valid loss: 3.4005\n",
      "Saving model with loss 3.401...\n"
     ]
    },
    {
     "output_type": "stream",
     "name": "stderr",
     "text": [
      "Epoch [1200/6000]: 100%|██████████| 17/17 [00:00<00:00, 125.14it/s, loss=3.67]\n"
     ]
    },
    {
     "output_type": "stream",
     "name": "stdout",
     "text": [
      "Epoch [1200/6000]: Train loss: 3.7574, Valid loss: 3.5512\n"
     ]
    },
    {
     "output_type": "stream",
     "name": "stderr",
     "text": [
      "Epoch [1201/6000]: 100%|██████████| 17/17 [00:00<00:00, 120.99it/s, loss=3.93]\n"
     ]
    },
    {
     "output_type": "stream",
     "name": "stdout",
     "text": [
      "Epoch [1201/6000]: Train loss: 3.7549, Valid loss: 3.4546\n"
     ]
    },
    {
     "output_type": "stream",
     "name": "stderr",
     "text": [
      "Epoch [1202/6000]: 100%|██████████| 17/17 [00:00<00:00, 117.13it/s, loss=3.17]\n"
     ]
    },
    {
     "output_type": "stream",
     "name": "stdout",
     "text": [
      "Epoch [1202/6000]: Train loss: 3.7454, Valid loss: 3.7047\n"
     ]
    },
    {
     "output_type": "stream",
     "name": "stderr",
     "text": [
      "Epoch [1203/6000]: 100%|██████████| 17/17 [00:00<00:00, 112.01it/s, loss=3.5]\n"
     ]
    },
    {
     "output_type": "stream",
     "name": "stdout",
     "text": [
      "Epoch [1203/6000]: Train loss: 3.7443, Valid loss: 3.5268\n"
     ]
    },
    {
     "output_type": "stream",
     "name": "stderr",
     "text": [
      "Epoch [1204/6000]: 100%|██████████| 17/17 [00:00<00:00, 101.56it/s, loss=3.39]\n"
     ]
    },
    {
     "output_type": "stream",
     "name": "stdout",
     "text": [
      "Epoch [1204/6000]: Train loss: 3.7396, Valid loss: 3.4841\n"
     ]
    },
    {
     "output_type": "stream",
     "name": "stderr",
     "text": [
      "Epoch [1205/6000]: 100%|██████████| 17/17 [00:00<00:00, 97.37it/s, loss=3.53] \n"
     ]
    },
    {
     "output_type": "stream",
     "name": "stdout",
     "text": [
      "Epoch [1205/6000]: Train loss: 3.7366, Valid loss: 3.4327\n"
     ]
    },
    {
     "output_type": "stream",
     "name": "stderr",
     "text": [
      "Epoch [1206/6000]: 100%|██████████| 17/17 [00:00<00:00, 110.59it/s, loss=3.26]\n"
     ]
    },
    {
     "output_type": "stream",
     "name": "stdout",
     "text": [
      "Epoch [1206/6000]: Train loss: 3.7308, Valid loss: 3.4674\n"
     ]
    },
    {
     "output_type": "stream",
     "name": "stderr",
     "text": [
      "Epoch [1207/6000]: 100%|██████████| 17/17 [00:00<00:00, 118.95it/s, loss=4.84]\n"
     ]
    },
    {
     "output_type": "stream",
     "name": "stdout",
     "text": [
      "Epoch [1207/6000]: Train loss: 3.7385, Valid loss: 3.5865\n"
     ]
    },
    {
     "output_type": "stream",
     "name": "stderr",
     "text": [
      "Epoch [1208/6000]: 100%|██████████| 17/17 [00:00<00:00, 120.12it/s, loss=3.34]\n"
     ]
    },
    {
     "output_type": "stream",
     "name": "stdout",
     "text": [
      "Epoch [1208/6000]: Train loss: 3.7236, Valid loss: 3.5005\n"
     ]
    },
    {
     "output_type": "stream",
     "name": "stderr",
     "text": [
      "Epoch [1209/6000]: 100%|██████████| 17/17 [00:00<00:00, 116.18it/s, loss=3.17]\n"
     ]
    },
    {
     "output_type": "stream",
     "name": "stdout",
     "text": [
      "Epoch [1209/6000]: Train loss: 3.7188, Valid loss: 3.3820\n",
      "Saving model with loss 3.382...\n"
     ]
    },
    {
     "output_type": "stream",
     "name": "stderr",
     "text": [
      "Epoch [1210/6000]: 100%|██████████| 17/17 [00:00<00:00, 105.29it/s, loss=3.22]\n"
     ]
    },
    {
     "output_type": "stream",
     "name": "stdout",
     "text": [
      "Epoch [1210/6000]: Train loss: 3.7153, Valid loss: 3.4718\n"
     ]
    },
    {
     "output_type": "stream",
     "name": "stderr",
     "text": [
      "Epoch [1211/6000]: 100%|██████████| 17/17 [00:00<00:00, 119.72it/s, loss=3.23]\n"
     ]
    },
    {
     "output_type": "stream",
     "name": "stdout",
     "text": [
      "Epoch [1211/6000]: Train loss: 3.7116, Valid loss: 3.4652\n"
     ]
    },
    {
     "output_type": "stream",
     "name": "stderr",
     "text": [
      "Epoch [1212/6000]: 100%|██████████| 17/17 [00:00<00:00, 115.84it/s, loss=2.96]\n"
     ]
    },
    {
     "output_type": "stream",
     "name": "stdout",
     "text": [
      "Epoch [1212/6000]: Train loss: 3.7057, Valid loss: 3.7164\n"
     ]
    },
    {
     "output_type": "stream",
     "name": "stderr",
     "text": [
      "Epoch [1213/6000]: 100%|██████████| 17/17 [00:00<00:00, 124.13it/s, loss=3.07]\n"
     ]
    },
    {
     "output_type": "stream",
     "name": "stdout",
     "text": [
      "Epoch [1213/6000]: Train loss: 3.7033, Valid loss: 3.4930\n"
     ]
    },
    {
     "output_type": "stream",
     "name": "stderr",
     "text": [
      "Epoch [1214/6000]: 100%|██████████| 17/17 [00:00<00:00, 114.72it/s, loss=5.19]\n"
     ]
    },
    {
     "output_type": "stream",
     "name": "stdout",
     "text": [
      "Epoch [1214/6000]: Train loss: 3.7142, Valid loss: 3.5313\n"
     ]
    },
    {
     "output_type": "stream",
     "name": "stderr",
     "text": [
      "Epoch [1215/6000]: 100%|██████████| 17/17 [00:00<00:00, 116.34it/s, loss=3.53]\n"
     ]
    },
    {
     "output_type": "stream",
     "name": "stdout",
     "text": [
      "Epoch [1215/6000]: Train loss: 3.6986, Valid loss: 3.7647\n"
     ]
    },
    {
     "output_type": "stream",
     "name": "stderr",
     "text": [
      "Epoch [1216/6000]: 100%|██████████| 17/17 [00:00<00:00, 123.75it/s, loss=3.47]\n"
     ]
    },
    {
     "output_type": "stream",
     "name": "stdout",
     "text": [
      "Epoch [1216/6000]: Train loss: 3.6948, Valid loss: 3.4996\n"
     ]
    },
    {
     "output_type": "stream",
     "name": "stderr",
     "text": [
      "Epoch [1217/6000]: 100%|██████████| 17/17 [00:00<00:00, 113.61it/s, loss=4.4]\n"
     ]
    },
    {
     "output_type": "stream",
     "name": "stdout",
     "text": [
      "Epoch [1217/6000]: Train loss: 3.6971, Valid loss: 3.6983\n"
     ]
    },
    {
     "output_type": "stream",
     "name": "stderr",
     "text": [
      "Epoch [1218/6000]: 100%|██████████| 17/17 [00:00<00:00, 120.32it/s, loss=3.52]\n"
     ]
    },
    {
     "output_type": "stream",
     "name": "stdout",
     "text": [
      "Epoch [1218/6000]: Train loss: 3.6869, Valid loss: 3.5978\n"
     ]
    },
    {
     "output_type": "stream",
     "name": "stderr",
     "text": [
      "Epoch [1219/6000]: 100%|██████████| 17/17 [00:00<00:00, 123.87it/s, loss=3.42]\n"
     ]
    },
    {
     "output_type": "stream",
     "name": "stdout",
     "text": [
      "Epoch [1219/6000]: Train loss: 3.6824, Valid loss: 3.4803\n"
     ]
    },
    {
     "output_type": "stream",
     "name": "stderr",
     "text": [
      "Epoch [1220/6000]: 100%|██████████| 17/17 [00:00<00:00, 119.03it/s, loss=3.11]\n"
     ]
    },
    {
     "output_type": "stream",
     "name": "stdout",
     "text": [
      "Epoch [1220/6000]: Train loss: 3.6767, Valid loss: 3.5294\n"
     ]
    },
    {
     "output_type": "stream",
     "name": "stderr",
     "text": [
      "Epoch [1221/6000]: 100%|██████████| 17/17 [00:00<00:00, 111.32it/s, loss=3.86]\n"
     ]
    },
    {
     "output_type": "stream",
     "name": "stdout",
     "text": [
      "Epoch [1221/6000]: Train loss: 3.6778, Valid loss: 3.4437\n"
     ]
    },
    {
     "output_type": "stream",
     "name": "stderr",
     "text": [
      "Epoch [1222/6000]: 100%|██████████| 17/17 [00:00<00:00, 132.80it/s, loss=3.47]\n"
     ]
    },
    {
     "output_type": "stream",
     "name": "stdout",
     "text": [
      "Epoch [1222/6000]: Train loss: 3.6711, Valid loss: 3.9228\n"
     ]
    },
    {
     "output_type": "stream",
     "name": "stderr",
     "text": [
      "Epoch [1223/6000]: 100%|██████████| 17/17 [00:00<00:00, 137.46it/s, loss=3.39]\n"
     ]
    },
    {
     "output_type": "stream",
     "name": "stdout",
     "text": [
      "Epoch [1223/6000]: Train loss: 3.6669, Valid loss: 3.5513\n"
     ]
    },
    {
     "output_type": "stream",
     "name": "stderr",
     "text": [
      "Epoch [1224/6000]: 100%|██████████| 17/17 [00:00<00:00, 130.91it/s, loss=2.59]\n"
     ]
    },
    {
     "output_type": "stream",
     "name": "stdout",
     "text": [
      "Epoch [1224/6000]: Train loss: 3.6572, Valid loss: 3.3640\n",
      "Saving model with loss 3.364...\n"
     ]
    },
    {
     "output_type": "stream",
     "name": "stderr",
     "text": [
      "Epoch [1225/6000]: 100%|██████████| 17/17 [00:00<00:00, 118.05it/s, loss=2.93]\n"
     ]
    },
    {
     "output_type": "stream",
     "name": "stdout",
     "text": [
      "Epoch [1225/6000]: Train loss: 3.6558, Valid loss: 4.1417\n"
     ]
    },
    {
     "output_type": "stream",
     "name": "stderr",
     "text": [
      "Epoch [1226/6000]: 100%|██████████| 17/17 [00:00<00:00, 114.23it/s, loss=2.91]\n"
     ]
    },
    {
     "output_type": "stream",
     "name": "stdout",
     "text": [
      "Epoch [1226/6000]: Train loss: 3.6517, Valid loss: 3.4963\n"
     ]
    },
    {
     "output_type": "stream",
     "name": "stderr",
     "text": [
      "Epoch [1227/6000]: 100%|██████████| 17/17 [00:00<00:00, 117.24it/s, loss=3.85]\n"
     ]
    },
    {
     "output_type": "stream",
     "name": "stdout",
     "text": [
      "Epoch [1227/6000]: Train loss: 3.6561, Valid loss: 3.5910\n"
     ]
    },
    {
     "output_type": "stream",
     "name": "stderr",
     "text": [
      "Epoch [1228/6000]: 100%|██████████| 17/17 [00:00<00:00, 114.69it/s, loss=3.78]\n"
     ]
    },
    {
     "output_type": "stream",
     "name": "stdout",
     "text": [
      "Epoch [1228/6000]: Train loss: 3.6507, Valid loss: 3.2848\n",
      "Saving model with loss 3.285...\n"
     ]
    },
    {
     "output_type": "stream",
     "name": "stderr",
     "text": [
      "Epoch [1229/6000]: 100%|██████████| 17/17 [00:00<00:00, 99.85it/s, loss=2.71] \n"
     ]
    },
    {
     "output_type": "stream",
     "name": "stdout",
     "text": [
      "Epoch [1229/6000]: Train loss: 3.6389, Valid loss: 3.7311\n"
     ]
    },
    {
     "output_type": "stream",
     "name": "stderr",
     "text": [
      "Epoch [1230/6000]: 100%|██████████| 17/17 [00:00<00:00, 105.43it/s, loss=4.46]\n"
     ]
    },
    {
     "output_type": "stream",
     "name": "stdout",
     "text": [
      "Epoch [1230/6000]: Train loss: 3.6478, Valid loss: 3.5820\n"
     ]
    },
    {
     "output_type": "stream",
     "name": "stderr",
     "text": [
      "Epoch [1231/6000]: 100%|██████████| 17/17 [00:00<00:00, 111.86it/s, loss=3.81]\n"
     ]
    },
    {
     "output_type": "stream",
     "name": "stdout",
     "text": [
      "Epoch [1231/6000]: Train loss: 3.6394, Valid loss: 3.3665\n"
     ]
    },
    {
     "output_type": "stream",
     "name": "stderr",
     "text": [
      "\r  0%|          | 0/17 [00:00<?, ?it/s]"
     ]
    },
    {
     "output_type": "stream",
     "name": "stdout",
     "text": [
      "Epoch [1234/6000]: Train loss: 3.6290, Valid loss: 3.3575\n"
     ]
    },
    {
     "output_type": "stream",
     "name": "stderr",
     "text": [
      "Epoch [1235/6000]: 100%|██████████| 17/17 [00:00<00:00, 111.85it/s, loss=2.61]\n"
     ]
    },
    {
     "output_type": "stream",
     "name": "stdout",
     "text": [
      "Epoch [1235/6000]: Train loss: 3.6156, Valid loss: 3.8721\n"
     ]
    },
    {
     "output_type": "stream",
     "name": "stderr",
     "text": [
      "Epoch [1236/6000]: 100%|██████████| 17/17 [00:00<00:00, 119.62it/s, loss=2.55]\n"
     ]
    },
    {
     "output_type": "stream",
     "name": "stdout",
     "text": [
      "Epoch [1236/6000]: Train loss: 3.6115, Valid loss: 3.4739\n"
     ]
    },
    {
     "output_type": "stream",
     "name": "stderr",
     "text": [
      "Epoch [1237/6000]: 100%|██████████| 17/17 [00:00<00:00, 127.90it/s, loss=3.2]\n"
     ]
    },
    {
     "output_type": "stream",
     "name": "stdout",
     "text": [
      "Epoch [1237/6000]: Train loss: 3.6115, Valid loss: 3.2889\n"
     ]
    },
    {
     "output_type": "stream",
     "name": "stderr",
     "text": [
      "Epoch [1238/6000]: 100%|██████████| 17/17 [00:00<00:00, 123.06it/s, loss=3.9]\n"
     ]
    },
    {
     "output_type": "stream",
     "name": "stdout",
     "text": [
      "Epoch [1238/6000]: Train loss: 3.6137, Valid loss: 3.1932\n",
      "Saving model with loss 3.193...\n"
     ]
    },
    {
     "output_type": "stream",
     "name": "stderr",
     "text": [
      "Epoch [1239/6000]: 100%|██████████| 17/17 [00:00<00:00, 119.60it/s, loss=4.07]\n"
     ]
    },
    {
     "output_type": "stream",
     "name": "stdout",
     "text": [
      "Epoch [1239/6000]: Train loss: 3.6113, Valid loss: 3.6129\n"
     ]
    },
    {
     "output_type": "stream",
     "name": "stderr",
     "text": [
      "Epoch [1240/6000]: 100%|██████████| 17/17 [00:00<00:00, 124.20it/s, loss=3.94]\n"
     ]
    },
    {
     "output_type": "stream",
     "name": "stdout",
     "text": [
      "Epoch [1240/6000]: Train loss: 3.6062, Valid loss: 3.3353\n"
     ]
    },
    {
     "output_type": "stream",
     "name": "stderr",
     "text": [
      "Epoch [1241/6000]: 100%|██████████| 17/17 [00:00<00:00, 107.31it/s, loss=3.88]\n"
     ]
    },
    {
     "output_type": "stream",
     "name": "stdout",
     "text": [
      "Epoch [1241/6000]: Train loss: 3.6026, Valid loss: 3.8644\n"
     ]
    },
    {
     "output_type": "stream",
     "name": "stderr",
     "text": [
      "Epoch [1242/6000]: 100%|██████████| 17/17 [00:00<00:00, 111.21it/s, loss=4.17]\n"
     ]
    },
    {
     "output_type": "stream",
     "name": "stdout",
     "text": [
      "Epoch [1242/6000]: Train loss: 3.6009, Valid loss: 3.4587\n"
     ]
    },
    {
     "output_type": "stream",
     "name": "stderr",
     "text": [
      "Epoch [1243/6000]: 100%|██████████| 17/17 [00:00<00:00, 115.58it/s, loss=4.49]\n"
     ]
    },
    {
     "output_type": "stream",
     "name": "stdout",
     "text": [
      "Epoch [1243/6000]: Train loss: 3.5987, Valid loss: 3.7215\n"
     ]
    },
    {
     "output_type": "stream",
     "name": "stderr",
     "text": [
      "Epoch [1244/6000]: 100%|██████████| 17/17 [00:00<00:00, 118.18it/s, loss=3.1]\n"
     ]
    },
    {
     "output_type": "stream",
     "name": "stdout",
     "text": [
      "Epoch [1244/6000]: Train loss: 3.5855, Valid loss: 3.6577\n"
     ]
    },
    {
     "output_type": "stream",
     "name": "stderr",
     "text": [
      "Epoch [1245/6000]: 100%|██████████| 17/17 [00:00<00:00, 123.57it/s, loss=3.69]\n"
     ]
    },
    {
     "output_type": "stream",
     "name": "stdout",
     "text": [
      "Epoch [1245/6000]: Train loss: 3.5870, Valid loss: 3.7485\n"
     ]
    },
    {
     "output_type": "stream",
     "name": "stderr",
     "text": [
      "Epoch [1246/6000]: 100%|██████████| 17/17 [00:00<00:00, 124.67it/s, loss=4.01]\n"
     ]
    },
    {
     "output_type": "stream",
     "name": "stdout",
     "text": [
      "Epoch [1246/6000]: Train loss: 3.5839, Valid loss: 3.3677\n"
     ]
    },
    {
     "output_type": "stream",
     "name": "stderr",
     "text": [
      "Epoch [1247/6000]:  71%|███████   | 12/17 [00:00<00:00, 116.42it/s, loss=3.07]"
     ]
    },
    {
     "output_type": "stream",
     "name": "stdout",
     "text": [
      "Epoch [1260/6000]: Train loss: 3.5228, Valid loss: 3.4040\n"
     ]
    },
    {
     "output_type": "stream",
     "name": "stderr",
     "text": [
      "Epoch [1261/6000]: 100%|██████████| 17/17 [00:00<00:00, 113.70it/s, loss=3.91]\n"
     ]
    },
    {
     "output_type": "stream",
     "name": "stdout",
     "text": [
      "Epoch [1261/6000]: Train loss: 3.5274, Valid loss: 3.3153\n"
     ]
    },
    {
     "output_type": "stream",
     "name": "stderr",
     "text": [
      "Epoch [1262/6000]: 100%|██████████| 17/17 [00:00<00:00, 127.29it/s, loss=3.26]\n"
     ]
    },
    {
     "output_type": "stream",
     "name": "stdout",
     "text": [
      "Epoch [1262/6000]: Train loss: 3.5197, Valid loss: 3.1944\n"
     ]
    },
    {
     "output_type": "stream",
     "name": "stderr",
     "text": [
      "Epoch [1263/6000]: 100%|██████████| 17/17 [00:00<00:00, 126.10it/s, loss=4.11]\n"
     ]
    },
    {
     "output_type": "stream",
     "name": "stdout",
     "text": [
      "Epoch [1263/6000]: Train loss: 3.5209, Valid loss: 3.2760\n"
     ]
    },
    {
     "output_type": "stream",
     "name": "stderr",
     "text": [
      "Epoch [1264/6000]: 100%|██████████| 17/17 [00:00<00:00, 121.61it/s, loss=4.36]\n"
     ]
    },
    {
     "output_type": "stream",
     "name": "stdout",
     "text": [
      "Epoch [1264/6000]: Train loss: 3.5199, Valid loss: 3.5559\n"
     ]
    },
    {
     "output_type": "stream",
     "name": "stderr",
     "text": [
      "Epoch [1265/6000]: 100%|██████████| 17/17 [00:00<00:00, 136.35it/s, loss=3.2]\n"
     ]
    },
    {
     "output_type": "stream",
     "name": "stdout",
     "text": [
      "Epoch [1265/6000]: Train loss: 3.5073, Valid loss: 3.4768\n"
     ]
    },
    {
     "output_type": "stream",
     "name": "stderr",
     "text": [
      "Epoch [1266/6000]: 100%|██████████| 17/17 [00:00<00:00, 130.80it/s, loss=4.05]\n"
     ]
    },
    {
     "output_type": "stream",
     "name": "stdout",
     "text": [
      "Epoch [1266/6000]: Train loss: 3.5099, Valid loss: 3.7221\n"
     ]
    },
    {
     "output_type": "stream",
     "name": "stderr",
     "text": [
      "Epoch [1267/6000]: 100%|██████████| 17/17 [00:00<00:00, 131.17it/s, loss=2.95]\n"
     ]
    },
    {
     "output_type": "stream",
     "name": "stdout",
     "text": [
      "Epoch [1267/6000]: Train loss: 3.4979, Valid loss: 3.3593\n"
     ]
    },
    {
     "output_type": "stream",
     "name": "stderr",
     "text": [
      "Epoch [1268/6000]: 100%|██████████| 17/17 [00:00<00:00, 119.14it/s, loss=3.86]\n"
     ]
    },
    {
     "output_type": "stream",
     "name": "stdout",
     "text": [
      "Epoch [1268/6000]: Train loss: 3.5010, Valid loss: 3.3083\n"
     ]
    },
    {
     "output_type": "stream",
     "name": "stderr",
     "text": [
      "Epoch [1269/6000]: 100%|██████████| 17/17 [00:00<00:00, 114.42it/s, loss=3.72]\n"
     ]
    },
    {
     "output_type": "stream",
     "name": "stdout",
     "text": [
      "Epoch [1269/6000]: Train loss: 3.4965, Valid loss: 3.4534\n"
     ]
    },
    {
     "output_type": "stream",
     "name": "stderr",
     "text": [
      "Epoch [1270/6000]: 100%|██████████| 17/17 [00:00<00:00, 107.11it/s, loss=3.96]\n"
     ]
    },
    {
     "output_type": "stream",
     "name": "stdout",
     "text": [
      "Epoch [1270/6000]: Train loss: 3.4947, Valid loss: 3.4228\n"
     ]
    },
    {
     "output_type": "stream",
     "name": "stderr",
     "text": [
      "Epoch [1271/6000]: 100%|██████████| 17/17 [00:00<00:00, 118.67it/s, loss=3.93]\n"
     ]
    },
    {
     "output_type": "stream",
     "name": "stdout",
     "text": [
      "Epoch [1271/6000]: Train loss: 3.4911, Valid loss: 3.1991\n"
     ]
    },
    {
     "output_type": "stream",
     "name": "stderr",
     "text": [
      "Epoch [1272/6000]: 100%|██████████| 17/17 [00:00<00:00, 115.11it/s, loss=3.43]\n"
     ]
    },
    {
     "output_type": "stream",
     "name": "stdout",
     "text": [
      "Epoch [1272/6000]: Train loss: 3.4829, Valid loss: 3.5710\n"
     ]
    },
    {
     "output_type": "stream",
     "name": "stderr",
     "text": [
      "Epoch [1274/6000]: 100%|██████████| 17/17 [00:00<00:00, 102.00it/s, loss=4.11]\n"
     ]
    },
    {
     "output_type": "stream",
     "name": "stdout",
     "text": [
      "Epoch [1274/6000]: Train loss: 3.4806, Valid loss: 3.4368\n"
     ]
    },
    {
     "output_type": "stream",
     "name": "stderr",
     "text": [
      "Epoch [1275/6000]: 100%|██████████| 17/17 [00:00<00:00, 116.57it/s, loss=3.07]\n"
     ]
    },
    {
     "output_type": "stream",
     "name": "stdout",
     "text": [
      "Epoch [1275/6000]: Train loss: 3.4693, Valid loss: 3.2326\n"
     ]
    },
    {
     "output_type": "stream",
     "name": "stderr",
     "text": [
      "Epoch [1276/6000]: 100%|██████████| 17/17 [00:00<00:00, 115.54it/s, loss=2.37]\n"
     ]
    },
    {
     "output_type": "stream",
     "name": "stdout",
     "text": [
      "Epoch [1276/6000]: Train loss: 3.4607, Valid loss: 3.0578\n",
      "Saving model with loss 3.058...\n"
     ]
    },
    {
     "output_type": "stream",
     "name": "stderr",
     "text": [
      "Epoch [1277/6000]: 100%|██████████| 17/17 [00:00<00:00, 118.74it/s, loss=3.05]\n"
     ]
    },
    {
     "output_type": "stream",
     "name": "stdout",
     "text": [
      "Epoch [1277/6000]: Train loss: 3.4622, Valid loss: 3.6994\n"
     ]
    },
    {
     "output_type": "stream",
     "name": "stderr",
     "text": [
      "Epoch [1278/6000]: 100%|██████████| 17/17 [00:00<00:00, 127.06it/s, loss=3.49]\n"
     ]
    },
    {
     "output_type": "stream",
     "name": "stdout",
     "text": [
      "Epoch [1278/6000]: Train loss: 3.4612, Valid loss: 3.4685\n"
     ]
    },
    {
     "output_type": "stream",
     "name": "stderr",
     "text": [
      "Epoch [1279/6000]: 100%|██████████| 17/17 [00:00<00:00, 124.89it/s, loss=3.85]\n"
     ]
    },
    {
     "output_type": "stream",
     "name": "stdout",
     "text": [
      "Epoch [1279/6000]: Train loss: 3.4605, Valid loss: 3.1577\n"
     ]
    },
    {
     "output_type": "stream",
     "name": "stderr",
     "text": [
      "Epoch [1280/6000]: 100%|██████████| 17/17 [00:00<00:00, 127.22it/s, loss=3.1]\n"
     ]
    },
    {
     "output_type": "stream",
     "name": "stdout",
     "text": [
      "Epoch [1280/6000]: Train loss: 3.4512, Valid loss: 3.4095\n"
     ]
    },
    {
     "output_type": "stream",
     "name": "stderr",
     "text": [
      "Epoch [1281/6000]: 100%|██████████| 17/17 [00:00<00:00, 119.91it/s, loss=3.19]\n"
     ]
    },
    {
     "output_type": "stream",
     "name": "stdout",
     "text": [
      "Epoch [1281/6000]: Train loss: 3.4487, Valid loss: 3.4498\n"
     ]
    },
    {
     "output_type": "stream",
     "name": "stderr",
     "text": [
      "Epoch [1282/6000]: 100%|██████████| 17/17 [00:00<00:00, 135.60it/s, loss=4.21]\n"
     ]
    },
    {
     "output_type": "stream",
     "name": "stdout",
     "text": [
      "Epoch [1282/6000]: Train loss: 3.4523, Valid loss: 3.5132\n"
     ]
    },
    {
     "output_type": "stream",
     "name": "stderr",
     "text": [
      "Epoch [1283/6000]: 100%|██████████| 17/17 [00:00<00:00, 140.70it/s, loss=2.58]\n"
     ]
    },
    {
     "output_type": "stream",
     "name": "stdout",
     "text": [
      "Epoch [1283/6000]: Train loss: 3.4368, Valid loss: 3.2988\n"
     ]
    },
    {
     "output_type": "stream",
     "name": "stderr",
     "text": [
      "Epoch [1284/6000]: 100%|██████████| 17/17 [00:00<00:00, 115.29it/s, loss=2.86]\n"
     ]
    },
    {
     "output_type": "stream",
     "name": "stdout",
     "text": [
      "Epoch [1284/6000]: Train loss: 3.4347, Valid loss: 3.2968\n"
     ]
    },
    {
     "output_type": "stream",
     "name": "stderr",
     "text": [
      "Epoch [1285/6000]: 100%|██████████| 17/17 [00:00<00:00, 126.04it/s, loss=3.09]\n"
     ]
    },
    {
     "output_type": "stream",
     "name": "stdout",
     "text": [
      "Epoch [1285/6000]: Train loss: 3.4331, Valid loss: 3.2282\n"
     ]
    },
    {
     "output_type": "stream",
     "name": "stderr",
     "text": [
      "Epoch [1286/6000]: 100%|██████████| 17/17 [00:00<00:00, 126.26it/s, loss=2.79]\n"
     ]
    },
    {
     "output_type": "stream",
     "name": "stdout",
     "text": [
      "Epoch [1286/6000]: Train loss: 3.4276, Valid loss: 3.4746\n"
     ]
    },
    {
     "output_type": "stream",
     "name": "stderr",
     "text": [
      "Epoch [1288/6000]: 100%|██████████| 17/17 [00:00<00:00, 115.97it/s, loss=2.89]\n"
     ]
    },
    {
     "output_type": "stream",
     "name": "stdout",
     "text": [
      "Epoch [1288/6000]: Train loss: 3.4214, Valid loss: 3.3433\n"
     ]
    },
    {
     "output_type": "stream",
     "name": "stderr",
     "text": [
      "Epoch [1289/6000]: 100%|██████████| 17/17 [00:00<00:00, 125.32it/s, loss=2.71]\n"
     ]
    },
    {
     "output_type": "stream",
     "name": "stdout",
     "text": [
      "Epoch [1289/6000]: Train loss: 3.4159, Valid loss: 3.3996\n"
     ]
    },
    {
     "output_type": "stream",
     "name": "stderr",
     "text": [
      "Epoch [1290/6000]: 100%|██████████| 17/17 [00:00<00:00, 128.00it/s, loss=3.85]\n"
     ]
    },
    {
     "output_type": "stream",
     "name": "stdout",
     "text": [
      "Epoch [1290/6000]: Train loss: 3.4206, Valid loss: 3.1711\n"
     ]
    },
    {
     "output_type": "stream",
     "name": "stderr",
     "text": [
      "Epoch [1291/6000]: 100%|██████████| 17/17 [00:00<00:00, 127.30it/s, loss=3.37]\n"
     ]
    },
    {
     "output_type": "stream",
     "name": "stdout",
     "text": [
      "Epoch [1291/6000]: Train loss: 3.4136, Valid loss: 3.1948\n"
     ]
    },
    {
     "output_type": "stream",
     "name": "stderr",
     "text": [
      "Epoch [1292/6000]: 100%|██████████| 17/17 [00:00<00:00, 128.09it/s, loss=3.65]\n"
     ]
    },
    {
     "output_type": "stream",
     "name": "stdout",
     "text": [
      "Epoch [1292/6000]: Train loss: 3.4127, Valid loss: 3.2295\n"
     ]
    },
    {
     "output_type": "stream",
     "name": "stderr",
     "text": [
      "Epoch [1293/6000]: 100%|██████████| 17/17 [00:00<00:00, 131.63it/s, loss=2.82]\n"
     ]
    },
    {
     "output_type": "stream",
     "name": "stdout",
     "text": [
      "Epoch [1293/6000]: Train loss: 3.4023, Valid loss: 3.0760\n"
     ]
    },
    {
     "output_type": "stream",
     "name": "stderr",
     "text": [
      "Epoch [1294/6000]: 100%|██████████| 17/17 [00:00<00:00, 117.64it/s, loss=2.11]\n"
     ]
    },
    {
     "output_type": "stream",
     "name": "stdout",
     "text": [
      "Epoch [1294/6000]: Train loss: 3.3934, Valid loss: 3.5045\n"
     ]
    },
    {
     "output_type": "stream",
     "name": "stderr",
     "text": [
      "Epoch [1295/6000]: 100%|██████████| 17/17 [00:00<00:00, 124.34it/s, loss=3.69]\n"
     ]
    },
    {
     "output_type": "stream",
     "name": "stdout",
     "text": [
      "Epoch [1295/6000]: Train loss: 3.4018, Valid loss: 3.6216\n"
     ]
    },
    {
     "output_type": "stream",
     "name": "stderr",
     "text": [
      "Epoch [1296/6000]: 100%|██████████| 17/17 [00:00<00:00, 121.56it/s, loss=2.93]\n"
     ]
    },
    {
     "output_type": "stream",
     "name": "stdout",
     "text": [
      "Epoch [1296/6000]: Train loss: 3.3927, Valid loss: 3.2138\n"
     ]
    },
    {
     "output_type": "stream",
     "name": "stderr",
     "text": [
      "Epoch [1297/6000]: 100%|██████████| 17/17 [00:00<00:00, 123.79it/s, loss=3.4]\n"
     ]
    },
    {
     "output_type": "stream",
     "name": "stdout",
     "text": [
      "Epoch [1297/6000]: Train loss: 3.3922, Valid loss: 3.3267\n"
     ]
    },
    {
     "output_type": "stream",
     "name": "stderr",
     "text": [
      "Epoch [1298/6000]: 100%|██████████| 17/17 [00:00<00:00, 124.78it/s, loss=3.35]\n"
     ]
    },
    {
     "output_type": "stream",
     "name": "stdout",
     "text": [
      "Epoch [1298/6000]: Train loss: 3.3888, Valid loss: 3.3392\n"
     ]
    },
    {
     "output_type": "stream",
     "name": "stderr",
     "text": [
      "Epoch [1299/6000]: 100%|██████████| 17/17 [00:00<00:00, 134.37it/s, loss=3.34]\n"
     ]
    },
    {
     "output_type": "stream",
     "name": "stdout",
     "text": [
      "Epoch [1299/6000]: Train loss: 3.3849, Valid loss: 3.0065\n",
      "Saving model with loss 3.007...\n"
     ]
    },
    {
     "output_type": "stream",
     "name": "stderr",
     "text": [
      "Epoch [1300/6000]: 100%|██████████| 17/17 [00:00<00:00, 140.51it/s, loss=2.92]\n"
     ]
    },
    {
     "output_type": "stream",
     "name": "stdout",
     "text": [
      "Epoch [1300/6000]: Train loss: 3.3781, Valid loss: 3.3044\n"
     ]
    },
    {
     "output_type": "stream",
     "name": "stderr",
     "text": [
      "Epoch [1303/6000]: 100%|██████████| 17/17 [00:00<00:00, 130.33it/s, loss=3.26]\n"
     ]
    },
    {
     "output_type": "stream",
     "name": "stdout",
     "text": [
      "Epoch [1303/6000]: Train loss: 3.3698, Valid loss: 3.8586\n"
     ]
    },
    {
     "output_type": "stream",
     "name": "stderr",
     "text": [
      "Epoch [1304/6000]: 100%|██████████| 17/17 [00:00<00:00, 123.44it/s, loss=3.55]\n"
     ]
    },
    {
     "output_type": "stream",
     "name": "stdout",
     "text": [
      "Epoch [1304/6000]: Train loss: 3.3686, Valid loss: 3.6727\n"
     ]
    },
    {
     "output_type": "stream",
     "name": "stderr",
     "text": [
      "Epoch [1305/6000]: 100%|██████████| 17/17 [00:00<00:00, 128.59it/s, loss=4.13]\n"
     ]
    },
    {
     "output_type": "stream",
     "name": "stdout",
     "text": [
      "Epoch [1305/6000]: Train loss: 3.3708, Valid loss: 3.4101\n"
     ]
    },
    {
     "output_type": "stream",
     "name": "stderr",
     "text": [
      "Epoch [1306/6000]: 100%|██████████| 17/17 [00:00<00:00, 128.28it/s, loss=4.3]\n"
     ]
    },
    {
     "output_type": "stream",
     "name": "stdout",
     "text": [
      "Epoch [1306/6000]: Train loss: 3.3677, Valid loss: 3.1470\n"
     ]
    },
    {
     "output_type": "stream",
     "name": "stderr",
     "text": [
      "Epoch [1307/6000]: 100%|██████████| 17/17 [00:00<00:00, 127.78it/s, loss=2.77]\n"
     ]
    },
    {
     "output_type": "stream",
     "name": "stdout",
     "text": [
      "Epoch [1307/6000]: Train loss: 3.3522, Valid loss: 3.3087\n"
     ]
    },
    {
     "output_type": "stream",
     "name": "stderr",
     "text": [
      "Epoch [1308/6000]: 100%|██████████| 17/17 [00:00<00:00, 120.84it/s, loss=2.71]\n"
     ]
    },
    {
     "output_type": "stream",
     "name": "stdout",
     "text": [
      "Epoch [1308/6000]: Train loss: 3.3483, Valid loss: 3.0445\n"
     ]
    },
    {
     "output_type": "stream",
     "name": "stderr",
     "text": [
      "Epoch [1309/6000]: 100%|██████████| 17/17 [00:00<00:00, 121.46it/s, loss=3.2]\n"
     ]
    },
    {
     "output_type": "stream",
     "name": "stdout",
     "text": [
      "Epoch [1309/6000]: Train loss: 3.3484, Valid loss: 3.2938\n"
     ]
    },
    {
     "output_type": "stream",
     "name": "stderr",
     "text": [
      "Epoch [1310/6000]: 100%|██████████| 17/17 [00:00<00:00, 130.58it/s, loss=3.32]\n"
     ]
    },
    {
     "output_type": "stream",
     "name": "stdout",
     "text": [
      "Epoch [1310/6000]: Train loss: 3.3460, Valid loss: 3.2795\n"
     ]
    },
    {
     "output_type": "stream",
     "name": "stderr",
     "text": [
      "Epoch [1311/6000]: 100%|██████████| 17/17 [00:00<00:00, 127.65it/s, loss=3.55]\n"
     ]
    },
    {
     "output_type": "stream",
     "name": "stdout",
     "text": [
      "Epoch [1311/6000]: Train loss: 3.3441, Valid loss: 3.3928\n"
     ]
    },
    {
     "output_type": "stream",
     "name": "stderr",
     "text": [
      "Epoch [1312/6000]: 100%|██████████| 17/17 [00:00<00:00, 124.25it/s, loss=3.47]\n"
     ]
    },
    {
     "output_type": "stream",
     "name": "stdout",
     "text": [
      "Epoch [1312/6000]: Train loss: 3.3396, Valid loss: 3.1055\n"
     ]
    },
    {
     "output_type": "stream",
     "name": "stderr",
     "text": [
      "Epoch [1313/6000]: 100%|██████████| 17/17 [00:00<00:00, 127.66it/s, loss=2.41]\n"
     ]
    },
    {
     "output_type": "stream",
     "name": "stdout",
     "text": [
      "Epoch [1313/6000]: Train loss: 3.3285, Valid loss: 3.0357\n"
     ]
    },
    {
     "output_type": "stream",
     "name": "stderr",
     "text": [
      "Epoch [1314/6000]: 100%|██████████| 17/17 [00:00<00:00, 126.19it/s, loss=3.14]\n"
     ]
    },
    {
     "output_type": "stream",
     "name": "stdout",
     "text": [
      "Epoch [1314/6000]: Train loss: 3.3303, Valid loss: 3.1253\n"
     ]
    },
    {
     "output_type": "stream",
     "name": "stderr",
     "text": [
      "Epoch [1315/6000]: 100%|██████████| 17/17 [00:00<00:00, 117.58it/s, loss=3.36]\n"
     ]
    },
    {
     "output_type": "stream",
     "name": "stdout",
     "text": [
      "Epoch [1315/6000]: Train loss: 3.3282, Valid loss: 3.2310\n"
     ]
    },
    {
     "output_type": "stream",
     "name": "stderr",
     "text": [
      "Epoch [1317/6000]: 100%|██████████| 17/17 [00:00<00:00, 120.46it/s, loss=2.15]\n"
     ]
    },
    {
     "output_type": "stream",
     "name": "stdout",
     "text": [
      "Epoch [1317/6000]: Train loss: 3.3127, Valid loss: 3.4983\n"
     ]
    },
    {
     "output_type": "stream",
     "name": "stderr",
     "text": [
      "Epoch [1318/6000]: 100%|██████████| 17/17 [00:00<00:00, 127.79it/s, loss=3.63]\n"
     ]
    },
    {
     "output_type": "stream",
     "name": "stdout",
     "text": [
      "Epoch [1318/6000]: Train loss: 3.3200, Valid loss: 3.2789\n"
     ]
    },
    {
     "output_type": "stream",
     "name": "stderr",
     "text": [
      "Epoch [1319/6000]: 100%|██████████| 17/17 [00:00<00:00, 127.92it/s, loss=2.84]\n"
     ]
    },
    {
     "output_type": "stream",
     "name": "stdout",
     "text": [
      "Epoch [1319/6000]: Train loss: 3.3121, Valid loss: 3.5895\n"
     ]
    },
    {
     "output_type": "stream",
     "name": "stderr",
     "text": [
      "Epoch [1320/6000]: 100%|██████████| 17/17 [00:00<00:00, 124.49it/s, loss=3.36]\n"
     ]
    },
    {
     "output_type": "stream",
     "name": "stdout",
     "text": [
      "Epoch [1320/6000]: Train loss: 3.3110, Valid loss: 2.9776\n",
      "Saving model with loss 2.978...\n"
     ]
    },
    {
     "output_type": "stream",
     "name": "stderr",
     "text": [
      "Epoch [1321/6000]: 100%|██████████| 17/17 [00:00<00:00, 106.39it/s, loss=2.63]\n"
     ]
    },
    {
     "output_type": "stream",
     "name": "stdout",
     "text": [
      "Epoch [1321/6000]: Train loss: 3.3021, Valid loss: 3.1981\n"
     ]
    },
    {
     "output_type": "stream",
     "name": "stderr",
     "text": [
      "Epoch [1322/6000]: 100%|██████████| 17/17 [00:00<00:00, 101.16it/s, loss=4.16]\n"
     ]
    },
    {
     "output_type": "stream",
     "name": "stdout",
     "text": [
      "Epoch [1322/6000]: Train loss: 3.3097, Valid loss: 3.1185\n"
     ]
    },
    {
     "output_type": "stream",
     "name": "stderr",
     "text": [
      "Epoch [1323/6000]: 100%|██████████| 17/17 [00:00<00:00, 106.85it/s, loss=2.97]\n"
     ]
    },
    {
     "output_type": "stream",
     "name": "stdout",
     "text": [
      "Epoch [1323/6000]: Train loss: 3.2979, Valid loss: 3.0344\n"
     ]
    },
    {
     "output_type": "stream",
     "name": "stderr",
     "text": [
      "Epoch [1324/6000]: 100%|██████████| 17/17 [00:00<00:00, 109.58it/s, loss=3.03]\n"
     ]
    },
    {
     "output_type": "stream",
     "name": "stdout",
     "text": [
      "Epoch [1324/6000]: Train loss: 3.2945, Valid loss: 3.1076\n"
     ]
    },
    {
     "output_type": "stream",
     "name": "stderr",
     "text": [
      "Epoch [1325/6000]: 100%|██████████| 17/17 [00:00<00:00, 120.07it/s, loss=2.8]\n"
     ]
    },
    {
     "output_type": "stream",
     "name": "stdout",
     "text": [
      "Epoch [1325/6000]: Train loss: 3.2897, Valid loss: 3.0313\n"
     ]
    },
    {
     "output_type": "stream",
     "name": "stderr",
     "text": [
      "Epoch [1326/6000]: 100%|██████████| 17/17 [00:00<00:00, 101.03it/s, loss=3.6]\n"
     ]
    },
    {
     "output_type": "stream",
     "name": "stdout",
     "text": [
      "Epoch [1326/6000]: Train loss: 3.2918, Valid loss: 3.1059\n"
     ]
    },
    {
     "output_type": "stream",
     "name": "stderr",
     "text": [
      "Epoch [1327/6000]: 100%|██████████| 17/17 [00:00<00:00, 116.65it/s, loss=3.14]\n"
     ]
    },
    {
     "output_type": "stream",
     "name": "stdout",
     "text": [
      "Epoch [1327/6000]: Train loss: 3.2849, Valid loss: 3.3058\n"
     ]
    },
    {
     "output_type": "stream",
     "name": "stderr",
     "text": [
      "Epoch [1328/6000]: 100%|██████████| 17/17 [00:00<00:00, 92.64it/s, loss=3.9]\n"
     ]
    },
    {
     "output_type": "stream",
     "name": "stdout",
     "text": [
      "Epoch [1328/6000]: Train loss: 3.2873, Valid loss: 3.3401\n"
     ]
    },
    {
     "output_type": "stream",
     "name": "stderr",
     "text": [
      "Epoch [1329/6000]: 100%|██████████| 17/17 [00:00<00:00, 115.49it/s, loss=3.07]\n"
     ]
    },
    {
     "output_type": "stream",
     "name": "stdout",
     "text": [
      "Epoch [1329/6000]: Train loss: 3.2776, Valid loss: 3.2731\n"
     ]
    },
    {
     "output_type": "stream",
     "name": "stderr",
     "text": [
      "Epoch [1339/6000]: 100%|██████████| 17/17 [00:00<00:00, 106.68it/s, loss=2.94]\n"
     ]
    },
    {
     "output_type": "stream",
     "name": "stdout",
     "text": [
      "Epoch [1339/6000]: Train loss: 3.2427, Valid loss: 3.1090\n"
     ]
    },
    {
     "output_type": "stream",
     "name": "stderr",
     "text": [
      "Epoch [1340/6000]: 100%|██████████| 17/17 [00:00<00:00, 110.91it/s, loss=4.21]\n"
     ]
    },
    {
     "output_type": "stream",
     "name": "stdout",
     "text": [
      "Epoch [1340/6000]: Train loss: 3.2486, Valid loss: 3.3359\n"
     ]
    },
    {
     "output_type": "stream",
     "name": "stderr",
     "text": [
      "Epoch [1341/6000]: 100%|██████████| 17/17 [00:00<00:00, 101.83it/s, loss=3.2]\n"
     ]
    },
    {
     "output_type": "stream",
     "name": "stdout",
     "text": [
      "Epoch [1341/6000]: Train loss: 3.2379, Valid loss: 3.2502\n"
     ]
    },
    {
     "output_type": "stream",
     "name": "stderr",
     "text": [
      "Epoch [1342/6000]: 100%|██████████| 17/17 [00:00<00:00, 113.16it/s, loss=3.13]\n"
     ]
    },
    {
     "output_type": "stream",
     "name": "stdout",
     "text": [
      "Epoch [1342/6000]: Train loss: 3.2338, Valid loss: 3.0439\n"
     ]
    },
    {
     "output_type": "stream",
     "name": "stderr",
     "text": [
      "Epoch [1343/6000]: 100%|██████████| 17/17 [00:00<00:00, 122.62it/s, loss=3.18]\n"
     ]
    },
    {
     "output_type": "stream",
     "name": "stdout",
     "text": [
      "Epoch [1343/6000]: Train loss: 3.2310, Valid loss: 3.6376\n"
     ]
    },
    {
     "output_type": "stream",
     "name": "stderr",
     "text": [
      "Epoch [1344/6000]: 100%|██████████| 17/17 [00:00<00:00, 114.16it/s, loss=2.55]\n"
     ]
    },
    {
     "output_type": "stream",
     "name": "stdout",
     "text": [
      "Epoch [1344/6000]: Train loss: 3.2232, Valid loss: 3.1525\n"
     ]
    },
    {
     "output_type": "stream",
     "name": "stderr",
     "text": [
      "Epoch [1345/6000]: 100%|██████████| 17/17 [00:00<00:00, 124.02it/s, loss=2.55]\n"
     ]
    },
    {
     "output_type": "stream",
     "name": "stdout",
     "text": [
      "Epoch [1345/6000]: Train loss: 3.2203, Valid loss: 2.9617\n"
     ]
    },
    {
     "output_type": "stream",
     "name": "stderr",
     "text": [
      "Epoch [1346/6000]: 100%|██████████| 17/17 [00:00<00:00, 100.07it/s, loss=2.9]\n"
     ]
    },
    {
     "output_type": "stream",
     "name": "stdout",
     "text": [
      "Epoch [1346/6000]: Train loss: 3.2190, Valid loss: 3.2772\n"
     ]
    },
    {
     "output_type": "stream",
     "name": "stderr",
     "text": [
      "Epoch [1347/6000]: 100%|██████████| 17/17 [00:00<00:00, 116.52it/s, loss=3.79]\n"
     ]
    },
    {
     "output_type": "stream",
     "name": "stdout",
     "text": [
      "Epoch [1347/6000]: Train loss: 3.2220, Valid loss: 2.9770\n"
     ]
    },
    {
     "output_type": "stream",
     "name": "stderr",
     "text": [
      "Epoch [1348/6000]: 100%|██████████| 17/17 [00:00<00:00, 121.97it/s, loss=2.86]\n"
     ]
    },
    {
     "output_type": "stream",
     "name": "stdout",
     "text": [
      "Epoch [1348/6000]: Train loss: 3.2120, Valid loss: 2.8047\n",
      "Saving model with loss 2.805...\n"
     ]
    },
    {
     "output_type": "stream",
     "name": "stderr",
     "text": [
      "Epoch [1349/6000]: 100%|██████████| 17/17 [00:00<00:00, 118.45it/s, loss=3.34]\n"
     ]
    },
    {
     "output_type": "stream",
     "name": "stdout",
     "text": [
      "Epoch [1349/6000]: Train loss: 3.2124, Valid loss: 2.8043\n",
      "Saving model with loss 2.804...\n"
     ]
    },
    {
     "output_type": "stream",
     "name": "stderr",
     "text": [
      "Epoch [1350/6000]: 100%|██████████| 17/17 [00:00<00:00, 119.56it/s, loss=2.62]\n"
     ]
    },
    {
     "output_type": "stream",
     "name": "stdout",
     "text": [
      "Epoch [1350/6000]: Train loss: 3.2033, Valid loss: 2.8824\n"
     ]
    },
    {
     "output_type": "stream",
     "name": "stderr",
     "text": [
      "Epoch [1351/6000]: 100%|██████████| 17/17 [00:00<00:00, 112.88it/s, loss=3.34]\n"
     ]
    },
    {
     "output_type": "stream",
     "name": "stdout",
     "text": [
      "Epoch [1351/6000]: Train loss: 3.2054, Valid loss: 2.9537\n"
     ]
    },
    {
     "output_type": "stream",
     "name": "stderr",
     "text": [
      "Epoch [1355/6000]: 100%|██████████| 17/17 [00:00<00:00, 120.47it/s, loss=2.86]\n"
     ]
    },
    {
     "output_type": "stream",
     "name": "stdout",
     "text": [
      "Epoch [1355/6000]: Train loss: 3.1884, Valid loss: 2.9482\n"
     ]
    },
    {
     "output_type": "stream",
     "name": "stderr",
     "text": [
      "Epoch [1356/6000]: 100%|██████████| 17/17 [00:00<00:00, 122.76it/s, loss=3.38]\n"
     ]
    },
    {
     "output_type": "stream",
     "name": "stdout",
     "text": [
      "Epoch [1356/6000]: Train loss: 3.1896, Valid loss: 2.8264\n"
     ]
    },
    {
     "output_type": "stream",
     "name": "stderr",
     "text": [
      "Epoch [1357/6000]: 100%|██████████| 17/17 [00:00<00:00, 115.66it/s, loss=2.96]\n"
     ]
    },
    {
     "output_type": "stream",
     "name": "stdout",
     "text": [
      "Epoch [1357/6000]: Train loss: 3.1828, Valid loss: 3.2755\n"
     ]
    },
    {
     "output_type": "stream",
     "name": "stderr",
     "text": [
      "Epoch [1358/6000]: 100%|██████████| 17/17 [00:00<00:00, 115.94it/s, loss=3.44]\n"
     ]
    },
    {
     "output_type": "stream",
     "name": "stdout",
     "text": [
      "Epoch [1358/6000]: Train loss: 3.1832, Valid loss: 3.2533\n"
     ]
    },
    {
     "output_type": "stream",
     "name": "stderr",
     "text": [
      "Epoch [1359/6000]: 100%|██████████| 17/17 [00:00<00:00, 120.81it/s, loss=3.13]\n"
     ]
    },
    {
     "output_type": "stream",
     "name": "stdout",
     "text": [
      "Epoch [1359/6000]: Train loss: 3.1776, Valid loss: 2.8352\n"
     ]
    },
    {
     "output_type": "stream",
     "name": "stderr",
     "text": [
      "Epoch [1360/6000]: 100%|██████████| 17/17 [00:00<00:00, 118.48it/s, loss=2.64]\n"
     ]
    },
    {
     "output_type": "stream",
     "name": "stdout",
     "text": [
      "Epoch [1360/6000]: Train loss: 3.1707, Valid loss: 2.9390\n"
     ]
    },
    {
     "output_type": "stream",
     "name": "stderr",
     "text": [
      "Epoch [1361/6000]: 100%|██████████| 17/17 [00:00<00:00, 118.45it/s, loss=2.99]\n"
     ]
    },
    {
     "output_type": "stream",
     "name": "stdout",
     "text": [
      "Epoch [1361/6000]: Train loss: 3.1705, Valid loss: 2.9327\n"
     ]
    },
    {
     "output_type": "stream",
     "name": "stderr",
     "text": [
      "Epoch [1362/6000]: 100%|██████████| 17/17 [00:00<00:00, 113.30it/s, loss=2.79]\n"
     ]
    },
    {
     "output_type": "stream",
     "name": "stdout",
     "text": [
      "Epoch [1362/6000]: Train loss: 3.1654, Valid loss: 3.2511\n"
     ]
    },
    {
     "output_type": "stream",
     "name": "stderr",
     "text": [
      "Epoch [1363/6000]: 100%|██████████| 17/17 [00:00<00:00, 121.62it/s, loss=3.27]\n"
     ]
    },
    {
     "output_type": "stream",
     "name": "stdout",
     "text": [
      "Epoch [1363/6000]: Train loss: 3.1651, Valid loss: 3.0142\n"
     ]
    },
    {
     "output_type": "stream",
     "name": "stderr",
     "text": [
      "Epoch [1364/6000]: 100%|██████████| 17/17 [00:00<00:00, 108.84it/s, loss=2.94]\n"
     ]
    },
    {
     "output_type": "stream",
     "name": "stdout",
     "text": [
      "Epoch [1364/6000]: Train loss: 3.1597, Valid loss: 2.9584\n"
     ]
    },
    {
     "output_type": "stream",
     "name": "stderr",
     "text": [
      "Epoch [1365/6000]: 100%|██████████| 17/17 [00:00<00:00, 112.76it/s, loss=3.67]\n"
     ]
    },
    {
     "output_type": "stream",
     "name": "stdout",
     "text": [
      "Epoch [1365/6000]: Train loss: 3.1616, Valid loss: 3.0463\n"
     ]
    },
    {
     "output_type": "stream",
     "name": "stderr",
     "text": [
      "Epoch [1366/6000]: 100%|██████████| 17/17 [00:00<00:00, 120.01it/s, loss=3.06]\n"
     ]
    },
    {
     "output_type": "stream",
     "name": "stdout",
     "text": [
      "Epoch [1366/6000]: Train loss: 3.1539, Valid loss: 3.1593\n"
     ]
    },
    {
     "output_type": "stream",
     "name": "stderr",
     "text": [
      "Epoch [1367/6000]: 100%|██████████| 17/17 [00:00<00:00, 124.28it/s, loss=3.56]\n"
     ]
    },
    {
     "output_type": "stream",
     "name": "stdout",
     "text": [
      "Epoch [1367/6000]: Train loss: 3.1547, Valid loss: 2.7353\n",
      "Saving model with loss 2.735...\n"
     ]
    },
    {
     "output_type": "stream",
     "name": "stderr",
     "text": [
      "Epoch [1368/6000]: 100%|██████████| 17/17 [00:00<00:00, 121.74it/s, loss=2.6]\n"
     ]
    },
    {
     "output_type": "stream",
     "name": "stdout",
     "text": [
      "Epoch [1368/6000]: Train loss: 3.1439, Valid loss: 3.0062\n"
     ]
    },
    {
     "output_type": "stream",
     "name": "stderr",
     "text": [
      "Epoch [1369/6000]: 100%|██████████| 17/17 [00:00<00:00, 104.84it/s, loss=2.07]\n"
     ]
    },
    {
     "output_type": "stream",
     "name": "stdout",
     "text": [
      "Epoch [1369/6000]: Train loss: 3.1368, Valid loss: 3.0932\n"
     ]
    },
    {
     "output_type": "stream",
     "name": "stderr",
     "text": [
      "Epoch [1370/6000]: 100%|██████████| 17/17 [00:00<00:00, 111.35it/s, loss=2.27]\n"
     ]
    },
    {
     "output_type": "stream",
     "name": "stdout",
     "text": [
      "Epoch [1370/6000]: Train loss: 3.1350, Valid loss: 2.9919\n"
     ]
    },
    {
     "output_type": "stream",
     "name": "stderr",
     "text": [
      "Epoch [1371/6000]: 100%|██████████| 17/17 [00:00<00:00, 106.97it/s, loss=2.64]\n"
     ]
    },
    {
     "output_type": "stream",
     "name": "stdout",
     "text": [
      "Epoch [1371/6000]: Train loss: 3.1350, Valid loss: 2.9546\n"
     ]
    },
    {
     "output_type": "stream",
     "name": "stderr",
     "text": [
      "Epoch [1372/6000]: 100%|██████████| 17/17 [00:00<00:00, 110.77it/s, loss=2.89]\n"
     ]
    },
    {
     "output_type": "stream",
     "name": "stdout",
     "text": [
      "Epoch [1372/6000]: Train loss: 3.1329, Valid loss: 3.1438\n"
     ]
    },
    {
     "output_type": "stream",
     "name": "stderr",
     "text": [
      "Epoch [1373/6000]: 100%|██████████| 17/17 [00:00<00:00, 122.37it/s, loss=2.91]\n"
     ]
    },
    {
     "output_type": "stream",
     "name": "stdout",
     "text": [
      "Epoch [1373/6000]: Train loss: 3.1311, Valid loss: 3.2326\n"
     ]
    },
    {
     "output_type": "stream",
     "name": "stderr",
     "text": [
      "Epoch [1374/6000]: 100%|██████████| 17/17 [00:00<00:00, 105.78it/s, loss=3.82]\n"
     ]
    },
    {
     "output_type": "stream",
     "name": "stdout",
     "text": [
      "Epoch [1374/6000]: Train loss: 3.1337, Valid loss: 3.0139\n"
     ]
    },
    {
     "output_type": "stream",
     "name": "stderr",
     "text": [
      "Epoch [1375/6000]: 100%|██████████| 17/17 [00:00<00:00, 103.65it/s, loss=3.09]\n"
     ]
    },
    {
     "output_type": "stream",
     "name": "stdout",
     "text": [
      "Epoch [1375/6000]: Train loss: 3.1248, Valid loss: 2.8992\n"
     ]
    },
    {
     "output_type": "stream",
     "name": "stderr",
     "text": [
      "Epoch [1376/6000]: 100%|██████████| 17/17 [00:00<00:00, 100.45it/s, loss=3.62]\n"
     ]
    },
    {
     "output_type": "stream",
     "name": "stdout",
     "text": [
      "Epoch [1376/6000]: Train loss: 3.1259, Valid loss: 2.8825\n"
     ]
    },
    {
     "output_type": "stream",
     "name": "stderr",
     "text": [
      "Epoch [1377/6000]: 100%|██████████| 17/17 [00:00<00:00, 96.81it/s, loss=3.32] "
     ]
    },
    {
     "output_type": "stream",
     "name": "stdout",
     "text": [
      "Epoch [1377/6000]: Train loss: 3.1200, Valid loss: 2.7792"
     ]
    },
    {
     "output_type": "stream",
     "name": "stderr",
     "text": [
      "\n"
     ]
    },
    {
     "output_type": "stream",
     "name": "stdout",
     "text": [
      "\n"
     ]
    },
    {
     "output_type": "stream",
     "name": "stderr",
     "text": [
      "Epoch [1378/6000]: 100%|██████████| 17/17 [00:00<00:00, 101.44it/s, loss=3.71]\n"
     ]
    },
    {
     "output_type": "stream",
     "name": "stdout",
     "text": [
      "Epoch [1378/6000]: Train loss: 3.1199, Valid loss: 2.8495\n"
     ]
    },
    {
     "output_type": "stream",
     "name": "stderr",
     "text": [
      "Epoch [1379/6000]: 100%|██████████| 17/17 [00:00<00:00, 102.11it/s, loss=2.95]\n"
     ]
    },
    {
     "output_type": "stream",
     "name": "stdout",
     "text": [
      "Epoch [1379/6000]: Train loss: 3.1110, Valid loss: 3.0405\n"
     ]
    },
    {
     "output_type": "stream",
     "name": "stderr",
     "text": [
      "Epoch [1380/6000]: 100%|██████████| 17/17 [00:00<00:00, 106.82it/s, loss=3.13]\n"
     ]
    },
    {
     "output_type": "stream",
     "name": "stdout",
     "text": [
      "Epoch [1380/6000]: Train loss: 3.1089, Valid loss: 3.2169\n"
     ]
    },
    {
     "output_type": "stream",
     "name": "stderr",
     "text": [
      "Epoch [1381/6000]: 100%|██████████| 17/17 [00:00<00:00, 97.92it/s, loss=3.55] \n"
     ]
    },
    {
     "output_type": "stream",
     "name": "stdout",
     "text": [
      "Epoch [1381/6000]: Train loss: 3.1090, Valid loss: 2.9696\n"
     ]
    },
    {
     "output_type": "stream",
     "name": "stderr",
     "text": [
      "Epoch [1382/6000]: 100%|██████████| 17/17 [00:00<00:00, 108.53it/s, loss=2.98]\n"
     ]
    },
    {
     "output_type": "stream",
     "name": "stdout",
     "text": [
      "Epoch [1382/6000]: Train loss: 3.1033, Valid loss: 3.1154\n"
     ]
    },
    {
     "output_type": "stream",
     "name": "stderr",
     "text": [
      "Epoch [1383/6000]: 100%|██████████| 17/17 [00:00<00:00, 97.91it/s, loss=2.31]\n"
     ]
    },
    {
     "output_type": "stream",
     "name": "stdout",
     "text": [
      "Epoch [1383/6000]: Train loss: 3.0931, Valid loss: 2.8386\n"
     ]
    },
    {
     "output_type": "stream",
     "name": "stderr",
     "text": [
      "Epoch [1384/6000]: 100%|██████████| 17/17 [00:00<00:00, 116.06it/s, loss=2.47]\n"
     ]
    },
    {
     "output_type": "stream",
     "name": "stdout",
     "text": [
      "Epoch [1384/6000]: Train loss: 3.0913, Valid loss: 2.8131\n"
     ]
    },
    {
     "output_type": "stream",
     "name": "stderr",
     "text": [
      "Epoch [1385/6000]: 100%|██████████| 17/17 [00:00<00:00, 108.16it/s, loss=3.06]\n"
     ]
    },
    {
     "output_type": "stream",
     "name": "stdout",
     "text": [
      "Epoch [1385/6000]: Train loss: 3.0923, Valid loss: 3.1904\n"
     ]
    },
    {
     "output_type": "stream",
     "name": "stderr",
     "text": [
      "Epoch [1386/6000]: 100%|██████████| 17/17 [00:00<00:00, 95.64it/s, loss=2.71]\n"
     ]
    },
    {
     "output_type": "stream",
     "name": "stdout",
     "text": [
      "Epoch [1386/6000]: Train loss: 3.0869, Valid loss: 3.2670\n"
     ]
    },
    {
     "output_type": "stream",
     "name": "stderr",
     "text": [
      "Epoch [1387/6000]: 100%|██████████| 17/17 [00:00<00:00, 113.96it/s, loss=3.08]\n"
     ]
    },
    {
     "output_type": "stream",
     "name": "stdout",
     "text": [
      "Epoch [1387/6000]: Train loss: 3.0879, Valid loss: 2.9694\n"
     ]
    },
    {
     "output_type": "stream",
     "name": "stderr",
     "text": [
      "Epoch [1388/6000]: 100%|██████████| 17/17 [00:00<00:00, 121.16it/s, loss=2.39]\n"
     ]
    },
    {
     "output_type": "stream",
     "name": "stdout",
     "text": [
      "Epoch [1388/6000]: Train loss: 3.0780, Valid loss: 3.0867\n"
     ]
    },
    {
     "output_type": "stream",
     "name": "stderr",
     "text": [
      "Epoch [1389/6000]: 100%|██████████| 17/17 [00:00<00:00, 126.82it/s, loss=3.56]\n"
     ]
    },
    {
     "output_type": "stream",
     "name": "stdout",
     "text": [
      "Epoch [1389/6000]: Train loss: 3.0840, Valid loss: 2.8911\n"
     ]
    },
    {
     "output_type": "stream",
     "name": "stderr",
     "text": [
      "Epoch [1390/6000]: 100%|██████████| 17/17 [00:00<00:00, 114.29it/s, loss=3.8]\n"
     ]
    },
    {
     "output_type": "stream",
     "name": "stdout",
     "text": [
      "Epoch [1390/6000]: Train loss: 3.0820, Valid loss: 3.3000\n"
     ]
    },
    {
     "output_type": "stream",
     "name": "stderr",
     "text": [
      "Epoch [1391/6000]: 100%|██████████| 17/17 [00:00<00:00, 117.09it/s, loss=2.89]\n"
     ]
    },
    {
     "output_type": "stream",
     "name": "stdout",
     "text": [
      "Epoch [1391/6000]: Train loss: 3.0731, Valid loss: 2.7028\n",
      "Saving model with loss 2.703...\n"
     ]
    },
    {
     "output_type": "stream",
     "name": "stderr",
     "text": [
      "Epoch [1392/6000]: 100%|██████████| 17/17 [00:00<00:00, 121.25it/s, loss=3.48]\n"
     ]
    },
    {
     "output_type": "stream",
     "name": "stdout",
     "text": [
      "Epoch [1392/6000]: Train loss: 3.0735, Valid loss: 2.8472\n"
     ]
    },
    {
     "output_type": "stream",
     "name": "stderr",
     "text": [
      "Epoch [1393/6000]: 100%|██████████| 17/17 [00:00<00:00, 117.44it/s, loss=1.79]\n"
     ]
    },
    {
     "output_type": "stream",
     "name": "stdout",
     "text": [
      "Epoch [1393/6000]: Train loss: 3.0576, Valid loss: 2.9569\n"
     ]
    },
    {
     "output_type": "stream",
     "name": "stderr",
     "text": [
      "Epoch [1394/6000]: 100%|██████████| 17/17 [00:00<00:00, 118.45it/s, loss=3.19]\n"
     ]
    },
    {
     "output_type": "stream",
     "name": "stdout",
     "text": [
      "Epoch [1394/6000]: Train loss: 3.0651, Valid loss: 2.8743\n"
     ]
    },
    {
     "output_type": "stream",
     "name": "stderr",
     "text": [
      "Epoch [1395/6000]: 100%|██████████| 17/17 [00:00<00:00, 114.36it/s, loss=3.53]\n"
     ]
    },
    {
     "output_type": "stream",
     "name": "stdout",
     "text": [
      "Epoch [1395/6000]: Train loss: 3.0645, Valid loss: 2.9259\n"
     ]
    },
    {
     "output_type": "stream",
     "name": "stderr",
     "text": [
      "Epoch [1396/6000]: 100%|██████████| 17/17 [00:00<00:00, 100.16it/s, loss=3.05]\n"
     ]
    },
    {
     "output_type": "stream",
     "name": "stdout",
     "text": [
      "Epoch [1396/6000]: Train loss: 3.0577, Valid loss: 3.0200\n"
     ]
    },
    {
     "output_type": "stream",
     "name": "stderr",
     "text": [
      "Epoch [1397/6000]: 100%|██████████| 17/17 [00:00<00:00, 116.93it/s, loss=2.93]\n"
     ]
    },
    {
     "output_type": "stream",
     "name": "stdout",
     "text": [
      "Epoch [1397/6000]: Train loss: 3.0541, Valid loss: 2.8899\n"
     ]
    },
    {
     "output_type": "stream",
     "name": "stderr",
     "text": [
      "Epoch [1398/6000]: 100%|██████████| 17/17 [00:00<00:00, 116.40it/s, loss=2.23]\n"
     ]
    },
    {
     "output_type": "stream",
     "name": "stdout",
     "text": [
      "Epoch [1398/6000]: Train loss: 3.0447, Valid loss: 2.9789\n"
     ]
    },
    {
     "output_type": "stream",
     "name": "stderr",
     "text": [
      "Epoch [1399/6000]: 100%|██████████| 17/17 [00:00<00:00, 121.18it/s, loss=3.24]\n"
     ]
    },
    {
     "output_type": "stream",
     "name": "stdout",
     "text": [
      "Epoch [1399/6000]: Train loss: 3.0491, Valid loss: 2.9399\n"
     ]
    },
    {
     "output_type": "stream",
     "name": "stderr",
     "text": [
      "Epoch [1400/6000]: 100%|██████████| 17/17 [00:00<00:00, 92.68it/s, loss=3.51]\n"
     ]
    },
    {
     "output_type": "stream",
     "name": "stdout",
     "text": [
      "Epoch [1400/6000]: Train loss: 3.0484, Valid loss: 3.0326\n"
     ]
    },
    {
     "output_type": "stream",
     "name": "stderr",
     "text": [
      "Epoch [1401/6000]: 100%|██████████| 17/17 [00:00<00:00, 101.74it/s, loss=3.05]\n"
     ]
    },
    {
     "output_type": "stream",
     "name": "stdout",
     "text": [
      "Epoch [1401/6000]: Train loss: 3.0417, Valid loss: 3.1520\n"
     ]
    },
    {
     "output_type": "stream",
     "name": "stderr",
     "text": [
      "Epoch [1402/6000]: 100%|██████████| 17/17 [00:00<00:00, 110.75it/s, loss=2.65]\n"
     ]
    },
    {
     "output_type": "stream",
     "name": "stdout",
     "text": [
      "Epoch [1402/6000]: Train loss: 3.0360, Valid loss: 2.9010\n"
     ]
    },
    {
     "output_type": "stream",
     "name": "stderr",
     "text": [
      "Epoch [1403/6000]: 100%|██████████| 17/17 [00:00<00:00, 99.23it/s, loss=3.04]\n"
     ]
    },
    {
     "output_type": "stream",
     "name": "stdout",
     "text": [
      "Epoch [1403/6000]: Train loss: 3.0353, Valid loss: 2.7861\n"
     ]
    },
    {
     "output_type": "stream",
     "name": "stderr",
     "text": [
      "Epoch [1404/6000]: 100%|██████████| 17/17 [00:00<00:00, 93.14it/s, loss=2.36] \n"
     ]
    },
    {
     "output_type": "stream",
     "name": "stdout",
     "text": [
      "Epoch [1404/6000]: Train loss: 3.0271, Valid loss: 3.0882\n"
     ]
    },
    {
     "output_type": "stream",
     "name": "stderr",
     "text": [
      "Epoch [1405/6000]: 100%|██████████| 17/17 [00:00<00:00, 113.07it/s, loss=3.42]\n"
     ]
    },
    {
     "output_type": "stream",
     "name": "stdout",
     "text": [
      "Epoch [1405/6000]: Train loss: 3.0328, Valid loss: 2.9930\n"
     ]
    },
    {
     "output_type": "stream",
     "name": "stderr",
     "text": [
      "Epoch [1406/6000]: 100%|██████████| 17/17 [00:00<00:00, 120.32it/s, loss=2.3]\n"
     ]
    },
    {
     "output_type": "stream",
     "name": "stdout",
     "text": [
      "Epoch [1406/6000]: Train loss: 3.0208, Valid loss: 2.8865\n"
     ]
    },
    {
     "output_type": "stream",
     "name": "stderr",
     "text": [
      "Epoch [1407/6000]: 100%|██████████| 17/17 [00:00<00:00, 119.87it/s, loss=2.83]\n"
     ]
    },
    {
     "output_type": "stream",
     "name": "stdout",
     "text": [
      "Epoch [1407/6000]: Train loss: 3.0216, Valid loss: 2.9628\n"
     ]
    },
    {
     "output_type": "stream",
     "name": "stderr",
     "text": [
      "Epoch [1408/6000]: 100%|██████████| 17/17 [00:00<00:00, 116.69it/s, loss=3.75]\n"
     ]
    },
    {
     "output_type": "stream",
     "name": "stdout",
     "text": [
      "Epoch [1408/6000]: Train loss: 3.0252, Valid loss: 2.9044\n"
     ]
    },
    {
     "output_type": "stream",
     "name": "stderr",
     "text": [
      "Epoch [1409/6000]: 100%|██████████| 17/17 [00:00<00:00, 116.59it/s, loss=2.52]\n"
     ]
    },
    {
     "output_type": "stream",
     "name": "stdout",
     "text": [
      "Epoch [1409/6000]: Train loss: 3.0129, Valid loss: 2.8597\n"
     ]
    },
    {
     "output_type": "stream",
     "name": "stderr",
     "text": [
      "Epoch [1410/6000]: 100%|██████████| 17/17 [00:00<00:00, 132.03it/s, loss=3.38]\n"
     ]
    },
    {
     "output_type": "stream",
     "name": "stdout",
     "text": [
      "Epoch [1410/6000]: Train loss: 3.0162, Valid loss: 2.9662\n"
     ]
    },
    {
     "output_type": "stream",
     "name": "stderr",
     "text": [
      "Epoch [1411/6000]: 100%|██████████| 17/17 [00:00<00:00, 120.26it/s, loss=3.11]\n"
     ]
    },
    {
     "output_type": "stream",
     "name": "stdout",
     "text": [
      "Epoch [1411/6000]: Train loss: 3.0123, Valid loss: 2.7276\n"
     ]
    },
    {
     "output_type": "stream",
     "name": "stderr",
     "text": [
      "Epoch [1412/6000]: 100%|██████████| 17/17 [00:00<00:00, 109.36it/s, loss=3.69]\n"
     ]
    },
    {
     "output_type": "stream",
     "name": "stdout",
     "text": [
      "Epoch [1412/6000]: Train loss: 3.0120, Valid loss: 2.8396\n"
     ]
    },
    {
     "output_type": "stream",
     "name": "stderr",
     "text": [
      "Epoch [1413/6000]: 100%|██████████| 17/17 [00:00<00:00, 102.85it/s, loss=3.03]\n"
     ]
    },
    {
     "output_type": "stream",
     "name": "stdout",
     "text": [
      "Epoch [1413/6000]: Train loss: 3.0049, Valid loss: 2.7716\n"
     ]
    },
    {
     "output_type": "stream",
     "name": "stderr",
     "text": [
      "Epoch [1414/6000]: 100%|██████████| 17/17 [00:00<00:00, 132.47it/s, loss=2.85]\n"
     ]
    },
    {
     "output_type": "stream",
     "name": "stdout",
     "text": [
      "Epoch [1414/6000]: Train loss: 2.9998, Valid loss: 2.8427\n"
     ]
    },
    {
     "output_type": "stream",
     "name": "stderr",
     "text": [
      "Epoch [1415/6000]: 100%|██████████| 17/17 [00:00<00:00, 122.90it/s, loss=2.71]\n"
     ]
    },
    {
     "output_type": "stream",
     "name": "stdout",
     "text": [
      "Epoch [1415/6000]: Train loss: 2.9965, Valid loss: 2.6637\n",
      "Saving model with loss 2.664...\n"
     ]
    },
    {
     "output_type": "stream",
     "name": "stderr",
     "text": [
      "Epoch [1416/6000]: 100%|██████████| 17/17 [00:00<00:00, 95.26it/s, loss=3.52]\n"
     ]
    },
    {
     "output_type": "stream",
     "name": "stdout",
     "text": [
      "Epoch [1416/6000]: Train loss: 2.9993, Valid loss: 3.0791\n"
     ]
    },
    {
     "output_type": "stream",
     "name": "stderr",
     "text": [
      "Epoch [1417/6000]: 100%|██████████| 17/17 [00:00<00:00, 103.48it/s, loss=3.1]\n"
     ]
    },
    {
     "output_type": "stream",
     "name": "stdout",
     "text": [
      "Epoch [1417/6000]: Train loss: 2.9925, Valid loss: 2.9540\n"
     ]
    },
    {
     "output_type": "stream",
     "name": "stderr",
     "text": [
      "Epoch [1418/6000]: 100%|██████████| 17/17 [00:00<00:00, 109.27it/s, loss=2.86]\n"
     ]
    },
    {
     "output_type": "stream",
     "name": "stdout",
     "text": [
      "Epoch [1418/6000]: Train loss: 2.9880, Valid loss: 2.9470\n"
     ]
    },
    {
     "output_type": "stream",
     "name": "stderr",
     "text": [
      "Epoch [1419/6000]: 100%|██████████| 17/17 [00:00<00:00, 105.08it/s, loss=2.42]\n"
     ]
    },
    {
     "output_type": "stream",
     "name": "stdout",
     "text": [
      "Epoch [1419/6000]: Train loss: 2.9817, Valid loss: 2.8289\n"
     ]
    },
    {
     "output_type": "stream",
     "name": "stderr",
     "text": [
      "Epoch [1420/6000]: 100%|██████████| 17/17 [00:00<00:00, 113.60it/s, loss=3.45]\n"
     ]
    },
    {
     "output_type": "stream",
     "name": "stdout",
     "text": [
      "Epoch [1420/6000]: Train loss: 2.9861, Valid loss: 2.9314\n"
     ]
    },
    {
     "output_type": "stream",
     "name": "stderr",
     "text": [
      "Epoch [1421/6000]: 100%|██████████| 17/17 [00:00<00:00, 101.25it/s, loss=3.23]\n"
     ]
    },
    {
     "output_type": "stream",
     "name": "stdout",
     "text": [
      "Epoch [1421/6000]: Train loss: 2.9815, Valid loss: 2.5755\n",
      "Saving model with loss 2.576...\n"
     ]
    },
    {
     "output_type": "stream",
     "name": "stderr",
     "text": [
      "Epoch [1422/6000]: 100%|██████████| 17/17 [00:00<00:00, 114.74it/s, loss=2.54]\n"
     ]
    },
    {
     "output_type": "stream",
     "name": "stdout",
     "text": [
      "Epoch [1422/6000]: Train loss: 2.9742, Valid loss: 2.8397\n"
     ]
    },
    {
     "output_type": "stream",
     "name": "stderr",
     "text": [
      "Epoch [1423/6000]: 100%|██████████| 17/17 [00:00<00:00, 122.97it/s, loss=2.28]\n"
     ]
    },
    {
     "output_type": "stream",
     "name": "stdout",
     "text": [
      "Epoch [1423/6000]: Train loss: 2.9684, Valid loss: 2.7156\n"
     ]
    },
    {
     "output_type": "stream",
     "name": "stderr",
     "text": [
      "Epoch [1424/6000]: 100%|██████████| 17/17 [00:00<00:00, 115.98it/s, loss=3.17]\n"
     ]
    },
    {
     "output_type": "stream",
     "name": "stdout",
     "text": [
      "Epoch [1424/6000]: Train loss: 2.9719, Valid loss: 2.9409\n"
     ]
    },
    {
     "output_type": "stream",
     "name": "stderr",
     "text": [
      "Epoch [1425/6000]: 100%|██████████| 17/17 [00:00<00:00, 117.58it/s, loss=2.45]\n"
     ]
    },
    {
     "output_type": "stream",
     "name": "stdout",
     "text": [
      "Epoch [1425/6000]: Train loss: 2.9655, Valid loss: 2.8949\n"
     ]
    },
    {
     "output_type": "stream",
     "name": "stderr",
     "text": [
      "Epoch [1426/6000]: 100%|██████████| 17/17 [00:00<00:00, 101.86it/s, loss=3.29]\n"
     ]
    },
    {
     "output_type": "stream",
     "name": "stdout",
     "text": [
      "Epoch [1426/6000]: Train loss: 2.9668, Valid loss: 2.6615\n"
     ]
    },
    {
     "output_type": "stream",
     "name": "stderr",
     "text": [
      "Epoch [1427/6000]: 100%|██████████| 17/17 [00:00<00:00, 107.85it/s, loss=3.04]\n"
     ]
    },
    {
     "output_type": "stream",
     "name": "stdout",
     "text": [
      "Epoch [1427/6000]: Train loss: 2.9622, Valid loss: 3.0505\n"
     ]
    },
    {
     "output_type": "stream",
     "name": "stderr",
     "text": [
      "Epoch [1428/6000]: 100%|██████████| 17/17 [00:00<00:00, 107.40it/s, loss=2.58]\n"
     ]
    },
    {
     "output_type": "stream",
     "name": "stdout",
     "text": [
      "Epoch [1428/6000]: Train loss: 2.9564, Valid loss: 2.6708\n"
     ]
    },
    {
     "output_type": "stream",
     "name": "stderr",
     "text": [
      "Epoch [1429/6000]: 100%|██████████| 17/17 [00:00<00:00, 101.52it/s, loss=2.82]\n"
     ]
    },
    {
     "output_type": "stream",
     "name": "stdout",
     "text": [
      "Epoch [1429/6000]: Train loss: 2.9544, Valid loss: 2.6437\n"
     ]
    },
    {
     "output_type": "stream",
     "name": "stderr",
     "text": [
      "Epoch [1430/6000]: 100%|██████████| 17/17 [00:00<00:00, 109.03it/s, loss=2.84]\n"
     ]
    },
    {
     "output_type": "stream",
     "name": "stdout",
     "text": [
      "Epoch [1430/6000]: Train loss: 2.9520, Valid loss: 2.5941\n"
     ]
    },
    {
     "output_type": "stream",
     "name": "stderr",
     "text": [
      "Epoch [1431/6000]: 100%|██████████| 17/17 [00:00<00:00, 109.88it/s, loss=2.35]\n"
     ]
    },
    {
     "output_type": "stream",
     "name": "stdout",
     "text": [
      "Epoch [1431/6000]: Train loss: 2.9450, Valid loss: 2.6400\n"
     ]
    },
    {
     "output_type": "stream",
     "name": "stderr",
     "text": [
      "Epoch [1432/6000]: 100%|██████████| 17/17 [00:00<00:00, 114.51it/s, loss=4.16]\n"
     ]
    },
    {
     "output_type": "stream",
     "name": "stdout",
     "text": [
      "Epoch [1432/6000]: Train loss: 2.9559, Valid loss: 2.6244\n"
     ]
    },
    {
     "output_type": "stream",
     "name": "stderr",
     "text": [
      "Epoch [1433/6000]: 100%|██████████| 17/17 [00:00<00:00, 103.02it/s, loss=3.55]\n"
     ]
    },
    {
     "output_type": "stream",
     "name": "stdout",
     "text": [
      "Epoch [1433/6000]: Train loss: 2.9496, Valid loss: 2.6374\n"
     ]
    },
    {
     "output_type": "stream",
     "name": "stderr",
     "text": [
      "Epoch [1434/6000]: 100%|██████████| 17/17 [00:00<00:00, 99.82it/s, loss=2.42]\n"
     ]
    },
    {
     "output_type": "stream",
     "name": "stdout",
     "text": [
      "Epoch [1434/6000]: Train loss: 2.9366, Valid loss: 3.1976\n"
     ]
    },
    {
     "output_type": "stream",
     "name": "stderr",
     "text": [
      "Epoch [1435/6000]: 100%|██████████| 17/17 [00:00<00:00, 97.56it/s, loss=3.26]\n"
     ]
    },
    {
     "output_type": "stream",
     "name": "stdout",
     "text": [
      "Epoch [1435/6000]: Train loss: 2.9399, Valid loss: 3.1809\n"
     ]
    },
    {
     "output_type": "stream",
     "name": "stderr",
     "text": [
      "Epoch [1436/6000]: 100%|██████████| 17/17 [00:00<00:00, 109.51it/s, loss=2.66]\n"
     ]
    },
    {
     "output_type": "stream",
     "name": "stdout",
     "text": [
      "Epoch [1436/6000]: Train loss: 2.9336, Valid loss: 2.8572\n"
     ]
    },
    {
     "output_type": "stream",
     "name": "stderr",
     "text": [
      "Epoch [1437/6000]: 100%|██████████| 17/17 [00:00<00:00, 116.69it/s, loss=2.78]\n"
     ]
    },
    {
     "output_type": "stream",
     "name": "stdout",
     "text": [
      "Epoch [1437/6000]: Train loss: 2.9302, Valid loss: 3.0755\n"
     ]
    },
    {
     "output_type": "stream",
     "name": "stderr",
     "text": [
      "Epoch [1438/6000]: 100%|██████████| 17/17 [00:00<00:00, 109.36it/s, loss=2.95]\n"
     ]
    },
    {
     "output_type": "stream",
     "name": "stdout",
     "text": [
      "Epoch [1438/6000]: Train loss: 2.9296, Valid loss: 2.6706\n"
     ]
    },
    {
     "output_type": "stream",
     "name": "stderr",
     "text": [
      "Epoch [1439/6000]: 100%|██████████| 17/17 [00:00<00:00, 101.11it/s, loss=2.18]\n"
     ]
    },
    {
     "output_type": "stream",
     "name": "stdout",
     "text": [
      "Epoch [1439/6000]: Train loss: 2.9200, Valid loss: 2.8210\n"
     ]
    },
    {
     "output_type": "stream",
     "name": "stderr",
     "text": [
      "Epoch [1440/6000]: 100%|██████████| 17/17 [00:00<00:00, 98.88it/s, loss=3.11]\n"
     ]
    },
    {
     "output_type": "stream",
     "name": "stdout",
     "text": [
      "Epoch [1440/6000]: Train loss: 2.9249, Valid loss: 3.2951\n"
     ]
    },
    {
     "output_type": "stream",
     "name": "stderr",
     "text": [
      "Epoch [1441/6000]: 100%|██████████| 17/17 [00:00<00:00, 122.79it/s, loss=2.92]\n"
     ]
    },
    {
     "output_type": "stream",
     "name": "stdout",
     "text": [
      "Epoch [1441/6000]: Train loss: 2.9206, Valid loss: 2.7164\n"
     ]
    },
    {
     "output_type": "stream",
     "name": "stderr",
     "text": [
      "Epoch [1442/6000]: 100%|██████████| 17/17 [00:00<00:00, 111.84it/s, loss=2.65]\n"
     ]
    },
    {
     "output_type": "stream",
     "name": "stdout",
     "text": [
      "Epoch [1442/6000]: Train loss: 2.9148, Valid loss: 2.7364\n"
     ]
    },
    {
     "output_type": "stream",
     "name": "stderr",
     "text": [
      "Epoch [1443/6000]: 100%|██████████| 17/17 [00:00<00:00, 112.42it/s, loss=2.85]\n"
     ]
    },
    {
     "output_type": "stream",
     "name": "stdout",
     "text": [
      "Epoch [1443/6000]: Train loss: 2.9134, Valid loss: 2.6292\n"
     ]
    },
    {
     "output_type": "stream",
     "name": "stderr",
     "text": [
      "Epoch [1444/6000]: 100%|██████████| 17/17 [00:00<00:00, 105.16it/s, loss=3.02]\n"
     ]
    },
    {
     "output_type": "stream",
     "name": "stdout",
     "text": [
      "Epoch [1444/6000]: Train loss: 2.9119, Valid loss: 2.6555\n"
     ]
    },
    {
     "output_type": "stream",
     "name": "stderr",
     "text": [
      "Epoch [1445/6000]: 100%|██████████| 17/17 [00:00<00:00, 113.55it/s, loss=3.42]\n"
     ]
    },
    {
     "output_type": "stream",
     "name": "stdout",
     "text": [
      "Epoch [1445/6000]: Train loss: 2.9119, Valid loss: 2.6123\n"
     ]
    },
    {
     "output_type": "stream",
     "name": "stderr",
     "text": [
      "Epoch [1446/6000]: 100%|██████████| 17/17 [00:00<00:00, 123.44it/s, loss=2.62]\n"
     ]
    },
    {
     "output_type": "stream",
     "name": "stdout",
     "text": [
      "Epoch [1446/6000]: Train loss: 2.9035, Valid loss: 2.8266\n"
     ]
    },
    {
     "output_type": "stream",
     "name": "stderr",
     "text": [
      "Epoch [1447/6000]: 100%|██████████| 17/17 [00:00<00:00, 112.47it/s, loss=2.97]\n"
     ]
    },
    {
     "output_type": "stream",
     "name": "stdout",
     "text": [
      "Epoch [1447/6000]: Train loss: 2.9035, Valid loss: 2.6841\n"
     ]
    },
    {
     "output_type": "stream",
     "name": "stderr",
     "text": [
      "Epoch [1448/6000]: 100%|██████████| 17/17 [00:00<00:00, 105.99it/s, loss=3.56]\n"
     ]
    },
    {
     "output_type": "stream",
     "name": "stdout",
     "text": [
      "Epoch [1448/6000]: Train loss: 2.9047, Valid loss: 2.6738\n"
     ]
    },
    {
     "output_type": "stream",
     "name": "stderr",
     "text": [
      "Epoch [1449/6000]: 100%|██████████| 17/17 [00:00<00:00, 101.66it/s, loss=2.32]\n"
     ]
    },
    {
     "output_type": "stream",
     "name": "stdout",
     "text": [
      "Epoch [1449/6000]: Train loss: 2.8926, Valid loss: 2.7658\n"
     ]
    },
    {
     "output_type": "stream",
     "name": "stderr",
     "text": [
      "Epoch [1450/6000]: 100%|██████████| 17/17 [00:00<00:00, 99.79it/s, loss=3.05] \n"
     ]
    },
    {
     "output_type": "stream",
     "name": "stdout",
     "text": [
      "Epoch [1450/6000]: Train loss: 2.8950, Valid loss: 2.7762\n"
     ]
    },
    {
     "output_type": "stream",
     "name": "stderr",
     "text": [
      "Epoch [1451/6000]: 100%|██████████| 17/17 [00:00<00:00, 107.56it/s, loss=3.58]\n"
     ]
    },
    {
     "output_type": "stream",
     "name": "stdout",
     "text": [
      "Epoch [1451/6000]: Train loss: 2.8961, Valid loss: 2.7215\n"
     ]
    },
    {
     "output_type": "stream",
     "name": "stderr",
     "text": [
      "Epoch [1452/6000]: 100%|██████████| 17/17 [00:00<00:00, 102.33it/s, loss=3.82]\n"
     ]
    },
    {
     "output_type": "stream",
     "name": "stdout",
     "text": [
      "Epoch [1452/6000]: Train loss: 2.8951, Valid loss: 2.6700\n"
     ]
    },
    {
     "output_type": "stream",
     "name": "stderr",
     "text": [
      "Epoch [1453/6000]: 100%|██████████| 17/17 [00:00<00:00, 114.72it/s, loss=3.4]\n"
     ]
    },
    {
     "output_type": "stream",
     "name": "stdout",
     "text": [
      "Epoch [1453/6000]: Train loss: 2.8889, Valid loss: 2.7625\n"
     ]
    },
    {
     "output_type": "stream",
     "name": "stderr",
     "text": [
      "Epoch [1454/6000]: 100%|██████████| 17/17 [00:00<00:00, 119.22it/s, loss=2.99]\n"
     ]
    },
    {
     "output_type": "stream",
     "name": "stdout",
     "text": [
      "Epoch [1454/6000]: Train loss: 2.8833, Valid loss: 2.7304\n"
     ]
    },
    {
     "output_type": "stream",
     "name": "stderr",
     "text": [
      "Epoch [1455/6000]: 100%|██████████| 17/17 [00:00<00:00, 117.09it/s, loss=2.2]\n"
     ]
    },
    {
     "output_type": "stream",
     "name": "stdout",
     "text": [
      "Epoch [1455/6000]: Train loss: 2.8744, Valid loss: 2.7821\n"
     ]
    },
    {
     "output_type": "stream",
     "name": "stderr",
     "text": [
      "Epoch [1456/6000]: 100%|██████████| 17/17 [00:00<00:00, 122.00it/s, loss=3.63]\n"
     ]
    },
    {
     "output_type": "stream",
     "name": "stdout",
     "text": [
      "Epoch [1456/6000]: Train loss: 2.8820, Valid loss: 2.6513\n"
     ]
    },
    {
     "output_type": "stream",
     "name": "stderr",
     "text": [
      "Epoch [1457/6000]: 100%|██████████| 17/17 [00:00<00:00, 118.32it/s, loss=2.16]\n"
     ]
    },
    {
     "output_type": "stream",
     "name": "stdout",
     "text": [
      "Epoch [1457/6000]: Train loss: 2.8688, Valid loss: 2.8074\n"
     ]
    },
    {
     "output_type": "stream",
     "name": "stderr",
     "text": [
      "Epoch [1458/6000]: 100%|██████████| 17/17 [00:00<00:00, 119.02it/s, loss=2.74]\n"
     ]
    },
    {
     "output_type": "stream",
     "name": "stdout",
     "text": [
      "Epoch [1458/6000]: Train loss: 2.8699, Valid loss: 2.7024\n"
     ]
    },
    {
     "output_type": "stream",
     "name": "stderr",
     "text": [
      "Epoch [1459/6000]: 100%|██████████| 17/17 [00:00<00:00, 116.79it/s, loss=2.83]\n"
     ]
    },
    {
     "output_type": "stream",
     "name": "stdout",
     "text": [
      "Epoch [1459/6000]: Train loss: 2.8676, Valid loss: 2.5891\n"
     ]
    },
    {
     "output_type": "stream",
     "name": "stderr",
     "text": [
      "Epoch [1460/6000]: 100%|██████████| 17/17 [00:00<00:00, 92.86it/s, loss=2.66]\n"
     ]
    },
    {
     "output_type": "stream",
     "name": "stdout",
     "text": [
      "Epoch [1460/6000]: Train loss: 2.8637, Valid loss: 2.8560\n"
     ]
    },
    {
     "output_type": "stream",
     "name": "stderr",
     "text": [
      "Epoch [1461/6000]: 100%|██████████| 17/17 [00:00<00:00, 103.98it/s, loss=3.3]\n"
     ]
    },
    {
     "output_type": "stream",
     "name": "stdout",
     "text": [
      "Epoch [1461/6000]: Train loss: 2.8655, Valid loss: 2.9606\n"
     ]
    },
    {
     "output_type": "stream",
     "name": "stderr",
     "text": [
      "Epoch [1462/6000]: 100%|██████████| 17/17 [00:00<00:00, 114.41it/s, loss=3.45]\n"
     ]
    },
    {
     "output_type": "stream",
     "name": "stdout",
     "text": [
      "Epoch [1462/6000]: Train loss: 2.8642, Valid loss: 2.8819\n"
     ]
    },
    {
     "output_type": "stream",
     "name": "stderr",
     "text": [
      "Epoch [1463/6000]: 100%|██████████| 17/17 [00:00<00:00, 113.26it/s, loss=3.69]\n"
     ]
    },
    {
     "output_type": "stream",
     "name": "stdout",
     "text": [
      "Epoch [1463/6000]: Train loss: 2.8629, Valid loss: 2.7194\n"
     ]
    },
    {
     "output_type": "stream",
     "name": "stderr",
     "text": [
      "Epoch [1464/6000]: 100%|██████████| 17/17 [00:00<00:00, 114.23it/s, loss=2.24]\n"
     ]
    },
    {
     "output_type": "stream",
     "name": "stdout",
     "text": [
      "Epoch [1464/6000]: Train loss: 2.8493, Valid loss: 2.8474\n"
     ]
    },
    {
     "output_type": "stream",
     "name": "stderr",
     "text": [
      "Epoch [1465/6000]: 100%|██████████| 17/17 [00:00<00:00, 112.44it/s, loss=2.43]\n"
     ]
    },
    {
     "output_type": "stream",
     "name": "stdout",
     "text": [
      "Epoch [1465/6000]: Train loss: 2.8488, Valid loss: 2.7696\n"
     ]
    },
    {
     "output_type": "stream",
     "name": "stderr",
     "text": [
      "Epoch [1466/6000]: 100%|██████████| 17/17 [00:00<00:00, 103.14it/s, loss=2.98]\n"
     ]
    },
    {
     "output_type": "stream",
     "name": "stdout",
     "text": [
      "Epoch [1466/6000]: Train loss: 2.8502, Valid loss: 2.6220\n"
     ]
    },
    {
     "output_type": "stream",
     "name": "stderr",
     "text": [
      "Epoch [1467/6000]: 100%|██████████| 17/17 [00:00<00:00, 116.32it/s, loss=2.89]\n"
     ]
    },
    {
     "output_type": "stream",
     "name": "stdout",
     "text": [
      "Epoch [1467/6000]: Train loss: 2.8460, Valid loss: 2.6797\n"
     ]
    },
    {
     "output_type": "stream",
     "name": "stderr",
     "text": [
      "Epoch [1468/6000]: 100%|██████████| 17/17 [00:00<00:00, 128.38it/s, loss=2.64]\n"
     ]
    },
    {
     "output_type": "stream",
     "name": "stdout",
     "text": [
      "Epoch [1468/6000]: Train loss: 2.8426, Valid loss: 2.8816\n"
     ]
    },
    {
     "output_type": "stream",
     "name": "stderr",
     "text": [
      "Epoch [1469/6000]: 100%|██████████| 17/17 [00:00<00:00, 131.00it/s, loss=2.66]\n"
     ]
    },
    {
     "output_type": "stream",
     "name": "stdout",
     "text": [
      "Epoch [1469/6000]: Train loss: 2.8385, Valid loss: 2.6824\n"
     ]
    },
    {
     "output_type": "stream",
     "name": "stderr",
     "text": [
      "Epoch [1470/6000]: 100%|██████████| 17/17 [00:00<00:00, 114.35it/s, loss=3.31]\n"
     ]
    },
    {
     "output_type": "stream",
     "name": "stdout",
     "text": [
      "Epoch [1470/6000]: Train loss: 2.8406, Valid loss: 2.4412\n",
      "Saving model with loss 2.441...\n"
     ]
    },
    {
     "output_type": "stream",
     "name": "stderr",
     "text": [
      "Epoch [1471/6000]: 100%|██████████| 17/17 [00:00<00:00, 122.80it/s, loss=2.95]\n"
     ]
    },
    {
     "output_type": "stream",
     "name": "stdout",
     "text": [
      "Epoch [1471/6000]: Train loss: 2.8351, Valid loss: 2.4434\n"
     ]
    },
    {
     "output_type": "stream",
     "name": "stderr",
     "text": [
      "Epoch [1472/6000]: 100%|██████████| 17/17 [00:00<00:00, 117.61it/s, loss=2.95]\n"
     ]
    },
    {
     "output_type": "stream",
     "name": "stdout",
     "text": [
      "Epoch [1472/6000]: Train loss: 2.8326, Valid loss: 2.7244\n"
     ]
    },
    {
     "output_type": "stream",
     "name": "stderr",
     "text": [
      "Epoch [1473/6000]: 100%|██████████| 17/17 [00:00<00:00, 112.70it/s, loss=3.3]\n"
     ]
    },
    {
     "output_type": "stream",
     "name": "stdout",
     "text": [
      "Epoch [1473/6000]: Train loss: 2.8322, Valid loss: 2.5700\n"
     ]
    },
    {
     "output_type": "stream",
     "name": "stderr",
     "text": [
      "Epoch [1474/6000]: 100%|██████████| 17/17 [00:00<00:00, 120.90it/s, loss=2.99]\n"
     ]
    },
    {
     "output_type": "stream",
     "name": "stdout",
     "text": [
      "Epoch [1474/6000]: Train loss: 2.8285, Valid loss: 2.5390\n"
     ]
    },
    {
     "output_type": "stream",
     "name": "stderr",
     "text": [
      "Epoch [1475/6000]: 100%|██████████| 17/17 [00:00<00:00, 113.87it/s, loss=3.25]\n"
     ]
    },
    {
     "output_type": "stream",
     "name": "stdout",
     "text": [
      "Epoch [1475/6000]: Train loss: 2.8271, Valid loss: 2.6744\n"
     ]
    },
    {
     "output_type": "stream",
     "name": "stderr",
     "text": [
      "Epoch [1476/6000]: 100%|██████████| 17/17 [00:00<00:00, 117.71it/s, loss=3.42]\n"
     ]
    },
    {
     "output_type": "stream",
     "name": "stdout",
     "text": [
      "Epoch [1476/6000]: Train loss: 2.8251, Valid loss: 2.7129\n"
     ]
    },
    {
     "output_type": "stream",
     "name": "stderr",
     "text": [
      "Epoch [1477/6000]: 100%|██████████| 17/17 [00:00<00:00, 119.47it/s, loss=3.64]\n"
     ]
    },
    {
     "output_type": "stream",
     "name": "stdout",
     "text": [
      "Epoch [1477/6000]: Train loss: 2.8234, Valid loss: 2.6907\n"
     ]
    },
    {
     "output_type": "stream",
     "name": "stderr",
     "text": [
      "Epoch [1478/6000]: 100%|██████████| 17/17 [00:00<00:00, 46.51it/s, loss=2.23]\n"
     ]
    },
    {
     "output_type": "stream",
     "name": "stdout",
     "text": [
      "Epoch [1478/6000]: Train loss: 2.8105, Valid loss: 3.1076\n"
     ]
    },
    {
     "output_type": "stream",
     "name": "stderr",
     "text": [
      "Epoch [1479/6000]: 100%|██████████| 17/17 [00:00<00:00, 40.50it/s, loss=3.19]\n"
     ]
    },
    {
     "output_type": "stream",
     "name": "stdout",
     "text": [
      "Epoch [1479/6000]: Train loss: 2.8151, Valid loss: 2.8554\n"
     ]
    },
    {
     "output_type": "stream",
     "name": "stderr",
     "text": [
      "Epoch [1480/6000]: 100%|██████████| 17/17 [00:00<00:00, 98.21it/s, loss=3.2]\n"
     ]
    },
    {
     "output_type": "stream",
     "name": "stdout",
     "text": [
      "Epoch [1480/6000]: Train loss: 2.8123, Valid loss: 2.7502\n"
     ]
    },
    {
     "output_type": "stream",
     "name": "stderr",
     "text": [
      "Epoch [1481/6000]: 100%|██████████| 17/17 [00:00<00:00, 102.96it/s, loss=2.69]\n"
     ]
    },
    {
     "output_type": "stream",
     "name": "stdout",
     "text": [
      "Epoch [1481/6000]: Train loss: 2.8058, Valid loss: 2.7249\n"
     ]
    },
    {
     "output_type": "stream",
     "name": "stderr",
     "text": [
      "Epoch [1482/6000]: 100%|██████████| 17/17 [00:00<00:00, 113.45it/s, loss=2.58]\n"
     ]
    },
    {
     "output_type": "stream",
     "name": "stdout",
     "text": [
      "Epoch [1482/6000]: Train loss: 2.8021, Valid loss: 2.5696\n"
     ]
    },
    {
     "output_type": "stream",
     "name": "stderr",
     "text": [
      "Epoch [1483/6000]: 100%|██████████| 17/17 [00:00<00:00, 112.60it/s, loss=3.35]\n"
     ]
    },
    {
     "output_type": "stream",
     "name": "stdout",
     "text": [
      "Epoch [1483/6000]: Train loss: 2.8053, Valid loss: 2.5230\n"
     ]
    },
    {
     "output_type": "stream",
     "name": "stderr",
     "text": [
      "Epoch [1484/6000]: 100%|██████████| 17/17 [00:00<00:00, 122.24it/s, loss=3.23]\n"
     ]
    },
    {
     "output_type": "stream",
     "name": "stdout",
     "text": [
      "Epoch [1484/6000]: Train loss: 2.8017, Valid loss: 2.5921\n"
     ]
    },
    {
     "output_type": "stream",
     "name": "stderr",
     "text": [
      "Epoch [1485/6000]: 100%|██████████| 17/17 [00:00<00:00, 124.96it/s, loss=2.51]\n"
     ]
    },
    {
     "output_type": "stream",
     "name": "stdout",
     "text": [
      "Epoch [1485/6000]: Train loss: 2.7934, Valid loss: 2.4647\n"
     ]
    },
    {
     "output_type": "stream",
     "name": "stderr",
     "text": [
      "Epoch [1486/6000]: 100%|██████████| 17/17 [00:00<00:00, 118.40it/s, loss=2.96]\n"
     ]
    },
    {
     "output_type": "stream",
     "name": "stdout",
     "text": [
      "Epoch [1486/6000]: Train loss: 2.7944, Valid loss: 2.5456\n"
     ]
    },
    {
     "output_type": "stream",
     "name": "stderr",
     "text": [
      "Epoch [1487/6000]: 100%|██████████| 17/17 [00:00<00:00, 104.82it/s, loss=3.56]\n"
     ]
    },
    {
     "output_type": "stream",
     "name": "stdout",
     "text": [
      "Epoch [1487/6000]: Train loss: 2.7958, Valid loss: 2.4714\n"
     ]
    },
    {
     "output_type": "stream",
     "name": "stderr",
     "text": [
      "Epoch [1488/6000]: 100%|██████████| 17/17 [00:00<00:00, 111.07it/s, loss=3.41]\n"
     ]
    },
    {
     "output_type": "stream",
     "name": "stdout",
     "text": [
      "Epoch [1488/6000]: Train loss: 2.7925, Valid loss: 2.6911\n"
     ]
    },
    {
     "output_type": "stream",
     "name": "stderr",
     "text": [
      "Epoch [1489/6000]: 100%|██████████| 17/17 [00:00<00:00, 104.07it/s, loss=3.2]\n"
     ]
    },
    {
     "output_type": "stream",
     "name": "stdout",
     "text": [
      "Epoch [1489/6000]: Train loss: 2.7884, Valid loss: 2.5642\n"
     ]
    },
    {
     "output_type": "stream",
     "name": "stderr",
     "text": [
      "Epoch [1490/6000]: 100%|██████████| 17/17 [00:00<00:00, 107.27it/s, loss=2.67]\n"
     ]
    },
    {
     "output_type": "stream",
     "name": "stdout",
     "text": [
      "Epoch [1490/6000]: Train loss: 2.7813, Valid loss: 2.3971\n",
      "Saving model with loss 2.397...\n"
     ]
    },
    {
     "output_type": "stream",
     "name": "stderr",
     "text": [
      "Epoch [1491/6000]: 100%|██████████| 17/17 [00:00<00:00, 110.79it/s, loss=3.11]\n"
     ]
    },
    {
     "output_type": "stream",
     "name": "stdout",
     "text": [
      "Epoch [1491/6000]: Train loss: 2.7817, Valid loss: 2.7454\n"
     ]
    },
    {
     "output_type": "stream",
     "name": "stderr",
     "text": [
      "Epoch [1492/6000]: 100%|██████████| 17/17 [00:00<00:00, 120.50it/s, loss=3.11]\n"
     ]
    },
    {
     "output_type": "stream",
     "name": "stdout",
     "text": [
      "Epoch [1492/6000]: Train loss: 2.7794, Valid loss: 2.4346\n"
     ]
    },
    {
     "output_type": "stream",
     "name": "stderr",
     "text": [
      "Epoch [1493/6000]: 100%|██████████| 17/17 [00:00<00:00, 131.75it/s, loss=2.94]\n"
     ]
    },
    {
     "output_type": "stream",
     "name": "stdout",
     "text": [
      "Epoch [1493/6000]: Train loss: 2.7752, Valid loss: 2.9131\n"
     ]
    },
    {
     "output_type": "stream",
     "name": "stderr",
     "text": [
      "Epoch [1494/6000]: 100%|██████████| 17/17 [00:00<00:00, 121.59it/s, loss=3.92]\n"
     ]
    },
    {
     "output_type": "stream",
     "name": "stdout",
     "text": [
      "Epoch [1494/6000]: Train loss: 2.7807, Valid loss: 2.7512\n"
     ]
    },
    {
     "output_type": "stream",
     "name": "stderr",
     "text": [
      "Epoch [1495/6000]: 100%|██████████| 17/17 [00:00<00:00, 131.39it/s, loss=3.59]\n"
     ]
    },
    {
     "output_type": "stream",
     "name": "stdout",
     "text": [
      "Epoch [1495/6000]: Train loss: 2.7749, Valid loss: 2.7286\n"
     ]
    },
    {
     "output_type": "stream",
     "name": "stderr",
     "text": [
      "Epoch [1496/6000]: 100%|██████████| 17/17 [00:00<00:00, 126.88it/s, loss=3.42]\n"
     ]
    },
    {
     "output_type": "stream",
     "name": "stdout",
     "text": [
      "Epoch [1496/6000]: Train loss: 2.7718, Valid loss: 2.7036\n"
     ]
    },
    {
     "output_type": "stream",
     "name": "stderr",
     "text": [
      "Epoch [1497/6000]: 100%|██████████| 17/17 [00:00<00:00, 118.98it/s, loss=2.84]\n"
     ]
    },
    {
     "output_type": "stream",
     "name": "stdout",
     "text": [
      "Epoch [1497/6000]: Train loss: 2.7638, Valid loss: 2.4981\n"
     ]
    },
    {
     "output_type": "stream",
     "name": "stderr",
     "text": [
      "Epoch [1498/6000]: 100%|██████████| 17/17 [00:00<00:00, 136.26it/s, loss=3]\n"
     ]
    },
    {
     "output_type": "stream",
     "name": "stdout",
     "text": [
      "Epoch [1498/6000]: Train loss: 2.7624, Valid loss: 2.7375\n"
     ]
    },
    {
     "output_type": "stream",
     "name": "stderr",
     "text": [
      "Epoch [1499/6000]: 100%|██████████| 17/17 [00:00<00:00, 124.86it/s, loss=3.11]\n"
     ]
    },
    {
     "output_type": "stream",
     "name": "stdout",
     "text": [
      "Epoch [1499/6000]: Train loss: 2.7608, Valid loss: 3.1489\n"
     ]
    },
    {
     "output_type": "stream",
     "name": "stderr",
     "text": [
      "Epoch [1500/6000]: 100%|██████████| 17/17 [00:00<00:00, 134.36it/s, loss=2.57]\n"
     ]
    },
    {
     "output_type": "stream",
     "name": "stdout",
     "text": [
      "Epoch [1500/6000]: Train loss: 2.7541, Valid loss: 2.7549\n"
     ]
    },
    {
     "output_type": "stream",
     "name": "stderr",
     "text": [
      "Epoch [1501/6000]: 100%|██████████| 17/17 [00:00<00:00, 121.64it/s, loss=2.55]\n"
     ]
    },
    {
     "output_type": "stream",
     "name": "stdout",
     "text": [
      "Epoch [1501/6000]: Train loss: 2.7514, Valid loss: 2.7185\n"
     ]
    },
    {
     "output_type": "stream",
     "name": "stderr",
     "text": [
      "Epoch [1502/6000]: 100%|██████████| 17/17 [00:00<00:00, 117.16it/s, loss=3.06]\n"
     ]
    },
    {
     "output_type": "stream",
     "name": "stdout",
     "text": [
      "Epoch [1502/6000]: Train loss: 2.7525, Valid loss: 2.5591\n"
     ]
    },
    {
     "output_type": "stream",
     "name": "stderr",
     "text": [
      "Epoch [1503/6000]: 100%|██████████| 17/17 [00:00<00:00, 115.62it/s, loss=3.13]\n"
     ]
    },
    {
     "output_type": "stream",
     "name": "stdout",
     "text": [
      "Epoch [1503/6000]: Train loss: 2.7504, Valid loss: 2.5595\n"
     ]
    },
    {
     "output_type": "stream",
     "name": "stderr",
     "text": [
      "Epoch [1504/6000]: 100%|██████████| 17/17 [00:00<00:00, 128.59it/s, loss=2.57]\n"
     ]
    },
    {
     "output_type": "stream",
     "name": "stdout",
     "text": [
      "Epoch [1504/6000]: Train loss: 2.7436, Valid loss: 2.4689\n"
     ]
    },
    {
     "output_type": "stream",
     "name": "stderr",
     "text": [
      "Epoch [1505/6000]: 100%|██████████| 17/17 [00:00<00:00, 109.27it/s, loss=2.23]\n"
     ]
    },
    {
     "output_type": "stream",
     "name": "stdout",
     "text": [
      "Epoch [1505/6000]: Train loss: 2.7386, Valid loss: 2.6299\n"
     ]
    },
    {
     "output_type": "stream",
     "name": "stderr",
     "text": [
      "Epoch [1506/6000]: 100%|██████████| 17/17 [00:00<00:00, 117.97it/s, loss=3.04]\n"
     ]
    },
    {
     "output_type": "stream",
     "name": "stdout",
     "text": [
      "Epoch [1506/6000]: Train loss: 2.7419, Valid loss: 2.3706\n",
      "Saving model with loss 2.371...\n"
     ]
    },
    {
     "output_type": "stream",
     "name": "stderr",
     "text": [
      "Epoch [1507/6000]: 100%|██████████| 17/17 [00:00<00:00, 133.08it/s, loss=2.56]\n"
     ]
    },
    {
     "output_type": "stream",
     "name": "stdout",
     "text": [
      "Epoch [1507/6000]: Train loss: 2.7357, Valid loss: 2.4847\n"
     ]
    },
    {
     "output_type": "stream",
     "name": "stderr",
     "text": [
      "Epoch [1511/6000]: 100%|██████████| 17/17 [00:00<00:00, 124.68it/s, loss=2.89]\n"
     ]
    },
    {
     "output_type": "stream",
     "name": "stdout",
     "text": [
      "Epoch [1511/6000]: Train loss: 2.7278, Valid loss: 2.5914\n"
     ]
    },
    {
     "output_type": "stream",
     "name": "stderr",
     "text": [
      "Epoch [1512/6000]: 100%|██████████| 17/17 [00:00<00:00, 129.42it/s, loss=3.32]\n"
     ]
    },
    {
     "output_type": "stream",
     "name": "stdout",
     "text": [
      "Epoch [1512/6000]: Train loss: 2.7291, Valid loss: 2.4416\n"
     ]
    },
    {
     "output_type": "stream",
     "name": "stderr",
     "text": [
      "Epoch [1513/6000]: 100%|██████████| 17/17 [00:00<00:00, 122.55it/s, loss=2.82]\n"
     ]
    },
    {
     "output_type": "stream",
     "name": "stdout",
     "text": [
      "Epoch [1513/6000]: Train loss: 2.7224, Valid loss: 2.8091\n"
     ]
    },
    {
     "output_type": "stream",
     "name": "stderr",
     "text": [
      "Epoch [1514/6000]: 100%|██████████| 17/17 [00:00<00:00, 117.63it/s, loss=2.54]\n"
     ]
    },
    {
     "output_type": "stream",
     "name": "stdout",
     "text": [
      "Epoch [1514/6000]: Train loss: 2.7178, Valid loss: 3.1358\n"
     ]
    },
    {
     "output_type": "stream",
     "name": "stderr",
     "text": [
      "Epoch [1515/6000]: 100%|██████████| 17/17 [00:00<00:00, 119.08it/s, loss=2.63]\n"
     ]
    },
    {
     "output_type": "stream",
     "name": "stdout",
     "text": [
      "Epoch [1515/6000]: Train loss: 2.7159, Valid loss: 2.6602\n"
     ]
    },
    {
     "output_type": "stream",
     "name": "stderr",
     "text": [
      "Epoch [1516/6000]: 100%|██████████| 17/17 [00:00<00:00, 121.72it/s, loss=1.96]\n"
     ]
    },
    {
     "output_type": "stream",
     "name": "stdout",
     "text": [
      "Epoch [1516/6000]: Train loss: 2.7087, Valid loss: 2.5599\n"
     ]
    },
    {
     "output_type": "stream",
     "name": "stderr",
     "text": [
      "Epoch [1517/6000]: 100%|██████████| 17/17 [00:00<00:00, 123.15it/s, loss=3.19]\n"
     ]
    },
    {
     "output_type": "stream",
     "name": "stdout",
     "text": [
      "Epoch [1517/6000]: Train loss: 2.7149, Valid loss: 2.5259\n"
     ]
    },
    {
     "output_type": "stream",
     "name": "stderr",
     "text": [
      "Epoch [1518/6000]: 100%|██████████| 17/17 [00:00<00:00, 117.87it/s, loss=2.73]\n"
     ]
    },
    {
     "output_type": "stream",
     "name": "stdout",
     "text": [
      "Epoch [1518/6000]: Train loss: 2.7094, Valid loss: 2.7408\n"
     ]
    },
    {
     "output_type": "stream",
     "name": "stderr",
     "text": [
      "Epoch [1519/6000]: 100%|██████████| 17/17 [00:00<00:00, 117.60it/s, loss=2.26]\n"
     ]
    },
    {
     "output_type": "stream",
     "name": "stdout",
     "text": [
      "Epoch [1519/6000]: Train loss: 2.7030, Valid loss: 2.6923\n"
     ]
    },
    {
     "output_type": "stream",
     "name": "stderr",
     "text": [
      "Epoch [1520/6000]: 100%|██████████| 17/17 [00:00<00:00, 126.64it/s, loss=2.76]\n"
     ]
    },
    {
     "output_type": "stream",
     "name": "stdout",
     "text": [
      "Epoch [1520/6000]: Train loss: 2.7050, Valid loss: 2.8312\n"
     ]
    },
    {
     "output_type": "stream",
     "name": "stderr",
     "text": [
      "Epoch [1521/6000]: 100%|██████████| 17/17 [00:00<00:00, 118.96it/s, loss=2.44]\n"
     ]
    },
    {
     "output_type": "stream",
     "name": "stdout",
     "text": [
      "Epoch [1521/6000]: Train loss: 2.6994, Valid loss: 2.4586\n"
     ]
    },
    {
     "output_type": "stream",
     "name": "stderr",
     "text": [
      "Epoch [1522/6000]: 100%|██████████| 17/17 [00:00<00:00, 113.86it/s, loss=2.32]\n"
     ]
    },
    {
     "output_type": "stream",
     "name": "stdout",
     "text": [
      "Epoch [1522/6000]: Train loss: 2.6964, Valid loss: 2.5287\n"
     ]
    },
    {
     "output_type": "stream",
     "name": "stderr",
     "text": [
      "Epoch [1523/6000]: 100%|██████████| 17/17 [00:00<00:00, 118.73it/s, loss=2.83]\n"
     ]
    },
    {
     "output_type": "stream",
     "name": "stdout",
     "text": [
      "Epoch [1523/6000]: Train loss: 2.6980, Valid loss: 2.6185\n"
     ]
    },
    {
     "output_type": "stream",
     "name": "stderr",
     "text": [
      "Epoch [1527/6000]: 100%|██████████| 17/17 [00:00<00:00, 94.11it/s, loss=2.4]\n"
     ]
    },
    {
     "output_type": "stream",
     "name": "stdout",
     "text": [
      "Epoch [1527/6000]: Train loss: 2.6847, Valid loss: 2.6672\n"
     ]
    },
    {
     "output_type": "stream",
     "name": "stderr",
     "text": [
      "Epoch [1528/6000]: 100%|██████████| 17/17 [00:00<00:00, 119.46it/s, loss=2.2]\n"
     ]
    },
    {
     "output_type": "stream",
     "name": "stdout",
     "text": [
      "Epoch [1528/6000]: Train loss: 2.6806, Valid loss: 2.4622\n"
     ]
    },
    {
     "output_type": "stream",
     "name": "stderr",
     "text": [
      "Epoch [1529/6000]: 100%|██████████| 17/17 [00:00<00:00, 116.67it/s, loss=2.9]\n"
     ]
    },
    {
     "output_type": "stream",
     "name": "stdout",
     "text": [
      "Epoch [1529/6000]: Train loss: 2.6836, Valid loss: 2.6975\n"
     ]
    },
    {
     "output_type": "stream",
     "name": "stderr",
     "text": [
      "Epoch [1530/6000]: 100%|██████████| 17/17 [00:00<00:00, 115.40it/s, loss=2.65]\n"
     ]
    },
    {
     "output_type": "stream",
     "name": "stdout",
     "text": [
      "Epoch [1530/6000]: Train loss: 2.6790, Valid loss: 2.7158\n"
     ]
    },
    {
     "output_type": "stream",
     "name": "stderr",
     "text": [
      "Epoch [1531/6000]: 100%|██████████| 17/17 [00:00<00:00, 123.91it/s, loss=1.95]\n"
     ]
    },
    {
     "output_type": "stream",
     "name": "stdout",
     "text": [
      "Epoch [1531/6000]: Train loss: 2.6717, Valid loss: 2.5954\n"
     ]
    },
    {
     "output_type": "stream",
     "name": "stderr",
     "text": [
      "Epoch [1532/6000]: 100%|██████████| 17/17 [00:00<00:00, 119.70it/s, loss=2.73]\n"
     ]
    },
    {
     "output_type": "stream",
     "name": "stdout",
     "text": [
      "Epoch [1532/6000]: Train loss: 2.6748, Valid loss: 2.4720\n"
     ]
    },
    {
     "output_type": "stream",
     "name": "stderr",
     "text": [
      "Epoch [1533/6000]: 100%|██████████| 17/17 [00:00<00:00, 109.04it/s, loss=3.01]\n"
     ]
    },
    {
     "output_type": "stream",
     "name": "stdout",
     "text": [
      "Epoch [1533/6000]: Train loss: 2.6748, Valid loss: 2.3634\n"
     ]
    },
    {
     "output_type": "stream",
     "name": "stderr",
     "text": [
      "Epoch [1534/6000]: 100%|██████████| 17/17 [00:00<00:00, 114.33it/s, loss=2.5]\n"
     ]
    },
    {
     "output_type": "stream",
     "name": "stdout",
     "text": [
      "Epoch [1534/6000]: Train loss: 2.6683, Valid loss: 2.3881\n"
     ]
    },
    {
     "output_type": "stream",
     "name": "stderr",
     "text": [
      "Epoch [1535/6000]: 100%|██████████| 17/17 [00:00<00:00, 122.27it/s, loss=3.24]\n"
     ]
    },
    {
     "output_type": "stream",
     "name": "stdout",
     "text": [
      "Epoch [1535/6000]: Train loss: 2.6719, Valid loss: 2.7324\n"
     ]
    },
    {
     "output_type": "stream",
     "name": "stderr",
     "text": [
      "Epoch [1536/6000]: 100%|██████████| 17/17 [00:00<00:00, 98.24it/s, loss=1.92]\n"
     ]
    },
    {
     "output_type": "stream",
     "name": "stdout",
     "text": [
      "Epoch [1536/6000]: Train loss: 2.6595, Valid loss: 2.4840\n"
     ]
    },
    {
     "output_type": "stream",
     "name": "stderr",
     "text": [
      "Epoch [1537/6000]: 100%|██████████| 17/17 [00:00<00:00, 129.03it/s, loss=3.33]\n"
     ]
    },
    {
     "output_type": "stream",
     "name": "stdout",
     "text": [
      "Epoch [1537/6000]: Train loss: 2.6673, Valid loss: 2.6962\n"
     ]
    },
    {
     "output_type": "stream",
     "name": "stderr",
     "text": [
      "Epoch [1538/6000]: 100%|██████████| 17/17 [00:00<00:00, 117.50it/s, loss=2.76]\n"
     ]
    },
    {
     "output_type": "stream",
     "name": "stdout",
     "text": [
      "Epoch [1538/6000]: Train loss: 2.6608, Valid loss: 2.4919\n"
     ]
    },
    {
     "output_type": "stream",
     "name": "stderr",
     "text": [
      "Epoch [1539/6000]: 100%|██████████| 17/17 [00:00<00:00, 101.23it/s, loss=3.34]\n"
     ]
    },
    {
     "output_type": "stream",
     "name": "stdout",
     "text": [
      "Epoch [1539/6000]: Train loss: 2.6632, Valid loss: 2.4632\n"
     ]
    },
    {
     "output_type": "stream",
     "name": "stderr",
     "text": [
      "Epoch [1540/6000]: 100%|██████████| 17/17 [00:00<00:00, 120.13it/s, loss=3.19]\n"
     ]
    },
    {
     "output_type": "stream",
     "name": "stdout",
     "text": [
      "Epoch [1540/6000]: Train loss: 2.6592, Valid loss: 2.3610\n"
     ]
    },
    {
     "output_type": "stream",
     "name": "stderr",
     "text": [
      "Epoch [1541/6000]: 100%|██████████| 17/17 [00:00<00:00, 126.68it/s, loss=2.96]\n"
     ]
    },
    {
     "output_type": "stream",
     "name": "stdout",
     "text": [
      "Epoch [1541/6000]: Train loss: 2.6554, Valid loss: 2.5958\n"
     ]
    },
    {
     "output_type": "stream",
     "name": "stderr",
     "text": [
      "Epoch [1542/6000]: 100%|██████████| 17/17 [00:00<00:00, 126.23it/s, loss=2.86]\n"
     ]
    },
    {
     "output_type": "stream",
     "name": "stdout",
     "text": [
      "Epoch [1542/6000]: Train loss: 2.6523, Valid loss: 2.6384\n"
     ]
    },
    {
     "output_type": "stream",
     "name": "stderr",
     "text": [
      "Epoch [1543/6000]: 100%|██████████| 17/17 [00:00<00:00, 90.44it/s, loss=2.53]\n"
     ]
    },
    {
     "output_type": "stream",
     "name": "stdout",
     "text": [
      "Epoch [1543/6000]: Train loss: 2.6471, Valid loss: 2.4268\n"
     ]
    },
    {
     "output_type": "stream",
     "name": "stderr",
     "text": [
      "Epoch [1544/6000]: 100%|██████████| 17/17 [00:00<00:00, 91.40it/s, loss=1.97]\n"
     ]
    },
    {
     "output_type": "stream",
     "name": "stdout",
     "text": [
      "Epoch [1544/6000]: Train loss: 2.6411, Valid loss: 2.5442\n"
     ]
    },
    {
     "output_type": "stream",
     "name": "stderr",
     "text": [
      "Epoch [1545/6000]: 100%|██████████| 17/17 [00:00<00:00, 103.02it/s, loss=2.82]\n"
     ]
    },
    {
     "output_type": "stream",
     "name": "stdout",
     "text": [
      "Epoch [1545/6000]: Train loss: 2.6448, Valid loss: 2.8779\n"
     ]
    },
    {
     "output_type": "stream",
     "name": "stderr",
     "text": [
      "Epoch [1546/6000]: 100%|██████████| 17/17 [00:00<00:00, 113.00it/s, loss=2.25]\n"
     ]
    },
    {
     "output_type": "stream",
     "name": "stdout",
     "text": [
      "Epoch [1546/6000]: Train loss: 2.6382, Valid loss: 2.5334\n"
     ]
    },
    {
     "output_type": "stream",
     "name": "stderr",
     "text": [
      "Epoch [1547/6000]: 100%|██████████| 17/17 [00:00<00:00, 127.14it/s, loss=3.22]\n"
     ]
    },
    {
     "output_type": "stream",
     "name": "stdout",
     "text": [
      "Epoch [1547/6000]: Train loss: 2.6437, Valid loss: 2.5103\n"
     ]
    },
    {
     "output_type": "stream",
     "name": "stderr",
     "text": [
      "Epoch [1548/6000]: 100%|██████████| 17/17 [00:00<00:00, 127.50it/s, loss=1.96]\n"
     ]
    },
    {
     "output_type": "stream",
     "name": "stdout",
     "text": [
      "Epoch [1548/6000]: Train loss: 2.6317, Valid loss: 2.6632\n"
     ]
    },
    {
     "output_type": "stream",
     "name": "stderr",
     "text": [
      "Epoch [1549/6000]: 100%|██████████| 17/17 [00:00<00:00, 128.08it/s, loss=2.3]\n"
     ]
    },
    {
     "output_type": "stream",
     "name": "stdout",
     "text": [
      "Epoch [1549/6000]: Train loss: 2.6324, Valid loss: 2.4485\n"
     ]
    },
    {
     "output_type": "stream",
     "name": "stderr",
     "text": [
      "Epoch [1550/6000]: 100%|██████████| 17/17 [00:00<00:00, 126.95it/s, loss=2.67]\n"
     ]
    },
    {
     "output_type": "stream",
     "name": "stdout",
     "text": [
      "Epoch [1550/6000]: Train loss: 2.6337, Valid loss: 2.3705\n"
     ]
    },
    {
     "output_type": "stream",
     "name": "stderr",
     "text": [
      "Epoch [1551/6000]: 100%|██████████| 17/17 [00:00<00:00, 126.93it/s, loss=2.58]\n"
     ]
    },
    {
     "output_type": "stream",
     "name": "stdout",
     "text": [
      "Epoch [1551/6000]: Train loss: 2.6295, Valid loss: 2.3832\n"
     ]
    },
    {
     "output_type": "stream",
     "name": "stderr",
     "text": [
      "Epoch [1552/6000]: 100%|██████████| 17/17 [00:00<00:00, 108.02it/s, loss=2.56]\n"
     ]
    },
    {
     "output_type": "stream",
     "name": "stdout",
     "text": [
      "Epoch [1552/6000]: Train loss: 2.6279, Valid loss: 2.9004\n"
     ]
    },
    {
     "output_type": "stream",
     "name": "stderr",
     "text": [
      "Epoch [1553/6000]: 100%|██████████| 17/17 [00:00<00:00, 126.62it/s, loss=3.01]\n"
     ]
    },
    {
     "output_type": "stream",
     "name": "stdout",
     "text": [
      "Epoch [1553/6000]: Train loss: 2.6282, Valid loss: 2.6124\n"
     ]
    },
    {
     "output_type": "stream",
     "name": "stderr",
     "text": [
      "Epoch [1554/6000]: 100%|██████████| 17/17 [00:00<00:00, 104.68it/s, loss=2.12]\n"
     ]
    },
    {
     "output_type": "stream",
     "name": "stdout",
     "text": [
      "Epoch [1554/6000]: Train loss: 2.6190, Valid loss: 2.5533\n"
     ]
    },
    {
     "output_type": "stream",
     "name": "stderr",
     "text": [
      "Epoch [1555/6000]: 100%|██████████| 17/17 [00:00<00:00, 108.22it/s, loss=3.04]\n"
     ]
    },
    {
     "output_type": "stream",
     "name": "stdout",
     "text": [
      "Epoch [1555/6000]: Train loss: 2.6243, Valid loss: 2.3791\n"
     ]
    },
    {
     "output_type": "stream",
     "name": "stderr",
     "text": [
      "Epoch [1556/6000]: 100%|██████████| 17/17 [00:00<00:00, 125.38it/s, loss=2.71]\n"
     ]
    },
    {
     "output_type": "stream",
     "name": "stdout",
     "text": [
      "Epoch [1556/6000]: Train loss: 2.6203, Valid loss: 2.5409\n"
     ]
    },
    {
     "output_type": "stream",
     "name": "stderr",
     "text": [
      "Epoch [1557/6000]: 100%|██████████| 17/17 [00:00<00:00, 124.80it/s, loss=2.41]\n"
     ]
    },
    {
     "output_type": "stream",
     "name": "stdout",
     "text": [
      "Epoch [1557/6000]: Train loss: 2.6146, Valid loss: 2.4358\n"
     ]
    },
    {
     "output_type": "stream",
     "name": "stderr",
     "text": [
      "Epoch [1558/6000]: 100%|██████████| 17/17 [00:00<00:00, 132.88it/s, loss=1.99]\n"
     ]
    },
    {
     "output_type": "stream",
     "name": "stdout",
     "text": [
      "Epoch [1558/6000]: Train loss: 2.6094, Valid loss: 2.3789\n"
     ]
    },
    {
     "output_type": "stream",
     "name": "stderr",
     "text": [
      "Epoch [1559/6000]: 100%|██████████| 17/17 [00:00<00:00, 125.72it/s, loss=2.49]\n"
     ]
    },
    {
     "output_type": "stream",
     "name": "stdout",
     "text": [
      "Epoch [1559/6000]: Train loss: 2.6106, Valid loss: 2.5396\n"
     ]
    },
    {
     "output_type": "stream",
     "name": "stderr",
     "text": [
      "Epoch [1560/6000]: 100%|██████████| 17/17 [00:00<00:00, 93.88it/s, loss=2.79]\n"
     ]
    },
    {
     "output_type": "stream",
     "name": "stdout",
     "text": [
      "Epoch [1560/6000]: Train loss: 2.6111, Valid loss: 2.6827\n"
     ]
    },
    {
     "output_type": "stream",
     "name": "stderr",
     "text": [
      "Epoch [1561/6000]: 100%|██████████| 17/17 [00:00<00:00, 120.70it/s, loss=2.98]\n"
     ]
    },
    {
     "output_type": "stream",
     "name": "stdout",
     "text": [
      "Epoch [1561/6000]: Train loss: 2.6104, Valid loss: 2.3559\n"
     ]
    },
    {
     "output_type": "stream",
     "name": "stderr",
     "text": [
      "Epoch [1562/6000]: 100%|██████████| 17/17 [00:00<00:00, 119.42it/s, loss=2.68]\n"
     ]
    },
    {
     "output_type": "stream",
     "name": "stdout",
     "text": [
      "Epoch [1562/6000]: Train loss: 2.6059, Valid loss: 2.4492\n"
     ]
    },
    {
     "output_type": "stream",
     "name": "stderr",
     "text": [
      "Epoch [1563/6000]: 100%|██████████| 17/17 [00:00<00:00, 115.02it/s, loss=2.66]\n"
     ]
    },
    {
     "output_type": "stream",
     "name": "stdout",
     "text": [
      "Epoch [1563/6000]: Train loss: 2.6044, Valid loss: 2.4126\n"
     ]
    },
    {
     "output_type": "stream",
     "name": "stderr",
     "text": [
      "Epoch [1564/6000]: 100%|██████████| 17/17 [00:00<00:00, 106.90it/s, loss=2.99]\n"
     ]
    },
    {
     "output_type": "stream",
     "name": "stdout",
     "text": [
      "Epoch [1564/6000]: Train loss: 2.6044, Valid loss: 2.5243\n"
     ]
    },
    {
     "output_type": "stream",
     "name": "stderr",
     "text": [
      "Epoch [1565/6000]: 100%|██████████| 17/17 [00:00<00:00, 92.10it/s, loss=2.67]\n"
     ]
    },
    {
     "output_type": "stream",
     "name": "stdout",
     "text": [
      "Epoch [1565/6000]: Train loss: 2.6006, Valid loss: 2.8594\n"
     ]
    },
    {
     "output_type": "stream",
     "name": "stderr",
     "text": [
      "Epoch [1566/6000]: 100%|██████████| 17/17 [00:00<00:00, 97.02it/s, loss=1.92]\n"
     ]
    },
    {
     "output_type": "stream",
     "name": "stdout",
     "text": [
      "Epoch [1566/6000]: Train loss: 2.5916, Valid loss: 2.3633\n"
     ]
    },
    {
     "output_type": "stream",
     "name": "stderr",
     "text": [
      "Epoch [1567/6000]: 100%|██████████| 17/17 [00:00<00:00, 104.45it/s, loss=2.46]\n"
     ]
    },
    {
     "output_type": "stream",
     "name": "stdout",
     "text": [
      "Epoch [1567/6000]: Train loss: 2.5932, Valid loss: 2.3120\n",
      "Saving model with loss 2.312...\n"
     ]
    },
    {
     "output_type": "stream",
     "name": "stderr",
     "text": [
      "Epoch [1568/6000]: 100%|██████████| 17/17 [00:00<00:00, 118.67it/s, loss=3.66]\n"
     ]
    },
    {
     "output_type": "stream",
     "name": "stdout",
     "text": [
      "Epoch [1568/6000]: Train loss: 2.6013, Valid loss: 2.5175\n"
     ]
    },
    {
     "output_type": "stream",
     "name": "stderr",
     "text": [
      "Epoch [1569/6000]: 100%|██████████| 17/17 [00:00<00:00, 119.44it/s, loss=1.74]\n"
     ]
    },
    {
     "output_type": "stream",
     "name": "stdout",
     "text": [
      "Epoch [1569/6000]: Train loss: 2.5835, Valid loss: 2.8080\n"
     ]
    },
    {
     "output_type": "stream",
     "name": "stderr",
     "text": [
      "Epoch [1570/6000]: 100%|██████████| 17/17 [00:00<00:00, 118.65it/s, loss=2.54]\n"
     ]
    },
    {
     "output_type": "stream",
     "name": "stdout",
     "text": [
      "Epoch [1570/6000]: Train loss: 2.5879, Valid loss: 2.4594\n"
     ]
    },
    {
     "output_type": "stream",
     "name": "stderr",
     "text": [
      "Epoch [1571/6000]: 100%|██████████| 17/17 [00:00<00:00, 107.45it/s, loss=2.54]\n"
     ]
    },
    {
     "output_type": "stream",
     "name": "stdout",
     "text": [
      "Epoch [1571/6000]: Train loss: 2.5852, Valid loss: 2.6826\n"
     ]
    },
    {
     "output_type": "stream",
     "name": "stderr",
     "text": [
      "Epoch [1572/6000]: 100%|██████████| 17/17 [00:00<00:00, 108.40it/s, loss=2.28]\n"
     ]
    },
    {
     "output_type": "stream",
     "name": "stdout",
     "text": [
      "Epoch [1572/6000]: Train loss: 2.5810, Valid loss: 2.4211\n"
     ]
    },
    {
     "output_type": "stream",
     "name": "stderr",
     "text": [
      "Epoch [1573/6000]: 100%|██████████| 17/17 [00:00<00:00, 98.03it/s, loss=2.58]\n"
     ]
    },
    {
     "output_type": "stream",
     "name": "stdout",
     "text": [
      "Epoch [1573/6000]: Train loss: 2.5821, Valid loss: 2.3837\n"
     ]
    },
    {
     "output_type": "stream",
     "name": "stderr",
     "text": [
      "Epoch [1574/6000]: 100%|██████████| 17/17 [00:00<00:00, 109.41it/s, loss=2.31]\n"
     ]
    },
    {
     "output_type": "stream",
     "name": "stdout",
     "text": [
      "Epoch [1574/6000]: Train loss: 2.5770, Valid loss: 2.7241\n"
     ]
    },
    {
     "output_type": "stream",
     "name": "stderr",
     "text": [
      "Epoch [1575/6000]: 100%|██████████| 17/17 [00:00<00:00, 120.07it/s, loss=2.48]\n"
     ]
    },
    {
     "output_type": "stream",
     "name": "stdout",
     "text": [
      "Epoch [1575/6000]: Train loss: 2.5765, Valid loss: 2.3432\n"
     ]
    },
    {
     "output_type": "stream",
     "name": "stderr",
     "text": [
      "Epoch [1576/6000]: 100%|██████████| 17/17 [00:00<00:00, 109.76it/s, loss=2.48]\n"
     ]
    },
    {
     "output_type": "stream",
     "name": "stdout",
     "text": [
      "Epoch [1576/6000]: Train loss: 2.5742, Valid loss: 2.3547\n"
     ]
    },
    {
     "output_type": "stream",
     "name": "stderr",
     "text": [
      "Epoch [1577/6000]: 100%|██████████| 17/17 [00:00<00:00, 122.02it/s, loss=2.82]\n"
     ]
    },
    {
     "output_type": "stream",
     "name": "stdout",
     "text": [
      "Epoch [1577/6000]: Train loss: 2.5749, Valid loss: 2.4882\n"
     ]
    },
    {
     "output_type": "stream",
     "name": "stderr",
     "text": [
      "Epoch [1578/6000]: 100%|██████████| 17/17 [00:00<00:00, 122.34it/s, loss=2.38]\n"
     ]
    },
    {
     "output_type": "stream",
     "name": "stdout",
     "text": [
      "Epoch [1578/6000]: Train loss: 2.5694, Valid loss: 2.4963\n"
     ]
    },
    {
     "output_type": "stream",
     "name": "stderr",
     "text": [
      "Epoch [1579/6000]: 100%|██████████| 17/17 [00:00<00:00, 124.41it/s, loss=3.23]\n"
     ]
    },
    {
     "output_type": "stream",
     "name": "stdout",
     "text": [
      "Epoch [1579/6000]: Train loss: 2.5735, Valid loss: 2.4989\n"
     ]
    },
    {
     "output_type": "stream",
     "name": "stderr",
     "text": [
      "Epoch [1580/6000]: 100%|██████████| 17/17 [00:00<00:00, 111.77it/s, loss=2.43]\n"
     ]
    },
    {
     "output_type": "stream",
     "name": "stdout",
     "text": [
      "Epoch [1580/6000]: Train loss: 2.5654, Valid loss: 2.3423\n"
     ]
    },
    {
     "output_type": "stream",
     "name": "stderr",
     "text": [
      "Epoch [1581/6000]: 100%|██████████| 17/17 [00:00<00:00, 112.98it/s, loss=2.29]\n"
     ]
    },
    {
     "output_type": "stream",
     "name": "stdout",
     "text": [
      "Epoch [1581/6000]: Train loss: 2.5626, Valid loss: 2.5463\n"
     ]
    },
    {
     "output_type": "stream",
     "name": "stderr",
     "text": [
      "Epoch [1582/6000]: 100%|██████████| 17/17 [00:00<00:00, 121.05it/s, loss=2.08]\n"
     ]
    },
    {
     "output_type": "stream",
     "name": "stdout",
     "text": [
      "Epoch [1582/6000]: Train loss: 2.5593, Valid loss: 2.6142\n"
     ]
    },
    {
     "output_type": "stream",
     "name": "stderr",
     "text": [
      "Epoch [1583/6000]: 100%|██████████| 17/17 [00:00<00:00, 111.72it/s, loss=2.25]\n"
     ]
    },
    {
     "output_type": "stream",
     "name": "stdout",
     "text": [
      "Epoch [1583/6000]: Train loss: 2.5578, Valid loss: 2.3195\n"
     ]
    },
    {
     "output_type": "stream",
     "name": "stderr",
     "text": [
      "Epoch [1584/6000]: 100%|██████████| 17/17 [00:00<00:00, 115.52it/s, loss=2.17]\n"
     ]
    },
    {
     "output_type": "stream",
     "name": "stdout",
     "text": [
      "Epoch [1584/6000]: Train loss: 2.5558, Valid loss: 2.5373\n"
     ]
    },
    {
     "output_type": "stream",
     "name": "stderr",
     "text": [
      "Epoch [1585/6000]: 100%|██████████| 17/17 [00:00<00:00, 111.03it/s, loss=3.24]\n"
     ]
    },
    {
     "output_type": "stream",
     "name": "stdout",
     "text": [
      "Epoch [1585/6000]: Train loss: 2.5612, Valid loss: 2.4527\n"
     ]
    },
    {
     "output_type": "stream",
     "name": "stderr",
     "text": [
      "Epoch [1586/6000]: 100%|██████████| 17/17 [00:00<00:00, 113.65it/s, loss=3.27]\n"
     ]
    },
    {
     "output_type": "stream",
     "name": "stdout",
     "text": [
      "Epoch [1586/6000]: Train loss: 2.5598, Valid loss: 2.3161\n"
     ]
    },
    {
     "output_type": "stream",
     "name": "stderr",
     "text": [
      "Epoch [1587/6000]: 100%|██████████| 17/17 [00:00<00:00, 114.65it/s, loss=3.7]\n"
     ]
    },
    {
     "output_type": "stream",
     "name": "stdout",
     "text": [
      "Epoch [1587/6000]: Train loss: 2.5614, Valid loss: 2.4351\n"
     ]
    },
    {
     "output_type": "stream",
     "name": "stderr",
     "text": [
      "Epoch [1588/6000]: 100%|██████████| 17/17 [00:00<00:00, 119.95it/s, loss=3.26]\n"
     ]
    },
    {
     "output_type": "stream",
     "name": "stdout",
     "text": [
      "Epoch [1588/6000]: Train loss: 2.5556, Valid loss: 2.3606\n"
     ]
    },
    {
     "output_type": "stream",
     "name": "stderr",
     "text": [
      "Epoch [1589/6000]: 100%|██████████| 17/17 [00:00<00:00, 117.43it/s, loss=2.26]\n"
     ]
    },
    {
     "output_type": "stream",
     "name": "stdout",
     "text": [
      "Epoch [1589/6000]: Train loss: 2.5460, Valid loss: 2.2812\n",
      "Saving model with loss 2.281...\n"
     ]
    },
    {
     "output_type": "stream",
     "name": "stderr",
     "text": [
      "Epoch [1590/6000]: 100%|██████████| 17/17 [00:00<00:00, 99.63it/s, loss=2.16]\n"
     ]
    },
    {
     "output_type": "stream",
     "name": "stdout",
     "text": [
      "Epoch [1590/6000]: Train loss: 2.5427, Valid loss: 2.8817\n"
     ]
    },
    {
     "output_type": "stream",
     "name": "stderr",
     "text": [
      "Epoch [1592/6000]: 100%|██████████| 17/17 [00:00<00:00, 120.91it/s, loss=3.26]\n"
     ]
    },
    {
     "output_type": "stream",
     "name": "stdout",
     "text": [
      "Epoch [1592/6000]: Train loss: 2.5470, Valid loss: 2.3184\n"
     ]
    },
    {
     "output_type": "stream",
     "name": "stderr",
     "text": [
      "Epoch [1593/6000]: 100%|██████████| 17/17 [00:00<00:00, 92.28it/s, loss=1.78]\n"
     ]
    },
    {
     "output_type": "stream",
     "name": "stdout",
     "text": [
      "Epoch [1593/6000]: Train loss: 2.5340, Valid loss: 2.3880\n"
     ]
    },
    {
     "output_type": "stream",
     "name": "stderr",
     "text": [
      "Epoch [1594/6000]: 100%|██████████| 17/17 [00:00<00:00, 116.66it/s, loss=2.65]\n"
     ]
    },
    {
     "output_type": "stream",
     "name": "stdout",
     "text": [
      "Epoch [1594/6000]: Train loss: 2.5389, Valid loss: 2.5270\n"
     ]
    },
    {
     "output_type": "stream",
     "name": "stderr",
     "text": [
      "Epoch [1595/6000]: 100%|██████████| 17/17 [00:00<00:00, 119.05it/s, loss=2.29]\n"
     ]
    },
    {
     "output_type": "stream",
     "name": "stdout",
     "text": [
      "Epoch [1595/6000]: Train loss: 2.5340, Valid loss: 2.3157\n"
     ]
    },
    {
     "output_type": "stream",
     "name": "stderr",
     "text": [
      "Epoch [1596/6000]: 100%|██████████| 17/17 [00:00<00:00, 128.71it/s, loss=2.04]\n"
     ]
    },
    {
     "output_type": "stream",
     "name": "stdout",
     "text": [
      "Epoch [1596/6000]: Train loss: 2.5303, Valid loss: 2.2629\n",
      "Saving model with loss 2.263...\n"
     ]
    },
    {
     "output_type": "stream",
     "name": "stderr",
     "text": [
      "Epoch [1597/6000]: 100%|██████████| 17/17 [00:00<00:00, 128.30it/s, loss=3.08]\n"
     ]
    },
    {
     "output_type": "stream",
     "name": "stdout",
     "text": [
      "Epoch [1597/6000]: Train loss: 2.5365, Valid loss: 2.4458\n"
     ]
    },
    {
     "output_type": "stream",
     "name": "stderr",
     "text": [
      "Epoch [1598/6000]: 100%|██████████| 17/17 [00:00<00:00, 101.44it/s, loss=2.22]\n"
     ]
    },
    {
     "output_type": "stream",
     "name": "stdout",
     "text": [
      "Epoch [1598/6000]: Train loss: 2.5275, Valid loss: 2.5498\n"
     ]
    },
    {
     "output_type": "stream",
     "name": "stderr",
     "text": [
      "Epoch [1599/6000]: 100%|██████████| 17/17 [00:00<00:00, 106.55it/s, loss=2.31]\n"
     ]
    },
    {
     "output_type": "stream",
     "name": "stdout",
     "text": [
      "Epoch [1599/6000]: Train loss: 2.5279, Valid loss: 2.3065\n"
     ]
    },
    {
     "output_type": "stream",
     "name": "stderr",
     "text": [
      "Epoch [1600/6000]: 100%|██████████| 17/17 [00:00<00:00, 100.86it/s, loss=2.49]\n"
     ]
    },
    {
     "output_type": "stream",
     "name": "stdout",
     "text": [
      "Epoch [1600/6000]: Train loss: 2.5264, Valid loss: 2.4451\n"
     ]
    },
    {
     "output_type": "stream",
     "name": "stderr",
     "text": [
      "Epoch [1601/6000]: 100%|██████████| 17/17 [00:00<00:00, 102.59it/s, loss=2.6]\n"
     ]
    },
    {
     "output_type": "stream",
     "name": "stdout",
     "text": [
      "Epoch [1601/6000]: Train loss: 2.5242, Valid loss: 2.2006\n",
      "Saving model with loss 2.201...\n"
     ]
    },
    {
     "output_type": "stream",
     "name": "stderr",
     "text": [
      "Epoch [1602/6000]: 100%|██████████| 17/17 [00:00<00:00, 103.89it/s, loss=2.08]\n"
     ]
    },
    {
     "output_type": "stream",
     "name": "stdout",
     "text": [
      "Epoch [1602/6000]: Train loss: 2.5186, Valid loss: 2.4671\n"
     ]
    },
    {
     "output_type": "stream",
     "name": "stderr",
     "text": [
      "Epoch [1603/6000]: 100%|██████████| 17/17 [00:00<00:00, 121.53it/s, loss=3.16]\n"
     ]
    },
    {
     "output_type": "stream",
     "name": "stdout",
     "text": [
      "Epoch [1603/6000]: Train loss: 2.5249, Valid loss: 2.4523\n"
     ]
    },
    {
     "output_type": "stream",
     "name": "stderr",
     "text": [
      "Epoch [1604/6000]: 100%|██████████| 17/17 [00:00<00:00, 112.87it/s, loss=2.61]\n"
     ]
    },
    {
     "output_type": "stream",
     "name": "stdout",
     "text": [
      "Epoch [1604/6000]: Train loss: 2.5184, Valid loss: 2.3245\n"
     ]
    },
    {
     "output_type": "stream",
     "name": "stderr",
     "text": [
      "Epoch [1610/6000]: 100%|██████████| 17/17 [00:00<00:00, 118.55it/s, loss=2.8]\n"
     ]
    },
    {
     "output_type": "stream",
     "name": "stdout",
     "text": [
      "Epoch [1610/6000]: Train loss: 2.5088, Valid loss: 2.3210\n"
     ]
    },
    {
     "output_type": "stream",
     "name": "stderr",
     "text": [
      "Epoch [1611/6000]: 100%|██████████| 17/17 [00:00<00:00, 123.51it/s, loss=2.91]\n"
     ]
    },
    {
     "output_type": "stream",
     "name": "stdout",
     "text": [
      "Epoch [1611/6000]: Train loss: 2.5082, Valid loss: 2.2550\n"
     ]
    },
    {
     "output_type": "stream",
     "name": "stderr",
     "text": [
      "Epoch [1612/6000]: 100%|██████████| 17/17 [00:00<00:00, 114.91it/s, loss=2.53]\n"
     ]
    },
    {
     "output_type": "stream",
     "name": "stdout",
     "text": [
      "Epoch [1612/6000]: Train loss: 2.5030, Valid loss: 2.1682\n",
      "Saving model with loss 2.168...\n"
     ]
    },
    {
     "output_type": "stream",
     "name": "stderr",
     "text": [
      "Epoch [1613/6000]: 100%|██████████| 17/17 [00:00<00:00, 101.49it/s, loss=2.29]\n"
     ]
    },
    {
     "output_type": "stream",
     "name": "stdout",
     "text": [
      "Epoch [1613/6000]: Train loss: 2.4993, Valid loss: 2.3955\n"
     ]
    },
    {
     "output_type": "stream",
     "name": "stderr",
     "text": [
      "Epoch [1614/6000]: 100%|██████████| 17/17 [00:00<00:00, 106.56it/s, loss=3.18]\n"
     ]
    },
    {
     "output_type": "stream",
     "name": "stdout",
     "text": [
      "Epoch [1614/6000]: Train loss: 2.5037, Valid loss: 2.3669\n"
     ]
    },
    {
     "output_type": "stream",
     "name": "stderr",
     "text": [
      "Epoch [1615/6000]: 100%|██████████| 17/17 [00:00<00:00, 90.98it/s, loss=2.94]\n"
     ]
    },
    {
     "output_type": "stream",
     "name": "stdout",
     "text": [
      "Epoch [1615/6000]: Train loss: 2.5006, Valid loss: 2.3423\n"
     ]
    },
    {
     "output_type": "stream",
     "name": "stderr",
     "text": [
      "Epoch [1616/6000]: 100%|██████████| 17/17 [00:00<00:00, 119.26it/s, loss=2.49]\n"
     ]
    },
    {
     "output_type": "stream",
     "name": "stdout",
     "text": [
      "Epoch [1616/6000]: Train loss: 2.4946, Valid loss: 2.2120\n"
     ]
    },
    {
     "output_type": "stream",
     "name": "stderr",
     "text": [
      "Epoch [1617/6000]: 100%|██████████| 17/17 [00:00<00:00, 104.50it/s, loss=2.81]\n"
     ]
    },
    {
     "output_type": "stream",
     "name": "stdout",
     "text": [
      "Epoch [1617/6000]: Train loss: 2.4957, Valid loss: 2.2747\n"
     ]
    },
    {
     "output_type": "stream",
     "name": "stderr",
     "text": [
      "Epoch [1618/6000]: 100%|██████████| 17/17 [00:00<00:00, 100.12it/s, loss=2.02]\n"
     ]
    },
    {
     "output_type": "stream",
     "name": "stdout",
     "text": [
      "Epoch [1618/6000]: Train loss: 2.4875, Valid loss: 2.3421\n"
     ]
    },
    {
     "output_type": "stream",
     "name": "stderr",
     "text": [
      "Epoch [1619/6000]: 100%|██████████| 17/17 [00:00<00:00, 110.52it/s, loss=2.04]\n"
     ]
    },
    {
     "output_type": "stream",
     "name": "stdout",
     "text": [
      "Epoch [1619/6000]: Train loss: 2.4860, Valid loss: 2.3333\n"
     ]
    },
    {
     "output_type": "stream",
     "name": "stderr",
     "text": [
      "Epoch [1620/6000]: 100%|██████████| 17/17 [00:00<00:00, 105.81it/s, loss=2.57]\n"
     ]
    },
    {
     "output_type": "stream",
     "name": "stdout",
     "text": [
      "Epoch [1620/6000]: Train loss: 2.4880, Valid loss: 2.2461\n"
     ]
    },
    {
     "output_type": "stream",
     "name": "stderr",
     "text": [
      "Epoch [1621/6000]: 100%|██████████| 17/17 [00:00<00:00, 105.46it/s, loss=2.36]\n"
     ]
    },
    {
     "output_type": "stream",
     "name": "stdout",
     "text": [
      "Epoch [1621/6000]: Train loss: 2.4848, Valid loss: 2.2959\n"
     ]
    },
    {
     "output_type": "stream",
     "name": "stderr",
     "text": [
      "Epoch [1622/6000]: 100%|██████████| 17/17 [00:00<00:00, 103.79it/s, loss=2.59]\n"
     ]
    },
    {
     "output_type": "stream",
     "name": "stdout",
     "text": [
      "Epoch [1622/6000]: Train loss: 2.4849, Valid loss: 2.3433\n"
     ]
    },
    {
     "output_type": "stream",
     "name": "stderr",
     "text": [
      "Epoch [1623/6000]: 100%|██████████| 17/17 [00:00<00:00, 99.48it/s, loss=2.08]\n"
     ]
    },
    {
     "output_type": "stream",
     "name": "stdout",
     "text": [
      "Epoch [1623/6000]: Train loss: 2.4788, Valid loss: 2.3471\n"
     ]
    },
    {
     "output_type": "stream",
     "name": "stderr",
     "text": [
      "Epoch [1624/6000]: 100%|██████████| 17/17 [00:00<00:00, 100.92it/s, loss=2.28]\n"
     ]
    },
    {
     "output_type": "stream",
     "name": "stdout",
     "text": [
      "Epoch [1624/6000]: Train loss: 2.4785, Valid loss: 2.2731\n"
     ]
    },
    {
     "output_type": "stream",
     "name": "stderr",
     "text": [
      "Epoch [1625/6000]: 100%|██████████| 17/17 [00:00<00:00, 114.28it/s, loss=2.93]\n"
     ]
    },
    {
     "output_type": "stream",
     "name": "stdout",
     "text": [
      "Epoch [1625/6000]: Train loss: 2.4828, Valid loss: 2.2693\n"
     ]
    },
    {
     "output_type": "stream",
     "name": "stderr",
     "text": [
      "Epoch [1626/6000]: 100%|██████████| 17/17 [00:00<00:00, 118.49it/s, loss=2.12]\n"
     ]
    },
    {
     "output_type": "stream",
     "name": "stdout",
     "text": [
      "Epoch [1626/6000]: Train loss: 2.4741, Valid loss: 2.2224\n"
     ]
    },
    {
     "output_type": "stream",
     "name": "stderr",
     "text": [
      "Epoch [1627/6000]: 100%|██████████| 17/17 [00:00<00:00, 116.71it/s, loss=2.14]\n"
     ]
    },
    {
     "output_type": "stream",
     "name": "stdout",
     "text": [
      "Epoch [1627/6000]: Train loss: 2.4718, Valid loss: 2.2807\n"
     ]
    },
    {
     "output_type": "stream",
     "name": "stderr",
     "text": [
      "Epoch [1628/6000]: 100%|██████████| 17/17 [00:00<00:00, 125.88it/s, loss=2.1]\n"
     ]
    },
    {
     "output_type": "stream",
     "name": "stdout",
     "text": [
      "Epoch [1628/6000]: Train loss: 2.4698, Valid loss: 2.1626\n",
      "Saving model with loss 2.163...\n"
     ]
    },
    {
     "output_type": "stream",
     "name": "stderr",
     "text": [
      "Epoch [1629/6000]: 100%|██████████| 17/17 [00:00<00:00, 113.77it/s, loss=2.47]\n"
     ]
    },
    {
     "output_type": "stream",
     "name": "stdout",
     "text": [
      "Epoch [1629/6000]: Train loss: 2.4710, Valid loss: 2.1790\n"
     ]
    },
    {
     "output_type": "stream",
     "name": "stderr",
     "text": [
      "Epoch [1630/6000]: 100%|██████████| 17/17 [00:00<00:00, 99.18it/s, loss=3.24] \n"
     ]
    },
    {
     "output_type": "stream",
     "name": "stdout",
     "text": [
      "Epoch [1630/6000]: Train loss: 2.4748, Valid loss: 2.3810\n"
     ]
    },
    {
     "output_type": "stream",
     "name": "stderr",
     "text": [
      "Epoch [1631/6000]: 100%|██████████| 17/17 [00:00<00:00, 101.22it/s, loss=2.72]\n"
     ]
    },
    {
     "output_type": "stream",
     "name": "stdout",
     "text": [
      "Epoch [1631/6000]: Train loss: 2.4690, Valid loss: 2.2532\n"
     ]
    },
    {
     "output_type": "stream",
     "name": "stderr",
     "text": [
      "Epoch [1632/6000]: 100%|██████████| 17/17 [00:00<00:00, 110.06it/s, loss=2.61]\n"
     ]
    },
    {
     "output_type": "stream",
     "name": "stdout",
     "text": [
      "Epoch [1632/6000]: Train loss: 2.4663, Valid loss: 2.4511\n"
     ]
    },
    {
     "output_type": "stream",
     "name": "stderr",
     "text": [
      "Epoch [1633/6000]: 100%|██████████| 17/17 [00:00<00:00, 125.87it/s, loss=3]\n"
     ]
    },
    {
     "output_type": "stream",
     "name": "stdout",
     "text": [
      "Epoch [1633/6000]: Train loss: 2.4673, Valid loss: 2.2471\n"
     ]
    },
    {
     "output_type": "stream",
     "name": "stderr",
     "text": [
      "Epoch [1634/6000]: 100%|██████████| 17/17 [00:00<00:00, 115.99it/s, loss=2.39]\n"
     ]
    },
    {
     "output_type": "stream",
     "name": "stdout",
     "text": [
      "Epoch [1634/6000]: Train loss: 2.4611, Valid loss: 2.1724\n"
     ]
    },
    {
     "output_type": "stream",
     "name": "stderr",
     "text": [
      "Epoch [1635/6000]: 100%|██████████| 17/17 [00:00<00:00, 119.13it/s, loss=3.78]\n"
     ]
    },
    {
     "output_type": "stream",
     "name": "stdout",
     "text": [
      "Epoch [1635/6000]: Train loss: 2.4695, Valid loss: 2.3208\n"
     ]
    },
    {
     "output_type": "stream",
     "name": "stderr",
     "text": [
      "Epoch [1636/6000]: 100%|██████████| 17/17 [00:00<00:00, 123.03it/s, loss=1.8]\n"
     ]
    },
    {
     "output_type": "stream",
     "name": "stdout",
     "text": [
      "Epoch [1636/6000]: Train loss: 2.4537, Valid loss: 2.3572\n"
     ]
    },
    {
     "output_type": "stream",
     "name": "stderr",
     "text": [
      "Epoch [1637/6000]: 100%|██████████| 17/17 [00:00<00:00, 100.54it/s, loss=2.51]\n"
     ]
    },
    {
     "output_type": "stream",
     "name": "stdout",
     "text": [
      "Epoch [1637/6000]: Train loss: 2.4572, Valid loss: 2.3926\n"
     ]
    },
    {
     "output_type": "stream",
     "name": "stderr",
     "text": [
      "Epoch [1638/6000]: 100%|██████████| 17/17 [00:00<00:00, 104.95it/s, loss=1.49]\n"
     ]
    },
    {
     "output_type": "stream",
     "name": "stdout",
     "text": [
      "Epoch [1638/6000]: Train loss: 2.4476, Valid loss: 2.2159\n"
     ]
    },
    {
     "output_type": "stream",
     "name": "stderr",
     "text": [
      "Epoch [1639/6000]: 100%|██████████| 17/17 [00:00<00:00, 103.47it/s, loss=1.71]\n"
     ]
    },
    {
     "output_type": "stream",
     "name": "stdout",
     "text": [
      "Epoch [1639/6000]: Train loss: 2.4473, Valid loss: 2.3413\n"
     ]
    },
    {
     "output_type": "stream",
     "name": "stderr",
     "text": [
      "Epoch [1640/6000]: 100%|██████████| 17/17 [00:00<00:00, 108.70it/s, loss=1.63]\n"
     ]
    },
    {
     "output_type": "stream",
     "name": "stdout",
     "text": [
      "Epoch [1640/6000]: Train loss: 2.4453, Valid loss: 2.0963\n",
      "Saving model with loss 2.096...\n"
     ]
    },
    {
     "output_type": "stream",
     "name": "stderr",
     "text": [
      "Epoch [1641/6000]: 100%|██████████| 17/17 [00:00<00:00, 106.65it/s, loss=2.27]\n"
     ]
    },
    {
     "output_type": "stream",
     "name": "stdout",
     "text": [
      "Epoch [1641/6000]: Train loss: 2.4477, Valid loss: 2.3012\n"
     ]
    },
    {
     "output_type": "stream",
     "name": "stderr",
     "text": [
      "Epoch [1642/6000]: 100%|██████████| 17/17 [00:00<00:00, 115.67it/s, loss=2.58]\n"
     ]
    },
    {
     "output_type": "stream",
     "name": "stdout",
     "text": [
      "Epoch [1642/6000]: Train loss: 2.4483, Valid loss: 2.2173\n"
     ]
    },
    {
     "output_type": "stream",
     "name": "stderr",
     "text": [
      "Epoch [1643/6000]: 100%|██████████| 17/17 [00:00<00:00, 117.13it/s, loss=2.47]\n"
     ]
    },
    {
     "output_type": "stream",
     "name": "stdout",
     "text": [
      "Epoch [1643/6000]: Train loss: 2.4459, Valid loss: 2.2375\n"
     ]
    },
    {
     "output_type": "stream",
     "name": "stderr",
     "text": [
      "Epoch [1644/6000]: 100%|██████████| 17/17 [00:00<00:00, 99.49it/s, loss=3.25]\n"
     ]
    },
    {
     "output_type": "stream",
     "name": "stdout",
     "text": [
      "Epoch [1644/6000]: Train loss: 2.4506, Valid loss: 2.2771\n"
     ]
    },
    {
     "output_type": "stream",
     "name": "stderr",
     "text": [
      "Epoch [1645/6000]: 100%|██████████| 17/17 [00:00<00:00, 126.17it/s, loss=1.81]\n"
     ]
    },
    {
     "output_type": "stream",
     "name": "stdout",
     "text": [
      "Epoch [1645/6000]: Train loss: 2.4374, Valid loss: 2.2904\n"
     ]
    },
    {
     "output_type": "stream",
     "name": "stderr",
     "text": [
      "Epoch [1646/6000]: 100%|██████████| 17/17 [00:00<00:00, 130.45it/s, loss=2.59]\n"
     ]
    },
    {
     "output_type": "stream",
     "name": "stdout",
     "text": [
      "Epoch [1646/6000]: Train loss: 2.4417, Valid loss: 2.2978\n"
     ]
    },
    {
     "output_type": "stream",
     "name": "stderr",
     "text": [
      "Epoch [1647/6000]: 100%|██████████| 17/17 [00:00<00:00, 115.80it/s, loss=1.6]\n"
     ]
    },
    {
     "output_type": "stream",
     "name": "stdout",
     "text": [
      "Epoch [1647/6000]: Train loss: 2.4324, Valid loss: 2.4394\n"
     ]
    },
    {
     "output_type": "stream",
     "name": "stderr",
     "text": [
      "Epoch [1648/6000]: 100%|██████████| 17/17 [00:00<00:00, 131.98it/s, loss=2.38]\n"
     ]
    },
    {
     "output_type": "stream",
     "name": "stdout",
     "text": [
      "Epoch [1648/6000]: Train loss: 2.4368, Valid loss: 2.4685\n"
     ]
    },
    {
     "output_type": "stream",
     "name": "stderr",
     "text": [
      "Epoch [1649/6000]: 100%|██████████| 17/17 [00:00<00:00, 112.71it/s, loss=2.25]\n"
     ]
    },
    {
     "output_type": "stream",
     "name": "stdout",
     "text": [
      "Epoch [1649/6000]: Train loss: 2.4338, Valid loss: 2.3020\n"
     ]
    },
    {
     "output_type": "stream",
     "name": "stderr",
     "text": [
      "Epoch [1650/6000]: 100%|██████████| 17/17 [00:00<00:00, 125.13it/s, loss=2.57]\n"
     ]
    },
    {
     "output_type": "stream",
     "name": "stdout",
     "text": [
      "Epoch [1650/6000]: Train loss: 2.4345, Valid loss: 2.2405\n"
     ]
    },
    {
     "output_type": "stream",
     "name": "stderr",
     "text": [
      "Epoch [1651/6000]: 100%|██████████| 17/17 [00:00<00:00, 129.54it/s, loss=2.57]\n"
     ]
    },
    {
     "output_type": "stream",
     "name": "stdout",
     "text": [
      "Epoch [1651/6000]: Train loss: 2.4329, Valid loss: 2.2844\n"
     ]
    },
    {
     "output_type": "stream",
     "name": "stderr",
     "text": [
      "Epoch [1652/6000]: 100%|██████████| 17/17 [00:00<00:00, 127.72it/s, loss=2.5]\n"
     ]
    },
    {
     "output_type": "stream",
     "name": "stdout",
     "text": [
      "Epoch [1652/6000]: Train loss: 2.4316, Valid loss: 2.1502\n"
     ]
    },
    {
     "output_type": "stream",
     "name": "stderr",
     "text": [
      "Epoch [1653/6000]: 100%|██████████| 17/17 [00:00<00:00, 127.78it/s, loss=2.47]\n"
     ]
    },
    {
     "output_type": "stream",
     "name": "stdout",
     "text": [
      "Epoch [1653/6000]: Train loss: 2.4284, Valid loss: 2.1734\n"
     ]
    },
    {
     "output_type": "stream",
     "name": "stderr",
     "text": [
      "Epoch [1654/6000]: 100%|██████████| 17/17 [00:00<00:00, 131.06it/s, loss=1.95]\n"
     ]
    },
    {
     "output_type": "stream",
     "name": "stdout",
     "text": [
      "Epoch [1654/6000]: Train loss: 2.4234, Valid loss: 2.1223\n"
     ]
    },
    {
     "output_type": "stream",
     "name": "stderr",
     "text": [
      "Epoch [1655/6000]: 100%|██████████| 17/17 [00:00<00:00, 115.58it/s, loss=2.56]\n"
     ]
    },
    {
     "output_type": "stream",
     "name": "stdout",
     "text": [
      "Epoch [1655/6000]: Train loss: 2.4263, Valid loss: 2.3940\n"
     ]
    },
    {
     "output_type": "stream",
     "name": "stderr",
     "text": [
      "Epoch [1656/6000]: 100%|██████████| 17/17 [00:00<00:00, 117.23it/s, loss=2.2]\n"
     ]
    },
    {
     "output_type": "stream",
     "name": "stdout",
     "text": [
      "Epoch [1656/6000]: Train loss: 2.4218, Valid loss: 2.2362\n"
     ]
    },
    {
     "output_type": "stream",
     "name": "stderr",
     "text": [
      "Epoch [1657/6000]: 100%|██████████| 17/17 [00:00<00:00, 119.89it/s, loss=2.55]\n"
     ]
    },
    {
     "output_type": "stream",
     "name": "stdout",
     "text": [
      "Epoch [1657/6000]: Train loss: 2.4228, Valid loss: 2.2311\n"
     ]
    },
    {
     "output_type": "stream",
     "name": "stderr",
     "text": [
      "Epoch [1658/6000]: 100%|██████████| 17/17 [00:00<00:00, 117.02it/s, loss=2.1]\n"
     ]
    },
    {
     "output_type": "stream",
     "name": "stdout",
     "text": [
      "Epoch [1658/6000]: Train loss: 2.4175, Valid loss: 2.2725\n"
     ]
    },
    {
     "output_type": "stream",
     "name": "stderr",
     "text": [
      "Epoch [1659/6000]: 100%|██████████| 17/17 [00:00<00:00, 112.66it/s, loss=2.92]\n"
     ]
    },
    {
     "output_type": "stream",
     "name": "stdout",
     "text": [
      "Epoch [1659/6000]: Train loss: 2.4223, Valid loss: 2.4062\n"
     ]
    },
    {
     "output_type": "stream",
     "name": "stderr",
     "text": [
      "Epoch [1660/6000]: 100%|██████████| 17/17 [00:00<00:00, 114.84it/s, loss=2.47]\n"
     ]
    },
    {
     "output_type": "stream",
     "name": "stdout",
     "text": [
      "Epoch [1660/6000]: Train loss: 2.4172, Valid loss: 2.3866\n"
     ]
    },
    {
     "output_type": "stream",
     "name": "stderr",
     "text": [
      "Epoch [1661/6000]: 100%|██████████| 17/17 [00:00<00:00, 119.14it/s, loss=2.52]\n"
     ]
    },
    {
     "output_type": "stream",
     "name": "stdout",
     "text": [
      "Epoch [1661/6000]: Train loss: 2.4158, Valid loss: 2.2059\n"
     ]
    },
    {
     "output_type": "stream",
     "name": "stderr",
     "text": [
      "Epoch [1662/6000]: 100%|██████████| 17/17 [00:00<00:00, 115.74it/s, loss=2.1]\n"
     ]
    },
    {
     "output_type": "stream",
     "name": "stdout",
     "text": [
      "Epoch [1662/6000]: Train loss: 2.4109, Valid loss: 2.3036\n"
     ]
    },
    {
     "output_type": "stream",
     "name": "stderr",
     "text": [
      "Epoch [1663/6000]: 100%|██████████| 17/17 [00:00<00:00, 104.65it/s, loss=2.38]\n"
     ]
    },
    {
     "output_type": "stream",
     "name": "stdout",
     "text": [
      "Epoch [1663/6000]: Train loss: 2.4116, Valid loss: 2.2169\n"
     ]
    },
    {
     "output_type": "stream",
     "name": "stderr",
     "text": [
      "Epoch [1664/6000]: 100%|██████████| 17/17 [00:00<00:00, 110.03it/s, loss=1.85]\n"
     ]
    },
    {
     "output_type": "stream",
     "name": "stdout",
     "text": [
      "Epoch [1664/6000]: Train loss: 2.4059, Valid loss: 2.3093\n"
     ]
    },
    {
     "output_type": "stream",
     "name": "stderr",
     "text": [
      "Epoch [1665/6000]: 100%|██████████| 17/17 [00:00<00:00, 129.66it/s, loss=2.89]\n"
     ]
    },
    {
     "output_type": "stream",
     "name": "stdout",
     "text": [
      "Epoch [1665/6000]: Train loss: 2.4123, Valid loss: 2.0858\n",
      "Saving model with loss 2.086...\n"
     ]
    },
    {
     "output_type": "stream",
     "name": "stderr",
     "text": [
      "Epoch [1666/6000]: 100%|██████████| 17/17 [00:00<00:00, 129.19it/s, loss=3.33]\n"
     ]
    },
    {
     "output_type": "stream",
     "name": "stdout",
     "text": [
      "Epoch [1666/6000]: Train loss: 2.4142, Valid loss: 2.1736\n"
     ]
    },
    {
     "output_type": "stream",
     "name": "stderr",
     "text": [
      "Epoch [1667/6000]: 100%|██████████| 17/17 [00:00<00:00, 127.04it/s, loss=2.83]\n"
     ]
    },
    {
     "output_type": "stream",
     "name": "stdout",
     "text": [
      "Epoch [1667/6000]: Train loss: 2.4081, Valid loss: 2.4801\n"
     ]
    },
    {
     "output_type": "stream",
     "name": "stderr",
     "text": [
      "Epoch [1668/6000]: 100%|██████████| 17/17 [00:00<00:00, 103.60it/s, loss=2.36]\n"
     ]
    },
    {
     "output_type": "stream",
     "name": "stdout",
     "text": [
      "Epoch [1668/6000]: Train loss: 2.4046, Valid loss: 2.2497\n"
     ]
    },
    {
     "output_type": "stream",
     "name": "stderr",
     "text": [
      "Epoch [1669/6000]: 100%|██████████| 17/17 [00:00<00:00, 120.87it/s, loss=2.62]\n"
     ]
    },
    {
     "output_type": "stream",
     "name": "stdout",
     "text": [
      "Epoch [1669/6000]: Train loss: 2.4045, Valid loss: 2.3499\n"
     ]
    },
    {
     "output_type": "stream",
     "name": "stderr",
     "text": [
      "Epoch [1670/6000]: 100%|██████████| 17/17 [00:00<00:00, 114.94it/s, loss=2.69]\n"
     ]
    },
    {
     "output_type": "stream",
     "name": "stdout",
     "text": [
      "Epoch [1670/6000]: Train loss: 2.4029, Valid loss: 2.5374\n"
     ]
    },
    {
     "output_type": "stream",
     "name": "stderr",
     "text": [
      "Epoch [1671/6000]: 100%|██████████| 17/17 [00:00<00:00, 113.22it/s, loss=2.16]\n"
     ]
    },
    {
     "output_type": "stream",
     "name": "stdout",
     "text": [
      "Epoch [1671/6000]: Train loss: 2.3972, Valid loss: 2.2666\n"
     ]
    },
    {
     "output_type": "stream",
     "name": "stderr",
     "text": [
      "Epoch [1672/6000]: 100%|██████████| 17/17 [00:00<00:00, 114.90it/s, loss=2.52]\n"
     ]
    },
    {
     "output_type": "stream",
     "name": "stdout",
     "text": [
      "Epoch [1672/6000]: Train loss: 2.3980, Valid loss: 2.2292\n"
     ]
    },
    {
     "output_type": "stream",
     "name": "stderr",
     "text": [
      "Epoch [1673/6000]: 100%|██████████| 17/17 [00:00<00:00, 111.53it/s, loss=2.22]\n"
     ]
    },
    {
     "output_type": "stream",
     "name": "stdout",
     "text": [
      "Epoch [1673/6000]: Train loss: 2.3943, Valid loss: 2.1662\n"
     ]
    },
    {
     "output_type": "stream",
     "name": "stderr",
     "text": [
      "Epoch [1676/6000]: 100%|██████████| 17/17 [00:00<00:00, 102.62it/s, loss=2.1]\n"
     ]
    },
    {
     "output_type": "stream",
     "name": "stdout",
     "text": [
      "Epoch [1676/6000]: Train loss: 2.3886, Valid loss: 2.3315\n"
     ]
    },
    {
     "output_type": "stream",
     "name": "stderr",
     "text": [
      "Epoch [1677/6000]: 100%|██████████| 17/17 [00:00<00:00, 112.58it/s, loss=2.06]\n"
     ]
    },
    {
     "output_type": "stream",
     "name": "stdout",
     "text": [
      "Epoch [1677/6000]: Train loss: 2.3873, Valid loss: 2.3310\n"
     ]
    },
    {
     "output_type": "stream",
     "name": "stderr",
     "text": [
      "Epoch [1678/6000]: 100%|██████████| 17/17 [00:00<00:00, 120.13it/s, loss=2.53]\n"
     ]
    },
    {
     "output_type": "stream",
     "name": "stdout",
     "text": [
      "Epoch [1678/6000]: Train loss: 2.3890, Valid loss: 2.2207\n"
     ]
    },
    {
     "output_type": "stream",
     "name": "stderr",
     "text": [
      "Epoch [1679/6000]: 100%|██████████| 17/17 [00:00<00:00, 110.68it/s, loss=3.05]\n"
     ]
    },
    {
     "output_type": "stream",
     "name": "stdout",
     "text": [
      "Epoch [1679/6000]: Train loss: 2.3911, Valid loss: 2.3472\n"
     ]
    },
    {
     "output_type": "stream",
     "name": "stderr",
     "text": [
      "Epoch [1680/6000]: 100%|██████████| 17/17 [00:00<00:00, 111.45it/s, loss=3.15]\n"
     ]
    },
    {
     "output_type": "stream",
     "name": "stdout",
     "text": [
      "Epoch [1680/6000]: Train loss: 2.3905, Valid loss: 2.2620\n"
     ]
    },
    {
     "output_type": "stream",
     "name": "stderr",
     "text": [
      "Epoch [1681/6000]: 100%|██████████| 17/17 [00:00<00:00, 107.79it/s, loss=2.22]\n"
     ]
    },
    {
     "output_type": "stream",
     "name": "stdout",
     "text": [
      "Epoch [1681/6000]: Train loss: 2.3825, Valid loss: 2.1355\n"
     ]
    },
    {
     "output_type": "stream",
     "name": "stderr",
     "text": [
      "Epoch [1682/6000]: 100%|██████████| 17/17 [00:00<00:00, 102.90it/s, loss=2.19]\n"
     ]
    },
    {
     "output_type": "stream",
     "name": "stdout",
     "text": [
      "Epoch [1682/6000]: Train loss: 2.3808, Valid loss: 2.0925\n"
     ]
    },
    {
     "output_type": "stream",
     "name": "stderr",
     "text": [
      "Epoch [1683/6000]: 100%|██████████| 17/17 [00:00<00:00, 127.16it/s, loss=1.86]\n"
     ]
    },
    {
     "output_type": "stream",
     "name": "stdout",
     "text": [
      "Epoch [1683/6000]: Train loss: 2.3763, Valid loss: 2.0355\n",
      "Saving model with loss 2.035...\n"
     ]
    },
    {
     "output_type": "stream",
     "name": "stderr",
     "text": [
      "Epoch [1684/6000]: 100%|██████████| 17/17 [00:00<00:00, 128.95it/s, loss=1.91]\n"
     ]
    },
    {
     "output_type": "stream",
     "name": "stdout",
     "text": [
      "Epoch [1684/6000]: Train loss: 2.3750, Valid loss: 2.2257\n"
     ]
    },
    {
     "output_type": "stream",
     "name": "stderr",
     "text": [
      "Epoch [1685/6000]: 100%|██████████| 17/17 [00:00<00:00, 125.95it/s, loss=2.32]\n"
     ]
    },
    {
     "output_type": "stream",
     "name": "stdout",
     "text": [
      "Epoch [1685/6000]: Train loss: 2.3766, Valid loss: 2.2544\n"
     ]
    },
    {
     "output_type": "stream",
     "name": "stderr",
     "text": [
      "Epoch [1686/6000]: 100%|██████████| 17/17 [00:00<00:00, 105.16it/s, loss=2.16]\n"
     ]
    },
    {
     "output_type": "stream",
     "name": "stdout",
     "text": [
      "Epoch [1686/6000]: Train loss: 2.3738, Valid loss: 2.2628\n"
     ]
    },
    {
     "output_type": "stream",
     "name": "stderr",
     "text": [
      "Epoch [1687/6000]: 100%|██████████| 17/17 [00:00<00:00, 101.15it/s, loss=3.36]\n"
     ]
    },
    {
     "output_type": "stream",
     "name": "stdout",
     "text": [
      "Epoch [1687/6000]: Train loss: 2.3816, Valid loss: 2.3247\n"
     ]
    },
    {
     "output_type": "stream",
     "name": "stderr",
     "text": [
      "Epoch [1688/6000]: 100%|██████████| 17/17 [00:00<00:00, 113.38it/s, loss=2.37]\n"
     ]
    },
    {
     "output_type": "stream",
     "name": "stdout",
     "text": [
      "Epoch [1688/6000]: Train loss: 2.3725, Valid loss: 2.2928\n"
     ]
    },
    {
     "output_type": "stream",
     "name": "stderr",
     "text": [
      "Epoch [1694/6000]: 100%|██████████| 17/17 [00:00<00:00, 94.12it/s, loss=2.29] \n"
     ]
    },
    {
     "output_type": "stream",
     "name": "stdout",
     "text": [
      "Epoch [1694/6000]: Train loss: 2.3633, Valid loss: 2.1845\n"
     ]
    },
    {
     "output_type": "stream",
     "name": "stderr",
     "text": [
      "Epoch [1695/6000]: 100%|██████████| 17/17 [00:00<00:00, 113.07it/s, loss=2.34]\n"
     ]
    },
    {
     "output_type": "stream",
     "name": "stdout",
     "text": [
      "Epoch [1695/6000]: Train loss: 2.3625, Valid loss: 2.2421\n"
     ]
    },
    {
     "output_type": "stream",
     "name": "stderr",
     "text": [
      "Epoch [1696/6000]: 100%|██████████| 17/17 [00:00<00:00, 105.38it/s, loss=2.44]\n"
     ]
    },
    {
     "output_type": "stream",
     "name": "stdout",
     "text": [
      "Epoch [1696/6000]: Train loss: 2.3611, Valid loss: 2.2059\n"
     ]
    },
    {
     "output_type": "stream",
     "name": "stderr",
     "text": [
      "Epoch [1697/6000]: 100%|██████████| 17/17 [00:00<00:00, 100.75it/s, loss=1.84]\n"
     ]
    },
    {
     "output_type": "stream",
     "name": "stdout",
     "text": [
      "Epoch [1697/6000]: Train loss: 2.3556, Valid loss: 2.1335\n"
     ]
    },
    {
     "output_type": "stream",
     "name": "stderr",
     "text": [
      "Epoch [1698/6000]: 100%|██████████| 17/17 [00:00<00:00, 116.48it/s, loss=2.16]\n"
     ]
    },
    {
     "output_type": "stream",
     "name": "stdout",
     "text": [
      "Epoch [1698/6000]: Train loss: 2.3560, Valid loss: 2.1888\n"
     ]
    },
    {
     "output_type": "stream",
     "name": "stderr",
     "text": [
      "Epoch [1699/6000]: 100%|██████████| 17/17 [00:00<00:00, 114.03it/s, loss=2.81]\n"
     ]
    },
    {
     "output_type": "stream",
     "name": "stdout",
     "text": [
      "Epoch [1699/6000]: Train loss: 2.3594, Valid loss: 2.2497\n"
     ]
    },
    {
     "output_type": "stream",
     "name": "stderr",
     "text": [
      "Epoch [1700/6000]: 100%|██████████| 17/17 [00:00<00:00, 124.06it/s, loss=2.98]\n"
     ]
    },
    {
     "output_type": "stream",
     "name": "stdout",
     "text": [
      "Epoch [1700/6000]: Train loss: 2.3593, Valid loss: 2.7030\n"
     ]
    },
    {
     "output_type": "stream",
     "name": "stderr",
     "text": [
      "Epoch [1701/6000]: 100%|██████████| 17/17 [00:00<00:00, 114.75it/s, loss=2.53]\n"
     ]
    },
    {
     "output_type": "stream",
     "name": "stdout",
     "text": [
      "Epoch [1701/6000]: Train loss: 2.3556, Valid loss: 2.1390\n"
     ]
    },
    {
     "output_type": "stream",
     "name": "stderr",
     "text": [
      "Epoch [1702/6000]: 100%|██████████| 17/17 [00:00<00:00, 117.62it/s, loss=2.37]\n"
     ]
    },
    {
     "output_type": "stream",
     "name": "stdout",
     "text": [
      "Epoch [1702/6000]: Train loss: 2.3522, Valid loss: 2.3958\n"
     ]
    },
    {
     "output_type": "stream",
     "name": "stderr",
     "text": [
      "Epoch [1703/6000]: 100%|██████████| 17/17 [00:00<00:00, 106.64it/s, loss=3.11]\n"
     ]
    },
    {
     "output_type": "stream",
     "name": "stdout",
     "text": [
      "Epoch [1703/6000]: Train loss: 2.3566, Valid loss: 2.4609\n"
     ]
    },
    {
     "output_type": "stream",
     "name": "stderr",
     "text": [
      "Epoch [1704/6000]: 100%|██████████| 17/17 [00:00<00:00, 103.85it/s, loss=2.14]\n"
     ]
    },
    {
     "output_type": "stream",
     "name": "stdout",
     "text": [
      "Epoch [1704/6000]: Train loss: 2.3473, Valid loss: 2.1822\n"
     ]
    },
    {
     "output_type": "stream",
     "name": "stderr",
     "text": [
      "Epoch [1705/6000]: 100%|██████████| 17/17 [00:00<00:00, 103.34it/s, loss=2.17]\n"
     ]
    },
    {
     "output_type": "stream",
     "name": "stdout",
     "text": [
      "Epoch [1705/6000]: Train loss: 2.3461, Valid loss: 2.2568\n"
     ]
    },
    {
     "output_type": "stream",
     "name": "stderr",
     "text": [
      "Epoch [1706/6000]: 100%|██████████| 17/17 [00:00<00:00, 117.10it/s, loss=2.28]\n"
     ]
    },
    {
     "output_type": "stream",
     "name": "stdout",
     "text": [
      "Epoch [1706/6000]: Train loss: 2.3456, Valid loss: 2.1759\n"
     ]
    },
    {
     "output_type": "stream",
     "name": "stderr",
     "text": [
      "Epoch [1707/6000]: 100%|██████████| 17/17 [00:00<00:00, 116.09it/s, loss=1.93]\n"
     ]
    },
    {
     "output_type": "stream",
     "name": "stdout",
     "text": [
      "Epoch [1707/6000]: Train loss: 2.3428, Valid loss: 2.5977\n"
     ]
    },
    {
     "output_type": "stream",
     "name": "stderr",
     "text": [
      "Epoch [1708/6000]: 100%|██████████| 17/17 [00:00<00:00, 114.74it/s, loss=2.28]\n"
     ]
    },
    {
     "output_type": "stream",
     "name": "stdout",
     "text": [
      "Epoch [1708/6000]: Train loss: 2.3425, Valid loss: 2.1784\n"
     ]
    },
    {
     "output_type": "stream",
     "name": "stderr",
     "text": [
      "Epoch [1709/6000]: 100%|██████████| 17/17 [00:00<00:00, 117.89it/s, loss=3]\n"
     ]
    },
    {
     "output_type": "stream",
     "name": "stdout",
     "text": [
      "Epoch [1709/6000]: Train loss: 2.3468, Valid loss: 2.2971\n"
     ]
    },
    {
     "output_type": "stream",
     "name": "stderr",
     "text": [
      "Epoch [1710/6000]: 100%|██████████| 17/17 [00:00<00:00, 122.07it/s, loss=1.91]\n"
     ]
    },
    {
     "output_type": "stream",
     "name": "stdout",
     "text": [
      "Epoch [1710/6000]: Train loss: 2.3380, Valid loss: 1.9981\n",
      "Saving model with loss 1.998...\n"
     ]
    },
    {
     "output_type": "stream",
     "name": "stderr",
     "text": [
      "Epoch [1711/6000]: 100%|██████████| 17/17 [00:00<00:00, 118.94it/s, loss=3.1]\n"
     ]
    },
    {
     "output_type": "stream",
     "name": "stdout",
     "text": [
      "Epoch [1711/6000]: Train loss: 2.3445, Valid loss: 2.1570\n"
     ]
    },
    {
     "output_type": "stream",
     "name": "stderr",
     "text": [
      "Epoch [1712/6000]: 100%|██████████| 17/17 [00:00<00:00, 114.32it/s, loss=2.57]\n"
     ]
    },
    {
     "output_type": "stream",
     "name": "stdout",
     "text": [
      "Epoch [1712/6000]: Train loss: 2.3396, Valid loss: 2.1101\n"
     ]
    },
    {
     "output_type": "stream",
     "name": "stderr",
     "text": [
      "Epoch [1713/6000]: 100%|██████████| 17/17 [00:00<00:00, 120.49it/s, loss=1.75]\n"
     ]
    },
    {
     "output_type": "stream",
     "name": "stdout",
     "text": [
      "Epoch [1713/6000]: Train loss: 2.3327, Valid loss: 2.0490\n"
     ]
    },
    {
     "output_type": "stream",
     "name": "stderr",
     "text": [
      "Epoch [1714/6000]: 100%|██████████| 17/17 [00:00<00:00, 123.84it/s, loss=2.57]\n"
     ]
    },
    {
     "output_type": "stream",
     "name": "stdout",
     "text": [
      "Epoch [1714/6000]: Train loss: 2.3376, Valid loss: 2.4770\n"
     ]
    },
    {
     "output_type": "stream",
     "name": "stderr",
     "text": [
      "Epoch [1715/6000]: 100%|██████████| 17/17 [00:00<00:00, 124.34it/s, loss=2.22]\n"
     ]
    },
    {
     "output_type": "stream",
     "name": "stdout",
     "text": [
      "Epoch [1715/6000]: Train loss: 2.3347, Valid loss: 2.1446\n"
     ]
    },
    {
     "output_type": "stream",
     "name": "stderr",
     "text": [
      "Epoch [1716/6000]: 100%|██████████| 17/17 [00:00<00:00, 116.10it/s, loss=2.08]\n"
     ]
    },
    {
     "output_type": "stream",
     "name": "stdout",
     "text": [
      "Epoch [1716/6000]: Train loss: 2.3307, Valid loss: 2.0076\n"
     ]
    },
    {
     "output_type": "stream",
     "name": "stderr",
     "text": [
      "Epoch [1717/6000]: 100%|██████████| 17/17 [00:00<00:00, 117.93it/s, loss=2.18]\n"
     ]
    },
    {
     "output_type": "stream",
     "name": "stdout",
     "text": [
      "Epoch [1717/6000]: Train loss: 2.3299, Valid loss: 2.0930\n"
     ]
    },
    {
     "output_type": "stream",
     "name": "stderr",
     "text": [
      "Epoch [1718/6000]: 100%|██████████| 17/17 [00:00<00:00, 120.86it/s, loss=1.96]\n"
     ]
    },
    {
     "output_type": "stream",
     "name": "stdout",
     "text": [
      "Epoch [1718/6000]: Train loss: 2.3268, Valid loss: 2.0718\n"
     ]
    },
    {
     "output_type": "stream",
     "name": "stderr",
     "text": [
      "Epoch [1719/6000]: 100%|██████████| 17/17 [00:00<00:00, 130.51it/s, loss=2.87]\n"
     ]
    },
    {
     "output_type": "stream",
     "name": "stdout",
     "text": [
      "Epoch [1719/6000]: Train loss: 2.3327, Valid loss: 2.1815\n"
     ]
    },
    {
     "output_type": "stream",
     "name": "stderr",
     "text": [
      "Epoch [1720/6000]: 100%|██████████| 17/17 [00:00<00:00, 121.78it/s, loss=2.69]\n"
     ]
    },
    {
     "output_type": "stream",
     "name": "stdout",
     "text": [
      "Epoch [1720/6000]: Train loss: 2.3294, Valid loss: 2.0994\n"
     ]
    },
    {
     "output_type": "stream",
     "name": "stderr",
     "text": [
      "Epoch [1721/6000]: 100%|██████████| 17/17 [00:00<00:00, 115.91it/s, loss=2.93]\n"
     ]
    },
    {
     "output_type": "stream",
     "name": "stdout",
     "text": [
      "Epoch [1721/6000]: Train loss: 2.3299, Valid loss: 2.1283\n"
     ]
    },
    {
     "output_type": "stream",
     "name": "stderr",
     "text": [
      "Epoch [1722/6000]: 100%|██████████| 17/17 [00:00<00:00, 112.76it/s, loss=2.76]\n"
     ]
    },
    {
     "output_type": "stream",
     "name": "stdout",
     "text": [
      "Epoch [1722/6000]: Train loss: 2.3276, Valid loss: 2.1940\n"
     ]
    },
    {
     "output_type": "stream",
     "name": "stderr",
     "text": [
      "Epoch [1723/6000]: 100%|██████████| 17/17 [00:00<00:00, 113.51it/s, loss=1.9]\n"
     ]
    },
    {
     "output_type": "stream",
     "name": "stdout",
     "text": [
      "Epoch [1723/6000]: Train loss: 2.3202, Valid loss: 2.2698\n"
     ]
    },
    {
     "output_type": "stream",
     "name": "stderr",
     "text": [
      "Epoch [1724/6000]: 100%|██████████| 17/17 [00:00<00:00, 100.00it/s, loss=1.99]\n"
     ]
    },
    {
     "output_type": "stream",
     "name": "stdout",
     "text": [
      "Epoch [1724/6000]: Train loss: 2.3196, Valid loss: 2.2793\n"
     ]
    },
    {
     "output_type": "stream",
     "name": "stderr",
     "text": [
      "Epoch [1725/6000]: 100%|██████████| 17/17 [00:00<00:00, 107.57it/s, loss=2.04]\n"
     ]
    },
    {
     "output_type": "stream",
     "name": "stdout",
     "text": [
      "Epoch [1725/6000]: Train loss: 2.3191, Valid loss: 1.9564\n",
      "Saving model with loss 1.956...\n"
     ]
    },
    {
     "output_type": "stream",
     "name": "stderr",
     "text": [
      "Epoch [1726/6000]: 100%|██████████| 17/17 [00:00<00:00, 103.33it/s, loss=2.41]\n"
     ]
    },
    {
     "output_type": "stream",
     "name": "stdout",
     "text": [
      "Epoch [1726/6000]: Train loss: 2.3196, Valid loss: 2.4478\n"
     ]
    },
    {
     "output_type": "stream",
     "name": "stderr",
     "text": [
      "Epoch [1727/6000]: 100%|██████████| 17/17 [00:00<00:00, 117.53it/s, loss=1.75]\n"
     ]
    },
    {
     "output_type": "stream",
     "name": "stdout",
     "text": [
      "Epoch [1727/6000]: Train loss: 2.3134, Valid loss: 2.2035\n"
     ]
    },
    {
     "output_type": "stream",
     "name": "stderr",
     "text": [
      "Epoch [1728/6000]: 100%|██████████| 17/17 [00:00<00:00, 112.92it/s, loss=1.72]\n"
     ]
    },
    {
     "output_type": "stream",
     "name": "stdout",
     "text": [
      "Epoch [1728/6000]: Train loss: 2.3121, Valid loss: 1.9801\n"
     ]
    },
    {
     "output_type": "stream",
     "name": "stderr",
     "text": [
      "Epoch [1729/6000]: 100%|██████████| 17/17 [00:00<00:00, 119.67it/s, loss=2.21]\n"
     ]
    },
    {
     "output_type": "stream",
     "name": "stdout",
     "text": [
      "Epoch [1729/6000]: Train loss: 2.3145, Valid loss: 2.1028\n"
     ]
    },
    {
     "output_type": "stream",
     "name": "stderr",
     "text": [
      "Epoch [1730/6000]: 100%|██████████| 17/17 [00:00<00:00, 118.58it/s, loss=1.84]\n"
     ]
    },
    {
     "output_type": "stream",
     "name": "stdout",
     "text": [
      "Epoch [1730/6000]: Train loss: 2.3103, Valid loss: 2.1222\n"
     ]
    },
    {
     "output_type": "stream",
     "name": "stderr",
     "text": [
      "Epoch [1731/6000]: 100%|██████████| 17/17 [00:00<00:00, 111.36it/s, loss=2.94]\n"
     ]
    },
    {
     "output_type": "stream",
     "name": "stdout",
     "text": [
      "Epoch [1731/6000]: Train loss: 2.3172, Valid loss: 2.0022\n"
     ]
    },
    {
     "output_type": "stream",
     "name": "stderr",
     "text": [
      "Epoch [1732/6000]: 100%|██████████| 17/17 [00:00<00:00, 114.07it/s, loss=2.11]\n"
     ]
    },
    {
     "output_type": "stream",
     "name": "stdout",
     "text": [
      "Epoch [1732/6000]: Train loss: 2.3096, Valid loss: 1.9817\n"
     ]
    },
    {
     "output_type": "stream",
     "name": "stderr",
     "text": [
      "Epoch [1733/6000]: 100%|██████████| 17/17 [00:00<00:00, 108.28it/s, loss=2.48]\n"
     ]
    },
    {
     "output_type": "stream",
     "name": "stdout",
     "text": [
      "Epoch [1733/6000]: Train loss: 2.3114, Valid loss: 2.1116\n"
     ]
    },
    {
     "output_type": "stream",
     "name": "stderr",
     "text": [
      "Epoch [1734/6000]: 100%|██████████| 17/17 [00:00<00:00, 100.06it/s, loss=1.95]\n"
     ]
    },
    {
     "output_type": "stream",
     "name": "stdout",
     "text": [
      "Epoch [1734/6000]: Train loss: 2.3061, Valid loss: 2.1928\n"
     ]
    },
    {
     "output_type": "stream",
     "name": "stderr",
     "text": [
      "Epoch [1735/6000]: 100%|██████████| 17/17 [00:00<00:00, 123.93it/s, loss=3.3]\n"
     ]
    },
    {
     "output_type": "stream",
     "name": "stdout",
     "text": [
      "Epoch [1735/6000]: Train loss: 2.3149, Valid loss: 1.9993\n"
     ]
    },
    {
     "output_type": "stream",
     "name": "stderr",
     "text": [
      "Epoch [1736/6000]: 100%|██████████| 17/17 [00:00<00:00, 121.83it/s, loss=2.67]\n"
     ]
    },
    {
     "output_type": "stream",
     "name": "stdout",
     "text": [
      "Epoch [1736/6000]: Train loss: 2.3090, Valid loss: 1.9653\n"
     ]
    },
    {
     "output_type": "stream",
     "name": "stderr",
     "text": [
      "Epoch [1737/6000]: 100%|██████████| 17/17 [00:00<00:00, 116.22it/s, loss=2.49]\n"
     ]
    },
    {
     "output_type": "stream",
     "name": "stdout",
     "text": [
      "Epoch [1737/6000]: Train loss: 2.3062, Valid loss: 1.9813\n"
     ]
    },
    {
     "output_type": "stream",
     "name": "stderr",
     "text": [
      "Epoch [1738/6000]: 100%|██████████| 17/17 [00:00<00:00, 109.70it/s, loss=2.3]\n"
     ]
    },
    {
     "output_type": "stream",
     "name": "stdout",
     "text": [
      "Epoch [1738/6000]: Train loss: 2.3043, Valid loss: 2.0969\n"
     ]
    },
    {
     "output_type": "stream",
     "name": "stderr",
     "text": [
      "Epoch [1739/6000]: 100%|██████████| 17/17 [00:00<00:00, 113.95it/s, loss=2.81]\n"
     ]
    },
    {
     "output_type": "stream",
     "name": "stdout",
     "text": [
      "Epoch [1739/6000]: Train loss: 2.3060, Valid loss: 2.3825\n"
     ]
    },
    {
     "output_type": "stream",
     "name": "stderr",
     "text": [
      "Epoch [1740/6000]: 100%|██████████| 17/17 [00:00<00:00, 112.31it/s, loss=2.75]\n"
     ]
    },
    {
     "output_type": "stream",
     "name": "stdout",
     "text": [
      "Epoch [1740/6000]: Train loss: 2.3044, Valid loss: 2.2380\n"
     ]
    },
    {
     "output_type": "stream",
     "name": "stderr",
     "text": [
      "Epoch [1741/6000]: 100%|██████████| 17/17 [00:00<00:00, 115.46it/s, loss=2.52]\n"
     ]
    },
    {
     "output_type": "stream",
     "name": "stdout",
     "text": [
      "Epoch [1741/6000]: Train loss: 2.3020, Valid loss: 2.1522\n"
     ]
    },
    {
     "output_type": "stream",
     "name": "stderr",
     "text": [
      "Epoch [1742/6000]: 100%|██████████| 17/17 [00:00<00:00, 109.97it/s, loss=2.26]\n"
     ]
    },
    {
     "output_type": "stream",
     "name": "stdout",
     "text": [
      "Epoch [1742/6000]: Train loss: 2.2984, Valid loss: 2.4599\n"
     ]
    },
    {
     "output_type": "stream",
     "name": "stderr",
     "text": [
      "Epoch [1743/6000]: 100%|██████████| 17/17 [00:00<00:00, 104.61it/s, loss=2.13]\n"
     ]
    },
    {
     "output_type": "stream",
     "name": "stdout",
     "text": [
      "Epoch [1743/6000]: Train loss: 2.2964, Valid loss: 2.0599\n"
     ]
    },
    {
     "output_type": "stream",
     "name": "stderr",
     "text": [
      "Epoch [1744/6000]: 100%|██████████| 17/17 [00:00<00:00, 101.44it/s, loss=2.17]\n"
     ]
    },
    {
     "output_type": "stream",
     "name": "stdout",
     "text": [
      "Epoch [1744/6000]: Train loss: 2.2951, Valid loss: 2.1159\n"
     ]
    },
    {
     "output_type": "stream",
     "name": "stderr",
     "text": [
      "Epoch [1745/6000]: 100%|██████████| 17/17 [00:00<00:00, 107.25it/s, loss=1.67]\n"
     ]
    },
    {
     "output_type": "stream",
     "name": "stdout",
     "text": [
      "Epoch [1745/6000]: Train loss: 2.2900, Valid loss: 2.2089\n"
     ]
    },
    {
     "output_type": "stream",
     "name": "stderr",
     "text": [
      "Epoch [1746/6000]: 100%|██████████| 17/17 [00:00<00:00, 95.96it/s, loss=2.1]\n"
     ]
    },
    {
     "output_type": "stream",
     "name": "stdout",
     "text": [
      "Epoch [1746/6000]: Train loss: 2.2925, Valid loss: 2.2342\n"
     ]
    },
    {
     "output_type": "stream",
     "name": "stderr",
     "text": [
      "Epoch [1747/6000]: 100%|██████████| 17/17 [00:00<00:00, 101.03it/s, loss=2.57]\n"
     ]
    },
    {
     "output_type": "stream",
     "name": "stdout",
     "text": [
      "Epoch [1747/6000]: Train loss: 2.2964, Valid loss: 2.0949\n"
     ]
    },
    {
     "output_type": "stream",
     "name": "stderr",
     "text": [
      "Epoch [1748/6000]: 100%|██████████| 17/17 [00:00<00:00, 110.68it/s, loss=1.65]\n"
     ]
    },
    {
     "output_type": "stream",
     "name": "stdout",
     "text": [
      "Epoch [1748/6000]: Train loss: 2.2874, Valid loss: 2.1090\n"
     ]
    },
    {
     "output_type": "stream",
     "name": "stderr",
     "text": [
      "Epoch [1749/6000]: 100%|██████████| 17/17 [00:00<00:00, 100.82it/s, loss=2.23]\n"
     ]
    },
    {
     "output_type": "stream",
     "name": "stdout",
     "text": [
      "Epoch [1749/6000]: Train loss: 2.2896, Valid loss: 2.0214\n"
     ]
    },
    {
     "output_type": "stream",
     "name": "stderr",
     "text": [
      "Epoch [1750/6000]: 100%|██████████| 17/17 [00:00<00:00, 111.36it/s, loss=1.95]\n"
     ]
    },
    {
     "output_type": "stream",
     "name": "stdout",
     "text": [
      "Epoch [1750/6000]: Train loss: 2.2863, Valid loss: 2.1044\n"
     ]
    },
    {
     "output_type": "stream",
     "name": "stderr",
     "text": [
      "Epoch [1751/6000]: 100%|██████████| 17/17 [00:00<00:00, 110.09it/s, loss=2.03]\n"
     ]
    },
    {
     "output_type": "stream",
     "name": "stdout",
     "text": [
      "Epoch [1751/6000]: Train loss: 2.2857, Valid loss: 2.1964\n"
     ]
    },
    {
     "output_type": "stream",
     "name": "stderr",
     "text": [
      "Epoch [1752/6000]: 100%|██████████| 17/17 [00:00<00:00, 101.65it/s, loss=2.09]\n"
     ]
    },
    {
     "output_type": "stream",
     "name": "stdout",
     "text": [
      "Epoch [1752/6000]: Train loss: 2.2850, Valid loss: 2.3586\n"
     ]
    },
    {
     "output_type": "stream",
     "name": "stderr",
     "text": [
      "Epoch [1753/6000]: 100%|██████████| 17/17 [00:00<00:00, 108.00it/s, loss=1.5]\n"
     ]
    },
    {
     "output_type": "stream",
     "name": "stdout",
     "text": [
      "Epoch [1753/6000]: Train loss: 2.2801, Valid loss: 1.9684\n"
     ]
    },
    {
     "output_type": "stream",
     "name": "stderr",
     "text": [
      "Epoch [1754/6000]: 100%|██████████| 17/17 [00:00<00:00, 99.60it/s, loss=3.35]\n"
     ]
    },
    {
     "output_type": "stream",
     "name": "stdout",
     "text": [
      "Epoch [1754/6000]: Train loss: 2.2919, Valid loss: 2.0000\n"
     ]
    },
    {
     "output_type": "stream",
     "name": "stderr",
     "text": [
      "Epoch [1755/6000]: 100%|██████████| 17/17 [00:00<00:00, 119.29it/s, loss=1.67]\n"
     ]
    },
    {
     "output_type": "stream",
     "name": "stdout",
     "text": [
      "Epoch [1755/6000]: Train loss: 2.2793, Valid loss: 1.9762\n"
     ]
    },
    {
     "output_type": "stream",
     "name": "stderr",
     "text": [
      "Epoch [1756/6000]: 100%|██████████| 17/17 [00:00<00:00, 115.58it/s, loss=2.48]\n"
     ]
    },
    {
     "output_type": "stream",
     "name": "stdout",
     "text": [
      "Epoch [1756/6000]: Train loss: 2.2838, Valid loss: 2.0926\n"
     ]
    },
    {
     "output_type": "stream",
     "name": "stderr",
     "text": [
      "Epoch [1757/6000]: 100%|██████████| 17/17 [00:00<00:00, 111.29it/s, loss=2.53]\n"
     ]
    },
    {
     "output_type": "stream",
     "name": "stdout",
     "text": [
      "Epoch [1757/6000]: Train loss: 2.2824, Valid loss: 2.0252\n"
     ]
    },
    {
     "output_type": "stream",
     "name": "stderr",
     "text": [
      "Epoch [1758/6000]: 100%|██████████| 17/17 [00:00<00:00, 107.79it/s, loss=1.92]\n"
     ]
    },
    {
     "output_type": "stream",
     "name": "stdout",
     "text": [
      "Epoch [1758/6000]: Train loss: 2.2769, Valid loss: 2.1512\n"
     ]
    },
    {
     "output_type": "stream",
     "name": "stderr",
     "text": [
      "Epoch [1759/6000]: 100%|██████████| 17/17 [00:00<00:00, 118.50it/s, loss=1.91]\n"
     ]
    },
    {
     "output_type": "stream",
     "name": "stdout",
     "text": [
      "Epoch [1759/6000]: Train loss: 2.2753, Valid loss: 2.1964\n"
     ]
    },
    {
     "output_type": "stream",
     "name": "stderr",
     "text": [
      "Epoch [1760/6000]: 100%|██████████| 17/17 [00:00<00:00, 106.82it/s, loss=2.3]\n"
     ]
    },
    {
     "output_type": "stream",
     "name": "stdout",
     "text": [
      "Epoch [1760/6000]: Train loss: 2.2772, Valid loss: 1.9253\n",
      "Saving model with loss 1.925...\n"
     ]
    },
    {
     "output_type": "stream",
     "name": "stderr",
     "text": [
      "Epoch [1761/6000]: 100%|██████████| 17/17 [00:00<00:00, 121.13it/s, loss=2.06]\n"
     ]
    },
    {
     "output_type": "stream",
     "name": "stdout",
     "text": [
      "Epoch [1761/6000]: Train loss: 2.2744, Valid loss: 1.9645\n"
     ]
    },
    {
     "output_type": "stream",
     "name": "stderr",
     "text": [
      "Epoch [1762/6000]: 100%|██████████| 17/17 [00:00<00:00, 104.14it/s, loss=1.46]\n"
     ]
    },
    {
     "output_type": "stream",
     "name": "stdout",
     "text": [
      "Epoch [1762/6000]: Train loss: 2.2687, Valid loss: 2.2779\n"
     ]
    },
    {
     "output_type": "stream",
     "name": "stderr",
     "text": [
      "Epoch [1763/6000]: 100%|██████████| 17/17 [00:00<00:00, 121.38it/s, loss=3.18]\n"
     ]
    },
    {
     "output_type": "stream",
     "name": "stdout",
     "text": [
      "Epoch [1763/6000]: Train loss: 2.2802, Valid loss: 2.1509\n"
     ]
    },
    {
     "output_type": "stream",
     "name": "stderr",
     "text": [
      "Epoch [1764/6000]: 100%|██████████| 17/17 [00:00<00:00, 119.92it/s, loss=1.7]\n"
     ]
    },
    {
     "output_type": "stream",
     "name": "stdout",
     "text": [
      "Epoch [1764/6000]: Train loss: 2.2682, Valid loss: 1.9656\n"
     ]
    },
    {
     "output_type": "stream",
     "name": "stderr",
     "text": [
      "Epoch [1765/6000]: 100%|██████████| 17/17 [00:00<00:00, 115.73it/s, loss=2.71]\n"
     ]
    },
    {
     "output_type": "stream",
     "name": "stdout",
     "text": [
      "Epoch [1765/6000]: Train loss: 2.2758, Valid loss: 2.2208\n"
     ]
    },
    {
     "output_type": "stream",
     "name": "stderr",
     "text": [
      "Epoch [1766/6000]: 100%|██████████| 17/17 [00:00<00:00, 112.21it/s, loss=1.43]\n"
     ]
    },
    {
     "output_type": "stream",
     "name": "stdout",
     "text": [
      "Epoch [1766/6000]: Train loss: 2.2642, Valid loss: 2.1196\n"
     ]
    },
    {
     "output_type": "stream",
     "name": "stderr",
     "text": [
      "Epoch [1767/6000]: 100%|██████████| 17/17 [00:00<00:00, 114.49it/s, loss=2.8]\n"
     ]
    },
    {
     "output_type": "stream",
     "name": "stdout",
     "text": [
      "Epoch [1767/6000]: Train loss: 2.2734, Valid loss: 2.5060\n"
     ]
    },
    {
     "output_type": "stream",
     "name": "stderr",
     "text": [
      "Epoch [1768/6000]: 100%|██████████| 17/17 [00:00<00:00, 114.12it/s, loss=2.42]\n"
     ]
    },
    {
     "output_type": "stream",
     "name": "stdout",
     "text": [
      "Epoch [1768/6000]: Train loss: 2.2688, Valid loss: 1.9483\n"
     ]
    },
    {
     "output_type": "stream",
     "name": "stderr",
     "text": [
      "Epoch [1769/6000]: 100%|██████████| 17/17 [00:00<00:00, 118.54it/s, loss=2.16]\n"
     ]
    },
    {
     "output_type": "stream",
     "name": "stdout",
     "text": [
      "Epoch [1769/6000]: Train loss: 2.2658, Valid loss: 2.2294\n"
     ]
    },
    {
     "output_type": "stream",
     "name": "stderr",
     "text": [
      "Epoch [1770/6000]: 100%|██████████| 17/17 [00:00<00:00, 103.37it/s, loss=2.41]\n"
     ]
    },
    {
     "output_type": "stream",
     "name": "stdout",
     "text": [
      "Epoch [1770/6000]: Train loss: 2.2665, Valid loss: 1.9540\n"
     ]
    },
    {
     "output_type": "stream",
     "name": "stderr",
     "text": [
      "Epoch [1771/6000]: 100%|██████████| 17/17 [00:00<00:00, 115.82it/s, loss=2.04]\n"
     ]
    },
    {
     "output_type": "stream",
     "name": "stdout",
     "text": [
      "Epoch [1771/6000]: Train loss: 2.2630, Valid loss: 2.1878\n"
     ]
    },
    {
     "output_type": "stream",
     "name": "stderr",
     "text": [
      "Epoch [1778/6000]: 100%|██████████| 17/17 [00:00<00:00, 103.82it/s, loss=2.79]\n"
     ]
    },
    {
     "output_type": "stream",
     "name": "stdout",
     "text": [
      "Epoch [1778/6000]: Train loss: 2.2605, Valid loss: 2.1038\n"
     ]
    },
    {
     "output_type": "stream",
     "name": "stderr",
     "text": [
      "Epoch [1779/6000]: 100%|██████████| 17/17 [00:00<00:00, 119.68it/s, loss=2.19]\n"
     ]
    },
    {
     "output_type": "stream",
     "name": "stdout",
     "text": [
      "Epoch [1779/6000]: Train loss: 2.2552, Valid loss: 2.1688\n"
     ]
    },
    {
     "output_type": "stream",
     "name": "stderr",
     "text": [
      "Epoch [1780/6000]: 100%|██████████| 17/17 [00:00<00:00, 123.38it/s, loss=2.47]\n"
     ]
    },
    {
     "output_type": "stream",
     "name": "stdout",
     "text": [
      "Epoch [1780/6000]: Train loss: 2.2558, Valid loss: 2.1762\n"
     ]
    },
    {
     "output_type": "stream",
     "name": "stderr",
     "text": [
      "Epoch [1781/6000]: 100%|██████████| 17/17 [00:00<00:00, 112.11it/s, loss=2.54]\n"
     ]
    },
    {
     "output_type": "stream",
     "name": "stdout",
     "text": [
      "Epoch [1781/6000]: Train loss: 2.2553, Valid loss: 2.2877\n"
     ]
    },
    {
     "output_type": "stream",
     "name": "stderr",
     "text": [
      "Epoch [1782/6000]: 100%|██████████| 17/17 [00:00<00:00, 123.21it/s, loss=1.75]\n"
     ]
    },
    {
     "output_type": "stream",
     "name": "stdout",
     "text": [
      "Epoch [1782/6000]: Train loss: 2.2484, Valid loss: 2.1117\n"
     ]
    },
    {
     "output_type": "stream",
     "name": "stderr",
     "text": [
      "Epoch [1783/6000]: 100%|██████████| 17/17 [00:00<00:00, 125.25it/s, loss=1.98]\n"
     ]
    },
    {
     "output_type": "stream",
     "name": "stdout",
     "text": [
      "Epoch [1783/6000]: Train loss: 2.2493, Valid loss: 1.9998\n"
     ]
    },
    {
     "output_type": "stream",
     "name": "stderr",
     "text": [
      "Epoch [1784/6000]: 100%|██████████| 17/17 [00:00<00:00, 131.64it/s, loss=2.39]\n"
     ]
    },
    {
     "output_type": "stream",
     "name": "stdout",
     "text": [
      "Epoch [1784/6000]: Train loss: 2.2510, Valid loss: 2.2508\n"
     ]
    },
    {
     "output_type": "stream",
     "name": "stderr",
     "text": [
      "Epoch [1785/6000]: 100%|██████████| 17/17 [00:00<00:00, 115.16it/s, loss=2.12]\n"
     ]
    },
    {
     "output_type": "stream",
     "name": "stdout",
     "text": [
      "Epoch [1785/6000]: Train loss: 2.2479, Valid loss: 2.2142\n"
     ]
    },
    {
     "output_type": "stream",
     "name": "stderr",
     "text": [
      "Epoch [1786/6000]: 100%|██████████| 17/17 [00:00<00:00, 126.95it/s, loss=2.35]\n"
     ]
    },
    {
     "output_type": "stream",
     "name": "stdout",
     "text": [
      "Epoch [1786/6000]: Train loss: 2.2486, Valid loss: 1.9074\n"
     ]
    },
    {
     "output_type": "stream",
     "name": "stderr",
     "text": [
      "Epoch [1787/6000]: 100%|██████████| 17/17 [00:00<00:00, 104.17it/s, loss=2.4]\n"
     ]
    },
    {
     "output_type": "stream",
     "name": "stdout",
     "text": [
      "Epoch [1787/6000]: Train loss: 2.2478, Valid loss: 2.1915\n"
     ]
    },
    {
     "output_type": "stream",
     "name": "stderr",
     "text": [
      "Epoch [1788/6000]: 100%|██████████| 17/17 [00:00<00:00, 123.33it/s, loss=1.88]\n"
     ]
    },
    {
     "output_type": "stream",
     "name": "stdout",
     "text": [
      "Epoch [1788/6000]: Train loss: 2.2429, Valid loss: 1.9476\n"
     ]
    },
    {
     "output_type": "stream",
     "name": "stderr",
     "text": [
      "Epoch [1789/6000]: 100%|██████████| 17/17 [00:00<00:00, 104.00it/s, loss=1.85]\n"
     ]
    },
    {
     "output_type": "stream",
     "name": "stdout",
     "text": [
      "Epoch [1789/6000]: Train loss: 2.2421, Valid loss: 1.9591\n"
     ]
    },
    {
     "output_type": "stream",
     "name": "stderr",
     "text": [
      "Epoch [1790/6000]: 100%|██████████| 17/17 [00:00<00:00, 111.93it/s, loss=2.13]\n"
     ]
    },
    {
     "output_type": "stream",
     "name": "stdout",
     "text": [
      "Epoch [1790/6000]: Train loss: 2.2430, Valid loss: 2.0591\n"
     ]
    },
    {
     "output_type": "stream",
     "name": "stderr",
     "text": [
      "Epoch [1791/6000]: 100%|██████████| 17/17 [00:00<00:00, 111.66it/s, loss=1.82]\n"
     ]
    },
    {
     "output_type": "stream",
     "name": "stdout",
     "text": [
      "Epoch [1791/6000]: Train loss: 2.2407, Valid loss: 2.1102\n"
     ]
    },
    {
     "output_type": "stream",
     "name": "stderr",
     "text": [
      "Epoch [1792/6000]: 100%|██████████| 17/17 [00:00<00:00, 107.75it/s, loss=1.67]\n"
     ]
    },
    {
     "output_type": "stream",
     "name": "stdout",
     "text": [
      "Epoch [1792/6000]: Train loss: 2.2385, Valid loss: 2.1928\n"
     ]
    },
    {
     "output_type": "stream",
     "name": "stderr",
     "text": [
      "Epoch [1793/6000]: 100%|██████████| 17/17 [00:00<00:00, 125.82it/s, loss=1.75]\n"
     ]
    },
    {
     "output_type": "stream",
     "name": "stdout",
     "text": [
      "Epoch [1793/6000]: Train loss: 2.2375, Valid loss: 2.1250\n"
     ]
    },
    {
     "output_type": "stream",
     "name": "stderr",
     "text": [
      "Epoch [1794/6000]: 100%|██████████| 17/17 [00:00<00:00, 114.35it/s, loss=2.22]\n"
     ]
    },
    {
     "output_type": "stream",
     "name": "stdout",
     "text": [
      "Epoch [1794/6000]: Train loss: 2.2393, Valid loss: 2.3719\n"
     ]
    },
    {
     "output_type": "stream",
     "name": "stderr",
     "text": [
      "Epoch [1795/6000]: 100%|██████████| 17/17 [00:00<00:00, 127.36it/s, loss=2.17]\n"
     ]
    },
    {
     "output_type": "stream",
     "name": "stdout",
     "text": [
      "Epoch [1795/6000]: Train loss: 2.2377, Valid loss: 2.1278\n"
     ]
    },
    {
     "output_type": "stream",
     "name": "stderr",
     "text": [
      "Epoch [1796/6000]: 100%|██████████| 17/17 [00:00<00:00, 124.17it/s, loss=2.43]\n"
     ]
    },
    {
     "output_type": "stream",
     "name": "stdout",
     "text": [
      "Epoch [1796/6000]: Train loss: 2.2386, Valid loss: 2.0159\n"
     ]
    },
    {
     "output_type": "stream",
     "name": "stderr",
     "text": [
      "Epoch [1797/6000]: 100%|██████████| 17/17 [00:00<00:00, 127.79it/s, loss=2.78]\n"
     ]
    },
    {
     "output_type": "stream",
     "name": "stdout",
     "text": [
      "Epoch [1797/6000]: Train loss: 2.2404, Valid loss: 2.1019\n"
     ]
    },
    {
     "output_type": "stream",
     "name": "stderr",
     "text": [
      "Epoch [1798/6000]: 100%|██████████| 17/17 [00:00<00:00, 130.39it/s, loss=2.11]\n"
     ]
    },
    {
     "output_type": "stream",
     "name": "stdout",
     "text": [
      "Epoch [1798/6000]: Train loss: 2.2346, Valid loss: 2.0216\n"
     ]
    },
    {
     "output_type": "stream",
     "name": "stderr",
     "text": [
      "Epoch [1799/6000]: 100%|██████████| 17/17 [00:00<00:00, 133.22it/s, loss=2.13]\n"
     ]
    },
    {
     "output_type": "stream",
     "name": "stdout",
     "text": [
      "Epoch [1799/6000]: Train loss: 2.2333, Valid loss: 1.9774\n"
     ]
    },
    {
     "output_type": "stream",
     "name": "stderr",
     "text": [
      "Epoch [1800/6000]: 100%|██████████| 17/17 [00:00<00:00, 122.89it/s, loss=2.35]\n"
     ]
    },
    {
     "output_type": "stream",
     "name": "stdout",
     "text": [
      "Epoch [1800/6000]: Train loss: 2.2339, Valid loss: 2.3118\n"
     ]
    },
    {
     "output_type": "stream",
     "name": "stderr",
     "text": [
      "Epoch [1801/6000]: 100%|██████████| 17/17 [00:00<00:00, 123.91it/s, loss=1.78]\n"
     ]
    },
    {
     "output_type": "stream",
     "name": "stdout",
     "text": [
      "Epoch [1801/6000]: Train loss: 2.2290, Valid loss: 1.9677\n"
     ]
    },
    {
     "output_type": "stream",
     "name": "stderr",
     "text": [
      "Epoch [1802/6000]: 100%|██████████| 17/17 [00:00<00:00, 109.81it/s, loss=1.4]\n"
     ]
    },
    {
     "output_type": "stream",
     "name": "stdout",
     "text": [
      "Epoch [1802/6000]: Train loss: 2.2248, Valid loss: 1.9628\n"
     ]
    },
    {
     "output_type": "stream",
     "name": "stderr",
     "text": [
      "Epoch [1803/6000]: 100%|██████████| 17/17 [00:00<00:00, 112.54it/s, loss=2.29]\n"
     ]
    },
    {
     "output_type": "stream",
     "name": "stdout",
     "text": [
      "Epoch [1803/6000]: Train loss: 2.2306, Valid loss: 1.9625\n"
     ]
    },
    {
     "output_type": "stream",
     "name": "stderr",
     "text": [
      "Epoch [1804/6000]: 100%|██████████| 17/17 [00:00<00:00, 110.86it/s, loss=2.94]\n"
     ]
    },
    {
     "output_type": "stream",
     "name": "stdout",
     "text": [
      "Epoch [1804/6000]: Train loss: 2.2346, Valid loss: 2.0108\n"
     ]
    },
    {
     "output_type": "stream",
     "name": "stderr",
     "text": [
      "Epoch [1805/6000]: 100%|██████████| 17/17 [00:00<00:00, 110.31it/s, loss=2.16]\n"
     ]
    },
    {
     "output_type": "stream",
     "name": "stdout",
     "text": [
      "Epoch [1805/6000]: Train loss: 2.2286, Valid loss: 2.0852\n"
     ]
    },
    {
     "output_type": "stream",
     "name": "stderr",
     "text": [
      "Epoch [1806/6000]: 100%|██████████| 17/17 [00:00<00:00, 105.72it/s, loss=1.75]\n"
     ]
    },
    {
     "output_type": "stream",
     "name": "stdout",
     "text": [
      "Epoch [1806/6000]: Train loss: 2.2238, Valid loss: 2.1465\n"
     ]
    },
    {
     "output_type": "stream",
     "name": "stderr",
     "text": [
      "Epoch [1807/6000]: 100%|██████████| 17/17 [00:00<00:00, 120.61it/s, loss=1.89]\n"
     ]
    },
    {
     "output_type": "stream",
     "name": "stdout",
     "text": [
      "Epoch [1807/6000]: Train loss: 2.2236, Valid loss: 2.0115\n"
     ]
    },
    {
     "output_type": "stream",
     "name": "stderr",
     "text": [
      "Epoch [1808/6000]: 100%|██████████| 17/17 [00:00<00:00, 118.32it/s, loss=1.87]\n"
     ]
    },
    {
     "output_type": "stream",
     "name": "stdout",
     "text": [
      "Epoch [1808/6000]: Train loss: 2.2227, Valid loss: 1.9019\n"
     ]
    },
    {
     "output_type": "stream",
     "name": "stderr",
     "text": [
      "Epoch [1809/6000]: 100%|██████████| 17/17 [00:00<00:00, 120.06it/s, loss=2.41]\n"
     ]
    },
    {
     "output_type": "stream",
     "name": "stdout",
     "text": [
      "Epoch [1809/6000]: Train loss: 2.2255, Valid loss: 2.1361\n"
     ]
    },
    {
     "output_type": "stream",
     "name": "stderr",
     "text": [
      "Epoch [1810/6000]: 100%|██████████| 17/17 [00:00<00:00, 111.60it/s, loss=2.26]\n"
     ]
    },
    {
     "output_type": "stream",
     "name": "stdout",
     "text": [
      "Epoch [1810/6000]: Train loss: 2.2233, Valid loss: 2.1040\n"
     ]
    },
    {
     "output_type": "stream",
     "name": "stderr",
     "text": [
      "Epoch [1811/6000]: 100%|██████████| 17/17 [00:00<00:00, 117.10it/s, loss=2.47]\n"
     ]
    },
    {
     "output_type": "stream",
     "name": "stdout",
     "text": [
      "Epoch [1811/6000]: Train loss: 2.2239, Valid loss: 2.0406\n"
     ]
    },
    {
     "output_type": "stream",
     "name": "stderr",
     "text": [
      "Epoch [1812/6000]: 100%|██████████| 17/17 [00:00<00:00, 109.30it/s, loss=2.9]\n"
     ]
    },
    {
     "output_type": "stream",
     "name": "stdout",
     "text": [
      "Epoch [1812/6000]: Train loss: 2.2264, Valid loss: 2.0710\n"
     ]
    },
    {
     "output_type": "stream",
     "name": "stderr",
     "text": [
      "Epoch [1813/6000]: 100%|██████████| 17/17 [00:00<00:00, 121.05it/s, loss=2.71]\n"
     ]
    },
    {
     "output_type": "stream",
     "name": "stdout",
     "text": [
      "Epoch [1813/6000]: Train loss: 2.2237, Valid loss: 2.0428\n"
     ]
    },
    {
     "output_type": "stream",
     "name": "stderr",
     "text": [
      "Epoch [1814/6000]: 100%|██████████| 17/17 [00:00<00:00, 111.77it/s, loss=1.39]\n"
     ]
    },
    {
     "output_type": "stream",
     "name": "stdout",
     "text": [
      "Epoch [1814/6000]: Train loss: 2.2142, Valid loss: 1.9883\n"
     ]
    },
    {
     "output_type": "stream",
     "name": "stderr",
     "text": [
      "Epoch [1815/6000]: 100%|██████████| 17/17 [00:00<00:00, 114.40it/s, loss=2.92]\n"
     ]
    },
    {
     "output_type": "stream",
     "name": "stdout",
     "text": [
      "Epoch [1815/6000]: Train loss: 2.2243, Valid loss: 2.0386\n"
     ]
    },
    {
     "output_type": "stream",
     "name": "stderr",
     "text": [
      "Epoch [1816/6000]: 100%|██████████| 17/17 [00:00<00:00, 103.74it/s, loss=1.53]\n"
     ]
    },
    {
     "output_type": "stream",
     "name": "stdout",
     "text": [
      "Epoch [1816/6000]: Train loss: 2.2119, Valid loss: 1.9992\n"
     ]
    },
    {
     "output_type": "stream",
     "name": "stderr",
     "text": [
      "Epoch [1817/6000]: 100%|██████████| 17/17 [00:00<00:00, 108.64it/s, loss=2.09]\n"
     ]
    },
    {
     "output_type": "stream",
     "name": "stdout",
     "text": [
      "Epoch [1817/6000]: Train loss: 2.2157, Valid loss: 1.8722\n"
     ]
    },
    {
     "output_type": "stream",
     "name": "stderr",
     "text": [
      "Epoch [1818/6000]: 100%|██████████| 17/17 [00:00<00:00, 110.67it/s, loss=1.83]\n"
     ]
    },
    {
     "output_type": "stream",
     "name": "stdout",
     "text": [
      "Epoch [1818/6000]: Train loss: 2.2123, Valid loss: 1.9873\n"
     ]
    },
    {
     "output_type": "stream",
     "name": "stderr",
     "text": [
      "Epoch [1819/6000]: 100%|██████████| 17/17 [00:00<00:00, 99.81it/s, loss=2.91] \n"
     ]
    },
    {
     "output_type": "stream",
     "name": "stdout",
     "text": [
      "Epoch [1819/6000]: Train loss: 2.2207, Valid loss: 1.9580\n"
     ]
    },
    {
     "output_type": "stream",
     "name": "stderr",
     "text": [
      "Epoch [1820/6000]: 100%|██████████| 17/17 [00:00<00:00, 118.53it/s, loss=1.73]\n"
     ]
    },
    {
     "output_type": "stream",
     "name": "stdout",
     "text": [
      "Epoch [1820/6000]: Train loss: 2.2102, Valid loss: 2.1430\n"
     ]
    },
    {
     "output_type": "stream",
     "name": "stderr",
     "text": [
      "Epoch [1821/6000]: 100%|██████████| 17/17 [00:00<00:00, 114.14it/s, loss=2.6]\n"
     ]
    },
    {
     "output_type": "stream",
     "name": "stdout",
     "text": [
      "Epoch [1821/6000]: Train loss: 2.2156, Valid loss: 2.3626\n"
     ]
    },
    {
     "output_type": "stream",
     "name": "stderr",
     "text": [
      "Epoch [1822/6000]: 100%|██████████| 17/17 [00:00<00:00, 116.26it/s, loss=2.26]\n"
     ]
    },
    {
     "output_type": "stream",
     "name": "stdout",
     "text": [
      "Epoch [1822/6000]: Train loss: 2.2117, Valid loss: 2.2960\n"
     ]
    },
    {
     "output_type": "stream",
     "name": "stderr",
     "text": [
      "Epoch [1823/6000]: 100%|██████████| 17/17 [00:00<00:00, 117.17it/s, loss=1.51]\n"
     ]
    },
    {
     "output_type": "stream",
     "name": "stdout",
     "text": [
      "Epoch [1823/6000]: Train loss: 2.2057, Valid loss: 1.9763\n"
     ]
    },
    {
     "output_type": "stream",
     "name": "stderr",
     "text": [
      "Epoch [1824/6000]: 100%|██████████| 17/17 [00:00<00:00, 116.25it/s, loss=2.3]\n"
     ]
    },
    {
     "output_type": "stream",
     "name": "stdout",
     "text": [
      "Epoch [1824/6000]: Train loss: 2.2100, Valid loss: 2.1086\n"
     ]
    },
    {
     "output_type": "stream",
     "name": "stderr",
     "text": [
      "Epoch [1825/6000]: 100%|██████████| 17/17 [00:00<00:00, 112.77it/s, loss=2.05]\n"
     ]
    },
    {
     "output_type": "stream",
     "name": "stdout",
     "text": [
      "Epoch [1825/6000]: Train loss: 2.2074, Valid loss: 2.0041\n"
     ]
    },
    {
     "output_type": "stream",
     "name": "stderr",
     "text": [
      "Epoch [1826/6000]: 100%|██████████| 17/17 [00:00<00:00, 108.58it/s, loss=2.15]\n"
     ]
    },
    {
     "output_type": "stream",
     "name": "stdout",
     "text": [
      "Epoch [1826/6000]: Train loss: 2.2076, Valid loss: 2.0817\n"
     ]
    },
    {
     "output_type": "stream",
     "name": "stderr",
     "text": [
      "Epoch [1827/6000]: 100%|██████████| 17/17 [00:00<00:00, 118.28it/s, loss=2.17]\n"
     ]
    },
    {
     "output_type": "stream",
     "name": "stdout",
     "text": [
      "Epoch [1827/6000]: Train loss: 2.2065, Valid loss: 2.0168\n"
     ]
    },
    {
     "output_type": "stream",
     "name": "stderr",
     "text": [
      "Epoch [1828/6000]: 100%|██████████| 17/17 [00:00<00:00, 119.32it/s, loss=2.4]\n"
     ]
    },
    {
     "output_type": "stream",
     "name": "stdout",
     "text": [
      "Epoch [1828/6000]: Train loss: 2.2087, Valid loss: 2.0506\n"
     ]
    },
    {
     "output_type": "stream",
     "name": "stderr",
     "text": [
      "Epoch [1829/6000]: 100%|██████████| 17/17 [00:00<00:00, 117.13it/s, loss=2.37]\n"
     ]
    },
    {
     "output_type": "stream",
     "name": "stdout",
     "text": [
      "Epoch [1829/6000]: Train loss: 2.2061, Valid loss: 2.0305\n"
     ]
    },
    {
     "output_type": "stream",
     "name": "stderr",
     "text": [
      "Epoch [1830/6000]: 100%|██████████| 17/17 [00:00<00:00, 126.79it/s, loss=2.77]\n"
     ]
    },
    {
     "output_type": "stream",
     "name": "stdout",
     "text": [
      "Epoch [1830/6000]: Train loss: 2.2088, Valid loss: 2.0478\n"
     ]
    },
    {
     "output_type": "stream",
     "name": "stderr",
     "text": [
      "Epoch [1831/6000]: 100%|██████████| 17/17 [00:00<00:00, 127.24it/s, loss=1.81]\n"
     ]
    },
    {
     "output_type": "stream",
     "name": "stdout",
     "text": [
      "Epoch [1831/6000]: Train loss: 2.2021, Valid loss: 2.1533\n"
     ]
    },
    {
     "output_type": "stream",
     "name": "stderr",
     "text": [
      "Epoch [1832/6000]: 100%|██████████| 17/17 [00:00<00:00, 93.50it/s, loss=2.28]\n"
     ]
    },
    {
     "output_type": "stream",
     "name": "stdout",
     "text": [
      "Epoch [1832/6000]: Train loss: 2.2042, Valid loss: 2.1175\n"
     ]
    },
    {
     "output_type": "stream",
     "name": "stderr",
     "text": [
      "Epoch [1833/6000]: 100%|██████████| 17/17 [00:00<00:00, 81.92it/s, loss=1.82]\n"
     ]
    },
    {
     "output_type": "stream",
     "name": "stdout",
     "text": [
      "Epoch [1833/6000]: Train loss: 2.1983, Valid loss: 1.9558\n"
     ]
    },
    {
     "output_type": "stream",
     "name": "stderr",
     "text": [
      "Epoch [1834/6000]: 100%|██████████| 17/17 [00:00<00:00, 113.04it/s, loss=2.37]\n"
     ]
    },
    {
     "output_type": "stream",
     "name": "stdout",
     "text": [
      "Epoch [1834/6000]: Train loss: 2.2017, Valid loss: 2.2427\n"
     ]
    },
    {
     "output_type": "stream",
     "name": "stderr",
     "text": [
      "Epoch [1835/6000]: 100%|██████████| 17/17 [00:00<00:00, 123.02it/s, loss=2.4]\n"
     ]
    },
    {
     "output_type": "stream",
     "name": "stdout",
     "text": [
      "Epoch [1835/6000]: Train loss: 2.2023, Valid loss: 1.9555\n"
     ]
    },
    {
     "output_type": "stream",
     "name": "stderr",
     "text": [
      "Epoch [1836/6000]: 100%|██████████| 17/17 [00:00<00:00, 127.47it/s, loss=2.45]\n"
     ]
    },
    {
     "output_type": "stream",
     "name": "stdout",
     "text": [
      "Epoch [1836/6000]: Train loss: 2.2006, Valid loss: 1.9324\n"
     ]
    },
    {
     "output_type": "stream",
     "name": "stderr",
     "text": [
      "Epoch [1837/6000]: 100%|██████████| 17/17 [00:00<00:00, 111.27it/s, loss=2.15]\n"
     ]
    },
    {
     "output_type": "stream",
     "name": "stdout",
     "text": [
      "Epoch [1837/6000]: Train loss: 2.1977, Valid loss: 1.9168\n"
     ]
    },
    {
     "output_type": "stream",
     "name": "stderr",
     "text": [
      "Epoch [1838/6000]: 100%|██████████| 17/17 [00:00<00:00, 113.01it/s, loss=1.94]\n"
     ]
    },
    {
     "output_type": "stream",
     "name": "stdout",
     "text": [
      "Epoch [1838/6000]: Train loss: 2.1948, Valid loss: 2.0390\n"
     ]
    },
    {
     "output_type": "stream",
     "name": "stderr",
     "text": [
      "Epoch [1839/6000]: 100%|██████████| 17/17 [00:00<00:00, 116.20it/s, loss=2.47]\n"
     ]
    },
    {
     "output_type": "stream",
     "name": "stdout",
     "text": [
      "Epoch [1839/6000]: Train loss: 2.1980, Valid loss: 1.9244\n"
     ]
    },
    {
     "output_type": "stream",
     "name": "stderr",
     "text": [
      "Epoch [1840/6000]: 100%|██████████| 17/17 [00:00<00:00, 110.02it/s, loss=1.56]\n"
     ]
    },
    {
     "output_type": "stream",
     "name": "stdout",
     "text": [
      "Epoch [1840/6000]: Train loss: 2.1907, Valid loss: 2.0971\n"
     ]
    },
    {
     "output_type": "stream",
     "name": "stderr",
     "text": [
      "Epoch [1841/6000]: 100%|██████████| 17/17 [00:00<00:00, 134.45it/s, loss=2.44]\n"
     ]
    },
    {
     "output_type": "stream",
     "name": "stdout",
     "text": [
      "Epoch [1841/6000]: Train loss: 2.1962, Valid loss: 2.1226\n"
     ]
    },
    {
     "output_type": "stream",
     "name": "stderr",
     "text": [
      "Epoch [1842/6000]: 100%|██████████| 17/17 [00:00<00:00, 133.96it/s, loss=2.32]\n"
     ]
    },
    {
     "output_type": "stream",
     "name": "stdout",
     "text": [
      "Epoch [1842/6000]: Train loss: 2.1951, Valid loss: 2.2288\n"
     ]
    },
    {
     "output_type": "stream",
     "name": "stderr",
     "text": [
      "Epoch [1843/6000]: 100%|██████████| 17/17 [00:00<00:00, 133.88it/s, loss=3.06]\n"
     ]
    },
    {
     "output_type": "stream",
     "name": "stdout",
     "text": [
      "Epoch [1843/6000]: Train loss: 2.1989, Valid loss: 1.9478\n"
     ]
    },
    {
     "output_type": "stream",
     "name": "stderr",
     "text": [
      "Epoch [1844/6000]: 100%|██████████| 17/17 [00:00<00:00, 132.47it/s, loss=1.8]\n"
     ]
    },
    {
     "output_type": "stream",
     "name": "stdout",
     "text": [
      "Epoch [1844/6000]: Train loss: 2.1886, Valid loss: 1.9632\n"
     ]
    },
    {
     "output_type": "stream",
     "name": "stderr",
     "text": [
      "Epoch [1845/6000]: 100%|██████████| 17/17 [00:00<00:00, 132.73it/s, loss=2.06]\n"
     ]
    },
    {
     "output_type": "stream",
     "name": "stdout",
     "text": [
      "Epoch [1845/6000]: Train loss: 2.1894, Valid loss: 1.9012\n"
     ]
    },
    {
     "output_type": "stream",
     "name": "stderr",
     "text": [
      "Epoch [1846/6000]: 100%|██████████| 17/17 [00:00<00:00, 135.72it/s, loss=2.15]\n"
     ]
    },
    {
     "output_type": "stream",
     "name": "stdout",
     "text": [
      "Epoch [1846/6000]: Train loss: 2.1896, Valid loss: 2.3587\n"
     ]
    },
    {
     "output_type": "stream",
     "name": "stderr",
     "text": [
      "Epoch [1847/6000]: 100%|██████████| 17/17 [00:00<00:00, 136.70it/s, loss=1.95]\n"
     ]
    },
    {
     "output_type": "stream",
     "name": "stdout",
     "text": [
      "Epoch [1847/6000]: Train loss: 2.1871, Valid loss: 2.0670\n"
     ]
    },
    {
     "output_type": "stream",
     "name": "stderr",
     "text": [
      "Epoch [1848/6000]: 100%|██████████| 17/17 [00:00<00:00, 121.49it/s, loss=2.39]\n"
     ]
    },
    {
     "output_type": "stream",
     "name": "stdout",
     "text": [
      "Epoch [1848/6000]: Train loss: 2.1896, Valid loss: 1.9259\n"
     ]
    },
    {
     "output_type": "stream",
     "name": "stderr",
     "text": [
      "Epoch [1849/6000]: 100%|██████████| 17/17 [00:00<00:00, 133.89it/s, loss=1.53]\n"
     ]
    },
    {
     "output_type": "stream",
     "name": "stdout",
     "text": [
      "Epoch [1849/6000]: Train loss: 2.1830, Valid loss: 1.9363\n"
     ]
    },
    {
     "output_type": "stream",
     "name": "stderr",
     "text": [
      "Epoch [1850/6000]: 100%|██████████| 17/17 [00:00<00:00, 113.26it/s, loss=2.3]\n"
     ]
    },
    {
     "output_type": "stream",
     "name": "stdout",
     "text": [
      "Epoch [1850/6000]: Train loss: 2.1870, Valid loss: 1.9079\n"
     ]
    },
    {
     "output_type": "stream",
     "name": "stderr",
     "text": [
      "Epoch [1851/6000]: 100%|██████████| 17/17 [00:00<00:00, 113.83it/s, loss=2.49]\n"
     ]
    },
    {
     "output_type": "stream",
     "name": "stdout",
     "text": [
      "Epoch [1851/6000]: Train loss: 2.1879, Valid loss: 1.8903\n"
     ]
    },
    {
     "output_type": "stream",
     "name": "stderr",
     "text": [
      "Epoch [1852/6000]: 100%|██████████| 17/17 [00:00<00:00, 115.39it/s, loss=2.43]\n"
     ]
    },
    {
     "output_type": "stream",
     "name": "stdout",
     "text": [
      "Epoch [1852/6000]: Train loss: 2.1862, Valid loss: 1.8531\n",
      "Saving model with loss 1.853...\n"
     ]
    },
    {
     "output_type": "stream",
     "name": "stderr",
     "text": [
      "Epoch [1853/6000]: 100%|██████████| 17/17 [00:00<00:00, 119.29it/s, loss=2.03]\n"
     ]
    },
    {
     "output_type": "stream",
     "name": "stdout",
     "text": [
      "Epoch [1853/6000]: Train loss: 2.1830, Valid loss: 1.8727\n"
     ]
    },
    {
     "output_type": "stream",
     "name": "stderr",
     "text": [
      "Epoch [1854/6000]: 100%|██████████| 17/17 [00:00<00:00, 116.00it/s, loss=2.33]\n"
     ]
    },
    {
     "output_type": "stream",
     "name": "stdout",
     "text": [
      "Epoch [1854/6000]: Train loss: 2.1847, Valid loss: 2.1924\n"
     ]
    },
    {
     "output_type": "stream",
     "name": "stderr",
     "text": [
      "Epoch [1864/6000]: 100%|██████████| 17/17 [00:00<00:00, 90.78it/s, loss=2.3] \n"
     ]
    },
    {
     "output_type": "stream",
     "name": "stdout",
     "text": [
      "Epoch [1864/6000]: Train loss: 2.1753, Valid loss: 2.0345\n"
     ]
    },
    {
     "output_type": "stream",
     "name": "stderr",
     "text": [
      "Epoch [1865/6000]: 100%|██████████| 17/17 [00:00<00:00, 118.11it/s, loss=1.91]\n"
     ]
    },
    {
     "output_type": "stream",
     "name": "stdout",
     "text": [
      "Epoch [1865/6000]: Train loss: 2.1719, Valid loss: 1.9624\n"
     ]
    },
    {
     "output_type": "stream",
     "name": "stderr",
     "text": [
      "Epoch [1866/6000]: 100%|██████████| 17/17 [00:00<00:00, 122.59it/s, loss=2.3]\n"
     ]
    },
    {
     "output_type": "stream",
     "name": "stdout",
     "text": [
      "Epoch [1866/6000]: Train loss: 2.1736, Valid loss: 1.9514\n"
     ]
    },
    {
     "output_type": "stream",
     "name": "stderr",
     "text": [
      "Epoch [1867/6000]: 100%|██████████| 17/17 [00:00<00:00, 119.36it/s, loss=2.06]\n"
     ]
    },
    {
     "output_type": "stream",
     "name": "stdout",
     "text": [
      "Epoch [1867/6000]: Train loss: 2.1717, Valid loss: 1.9444\n"
     ]
    },
    {
     "output_type": "stream",
     "name": "stderr",
     "text": [
      "Epoch [1868/6000]: 100%|██████████| 17/17 [00:00<00:00, 119.73it/s, loss=2.9]\n"
     ]
    },
    {
     "output_type": "stream",
     "name": "stdout",
     "text": [
      "Epoch [1868/6000]: Train loss: 2.1765, Valid loss: 1.9713\n"
     ]
    },
    {
     "output_type": "stream",
     "name": "stderr",
     "text": [
      "Epoch [1869/6000]: 100%|██████████| 17/17 [00:00<00:00, 111.99it/s, loss=2.14]\n"
     ]
    },
    {
     "output_type": "stream",
     "name": "stdout",
     "text": [
      "Epoch [1869/6000]: Train loss: 2.1705, Valid loss: 1.9448\n"
     ]
    },
    {
     "output_type": "stream",
     "name": "stderr",
     "text": [
      "Epoch [1870/6000]: 100%|██████████| 17/17 [00:00<00:00, 109.24it/s, loss=2.33]\n"
     ]
    },
    {
     "output_type": "stream",
     "name": "stdout",
     "text": [
      "Epoch [1870/6000]: Train loss: 2.1714, Valid loss: 1.9623\n"
     ]
    },
    {
     "output_type": "stream",
     "name": "stderr",
     "text": [
      "Epoch [1871/6000]: 100%|██████████| 17/17 [00:00<00:00, 109.92it/s, loss=1.97]\n"
     ]
    },
    {
     "output_type": "stream",
     "name": "stdout",
     "text": [
      "Epoch [1871/6000]: Train loss: 2.1674, Valid loss: 2.0684\n"
     ]
    },
    {
     "output_type": "stream",
     "name": "stderr",
     "text": [
      "Epoch [1872/6000]: 100%|██████████| 17/17 [00:00<00:00, 124.09it/s, loss=2.25]\n"
     ]
    },
    {
     "output_type": "stream",
     "name": "stdout",
     "text": [
      "Epoch [1872/6000]: Train loss: 2.1687, Valid loss: 2.1009\n"
     ]
    },
    {
     "output_type": "stream",
     "name": "stderr",
     "text": [
      "Epoch [1873/6000]: 100%|██████████| 17/17 [00:00<00:00, 108.54it/s, loss=2.09]\n"
     ]
    },
    {
     "output_type": "stream",
     "name": "stdout",
     "text": [
      "Epoch [1873/6000]: Train loss: 2.1669, Valid loss: 1.8272\n",
      "Saving model with loss 1.827...\n"
     ]
    },
    {
     "output_type": "stream",
     "name": "stderr",
     "text": [
      "Epoch [1874/6000]: 100%|██████████| 17/17 [00:00<00:00, 108.55it/s, loss=2.6]\n"
     ]
    },
    {
     "output_type": "stream",
     "name": "stdout",
     "text": [
      "Epoch [1874/6000]: Train loss: 2.1700, Valid loss: 2.0211\n"
     ]
    },
    {
     "output_type": "stream",
     "name": "stderr",
     "text": [
      "Epoch [1875/6000]: 100%|██████████| 17/17 [00:00<00:00, 119.75it/s, loss=1.46]\n"
     ]
    },
    {
     "output_type": "stream",
     "name": "stdout",
     "text": [
      "Epoch [1875/6000]: Train loss: 2.1603, Valid loss: 2.3338\n"
     ]
    },
    {
     "output_type": "stream",
     "name": "stderr",
     "text": [
      "Epoch [1876/6000]: 100%|██████████| 17/17 [00:00<00:00, 122.77it/s, loss=1.84]\n"
     ]
    },
    {
     "output_type": "stream",
     "name": "stdout",
     "text": [
      "Epoch [1876/6000]: Train loss: 2.1624, Valid loss: 1.9855\n"
     ]
    },
    {
     "output_type": "stream",
     "name": "stderr",
     "text": [
      "Epoch [1877/6000]: 100%|██████████| 17/17 [00:00<00:00, 122.68it/s, loss=2.57]\n"
     ]
    },
    {
     "output_type": "stream",
     "name": "stdout",
     "text": [
      "Epoch [1877/6000]: Train loss: 2.1673, Valid loss: 1.8561\n"
     ]
    },
    {
     "output_type": "stream",
     "name": "stderr",
     "text": [
      "Epoch [1878/6000]: 100%|██████████| 17/17 [00:00<00:00, 125.74it/s, loss=1.56]\n"
     ]
    },
    {
     "output_type": "stream",
     "name": "stdout",
     "text": [
      "Epoch [1878/6000]: Train loss: 2.1594, Valid loss: 1.8778\n"
     ]
    },
    {
     "output_type": "stream",
     "name": "stderr",
     "text": [
      "Epoch [1879/6000]: 100%|██████████| 17/17 [00:00<00:00, 121.76it/s, loss=2.2]\n"
     ]
    },
    {
     "output_type": "stream",
     "name": "stdout",
     "text": [
      "Epoch [1879/6000]: Train loss: 2.1628, Valid loss: 2.0931\n"
     ]
    },
    {
     "output_type": "stream",
     "name": "stderr",
     "text": [
      "Epoch [1880/6000]: 100%|██████████| 17/17 [00:00<00:00, 128.25it/s, loss=2.29]\n"
     ]
    },
    {
     "output_type": "stream",
     "name": "stdout",
     "text": [
      "Epoch [1880/6000]: Train loss: 2.1631, Valid loss: 2.0477\n"
     ]
    },
    {
     "output_type": "stream",
     "name": "stderr",
     "text": [
      "Epoch [1881/6000]: 100%|██████████| 17/17 [00:00<00:00, 104.40it/s, loss=2.04]\n"
     ]
    },
    {
     "output_type": "stream",
     "name": "stdout",
     "text": [
      "Epoch [1881/6000]: Train loss: 2.1601, Valid loss: 1.8761\n"
     ]
    },
    {
     "output_type": "stream",
     "name": "stderr",
     "text": [
      "Epoch [1882/6000]: 100%|██████████| 17/17 [00:00<00:00, 105.00it/s, loss=1.76]\n"
     ]
    },
    {
     "output_type": "stream",
     "name": "stdout",
     "text": [
      "Epoch [1882/6000]: Train loss: 2.1570, Valid loss: 1.9016\n"
     ]
    },
    {
     "output_type": "stream",
     "name": "stderr",
     "text": [
      "Epoch [1883/6000]: 100%|██████████| 17/17 [00:00<00:00, 121.54it/s, loss=2.1]\n"
     ]
    },
    {
     "output_type": "stream",
     "name": "stdout",
     "text": [
      "Epoch [1883/6000]: Train loss: 2.1591, Valid loss: 1.8422\n"
     ]
    },
    {
     "output_type": "stream",
     "name": "stderr",
     "text": [
      "Epoch [1884/6000]: 100%|██████████| 17/17 [00:00<00:00, 128.02it/s, loss=2.27]\n"
     ]
    },
    {
     "output_type": "stream",
     "name": "stdout",
     "text": [
      "Epoch [1884/6000]: Train loss: 2.1607, Valid loss: 1.9805\n"
     ]
    },
    {
     "output_type": "stream",
     "name": "stderr",
     "text": [
      "Epoch [1885/6000]: 100%|██████████| 17/17 [00:00<00:00, 124.93it/s, loss=2.6]\n"
     ]
    },
    {
     "output_type": "stream",
     "name": "stdout",
     "text": [
      "Epoch [1885/6000]: Train loss: 2.1605, Valid loss: 2.1013\n"
     ]
    },
    {
     "output_type": "stream",
     "name": "stderr",
     "text": [
      "Epoch [1886/6000]: 100%|██████████| 17/17 [00:00<00:00, 112.61it/s, loss=1.8]\n"
     ]
    },
    {
     "output_type": "stream",
     "name": "stdout",
     "text": [
      "Epoch [1886/6000]: Train loss: 2.1542, Valid loss: 2.0475\n"
     ]
    },
    {
     "output_type": "stream",
     "name": "stderr",
     "text": [
      "Epoch [1887/6000]: 100%|██████████| 17/17 [00:00<00:00, 115.80it/s, loss=2.28]\n"
     ]
    },
    {
     "output_type": "stream",
     "name": "stdout",
     "text": [
      "Epoch [1887/6000]: Train loss: 2.1572, Valid loss: 2.2865\n"
     ]
    },
    {
     "output_type": "stream",
     "name": "stderr",
     "text": [
      "Epoch [1888/6000]: 100%|██████████| 17/17 [00:00<00:00, 123.31it/s, loss=1.8]\n"
     ]
    },
    {
     "output_type": "stream",
     "name": "stdout",
     "text": [
      "Epoch [1888/6000]: Train loss: 2.1530, Valid loss: 1.9203\n"
     ]
    },
    {
     "output_type": "stream",
     "name": "stderr",
     "text": [
      "Epoch [1889/6000]: 100%|██████████| 17/17 [00:00<00:00, 122.58it/s, loss=1.72]\n"
     ]
    },
    {
     "output_type": "stream",
     "name": "stdout",
     "text": [
      "Epoch [1889/6000]: Train loss: 2.1521, Valid loss: 1.9755\n"
     ]
    },
    {
     "output_type": "stream",
     "name": "stderr",
     "text": [
      "Epoch [1890/6000]: 100%|██████████| 17/17 [00:00<00:00, 121.08it/s, loss=2.11]\n"
     ]
    },
    {
     "output_type": "stream",
     "name": "stdout",
     "text": [
      "Epoch [1890/6000]: Train loss: 2.1542, Valid loss: 1.9039\n"
     ]
    },
    {
     "output_type": "stream",
     "name": "stderr",
     "text": [
      "Epoch [1891/6000]: 100%|██████████| 17/17 [00:00<00:00, 123.64it/s, loss=1.97]\n"
     ]
    },
    {
     "output_type": "stream",
     "name": "stdout",
     "text": [
      "Epoch [1891/6000]: Train loss: 2.1518, Valid loss: 1.9041\n"
     ]
    },
    {
     "output_type": "stream",
     "name": "stderr",
     "text": [
      "Epoch [1892/6000]: 100%|██████████| 17/17 [00:00<00:00, 114.41it/s, loss=2.18]\n"
     ]
    },
    {
     "output_type": "stream",
     "name": "stdout",
     "text": [
      "Epoch [1892/6000]: Train loss: 2.1530, Valid loss: 1.9797\n"
     ]
    },
    {
     "output_type": "stream",
     "name": "stderr",
     "text": [
      "Epoch [1893/6000]: 100%|██████████| 17/17 [00:00<00:00, 122.26it/s, loss=1.56]\n"
     ]
    },
    {
     "output_type": "stream",
     "name": "stdout",
     "text": [
      "Epoch [1893/6000]: Train loss: 2.1471, Valid loss: 1.9987\n"
     ]
    },
    {
     "output_type": "stream",
     "name": "stderr",
     "text": [
      "Epoch [1894/6000]: 100%|██████████| 17/17 [00:00<00:00, 118.98it/s, loss=1.48]\n"
     ]
    },
    {
     "output_type": "stream",
     "name": "stdout",
     "text": [
      "Epoch [1894/6000]: Train loss: 2.1458, Valid loss: 2.2745\n"
     ]
    },
    {
     "output_type": "stream",
     "name": "stderr",
     "text": [
      "Epoch [1895/6000]: 100%|██████████| 17/17 [00:00<00:00, 122.01it/s, loss=1.77]\n"
     ]
    },
    {
     "output_type": "stream",
     "name": "stdout",
     "text": [
      "Epoch [1895/6000]: Train loss: 2.1472, Valid loss: 2.0683\n"
     ]
    },
    {
     "output_type": "stream",
     "name": "stderr",
     "text": [
      "Epoch [1896/6000]: 100%|██████████| 17/17 [00:00<00:00, 137.76it/s, loss=2.06]\n"
     ]
    },
    {
     "output_type": "stream",
     "name": "stdout",
     "text": [
      "Epoch [1896/6000]: Train loss: 2.1485, Valid loss: 1.8012\n",
      "Saving model with loss 1.801...\n"
     ]
    },
    {
     "output_type": "stream",
     "name": "stderr",
     "text": [
      "Epoch [1897/6000]: 100%|██████████| 17/17 [00:00<00:00, 139.50it/s, loss=2.06]\n"
     ]
    },
    {
     "output_type": "stream",
     "name": "stdout",
     "text": [
      "Epoch [1897/6000]: Train loss: 2.1489, Valid loss: 2.2509\n"
     ]
    },
    {
     "output_type": "stream",
     "name": "stderr",
     "text": [
      "Epoch [1898/6000]: 100%|██████████| 17/17 [00:00<00:00, 96.46it/s, loss=1.73]\n"
     ]
    },
    {
     "output_type": "stream",
     "name": "stdout",
     "text": [
      "Epoch [1898/6000]: Train loss: 2.1446, Valid loss: 1.7687\n",
      "Saving model with loss 1.769...\n"
     ]
    },
    {
     "output_type": "stream",
     "name": "stderr",
     "text": [
      "Epoch [1899/6000]: 100%|██████████| 17/17 [00:00<00:00, 107.28it/s, loss=2.35]\n"
     ]
    },
    {
     "output_type": "stream",
     "name": "stdout",
     "text": [
      "Epoch [1899/6000]: Train loss: 2.1485, Valid loss: 1.8447\n"
     ]
    },
    {
     "output_type": "stream",
     "name": "stderr",
     "text": [
      "Epoch [1900/6000]: 100%|██████████| 17/17 [00:00<00:00, 115.36it/s, loss=1.93]\n"
     ]
    },
    {
     "output_type": "stream",
     "name": "stdout",
     "text": [
      "Epoch [1900/6000]: Train loss: 2.1449, Valid loss: 1.9958\n"
     ]
    },
    {
     "output_type": "stream",
     "name": "stderr",
     "text": [
      "Epoch [1901/6000]: 100%|██████████| 17/17 [00:00<00:00, 120.31it/s, loss=2.27]\n"
     ]
    },
    {
     "output_type": "stream",
     "name": "stdout",
     "text": [
      "Epoch [1901/6000]: Train loss: 2.1465, Valid loss: 2.1125\n"
     ]
    },
    {
     "output_type": "stream",
     "name": "stderr",
     "text": [
      "Epoch [1902/6000]: 100%|██████████| 17/17 [00:00<00:00, 125.44it/s, loss=1.32]\n"
     ]
    },
    {
     "output_type": "stream",
     "name": "stdout",
     "text": [
      "Epoch [1902/6000]: Train loss: 2.1388, Valid loss: 1.8420\n"
     ]
    },
    {
     "output_type": "stream",
     "name": "stderr",
     "text": [
      "Epoch [1903/6000]: 100%|██████████| 17/17 [00:00<00:00, 121.47it/s, loss=2.2]\n"
     ]
    },
    {
     "output_type": "stream",
     "name": "stdout",
     "text": [
      "Epoch [1903/6000]: Train loss: 2.1444, Valid loss: 2.0657\n"
     ]
    },
    {
     "output_type": "stream",
     "name": "stderr",
     "text": [
      "Epoch [1904/6000]: 100%|██████████| 17/17 [00:00<00:00, 115.21it/s, loss=1.81]\n"
     ]
    },
    {
     "output_type": "stream",
     "name": "stdout",
     "text": [
      "Epoch [1904/6000]: Train loss: 2.1410, Valid loss: 1.7758\n"
     ]
    },
    {
     "output_type": "stream",
     "name": "stderr",
     "text": [
      "Epoch [1905/6000]: 100%|██████████| 17/17 [00:00<00:00, 97.77it/s, loss=2.09] \n"
     ]
    },
    {
     "output_type": "stream",
     "name": "stdout",
     "text": [
      "Epoch [1905/6000]: Train loss: 2.1426, Valid loss: 1.9617\n"
     ]
    },
    {
     "output_type": "stream",
     "name": "stderr",
     "text": [
      "Epoch [1906/6000]: 100%|██████████| 17/17 [00:00<00:00, 98.93it/s, loss=2.52] \n"
     ]
    },
    {
     "output_type": "stream",
     "name": "stdout",
     "text": [
      "Epoch [1906/6000]: Train loss: 2.1444, Valid loss: 1.8343\n"
     ]
    },
    {
     "output_type": "stream",
     "name": "stderr",
     "text": [
      "Epoch [1907/6000]: 100%|██████████| 17/17 [00:00<00:00, 93.11it/s, loss=1.68]\n"
     ]
    },
    {
     "output_type": "stream",
     "name": "stdout",
     "text": [
      "Epoch [1907/6000]: Train loss: 2.1398, Valid loss: 1.9418\n"
     ]
    },
    {
     "output_type": "stream",
     "name": "stderr",
     "text": [
      "Epoch [1908/6000]: 100%|██████████| 17/17 [00:00<00:00, 106.44it/s, loss=1.86]\n"
     ]
    },
    {
     "output_type": "stream",
     "name": "stdout",
     "text": [
      "Epoch [1908/6000]: Train loss: 2.1385, Valid loss: 1.9058\n"
     ]
    },
    {
     "output_type": "stream",
     "name": "stderr",
     "text": [
      "Epoch [1909/6000]: 100%|██████████| 17/17 [00:00<00:00, 106.56it/s, loss=2.05]\n"
     ]
    },
    {
     "output_type": "stream",
     "name": "stdout",
     "text": [
      "Epoch [1909/6000]: Train loss: 2.1407, Valid loss: 1.9180\n"
     ]
    },
    {
     "output_type": "stream",
     "name": "stderr",
     "text": [
      "Epoch [1910/6000]: 100%|██████████| 17/17 [00:00<00:00, 109.27it/s, loss=1.52]\n"
     ]
    },
    {
     "output_type": "stream",
     "name": "stdout",
     "text": [
      "Epoch [1910/6000]: Train loss: 2.1347, Valid loss: 1.8395\n"
     ]
    },
    {
     "output_type": "stream",
     "name": "stderr",
     "text": [
      "Epoch [1911/6000]: 100%|██████████| 17/17 [00:00<00:00, 105.92it/s, loss=1.74]\n"
     ]
    },
    {
     "output_type": "stream",
     "name": "stdout",
     "text": [
      "Epoch [1911/6000]: Train loss: 2.1354, Valid loss: 1.7969\n"
     ]
    },
    {
     "output_type": "stream",
     "name": "stderr",
     "text": [
      "Epoch [1912/6000]: 100%|██████████| 17/17 [00:00<00:00, 110.34it/s, loss=1.89]\n"
     ]
    },
    {
     "output_type": "stream",
     "name": "stdout",
     "text": [
      "Epoch [1912/6000]: Train loss: 2.1359, Valid loss: 1.8889\n"
     ]
    },
    {
     "output_type": "stream",
     "name": "stderr",
     "text": [
      "Epoch [1913/6000]: 100%|██████████| 17/17 [00:00<00:00, 114.04it/s, loss=1.66]\n"
     ]
    },
    {
     "output_type": "stream",
     "name": "stdout",
     "text": [
      "Epoch [1913/6000]: Train loss: 2.1333, Valid loss: 2.1686\n"
     ]
    },
    {
     "output_type": "stream",
     "name": "stderr",
     "text": [
      "Epoch [1914/6000]: 100%|██████████| 17/17 [00:00<00:00, 116.10it/s, loss=2.07]\n"
     ]
    },
    {
     "output_type": "stream",
     "name": "stdout",
     "text": [
      "Epoch [1914/6000]: Train loss: 2.1355, Valid loss: 1.9945\n"
     ]
    },
    {
     "output_type": "stream",
     "name": "stderr",
     "text": [
      "Epoch [1915/6000]: 100%|██████████| 17/17 [00:00<00:00, 113.72it/s, loss=1.84]\n"
     ]
    },
    {
     "output_type": "stream",
     "name": "stdout",
     "text": [
      "Epoch [1915/6000]: Train loss: 2.1334, Valid loss: 1.9927\n"
     ]
    },
    {
     "output_type": "stream",
     "name": "stderr",
     "text": [
      "Epoch [1916/6000]: 100%|██████████| 17/17 [00:00<00:00, 118.66it/s, loss=2.25]\n"
     ]
    },
    {
     "output_type": "stream",
     "name": "stdout",
     "text": [
      "Epoch [1916/6000]: Train loss: 2.1358, Valid loss: 1.8897\n"
     ]
    },
    {
     "output_type": "stream",
     "name": "stderr",
     "text": [
      "Epoch [1917/6000]: 100%|██████████| 17/17 [00:00<00:00, 119.10it/s, loss=1.88]\n"
     ]
    },
    {
     "output_type": "stream",
     "name": "stdout",
     "text": [
      "Epoch [1917/6000]: Train loss: 2.1323, Valid loss: 1.8436\n"
     ]
    },
    {
     "output_type": "stream",
     "name": "stderr",
     "text": [
      "Epoch [1918/6000]: 100%|██████████| 17/17 [00:00<00:00, 110.27it/s, loss=2.27]\n"
     ]
    },
    {
     "output_type": "stream",
     "name": "stdout",
     "text": [
      "Epoch [1918/6000]: Train loss: 2.1344, Valid loss: 1.9630\n"
     ]
    },
    {
     "output_type": "stream",
     "name": "stderr",
     "text": [
      "Epoch [1919/6000]: 100%|██████████| 17/17 [00:00<00:00, 109.88it/s, loss=2.34]\n"
     ]
    },
    {
     "output_type": "stream",
     "name": "stdout",
     "text": [
      "Epoch [1919/6000]: Train loss: 2.1347, Valid loss: 1.9235\n"
     ]
    },
    {
     "output_type": "stream",
     "name": "stderr",
     "text": [
      "Epoch [1920/6000]: 100%|██████████| 17/17 [00:00<00:00, 108.16it/s, loss=2.11]\n"
     ]
    },
    {
     "output_type": "stream",
     "name": "stdout",
     "text": [
      "Epoch [1920/6000]: Train loss: 2.1317, Valid loss: 1.9076\n"
     ]
    },
    {
     "output_type": "stream",
     "name": "stderr",
     "text": [
      "Epoch [1921/6000]: 100%|██████████| 17/17 [00:00<00:00, 118.47it/s, loss=2.36]\n"
     ]
    },
    {
     "output_type": "stream",
     "name": "stdout",
     "text": [
      "Epoch [1921/6000]: Train loss: 2.1329, Valid loss: 2.0741\n"
     ]
    },
    {
     "output_type": "stream",
     "name": "stderr",
     "text": [
      "Epoch [1922/6000]: 100%|██████████| 17/17 [00:00<00:00, 132.15it/s, loss=1.82]\n"
     ]
    },
    {
     "output_type": "stream",
     "name": "stdout",
     "text": [
      "Epoch [1922/6000]: Train loss: 2.1287, Valid loss: 1.9052\n"
     ]
    },
    {
     "output_type": "stream",
     "name": "stderr",
     "text": [
      "Epoch [1923/6000]: 100%|██████████| 17/17 [00:00<00:00, 112.63it/s, loss=2.34]\n"
     ]
    },
    {
     "output_type": "stream",
     "name": "stdout",
     "text": [
      "Epoch [1923/6000]: Train loss: 2.1315, Valid loss: 1.9258\n"
     ]
    },
    {
     "output_type": "stream",
     "name": "stderr",
     "text": [
      "Epoch [1924/6000]: 100%|██████████| 17/17 [00:00<00:00, 104.80it/s, loss=2.28]\n"
     ]
    },
    {
     "output_type": "stream",
     "name": "stdout",
     "text": [
      "Epoch [1924/6000]: Train loss: 2.1301, Valid loss: 2.2814\n"
     ]
    },
    {
     "output_type": "stream",
     "name": "stderr",
     "text": [
      "Epoch [1925/6000]: 100%|██████████| 17/17 [00:00<00:00, 127.01it/s, loss=2.47]\n"
     ]
    },
    {
     "output_type": "stream",
     "name": "stdout",
     "text": [
      "Epoch [1925/6000]: Train loss: 2.1311, Valid loss: 1.8641\n"
     ]
    },
    {
     "output_type": "stream",
     "name": "stderr",
     "text": [
      "Epoch [1926/6000]: 100%|██████████| 17/17 [00:00<00:00, 127.57it/s, loss=2.1]\n"
     ]
    },
    {
     "output_type": "stream",
     "name": "stdout",
     "text": [
      "Epoch [1926/6000]: Train loss: 2.1278, Valid loss: 1.9202\n"
     ]
    },
    {
     "output_type": "stream",
     "name": "stderr",
     "text": [
      "Epoch [1927/6000]: 100%|██████████| 17/17 [00:00<00:00, 112.61it/s, loss=2.64]\n"
     ]
    },
    {
     "output_type": "stream",
     "name": "stdout",
     "text": [
      "Epoch [1927/6000]: Train loss: 2.1310, Valid loss: 1.9223\n"
     ]
    },
    {
     "output_type": "stream",
     "name": "stderr",
     "text": [
      "Epoch [1928/6000]: 100%|██████████| 17/17 [00:00<00:00, 127.70it/s, loss=2.13]\n"
     ]
    },
    {
     "output_type": "stream",
     "name": "stdout",
     "text": [
      "Epoch [1928/6000]: Train loss: 2.1264, Valid loss: 1.7909\n"
     ]
    },
    {
     "output_type": "stream",
     "name": "stderr",
     "text": [
      "Epoch [1929/6000]: 100%|██████████| 17/17 [00:00<00:00, 115.45it/s, loss=2.33]\n"
     ]
    },
    {
     "output_type": "stream",
     "name": "stdout",
     "text": [
      "Epoch [1929/6000]: Train loss: 2.1271, Valid loss: 2.0043\n"
     ]
    },
    {
     "output_type": "stream",
     "name": "stderr",
     "text": [
      "Epoch [1930/6000]: 100%|██████████| 17/17 [00:00<00:00, 120.26it/s, loss=1.8]\n"
     ]
    },
    {
     "output_type": "stream",
     "name": "stdout",
     "text": [
      "Epoch [1930/6000]: Train loss: 2.1230, Valid loss: 1.7951\n"
     ]
    },
    {
     "output_type": "stream",
     "name": "stderr",
     "text": [
      "Epoch [1931/6000]: 100%|██████████| 17/17 [00:00<00:00, 125.92it/s, loss=2.56]\n"
     ]
    },
    {
     "output_type": "stream",
     "name": "stdout",
     "text": [
      "Epoch [1931/6000]: Train loss: 2.1276, Valid loss: 2.1042\n"
     ]
    },
    {
     "output_type": "stream",
     "name": "stderr",
     "text": [
      "Epoch [1932/6000]: 100%|██████████| 17/17 [00:00<00:00, 121.23it/s, loss=2.23]\n"
     ]
    },
    {
     "output_type": "stream",
     "name": "stdout",
     "text": [
      "Epoch [1932/6000]: Train loss: 2.1244, Valid loss: 1.7876\n"
     ]
    },
    {
     "output_type": "stream",
     "name": "stderr",
     "text": [
      "Epoch [1933/6000]: 100%|██████████| 17/17 [00:00<00:00, 117.48it/s, loss=2.37]\n"
     ]
    },
    {
     "output_type": "stream",
     "name": "stdout",
     "text": [
      "Epoch [1933/6000]: Train loss: 2.1248, Valid loss: 1.7958\n"
     ]
    },
    {
     "output_type": "stream",
     "name": "stderr",
     "text": [
      "Epoch [1934/6000]: 100%|██████████| 17/17 [00:00<00:00, 123.83it/s, loss=2.72]\n"
     ]
    },
    {
     "output_type": "stream",
     "name": "stdout",
     "text": [
      "Epoch [1934/6000]: Train loss: 2.1269, Valid loss: 1.8687\n"
     ]
    },
    {
     "output_type": "stream",
     "name": "stderr",
     "text": [
      "Epoch [1935/6000]: 100%|██████████| 17/17 [00:00<00:00, 119.06it/s, loss=1.94]\n"
     ]
    },
    {
     "output_type": "stream",
     "name": "stdout",
     "text": [
      "Epoch [1935/6000]: Train loss: 2.1215, Valid loss: 1.9803\n"
     ]
    },
    {
     "output_type": "stream",
     "name": "stderr",
     "text": [
      "Epoch [1936/6000]: 100%|██████████| 17/17 [00:00<00:00, 114.87it/s, loss=1.63]\n"
     ]
    },
    {
     "output_type": "stream",
     "name": "stdout",
     "text": [
      "Epoch [1936/6000]: Train loss: 2.1173, Valid loss: 1.8334\n"
     ]
    },
    {
     "output_type": "stream",
     "name": "stderr",
     "text": [
      "Epoch [1937/6000]: 100%|██████████| 17/17 [00:00<00:00, 123.85it/s, loss=1.97]\n"
     ]
    },
    {
     "output_type": "stream",
     "name": "stdout",
     "text": [
      "Epoch [1937/6000]: Train loss: 2.1195, Valid loss: 2.1131\n"
     ]
    },
    {
     "output_type": "stream",
     "name": "stderr",
     "text": [
      "Epoch [1938/6000]: 100%|██████████| 17/17 [00:00<00:00, 117.25it/s, loss=2.97]\n"
     ]
    },
    {
     "output_type": "stream",
     "name": "stdout",
     "text": [
      "Epoch [1938/6000]: Train loss: 2.1259, Valid loss: 2.0257\n"
     ]
    },
    {
     "output_type": "stream",
     "name": "stderr",
     "text": [
      "Epoch [1939/6000]: 100%|██████████| 17/17 [00:00<00:00, 120.44it/s, loss=2.54]\n"
     ]
    },
    {
     "output_type": "stream",
     "name": "stdout",
     "text": [
      "Epoch [1939/6000]: Train loss: 2.1220, Valid loss: 1.9034\n"
     ]
    },
    {
     "output_type": "stream",
     "name": "stderr",
     "text": [
      "Epoch [1940/6000]: 100%|██████████| 17/17 [00:00<00:00, 112.71it/s, loss=2.28]\n"
     ]
    },
    {
     "output_type": "stream",
     "name": "stdout",
     "text": [
      "Epoch [1940/6000]: Train loss: 2.1202, Valid loss: 2.1810\n"
     ]
    },
    {
     "output_type": "stream",
     "name": "stderr",
     "text": [
      "Epoch [1943/6000]: 100%|██████████| 17/17 [00:00<00:00, 114.88it/s, loss=2.17]\n"
     ]
    },
    {
     "output_type": "stream",
     "name": "stdout",
     "text": [
      "Epoch [1943/6000]: Train loss: 2.1166, Valid loss: 1.8811\n"
     ]
    },
    {
     "output_type": "stream",
     "name": "stderr",
     "text": [
      "Epoch [1944/6000]: 100%|██████████| 17/17 [00:00<00:00, 116.63it/s, loss=2.16]\n"
     ]
    },
    {
     "output_type": "stream",
     "name": "stdout",
     "text": [
      "Epoch [1944/6000]: Train loss: 2.1163, Valid loss: 1.7573\n",
      "Saving model with loss 1.757...\n"
     ]
    },
    {
     "output_type": "stream",
     "name": "stderr",
     "text": [
      "Epoch [1945/6000]: 100%|██████████| 17/17 [00:00<00:00, 119.21it/s, loss=2.06]\n"
     ]
    },
    {
     "output_type": "stream",
     "name": "stdout",
     "text": [
      "Epoch [1945/6000]: Train loss: 2.1146, Valid loss: 1.8532\n"
     ]
    },
    {
     "output_type": "stream",
     "name": "stderr",
     "text": [
      "Epoch [1946/6000]: 100%|██████████| 17/17 [00:00<00:00, 119.05it/s, loss=2.07]\n"
     ]
    },
    {
     "output_type": "stream",
     "name": "stdout",
     "text": [
      "Epoch [1946/6000]: Train loss: 2.1142, Valid loss: 1.8487\n"
     ]
    },
    {
     "output_type": "stream",
     "name": "stderr",
     "text": [
      "Epoch [1947/6000]: 100%|██████████| 17/17 [00:00<00:00, 109.67it/s, loss=2.19]\n"
     ]
    },
    {
     "output_type": "stream",
     "name": "stdout",
     "text": [
      "Epoch [1947/6000]: Train loss: 2.1144, Valid loss: 1.9157\n"
     ]
    },
    {
     "output_type": "stream",
     "name": "stderr",
     "text": [
      "Epoch [1948/6000]: 100%|██████████| 17/17 [00:00<00:00, 104.68it/s, loss=1.99]\n"
     ]
    },
    {
     "output_type": "stream",
     "name": "stdout",
     "text": [
      "Epoch [1948/6000]: Train loss: 2.1132, Valid loss: 1.9361\n"
     ]
    },
    {
     "output_type": "stream",
     "name": "stderr",
     "text": [
      "Epoch [1949/6000]: 100%|██████████| 17/17 [00:00<00:00, 121.05it/s, loss=1.94]\n"
     ]
    },
    {
     "output_type": "stream",
     "name": "stdout",
     "text": [
      "Epoch [1949/6000]: Train loss: 2.1111, Valid loss: 1.9404\n"
     ]
    },
    {
     "output_type": "stream",
     "name": "stderr",
     "text": [
      "Epoch [1950/6000]: 100%|██████████| 17/17 [00:00<00:00, 121.23it/s, loss=2.2]\n"
     ]
    },
    {
     "output_type": "stream",
     "name": "stdout",
     "text": [
      "Epoch [1950/6000]: Train loss: 2.1126, Valid loss: 1.7928\n"
     ]
    },
    {
     "output_type": "stream",
     "name": "stderr",
     "text": [
      "Epoch [1951/6000]: 100%|██████████| 17/17 [00:00<00:00, 127.67it/s, loss=2.6]\n"
     ]
    },
    {
     "output_type": "stream",
     "name": "stdout",
     "text": [
      "Epoch [1951/6000]: Train loss: 2.1149, Valid loss: 1.8290\n"
     ]
    },
    {
     "output_type": "stream",
     "name": "stderr",
     "text": [
      "Epoch [1952/6000]: 100%|██████████| 17/17 [00:00<00:00, 124.35it/s, loss=1.67]\n"
     ]
    },
    {
     "output_type": "stream",
     "name": "stdout",
     "text": [
      "Epoch [1952/6000]: Train loss: 2.1075, Valid loss: 1.9767\n"
     ]
    },
    {
     "output_type": "stream",
     "name": "stderr",
     "text": [
      "Epoch [1953/6000]: 100%|██████████| 17/17 [00:00<00:00, 120.81it/s, loss=1.97]\n"
     ]
    },
    {
     "output_type": "stream",
     "name": "stdout",
     "text": [
      "Epoch [1953/6000]: Train loss: 2.1089, Valid loss: 1.8310\n"
     ]
    },
    {
     "output_type": "stream",
     "name": "stderr",
     "text": [
      "Epoch [1954/6000]: 100%|██████████| 17/17 [00:00<00:00, 115.97it/s, loss=1.56]\n"
     ]
    },
    {
     "output_type": "stream",
     "name": "stdout",
     "text": [
      "Epoch [1954/6000]: Train loss: 2.1056, Valid loss: 1.7886\n"
     ]
    },
    {
     "output_type": "stream",
     "name": "stderr",
     "text": [
      "Epoch [1955/6000]: 100%|██████████| 17/17 [00:00<00:00, 121.70it/s, loss=2.28]\n"
     ]
    },
    {
     "output_type": "stream",
     "name": "stdout",
     "text": [
      "Epoch [1955/6000]: Train loss: 2.1112, Valid loss: 1.8760\n"
     ]
    },
    {
     "output_type": "stream",
     "name": "stderr",
     "text": [
      "Epoch [1959/6000]: 100%|██████████| 17/17 [00:00<00:00, 102.85it/s, loss=1.52]\n"
     ]
    },
    {
     "output_type": "stream",
     "name": "stdout",
     "text": [
      "Epoch [1959/6000]: Train loss: 2.1021, Valid loss: 1.9216\n"
     ]
    },
    {
     "output_type": "stream",
     "name": "stderr",
     "text": [
      "Epoch [1960/6000]: 100%|██████████| 17/17 [00:00<00:00, 121.17it/s, loss=1.54]\n"
     ]
    },
    {
     "output_type": "stream",
     "name": "stdout",
     "text": [
      "Epoch [1960/6000]: Train loss: 2.1022, Valid loss: 1.8105\n"
     ]
    },
    {
     "output_type": "stream",
     "name": "stderr",
     "text": [
      "Epoch [1961/6000]: 100%|██████████| 17/17 [00:00<00:00, 121.66it/s, loss=1.74]\n"
     ]
    },
    {
     "output_type": "stream",
     "name": "stdout",
     "text": [
      "Epoch [1961/6000]: Train loss: 2.1024, Valid loss: 1.9501\n"
     ]
    },
    {
     "output_type": "stream",
     "name": "stderr",
     "text": [
      "Epoch [1962/6000]: 100%|██████████| 17/17 [00:00<00:00, 117.17it/s, loss=1.64]\n"
     ]
    },
    {
     "output_type": "stream",
     "name": "stdout",
     "text": [
      "Epoch [1962/6000]: Train loss: 2.1009, Valid loss: 1.9524\n"
     ]
    },
    {
     "output_type": "stream",
     "name": "stderr",
     "text": [
      "Epoch [1963/6000]: 100%|██████████| 17/17 [00:00<00:00, 116.00it/s, loss=2.85]\n"
     ]
    },
    {
     "output_type": "stream",
     "name": "stdout",
     "text": [
      "Epoch [1963/6000]: Train loss: 2.1091, Valid loss: 1.8100\n"
     ]
    },
    {
     "output_type": "stream",
     "name": "stderr",
     "text": [
      "Epoch [1964/6000]: 100%|██████████| 17/17 [00:00<00:00, 120.54it/s, loss=2.09]\n"
     ]
    },
    {
     "output_type": "stream",
     "name": "stdout",
     "text": [
      "Epoch [1964/6000]: Train loss: 2.1032, Valid loss: 2.1588\n"
     ]
    },
    {
     "output_type": "stream",
     "name": "stderr",
     "text": [
      "Epoch [1965/6000]: 100%|██████████| 17/17 [00:00<00:00, 125.44it/s, loss=2.01]\n"
     ]
    },
    {
     "output_type": "stream",
     "name": "stdout",
     "text": [
      "Epoch [1965/6000]: Train loss: 2.1023, Valid loss: 1.8169\n"
     ]
    },
    {
     "output_type": "stream",
     "name": "stderr",
     "text": [
      "Epoch [1966/6000]: 100%|██████████| 17/17 [00:00<00:00, 125.64it/s, loss=2.14]\n"
     ]
    },
    {
     "output_type": "stream",
     "name": "stdout",
     "text": [
      "Epoch [1966/6000]: Train loss: 2.1020, Valid loss: 1.7740\n"
     ]
    },
    {
     "output_type": "stream",
     "name": "stderr",
     "text": [
      "Epoch [1967/6000]: 100%|██████████| 17/17 [00:00<00:00, 116.80it/s, loss=1.94]\n"
     ]
    },
    {
     "output_type": "stream",
     "name": "stdout",
     "text": [
      "Epoch [1967/6000]: Train loss: 2.1002, Valid loss: 2.0181\n"
     ]
    },
    {
     "output_type": "stream",
     "name": "stderr",
     "text": [
      "Epoch [1968/6000]: 100%|██████████| 17/17 [00:00<00:00, 105.07it/s, loss=2.03]\n"
     ]
    },
    {
     "output_type": "stream",
     "name": "stdout",
     "text": [
      "Epoch [1968/6000]: Train loss: 2.1002, Valid loss: 2.0156\n"
     ]
    },
    {
     "output_type": "stream",
     "name": "stderr",
     "text": [
      "Epoch [1969/6000]: 100%|██████████| 17/17 [00:00<00:00, 123.73it/s, loss=1.89]\n"
     ]
    },
    {
     "output_type": "stream",
     "name": "stdout",
     "text": [
      "Epoch [1969/6000]: Train loss: 2.0984, Valid loss: 1.8276\n"
     ]
    },
    {
     "output_type": "stream",
     "name": "stderr",
     "text": [
      "Epoch [1970/6000]: 100%|██████████| 17/17 [00:00<00:00, 98.32it/s, loss=2.24] \n"
     ]
    },
    {
     "output_type": "stream",
     "name": "stdout",
     "text": [
      "Epoch [1970/6000]: Train loss: 2.1004, Valid loss: 1.9883\n"
     ]
    },
    {
     "output_type": "stream",
     "name": "stderr",
     "text": [
      "Epoch [1971/6000]: 100%|██████████| 17/17 [00:00<00:00, 135.81it/s, loss=1.92]\n"
     ]
    },
    {
     "output_type": "stream",
     "name": "stdout",
     "text": [
      "Epoch [1971/6000]: Train loss: 2.0976, Valid loss: 1.7533\n",
      "Saving model with loss 1.753...\n"
     ]
    },
    {
     "output_type": "stream",
     "name": "stderr",
     "text": [
      "Epoch [1972/6000]: 100%|██████████| 17/17 [00:00<00:00, 110.52it/s, loss=2.3]\n"
     ]
    },
    {
     "output_type": "stream",
     "name": "stdout",
     "text": [
      "Epoch [1972/6000]: Train loss: 2.0998, Valid loss: 1.8215\n"
     ]
    },
    {
     "output_type": "stream",
     "name": "stderr",
     "text": [
      "Epoch [1973/6000]: 100%|██████████| 17/17 [00:00<00:00, 126.15it/s, loss=2.11]\n"
     ]
    },
    {
     "output_type": "stream",
     "name": "stdout",
     "text": [
      "Epoch [1973/6000]: Train loss: 2.0983, Valid loss: 1.9317\n"
     ]
    },
    {
     "output_type": "stream",
     "name": "stderr",
     "text": [
      "Epoch [1974/6000]: 100%|██████████| 17/17 [00:00<00:00, 122.56it/s, loss=2.18]\n"
     ]
    },
    {
     "output_type": "stream",
     "name": "stdout",
     "text": [
      "Epoch [1974/6000]: Train loss: 2.0974, Valid loss: 2.0920\n"
     ]
    },
    {
     "output_type": "stream",
     "name": "stderr",
     "text": [
      "Epoch [1975/6000]: 100%|██████████| 17/17 [00:00<00:00, 125.49it/s, loss=2.85]\n"
     ]
    },
    {
     "output_type": "stream",
     "name": "stdout",
     "text": [
      "Epoch [1975/6000]: Train loss: 2.1020, Valid loss: 2.0565\n"
     ]
    },
    {
     "output_type": "stream",
     "name": "stderr",
     "text": [
      "Epoch [1976/6000]: 100%|██████████| 17/17 [00:00<00:00, 125.69it/s, loss=2.05]\n"
     ]
    },
    {
     "output_type": "stream",
     "name": "stdout",
     "text": [
      "Epoch [1976/6000]: Train loss: 2.0956, Valid loss: 1.8288\n"
     ]
    },
    {
     "output_type": "stream",
     "name": "stderr",
     "text": [
      "Epoch [1977/6000]: 100%|██████████| 17/17 [00:00<00:00, 115.30it/s, loss=2.33]\n"
     ]
    },
    {
     "output_type": "stream",
     "name": "stdout",
     "text": [
      "Epoch [1977/6000]: Train loss: 2.0971, Valid loss: 1.9782\n"
     ]
    },
    {
     "output_type": "stream",
     "name": "stderr",
     "text": [
      "Epoch [1978/6000]: 100%|██████████| 17/17 [00:00<00:00, 115.32it/s, loss=2.06]\n"
     ]
    },
    {
     "output_type": "stream",
     "name": "stdout",
     "text": [
      "Epoch [1978/6000]: Train loss: 2.0956, Valid loss: 1.8746\n"
     ]
    },
    {
     "output_type": "stream",
     "name": "stderr",
     "text": [
      "Epoch [1979/6000]: 100%|██████████| 17/17 [00:00<00:00, 119.36it/s, loss=2.26]\n"
     ]
    },
    {
     "output_type": "stream",
     "name": "stdout",
     "text": [
      "Epoch [1979/6000]: Train loss: 2.0950, Valid loss: 1.8336\n"
     ]
    },
    {
     "output_type": "stream",
     "name": "stderr",
     "text": [
      "Epoch [1980/6000]: 100%|██████████| 17/17 [00:00<00:00, 119.45it/s, loss=1.66]\n"
     ]
    },
    {
     "output_type": "stream",
     "name": "stdout",
     "text": [
      "Epoch [1980/6000]: Train loss: 2.0917, Valid loss: 1.9142\n"
     ]
    },
    {
     "output_type": "stream",
     "name": "stderr",
     "text": [
      "Epoch [1981/6000]: 100%|██████████| 17/17 [00:00<00:00, 121.42it/s, loss=2.53]\n"
     ]
    },
    {
     "output_type": "stream",
     "name": "stdout",
     "text": [
      "Epoch [1981/6000]: Train loss: 2.0962, Valid loss: 1.8948\n"
     ]
    },
    {
     "output_type": "stream",
     "name": "stderr",
     "text": [
      "Epoch [1982/6000]: 100%|██████████| 17/17 [00:00<00:00, 120.37it/s, loss=2.35]\n"
     ]
    },
    {
     "output_type": "stream",
     "name": "stdout",
     "text": [
      "Epoch [1982/6000]: Train loss: 2.0945, Valid loss: 1.9943\n"
     ]
    },
    {
     "output_type": "stream",
     "name": "stderr",
     "text": [
      "Epoch [1983/6000]: 100%|██████████| 17/17 [00:00<00:00, 122.02it/s, loss=2.57]\n"
     ]
    },
    {
     "output_type": "stream",
     "name": "stdout",
     "text": [
      "Epoch [1983/6000]: Train loss: 2.0957, Valid loss: 1.8943\n"
     ]
    },
    {
     "output_type": "stream",
     "name": "stderr",
     "text": [
      "Epoch [1984/6000]: 100%|██████████| 17/17 [00:00<00:00, 115.35it/s, loss=1.88]\n"
     ]
    },
    {
     "output_type": "stream",
     "name": "stdout",
     "text": [
      "Epoch [1984/6000]: Train loss: 2.0897, Valid loss: 1.8070\n"
     ]
    },
    {
     "output_type": "stream",
     "name": "stderr",
     "text": [
      "Epoch [1985/6000]: 100%|██████████| 17/17 [00:00<00:00, 118.70it/s, loss=2.53]\n"
     ]
    },
    {
     "output_type": "stream",
     "name": "stdout",
     "text": [
      "Epoch [1985/6000]: Train loss: 2.0938, Valid loss: 2.0391\n"
     ]
    },
    {
     "output_type": "stream",
     "name": "stderr",
     "text": [
      "Epoch [1986/6000]: 100%|██████████| 17/17 [00:00<00:00, 113.90it/s, loss=2.68]\n"
     ]
    },
    {
     "output_type": "stream",
     "name": "stdout",
     "text": [
      "Epoch [1986/6000]: Train loss: 2.0944, Valid loss: 1.9044\n"
     ]
    },
    {
     "output_type": "stream",
     "name": "stderr",
     "text": [
      "Epoch [1987/6000]: 100%|██████████| 17/17 [00:00<00:00, 113.89it/s, loss=2.73]\n"
     ]
    },
    {
     "output_type": "stream",
     "name": "stdout",
     "text": [
      "Epoch [1987/6000]: Train loss: 2.0944, Valid loss: 1.9508\n"
     ]
    },
    {
     "output_type": "stream",
     "name": "stderr",
     "text": [
      "Epoch [1988/6000]: 100%|██████████| 17/17 [00:00<00:00, 119.75it/s, loss=1.75]\n"
     ]
    },
    {
     "output_type": "stream",
     "name": "stdout",
     "text": [
      "Epoch [1988/6000]: Train loss: 2.0865, Valid loss: 1.8540\n"
     ]
    },
    {
     "output_type": "stream",
     "name": "stderr",
     "text": [
      "Epoch [1989/6000]: 100%|██████████| 17/17 [00:00<00:00, 118.17it/s, loss=1.8]\n"
     ]
    },
    {
     "output_type": "stream",
     "name": "stdout",
     "text": [
      "Epoch [1989/6000]: Train loss: 2.0863, Valid loss: 1.7461\n",
      "Saving model with loss 1.746...\n"
     ]
    },
    {
     "output_type": "stream",
     "name": "stderr",
     "text": [
      "Epoch [1990/6000]: 100%|██████████| 17/17 [00:00<00:00, 110.22it/s, loss=1.69]\n"
     ]
    },
    {
     "output_type": "stream",
     "name": "stdout",
     "text": [
      "Epoch [1990/6000]: Train loss: 2.0850, Valid loss: 1.7735\n"
     ]
    },
    {
     "output_type": "stream",
     "name": "stderr",
     "text": [
      "Epoch [1991/6000]: 100%|██████████| 17/17 [00:00<00:00, 104.53it/s, loss=1.45]\n"
     ]
    },
    {
     "output_type": "stream",
     "name": "stdout",
     "text": [
      "Epoch [1991/6000]: Train loss: 2.0825, Valid loss: 1.9975\n"
     ]
    },
    {
     "output_type": "stream",
     "name": "stderr",
     "text": [
      "Epoch [1992/6000]: 100%|██████████| 17/17 [00:00<00:00, 119.36it/s, loss=2.15]\n"
     ]
    },
    {
     "output_type": "stream",
     "name": "stdout",
     "text": [
      "Epoch [1992/6000]: Train loss: 2.0876, Valid loss: 1.7350\n",
      "Saving model with loss 1.735...\n"
     ]
    },
    {
     "output_type": "stream",
     "name": "stderr",
     "text": [
      "Epoch [1993/6000]: 100%|██████████| 17/17 [00:00<00:00, 113.93it/s, loss=1.71]\n"
     ]
    },
    {
     "output_type": "stream",
     "name": "stdout",
     "text": [
      "Epoch [1993/6000]: Train loss: 2.0839, Valid loss: 1.9470\n"
     ]
    },
    {
     "output_type": "stream",
     "name": "stderr",
     "text": [
      "Epoch [1994/6000]: 100%|██████████| 17/17 [00:00<00:00, 124.05it/s, loss=1.89]\n"
     ]
    },
    {
     "output_type": "stream",
     "name": "stdout",
     "text": [
      "Epoch [1994/6000]: Train loss: 2.0843, Valid loss: 1.9516\n"
     ]
    },
    {
     "output_type": "stream",
     "name": "stderr",
     "text": [
      "Epoch [1995/6000]: 100%|██████████| 17/17 [00:00<00:00, 92.65it/s, loss=1.92]\n"
     ]
    },
    {
     "output_type": "stream",
     "name": "stdout",
     "text": [
      "Epoch [1995/6000]: Train loss: 2.0839, Valid loss: 1.9266\n"
     ]
    },
    {
     "output_type": "stream",
     "name": "stderr",
     "text": [
      "Epoch [1996/6000]: 100%|██████████| 17/17 [00:00<00:00, 120.62it/s, loss=2.35]\n"
     ]
    },
    {
     "output_type": "stream",
     "name": "stdout",
     "text": [
      "Epoch [1996/6000]: Train loss: 2.0864, Valid loss: 1.8210\n"
     ]
    },
    {
     "output_type": "stream",
     "name": "stderr",
     "text": [
      "Epoch [1997/6000]: 100%|██████████| 17/17 [00:00<00:00, 127.86it/s, loss=2.14]\n"
     ]
    },
    {
     "output_type": "stream",
     "name": "stdout",
     "text": [
      "Epoch [1997/6000]: Train loss: 2.0841, Valid loss: 1.9460\n"
     ]
    },
    {
     "output_type": "stream",
     "name": "stderr",
     "text": [
      "Epoch [1998/6000]: 100%|██████████| 17/17 [00:00<00:00, 122.92it/s, loss=1.92]\n"
     ]
    },
    {
     "output_type": "stream",
     "name": "stdout",
     "text": [
      "Epoch [1998/6000]: Train loss: 2.0823, Valid loss: 1.7605\n"
     ]
    },
    {
     "output_type": "stream",
     "name": "stderr",
     "text": [
      "Epoch [1999/6000]: 100%|██████████| 17/17 [00:00<00:00, 118.47it/s, loss=1.39]\n"
     ]
    },
    {
     "output_type": "stream",
     "name": "stdout",
     "text": [
      "Epoch [1999/6000]: Train loss: 2.0777, Valid loss: 1.8079\n"
     ]
    },
    {
     "output_type": "stream",
     "name": "stderr",
     "text": [
      "Epoch [2000/6000]: 100%|██████████| 17/17 [00:00<00:00, 117.05it/s, loss=2.82]\n"
     ]
    },
    {
     "output_type": "stream",
     "name": "stdout",
     "text": [
      "Epoch [2000/6000]: Train loss: 2.0874, Valid loss: 2.2486\n"
     ]
    },
    {
     "output_type": "stream",
     "name": "stderr",
     "text": [
      "Epoch [2001/6000]: 100%|██████████| 17/17 [00:00<00:00, 120.38it/s, loss=2.01]\n"
     ]
    },
    {
     "output_type": "stream",
     "name": "stdout",
     "text": [
      "Epoch [2001/6000]: Train loss: 2.0812, Valid loss: 1.9374\n"
     ]
    },
    {
     "output_type": "stream",
     "name": "stderr",
     "text": [
      "Epoch [2002/6000]: 100%|██████████| 17/17 [00:00<00:00, 121.88it/s, loss=1.39]\n"
     ]
    },
    {
     "output_type": "stream",
     "name": "stdout",
     "text": [
      "Epoch [2002/6000]: Train loss: 2.0766, Valid loss: 1.9165\n"
     ]
    },
    {
     "output_type": "stream",
     "name": "stderr",
     "text": [
      "Epoch [2003/6000]: 100%|██████████| 17/17 [00:00<00:00, 126.92it/s, loss=1.89]\n"
     ]
    },
    {
     "output_type": "stream",
     "name": "stdout",
     "text": [
      "Epoch [2003/6000]: Train loss: 2.0789, Valid loss: 2.1560\n"
     ]
    },
    {
     "output_type": "stream",
     "name": "stderr",
     "text": [
      "Epoch [2004/6000]: 100%|██████████| 17/17 [00:00<00:00, 122.50it/s, loss=2.1]\n"
     ]
    },
    {
     "output_type": "stream",
     "name": "stdout",
     "text": [
      "Epoch [2004/6000]: Train loss: 2.0805, Valid loss: 1.7475\n"
     ]
    },
    {
     "output_type": "stream",
     "name": "stderr",
     "text": [
      "Epoch [2005/6000]: 100%|██████████| 17/17 [00:00<00:00, 116.98it/s, loss=1.63]\n"
     ]
    },
    {
     "output_type": "stream",
     "name": "stdout",
     "text": [
      "Epoch [2005/6000]: Train loss: 2.0769, Valid loss: 1.8208\n"
     ]
    },
    {
     "output_type": "stream",
     "name": "stderr",
     "text": [
      "Epoch [2006/6000]: 100%|██████████| 17/17 [00:00<00:00, 122.33it/s, loss=2.12]\n"
     ]
    },
    {
     "output_type": "stream",
     "name": "stdout",
     "text": [
      "Epoch [2006/6000]: Train loss: 2.0792, Valid loss: 1.9761\n"
     ]
    },
    {
     "output_type": "stream",
     "name": "stderr",
     "text": [
      "Epoch [2007/6000]: 100%|██████████| 17/17 [00:00<00:00, 112.62it/s, loss=1.39]\n"
     ]
    },
    {
     "output_type": "stream",
     "name": "stdout",
     "text": [
      "Epoch [2007/6000]: Train loss: 2.0735, Valid loss: 1.8614\n"
     ]
    },
    {
     "output_type": "stream",
     "name": "stderr",
     "text": [
      "Epoch [2008/6000]: 100%|██████████| 17/17 [00:00<00:00, 114.84it/s, loss=2.28]\n"
     ]
    },
    {
     "output_type": "stream",
     "name": "stdout",
     "text": [
      "Epoch [2008/6000]: Train loss: 2.0792, Valid loss: 1.8307\n"
     ]
    },
    {
     "output_type": "stream",
     "name": "stderr",
     "text": [
      "Epoch [2009/6000]: 100%|██████████| 17/17 [00:00<00:00, 121.10it/s, loss=2.07]\n"
     ]
    },
    {
     "output_type": "stream",
     "name": "stdout",
     "text": [
      "Epoch [2009/6000]: Train loss: 2.0771, Valid loss: 1.8360\n"
     ]
    },
    {
     "output_type": "stream",
     "name": "stderr",
     "text": [
      "Epoch [2010/6000]: 100%|██████████| 17/17 [00:00<00:00, 117.64it/s, loss=1.9]\n"
     ]
    },
    {
     "output_type": "stream",
     "name": "stdout",
     "text": [
      "Epoch [2010/6000]: Train loss: 2.0756, Valid loss: 2.0099\n"
     ]
    },
    {
     "output_type": "stream",
     "name": "stderr",
     "text": [
      "Epoch [2011/6000]: 100%|██████████| 17/17 [00:00<00:00, 121.83it/s, loss=1.91]\n"
     ]
    },
    {
     "output_type": "stream",
     "name": "stdout",
     "text": [
      "Epoch [2011/6000]: Train loss: 2.0751, Valid loss: 1.9274\n"
     ]
    },
    {
     "output_type": "stream",
     "name": "stderr",
     "text": [
      "Epoch [2012/6000]: 100%|██████████| 17/17 [00:00<00:00, 114.11it/s, loss=2.04]\n"
     ]
    },
    {
     "output_type": "stream",
     "name": "stdout",
     "text": [
      "Epoch [2012/6000]: Train loss: 2.0756, Valid loss: 2.1838\n"
     ]
    },
    {
     "output_type": "stream",
     "name": "stderr",
     "text": [
      "Epoch [2013/6000]: 100%|██████████| 17/17 [00:00<00:00, 111.89it/s, loss=2.07]\n"
     ]
    },
    {
     "output_type": "stream",
     "name": "stdout",
     "text": [
      "Epoch [2013/6000]: Train loss: 2.0752, Valid loss: 1.7674\n"
     ]
    },
    {
     "output_type": "stream",
     "name": "stderr",
     "text": [
      "Epoch [2014/6000]: 100%|██████████| 17/17 [00:00<00:00, 112.73it/s, loss=1.6]\n"
     ]
    },
    {
     "output_type": "stream",
     "name": "stdout",
     "text": [
      "Epoch [2014/6000]: Train loss: 2.0709, Valid loss: 1.9058\n"
     ]
    },
    {
     "output_type": "stream",
     "name": "stderr",
     "text": [
      "Epoch [2015/6000]: 100%|██████████| 17/17 [00:00<00:00, 125.75it/s, loss=2.09]\n"
     ]
    },
    {
     "output_type": "stream",
     "name": "stdout",
     "text": [
      "Epoch [2015/6000]: Train loss: 2.0752, Valid loss: 1.8993\n"
     ]
    },
    {
     "output_type": "stream",
     "name": "stderr",
     "text": [
      "Epoch [2016/6000]: 100%|██████████| 17/17 [00:00<00:00, 120.99it/s, loss=2.11]\n"
     ]
    },
    {
     "output_type": "stream",
     "name": "stdout",
     "text": [
      "Epoch [2016/6000]: Train loss: 2.0742, Valid loss: 1.8824\n"
     ]
    },
    {
     "output_type": "stream",
     "name": "stderr",
     "text": [
      "Epoch [2017/6000]: 100%|██████████| 17/17 [00:00<00:00, 115.35it/s, loss=1.7]\n"
     ]
    },
    {
     "output_type": "stream",
     "name": "stdout",
     "text": [
      "Epoch [2017/6000]: Train loss: 2.0702, Valid loss: 1.7608\n"
     ]
    },
    {
     "output_type": "stream",
     "name": "stderr",
     "text": [
      "Epoch [2018/6000]: 100%|██████████| 17/17 [00:00<00:00, 112.33it/s, loss=2.09]\n"
     ]
    },
    {
     "output_type": "stream",
     "name": "stdout",
     "text": [
      "Epoch [2018/6000]: Train loss: 2.0729, Valid loss: 1.7768\n"
     ]
    },
    {
     "output_type": "stream",
     "name": "stderr",
     "text": [
      "Epoch [2019/6000]: 100%|██████████| 17/17 [00:00<00:00, 129.85it/s, loss=1.76]\n"
     ]
    },
    {
     "output_type": "stream",
     "name": "stdout",
     "text": [
      "Epoch [2019/6000]: Train loss: 2.0697, Valid loss: 1.8279\n"
     ]
    },
    {
     "output_type": "stream",
     "name": "stderr",
     "text": [
      "Epoch [2020/6000]: 100%|██████████| 17/17 [00:00<00:00, 123.64it/s, loss=1.94]\n"
     ]
    },
    {
     "output_type": "stream",
     "name": "stdout",
     "text": [
      "Epoch [2020/6000]: Train loss: 2.0701, Valid loss: 1.7683\n"
     ]
    },
    {
     "output_type": "stream",
     "name": "stderr",
     "text": [
      "Epoch [2021/6000]: 100%|██████████| 17/17 [00:00<00:00, 113.59it/s, loss=2.36]\n"
     ]
    },
    {
     "output_type": "stream",
     "name": "stdout",
     "text": [
      "Epoch [2021/6000]: Train loss: 2.0736, Valid loss: 1.9307\n"
     ]
    },
    {
     "output_type": "stream",
     "name": "stderr",
     "text": [
      "Epoch [2022/6000]: 100%|██████████| 17/17 [00:00<00:00, 113.21it/s, loss=1.6]\n"
     ]
    },
    {
     "output_type": "stream",
     "name": "stdout",
     "text": [
      "Epoch [2022/6000]: Train loss: 2.0665, Valid loss: 1.8412\n"
     ]
    },
    {
     "output_type": "stream",
     "name": "stderr",
     "text": [
      "Epoch [2023/6000]: 100%|██████████| 17/17 [00:00<00:00, 117.33it/s, loss=2.26]\n"
     ]
    },
    {
     "output_type": "stream",
     "name": "stdout",
     "text": [
      "Epoch [2023/6000]: Train loss: 2.0710, Valid loss: 2.1150\n"
     ]
    },
    {
     "output_type": "stream",
     "name": "stderr",
     "text": [
      "Epoch [2024/6000]: 100%|██████████| 17/17 [00:00<00:00, 121.81it/s, loss=1.95]\n"
     ]
    },
    {
     "output_type": "stream",
     "name": "stdout",
     "text": [
      "Epoch [2024/6000]: Train loss: 2.0692, Valid loss: 1.8363\n"
     ]
    },
    {
     "output_type": "stream",
     "name": "stderr",
     "text": [
      "Epoch [2025/6000]: 100%|██████████| 17/17 [00:00<00:00, 120.92it/s, loss=2.24]\n"
     ]
    },
    {
     "output_type": "stream",
     "name": "stdout",
     "text": [
      "Epoch [2025/6000]: Train loss: 2.0697, Valid loss: 1.8317\n"
     ]
    },
    {
     "output_type": "stream",
     "name": "stderr",
     "text": [
      "Epoch [2026/6000]: 100%|██████████| 17/17 [00:00<00:00, 121.17it/s, loss=1.86]\n"
     ]
    },
    {
     "output_type": "stream",
     "name": "stdout",
     "text": [
      "Epoch [2026/6000]: Train loss: 2.0666, Valid loss: 1.8036\n"
     ]
    },
    {
     "output_type": "stream",
     "name": "stderr",
     "text": [
      "Epoch [2027/6000]: 100%|██████████| 17/17 [00:00<00:00, 111.98it/s, loss=1.91]\n"
     ]
    },
    {
     "output_type": "stream",
     "name": "stdout",
     "text": [
      "Epoch [2027/6000]: Train loss: 2.0664, Valid loss: 1.8363\n"
     ]
    },
    {
     "output_type": "stream",
     "name": "stderr",
     "text": [
      "Epoch [2028/6000]: 100%|██████████| 17/17 [00:00<00:00, 126.88it/s, loss=1.75]\n"
     ]
    },
    {
     "output_type": "stream",
     "name": "stdout",
     "text": [
      "Epoch [2028/6000]: Train loss: 2.0647, Valid loss: 1.7363\n"
     ]
    },
    {
     "output_type": "stream",
     "name": "stderr",
     "text": [
      "Epoch [2029/6000]: 100%|██████████| 17/17 [00:00<00:00, 121.90it/s, loss=2.46]\n"
     ]
    },
    {
     "output_type": "stream",
     "name": "stdout",
     "text": [
      "Epoch [2029/6000]: Train loss: 2.0692, Valid loss: 1.8699\n"
     ]
    },
    {
     "output_type": "stream",
     "name": "stderr",
     "text": [
      "Epoch [2030/6000]: 100%|██████████| 17/17 [00:00<00:00, 121.69it/s, loss=2.89]\n"
     ]
    },
    {
     "output_type": "stream",
     "name": "stdout",
     "text": [
      "Epoch [2030/6000]: Train loss: 2.0723, Valid loss: 1.8245\n"
     ]
    },
    {
     "output_type": "stream",
     "name": "stderr",
     "text": [
      "Epoch [2031/6000]: 100%|██████████| 17/17 [00:00<00:00, 114.11it/s, loss=2.26]\n"
     ]
    },
    {
     "output_type": "stream",
     "name": "stdout",
     "text": [
      "Epoch [2031/6000]: Train loss: 2.0667, Valid loss: 1.7766\n"
     ]
    },
    {
     "output_type": "stream",
     "name": "stderr",
     "text": [
      "Epoch [2032/6000]: 100%|██████████| 17/17 [00:00<00:00, 125.82it/s, loss=2.5]\n"
     ]
    },
    {
     "output_type": "stream",
     "name": "stdout",
     "text": [
      "Epoch [2032/6000]: Train loss: 2.0681, Valid loss: 1.9568\n"
     ]
    },
    {
     "output_type": "stream",
     "name": "stderr",
     "text": [
      "Epoch [2033/6000]: 100%|██████████| 17/17 [00:00<00:00, 132.73it/s, loss=2.2]\n"
     ]
    },
    {
     "output_type": "stream",
     "name": "stdout",
     "text": [
      "Epoch [2033/6000]: Train loss: 2.0655, Valid loss: 1.7198\n",
      "Saving model with loss 1.720...\n"
     ]
    },
    {
     "output_type": "stream",
     "name": "stderr",
     "text": [
      "Epoch [2034/6000]: 100%|██████████| 17/17 [00:00<00:00, 129.11it/s, loss=2.06]\n"
     ]
    },
    {
     "output_type": "stream",
     "name": "stdout",
     "text": [
      "Epoch [2034/6000]: Train loss: 2.0649, Valid loss: 1.7778\n"
     ]
    },
    {
     "output_type": "stream",
     "name": "stderr",
     "text": [
      "Epoch [2035/6000]: 100%|██████████| 17/17 [00:00<00:00, 117.71it/s, loss=2.21]\n"
     ]
    },
    {
     "output_type": "stream",
     "name": "stdout",
     "text": [
      "Epoch [2035/6000]: Train loss: 2.0648, Valid loss: 1.8653\n"
     ]
    },
    {
     "output_type": "stream",
     "name": "stderr",
     "text": [
      "Epoch [2037/6000]: 100%|██████████| 17/17 [00:00<00:00, 131.80it/s, loss=2.36]\n"
     ]
    },
    {
     "output_type": "stream",
     "name": "stdout",
     "text": [
      "Epoch [2037/6000]: Train loss: 2.0648, Valid loss: 1.8263\n"
     ]
    },
    {
     "output_type": "stream",
     "name": "stderr",
     "text": [
      "Epoch [2038/6000]: 100%|██████████| 17/17 [00:00<00:00, 109.51it/s, loss=1.81]\n"
     ]
    },
    {
     "output_type": "stream",
     "name": "stdout",
     "text": [
      "Epoch [2038/6000]: Train loss: 2.0612, Valid loss: 1.7962\n"
     ]
    },
    {
     "output_type": "stream",
     "name": "stderr",
     "text": [
      "Epoch [2039/6000]: 100%|██████████| 17/17 [00:00<00:00, 119.86it/s, loss=2.32]\n"
     ]
    },
    {
     "output_type": "stream",
     "name": "stdout",
     "text": [
      "Epoch [2039/6000]: Train loss: 2.0639, Valid loss: 1.9600\n"
     ]
    },
    {
     "output_type": "stream",
     "name": "stderr",
     "text": [
      "Epoch [2040/6000]: 100%|██████████| 17/17 [00:00<00:00, 116.73it/s, loss=1.51]\n"
     ]
    },
    {
     "output_type": "stream",
     "name": "stdout",
     "text": [
      "Epoch [2040/6000]: Train loss: 2.0572, Valid loss: 1.8016\n"
     ]
    },
    {
     "output_type": "stream",
     "name": "stderr",
     "text": [
      "Epoch [2041/6000]: 100%|██████████| 17/17 [00:00<00:00, 115.09it/s, loss=2.33]\n"
     ]
    },
    {
     "output_type": "stream",
     "name": "stdout",
     "text": [
      "Epoch [2041/6000]: Train loss: 2.0627, Valid loss: 1.8184\n"
     ]
    },
    {
     "output_type": "stream",
     "name": "stderr",
     "text": [
      "Epoch [2042/6000]: 100%|██████████| 17/17 [00:00<00:00, 119.99it/s, loss=1.95]\n"
     ]
    },
    {
     "output_type": "stream",
     "name": "stdout",
     "text": [
      "Epoch [2042/6000]: Train loss: 2.0588, Valid loss: 1.9160\n"
     ]
    },
    {
     "output_type": "stream",
     "name": "stderr",
     "text": [
      "Epoch [2043/6000]: 100%|██████████| 17/17 [00:00<00:00, 110.60it/s, loss=2.43]\n"
     ]
    },
    {
     "output_type": "stream",
     "name": "stdout",
     "text": [
      "Epoch [2043/6000]: Train loss: 2.0629, Valid loss: 1.8455\n"
     ]
    },
    {
     "output_type": "stream",
     "name": "stderr",
     "text": [
      "Epoch [2044/6000]: 100%|██████████| 17/17 [00:00<00:00, 119.27it/s, loss=2.34]\n"
     ]
    },
    {
     "output_type": "stream",
     "name": "stdout",
     "text": [
      "Epoch [2044/6000]: Train loss: 2.0609, Valid loss: 1.9130\n"
     ]
    },
    {
     "output_type": "stream",
     "name": "stderr",
     "text": [
      "Epoch [2045/6000]: 100%|██████████| 17/17 [00:00<00:00, 123.12it/s, loss=2.21]\n"
     ]
    },
    {
     "output_type": "stream",
     "name": "stdout",
     "text": [
      "Epoch [2045/6000]: Train loss: 2.0594, Valid loss: 1.7949\n"
     ]
    },
    {
     "output_type": "stream",
     "name": "stderr",
     "text": [
      "Epoch [2046/6000]: 100%|██████████| 17/17 [00:00<00:00, 124.06it/s, loss=2.39]\n"
     ]
    },
    {
     "output_type": "stream",
     "name": "stdout",
     "text": [
      "Epoch [2046/6000]: Train loss: 2.0608, Valid loss: 2.4059\n"
     ]
    },
    {
     "output_type": "stream",
     "name": "stderr",
     "text": [
      "Epoch [2047/6000]: 100%|██████████| 17/17 [00:00<00:00, 113.92it/s, loss=2.13]\n"
     ]
    },
    {
     "output_type": "stream",
     "name": "stdout",
     "text": [
      "Epoch [2047/6000]: Train loss: 2.0579, Valid loss: 1.7978\n"
     ]
    },
    {
     "output_type": "stream",
     "name": "stderr",
     "text": [
      "Epoch [2048/6000]: 100%|██████████| 17/17 [00:00<00:00, 122.11it/s, loss=2.2]\n"
     ]
    },
    {
     "output_type": "stream",
     "name": "stdout",
     "text": [
      "Epoch [2048/6000]: Train loss: 2.0576, Valid loss: 2.1183\n"
     ]
    },
    {
     "output_type": "stream",
     "name": "stderr",
     "text": [
      "Epoch [2049/6000]: 100%|██████████| 17/17 [00:00<00:00, 120.05it/s, loss=2.54]\n"
     ]
    },
    {
     "output_type": "stream",
     "name": "stdout",
     "text": [
      "Epoch [2049/6000]: Train loss: 2.0599, Valid loss: 1.8153\n"
     ]
    },
    {
     "output_type": "stream",
     "name": "stderr",
     "text": [
      "Epoch [2052/6000]: 100%|██████████| 17/17 [00:00<00:00, 113.59it/s, loss=2]\n"
     ]
    },
    {
     "output_type": "stream",
     "name": "stdout",
     "text": [
      "Epoch [2052/6000]: Train loss: 2.0551, Valid loss: 1.8358\n"
     ]
    },
    {
     "output_type": "stream",
     "name": "stderr",
     "text": [
      "Epoch [2053/6000]: 100%|██████████| 17/17 [00:00<00:00, 141.61it/s, loss=1.78]\n"
     ]
    },
    {
     "output_type": "stream",
     "name": "stdout",
     "text": [
      "Epoch [2053/6000]: Train loss: 2.0529, Valid loss: 1.8011\n"
     ]
    },
    {
     "output_type": "stream",
     "name": "stderr",
     "text": [
      "Epoch [2054/6000]: 100%|██████████| 17/17 [00:00<00:00, 136.67it/s, loss=1.74]\n"
     ]
    },
    {
     "output_type": "stream",
     "name": "stdout",
     "text": [
      "Epoch [2054/6000]: Train loss: 2.0511, Valid loss: 1.7998\n"
     ]
    },
    {
     "output_type": "stream",
     "name": "stderr",
     "text": [
      "Epoch [2055/6000]: 100%|██████████| 17/17 [00:00<00:00, 137.91it/s, loss=2.16]\n"
     ]
    },
    {
     "output_type": "stream",
     "name": "stdout",
     "text": [
      "Epoch [2055/6000]: Train loss: 2.0541, Valid loss: 1.8644\n"
     ]
    },
    {
     "output_type": "stream",
     "name": "stderr",
     "text": [
      "Epoch [2056/6000]: 100%|██████████| 17/17 [00:00<00:00, 124.96it/s, loss=2.17]\n"
     ]
    },
    {
     "output_type": "stream",
     "name": "stdout",
     "text": [
      "Epoch [2056/6000]: Train loss: 2.0537, Valid loss: 1.8650\n"
     ]
    },
    {
     "output_type": "stream",
     "name": "stderr",
     "text": [
      "Epoch [2057/6000]: 100%|██████████| 17/17 [00:00<00:00, 123.52it/s, loss=3.04]\n"
     ]
    },
    {
     "output_type": "stream",
     "name": "stdout",
     "text": [
      "Epoch [2057/6000]: Train loss: 2.0592, Valid loss: 2.2693\n"
     ]
    },
    {
     "output_type": "stream",
     "name": "stderr",
     "text": [
      "Epoch [2058/6000]: 100%|██████████| 17/17 [00:00<00:00, 129.10it/s, loss=2.31]\n"
     ]
    },
    {
     "output_type": "stream",
     "name": "stdout",
     "text": [
      "Epoch [2058/6000]: Train loss: 2.0535, Valid loss: 1.7818\n"
     ]
    },
    {
     "output_type": "stream",
     "name": "stderr",
     "text": [
      "Epoch [2059/6000]: 100%|██████████| 17/17 [00:00<00:00, 126.39it/s, loss=1.79]\n"
     ]
    },
    {
     "output_type": "stream",
     "name": "stdout",
     "text": [
      "Epoch [2059/6000]: Train loss: 2.0492, Valid loss: 1.7984\n"
     ]
    },
    {
     "output_type": "stream",
     "name": "stderr",
     "text": [
      "Epoch [2060/6000]: 100%|██████████| 17/17 [00:00<00:00, 128.53it/s, loss=1.74]\n"
     ]
    },
    {
     "output_type": "stream",
     "name": "stdout",
     "text": [
      "Epoch [2060/6000]: Train loss: 2.0485, Valid loss: 1.9352\n"
     ]
    },
    {
     "output_type": "stream",
     "name": "stderr",
     "text": [
      "Epoch [2061/6000]: 100%|██████████| 17/17 [00:00<00:00, 129.41it/s, loss=2.3]\n"
     ]
    },
    {
     "output_type": "stream",
     "name": "stdout",
     "text": [
      "Epoch [2061/6000]: Train loss: 2.0522, Valid loss: 1.8039\n"
     ]
    },
    {
     "output_type": "stream",
     "name": "stderr",
     "text": [
      "Epoch [2062/6000]: 100%|██████████| 17/17 [00:00<00:00, 126.08it/s, loss=1.55]\n"
     ]
    },
    {
     "output_type": "stream",
     "name": "stdout",
     "text": [
      "Epoch [2062/6000]: Train loss: 2.0459, Valid loss: 1.7993\n"
     ]
    },
    {
     "output_type": "stream",
     "name": "stderr",
     "text": [
      "Epoch [2063/6000]: 100%|██████████| 17/17 [00:00<00:00, 123.67it/s, loss=2.55]\n"
     ]
    },
    {
     "output_type": "stream",
     "name": "stdout",
     "text": [
      "Epoch [2063/6000]: Train loss: 2.0529, Valid loss: 1.8183\n"
     ]
    },
    {
     "output_type": "stream",
     "name": "stderr",
     "text": [
      "Epoch [2066/6000]: 100%|██████████| 17/17 [00:00<00:00, 133.51it/s, loss=2.15]\n"
     ]
    },
    {
     "output_type": "stream",
     "name": "stdout",
     "text": [
      "Epoch [2066/6000]: Train loss: 2.0487, Valid loss: 1.8854\n"
     ]
    },
    {
     "output_type": "stream",
     "name": "stderr",
     "text": [
      "Epoch [2067/6000]: 100%|██████████| 17/17 [00:00<00:00, 134.24it/s, loss=2.34]\n"
     ]
    },
    {
     "output_type": "stream",
     "name": "stdout",
     "text": [
      "Epoch [2067/6000]: Train loss: 2.0501, Valid loss: 1.7650\n"
     ]
    },
    {
     "output_type": "stream",
     "name": "stderr",
     "text": [
      "Epoch [2068/6000]: 100%|██████████| 17/17 [00:00<00:00, 143.65it/s, loss=1.34]\n"
     ]
    },
    {
     "output_type": "stream",
     "name": "stdout",
     "text": [
      "Epoch [2068/6000]: Train loss: 2.0436, Valid loss: 1.8128\n"
     ]
    },
    {
     "output_type": "stream",
     "name": "stderr",
     "text": [
      "Epoch [2069/6000]: 100%|██████████| 17/17 [00:00<00:00, 127.70it/s, loss=1.82]\n"
     ]
    },
    {
     "output_type": "stream",
     "name": "stdout",
     "text": [
      "Epoch [2069/6000]: Train loss: 2.0445, Valid loss: 1.7822\n"
     ]
    },
    {
     "output_type": "stream",
     "name": "stderr",
     "text": [
      "Epoch [2070/6000]: 100%|██████████| 17/17 [00:00<00:00, 128.57it/s, loss=2.1]\n"
     ]
    },
    {
     "output_type": "stream",
     "name": "stdout",
     "text": [
      "Epoch [2070/6000]: Train loss: 2.0473, Valid loss: 1.7352\n"
     ]
    },
    {
     "output_type": "stream",
     "name": "stderr",
     "text": [
      "Epoch [2071/6000]: 100%|██████████| 17/17 [00:00<00:00, 128.59it/s, loss=1.81]\n"
     ]
    },
    {
     "output_type": "stream",
     "name": "stdout",
     "text": [
      "Epoch [2071/6000]: Train loss: 2.0435, Valid loss: 1.9637\n"
     ]
    },
    {
     "output_type": "stream",
     "name": "stderr",
     "text": [
      "Epoch [2072/6000]: 100%|██████████| 17/17 [00:00<00:00, 109.01it/s, loss=2.5]\n"
     ]
    },
    {
     "output_type": "stream",
     "name": "stdout",
     "text": [
      "Epoch [2072/6000]: Train loss: 2.0480, Valid loss: 1.9401\n"
     ]
    },
    {
     "output_type": "stream",
     "name": "stderr",
     "text": [
      "Epoch [2073/6000]: 100%|██████████| 17/17 [00:00<00:00, 131.63it/s, loss=1.73]\n"
     ]
    },
    {
     "output_type": "stream",
     "name": "stdout",
     "text": [
      "Epoch [2073/6000]: Train loss: 2.0421, Valid loss: 1.8797\n"
     ]
    },
    {
     "output_type": "stream",
     "name": "stderr",
     "text": [
      "Epoch [2074/6000]: 100%|██████████| 17/17 [00:00<00:00, 127.28it/s, loss=2.31]\n"
     ]
    },
    {
     "output_type": "stream",
     "name": "stdout",
     "text": [
      "Epoch [2074/6000]: Train loss: 2.0465, Valid loss: 1.9029\n"
     ]
    },
    {
     "output_type": "stream",
     "name": "stderr",
     "text": [
      "Epoch [2075/6000]: 100%|██████████| 17/17 [00:00<00:00, 128.42it/s, loss=1.6]\n"
     ]
    },
    {
     "output_type": "stream",
     "name": "stdout",
     "text": [
      "Epoch [2075/6000]: Train loss: 2.0405, Valid loss: 2.0284\n"
     ]
    },
    {
     "output_type": "stream",
     "name": "stderr",
     "text": [
      "Epoch [2076/6000]: 100%|██████████| 17/17 [00:00<00:00, 114.55it/s, loss=1.15]\n"
     ]
    },
    {
     "output_type": "stream",
     "name": "stdout",
     "text": [
      "Epoch [2076/6000]: Train loss: 2.0364, Valid loss: 1.8977\n"
     ]
    },
    {
     "output_type": "stream",
     "name": "stderr",
     "text": [
      "Epoch [2077/6000]: 100%|██████████| 17/17 [00:00<00:00, 124.41it/s, loss=2.2]\n"
     ]
    },
    {
     "output_type": "stream",
     "name": "stdout",
     "text": [
      "Epoch [2077/6000]: Train loss: 2.0438, Valid loss: 1.8921\n"
     ]
    },
    {
     "output_type": "stream",
     "name": "stderr",
     "text": [
      "Epoch [2078/6000]: 100%|██████████| 17/17 [00:00<00:00, 127.83it/s, loss=2.3]\n"
     ]
    },
    {
     "output_type": "stream",
     "name": "stdout",
     "text": [
      "Epoch [2078/6000]: Train loss: 2.0445, Valid loss: 1.8772\n"
     ]
    },
    {
     "output_type": "stream",
     "name": "stderr",
     "text": [
      "Epoch [2081/6000]: 100%|██████████| 17/17 [00:00<00:00, 132.23it/s, loss=1.89]\n"
     ]
    },
    {
     "output_type": "stream",
     "name": "stdout",
     "text": [
      "Epoch [2081/6000]: Train loss: 2.0402, Valid loss: 1.8957\n"
     ]
    },
    {
     "output_type": "stream",
     "name": "stderr",
     "text": [
      "Epoch [2082/6000]: 100%|██████████| 17/17 [00:00<00:00, 139.04it/s, loss=1.78]\n"
     ]
    },
    {
     "output_type": "stream",
     "name": "stdout",
     "text": [
      "Epoch [2082/6000]: Train loss: 2.0389, Valid loss: 2.0605\n"
     ]
    },
    {
     "output_type": "stream",
     "name": "stderr",
     "text": [
      "Epoch [2083/6000]: 100%|██████████| 17/17 [00:00<00:00, 117.78it/s, loss=1.82]\n"
     ]
    },
    {
     "output_type": "stream",
     "name": "stdout",
     "text": [
      "Epoch [2083/6000]: Train loss: 2.0382, Valid loss: 1.7889\n"
     ]
    },
    {
     "output_type": "stream",
     "name": "stderr",
     "text": [
      "Epoch [2084/6000]: 100%|██████████| 17/17 [00:00<00:00, 134.77it/s, loss=2.02]\n"
     ]
    },
    {
     "output_type": "stream",
     "name": "stdout",
     "text": [
      "Epoch [2084/6000]: Train loss: 2.0391, Valid loss: 1.8122\n"
     ]
    },
    {
     "output_type": "stream",
     "name": "stderr",
     "text": [
      "Epoch [2085/6000]: 100%|██████████| 17/17 [00:00<00:00, 142.28it/s, loss=2.09]\n"
     ]
    },
    {
     "output_type": "stream",
     "name": "stdout",
     "text": [
      "Epoch [2085/6000]: Train loss: 2.0398, Valid loss: 1.8807\n"
     ]
    },
    {
     "output_type": "stream",
     "name": "stderr",
     "text": [
      "Epoch [2086/6000]: 100%|██████████| 17/17 [00:00<00:00, 128.77it/s, loss=2.26]\n"
     ]
    },
    {
     "output_type": "stream",
     "name": "stdout",
     "text": [
      "Epoch [2086/6000]: Train loss: 2.0402, Valid loss: 1.7345\n"
     ]
    },
    {
     "output_type": "stream",
     "name": "stderr",
     "text": [
      "Epoch [2087/6000]: 100%|██████████| 17/17 [00:00<00:00, 131.02it/s, loss=1.87]\n"
     ]
    },
    {
     "output_type": "stream",
     "name": "stdout",
     "text": [
      "Epoch [2087/6000]: Train loss: 2.0367, Valid loss: 1.8445\n"
     ]
    },
    {
     "output_type": "stream",
     "name": "stderr",
     "text": [
      "Epoch [2088/6000]: 100%|██████████| 17/17 [00:00<00:00, 127.52it/s, loss=2.14]\n"
     ]
    },
    {
     "output_type": "stream",
     "name": "stdout",
     "text": [
      "Epoch [2088/6000]: Train loss: 2.0391, Valid loss: 1.9705\n"
     ]
    },
    {
     "output_type": "stream",
     "name": "stderr",
     "text": [
      "Epoch [2089/6000]: 100%|██████████| 17/17 [00:00<00:00, 111.27it/s, loss=1.94]\n"
     ]
    },
    {
     "output_type": "stream",
     "name": "stdout",
     "text": [
      "Epoch [2089/6000]: Train loss: 2.0364, Valid loss: 1.8764\n"
     ]
    },
    {
     "output_type": "stream",
     "name": "stderr",
     "text": [
      "Epoch [2090/6000]: 100%|██████████| 17/17 [00:00<00:00, 116.67it/s, loss=1.94]\n"
     ]
    },
    {
     "output_type": "stream",
     "name": "stdout",
     "text": [
      "Epoch [2090/6000]: Train loss: 2.0358, Valid loss: 1.9430\n"
     ]
    },
    {
     "output_type": "stream",
     "name": "stderr",
     "text": [
      "Epoch [2091/6000]: 100%|██████████| 17/17 [00:00<00:00, 116.41it/s, loss=1.63]\n"
     ]
    },
    {
     "output_type": "stream",
     "name": "stdout",
     "text": [
      "Epoch [2091/6000]: Train loss: 2.0330, Valid loss: 1.9007\n"
     ]
    },
    {
     "output_type": "stream",
     "name": "stderr",
     "text": [
      "Epoch [2092/6000]: 100%|██████████| 17/17 [00:00<00:00, 115.89it/s, loss=1.34]\n"
     ]
    },
    {
     "output_type": "stream",
     "name": "stdout",
     "text": [
      "Epoch [2092/6000]: Train loss: 2.0307, Valid loss: 1.9267\n"
     ]
    },
    {
     "output_type": "stream",
     "name": "stderr",
     "text": [
      "Epoch [2093/6000]: 100%|██████████| 17/17 [00:00<00:00, 119.98it/s, loss=2.69]\n"
     ]
    },
    {
     "output_type": "stream",
     "name": "stdout",
     "text": [
      "Epoch [2093/6000]: Train loss: 2.0401, Valid loss: 1.8332\n"
     ]
    },
    {
     "output_type": "stream",
     "name": "stderr",
     "text": [
      "Epoch [2094/6000]: 100%|██████████| 17/17 [00:00<00:00, 115.40it/s, loss=2.16]\n"
     ]
    },
    {
     "output_type": "stream",
     "name": "stdout",
     "text": [
      "Epoch [2094/6000]: Train loss: 2.0354, Valid loss: 1.7697\n"
     ]
    },
    {
     "output_type": "stream",
     "name": "stderr",
     "text": [
      "Epoch [2095/6000]: 100%|██████████| 17/17 [00:00<00:00, 116.30it/s, loss=1.96]\n"
     ]
    },
    {
     "output_type": "stream",
     "name": "stdout",
     "text": [
      "Epoch [2095/6000]: Train loss: 2.0343, Valid loss: 2.0148\n"
     ]
    },
    {
     "output_type": "stream",
     "name": "stderr",
     "text": [
      "Epoch [2096/6000]: 100%|██████████| 17/17 [00:00<00:00, 120.90it/s, loss=2.22]\n"
     ]
    },
    {
     "output_type": "stream",
     "name": "stdout",
     "text": [
      "Epoch [2096/6000]: Train loss: 2.0350, Valid loss: 1.9336\n"
     ]
    },
    {
     "output_type": "stream",
     "name": "stderr",
     "text": [
      "Epoch [2097/6000]: 100%|██████████| 17/17 [00:00<00:00, 125.37it/s, loss=1.49]\n"
     ]
    },
    {
     "output_type": "stream",
     "name": "stdout",
     "text": [
      "Epoch [2097/6000]: Train loss: 2.0294, Valid loss: 1.7417\n"
     ]
    },
    {
     "output_type": "stream",
     "name": "stderr",
     "text": [
      "Epoch [2098/6000]: 100%|██████████| 17/17 [00:00<00:00, 130.69it/s, loss=1.92]\n"
     ]
    },
    {
     "output_type": "stream",
     "name": "stdout",
     "text": [
      "Epoch [2098/6000]: Train loss: 2.0317, Valid loss: 1.9313\n"
     ]
    },
    {
     "output_type": "stream",
     "name": "stderr",
     "text": [
      "Epoch [2099/6000]: 100%|██████████| 17/17 [00:00<00:00, 116.10it/s, loss=2.19]\n"
     ]
    },
    {
     "output_type": "stream",
     "name": "stdout",
     "text": [
      "Epoch [2099/6000]: Train loss: 2.0334, Valid loss: 1.7699\n"
     ]
    },
    {
     "output_type": "stream",
     "name": "stderr",
     "text": [
      "Epoch [2100/6000]: 100%|██████████| 17/17 [00:00<00:00, 127.99it/s, loss=2.06]\n"
     ]
    },
    {
     "output_type": "stream",
     "name": "stdout",
     "text": [
      "Epoch [2100/6000]: Train loss: 2.0323, Valid loss: 1.6970\n",
      "Saving model with loss 1.697...\n"
     ]
    },
    {
     "output_type": "stream",
     "name": "stderr",
     "text": [
      "Epoch [2101/6000]: 100%|██████████| 17/17 [00:00<00:00, 111.93it/s, loss=1.79]\n"
     ]
    },
    {
     "output_type": "stream",
     "name": "stdout",
     "text": [
      "Epoch [2101/6000]: Train loss: 2.0296, Valid loss: 1.8220\n"
     ]
    },
    {
     "output_type": "stream",
     "name": "stderr",
     "text": [
      "Epoch [2102/6000]: 100%|██████████| 17/17 [00:00<00:00, 114.09it/s, loss=1.86]\n"
     ]
    },
    {
     "output_type": "stream",
     "name": "stdout",
     "text": [
      "Epoch [2102/6000]: Train loss: 2.0296, Valid loss: 1.9008\n"
     ]
    },
    {
     "output_type": "stream",
     "name": "stderr",
     "text": [
      "Epoch [2103/6000]: 100%|██████████| 17/17 [00:00<00:00, 117.34it/s, loss=1.98]\n"
     ]
    },
    {
     "output_type": "stream",
     "name": "stdout",
     "text": [
      "Epoch [2103/6000]: Train loss: 2.0314, Valid loss: 1.8196\n"
     ]
    },
    {
     "output_type": "stream",
     "name": "stderr",
     "text": [
      "Epoch [2104/6000]: 100%|██████████| 17/17 [00:00<00:00, 117.41it/s, loss=2.26]\n"
     ]
    },
    {
     "output_type": "stream",
     "name": "stdout",
     "text": [
      "Epoch [2104/6000]: Train loss: 2.0340, Valid loss: 1.8804\n"
     ]
    },
    {
     "output_type": "stream",
     "name": "stderr",
     "text": [
      "Epoch [2105/6000]: 100%|██████████| 17/17 [00:00<00:00, 112.83it/s, loss=1.96]\n"
     ]
    },
    {
     "output_type": "stream",
     "name": "stdout",
     "text": [
      "Epoch [2105/6000]: Train loss: 2.0294, Valid loss: 1.9114\n"
     ]
    },
    {
     "output_type": "stream",
     "name": "stderr",
     "text": [
      "Epoch [2106/6000]: 100%|██████████| 17/17 [00:00<00:00, 114.01it/s, loss=1.71]\n"
     ]
    },
    {
     "output_type": "stream",
     "name": "stdout",
     "text": [
      "Epoch [2106/6000]: Train loss: 2.0288, Valid loss: 1.7685\n"
     ]
    },
    {
     "output_type": "stream",
     "name": "stderr",
     "text": [
      "Epoch [2107/6000]: 100%|██████████| 17/17 [00:00<00:00, 123.27it/s, loss=2.05]\n"
     ]
    },
    {
     "output_type": "stream",
     "name": "stdout",
     "text": [
      "Epoch [2107/6000]: Train loss: 2.0288, Valid loss: 1.7475\n"
     ]
    },
    {
     "output_type": "stream",
     "name": "stderr",
     "text": [
      "Epoch [2108/6000]: 100%|██████████| 17/17 [00:00<00:00, 105.56it/s, loss=1.88]\n"
     ]
    },
    {
     "output_type": "stream",
     "name": "stdout",
     "text": [
      "Epoch [2108/6000]: Train loss: 2.0272, Valid loss: 1.8179\n"
     ]
    },
    {
     "output_type": "stream",
     "name": "stderr",
     "text": [
      "Epoch [2109/6000]: 100%|██████████| 17/17 [00:00<00:00, 115.45it/s, loss=1.45]\n"
     ]
    },
    {
     "output_type": "stream",
     "name": "stdout",
     "text": [
      "Epoch [2109/6000]: Train loss: 2.0236, Valid loss: 1.8778\n"
     ]
    },
    {
     "output_type": "stream",
     "name": "stderr",
     "text": [
      "Epoch [2110/6000]: 100%|██████████| 17/17 [00:00<00:00, 118.23it/s, loss=2.23]\n"
     ]
    },
    {
     "output_type": "stream",
     "name": "stdout",
     "text": [
      "Epoch [2110/6000]: Train loss: 2.0290, Valid loss: 1.9817\n"
     ]
    },
    {
     "output_type": "stream",
     "name": "stderr",
     "text": [
      "Epoch [2111/6000]: 100%|██████████| 17/17 [00:00<00:00, 112.30it/s, loss=1.79]\n"
     ]
    },
    {
     "output_type": "stream",
     "name": "stdout",
     "text": [
      "Epoch [2111/6000]: Train loss: 2.0256, Valid loss: 1.8078\n"
     ]
    },
    {
     "output_type": "stream",
     "name": "stderr",
     "text": [
      "Epoch [2112/6000]: 100%|██████████| 17/17 [00:00<00:00, 116.55it/s, loss=2.13]\n"
     ]
    },
    {
     "output_type": "stream",
     "name": "stdout",
     "text": [
      "Epoch [2112/6000]: Train loss: 2.0272, Valid loss: 1.8938\n"
     ]
    },
    {
     "output_type": "stream",
     "name": "stderr",
     "text": [
      "Epoch [2113/6000]: 100%|██████████| 17/17 [00:00<00:00, 115.43it/s, loss=1.76]\n"
     ]
    },
    {
     "output_type": "stream",
     "name": "stdout",
     "text": [
      "Epoch [2113/6000]: Train loss: 2.0243, Valid loss: 1.6983\n"
     ]
    },
    {
     "output_type": "stream",
     "name": "stderr",
     "text": [
      "Epoch [2114/6000]: 100%|██████████| 17/17 [00:00<00:00, 117.05it/s, loss=2.11]\n"
     ]
    },
    {
     "output_type": "stream",
     "name": "stdout",
     "text": [
      "Epoch [2114/6000]: Train loss: 2.0266, Valid loss: 1.7755\n"
     ]
    },
    {
     "output_type": "stream",
     "name": "stderr",
     "text": [
      "Epoch [2115/6000]: 100%|██████████| 17/17 [00:00<00:00, 120.25it/s, loss=1.46]\n"
     ]
    },
    {
     "output_type": "stream",
     "name": "stdout",
     "text": [
      "Epoch [2115/6000]: Train loss: 2.0208, Valid loss: 1.7238\n"
     ]
    },
    {
     "output_type": "stream",
     "name": "stderr",
     "text": [
      "Epoch [2116/6000]: 100%|██████████| 17/17 [00:00<00:00, 118.40it/s, loss=1.98]\n"
     ]
    },
    {
     "output_type": "stream",
     "name": "stdout",
     "text": [
      "Epoch [2116/6000]: Train loss: 2.0252, Valid loss: 1.8636\n"
     ]
    },
    {
     "output_type": "stream",
     "name": "stderr",
     "text": [
      "Epoch [2117/6000]: 100%|██████████| 17/17 [00:00<00:00, 113.52it/s, loss=1.98]\n"
     ]
    },
    {
     "output_type": "stream",
     "name": "stdout",
     "text": [
      "Epoch [2117/6000]: Train loss: 2.0239, Valid loss: 2.0992\n"
     ]
    },
    {
     "output_type": "stream",
     "name": "stderr",
     "text": [
      "Epoch [2118/6000]: 100%|██████████| 17/17 [00:00<00:00, 116.82it/s, loss=2.05]\n"
     ]
    },
    {
     "output_type": "stream",
     "name": "stdout",
     "text": [
      "Epoch [2118/6000]: Train loss: 2.0242, Valid loss: 1.8220\n"
     ]
    },
    {
     "output_type": "stream",
     "name": "stderr",
     "text": [
      "Epoch [2119/6000]: 100%|██████████| 17/17 [00:00<00:00, 111.38it/s, loss=1.8]\n"
     ]
    },
    {
     "output_type": "stream",
     "name": "stdout",
     "text": [
      "Epoch [2119/6000]: Train loss: 2.0217, Valid loss: 1.7536\n"
     ]
    },
    {
     "output_type": "stream",
     "name": "stderr",
     "text": [
      "Epoch [2125/6000]: 100%|██████████| 17/17 [00:00<00:00, 103.43it/s, loss=2.53]\n"
     ]
    },
    {
     "output_type": "stream",
     "name": "stdout",
     "text": [
      "Epoch [2125/6000]: Train loss: 2.0245, Valid loss: 1.8148\n"
     ]
    },
    {
     "output_type": "stream",
     "name": "stderr",
     "text": [
      "Epoch [2126/6000]: 100%|██████████| 17/17 [00:00<00:00, 120.24it/s, loss=1.78]\n"
     ]
    },
    {
     "output_type": "stream",
     "name": "stdout",
     "text": [
      "Epoch [2126/6000]: Train loss: 2.0190, Valid loss: 1.8948\n"
     ]
    },
    {
     "output_type": "stream",
     "name": "stderr",
     "text": [
      "Epoch [2127/6000]: 100%|██████████| 17/17 [00:00<00:00, 129.21it/s, loss=2]\n"
     ]
    },
    {
     "output_type": "stream",
     "name": "stdout",
     "text": [
      "Epoch [2127/6000]: Train loss: 2.0197, Valid loss: 2.0701\n"
     ]
    },
    {
     "output_type": "stream",
     "name": "stderr",
     "text": [
      "Epoch [2128/6000]: 100%|██████████| 17/17 [00:00<00:00, 109.95it/s, loss=1.69]\n"
     ]
    },
    {
     "output_type": "stream",
     "name": "stdout",
     "text": [
      "Epoch [2128/6000]: Train loss: 2.0170, Valid loss: 1.7593\n"
     ]
    },
    {
     "output_type": "stream",
     "name": "stderr",
     "text": [
      "Epoch [2129/6000]: 100%|██████████| 17/17 [00:00<00:00, 125.63it/s, loss=1.6]\n"
     ]
    },
    {
     "output_type": "stream",
     "name": "stdout",
     "text": [
      "Epoch [2129/6000]: Train loss: 2.0159, Valid loss: 2.1612\n"
     ]
    },
    {
     "output_type": "stream",
     "name": "stderr",
     "text": [
      "Epoch [2130/6000]: 100%|██████████| 17/17 [00:00<00:00, 105.80it/s, loss=1.93]\n"
     ]
    },
    {
     "output_type": "stream",
     "name": "stdout",
     "text": [
      "Epoch [2130/6000]: Train loss: 2.0179, Valid loss: 1.8361\n"
     ]
    },
    {
     "output_type": "stream",
     "name": "stderr",
     "text": [
      "Epoch [2131/6000]: 100%|██████████| 17/17 [00:00<00:00, 110.63it/s, loss=2.64]\n"
     ]
    },
    {
     "output_type": "stream",
     "name": "stdout",
     "text": [
      "Epoch [2131/6000]: Train loss: 2.0230, Valid loss: 1.7765\n"
     ]
    },
    {
     "output_type": "stream",
     "name": "stderr",
     "text": [
      "Epoch [2132/6000]: 100%|██████████| 17/17 [00:00<00:00, 117.39it/s, loss=1.92]\n"
     ]
    },
    {
     "output_type": "stream",
     "name": "stdout",
     "text": [
      "Epoch [2132/6000]: Train loss: 2.0167, Valid loss: 1.8295\n"
     ]
    },
    {
     "output_type": "stream",
     "name": "stderr",
     "text": [
      "Epoch [2133/6000]: 100%|██████████| 17/17 [00:00<00:00, 120.26it/s, loss=2.21]\n"
     ]
    },
    {
     "output_type": "stream",
     "name": "stdout",
     "text": [
      "Epoch [2133/6000]: Train loss: 2.0185, Valid loss: 2.0610\n"
     ]
    },
    {
     "output_type": "stream",
     "name": "stderr",
     "text": [
      "Epoch [2134/6000]: 100%|██████████| 17/17 [00:00<00:00, 119.87it/s, loss=1.9]\n"
     ]
    },
    {
     "output_type": "stream",
     "name": "stdout",
     "text": [
      "Epoch [2134/6000]: Train loss: 2.0159, Valid loss: 1.8839\n"
     ]
    },
    {
     "output_type": "stream",
     "name": "stderr",
     "text": [
      "Epoch [2135/6000]: 100%|██████████| 17/17 [00:00<00:00, 115.44it/s, loss=2.5]\n"
     ]
    },
    {
     "output_type": "stream",
     "name": "stdout",
     "text": [
      "Epoch [2135/6000]: Train loss: 2.0199, Valid loss: 1.7554\n"
     ]
    },
    {
     "output_type": "stream",
     "name": "stderr",
     "text": [
      "Epoch [2136/6000]: 100%|██████████| 17/17 [00:00<00:00, 111.85it/s, loss=1.95]\n"
     ]
    },
    {
     "output_type": "stream",
     "name": "stdout",
     "text": [
      "Epoch [2136/6000]: Train loss: 2.0152, Valid loss: 1.7604\n"
     ]
    },
    {
     "output_type": "stream",
     "name": "stderr",
     "text": [
      "Epoch [2137/6000]: 100%|██████████| 17/17 [00:00<00:00, 112.23it/s, loss=1.98]\n"
     ]
    },
    {
     "output_type": "stream",
     "name": "stdout",
     "text": [
      "Epoch [2137/6000]: Train loss: 2.0153, Valid loss: 1.9396\n"
     ]
    },
    {
     "output_type": "stream",
     "name": "stderr",
     "text": [
      "Epoch [2141/6000]: 100%|██████████| 17/17 [00:00<00:00, 124.54it/s, loss=2.29]\n"
     ]
    },
    {
     "output_type": "stream",
     "name": "stdout",
     "text": [
      "Epoch [2141/6000]: Train loss: 2.0158, Valid loss: 1.8802\n"
     ]
    },
    {
     "output_type": "stream",
     "name": "stderr",
     "text": [
      "Epoch [2142/6000]: 100%|██████████| 17/17 [00:00<00:00, 130.11it/s, loss=2.24]\n"
     ]
    },
    {
     "output_type": "stream",
     "name": "stdout",
     "text": [
      "Epoch [2142/6000]: Train loss: 2.0149, Valid loss: 1.9488\n"
     ]
    },
    {
     "output_type": "stream",
     "name": "stderr",
     "text": [
      "Epoch [2143/6000]: 100%|██████████| 17/17 [00:00<00:00, 96.86it/s, loss=1.79]\n"
     ]
    },
    {
     "output_type": "stream",
     "name": "stdout",
     "text": [
      "Epoch [2143/6000]: Train loss: 2.0111, Valid loss: 1.7179\n"
     ]
    },
    {
     "output_type": "stream",
     "name": "stderr",
     "text": [
      "Epoch [2144/6000]: 100%|██████████| 17/17 [00:00<00:00, 108.08it/s, loss=2.25]\n"
     ]
    },
    {
     "output_type": "stream",
     "name": "stdout",
     "text": [
      "Epoch [2144/6000]: Train loss: 2.0140, Valid loss: 1.7949\n"
     ]
    },
    {
     "output_type": "stream",
     "name": "stderr",
     "text": [
      "Epoch [2145/6000]: 100%|██████████| 17/17 [00:00<00:00, 125.28it/s, loss=2.24]\n"
     ]
    },
    {
     "output_type": "stream",
     "name": "stdout",
     "text": [
      "Epoch [2145/6000]: Train loss: 2.0139, Valid loss: 1.7640\n"
     ]
    },
    {
     "output_type": "stream",
     "name": "stderr",
     "text": [
      "Epoch [2146/6000]: 100%|██████████| 17/17 [00:00<00:00, 114.19it/s, loss=1.8]\n"
     ]
    },
    {
     "output_type": "stream",
     "name": "stdout",
     "text": [
      "Epoch [2146/6000]: Train loss: 2.0101, Valid loss: 1.6425\n",
      "Saving model with loss 1.643...\n"
     ]
    },
    {
     "output_type": "stream",
     "name": "stderr",
     "text": [
      "Epoch [2147/6000]: 100%|██████████| 17/17 [00:00<00:00, 121.63it/s, loss=1.62]\n"
     ]
    },
    {
     "output_type": "stream",
     "name": "stdout",
     "text": [
      "Epoch [2147/6000]: Train loss: 2.0094, Valid loss: 1.6757\n"
     ]
    },
    {
     "output_type": "stream",
     "name": "stderr",
     "text": [
      "Epoch [2148/6000]: 100%|██████████| 17/17 [00:00<00:00, 118.23it/s, loss=2.35]\n"
     ]
    },
    {
     "output_type": "stream",
     "name": "stdout",
     "text": [
      "Epoch [2148/6000]: Train loss: 2.0127, Valid loss: 1.7397\n"
     ]
    },
    {
     "output_type": "stream",
     "name": "stderr",
     "text": [
      "Epoch [2149/6000]: 100%|██████████| 17/17 [00:00<00:00, 99.06it/s, loss=1.83]\n"
     ]
    },
    {
     "output_type": "stream",
     "name": "stdout",
     "text": [
      "Epoch [2149/6000]: Train loss: 2.0087, Valid loss: 1.8949\n"
     ]
    },
    {
     "output_type": "stream",
     "name": "stderr",
     "text": [
      "Epoch [2150/6000]: 100%|██████████| 17/17 [00:00<00:00, 113.94it/s, loss=2.03]\n"
     ]
    },
    {
     "output_type": "stream",
     "name": "stdout",
     "text": [
      "Epoch [2150/6000]: Train loss: 2.0104, Valid loss: 1.7661\n"
     ]
    },
    {
     "output_type": "stream",
     "name": "stderr",
     "text": [
      "Epoch [2151/6000]: 100%|██████████| 17/17 [00:00<00:00, 123.11it/s, loss=1.91]\n"
     ]
    },
    {
     "output_type": "stream",
     "name": "stdout",
     "text": [
      "Epoch [2151/6000]: Train loss: 2.0098, Valid loss: 1.7974\n"
     ]
    },
    {
     "output_type": "stream",
     "name": "stderr",
     "text": [
      "Epoch [2152/6000]: 100%|██████████| 17/17 [00:00<00:00, 120.36it/s, loss=2.03]\n"
     ]
    },
    {
     "output_type": "stream",
     "name": "stdout",
     "text": [
      "Epoch [2152/6000]: Train loss: 2.0093, Valid loss: 1.7358\n"
     ]
    },
    {
     "output_type": "stream",
     "name": "stderr",
     "text": [
      "Epoch [2153/6000]: 100%|██████████| 17/17 [00:00<00:00, 108.79it/s, loss=1.95]\n"
     ]
    },
    {
     "output_type": "stream",
     "name": "stdout",
     "text": [
      "Epoch [2153/6000]: Train loss: 2.0080, Valid loss: 1.8644\n"
     ]
    },
    {
     "output_type": "stream",
     "name": "stderr",
     "text": [
      "Epoch [2154/6000]: 100%|██████████| 17/17 [00:00<00:00, 119.25it/s, loss=2.15]\n"
     ]
    },
    {
     "output_type": "stream",
     "name": "stdout",
     "text": [
      "Epoch [2154/6000]: Train loss: 2.0098, Valid loss: 1.7109\n"
     ]
    },
    {
     "output_type": "stream",
     "name": "stderr",
     "text": [
      "Epoch [2155/6000]: 100%|██████████| 17/17 [00:00<00:00, 121.49it/s, loss=1.87]\n"
     ]
    },
    {
     "output_type": "stream",
     "name": "stdout",
     "text": [
      "Epoch [2155/6000]: Train loss: 2.0070, Valid loss: 1.9830\n"
     ]
    },
    {
     "output_type": "stream",
     "name": "stderr",
     "text": [
      "Epoch [2156/6000]: 100%|██████████| 17/17 [00:00<00:00, 127.62it/s, loss=1.66]\n"
     ]
    },
    {
     "output_type": "stream",
     "name": "stdout",
     "text": [
      "Epoch [2156/6000]: Train loss: 2.0045, Valid loss: 1.9062\n"
     ]
    },
    {
     "output_type": "stream",
     "name": "stderr",
     "text": [
      "Epoch [2157/6000]: 100%|██████████| 17/17 [00:00<00:00, 130.54it/s, loss=1.91]\n"
     ]
    },
    {
     "output_type": "stream",
     "name": "stdout",
     "text": [
      "Epoch [2157/6000]: Train loss: 2.0063, Valid loss: 1.8977\n"
     ]
    },
    {
     "output_type": "stream",
     "name": "stderr",
     "text": [
      "Epoch [2158/6000]: 100%|██████████| 17/17 [00:00<00:00, 122.47it/s, loss=1.68]\n"
     ]
    },
    {
     "output_type": "stream",
     "name": "stdout",
     "text": [
      "Epoch [2158/6000]: Train loss: 2.0046, Valid loss: 1.7555\n"
     ]
    },
    {
     "output_type": "stream",
     "name": "stderr",
     "text": [
      "Epoch [2159/6000]: 100%|██████████| 17/17 [00:00<00:00, 124.04it/s, loss=1.71]\n"
     ]
    },
    {
     "output_type": "stream",
     "name": "stdout",
     "text": [
      "Epoch [2159/6000]: Train loss: 2.0035, Valid loss: 1.7074\n"
     ]
    },
    {
     "output_type": "stream",
     "name": "stderr",
     "text": [
      "Epoch [2160/6000]: 100%|██████████| 17/17 [00:00<00:00, 108.10it/s, loss=1.93]\n"
     ]
    },
    {
     "output_type": "stream",
     "name": "stdout",
     "text": [
      "Epoch [2160/6000]: Train loss: 2.0050, Valid loss: 1.9264\n"
     ]
    },
    {
     "output_type": "stream",
     "name": "stderr",
     "text": [
      "Epoch [2161/6000]: 100%|██████████| 17/17 [00:00<00:00, 124.22it/s, loss=1.55]\n"
     ]
    },
    {
     "output_type": "stream",
     "name": "stdout",
     "text": [
      "Epoch [2161/6000]: Train loss: 2.0020, Valid loss: 1.7022\n"
     ]
    },
    {
     "output_type": "stream",
     "name": "stderr",
     "text": [
      "Epoch [2162/6000]: 100%|██████████| 17/17 [00:00<00:00, 124.88it/s, loss=2.58]\n"
     ]
    },
    {
     "output_type": "stream",
     "name": "stdout",
     "text": [
      "Epoch [2162/6000]: Train loss: 2.0091, Valid loss: 1.9129\n"
     ]
    },
    {
     "output_type": "stream",
     "name": "stderr",
     "text": [
      "Epoch [2163/6000]: 100%|██████████| 17/17 [00:00<00:00, 120.95it/s, loss=2.8]\n"
     ]
    },
    {
     "output_type": "stream",
     "name": "stdout",
     "text": [
      "Epoch [2163/6000]: Train loss: 2.0111, Valid loss: 1.6781\n"
     ]
    },
    {
     "output_type": "stream",
     "name": "stderr",
     "text": [
      "Epoch [2164/6000]: 100%|██████████| 17/17 [00:00<00:00, 100.57it/s, loss=1.9]\n"
     ]
    },
    {
     "output_type": "stream",
     "name": "stdout",
     "text": [
      "Epoch [2164/6000]: Train loss: 2.0042, Valid loss: 1.6996\n"
     ]
    },
    {
     "output_type": "stream",
     "name": "stderr",
     "text": [
      "Epoch [2165/6000]: 100%|██████████| 17/17 [00:00<00:00, 138.29it/s, loss=2.07]\n"
     ]
    },
    {
     "output_type": "stream",
     "name": "stdout",
     "text": [
      "Epoch [2165/6000]: Train loss: 2.0043, Valid loss: 1.9833\n"
     ]
    },
    {
     "output_type": "stream",
     "name": "stderr",
     "text": [
      "Epoch [2166/6000]: 100%|██████████| 17/17 [00:00<00:00, 142.96it/s, loss=2.68]\n"
     ]
    },
    {
     "output_type": "stream",
     "name": "stdout",
     "text": [
      "Epoch [2166/6000]: Train loss: 2.0078, Valid loss: 1.7640\n"
     ]
    },
    {
     "output_type": "stream",
     "name": "stderr",
     "text": [
      "Epoch [2167/6000]: 100%|██████████| 17/17 [00:00<00:00, 129.52it/s, loss=1.57]\n"
     ]
    },
    {
     "output_type": "stream",
     "name": "stdout",
     "text": [
      "Epoch [2167/6000]: Train loss: 1.9999, Valid loss: 1.7252\n"
     ]
    },
    {
     "output_type": "stream",
     "name": "stderr",
     "text": [
      "Epoch [2168/6000]: 100%|██████████| 17/17 [00:00<00:00, 106.07it/s, loss=2.24]\n"
     ]
    },
    {
     "output_type": "stream",
     "name": "stdout",
     "text": [
      "Epoch [2168/6000]: Train loss: 2.0036, Valid loss: 1.7608\n"
     ]
    },
    {
     "output_type": "stream",
     "name": "stderr",
     "text": [
      "Epoch [2169/6000]: 100%|██████████| 17/17 [00:00<00:00, 117.80it/s, loss=2.61]\n"
     ]
    },
    {
     "output_type": "stream",
     "name": "stdout",
     "text": [
      "Epoch [2169/6000]: Train loss: 2.0062, Valid loss: 1.7353\n"
     ]
    },
    {
     "output_type": "stream",
     "name": "stderr",
     "text": [
      "Epoch [2170/6000]: 100%|██████████| 17/17 [00:00<00:00, 120.68it/s, loss=1.93]\n"
     ]
    },
    {
     "output_type": "stream",
     "name": "stdout",
     "text": [
      "Epoch [2170/6000]: Train loss: 2.0019, Valid loss: 1.6916\n"
     ]
    },
    {
     "output_type": "stream",
     "name": "stderr",
     "text": [
      "Epoch [2171/6000]: 100%|██████████| 17/17 [00:00<00:00, 129.10it/s, loss=2.28]\n"
     ]
    },
    {
     "output_type": "stream",
     "name": "stdout",
     "text": [
      "Epoch [2171/6000]: Train loss: 2.0025, Valid loss: 1.8095\n"
     ]
    },
    {
     "output_type": "stream",
     "name": "stderr",
     "text": [
      "Epoch [2172/6000]: 100%|██████████| 17/17 [00:00<00:00, 105.77it/s, loss=1.79]\n"
     ]
    },
    {
     "output_type": "stream",
     "name": "stdout",
     "text": [
      "Epoch [2172/6000]: Train loss: 1.9993, Valid loss: 1.9440\n"
     ]
    },
    {
     "output_type": "stream",
     "name": "stderr",
     "text": [
      "Epoch [2173/6000]: 100%|██████████| 17/17 [00:00<00:00, 113.04it/s, loss=1.79]\n"
     ]
    },
    {
     "output_type": "stream",
     "name": "stdout",
     "text": [
      "Epoch [2173/6000]: Train loss: 1.9986, Valid loss: 1.7214\n"
     ]
    },
    {
     "output_type": "stream",
     "name": "stderr",
     "text": [
      "Epoch [2174/6000]: 100%|██████████| 17/17 [00:00<00:00, 106.49it/s, loss=1.96]\n"
     ]
    },
    {
     "output_type": "stream",
     "name": "stdout",
     "text": [
      "Epoch [2174/6000]: Train loss: 1.9996, Valid loss: 1.8822\n"
     ]
    },
    {
     "output_type": "stream",
     "name": "stderr",
     "text": [
      "Epoch [2175/6000]: 100%|██████████| 17/17 [00:00<00:00, 109.65it/s, loss=2.27]\n"
     ]
    },
    {
     "output_type": "stream",
     "name": "stdout",
     "text": [
      "Epoch [2175/6000]: Train loss: 2.0011, Valid loss: 1.8857\n"
     ]
    },
    {
     "output_type": "stream",
     "name": "stderr",
     "text": [
      "Epoch [2176/6000]: 100%|██████████| 17/17 [00:00<00:00, 124.46it/s, loss=1.62]\n"
     ]
    },
    {
     "output_type": "stream",
     "name": "stdout",
     "text": [
      "Epoch [2176/6000]: Train loss: 1.9963, Valid loss: 1.7537\n"
     ]
    },
    {
     "output_type": "stream",
     "name": "stderr",
     "text": [
      "Epoch [2177/6000]: 100%|██████████| 17/17 [00:00<00:00, 122.67it/s, loss=2.12]\n"
     ]
    },
    {
     "output_type": "stream",
     "name": "stdout",
     "text": [
      "Epoch [2177/6000]: Train loss: 1.9990, Valid loss: 1.6926\n"
     ]
    },
    {
     "output_type": "stream",
     "name": "stderr",
     "text": [
      "Epoch [2178/6000]: 100%|██████████| 17/17 [00:00<00:00, 122.39it/s, loss=1.89]\n"
     ]
    },
    {
     "output_type": "stream",
     "name": "stdout",
     "text": [
      "Epoch [2178/6000]: Train loss: 1.9971, Valid loss: 2.2699\n"
     ]
    },
    {
     "output_type": "stream",
     "name": "stderr",
     "text": [
      "Epoch [2179/6000]: 100%|██████████| 17/17 [00:00<00:00, 118.73it/s, loss=2.28]\n"
     ]
    },
    {
     "output_type": "stream",
     "name": "stdout",
     "text": [
      "Epoch [2179/6000]: Train loss: 1.9992, Valid loss: 1.7099\n"
     ]
    },
    {
     "output_type": "stream",
     "name": "stderr",
     "text": [
      "Epoch [2180/6000]: 100%|██████████| 17/17 [00:00<00:00, 122.96it/s, loss=1.99]\n"
     ]
    },
    {
     "output_type": "stream",
     "name": "stdout",
     "text": [
      "Epoch [2180/6000]: Train loss: 1.9970, Valid loss: 2.1183\n"
     ]
    },
    {
     "output_type": "stream",
     "name": "stderr",
     "text": [
      "Epoch [2181/6000]: 100%|██████████| 17/17 [00:00<00:00, 104.26it/s, loss=1.52]\n"
     ]
    },
    {
     "output_type": "stream",
     "name": "stdout",
     "text": [
      "Epoch [2181/6000]: Train loss: 1.9930, Valid loss: 2.0584\n"
     ]
    },
    {
     "output_type": "stream",
     "name": "stderr",
     "text": [
      "Epoch [2182/6000]: 100%|██████████| 17/17 [00:00<00:00, 103.21it/s, loss=1.95]\n"
     ]
    },
    {
     "output_type": "stream",
     "name": "stdout",
     "text": [
      "Epoch [2182/6000]: Train loss: 1.9957, Valid loss: 1.7288\n"
     ]
    },
    {
     "output_type": "stream",
     "name": "stderr",
     "text": [
      "Epoch [2183/6000]: 100%|██████████| 17/17 [00:00<00:00, 112.47it/s, loss=1.84]\n"
     ]
    },
    {
     "output_type": "stream",
     "name": "stdout",
     "text": [
      "Epoch [2183/6000]: Train loss: 1.9944, Valid loss: 1.7411\n"
     ]
    },
    {
     "output_type": "stream",
     "name": "stderr",
     "text": [
      "Epoch [2184/6000]: 100%|██████████| 17/17 [00:00<00:00, 107.92it/s, loss=2.05]\n"
     ]
    },
    {
     "output_type": "stream",
     "name": "stdout",
     "text": [
      "Epoch [2184/6000]: Train loss: 1.9957, Valid loss: 1.8737\n"
     ]
    },
    {
     "output_type": "stream",
     "name": "stderr",
     "text": [
      "Epoch [2185/6000]: 100%|██████████| 17/17 [00:00<00:00, 99.93it/s, loss=1.99] \n"
     ]
    },
    {
     "output_type": "stream",
     "name": "stdout",
     "text": [
      "Epoch [2185/6000]: Train loss: 1.9948, Valid loss: 1.6619\n"
     ]
    },
    {
     "output_type": "stream",
     "name": "stderr",
     "text": [
      "Epoch [2186/6000]: 100%|██████████| 17/17 [00:00<00:00, 98.21it/s, loss=2.1]\n"
     ]
    },
    {
     "output_type": "stream",
     "name": "stdout",
     "text": [
      "Epoch [2186/6000]: Train loss: 1.9954, Valid loss: 1.7818\n"
     ]
    },
    {
     "output_type": "stream",
     "name": "stderr",
     "text": [
      "Epoch [2187/6000]: 100%|██████████| 17/17 [00:00<00:00, 106.79it/s, loss=2.03]\n"
     ]
    },
    {
     "output_type": "stream",
     "name": "stdout",
     "text": [
      "Epoch [2187/6000]: Train loss: 1.9944, Valid loss: 1.7833\n"
     ]
    },
    {
     "output_type": "stream",
     "name": "stderr",
     "text": [
      "Epoch [2188/6000]: 100%|██████████| 17/17 [00:00<00:00, 102.36it/s, loss=1.69]\n"
     ]
    },
    {
     "output_type": "stream",
     "name": "stdout",
     "text": [
      "Epoch [2188/6000]: Train loss: 1.9922, Valid loss: 1.8134\n"
     ]
    },
    {
     "output_type": "stream",
     "name": "stderr",
     "text": [
      "Epoch [2189/6000]: 100%|██████████| 17/17 [00:00<00:00, 98.65it/s, loss=2.37]\n"
     ]
    },
    {
     "output_type": "stream",
     "name": "stdout",
     "text": [
      "Epoch [2189/6000]: Train loss: 1.9958, Valid loss: 1.8081\n"
     ]
    },
    {
     "output_type": "stream",
     "name": "stderr",
     "text": [
      "Epoch [2190/6000]: 100%|██████████| 17/17 [00:00<00:00, 102.04it/s, loss=2.56]\n"
     ]
    },
    {
     "output_type": "stream",
     "name": "stdout",
     "text": [
      "Epoch [2190/6000]: Train loss: 1.9969, Valid loss: 2.0550\n"
     ]
    },
    {
     "output_type": "stream",
     "name": "stderr",
     "text": [
      "Epoch [2191/6000]: 100%|██████████| 17/17 [00:00<00:00, 111.57it/s, loss=1.71]\n"
     ]
    },
    {
     "output_type": "stream",
     "name": "stdout",
     "text": [
      "Epoch [2191/6000]: Train loss: 1.9904, Valid loss: 1.6644\n"
     ]
    },
    {
     "output_type": "stream",
     "name": "stderr",
     "text": [
      "Epoch [2192/6000]: 100%|██████████| 17/17 [00:00<00:00, 112.85it/s, loss=1.87]\n"
     ]
    },
    {
     "output_type": "stream",
     "name": "stdout",
     "text": [
      "Epoch [2192/6000]: Train loss: 1.9910, Valid loss: 1.7345\n"
     ]
    },
    {
     "output_type": "stream",
     "name": "stderr",
     "text": [
      "Epoch [2193/6000]: 100%|██████████| 17/17 [00:00<00:00, 118.83it/s, loss=1.95]\n"
     ]
    },
    {
     "output_type": "stream",
     "name": "stdout",
     "text": [
      "Epoch [2193/6000]: Train loss: 1.9911, Valid loss: 1.7213\n"
     ]
    },
    {
     "output_type": "stream",
     "name": "stderr",
     "text": [
      "Epoch [2194/6000]: 100%|██████████| 17/17 [00:00<00:00, 106.26it/s, loss=2.1]\n"
     ]
    },
    {
     "output_type": "stream",
     "name": "stdout",
     "text": [
      "Epoch [2194/6000]: Train loss: 1.9925, Valid loss: 1.8464\n"
     ]
    },
    {
     "output_type": "stream",
     "name": "stderr",
     "text": [
      "Epoch [2195/6000]: 100%|██████████| 17/17 [00:00<00:00, 122.61it/s, loss=2.55]\n"
     ]
    },
    {
     "output_type": "stream",
     "name": "stdout",
     "text": [
      "Epoch [2195/6000]: Train loss: 1.9954, Valid loss: 1.8495\n"
     ]
    },
    {
     "output_type": "stream",
     "name": "stderr",
     "text": [
      "Epoch [2196/6000]: 100%|██████████| 17/17 [00:00<00:00, 122.02it/s, loss=1.86]\n"
     ]
    },
    {
     "output_type": "stream",
     "name": "stdout",
     "text": [
      "Epoch [2196/6000]: Train loss: 1.9907, Valid loss: 1.6827\n"
     ]
    },
    {
     "output_type": "stream",
     "name": "stderr",
     "text": [
      "Epoch [2197/6000]: 100%|██████████| 17/17 [00:00<00:00, 120.04it/s, loss=2.3]\n"
     ]
    },
    {
     "output_type": "stream",
     "name": "stdout",
     "text": [
      "Epoch [2197/6000]: Train loss: 1.9922, Valid loss: 1.9356\n"
     ]
    },
    {
     "output_type": "stream",
     "name": "stderr",
     "text": [
      "Epoch [2198/6000]: 100%|██████████| 17/17 [00:00<00:00, 121.40it/s, loss=1.8]\n"
     ]
    },
    {
     "output_type": "stream",
     "name": "stdout",
     "text": [
      "Epoch [2198/6000]: Train loss: 1.9894, Valid loss: 1.8755\n"
     ]
    },
    {
     "output_type": "stream",
     "name": "stderr",
     "text": [
      "Epoch [2199/6000]: 100%|██████████| 17/17 [00:00<00:00, 115.38it/s, loss=1.62]\n"
     ]
    },
    {
     "output_type": "stream",
     "name": "stdout",
     "text": [
      "Epoch [2199/6000]: Train loss: 1.9862, Valid loss: 1.7214\n"
     ]
    },
    {
     "output_type": "stream",
     "name": "stderr",
     "text": [
      "Epoch [2200/6000]: 100%|██████████| 17/17 [00:00<00:00, 100.22it/s, loss=2.1]\n"
     ]
    },
    {
     "output_type": "stream",
     "name": "stdout",
     "text": [
      "Epoch [2200/6000]: Train loss: 1.9894, Valid loss: 1.8641\n"
     ]
    },
    {
     "output_type": "stream",
     "name": "stderr",
     "text": [
      "Epoch [2201/6000]: 100%|██████████| 17/17 [00:00<00:00, 127.94it/s, loss=2.04]\n"
     ]
    },
    {
     "output_type": "stream",
     "name": "stdout",
     "text": [
      "Epoch [2201/6000]: Train loss: 1.9885, Valid loss: 1.8019\n"
     ]
    },
    {
     "output_type": "stream",
     "name": "stderr",
     "text": [
      "Epoch [2202/6000]: 100%|██████████| 17/17 [00:00<00:00, 123.52it/s, loss=1.96]\n"
     ]
    },
    {
     "output_type": "stream",
     "name": "stdout",
     "text": [
      "Epoch [2202/6000]: Train loss: 1.9879, Valid loss: 1.7733\n"
     ]
    },
    {
     "output_type": "stream",
     "name": "stderr",
     "text": [
      "Epoch [2203/6000]: 100%|██████████| 17/17 [00:00<00:00, 123.61it/s, loss=2.24]\n"
     ]
    },
    {
     "output_type": "stream",
     "name": "stdout",
     "text": [
      "Epoch [2203/6000]: Train loss: 1.9894, Valid loss: 1.7484\n"
     ]
    },
    {
     "output_type": "stream",
     "name": "stderr",
     "text": [
      "Epoch [2204/6000]: 100%|██████████| 17/17 [00:00<00:00, 120.13it/s, loss=2.21]\n"
     ]
    },
    {
     "output_type": "stream",
     "name": "stdout",
     "text": [
      "Epoch [2204/6000]: Train loss: 1.9885, Valid loss: 1.7944\n"
     ]
    },
    {
     "output_type": "stream",
     "name": "stderr",
     "text": [
      "Epoch [2225/6000]: 100%|██████████| 17/17 [00:00<00:00, 105.81it/s, loss=1.78]\n"
     ]
    },
    {
     "output_type": "stream",
     "name": "stdout",
     "text": [
      "Epoch [2225/6000]: Train loss: 1.9770, Valid loss: 1.8601\n"
     ]
    },
    {
     "output_type": "stream",
     "name": "stderr",
     "text": [
      "Epoch [2226/6000]: 100%|██████████| 17/17 [00:00<00:00, 102.28it/s, loss=1.74]\n"
     ]
    },
    {
     "output_type": "stream",
     "name": "stdout",
     "text": [
      "Epoch [2226/6000]: Train loss: 1.9763, Valid loss: 1.7836\n"
     ]
    },
    {
     "output_type": "stream",
     "name": "stderr",
     "text": [
      "Epoch [2227/6000]: 100%|██████████| 17/17 [00:00<00:00, 114.07it/s, loss=1.63]\n"
     ]
    },
    {
     "output_type": "stream",
     "name": "stdout",
     "text": [
      "Epoch [2227/6000]: Train loss: 1.9755, Valid loss: 2.0944\n"
     ]
    },
    {
     "output_type": "stream",
     "name": "stderr",
     "text": [
      "Epoch [2228/6000]: 100%|██████████| 17/17 [00:00<00:00, 124.61it/s, loss=2.35]\n"
     ]
    },
    {
     "output_type": "stream",
     "name": "stdout",
     "text": [
      "Epoch [2228/6000]: Train loss: 1.9799, Valid loss: 1.7389\n"
     ]
    },
    {
     "output_type": "stream",
     "name": "stderr",
     "text": [
      "Epoch [2229/6000]: 100%|██████████| 17/17 [00:00<00:00, 125.11it/s, loss=1.87]\n"
     ]
    },
    {
     "output_type": "stream",
     "name": "stdout",
     "text": [
      "Epoch [2229/6000]: Train loss: 1.9762, Valid loss: 1.7957\n"
     ]
    },
    {
     "output_type": "stream",
     "name": "stderr",
     "text": [
      "Epoch [2230/6000]: 100%|██████████| 17/17 [00:00<00:00, 105.60it/s, loss=1.83]\n"
     ]
    },
    {
     "output_type": "stream",
     "name": "stdout",
     "text": [
      "Epoch [2230/6000]: Train loss: 1.9755, Valid loss: 1.8147\n"
     ]
    },
    {
     "output_type": "stream",
     "name": "stderr",
     "text": [
      "Epoch [2231/6000]: 100%|██████████| 17/17 [00:00<00:00, 93.24it/s, loss=1.99]\n"
     ]
    },
    {
     "output_type": "stream",
     "name": "stdout",
     "text": [
      "Epoch [2231/6000]: Train loss: 1.9764, Valid loss: 1.9162\n"
     ]
    },
    {
     "output_type": "stream",
     "name": "stderr",
     "text": [
      "Epoch [2232/6000]: 100%|██████████| 17/17 [00:00<00:00, 117.00it/s, loss=1.96]\n"
     ]
    },
    {
     "output_type": "stream",
     "name": "stdout",
     "text": [
      "Epoch [2232/6000]: Train loss: 1.9755, Valid loss: 1.7856\n"
     ]
    },
    {
     "output_type": "stream",
     "name": "stderr",
     "text": [
      "Epoch [2233/6000]: 100%|██████████| 17/17 [00:00<00:00, 121.96it/s, loss=2.31]\n"
     ]
    },
    {
     "output_type": "stream",
     "name": "stdout",
     "text": [
      "Epoch [2233/6000]: Train loss: 1.9777, Valid loss: 1.7761\n"
     ]
    },
    {
     "output_type": "stream",
     "name": "stderr",
     "text": [
      "Epoch [2234/6000]: 100%|██████████| 17/17 [00:00<00:00, 117.30it/s, loss=2.33]\n"
     ]
    },
    {
     "output_type": "stream",
     "name": "stdout",
     "text": [
      "Epoch [2234/6000]: Train loss: 1.9776, Valid loss: 1.7966\n"
     ]
    },
    {
     "output_type": "stream",
     "name": "stderr",
     "text": [
      "Epoch [2235/6000]: 100%|██████████| 17/17 [00:00<00:00, 113.86it/s, loss=1.83]\n"
     ]
    },
    {
     "output_type": "stream",
     "name": "stdout",
     "text": [
      "Epoch [2235/6000]: Train loss: 1.9740, Valid loss: 1.6850\n"
     ]
    },
    {
     "output_type": "stream",
     "name": "stderr",
     "text": [
      "Epoch [2236/6000]: 100%|██████████| 17/17 [00:00<00:00, 113.31it/s, loss=2.07]\n"
     ]
    },
    {
     "output_type": "stream",
     "name": "stdout",
     "text": [
      "Epoch [2236/6000]: Train loss: 1.9748, Valid loss: 1.6374\n",
      "Saving model with loss 1.637...\n"
     ]
    },
    {
     "output_type": "stream",
     "name": "stderr",
     "text": [
      "Epoch [2237/6000]: 100%|██████████| 17/17 [00:00<00:00, 119.99it/s, loss=1.87]\n"
     ]
    },
    {
     "output_type": "stream",
     "name": "stdout",
     "text": [
      "Epoch [2237/6000]: Train loss: 1.9729, Valid loss: 1.8246\n"
     ]
    },
    {
     "output_type": "stream",
     "name": "stderr",
     "text": [
      "Epoch [2238/6000]:   0%|          | 0/17 [00:00<?, ?it/s, loss=2.41]"
     ]
    },
    {
     "output_type": "stream",
     "name": "stdout",
     "text": [
      "Epoch [2244/6000]: Train loss: 1.9743, Valid loss: 1.7443\n"
     ]
    },
    {
     "output_type": "stream",
     "name": "stderr",
     "text": [
      "Epoch [2245/6000]: 100%|██████████| 17/17 [00:00<00:00, 89.40it/s, loss=1.78]\n"
     ]
    },
    {
     "output_type": "stream",
     "name": "stdout",
     "text": [
      "Epoch [2245/6000]: Train loss: 1.9693, Valid loss: 1.6353\n",
      "Saving model with loss 1.635...\n"
     ]
    },
    {
     "output_type": "stream",
     "name": "stderr",
     "text": [
      "Epoch [2246/6000]: 100%|██████████| 17/17 [00:00<00:00, 106.25it/s, loss=2.83]\n"
     ]
    },
    {
     "output_type": "stream",
     "name": "stdout",
     "text": [
      "Epoch [2246/6000]: Train loss: 1.9769, Valid loss: 1.8179\n"
     ]
    },
    {
     "output_type": "stream",
     "name": "stderr",
     "text": [
      "Epoch [2247/6000]: 100%|██████████| 17/17 [00:00<00:00, 115.76it/s, loss=2.07]\n"
     ]
    },
    {
     "output_type": "stream",
     "name": "stdout",
     "text": [
      "Epoch [2247/6000]: Train loss: 1.9709, Valid loss: 1.8067\n"
     ]
    },
    {
     "output_type": "stream",
     "name": "stderr",
     "text": [
      "Epoch [2248/6000]: 100%|██████████| 17/17 [00:00<00:00, 117.36it/s, loss=1.64]\n"
     ]
    },
    {
     "output_type": "stream",
     "name": "stdout",
     "text": [
      "Epoch [2248/6000]: Train loss: 1.9673, Valid loss: 1.8878\n"
     ]
    },
    {
     "output_type": "stream",
     "name": "stderr",
     "text": [
      "Epoch [2249/6000]: 100%|██████████| 17/17 [00:00<00:00, 106.78it/s, loss=1.79]\n"
     ]
    },
    {
     "output_type": "stream",
     "name": "stdout",
     "text": [
      "Epoch [2249/6000]: Train loss: 1.9688, Valid loss: 1.7974\n"
     ]
    },
    {
     "output_type": "stream",
     "name": "stderr",
     "text": [
      "Epoch [2250/6000]: 100%|██████████| 17/17 [00:00<00:00, 117.28it/s, loss=2.14]\n"
     ]
    },
    {
     "output_type": "stream",
     "name": "stdout",
     "text": [
      "Epoch [2250/6000]: Train loss: 1.9699, Valid loss: 1.7100\n"
     ]
    },
    {
     "output_type": "stream",
     "name": "stderr",
     "text": [
      "Epoch [2251/6000]: 100%|██████████| 17/17 [00:00<00:00, 119.39it/s, loss=1.99]\n"
     ]
    },
    {
     "output_type": "stream",
     "name": "stdout",
     "text": [
      "Epoch [2251/6000]: Train loss: 1.9687, Valid loss: 1.7089\n"
     ]
    },
    {
     "output_type": "stream",
     "name": "stderr",
     "text": [
      "Epoch [2252/6000]: 100%|██████████| 17/17 [00:00<00:00, 121.85it/s, loss=1.68]\n"
     ]
    },
    {
     "output_type": "stream",
     "name": "stdout",
     "text": [
      "Epoch [2252/6000]: Train loss: 1.9659, Valid loss: 1.9895\n"
     ]
    },
    {
     "output_type": "stream",
     "name": "stderr",
     "text": [
      "Epoch [2253/6000]: 100%|██████████| 17/17 [00:00<00:00, 102.07it/s, loss=1.85]\n"
     ]
    },
    {
     "output_type": "stream",
     "name": "stdout",
     "text": [
      "Epoch [2253/6000]: Train loss: 1.9669, Valid loss: 1.6816\n"
     ]
    },
    {
     "output_type": "stream",
     "name": "stderr",
     "text": [
      "Epoch [2254/6000]: 100%|██████████| 17/17 [00:00<00:00, 115.64it/s, loss=2.7]\n"
     ]
    },
    {
     "output_type": "stream",
     "name": "stdout",
     "text": [
      "Epoch [2254/6000]: Train loss: 1.9728, Valid loss: 1.7345\n"
     ]
    },
    {
     "output_type": "stream",
     "name": "stderr",
     "text": [
      "Epoch [2255/6000]: 100%|██████████| 17/17 [00:00<00:00, 97.67it/s, loss=1.81]\n"
     ]
    },
    {
     "output_type": "stream",
     "name": "stdout",
     "text": [
      "Epoch [2255/6000]: Train loss: 1.9659, Valid loss: 1.7146\n"
     ]
    },
    {
     "output_type": "stream",
     "name": "stderr",
     "text": [
      "Epoch [2256/6000]: 100%|██████████| 17/17 [00:00<00:00, 107.08it/s, loss=2.19]\n"
     ]
    },
    {
     "output_type": "stream",
     "name": "stdout",
     "text": [
      "Epoch [2256/6000]: Train loss: 1.9680, Valid loss: 1.9930\n"
     ]
    },
    {
     "output_type": "stream",
     "name": "stderr",
     "text": [
      "Epoch [2257/6000]: 100%|██████████| 17/17 [00:00<00:00, 117.54it/s, loss=2.18]\n"
     ]
    },
    {
     "output_type": "stream",
     "name": "stdout",
     "text": [
      "Epoch [2257/6000]: Train loss: 1.9677, Valid loss: 1.7152\n"
     ]
    },
    {
     "output_type": "stream",
     "name": "stderr",
     "text": [
      "Epoch [2258/6000]: 100%|██████████| 17/17 [00:00<00:00, 101.29it/s, loss=1.37]\n"
     ]
    },
    {
     "output_type": "stream",
     "name": "stdout",
     "text": [
      "Epoch [2258/6000]: Train loss: 1.9613, Valid loss: 1.8028\n"
     ]
    },
    {
     "output_type": "stream",
     "name": "stderr",
     "text": [
      "Epoch [2259/6000]: 100%|██████████| 17/17 [00:00<00:00, 105.25it/s, loss=1.5]\n"
     ]
    },
    {
     "output_type": "stream",
     "name": "stdout",
     "text": [
      "Epoch [2259/6000]: Train loss: 1.9619, Valid loss: 1.7504\n"
     ]
    },
    {
     "output_type": "stream",
     "name": "stderr",
     "text": [
      "Epoch [2260/6000]: 100%|██████████| 17/17 [00:00<00:00, 118.88it/s, loss=1.87]\n"
     ]
    },
    {
     "output_type": "stream",
     "name": "stdout",
     "text": [
      "Epoch [2260/6000]: Train loss: 1.9644, Valid loss: 1.8925\n"
     ]
    },
    {
     "output_type": "stream",
     "name": "stderr",
     "text": [
      "Epoch [2261/6000]: 100%|██████████| 17/17 [00:00<00:00, 126.73it/s, loss=1.9]\n"
     ]
    },
    {
     "output_type": "stream",
     "name": "stdout",
     "text": [
      "Epoch [2261/6000]: Train loss: 1.9647, Valid loss: 1.7208\n"
     ]
    },
    {
     "output_type": "stream",
     "name": "stderr",
     "text": [
      "Epoch [2262/6000]: 100%|██████████| 17/17 [00:00<00:00, 133.00it/s, loss=1.98]\n"
     ]
    },
    {
     "output_type": "stream",
     "name": "stdout",
     "text": [
      "Epoch [2262/6000]: Train loss: 1.9645, Valid loss: 1.8718\n"
     ]
    },
    {
     "output_type": "stream",
     "name": "stderr",
     "text": [
      "Epoch [2263/6000]: 100%|██████████| 17/17 [00:00<00:00, 115.65it/s, loss=2.17]\n"
     ]
    },
    {
     "output_type": "stream",
     "name": "stdout",
     "text": [
      "Epoch [2263/6000]: Train loss: 1.9650, Valid loss: 1.7356\n"
     ]
    },
    {
     "output_type": "stream",
     "name": "stderr",
     "text": [
      "Epoch [2264/6000]: 100%|██████████| 17/17 [00:00<00:00, 124.04it/s, loss=1.59]\n"
     ]
    },
    {
     "output_type": "stream",
     "name": "stdout",
     "text": [
      "Epoch [2264/6000]: Train loss: 1.9605, Valid loss: 1.8095\n"
     ]
    },
    {
     "output_type": "stream",
     "name": "stderr",
     "text": [
      "Epoch [2265/6000]: 100%|██████████| 17/17 [00:00<00:00, 111.05it/s, loss=1.51]\n"
     ]
    },
    {
     "output_type": "stream",
     "name": "stdout",
     "text": [
      "Epoch [2265/6000]: Train loss: 1.9596, Valid loss: 1.6903\n"
     ]
    },
    {
     "output_type": "stream",
     "name": "stderr",
     "text": [
      "Epoch [2266/6000]: 100%|██████████| 17/17 [00:00<00:00, 116.43it/s, loss=1.79]\n"
     ]
    },
    {
     "output_type": "stream",
     "name": "stdout",
     "text": [
      "Epoch [2266/6000]: Train loss: 1.9612, Valid loss: 1.6772\n"
     ]
    },
    {
     "output_type": "stream",
     "name": "stderr",
     "text": [
      "Epoch [2267/6000]: 100%|██████████| 17/17 [00:00<00:00, 117.23it/s, loss=2.13]\n"
     ]
    },
    {
     "output_type": "stream",
     "name": "stdout",
     "text": [
      "Epoch [2267/6000]: Train loss: 1.9635, Valid loss: 1.6802\n"
     ]
    },
    {
     "output_type": "stream",
     "name": "stderr",
     "text": [
      "Epoch [2268/6000]: 100%|██████████| 17/17 [00:00<00:00, 140.88it/s, loss=2.34]\n"
     ]
    },
    {
     "output_type": "stream",
     "name": "stdout",
     "text": [
      "Epoch [2268/6000]: Train loss: 1.9645, Valid loss: 1.8316\n"
     ]
    },
    {
     "output_type": "stream",
     "name": "stderr",
     "text": [
      "Epoch [2269/6000]: 100%|██████████| 17/17 [00:00<00:00, 142.21it/s, loss=1.76]\n"
     ]
    },
    {
     "output_type": "stream",
     "name": "stdout",
     "text": [
      "Epoch [2269/6000]: Train loss: 1.9605, Valid loss: 1.7971\n"
     ]
    },
    {
     "output_type": "stream",
     "name": "stderr",
     "text": [
      "Epoch [2270/6000]: 100%|██████████| 17/17 [00:00<00:00, 135.20it/s, loss=1.94]\n"
     ]
    },
    {
     "output_type": "stream",
     "name": "stdout",
     "text": [
      "Epoch [2270/6000]: Train loss: 1.9608, Valid loss: 1.6715\n"
     ]
    },
    {
     "output_type": "stream",
     "name": "stderr",
     "text": [
      "Epoch [2271/6000]: 100%|██████████| 17/17 [00:00<00:00, 123.95it/s, loss=1.99]\n"
     ]
    },
    {
     "output_type": "stream",
     "name": "stdout",
     "text": [
      "Epoch [2271/6000]: Train loss: 1.9611, Valid loss: 1.8437\n"
     ]
    },
    {
     "output_type": "stream",
     "name": "stderr",
     "text": [
      "Epoch [2272/6000]: 100%|██████████| 17/17 [00:00<00:00, 132.41it/s, loss=1.71]\n"
     ]
    },
    {
     "output_type": "stream",
     "name": "stdout",
     "text": [
      "Epoch [2272/6000]: Train loss: 1.9585, Valid loss: 1.6618\n"
     ]
    },
    {
     "output_type": "stream",
     "name": "stderr",
     "text": [
      "Epoch [2273/6000]: 100%|██████████| 17/17 [00:00<00:00, 120.99it/s, loss=1.77]\n"
     ]
    },
    {
     "output_type": "stream",
     "name": "stdout",
     "text": [
      "Epoch [2273/6000]: Train loss: 1.9591, Valid loss: 1.6716\n"
     ]
    },
    {
     "output_type": "stream",
     "name": "stderr",
     "text": [
      "Epoch [2274/6000]: 100%|██████████| 17/17 [00:00<00:00, 107.57it/s, loss=1.45]\n"
     ]
    },
    {
     "output_type": "stream",
     "name": "stdout",
     "text": [
      "Epoch [2274/6000]: Train loss: 1.9555, Valid loss: 1.7587\n"
     ]
    },
    {
     "output_type": "stream",
     "name": "stderr",
     "text": [
      "Epoch [2275/6000]: 100%|██████████| 17/17 [00:00<00:00, 127.69it/s, loss=1.99]\n"
     ]
    },
    {
     "output_type": "stream",
     "name": "stdout",
     "text": [
      "Epoch [2275/6000]: Train loss: 1.9597, Valid loss: 1.9405\n"
     ]
    },
    {
     "output_type": "stream",
     "name": "stderr",
     "text": [
      "Epoch [2276/6000]: 100%|██████████| 17/17 [00:00<00:00, 104.18it/s, loss=2.01]\n"
     ]
    },
    {
     "output_type": "stream",
     "name": "stdout",
     "text": [
      "Epoch [2276/6000]: Train loss: 1.9590, Valid loss: 1.7603\n"
     ]
    },
    {
     "output_type": "stream",
     "name": "stderr",
     "text": [
      "Epoch [2277/6000]: 100%|██████████| 17/17 [00:00<00:00, 110.89it/s, loss=2.18]\n"
     ]
    },
    {
     "output_type": "stream",
     "name": "stdout",
     "text": [
      "Epoch [2277/6000]: Train loss: 1.9602, Valid loss: 2.1534\n"
     ]
    },
    {
     "output_type": "stream",
     "name": "stderr",
     "text": [
      "Epoch [2278/6000]: 100%|██████████| 17/17 [00:00<00:00, 104.22it/s, loss=1.78]\n"
     ]
    },
    {
     "output_type": "stream",
     "name": "stdout",
     "text": [
      "Epoch [2278/6000]: Train loss: 1.9568, Valid loss: 1.6628\n"
     ]
    },
    {
     "output_type": "stream",
     "name": "stderr",
     "text": [
      "Epoch [2279/6000]: 100%|██████████| 17/17 [00:00<00:00, 108.91it/s, loss=1.36]\n"
     ]
    },
    {
     "output_type": "stream",
     "name": "stdout",
     "text": [
      "Epoch [2279/6000]: Train loss: 1.9532, Valid loss: 1.6627\n"
     ]
    },
    {
     "output_type": "stream",
     "name": "stderr",
     "text": [
      "Epoch [2280/6000]: 100%|██████████| 17/17 [00:00<00:00, 111.43it/s, loss=1.63]\n"
     ]
    },
    {
     "output_type": "stream",
     "name": "stdout",
     "text": [
      "Epoch [2280/6000]: Train loss: 1.9547, Valid loss: 1.7595\n"
     ]
    },
    {
     "output_type": "stream",
     "name": "stderr",
     "text": [
      "Epoch [2281/6000]: 100%|██████████| 17/17 [00:00<00:00, 129.73it/s, loss=1.15]\n"
     ]
    },
    {
     "output_type": "stream",
     "name": "stdout",
     "text": [
      "Epoch [2281/6000]: Train loss: 1.9510, Valid loss: 1.6530\n"
     ]
    },
    {
     "output_type": "stream",
     "name": "stderr",
     "text": [
      "Epoch [2282/6000]: 100%|██████████| 17/17 [00:00<00:00, 118.87it/s, loss=2.21]\n"
     ]
    },
    {
     "output_type": "stream",
     "name": "stdout",
     "text": [
      "Epoch [2282/6000]: Train loss: 1.9584, Valid loss: 1.8724\n"
     ]
    },
    {
     "output_type": "stream",
     "name": "stderr",
     "text": [
      "Epoch [2283/6000]: 100%|██████████| 17/17 [00:00<00:00, 134.91it/s, loss=2.38]\n"
     ]
    },
    {
     "output_type": "stream",
     "name": "stdout",
     "text": [
      "Epoch [2283/6000]: Train loss: 1.9593, Valid loss: 1.7101\n"
     ]
    },
    {
     "output_type": "stream",
     "name": "stderr",
     "text": [
      "Epoch [2284/6000]: 100%|██████████| 17/17 [00:00<00:00, 130.70it/s, loss=1.92]\n"
     ]
    },
    {
     "output_type": "stream",
     "name": "stdout",
     "text": [
      "Epoch [2284/6000]: Train loss: 1.9561, Valid loss: 1.6638\n"
     ]
    },
    {
     "output_type": "stream",
     "name": "stderr",
     "text": [
      "Epoch [2285/6000]: 100%|██████████| 17/17 [00:00<00:00, 132.24it/s, loss=1.58]\n"
     ]
    },
    {
     "output_type": "stream",
     "name": "stdout",
     "text": [
      "Epoch [2285/6000]: Train loss: 1.9536, Valid loss: 1.7573\n"
     ]
    },
    {
     "output_type": "stream",
     "name": "stderr",
     "text": [
      "Epoch [2286/6000]: 100%|██████████| 17/17 [00:00<00:00, 114.86it/s, loss=1.41]\n"
     ]
    },
    {
     "output_type": "stream",
     "name": "stdout",
     "text": [
      "Epoch [2286/6000]: Train loss: 1.9512, Valid loss: 1.8437\n"
     ]
    },
    {
     "output_type": "stream",
     "name": "stderr",
     "text": [
      "Epoch [2287/6000]: 100%|██████████| 17/17 [00:00<00:00, 118.28it/s, loss=1.47]\n"
     ]
    },
    {
     "output_type": "stream",
     "name": "stdout",
     "text": [
      "Epoch [2287/6000]: Train loss: 1.9511, Valid loss: 1.6866\n"
     ]
    },
    {
     "output_type": "stream",
     "name": "stderr",
     "text": [
      "Epoch [2288/6000]: 100%|██████████| 17/17 [00:00<00:00, 130.59it/s, loss=2.43]\n"
     ]
    },
    {
     "output_type": "stream",
     "name": "stdout",
     "text": [
      "Epoch [2288/6000]: Train loss: 1.9579, Valid loss: 1.8104\n"
     ]
    },
    {
     "output_type": "stream",
     "name": "stderr",
     "text": [
      "Epoch [2289/6000]: 100%|██████████| 17/17 [00:00<00:00, 112.61it/s, loss=1.67]\n"
     ]
    },
    {
     "output_type": "stream",
     "name": "stdout",
     "text": [
      "Epoch [2289/6000]: Train loss: 1.9520, Valid loss: 1.7629\n"
     ]
    },
    {
     "output_type": "stream",
     "name": "stderr",
     "text": [
      "Epoch [2290/6000]: 100%|██████████| 17/17 [00:00<00:00, 118.71it/s, loss=2.62]\n"
     ]
    },
    {
     "output_type": "stream",
     "name": "stdout",
     "text": [
      "Epoch [2290/6000]: Train loss: 1.9589, Valid loss: 1.7485\n"
     ]
    },
    {
     "output_type": "stream",
     "name": "stderr",
     "text": [
      "Epoch [2291/6000]: 100%|██████████| 17/17 [00:00<00:00, 120.56it/s, loss=1.82]\n"
     ]
    },
    {
     "output_type": "stream",
     "name": "stdout",
     "text": [
      "Epoch [2291/6000]: Train loss: 1.9519, Valid loss: 1.8215\n"
     ]
    },
    {
     "output_type": "stream",
     "name": "stderr",
     "text": [
      "Epoch [2292/6000]: 100%|██████████| 17/17 [00:00<00:00, 119.69it/s, loss=1.68]\n"
     ]
    },
    {
     "output_type": "stream",
     "name": "stdout",
     "text": [
      "Epoch [2292/6000]: Train loss: 1.9508, Valid loss: 1.7008\n"
     ]
    },
    {
     "output_type": "stream",
     "name": "stderr",
     "text": [
      "Epoch [2293/6000]: 100%|██████████| 17/17 [00:00<00:00, 109.57it/s, loss=1.95]\n"
     ]
    },
    {
     "output_type": "stream",
     "name": "stdout",
     "text": [
      "Epoch [2293/6000]: Train loss: 1.9525, Valid loss: 1.7728\n"
     ]
    },
    {
     "output_type": "stream",
     "name": "stderr",
     "text": [
      "Epoch [2294/6000]: 100%|██████████| 17/17 [00:00<00:00, 111.20it/s, loss=1.93]\n"
     ]
    },
    {
     "output_type": "stream",
     "name": "stdout",
     "text": [
      "Epoch [2294/6000]: Train loss: 1.9515, Valid loss: 1.7286\n"
     ]
    },
    {
     "output_type": "stream",
     "name": "stderr",
     "text": [
      "Epoch [2295/6000]: 100%|██████████| 17/17 [00:00<00:00, 112.78it/s, loss=2.47]\n"
     ]
    },
    {
     "output_type": "stream",
     "name": "stdout",
     "text": [
      "Epoch [2295/6000]: Train loss: 1.9554, Valid loss: 1.7786\n"
     ]
    },
    {
     "output_type": "stream",
     "name": "stderr",
     "text": [
      "Epoch [2300/6000]: 100%|██████████| 17/17 [00:00<00:00, 108.70it/s, loss=2.05]\n"
     ]
    },
    {
     "output_type": "stream",
     "name": "stdout",
     "text": [
      "Epoch [2300/6000]: Train loss: 1.9510, Valid loss: 1.7163\n"
     ]
    },
    {
     "output_type": "stream",
     "name": "stderr",
     "text": [
      "Epoch [2301/6000]: 100%|██████████| 17/17 [00:00<00:00, 115.52it/s, loss=2.28]\n"
     ]
    },
    {
     "output_type": "stream",
     "name": "stdout",
     "text": [
      "Epoch [2301/6000]: Train loss: 1.9515, Valid loss: 1.7713\n"
     ]
    },
    {
     "output_type": "stream",
     "name": "stderr",
     "text": [
      "Epoch [2302/6000]: 100%|██████████| 17/17 [00:00<00:00, 122.80it/s, loss=2.11]\n"
     ]
    },
    {
     "output_type": "stream",
     "name": "stdout",
     "text": [
      "Epoch [2302/6000]: Train loss: 1.9504, Valid loss: 2.0190\n"
     ]
    },
    {
     "output_type": "stream",
     "name": "stderr",
     "text": [
      "Epoch [2303/6000]: 100%|██████████| 17/17 [00:00<00:00, 115.41it/s, loss=2.88]\n"
     ]
    },
    {
     "output_type": "stream",
     "name": "stdout",
     "text": [
      "Epoch [2303/6000]: Train loss: 1.9552, Valid loss: 1.8698\n"
     ]
    },
    {
     "output_type": "stream",
     "name": "stderr",
     "text": [
      "Epoch [2304/6000]: 100%|██████████| 17/17 [00:00<00:00, 114.25it/s, loss=1.46]\n"
     ]
    },
    {
     "output_type": "stream",
     "name": "stdout",
     "text": [
      "Epoch [2304/6000]: Train loss: 1.9450, Valid loss: 1.7313\n"
     ]
    },
    {
     "output_type": "stream",
     "name": "stderr",
     "text": [
      "Epoch [2305/6000]: 100%|██████████| 17/17 [00:00<00:00, 109.09it/s, loss=1.63]\n"
     ]
    },
    {
     "output_type": "stream",
     "name": "stdout",
     "text": [
      "Epoch [2305/6000]: Train loss: 1.9458, Valid loss: 1.7743\n"
     ]
    },
    {
     "output_type": "stream",
     "name": "stderr",
     "text": [
      "Epoch [2306/6000]: 100%|██████████| 17/17 [00:00<00:00, 100.66it/s, loss=1.77]\n"
     ]
    },
    {
     "output_type": "stream",
     "name": "stdout",
     "text": [
      "Epoch [2306/6000]: Train loss: 1.9467, Valid loss: 1.7165\n"
     ]
    },
    {
     "output_type": "stream",
     "name": "stderr",
     "text": [
      "Epoch [2307/6000]: 100%|██████████| 17/17 [00:00<00:00, 100.54it/s, loss=2.73]\n"
     ]
    },
    {
     "output_type": "stream",
     "name": "stdout",
     "text": [
      "Epoch [2307/6000]: Train loss: 1.9532, Valid loss: 1.6348\n"
     ]
    },
    {
     "output_type": "stream",
     "name": "stderr",
     "text": [
      "Epoch [2308/6000]: 100%|██████████| 17/17 [00:00<00:00, 94.65it/s, loss=2.12]\n"
     ]
    },
    {
     "output_type": "stream",
     "name": "stdout",
     "text": [
      "Epoch [2308/6000]: Train loss: 1.9477, Valid loss: 1.8169\n"
     ]
    },
    {
     "output_type": "stream",
     "name": "stderr",
     "text": [
      "Epoch [2309/6000]: 100%|██████████| 17/17 [00:00<00:00, 106.41it/s, loss=2.11]\n"
     ]
    },
    {
     "output_type": "stream",
     "name": "stdout",
     "text": [
      "Epoch [2309/6000]: Train loss: 1.9489, Valid loss: 1.7845\n"
     ]
    },
    {
     "output_type": "stream",
     "name": "stderr",
     "text": [
      "Epoch [2310/6000]: 100%|██████████| 17/17 [00:00<00:00, 115.84it/s, loss=1.94]\n"
     ]
    },
    {
     "output_type": "stream",
     "name": "stdout",
     "text": [
      "Epoch [2310/6000]: Train loss: 1.9458, Valid loss: 1.9562\n"
     ]
    },
    {
     "output_type": "stream",
     "name": "stderr",
     "text": [
      "Epoch [2311/6000]: 100%|██████████| 17/17 [00:00<00:00, 126.21it/s, loss=2.27]\n"
     ]
    },
    {
     "output_type": "stream",
     "name": "stdout",
     "text": [
      "Epoch [2311/6000]: Train loss: 1.9481, Valid loss: 1.6301\n"
     ]
    },
    {
     "output_type": "stream",
     "name": "stderr",
     "text": [
      "Epoch [2312/6000]: 100%|██████████| 17/17 [00:00<00:00, 113.10it/s, loss=1.6]\n"
     ]
    },
    {
     "output_type": "stream",
     "name": "stdout",
     "text": [
      "Epoch [2312/6000]: Train loss: 1.9426, Valid loss: 2.2309\n"
     ]
    },
    {
     "output_type": "stream",
     "name": "stderr",
     "text": [
      "Epoch [2313/6000]:   0%|          | 0/17 [00:00<?, ?it/s, loss=2.02]"
     ]
    },
    {
     "output_type": "stream",
     "name": "stdout",
     "text": [
      "Epoch [2318/6000]: Train loss: 1.9425, Valid loss: 1.6550\n"
     ]
    },
    {
     "output_type": "stream",
     "name": "stderr",
     "text": [
      "Epoch [2319/6000]: 100%|██████████| 17/17 [00:00<00:00, 118.01it/s, loss=1.66]\n"
     ]
    },
    {
     "output_type": "stream",
     "name": "stdout",
     "text": [
      "Epoch [2319/6000]: Train loss: 1.9405, Valid loss: 2.0788\n"
     ]
    },
    {
     "output_type": "stream",
     "name": "stderr",
     "text": [
      "Epoch [2320/6000]: 100%|██████████| 17/17 [00:00<00:00, 117.51it/s, loss=1.97]\n"
     ]
    },
    {
     "output_type": "stream",
     "name": "stdout",
     "text": [
      "Epoch [2320/6000]: Train loss: 1.9421, Valid loss: 1.8778\n"
     ]
    },
    {
     "output_type": "stream",
     "name": "stderr",
     "text": [
      "Epoch [2321/6000]: 100%|██████████| 17/17 [00:00<00:00, 104.92it/s, loss=2.22]\n"
     ]
    },
    {
     "output_type": "stream",
     "name": "stdout",
     "text": [
      "Epoch [2321/6000]: Train loss: 1.9436, Valid loss: 1.7380\n"
     ]
    },
    {
     "output_type": "stream",
     "name": "stderr",
     "text": [
      "Epoch [2322/6000]: 100%|██████████| 17/17 [00:00<00:00, 131.43it/s, loss=1.58]\n"
     ]
    },
    {
     "output_type": "stream",
     "name": "stdout",
     "text": [
      "Epoch [2322/6000]: Train loss: 1.9389, Valid loss: 1.6821\n"
     ]
    },
    {
     "output_type": "stream",
     "name": "stderr",
     "text": [
      "Epoch [2323/6000]: 100%|██████████| 17/17 [00:00<00:00, 134.48it/s, loss=1.86]\n"
     ]
    },
    {
     "output_type": "stream",
     "name": "stdout",
     "text": [
      "Epoch [2323/6000]: Train loss: 1.9403, Valid loss: 1.7193\n"
     ]
    },
    {
     "output_type": "stream",
     "name": "stderr",
     "text": [
      "Epoch [2324/6000]: 100%|██████████| 17/17 [00:00<00:00, 109.11it/s, loss=2.21]\n"
     ]
    },
    {
     "output_type": "stream",
     "name": "stdout",
     "text": [
      "Epoch [2324/6000]: Train loss: 1.9424, Valid loss: 1.6307\n"
     ]
    },
    {
     "output_type": "stream",
     "name": "stderr",
     "text": [
      "Epoch [2325/6000]: 100%|██████████| 17/17 [00:00<00:00, 137.54it/s, loss=1.64]\n"
     ]
    },
    {
     "output_type": "stream",
     "name": "stdout",
     "text": [
      "Epoch [2325/6000]: Train loss: 1.9380, Valid loss: 1.6797\n"
     ]
    },
    {
     "output_type": "stream",
     "name": "stderr",
     "text": [
      "Epoch [2326/6000]: 100%|██████████| 17/17 [00:00<00:00, 126.47it/s, loss=2.22]\n"
     ]
    },
    {
     "output_type": "stream",
     "name": "stdout",
     "text": [
      "Epoch [2326/6000]: Train loss: 1.9419, Valid loss: 1.6580\n"
     ]
    },
    {
     "output_type": "stream",
     "name": "stderr",
     "text": [
      "Epoch [2327/6000]: 100%|██████████| 17/17 [00:00<00:00, 122.02it/s, loss=2.1]\n"
     ]
    },
    {
     "output_type": "stream",
     "name": "stdout",
     "text": [
      "Epoch [2327/6000]: Train loss: 1.9408, Valid loss: 1.9115\n"
     ]
    },
    {
     "output_type": "stream",
     "name": "stderr",
     "text": [
      "Epoch [2328/6000]: 100%|██████████| 17/17 [00:00<00:00, 128.03it/s, loss=2.07]\n"
     ]
    },
    {
     "output_type": "stream",
     "name": "stdout",
     "text": [
      "Epoch [2328/6000]: Train loss: 1.9398, Valid loss: 1.6833\n"
     ]
    },
    {
     "output_type": "stream",
     "name": "stderr",
     "text": [
      "Epoch [2329/6000]: 100%|██████████| 17/17 [00:00<00:00, 136.26it/s, loss=1.81]\n"
     ]
    },
    {
     "output_type": "stream",
     "name": "stdout",
     "text": [
      "Epoch [2329/6000]: Train loss: 1.9378, Valid loss: 1.6734\n"
     ]
    },
    {
     "output_type": "stream",
     "name": "stderr",
     "text": [
      "Epoch [2330/6000]: 100%|██████████| 17/17 [00:00<00:00, 133.79it/s, loss=2.16]\n"
     ]
    },
    {
     "output_type": "stream",
     "name": "stdout",
     "text": [
      "Epoch [2330/6000]: Train loss: 1.9399, Valid loss: 1.7788\n"
     ]
    },
    {
     "output_type": "stream",
     "name": "stderr",
     "text": [
      "Epoch [2332/6000]: 100%|██████████| 17/17 [00:00<00:00, 104.99it/s, loss=2.42]\n"
     ]
    },
    {
     "output_type": "stream",
     "name": "stdout",
     "text": [
      "Epoch [2332/6000]: Train loss: 1.9415, Valid loss: 1.7937\n"
     ]
    },
    {
     "output_type": "stream",
     "name": "stderr",
     "text": [
      "Epoch [2333/6000]: 100%|██████████| 17/17 [00:00<00:00, 100.83it/s, loss=1.61]\n"
     ]
    },
    {
     "output_type": "stream",
     "name": "stdout",
     "text": [
      "Epoch [2333/6000]: Train loss: 1.9350, Valid loss: 1.8403\n"
     ]
    },
    {
     "output_type": "stream",
     "name": "stderr",
     "text": [
      "Epoch [2334/6000]: 100%|██████████| 17/17 [00:00<00:00, 117.79it/s, loss=1.86]\n"
     ]
    },
    {
     "output_type": "stream",
     "name": "stdout",
     "text": [
      "Epoch [2334/6000]: Train loss: 1.9362, Valid loss: 1.7308\n"
     ]
    },
    {
     "output_type": "stream",
     "name": "stderr",
     "text": [
      "Epoch [2335/6000]: 100%|██████████| 17/17 [00:00<00:00, 122.94it/s, loss=1.58]\n"
     ]
    },
    {
     "output_type": "stream",
     "name": "stdout",
     "text": [
      "Epoch [2335/6000]: Train loss: 1.9337, Valid loss: 1.7461\n"
     ]
    },
    {
     "output_type": "stream",
     "name": "stderr",
     "text": [
      "Epoch [2336/6000]: 100%|██████████| 17/17 [00:00<00:00, 109.53it/s, loss=1.65]\n"
     ]
    },
    {
     "output_type": "stream",
     "name": "stdout",
     "text": [
      "Epoch [2336/6000]: Train loss: 1.9340, Valid loss: 1.8503\n"
     ]
    },
    {
     "output_type": "stream",
     "name": "stderr",
     "text": [
      "Epoch [2337/6000]: 100%|██████████| 17/17 [00:00<00:00, 123.90it/s, loss=1.94]\n"
     ]
    },
    {
     "output_type": "stream",
     "name": "stdout",
     "text": [
      "Epoch [2337/6000]: Train loss: 1.9357, Valid loss: 1.8202\n"
     ]
    },
    {
     "output_type": "stream",
     "name": "stderr",
     "text": [
      "Epoch [2338/6000]: 100%|██████████| 17/17 [00:00<00:00, 89.93it/s, loss=2.18]\n"
     ]
    },
    {
     "output_type": "stream",
     "name": "stdout",
     "text": [
      "Epoch [2338/6000]: Train loss: 1.9371, Valid loss: 1.7297\n"
     ]
    },
    {
     "output_type": "stream",
     "name": "stderr",
     "text": [
      "Epoch [2339/6000]: 100%|██████████| 17/17 [00:00<00:00, 101.57it/s, loss=2.04]\n"
     ]
    },
    {
     "output_type": "stream",
     "name": "stdout",
     "text": [
      "Epoch [2339/6000]: Train loss: 1.9369, Valid loss: 1.6597\n"
     ]
    },
    {
     "output_type": "stream",
     "name": "stderr",
     "text": [
      "Epoch [2340/6000]: 100%|██████████| 17/17 [00:00<00:00, 120.63it/s, loss=2.08]\n"
     ]
    },
    {
     "output_type": "stream",
     "name": "stdout",
     "text": [
      "Epoch [2340/6000]: Train loss: 1.9356, Valid loss: 1.8355\n"
     ]
    },
    {
     "output_type": "stream",
     "name": "stderr",
     "text": [
      "Epoch [2341/6000]: 100%|██████████| 17/17 [00:00<00:00, 120.21it/s, loss=2.23]\n"
     ]
    },
    {
     "output_type": "stream",
     "name": "stdout",
     "text": [
      "Epoch [2341/6000]: Train loss: 1.9367, Valid loss: 1.7471\n"
     ]
    },
    {
     "output_type": "stream",
     "name": "stderr",
     "text": [
      "Epoch [2342/6000]: 100%|██████████| 17/17 [00:00<00:00, 122.43it/s, loss=2.47]\n"
     ]
    },
    {
     "output_type": "stream",
     "name": "stdout",
     "text": [
      "Epoch [2342/6000]: Train loss: 1.9378, Valid loss: 1.8425\n"
     ]
    },
    {
     "output_type": "stream",
     "name": "stderr",
     "text": [
      "Epoch [2343/6000]: 100%|██████████| 17/17 [00:00<00:00, 108.22it/s, loss=1.28]\n"
     ]
    },
    {
     "output_type": "stream",
     "name": "stdout",
     "text": [
      "Epoch [2343/6000]: Train loss: 1.9287, Valid loss: 1.7966\n"
     ]
    },
    {
     "output_type": "stream",
     "name": "stderr",
     "text": [
      "Epoch [2344/6000]: 100%|██████████| 17/17 [00:00<00:00, 112.65it/s, loss=1.79]\n"
     ]
    },
    {
     "output_type": "stream",
     "name": "stdout",
     "text": [
      "Epoch [2344/6000]: Train loss: 1.9325, Valid loss: 1.7671\n"
     ]
    },
    {
     "output_type": "stream",
     "name": "stderr",
     "text": [
      "Epoch [2345/6000]: 100%|██████████| 17/17 [00:00<00:00, 104.26it/s, loss=2.59]\n"
     ]
    },
    {
     "output_type": "stream",
     "name": "stdout",
     "text": [
      "Epoch [2345/6000]: Train loss: 1.9381, Valid loss: 1.8292\n"
     ]
    },
    {
     "output_type": "stream",
     "name": "stderr",
     "text": [
      "Epoch [2346/6000]: 100%|██████████| 17/17 [00:00<00:00, 108.29it/s, loss=1.59]\n"
     ]
    },
    {
     "output_type": "stream",
     "name": "stdout",
     "text": [
      "Epoch [2346/6000]: Train loss: 1.9297, Valid loss: 2.0180\n"
     ]
    },
    {
     "output_type": "stream",
     "name": "stderr",
     "text": [
      "Epoch [2347/6000]: 100%|██████████| 17/17 [00:00<00:00, 127.81it/s, loss=1.73]\n"
     ]
    },
    {
     "output_type": "stream",
     "name": "stdout",
     "text": [
      "Epoch [2347/6000]: Train loss: 1.9307, Valid loss: 1.9313\n"
     ]
    },
    {
     "output_type": "stream",
     "name": "stderr",
     "text": [
      "Epoch [2348/6000]: 100%|██████████| 17/17 [00:00<00:00, 123.99it/s, loss=1.52]\n"
     ]
    },
    {
     "output_type": "stream",
     "name": "stdout",
     "text": [
      "Epoch [2348/6000]: Train loss: 1.9288, Valid loss: 1.6579\n"
     ]
    },
    {
     "output_type": "stream",
     "name": "stderr",
     "text": [
      "Epoch [2349/6000]: 100%|██████████| 17/17 [00:00<00:00, 117.43it/s, loss=2.19]\n"
     ]
    },
    {
     "output_type": "stream",
     "name": "stdout",
     "text": [
      "Epoch [2349/6000]: Train loss: 1.9334, Valid loss: 1.6587\n"
     ]
    },
    {
     "output_type": "stream",
     "name": "stderr",
     "text": [
      "Epoch [2350/6000]: 100%|██████████| 17/17 [00:00<00:00, 123.82it/s, loss=2.11]\n"
     ]
    },
    {
     "output_type": "stream",
     "name": "stdout",
     "text": [
      "Epoch [2350/6000]: Train loss: 1.9338, Valid loss: 1.7781\n"
     ]
    },
    {
     "output_type": "stream",
     "name": "stderr",
     "text": [
      "Epoch [2351/6000]: 100%|██████████| 17/17 [00:00<00:00, 106.74it/s, loss=1.77]\n"
     ]
    },
    {
     "output_type": "stream",
     "name": "stdout",
     "text": [
      "Epoch [2351/6000]: Train loss: 1.9299, Valid loss: 1.8854\n"
     ]
    },
    {
     "output_type": "stream",
     "name": "stderr",
     "text": [
      "Epoch [2352/6000]: 100%|██████████| 17/17 [00:00<00:00, 117.84it/s, loss=2.29]\n"
     ]
    },
    {
     "output_type": "stream",
     "name": "stdout",
     "text": [
      "Epoch [2352/6000]: Train loss: 1.9331, Valid loss: 1.7966\n"
     ]
    },
    {
     "output_type": "stream",
     "name": "stderr",
     "text": [
      "Epoch [2353/6000]: 100%|██████████| 17/17 [00:00<00:00, 118.49it/s, loss=1.95]\n"
     ]
    },
    {
     "output_type": "stream",
     "name": "stdout",
     "text": [
      "Epoch [2353/6000]: Train loss: 1.9303, Valid loss: 1.6220\n"
     ]
    },
    {
     "output_type": "stream",
     "name": "stderr",
     "text": [
      "Epoch [2354/6000]: 100%|██████████| 17/17 [00:00<00:00, 117.96it/s, loss=2.13]\n"
     ]
    },
    {
     "output_type": "stream",
     "name": "stdout",
     "text": [
      "Epoch [2354/6000]: Train loss: 1.9310, Valid loss: 1.7249\n"
     ]
    },
    {
     "output_type": "stream",
     "name": "stderr",
     "text": [
      "Epoch [2355/6000]: 100%|██████████| 17/17 [00:00<00:00, 110.53it/s, loss=2.04]\n"
     ]
    },
    {
     "output_type": "stream",
     "name": "stdout",
     "text": [
      "Epoch [2355/6000]: Train loss: 1.9299, Valid loss: 1.7707\n"
     ]
    },
    {
     "output_type": "stream",
     "name": "stderr",
     "text": [
      "Epoch [2356/6000]: 100%|██████████| 17/17 [00:00<00:00, 123.12it/s, loss=1.8]\n"
     ]
    },
    {
     "output_type": "stream",
     "name": "stdout",
     "text": [
      "Epoch [2356/6000]: Train loss: 1.9277, Valid loss: 1.7980\n"
     ]
    },
    {
     "output_type": "stream",
     "name": "stderr",
     "text": [
      "Epoch [2357/6000]: 100%|██████████| 17/17 [00:00<00:00, 121.78it/s, loss=1.49]\n"
     ]
    },
    {
     "output_type": "stream",
     "name": "stdout",
     "text": [
      "Epoch [2357/6000]: Train loss: 1.9250, Valid loss: 1.6483\n"
     ]
    },
    {
     "output_type": "stream",
     "name": "stderr",
     "text": [
      "Epoch [2358/6000]: 100%|██████████| 17/17 [00:00<00:00, 112.50it/s, loss=1.72]\n"
     ]
    },
    {
     "output_type": "stream",
     "name": "stdout",
     "text": [
      "Epoch [2358/6000]: Train loss: 1.9264, Valid loss: 1.6448\n"
     ]
    },
    {
     "output_type": "stream",
     "name": "stderr",
     "text": [
      "Epoch [2359/6000]: 100%|██████████| 17/17 [00:00<00:00, 114.58it/s, loss=1.97]\n"
     ]
    },
    {
     "output_type": "stream",
     "name": "stdout",
     "text": [
      "Epoch [2359/6000]: Train loss: 1.9278, Valid loss: 1.7028\n"
     ]
    },
    {
     "output_type": "stream",
     "name": "stderr",
     "text": [
      "Epoch [2360/6000]: 100%|██████████| 17/17 [00:00<00:00, 127.87it/s, loss=1.73]\n"
     ]
    },
    {
     "output_type": "stream",
     "name": "stdout",
     "text": [
      "Epoch [2360/6000]: Train loss: 1.9256, Valid loss: 1.8099\n"
     ]
    },
    {
     "output_type": "stream",
     "name": "stderr",
     "text": [
      "Epoch [2361/6000]: 100%|██████████| 17/17 [00:00<00:00, 108.42it/s, loss=1.77]\n"
     ]
    },
    {
     "output_type": "stream",
     "name": "stdout",
     "text": [
      "Epoch [2361/6000]: Train loss: 1.9258, Valid loss: 2.1399\n"
     ]
    },
    {
     "output_type": "stream",
     "name": "stderr",
     "text": [
      "Epoch [2362/6000]: 100%|██████████| 17/17 [00:00<00:00, 102.13it/s, loss=1.69]\n"
     ]
    },
    {
     "output_type": "stream",
     "name": "stdout",
     "text": [
      "Epoch [2362/6000]: Train loss: 1.9246, Valid loss: 1.6535\n"
     ]
    },
    {
     "output_type": "stream",
     "name": "stderr",
     "text": [
      "Epoch [2363/6000]: 100%|██████████| 17/17 [00:00<00:00, 109.23it/s, loss=1.74]\n"
     ]
    },
    {
     "output_type": "stream",
     "name": "stdout",
     "text": [
      "Epoch [2363/6000]: Train loss: 1.9246, Valid loss: 1.8232\n"
     ]
    },
    {
     "output_type": "stream",
     "name": "stderr",
     "text": [
      "Epoch [2364/6000]: 100%|██████████| 17/17 [00:00<00:00, 126.02it/s, loss=2.06]\n"
     ]
    },
    {
     "output_type": "stream",
     "name": "stdout",
     "text": [
      "Epoch [2364/6000]: Train loss: 1.9266, Valid loss: 1.6982\n"
     ]
    },
    {
     "output_type": "stream",
     "name": "stderr",
     "text": [
      "Epoch [2365/6000]: 100%|██████████| 17/17 [00:00<00:00, 127.97it/s, loss=1.46]\n"
     ]
    },
    {
     "output_type": "stream",
     "name": "stdout",
     "text": [
      "Epoch [2365/6000]: Train loss: 1.9220, Valid loss: 1.9504\n"
     ]
    },
    {
     "output_type": "stream",
     "name": "stderr",
     "text": [
      "Epoch [2366/6000]: 100%|██████████| 17/17 [00:00<00:00, 116.09it/s, loss=1.52]\n"
     ]
    },
    {
     "output_type": "stream",
     "name": "stdout",
     "text": [
      "Epoch [2366/6000]: Train loss: 1.9218, Valid loss: 1.7038\n"
     ]
    },
    {
     "output_type": "stream",
     "name": "stderr",
     "text": [
      "Epoch [2367/6000]: 100%|██████████| 17/17 [00:00<00:00, 112.31it/s, loss=2.48]\n"
     ]
    },
    {
     "output_type": "stream",
     "name": "stdout",
     "text": [
      "Epoch [2367/6000]: Train loss: 1.9288, Valid loss: 1.6428\n"
     ]
    },
    {
     "output_type": "stream",
     "name": "stderr",
     "text": [
      "Epoch [2368/6000]: 100%|██████████| 17/17 [00:00<00:00, 108.09it/s, loss=2.09]\n"
     ]
    },
    {
     "output_type": "stream",
     "name": "stdout",
     "text": [
      "Epoch [2368/6000]: Train loss: 1.9253, Valid loss: 1.6162\n"
     ]
    },
    {
     "output_type": "stream",
     "name": "stderr",
     "text": [
      "Epoch [2369/6000]: 100%|██████████| 17/17 [00:00<00:00, 125.30it/s, loss=1.83]\n"
     ]
    },
    {
     "output_type": "stream",
     "name": "stdout",
     "text": [
      "Epoch [2369/6000]: Train loss: 1.9233, Valid loss: 1.7596\n"
     ]
    },
    {
     "output_type": "stream",
     "name": "stderr",
     "text": [
      "Epoch [2370/6000]: 100%|██████████| 17/17 [00:00<00:00, 128.19it/s, loss=1.86]\n"
     ]
    },
    {
     "output_type": "stream",
     "name": "stdout",
     "text": [
      "Epoch [2370/6000]: Train loss: 1.9231, Valid loss: 1.7022\n"
     ]
    },
    {
     "output_type": "stream",
     "name": "stderr",
     "text": [
      "Epoch [2371/6000]: 100%|██████████| 17/17 [00:00<00:00, 133.87it/s, loss=1.9]\n"
     ]
    },
    {
     "output_type": "stream",
     "name": "stdout",
     "text": [
      "Epoch [2371/6000]: Train loss: 1.9233, Valid loss: 1.8171\n"
     ]
    },
    {
     "output_type": "stream",
     "name": "stderr",
     "text": [
      "Epoch [2372/6000]: 100%|██████████| 17/17 [00:00<00:00, 116.12it/s, loss=2.18]\n"
     ]
    },
    {
     "output_type": "stream",
     "name": "stdout",
     "text": [
      "Epoch [2372/6000]: Train loss: 1.9250, Valid loss: 1.6797\n"
     ]
    },
    {
     "output_type": "stream",
     "name": "stderr",
     "text": [
      "Epoch [2373/6000]: 100%|██████████| 17/17 [00:00<00:00, 126.30it/s, loss=1.6]\n"
     ]
    },
    {
     "output_type": "stream",
     "name": "stdout",
     "text": [
      "Epoch [2373/6000]: Train loss: 1.9202, Valid loss: 1.6249\n"
     ]
    },
    {
     "output_type": "stream",
     "name": "stderr",
     "text": [
      "Epoch [2374/6000]: 100%|██████████| 17/17 [00:00<00:00, 102.95it/s, loss=2.53]\n"
     ]
    },
    {
     "output_type": "stream",
     "name": "stdout",
     "text": [
      "Epoch [2374/6000]: Train loss: 1.9271, Valid loss: 2.1522\n"
     ]
    },
    {
     "output_type": "stream",
     "name": "stderr",
     "text": [
      "Epoch [2375/6000]: 100%|██████████| 17/17 [00:00<00:00, 119.43it/s, loss=1.9]\n"
     ]
    },
    {
     "output_type": "stream",
     "name": "stdout",
     "text": [
      "Epoch [2375/6000]: Train loss: 1.9217, Valid loss: 2.0203\n"
     ]
    },
    {
     "output_type": "stream",
     "name": "stderr",
     "text": [
      "Epoch [2376/6000]: 100%|██████████| 17/17 [00:00<00:00, 132.78it/s, loss=2.09]\n"
     ]
    },
    {
     "output_type": "stream",
     "name": "stdout",
     "text": [
      "Epoch [2376/6000]: Train loss: 1.9232, Valid loss: 1.7672\n"
     ]
    },
    {
     "output_type": "stream",
     "name": "stderr",
     "text": [
      "Epoch [2377/6000]: 100%|██████████| 17/17 [00:00<00:00, 138.37it/s, loss=1.72]\n"
     ]
    },
    {
     "output_type": "stream",
     "name": "stdout",
     "text": [
      "Epoch [2377/6000]: Train loss: 1.9194, Valid loss: 1.6469\n"
     ]
    },
    {
     "output_type": "stream",
     "name": "stderr",
     "text": [
      "Epoch [2378/6000]: 100%|██████████| 17/17 [00:00<00:00, 126.03it/s, loss=1.8]\n"
     ]
    },
    {
     "output_type": "stream",
     "name": "stdout",
     "text": [
      "Epoch [2378/6000]: Train loss: 1.9198, Valid loss: 1.6582\n"
     ]
    },
    {
     "output_type": "stream",
     "name": "stderr",
     "text": [
      "Epoch [2379/6000]: 100%|██████████| 17/17 [00:00<00:00, 130.29it/s, loss=1.91]\n"
     ]
    },
    {
     "output_type": "stream",
     "name": "stdout",
     "text": [
      "Epoch [2379/6000]: Train loss: 1.9203, Valid loss: 1.7620\n"
     ]
    },
    {
     "output_type": "stream",
     "name": "stderr",
     "text": [
      "Epoch [2380/6000]: 100%|██████████| 17/17 [00:00<00:00, 106.37it/s, loss=1.4]\n"
     ]
    },
    {
     "output_type": "stream",
     "name": "stdout",
     "text": [
      "Epoch [2380/6000]: Train loss: 1.9162, Valid loss: 1.9447\n"
     ]
    },
    {
     "output_type": "stream",
     "name": "stderr",
     "text": [
      "Epoch [2381/6000]: 100%|██████████| 17/17 [00:00<00:00, 137.86it/s, loss=2.33]\n"
     ]
    },
    {
     "output_type": "stream",
     "name": "stdout",
     "text": [
      "Epoch [2381/6000]: Train loss: 1.9223, Valid loss: 1.6248\n"
     ]
    },
    {
     "output_type": "stream",
     "name": "stderr",
     "text": [
      "Epoch [2382/6000]: 100%|██████████| 17/17 [00:00<00:00, 122.25it/s, loss=3.03]\n"
     ]
    },
    {
     "output_type": "stream",
     "name": "stdout",
     "text": [
      "Epoch [2382/6000]: Train loss: 1.9274, Valid loss: 1.8841\n"
     ]
    },
    {
     "output_type": "stream",
     "name": "stderr",
     "text": [
      "Epoch [2394/6000]: 100%|██████████| 17/17 [00:00<00:00, 115.41it/s, loss=1.88]\n"
     ]
    },
    {
     "output_type": "stream",
     "name": "stdout",
     "text": [
      "Epoch [2394/6000]: Train loss: 1.9153, Valid loss: 1.6610\n"
     ]
    },
    {
     "output_type": "stream",
     "name": "stderr",
     "text": [
      "Epoch [2395/6000]: 100%|██████████| 17/17 [00:00<00:00, 115.80it/s, loss=1.45]\n"
     ]
    },
    {
     "output_type": "stream",
     "name": "stdout",
     "text": [
      "Epoch [2395/6000]: Train loss: 1.9110, Valid loss: 1.8289\n"
     ]
    },
    {
     "output_type": "stream",
     "name": "stderr",
     "text": [
      "Epoch [2396/6000]: 100%|██████████| 17/17 [00:00<00:00, 113.53it/s, loss=2.15]\n"
     ]
    },
    {
     "output_type": "stream",
     "name": "stdout",
     "text": [
      "Epoch [2396/6000]: Train loss: 1.9160, Valid loss: 1.8517\n"
     ]
    },
    {
     "output_type": "stream",
     "name": "stderr",
     "text": [
      "Epoch [2397/6000]: 100%|██████████| 17/17 [00:00<00:00, 112.45it/s, loss=2.16]\n"
     ]
    },
    {
     "output_type": "stream",
     "name": "stdout",
     "text": [
      "Epoch [2397/6000]: Train loss: 1.9156, Valid loss: 1.6412\n"
     ]
    },
    {
     "output_type": "stream",
     "name": "stderr",
     "text": [
      "Epoch [2398/6000]: 100%|██████████| 17/17 [00:00<00:00, 108.48it/s, loss=1.45]\n"
     ]
    },
    {
     "output_type": "stream",
     "name": "stdout",
     "text": [
      "Epoch [2398/6000]: Train loss: 1.9098, Valid loss: 1.9287\n"
     ]
    },
    {
     "output_type": "stream",
     "name": "stderr",
     "text": [
      "Epoch [2399/6000]: 100%|██████████| 17/17 [00:00<00:00, 109.87it/s, loss=1.68]\n"
     ]
    },
    {
     "output_type": "stream",
     "name": "stdout",
     "text": [
      "Epoch [2399/6000]: Train loss: 1.9112, Valid loss: 1.8226\n"
     ]
    },
    {
     "output_type": "stream",
     "name": "stderr",
     "text": [
      "Epoch [2400/6000]: 100%|██████████| 17/17 [00:00<00:00, 115.90it/s, loss=2.79]\n"
     ]
    },
    {
     "output_type": "stream",
     "name": "stdout",
     "text": [
      "Epoch [2400/6000]: Train loss: 1.9188, Valid loss: 1.7353\n"
     ]
    },
    {
     "output_type": "stream",
     "name": "stderr",
     "text": [
      "Epoch [2401/6000]: 100%|██████████| 17/17 [00:00<00:00, 114.58it/s, loss=1.95]\n"
     ]
    },
    {
     "output_type": "stream",
     "name": "stdout",
     "text": [
      "Epoch [2401/6000]: Train loss: 1.9127, Valid loss: 1.5867\n",
      "Saving model with loss 1.587...\n"
     ]
    },
    {
     "output_type": "stream",
     "name": "stderr",
     "text": [
      "Epoch [2402/6000]: 100%|██████████| 17/17 [00:00<00:00, 125.23it/s, loss=1.66]\n"
     ]
    },
    {
     "output_type": "stream",
     "name": "stdout",
     "text": [
      "Epoch [2402/6000]: Train loss: 1.9099, Valid loss: 1.6735\n"
     ]
    },
    {
     "output_type": "stream",
     "name": "stderr",
     "text": [
      "Epoch [2403/6000]: 100%|██████████| 17/17 [00:00<00:00, 118.84it/s, loss=1.49]\n"
     ]
    },
    {
     "output_type": "stream",
     "name": "stdout",
     "text": [
      "Epoch [2403/6000]: Train loss: 1.9083, Valid loss: 1.7297\n"
     ]
    },
    {
     "output_type": "stream",
     "name": "stderr",
     "text": [
      "Epoch [2404/6000]: 100%|██████████| 17/17 [00:00<00:00, 107.15it/s, loss=1.61]\n"
     ]
    },
    {
     "output_type": "stream",
     "name": "stdout",
     "text": [
      "Epoch [2404/6000]: Train loss: 1.9090, Valid loss: 1.7454\n"
     ]
    },
    {
     "output_type": "stream",
     "name": "stderr",
     "text": [
      "Epoch [2405/6000]: 100%|██████████| 17/17 [00:00<00:00, 136.87it/s, loss=2.2]\n"
     ]
    },
    {
     "output_type": "stream",
     "name": "stdout",
     "text": [
      "Epoch [2405/6000]: Train loss: 1.9135, Valid loss: 1.7920\n"
     ]
    },
    {
     "output_type": "stream",
     "name": "stderr",
     "text": [
      "Epoch [2413/6000]: 100%|██████████| 17/17 [00:00<00:00, 115.09it/s, loss=1.64]\n"
     ]
    },
    {
     "output_type": "stream",
     "name": "stdout",
     "text": [
      "Epoch [2413/6000]: Train loss: 1.9060, Valid loss: 1.6613\n"
     ]
    },
    {
     "output_type": "stream",
     "name": "stderr",
     "text": [
      "Epoch [2414/6000]: 100%|██████████| 17/17 [00:00<00:00, 117.19it/s, loss=1.63]\n"
     ]
    },
    {
     "output_type": "stream",
     "name": "stdout",
     "text": [
      "Epoch [2414/6000]: Train loss: 1.9056, Valid loss: 1.6748\n"
     ]
    },
    {
     "output_type": "stream",
     "name": "stderr",
     "text": [
      "Epoch [2415/6000]: 100%|██████████| 17/17 [00:00<00:00, 115.02it/s, loss=1.93]\n"
     ]
    },
    {
     "output_type": "stream",
     "name": "stdout",
     "text": [
      "Epoch [2415/6000]: Train loss: 1.9076, Valid loss: 1.6644\n"
     ]
    },
    {
     "output_type": "stream",
     "name": "stderr",
     "text": [
      "Epoch [2416/6000]: 100%|██████████| 17/17 [00:00<00:00, 116.97it/s, loss=1.92]\n"
     ]
    },
    {
     "output_type": "stream",
     "name": "stdout",
     "text": [
      "Epoch [2416/6000]: Train loss: 1.9068, Valid loss: 1.6843\n"
     ]
    },
    {
     "output_type": "stream",
     "name": "stderr",
     "text": [
      "Epoch [2417/6000]: 100%|██████████| 17/17 [00:00<00:00, 105.19it/s, loss=1.75]\n"
     ]
    },
    {
     "output_type": "stream",
     "name": "stdout",
     "text": [
      "Epoch [2417/6000]: Train loss: 1.9053, Valid loss: 1.7163\n"
     ]
    },
    {
     "output_type": "stream",
     "name": "stderr",
     "text": [
      "Epoch [2418/6000]: 100%|██████████| 17/17 [00:00<00:00, 107.13it/s, loss=1.91]\n"
     ]
    },
    {
     "output_type": "stream",
     "name": "stdout",
     "text": [
      "Epoch [2418/6000]: Train loss: 1.9061, Valid loss: 1.6850\n"
     ]
    },
    {
     "output_type": "stream",
     "name": "stderr",
     "text": [
      "Epoch [2419/6000]: 100%|██████████| 17/17 [00:00<00:00, 109.10it/s, loss=1.51]\n"
     ]
    },
    {
     "output_type": "stream",
     "name": "stdout",
     "text": [
      "Epoch [2419/6000]: Train loss: 1.9035, Valid loss: 1.8744\n"
     ]
    },
    {
     "output_type": "stream",
     "name": "stderr",
     "text": [
      "Epoch [2420/6000]: 100%|██████████| 17/17 [00:00<00:00, 108.68it/s, loss=2.31]\n"
     ]
    },
    {
     "output_type": "stream",
     "name": "stdout",
     "text": [
      "Epoch [2420/6000]: Train loss: 1.9082, Valid loss: 1.6462\n"
     ]
    },
    {
     "output_type": "stream",
     "name": "stderr",
     "text": [
      "Epoch [2421/6000]: 100%|██████████| 17/17 [00:00<00:00, 115.08it/s, loss=1.57]\n"
     ]
    },
    {
     "output_type": "stream",
     "name": "stdout",
     "text": [
      "Epoch [2421/6000]: Train loss: 1.9026, Valid loss: 1.7632\n"
     ]
    },
    {
     "output_type": "stream",
     "name": "stderr",
     "text": [
      "Epoch [2422/6000]: 100%|██████████| 17/17 [00:00<00:00, 114.01it/s, loss=2.18]\n"
     ]
    },
    {
     "output_type": "stream",
     "name": "stdout",
     "text": [
      "Epoch [2422/6000]: Train loss: 1.9067, Valid loss: 1.7733\n"
     ]
    },
    {
     "output_type": "stream",
     "name": "stderr",
     "text": [
      "Epoch [2423/6000]: 100%|██████████| 17/17 [00:00<00:00, 126.97it/s, loss=2.15]\n"
     ]
    },
    {
     "output_type": "stream",
     "name": "stdout",
     "text": [
      "Epoch [2423/6000]: Train loss: 1.9061, Valid loss: 1.7508\n"
     ]
    },
    {
     "output_type": "stream",
     "name": "stderr",
     "text": [
      "Epoch [2424/6000]: 100%|██████████| 17/17 [00:00<00:00, 119.17it/s, loss=2.21]\n"
     ]
    },
    {
     "output_type": "stream",
     "name": "stdout",
     "text": [
      "Epoch [2424/6000]: Train loss: 1.9064, Valid loss: 1.6791\n"
     ]
    },
    {
     "output_type": "stream",
     "name": "stderr",
     "text": [
      "Epoch [2425/6000]: 100%|██████████| 17/17 [00:00<00:00, 100.30it/s, loss=2.28]\n"
     ]
    },
    {
     "output_type": "stream",
     "name": "stdout",
     "text": [
      "Epoch [2425/6000]: Train loss: 1.9065, Valid loss: 1.8058\n"
     ]
    },
    {
     "output_type": "stream",
     "name": "stderr",
     "text": [
      "Epoch [2426/6000]: 100%|██████████| 17/17 [00:00<00:00, 114.29it/s, loss=1.69]\n"
     ]
    },
    {
     "output_type": "stream",
     "name": "stdout",
     "text": [
      "Epoch [2426/6000]: Train loss: 1.9027, Valid loss: 1.6365\n"
     ]
    },
    {
     "output_type": "stream",
     "name": "stderr",
     "text": [
      "Epoch [2427/6000]: 100%|██████████| 17/17 [00:00<00:00, 101.79it/s, loss=2.07]\n"
     ]
    },
    {
     "output_type": "stream",
     "name": "stdout",
     "text": [
      "Epoch [2427/6000]: Train loss: 1.9043, Valid loss: 1.6119\n"
     ]
    },
    {
     "output_type": "stream",
     "name": "stderr",
     "text": [
      "Epoch [2428/6000]: 100%|██████████| 17/17 [00:00<00:00, 120.29it/s, loss=1.6]\n"
     ]
    },
    {
     "output_type": "stream",
     "name": "stdout",
     "text": [
      "Epoch [2428/6000]: Train loss: 1.9004, Valid loss: 1.7195\n"
     ]
    },
    {
     "output_type": "stream",
     "name": "stderr",
     "text": [
      "Epoch [2429/6000]: 100%|██████████| 17/17 [00:00<00:00, 120.94it/s, loss=1.63]\n"
     ]
    },
    {
     "output_type": "stream",
     "name": "stdout",
     "text": [
      "Epoch [2429/6000]: Train loss: 1.9008, Valid loss: 1.8143\n"
     ]
    },
    {
     "output_type": "stream",
     "name": "stderr",
     "text": [
      "Epoch [2430/6000]: 100%|██████████| 17/17 [00:00<00:00, 118.57it/s, loss=1.75]\n"
     ]
    },
    {
     "output_type": "stream",
     "name": "stdout",
     "text": [
      "Epoch [2430/6000]: Train loss: 1.9005, Valid loss: 1.6362\n"
     ]
    },
    {
     "output_type": "stream",
     "name": "stderr",
     "text": [
      "Epoch [2431/6000]: 100%|██████████| 17/17 [00:00<00:00, 114.54it/s, loss=1.68]\n"
     ]
    },
    {
     "output_type": "stream",
     "name": "stdout",
     "text": [
      "Epoch [2431/6000]: Train loss: 1.9002, Valid loss: 1.6813\n"
     ]
    },
    {
     "output_type": "stream",
     "name": "stderr",
     "text": [
      "Epoch [2432/6000]: 100%|██████████| 17/17 [00:00<00:00, 121.06it/s, loss=2.06]\n"
     ]
    },
    {
     "output_type": "stream",
     "name": "stdout",
     "text": [
      "Epoch [2432/6000]: Train loss: 1.9023, Valid loss: 1.8792\n"
     ]
    },
    {
     "output_type": "stream",
     "name": "stderr",
     "text": [
      "Epoch [2433/6000]: 100%|██████████| 17/17 [00:00<00:00, 113.72it/s, loss=1.92]\n"
     ]
    },
    {
     "output_type": "stream",
     "name": "stdout",
     "text": [
      "Epoch [2433/6000]: Train loss: 1.9010, Valid loss: 1.7973\n"
     ]
    },
    {
     "output_type": "stream",
     "name": "stderr",
     "text": [
      "Epoch [2434/6000]: 100%|██████████| 17/17 [00:00<00:00, 106.04it/s, loss=2.2]\n"
     ]
    },
    {
     "output_type": "stream",
     "name": "stdout",
     "text": [
      "Epoch [2434/6000]: Train loss: 1.9030, Valid loss: 1.5856\n",
      "Saving model with loss 1.586...\n"
     ]
    },
    {
     "output_type": "stream",
     "name": "stderr",
     "text": [
      "Epoch [2435/6000]: 100%|██████████| 17/17 [00:00<00:00, 103.75it/s, loss=1.67]\n"
     ]
    },
    {
     "output_type": "stream",
     "name": "stdout",
     "text": [
      "Epoch [2435/6000]: Train loss: 1.8987, Valid loss: 1.6835\n"
     ]
    },
    {
     "output_type": "stream",
     "name": "stderr",
     "text": [
      "Epoch [2436/6000]: 100%|██████████| 17/17 [00:00<00:00, 101.76it/s, loss=1.7]\n"
     ]
    },
    {
     "output_type": "stream",
     "name": "stdout",
     "text": [
      "Epoch [2436/6000]: Train loss: 1.8981, Valid loss: 1.6079\n"
     ]
    },
    {
     "output_type": "stream",
     "name": "stderr",
     "text": [
      "Epoch [2437/6000]: 100%|██████████| 17/17 [00:00<00:00, 106.90it/s, loss=2.37]\n"
     ]
    },
    {
     "output_type": "stream",
     "name": "stdout",
     "text": [
      "Epoch [2437/6000]: Train loss: 1.9036, Valid loss: 1.6313\n"
     ]
    },
    {
     "output_type": "stream",
     "name": "stderr",
     "text": [
      "Epoch [2438/6000]: 100%|██████████| 17/17 [00:00<00:00, 113.75it/s, loss=1.88]\n"
     ]
    },
    {
     "output_type": "stream",
     "name": "stdout",
     "text": [
      "Epoch [2438/6000]: Train loss: 1.8989, Valid loss: 1.6538\n"
     ]
    },
    {
     "output_type": "stream",
     "name": "stderr",
     "text": [
      "Epoch [2439/6000]: 100%|██████████| 17/17 [00:00<00:00, 113.20it/s, loss=2.24]\n"
     ]
    },
    {
     "output_type": "stream",
     "name": "stdout",
     "text": [
      "Epoch [2439/6000]: Train loss: 1.9013, Valid loss: 1.6504\n"
     ]
    },
    {
     "output_type": "stream",
     "name": "stderr",
     "text": [
      "Epoch [2440/6000]: 100%|██████████| 17/17 [00:00<00:00, 100.57it/s, loss=1.5]\n"
     ]
    },
    {
     "output_type": "stream",
     "name": "stdout",
     "text": [
      "Epoch [2440/6000]: Train loss: 1.8952, Valid loss: 1.7127\n"
     ]
    },
    {
     "output_type": "stream",
     "name": "stderr",
     "text": [
      "Epoch [2441/6000]: 100%|██████████| 17/17 [00:00<00:00, 110.59it/s, loss=2.06]\n"
     ]
    },
    {
     "output_type": "stream",
     "name": "stdout",
     "text": [
      "Epoch [2441/6000]: Train loss: 1.8995, Valid loss: 1.7198\n"
     ]
    },
    {
     "output_type": "stream",
     "name": "stderr",
     "text": [
      "Epoch [2442/6000]: 100%|██████████| 17/17 [00:00<00:00, 95.47it/s, loss=1.68]\n"
     ]
    },
    {
     "output_type": "stream",
     "name": "stdout",
     "text": [
      "Epoch [2442/6000]: Train loss: 1.8959, Valid loss: 1.7279\n"
     ]
    },
    {
     "output_type": "stream",
     "name": "stderr",
     "text": [
      "Epoch [2443/6000]: 100%|██████████| 17/17 [00:00<00:00, 127.99it/s, loss=1.67]\n"
     ]
    },
    {
     "output_type": "stream",
     "name": "stdout",
     "text": [
      "Epoch [2443/6000]: Train loss: 1.8961, Valid loss: 1.7228\n"
     ]
    },
    {
     "output_type": "stream",
     "name": "stderr",
     "text": [
      "Epoch [2444/6000]: 100%|██████████| 17/17 [00:00<00:00, 102.91it/s, loss=1.91]\n"
     ]
    },
    {
     "output_type": "stream",
     "name": "stdout",
     "text": [
      "Epoch [2444/6000]: Train loss: 1.8973, Valid loss: 1.6197\n"
     ]
    },
    {
     "output_type": "stream",
     "name": "stderr",
     "text": [
      "Epoch [2445/6000]: 100%|██████████| 17/17 [00:00<00:00, 116.44it/s, loss=1.84]\n"
     ]
    },
    {
     "output_type": "stream",
     "name": "stdout",
     "text": [
      "Epoch [2445/6000]: Train loss: 1.8958, Valid loss: 2.2154\n"
     ]
    },
    {
     "output_type": "stream",
     "name": "stderr",
     "text": [
      "Epoch [2446/6000]: 100%|██████████| 17/17 [00:00<00:00, 118.36it/s, loss=1.5]\n"
     ]
    },
    {
     "output_type": "stream",
     "name": "stdout",
     "text": [
      "Epoch [2446/6000]: Train loss: 1.8936, Valid loss: 1.6043\n"
     ]
    },
    {
     "output_type": "stream",
     "name": "stderr",
     "text": [
      "Epoch [2447/6000]: 100%|██████████| 17/17 [00:00<00:00, 107.86it/s, loss=2.06]\n"
     ]
    },
    {
     "output_type": "stream",
     "name": "stdout",
     "text": [
      "Epoch [2447/6000]: Train loss: 1.8969, Valid loss: 1.7705\n"
     ]
    },
    {
     "output_type": "stream",
     "name": "stderr",
     "text": [
      "Epoch [2448/6000]: 100%|██████████| 17/17 [00:00<00:00, 122.26it/s, loss=1.78]\n"
     ]
    },
    {
     "output_type": "stream",
     "name": "stdout",
     "text": [
      "Epoch [2448/6000]: Train loss: 1.8946, Valid loss: 1.6482\n"
     ]
    },
    {
     "output_type": "stream",
     "name": "stderr",
     "text": [
      "Epoch [2449/6000]: 100%|██████████| 17/17 [00:00<00:00, 87.32it/s, loss=1.73]\n"
     ]
    },
    {
     "output_type": "stream",
     "name": "stdout",
     "text": [
      "Epoch [2449/6000]: Train loss: 1.8939, Valid loss: 1.5984\n"
     ]
    },
    {
     "output_type": "stream",
     "name": "stderr",
     "text": [
      "Epoch [2450/6000]: 100%|██████████| 17/17 [00:00<00:00, 121.80it/s, loss=1.68]\n"
     ]
    },
    {
     "output_type": "stream",
     "name": "stdout",
     "text": [
      "Epoch [2450/6000]: Train loss: 1.8936, Valid loss: 1.6153\n"
     ]
    },
    {
     "output_type": "stream",
     "name": "stderr",
     "text": [
      "Epoch [2451/6000]: 100%|██████████| 17/17 [00:00<00:00, 121.11it/s, loss=2.56]\n"
     ]
    },
    {
     "output_type": "stream",
     "name": "stdout",
     "text": [
      "Epoch [2451/6000]: Train loss: 1.8993, Valid loss: 1.7717\n"
     ]
    },
    {
     "output_type": "stream",
     "name": "stderr",
     "text": [
      "Epoch [2452/6000]: 100%|██████████| 17/17 [00:00<00:00, 122.78it/s, loss=1.99]\n"
     ]
    },
    {
     "output_type": "stream",
     "name": "stdout",
     "text": [
      "Epoch [2452/6000]: Train loss: 1.8946, Valid loss: 1.6939\n"
     ]
    },
    {
     "output_type": "stream",
     "name": "stderr",
     "text": [
      "Epoch [2453/6000]: 100%|██████████| 17/17 [00:00<00:00, 119.10it/s, loss=1.46]\n"
     ]
    },
    {
     "output_type": "stream",
     "name": "stdout",
     "text": [
      "Epoch [2453/6000]: Train loss: 1.8911, Valid loss: 1.6846\n"
     ]
    },
    {
     "output_type": "stream",
     "name": "stderr",
     "text": [
      "Epoch [2454/6000]: 100%|██████████| 17/17 [00:00<00:00, 119.33it/s, loss=1.3]\n"
     ]
    },
    {
     "output_type": "stream",
     "name": "stdout",
     "text": [
      "Epoch [2454/6000]: Train loss: 1.8892, Valid loss: 1.6378\n"
     ]
    },
    {
     "output_type": "stream",
     "name": "stderr",
     "text": [
      "Epoch [2455/6000]: 100%|██████████| 17/17 [00:00<00:00, 113.14it/s, loss=2.05]\n"
     ]
    },
    {
     "output_type": "stream",
     "name": "stdout",
     "text": [
      "Epoch [2455/6000]: Train loss: 1.8942, Valid loss: 1.6645\n"
     ]
    },
    {
     "output_type": "stream",
     "name": "stderr",
     "text": [
      "Epoch [2456/6000]: 100%|██████████| 17/17 [00:00<00:00, 84.88it/s, loss=1.82]\n"
     ]
    },
    {
     "output_type": "stream",
     "name": "stdout",
     "text": [
      "Epoch [2456/6000]: Train loss: 1.8939, Valid loss: 1.7443\n"
     ]
    },
    {
     "output_type": "stream",
     "name": "stderr",
     "text": [
      "Epoch [2457/6000]: 100%|██████████| 17/17 [00:00<00:00, 101.30it/s, loss=1.28]\n"
     ]
    },
    {
     "output_type": "stream",
     "name": "stdout",
     "text": [
      "Epoch [2457/6000]: Train loss: 1.8882, Valid loss: 1.9135\n"
     ]
    },
    {
     "output_type": "stream",
     "name": "stderr",
     "text": [
      "Epoch [2458/6000]: 100%|██████████| 17/17 [00:00<00:00, 107.39it/s, loss=1.51]\n"
     ]
    },
    {
     "output_type": "stream",
     "name": "stdout",
     "text": [
      "Epoch [2458/6000]: Train loss: 1.8894, Valid loss: 1.5634\n",
      "Saving model with loss 1.563...\n"
     ]
    },
    {
     "output_type": "stream",
     "name": "stderr",
     "text": [
      "Epoch [2459/6000]: 100%|██████████| 17/17 [00:00<00:00, 82.41it/s, loss=2.16]\n"
     ]
    },
    {
     "output_type": "stream",
     "name": "stdout",
     "text": [
      "Epoch [2459/6000]: Train loss: 1.8938, Valid loss: 1.6381\n"
     ]
    },
    {
     "output_type": "stream",
     "name": "stderr",
     "text": [
      "Epoch [2460/6000]: 100%|██████████| 17/17 [00:00<00:00, 94.65it/s, loss=1.81]\n"
     ]
    },
    {
     "output_type": "stream",
     "name": "stdout",
     "text": [
      "Epoch [2460/6000]: Train loss: 1.8908, Valid loss: 1.6857\n"
     ]
    },
    {
     "output_type": "stream",
     "name": "stderr",
     "text": [
      "Epoch [2461/6000]: 100%|██████████| 17/17 [00:00<00:00, 101.07it/s, loss=1.63]\n"
     ]
    },
    {
     "output_type": "stream",
     "name": "stdout",
     "text": [
      "Epoch [2461/6000]: Train loss: 1.8897, Valid loss: 1.5932\n"
     ]
    },
    {
     "output_type": "stream",
     "name": "stderr",
     "text": [
      "Epoch [2462/6000]: 100%|██████████| 17/17 [00:00<00:00, 108.61it/s, loss=1.68]\n"
     ]
    },
    {
     "output_type": "stream",
     "name": "stdout",
     "text": [
      "Epoch [2462/6000]: Train loss: 1.8885, Valid loss: 1.7694\n"
     ]
    },
    {
     "output_type": "stream",
     "name": "stderr",
     "text": [
      "Epoch [2463/6000]: 100%|██████████| 17/17 [00:00<00:00, 107.55it/s, loss=1.43]\n"
     ]
    },
    {
     "output_type": "stream",
     "name": "stdout",
     "text": [
      "Epoch [2463/6000]: Train loss: 1.8872, Valid loss: 1.8372\n"
     ]
    },
    {
     "output_type": "stream",
     "name": "stderr",
     "text": [
      "Epoch [2464/6000]: 100%|██████████| 17/17 [00:00<00:00, 113.53it/s, loss=2.01]\n"
     ]
    },
    {
     "output_type": "stream",
     "name": "stdout",
     "text": [
      "Epoch [2464/6000]: Train loss: 1.8905, Valid loss: 1.6408\n"
     ]
    },
    {
     "output_type": "stream",
     "name": "stderr",
     "text": [
      "Epoch [2465/6000]: 100%|██████████| 17/17 [00:00<00:00, 112.82it/s, loss=1.73]\n"
     ]
    },
    {
     "output_type": "stream",
     "name": "stdout",
     "text": [
      "Epoch [2465/6000]: Train loss: 1.8883, Valid loss: 2.0292\n"
     ]
    },
    {
     "output_type": "stream",
     "name": "stderr",
     "text": [
      "Epoch [2466/6000]: 100%|██████████| 17/17 [00:00<00:00, 120.79it/s, loss=1.93]\n"
     ]
    },
    {
     "output_type": "stream",
     "name": "stdout",
     "text": [
      "Epoch [2466/6000]: Train loss: 1.8897, Valid loss: 1.7484\n"
     ]
    },
    {
     "output_type": "stream",
     "name": "stderr",
     "text": [
      "Epoch [2467/6000]: 100%|██████████| 17/17 [00:00<00:00, 122.85it/s, loss=1.59]\n"
     ]
    },
    {
     "output_type": "stream",
     "name": "stdout",
     "text": [
      "Epoch [2467/6000]: Train loss: 1.8865, Valid loss: 1.6968\n"
     ]
    },
    {
     "output_type": "stream",
     "name": "stderr",
     "text": [
      "Epoch [2468/6000]: 100%|██████████| 17/17 [00:00<00:00, 120.06it/s, loss=2.05]\n"
     ]
    },
    {
     "output_type": "stream",
     "name": "stdout",
     "text": [
      "Epoch [2468/6000]: Train loss: 1.8895, Valid loss: 1.6233\n"
     ]
    },
    {
     "output_type": "stream",
     "name": "stderr",
     "text": [
      "Epoch [2469/6000]: 100%|██████████| 17/17 [00:00<00:00, 121.01it/s, loss=1.6]\n"
     ]
    },
    {
     "output_type": "stream",
     "name": "stdout",
     "text": [
      "Epoch [2469/6000]: Train loss: 1.8862, Valid loss: 1.7417\n"
     ]
    },
    {
     "output_type": "stream",
     "name": "stderr",
     "text": [
      "Epoch [2470/6000]: 100%|██████████| 17/17 [00:00<00:00, 120.06it/s, loss=1.95]\n"
     ]
    },
    {
     "output_type": "stream",
     "name": "stdout",
     "text": [
      "Epoch [2470/6000]: Train loss: 1.8881, Valid loss: 1.6914\n"
     ]
    },
    {
     "output_type": "stream",
     "name": "stderr",
     "text": [
      "Epoch [2471/6000]: 100%|██████████| 17/17 [00:00<00:00, 122.56it/s, loss=1.85]\n"
     ]
    },
    {
     "output_type": "stream",
     "name": "stdout",
     "text": [
      "Epoch [2471/6000]: Train loss: 1.8877, Valid loss: 1.5819\n"
     ]
    },
    {
     "output_type": "stream",
     "name": "stderr",
     "text": [
      "Epoch [2472/6000]: 100%|██████████| 17/17 [00:00<00:00, 116.38it/s, loss=2.6]\n"
     ]
    },
    {
     "output_type": "stream",
     "name": "stdout",
     "text": [
      "Epoch [2472/6000]: Train loss: 1.8949, Valid loss: 1.6394\n"
     ]
    },
    {
     "output_type": "stream",
     "name": "stderr",
     "text": [
      "Epoch [2473/6000]: 100%|██████████| 17/17 [00:00<00:00, 120.63it/s, loss=1.3]\n"
     ]
    },
    {
     "output_type": "stream",
     "name": "stdout",
     "text": [
      "Epoch [2473/6000]: Train loss: 1.8822, Valid loss: 1.7740\n"
     ]
    },
    {
     "output_type": "stream",
     "name": "stderr",
     "text": [
      "Epoch [2474/6000]: 100%|██████████| 17/17 [00:00<00:00, 116.86it/s, loss=1.36]\n"
     ]
    },
    {
     "output_type": "stream",
     "name": "stdout",
     "text": [
      "Epoch [2474/6000]: Train loss: 1.8829, Valid loss: 1.5840\n"
     ]
    },
    {
     "output_type": "stream",
     "name": "stderr",
     "text": [
      "Epoch [2475/6000]: 100%|██████████| 17/17 [00:00<00:00, 111.22it/s, loss=1.52]\n"
     ]
    },
    {
     "output_type": "stream",
     "name": "stdout",
     "text": [
      "Epoch [2475/6000]: Train loss: 1.8834, Valid loss: 1.8172\n"
     ]
    },
    {
     "output_type": "stream",
     "name": "stderr",
     "text": [
      "Epoch [2476/6000]: 100%|██████████| 17/17 [00:00<00:00, 117.90it/s, loss=1.52]\n"
     ]
    },
    {
     "output_type": "stream",
     "name": "stdout",
     "text": [
      "Epoch [2476/6000]: Train loss: 1.8830, Valid loss: 1.6626\n"
     ]
    },
    {
     "output_type": "stream",
     "name": "stderr",
     "text": [
      "Epoch [2477/6000]: 100%|██████████| 17/17 [00:00<00:00, 120.59it/s, loss=1.95]\n"
     ]
    },
    {
     "output_type": "stream",
     "name": "stdout",
     "text": [
      "Epoch [2477/6000]: Train loss: 1.8868, Valid loss: 1.7866\n"
     ]
    },
    {
     "output_type": "stream",
     "name": "stderr",
     "text": [
      "Epoch [2478/6000]: 100%|██████████| 17/17 [00:00<00:00, 128.60it/s, loss=1.78]\n"
     ]
    },
    {
     "output_type": "stream",
     "name": "stdout",
     "text": [
      "Epoch [2478/6000]: Train loss: 1.8840, Valid loss: 1.7450\n"
     ]
    },
    {
     "output_type": "stream",
     "name": "stderr",
     "text": [
      "Epoch [2479/6000]: 100%|██████████| 17/17 [00:00<00:00, 119.86it/s, loss=2.48]\n"
     ]
    },
    {
     "output_type": "stream",
     "name": "stdout",
     "text": [
      "Epoch [2479/6000]: Train loss: 1.8896, Valid loss: 1.6875\n"
     ]
    },
    {
     "output_type": "stream",
     "name": "stderr",
     "text": [
      "Epoch [2480/6000]: 100%|██████████| 17/17 [00:00<00:00, 120.32it/s, loss=2.42]\n"
     ]
    },
    {
     "output_type": "stream",
     "name": "stdout",
     "text": [
      "Epoch [2480/6000]: Train loss: 1.8883, Valid loss: 1.6635\n"
     ]
    },
    {
     "output_type": "stream",
     "name": "stderr",
     "text": [
      "Epoch [2481/6000]: 100%|██████████| 17/17 [00:00<00:00, 114.08it/s, loss=1.75]\n"
     ]
    },
    {
     "output_type": "stream",
     "name": "stdout",
     "text": [
      "Epoch [2481/6000]: Train loss: 1.8839, Valid loss: 1.6696\n"
     ]
    },
    {
     "output_type": "stream",
     "name": "stderr",
     "text": [
      "Epoch [2482/6000]: 100%|██████████| 17/17 [00:00<00:00, 119.04it/s, loss=2.13]\n"
     ]
    },
    {
     "output_type": "stream",
     "name": "stdout",
     "text": [
      "Epoch [2482/6000]: Train loss: 1.8859, Valid loss: 1.7691\n"
     ]
    },
    {
     "output_type": "stream",
     "name": "stderr",
     "text": [
      "Epoch [2483/6000]: 100%|██████████| 17/17 [00:00<00:00, 114.38it/s, loss=1.46]\n"
     ]
    },
    {
     "output_type": "stream",
     "name": "stdout",
     "text": [
      "Epoch [2483/6000]: Train loss: 1.8808, Valid loss: 1.7754\n"
     ]
    },
    {
     "output_type": "stream",
     "name": "stderr",
     "text": [
      "Epoch [2484/6000]: 100%|██████████| 17/17 [00:00<00:00, 124.50it/s, loss=1.36]\n"
     ]
    },
    {
     "output_type": "stream",
     "name": "stdout",
     "text": [
      "Epoch [2484/6000]: Train loss: 1.8794, Valid loss: 1.7302\n"
     ]
    },
    {
     "output_type": "stream",
     "name": "stderr",
     "text": [
      "Epoch [2485/6000]: 100%|██████████| 17/17 [00:00<00:00, 120.37it/s, loss=2.26]\n"
     ]
    },
    {
     "output_type": "stream",
     "name": "stdout",
     "text": [
      "Epoch [2485/6000]: Train loss: 1.8851, Valid loss: 1.6443\n"
     ]
    },
    {
     "output_type": "stream",
     "name": "stderr",
     "text": [
      "Epoch [2486/6000]: 100%|██████████| 17/17 [00:00<00:00, 102.31it/s, loss=1.35]\n"
     ]
    },
    {
     "output_type": "stream",
     "name": "stdout",
     "text": [
      "Epoch [2486/6000]: Train loss: 1.8782, Valid loss: 1.6473\n"
     ]
    },
    {
     "output_type": "stream",
     "name": "stderr",
     "text": [
      "Epoch [2487/6000]: 100%|██████████| 17/17 [00:00<00:00, 101.77it/s, loss=1.47]\n"
     ]
    },
    {
     "output_type": "stream",
     "name": "stdout",
     "text": [
      "Epoch [2487/6000]: Train loss: 1.8789, Valid loss: 1.8341\n"
     ]
    },
    {
     "output_type": "stream",
     "name": "stderr",
     "text": [
      "Epoch [2488/6000]: 100%|██████████| 17/17 [00:00<00:00, 97.72it/s, loss=1.94]\n"
     ]
    },
    {
     "output_type": "stream",
     "name": "stdout",
     "text": [
      "Epoch [2488/6000]: Train loss: 1.8819, Valid loss: 1.6338\n"
     ]
    },
    {
     "output_type": "stream",
     "name": "stderr",
     "text": [
      "Epoch [2489/6000]: 100%|██████████| 17/17 [00:00<00:00, 111.56it/s, loss=1.83]\n"
     ]
    },
    {
     "output_type": "stream",
     "name": "stdout",
     "text": [
      "Epoch [2489/6000]: Train loss: 1.8811, Valid loss: 1.7891\n"
     ]
    },
    {
     "output_type": "stream",
     "name": "stderr",
     "text": [
      "Epoch [2498/6000]: 100%|██████████| 17/17 [00:00<00:00, 111.30it/s, loss=2.35]\n"
     ]
    },
    {
     "output_type": "stream",
     "name": "stdout",
     "text": [
      "Epoch [2498/6000]: Train loss: 1.8816, Valid loss: 1.6198\n"
     ]
    },
    {
     "output_type": "stream",
     "name": "stderr",
     "text": [
      "Epoch [2499/6000]: 100%|██████████| 17/17 [00:00<00:00, 113.28it/s, loss=1.64]\n"
     ]
    },
    {
     "output_type": "stream",
     "name": "stdout",
     "text": [
      "Epoch [2499/6000]: Train loss: 1.8773, Valid loss: 1.7578\n"
     ]
    },
    {
     "output_type": "stream",
     "name": "stderr",
     "text": [
      "Epoch [2500/6000]: 100%|██████████| 17/17 [00:00<00:00, 119.05it/s, loss=1.72]\n"
     ]
    },
    {
     "output_type": "stream",
     "name": "stdout",
     "text": [
      "Epoch [2500/6000]: Train loss: 1.8762, Valid loss: 2.0107\n"
     ]
    },
    {
     "output_type": "stream",
     "name": "stderr",
     "text": [
      "Epoch [2501/6000]: 100%|██████████| 17/17 [00:00<00:00, 116.36it/s, loss=1.59]\n"
     ]
    },
    {
     "output_type": "stream",
     "name": "stdout",
     "text": [
      "Epoch [2501/6000]: Train loss: 1.8750, Valid loss: 1.6695\n"
     ]
    },
    {
     "output_type": "stream",
     "name": "stderr",
     "text": [
      "Epoch [2502/6000]: 100%|██████████| 17/17 [00:00<00:00, 112.23it/s, loss=1.82]\n"
     ]
    },
    {
     "output_type": "stream",
     "name": "stdout",
     "text": [
      "Epoch [2502/6000]: Train loss: 1.8767, Valid loss: 1.6208\n"
     ]
    },
    {
     "output_type": "stream",
     "name": "stderr",
     "text": [
      "Epoch [2503/6000]: 100%|██████████| 17/17 [00:00<00:00, 111.66it/s, loss=1.76]\n"
     ]
    },
    {
     "output_type": "stream",
     "name": "stdout",
     "text": [
      "Epoch [2503/6000]: Train loss: 1.8756, Valid loss: 1.7411\n"
     ]
    },
    {
     "output_type": "stream",
     "name": "stderr",
     "text": [
      "Epoch [2504/6000]: 100%|██████████| 17/17 [00:00<00:00, 114.44it/s, loss=2.52]\n"
     ]
    },
    {
     "output_type": "stream",
     "name": "stdout",
     "text": [
      "Epoch [2504/6000]: Train loss: 1.8816, Valid loss: 1.6548\n"
     ]
    },
    {
     "output_type": "stream",
     "name": "stderr",
     "text": [
      "Epoch [2505/6000]: 100%|██████████| 17/17 [00:00<00:00, 110.61it/s, loss=2.01]\n"
     ]
    },
    {
     "output_type": "stream",
     "name": "stdout",
     "text": [
      "Epoch [2505/6000]: Train loss: 1.8774, Valid loss: 1.6974\n"
     ]
    },
    {
     "output_type": "stream",
     "name": "stderr",
     "text": [
      "Epoch [2506/6000]: 100%|██████████| 17/17 [00:00<00:00, 116.16it/s, loss=2.81]\n"
     ]
    },
    {
     "output_type": "stream",
     "name": "stdout",
     "text": [
      "Epoch [2506/6000]: Train loss: 1.8828, Valid loss: 1.7026\n"
     ]
    },
    {
     "output_type": "stream",
     "name": "stderr",
     "text": [
      "Epoch [2507/6000]: 100%|██████████| 17/17 [00:00<00:00, 114.44it/s, loss=2.32]\n"
     ]
    },
    {
     "output_type": "stream",
     "name": "stdout",
     "text": [
      "Epoch [2507/6000]: Train loss: 1.8781, Valid loss: 1.5752\n"
     ]
    },
    {
     "output_type": "stream",
     "name": "stderr",
     "text": [
      "Epoch [2508/6000]: 100%|██████████| 17/17 [00:00<00:00, 108.62it/s, loss=1.67]\n"
     ]
    },
    {
     "output_type": "stream",
     "name": "stdout",
     "text": [
      "Epoch [2508/6000]: Train loss: 1.8732, Valid loss: 1.5565\n",
      "Saving model with loss 1.556...\n"
     ]
    },
    {
     "output_type": "stream",
     "name": "stderr",
     "text": [
      "Epoch [2509/6000]: 100%|██████████| 17/17 [00:00<00:00, 111.57it/s, loss=2.44]\n"
     ]
    },
    {
     "output_type": "stream",
     "name": "stdout",
     "text": [
      "Epoch [2509/6000]: Train loss: 1.8784, Valid loss: 1.6593\n"
     ]
    },
    {
     "output_type": "stream",
     "name": "stderr",
     "text": [
      "Epoch [2510/6000]: 100%|██████████| 17/17 [00:00<00:00, 124.99it/s, loss=2.66]\n"
     ]
    },
    {
     "output_type": "stream",
     "name": "stdout",
     "text": [
      "Epoch [2510/6000]: Train loss: 1.8797, Valid loss: 1.6062\n"
     ]
    },
    {
     "output_type": "stream",
     "name": "stderr",
     "text": [
      "Epoch [2511/6000]: 100%|██████████| 17/17 [00:00<00:00, 134.96it/s, loss=2.12]\n"
     ]
    },
    {
     "output_type": "stream",
     "name": "stdout",
     "text": [
      "Epoch [2511/6000]: Train loss: 1.8756, Valid loss: 1.5893\n"
     ]
    },
    {
     "output_type": "stream",
     "name": "stderr",
     "text": [
      "Epoch [2512/6000]: 100%|██████████| 17/17 [00:00<00:00, 107.11it/s, loss=1.49]\n"
     ]
    },
    {
     "output_type": "stream",
     "name": "stdout",
     "text": [
      "Epoch [2512/6000]: Train loss: 1.8704, Valid loss: 1.7369\n"
     ]
    },
    {
     "output_type": "stream",
     "name": "stderr",
     "text": [
      "Epoch [2513/6000]: 100%|██████████| 17/17 [00:00<00:00, 129.27it/s, loss=2.06]\n"
     ]
    },
    {
     "output_type": "stream",
     "name": "stdout",
     "text": [
      "Epoch [2513/6000]: Train loss: 1.8749, Valid loss: 1.6553\n"
     ]
    },
    {
     "output_type": "stream",
     "name": "stderr",
     "text": [
      "Epoch [2514/6000]: 100%|██████████| 17/17 [00:00<00:00, 118.62it/s, loss=1.76]\n"
     ]
    },
    {
     "output_type": "stream",
     "name": "stdout",
     "text": [
      "Epoch [2514/6000]: Train loss: 1.8719, Valid loss: 1.7630\n"
     ]
    },
    {
     "output_type": "stream",
     "name": "stderr",
     "text": [
      "Epoch [2515/6000]: 100%|██████████| 17/17 [00:00<00:00, 109.79it/s, loss=1.95]\n"
     ]
    },
    {
     "output_type": "stream",
     "name": "stdout",
     "text": [
      "Epoch [2515/6000]: Train loss: 1.8728, Valid loss: 1.6765\n"
     ]
    },
    {
     "output_type": "stream",
     "name": "stderr",
     "text": [
      "Epoch [2516/6000]: 100%|██████████| 17/17 [00:00<00:00, 107.21it/s, loss=2.05]\n"
     ]
    },
    {
     "output_type": "stream",
     "name": "stdout",
     "text": [
      "Epoch [2516/6000]: Train loss: 1.8743, Valid loss: 1.7218\n"
     ]
    },
    {
     "output_type": "stream",
     "name": "stderr",
     "text": [
      "Epoch [2517/6000]: 100%|██████████| 17/17 [00:00<00:00, 115.78it/s, loss=1.55]\n"
     ]
    },
    {
     "output_type": "stream",
     "name": "stdout",
     "text": [
      "Epoch [2517/6000]: Train loss: 1.8702, Valid loss: 1.5480\n",
      "Saving model with loss 1.548...\n"
     ]
    },
    {
     "output_type": "stream",
     "name": "stderr",
     "text": [
      "Epoch [2518/6000]: 100%|██████████| 17/17 [00:00<00:00, 105.80it/s, loss=1.95]\n"
     ]
    },
    {
     "output_type": "stream",
     "name": "stdout",
     "text": [
      "Epoch [2518/6000]: Train loss: 1.8724, Valid loss: 1.5480\n"
     ]
    },
    {
     "output_type": "stream",
     "name": "stderr",
     "text": [
      "Epoch [2519/6000]: 100%|██████████| 17/17 [00:00<00:00, 112.77it/s, loss=2.14]\n"
     ]
    },
    {
     "output_type": "stream",
     "name": "stdout",
     "text": [
      "Epoch [2519/6000]: Train loss: 1.8741, Valid loss: 1.5772\n"
     ]
    },
    {
     "output_type": "stream",
     "name": "stderr",
     "text": [
      "Epoch [2520/6000]: 100%|██████████| 17/17 [00:00<00:00, 110.59it/s, loss=1.95]\n"
     ]
    },
    {
     "output_type": "stream",
     "name": "stdout",
     "text": [
      "Epoch [2520/6000]: Train loss: 1.8710, Valid loss: 1.7175\n"
     ]
    },
    {
     "output_type": "stream",
     "name": "stderr",
     "text": [
      "Epoch [2521/6000]: 100%|██████████| 17/17 [00:00<00:00, 118.71it/s, loss=2.44]\n"
     ]
    },
    {
     "output_type": "stream",
     "name": "stdout",
     "text": [
      "Epoch [2521/6000]: Train loss: 1.8742, Valid loss: 1.6615\n"
     ]
    },
    {
     "output_type": "stream",
     "name": "stderr",
     "text": [
      "Epoch [2522/6000]: 100%|██████████| 17/17 [00:00<00:00, 98.64it/s, loss=1.78]\n"
     ]
    },
    {
     "output_type": "stream",
     "name": "stdout",
     "text": [
      "Epoch [2522/6000]: Train loss: 1.8693, Valid loss: 1.6489\n"
     ]
    },
    {
     "output_type": "stream",
     "name": "stderr",
     "text": [
      "Epoch [2523/6000]: 100%|██████████| 17/17 [00:00<00:00, 95.50it/s, loss=1.74]\n"
     ]
    },
    {
     "output_type": "stream",
     "name": "stdout",
     "text": [
      "Epoch [2523/6000]: Train loss: 1.8684, Valid loss: 1.9584\n"
     ]
    },
    {
     "output_type": "stream",
     "name": "stderr",
     "text": [
      "Epoch [2524/6000]: 100%|██████████| 17/17 [00:00<00:00, 110.82it/s, loss=2.18]\n"
     ]
    },
    {
     "output_type": "stream",
     "name": "stdout",
     "text": [
      "Epoch [2524/6000]: Train loss: 1.8718, Valid loss: 1.7878\n"
     ]
    },
    {
     "output_type": "stream",
     "name": "stderr",
     "text": [
      "Epoch [2525/6000]: 100%|██████████| 17/17 [00:00<00:00, 106.40it/s, loss=1.67]\n"
     ]
    },
    {
     "output_type": "stream",
     "name": "stdout",
     "text": [
      "Epoch [2525/6000]: Train loss: 1.8676, Valid loss: 1.8329\n"
     ]
    },
    {
     "output_type": "stream",
     "name": "stderr",
     "text": [
      "Epoch [2526/6000]: 100%|██████████| 17/17 [00:00<00:00, 98.23it/s, loss=1.69] \n"
     ]
    },
    {
     "output_type": "stream",
     "name": "stdout",
     "text": [
      "Epoch [2526/6000]: Train loss: 1.8676, Valid loss: 1.5750\n"
     ]
    },
    {
     "output_type": "stream",
     "name": "stderr",
     "text": [
      "Epoch [2527/6000]: 100%|██████████| 17/17 [00:00<00:00, 107.86it/s, loss=1.9]\n"
     ]
    },
    {
     "output_type": "stream",
     "name": "stdout",
     "text": [
      "Epoch [2527/6000]: Train loss: 1.8696, Valid loss: 1.5676\n"
     ]
    },
    {
     "output_type": "stream",
     "name": "stderr",
     "text": [
      "Epoch [2528/6000]: 100%|██████████| 17/17 [00:00<00:00, 106.98it/s, loss=1.62]\n"
     ]
    },
    {
     "output_type": "stream",
     "name": "stdout",
     "text": [
      "Epoch [2528/6000]: Train loss: 1.8666, Valid loss: 1.5763\n"
     ]
    },
    {
     "output_type": "stream",
     "name": "stderr",
     "text": [
      "Epoch [2529/6000]: 100%|██████████| 17/17 [00:00<00:00, 121.04it/s, loss=1.43]\n"
     ]
    },
    {
     "output_type": "stream",
     "name": "stdout",
     "text": [
      "Epoch [2529/6000]: Train loss: 1.8648, Valid loss: 1.6626\n"
     ]
    },
    {
     "output_type": "stream",
     "name": "stderr",
     "text": [
      "Epoch [2530/6000]: 100%|██████████| 17/17 [00:00<00:00, 125.28it/s, loss=1.63]\n"
     ]
    },
    {
     "output_type": "stream",
     "name": "stdout",
     "text": [
      "Epoch [2530/6000]: Train loss: 1.8655, Valid loss: 1.5511\n"
     ]
    },
    {
     "output_type": "stream",
     "name": "stderr",
     "text": [
      "Epoch [2531/6000]: 100%|██████████| 17/17 [00:00<00:00, 108.14it/s, loss=2.39]\n"
     ]
    },
    {
     "output_type": "stream",
     "name": "stdout",
     "text": [
      "Epoch [2531/6000]: Train loss: 1.8711, Valid loss: 1.7015\n"
     ]
    },
    {
     "output_type": "stream",
     "name": "stderr",
     "text": [
      "Epoch [2532/6000]: 100%|██████████| 17/17 [00:00<00:00, 116.39it/s, loss=1.64]\n"
     ]
    },
    {
     "output_type": "stream",
     "name": "stdout",
     "text": [
      "Epoch [2532/6000]: Train loss: 1.8651, Valid loss: 1.8205\n"
     ]
    },
    {
     "output_type": "stream",
     "name": "stderr",
     "text": [
      "Epoch [2533/6000]: 100%|██████████| 17/17 [00:00<00:00, 120.26it/s, loss=1.98]\n"
     ]
    },
    {
     "output_type": "stream",
     "name": "stdout",
     "text": [
      "Epoch [2533/6000]: Train loss: 1.8669, Valid loss: 1.7142\n"
     ]
    },
    {
     "output_type": "stream",
     "name": "stderr",
     "text": [
      "Epoch [2534/6000]: 100%|██████████| 17/17 [00:00<00:00, 110.75it/s, loss=1.76]\n"
     ]
    },
    {
     "output_type": "stream",
     "name": "stdout",
     "text": [
      "Epoch [2534/6000]: Train loss: 1.8654, Valid loss: 1.6082\n"
     ]
    },
    {
     "output_type": "stream",
     "name": "stderr",
     "text": [
      "Epoch [2535/6000]: 100%|██████████| 17/17 [00:00<00:00, 111.65it/s, loss=1.65]\n"
     ]
    },
    {
     "output_type": "stream",
     "name": "stdout",
     "text": [
      "Epoch [2535/6000]: Train loss: 1.8636, Valid loss: 1.5910\n"
     ]
    },
    {
     "output_type": "stream",
     "name": "stderr",
     "text": [
      "Epoch [2536/6000]: 100%|██████████| 17/17 [00:00<00:00, 97.45it/s, loss=1.67] \n"
     ]
    },
    {
     "output_type": "stream",
     "name": "stdout",
     "text": [
      "Epoch [2536/6000]: Train loss: 1.8636, Valid loss: 1.6578\n"
     ]
    },
    {
     "output_type": "stream",
     "name": "stderr",
     "text": [
      "Epoch [2537/6000]: 100%|██████████| 17/17 [00:00<00:00, 122.92it/s, loss=1.78]\n"
     ]
    },
    {
     "output_type": "stream",
     "name": "stdout",
     "text": [
      "Epoch [2537/6000]: Train loss: 1.8642, Valid loss: 1.6793\n"
     ]
    },
    {
     "output_type": "stream",
     "name": "stderr",
     "text": [
      "Epoch [2538/6000]: 100%|██████████| 17/17 [00:00<00:00, 100.60it/s, loss=2.12]\n"
     ]
    },
    {
     "output_type": "stream",
     "name": "stdout",
     "text": [
      "Epoch [2538/6000]: Train loss: 1.8667, Valid loss: 1.6993\n"
     ]
    },
    {
     "output_type": "stream",
     "name": "stderr",
     "text": [
      "Epoch [2539/6000]: 100%|██████████| 17/17 [00:00<00:00, 118.37it/s, loss=1.39]\n"
     ]
    },
    {
     "output_type": "stream",
     "name": "stdout",
     "text": [
      "Epoch [2539/6000]: Train loss: 1.8614, Valid loss: 1.5917\n"
     ]
    },
    {
     "output_type": "stream",
     "name": "stderr",
     "text": [
      "Epoch [2540/6000]: 100%|██████████| 17/17 [00:00<00:00, 120.81it/s, loss=1.94]\n"
     ]
    },
    {
     "output_type": "stream",
     "name": "stdout",
     "text": [
      "Epoch [2540/6000]: Train loss: 1.8655, Valid loss: 1.6447\n"
     ]
    },
    {
     "output_type": "stream",
     "name": "stderr",
     "text": [
      "Epoch [2541/6000]: 100%|██████████| 17/17 [00:00<00:00, 122.48it/s, loss=1.84]\n"
     ]
    },
    {
     "output_type": "stream",
     "name": "stdout",
     "text": [
      "Epoch [2541/6000]: Train loss: 1.8640, Valid loss: 1.8671\n"
     ]
    },
    {
     "output_type": "stream",
     "name": "stderr",
     "text": [
      "Epoch [2542/6000]: 100%|██████████| 17/17 [00:00<00:00, 113.11it/s, loss=2.04]\n"
     ]
    },
    {
     "output_type": "stream",
     "name": "stdout",
     "text": [
      "Epoch [2542/6000]: Train loss: 1.8643, Valid loss: 1.6706\n"
     ]
    },
    {
     "output_type": "stream",
     "name": "stderr",
     "text": [
      "Epoch [2543/6000]: 100%|██████████| 17/17 [00:00<00:00, 96.91it/s, loss=1.64] \n"
     ]
    },
    {
     "output_type": "stream",
     "name": "stdout",
     "text": [
      "Epoch [2543/6000]: Train loss: 1.8616, Valid loss: 1.6728\n"
     ]
    },
    {
     "output_type": "stream",
     "name": "stderr",
     "text": [
      "Epoch [2544/6000]: 100%|██████████| 17/17 [00:00<00:00, 102.19it/s, loss=2.3]\n"
     ]
    },
    {
     "output_type": "stream",
     "name": "stdout",
     "text": [
      "Epoch [2544/6000]: Train loss: 1.8657, Valid loss: 1.6785\n"
     ]
    },
    {
     "output_type": "stream",
     "name": "stderr",
     "text": [
      "Epoch [2545/6000]: 100%|██████████| 17/17 [00:00<00:00, 98.97it/s, loss=2.17] \n"
     ]
    },
    {
     "output_type": "stream",
     "name": "stdout",
     "text": [
      "Epoch [2545/6000]: Train loss: 1.8642, Valid loss: 1.6147\n"
     ]
    },
    {
     "output_type": "stream",
     "name": "stderr",
     "text": [
      "Epoch [2546/6000]: 100%|██████████| 17/17 [00:00<00:00, 104.32it/s, loss=1.64]\n"
     ]
    },
    {
     "output_type": "stream",
     "name": "stdout",
     "text": [
      "Epoch [2546/6000]: Train loss: 1.8603, Valid loss: 1.6972\n"
     ]
    },
    {
     "output_type": "stream",
     "name": "stderr",
     "text": [
      "Epoch [2547/6000]: 100%|██████████| 17/17 [00:00<00:00, 107.43it/s, loss=1.96]\n"
     ]
    },
    {
     "output_type": "stream",
     "name": "stdout",
     "text": [
      "Epoch [2547/6000]: Train loss: 1.8626, Valid loss: 1.7353\n"
     ]
    },
    {
     "output_type": "stream",
     "name": "stderr",
     "text": [
      "Epoch [2548/6000]: 100%|██████████| 17/17 [00:00<00:00, 95.53it/s, loss=2.01]\n"
     ]
    },
    {
     "output_type": "stream",
     "name": "stdout",
     "text": [
      "Epoch [2548/6000]: Train loss: 1.8622, Valid loss: 1.6718\n"
     ]
    },
    {
     "output_type": "stream",
     "name": "stderr",
     "text": [
      "Epoch [2549/6000]: 100%|██████████| 17/17 [00:00<00:00, 107.78it/s, loss=1.55]\n"
     ]
    },
    {
     "output_type": "stream",
     "name": "stdout",
     "text": [
      "Epoch [2549/6000]: Train loss: 1.8586, Valid loss: 1.6697\n"
     ]
    },
    {
     "output_type": "stream",
     "name": "stderr",
     "text": [
      "Epoch [2550/6000]: 100%|██████████| 17/17 [00:00<00:00, 104.05it/s, loss=1.68]\n"
     ]
    },
    {
     "output_type": "stream",
     "name": "stdout",
     "text": [
      "Epoch [2550/6000]: Train loss: 1.8590, Valid loss: 1.6204\n"
     ]
    },
    {
     "output_type": "stream",
     "name": "stderr",
     "text": [
      "Epoch [2551/6000]: 100%|██████████| 17/17 [00:00<00:00, 119.44it/s, loss=2.04]\n"
     ]
    },
    {
     "output_type": "stream",
     "name": "stdout",
     "text": [
      "Epoch [2551/6000]: Train loss: 1.8614, Valid loss: 1.7132\n"
     ]
    },
    {
     "output_type": "stream",
     "name": "stderr",
     "text": [
      "Epoch [2552/6000]: 100%|██████████| 17/17 [00:00<00:00, 125.25it/s, loss=1.56]\n"
     ]
    },
    {
     "output_type": "stream",
     "name": "stdout",
     "text": [
      "Epoch [2552/6000]: Train loss: 1.8578, Valid loss: 1.9630\n"
     ]
    },
    {
     "output_type": "stream",
     "name": "stderr",
     "text": [
      "Epoch [2553/6000]: 100%|██████████| 17/17 [00:00<00:00, 113.22it/s, loss=1.69]\n"
     ]
    },
    {
     "output_type": "stream",
     "name": "stdout",
     "text": [
      "Epoch [2553/6000]: Train loss: 1.8584, Valid loss: 1.5637\n"
     ]
    },
    {
     "output_type": "stream",
     "name": "stderr",
     "text": [
      "Epoch [2554/6000]: 100%|██████████| 17/17 [00:00<00:00, 118.59it/s, loss=1.98]\n"
     ]
    },
    {
     "output_type": "stream",
     "name": "stdout",
     "text": [
      "Epoch [2554/6000]: Train loss: 1.8605, Valid loss: 1.5783\n"
     ]
    },
    {
     "output_type": "stream",
     "name": "stderr",
     "text": [
      "Epoch [2555/6000]: 100%|██████████| 17/17 [00:00<00:00, 127.29it/s, loss=1.77]\n"
     ]
    },
    {
     "output_type": "stream",
     "name": "stdout",
     "text": [
      "Epoch [2555/6000]: Train loss: 1.8577, Valid loss: 1.9602\n"
     ]
    },
    {
     "output_type": "stream",
     "name": "stderr",
     "text": [
      "Epoch [2556/6000]: 100%|██████████| 17/17 [00:00<00:00, 114.58it/s, loss=1.67]\n"
     ]
    },
    {
     "output_type": "stream",
     "name": "stdout",
     "text": [
      "Epoch [2556/6000]: Train loss: 1.8574, Valid loss: 1.5453\n",
      "Saving model with loss 1.545...\n"
     ]
    },
    {
     "output_type": "stream",
     "name": "stderr",
     "text": [
      "Epoch [2557/6000]: 100%|██████████| 17/17 [00:00<00:00, 123.80it/s, loss=1.35]\n"
     ]
    },
    {
     "output_type": "stream",
     "name": "stdout",
     "text": [
      "Epoch [2557/6000]: Train loss: 1.8544, Valid loss: 1.6308\n"
     ]
    },
    {
     "output_type": "stream",
     "name": "stderr",
     "text": [
      "Epoch [2558/6000]: 100%|██████████| 17/17 [00:00<00:00, 127.94it/s, loss=1.93]\n"
     ]
    },
    {
     "output_type": "stream",
     "name": "stdout",
     "text": [
      "Epoch [2558/6000]: Train loss: 1.8582, Valid loss: 1.6683\n"
     ]
    },
    {
     "output_type": "stream",
     "name": "stderr",
     "text": [
      "Epoch [2559/6000]: 100%|██████████| 17/17 [00:00<00:00, 123.83it/s, loss=1.88]\n"
     ]
    },
    {
     "output_type": "stream",
     "name": "stdout",
     "text": [
      "Epoch [2559/6000]: Train loss: 1.8580, Valid loss: 1.6876\n"
     ]
    },
    {
     "output_type": "stream",
     "name": "stderr",
     "text": [
      "Epoch [2560/6000]: 100%|██████████| 17/17 [00:00<00:00, 128.06it/s, loss=1.57]\n"
     ]
    },
    {
     "output_type": "stream",
     "name": "stdout",
     "text": [
      "Epoch [2560/6000]: Train loss: 1.8549, Valid loss: 1.6807\n"
     ]
    },
    {
     "output_type": "stream",
     "name": "stderr",
     "text": [
      "Epoch [2561/6000]: 100%|██████████| 17/17 [00:00<00:00, 121.01it/s, loss=2.33]\n"
     ]
    },
    {
     "output_type": "stream",
     "name": "stdout",
     "text": [
      "Epoch [2561/6000]: Train loss: 1.8602, Valid loss: 1.6657\n"
     ]
    },
    {
     "output_type": "stream",
     "name": "stderr",
     "text": [
      "Epoch [2563/6000]: 100%|██████████| 17/17 [00:00<00:00, 113.35it/s, loss=2.29]\n"
     ]
    },
    {
     "output_type": "stream",
     "name": "stdout",
     "text": [
      "Epoch [2563/6000]: Train loss: 1.8597, Valid loss: 1.7559\n"
     ]
    },
    {
     "output_type": "stream",
     "name": "stderr",
     "text": [
      "Epoch [2564/6000]: 100%|██████████| 17/17 [00:00<00:00, 119.75it/s, loss=2.02]\n"
     ]
    },
    {
     "output_type": "stream",
     "name": "stdout",
     "text": [
      "Epoch [2564/6000]: Train loss: 1.8567, Valid loss: 1.6380\n"
     ]
    },
    {
     "output_type": "stream",
     "name": "stderr",
     "text": [
      "Epoch [2565/6000]: 100%|██████████| 17/17 [00:00<00:00, 114.43it/s, loss=1.75]\n"
     ]
    },
    {
     "output_type": "stream",
     "name": "stdout",
     "text": [
      "Epoch [2565/6000]: Train loss: 1.8543, Valid loss: 1.7684\n"
     ]
    },
    {
     "output_type": "stream",
     "name": "stderr",
     "text": [
      "Epoch [2566/6000]: 100%|██████████| 17/17 [00:00<00:00, 109.40it/s, loss=2.28]\n"
     ]
    },
    {
     "output_type": "stream",
     "name": "stdout",
     "text": [
      "Epoch [2566/6000]: Train loss: 1.8595, Valid loss: 1.5777\n"
     ]
    },
    {
     "output_type": "stream",
     "name": "stderr",
     "text": [
      "Epoch [2567/6000]: 100%|██████████| 17/17 [00:00<00:00, 113.87it/s, loss=2.8]\n"
     ]
    },
    {
     "output_type": "stream",
     "name": "stdout",
     "text": [
      "Epoch [2567/6000]: Train loss: 1.8612, Valid loss: 1.6876\n"
     ]
    },
    {
     "output_type": "stream",
     "name": "stderr",
     "text": [
      "Epoch [2568/6000]: 100%|██████████| 17/17 [00:00<00:00, 107.45it/s, loss=1.74]\n"
     ]
    },
    {
     "output_type": "stream",
     "name": "stdout",
     "text": [
      "Epoch [2568/6000]: Train loss: 1.8537, Valid loss: 1.5704\n"
     ]
    },
    {
     "output_type": "stream",
     "name": "stderr",
     "text": [
      "Epoch [2569/6000]: 100%|██████████| 17/17 [00:00<00:00, 115.02it/s, loss=2.14]\n"
     ]
    },
    {
     "output_type": "stream",
     "name": "stdout",
     "text": [
      "Epoch [2569/6000]: Train loss: 1.8560, Valid loss: 1.6237\n"
     ]
    },
    {
     "output_type": "stream",
     "name": "stderr",
     "text": [
      "Epoch [2570/6000]: 100%|██████████| 17/17 [00:00<00:00, 113.24it/s, loss=2.4]\n"
     ]
    },
    {
     "output_type": "stream",
     "name": "stdout",
     "text": [
      "Epoch [2570/6000]: Train loss: 1.8577, Valid loss: 1.7776\n"
     ]
    },
    {
     "output_type": "stream",
     "name": "stderr",
     "text": [
      "Epoch [2571/6000]: 100%|██████████| 17/17 [00:00<00:00, 102.86it/s, loss=2.05]\n"
     ]
    },
    {
     "output_type": "stream",
     "name": "stdout",
     "text": [
      "Epoch [2571/6000]: Train loss: 1.8557, Valid loss: 1.6774\n"
     ]
    },
    {
     "output_type": "stream",
     "name": "stderr",
     "text": [
      "Epoch [2572/6000]: 100%|██████████| 17/17 [00:00<00:00, 114.10it/s, loss=1.7]\n"
     ]
    },
    {
     "output_type": "stream",
     "name": "stdout",
     "text": [
      "Epoch [2572/6000]: Train loss: 1.8519, Valid loss: 1.6521\n"
     ]
    },
    {
     "output_type": "stream",
     "name": "stderr",
     "text": [
      "Epoch [2573/6000]: 100%|██████████| 17/17 [00:00<00:00, 101.10it/s, loss=2.44]\n"
     ]
    },
    {
     "output_type": "stream",
     "name": "stdout",
     "text": [
      "Epoch [2573/6000]: Train loss: 1.8570, Valid loss: 1.8353\n"
     ]
    },
    {
     "output_type": "stream",
     "name": "stderr",
     "text": [
      "Epoch [2574/6000]: 100%|██████████| 17/17 [00:00<00:00, 109.96it/s, loss=1.85]\n"
     ]
    },
    {
     "output_type": "stream",
     "name": "stdout",
     "text": [
      "Epoch [2574/6000]: Train loss: 1.8533, Valid loss: 1.7454\n"
     ]
    },
    {
     "output_type": "stream",
     "name": "stderr",
     "text": [
      "Epoch [2586/6000]: 100%|██████████| 17/17 [00:00<00:00, 123.11it/s, loss=1.45]\n"
     ]
    },
    {
     "output_type": "stream",
     "name": "stdout",
     "text": [
      "Epoch [2586/6000]: Train loss: 1.8454, Valid loss: 1.6553\n"
     ]
    },
    {
     "output_type": "stream",
     "name": "stderr",
     "text": [
      "Epoch [2587/6000]: 100%|██████████| 17/17 [00:00<00:00, 123.72it/s, loss=1.88]\n"
     ]
    },
    {
     "output_type": "stream",
     "name": "stdout",
     "text": [
      "Epoch [2587/6000]: Train loss: 1.8480, Valid loss: 1.6563\n"
     ]
    },
    {
     "output_type": "stream",
     "name": "stderr",
     "text": [
      "Epoch [2588/6000]: 100%|██████████| 17/17 [00:00<00:00, 126.16it/s, loss=1.75]\n"
     ]
    },
    {
     "output_type": "stream",
     "name": "stdout",
     "text": [
      "Epoch [2588/6000]: Train loss: 1.8468, Valid loss: 1.6421\n"
     ]
    },
    {
     "output_type": "stream",
     "name": "stderr",
     "text": [
      "Epoch [2589/6000]: 100%|██████████| 17/17 [00:00<00:00, 128.05it/s, loss=1.24]\n"
     ]
    },
    {
     "output_type": "stream",
     "name": "stdout",
     "text": [
      "Epoch [2589/6000]: Train loss: 1.8434, Valid loss: 1.6915\n"
     ]
    },
    {
     "output_type": "stream",
     "name": "stderr",
     "text": [
      "Epoch [2590/6000]: 100%|██████████| 17/17 [00:00<00:00, 122.25it/s, loss=1.34]\n"
     ]
    },
    {
     "output_type": "stream",
     "name": "stdout",
     "text": [
      "Epoch [2590/6000]: Train loss: 1.8431, Valid loss: 1.7122\n"
     ]
    },
    {
     "output_type": "stream",
     "name": "stderr",
     "text": [
      "Epoch [2591/6000]: 100%|██████████| 17/17 [00:00<00:00, 116.28it/s, loss=1.86]\n"
     ]
    },
    {
     "output_type": "stream",
     "name": "stdout",
     "text": [
      "Epoch [2591/6000]: Train loss: 1.8471, Valid loss: 1.6451\n"
     ]
    },
    {
     "output_type": "stream",
     "name": "stderr",
     "text": [
      "Epoch [2592/6000]: 100%|██████████| 17/17 [00:00<00:00, 139.00it/s, loss=1.94]\n"
     ]
    },
    {
     "output_type": "stream",
     "name": "stdout",
     "text": [
      "Epoch [2592/6000]: Train loss: 1.8471, Valid loss: 2.0513\n"
     ]
    },
    {
     "output_type": "stream",
     "name": "stderr",
     "text": [
      "Epoch [2593/6000]: 100%|██████████| 17/17 [00:00<00:00, 132.49it/s, loss=1.74]\n"
     ]
    },
    {
     "output_type": "stream",
     "name": "stdout",
     "text": [
      "Epoch [2593/6000]: Train loss: 1.8452, Valid loss: 1.7541\n"
     ]
    },
    {
     "output_type": "stream",
     "name": "stderr",
     "text": [
      "Epoch [2594/6000]: 100%|██████████| 17/17 [00:00<00:00, 127.14it/s, loss=2.21]\n"
     ]
    },
    {
     "output_type": "stream",
     "name": "stdout",
     "text": [
      "Epoch [2594/6000]: Train loss: 1.8482, Valid loss: 1.6842\n"
     ]
    },
    {
     "output_type": "stream",
     "name": "stderr",
     "text": [
      "Epoch [2595/6000]: 100%|██████████| 17/17 [00:00<00:00, 126.67it/s, loss=2.21]\n"
     ]
    },
    {
     "output_type": "stream",
     "name": "stdout",
     "text": [
      "Epoch [2595/6000]: Train loss: 1.8480, Valid loss: 1.7326\n"
     ]
    },
    {
     "output_type": "stream",
     "name": "stderr",
     "text": [
      "Epoch [2596/6000]: 100%|██████████| 17/17 [00:00<00:00, 133.09it/s, loss=1.88]\n"
     ]
    },
    {
     "output_type": "stream",
     "name": "stdout",
     "text": [
      "Epoch [2596/6000]: Train loss: 1.8452, Valid loss: 1.6339\n"
     ]
    },
    {
     "output_type": "stream",
     "name": "stderr",
     "text": [
      "Epoch [2597/6000]: 100%|██████████| 17/17 [00:00<00:00, 134.87it/s, loss=2.4]\n"
     ]
    },
    {
     "output_type": "stream",
     "name": "stdout",
     "text": [
      "Epoch [2597/6000]: Train loss: 1.8488, Valid loss: 1.6372\n"
     ]
    },
    {
     "output_type": "stream",
     "name": "stderr",
     "text": [
      "Epoch [2598/6000]: 100%|██████████| 17/17 [00:00<00:00, 119.80it/s, loss=1.89]\n"
     ]
    },
    {
     "output_type": "stream",
     "name": "stdout",
     "text": [
      "Epoch [2598/6000]: Train loss: 1.8446, Valid loss: 1.6892\n"
     ]
    },
    {
     "output_type": "stream",
     "name": "stderr",
     "text": [
      "Epoch [2602/6000]: 100%|██████████| 17/17 [00:00<00:00, 113.77it/s, loss=1.83]\n"
     ]
    },
    {
     "output_type": "stream",
     "name": "stdout",
     "text": [
      "Epoch [2602/6000]: Train loss: 1.8430, Valid loss: 2.0790\n"
     ]
    },
    {
     "output_type": "stream",
     "name": "stderr",
     "text": [
      "Epoch [2603/6000]: 100%|██████████| 17/17 [00:00<00:00, 118.29it/s, loss=1.87]\n"
     ]
    },
    {
     "output_type": "stream",
     "name": "stdout",
     "text": [
      "Epoch [2603/6000]: Train loss: 1.8426, Valid loss: 1.6475\n"
     ]
    },
    {
     "output_type": "stream",
     "name": "stderr",
     "text": [
      "Epoch [2604/6000]: 100%|██████████| 17/17 [00:00<00:00, 114.94it/s, loss=1.47]\n"
     ]
    },
    {
     "output_type": "stream",
     "name": "stdout",
     "text": [
      "Epoch [2604/6000]: Train loss: 1.8397, Valid loss: 1.6315\n"
     ]
    },
    {
     "output_type": "stream",
     "name": "stderr",
     "text": [
      "Epoch [2605/6000]: 100%|██████████| 17/17 [00:00<00:00, 123.67it/s, loss=1.52]\n"
     ]
    },
    {
     "output_type": "stream",
     "name": "stdout",
     "text": [
      "Epoch [2605/6000]: Train loss: 1.8397, Valid loss: 1.6769\n"
     ]
    },
    {
     "output_type": "stream",
     "name": "stderr",
     "text": [
      "Epoch [2606/6000]: 100%|██████████| 17/17 [00:00<00:00, 117.47it/s, loss=1.74]\n"
     ]
    },
    {
     "output_type": "stream",
     "name": "stdout",
     "text": [
      "Epoch [2606/6000]: Train loss: 1.8429, Valid loss: 1.6823\n"
     ]
    },
    {
     "output_type": "stream",
     "name": "stderr",
     "text": [
      "Epoch [2607/6000]: 100%|██████████| 17/17 [00:00<00:00, 108.06it/s, loss=2.28]\n"
     ]
    },
    {
     "output_type": "stream",
     "name": "stdout",
     "text": [
      "Epoch [2607/6000]: Train loss: 1.8442, Valid loss: 1.5804\n"
     ]
    },
    {
     "output_type": "stream",
     "name": "stderr",
     "text": [
      "Epoch [2608/6000]: 100%|██████████| 17/17 [00:00<00:00, 123.51it/s, loss=1.68]\n"
     ]
    },
    {
     "output_type": "stream",
     "name": "stdout",
     "text": [
      "Epoch [2608/6000]: Train loss: 1.8397, Valid loss: 1.5193\n",
      "Saving model with loss 1.519...\n"
     ]
    },
    {
     "output_type": "stream",
     "name": "stderr",
     "text": [
      "Epoch [2609/6000]: 100%|██████████| 17/17 [00:00<00:00, 121.14it/s, loss=1.69]\n"
     ]
    },
    {
     "output_type": "stream",
     "name": "stdout",
     "text": [
      "Epoch [2609/6000]: Train loss: 1.8395, Valid loss: 1.6366\n"
     ]
    },
    {
     "output_type": "stream",
     "name": "stderr",
     "text": [
      "Epoch [2610/6000]: 100%|██████████| 17/17 [00:00<00:00, 118.00it/s, loss=2]\n"
     ]
    },
    {
     "output_type": "stream",
     "name": "stdout",
     "text": [
      "Epoch [2610/6000]: Train loss: 1.8413, Valid loss: 1.7105\n"
     ]
    },
    {
     "output_type": "stream",
     "name": "stderr",
     "text": [
      "Epoch [2611/6000]: 100%|██████████| 17/17 [00:00<00:00, 113.26it/s, loss=2.26]\n"
     ]
    },
    {
     "output_type": "stream",
     "name": "stdout",
     "text": [
      "Epoch [2611/6000]: Train loss: 1.8430, Valid loss: 1.5333\n"
     ]
    },
    {
     "output_type": "stream",
     "name": "stderr",
     "text": [
      "Epoch [2612/6000]: 100%|██████████| 17/17 [00:00<00:00, 124.10it/s, loss=2.06]\n"
     ]
    },
    {
     "output_type": "stream",
     "name": "stdout",
     "text": [
      "Epoch [2612/6000]: Train loss: 1.8416, Valid loss: 1.7025\n"
     ]
    },
    {
     "output_type": "stream",
     "name": "stderr",
     "text": [
      "Epoch [2613/6000]: 100%|██████████| 17/17 [00:00<00:00, 117.18it/s, loss=2.12]\n"
     ]
    },
    {
     "output_type": "stream",
     "name": "stdout",
     "text": [
      "Epoch [2613/6000]: Train loss: 1.8417, Valid loss: 1.6809\n"
     ]
    },
    {
     "output_type": "stream",
     "name": "stderr",
     "text": [
      "Epoch [2614/6000]: 100%|██████████| 17/17 [00:00<00:00, 135.27it/s, loss=1.57]\n"
     ]
    },
    {
     "output_type": "stream",
     "name": "stdout",
     "text": [
      "Epoch [2614/6000]: Train loss: 1.8367, Valid loss: 1.5195\n"
     ]
    },
    {
     "output_type": "stream",
     "name": "stderr",
     "text": [
      "Epoch [2615/6000]:   0%|          | 0/17 [00:00<?, ?it/s, loss=2.04]\n"
     ]
    },
    {
     "output_type": "stream",
     "name": "stdout",
     "text": [
      "Epoch [2616/6000]: Train loss: 1.8457, Valid loss: 1.6803\n"
     ]
    },
    {
     "output_type": "stream",
     "name": "stderr",
     "text": [
      "Epoch [2617/6000]: 100%|██████████| 17/17 [00:00<00:00, 120.24it/s, loss=1.67]\n"
     ]
    },
    {
     "output_type": "stream",
     "name": "stdout",
     "text": [
      "Epoch [2617/6000]: Train loss: 1.8367, Valid loss: 1.7474\n"
     ]
    },
    {
     "output_type": "stream",
     "name": "stderr",
     "text": [
      "Epoch [2618/6000]: 100%|██████████| 17/17 [00:00<00:00, 120.85it/s, loss=2.15]\n"
     ]
    },
    {
     "output_type": "stream",
     "name": "stdout",
     "text": [
      "Epoch [2618/6000]: Train loss: 1.8400, Valid loss: 1.6619\n"
     ]
    },
    {
     "output_type": "stream",
     "name": "stderr",
     "text": [
      "Epoch [2619/6000]: 100%|██████████| 17/17 [00:00<00:00, 109.64it/s, loss=1.97]\n"
     ]
    },
    {
     "output_type": "stream",
     "name": "stdout",
     "text": [
      "Epoch [2619/6000]: Train loss: 1.8379, Valid loss: 1.6242\n"
     ]
    },
    {
     "output_type": "stream",
     "name": "stderr",
     "text": [
      "Epoch [2620/6000]: 100%|██████████| 17/17 [00:00<00:00, 109.65it/s, loss=1.92]\n"
     ]
    },
    {
     "output_type": "stream",
     "name": "stdout",
     "text": [
      "Epoch [2620/6000]: Train loss: 1.8389, Valid loss: 1.5928\n"
     ]
    },
    {
     "output_type": "stream",
     "name": "stderr",
     "text": [
      "Epoch [2621/6000]: 100%|██████████| 17/17 [00:00<00:00, 111.83it/s, loss=1.72]\n"
     ]
    },
    {
     "output_type": "stream",
     "name": "stdout",
     "text": [
      "Epoch [2621/6000]: Train loss: 1.8358, Valid loss: 1.7348\n"
     ]
    },
    {
     "output_type": "stream",
     "name": "stderr",
     "text": [
      "Epoch [2622/6000]: 100%|██████████| 17/17 [00:00<00:00, 111.37it/s, loss=2.35]\n"
     ]
    },
    {
     "output_type": "stream",
     "name": "stdout",
     "text": [
      "Epoch [2622/6000]: Train loss: 1.8399, Valid loss: 1.6011\n"
     ]
    },
    {
     "output_type": "stream",
     "name": "stderr",
     "text": [
      "Epoch [2623/6000]: 100%|██████████| 17/17 [00:00<00:00, 123.26it/s, loss=1.58]\n"
     ]
    },
    {
     "output_type": "stream",
     "name": "stdout",
     "text": [
      "Epoch [2623/6000]: Train loss: 1.8342, Valid loss: 1.6271\n"
     ]
    },
    {
     "output_type": "stream",
     "name": "stderr",
     "text": [
      "Epoch [2624/6000]: 100%|██████████| 17/17 [00:00<00:00, 113.15it/s, loss=2.03]\n"
     ]
    },
    {
     "output_type": "stream",
     "name": "stdout",
     "text": [
      "Epoch [2624/6000]: Train loss: 1.8369, Valid loss: 2.0576\n"
     ]
    },
    {
     "output_type": "stream",
     "name": "stderr",
     "text": [
      "Epoch [2625/6000]: 100%|██████████| 17/17 [00:00<00:00, 112.69it/s, loss=2.45]\n"
     ]
    },
    {
     "output_type": "stream",
     "name": "stdout",
     "text": [
      "Epoch [2625/6000]: Train loss: 1.8399, Valid loss: 1.6070\n"
     ]
    },
    {
     "output_type": "stream",
     "name": "stderr",
     "text": [
      "Epoch [2626/6000]: 100%|██████████| 17/17 [00:00<00:00, 121.98it/s, loss=1.73]\n"
     ]
    },
    {
     "output_type": "stream",
     "name": "stdout",
     "text": [
      "Epoch [2626/6000]: Train loss: 1.8347, Valid loss: 1.6466\n"
     ]
    },
    {
     "output_type": "stream",
     "name": "stderr",
     "text": [
      "Epoch [2627/6000]: 100%|██████████| 17/17 [00:00<00:00, 126.18it/s, loss=2.24]\n"
     ]
    },
    {
     "output_type": "stream",
     "name": "stdout",
     "text": [
      "Epoch [2627/6000]: Train loss: 1.8381, Valid loss: 1.5505\n"
     ]
    },
    {
     "output_type": "stream",
     "name": "stderr",
     "text": [
      "Epoch [2628/6000]: 100%|██████████| 17/17 [00:00<00:00, 118.93it/s, loss=1.71]\n"
     ]
    },
    {
     "output_type": "stream",
     "name": "stdout",
     "text": [
      "Epoch [2628/6000]: Train loss: 1.8335, Valid loss: 1.6588\n"
     ]
    },
    {
     "output_type": "stream",
     "name": "stderr",
     "text": [
      "Epoch [2629/6000]: 100%|██████████| 17/17 [00:00<00:00, 118.12it/s, loss=2.01]\n"
     ]
    },
    {
     "output_type": "stream",
     "name": "stdout",
     "text": [
      "Epoch [2629/6000]: Train loss: 1.8352, Valid loss: 1.7673\n"
     ]
    },
    {
     "output_type": "stream",
     "name": "stderr",
     "text": [
      "Epoch [2630/6000]: 100%|██████████| 17/17 [00:00<00:00, 112.23it/s, loss=1.43]\n"
     ]
    },
    {
     "output_type": "stream",
     "name": "stdout",
     "text": [
      "Epoch [2630/6000]: Train loss: 1.8308, Valid loss: 1.7265\n"
     ]
    },
    {
     "output_type": "stream",
     "name": "stderr",
     "text": [
      "Epoch [2631/6000]: 100%|██████████| 17/17 [00:00<00:00, 121.14it/s, loss=2.06]\n"
     ]
    },
    {
     "output_type": "stream",
     "name": "stdout",
     "text": [
      "Epoch [2631/6000]: Train loss: 1.8352, Valid loss: 1.7108\n"
     ]
    },
    {
     "output_type": "stream",
     "name": "stderr",
     "text": [
      "Epoch [2632/6000]: 100%|██████████| 17/17 [00:00<00:00, 124.45it/s, loss=2.24]\n"
     ]
    },
    {
     "output_type": "stream",
     "name": "stdout",
     "text": [
      "Epoch [2632/6000]: Train loss: 1.8367, Valid loss: 1.5965\n"
     ]
    },
    {
     "output_type": "stream",
     "name": "stderr",
     "text": [
      "Epoch [2633/6000]: 100%|██████████| 17/17 [00:00<00:00, 118.79it/s, loss=1.86]\n"
     ]
    },
    {
     "output_type": "stream",
     "name": "stdout",
     "text": [
      "Epoch [2633/6000]: Train loss: 1.8332, Valid loss: 1.6788\n"
     ]
    },
    {
     "output_type": "stream",
     "name": "stderr",
     "text": [
      "Epoch [2634/6000]: 100%|██████████| 17/17 [00:00<00:00, 119.97it/s, loss=1.87]\n"
     ]
    },
    {
     "output_type": "stream",
     "name": "stdout",
     "text": [
      "Epoch [2634/6000]: Train loss: 1.8335, Valid loss: 1.7843\n"
     ]
    },
    {
     "output_type": "stream",
     "name": "stderr",
     "text": [
      "Epoch [2635/6000]: 100%|██████████| 17/17 [00:00<00:00, 99.30it/s, loss=1.59] \n"
     ]
    },
    {
     "output_type": "stream",
     "name": "stdout",
     "text": [
      "Epoch [2635/6000]: Train loss: 1.8302, Valid loss: 1.5886\n"
     ]
    },
    {
     "output_type": "stream",
     "name": "stderr",
     "text": [
      "Epoch [2636/6000]: 100%|██████████| 17/17 [00:00<00:00, 98.97it/s, loss=1.84]\n"
     ]
    },
    {
     "output_type": "stream",
     "name": "stdout",
     "text": [
      "Epoch [2636/6000]: Train loss: 1.8320, Valid loss: 1.7253\n"
     ]
    },
    {
     "output_type": "stream",
     "name": "stderr",
     "text": [
      "Epoch [2637/6000]: 100%|██████████| 17/17 [00:00<00:00, 96.78it/s, loss=1.67]\n"
     ]
    },
    {
     "output_type": "stream",
     "name": "stdout",
     "text": [
      "Epoch [2637/6000]: Train loss: 1.8312, Valid loss: 1.5842\n"
     ]
    },
    {
     "output_type": "stream",
     "name": "stderr",
     "text": [
      "Epoch [2638/6000]: 100%|██████████| 17/17 [00:00<00:00, 121.20it/s, loss=1.37]\n"
     ]
    },
    {
     "output_type": "stream",
     "name": "stdout",
     "text": [
      "Epoch [2638/6000]: Train loss: 1.8284, Valid loss: 2.0833\n"
     ]
    },
    {
     "output_type": "stream",
     "name": "stderr",
     "text": [
      "Epoch [2639/6000]: 100%|██████████| 17/17 [00:00<00:00, 121.42it/s, loss=1.8]\n"
     ]
    },
    {
     "output_type": "stream",
     "name": "stdout",
     "text": [
      "Epoch [2639/6000]: Train loss: 1.8312, Valid loss: 1.5885\n"
     ]
    },
    {
     "output_type": "stream",
     "name": "stderr",
     "text": [
      "Epoch [2640/6000]: 100%|██████████| 17/17 [00:00<00:00, 114.48it/s, loss=1.86]\n"
     ]
    },
    {
     "output_type": "stream",
     "name": "stdout",
     "text": [
      "Epoch [2640/6000]: Train loss: 1.8305, Valid loss: 1.5929\n"
     ]
    },
    {
     "output_type": "stream",
     "name": "stderr",
     "text": [
      "Epoch [2641/6000]: 100%|██████████| 17/17 [00:00<00:00, 113.69it/s, loss=1.6]\n"
     ]
    },
    {
     "output_type": "stream",
     "name": "stdout",
     "text": [
      "Epoch [2641/6000]: Train loss: 1.8284, Valid loss: 1.7160\n"
     ]
    },
    {
     "output_type": "stream",
     "name": "stderr",
     "text": [
      "Epoch [2642/6000]: 100%|██████████| 17/17 [00:00<00:00, 113.60it/s, loss=1.26]\n"
     ]
    },
    {
     "output_type": "stream",
     "name": "stdout",
     "text": [
      "Epoch [2642/6000]: Train loss: 1.8254, Valid loss: 1.8326\n"
     ]
    },
    {
     "output_type": "stream",
     "name": "stderr",
     "text": [
      "Epoch [2643/6000]: 100%|██████████| 17/17 [00:00<00:00, 112.03it/s, loss=2.08]\n"
     ]
    },
    {
     "output_type": "stream",
     "name": "stdout",
     "text": [
      "Epoch [2643/6000]: Train loss: 1.8311, Valid loss: 1.6506\n"
     ]
    },
    {
     "output_type": "stream",
     "name": "stderr",
     "text": [
      "Epoch [2644/6000]: 100%|██████████| 17/17 [00:00<00:00, 119.02it/s, loss=1.54]\n"
     ]
    },
    {
     "output_type": "stream",
     "name": "stdout",
     "text": [
      "Epoch [2644/6000]: Train loss: 1.8272, Valid loss: 1.7534\n"
     ]
    },
    {
     "output_type": "stream",
     "name": "stderr",
     "text": [
      "Epoch [2645/6000]: 100%|██████████| 17/17 [00:00<00:00, 121.03it/s, loss=1.77]\n"
     ]
    },
    {
     "output_type": "stream",
     "name": "stdout",
     "text": [
      "Epoch [2645/6000]: Train loss: 1.8283, Valid loss: 1.7847\n"
     ]
    },
    {
     "output_type": "stream",
     "name": "stderr",
     "text": [
      "Epoch [2646/6000]: 100%|██████████| 17/17 [00:00<00:00, 129.19it/s, loss=1.78]\n"
     ]
    },
    {
     "output_type": "stream",
     "name": "stdout",
     "text": [
      "Epoch [2646/6000]: Train loss: 1.8279, Valid loss: 1.6584\n"
     ]
    },
    {
     "output_type": "stream",
     "name": "stderr",
     "text": [
      "Epoch [2647/6000]: 100%|██████████| 17/17 [00:00<00:00, 128.15it/s, loss=1.76]\n"
     ]
    },
    {
     "output_type": "stream",
     "name": "stdout",
     "text": [
      "Epoch [2647/6000]: Train loss: 1.8279, Valid loss: 1.6851\n"
     ]
    },
    {
     "output_type": "stream",
     "name": "stderr",
     "text": [
      "Epoch [2648/6000]: 100%|██████████| 17/17 [00:00<00:00, 116.80it/s, loss=2.23]\n"
     ]
    },
    {
     "output_type": "stream",
     "name": "stdout",
     "text": [
      "Epoch [2648/6000]: Train loss: 1.8307, Valid loss: 1.7125\n"
     ]
    },
    {
     "output_type": "stream",
     "name": "stderr",
     "text": [
      "Epoch [2649/6000]: 100%|██████████| 17/17 [00:00<00:00, 125.24it/s, loss=1.17]\n"
     ]
    },
    {
     "output_type": "stream",
     "name": "stdout",
     "text": [
      "Epoch [2649/6000]: Train loss: 1.8226, Valid loss: 1.6235\n"
     ]
    },
    {
     "output_type": "stream",
     "name": "stderr",
     "text": [
      "Epoch [2650/6000]: 100%|██████████| 17/17 [00:00<00:00, 120.37it/s, loss=1.66]\n"
     ]
    },
    {
     "output_type": "stream",
     "name": "stdout",
     "text": [
      "Epoch [2650/6000]: Train loss: 1.8261, Valid loss: 1.7726\n"
     ]
    },
    {
     "output_type": "stream",
     "name": "stderr",
     "text": [
      "Epoch [2651/6000]: 100%|██████████| 17/17 [00:00<00:00, 120.40it/s, loss=2.21]\n"
     ]
    },
    {
     "output_type": "stream",
     "name": "stdout",
     "text": [
      "Epoch [2651/6000]: Train loss: 1.8296, Valid loss: 1.5150\n",
      "Saving model with loss 1.515...\n"
     ]
    },
    {
     "output_type": "stream",
     "name": "stderr",
     "text": [
      "Epoch [2652/6000]: 100%|██████████| 17/17 [00:00<00:00, 116.55it/s, loss=1.83]\n"
     ]
    },
    {
     "output_type": "stream",
     "name": "stdout",
     "text": [
      "Epoch [2652/6000]: Train loss: 1.8267, Valid loss: 1.5151\n"
     ]
    },
    {
     "output_type": "stream",
     "name": "stderr",
     "text": [
      "Epoch [2653/6000]: 100%|██████████| 17/17 [00:00<00:00, 110.69it/s, loss=2.32]\n"
     ]
    },
    {
     "output_type": "stream",
     "name": "stdout",
     "text": [
      "Epoch [2653/6000]: Train loss: 1.8297, Valid loss: 1.6948\n"
     ]
    },
    {
     "output_type": "stream",
     "name": "stderr",
     "text": [
      "Epoch [2654/6000]: 100%|██████████| 17/17 [00:00<00:00, 119.53it/s, loss=1.9]\n"
     ]
    },
    {
     "output_type": "stream",
     "name": "stdout",
     "text": [
      "Epoch [2654/6000]: Train loss: 1.8262, Valid loss: 1.5362\n"
     ]
    },
    {
     "output_type": "stream",
     "name": "stderr",
     "text": [
      "Epoch [2661/6000]: 100%|██████████| 17/17 [00:00<00:00, 118.48it/s, loss=1.73]\n"
     ]
    },
    {
     "output_type": "stream",
     "name": "stdout",
     "text": [
      "Epoch [2661/6000]: Train loss: 1.8227, Valid loss: 1.6706\n"
     ]
    },
    {
     "output_type": "stream",
     "name": "stderr",
     "text": [
      "Epoch [2662/6000]: 100%|██████████| 17/17 [00:00<00:00, 128.84it/s, loss=2.18]\n"
     ]
    },
    {
     "output_type": "stream",
     "name": "stdout",
     "text": [
      "Epoch [2662/6000]: Train loss: 1.8260, Valid loss: 1.6101\n"
     ]
    },
    {
     "output_type": "stream",
     "name": "stderr",
     "text": [
      "Epoch [2663/6000]: 100%|██████████| 17/17 [00:00<00:00, 112.51it/s, loss=2.05]\n"
     ]
    },
    {
     "output_type": "stream",
     "name": "stdout",
     "text": [
      "Epoch [2663/6000]: Train loss: 1.8250, Valid loss: 1.7198\n"
     ]
    },
    {
     "output_type": "stream",
     "name": "stderr",
     "text": [
      "Epoch [2664/6000]: 100%|██████████| 17/17 [00:00<00:00, 120.28it/s, loss=1.83]\n"
     ]
    },
    {
     "output_type": "stream",
     "name": "stdout",
     "text": [
      "Epoch [2664/6000]: Train loss: 1.8224, Valid loss: 1.7638\n"
     ]
    },
    {
     "output_type": "stream",
     "name": "stderr",
     "text": [
      "Epoch [2665/6000]:   0%|          | 0/17 [00:00<?, ?it/s, loss=2.23]"
     ]
    }
   ],
   "source": [
    "model = My_Model(input_dim=x_train.shape[1]).to(device) # put your model and data on the same computation device.\n",
    "trainer(train_loader, valid_loader, model, config, device)"
   ]
  },
  {
   "cell_type": "markdown",
   "metadata": {
    "id": "Ik09KPqU-di-"
   },
   "source": [
    "# Plot learning curves with `tensorboard` (optional)\n",
    "\n",
    "`tensorboard` is a tool that allows you to visualize your training progress.\n",
    "\n",
    "If this block does not display your learning curve, please wait for few minutes, and re-run this block. It might take some time to load your logging information. "
   ]
  },
  {
   "cell_type": "code",
   "execution_count": null,
   "metadata": {
    "id": "loA4nKmLGQ-n"
   },
   "outputs": [],
   "source": [
    "%reload_ext tensorboard\n",
    "%tensorboard --logdir=./runs/"
   ]
  },
  {
   "cell_type": "markdown",
   "metadata": {
    "id": "yhAHGqC9-woK"
   },
   "source": [
    "# Testing\n",
    "The predictions of your model on testing set will be stored at `pred.csv`."
   ]
  },
  {
   "cell_type": "code",
   "execution_count": null,
   "metadata": {
    "id": "Q5eVdpbvAlAe"
   },
   "outputs": [],
   "source": [
    "def save_pred(preds, file):\n",
    "    ''' Save predictions to specified file '''\n",
    "    with open(file, 'w') as fp:\n",
    "        writer = csv.writer(fp)\n",
    "        writer.writerow(['id', 'tested_positive'])\n",
    "        for i, p in enumerate(preds):\n",
    "            writer.writerow([i, p])\n",
    "\n",
    "model = My_Model(input_dim=x_train.shape[1]).to(device)\n",
    "model.load_state_dict(torch.load(config['save_path']))\n",
    "preds = predict(test_loader, model, device) \n",
    "save_pred(preds, 'pred03071555.csv')"
   ]
  },
  {
   "cell_type": "markdown",
   "metadata": {
    "id": "IJ_k5rY0GvSV"
   },
   "source": [
    "# Reference\n",
    "This notebook uses code written by Heng-Jui Chang @ NTUEE (https://github.com/ga642381/ML2021-Spring/blob/main/HW01/HW01.ipynb)"
   ]
  }
 ],
 "metadata": {
  "accelerator": "GPU",
  "colab": {
   "provenance": [
    {
     "file_id": "1FTcG6CE-HILnvFztEFKdauMlPKfQvm5Z",
     "timestamp": 1677480801674
    },
    {
     "file_id": "11ZsfGKBOCYwYgUFfRiPuRfStCDL0TK4i",
     "timestamp": 1643255172964
    }
   ],
   "toc_visible": true
  },
  "gpuClass": "standard",
  "kernelspec": {
   "display_name": "Python 3 (ipykernel)",
   "language": "python",
   "name": "python3"
  },
  "language_info": {
   "codemirror_mode": {
    "name": "ipython",
    "version": 3
   },
   "file_extension": ".py",
   "mimetype": "text/x-python",
   "name": "python",
   "nbconvert_exporter": "python",
   "pygments_lexer": "ipython3",
   "version": "3.10.9"
  }
 },
 "nbformat": 4,
 "nbformat_minor": 0
}
