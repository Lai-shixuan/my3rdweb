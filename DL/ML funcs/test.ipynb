{
 "cells": [
  {
   "cell_type": "code",
   "execution_count": 43,
   "id": "initial_id",
   "metadata": {
    "collapsed": true,
    "ExecuteTime": {
     "end_time": "2024-01-03T09:39:23.415575600Z",
     "start_time": "2024-01-03T09:39:23.393571100Z"
    }
   },
   "outputs": [],
   "source": [
    "import os\n",
    "import numpy as np\n",
    "import cv2"
   ]
  },
  {
   "cell_type": "code",
   "outputs": [],
   "source": [
    "input_folder = 'd:\\\\15 CT_data\\\\CPU_test\\\\'\n",
    "output_folder = 'd:\\\\15 CT_data\\\\CPU_test\\\\result'\n",
    "ROI = '400'\n",
    "method_name = 'otsu'\n",
    "resize_dims = '0'"
   ],
   "metadata": {
    "collapsed": false,
    "ExecuteTime": {
     "end_time": "2024-01-03T09:39:23.589399300Z",
     "start_time": "2024-01-03T09:39:23.409578100Z"
    }
   },
   "id": "d3df1a5029b8cfc4",
   "execution_count": 44
  },
  {
   "cell_type": "code",
   "outputs": [],
   "source": [
    "img_files = sorted([os.path.join(input_folder, f) for f in os.listdir(input_folder)\n",
    "                    if f.endswith('.bmp') or f.endswith('.png')])\n",
    "radius = int(ROI)"
   ],
   "metadata": {
    "collapsed": false,
    "ExecuteTime": {
     "end_time": "2024-01-03T09:39:23.590404300Z",
     "start_time": "2024-01-03T09:39:23.423737700Z"
    }
   },
   "id": "63c26eeecc915718",
   "execution_count": 45
  },
  {
   "cell_type": "code",
   "outputs": [],
   "source": [
    "def adjust_gamma(image, gamma=1.0):\n",
    "    # 建立查找表\n",
    "    inv_gamma = 1.0 / gamma\n",
    "    table = np.array([((i / 255.0) ** inv_gamma) * 255\n",
    "                      for i in np.arange(0, 256)]).astype(\"uint8\")\n",
    "\n",
    "    # 应用伽马校正\n",
    "    return cv2.LUT(image, table)"
   ],
   "metadata": {
    "collapsed": false,
    "ExecuteTime": {
     "end_time": "2024-01-03T09:39:23.687041800Z",
     "start_time": "2024-01-03T09:39:23.438739Z"
    }
   },
   "id": "78c9f7730b6ac576",
   "execution_count": 46
  },
  {
   "cell_type": "code",
   "outputs": [],
   "source": [
    "test_img = cv2.imread(img_files[0], cv2.IMREAD_GRAYSCALE)\n",
    "height, width = test_img.shape\n",
    "test_img = test_img[(height // 2 - radius):(height // 2 + radius), (width // 2 - radius):(width // 2 + radius)]"
   ],
   "metadata": {
    "collapsed": false,
    "ExecuteTime": {
     "end_time": "2024-01-03T09:39:23.687041800Z",
     "start_time": "2024-01-03T09:39:23.453737400Z"
    }
   },
   "id": "e309f8b83e054298",
   "execution_count": 47
  },
  {
   "cell_type": "code",
   "outputs": [],
   "source": [],
   "metadata": {
    "collapsed": false,
    "ExecuteTime": {
     "end_time": "2024-01-03T09:39:23.687041800Z",
     "start_time": "2024-01-03T09:39:23.469741900Z"
    }
   },
   "id": "702eb667d09a1219",
   "execution_count": 47
  },
  {
   "cell_type": "code",
   "outputs": [
    {
     "data": {
      "text/plain": "32"
     },
     "execution_count": 48,
     "metadata": {},
     "output_type": "execute_result"
    }
   ],
   "source": [
    "# gamma_adjusted = adjust_gamma(test_img, gamma=1)\n",
    "hist = cv2.equalizeHist(test_img)\n",
    "cv2.namedWindow('test', cv2.WINDOW_NORMAL)\n",
    "cv2.imshow('test', hist)\n",
    "cv2.waitKey(0)"
   ],
   "metadata": {
    "collapsed": false,
    "ExecuteTime": {
     "end_time": "2024-01-03T09:39:26.945500Z",
     "start_time": "2024-01-03T09:39:23.484737100Z"
    }
   },
   "id": "67537b964acc317b",
   "execution_count": 48
  },
  {
   "cell_type": "code",
   "outputs": [
    {
     "name": "stdout",
     "output_type": "stream",
     "text": [
      "0.5466546875\n"
     ]
    }
   ],
   "source": [
    "_, dst = cv2.threshold(gamma_adjusted, 0, 255, cv2.THRESH_OTSU)\n",
    "pore = np.sum(dst) / 255 / dst.shape[0] / dst.shape[1]\n",
    "print(pore)\n",
    "cv2.namedWindow('threshold', cv2.WINDOW_NORMAL)\n",
    "cv2.imshow('threshold', dst)\n",
    "cv2.waitKey(0)\n",
    "cv2.destroyAllWindows()"
   ],
   "metadata": {
    "collapsed": false,
    "ExecuteTime": {
     "end_time": "2024-01-03T09:42:27.119682200Z",
     "start_time": "2024-01-03T09:39:26.947586600Z"
    }
   },
   "id": "4329133dd1421ea6",
   "execution_count": 49
  }
 ],
 "metadata": {
  "kernelspec": {
   "display_name": "Python 3",
   "language": "python",
   "name": "python3"
  },
  "language_info": {
   "codemirror_mode": {
    "name": "ipython",
    "version": 2
   },
   "file_extension": ".py",
   "mimetype": "text/x-python",
   "name": "python",
   "nbconvert_exporter": "python",
   "pygments_lexer": "ipython2",
   "version": "2.7.6"
  }
 },
 "nbformat": 4,
 "nbformat_minor": 5
}
