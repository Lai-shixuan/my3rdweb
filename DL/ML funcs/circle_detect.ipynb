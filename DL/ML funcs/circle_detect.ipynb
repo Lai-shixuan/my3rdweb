{
 "cells": [
  {
   "metadata": {
    "ExecuteTime": {
     "end_time": "2024-04-25T05:21:20.130129Z",
     "start_time": "2024-04-25T05:21:19.985943Z"
    }
   },
   "cell_type": "code",
   "source": [
    "# Import\n",
    "import cv2\n",
    "import numpy as np"
   ],
   "id": "716111a115ffe082",
   "outputs": [],
   "execution_count": 2
  },
  {
   "metadata": {
    "ExecuteTime": {
     "end_time": "2024-04-25T05:21:31.895020Z",
     "start_time": "2024-04-25T05:21:20.931070Z"
    }
   },
   "cell_type": "code",
   "source": [
    "# Load the image\n",
    "image_path = 'data/PixPin_2024-04-25_13-02-07.jpg'\n",
    "original_image = cv2.imread(image_path, cv2.IMREAD_GRAYSCALE)\n",
    "\n",
    "cv2.imshow(\"original_image\", original_image)\n",
    "cv2.waitKey()"
   ],
   "id": "a6b15aa266b07a17",
   "outputs": [
    {
     "data": {
      "text/plain": [
       "27"
      ]
     },
     "execution_count": 3,
     "metadata": {},
     "output_type": "execute_result"
    }
   ],
   "execution_count": 3
  },
  {
   "metadata": {},
   "cell_type": "code",
   "outputs": [],
   "execution_count": null,
   "source": [
    "# Apply Gaussian blur\n",
    "blurred_image = cv2.GaussianBlur(original_image, (9, 9), 2)\n",
    "\n",
    "# Edge detection using Canny\n",
    "edges = cv2.Canny(blurred_image, 50, 150)\n",
    "\n",
    "# Use Hough transform to detect circles\n",
    "circles = cv2.HoughCircles(edges, cv2.HOUGH_GRADIENT, dp=1.2, minDist=100,\n",
    "                           param1=100, param2=30, minRadius=0, maxRadius=0)\n",
    "\n",
    "# Initialize an output path for the extracted circle image\n",
    "output_path = '/mnt/data/extracted_circle.jpg'\n",
    "\n",
    "# Check if we found any circles\n",
    "if circles is not None:\n",
    "    circles = np.round(circles[0, :]).astype(\"int\") # Convert to integers\n",
    "    circles = sorted(circles, key=lambda x: x[2], reverse=True) # Sort by radius\n",
    "    largest_circle = circles[0] # Take the largest circle\n",
    "\n",
    "    # Create a mask for the largest circle\n",
    "    mask = np.zeros_like(gray_image)\n",
    "    cv2.circle(mask, (largest_circle[0], largest_circle[1]), largest_circle[2], 255, -1)\n",
    "\n",
    "    # Use the mask to extract the circle from the original image\n",
    "    circle_extracted = cv2.bitwise_and(original_image, original_image, mask=mask)\n",
    "\n",
    "    # Save the result\n",
    "    cv2.imwrite(output_path, circle_extracted)\n",
    "\n",
    "    # Since we know the file should exist now, return the path to the output image\n",
    "    output_path\n",
    "else:\n",
    "    # If no circles were found, return a message indicating that\n",
    "    \"No circles were detected, and no image was extracted.\""
   ],
   "id": "9fd0ff5e06c209c8"
  },
  {
   "metadata": {},
   "cell_type": "code",
   "outputs": [],
   "execution_count": null,
   "source": [
    "# Re-run the process with the updated requirement to select the smallest circle detected\n",
    "\n",
    "# Use Hough transform to detect circles again\n",
    "circles = cv2.HoughCircles(edges, cv2.HOUGH_GRADIENT, dp=1.2, minDist=100,\n",
    "                           param1=100, param2=30, minRadius=0, maxRadius=0)\n",
    "\n",
    "# Check if we found any circles\n",
    "if circles is not None:\n",
    "    circles = np.round(circles[0, :]).astype(\"int\")  # Convert to integers\n",
    "    circles = sorted(circles, key=lambda x: x[2])  # Sort by radius in ascending order to find the smallest\n",
    "    smallest_circle = circles[0]  # Take the smallest circle\n",
    "\n",
    "    # Create a mask for the smallest circle\n",
    "    mask = np.zeros_like(gray_image)\n",
    "    cv2.circle(mask, (smallest_circle[0], smallest_circle[1]), smallest_circle[2], 255, -1)\n",
    "\n",
    "    # Use the mask to extract the circle from the original image\n",
    "    circle_extracted = cv2.bitwise_and(original_image, original_image, mask=mask)\n",
    "\n",
    "    # Define the output path for the new extracted circle image\n",
    "    output_path_smallest = '/mnt/data/extracted_smallest_circle.jpg'\n",
    "\n",
    "    # Save the result\n",
    "    cv2.imwrite(output_path_smallest, circle_extracted)\n",
    "\n",
    "    # Return the path to the output image\n",
    "    output_path_smallest\n",
    "else:\n",
    "    # If no circles were found, return a message indicating that\n",
    "    \"No circles were detected, and no image was extracted.\""
   ],
   "id": "d7cf4b2c4950583d"
  },
  {
   "metadata": {},
   "cell_type": "code",
   "outputs": [],
   "execution_count": null,
   "source": [
    "# Verify if the new image with the smallest extracted circle has been created\n",
    "\n",
    "# Define the expected path of the new output image\n",
    "output_path_smallest = '/mnt/data/extracted_smallest_circle.jpg'\n",
    "\n",
    "# Check for the existence of the new image file\n",
    "if os.path.isfile(output_path_smallest):\n",
    "    # If the file exists, display the path to the extracted smallest circle image\n",
    "    output_path_smallest\n",
    "else:\n",
    "    # If the file does not exist, provide feedback that the process did not complete successfully\n",
    "    \"No output image has been created. The extraction of the smallest circle did not complete successfully.\""
   ],
   "id": "d6d04a10d43f07cf"
  }
 ],
 "metadata": {
  "kernelspec": {
   "display_name": "Python 3",
   "language": "python",
   "name": "python3"
  },
  "language_info": {
   "codemirror_mode": {
    "name": "ipython",
    "version": 2
   },
   "file_extension": ".py",
   "mimetype": "text/x-python",
   "name": "python",
   "nbconvert_exporter": "python",
   "pygments_lexer": "ipython2",
   "version": "2.7.6"
  }
 },
 "nbformat": 4,
 "nbformat_minor": 5
}
