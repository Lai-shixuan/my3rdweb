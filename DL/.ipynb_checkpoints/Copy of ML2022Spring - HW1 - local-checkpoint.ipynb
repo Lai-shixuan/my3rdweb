{
 "cells": [
  {
   "cell_type": "markdown",
   "metadata": {
    "id": "6zxadcyUNU50"
   },
   "source": [
    "# **Homework 1: COVID-19 Cases Prediction (Regression)**"
   ]
  },
  {
   "cell_type": "markdown",
   "metadata": {
    "id": "Jr-De0XzNU6B"
   },
   "source": [
    "Objectives:\n",
    "* Solve a regression problem with deep neural networks (DNN).\n",
    "* Understand basic DNN training tips.\n",
    "* Familiarize yourself with PyTorch.\n",
    "\n",
    "If you have any questions, please contact the TAs via TA hours, NTU COOL, or email to mlta-2022-spring@googlegroups.com"
   ]
  },
  {
   "cell_type": "markdown",
   "metadata": {
    "id": "Tm2aXcb-j9Fc"
   },
   "source": [
    "# Download data\n",
    "If the Google Drive links below do not work, you can download data from [Kaggle](https://www.kaggle.com/t/a3ebd5b5542f0f55e828d4f00de8e59a), and upload data manually to the workspace."
   ]
  },
  {
   "cell_type": "code",
   "execution_count": 1,
   "metadata": {
    "ExecuteTime": {
     "end_time": "2023-05-04T18:35:40.986560Z",
     "start_time": "2023-05-04T18:35:40.956560Z"
    },
    "colab": {
     "base_uri": "https://localhost:8080/"
    },
    "executionInfo": {
     "elapsed": 2722,
     "status": "ok",
     "timestamp": 1678246081958,
     "user": {
      "displayName": "赖世宣",
      "userId": "13598398087408319646"
     },
     "user_tz": -480
    },
    "id": "YPmfl-awlKZA",
    "outputId": "1ca5309d-4185-439a-a02d-ab0dd8629603"
   },
   "outputs": [],
   "source": [
    "# !gdown --id '1kLSW_-cW2Huj7bh84YTdimGBOJaODiOS' --output covid.train.csv\n",
    "# !gdown --id '1iiI5qROrAhZn-o4FPqsE97bMzDEFvIdg' --output covid.test.csv"
   ]
  },
  {
   "cell_type": "markdown",
   "metadata": {
    "id": "igqIMEgu64-F"
   },
   "source": [
    "# Import packages"
   ]
  },
  {
   "cell_type": "code",
   "execution_count": 2,
   "metadata": {
    "ExecuteTime": {
     "end_time": "2023-05-05T01:43:45.637456200Z",
     "start_time": "2023-05-05T01:43:44.329894800Z"
    },
    "executionInfo": {
     "elapsed": 3219,
     "status": "ok",
     "timestamp": 1678246085157,
     "user": {
      "displayName": "赖世宣",
      "userId": "13598398087408319646"
     },
     "user_tz": -480
    },
    "id": "xybQNYCXYu13"
   },
   "outputs": [],
   "source": [
    "# Numerical Operations\n",
    "import math\n",
    "import numpy as np\n",
    "\n",
    "# Reading/Writing Data\n",
    "import pandas as pd\n",
    "import os\n",
    "import csv\n",
    "\n",
    "# For Progress Bar\n",
    "from tqdm import tqdm\n",
    "\n",
    "# Pytorch\n",
    "import torch \n",
    "import torch.nn as nn\n",
    "from torch.utils.data import Dataset, DataLoader, random_split\n",
    "from torch.backends import cudnn\n",
    "\n",
    "# For plotting learning curve\n",
    "from torch.utils.tensorboard import SummaryWriter"
   ]
  },
  {
   "cell_type": "markdown",
   "metadata": {
    "id": "fTAVqRfc2KK3"
   },
   "source": [
    "# Some Utility Functions\n",
    "\n",
    "You do not need to modify this part."
   ]
  },
  {
   "cell_type": "code",
   "execution_count": 3,
   "metadata": {
    "ExecuteTime": {
     "end_time": "2023-05-04T18:35:41.015560Z",
     "start_time": "2023-05-04T18:35:40.987560Z"
    },
    "executionInfo": {
     "elapsed": 25,
     "status": "ok",
     "timestamp": 1678246085160,
     "user": {
      "displayName": "赖世宣",
      "userId": "13598398087408319646"
     },
     "user_tz": -480
    },
    "id": "RbrcpfYN2I-H"
   },
   "outputs": [],
   "source": [
    "def same_seed(seed): \n",
    "    '''Fixes random number generator seeds for reproducibility.'''\n",
    "    torch.backends.cudnn.deterministic = True\n",
    "    torch.backends.cudnn.benchmark = False\n",
    "    np.random.seed(seed)\n",
    "    torch.manual_seed(seed)\n",
    "    if torch.cuda.is_available():\n",
    "        torch.cuda.manual_seed_all(seed)\n",
    "\n",
    "def train_valid_split(data_set, valid_ratio, seed):\n",
    "    '''Split provided training data into training set and validation set'''\n",
    "    valid_set_size = int(valid_ratio * len(data_set)) \n",
    "    train_set_size = len(data_set) - valid_set_size\n",
    "    train_set, valid_set = random_split(data_set, [train_set_size, valid_set_size], generator=torch.Generator().manual_seed(seed))\n",
    "    return np.array(train_set), np.array(valid_set)\n",
    "\n",
    "def predict(test_loader, model, device):\n",
    "    model.eval() # Set your model to evaluation mode.\n",
    "    preds = []\n",
    "    for x in tqdm(test_loader):\n",
    "        x = x.to(device)                        \n",
    "        with torch.no_grad():                   \n",
    "            pred = model(x)                     \n",
    "            preds.append(pred.detach().cpu())   \n",
    "    preds = torch.cat(preds, dim=0).numpy()  \n",
    "    return preds"
   ]
  },
  {
   "cell_type": "markdown",
   "metadata": {
    "id": "IqO3lTm78nNO"
   },
   "source": [
    "# Dataset"
   ]
  },
  {
   "cell_type": "code",
   "execution_count": 4,
   "metadata": {
    "ExecuteTime": {
     "end_time": "2023-05-04T18:35:41.027560Z",
     "start_time": "2023-05-04T18:35:41.004562Z"
    },
    "executionInfo": {
     "elapsed": 25,
     "status": "ok",
     "timestamp": 1678246085161,
     "user": {
      "displayName": "赖世宣",
      "userId": "13598398087408319646"
     },
     "user_tz": -480
    },
    "id": "-mjaJM0wprMs"
   },
   "outputs": [],
   "source": [
    "class COVID19Dataset(Dataset):\n",
    "    '''\n",
    "    x: Features.\n",
    "    y: Targets, if none, do prediction.\n",
    "    '''\n",
    "    def __init__(self, x, y=None):\n",
    "        if y is None:\n",
    "            self.y = y\n",
    "        else:\n",
    "            self.y = torch.FloatTensor(y)\n",
    "        self.x = torch.FloatTensor(x)\n",
    "\n",
    "    def __getitem__(self, idx):\n",
    "        if self.y is None:\n",
    "            return self.x[idx]\n",
    "        else:\n",
    "            return self.x[idx], self.y[idx]\n",
    "\n",
    "    def __len__(self):\n",
    "        return len(self.x)"
   ]
  },
  {
   "cell_type": "markdown",
   "metadata": {
    "id": "m73ooU75CL_j"
   },
   "source": [
    "# Neural Network Model\n",
    "Try out different model architectures by modifying the class below."
   ]
  },
  {
   "cell_type": "code",
   "execution_count": 5,
   "metadata": {
    "ExecuteTime": {
     "end_time": "2023-05-04T18:35:41.033561Z",
     "start_time": "2023-05-04T18:35:41.019560Z"
    },
    "executionInfo": {
     "elapsed": 25,
     "status": "ok",
     "timestamp": 1678246085163,
     "user": {
      "displayName": "赖世宣",
      "userId": "13598398087408319646"
     },
     "user_tz": -480
    },
    "id": "Qn97_WvvrEkG"
   },
   "outputs": [],
   "source": [
    "class My_Model(nn.Module):\n",
    "    def __init__(self, input_dim):\n",
    "        super(My_Model, self).__init__()\n",
    "        # TODO: modify model's structure, be aware of dimensions. \n",
    "        self.layers = nn.Sequential(\n",
    "            nn.Linear(input_dim, 16),\n",
    "            nn.ReLU(),\n",
    "            nn.Linear(16, 8),\n",
    "            nn.ReLU(),\n",
    "            nn.Linear(8, 1)\n",
    "        )\n",
    "\n",
    "    def forward(self, x):\n",
    "        x = self.layers(x)\n",
    "        x = x.squeeze(1) # (B, 1) -> (B)\n",
    "        return x"
   ]
  },
  {
   "cell_type": "markdown",
   "metadata": {
    "id": "x5-LKF6R8xeq"
   },
   "source": [
    "# Feature Selection\n",
    "Choose features you deem useful by modifying the function below."
   ]
  },
  {
   "cell_type": "code",
   "execution_count": 6,
   "metadata": {
    "ExecuteTime": {
     "end_time": "2023-05-04T18:35:41.055560Z",
     "start_time": "2023-05-04T18:35:41.036561Z"
    },
    "executionInfo": {
     "elapsed": 387,
     "status": "ok",
     "timestamp": 1678246085525,
     "user": {
      "displayName": "赖世宣",
      "userId": "13598398087408319646"
     },
     "user_tz": -480
    },
    "id": "0FEnKRaIIeKp"
   },
   "outputs": [],
   "source": [
    "def select_feat(train_data, valid_data, test_data, select_all=True):\n",
    "    '''Selects useful features to perform regression'''\n",
    "    y_train, y_valid = train_data[:,-1], valid_data[:,-1]\n",
    "    raw_x_train, raw_x_valid, raw_x_test = train_data[:,:-1], valid_data[:,:-1], test_data\n",
    "\n",
    "    if select_all:\n",
    "        feat_idx = list(range(raw_x_train.shape[1]))\n",
    "    else:\n",
    "        feat_idx = np.concatenate((np.arange(1, 38), np.arange(38, 43), np.arange(53, 59),\n",
    "                                   np.arange(69, 75), np.arange(85, 91), np.arange(101, 107))) \\\n",
    "            # TODO: Select suitable feature columns.\n",
    "\n",
    "    return raw_x_train[:,feat_idx], raw_x_valid[:,feat_idx], raw_x_test[:,feat_idx], y_train, y_valid"
   ]
  },
  {
   "cell_type": "markdown",
   "metadata": {
    "id": "kADIPNQ2Ih5X"
   },
   "source": [
    "# Training Loop"
   ]
  },
  {
   "cell_type": "code",
   "execution_count": 7,
   "metadata": {
    "ExecuteTime": {
     "end_time": "2023-05-04T18:35:41.068561Z",
     "start_time": "2023-05-04T18:35:41.052560Z"
    },
    "executionInfo": {
     "elapsed": 9,
     "status": "ok",
     "timestamp": 1678246085527,
     "user": {
      "displayName": "赖世宣",
      "userId": "13598398087408319646"
     },
     "user_tz": -480
    },
    "id": "k4Rq8_TztAhq"
   },
   "outputs": [],
   "source": [
    "def trainer(train_loader, valid_loader, model, config, device):\n",
    "\n",
    "    criterion = nn.MSELoss(reduction='mean') # Define your loss function, do not modify this.\n",
    "\n",
    "    # Define your optimization algorithm. \n",
    "    # TODO: Please check https://pytorch.org/docs/stable/optim.html to get more available algorithms.\n",
    "    # TODO: L2 regularization (optimizer(weight decay...) or implement by your self).\n",
    "    optimizer = torch.optim.Adam(model.parameters(), lr=config['learning_rate']) \n",
    "    # optimizer = torch.optim.SGD(model.parameters(), lr=config['learning_rate'], momentum=0.9) \n",
    "\n",
    "    writer = SummaryWriter() # Writer of tensoboard.\n",
    "\n",
    "    if not os.path.isdir('./models'):\n",
    "        os.mkdir('./models') # Create directory of saving models.\n",
    "\n",
    "    n_epochs, best_loss, step, early_stop_count = config['n_epochs'], math.inf, 0, 0\n",
    "\n",
    "    for epoch in range(n_epochs):\n",
    "        model.train() # Set your model to train mode.\n",
    "        loss_record = []\n",
    "\n",
    "        # tqdm is a package to visualize your training progress.\n",
    "        train_pbar = tqdm(train_loader, position=0, leave=True)\n",
    "        for x, y in train_pbar:\n",
    "            optimizer.zero_grad()               # Set gradient to zero.\n",
    "            x, y = x.to(device), y.to(device)   # Move your data to device.\n",
    "            pred = model(x)\n",
    "            loss = criterion(pred, y)\n",
    "            loss.backward()                     # Compute gradient(backpropagation).\n",
    "            optimizer.step()                    # Update parameters.\n",
    "            step += 1\n",
    "            loss_record.append(loss.detach().item())\n",
    "            \n",
    "            # Display current epoch number and loss on tqdm progress bar.\n",
    "            # train_pbar.set_description(f'Epoch [{epoch+1}/{n_epochs}]')\n",
    "            # train_pbar.set_postfix({'loss': loss.detach().item()})\n",
    "\n",
    "        mean_train_loss = sum(loss_record)/len(loss_record)\n",
    "        writer.add_scalar('Loss/train', mean_train_loss, step)\n",
    "\n",
    "        model.eval() # Set your model to evaluation mode.\n",
    "        loss_record = []\n",
    "        for x, y in valid_loader:\n",
    "            x, y = x.to(device), y.to(device)\n",
    "            with torch.no_grad():\n",
    "                pred = model(x)\n",
    "                loss = criterion(pred, y)\n",
    "\n",
    "            loss_record.append(loss.item())\n",
    "\n",
    "        mean_valid_loss = sum(loss_record)/len(loss_record)\n",
    "        if epoch % 20 == 0:\n",
    "            print(f'Epoch [{epoch+1}/{n_epochs}]: Train loss: {mean_train_loss:.4f}, Valid loss: {mean_valid_loss:.4f}')\n",
    "            writer.add_scalar('Loss/valid', mean_valid_loss, step)\n",
    "\n",
    "        if mean_valid_loss < best_loss:\n",
    "            best_loss = mean_valid_loss\n",
    "            torch.save(model.state_dict(), config['save_path']) # Save your best model\n",
    "            print('Saving model with loss {:.3f}...'.format(best_loss))\n",
    "            early_stop_count = 0\n",
    "        else: \n",
    "            early_stop_count += 1\n",
    "\n",
    "        if early_stop_count >= config['early_stop']:\n",
    "            print('\\nModel is not improving, so we halt the training session.')\n",
    "            return"
   ]
  },
  {
   "cell_type": "markdown",
   "metadata": {
    "id": "0pgkOh2e9UjE"
   },
   "source": [
    "# Configurations\n",
    "`config` contains hyper-parameters for training and the path to save your model."
   ]
  },
  {
   "cell_type": "code",
   "execution_count": 8,
   "metadata": {
    "ExecuteTime": {
     "end_time": "2023-05-04T18:35:41.083985Z",
     "start_time": "2023-05-04T18:35:41.064560Z"
    },
    "executionInfo": {
     "elapsed": 15,
     "status": "ok",
     "timestamp": 1678246085964,
     "user": {
      "displayName": "赖世宣",
      "userId": "13598398087408319646"
     },
     "user_tz": -480
    },
    "id": "QoWPUahCtoT6"
   },
   "outputs": [],
   "source": [
    "device = 'cpu' #'cuda' if torch.cuda.is_available() else 'cpu'\n",
    "config = {\n",
    "    'seed': 5211314,      # Your seed number, you can pick your lucky number. :)\n",
    "    'select_all': False,   # Whether to use all features.\n",
    "    'valid_ratio': 0.2,   # validation_size = train_size * valid_ratio\n",
    "    'n_epochs': 6000,     # Number of epochs.            \n",
    "    'batch_size': 128, \n",
    "    'learning_rate': 1e-5,              \n",
    "    'early_stop': 400,    # If model has not improved for this many consecutive epochs, stop training.     \n",
    "    'save_path': './models/model.ckpt'  # Your model will be saved here.\n",
    "}"
   ]
  },
  {
   "cell_type": "markdown",
   "metadata": {
    "id": "lrS-aJJh9XkW"
   },
   "source": [
    "# Dataloader\n",
    "Read data from files and set up training, validation, and testing sets. You do not need to modify this part."
   ]
  },
  {
   "cell_type": "code",
   "execution_count": 9,
   "metadata": {
    "ExecuteTime": {
     "end_time": "2023-05-04T18:35:41.142985Z",
     "start_time": "2023-05-04T18:35:41.081985Z"
    },
    "colab": {
     "base_uri": "https://localhost:8080/"
    },
    "executionInfo": {
     "elapsed": 404,
     "status": "ok",
     "timestamp": 1678246086354,
     "user": {
      "displayName": "赖世宣",
      "userId": "13598398087408319646"
     },
     "user_tz": -480
    },
    "id": "2jc7ZfDot2t9",
    "outputId": "e727f699-061d-460e-fe8f-3edca50e88b6"
   },
   "outputs": [
    {
     "name": "stdout",
     "output_type": "stream",
     "text": [
      "train_data size: (2160, 118) \n",
      "valid_data size: (539, 118) \n",
      "test_data size: (1078, 117)\n",
      "number of features: 66\n"
     ]
    }
   ],
   "source": [
    "# Set seed for reproducibility\n",
    "same_seed(config['seed'])\n",
    "\n",
    "\n",
    "# train_data size: 2699 x 118 (id + 37 states + 16 features x 5 days) \n",
    "# test_data size: 1078 x 117 (without last day's positive rate)\n",
    "train_data, test_data = pd.read_csv('./covid.train.csv').values, pd.read_csv('./covid.test.csv').values\n",
    "train_data, valid_data = train_valid_split(train_data, config['valid_ratio'], config['seed'])\n",
    "\n",
    "# Print out the data size.\n",
    "print(f\"\"\"train_data size: {train_data.shape} \n",
    "valid_data size: {valid_data.shape} \n",
    "test_data size: {test_data.shape}\"\"\")\n",
    "\n",
    "# Select features\n",
    "x_train, x_valid, x_test, y_train, y_valid = select_feat(train_data, valid_data, test_data, config['select_all'])\n",
    "\n",
    "# Print out the number of features.\n",
    "print(f'number of features: {x_train.shape[1]}')\n",
    "\n",
    "train_dataset, valid_dataset, test_dataset = COVID19Dataset(x_train, y_train), \\\n",
    "                                            COVID19Dataset(x_valid, y_valid), \\\n",
    "                                            COVID19Dataset(x_test)\n",
    "\n",
    "# Pytorch data loader loads pytorch dataset into batches.\n",
    "train_loader = DataLoader(train_dataset, batch_size=config['batch_size'], shuffle=True, pin_memory=True)\n",
    "valid_loader = DataLoader(valid_dataset, batch_size=config['batch_size'], shuffle=True, pin_memory=True)\n",
    "test_loader = DataLoader(test_dataset, batch_size=config['batch_size'], shuffle=False, pin_memory=True)"
   ]
  },
  {
   "cell_type": "markdown",
   "metadata": {
    "id": "0OBYgjCA-YwD"
   },
   "source": [
    "# Start training!"
   ]
  },
  {
   "cell_type": "code",
   "execution_count": 10,
   "metadata": {
    "ExecuteTime": {
     "end_time": "2023-05-04T17:32:36.602080Z",
     "start_time": "2023-05-04T17:19:35.939770Z"
    },
    "colab": {
     "base_uri": "https://localhost:8080/"
    },
    "id": "YdttVRkAfu2t",
    "outputId": "c77a9ce9-f66c-4f8d-ca91-f09e0b552228"
   },
   "outputs": [
    {
     "name": "stderr",
     "output_type": "stream",
     "text": [
      "100%|██████████| 17/17 [00:00<00:00, 188.89it/s]\n"
     ]
    },
    {
     "name": "stdout",
     "output_type": "stream",
     "text": [
      "Epoch [1/6000]: Train loss: 157.0271, Valid loss: 164.6660\n",
      "Saving model with loss 164.666...\n"
     ]
    },
    {
     "name": "stderr",
     "output_type": "stream",
     "text": [
      "100%|██████████| 17/17 [00:00<00:00, 772.74it/s]\n"
     ]
    },
    {
     "name": "stdout",
     "output_type": "stream",
     "text": [
      "Saving model with loss 157.856...\n"
     ]
    },
    {
     "name": "stderr",
     "output_type": "stream",
     "text": [
      "100%|██████████| 17/17 [00:00<00:00, 739.13it/s]\n",
      "100%|██████████| 17/17 [00:00<00:00, 809.52it/s]\n"
     ]
    },
    {
     "name": "stdout",
     "output_type": "stream",
     "text": [
      "Saving model with loss 150.464...\n"
     ]
    },
    {
     "name": "stderr",
     "output_type": "stream",
     "text": [
      "100%|██████████| 17/17 [00:00<00:00, 663.98it/s]\n",
      "100%|██████████| 17/17 [00:00<00:00, 772.72it/s]\n",
      "100%|██████████| 17/17 [00:00<00:00, 773.88it/s]\n"
     ]
    },
    {
     "name": "stdout",
     "output_type": "stream",
     "text": [
      "Saving model with loss 142.408...\n"
     ]
    },
    {
     "name": "stderr",
     "output_type": "stream",
     "text": [
      "100%|██████████| 17/17 [00:00<00:00, 726.31it/s]\n",
      "100%|██████████| 17/17 [00:00<00:00, 772.72it/s]\n",
      "100%|██████████| 17/17 [00:00<00:00, 772.73it/s]\n",
      "100%|██████████| 17/17 [00:00<00:00, 772.67it/s]\n",
      "100%|██████████| 17/17 [00:00<00:00, 809.54it/s]\n",
      "100%|██████████| 17/17 [00:00<00:00, 809.51it/s]\n",
      "100%|██████████| 17/17 [00:00<00:00, 739.12it/s]\n",
      "100%|██████████| 17/17 [00:00<00:00, 772.73it/s]\n",
      "100%|██████████| 17/17 [00:00<00:00, 739.15it/s]\n",
      "100%|██████████| 17/17 [00:00<00:00, 772.72it/s]\n",
      "100%|██████████| 17/17 [00:00<00:00, 772.71it/s]\n"
     ]
    },
    {
     "name": "stdout",
     "output_type": "stream",
     "text": [
      "Saving model with loss 140.448...\n"
     ]
    },
    {
     "name": "stderr",
     "output_type": "stream",
     "text": [
      "100%|██████████| 17/17 [00:00<00:00, 739.14it/s]\n",
      "100%|██████████| 17/17 [00:00<00:00, 772.72it/s]\n",
      "100%|██████████| 17/17 [00:00<00:00, 739.16it/s]\n"
     ]
    },
    {
     "name": "stdout",
     "output_type": "stream",
     "text": [
      "Epoch [21/6000]: Train loss: 145.4581, Valid loss: 145.7254\n"
     ]
    },
    {
     "name": "stderr",
     "output_type": "stream",
     "text": [
      "100%|██████████| 17/17 [00:00<00:00, 772.76it/s]\n",
      "100%|██████████| 17/17 [00:00<00:00, 653.44it/s]\n",
      "100%|██████████| 17/17 [00:00<00:00, 809.52it/s]\n"
     ]
    },
    {
     "name": "stdout",
     "output_type": "stream",
     "text": [
      "Saving model with loss 137.087...\n"
     ]
    },
    {
     "name": "stderr",
     "output_type": "stream",
     "text": [
      "100%|██████████| 17/17 [00:00<00:00, 772.72it/s]\n",
      "100%|██████████| 17/17 [00:00<00:00, 772.73it/s]\n",
      "100%|██████████| 17/17 [00:00<00:00, 809.52it/s]\n",
      "100%|██████████| 17/17 [00:00<00:00, 809.55it/s]\n",
      "100%|██████████| 17/17 [00:00<00:00, 739.12it/s]\n",
      "100%|██████████| 17/17 [00:00<00:00, 772.72it/s]\n",
      "100%|██████████| 17/17 [00:00<00:00, 809.55it/s]\n"
     ]
    },
    {
     "name": "stdout",
     "output_type": "stream",
     "text": [
      "Saving model with loss 133.564...\n"
     ]
    },
    {
     "name": "stderr",
     "output_type": "stream",
     "text": [
      "100%|██████████| 17/17 [00:00<00:00, 809.54it/s]\n",
      "100%|██████████| 17/17 [00:00<00:00, 772.74it/s]\n",
      "100%|██████████| 17/17 [00:00<00:00, 772.75it/s]\n",
      "100%|██████████| 17/17 [00:00<00:00, 752.03it/s]\n",
      "100%|██████████| 17/17 [00:00<00:00, 739.13it/s]\n",
      "100%|██████████| 17/17 [00:00<00:00, 772.74it/s]\n",
      "100%|██████████| 17/17 [00:00<00:00, 772.71it/s]\n",
      "100%|██████████| 17/17 [00:00<00:00, 679.98it/s]\n",
      "100%|██████████| 17/17 [00:00<00:00, 772.72it/s]\n"
     ]
    },
    {
     "name": "stdout",
     "output_type": "stream",
     "text": [
      "Saving model with loss 133.105...\n"
     ]
    },
    {
     "name": "stderr",
     "output_type": "stream",
     "text": [
      "100%|██████████| 17/17 [00:00<00:00, 772.73it/s]\n"
     ]
    },
    {
     "name": "stdout",
     "output_type": "stream",
     "text": [
      "Epoch [41/6000]: Train loss: 136.0885, Valid loss: 135.2835\n"
     ]
    },
    {
     "name": "stderr",
     "output_type": "stream",
     "text": [
      "100%|██████████| 17/17 [00:00<00:00, 772.68it/s]\n",
      "100%|██████████| 17/17 [00:00<00:00, 772.75it/s]\n"
     ]
    },
    {
     "name": "stdout",
     "output_type": "stream",
     "text": [
      "Saving model with loss 131.598...\n"
     ]
    },
    {
     "name": "stderr",
     "output_type": "stream",
     "text": [
      "100%|██████████| 17/17 [00:00<00:00, 772.74it/s]\n",
      "100%|██████████| 17/17 [00:00<00:00, 809.50it/s]\n",
      "100%|██████████| 17/17 [00:00<00:00, 772.72it/s]\n",
      "100%|██████████| 17/17 [00:00<00:00, 739.12it/s]\n",
      "100%|██████████| 17/17 [00:00<00:00, 739.11it/s]\n",
      "100%|██████████| 17/17 [00:00<00:00, 809.55it/s]\n",
      "100%|██████████| 17/17 [00:00<00:00, 772.72it/s]\n"
     ]
    },
    {
     "name": "stdout",
     "output_type": "stream",
     "text": [
      "Saving model with loss 126.092...\n"
     ]
    },
    {
     "name": "stderr",
     "output_type": "stream",
     "text": [
      "100%|██████████| 17/17 [00:00<00:00, 772.70it/s]\n"
     ]
    },
    {
     "name": "stdout",
     "output_type": "stream",
     "text": [
      "Saving model with loss 125.731...\n"
     ]
    },
    {
     "name": "stderr",
     "output_type": "stream",
     "text": [
      "100%|██████████| 17/17 [00:00<00:00, 739.13it/s]\n",
      "100%|██████████| 17/17 [00:00<00:00, 739.13it/s]\n",
      "100%|██████████| 17/17 [00:00<00:00, 809.50it/s]\n",
      "100%|██████████| 17/17 [00:00<00:00, 772.73it/s]\n",
      "100%|██████████| 17/17 [00:00<00:00, 739.13it/s]\n",
      "100%|██████████| 17/17 [00:00<00:00, 708.35it/s]\n"
     ]
    },
    {
     "name": "stdout",
     "output_type": "stream",
     "text": [
      "Saving model with loss 122.259...\n"
     ]
    },
    {
     "name": "stderr",
     "output_type": "stream",
     "text": [
      "100%|██████████| 17/17 [00:00<00:00, 708.34it/s]\n",
      "100%|██████████| 17/17 [00:00<00:00, 772.73it/s]\n",
      "100%|██████████| 17/17 [00:00<00:00, 809.54it/s]\n",
      "100%|██████████| 17/17 [00:00<00:00, 772.72it/s]\n"
     ]
    },
    {
     "name": "stdout",
     "output_type": "stream",
     "text": [
      "Epoch [61/6000]: Train loss: 127.3346, Valid loss: 126.1981\n"
     ]
    },
    {
     "name": "stderr",
     "output_type": "stream",
     "text": [
      "100%|██████████| 17/17 [00:00<00:00, 809.55it/s]\n"
     ]
    },
    {
     "name": "stdout",
     "output_type": "stream",
     "text": [
      "Saving model with loss 117.528...\n"
     ]
    },
    {
     "name": "stderr",
     "output_type": "stream",
     "text": [
      "100%|██████████| 17/17 [00:00<00:00, 809.54it/s]\n",
      "100%|██████████| 17/17 [00:00<00:00, 772.74it/s]\n",
      "100%|██████████| 17/17 [00:00<00:00, 772.72it/s]\n",
      "100%|██████████| 17/17 [00:00<00:00, 850.01it/s]\n",
      "100%|██████████| 17/17 [00:00<00:00, 850.02it/s]\n",
      "100%|██████████| 17/17 [00:00<00:00, 849.99it/s]\n",
      "100%|██████████| 17/17 [00:00<00:00, 850.01it/s]\n",
      "100%|██████████| 17/17 [00:00<00:00, 850.01it/s]\n",
      "100%|██████████| 17/17 [00:00<00:00, 894.72it/s]\n"
     ]
    },
    {
     "name": "stdout",
     "output_type": "stream",
     "text": [
      "Saving model with loss 115.508...\n"
     ]
    },
    {
     "name": "stderr",
     "output_type": "stream",
     "text": [
      "100%|██████████| 17/17 [00:00<00:00, 850.00it/s]\n",
      "100%|██████████| 17/17 [00:00<00:00, 850.01it/s]\n",
      "100%|██████████| 17/17 [00:00<00:00, 850.00it/s]\n",
      "100%|██████████| 17/17 [00:00<00:00, 850.00it/s]\n",
      "100%|██████████| 17/17 [00:00<00:00, 850.00it/s]\n",
      "100%|██████████| 17/17 [00:00<00:00, 850.00it/s]\n",
      "100%|██████████| 17/17 [00:00<00:00, 850.00it/s]\n",
      "100%|██████████| 17/17 [00:00<00:00, 809.73it/s]\n",
      "100%|██████████| 17/17 [00:00<00:00, 850.02it/s]\n",
      "100%|██████████| 17/17 [00:00<00:00, 894.75it/s]\n"
     ]
    },
    {
     "name": "stdout",
     "output_type": "stream",
     "text": [
      "Epoch [81/6000]: Train loss: 118.9196, Valid loss: 110.2030\n",
      "Saving model with loss 110.203...\n"
     ]
    },
    {
     "name": "stderr",
     "output_type": "stream",
     "text": [
      "100%|██████████| 17/17 [00:00<00:00, 809.52it/s]\n",
      "100%|██████████| 17/17 [00:00<00:00, 850.00it/s]\n",
      "100%|██████████| 17/17 [00:00<00:00, 809.54it/s]\n",
      "100%|██████████| 17/17 [00:00<00:00, 850.00it/s]\n",
      "100%|██████████| 17/17 [00:00<00:00, 809.55it/s]\n",
      "100%|██████████| 17/17 [00:00<00:00, 849.99it/s]\n",
      "100%|██████████| 17/17 [00:00<00:00, 850.01it/s]\n",
      "100%|██████████| 17/17 [00:00<00:00, 772.73it/s]\n"
     ]
    },
    {
     "name": "stdout",
     "output_type": "stream",
     "text": [
      "Saving model with loss 107.134...\n"
     ]
    },
    {
     "name": "stderr",
     "output_type": "stream",
     "text": [
      "100%|██████████| 17/17 [00:00<00:00, 809.50it/s]\n",
      "100%|██████████| 17/17 [00:00<00:00, 850.00it/s]\n",
      "100%|██████████| 17/17 [00:00<00:00, 894.75it/s]\n",
      "100%|██████████| 17/17 [00:00<00:00, 607.10it/s]\n",
      "100%|██████████| 17/17 [00:00<00:00, 850.00it/s]\n",
      "100%|██████████| 17/17 [00:00<00:00, 772.72it/s]\n",
      "100%|██████████| 17/17 [00:00<00:00, 809.53it/s]\n"
     ]
    },
    {
     "name": "stdout",
     "output_type": "stream",
     "text": [
      "Saving model with loss 106.398...\n"
     ]
    },
    {
     "name": "stderr",
     "output_type": "stream",
     "text": [
      "100%|██████████| 17/17 [00:00<00:00, 772.70it/s]\n",
      "100%|██████████| 17/17 [00:00<00:00, 809.53it/s]\n",
      "100%|██████████| 17/17 [00:00<00:00, 772.69it/s]\n",
      "100%|██████████| 17/17 [00:00<00:00, 772.72it/s]\n",
      "100%|██████████| 17/17 [00:00<00:00, 809.52it/s]\n"
     ]
    },
    {
     "name": "stdout",
     "output_type": "stream",
     "text": [
      "Epoch [101/6000]: Train loss: 109.8928, Valid loss: 114.7801\n"
     ]
    },
    {
     "name": "stderr",
     "output_type": "stream",
     "text": [
      "100%|██████████| 17/17 [00:00<00:00, 850.00it/s]\n"
     ]
    },
    {
     "name": "stdout",
     "output_type": "stream",
     "text": [
      "Saving model with loss 103.726...\n"
     ]
    },
    {
     "name": "stderr",
     "output_type": "stream",
     "text": [
      "100%|██████████| 17/17 [00:00<00:00, 894.73it/s]\n",
      "100%|██████████| 17/17 [00:00<00:00, 894.73it/s]\n",
      "100%|██████████| 17/17 [00:00<00:00, 850.00it/s]\n"
     ]
    },
    {
     "name": "stdout",
     "output_type": "stream",
     "text": [
      "Saving model with loss 102.643...\n"
     ]
    },
    {
     "name": "stderr",
     "output_type": "stream",
     "text": [
      "100%|██████████| 17/17 [00:00<00:00, 850.01it/s]\n"
     ]
    },
    {
     "name": "stdout",
     "output_type": "stream",
     "text": [
      "Saving model with loss 102.550...\n"
     ]
    },
    {
     "name": "stderr",
     "output_type": "stream",
     "text": [
      "100%|██████████| 17/17 [00:00<00:00, 850.01it/s]\n",
      "100%|██████████| 17/17 [00:00<00:00, 850.00it/s]\n",
      "100%|██████████| 17/17 [00:00<00:00, 894.73it/s]\n",
      "100%|██████████| 17/17 [00:00<00:00, 850.00it/s]\n",
      "100%|██████████| 17/17 [00:00<00:00, 850.00it/s]\n",
      "100%|██████████| 17/17 [00:00<00:00, 894.73it/s]\n",
      "100%|██████████| 17/17 [00:00<00:00, 850.00it/s]\n"
     ]
    },
    {
     "name": "stdout",
     "output_type": "stream",
     "text": [
      "Saving model with loss 98.056...\n"
     ]
    },
    {
     "name": "stderr",
     "output_type": "stream",
     "text": [
      "100%|██████████| 17/17 [00:00<00:00, 850.00it/s]\n",
      "100%|██████████| 17/17 [00:00<00:00, 850.01it/s]\n"
     ]
    },
    {
     "name": "stdout",
     "output_type": "stream",
     "text": [
      "Saving model with loss 95.371...\n"
     ]
    },
    {
     "name": "stderr",
     "output_type": "stream",
     "text": [
      "100%|██████████| 17/17 [00:00<00:00, 809.52it/s]\n",
      "100%|██████████| 17/17 [00:00<00:00, 850.00it/s]\n",
      "100%|██████████| 17/17 [00:00<00:00, 849.99it/s]\n",
      "100%|██████████| 17/17 [00:00<00:00, 850.00it/s]\n",
      "100%|██████████| 17/17 [00:00<00:00, 850.01it/s]\n",
      "100%|██████████| 17/17 [00:00<00:00, 850.00it/s]\n"
     ]
    },
    {
     "name": "stdout",
     "output_type": "stream",
     "text": [
      "Epoch [121/6000]: Train loss: 101.0596, Valid loss: 102.1553\n"
     ]
    },
    {
     "name": "stderr",
     "output_type": "stream",
     "text": [
      "100%|██████████| 17/17 [00:00<00:00, 809.53it/s]\n",
      "100%|██████████| 17/17 [00:00<00:00, 772.70it/s]\n",
      "100%|██████████| 17/17 [00:00<00:00, 809.54it/s]\n",
      "100%|██████████| 17/17 [00:00<00:00, 809.53it/s]\n",
      "100%|██████████| 17/17 [00:00<00:00, 809.53it/s]\n",
      "100%|██████████| 17/17 [00:00<00:00, 809.54it/s]\n",
      "100%|██████████| 17/17 [00:00<00:00, 849.98it/s]\n",
      "100%|██████████| 17/17 [00:00<00:00, 809.53it/s]\n"
     ]
    },
    {
     "name": "stdout",
     "output_type": "stream",
     "text": [
      "Saving model with loss 94.863...\n"
     ]
    },
    {
     "name": "stderr",
     "output_type": "stream",
     "text": [
      "100%|██████████| 17/17 [00:00<00:00, 772.72it/s]\n"
     ]
    },
    {
     "name": "stdout",
     "output_type": "stream",
     "text": [
      "Saving model with loss 90.310...\n"
     ]
    },
    {
     "name": "stderr",
     "output_type": "stream",
     "text": [
      "100%|██████████| 17/17 [00:00<00:00, 809.53it/s]\n",
      "100%|██████████| 17/17 [00:00<00:00, 842.89it/s]\n",
      "100%|██████████| 17/17 [00:00<00:00, 850.01it/s]\n",
      "100%|██████████| 17/17 [00:00<00:00, 809.52it/s]\n",
      "100%|██████████| 17/17 [00:00<00:00, 838.94it/s]\n",
      "100%|██████████| 17/17 [00:00<00:00, 809.53it/s]\n",
      "100%|██████████| 17/17 [00:00<00:00, 894.72it/s]\n",
      "100%|██████████| 17/17 [00:00<00:00, 809.51it/s]\n",
      "100%|██████████| 17/17 [00:00<00:00, 850.00it/s]\n"
     ]
    },
    {
     "name": "stdout",
     "output_type": "stream",
     "text": [
      "Saving model with loss 89.213...\n"
     ]
    },
    {
     "name": "stderr",
     "output_type": "stream",
     "text": [
      "100%|██████████| 17/17 [00:00<00:00, 850.01it/s]\n"
     ]
    },
    {
     "name": "stdout",
     "output_type": "stream",
     "text": [
      "Saving model with loss 88.666...\n"
     ]
    },
    {
     "name": "stderr",
     "output_type": "stream",
     "text": [
      "100%|██████████| 17/17 [00:00<00:00, 849.99it/s]\n"
     ]
    },
    {
     "name": "stdout",
     "output_type": "stream",
     "text": [
      "Epoch [141/6000]: Train loss: 91.8118, Valid loss: 89.0745\n"
     ]
    },
    {
     "name": "stderr",
     "output_type": "stream",
     "text": [
      "100%|██████████| 17/17 [00:00<00:00, 849.89it/s]\n",
      "100%|██████████| 17/17 [00:00<00:00, 851.36it/s]\n",
      "100%|██████████| 17/17 [00:00<00:00, 850.00it/s]\n",
      "100%|██████████| 17/17 [00:00<00:00, 778.67it/s]\n",
      "100%|██████████| 17/17 [00:00<00:00, 788.59it/s]\n"
     ]
    },
    {
     "name": "stdout",
     "output_type": "stream",
     "text": [
      "Saving model with loss 86.412...\n"
     ]
    },
    {
     "name": "stderr",
     "output_type": "stream",
     "text": [
      "100%|██████████| 17/17 [00:00<00:00, 868.80it/s]\n",
      "100%|██████████| 17/17 [00:00<00:00, 798.46it/s]\n",
      "100%|██████████| 17/17 [00:00<00:00, 870.03it/s]\n",
      "100%|██████████| 17/17 [00:00<00:00, 848.99it/s]\n",
      "100%|██████████| 17/17 [00:00<00:00, 772.66it/s]\n"
     ]
    },
    {
     "name": "stdout",
     "output_type": "stream",
     "text": [
      "Saving model with loss 85.669...\n"
     ]
    },
    {
     "name": "stderr",
     "output_type": "stream",
     "text": [
      "100%|██████████| 17/17 [00:00<00:00, 772.07it/s]\n"
     ]
    },
    {
     "name": "stdout",
     "output_type": "stream",
     "text": [
      "Saving model with loss 85.172...\n"
     ]
    },
    {
     "name": "stderr",
     "output_type": "stream",
     "text": [
      "100%|██████████| 17/17 [00:00<00:00, 739.11it/s]\n",
      "100%|██████████| 17/17 [00:00<00:00, 752.88it/s]\n",
      "100%|██████████| 17/17 [00:00<00:00, 780.43it/s]\n"
     ]
    },
    {
     "name": "stdout",
     "output_type": "stream",
     "text": [
      "Saving model with loss 82.693...\n"
     ]
    },
    {
     "name": "stderr",
     "output_type": "stream",
     "text": [
      "100%|██████████| 17/17 [00:00<00:00, 784.03it/s]\n",
      "100%|██████████| 17/17 [00:00<00:00, 850.00it/s]\n",
      "100%|██████████| 17/17 [00:00<00:00, 894.75it/s]\n",
      "100%|██████████| 17/17 [00:00<00:00, 849.76it/s]\n",
      "100%|██████████| 17/17 [00:00<00:00, 849.38it/s]\n",
      "100%|██████████| 17/17 [00:00<00:00, 894.75it/s]\n"
     ]
    },
    {
     "name": "stdout",
     "output_type": "stream",
     "text": [
      "Epoch [161/6000]: Train loss: 82.4923, Valid loss: 75.7788\n",
      "Saving model with loss 75.779...\n"
     ]
    },
    {
     "name": "stderr",
     "output_type": "stream",
     "text": [
      "100%|██████████| 17/17 [00:00<00:00, 850.00it/s]\n",
      "100%|██████████| 17/17 [00:00<00:00, 894.43it/s]\n",
      "100%|██████████| 17/17 [00:00<00:00, 809.44it/s]\n",
      "100%|██████████| 17/17 [00:00<00:00, 805.19it/s]\n",
      "100%|██████████| 17/17 [00:00<00:00, 809.54it/s]\n",
      "100%|██████████| 17/17 [00:00<00:00, 849.98it/s]\n",
      "100%|██████████| 17/17 [00:00<00:00, 894.62it/s]\n",
      "100%|██████████| 17/17 [00:00<00:00, 849.90it/s]\n",
      "100%|██████████| 17/17 [00:00<00:00, 871.50it/s]\n",
      "100%|██████████| 17/17 [00:00<00:00, 894.76it/s]\n",
      "100%|██████████| 17/17 [00:00<00:00, 850.00it/s]\n"
     ]
    },
    {
     "name": "stdout",
     "output_type": "stream",
     "text": [
      "Saving model with loss 72.598...\n"
     ]
    },
    {
     "name": "stderr",
     "output_type": "stream",
     "text": [
      "100%|██████████| 17/17 [00:00<00:00, 849.88it/s]\n",
      "100%|██████████| 17/17 [00:00<00:00, 828.87it/s]\n",
      "100%|██████████| 17/17 [00:00<00:00, 809.53it/s]\n",
      "100%|██████████| 17/17 [00:00<00:00, 849.99it/s]\n"
     ]
    },
    {
     "name": "stdout",
     "output_type": "stream",
     "text": [
      "Saving model with loss 72.528...\n"
     ]
    },
    {
     "name": "stderr",
     "output_type": "stream",
     "text": [
      "100%|██████████| 17/17 [00:00<00:00, 772.72it/s]\n",
      "100%|██████████| 17/17 [00:00<00:00, 809.45it/s]\n",
      "100%|██████████| 17/17 [00:00<00:00, 820.60it/s]\n"
     ]
    },
    {
     "name": "stdout",
     "output_type": "stream",
     "text": [
      "Saving model with loss 70.073...\n"
     ]
    },
    {
     "name": "stderr",
     "output_type": "stream",
     "text": [
      "100%|██████████| 17/17 [00:00<00:00, 809.53it/s]\n",
      "100%|██████████| 17/17 [00:00<00:00, 850.00it/s]\n"
     ]
    },
    {
     "name": "stdout",
     "output_type": "stream",
     "text": [
      "Epoch [181/6000]: Train loss: 73.0448, Valid loss: 74.6246\n"
     ]
    },
    {
     "name": "stderr",
     "output_type": "stream",
     "text": [
      "100%|██████████| 17/17 [00:00<00:00, 809.39it/s]\n"
     ]
    },
    {
     "name": "stdout",
     "output_type": "stream",
     "text": [
      "Saving model with loss 69.063...\n"
     ]
    },
    {
     "name": "stderr",
     "output_type": "stream",
     "text": [
      "100%|██████████| 17/17 [00:00<00:00, 849.42it/s]\n",
      "100%|██████████| 17/17 [00:00<00:00, 809.51it/s]\n",
      "100%|██████████| 17/17 [00:00<00:00, 850.01it/s]\n",
      "100%|██████████| 17/17 [00:00<00:00, 849.99it/s]\n"
     ]
    },
    {
     "name": "stdout",
     "output_type": "stream",
     "text": [
      "Saving model with loss 66.336...\n"
     ]
    },
    {
     "name": "stderr",
     "output_type": "stream",
     "text": [
      "100%|██████████| 17/17 [00:00<00:00, 772.73it/s]\n",
      "100%|██████████| 17/17 [00:00<00:00, 850.00it/s]\n",
      "100%|██████████| 17/17 [00:00<00:00, 849.91it/s]\n",
      "100%|██████████| 17/17 [00:00<00:00, 770.75it/s]\n"
     ]
    },
    {
     "name": "stdout",
     "output_type": "stream",
     "text": [
      "Saving model with loss 65.391...\n"
     ]
    },
    {
     "name": "stderr",
     "output_type": "stream",
     "text": [
      "100%|██████████| 17/17 [00:00<00:00, 800.17it/s]\n",
      "100%|██████████| 17/17 [00:00<00:00, 853.03it/s]\n",
      "100%|██████████| 17/17 [00:00<00:00, 849.99it/s]\n",
      "100%|██████████| 17/17 [00:00<00:00, 809.18it/s]\n",
      "100%|██████████| 17/17 [00:00<00:00, 772.62it/s]\n",
      "100%|██████████| 17/17 [00:00<00:00, 755.26it/s]\n"
     ]
    },
    {
     "name": "stdout",
     "output_type": "stream",
     "text": [
      "Saving model with loss 63.818...\n"
     ]
    },
    {
     "name": "stderr",
     "output_type": "stream",
     "text": [
      "100%|██████████| 17/17 [00:00<00:00, 850.01it/s]\n",
      "100%|██████████| 17/17 [00:00<00:00, 809.55it/s]\n",
      "100%|██████████| 17/17 [00:00<00:00, 739.05it/s]\n",
      "100%|██████████| 17/17 [00:00<00:00, 772.26it/s]\n",
      "100%|██████████| 17/17 [00:00<00:00, 850.00it/s]\n"
     ]
    },
    {
     "name": "stdout",
     "output_type": "stream",
     "text": [
      "Epoch [201/6000]: Train loss: 63.8139, Valid loss: 65.3283\n"
     ]
    },
    {
     "name": "stderr",
     "output_type": "stream",
     "text": [
      "100%|██████████| 17/17 [00:00<00:00, 809.51it/s]\n"
     ]
    },
    {
     "name": "stdout",
     "output_type": "stream",
     "text": [
      "Saving model with loss 61.305...\n"
     ]
    },
    {
     "name": "stderr",
     "output_type": "stream",
     "text": [
      "100%|██████████| 17/17 [00:00<00:00, 809.44it/s]\n"
     ]
    },
    {
     "name": "stdout",
     "output_type": "stream",
     "text": [
      "Saving model with loss 61.080...\n"
     ]
    },
    {
     "name": "stderr",
     "output_type": "stream",
     "text": [
      "100%|██████████| 17/17 [00:00<00:00, 825.18it/s]\n",
      "100%|██████████| 17/17 [00:00<00:00, 871.47it/s]\n"
     ]
    },
    {
     "name": "stdout",
     "output_type": "stream",
     "text": [
      "Saving model with loss 58.714...\n"
     ]
    },
    {
     "name": "stderr",
     "output_type": "stream",
     "text": [
      "100%|██████████| 17/17 [00:00<00:00, 772.74it/s]\n",
      "100%|██████████| 17/17 [00:00<00:00, 809.45it/s]\n",
      "100%|██████████| 17/17 [00:00<00:00, 739.05it/s]\n",
      "100%|██████████| 17/17 [00:00<00:00, 465.65it/s]\n",
      "100%|██████████| 17/17 [00:00<00:00, 833.10it/s]\n",
      "100%|██████████| 17/17 [00:00<00:00, 850.00it/s]\n"
     ]
    },
    {
     "name": "stdout",
     "output_type": "stream",
     "text": [
      "Saving model with loss 55.042...\n"
     ]
    },
    {
     "name": "stderr",
     "output_type": "stream",
     "text": [
      "100%|██████████| 17/17 [00:00<00:00, 862.70it/s]\n",
      "100%|██████████| 17/17 [00:00<00:00, 885.20it/s]\n",
      "100%|██████████| 17/17 [00:00<00:00, 918.30it/s]\n",
      "100%|██████████| 17/17 [00:00<00:00, 894.75it/s]\n",
      "100%|██████████| 17/17 [00:00<00:00, 944.45it/s]\n",
      "100%|██████████| 17/17 [00:00<00:00, 944.35it/s]\n",
      "100%|██████████| 17/17 [00:00<00:00, 914.71it/s]\n"
     ]
    },
    {
     "name": "stdout",
     "output_type": "stream",
     "text": [
      "Saving model with loss 54.713...\n"
     ]
    },
    {
     "name": "stderr",
     "output_type": "stream",
     "text": [
      "100%|██████████| 17/17 [00:00<00:00, 894.63it/s]\n",
      "100%|██████████| 17/17 [00:00<00:00, 850.01it/s]\n",
      "100%|██████████| 17/17 [00:00<00:00, 894.75it/s]\n"
     ]
    },
    {
     "name": "stdout",
     "output_type": "stream",
     "text": [
      "Epoch [221/6000]: Train loss: 55.2768, Valid loss: 53.2118\n",
      "Saving model with loss 53.212...\n"
     ]
    },
    {
     "name": "stderr",
     "output_type": "stream",
     "text": [
      "100%|██████████| 17/17 [00:00<00:00, 850.16it/s]\n",
      "100%|██████████| 17/17 [00:00<00:00, 918.46it/s]\n",
      "100%|██████████| 17/17 [00:00<00:00, 918.57it/s]\n",
      "100%|██████████| 17/17 [00:00<00:00, 944.48it/s]\n",
      "100%|██████████| 17/17 [00:00<00:00, 894.72it/s]\n",
      "100%|██████████| 17/17 [00:00<00:00, 894.64it/s]\n"
     ]
    },
    {
     "name": "stdout",
     "output_type": "stream",
     "text": [
      "Saving model with loss 52.112...\n"
     ]
    },
    {
     "name": "stderr",
     "output_type": "stream",
     "text": [
      "100%|██████████| 17/17 [00:00<00:00, 828.90it/s]\n"
     ]
    },
    {
     "name": "stdout",
     "output_type": "stream",
     "text": [
      "Saving model with loss 50.930...\n"
     ]
    },
    {
     "name": "stderr",
     "output_type": "stream",
     "text": [
      "100%|██████████| 17/17 [00:00<00:00, 829.00it/s]\n",
      "100%|██████████| 17/17 [00:00<00:00, 850.01it/s]\n"
     ]
    },
    {
     "name": "stdout",
     "output_type": "stream",
     "text": [
      "Saving model with loss 47.959...\n"
     ]
    },
    {
     "name": "stderr",
     "output_type": "stream",
     "text": [
      "100%|██████████| 17/17 [00:00<00:00, 809.53it/s]\n",
      "100%|██████████| 17/17 [00:00<00:00, 894.61it/s]\n"
     ]
    },
    {
     "name": "stdout",
     "output_type": "stream",
     "text": [
      "Saving model with loss 47.536...\n"
     ]
    },
    {
     "name": "stderr",
     "output_type": "stream",
     "text": [
      "100%|██████████| 17/17 [00:00<00:00, 871.37it/s]\n",
      "100%|██████████| 17/17 [00:00<00:00, 850.00it/s]\n",
      "100%|██████████| 17/17 [00:00<00:00, 809.55it/s]\n"
     ]
    },
    {
     "name": "stdout",
     "output_type": "stream",
     "text": [
      "Saving model with loss 47.355...\n"
     ]
    },
    {
     "name": "stderr",
     "output_type": "stream",
     "text": [
      "100%|██████████| 17/17 [00:00<00:00, 772.70it/s]\n",
      "100%|██████████| 17/17 [00:00<00:00, 849.91it/s]\n",
      "100%|██████████| 17/17 [00:00<00:00, 808.93it/s]\n",
      "100%|██████████| 17/17 [00:00<00:00, 850.00it/s]\n"
     ]
    },
    {
     "name": "stdout",
     "output_type": "stream",
     "text": [
      "Saving model with loss 45.686...\n"
     ]
    },
    {
     "name": "stderr",
     "output_type": "stream",
     "text": [
      "100%|██████████| 17/17 [00:00<00:00, 850.00it/s]\n"
     ]
    },
    {
     "name": "stdout",
     "output_type": "stream",
     "text": [
      "Saving model with loss 45.509...\n"
     ]
    },
    {
     "name": "stderr",
     "output_type": "stream",
     "text": [
      "100%|██████████| 17/17 [00:00<00:00, 840.67it/s]\n"
     ]
    },
    {
     "name": "stdout",
     "output_type": "stream",
     "text": [
      "Epoch [241/6000]: Train loss: 47.3879, Valid loss: 47.7937\n"
     ]
    },
    {
     "name": "stderr",
     "output_type": "stream",
     "text": [
      "100%|██████████| 17/17 [00:00<00:00, 849.85it/s]\n"
     ]
    },
    {
     "name": "stdout",
     "output_type": "stream",
     "text": [
      "Saving model with loss 44.707...\n"
     ]
    },
    {
     "name": "stderr",
     "output_type": "stream",
     "text": [
      "100%|██████████| 17/17 [00:00<00:00, 871.50it/s]\n",
      "100%|██████████| 17/17 [00:00<00:00, 849.99it/s]\n",
      "100%|██████████| 17/17 [00:00<00:00, 850.00it/s]\n",
      "100%|██████████| 17/17 [00:00<00:00, 772.66it/s]\n",
      "100%|██████████| 17/17 [00:00<00:00, 933.65it/s]\n"
     ]
    },
    {
     "name": "stdout",
     "output_type": "stream",
     "text": [
      "Saving model with loss 43.892...\n"
     ]
    },
    {
     "name": "stderr",
     "output_type": "stream",
     "text": [
      "100%|██████████| 17/17 [00:00<00:00, 849.99it/s]\n"
     ]
    },
    {
     "name": "stdout",
     "output_type": "stream",
     "text": [
      "Saving model with loss 42.585...\n"
     ]
    },
    {
     "name": "stderr",
     "output_type": "stream",
     "text": [
      "100%|██████████| 17/17 [00:00<00:00, 894.75it/s]\n",
      "100%|██████████| 17/17 [00:00<00:00, 850.00it/s]\n",
      "100%|██████████| 17/17 [00:00<00:00, 903.29it/s]\n"
     ]
    },
    {
     "name": "stdout",
     "output_type": "stream",
     "text": [
      "Saving model with loss 42.491...\n"
     ]
    },
    {
     "name": "stderr",
     "output_type": "stream",
     "text": [
      "100%|██████████| 17/17 [00:00<00:00, 918.49it/s]\n",
      "100%|██████████| 17/17 [00:00<00:00, 918.58it/s]\n",
      "100%|██████████| 17/17 [00:00<00:00, 809.52it/s]\n",
      "100%|██████████| 17/17 [00:00<00:00, 850.03it/s]\n",
      "100%|██████████| 17/17 [00:00<00:00, 944.44it/s]\n"
     ]
    },
    {
     "name": "stdout",
     "output_type": "stream",
     "text": [
      "Saving model with loss 41.721...\n"
     ]
    },
    {
     "name": "stderr",
     "output_type": "stream",
     "text": [
      "100%|██████████| 17/17 [00:00<00:00, 887.51it/s]\n"
     ]
    },
    {
     "name": "stdout",
     "output_type": "stream",
     "text": [
      "Saving model with loss 39.927...\n"
     ]
    },
    {
     "name": "stderr",
     "output_type": "stream",
     "text": [
      "100%|██████████| 17/17 [00:00<00:00, 894.72it/s]\n",
      "100%|██████████| 17/17 [00:00<00:00, 894.61it/s]\n",
      "100%|██████████| 17/17 [00:00<00:00, 944.44it/s]\n"
     ]
    },
    {
     "name": "stdout",
     "output_type": "stream",
     "text": [
      "Saving model with loss 38.939...\n"
     ]
    },
    {
     "name": "stderr",
     "output_type": "stream",
     "text": [
      "100%|██████████| 17/17 [00:00<00:00, 894.64it/s]\n"
     ]
    },
    {
     "name": "stdout",
     "output_type": "stream",
     "text": [
      "Epoch [261/6000]: Train loss: 40.4609, Valid loss: 43.2580\n"
     ]
    },
    {
     "name": "stderr",
     "output_type": "stream",
     "text": [
      "100%|██████████| 17/17 [00:00<00:00, 871.41it/s]\n",
      "100%|██████████| 17/17 [00:00<00:00, 918.54it/s]\n",
      "100%|██████████| 17/17 [00:00<00:00, 894.75it/s]\n",
      "100%|██████████| 17/17 [00:00<00:00, 850.02it/s]\n",
      "100%|██████████| 17/17 [00:00<00:00, 894.64it/s]\n"
     ]
    },
    {
     "name": "stdout",
     "output_type": "stream",
     "text": [
      "Saving model with loss 38.005...\n"
     ]
    },
    {
     "name": "stderr",
     "output_type": "stream",
     "text": [
      "100%|██████████| 17/17 [00:00<00:00, 871.40it/s]\n"
     ]
    },
    {
     "name": "stdout",
     "output_type": "stream",
     "text": [
      "Saving model with loss 37.049...\n"
     ]
    },
    {
     "name": "stderr",
     "output_type": "stream",
     "text": [
      "100%|██████████| 17/17 [00:00<00:00, 918.24it/s]\n",
      "100%|██████████| 17/17 [00:00<00:00, 850.01it/s]\n"
     ]
    },
    {
     "name": "stdout",
     "output_type": "stream",
     "text": [
      "Saving model with loss 36.967...\n"
     ]
    },
    {
     "name": "stderr",
     "output_type": "stream",
     "text": [
      "100%|██████████| 17/17 [00:00<00:00, 894.72it/s]\n"
     ]
    },
    {
     "name": "stdout",
     "output_type": "stream",
     "text": [
      "Saving model with loss 33.876...\n"
     ]
    },
    {
     "name": "stderr",
     "output_type": "stream",
     "text": [
      "100%|██████████| 17/17 [00:00<00:00, 849.91it/s]\n",
      "100%|██████████| 17/17 [00:00<00:00, 918.22it/s]\n",
      "100%|██████████| 17/17 [00:00<00:00, 871.54it/s]\n",
      "100%|██████████| 17/17 [00:00<00:00, 809.54it/s]\n",
      "100%|██████████| 17/17 [00:00<00:00, 850.00it/s]\n",
      "100%|██████████| 17/17 [00:00<00:00, 894.63it/s]\n",
      "100%|██████████| 17/17 [00:00<00:00, 849.90it/s]\n",
      "100%|██████████| 17/17 [00:00<00:00, 894.76it/s]\n"
     ]
    },
    {
     "name": "stdout",
     "output_type": "stream",
     "text": [
      "Saving model with loss 31.769...\n"
     ]
    },
    {
     "name": "stderr",
     "output_type": "stream",
     "text": [
      "100%|██████████| 17/17 [00:00<00:00, 850.00it/s]\n",
      "100%|██████████| 17/17 [00:00<00:00, 858.74it/s]\n",
      "100%|██████████| 17/17 [00:00<00:00, 894.64it/s]\n"
     ]
    },
    {
     "name": "stdout",
     "output_type": "stream",
     "text": [
      "Epoch [281/6000]: Train loss: 34.6023, Valid loss: 32.5212\n"
     ]
    },
    {
     "name": "stderr",
     "output_type": "stream",
     "text": [
      "100%|██████████| 17/17 [00:00<00:00, 872.98it/s]\n",
      "100%|██████████| 17/17 [00:00<00:00, 894.72it/s]\n",
      "100%|██████████| 17/17 [00:00<00:00, 850.00it/s]\n",
      "100%|██████████| 17/17 [00:00<00:00, 809.44it/s]\n",
      "100%|██████████| 17/17 [00:00<00:00, 871.30it/s]\n"
     ]
    },
    {
     "name": "stdout",
     "output_type": "stream",
     "text": [
      "Saving model with loss 31.635...\n"
     ]
    },
    {
     "name": "stderr",
     "output_type": "stream",
     "text": [
      "100%|██████████| 17/17 [00:00<00:00, 871.49it/s]\n",
      "100%|██████████| 17/17 [00:00<00:00, 894.75it/s]\n"
     ]
    },
    {
     "name": "stdout",
     "output_type": "stream",
     "text": [
      "Saving model with loss 31.268...\n"
     ]
    },
    {
     "name": "stderr",
     "output_type": "stream",
     "text": [
      "100%|██████████| 17/17 [00:00<00:00, 850.00it/s]\n",
      "100%|██████████| 17/17 [00:00<00:00, 809.44it/s]\n",
      "100%|██████████| 17/17 [00:00<00:00, 871.37it/s]\n"
     ]
    },
    {
     "name": "stdout",
     "output_type": "stream",
     "text": [
      "Saving model with loss 29.912...\n"
     ]
    },
    {
     "name": "stderr",
     "output_type": "stream",
     "text": [
      "100%|██████████| 17/17 [00:00<00:00, 708.27it/s]\n",
      "100%|██████████| 17/17 [00:00<00:00, 772.73it/s]\n",
      "100%|██████████| 17/17 [00:00<00:00, 772.60it/s]\n"
     ]
    },
    {
     "name": "stdout",
     "output_type": "stream",
     "text": [
      "Saving model with loss 29.691...\n"
     ]
    },
    {
     "name": "stderr",
     "output_type": "stream",
     "text": [
      "100%|██████████| 17/17 [00:00<00:00, 894.73it/s]\n",
      "100%|██████████| 17/17 [00:00<00:00, 809.52it/s]\n",
      "100%|██████████| 17/17 [00:00<00:00, 894.67it/s]\n",
      "100%|██████████| 17/17 [00:00<00:00, 871.39it/s]\n"
     ]
    },
    {
     "name": "stdout",
     "output_type": "stream",
     "text": [
      "Saving model with loss 27.653...\n"
     ]
    },
    {
     "name": "stderr",
     "output_type": "stream",
     "text": [
      "100%|██████████| 17/17 [00:00<00:00, 849.97it/s]\n",
      "100%|██████████| 17/17 [00:00<00:00, 849.99it/s]\n",
      "100%|██████████| 17/17 [00:00<00:00, 850.00it/s]\n"
     ]
    },
    {
     "name": "stdout",
     "output_type": "stream",
     "text": [
      "Epoch [301/6000]: Train loss: 29.5351, Valid loss: 29.9373\n"
     ]
    },
    {
     "name": "stderr",
     "output_type": "stream",
     "text": [
      "100%|██████████| 17/17 [00:00<00:00, 809.41it/s]\n",
      "100%|██████████| 17/17 [00:00<00:00, 808.97it/s]\n",
      "100%|██████████| 17/17 [00:00<00:00, 850.20it/s]\n",
      "100%|██████████| 17/17 [00:00<00:00, 894.75it/s]\n"
     ]
    },
    {
     "name": "stdout",
     "output_type": "stream",
     "text": [
      "Saving model with loss 27.141...\n"
     ]
    },
    {
     "name": "stderr",
     "output_type": "stream",
     "text": [
      "100%|██████████| 17/17 [00:00<00:00, 849.88it/s]\n",
      "100%|██████████| 17/17 [00:00<00:00, 849.92it/s]\n",
      "100%|██████████| 17/17 [00:00<00:00, 828.32it/s]\n",
      "100%|██████████| 17/17 [00:00<00:00, 894.77it/s]\n",
      "100%|██████████| 17/17 [00:00<00:00, 894.72it/s]\n",
      "100%|██████████| 17/17 [00:00<00:00, 828.99it/s]\n"
     ]
    },
    {
     "name": "stdout",
     "output_type": "stream",
     "text": [
      "Saving model with loss 26.529...\n"
     ]
    },
    {
     "name": "stderr",
     "output_type": "stream",
     "text": [
      "100%|██████████| 17/17 [00:00<00:00, 679.91it/s]\n",
      "100%|██████████| 17/17 [00:00<00:00, 809.63it/s]\n",
      "100%|██████████| 17/17 [00:00<00:00, 837.92it/s]\n",
      "100%|██████████| 17/17 [00:00<00:00, 739.13it/s]\n"
     ]
    },
    {
     "name": "stdout",
     "output_type": "stream",
     "text": [
      "Saving model with loss 25.852...\n"
     ]
    },
    {
     "name": "stderr",
     "output_type": "stream",
     "text": [
      "100%|██████████| 17/17 [00:00<00:00, 739.05it/s]\n",
      "100%|██████████| 17/17 [00:00<00:00, 601.72it/s]\n",
      "100%|██████████| 17/17 [00:00<00:00, 736.72it/s]\n"
     ]
    },
    {
     "name": "stdout",
     "output_type": "stream",
     "text": [
      "Saving model with loss 25.018...\n"
     ]
    },
    {
     "name": "stderr",
     "output_type": "stream",
     "text": [
      "100%|██████████| 17/17 [00:00<00:00, 864.74it/s]\n",
      "100%|██████████| 17/17 [00:00<00:00, 894.76it/s]\n"
     ]
    },
    {
     "name": "stdout",
     "output_type": "stream",
     "text": [
      "Saving model with loss 24.952...\n"
     ]
    },
    {
     "name": "stderr",
     "output_type": "stream",
     "text": [
      "100%|██████████| 17/17 [00:00<00:00, 811.75it/s]\n"
     ]
    },
    {
     "name": "stdout",
     "output_type": "stream",
     "text": [
      "Epoch [321/6000]: Train loss: 25.4702, Valid loss: 25.3327\n"
     ]
    },
    {
     "name": "stderr",
     "output_type": "stream",
     "text": [
      "100%|██████████| 17/17 [00:00<00:00, 909.47it/s]\n",
      "100%|██████████| 17/17 [00:00<00:00, 630.74it/s]\n",
      "100%|██████████| 17/17 [00:00<00:00, 772.74it/s]\n",
      "100%|██████████| 17/17 [00:00<00:00, 809.52it/s]\n"
     ]
    },
    {
     "name": "stdout",
     "output_type": "stream",
     "text": [
      "Saving model with loss 24.077...\n"
     ]
    },
    {
     "name": "stderr",
     "output_type": "stream",
     "text": [
      "100%|██████████| 17/17 [00:00<00:00, 853.75it/s]\n"
     ]
    },
    {
     "name": "stdout",
     "output_type": "stream",
     "text": [
      "Saving model with loss 22.990...\n"
     ]
    },
    {
     "name": "stderr",
     "output_type": "stream",
     "text": [
      "100%|██████████| 17/17 [00:00<00:00, 789.08it/s]\n",
      "100%|██████████| 17/17 [00:00<00:00, 894.73it/s]\n",
      "100%|██████████| 17/17 [00:00<00:00, 847.78it/s]\n",
      "100%|██████████| 17/17 [00:00<00:00, 809.44it/s]\n",
      "100%|██████████| 17/17 [00:00<00:00, 836.58it/s]\n",
      "100%|██████████| 17/17 [00:00<00:00, 894.63it/s]\n",
      "100%|██████████| 17/17 [00:00<00:00, 867.67it/s]\n",
      "100%|██████████| 17/17 [00:00<00:00, 888.65it/s]\n",
      "100%|██████████| 17/17 [00:00<00:00, 809.54it/s]\n",
      "100%|██████████| 17/17 [00:00<00:00, 653.04it/s]\n"
     ]
    },
    {
     "name": "stdout",
     "output_type": "stream",
     "text": [
      "Saving model with loss 22.103...\n"
     ]
    },
    {
     "name": "stderr",
     "output_type": "stream",
     "text": [
      "100%|██████████| 17/17 [00:00<00:00, 916.14it/s]\n",
      "100%|██████████| 17/17 [00:00<00:00, 849.98it/s]\n"
     ]
    },
    {
     "name": "stdout",
     "output_type": "stream",
     "text": [
      "Saving model with loss 19.796...\n"
     ]
    },
    {
     "name": "stderr",
     "output_type": "stream",
     "text": [
      "100%|██████████| 17/17 [00:00<00:00, 850.85it/s]\n",
      "100%|██████████| 17/17 [00:00<00:00, 849.99it/s]\n",
      "100%|██████████| 17/17 [00:00<00:00, 852.09it/s]\n"
     ]
    },
    {
     "name": "stdout",
     "output_type": "stream",
     "text": [
      "Epoch [341/6000]: Train loss: 22.1340, Valid loss: 22.7254\n"
     ]
    },
    {
     "name": "stderr",
     "output_type": "stream",
     "text": [
      "100%|██████████| 17/17 [00:00<00:00, 818.05it/s]\n",
      "100%|██████████| 17/17 [00:00<00:00, 877.92it/s]\n",
      "100%|██████████| 17/17 [00:00<00:00, 681.54it/s]\n",
      "100%|██████████| 17/17 [00:00<00:00, 846.85it/s]\n",
      "100%|██████████| 17/17 [00:00<00:00, 780.36it/s]\n",
      "100%|██████████| 17/17 [00:00<00:00, 809.55it/s]\n",
      "100%|██████████| 17/17 [00:00<00:00, 739.12it/s]\n",
      "100%|██████████| 17/17 [00:00<00:00, 708.35it/s]\n"
     ]
    },
    {
     "name": "stdout",
     "output_type": "stream",
     "text": [
      "Saving model with loss 19.034...\n"
     ]
    },
    {
     "name": "stderr",
     "output_type": "stream",
     "text": [
      "100%|██████████| 17/17 [00:00<00:00, 739.13it/s]\n",
      "100%|██████████| 17/17 [00:00<00:00, 754.55it/s]\n",
      "100%|██████████| 17/17 [00:00<00:00, 772.74it/s]\n",
      "100%|██████████| 17/17 [00:00<00:00, 823.97it/s]\n",
      "100%|██████████| 17/17 [00:00<00:00, 850.01it/s]\n",
      "100%|██████████| 17/17 [00:00<00:00, 864.93it/s]\n",
      "100%|██████████| 17/17 [00:00<00:00, 894.64it/s]\n"
     ]
    },
    {
     "name": "stdout",
     "output_type": "stream",
     "text": [
      "Saving model with loss 19.021...\n"
     ]
    },
    {
     "name": "stderr",
     "output_type": "stream",
     "text": [
      "100%|██████████| 17/17 [00:00<00:00, 850.02it/s]\n"
     ]
    },
    {
     "name": "stdout",
     "output_type": "stream",
     "text": [
      "Saving model with loss 18.858...\n"
     ]
    },
    {
     "name": "stderr",
     "output_type": "stream",
     "text": [
      "100%|██████████| 17/17 [00:00<00:00, 894.73it/s]\n",
      "100%|██████████| 17/17 [00:00<00:00, 894.75it/s]\n",
      "100%|██████████| 17/17 [00:00<00:00, 861.52it/s]\n",
      "100%|██████████| 17/17 [00:00<00:00, 265.62it/s]\n"
     ]
    },
    {
     "name": "stdout",
     "output_type": "stream",
     "text": [
      "Epoch [361/6000]: Train loss: 19.4789, Valid loss: 18.8114\n",
      "Saving model with loss 18.811...\n"
     ]
    },
    {
     "name": "stderr",
     "output_type": "stream",
     "text": [
      "100%|██████████| 17/17 [00:00<00:00, 157.41it/s]\n",
      "100%|██████████| 17/17 [00:00<00:00, 447.36it/s]\n",
      "100%|██████████| 17/17 [00:00<00:00, 472.20it/s]\n",
      "100%|██████████| 17/17 [00:00<00:00, 485.70it/s]\n",
      "100%|██████████| 17/17 [00:00<00:00, 472.24it/s]\n",
      "100%|██████████| 17/17 [00:00<00:00, 386.34it/s]\n"
     ]
    },
    {
     "name": "stdout",
     "output_type": "stream",
     "text": [
      "Saving model with loss 18.250...\n"
     ]
    },
    {
     "name": "stderr",
     "output_type": "stream",
     "text": [
      "100%|██████████| 17/17 [00:00<00:00, 459.47it/s]\n"
     ]
    },
    {
     "name": "stdout",
     "output_type": "stream",
     "text": [
      "Saving model with loss 18.130...\n"
     ]
    },
    {
     "name": "stderr",
     "output_type": "stream",
     "text": [
      "100%|██████████| 17/17 [00:00<00:00, 586.34it/s]\n",
      "100%|██████████| 17/17 [00:00<00:00, 597.04it/s]\n",
      "100%|██████████| 17/17 [00:00<00:00, 607.14it/s]\n"
     ]
    },
    {
     "name": "stdout",
     "output_type": "stream",
     "text": [
      "Saving model with loss 17.185...\n"
     ]
    },
    {
     "name": "stderr",
     "output_type": "stream",
     "text": [
      "100%|██████████| 17/17 [00:00<00:00, 708.33it/s]\n",
      "100%|██████████| 17/17 [00:00<00:00, 772.72it/s]\n",
      "100%|██████████| 17/17 [00:00<00:00, 772.73it/s]\n",
      "100%|██████████| 17/17 [00:00<00:00, 739.15it/s]\n"
     ]
    },
    {
     "name": "stdout",
     "output_type": "stream",
     "text": [
      "Saving model with loss 16.328...\n"
     ]
    },
    {
     "name": "stderr",
     "output_type": "stream",
     "text": [
      "100%|██████████| 17/17 [00:00<00:00, 849.97it/s]\n",
      "100%|██████████| 17/17 [00:00<00:00, 772.75it/s]\n",
      "100%|██████████| 17/17 [00:00<00:00, 779.72it/s]\n",
      "100%|██████████| 17/17 [00:00<00:00, 708.34it/s]\n",
      "100%|██████████| 17/17 [00:00<00:00, 809.57it/s]\n",
      "100%|██████████| 17/17 [00:00<00:00, 850.02it/s]\n"
     ]
    },
    {
     "name": "stdout",
     "output_type": "stream",
     "text": [
      "Epoch [381/6000]: Train loss: 17.2976, Valid loss: 17.1844\n"
     ]
    },
    {
     "name": "stderr",
     "output_type": "stream",
     "text": [
      "100%|██████████| 17/17 [00:00<00:00, 809.55it/s]\n",
      "100%|██████████| 17/17 [00:00<00:00, 809.52it/s]\n",
      "100%|██████████| 17/17 [00:00<00:00, 739.14it/s]\n",
      "100%|██████████| 17/17 [00:00<00:00, 739.15it/s]\n"
     ]
    },
    {
     "name": "stdout",
     "output_type": "stream",
     "text": [
      "Saving model with loss 15.742...\n"
     ]
    },
    {
     "name": "stderr",
     "output_type": "stream",
     "text": [
      "100%|██████████| 17/17 [00:00<00:00, 786.16it/s]\n",
      "100%|██████████| 17/17 [00:00<00:00, 849.98it/s]\n",
      "100%|██████████| 17/17 [00:00<00:00, 849.99it/s]\n",
      "100%|██████████| 17/17 [00:00<00:00, 809.49it/s]\n",
      "100%|██████████| 17/17 [00:00<00:00, 854.55it/s]\n"
     ]
    },
    {
     "name": "stdout",
     "output_type": "stream",
     "text": [
      "Saving model with loss 15.693...\n"
     ]
    },
    {
     "name": "stderr",
     "output_type": "stream",
     "text": [
      "100%|██████████| 17/17 [00:00<00:00, 809.52it/s]\n"
     ]
    },
    {
     "name": "stdout",
     "output_type": "stream",
     "text": [
      "Saving model with loss 15.384...\n"
     ]
    },
    {
     "name": "stderr",
     "output_type": "stream",
     "text": [
      "100%|██████████| 17/17 [00:00<00:00, 894.30it/s]\n"
     ]
    },
    {
     "name": "stdout",
     "output_type": "stream",
     "text": [
      "Saving model with loss 14.836...\n"
     ]
    },
    {
     "name": "stderr",
     "output_type": "stream",
     "text": [
      "100%|██████████| 17/17 [00:00<00:00, 728.22it/s]\n",
      "100%|██████████| 17/17 [00:00<00:00, 772.72it/s]\n",
      "100%|██████████| 17/17 [00:00<00:00, 861.61it/s]\n",
      "100%|██████████| 17/17 [00:00<00:00, 849.99it/s]\n",
      "100%|██████████| 17/17 [00:00<00:00, 808.57it/s]\n",
      "100%|██████████| 17/17 [00:00<00:00, 794.59it/s]\n",
      "100%|██████████| 17/17 [00:00<00:00, 801.38it/s]\n",
      "100%|██████████| 17/17 [00:00<00:00, 819.17it/s]\n",
      "100%|██████████| 17/17 [00:00<00:00, 819.69it/s]\n"
     ]
    },
    {
     "name": "stdout",
     "output_type": "stream",
     "text": [
      "Epoch [401/6000]: Train loss: 15.6781, Valid loss: 14.8062\n",
      "Saving model with loss 14.806...\n"
     ]
    },
    {
     "name": "stderr",
     "output_type": "stream",
     "text": [
      "100%|██████████| 17/17 [00:00<00:00, 849.97it/s]\n",
      "100%|██████████| 17/17 [00:00<00:00, 850.06it/s]\n"
     ]
    },
    {
     "name": "stdout",
     "output_type": "stream",
     "text": [
      "Saving model with loss 14.126...\n"
     ]
    },
    {
     "name": "stderr",
     "output_type": "stream",
     "text": [
      "100%|██████████| 17/17 [00:00<00:00, 836.40it/s]\n",
      "100%|██████████| 17/17 [00:00<00:00, 897.29it/s]\n",
      "100%|██████████| 17/17 [00:00<00:00, 850.01it/s]\n",
      "100%|██████████| 17/17 [00:00<00:00, 894.72it/s]\n",
      "100%|██████████| 17/17 [00:00<00:00, 849.89it/s]\n",
      "100%|██████████| 17/17 [00:00<00:00, 809.54it/s]\n",
      "100%|██████████| 17/17 [00:00<00:00, 850.00it/s]\n",
      "100%|██████████| 17/17 [00:00<00:00, 894.72it/s]\n",
      "100%|██████████| 17/17 [00:00<00:00, 809.53it/s]\n",
      "100%|██████████| 17/17 [00:00<00:00, 850.03it/s]\n",
      "100%|██████████| 17/17 [00:00<00:00, 894.69it/s]\n",
      "100%|██████████| 17/17 [00:00<00:00, 829.79it/s]\n",
      "100%|██████████| 17/17 [00:00<00:00, 699.15it/s]\n",
      "100%|██████████| 17/17 [00:00<00:00, 850.00it/s]\n",
      "100%|██████████| 17/17 [00:00<00:00, 836.03it/s]\n"
     ]
    },
    {
     "name": "stdout",
     "output_type": "stream",
     "text": [
      "Saving model with loss 13.683...\n"
     ]
    },
    {
     "name": "stderr",
     "output_type": "stream",
     "text": [
      "100%|██████████| 17/17 [00:00<00:00, 850.00it/s]\n",
      "100%|██████████| 17/17 [00:00<00:00, 809.54it/s]\n",
      "100%|██████████| 17/17 [00:00<00:00, 809.55it/s]\n"
     ]
    },
    {
     "name": "stdout",
     "output_type": "stream",
     "text": [
      "Epoch [421/6000]: Train loss: 14.2827, Valid loss: 13.9244\n"
     ]
    },
    {
     "name": "stderr",
     "output_type": "stream",
     "text": [
      "100%|██████████| 17/17 [00:00<00:00, 850.01it/s]\n",
      "100%|██████████| 17/17 [00:00<00:00, 824.66it/s]\n",
      "100%|██████████| 17/17 [00:00<00:00, 653.83it/s]\n"
     ]
    },
    {
     "name": "stdout",
     "output_type": "stream",
     "text": [
      "Saving model with loss 13.337...\n"
     ]
    },
    {
     "name": "stderr",
     "output_type": "stream",
     "text": [
      "100%|██████████| 17/17 [00:00<00:00, 739.12it/s]\n",
      "100%|██████████| 17/17 [00:00<00:00, 809.53it/s]\n",
      "100%|██████████| 17/17 [00:00<00:00, 809.53it/s]\n"
     ]
    },
    {
     "name": "stdout",
     "output_type": "stream",
     "text": [
      "Saving model with loss 12.884...\n"
     ]
    },
    {
     "name": "stderr",
     "output_type": "stream",
     "text": [
      "100%|██████████| 17/17 [00:00<00:00, 850.00it/s]\n",
      "100%|██████████| 17/17 [00:00<00:00, 850.01it/s]\n",
      "100%|██████████| 17/17 [00:00<00:00, 850.00it/s]\n",
      "100%|██████████| 17/17 [00:00<00:00, 850.02it/s]\n",
      "100%|██████████| 17/17 [00:00<00:00, 850.00it/s]\n",
      "100%|██████████| 17/17 [00:00<00:00, 894.77it/s]\n"
     ]
    },
    {
     "name": "stdout",
     "output_type": "stream",
     "text": [
      "Saving model with loss 12.707...\n"
     ]
    },
    {
     "name": "stderr",
     "output_type": "stream",
     "text": [
      "100%|██████████| 17/17 [00:00<00:00, 894.76it/s]\n",
      "100%|██████████| 17/17 [00:00<00:00, 944.45it/s]\n"
     ]
    },
    {
     "name": "stdout",
     "output_type": "stream",
     "text": [
      "Saving model with loss 12.644...\n"
     ]
    },
    {
     "name": "stderr",
     "output_type": "stream",
     "text": [
      "100%|██████████| 17/17 [00:00<00:00, 386.36it/s]\n",
      "100%|██████████| 17/17 [00:00<00:00, 772.75it/s]\n",
      "100%|██████████| 17/17 [00:00<00:00, 865.15it/s]\n"
     ]
    },
    {
     "name": "stdout",
     "output_type": "stream",
     "text": [
      "Saving model with loss 12.358...\n"
     ]
    },
    {
     "name": "stderr",
     "output_type": "stream",
     "text": [
      "100%|██████████| 17/17 [00:00<00:00, 894.75it/s]\n"
     ]
    },
    {
     "name": "stdout",
     "output_type": "stream",
     "text": [
      "Saving model with loss 12.351...\n"
     ]
    },
    {
     "name": "stderr",
     "output_type": "stream",
     "text": [
      "100%|██████████| 17/17 [00:00<00:00, 809.41it/s]\n",
      "100%|██████████| 17/17 [00:00<00:00, 850.01it/s]\n"
     ]
    },
    {
     "name": "stdout",
     "output_type": "stream",
     "text": [
      "Epoch [441/6000]: Train loss: 12.9913, Valid loss: 12.2609\n",
      "Saving model with loss 12.261...\n"
     ]
    },
    {
     "name": "stderr",
     "output_type": "stream",
     "text": [
      "100%|██████████| 17/17 [00:00<00:00, 850.01it/s]\n",
      "100%|██████████| 17/17 [00:00<00:00, 850.00it/s]\n",
      "100%|██████████| 17/17 [00:00<00:00, 809.44it/s]\n",
      "100%|██████████| 17/17 [00:00<00:00, 809.51it/s]\n",
      "100%|██████████| 17/17 [00:00<00:00, 809.51it/s]\n"
     ]
    },
    {
     "name": "stdout",
     "output_type": "stream",
     "text": [
      "Saving model with loss 12.020...\n"
     ]
    },
    {
     "name": "stderr",
     "output_type": "stream",
     "text": [
      "100%|██████████| 17/17 [00:00<00:00, 850.01it/s]\n",
      "100%|██████████| 17/17 [00:00<00:00, 849.88it/s]\n",
      "100%|██████████| 17/17 [00:00<00:00, 772.73it/s]\n"
     ]
    },
    {
     "name": "stdout",
     "output_type": "stream",
     "text": [
      "Saving model with loss 11.446...\n"
     ]
    },
    {
     "name": "stderr",
     "output_type": "stream",
     "text": [
      "100%|██████████| 17/17 [00:00<00:00, 809.53it/s]\n",
      "100%|██████████| 17/17 [00:00<00:00, 809.51it/s]\n",
      "100%|██████████| 17/17 [00:00<00:00, 772.65it/s]\n",
      "100%|██████████| 17/17 [00:00<00:00, 894.73it/s]\n",
      "100%|██████████| 17/17 [00:00<00:00, 839.62it/s]\n",
      "100%|██████████| 17/17 [00:00<00:00, 849.93it/s]\n",
      "100%|██████████| 17/17 [00:00<00:00, 850.00it/s]\n",
      "100%|██████████| 17/17 [00:00<00:00, 849.99it/s]\n"
     ]
    },
    {
     "name": "stdout",
     "output_type": "stream",
     "text": [
      "Saving model with loss 10.614...\n"
     ]
    },
    {
     "name": "stderr",
     "output_type": "stream",
     "text": [
      "100%|██████████| 17/17 [00:00<00:00, 739.13it/s]\n",
      "100%|██████████| 17/17 [00:00<00:00, 850.00it/s]\n",
      "100%|██████████| 17/17 [00:00<00:00, 772.72it/s]\n",
      "100%|██████████| 17/17 [00:00<00:00, 850.00it/s]\n"
     ]
    },
    {
     "name": "stdout",
     "output_type": "stream",
     "text": [
      "Epoch [461/6000]: Train loss: 11.7996, Valid loss: 10.8550\n"
     ]
    },
    {
     "name": "stderr",
     "output_type": "stream",
     "text": [
      "100%|██████████| 17/17 [00:00<00:00, 772.73it/s]\n",
      "100%|██████████| 17/17 [00:00<00:00, 629.63it/s]\n",
      "100%|██████████| 17/17 [00:00<00:00, 772.40it/s]\n",
      "100%|██████████| 17/17 [00:00<00:00, 809.53it/s]\n",
      "100%|██████████| 17/17 [00:00<00:00, 809.53it/s]\n",
      "100%|██████████| 17/17 [00:00<00:00, 894.75it/s]\n",
      "100%|██████████| 17/17 [00:00<00:00, 850.00it/s]\n"
     ]
    },
    {
     "name": "stdout",
     "output_type": "stream",
     "text": [
      "Saving model with loss 10.600...\n"
     ]
    },
    {
     "name": "stderr",
     "output_type": "stream",
     "text": [
      "100%|██████████| 17/17 [00:00<00:00, 850.00it/s]\n",
      "100%|██████████| 17/17 [00:00<00:00, 809.52it/s]\n",
      "100%|██████████| 17/17 [00:00<00:00, 809.53it/s]\n",
      "100%|██████████| 17/17 [00:00<00:00, 850.00it/s]\n",
      "100%|██████████| 17/17 [00:00<00:00, 809.53it/s]\n",
      "100%|██████████| 17/17 [00:00<00:00, 740.95it/s]\n",
      "100%|██████████| 17/17 [00:00<00:00, 772.72it/s]\n",
      "100%|██████████| 17/17 [00:00<00:00, 809.54it/s]\n"
     ]
    },
    {
     "name": "stdout",
     "output_type": "stream",
     "text": [
      "Saving model with loss 10.471...\n"
     ]
    },
    {
     "name": "stderr",
     "output_type": "stream",
     "text": [
      "100%|██████████| 17/17 [00:00<00:00, 809.54it/s]\n",
      "100%|██████████| 17/17 [00:00<00:00, 809.51it/s]\n"
     ]
    },
    {
     "name": "stdout",
     "output_type": "stream",
     "text": [
      "Saving model with loss 10.129...\n"
     ]
    },
    {
     "name": "stderr",
     "output_type": "stream",
     "text": [
      "100%|██████████| 17/17 [00:00<00:00, 809.53it/s]\n",
      "100%|██████████| 17/17 [00:00<00:00, 772.74it/s]\n"
     ]
    },
    {
     "name": "stdout",
     "output_type": "stream",
     "text": [
      "Saving model with loss 10.123...\n"
     ]
    },
    {
     "name": "stderr",
     "output_type": "stream",
     "text": [
      "100%|██████████| 17/17 [00:00<00:00, 850.00it/s]\n"
     ]
    },
    {
     "name": "stdout",
     "output_type": "stream",
     "text": [
      "Epoch [481/6000]: Train loss: 10.7106, Valid loss: 10.4369\n"
     ]
    },
    {
     "name": "stderr",
     "output_type": "stream",
     "text": [
      "100%|██████████| 17/17 [00:00<00:00, 850.03it/s]\n",
      "100%|██████████| 17/17 [00:00<00:00, 850.00it/s]\n"
     ]
    },
    {
     "name": "stdout",
     "output_type": "stream",
     "text": [
      "Saving model with loss 9.764...\n"
     ]
    },
    {
     "name": "stderr",
     "output_type": "stream",
     "text": [
      "100%|██████████| 17/17 [00:00<00:00, 586.21it/s]\n",
      "100%|██████████| 17/17 [00:00<00:00, 850.02it/s]\n",
      "100%|██████████| 17/17 [00:00<00:00, 849.99it/s]\n",
      "100%|██████████| 17/17 [00:00<00:00, 849.96it/s]\n",
      "100%|██████████| 17/17 [00:00<00:00, 809.54it/s]\n",
      "100%|██████████| 17/17 [00:00<00:00, 894.75it/s]\n",
      "100%|██████████| 17/17 [00:00<00:00, 772.73it/s]\n"
     ]
    },
    {
     "name": "stdout",
     "output_type": "stream",
     "text": [
      "Saving model with loss 9.661...\n"
     ]
    },
    {
     "name": "stderr",
     "output_type": "stream",
     "text": [
      "100%|██████████| 17/17 [00:00<00:00, 809.52it/s]\n",
      "100%|██████████| 17/17 [00:00<00:00, 809.52it/s]\n",
      "100%|██████████| 17/17 [00:00<00:00, 809.53it/s]\n",
      "100%|██████████| 17/17 [00:00<00:00, 849.96it/s]\n",
      "100%|██████████| 17/17 [00:00<00:00, 809.52it/s]\n",
      "100%|██████████| 17/17 [00:00<00:00, 809.52it/s]\n"
     ]
    },
    {
     "name": "stdout",
     "output_type": "stream",
     "text": [
      "Saving model with loss 9.363...\n"
     ]
    },
    {
     "name": "stderr",
     "output_type": "stream",
     "text": [
      "100%|██████████| 17/17 [00:00<00:00, 849.96it/s]\n",
      "100%|██████████| 17/17 [00:00<00:00, 809.53it/s]\n",
      "100%|██████████| 17/17 [00:00<00:00, 772.73it/s]\n"
     ]
    },
    {
     "name": "stdout",
     "output_type": "stream",
     "text": [
      "Saving model with loss 8.926...\n"
     ]
    },
    {
     "name": "stderr",
     "output_type": "stream",
     "text": [
      "100%|██████████| 17/17 [00:00<00:00, 809.53it/s]\n",
      "100%|██████████| 17/17 [00:00<00:00, 849.99it/s]\n"
     ]
    },
    {
     "name": "stdout",
     "output_type": "stream",
     "text": [
      "Epoch [501/6000]: Train loss: 9.7555, Valid loss: 9.6164\n"
     ]
    },
    {
     "name": "stderr",
     "output_type": "stream",
     "text": [
      "100%|██████████| 17/17 [00:00<00:00, 809.54it/s]\n",
      "100%|██████████| 17/17 [00:00<00:00, 850.00it/s]\n"
     ]
    },
    {
     "name": "stdout",
     "output_type": "stream",
     "text": [
      "Saving model with loss 8.762...\n"
     ]
    },
    {
     "name": "stderr",
     "output_type": "stream",
     "text": [
      "100%|██████████| 17/17 [00:00<00:00, 849.98it/s]\n",
      "100%|██████████| 17/17 [00:00<00:00, 849.99it/s]\n",
      "100%|██████████| 17/17 [00:00<00:00, 849.99it/s]\n",
      "100%|██████████| 17/17 [00:00<00:00, 849.98it/s]\n",
      "100%|██████████| 17/17 [00:00<00:00, 850.00it/s]\n",
      "100%|██████████| 17/17 [00:00<00:00, 850.00it/s]\n",
      "100%|██████████| 17/17 [00:00<00:00, 850.00it/s]\n",
      "100%|██████████| 17/17 [00:00<00:00, 850.00it/s]\n",
      "100%|██████████| 17/17 [00:00<00:00, 850.00it/s]\n",
      "100%|██████████| 17/17 [00:00<00:00, 894.72it/s]\n",
      "100%|██████████| 17/17 [00:00<00:00, 849.99it/s]\n",
      "100%|██████████| 17/17 [00:00<00:00, 850.00it/s]\n",
      "100%|██████████| 17/17 [00:00<00:00, 849.98it/s]\n"
     ]
    },
    {
     "name": "stdout",
     "output_type": "stream",
     "text": [
      "Saving model with loss 8.447...\n"
     ]
    },
    {
     "name": "stderr",
     "output_type": "stream",
     "text": [
      "100%|██████████| 17/17 [00:00<00:00, 894.73it/s]\n",
      "100%|██████████| 17/17 [00:00<00:00, 907.96it/s]\n",
      "100%|██████████| 17/17 [00:00<00:00, 894.72it/s]\n",
      "100%|██████████| 17/17 [00:00<00:00, 850.03it/s]\n",
      "100%|██████████| 17/17 [00:00<00:00, 772.72it/s]\n"
     ]
    },
    {
     "name": "stdout",
     "output_type": "stream",
     "text": [
      "Epoch [521/6000]: Train loss: 8.8715, Valid loss: 8.2508\n",
      "Saving model with loss 8.251...\n"
     ]
    },
    {
     "name": "stderr",
     "output_type": "stream",
     "text": [
      "100%|██████████| 17/17 [00:00<00:00, 809.50it/s]\n"
     ]
    },
    {
     "name": "stdout",
     "output_type": "stream",
     "text": [
      "Saving model with loss 8.247...\n"
     ]
    },
    {
     "name": "stderr",
     "output_type": "stream",
     "text": [
      "100%|██████████| 17/17 [00:00<00:00, 809.50it/s]\n",
      "100%|██████████| 17/17 [00:00<00:00, 772.70it/s]\n",
      "100%|██████████| 17/17 [00:00<00:00, 850.00it/s]\n",
      "100%|██████████| 17/17 [00:00<00:00, 809.54it/s]\n",
      "100%|██████████| 17/17 [00:00<00:00, 849.98it/s]\n",
      "100%|██████████| 17/17 [00:00<00:00, 850.01it/s]\n",
      "100%|██████████| 17/17 [00:00<00:00, 809.53it/s]\n",
      "100%|██████████| 17/17 [00:00<00:00, 894.73it/s]\n"
     ]
    },
    {
     "name": "stdout",
     "output_type": "stream",
     "text": [
      "Saving model with loss 7.862...\n"
     ]
    },
    {
     "name": "stderr",
     "output_type": "stream",
     "text": [
      "100%|██████████| 17/17 [00:00<00:00, 894.72it/s]\n",
      "100%|██████████| 17/17 [00:00<00:00, 862.08it/s]\n",
      "100%|██████████| 17/17 [00:00<00:00, 869.28it/s]\n",
      "100%|██████████| 17/17 [00:00<00:00, 894.73it/s]\n",
      "100%|██████████| 17/17 [00:00<00:00, 850.00it/s]\n",
      "100%|██████████| 17/17 [00:00<00:00, 894.72it/s]\n",
      "100%|██████████| 17/17 [00:00<00:00, 895.87it/s]\n"
     ]
    },
    {
     "name": "stdout",
     "output_type": "stream",
     "text": [
      "Saving model with loss 7.775...\n"
     ]
    },
    {
     "name": "stderr",
     "output_type": "stream",
     "text": [
      "100%|██████████| 17/17 [00:00<00:00, 849.99it/s]\n",
      "100%|██████████| 17/17 [00:00<00:00, 894.71it/s]\n",
      "100%|██████████| 17/17 [00:00<00:00, 894.72it/s]\n",
      "100%|██████████| 17/17 [00:00<00:00, 894.72it/s]\n"
     ]
    },
    {
     "name": "stdout",
     "output_type": "stream",
     "text": [
      "Epoch [541/6000]: Train loss: 8.1198, Valid loss: 8.7341\n"
     ]
    },
    {
     "name": "stderr",
     "output_type": "stream",
     "text": [
      "100%|██████████| 17/17 [00:00<00:00, 850.00it/s]\n",
      "100%|██████████| 17/17 [00:00<00:00, 894.76it/s]\n",
      "100%|██████████| 17/17 [00:00<00:00, 894.72it/s]\n",
      "100%|██████████| 17/17 [00:00<00:00, 850.00it/s]\n",
      "100%|██████████| 17/17 [00:00<00:00, 894.73it/s]\n"
     ]
    },
    {
     "name": "stdout",
     "output_type": "stream",
     "text": [
      "Saving model with loss 7.724...\n"
     ]
    },
    {
     "name": "stderr",
     "output_type": "stream",
     "text": [
      "100%|██████████| 17/17 [00:00<00:00, 764.10it/s]\n",
      "100%|██████████| 17/17 [00:00<00:00, 850.01it/s]\n",
      "100%|██████████| 17/17 [00:00<00:00, 894.72it/s]\n"
     ]
    },
    {
     "name": "stdout",
     "output_type": "stream",
     "text": [
      "Saving model with loss 7.197...\n"
     ]
    },
    {
     "name": "stderr",
     "output_type": "stream",
     "text": [
      "100%|██████████| 17/17 [00:00<00:00, 894.75it/s]\n",
      "100%|██████████| 17/17 [00:00<00:00, 894.76it/s]\n",
      "100%|██████████| 17/17 [00:00<00:00, 894.72it/s]\n",
      "100%|██████████| 17/17 [00:00<00:00, 894.71it/s]\n",
      "100%|██████████| 17/17 [00:00<00:00, 894.72it/s]\n",
      "100%|██████████| 17/17 [00:00<00:00, 894.72it/s]\n"
     ]
    },
    {
     "name": "stdout",
     "output_type": "stream",
     "text": [
      "Saving model with loss 7.111...\n"
     ]
    },
    {
     "name": "stderr",
     "output_type": "stream",
     "text": [
      "100%|██████████| 17/17 [00:00<00:00, 850.00it/s]\n",
      "100%|██████████| 17/17 [00:00<00:00, 849.98it/s]\n",
      "100%|██████████| 17/17 [00:00<00:00, 899.99it/s]\n",
      "100%|██████████| 17/17 [00:00<00:00, 850.01it/s]\n",
      "100%|██████████| 17/17 [00:00<00:00, 849.99it/s]\n",
      "100%|██████████| 17/17 [00:00<00:00, 894.72it/s]\n"
     ]
    },
    {
     "name": "stdout",
     "output_type": "stream",
     "text": [
      "Epoch [561/6000]: Train loss: 7.5152, Valid loss: 7.3701\n"
     ]
    },
    {
     "name": "stderr",
     "output_type": "stream",
     "text": [
      "100%|██████████| 17/17 [00:00<00:00, 777.53it/s]\n",
      "100%|██████████| 17/17 [00:00<00:00, 894.72it/s]\n",
      "100%|██████████| 17/17 [00:00<00:00, 850.03it/s]\n"
     ]
    },
    {
     "name": "stdout",
     "output_type": "stream",
     "text": [
      "Saving model with loss 7.098...\n"
     ]
    },
    {
     "name": "stderr",
     "output_type": "stream",
     "text": [
      "100%|██████████| 17/17 [00:00<00:00, 847.51it/s]\n",
      "100%|██████████| 17/17 [00:00<00:00, 845.67it/s]\n",
      "100%|██████████| 17/17 [00:00<00:00, 894.73it/s]\n",
      "100%|██████████| 17/17 [00:00<00:00, 887.58it/s]\n"
     ]
    },
    {
     "name": "stdout",
     "output_type": "stream",
     "text": [
      "Saving model with loss 7.051...\n"
     ]
    },
    {
     "name": "stderr",
     "output_type": "stream",
     "text": [
      "100%|██████████| 17/17 [00:00<00:00, 850.01it/s]\n",
      "100%|██████████| 17/17 [00:00<00:00, 849.99it/s]\n",
      "100%|██████████| 17/17 [00:00<00:00, 850.00it/s]\n",
      "100%|██████████| 17/17 [00:00<00:00, 894.75it/s]\n"
     ]
    },
    {
     "name": "stdout",
     "output_type": "stream",
     "text": [
      "Saving model with loss 6.821...\n"
     ]
    },
    {
     "name": "stderr",
     "output_type": "stream",
     "text": [
      "100%|██████████| 17/17 [00:00<00:00, 894.77it/s]\n",
      "100%|██████████| 17/17 [00:00<00:00, 870.64it/s]\n",
      "100%|██████████| 17/17 [00:00<00:00, 850.02it/s]\n",
      "100%|██████████| 17/17 [00:00<00:00, 894.73it/s]\n",
      "100%|██████████| 17/17 [00:00<00:00, 850.03it/s]\n",
      "100%|██████████| 17/17 [00:00<00:00, 850.00it/s]\n",
      "100%|██████████| 17/17 [00:00<00:00, 849.98it/s]\n",
      "100%|██████████| 17/17 [00:00<00:00, 894.73it/s]\n",
      "100%|██████████| 17/17 [00:00<00:00, 894.72it/s]\n"
     ]
    },
    {
     "name": "stdout",
     "output_type": "stream",
     "text": [
      "Epoch [581/6000]: Train loss: 7.0067, Valid loss: 6.6147\n",
      "Saving model with loss 6.615...\n"
     ]
    },
    {
     "name": "stderr",
     "output_type": "stream",
     "text": [
      "100%|██████████| 17/17 [00:00<00:00, 894.73it/s]\n",
      "100%|██████████| 17/17 [00:00<00:00, 894.72it/s]\n",
      "100%|██████████| 17/17 [00:00<00:00, 849.99it/s]\n"
     ]
    },
    {
     "name": "stdout",
     "output_type": "stream",
     "text": [
      "Saving model with loss 6.292...\n"
     ]
    },
    {
     "name": "stderr",
     "output_type": "stream",
     "text": [
      "100%|██████████| 17/17 [00:00<00:00, 849.98it/s]\n",
      "100%|██████████| 17/17 [00:00<00:00, 850.00it/s]\n",
      "100%|██████████| 17/17 [00:00<00:00, 850.01it/s]\n",
      "100%|██████████| 17/17 [00:00<00:00, 850.02it/s]\n",
      "100%|██████████| 17/17 [00:00<00:00, 708.33it/s]\n",
      "100%|██████████| 17/17 [00:00<00:00, 894.73it/s]\n",
      "100%|██████████| 17/17 [00:00<00:00, 894.73it/s]\n",
      "100%|██████████| 17/17 [00:00<00:00, 850.02it/s]\n",
      "100%|██████████| 17/17 [00:00<00:00, 894.75it/s]\n",
      "100%|██████████| 17/17 [00:00<00:00, 896.51it/s]\n",
      "100%|██████████| 17/17 [00:00<00:00, 944.44it/s]\n",
      "100%|██████████| 17/17 [00:00<00:00, 894.75it/s]\n",
      "100%|██████████| 17/17 [00:00<00:00, 862.64it/s]\n",
      "100%|██████████| 17/17 [00:00<00:00, 894.72it/s]\n",
      "100%|██████████| 17/17 [00:00<00:00, 849.99it/s]\n",
      "100%|██████████| 17/17 [00:00<00:00, 849.98it/s]\n",
      "100%|██████████| 17/17 [00:00<00:00, 894.73it/s]\n"
     ]
    },
    {
     "name": "stdout",
     "output_type": "stream",
     "text": [
      "Epoch [601/6000]: Train loss: 6.6237, Valid loss: 6.5145\n"
     ]
    },
    {
     "name": "stderr",
     "output_type": "stream",
     "text": [
      "100%|██████████| 17/17 [00:00<00:00, 849.99it/s]\n",
      "100%|██████████| 17/17 [00:00<00:00, 850.00it/s]\n",
      "100%|██████████| 17/17 [00:00<00:00, 894.71it/s]\n"
     ]
    },
    {
     "name": "stdout",
     "output_type": "stream",
     "text": [
      "Saving model with loss 6.240...\n"
     ]
    },
    {
     "name": "stderr",
     "output_type": "stream",
     "text": [
      "100%|██████████| 17/17 [00:00<00:00, 850.01it/s]\n",
      "100%|██████████| 17/17 [00:00<00:00, 894.72it/s]\n"
     ]
    },
    {
     "name": "stdout",
     "output_type": "stream",
     "text": [
      "Saving model with loss 6.171...\n"
     ]
    },
    {
     "name": "stderr",
     "output_type": "stream",
     "text": [
      "100%|██████████| 17/17 [00:00<00:00, 894.76it/s]\n",
      "100%|██████████| 17/17 [00:00<00:00, 894.73it/s]\n",
      "100%|██████████| 17/17 [00:00<00:00, 863.55it/s]\n",
      "100%|██████████| 17/17 [00:00<00:00, 867.28it/s]\n",
      "100%|██████████| 17/17 [00:00<00:00, 850.01it/s]\n",
      "100%|██████████| 17/17 [00:00<00:00, 894.72it/s]\n",
      "100%|██████████| 17/17 [00:00<00:00, 894.72it/s]\n",
      "100%|██████████| 17/17 [00:00<00:00, 860.92it/s]\n",
      "100%|██████████| 17/17 [00:00<00:00, 894.71it/s]\n"
     ]
    },
    {
     "name": "stdout",
     "output_type": "stream",
     "text": [
      "Saving model with loss 6.163...\n"
     ]
    },
    {
     "name": "stderr",
     "output_type": "stream",
     "text": [
      "100%|██████████| 17/17 [00:00<00:00, 849.98it/s]\n",
      "100%|██████████| 17/17 [00:00<00:00, 850.00it/s]\n"
     ]
    },
    {
     "name": "stdout",
     "output_type": "stream",
     "text": [
      "Saving model with loss 6.047...\n"
     ]
    },
    {
     "name": "stderr",
     "output_type": "stream",
     "text": [
      "100%|██████████| 17/17 [00:00<00:00, 849.99it/s]\n"
     ]
    },
    {
     "name": "stdout",
     "output_type": "stream",
     "text": [
      "Saving model with loss 6.000...\n"
     ]
    },
    {
     "name": "stderr",
     "output_type": "stream",
     "text": [
      "100%|██████████| 17/17 [00:00<00:00, 850.00it/s]\n",
      "100%|██████████| 17/17 [00:00<00:00, 894.75it/s]\n",
      "100%|██████████| 17/17 [00:00<00:00, 849.98it/s]\n"
     ]
    },
    {
     "name": "stdout",
     "output_type": "stream",
     "text": [
      "Epoch [621/6000]: Train loss: 6.3618, Valid loss: 6.2303\n"
     ]
    },
    {
     "name": "stderr",
     "output_type": "stream",
     "text": [
      "100%|██████████| 17/17 [00:00<00:00, 858.98it/s]\n"
     ]
    },
    {
     "name": "stdout",
     "output_type": "stream",
     "text": [
      "Saving model with loss 5.968...\n"
     ]
    },
    {
     "name": "stderr",
     "output_type": "stream",
     "text": [
      "100%|██████████| 17/17 [00:00<00:00, 850.00it/s]\n",
      "100%|██████████| 17/17 [00:00<00:00, 894.67it/s]\n",
      "100%|██████████| 17/17 [00:00<00:00, 850.01it/s]\n",
      "100%|██████████| 17/17 [00:00<00:00, 850.00it/s]\n",
      "100%|██████████| 17/17 [00:00<00:00, 849.98it/s]\n"
     ]
    },
    {
     "name": "stdout",
     "output_type": "stream",
     "text": [
      "Saving model with loss 5.891...\n"
     ]
    },
    {
     "name": "stderr",
     "output_type": "stream",
     "text": [
      "100%|██████████| 17/17 [00:00<00:00, 850.05it/s]\n",
      "100%|██████████| 17/17 [00:00<00:00, 850.00it/s]\n",
      "100%|██████████| 17/17 [00:00<00:00, 849.99it/s]\n",
      "100%|██████████| 17/17 [00:00<00:00, 894.76it/s]\n"
     ]
    },
    {
     "name": "stdout",
     "output_type": "stream",
     "text": [
      "Saving model with loss 5.881...\n"
     ]
    },
    {
     "name": "stderr",
     "output_type": "stream",
     "text": [
      "100%|██████████| 17/17 [00:00<00:00, 850.00it/s]\n"
     ]
    },
    {
     "name": "stdout",
     "output_type": "stream",
     "text": [
      "Saving model with loss 5.608...\n"
     ]
    },
    {
     "name": "stderr",
     "output_type": "stream",
     "text": [
      "100%|██████████| 17/17 [00:00<00:00, 849.99it/s]\n",
      "100%|██████████| 17/17 [00:00<00:00, 849.98it/s]\n",
      "100%|██████████| 17/17 [00:00<00:00, 850.01it/s]\n",
      "100%|██████████| 17/17 [00:00<00:00, 849.96it/s]\n",
      "100%|██████████| 17/17 [00:00<00:00, 850.03it/s]\n",
      "100%|██████████| 17/17 [00:00<00:00, 849.98it/s]\n",
      "100%|██████████| 17/17 [00:00<00:00, 894.71it/s]\n",
      "100%|██████████| 17/17 [00:00<00:00, 849.99it/s]\n",
      "100%|██████████| 17/17 [00:00<00:00, 850.00it/s]\n"
     ]
    },
    {
     "name": "stdout",
     "output_type": "stream",
     "text": [
      "Epoch [641/6000]: Train loss: 6.1382, Valid loss: 6.0402\n"
     ]
    },
    {
     "name": "stderr",
     "output_type": "stream",
     "text": [
      "100%|██████████| 17/17 [00:00<00:00, 809.54it/s]\n",
      "100%|██████████| 17/17 [00:00<00:00, 894.75it/s]\n",
      "100%|██████████| 17/17 [00:00<00:00, 809.49it/s]\n",
      "100%|██████████| 17/17 [00:00<00:00, 850.01it/s]\n",
      "100%|██████████| 17/17 [00:00<00:00, 849.98it/s]\n",
      "100%|██████████| 17/17 [00:00<00:00, 894.71it/s]\n",
      "100%|██████████| 17/17 [00:00<00:00, 849.99it/s]\n",
      "100%|██████████| 17/17 [00:00<00:00, 850.01it/s]\n",
      "100%|██████████| 17/17 [00:00<00:00, 859.70it/s]\n",
      "100%|██████████| 17/17 [00:00<00:00, 850.05it/s]\n",
      "100%|██████████| 17/17 [00:00<00:00, 850.01it/s]\n",
      "100%|██████████| 17/17 [00:00<00:00, 812.05it/s]\n",
      "100%|██████████| 17/17 [00:00<00:00, 850.01it/s]\n"
     ]
    },
    {
     "name": "stdout",
     "output_type": "stream",
     "text": [
      "Saving model with loss 5.428...\n"
     ]
    },
    {
     "name": "stderr",
     "output_type": "stream",
     "text": [
      "100%|██████████| 17/17 [00:00<00:00, 809.54it/s]\n",
      "100%|██████████| 17/17 [00:00<00:00, 809.70it/s]\n",
      "100%|██████████| 17/17 [00:00<00:00, 894.75it/s]\n",
      "100%|██████████| 17/17 [00:00<00:00, 809.50it/s]\n",
      "100%|██████████| 17/17 [00:00<00:00, 849.97it/s]\n",
      "100%|██████████| 17/17 [00:00<00:00, 894.75it/s]\n",
      "100%|██████████| 17/17 [00:00<00:00, 850.01it/s]\n"
     ]
    },
    {
     "name": "stdout",
     "output_type": "stream",
     "text": [
      "Epoch [661/6000]: Train loss: 5.9988, Valid loss: 5.5619\n"
     ]
    },
    {
     "name": "stderr",
     "output_type": "stream",
     "text": [
      "100%|██████████| 17/17 [00:00<00:00, 634.96it/s]\n",
      "100%|██████████| 17/17 [00:00<00:00, 809.55it/s]\n",
      "100%|██████████| 17/17 [00:00<00:00, 894.73it/s]\n",
      "100%|██████████| 17/17 [00:00<00:00, 825.94it/s]\n",
      "100%|██████████| 17/17 [00:00<00:00, 739.12it/s]\n",
      "100%|██████████| 17/17 [00:00<00:00, 809.51it/s]\n",
      "100%|██████████| 17/17 [00:00<00:00, 772.73it/s]\n",
      "100%|██████████| 17/17 [00:00<00:00, 849.99it/s]\n",
      "100%|██████████| 17/17 [00:00<00:00, 765.61it/s]\n",
      "100%|██████████| 17/17 [00:00<00:00, 772.72it/s]\n",
      "100%|██████████| 17/17 [00:00<00:00, 894.75it/s]\n",
      "100%|██████████| 17/17 [00:00<00:00, 809.52it/s]\n",
      "100%|██████████| 17/17 [00:00<00:00, 850.02it/s]\n",
      "100%|██████████| 17/17 [00:00<00:00, 850.03it/s]\n",
      "100%|██████████| 17/17 [00:00<00:00, 845.52it/s]\n",
      "100%|██████████| 17/17 [00:00<00:00, 894.73it/s]\n",
      "100%|██████████| 17/17 [00:00<00:00, 849.99it/s]\n",
      "100%|██████████| 17/17 [00:00<00:00, 849.99it/s]\n",
      "100%|██████████| 17/17 [00:00<00:00, 809.53it/s]\n",
      "100%|██████████| 17/17 [00:00<00:00, 809.55it/s]\n"
     ]
    },
    {
     "name": "stdout",
     "output_type": "stream",
     "text": [
      "Epoch [681/6000]: Train loss: 5.8862, Valid loss: 5.7686\n"
     ]
    },
    {
     "name": "stderr",
     "output_type": "stream",
     "text": [
      "100%|██████████| 17/17 [00:00<00:00, 739.12it/s]\n",
      "100%|██████████| 17/17 [00:00<00:00, 772.74it/s]\n",
      "100%|██████████| 17/17 [00:00<00:00, 346.94it/s]\n"
     ]
    },
    {
     "name": "stdout",
     "output_type": "stream",
     "text": [
      "Saving model with loss 5.385...\n"
     ]
    },
    {
     "name": "stderr",
     "output_type": "stream",
     "text": [
      "100%|██████████| 17/17 [00:00<00:00, 739.15it/s]\n",
      "100%|██████████| 17/17 [00:00<00:00, 850.01it/s]\n",
      "100%|██████████| 17/17 [00:00<00:00, 849.95it/s]\n",
      "100%|██████████| 17/17 [00:00<00:00, 772.74it/s]\n",
      "100%|██████████| 17/17 [00:00<00:00, 788.82it/s]\n",
      "100%|██████████| 17/17 [00:00<00:00, 809.55it/s]\n",
      "100%|██████████| 17/17 [00:00<00:00, 809.58it/s]\n",
      "100%|██████████| 17/17 [00:00<00:00, 809.55it/s]\n",
      "100%|██████████| 17/17 [00:00<00:00, 809.58it/s]\n",
      "100%|██████████| 17/17 [00:00<00:00, 680.02it/s]\n",
      "100%|██████████| 17/17 [00:00<00:00, 788.52it/s]\n",
      "100%|██████████| 17/17 [00:00<00:00, 809.54it/s]\n",
      "100%|██████████| 17/17 [00:00<00:00, 772.73it/s]\n",
      "100%|██████████| 17/17 [00:00<00:00, 809.53it/s]\n",
      "100%|██████████| 17/17 [00:00<00:00, 772.73it/s]\n",
      "100%|██████████| 17/17 [00:00<00:00, 809.55it/s]\n",
      "100%|██████████| 17/17 [00:00<00:00, 809.55it/s]\n"
     ]
    },
    {
     "name": "stdout",
     "output_type": "stream",
     "text": [
      "Epoch [701/6000]: Train loss: 5.8034, Valid loss: 6.3465\n"
     ]
    },
    {
     "name": "stderr",
     "output_type": "stream",
     "text": [
      "100%|██████████| 17/17 [00:00<00:00, 850.00it/s]\n"
     ]
    },
    {
     "name": "stdout",
     "output_type": "stream",
     "text": [
      "Saving model with loss 5.230...\n"
     ]
    },
    {
     "name": "stderr",
     "output_type": "stream",
     "text": [
      "100%|██████████| 17/17 [00:00<00:00, 809.57it/s]\n",
      "100%|██████████| 17/17 [00:00<00:00, 809.52it/s]\n",
      "100%|██████████| 17/17 [00:00<00:00, 809.51it/s]\n",
      "100%|██████████| 17/17 [00:00<00:00, 809.46it/s]\n",
      "100%|██████████| 17/17 [00:00<00:00, 849.99it/s]\n",
      "100%|██████████| 17/17 [00:00<00:00, 772.74it/s]\n",
      "100%|██████████| 17/17 [00:00<00:00, 809.54it/s]\n",
      "100%|██████████| 17/17 [00:00<00:00, 809.52it/s]\n",
      "100%|██████████| 17/17 [00:00<00:00, 809.56it/s]\n",
      "100%|██████████| 17/17 [00:00<00:00, 849.98it/s]\n",
      "100%|██████████| 17/17 [00:00<00:00, 809.52it/s]\n",
      "100%|██████████| 17/17 [00:00<00:00, 849.98it/s]\n",
      "100%|██████████| 17/17 [00:00<00:00, 809.53it/s]\n",
      "100%|██████████| 17/17 [00:00<00:00, 809.54it/s]\n",
      "100%|██████████| 17/17 [00:00<00:00, 772.74it/s]\n",
      "100%|██████████| 17/17 [00:00<00:00, 850.02it/s]\n",
      "100%|██████████| 17/17 [00:00<00:00, 850.00it/s]\n",
      "100%|██████████| 17/17 [00:00<00:00, 850.01it/s]\n",
      "100%|██████████| 17/17 [00:00<00:00, 850.02it/s]\n"
     ]
    },
    {
     "name": "stdout",
     "output_type": "stream",
     "text": [
      "Epoch [721/6000]: Train loss: 5.6915, Valid loss: 5.7519\n"
     ]
    },
    {
     "name": "stderr",
     "output_type": "stream",
     "text": [
      "100%|██████████| 17/17 [00:00<00:00, 894.78it/s]\n",
      "100%|██████████| 17/17 [00:00<00:00, 708.46it/s]\n",
      "100%|██████████| 17/17 [00:00<00:00, 850.02it/s]\n",
      "100%|██████████| 17/17 [00:00<00:00, 849.98it/s]\n",
      "100%|██████████| 17/17 [00:00<00:00, 772.75it/s]\n",
      "100%|██████████| 17/17 [00:00<00:00, 894.75it/s]\n",
      "100%|██████████| 17/17 [00:00<00:00, 849.85it/s]\n",
      "100%|██████████| 17/17 [00:00<00:00, 894.72it/s]\n",
      "100%|██████████| 17/17 [00:00<00:00, 823.78it/s]\n",
      "100%|██████████| 17/17 [00:00<00:00, 849.99it/s]\n",
      "100%|██████████| 17/17 [00:00<00:00, 850.00it/s]\n",
      "100%|██████████| 17/17 [00:00<00:00, 894.73it/s]\n",
      "100%|██████████| 17/17 [00:00<00:00, 849.99it/s]\n",
      "100%|██████████| 17/17 [00:00<00:00, 850.00it/s]\n",
      "100%|██████████| 17/17 [00:00<00:00, 850.03it/s]\n",
      "100%|██████████| 17/17 [00:00<00:00, 850.02it/s]\n",
      "100%|██████████| 17/17 [00:00<00:00, 850.00it/s]\n",
      "100%|██████████| 17/17 [00:00<00:00, 894.72it/s]\n",
      "100%|██████████| 17/17 [00:00<00:00, 809.51it/s]\n",
      "100%|██████████| 17/17 [00:00<00:00, 835.11it/s]\n"
     ]
    },
    {
     "name": "stdout",
     "output_type": "stream",
     "text": [
      "Epoch [741/6000]: Train loss: 5.6072, Valid loss: 5.4449\n"
     ]
    },
    {
     "name": "stderr",
     "output_type": "stream",
     "text": [
      "100%|██████████| 17/17 [00:00<00:00, 850.00it/s]\n",
      "100%|██████████| 17/17 [00:00<00:00, 842.40it/s]\n",
      "100%|██████████| 17/17 [00:00<00:00, 850.00it/s]\n",
      "100%|██████████| 17/17 [00:00<00:00, 894.73it/s]\n"
     ]
    },
    {
     "name": "stdout",
     "output_type": "stream",
     "text": [
      "Saving model with loss 5.099...\n"
     ]
    },
    {
     "name": "stderr",
     "output_type": "stream",
     "text": [
      "100%|██████████| 17/17 [00:00<00:00, 850.01it/s]\n"
     ]
    },
    {
     "name": "stdout",
     "output_type": "stream",
     "text": [
      "Saving model with loss 5.004...\n"
     ]
    },
    {
     "name": "stderr",
     "output_type": "stream",
     "text": [
      "100%|██████████| 17/17 [00:00<00:00, 849.99it/s]\n",
      "100%|██████████| 17/17 [00:00<00:00, 850.02it/s]\n",
      "100%|██████████| 17/17 [00:00<00:00, 894.73it/s]\n",
      "100%|██████████| 17/17 [00:00<00:00, 849.99it/s]\n",
      "100%|██████████| 17/17 [00:00<00:00, 894.72it/s]\n",
      "100%|██████████| 17/17 [00:00<00:00, 809.52it/s]\n",
      "100%|██████████| 17/17 [00:00<00:00, 850.02it/s]\n",
      "100%|██████████| 17/17 [00:00<00:00, 850.03it/s]\n",
      "100%|██████████| 17/17 [00:00<00:00, 850.00it/s]\n",
      "100%|██████████| 17/17 [00:00<00:00, 850.01it/s]\n",
      "100%|██████████| 17/17 [00:00<00:00, 850.03it/s]\n",
      "100%|██████████| 17/17 [00:00<00:00, 850.02it/s]\n",
      "100%|██████████| 17/17 [00:00<00:00, 841.77it/s]\n",
      "100%|██████████| 17/17 [00:00<00:00, 850.00it/s]\n",
      "100%|██████████| 17/17 [00:00<00:00, 894.73it/s]\n"
     ]
    },
    {
     "name": "stdout",
     "output_type": "stream",
     "text": [
      "Epoch [761/6000]: Train loss: 5.5334, Valid loss: 5.9607\n"
     ]
    },
    {
     "name": "stderr",
     "output_type": "stream",
     "text": [
      "100%|██████████| 17/17 [00:00<00:00, 850.02it/s]\n",
      "100%|██████████| 17/17 [00:00<00:00, 851.65it/s]\n",
      "100%|██████████| 17/17 [00:00<00:00, 809.54it/s]\n",
      "100%|██████████| 17/17 [00:00<00:00, 850.00it/s]\n",
      "100%|██████████| 17/17 [00:00<00:00, 850.01it/s]\n",
      "100%|██████████| 17/17 [00:00<00:00, 849.97it/s]\n",
      "100%|██████████| 17/17 [00:00<00:00, 849.99it/s]"
     ]
    },
    {
     "name": "stdout",
     "output_type": "stream",
     "text": [
      "Saving model with loss 4.839...\n"
     ]
    },
    {
     "name": "stderr",
     "output_type": "stream",
     "text": [
      "\n",
      "100%|██████████| 17/17 [00:00<00:00, 772.67it/s]\n",
      "100%|██████████| 17/17 [00:00<00:00, 841.19it/s]\n",
      "100%|██████████| 17/17 [00:00<00:00, 850.03it/s]\n",
      "100%|██████████| 17/17 [00:00<00:00, 849.97it/s]\n",
      "100%|██████████| 17/17 [00:00<00:00, 809.52it/s]\n",
      "100%|██████████| 17/17 [00:00<00:00, 809.52it/s]\n",
      "100%|██████████| 17/17 [00:00<00:00, 894.76it/s]\n",
      "100%|██████████| 17/17 [00:00<00:00, 850.01it/s]\n",
      "100%|██████████| 17/17 [00:00<00:00, 772.73it/s]\n",
      "100%|██████████| 17/17 [00:00<00:00, 809.53it/s]\n",
      "100%|██████████| 17/17 [00:00<00:00, 772.74it/s]\n",
      "100%|██████████| 17/17 [00:00<00:00, 739.13it/s]\n",
      "100%|██████████| 17/17 [00:00<00:00, 819.57it/s]\n"
     ]
    },
    {
     "name": "stdout",
     "output_type": "stream",
     "text": [
      "Epoch [781/6000]: Train loss: 5.4628, Valid loss: 5.7544\n"
     ]
    },
    {
     "name": "stderr",
     "output_type": "stream",
     "text": [
      "100%|██████████| 17/17 [00:00<00:00, 814.38it/s]\n",
      "100%|██████████| 17/17 [00:00<00:00, 809.54it/s]\n",
      "100%|██████████| 17/17 [00:00<00:00, 850.03it/s]\n",
      "100%|██████████| 17/17 [00:00<00:00, 850.00it/s]\n",
      "100%|██████████| 17/17 [00:00<00:00, 849.98it/s]\n",
      "100%|██████████| 17/17 [00:00<00:00, 894.73it/s]\n",
      "100%|██████████| 17/17 [00:00<00:00, 809.51it/s]\n",
      "100%|██████████| 17/17 [00:00<00:00, 849.99it/s]\n",
      "100%|██████████| 17/17 [00:00<00:00, 809.51it/s]\n",
      "100%|██████████| 17/17 [00:00<00:00, 850.01it/s]\n",
      "100%|██████████| 17/17 [00:00<00:00, 849.96it/s]\n",
      "100%|██████████| 17/17 [00:00<00:00, 809.51it/s]\n",
      "100%|██████████| 17/17 [00:00<00:00, 856.43it/s]\n",
      "100%|██████████| 17/17 [00:00<00:00, 809.51it/s]\n",
      "100%|██████████| 17/17 [00:00<00:00, 850.01it/s]\n",
      "100%|██████████| 17/17 [00:00<00:00, 809.56it/s]\n",
      "100%|██████████| 17/17 [00:00<00:00, 850.00it/s]\n",
      "100%|██████████| 17/17 [00:00<00:00, 849.97it/s]\n",
      "100%|██████████| 17/17 [00:00<00:00, 849.99it/s]\n",
      "100%|██████████| 17/17 [00:00<00:00, 894.71it/s]\n"
     ]
    },
    {
     "name": "stdout",
     "output_type": "stream",
     "text": [
      "Epoch [801/6000]: Train loss: 5.3758, Valid loss: 6.2636\n"
     ]
    },
    {
     "name": "stderr",
     "output_type": "stream",
     "text": [
      "100%|██████████| 17/17 [00:00<00:00, 809.55it/s]\n",
      "100%|██████████| 17/17 [00:00<00:00, 809.51it/s]\n",
      "100%|██████████| 17/17 [00:00<00:00, 809.52it/s]\n",
      "100%|██████████| 17/17 [00:00<00:00, 809.52it/s]\n",
      "100%|██████████| 17/17 [00:00<00:00, 772.74it/s]\n",
      "100%|██████████| 17/17 [00:00<00:00, 850.02it/s]\n",
      "100%|██████████| 17/17 [00:00<00:00, 849.98it/s]\n",
      "100%|██████████| 17/17 [00:00<00:00, 850.00it/s]\n",
      "100%|██████████| 17/17 [00:00<00:00, 850.02it/s]\n",
      "100%|██████████| 17/17 [00:00<00:00, 849.99it/s]\n",
      "100%|██████████| 17/17 [00:00<00:00, 849.98it/s]\n",
      "100%|██████████| 17/17 [00:00<00:00, 849.98it/s]\n",
      "100%|██████████| 17/17 [00:00<00:00, 850.01it/s]\n",
      "100%|██████████| 17/17 [00:00<00:00, 849.98it/s]\n",
      "100%|██████████| 17/17 [00:00<00:00, 826.18it/s]\n",
      "100%|██████████| 17/17 [00:00<00:00, 850.01it/s]\n",
      "100%|██████████| 17/17 [00:00<00:00, 787.83it/s]\n",
      "100%|██████████| 17/17 [00:00<00:00, 850.01it/s]\n",
      "100%|██████████| 17/17 [00:00<00:00, 849.99it/s]\n",
      "100%|██████████| 17/17 [00:00<00:00, 850.02it/s]\n"
     ]
    },
    {
     "name": "stdout",
     "output_type": "stream",
     "text": [
      "Epoch [821/6000]: Train loss: 5.2941, Valid loss: 5.6758\n"
     ]
    },
    {
     "name": "stderr",
     "output_type": "stream",
     "text": [
      "100%|██████████| 17/17 [00:00<00:00, 855.49it/s]\n",
      "100%|██████████| 17/17 [00:00<00:00, 809.53it/s]\n",
      "100%|██████████| 17/17 [00:00<00:00, 894.71it/s]\n"
     ]
    },
    {
     "name": "stdout",
     "output_type": "stream",
     "text": [
      "Saving model with loss 4.828...\n"
     ]
    },
    {
     "name": "stderr",
     "output_type": "stream",
     "text": [
      "100%|██████████| 17/17 [00:00<00:00, 850.00it/s]\n",
      "100%|██████████| 17/17 [00:00<00:00, 850.00it/s]\n",
      "100%|██████████| 17/17 [00:00<00:00, 850.01it/s]\n"
     ]
    },
    {
     "name": "stdout",
     "output_type": "stream",
     "text": [
      "Saving model with loss 4.827...\n"
     ]
    },
    {
     "name": "stderr",
     "output_type": "stream",
     "text": [
      "100%|██████████| 17/17 [00:00<00:00, 809.51it/s]\n",
      "100%|██████████| 17/17 [00:00<00:00, 850.01it/s]\n",
      "100%|██████████| 17/17 [00:00<00:00, 809.53it/s]\n",
      "100%|██████████| 17/17 [00:00<00:00, 809.53it/s]\n",
      "100%|██████████| 17/17 [00:00<00:00, 809.53it/s]\n",
      "100%|██████████| 17/17 [00:00<00:00, 850.01it/s]\n",
      "100%|██████████| 17/17 [00:00<00:00, 850.01it/s]\n",
      "100%|██████████| 17/17 [00:00<00:00, 850.02it/s]\n"
     ]
    },
    {
     "name": "stdout",
     "output_type": "stream",
     "text": [
      "Saving model with loss 4.816...\n"
     ]
    },
    {
     "name": "stderr",
     "output_type": "stream",
     "text": [
      "100%|██████████| 17/17 [00:00<00:00, 850.01it/s]\n",
      "100%|██████████| 17/17 [00:00<00:00, 849.99it/s]\n",
      "100%|██████████| 17/17 [00:00<00:00, 849.97it/s]\n",
      "100%|██████████| 17/17 [00:00<00:00, 894.72it/s]\n",
      "100%|██████████| 17/17 [00:00<00:00, 850.00it/s]\n",
      "100%|██████████| 17/17 [00:00<00:00, 849.99it/s]\n"
     ]
    },
    {
     "name": "stdout",
     "output_type": "stream",
     "text": [
      "Epoch [841/6000]: Train loss: 5.2024, Valid loss: 5.4302\n"
     ]
    },
    {
     "name": "stderr",
     "output_type": "stream",
     "text": [
      "100%|██████████| 17/17 [00:00<00:00, 850.01it/s]\n",
      "100%|██████████| 17/17 [00:00<00:00, 809.50it/s]\n"
     ]
    },
    {
     "name": "stdout",
     "output_type": "stream",
     "text": [
      "Saving model with loss 4.809...\n"
     ]
    },
    {
     "name": "stderr",
     "output_type": "stream",
     "text": [
      "100%|██████████| 17/17 [00:00<00:00, 772.72it/s]\n",
      "100%|██████████| 17/17 [00:00<00:00, 772.75it/s]\n",
      "100%|██████████| 17/17 [00:00<00:00, 849.97it/s]\n",
      "100%|██████████| 17/17 [00:00<00:00, 809.54it/s]\n",
      "100%|██████████| 17/17 [00:00<00:00, 850.00it/s]\n"
     ]
    },
    {
     "name": "stdout",
     "output_type": "stream",
     "text": [
      "Saving model with loss 4.805...\n"
     ]
    },
    {
     "name": "stderr",
     "output_type": "stream",
     "text": [
      "100%|██████████| 17/17 [00:00<00:00, 809.53it/s]\n",
      "100%|██████████| 17/17 [00:00<00:00, 894.72it/s]\n",
      "100%|██████████| 17/17 [00:00<00:00, 809.52it/s]\n",
      "100%|██████████| 17/17 [00:00<00:00, 850.03it/s]\n"
     ]
    },
    {
     "name": "stdout",
     "output_type": "stream",
     "text": [
      "Saving model with loss 4.578...\n"
     ]
    },
    {
     "name": "stderr",
     "output_type": "stream",
     "text": [
      "100%|██████████| 17/17 [00:00<00:00, 849.99it/s]\n",
      "100%|██████████| 17/17 [00:00<00:00, 772.72it/s]\n",
      "100%|██████████| 17/17 [00:00<00:00, 809.54it/s]\n",
      "100%|██████████| 17/17 [00:00<00:00, 772.74it/s]\n",
      "100%|██████████| 17/17 [00:00<00:00, 753.41it/s]\n",
      "100%|██████████| 17/17 [00:00<00:00, 772.72it/s]\n",
      "100%|██████████| 17/17 [00:00<00:00, 739.14it/s]\n",
      "100%|██████████| 17/17 [00:00<00:00, 772.69it/s]\n",
      "100%|██████████| 17/17 [00:00<00:00, 809.52it/s]\n"
     ]
    },
    {
     "name": "stdout",
     "output_type": "stream",
     "text": [
      "Epoch [861/6000]: Train loss: 5.1226, Valid loss: 4.6890\n"
     ]
    },
    {
     "name": "stderr",
     "output_type": "stream",
     "text": [
      "100%|██████████| 17/17 [00:00<00:00, 708.32it/s]\n",
      "100%|██████████| 17/17 [00:00<00:00, 772.70it/s]\n",
      "100%|██████████| 17/17 [00:00<00:00, 548.39it/s]\n",
      "100%|██████████| 17/17 [00:00<00:00, 772.72it/s]\n",
      "100%|██████████| 17/17 [00:00<00:00, 772.74it/s]\n",
      "100%|██████████| 17/17 [00:00<00:00, 772.72it/s]\n",
      "100%|██████████| 17/17 [00:00<00:00, 772.76it/s]\n",
      "100%|██████████| 17/17 [00:00<00:00, 780.34it/s]\n",
      "100%|██████████| 17/17 [00:00<00:00, 809.51it/s]\n",
      "100%|██████████| 17/17 [00:00<00:00, 825.98it/s]\n",
      "100%|██████████| 17/17 [00:00<00:00, 772.73it/s]\n",
      "100%|██████████| 17/17 [00:00<00:00, 850.05it/s]\n",
      "100%|██████████| 17/17 [00:00<00:00, 772.77it/s]\n",
      "100%|██████████| 17/17 [00:00<00:00, 853.76it/s]\n",
      "100%|██████████| 17/17 [00:00<00:00, 809.55it/s]\n",
      "100%|██████████| 17/17 [00:00<00:00, 849.98it/s]\n",
      "100%|██████████| 17/17 [00:00<00:00, 850.01it/s]\n",
      "100%|██████████| 17/17 [00:00<00:00, 809.37it/s]\n",
      "100%|██████████| 17/17 [00:00<00:00, 809.53it/s]\n",
      "100%|██████████| 17/17 [00:00<00:00, 810.00it/s]\n"
     ]
    },
    {
     "name": "stdout",
     "output_type": "stream",
     "text": [
      "Epoch [881/6000]: Train loss: 5.0407, Valid loss: 4.9719\n"
     ]
    },
    {
     "name": "stderr",
     "output_type": "stream",
     "text": [
      "100%|██████████| 17/17 [00:00<00:00, 809.56it/s]\n",
      "100%|██████████| 17/17 [00:00<00:00, 809.53it/s]\n",
      "100%|██████████| 17/17 [00:00<00:00, 849.99it/s]\n",
      "100%|██████████| 17/17 [00:00<00:00, 772.76it/s]\n",
      "100%|██████████| 17/17 [00:00<00:00, 809.52it/s]\n",
      "100%|██████████| 17/17 [00:00<00:00, 809.53it/s]\n",
      "100%|██████████| 17/17 [00:00<00:00, 809.53it/s]\n",
      "100%|██████████| 17/17 [00:00<00:00, 809.51it/s]\n",
      "100%|██████████| 17/17 [00:00<00:00, 849.98it/s]\n"
     ]
    },
    {
     "name": "stdout",
     "output_type": "stream",
     "text": [
      "Saving model with loss 4.549...\n"
     ]
    },
    {
     "name": "stderr",
     "output_type": "stream",
     "text": [
      "100%|██████████| 17/17 [00:00<00:00, 809.51it/s]\n",
      "100%|██████████| 17/17 [00:00<00:00, 849.97it/s]\n",
      "100%|██████████| 17/17 [00:00<00:00, 827.43it/s]\n",
      "100%|██████████| 17/17 [00:00<00:00, 837.16it/s]\n",
      "100%|██████████| 17/17 [00:00<00:00, 850.01it/s]\n",
      "100%|██████████| 17/17 [00:00<00:00, 650.36it/s]\n",
      "100%|██████████| 17/17 [00:00<00:00, 809.53it/s]\n",
      "100%|██████████| 17/17 [00:00<00:00, 849.97it/s]\n",
      "100%|██████████| 17/17 [00:00<00:00, 799.60it/s]\n",
      "100%|██████████| 17/17 [00:00<00:00, 850.02it/s]\n",
      "100%|██████████| 17/17 [00:00<00:00, 708.34it/s]\n"
     ]
    },
    {
     "name": "stdout",
     "output_type": "stream",
     "text": [
      "Epoch [901/6000]: Train loss: 4.9676, Valid loss: 4.9437\n"
     ]
    },
    {
     "name": "stderr",
     "output_type": "stream",
     "text": [
      "100%|██████████| 17/17 [00:00<00:00, 772.73it/s]\n",
      "100%|██████████| 17/17 [00:00<00:00, 708.33it/s]\n",
      "100%|██████████| 17/17 [00:00<00:00, 850.00it/s]\n"
     ]
    },
    {
     "name": "stdout",
     "output_type": "stream",
     "text": [
      "Saving model with loss 4.529...\n"
     ]
    },
    {
     "name": "stderr",
     "output_type": "stream",
     "text": [
      "100%|██████████| 17/17 [00:00<00:00, 809.51it/s]\n",
      "100%|██████████| 17/17 [00:00<00:00, 849.97it/s]\n",
      "100%|██████████| 17/17 [00:00<00:00, 772.74it/s]\n",
      "100%|██████████| 17/17 [00:00<00:00, 809.55it/s]\n",
      "100%|██████████| 17/17 [00:00<00:00, 793.55it/s]\n",
      "100%|██████████| 17/17 [00:00<00:00, 809.51it/s]\n",
      "100%|██████████| 17/17 [00:00<00:00, 679.99it/s]\n",
      "100%|██████████| 17/17 [00:00<00:00, 772.72it/s]\n",
      "100%|██████████| 17/17 [00:00<00:00, 809.55it/s]\n",
      "100%|██████████| 17/17 [00:00<00:00, 850.00it/s]\n",
      "100%|██████████| 17/17 [00:00<00:00, 850.03it/s]\n",
      "100%|██████████| 17/17 [00:00<00:00, 850.00it/s]\n",
      "100%|██████████| 17/17 [00:00<00:00, 850.03it/s]\n",
      "100%|██████████| 17/17 [00:00<00:00, 850.01it/s]\n",
      "100%|██████████| 17/17 [00:00<00:00, 809.53it/s]\n",
      "100%|██████████| 17/17 [00:00<00:00, 809.52it/s]\n",
      "100%|██████████| 17/17 [00:00<00:00, 809.55it/s]\n"
     ]
    },
    {
     "name": "stdout",
     "output_type": "stream",
     "text": [
      "Epoch [921/6000]: Train loss: 4.8837, Valid loss: 4.9856\n"
     ]
    },
    {
     "name": "stderr",
     "output_type": "stream",
     "text": [
      "100%|██████████| 17/17 [00:00<00:00, 850.03it/s]\n",
      "100%|██████████| 17/17 [00:00<00:00, 850.01it/s]\n",
      "100%|██████████| 17/17 [00:00<00:00, 850.03it/s]\n",
      "100%|██████████| 17/17 [00:00<00:00, 848.65it/s]\n",
      "100%|██████████| 17/17 [00:00<00:00, 809.53it/s]\n",
      "100%|██████████| 17/17 [00:00<00:00, 739.11it/s]\n",
      "100%|██████████| 17/17 [00:00<00:00, 809.52it/s]\n",
      "100%|██████████| 17/17 [00:00<00:00, 779.69it/s]\n",
      "100%|██████████| 17/17 [00:00<00:00, 775.67it/s]\n",
      "100%|██████████| 17/17 [00:00<00:00, 850.01it/s]\n",
      "100%|██████████| 17/17 [00:00<00:00, 809.51it/s]\n",
      "100%|██████████| 17/17 [00:00<00:00, 809.52it/s]\n",
      "100%|██████████| 17/17 [00:00<00:00, 809.53it/s]\n",
      "100%|██████████| 17/17 [00:00<00:00, 877.86it/s]\n",
      "100%|██████████| 17/17 [00:00<00:00, 832.46it/s]\n",
      "100%|██████████| 17/17 [00:00<00:00, 809.52it/s]\n",
      "100%|██████████| 17/17 [00:00<00:00, 894.73it/s]\n",
      "100%|██████████| 17/17 [00:00<00:00, 849.97it/s]\n",
      "100%|██████████| 17/17 [00:00<00:00, 894.75it/s]\n"
     ]
    },
    {
     "name": "stdout",
     "output_type": "stream",
     "text": [
      "Saving model with loss 4.506...\n"
     ]
    },
    {
     "name": "stderr",
     "output_type": "stream",
     "text": [
      "100%|██████████| 17/17 [00:00<00:00, 850.00it/s]\n"
     ]
    },
    {
     "name": "stdout",
     "output_type": "stream",
     "text": [
      "Epoch [941/6000]: Train loss: 4.7938, Valid loss: 5.1741\n"
     ]
    },
    {
     "name": "stderr",
     "output_type": "stream",
     "text": [
      "100%|██████████| 17/17 [00:00<00:00, 850.02it/s]\n",
      "100%|██████████| 17/17 [00:00<00:00, 850.00it/s]\n",
      "100%|██████████| 17/17 [00:00<00:00, 809.53it/s]\n"
     ]
    },
    {
     "name": "stdout",
     "output_type": "stream",
     "text": [
      "Saving model with loss 4.387...\n"
     ]
    },
    {
     "name": "stderr",
     "output_type": "stream",
     "text": [
      "100%|██████████| 17/17 [00:00<00:00, 849.96it/s]\n",
      "100%|██████████| 17/17 [00:00<00:00, 809.54it/s]\n",
      "100%|██████████| 17/17 [00:00<00:00, 772.74it/s]\n",
      "100%|██████████| 17/17 [00:00<00:00, 849.99it/s]\n",
      "100%|██████████| 17/17 [00:00<00:00, 809.50it/s]\n",
      "100%|██████████| 17/17 [00:00<00:00, 850.01it/s]\n",
      "100%|██████████| 17/17 [00:00<00:00, 809.50it/s]\n",
      "100%|██████████| 17/17 [00:00<00:00, 787.71it/s]\n",
      "100%|██████████| 17/17 [00:00<00:00, 894.77it/s]\n",
      "100%|██████████| 17/17 [00:00<00:00, 850.06it/s]\n",
      "100%|██████████| 17/17 [00:00<00:00, 854.07it/s]\n",
      "100%|██████████| 17/17 [00:00<00:00, 894.72it/s]\n"
     ]
    },
    {
     "name": "stdout",
     "output_type": "stream",
     "text": [
      "Saving model with loss 4.382...\n"
     ]
    },
    {
     "name": "stderr",
     "output_type": "stream",
     "text": [
      "100%|██████████| 17/17 [00:00<00:00, 894.72it/s]\n",
      "100%|██████████| 17/17 [00:00<00:00, 800.41it/s]\n",
      "100%|██████████| 17/17 [00:00<00:00, 788.64it/s]\n",
      "100%|██████████| 17/17 [00:00<00:00, 893.06it/s]\n",
      "100%|██████████| 17/17 [00:00<00:00, 894.72it/s]\n"
     ]
    },
    {
     "name": "stdout",
     "output_type": "stream",
     "text": [
      "Epoch [961/6000]: Train loss: 4.7172, Valid loss: 4.4524\n"
     ]
    },
    {
     "name": "stderr",
     "output_type": "stream",
     "text": [
      "100%|██████████| 17/17 [00:00<00:00, 850.04it/s]\n",
      "100%|██████████| 17/17 [00:00<00:00, 849.98it/s]\n",
      "100%|██████████| 17/17 [00:00<00:00, 849.97it/s]\n",
      "100%|██████████| 17/17 [00:00<00:00, 869.29it/s]\n",
      "100%|██████████| 17/17 [00:00<00:00, 850.01it/s]\n",
      "100%|██████████| 17/17 [00:00<00:00, 850.00it/s]\n",
      "100%|██████████| 17/17 [00:00<00:00, 850.00it/s]\n"
     ]
    },
    {
     "name": "stdout",
     "output_type": "stream",
     "text": [
      "Saving model with loss 4.263...\n"
     ]
    },
    {
     "name": "stderr",
     "output_type": "stream",
     "text": [
      "100%|██████████| 17/17 [00:00<00:00, 772.77it/s]\n",
      "100%|██████████| 17/17 [00:00<00:00, 849.99it/s]\n",
      "100%|██████████| 17/17 [00:00<00:00, 809.55it/s]\n",
      "100%|██████████| 17/17 [00:00<00:00, 772.68it/s]\n",
      "100%|██████████| 17/17 [00:00<00:00, 821.86it/s]\n",
      "100%|██████████| 17/17 [00:00<00:00, 850.01it/s]\n",
      "100%|██████████| 17/17 [00:00<00:00, 849.98it/s]\n",
      "100%|██████████| 17/17 [00:00<00:00, 894.70it/s]\n",
      "100%|██████████| 17/17 [00:00<00:00, 809.55it/s]\n"
     ]
    },
    {
     "name": "stdout",
     "output_type": "stream",
     "text": [
      "Saving model with loss 4.253...\n"
     ]
    },
    {
     "name": "stderr",
     "output_type": "stream",
     "text": [
      "100%|██████████| 17/17 [00:00<00:00, 809.45it/s]\n",
      "100%|██████████| 17/17 [00:00<00:00, 849.99it/s]\n",
      "100%|██████████| 17/17 [00:00<00:00, 772.72it/s]\n",
      "100%|██████████| 17/17 [00:00<00:00, 809.51it/s]\n"
     ]
    },
    {
     "name": "stdout",
     "output_type": "stream",
     "text": [
      "Epoch [981/6000]: Train loss: 4.6423, Valid loss: 4.3242\n"
     ]
    },
    {
     "name": "stderr",
     "output_type": "stream",
     "text": [
      "100%|██████████| 17/17 [00:00<00:00, 849.99it/s]\n",
      "100%|██████████| 17/17 [00:00<00:00, 825.91it/s]\n",
      "100%|██████████| 17/17 [00:00<00:00, 850.00it/s]\n",
      "100%|██████████| 17/17 [00:00<00:00, 809.48it/s]\n",
      "100%|██████████| 17/17 [00:00<00:00, 809.55it/s]\n"
     ]
    },
    {
     "name": "stdout",
     "output_type": "stream",
     "text": [
      "Saving model with loss 4.135...\n"
     ]
    },
    {
     "name": "stderr",
     "output_type": "stream",
     "text": [
      "100%|██████████| 17/17 [00:00<00:00, 772.72it/s]\n",
      "100%|██████████| 17/17 [00:00<00:00, 894.72it/s]\n",
      "100%|██████████| 17/17 [00:00<00:00, 850.01it/s]\n",
      "100%|██████████| 17/17 [00:00<00:00, 809.55it/s]\n"
     ]
    },
    {
     "name": "stdout",
     "output_type": "stream",
     "text": [
      "Saving model with loss 4.133...\n"
     ]
    },
    {
     "name": "stderr",
     "output_type": "stream",
     "text": [
      "100%|██████████| 17/17 [00:00<00:00, 750.99it/s]\n",
      "100%|██████████| 17/17 [00:00<00:00, 809.52it/s]\n",
      "100%|██████████| 17/17 [00:00<00:00, 849.98it/s]\n",
      "100%|██████████| 17/17 [00:00<00:00, 772.73it/s]\n",
      "100%|██████████| 17/17 [00:00<00:00, 850.00it/s]\n",
      "100%|██████████| 17/17 [00:00<00:00, 850.01it/s]\n",
      "100%|██████████| 17/17 [00:00<00:00, 849.99it/s]\n",
      "100%|██████████| 17/17 [00:00<00:00, 809.54it/s]\n",
      "100%|██████████| 17/17 [00:00<00:00, 849.99it/s]\n",
      "100%|██████████| 17/17 [00:00<00:00, 849.99it/s]\n",
      "100%|██████████| 17/17 [00:00<00:00, 850.00it/s]\n"
     ]
    },
    {
     "name": "stdout",
     "output_type": "stream",
     "text": [
      "Epoch [1001/6000]: Train loss: 4.5463, Valid loss: 4.1452\n"
     ]
    },
    {
     "name": "stderr",
     "output_type": "stream",
     "text": [
      "100%|██████████| 17/17 [00:00<00:00, 630.02it/s]\n",
      "100%|██████████| 17/17 [00:00<00:00, 871.35it/s]\n",
      "100%|██████████| 17/17 [00:00<00:00, 850.02it/s]\n",
      "100%|██████████| 17/17 [00:00<00:00, 849.98it/s]\n",
      "100%|██████████| 17/17 [00:00<00:00, 850.01it/s]\n",
      "100%|██████████| 17/17 [00:00<00:00, 851.26it/s]\n",
      "100%|██████████| 17/17 [00:00<00:00, 809.51it/s]\n",
      "100%|██████████| 17/17 [00:00<00:00, 849.97it/s]\n",
      "100%|██████████| 17/17 [00:00<00:00, 850.01it/s]\n",
      "100%|██████████| 17/17 [00:00<00:00, 752.23it/s]\n",
      "100%|██████████| 17/17 [00:00<00:00, 850.01it/s]\n",
      "100%|██████████| 17/17 [00:00<00:00, 809.52it/s]\n",
      "100%|██████████| 17/17 [00:00<00:00, 809.54it/s]\n",
      "100%|██████████| 17/17 [00:00<00:00, 885.27it/s]\n",
      "100%|██████████| 17/17 [00:00<00:00, 894.72it/s]\n",
      "100%|██████████| 17/17 [00:00<00:00, 809.53it/s]\n",
      "100%|██████████| 17/17 [00:00<00:00, 894.73it/s]\n"
     ]
    },
    {
     "name": "stdout",
     "output_type": "stream",
     "text": [
      "Saving model with loss 4.037...\n"
     ]
    },
    {
     "name": "stderr",
     "output_type": "stream",
     "text": [
      "100%|██████████| 17/17 [00:00<00:00, 809.52it/s]\n",
      "100%|██████████| 17/17 [00:00<00:00, 850.00it/s]\n",
      "100%|██████████| 17/17 [00:00<00:00, 850.02it/s]\n"
     ]
    },
    {
     "name": "stdout",
     "output_type": "stream",
     "text": [
      "Epoch [1021/6000]: Train loss: 4.4726, Valid loss: 4.2251\n"
     ]
    },
    {
     "name": "stderr",
     "output_type": "stream",
     "text": [
      "100%|██████████| 17/17 [00:00<00:00, 809.48it/s]\n",
      "100%|██████████| 17/17 [00:00<00:00, 819.04it/s]\n",
      "100%|██████████| 17/17 [00:00<00:00, 819.25it/s]\n",
      "100%|██████████| 17/17 [00:00<00:00, 850.01it/s]\n",
      "100%|██████████| 17/17 [00:00<00:00, 894.71it/s]\n",
      "100%|██████████| 17/17 [00:00<00:00, 845.62it/s]\n",
      "100%|██████████| 17/17 [00:00<00:00, 850.00it/s]\n",
      "100%|██████████| 17/17 [00:00<00:00, 850.01it/s]\n",
      "100%|██████████| 17/17 [00:00<00:00, 894.72it/s]\n",
      "100%|██████████| 17/17 [00:00<00:00, 815.48it/s]\n",
      "100%|██████████| 17/17 [00:00<00:00, 809.52it/s]\n",
      "100%|██████████| 17/17 [00:00<00:00, 894.73it/s]\n"
     ]
    },
    {
     "name": "stdout",
     "output_type": "stream",
     "text": [
      "Saving model with loss 3.959...\n"
     ]
    },
    {
     "name": "stderr",
     "output_type": "stream",
     "text": [
      "100%|██████████| 17/17 [00:00<00:00, 894.76it/s]\n",
      "100%|██████████| 17/17 [00:00<00:00, 838.19it/s]\n",
      "100%|██████████| 17/17 [00:00<00:00, 894.73it/s]\n",
      "100%|██████████| 17/17 [00:00<00:00, 809.50it/s]\n",
      "100%|██████████| 17/17 [00:00<00:00, 809.54it/s]\n",
      "100%|██████████| 17/17 [00:00<00:00, 849.96it/s]\n",
      "100%|██████████| 17/17 [00:00<00:00, 809.52it/s]\n",
      "100%|██████████| 17/17 [00:00<00:00, 850.01it/s]\n"
     ]
    },
    {
     "name": "stdout",
     "output_type": "stream",
     "text": [
      "Epoch [1041/6000]: Train loss: 4.3841, Valid loss: 4.5605\n"
     ]
    },
    {
     "name": "stderr",
     "output_type": "stream",
     "text": [
      "100%|██████████| 17/17 [00:00<00:00, 849.98it/s]\n",
      "100%|██████████| 17/17 [00:00<00:00, 849.94it/s]\n",
      "100%|██████████| 17/17 [00:00<00:00, 809.51it/s]\n"
     ]
    },
    {
     "name": "stdout",
     "output_type": "stream",
     "text": [
      "Saving model with loss 3.925...\n"
     ]
    },
    {
     "name": "stderr",
     "output_type": "stream",
     "text": [
      "100%|██████████| 17/17 [00:00<00:00, 849.99it/s]\n",
      "100%|██████████| 17/17 [00:00<00:00, 849.98it/s]\n"
     ]
    },
    {
     "name": "stdout",
     "output_type": "stream",
     "text": [
      "Saving model with loss 3.910...\n"
     ]
    },
    {
     "name": "stderr",
     "output_type": "stream",
     "text": [
      "100%|██████████| 17/17 [00:00<00:00, 869.44it/s]\n",
      "100%|██████████| 17/17 [00:00<00:00, 772.71it/s]\n",
      "100%|██████████| 17/17 [00:00<00:00, 849.99it/s]\n",
      "100%|██████████| 17/17 [00:00<00:00, 850.00it/s]\n",
      "100%|██████████| 17/17 [00:00<00:00, 809.50it/s]\n",
      "100%|██████████| 17/17 [00:00<00:00, 850.01it/s]\n",
      "100%|██████████| 17/17 [00:00<00:00, 809.55it/s]\n",
      "100%|██████████| 17/17 [00:00<00:00, 894.75it/s]\n",
      "100%|██████████| 17/17 [00:00<00:00, 894.72it/s]\n",
      "100%|██████████| 17/17 [00:00<00:00, 849.98it/s]\n",
      "100%|██████████| 17/17 [00:00<00:00, 849.99it/s]\n",
      "100%|██████████| 17/17 [00:00<00:00, 809.50it/s]\n",
      "100%|██████████| 17/17 [00:00<00:00, 850.01it/s]\n",
      "100%|██████████| 17/17 [00:00<00:00, 894.75it/s]\n"
     ]
    },
    {
     "name": "stdout",
     "output_type": "stream",
     "text": [
      "Saving model with loss 3.892...\n"
     ]
    },
    {
     "name": "stderr",
     "output_type": "stream",
     "text": [
      "100%|██████████| 17/17 [00:00<00:00, 894.73it/s]\n"
     ]
    },
    {
     "name": "stdout",
     "output_type": "stream",
     "text": [
      "Epoch [1061/6000]: Train loss: 4.3030, Valid loss: 3.8640\n",
      "Saving model with loss 3.864...\n"
     ]
    },
    {
     "name": "stderr",
     "output_type": "stream",
     "text": [
      "100%|██████████| 17/17 [00:00<00:00, 853.81it/s]\n",
      "100%|██████████| 17/17 [00:00<00:00, 857.59it/s]\n",
      "100%|██████████| 17/17 [00:00<00:00, 894.76it/s]\n"
     ]
    },
    {
     "name": "stdout",
     "output_type": "stream",
     "text": [
      "Saving model with loss 3.723...\n"
     ]
    },
    {
     "name": "stderr",
     "output_type": "stream",
     "text": [
      "100%|██████████| 17/17 [00:00<00:00, 894.75it/s]\n",
      "100%|██████████| 17/17 [00:00<00:00, 809.54it/s]\n",
      "100%|██████████| 17/17 [00:00<00:00, 894.71it/s]\n",
      "100%|██████████| 17/17 [00:00<00:00, 894.72it/s]\n",
      "100%|██████████| 17/17 [00:00<00:00, 772.72it/s]\n",
      "100%|██████████| 17/17 [00:00<00:00, 849.99it/s]\n",
      "100%|██████████| 17/17 [00:00<00:00, 809.52it/s]\n",
      "100%|██████████| 17/17 [00:00<00:00, 809.55it/s]\n",
      "100%|██████████| 17/17 [00:00<00:00, 809.52it/s]\n",
      "100%|██████████| 17/17 [00:00<00:00, 809.53it/s]\n",
      "100%|██████████| 17/17 [00:00<00:00, 849.98it/s]\n",
      "100%|██████████| 17/17 [00:00<00:00, 849.98it/s]\n",
      "100%|██████████| 17/17 [00:00<00:00, 849.95it/s]\n",
      "100%|██████████| 17/17 [00:00<00:00, 849.98it/s]\n",
      "100%|██████████| 17/17 [00:00<00:00, 894.71it/s]\n",
      "100%|██████████| 17/17 [00:00<00:00, 849.99it/s]\n",
      "100%|██████████| 17/17 [00:00<00:00, 849.98it/s]\n"
     ]
    },
    {
     "name": "stdout",
     "output_type": "stream",
     "text": [
      "Epoch [1081/6000]: Train loss: 4.2281, Valid loss: 4.2226\n"
     ]
    },
    {
     "name": "stderr",
     "output_type": "stream",
     "text": [
      "100%|██████████| 17/17 [00:00<00:00, 853.84it/s]\n",
      "100%|██████████| 17/17 [00:00<00:00, 894.73it/s]\n",
      "100%|██████████| 17/17 [00:00<00:00, 894.73it/s]\n",
      "100%|██████████| 17/17 [00:00<00:00, 849.96it/s]\n",
      "100%|██████████| 17/17 [00:00<00:00, 739.12it/s]\n"
     ]
    },
    {
     "name": "stdout",
     "output_type": "stream",
     "text": [
      "Saving model with loss 3.668...\n"
     ]
    },
    {
     "name": "stderr",
     "output_type": "stream",
     "text": [
      "100%|██████████| 17/17 [00:00<00:00, 809.55it/s]\n",
      "100%|██████████| 17/17 [00:00<00:00, 809.52it/s]\n",
      "100%|██████████| 17/17 [00:00<00:00, 894.75it/s]\n",
      "100%|██████████| 17/17 [00:00<00:00, 850.00it/s]\n",
      "100%|██████████| 17/17 [00:00<00:00, 894.73it/s]\n",
      "100%|██████████| 17/17 [00:00<00:00, 809.53it/s]\n",
      "100%|██████████| 17/17 [00:00<00:00, 809.52it/s]\n",
      "100%|██████████| 17/17 [00:00<00:00, 849.97it/s]\n",
      "100%|██████████| 17/17 [00:00<00:00, 849.99it/s]\n",
      "100%|██████████| 17/17 [00:00<00:00, 850.00it/s]\n",
      "100%|██████████| 17/17 [00:00<00:00, 850.01it/s]\n",
      "100%|██████████| 17/17 [00:00<00:00, 894.73it/s]\n",
      "100%|██████████| 17/17 [00:00<00:00, 850.02it/s]\n",
      "100%|██████████| 17/17 [00:00<00:00, 894.72it/s]\n",
      "100%|██████████| 17/17 [00:00<00:00, 894.73it/s]\n"
     ]
    },
    {
     "name": "stdout",
     "output_type": "stream",
     "text": [
      "Epoch [1101/6000]: Train loss: 4.1473, Valid loss: 4.1045\n"
     ]
    },
    {
     "name": "stderr",
     "output_type": "stream",
     "text": [
      "100%|██████████| 17/17 [00:00<00:00, 849.99it/s]\n",
      "100%|██████████| 17/17 [00:00<00:00, 894.73it/s]\n",
      "100%|██████████| 17/17 [00:00<00:00, 850.01it/s]\n",
      "100%|██████████| 17/17 [00:00<00:00, 849.99it/s]\n",
      "100%|██████████| 17/17 [00:00<00:00, 894.73it/s]\n",
      "100%|██████████| 17/17 [00:00<00:00, 894.71it/s]\n",
      "100%|██████████| 17/17 [00:00<00:00, 850.04it/s]\n",
      "100%|██████████| 17/17 [00:00<00:00, 850.00it/s]\n",
      "100%|██████████| 17/17 [00:00<00:00, 894.73it/s]\n",
      "100%|██████████| 17/17 [00:00<00:00, 802.37it/s]\n",
      "100%|██████████| 17/17 [00:00<00:00, 850.06it/s]\n",
      "100%|██████████| 17/17 [00:00<00:00, 894.75it/s]\n",
      "100%|██████████| 17/17 [00:00<00:00, 894.73it/s]\n",
      "100%|██████████| 17/17 [00:00<00:00, 836.99it/s]\n",
      "100%|██████████| 17/17 [00:00<00:00, 894.73it/s]\n",
      "100%|██████████| 17/17 [00:00<00:00, 894.76it/s]\n",
      "100%|██████████| 17/17 [00:00<00:00, 894.71it/s]\n",
      "100%|██████████| 17/17 [00:00<00:00, 679.37it/s]\n",
      "100%|██████████| 17/17 [00:00<00:00, 850.00it/s]\n"
     ]
    },
    {
     "name": "stdout",
     "output_type": "stream",
     "text": [
      "Saving model with loss 3.627...\n"
     ]
    },
    {
     "name": "stderr",
     "output_type": "stream",
     "text": [
      "100%|██████████| 17/17 [00:00<00:00, 849.99it/s]\n"
     ]
    },
    {
     "name": "stdout",
     "output_type": "stream",
     "text": [
      "Epoch [1121/6000]: Train loss: 4.0695, Valid loss: 3.8583\n"
     ]
    },
    {
     "name": "stderr",
     "output_type": "stream",
     "text": [
      "100%|██████████| 17/17 [00:00<00:00, 894.73it/s]\n",
      "100%|██████████| 17/17 [00:00<00:00, 867.02it/s]\n",
      "100%|██████████| 17/17 [00:00<00:00, 894.75it/s]\n",
      "100%|██████████| 17/17 [00:00<00:00, 894.77it/s]\n",
      "100%|██████████| 17/17 [00:00<00:00, 850.01it/s]\n",
      "100%|██████████| 17/17 [00:00<00:00, 850.01it/s]\n",
      "100%|██████████| 17/17 [00:00<00:00, 850.02it/s]\n",
      "100%|██████████| 17/17 [00:00<00:00, 894.76it/s]\n",
      "100%|██████████| 17/17 [00:00<00:00, 849.98it/s]\n",
      "100%|██████████| 17/17 [00:00<00:00, 850.02it/s]\n",
      "100%|██████████| 17/17 [00:00<00:00, 894.73it/s]\n",
      "100%|██████████| 17/17 [00:00<00:00, 850.00it/s]\n",
      "100%|██████████| 17/17 [00:00<00:00, 849.98it/s]\n",
      "100%|██████████| 17/17 [00:00<00:00, 850.04it/s]\n",
      "100%|██████████| 17/17 [00:00<00:00, 894.75it/s]\n",
      "100%|██████████| 17/17 [00:00<00:00, 809.55it/s]\n",
      "100%|██████████| 17/17 [00:00<00:00, 850.01it/s]\n",
      "100%|██████████| 17/17 [00:00<00:00, 894.77it/s]\n",
      "100%|██████████| 17/17 [00:00<00:00, 849.98it/s]\n",
      "100%|██████████| 17/17 [00:00<00:00, 850.02it/s]\n"
     ]
    },
    {
     "name": "stdout",
     "output_type": "stream",
     "text": [
      "Epoch [1141/6000]: Train loss: 3.9848, Valid loss: 3.6944\n"
     ]
    },
    {
     "name": "stderr",
     "output_type": "stream",
     "text": [
      "100%|██████████| 17/17 [00:00<00:00, 680.00it/s]\n",
      "100%|██████████| 17/17 [00:00<00:00, 875.20it/s]\n",
      "100%|██████████| 17/17 [00:00<00:00, 894.72it/s]\n",
      "100%|██████████| 17/17 [00:00<00:00, 849.99it/s]\n",
      "100%|██████████| 17/17 [00:00<00:00, 894.72it/s]\n",
      "100%|██████████| 17/17 [00:00<00:00, 849.98it/s]\n",
      "100%|██████████| 17/17 [00:00<00:00, 894.75it/s]\n"
     ]
    },
    {
     "name": "stdout",
     "output_type": "stream",
     "text": [
      "Saving model with loss 3.509...\n"
     ]
    },
    {
     "name": "stderr",
     "output_type": "stream",
     "text": [
      "100%|██████████| 17/17 [00:00<00:00, 894.76it/s]\n",
      "100%|██████████| 17/17 [00:00<00:00, 894.73it/s]\n",
      "100%|██████████| 17/17 [00:00<00:00, 783.34it/s]\n",
      "100%|██████████| 17/17 [00:00<00:00, 894.75it/s]\n",
      "100%|██████████| 17/17 [00:00<00:00, 894.71it/s]\n",
      "100%|██████████| 17/17 [00:00<00:00, 904.61it/s]\n",
      "100%|██████████| 17/17 [00:00<00:00, 849.98it/s]\n",
      "100%|██████████| 17/17 [00:00<00:00, 894.76it/s]\n",
      "100%|██████████| 17/17 [00:00<00:00, 894.72it/s]\n",
      "100%|██████████| 17/17 [00:00<00:00, 809.53it/s]\n",
      "100%|██████████| 17/17 [00:00<00:00, 894.72it/s]\n",
      "100%|██████████| 17/17 [00:00<00:00, 849.98it/s]\n",
      "100%|██████████| 17/17 [00:00<00:00, 894.75it/s]\n"
     ]
    },
    {
     "name": "stdout",
     "output_type": "stream",
     "text": [
      "Epoch [1161/6000]: Train loss: 3.9181, Valid loss: 3.7232\n"
     ]
    },
    {
     "name": "stderr",
     "output_type": "stream",
     "text": [
      "100%|██████████| 17/17 [00:00<00:00, 833.08it/s]\n",
      "100%|██████████| 17/17 [00:00<00:00, 944.46it/s]\n",
      "100%|██████████| 17/17 [00:00<00:00, 809.51it/s]\n",
      "100%|██████████| 17/17 [00:00<00:00, 894.73it/s]\n",
      "100%|██████████| 17/17 [00:00<00:00, 894.73it/s]\n",
      "100%|██████████| 17/17 [00:00<00:00, 894.73it/s]\n",
      "100%|██████████| 17/17 [00:00<00:00, 894.73it/s]\n",
      "100%|██████████| 17/17 [00:00<00:00, 850.00it/s]\n",
      "100%|██████████| 17/17 [00:00<00:00, 894.72it/s]\n",
      "100%|██████████| 17/17 [00:00<00:00, 850.01it/s]\n",
      "100%|██████████| 17/17 [00:00<00:00, 849.99it/s]\n",
      "100%|██████████| 17/17 [00:00<00:00, 894.75it/s]\n",
      "100%|██████████| 17/17 [00:00<00:00, 850.01it/s]\n",
      "100%|██████████| 17/17 [00:00<00:00, 849.99it/s]\n",
      "100%|██████████| 17/17 [00:00<00:00, 894.71it/s]\n",
      "100%|██████████| 17/17 [00:00<00:00, 849.98it/s]\n",
      "100%|██████████| 17/17 [00:00<00:00, 894.73it/s]\n",
      "100%|██████████| 17/17 [00:00<00:00, 894.73it/s]\n",
      "100%|██████████| 17/17 [00:00<00:00, 849.98it/s]\n",
      "100%|██████████| 17/17 [00:00<00:00, 850.02it/s]\n"
     ]
    },
    {
     "name": "stdout",
     "output_type": "stream",
     "text": [
      "Epoch [1181/6000]: Train loss: 3.8352, Valid loss: 4.6625\n"
     ]
    },
    {
     "name": "stderr",
     "output_type": "stream",
     "text": [
      "100%|██████████| 17/17 [00:00<00:00, 850.00it/s]\n"
     ]
    },
    {
     "name": "stdout",
     "output_type": "stream",
     "text": [
      "Saving model with loss 3.482...\n"
     ]
    },
    {
     "name": "stderr",
     "output_type": "stream",
     "text": [
      "100%|██████████| 17/17 [00:00<00:00, 679.98it/s]\n",
      "100%|██████████| 17/17 [00:00<00:00, 894.76it/s]\n",
      "100%|██████████| 17/17 [00:00<00:00, 894.75it/s]\n",
      "100%|██████████| 17/17 [00:00<00:00, 894.75it/s]\n",
      "100%|██████████| 17/17 [00:00<00:00, 849.98it/s]\n",
      "100%|██████████| 17/17 [00:00<00:00, 894.70it/s]\n",
      "100%|██████████| 17/17 [00:00<00:00, 739.14it/s]\n",
      "100%|██████████| 17/17 [00:00<00:00, 850.01it/s]\n",
      "100%|██████████| 17/17 [00:00<00:00, 894.73it/s]\n",
      "100%|██████████| 17/17 [00:00<00:00, 874.22it/s]\n",
      "100%|██████████| 17/17 [00:00<00:00, 894.71it/s]\n",
      "100%|██████████| 17/17 [00:00<00:00, 894.72it/s]\n",
      "100%|██████████| 17/17 [00:00<00:00, 894.73it/s]\n",
      "100%|██████████| 17/17 [00:00<00:00, 894.71it/s]\n"
     ]
    },
    {
     "name": "stdout",
     "output_type": "stream",
     "text": [
      "Saving model with loss 3.481...\n"
     ]
    },
    {
     "name": "stderr",
     "output_type": "stream",
     "text": [
      "100%|██████████| 17/17 [00:00<00:00, 894.76it/s]\n",
      "100%|██████████| 17/17 [00:00<00:00, 849.98it/s]\n",
      "100%|██████████| 17/17 [00:00<00:00, 850.02it/s]\n"
     ]
    },
    {
     "name": "stdout",
     "output_type": "stream",
     "text": [
      "Saving model with loss 3.401...\n"
     ]
    },
    {
     "name": "stderr",
     "output_type": "stream",
     "text": [
      "100%|██████████| 17/17 [00:00<00:00, 739.15it/s]\n",
      "100%|██████████| 17/17 [00:00<00:00, 894.75it/s]\n"
     ]
    },
    {
     "name": "stdout",
     "output_type": "stream",
     "text": [
      "Epoch [1201/6000]: Train loss: 3.7550, Valid loss: 3.4547\n"
     ]
    },
    {
     "name": "stderr",
     "output_type": "stream",
     "text": [
      "100%|██████████| 17/17 [00:00<00:00, 894.73it/s]\n",
      "100%|██████████| 17/17 [00:00<00:00, 894.75it/s]\n",
      "100%|██████████| 17/17 [00:00<00:00, 850.01it/s]\n",
      "100%|██████████| 17/17 [00:00<00:00, 904.69it/s]\n",
      "100%|██████████| 17/17 [00:00<00:00, 894.71it/s]\n",
      "100%|██████████| 17/17 [00:00<00:00, 862.94it/s]\n",
      "100%|██████████| 17/17 [00:00<00:00, 856.02it/s]\n",
      "100%|██████████| 17/17 [00:00<00:00, 809.52it/s]\n"
     ]
    },
    {
     "name": "stdout",
     "output_type": "stream",
     "text": [
      "Saving model with loss 3.382...\n"
     ]
    },
    {
     "name": "stderr",
     "output_type": "stream",
     "text": [
      "100%|██████████| 17/17 [00:00<00:00, 849.97it/s]\n",
      "100%|██████████| 17/17 [00:00<00:00, 849.99it/s]\n",
      "100%|██████████| 17/17 [00:00<00:00, 894.76it/s]\n",
      "100%|██████████| 17/17 [00:00<00:00, 850.00it/s]\n",
      "100%|██████████| 17/17 [00:00<00:00, 894.76it/s]\n",
      "100%|██████████| 17/17 [00:00<00:00, 850.00it/s]\n",
      "100%|██████████| 17/17 [00:00<00:00, 850.02it/s]\n",
      "100%|██████████| 17/17 [00:00<00:00, 894.72it/s]\n",
      "100%|██████████| 17/17 [00:00<00:00, 894.75it/s]\n",
      "100%|██████████| 17/17 [00:00<00:00, 894.73it/s]\n",
      "100%|██████████| 17/17 [00:00<00:00, 894.77it/s]\n",
      "100%|██████████| 17/17 [00:00<00:00, 849.99it/s]\n"
     ]
    },
    {
     "name": "stdout",
     "output_type": "stream",
     "text": [
      "Epoch [1221/6000]: Train loss: 3.6778, Valid loss: 3.4438\n"
     ]
    },
    {
     "name": "stderr",
     "output_type": "stream",
     "text": [
      "100%|██████████| 17/17 [00:00<00:00, 849.99it/s]\n",
      "100%|██████████| 17/17 [00:00<00:00, 850.00it/s]\n",
      "100%|██████████| 17/17 [00:00<00:00, 894.75it/s]\n"
     ]
    },
    {
     "name": "stdout",
     "output_type": "stream",
     "text": [
      "Saving model with loss 3.364...\n"
     ]
    },
    {
     "name": "stderr",
     "output_type": "stream",
     "text": [
      "100%|██████████| 17/17 [00:00<00:00, 894.77it/s]\n",
      "100%|██████████| 17/17 [00:00<00:00, 894.73it/s]\n",
      "100%|██████████| 17/17 [00:00<00:00, 850.01it/s]\n",
      "100%|██████████| 17/17 [00:00<00:00, 850.00it/s]\n"
     ]
    },
    {
     "name": "stdout",
     "output_type": "stream",
     "text": [
      "Saving model with loss 3.285...\n"
     ]
    },
    {
     "name": "stderr",
     "output_type": "stream",
     "text": [
      "100%|██████████| 17/17 [00:00<00:00, 894.76it/s]\n",
      "100%|██████████| 17/17 [00:00<00:00, 849.99it/s]\n",
      "100%|██████████| 17/17 [00:00<00:00, 850.00it/s]\n",
      "100%|██████████| 17/17 [00:00<00:00, 849.99it/s]\n",
      "100%|██████████| 17/17 [00:00<00:00, 850.00it/s]\n",
      "100%|██████████| 17/17 [00:00<00:00, 787.93it/s]\n",
      "100%|██████████| 17/17 [00:00<00:00, 772.73it/s]\n",
      "100%|██████████| 17/17 [00:00<00:00, 849.98it/s]\n",
      "100%|██████████| 17/17 [00:00<00:00, 850.00it/s]\n",
      "100%|██████████| 17/17 [00:00<00:00, 894.75it/s]\n"
     ]
    },
    {
     "name": "stdout",
     "output_type": "stream",
     "text": [
      "Saving model with loss 3.193...\n"
     ]
    },
    {
     "name": "stderr",
     "output_type": "stream",
     "text": [
      "100%|██████████| 17/17 [00:00<00:00, 809.53it/s]\n",
      "100%|██████████| 17/17 [00:00<00:00, 849.99it/s]\n",
      "100%|██████████| 17/17 [00:00<00:00, 894.71it/s]\n"
     ]
    },
    {
     "name": "stdout",
     "output_type": "stream",
     "text": [
      "Epoch [1241/6000]: Train loss: 3.6027, Valid loss: 3.8644\n"
     ]
    },
    {
     "name": "stderr",
     "output_type": "stream",
     "text": [
      "100%|██████████| 17/17 [00:00<00:00, 850.01it/s]\n",
      "100%|██████████| 17/17 [00:00<00:00, 894.76it/s]\n",
      "100%|██████████| 17/17 [00:00<00:00, 850.01it/s]\n",
      "100%|██████████| 17/17 [00:00<00:00, 857.75it/s]\n",
      "100%|██████████| 17/17 [00:00<00:00, 894.70it/s]\n",
      "100%|██████████| 17/17 [00:00<00:00, 894.73it/s]\n",
      "100%|██████████| 17/17 [00:00<00:00, 849.97it/s]\n",
      "100%|██████████| 17/17 [00:00<00:00, 850.01it/s]\n",
      "100%|██████████| 17/17 [00:00<00:00, 849.99it/s]\n",
      "100%|██████████| 17/17 [00:00<00:00, 850.00it/s]\n",
      "100%|██████████| 17/17 [00:00<00:00, 850.00it/s]\n",
      "100%|██████████| 17/17 [00:00<00:00, 944.48it/s]\n",
      "100%|██████████| 17/17 [00:00<00:00, 869.44it/s]\n",
      "100%|██████████| 17/17 [00:00<00:00, 849.99it/s]\n",
      "100%|██████████| 17/17 [00:00<00:00, 894.75it/s]\n",
      "100%|██████████| 17/17 [00:00<00:00, 894.77it/s]\n",
      "100%|██████████| 17/17 [00:00<00:00, 850.00it/s]\n",
      "100%|██████████| 17/17 [00:00<00:00, 894.70it/s]\n",
      "100%|██████████| 17/17 [00:00<00:00, 850.01it/s]\n",
      "100%|██████████| 17/17 [00:00<00:00, 849.99it/s]\n"
     ]
    },
    {
     "name": "stdout",
     "output_type": "stream",
     "text": [
      "Epoch [1261/6000]: Train loss: 3.5274, Valid loss: 3.3153\n"
     ]
    },
    {
     "name": "stderr",
     "output_type": "stream",
     "text": [
      "100%|██████████| 17/17 [00:00<00:00, 850.00it/s]\n",
      "100%|██████████| 17/17 [00:00<00:00, 850.01it/s]\n",
      "100%|██████████| 17/17 [00:00<00:00, 809.54it/s]\n",
      "100%|██████████| 17/17 [00:00<00:00, 850.00it/s]\n",
      "100%|██████████| 17/17 [00:00<00:00, 850.00it/s]\n",
      "100%|██████████| 17/17 [00:00<00:00, 772.72it/s]\n",
      "100%|██████████| 17/17 [00:00<00:00, 708.34it/s]\n",
      "100%|██████████| 17/17 [00:00<00:00, 849.99it/s]\n",
      "100%|██████████| 17/17 [00:00<00:00, 850.00it/s]\n",
      "100%|██████████| 17/17 [00:00<00:00, 894.75it/s]\n",
      "100%|██████████| 17/17 [00:00<00:00, 849.98it/s]\n",
      "100%|██████████| 17/17 [00:00<00:00, 809.53it/s]\n",
      "100%|██████████| 17/17 [00:00<00:00, 849.99it/s]\n",
      "100%|██████████| 17/17 [00:00<00:00, 850.05it/s]\n",
      "100%|██████████| 17/17 [00:00<00:00, 894.75it/s]\n"
     ]
    },
    {
     "name": "stdout",
     "output_type": "stream",
     "text": [
      "Saving model with loss 3.058...\n"
     ]
    },
    {
     "name": "stderr",
     "output_type": "stream",
     "text": [
      "100%|██████████| 17/17 [00:00<00:00, 825.88it/s]\n",
      "100%|██████████| 17/17 [00:00<00:00, 894.75it/s]\n",
      "100%|██████████| 17/17 [00:00<00:00, 850.02it/s]\n",
      "100%|██████████| 17/17 [00:00<00:00, 849.99it/s]\n",
      "100%|██████████| 17/17 [00:00<00:00, 849.00it/s]\n"
     ]
    },
    {
     "name": "stdout",
     "output_type": "stream",
     "text": [
      "Epoch [1281/6000]: Train loss: 3.4488, Valid loss: 3.4499\n"
     ]
    },
    {
     "name": "stderr",
     "output_type": "stream",
     "text": [
      "100%|██████████| 17/17 [00:00<00:00, 894.72it/s]\n",
      "100%|██████████| 17/17 [00:00<00:00, 850.02it/s]\n",
      "100%|██████████| 17/17 [00:00<00:00, 809.51it/s]\n",
      "100%|██████████| 17/17 [00:00<00:00, 803.50it/s]\n",
      "100%|██████████| 17/17 [00:00<00:00, 809.53it/s]\n",
      "100%|██████████| 17/17 [00:00<00:00, 849.99it/s]\n",
      "100%|██████████| 17/17 [00:00<00:00, 850.02it/s]\n",
      "100%|██████████| 17/17 [00:00<00:00, 893.70it/s]\n",
      "100%|██████████| 17/17 [00:00<00:00, 809.53it/s]\n",
      "100%|██████████| 17/17 [00:00<00:00, 894.75it/s]\n",
      "100%|██████████| 17/17 [00:00<00:00, 809.48it/s]\n",
      "100%|██████████| 17/17 [00:00<00:00, 828.45it/s]\n",
      "100%|██████████| 17/17 [00:00<00:00, 850.02it/s]\n",
      "100%|██████████| 17/17 [00:00<00:00, 849.99it/s]\n",
      "100%|██████████| 17/17 [00:00<00:00, 849.97it/s]\n",
      "100%|██████████| 17/17 [00:00<00:00, 894.73it/s]\n",
      "100%|██████████| 17/17 [00:00<00:00, 850.04it/s]\n",
      "100%|██████████| 17/17 [00:00<00:00, 850.00it/s]\n"
     ]
    },
    {
     "name": "stdout",
     "output_type": "stream",
     "text": [
      "Saving model with loss 3.007...\n"
     ]
    },
    {
     "name": "stderr",
     "output_type": "stream",
     "text": [
      "100%|██████████| 17/17 [00:00<00:00, 809.52it/s]\n",
      "100%|██████████| 17/17 [00:00<00:00, 809.53it/s]\n"
     ]
    },
    {
     "name": "stdout",
     "output_type": "stream",
     "text": [
      "Epoch [1301/6000]: Train loss: 3.3741, Valid loss: 3.7676\n"
     ]
    },
    {
     "name": "stderr",
     "output_type": "stream",
     "text": [
      "100%|██████████| 17/17 [00:00<00:00, 850.01it/s]\n",
      "100%|██████████| 17/17 [00:00<00:00, 894.73it/s]\n",
      "100%|██████████| 17/17 [00:00<00:00, 826.90it/s]\n",
      "100%|██████████| 17/17 [00:00<00:00, 894.75it/s]\n",
      "100%|██████████| 17/17 [00:00<00:00, 747.01it/s]\n",
      "100%|██████████| 17/17 [00:00<00:00, 772.72it/s]\n",
      "100%|██████████| 17/17 [00:00<00:00, 850.03it/s]\n",
      "100%|██████████| 17/17 [00:00<00:00, 821.67it/s]\n",
      "100%|██████████| 17/17 [00:00<00:00, 894.75it/s]\n",
      "100%|██████████| 17/17 [00:00<00:00, 850.00it/s]\n",
      "100%|██████████| 17/17 [00:00<00:00, 850.01it/s]\n",
      "100%|██████████| 17/17 [00:00<00:00, 849.77it/s]\n",
      "100%|██████████| 17/17 [00:00<00:00, 894.78it/s]\n",
      "100%|██████████| 17/17 [00:00<00:00, 850.02it/s]\n",
      "100%|██████████| 17/17 [00:00<00:00, 809.52it/s]\n",
      "100%|██████████| 17/17 [00:00<00:00, 850.00it/s]\n",
      "100%|██████████| 17/17 [00:00<00:00, 850.01it/s]\n",
      "100%|██████████| 17/17 [00:00<00:00, 894.70it/s]\n",
      "100%|██████████| 17/17 [00:00<00:00, 850.02it/s]\n"
     ]
    },
    {
     "name": "stdout",
     "output_type": "stream",
     "text": [
      "Saving model with loss 2.978...\n"
     ]
    },
    {
     "name": "stderr",
     "output_type": "stream",
     "text": [
      "100%|██████████| 17/17 [00:00<00:00, 879.79it/s]\n"
     ]
    },
    {
     "name": "stdout",
     "output_type": "stream",
     "text": [
      "Epoch [1321/6000]: Train loss: 3.3022, Valid loss: 3.1981\n"
     ]
    },
    {
     "name": "stderr",
     "output_type": "stream",
     "text": [
      "100%|██████████| 17/17 [00:00<00:00, 849.98it/s]\n",
      "100%|██████████| 17/17 [00:00<00:00, 849.99it/s]\n",
      "100%|██████████| 17/17 [00:00<00:00, 850.00it/s]\n",
      "100%|██████████| 17/17 [00:00<00:00, 855.43it/s]\n",
      "100%|██████████| 17/17 [00:00<00:00, 894.71it/s]\n",
      "100%|██████████| 17/17 [00:00<00:00, 819.11it/s]\n",
      "100%|██████████| 17/17 [00:00<00:00, 894.73it/s]\n",
      "100%|██████████| 17/17 [00:00<00:00, 791.16it/s]\n",
      "100%|██████████| 17/17 [00:00<00:00, 768.42it/s]\n",
      "100%|██████████| 17/17 [00:00<00:00, 850.00it/s]\n",
      "100%|██████████| 17/17 [00:00<00:00, 772.73it/s]\n",
      "100%|██████████| 17/17 [00:00<00:00, 839.49it/s]\n",
      "100%|██████████| 17/17 [00:00<00:00, 850.00it/s]\n",
      "100%|██████████| 17/17 [00:00<00:00, 894.76it/s]\n",
      "100%|██████████| 17/17 [00:00<00:00, 809.52it/s]\n",
      "100%|██████████| 17/17 [00:00<00:00, 894.55it/s]\n",
      "100%|██████████| 17/17 [00:00<00:00, 894.75it/s]\n"
     ]
    },
    {
     "name": "stdout",
     "output_type": "stream",
     "text": [
      "Saving model with loss 2.921...\n"
     ]
    },
    {
     "name": "stderr",
     "output_type": "stream",
     "text": [
      "100%|██████████| 17/17 [00:00<00:00, 894.71it/s]\n",
      "100%|██████████| 17/17 [00:00<00:00, 850.01it/s]\n",
      "100%|██████████| 17/17 [00:00<00:00, 894.73it/s]\n"
     ]
    },
    {
     "name": "stdout",
     "output_type": "stream",
     "text": [
      "Epoch [1341/6000]: Train loss: 3.2380, Valid loss: 3.2502\n"
     ]
    },
    {
     "name": "stderr",
     "output_type": "stream",
     "text": [
      "100%|██████████| 17/17 [00:00<00:00, 850.02it/s]\n",
      "100%|██████████| 17/17 [00:00<00:00, 850.01it/s]\n",
      "100%|██████████| 17/17 [00:00<00:00, 849.98it/s]\n",
      "100%|██████████| 17/17 [00:00<00:00, 894.78it/s]\n",
      "100%|██████████| 17/17 [00:00<00:00, 854.11it/s]\n",
      "100%|██████████| 17/17 [00:00<00:00, 894.73it/s]\n",
      "100%|██████████| 17/17 [00:00<00:00, 894.75it/s]\n"
     ]
    },
    {
     "name": "stdout",
     "output_type": "stream",
     "text": [
      "Saving model with loss 2.805...\n"
     ]
    },
    {
     "name": "stderr",
     "output_type": "stream",
     "text": [
      "100%|██████████| 17/17 [00:00<00:00, 850.01it/s]\n"
     ]
    },
    {
     "name": "stdout",
     "output_type": "stream",
     "text": [
      "Saving model with loss 2.804...\n"
     ]
    },
    {
     "name": "stderr",
     "output_type": "stream",
     "text": [
      "100%|██████████| 17/17 [00:00<00:00, 739.14it/s]\n",
      "100%|██████████| 17/17 [00:00<00:00, 894.73it/s]\n",
      "100%|██████████| 17/17 [00:00<00:00, 894.79it/s]\n",
      "100%|██████████| 17/17 [00:00<00:00, 888.27it/s]\n",
      "100%|██████████| 17/17 [00:00<00:00, 849.95it/s]\n",
      "100%|██████████| 17/17 [00:00<00:00, 850.00it/s]\n",
      "100%|██████████| 17/17 [00:00<00:00, 850.00it/s]\n",
      "100%|██████████| 17/17 [00:00<00:00, 849.97it/s]\n",
      "100%|██████████| 17/17 [00:00<00:00, 850.00it/s]\n",
      "100%|██████████| 17/17 [00:00<00:00, 849.98it/s]\n",
      "100%|██████████| 17/17 [00:00<00:00, 850.00it/s]\n",
      "100%|██████████| 17/17 [00:00<00:00, 894.75it/s]\n"
     ]
    },
    {
     "name": "stdout",
     "output_type": "stream",
     "text": [
      "Epoch [1361/6000]: Train loss: 3.1706, Valid loss: 2.9327\n"
     ]
    },
    {
     "name": "stderr",
     "output_type": "stream",
     "text": [
      "100%|██████████| 17/17 [00:00<00:00, 850.01it/s]\n",
      "100%|██████████| 17/17 [00:00<00:00, 849.99it/s]\n",
      "100%|██████████| 17/17 [00:00<00:00, 894.72it/s]\n",
      "100%|██████████| 17/17 [00:00<00:00, 850.02it/s]\n",
      "100%|██████████| 17/17 [00:00<00:00, 850.01it/s]\n",
      "100%|██████████| 17/17 [00:00<00:00, 894.71it/s]\n"
     ]
    },
    {
     "name": "stdout",
     "output_type": "stream",
     "text": [
      "Saving model with loss 2.735...\n"
     ]
    },
    {
     "name": "stderr",
     "output_type": "stream",
     "text": [
      "100%|██████████| 17/17 [00:00<00:00, 894.76it/s]\n",
      "100%|██████████| 17/17 [00:00<00:00, 894.76it/s]\n",
      "100%|██████████| 17/17 [00:00<00:00, 850.00it/s]\n",
      "100%|██████████| 17/17 [00:00<00:00, 809.54it/s]\n",
      "100%|██████████| 17/17 [00:00<00:00, 894.73it/s]\n",
      "100%|██████████| 17/17 [00:00<00:00, 849.98it/s]\n",
      "100%|██████████| 17/17 [00:00<00:00, 850.00it/s]\n",
      "100%|██████████| 17/17 [00:00<00:00, 850.00it/s]\n",
      "100%|██████████| 17/17 [00:00<00:00, 849.97it/s]\n",
      "100%|██████████| 17/17 [00:00<00:00, 894.73it/s]\n",
      "100%|██████████| 17/17 [00:00<00:00, 849.96it/s]\n",
      "100%|██████████| 17/17 [00:00<00:00, 894.77it/s]\n",
      "100%|██████████| 17/17 [00:00<00:00, 850.02it/s]\n",
      "100%|██████████| 17/17 [00:00<00:00, 894.75it/s]\n"
     ]
    },
    {
     "name": "stdout",
     "output_type": "stream",
     "text": [
      "Epoch [1381/6000]: Train loss: 3.1091, Valid loss: 2.9697\n"
     ]
    },
    {
     "name": "stderr",
     "output_type": "stream",
     "text": [
      "100%|██████████| 17/17 [00:00<00:00, 850.00it/s]\n",
      "100%|██████████| 17/17 [00:00<00:00, 850.01it/s]\n",
      "100%|██████████| 17/17 [00:00<00:00, 850.03it/s]\n",
      "100%|██████████| 17/17 [00:00<00:00, 809.54it/s]\n",
      "100%|██████████| 17/17 [00:00<00:00, 849.99it/s]\n",
      "100%|██████████| 17/17 [00:00<00:00, 850.03it/s]\n",
      "100%|██████████| 17/17 [00:00<00:00, 894.73it/s]\n",
      "100%|██████████| 17/17 [00:00<00:00, 894.72it/s]\n",
      "100%|██████████| 17/17 [00:00<00:00, 894.73it/s]\n",
      "100%|██████████| 17/17 [00:00<00:00, 849.99it/s]\n"
     ]
    },
    {
     "name": "stdout",
     "output_type": "stream",
     "text": [
      "Saving model with loss 2.703...\n"
     ]
    },
    {
     "name": "stderr",
     "output_type": "stream",
     "text": [
      "100%|██████████| 17/17 [00:00<00:00, 849.99it/s]\n",
      "100%|██████████| 17/17 [00:00<00:00, 850.00it/s]\n",
      "100%|██████████| 17/17 [00:00<00:00, 894.73it/s]\n",
      "100%|██████████| 17/17 [00:00<00:00, 849.99it/s]\n",
      "100%|██████████| 17/17 [00:00<00:00, 850.00it/s]\n",
      "100%|██████████| 17/17 [00:00<00:00, 850.01it/s]\n",
      "100%|██████████| 17/17 [00:00<00:00, 894.72it/s]\n",
      "100%|██████████| 17/17 [00:00<00:00, 850.00it/s]\n",
      "100%|██████████| 17/17 [00:00<00:00, 809.51it/s]\n",
      "100%|██████████| 17/17 [00:00<00:00, 809.54it/s]\n"
     ]
    },
    {
     "name": "stdout",
     "output_type": "stream",
     "text": [
      "Epoch [1401/6000]: Train loss: 3.0418, Valid loss: 3.1521\n"
     ]
    },
    {
     "name": "stderr",
     "output_type": "stream",
     "text": [
      "100%|██████████| 17/17 [00:00<00:00, 809.53it/s]\n",
      "100%|██████████| 17/17 [00:00<00:00, 894.73it/s]\n",
      "100%|██████████| 17/17 [00:00<00:00, 894.70it/s]\n",
      "100%|██████████| 17/17 [00:00<00:00, 850.01it/s]\n",
      "100%|██████████| 17/17 [00:00<00:00, 894.71it/s]\n",
      "100%|██████████| 17/17 [00:00<00:00, 855.93it/s]\n",
      "100%|██████████| 17/17 [00:00<00:00, 850.01it/s]\n",
      "100%|██████████| 17/17 [00:00<00:00, 826.03it/s]\n",
      "100%|██████████| 17/17 [00:00<00:00, 894.75it/s]\n",
      "100%|██████████| 17/17 [00:00<00:00, 653.83it/s]\n",
      "100%|██████████| 17/17 [00:00<00:00, 800.49it/s]\n",
      "100%|██████████| 17/17 [00:00<00:00, 850.01it/s]\n",
      "100%|██████████| 17/17 [00:00<00:00, 894.72it/s]\n",
      "100%|██████████| 17/17 [00:00<00:00, 798.62it/s]\n"
     ]
    },
    {
     "name": "stdout",
     "output_type": "stream",
     "text": [
      "Saving model with loss 2.664...\n"
     ]
    },
    {
     "name": "stderr",
     "output_type": "stream",
     "text": [
      "100%|██████████| 17/17 [00:00<00:00, 850.00it/s]\n",
      "100%|██████████| 17/17 [00:00<00:00, 867.44it/s]\n",
      "100%|██████████| 17/17 [00:00<00:00, 809.52it/s]\n",
      "100%|██████████| 17/17 [00:00<00:00, 856.68it/s]\n",
      "100%|██████████| 17/17 [00:00<00:00, 607.17it/s]\n",
      "100%|██████████| 17/17 [00:00<00:00, 739.15it/s]\n"
     ]
    },
    {
     "name": "stdout",
     "output_type": "stream",
     "text": [
      "Epoch [1421/6000]: Train loss: 2.9816, Valid loss: 2.5756\n",
      "Saving model with loss 2.576...\n"
     ]
    },
    {
     "name": "stderr",
     "output_type": "stream",
     "text": [
      "100%|██████████| 17/17 [00:00<00:00, 809.51it/s]\n",
      "100%|██████████| 17/17 [00:00<00:00, 894.75it/s]\n",
      "100%|██████████| 17/17 [00:00<00:00, 850.01it/s]\n",
      "100%|██████████| 17/17 [00:00<00:00, 855.68it/s]\n",
      "100%|██████████| 17/17 [00:00<00:00, 894.72it/s]\n",
      "100%|██████████| 17/17 [00:00<00:00, 894.75it/s]\n",
      "100%|██████████| 17/17 [00:00<00:00, 850.01it/s]\n",
      "100%|██████████| 17/17 [00:00<00:00, 850.00it/s]\n",
      "100%|██████████| 17/17 [00:00<00:00, 849.98it/s]\n",
      "100%|██████████| 17/17 [00:00<00:00, 850.01it/s]\n",
      "100%|██████████| 17/17 [00:00<00:00, 850.01it/s]\n",
      "100%|██████████| 17/17 [00:00<00:00, 894.73it/s]\n",
      "100%|██████████| 17/17 [00:00<00:00, 850.00it/s]\n",
      "100%|██████████| 17/17 [00:00<00:00, 850.01it/s]\n",
      "100%|██████████| 17/17 [00:00<00:00, 894.69it/s]\n",
      "100%|██████████| 17/17 [00:00<00:00, 894.75it/s]\n",
      "100%|██████████| 17/17 [00:00<00:00, 849.99it/s]\n",
      "100%|██████████| 17/17 [00:00<00:00, 850.00it/s]\n",
      "100%|██████████| 17/17 [00:00<00:00, 809.53it/s]\n",
      "100%|██████████| 17/17 [00:00<00:00, 850.01it/s]\n"
     ]
    },
    {
     "name": "stdout",
     "output_type": "stream",
     "text": [
      "Epoch [1441/6000]: Train loss: 2.9207, Valid loss: 2.7165\n"
     ]
    },
    {
     "name": "stderr",
     "output_type": "stream",
     "text": [
      "100%|██████████| 17/17 [00:00<00:00, 894.73it/s]\n",
      "100%|██████████| 17/17 [00:00<00:00, 809.51it/s]\n",
      "100%|██████████| 17/17 [00:00<00:00, 894.66it/s]\n",
      "100%|██████████| 17/17 [00:00<00:00, 894.73it/s]\n",
      "100%|██████████| 17/17 [00:00<00:00, 809.52it/s]\n",
      "100%|██████████| 17/17 [00:00<00:00, 723.67it/s]\n",
      "100%|██████████| 17/17 [00:00<00:00, 894.73it/s]\n",
      "100%|██████████| 17/17 [00:00<00:00, 894.71it/s]\n",
      "100%|██████████| 17/17 [00:00<00:00, 746.88it/s]\n",
      "100%|██████████| 17/17 [00:00<00:00, 850.00it/s]\n",
      "100%|██████████| 17/17 [00:00<00:00, 846.90it/s]\n",
      "100%|██████████| 17/17 [00:00<00:00, 850.01it/s]\n",
      "100%|██████████| 17/17 [00:00<00:00, 849.99it/s]\n",
      "100%|██████████| 17/17 [00:00<00:00, 894.71it/s]\n",
      "100%|██████████| 17/17 [00:00<00:00, 772.73it/s]\n",
      "100%|██████████| 17/17 [00:00<00:00, 767.56it/s]\n",
      "100%|██████████| 17/17 [00:00<00:00, 809.55it/s]\n",
      "100%|██████████| 17/17 [00:00<00:00, 894.84it/s]\n",
      "100%|██████████| 17/17 [00:00<00:00, 850.02it/s]\n",
      "100%|██████████| 17/17 [00:00<00:00, 849.96it/s]\n"
     ]
    },
    {
     "name": "stdout",
     "output_type": "stream",
     "text": [
      "Epoch [1461/6000]: Train loss: 2.8655, Valid loss: 2.9607\n"
     ]
    },
    {
     "name": "stderr",
     "output_type": "stream",
     "text": [
      "100%|██████████| 17/17 [00:00<00:00, 850.02it/s]\n",
      "100%|██████████| 17/17 [00:00<00:00, 850.02it/s]\n",
      "100%|██████████| 17/17 [00:00<00:00, 850.01it/s]\n",
      "100%|██████████| 17/17 [00:00<00:00, 894.75it/s]\n",
      "100%|██████████| 17/17 [00:00<00:00, 850.01it/s]\n",
      "100%|██████████| 17/17 [00:00<00:00, 894.76it/s]\n",
      "100%|██████████| 17/17 [00:00<00:00, 850.00it/s]\n",
      "100%|██████████| 17/17 [00:00<00:00, 850.02it/s]\n",
      "100%|██████████| 17/17 [00:00<00:00, 850.00it/s]\n"
     ]
    },
    {
     "name": "stdout",
     "output_type": "stream",
     "text": [
      "Saving model with loss 2.441...\n"
     ]
    },
    {
     "name": "stderr",
     "output_type": "stream",
     "text": [
      "100%|██████████| 17/17 [00:00<00:00, 850.00it/s]\n",
      "100%|██████████| 17/17 [00:00<00:00, 850.00it/s]\n",
      "100%|██████████| 17/17 [00:00<00:00, 894.75it/s]\n",
      "100%|██████████| 17/17 [00:00<00:00, 894.75it/s]\n",
      "100%|██████████| 17/17 [00:00<00:00, 850.04it/s]\n",
      "100%|██████████| 17/17 [00:00<00:00, 849.97it/s]\n",
      "100%|██████████| 17/17 [00:00<00:00, 852.51it/s]\n",
      "100%|██████████| 17/17 [00:00<00:00, 809.53it/s]\n",
      "100%|██████████| 17/17 [00:00<00:00, 894.76it/s]\n",
      "100%|██████████| 17/17 [00:00<00:00, 772.74it/s]\n",
      "100%|██████████| 17/17 [00:00<00:00, 849.99it/s]\n"
     ]
    },
    {
     "name": "stdout",
     "output_type": "stream",
     "text": [
      "Epoch [1481/6000]: Train loss: 2.8058, Valid loss: 2.7250\n"
     ]
    },
    {
     "name": "stderr",
     "output_type": "stream",
     "text": [
      "100%|██████████| 17/17 [00:00<00:00, 850.02it/s]\n",
      "100%|██████████| 17/17 [00:00<00:00, 894.75it/s]\n",
      "100%|██████████| 17/17 [00:00<00:00, 850.00it/s]\n",
      "100%|██████████| 17/17 [00:00<00:00, 850.00it/s]\n",
      "100%|██████████| 17/17 [00:00<00:00, 860.16it/s]\n",
      "100%|██████████| 17/17 [00:00<00:00, 809.52it/s]\n",
      "100%|██████████| 17/17 [00:00<00:00, 850.01it/s]\n",
      "100%|██████████| 17/17 [00:00<00:00, 894.71it/s]\n",
      "100%|██████████| 17/17 [00:00<00:00, 849.99it/s]\n"
     ]
    },
    {
     "name": "stdout",
     "output_type": "stream",
     "text": [
      "Saving model with loss 2.397...\n"
     ]
    },
    {
     "name": "stderr",
     "output_type": "stream",
     "text": [
      "100%|██████████| 17/17 [00:00<00:00, 849.98it/s]\n",
      "100%|██████████| 17/17 [00:00<00:00, 809.53it/s]\n",
      "100%|██████████| 17/17 [00:00<00:00, 850.01it/s]\n",
      "100%|██████████| 17/17 [00:00<00:00, 850.00it/s]\n",
      "100%|██████████| 17/17 [00:00<00:00, 809.52it/s]\n",
      "100%|██████████| 17/17 [00:00<00:00, 850.00it/s]\n",
      "100%|██████████| 17/17 [00:00<00:00, 809.52it/s]\n",
      "100%|██████████| 17/17 [00:00<00:00, 809.53it/s]\n",
      "100%|██████████| 17/17 [00:00<00:00, 850.00it/s]\n",
      "100%|██████████| 17/17 [00:00<00:00, 809.55it/s]\n",
      "100%|██████████| 17/17 [00:00<00:00, 809.51it/s]\n"
     ]
    },
    {
     "name": "stdout",
     "output_type": "stream",
     "text": [
      "Epoch [1501/6000]: Train loss: 2.7514, Valid loss: 2.7186\n"
     ]
    },
    {
     "name": "stderr",
     "output_type": "stream",
     "text": [
      "100%|██████████| 17/17 [00:00<00:00, 809.51it/s]\n",
      "100%|██████████| 17/17 [00:00<00:00, 809.55it/s]\n",
      "100%|██████████| 17/17 [00:00<00:00, 894.75it/s]\n",
      "100%|██████████| 17/17 [00:00<00:00, 849.99it/s]\n",
      "100%|██████████| 17/17 [00:00<00:00, 809.52it/s]\n"
     ]
    },
    {
     "name": "stdout",
     "output_type": "stream",
     "text": [
      "Saving model with loss 2.371...\n"
     ]
    },
    {
     "name": "stderr",
     "output_type": "stream",
     "text": [
      "100%|██████████| 17/17 [00:00<00:00, 850.01it/s]\n",
      "100%|██████████| 17/17 [00:00<00:00, 850.01it/s]\n"
     ]
    },
    {
     "name": "stdout",
     "output_type": "stream",
     "text": [
      "Saving model with loss 2.337...\n"
     ]
    },
    {
     "name": "stderr",
     "output_type": "stream",
     "text": [
      "100%|██████████| 17/17 [00:00<00:00, 809.54it/s]\n",
      "100%|██████████| 17/17 [00:00<00:00, 849.97it/s]\n",
      "100%|██████████| 17/17 [00:00<00:00, 809.55it/s]\n",
      "100%|██████████| 17/17 [00:00<00:00, 849.96it/s]\n",
      "100%|██████████| 17/17 [00:00<00:00, 894.72it/s]\n",
      "100%|██████████| 17/17 [00:00<00:00, 894.76it/s]\n",
      "100%|██████████| 17/17 [00:00<00:00, 894.73it/s]\n",
      "100%|██████████| 17/17 [00:00<00:00, 850.03it/s]\n",
      "100%|██████████| 17/17 [00:00<00:00, 894.71it/s]\n",
      "100%|██████████| 17/17 [00:00<00:00, 849.99it/s]\n",
      "100%|██████████| 17/17 [00:00<00:00, 809.54it/s]\n",
      "100%|██████████| 17/17 [00:00<00:00, 894.77it/s]\n",
      "100%|██████████| 17/17 [00:00<00:00, 849.98it/s]\n"
     ]
    },
    {
     "name": "stdout",
     "output_type": "stream",
     "text": [
      "Epoch [1521/6000]: Train loss: 2.6995, Valid loss: 2.4587\n"
     ]
    },
    {
     "name": "stderr",
     "output_type": "stream",
     "text": [
      "100%|██████████| 17/17 [00:00<00:00, 857.04it/s]\n",
      "100%|██████████| 17/17 [00:00<00:00, 894.73it/s]\n",
      "100%|██████████| 17/17 [00:00<00:00, 809.51it/s]\n",
      "100%|██████████| 17/17 [00:00<00:00, 894.76it/s]\n",
      "100%|██████████| 17/17 [00:00<00:00, 850.03it/s]\n",
      "100%|██████████| 17/17 [00:00<00:00, 849.98it/s]\n",
      "100%|██████████| 17/17 [00:00<00:00, 894.73it/s]\n",
      "100%|██████████| 17/17 [00:00<00:00, 788.97it/s]\n",
      "100%|██████████| 17/17 [00:00<00:00, 850.00it/s]\n",
      "100%|██████████| 17/17 [00:00<00:00, 849.99it/s]\n",
      "100%|██████████| 17/17 [00:00<00:00, 879.72it/s]\n",
      "100%|██████████| 17/17 [00:00<00:00, 850.01it/s]\n",
      "100%|██████████| 17/17 [00:00<00:00, 894.73it/s]\n",
      "100%|██████████| 17/17 [00:00<00:00, 811.51it/s]\n",
      "100%|██████████| 17/17 [00:00<00:00, 850.02it/s]\n",
      "100%|██████████| 17/17 [00:00<00:00, 850.01it/s]\n",
      "100%|██████████| 17/17 [00:00<00:00, 792.06it/s]\n",
      "100%|██████████| 17/17 [00:00<00:00, 894.72it/s]\n",
      "100%|██████████| 17/17 [00:00<00:00, 850.00it/s]\n",
      "100%|██████████| 17/17 [00:00<00:00, 809.53it/s]\n"
     ]
    },
    {
     "name": "stdout",
     "output_type": "stream",
     "text": [
      "Epoch [1541/6000]: Train loss: 2.6554, Valid loss: 2.5959\n"
     ]
    },
    {
     "name": "stderr",
     "output_type": "stream",
     "text": [
      "100%|██████████| 17/17 [00:00<00:00, 894.72it/s]\n",
      "100%|██████████| 17/17 [00:00<00:00, 850.00it/s]\n",
      "100%|██████████| 17/17 [00:00<00:00, 849.99it/s]\n",
      "100%|██████████| 17/17 [00:00<00:00, 849.98it/s]\n",
      "100%|██████████| 17/17 [00:00<00:00, 850.01it/s]\n",
      "100%|██████████| 17/17 [00:00<00:00, 849.99it/s]\n",
      "100%|██████████| 17/17 [00:00<00:00, 894.76it/s]\n",
      "100%|██████████| 17/17 [00:00<00:00, 849.99it/s]\n",
      "100%|██████████| 17/17 [00:00<00:00, 850.00it/s]\n",
      "100%|██████████| 17/17 [00:00<00:00, 850.04it/s]\n",
      "100%|██████████| 17/17 [00:00<00:00, 894.73it/s]\n",
      "100%|██████████| 17/17 [00:00<00:00, 894.73it/s]\n",
      "100%|██████████| 17/17 [00:00<00:00, 894.75it/s]\n",
      "100%|██████████| 17/17 [00:00<00:00, 850.02it/s]\n",
      "100%|██████████| 17/17 [00:00<00:00, 849.99it/s]\n",
      "100%|██████████| 17/17 [00:00<00:00, 894.73it/s]\n",
      "100%|██████████| 17/17 [00:00<00:00, 850.02it/s]\n",
      "100%|██████████| 17/17 [00:00<00:00, 850.02it/s]\n",
      "100%|██████████| 17/17 [00:00<00:00, 894.75it/s]\n",
      "100%|██████████| 17/17 [00:00<00:00, 894.73it/s]\n"
     ]
    },
    {
     "name": "stdout",
     "output_type": "stream",
     "text": [
      "Epoch [1561/6000]: Train loss: 2.6104, Valid loss: 2.3560\n"
     ]
    },
    {
     "name": "stderr",
     "output_type": "stream",
     "text": [
      "100%|██████████| 17/17 [00:00<00:00, 894.75it/s]\n",
      "100%|██████████| 17/17 [00:00<00:00, 809.54it/s]\n",
      "100%|██████████| 17/17 [00:00<00:00, 894.73it/s]\n",
      "100%|██████████| 17/17 [00:00<00:00, 850.02it/s]\n",
      "100%|██████████| 17/17 [00:00<00:00, 848.95it/s]\n",
      "100%|██████████| 17/17 [00:00<00:00, 850.01it/s]\n"
     ]
    },
    {
     "name": "stdout",
     "output_type": "stream",
     "text": [
      "Saving model with loss 2.312...\n"
     ]
    },
    {
     "name": "stderr",
     "output_type": "stream",
     "text": [
      "100%|██████████| 17/17 [00:00<00:00, 849.98it/s]\n",
      "100%|██████████| 17/17 [00:00<00:00, 849.98it/s]\n",
      "100%|██████████| 17/17 [00:00<00:00, 850.01it/s]\n",
      "100%|██████████| 17/17 [00:00<00:00, 850.00it/s]\n",
      "100%|██████████| 17/17 [00:00<00:00, 894.73it/s]\n",
      "100%|██████████| 17/17 [00:00<00:00, 849.98it/s]\n",
      "100%|██████████| 17/17 [00:00<00:00, 850.00it/s]\n",
      "100%|██████████| 17/17 [00:00<00:00, 850.01it/s]\n",
      "100%|██████████| 17/17 [00:00<00:00, 849.99it/s]\n",
      "100%|██████████| 17/17 [00:00<00:00, 894.73it/s]\n",
      "100%|██████████| 17/17 [00:00<00:00, 879.82it/s]\n",
      "100%|██████████| 17/17 [00:00<00:00, 849.98it/s]\n",
      "100%|██████████| 17/17 [00:00<00:00, 809.53it/s]\n",
      "100%|██████████| 17/17 [00:00<00:00, 809.53it/s]\n"
     ]
    },
    {
     "name": "stdout",
     "output_type": "stream",
     "text": [
      "Epoch [1581/6000]: Train loss: 2.5627, Valid loss: 2.5464\n"
     ]
    },
    {
     "name": "stderr",
     "output_type": "stream",
     "text": [
      "100%|██████████| 17/17 [00:00<00:00, 850.00it/s]\n",
      "100%|██████████| 17/17 [00:00<00:00, 850.01it/s]\n",
      "100%|██████████| 17/17 [00:00<00:00, 848.44it/s]\n",
      "100%|██████████| 17/17 [00:00<00:00, 850.00it/s]\n",
      "100%|██████████| 17/17 [00:00<00:00, 849.99it/s]\n",
      "100%|██████████| 17/17 [00:00<00:00, 894.76it/s]\n",
      "100%|██████████| 17/17 [00:00<00:00, 849.98it/s]\n",
      "100%|██████████| 17/17 [00:00<00:00, 894.73it/s]\n"
     ]
    },
    {
     "name": "stdout",
     "output_type": "stream",
     "text": [
      "Saving model with loss 2.281...\n"
     ]
    },
    {
     "name": "stderr",
     "output_type": "stream",
     "text": [
      "100%|██████████| 17/17 [00:00<00:00, 809.52it/s]\n",
      "100%|██████████| 17/17 [00:00<00:00, 809.53it/s]\n",
      "100%|██████████| 17/17 [00:00<00:00, 809.53it/s]\n",
      "100%|██████████| 17/17 [00:00<00:00, 850.00it/s]\n",
      "100%|██████████| 17/17 [00:00<00:00, 894.71it/s]\n",
      "100%|██████████| 17/17 [00:00<00:00, 894.75it/s]\n",
      "100%|██████████| 17/17 [00:00<00:00, 850.01it/s]\n"
     ]
    },
    {
     "name": "stdout",
     "output_type": "stream",
     "text": [
      "Saving model with loss 2.263...\n"
     ]
    },
    {
     "name": "stderr",
     "output_type": "stream",
     "text": [
      "100%|██████████| 17/17 [00:00<00:00, 850.04it/s]\n",
      "100%|██████████| 17/17 [00:00<00:00, 809.52it/s]\n",
      "100%|██████████| 17/17 [00:00<00:00, 809.51it/s]\n",
      "100%|██████████| 17/17 [00:00<00:00, 849.98it/s]\n",
      "100%|██████████| 17/17 [00:00<00:00, 809.52it/s]\n"
     ]
    },
    {
     "name": "stdout",
     "output_type": "stream",
     "text": [
      "Epoch [1601/6000]: Train loss: 2.5243, Valid loss: 2.2007\n",
      "Saving model with loss 2.201...\n"
     ]
    },
    {
     "name": "stderr",
     "output_type": "stream",
     "text": [
      "100%|██████████| 17/17 [00:00<00:00, 894.73it/s]\n",
      "100%|██████████| 17/17 [00:00<00:00, 850.00it/s]\n",
      "100%|██████████| 17/17 [00:00<00:00, 809.52it/s]\n",
      "100%|██████████| 17/17 [00:00<00:00, 849.99it/s]\n",
      "100%|██████████| 17/17 [00:00<00:00, 850.02it/s]\n",
      "100%|██████████| 17/17 [00:00<00:00, 849.98it/s]\n",
      "100%|██████████| 17/17 [00:00<00:00, 850.02it/s]\n",
      "100%|██████████| 17/17 [00:00<00:00, 850.00it/s]\n",
      "100%|██████████| 17/17 [00:00<00:00, 809.54it/s]\n",
      "100%|██████████| 17/17 [00:00<00:00, 809.55it/s]\n",
      "100%|██████████| 17/17 [00:00<00:00, 849.96it/s]\n"
     ]
    },
    {
     "name": "stdout",
     "output_type": "stream",
     "text": [
      "Saving model with loss 2.168...\n"
     ]
    },
    {
     "name": "stderr",
     "output_type": "stream",
     "text": [
      "100%|██████████| 17/17 [00:00<00:00, 809.54it/s]\n",
      "100%|██████████| 17/17 [00:00<00:00, 849.99it/s]\n",
      "100%|██████████| 17/17 [00:00<00:00, 809.52it/s]\n",
      "100%|██████████| 17/17 [00:00<00:00, 809.50it/s]\n",
      "100%|██████████| 17/17 [00:00<00:00, 850.00it/s]\n",
      "100%|██████████| 17/17 [00:00<00:00, 809.55it/s]\n",
      "100%|██████████| 17/17 [00:00<00:00, 850.00it/s]\n",
      "100%|██████████| 17/17 [00:00<00:00, 772.75it/s]\n",
      "100%|██████████| 17/17 [00:00<00:00, 809.53it/s]\n"
     ]
    },
    {
     "name": "stdout",
     "output_type": "stream",
     "text": [
      "Epoch [1621/6000]: Train loss: 2.4849, Valid loss: 2.2959\n"
     ]
    },
    {
     "name": "stderr",
     "output_type": "stream",
     "text": [
      "100%|██████████| 17/17 [00:00<00:00, 894.72it/s]\n",
      "100%|██████████| 17/17 [00:00<00:00, 849.99it/s]\n",
      "100%|██████████| 17/17 [00:00<00:00, 850.00it/s]\n",
      "100%|██████████| 17/17 [00:00<00:00, 850.00it/s]\n",
      "100%|██████████| 17/17 [00:00<00:00, 894.72it/s]\n",
      "100%|██████████| 17/17 [00:00<00:00, 894.72it/s]\n",
      "100%|██████████| 17/17 [00:00<00:00, 850.01it/s]\n"
     ]
    },
    {
     "name": "stdout",
     "output_type": "stream",
     "text": [
      "Saving model with loss 2.163...\n"
     ]
    },
    {
     "name": "stderr",
     "output_type": "stream",
     "text": [
      "100%|██████████| 17/17 [00:00<00:00, 894.73it/s]\n",
      "100%|██████████| 17/17 [00:00<00:00, 850.01it/s]\n",
      "100%|██████████| 17/17 [00:00<00:00, 894.75it/s]\n",
      "100%|██████████| 17/17 [00:00<00:00, 809.53it/s]\n",
      "100%|██████████| 17/17 [00:00<00:00, 849.98it/s]\n",
      "100%|██████████| 17/17 [00:00<00:00, 772.77it/s]\n",
      "100%|██████████| 17/17 [00:00<00:00, 849.98it/s]\n",
      "100%|██████████| 17/17 [00:00<00:00, 849.99it/s]\n",
      "100%|██████████| 17/17 [00:00<00:00, 850.01it/s]\n",
      "100%|██████████| 17/17 [00:00<00:00, 850.04it/s]\n",
      "100%|██████████| 17/17 [00:00<00:00, 850.00it/s]\n",
      "100%|██████████| 17/17 [00:00<00:00, 850.01it/s]\n"
     ]
    },
    {
     "name": "stdout",
     "output_type": "stream",
     "text": [
      "Saving model with loss 2.096...\n"
     ]
    },
    {
     "name": "stderr",
     "output_type": "stream",
     "text": [
      "100%|██████████| 17/17 [00:00<00:00, 850.00it/s]\n"
     ]
    },
    {
     "name": "stdout",
     "output_type": "stream",
     "text": [
      "Epoch [1641/6000]: Train loss: 2.4477, Valid loss: 2.3012\n"
     ]
    },
    {
     "name": "stderr",
     "output_type": "stream",
     "text": [
      "100%|██████████| 17/17 [00:00<00:00, 850.02it/s]\n",
      "100%|██████████| 17/17 [00:00<00:00, 849.98it/s]\n",
      "100%|██████████| 17/17 [00:00<00:00, 850.00it/s]\n",
      "100%|██████████| 17/17 [00:00<00:00, 850.00it/s]\n",
      "100%|██████████| 17/17 [00:00<00:00, 869.52it/s]\n",
      "100%|██████████| 17/17 [00:00<00:00, 849.99it/s]\n",
      "100%|██████████| 17/17 [00:00<00:00, 894.72it/s]\n",
      "100%|██████████| 17/17 [00:00<00:00, 850.02it/s]\n",
      "100%|██████████| 17/17 [00:00<00:00, 809.55it/s]\n",
      "100%|██████████| 17/17 [00:00<00:00, 915.94it/s]\n",
      "100%|██████████| 17/17 [00:00<00:00, 850.02it/s]\n",
      "100%|██████████| 17/17 [00:00<00:00, 849.98it/s]\n",
      "100%|██████████| 17/17 [00:00<00:00, 894.72it/s]\n",
      "100%|██████████| 17/17 [00:00<00:00, 850.01it/s]\n",
      "100%|██████████| 17/17 [00:00<00:00, 850.00it/s]\n",
      "100%|██████████| 17/17 [00:00<00:00, 850.02it/s]\n",
      "100%|██████████| 17/17 [00:00<00:00, 850.00it/s]\n",
      "100%|██████████| 17/17 [00:00<00:00, 850.02it/s]\n",
      "100%|██████████| 17/17 [00:00<00:00, 849.99it/s]\n",
      "100%|██████████| 17/17 [00:00<00:00, 850.00it/s]\n"
     ]
    },
    {
     "name": "stdout",
     "output_type": "stream",
     "text": [
      "Epoch [1661/6000]: Train loss: 2.4158, Valid loss: 2.2059\n"
     ]
    },
    {
     "name": "stderr",
     "output_type": "stream",
     "text": [
      "100%|██████████| 17/17 [00:00<00:00, 894.76it/s]\n",
      "100%|██████████| 17/17 [00:00<00:00, 849.99it/s]\n",
      "100%|██████████| 17/17 [00:00<00:00, 894.71it/s]\n",
      "100%|██████████| 17/17 [00:00<00:00, 850.01it/s]\n"
     ]
    },
    {
     "name": "stdout",
     "output_type": "stream",
     "text": [
      "Saving model with loss 2.086...\n"
     ]
    },
    {
     "name": "stderr",
     "output_type": "stream",
     "text": [
      "100%|██████████| 17/17 [00:00<00:00, 849.99it/s]\n",
      "100%|██████████| 17/17 [00:00<00:00, 894.76it/s]\n",
      "100%|██████████| 17/17 [00:00<00:00, 849.98it/s]\n",
      "100%|██████████| 17/17 [00:00<00:00, 894.73it/s]\n",
      "100%|██████████| 17/17 [00:00<00:00, 772.72it/s]\n",
      "100%|██████████| 17/17 [00:00<00:00, 894.73it/s]\n",
      "100%|██████████| 17/17 [00:00<00:00, 809.50it/s]\n",
      "100%|██████████| 17/17 [00:00<00:00, 772.74it/s]\n",
      "100%|██████████| 17/17 [00:00<00:00, 809.54it/s]\n",
      "100%|██████████| 17/17 [00:00<00:00, 680.00it/s]\n",
      "100%|██████████| 17/17 [00:00<00:00, 850.01it/s]\n",
      "100%|██████████| 17/17 [00:00<00:00, 809.52it/s]\n",
      "100%|██████████| 17/17 [00:00<00:00, 850.01it/s]\n",
      "100%|██████████| 17/17 [00:00<00:00, 850.00it/s]\n",
      "100%|██████████| 17/17 [00:00<00:00, 850.01it/s]\n",
      "100%|██████████| 17/17 [00:00<00:00, 894.73it/s]\n"
     ]
    },
    {
     "name": "stdout",
     "output_type": "stream",
     "text": [
      "Epoch [1681/6000]: Train loss: 2.3825, Valid loss: 2.1355\n"
     ]
    },
    {
     "name": "stderr",
     "output_type": "stream",
     "text": [
      "100%|██████████| 17/17 [00:00<00:00, 809.54it/s]\n",
      "100%|██████████| 17/17 [00:00<00:00, 850.01it/s]\n"
     ]
    },
    {
     "name": "stdout",
     "output_type": "stream",
     "text": [
      "Saving model with loss 2.036...\n"
     ]
    },
    {
     "name": "stderr",
     "output_type": "stream",
     "text": [
      "100%|██████████| 17/17 [00:00<00:00, 849.99it/s]\n",
      "100%|██████████| 17/17 [00:00<00:00, 850.01it/s]\n",
      "100%|██████████| 17/17 [00:00<00:00, 809.52it/s]\n",
      "100%|██████████| 17/17 [00:00<00:00, 850.00it/s]\n",
      "100%|██████████| 17/17 [00:00<00:00, 894.78it/s]\n",
      "100%|██████████| 17/17 [00:00<00:00, 772.72it/s]\n",
      "100%|██████████| 17/17 [00:00<00:00, 772.72it/s]\n",
      "100%|██████████| 17/17 [00:00<00:00, 850.01it/s]\n",
      "100%|██████████| 17/17 [00:00<00:00, 809.53it/s]\n",
      "100%|██████████| 17/17 [00:00<00:00, 739.17it/s]\n",
      "100%|██████████| 17/17 [00:00<00:00, 850.04it/s]\n",
      "100%|██████████| 17/17 [00:00<00:00, 850.02it/s]\n",
      "100%|██████████| 17/17 [00:00<00:00, 850.02it/s]\n",
      "100%|██████████| 17/17 [00:00<00:00, 850.02it/s]\n",
      "100%|██████████| 17/17 [00:00<00:00, 850.02it/s]\n",
      "100%|██████████| 17/17 [00:00<00:00, 850.00it/s]\n",
      "100%|██████████| 17/17 [00:00<00:00, 894.75it/s]\n",
      "100%|██████████| 17/17 [00:00<00:00, 850.03it/s]\n"
     ]
    },
    {
     "name": "stdout",
     "output_type": "stream",
     "text": [
      "Epoch [1701/6000]: Train loss: 2.3557, Valid loss: 2.1390\n"
     ]
    },
    {
     "name": "stderr",
     "output_type": "stream",
     "text": [
      "100%|██████████| 17/17 [00:00<00:00, 850.01it/s]\n",
      "100%|██████████| 17/17 [00:00<00:00, 894.73it/s]\n",
      "100%|██████████| 17/17 [00:00<00:00, 849.99it/s]\n",
      "100%|██████████| 17/17 [00:00<00:00, 850.00it/s]\n",
      "100%|██████████| 17/17 [00:00<00:00, 849.96it/s]\n",
      "100%|██████████| 17/17 [00:00<00:00, 849.99it/s]\n",
      "100%|██████████| 17/17 [00:00<00:00, 809.52it/s]\n",
      "100%|██████████| 17/17 [00:00<00:00, 849.69it/s]\n",
      "100%|██████████| 17/17 [00:00<00:00, 809.56it/s]\n"
     ]
    },
    {
     "name": "stdout",
     "output_type": "stream",
     "text": [
      "Saving model with loss 1.998...\n"
     ]
    },
    {
     "name": "stderr",
     "output_type": "stream",
     "text": [
      "100%|██████████| 17/17 [00:00<00:00, 850.04it/s]\n",
      "100%|██████████| 17/17 [00:00<00:00, 850.02it/s]\n",
      "100%|██████████| 17/17 [00:00<00:00, 850.00it/s]\n",
      "100%|██████████| 17/17 [00:00<00:00, 850.03it/s]\n",
      "100%|██████████| 17/17 [00:00<00:00, 850.00it/s]\n",
      "100%|██████████| 17/17 [00:00<00:00, 849.99it/s]\n",
      "100%|██████████| 17/17 [00:00<00:00, 894.73it/s]\n",
      "100%|██████████| 17/17 [00:00<00:00, 809.53it/s]\n",
      "100%|██████████| 17/17 [00:00<00:00, 850.00it/s]\n",
      "100%|██████████| 17/17 [00:00<00:00, 849.99it/s]\n",
      "100%|██████████| 17/17 [00:00<00:00, 849.99it/s]\n"
     ]
    },
    {
     "name": "stdout",
     "output_type": "stream",
     "text": [
      "Epoch [1721/6000]: Train loss: 2.3300, Valid loss: 2.1283\n"
     ]
    },
    {
     "name": "stderr",
     "output_type": "stream",
     "text": [
      "100%|██████████| 17/17 [00:00<00:00, 849.98it/s]\n",
      "100%|██████████| 17/17 [00:00<00:00, 850.01it/s]\n",
      "100%|██████████| 17/17 [00:00<00:00, 809.54it/s]\n",
      "100%|██████████| 17/17 [00:00<00:00, 781.05it/s]\n"
     ]
    },
    {
     "name": "stdout",
     "output_type": "stream",
     "text": [
      "Saving model with loss 1.956...\n"
     ]
    },
    {
     "name": "stderr",
     "output_type": "stream",
     "text": [
      "100%|██████████| 17/17 [00:00<00:00, 894.73it/s]\n",
      "100%|██████████| 17/17 [00:00<00:00, 809.51it/s]\n",
      "100%|██████████| 17/17 [00:00<00:00, 850.00it/s]\n",
      "100%|██████████| 17/17 [00:00<00:00, 850.05it/s]\n",
      "100%|██████████| 17/17 [00:00<00:00, 809.54it/s]\n",
      "100%|██████████| 17/17 [00:00<00:00, 809.55it/s]\n",
      "100%|██████████| 17/17 [00:00<00:00, 819.96it/s]\n",
      "100%|██████████| 17/17 [00:00<00:00, 894.73it/s]\n",
      "100%|██████████| 17/17 [00:00<00:00, 809.54it/s]\n",
      "100%|██████████| 17/17 [00:00<00:00, 894.75it/s]\n",
      "100%|██████████| 17/17 [00:00<00:00, 894.73it/s]\n",
      "100%|██████████| 17/17 [00:00<00:00, 850.00it/s]\n",
      "100%|██████████| 17/17 [00:00<00:00, 849.94it/s]\n",
      "100%|██████████| 17/17 [00:00<00:00, 850.02it/s]\n",
      "100%|██████████| 17/17 [00:00<00:00, 809.52it/s]\n",
      "100%|██████████| 17/17 [00:00<00:00, 894.75it/s]\n"
     ]
    },
    {
     "name": "stdout",
     "output_type": "stream",
     "text": [
      "Epoch [1741/6000]: Train loss: 2.3020, Valid loss: 2.1522\n"
     ]
    },
    {
     "name": "stderr",
     "output_type": "stream",
     "text": [
      "100%|██████████| 17/17 [00:00<00:00, 772.72it/s]\n",
      "100%|██████████| 17/17 [00:00<00:00, 849.99it/s]\n",
      "100%|██████████| 17/17 [00:00<00:00, 894.72it/s]\n",
      "100%|██████████| 17/17 [00:00<00:00, 894.75it/s]\n",
      "100%|██████████| 17/17 [00:00<00:00, 850.01it/s]\n",
      "100%|██████████| 17/17 [00:00<00:00, 809.49it/s]\n",
      "100%|██████████| 17/17 [00:00<00:00, 809.55it/s]\n",
      "100%|██████████| 17/17 [00:00<00:00, 894.73it/s]\n",
      "100%|██████████| 17/17 [00:00<00:00, 850.01it/s]\n",
      "100%|██████████| 17/17 [00:00<00:00, 894.73it/s]\n",
      "100%|██████████| 17/17 [00:00<00:00, 849.98it/s]\n",
      "100%|██████████| 17/17 [00:00<00:00, 850.00it/s]\n",
      "100%|██████████| 17/17 [00:00<00:00, 849.99it/s]\n",
      "100%|██████████| 17/17 [00:00<00:00, 850.00it/s]\n",
      "100%|██████████| 17/17 [00:00<00:00, 849.97it/s]\n",
      "100%|██████████| 17/17 [00:00<00:00, 894.75it/s]\n",
      "100%|██████████| 17/17 [00:00<00:00, 849.97it/s]\n",
      "100%|██████████| 17/17 [00:00<00:00, 850.00it/s]\n",
      "100%|██████████| 17/17 [00:00<00:00, 894.78it/s]\n"
     ]
    },
    {
     "name": "stdout",
     "output_type": "stream",
     "text": [
      "Saving model with loss 1.925...\n"
     ]
    },
    {
     "name": "stderr",
     "output_type": "stream",
     "text": [
      "100%|██████████| 17/17 [00:00<00:00, 772.70it/s]\n"
     ]
    },
    {
     "name": "stdout",
     "output_type": "stream",
     "text": [
      "Epoch [1761/6000]: Train loss: 2.2744, Valid loss: 1.9645\n"
     ]
    },
    {
     "name": "stderr",
     "output_type": "stream",
     "text": [
      "100%|██████████| 17/17 [00:00<00:00, 809.50it/s]\n",
      "100%|██████████| 17/17 [00:00<00:00, 850.00it/s]\n",
      "100%|██████████| 17/17 [00:00<00:00, 849.99it/s]\n",
      "100%|██████████| 17/17 [00:00<00:00, 850.01it/s]\n",
      "100%|██████████| 17/17 [00:00<00:00, 894.71it/s]\n",
      "100%|██████████| 17/17 [00:00<00:00, 809.54it/s]\n",
      "100%|██████████| 17/17 [00:00<00:00, 739.18it/s]\n",
      "100%|██████████| 17/17 [00:00<00:00, 809.51it/s]\n",
      "100%|██████████| 17/17 [00:00<00:00, 850.00it/s]\n",
      "100%|██████████| 17/17 [00:00<00:00, 739.15it/s]\n",
      "100%|██████████| 17/17 [00:00<00:00, 849.99it/s]\n",
      "100%|██████████| 17/17 [00:00<00:00, 894.75it/s]\n",
      "100%|██████████| 17/17 [00:00<00:00, 849.98it/s]\n",
      "100%|██████████| 17/17 [00:00<00:00, 809.53it/s]\n",
      "100%|██████████| 17/17 [00:00<00:00, 772.72it/s]\n",
      "100%|██████████| 17/17 [00:00<00:00, 850.00it/s]\n"
     ]
    },
    {
     "name": "stdout",
     "output_type": "stream",
     "text": [
      "Saving model with loss 1.866...\n"
     ]
    },
    {
     "name": "stderr",
     "output_type": "stream",
     "text": [
      "100%|██████████| 17/17 [00:00<00:00, 854.59it/s]\n",
      "100%|██████████| 17/17 [00:00<00:00, 850.02it/s]\n",
      "100%|██████████| 17/17 [00:00<00:00, 894.71it/s]\n",
      "100%|██████████| 17/17 [00:00<00:00, 809.68it/s]\n"
     ]
    },
    {
     "name": "stdout",
     "output_type": "stream",
     "text": [
      "Epoch [1781/6000]: Train loss: 2.2554, Valid loss: 2.2878\n"
     ]
    },
    {
     "name": "stderr",
     "output_type": "stream",
     "text": [
      "100%|██████████| 17/17 [00:00<00:00, 860.10it/s]\n",
      "100%|██████████| 17/17 [00:00<00:00, 820.19it/s]\n",
      "100%|██████████| 17/17 [00:00<00:00, 850.10it/s]\n",
      "100%|██████████| 17/17 [00:00<00:00, 849.99it/s]\n",
      "100%|██████████| 17/17 [00:00<00:00, 853.07it/s]\n",
      "100%|██████████| 17/17 [00:00<00:00, 850.00it/s]\n",
      "100%|██████████| 17/17 [00:00<00:00, 827.12it/s]\n",
      "100%|██████████| 17/17 [00:00<00:00, 772.73it/s]\n",
      "100%|██████████| 17/17 [00:00<00:00, 849.98it/s]\n",
      "100%|██████████| 17/17 [00:00<00:00, 866.88it/s]\n",
      "100%|██████████| 17/17 [00:00<00:00, 850.00it/s]\n",
      "100%|██████████| 17/17 [00:00<00:00, 850.01it/s]\n",
      "100%|██████████| 17/17 [00:00<00:00, 850.01it/s]\n",
      "100%|██████████| 17/17 [00:00<00:00, 850.02it/s]\n",
      "100%|██████████| 17/17 [00:00<00:00, 849.99it/s]\n",
      "100%|██████████| 17/17 [00:00<00:00, 849.99it/s]\n",
      "100%|██████████| 17/17 [00:00<00:00, 894.72it/s]\n",
      "100%|██████████| 17/17 [00:00<00:00, 776.24it/s]\n",
      "100%|██████████| 17/17 [00:00<00:00, 850.03it/s]\n",
      "100%|██████████| 17/17 [00:00<00:00, 850.02it/s]\n"
     ]
    },
    {
     "name": "stdout",
     "output_type": "stream",
     "text": [
      "Epoch [1801/6000]: Train loss: 2.2290, Valid loss: 1.9677\n"
     ]
    },
    {
     "name": "stderr",
     "output_type": "stream",
     "text": [
      "100%|██████████| 17/17 [00:00<00:00, 849.98it/s]\n",
      "100%|██████████| 17/17 [00:00<00:00, 869.85it/s]\n",
      "100%|██████████| 17/17 [00:00<00:00, 856.06it/s]\n",
      "100%|██████████| 17/17 [00:00<00:00, 850.01it/s]\n",
      "100%|██████████| 17/17 [00:00<00:00, 629.63it/s]\n",
      "100%|██████████| 17/17 [00:00<00:00, 849.98it/s]\n",
      "100%|██████████| 17/17 [00:00<00:00, 850.00it/s]\n",
      "100%|██████████| 17/17 [00:00<00:00, 850.01it/s]\n",
      "100%|██████████| 17/17 [00:00<00:00, 849.99it/s]\n",
      "100%|██████████| 17/17 [00:00<00:00, 850.03it/s]\n",
      "100%|██████████| 17/17 [00:00<00:00, 849.96it/s]\n",
      "100%|██████████| 17/17 [00:00<00:00, 809.53it/s]\n",
      "100%|██████████| 17/17 [00:00<00:00, 809.52it/s]\n",
      "100%|██████████| 17/17 [00:00<00:00, 851.47it/s]\n",
      "100%|██████████| 17/17 [00:00<00:00, 850.00it/s]\n",
      "100%|██████████| 17/17 [00:00<00:00, 850.00it/s]\n",
      "100%|██████████| 17/17 [00:00<00:00, 793.14it/s]\n",
      "100%|██████████| 17/17 [00:00<00:00, 850.44it/s]\n",
      "100%|██████████| 17/17 [00:00<00:00, 894.71it/s]\n",
      "100%|██████████| 17/17 [00:00<00:00, 809.52it/s]\n"
     ]
    },
    {
     "name": "stdout",
     "output_type": "stream",
     "text": [
      "Epoch [1821/6000]: Train loss: 2.2156, Valid loss: 2.3626\n"
     ]
    },
    {
     "name": "stderr",
     "output_type": "stream",
     "text": [
      "100%|██████████| 17/17 [00:00<00:00, 809.53it/s]\n",
      "100%|██████████| 17/17 [00:00<00:00, 894.76it/s]\n",
      "100%|██████████| 17/17 [00:00<00:00, 894.72it/s]\n",
      "100%|██████████| 17/17 [00:00<00:00, 850.02it/s]\n",
      "100%|██████████| 17/17 [00:00<00:00, 809.51it/s]\n",
      "100%|██████████| 17/17 [00:00<00:00, 850.04it/s]\n",
      "100%|██████████| 17/17 [00:00<00:00, 850.00it/s]\n",
      "100%|██████████| 17/17 [00:00<00:00, 894.71it/s]\n",
      "100%|██████████| 17/17 [00:00<00:00, 894.73it/s]\n",
      "100%|██████████| 17/17 [00:00<00:00, 809.51it/s]\n",
      "100%|██████████| 17/17 [00:00<00:00, 850.00it/s]\n",
      "100%|██████████| 17/17 [00:00<00:00, 849.99it/s]\n",
      "100%|██████████| 17/17 [00:00<00:00, 894.73it/s]\n",
      "100%|██████████| 17/17 [00:00<00:00, 809.55it/s]\n",
      "100%|██████████| 17/17 [00:00<00:00, 739.08it/s]\n",
      "100%|██████████| 17/17 [00:00<00:00, 850.00it/s]\n",
      "100%|██████████| 17/17 [00:00<00:00, 849.99it/s]\n",
      "100%|██████████| 17/17 [00:00<00:00, 849.99it/s]\n",
      "100%|██████████| 17/17 [00:00<00:00, 850.00it/s]\n",
      "100%|██████████| 17/17 [00:00<00:00, 850.03it/s]\n"
     ]
    },
    {
     "name": "stdout",
     "output_type": "stream",
     "text": [
      "Epoch [1841/6000]: Train loss: 2.1962, Valid loss: 2.1226\n"
     ]
    },
    {
     "name": "stderr",
     "output_type": "stream",
     "text": [
      "100%|██████████| 17/17 [00:00<00:00, 850.00it/s]\n",
      "100%|██████████| 17/17 [00:00<00:00, 894.79it/s]\n",
      "100%|██████████| 17/17 [00:00<00:00, 894.72it/s]\n",
      "100%|██████████| 17/17 [00:00<00:00, 772.72it/s]\n",
      "100%|██████████| 17/17 [00:00<00:00, 849.99it/s]\n",
      "100%|██████████| 17/17 [00:00<00:00, 772.73it/s]\n",
      "100%|██████████| 17/17 [00:00<00:00, 894.73it/s]\n",
      "100%|██████████| 17/17 [00:00<00:00, 850.03it/s]\n",
      "100%|██████████| 17/17 [00:00<00:00, 894.71it/s]\n",
      "100%|██████████| 17/17 [00:00<00:00, 850.01it/s]\n",
      "100%|██████████| 17/17 [00:00<00:00, 849.98it/s]\n"
     ]
    },
    {
     "name": "stdout",
     "output_type": "stream",
     "text": [
      "Saving model with loss 1.853...\n"
     ]
    },
    {
     "name": "stderr",
     "output_type": "stream",
     "text": [
      "100%|██████████| 17/17 [00:00<00:00, 850.04it/s]\n",
      "100%|██████████| 17/17 [00:00<00:00, 894.73it/s]\n",
      "100%|██████████| 17/17 [00:00<00:00, 850.01it/s]\n",
      "100%|██████████| 17/17 [00:00<00:00, 849.92it/s]\n",
      "100%|██████████| 17/17 [00:00<00:00, 809.52it/s]\n",
      "100%|██████████| 17/17 [00:00<00:00, 804.45it/s]\n"
     ]
    },
    {
     "name": "stdout",
     "output_type": "stream",
     "text": [
      "Saving model with loss 1.853...\n"
     ]
    },
    {
     "name": "stderr",
     "output_type": "stream",
     "text": [
      "100%|██████████| 17/17 [00:00<00:00, 849.98it/s]\n",
      "100%|██████████| 17/17 [00:00<00:00, 894.79it/s]\n",
      "100%|██████████| 17/17 [00:00<00:00, 809.52it/s]\n"
     ]
    },
    {
     "name": "stdout",
     "output_type": "stream",
     "text": [
      "Epoch [1861/6000]: Train loss: 2.1782, Valid loss: 1.8747\n"
     ]
    },
    {
     "name": "stderr",
     "output_type": "stream",
     "text": [
      "100%|██████████| 17/17 [00:00<00:00, 891.03it/s]\n",
      "100%|██████████| 17/17 [00:00<00:00, 850.00it/s]\n",
      "100%|██████████| 17/17 [00:00<00:00, 850.04it/s]\n",
      "100%|██████████| 17/17 [00:00<00:00, 847.83it/s]\n",
      "100%|██████████| 17/17 [00:00<00:00, 850.01it/s]\n",
      "100%|██████████| 17/17 [00:00<00:00, 850.01it/s]\n",
      "100%|██████████| 17/17 [00:00<00:00, 772.71it/s]\n",
      "100%|██████████| 17/17 [00:00<00:00, 850.01it/s]\n",
      "100%|██████████| 17/17 [00:00<00:00, 809.55it/s]\n",
      "100%|██████████| 17/17 [00:00<00:00, 849.99it/s]\n",
      "100%|██████████| 17/17 [00:00<00:00, 850.03it/s]\n",
      "100%|██████████| 17/17 [00:00<00:00, 850.03it/s]\n"
     ]
    },
    {
     "name": "stdout",
     "output_type": "stream",
     "text": [
      "Saving model with loss 1.827...\n"
     ]
    },
    {
     "name": "stderr",
     "output_type": "stream",
     "text": [
      "100%|██████████| 17/17 [00:00<00:00, 902.75it/s]\n",
      "100%|██████████| 17/17 [00:00<00:00, 859.45it/s]\n",
      "100%|██████████| 17/17 [00:00<00:00, 844.54it/s]\n",
      "100%|██████████| 17/17 [00:00<00:00, 849.98it/s]\n",
      "100%|██████████| 17/17 [00:00<00:00, 857.43it/s]\n",
      "100%|██████████| 17/17 [00:00<00:00, 894.73it/s]\n",
      "100%|██████████| 17/17 [00:00<00:00, 849.97it/s]\n",
      "100%|██████████| 17/17 [00:00<00:00, 849.99it/s]\n"
     ]
    },
    {
     "name": "stdout",
     "output_type": "stream",
     "text": [
      "Epoch [1881/6000]: Train loss: 2.1601, Valid loss: 1.8761\n"
     ]
    },
    {
     "name": "stderr",
     "output_type": "stream",
     "text": [
      "100%|██████████| 17/17 [00:00<00:00, 809.50it/s]\n",
      "100%|██████████| 17/17 [00:00<00:00, 850.02it/s]\n",
      "100%|██████████| 17/17 [00:00<00:00, 809.51it/s]\n",
      "100%|██████████| 17/17 [00:00<00:00, 849.99it/s]\n",
      "100%|██████████| 17/17 [00:00<00:00, 849.99it/s]\n",
      "100%|██████████| 17/17 [00:00<00:00, 772.73it/s]\n",
      "100%|██████████| 17/17 [00:00<00:00, 849.97it/s]\n",
      "100%|██████████| 17/17 [00:00<00:00, 809.54it/s]\n",
      "100%|██████████| 17/17 [00:00<00:00, 809.56it/s]\n",
      "100%|██████████| 17/17 [00:00<00:00, 894.72it/s]\n",
      "100%|██████████| 17/17 [00:00<00:00, 849.98it/s]\n",
      "100%|██████████| 17/17 [00:00<00:00, 809.53it/s]\n",
      "100%|██████████| 17/17 [00:00<00:00, 850.00it/s]\n",
      "100%|██████████| 17/17 [00:00<00:00, 850.01it/s]\n",
      "100%|██████████| 17/17 [00:00<00:00, 894.75it/s]\n"
     ]
    },
    {
     "name": "stdout",
     "output_type": "stream",
     "text": [
      "Saving model with loss 1.801...\n"
     ]
    },
    {
     "name": "stderr",
     "output_type": "stream",
     "text": [
      "100%|██████████| 17/17 [00:00<00:00, 850.05it/s]\n",
      "100%|██████████| 17/17 [00:00<00:00, 894.72it/s]\n"
     ]
    },
    {
     "name": "stdout",
     "output_type": "stream",
     "text": [
      "Saving model with loss 1.769...\n"
     ]
    },
    {
     "name": "stderr",
     "output_type": "stream",
     "text": [
      "100%|██████████| 17/17 [00:00<00:00, 850.02it/s]\n",
      "100%|██████████| 17/17 [00:00<00:00, 894.72it/s]\n",
      "100%|██████████| 17/17 [00:00<00:00, 849.99it/s]\n"
     ]
    },
    {
     "name": "stdout",
     "output_type": "stream",
     "text": [
      "Epoch [1901/6000]: Train loss: 2.1465, Valid loss: 2.1126\n"
     ]
    },
    {
     "name": "stderr",
     "output_type": "stream",
     "text": [
      "100%|██████████| 17/17 [00:00<00:00, 894.71it/s]\n",
      "100%|██████████| 17/17 [00:00<00:00, 849.99it/s]\n",
      "100%|██████████| 17/17 [00:00<00:00, 894.76it/s]\n",
      "100%|██████████| 17/17 [00:00<00:00, 894.72it/s]\n",
      "100%|██████████| 17/17 [00:00<00:00, 850.01it/s]\n",
      "100%|██████████| 17/17 [00:00<00:00, 849.99it/s]\n",
      "100%|██████████| 17/17 [00:00<00:00, 850.01it/s]\n",
      "100%|██████████| 17/17 [00:00<00:00, 850.03it/s]\n",
      "100%|██████████| 17/17 [00:00<00:00, 850.00it/s]\n",
      "100%|██████████| 17/17 [00:00<00:00, 850.02it/s]\n",
      "100%|██████████| 17/17 [00:00<00:00, 850.00it/s]\n",
      "100%|██████████| 17/17 [00:00<00:00, 849.97it/s]\n",
      "100%|██████████| 17/17 [00:00<00:00, 894.73it/s]\n",
      "100%|██████████| 17/17 [00:00<00:00, 894.73it/s]\n",
      "100%|██████████| 17/17 [00:00<00:00, 850.00it/s]\n",
      "100%|██████████| 17/17 [00:00<00:00, 809.52it/s]\n",
      "100%|██████████| 17/17 [00:00<00:00, 894.71it/s]\n",
      "100%|██████████| 17/17 [00:00<00:00, 849.99it/s]\n",
      "100%|██████████| 17/17 [00:00<00:00, 850.00it/s]\n",
      "100%|██████████| 17/17 [00:00<00:00, 849.96it/s]\n"
     ]
    },
    {
     "name": "stdout",
     "output_type": "stream",
     "text": [
      "Epoch [1921/6000]: Train loss: 2.1329, Valid loss: 2.0741\n"
     ]
    },
    {
     "name": "stderr",
     "output_type": "stream",
     "text": [
      "100%|██████████| 17/17 [00:00<00:00, 809.52it/s]\n",
      "100%|██████████| 17/17 [00:00<00:00, 849.99it/s]\n",
      "100%|██████████| 17/17 [00:00<00:00, 809.51it/s]\n",
      "100%|██████████| 17/17 [00:00<00:00, 850.01it/s]\n",
      "100%|██████████| 17/17 [00:00<00:00, 850.00it/s]\n",
      "100%|██████████| 17/17 [00:00<00:00, 850.01it/s]\n",
      "100%|██████████| 17/17 [00:00<00:00, 894.72it/s]\n",
      "100%|██████████| 17/17 [00:00<00:00, 894.73it/s]\n",
      "100%|██████████| 17/17 [00:00<00:00, 809.53it/s]\n",
      "100%|██████████| 17/17 [00:00<00:00, 850.01it/s]\n",
      "100%|██████████| 17/17 [00:00<00:00, 849.99it/s]\n",
      "100%|██████████| 17/17 [00:00<00:00, 849.99it/s]\n",
      "100%|██████████| 17/17 [00:00<00:00, 850.04it/s]\n",
      "100%|██████████| 17/17 [00:00<00:00, 849.99it/s]\n",
      "100%|██████████| 17/17 [00:00<00:00, 850.00it/s]\n",
      "100%|██████████| 17/17 [00:00<00:00, 809.53it/s]\n",
      "100%|██████████| 17/17 [00:00<00:00, 680.02it/s]\n",
      "100%|██████████| 17/17 [00:00<00:00, 849.96it/s]\n",
      "100%|██████████| 17/17 [00:00<00:00, 850.00it/s]\n",
      "100%|██████████| 17/17 [00:00<00:00, 809.51it/s]\n"
     ]
    },
    {
     "name": "stdout",
     "output_type": "stream",
     "text": [
      "Epoch [1941/6000]: Train loss: 2.1171, Valid loss: 1.8447\n"
     ]
    },
    {
     "name": "stderr",
     "output_type": "stream",
     "text": [
      "100%|██████████| 17/17 [00:00<00:00, 850.00it/s]\n",
      "100%|██████████| 17/17 [00:00<00:00, 809.52it/s]\n",
      "100%|██████████| 17/17 [00:00<00:00, 850.00it/s]\n"
     ]
    },
    {
     "name": "stdout",
     "output_type": "stream",
     "text": [
      "Saving model with loss 1.757...\n"
     ]
    },
    {
     "name": "stderr",
     "output_type": "stream",
     "text": [
      "100%|██████████| 17/17 [00:00<00:00, 849.98it/s]\n",
      "100%|██████████| 17/17 [00:00<00:00, 849.96it/s]\n",
      "100%|██████████| 17/17 [00:00<00:00, 850.02it/s]\n",
      "100%|██████████| 17/17 [00:00<00:00, 856.14it/s]\n",
      "100%|██████████| 17/17 [00:00<00:00, 894.73it/s]\n",
      "100%|██████████| 17/17 [00:00<00:00, 894.76it/s]\n",
      "100%|██████████| 17/17 [00:00<00:00, 809.52it/s]\n",
      "100%|██████████| 17/17 [00:00<00:00, 850.02it/s]\n",
      "100%|██████████| 17/17 [00:00<00:00, 849.96it/s]\n",
      "100%|██████████| 17/17 [00:00<00:00, 850.00it/s]\n",
      "100%|██████████| 17/17 [00:00<00:00, 849.99it/s]\n",
      "100%|██████████| 17/17 [00:00<00:00, 850.00it/s]\n",
      "100%|██████████| 17/17 [00:00<00:00, 809.53it/s]\n",
      "100%|██████████| 17/17 [00:00<00:00, 809.52it/s]\n",
      "100%|██████████| 17/17 [00:00<00:00, 849.99it/s]\n",
      "100%|██████████| 17/17 [00:00<00:00, 849.97it/s]\n",
      "100%|██████████| 17/17 [00:00<00:00, 849.99it/s]\n"
     ]
    },
    {
     "name": "stdout",
     "output_type": "stream",
     "text": [
      "Epoch [1961/6000]: Train loss: 2.1024, Valid loss: 1.9501\n"
     ]
    },
    {
     "name": "stderr",
     "output_type": "stream",
     "text": [
      "100%|██████████| 17/17 [00:00<00:00, 850.01it/s]\n",
      "100%|██████████| 17/17 [00:00<00:00, 809.53it/s]\n",
      "100%|██████████| 17/17 [00:00<00:00, 852.27it/s]\n",
      "100%|██████████| 17/17 [00:00<00:00, 850.05it/s]\n",
      "100%|██████████| 17/17 [00:00<00:00, 894.70it/s]\n",
      "100%|██████████| 17/17 [00:00<00:00, 809.55it/s]\n",
      "100%|██████████| 17/17 [00:00<00:00, 772.70it/s]\n",
      "100%|██████████| 17/17 [00:00<00:00, 850.00it/s]\n",
      "100%|██████████| 17/17 [00:00<00:00, 894.73it/s]\n",
      "100%|██████████| 17/17 [00:00<00:00, 894.75it/s]\n"
     ]
    },
    {
     "name": "stdout",
     "output_type": "stream",
     "text": [
      "Saving model with loss 1.753...\n"
     ]
    },
    {
     "name": "stderr",
     "output_type": "stream",
     "text": [
      "100%|██████████| 17/17 [00:00<00:00, 850.00it/s]\n",
      "100%|██████████| 17/17 [00:00<00:00, 894.73it/s]\n",
      "100%|██████████| 17/17 [00:00<00:00, 894.73it/s]\n",
      "100%|██████████| 17/17 [00:00<00:00, 894.76it/s]\n",
      "100%|██████████| 17/17 [00:00<00:00, 850.01it/s]\n",
      "100%|██████████| 17/17 [00:00<00:00, 850.02it/s]\n",
      "100%|██████████| 17/17 [00:00<00:00, 850.00it/s]\n",
      "100%|██████████| 17/17 [00:00<00:00, 809.53it/s]\n",
      "100%|██████████| 17/17 [00:00<00:00, 850.02it/s]\n",
      "100%|██████████| 17/17 [00:00<00:00, 850.02it/s]\n"
     ]
    },
    {
     "name": "stdout",
     "output_type": "stream",
     "text": [
      "Epoch [1981/6000]: Train loss: 2.0962, Valid loss: 1.8948\n"
     ]
    },
    {
     "name": "stderr",
     "output_type": "stream",
     "text": [
      "100%|██████████| 17/17 [00:00<00:00, 850.01it/s]\n",
      "100%|██████████| 17/17 [00:00<00:00, 809.52it/s]\n",
      "100%|██████████| 17/17 [00:00<00:00, 849.99it/s]\n",
      "100%|██████████| 17/17 [00:00<00:00, 809.53it/s]\n",
      "100%|██████████| 17/17 [00:00<00:00, 849.98it/s]\n",
      "100%|██████████| 17/17 [00:00<00:00, 850.03it/s]\n",
      "100%|██████████| 17/17 [00:00<00:00, 894.76it/s]\n",
      "100%|██████████| 17/17 [00:00<00:00, 772.73it/s]\n"
     ]
    },
    {
     "name": "stdout",
     "output_type": "stream",
     "text": [
      "Saving model with loss 1.746...\n"
     ]
    },
    {
     "name": "stderr",
     "output_type": "stream",
     "text": [
      "100%|██████████| 17/17 [00:00<00:00, 894.73it/s]\n",
      "100%|██████████| 17/17 [00:00<00:00, 894.73it/s]\n",
      "100%|██████████| 17/17 [00:00<00:00, 850.00it/s]\n"
     ]
    },
    {
     "name": "stdout",
     "output_type": "stream",
     "text": [
      "Saving model with loss 1.735...\n"
     ]
    },
    {
     "name": "stderr",
     "output_type": "stream",
     "text": [
      "100%|██████████| 17/17 [00:00<00:00, 894.75it/s]\n",
      "100%|██████████| 17/17 [00:00<00:00, 894.75it/s]\n",
      "100%|██████████| 17/17 [00:00<00:00, 849.99it/s]\n",
      "100%|██████████| 17/17 [00:00<00:00, 850.00it/s]\n",
      "100%|██████████| 17/17 [00:00<00:00, 850.02it/s]\n",
      "100%|██████████| 17/17 [00:00<00:00, 894.75it/s]\n",
      "100%|██████████| 17/17 [00:00<00:00, 894.72it/s]\n",
      "100%|██████████| 17/17 [00:00<00:00, 749.66it/s]\n",
      "100%|██████████| 17/17 [00:00<00:00, 744.05it/s]\n"
     ]
    },
    {
     "name": "stdout",
     "output_type": "stream",
     "text": [
      "Epoch [2001/6000]: Train loss: 2.0812, Valid loss: 1.9374\n"
     ]
    },
    {
     "name": "stderr",
     "output_type": "stream",
     "text": [
      "100%|██████████| 17/17 [00:00<00:00, 822.19it/s]\n",
      "100%|██████████| 17/17 [00:00<00:00, 809.51it/s]\n",
      "100%|██████████| 17/17 [00:00<00:00, 850.00it/s]\n",
      "100%|██████████| 17/17 [00:00<00:00, 809.52it/s]\n",
      "100%|██████████| 17/17 [00:00<00:00, 850.00it/s]\n",
      "100%|██████████| 17/17 [00:00<00:00, 708.36it/s]\n",
      "100%|██████████| 17/17 [00:00<00:00, 708.36it/s]\n",
      "100%|██████████| 17/17 [00:00<00:00, 809.53it/s]\n",
      "100%|██████████| 17/17 [00:00<00:00, 850.01it/s]\n",
      "100%|██████████| 17/17 [00:00<00:00, 679.98it/s]\n",
      "100%|██████████| 17/17 [00:00<00:00, 772.74it/s]\n",
      "100%|██████████| 17/17 [00:00<00:00, 778.61it/s]\n",
      "100%|██████████| 17/17 [00:00<00:00, 485.71it/s]\n",
      "100%|██████████| 17/17 [00:00<00:00, 515.16it/s]\n",
      "100%|██████████| 17/17 [00:00<00:00, 809.55it/s]\n",
      "100%|██████████| 17/17 [00:00<00:00, 850.00it/s]\n",
      "100%|██████████| 17/17 [00:00<00:00, 772.57it/s]\n",
      "100%|██████████| 17/17 [00:00<00:00, 856.00it/s]\n",
      "100%|██████████| 17/17 [00:00<00:00, 849.98it/s]\n",
      "100%|██████████| 17/17 [00:00<00:00, 809.52it/s]\n"
     ]
    },
    {
     "name": "stdout",
     "output_type": "stream",
     "text": [
      "Epoch [2021/6000]: Train loss: 2.0736, Valid loss: 1.9307\n"
     ]
    },
    {
     "name": "stderr",
     "output_type": "stream",
     "text": [
      "100%|██████████| 17/17 [00:00<00:00, 894.73it/s]\n",
      "100%|██████████| 17/17 [00:00<00:00, 894.73it/s]\n",
      "100%|██████████| 17/17 [00:00<00:00, 894.72it/s]\n",
      "100%|██████████| 17/17 [00:00<00:00, 894.75it/s]\n",
      "100%|██████████| 17/17 [00:00<00:00, 894.73it/s]\n",
      "100%|██████████| 17/17 [00:00<00:00, 850.02it/s]\n",
      "100%|██████████| 17/17 [00:00<00:00, 894.75it/s]\n",
      "100%|██████████| 17/17 [00:00<00:00, 850.00it/s]\n",
      "100%|██████████| 17/17 [00:00<00:00, 894.73it/s]\n",
      "100%|██████████| 17/17 [00:00<00:00, 849.96it/s]\n",
      "100%|██████████| 17/17 [00:00<00:00, 850.00it/s]\n",
      "100%|██████████| 17/17 [00:00<00:00, 850.00it/s]\n"
     ]
    },
    {
     "name": "stdout",
     "output_type": "stream",
     "text": [
      "Saving model with loss 1.720...\n"
     ]
    },
    {
     "name": "stderr",
     "output_type": "stream",
     "text": [
      "100%|██████████| 17/17 [00:00<00:00, 850.01it/s]\n",
      "100%|██████████| 17/17 [00:00<00:00, 894.73it/s]\n",
      "100%|██████████| 17/17 [00:00<00:00, 894.73it/s]\n",
      "100%|██████████| 17/17 [00:00<00:00, 894.72it/s]\n",
      "100%|██████████| 17/17 [00:00<00:00, 894.72it/s]\n",
      "100%|██████████| 17/17 [00:00<00:00, 894.72it/s]\n",
      "100%|██████████| 17/17 [00:00<00:00, 849.98it/s]\n",
      "100%|██████████| 17/17 [00:00<00:00, 894.73it/s]\n"
     ]
    },
    {
     "name": "stdout",
     "output_type": "stream",
     "text": [
      "Epoch [2041/6000]: Train loss: 2.0627, Valid loss: 1.8184\n"
     ]
    },
    {
     "name": "stderr",
     "output_type": "stream",
     "text": [
      "100%|██████████| 17/17 [00:00<00:00, 894.70it/s]\n",
      "100%|██████████| 17/17 [00:00<00:00, 894.76it/s]\n",
      "100%|██████████| 17/17 [00:00<00:00, 849.99it/s]\n",
      "100%|██████████| 17/17 [00:00<00:00, 849.99it/s]\n",
      "100%|██████████| 17/17 [00:00<00:00, 809.52it/s]\n",
      "100%|██████████| 17/17 [00:00<00:00, 772.75it/s]\n",
      "100%|██████████| 17/17 [00:00<00:00, 809.53it/s]\n",
      "100%|██████████| 17/17 [00:00<00:00, 850.02it/s]\n",
      "100%|██████████| 17/17 [00:00<00:00, 772.72it/s]\n",
      "100%|██████████| 17/17 [00:00<00:00, 809.50it/s]\n",
      "100%|██████████| 17/17 [00:00<00:00, 809.49it/s]\n",
      "100%|██████████| 17/17 [00:00<00:00, 809.52it/s]\n",
      "100%|██████████| 17/17 [00:00<00:00, 850.00it/s]\n",
      "100%|██████████| 17/17 [00:00<00:00, 809.53it/s]\n",
      "100%|██████████| 17/17 [00:00<00:00, 850.01it/s]\n",
      "100%|██████████| 17/17 [00:00<00:00, 849.96it/s]\n",
      "100%|██████████| 17/17 [00:00<00:00, 850.00it/s]\n",
      "100%|██████████| 17/17 [00:00<00:00, 850.02it/s]\n",
      "100%|██████████| 17/17 [00:00<00:00, 849.98it/s]\n",
      "100%|██████████| 17/17 [00:00<00:00, 809.48it/s]\n"
     ]
    },
    {
     "name": "stdout",
     "output_type": "stream",
     "text": [
      "Epoch [2061/6000]: Train loss: 2.0522, Valid loss: 1.8039\n"
     ]
    },
    {
     "name": "stderr",
     "output_type": "stream",
     "text": [
      "100%|██████████| 17/17 [00:00<00:00, 894.73it/s]\n",
      "100%|██████████| 17/17 [00:00<00:00, 809.53it/s]\n",
      "100%|██████████| 17/17 [00:00<00:00, 850.01it/s]\n",
      "100%|██████████| 17/17 [00:00<00:00, 850.00it/s]\n",
      "100%|██████████| 17/17 [00:00<00:00, 894.71it/s]\n",
      "100%|██████████| 17/17 [00:00<00:00, 850.00it/s]\n",
      "100%|██████████| 17/17 [00:00<00:00, 894.75it/s]\n",
      "100%|██████████| 17/17 [00:00<00:00, 894.72it/s]\n",
      "100%|██████████| 17/17 [00:00<00:00, 894.70it/s]\n",
      "100%|██████████| 17/17 [00:00<00:00, 894.75it/s]\n",
      "100%|██████████| 17/17 [00:00<00:00, 850.02it/s]\n",
      "100%|██████████| 17/17 [00:00<00:00, 849.98it/s]\n",
      "100%|██████████| 17/17 [00:00<00:00, 809.53it/s]\n",
      "100%|██████████| 17/17 [00:00<00:00, 848.42it/s]\n",
      "100%|██████████| 17/17 [00:00<00:00, 850.00it/s]\n",
      "100%|██████████| 17/17 [00:00<00:00, 849.99it/s]\n",
      "100%|██████████| 17/17 [00:00<00:00, 850.00it/s]\n",
      "100%|██████████| 17/17 [00:00<00:00, 809.49it/s]\n",
      "100%|██████████| 17/17 [00:00<00:00, 850.00it/s]\n",
      "100%|██████████| 17/17 [00:00<00:00, 772.72it/s]\n"
     ]
    },
    {
     "name": "stdout",
     "output_type": "stream",
     "text": [
      "Epoch [2081/6000]: Train loss: 2.0402, Valid loss: 1.8958\n"
     ]
    },
    {
     "name": "stderr",
     "output_type": "stream",
     "text": [
      "100%|██████████| 17/17 [00:00<00:00, 809.54it/s]\n",
      "100%|██████████| 17/17 [00:00<00:00, 809.50it/s]\n",
      "100%|██████████| 17/17 [00:00<00:00, 787.17it/s]\n",
      "100%|██████████| 17/17 [00:00<00:00, 850.01it/s]\n",
      "100%|██████████| 17/17 [00:00<00:00, 849.99it/s]\n",
      "100%|██████████| 17/17 [00:00<00:00, 786.95it/s]\n",
      "100%|██████████| 17/17 [00:00<00:00, 739.11it/s]\n",
      "100%|██████████| 17/17 [00:00<00:00, 809.55it/s]\n",
      "100%|██████████| 17/17 [00:00<00:00, 809.55it/s]\n",
      "100%|██████████| 17/17 [00:00<00:00, 850.00it/s]\n",
      "100%|██████████| 17/17 [00:00<00:00, 849.98it/s]\n",
      "100%|██████████| 17/17 [00:00<00:00, 850.01it/s]\n",
      "100%|██████████| 17/17 [00:00<00:00, 809.53it/s]\n",
      "100%|██████████| 17/17 [00:00<00:00, 809.52it/s]\n",
      "100%|██████████| 17/17 [00:00<00:00, 850.01it/s]\n",
      "100%|██████████| 17/17 [00:00<00:00, 849.99it/s]\n",
      "100%|██████████| 17/17 [00:00<00:00, 894.75it/s]\n",
      "100%|██████████| 17/17 [00:00<00:00, 850.01it/s]\n",
      "100%|██████████| 17/17 [00:00<00:00, 857.25it/s]\n"
     ]
    },
    {
     "name": "stdout",
     "output_type": "stream",
     "text": [
      "Saving model with loss 1.697...\n"
     ]
    },
    {
     "name": "stderr",
     "output_type": "stream",
     "text": [
      "100%|██████████| 17/17 [00:00<00:00, 894.75it/s]\n"
     ]
    },
    {
     "name": "stdout",
     "output_type": "stream",
     "text": [
      "Epoch [2101/6000]: Train loss: 2.0296, Valid loss: 1.8220\n"
     ]
    },
    {
     "name": "stderr",
     "output_type": "stream",
     "text": [
      "100%|██████████| 17/17 [00:00<00:00, 809.53it/s]\n",
      "100%|██████████| 17/17 [00:00<00:00, 772.72it/s]\n",
      "100%|██████████| 17/17 [00:00<00:00, 809.55it/s]\n",
      "100%|██████████| 17/17 [00:00<00:00, 809.50it/s]\n",
      "100%|██████████| 17/17 [00:00<00:00, 894.73it/s]\n",
      "100%|██████████| 17/17 [00:00<00:00, 849.99it/s]\n",
      "100%|██████████| 17/17 [00:00<00:00, 894.72it/s]\n",
      "100%|██████████| 17/17 [00:00<00:00, 850.04it/s]\n",
      "100%|██████████| 17/17 [00:00<00:00, 850.01it/s]\n",
      "100%|██████████| 17/17 [00:00<00:00, 894.73it/s]\n",
      "100%|██████████| 17/17 [00:00<00:00, 894.72it/s]\n",
      "100%|██████████| 17/17 [00:00<00:00, 850.02it/s]\n",
      "100%|██████████| 17/17 [00:00<00:00, 849.98it/s]\n",
      "100%|██████████| 17/17 [00:00<00:00, 894.70it/s]\n",
      "100%|██████████| 17/17 [00:00<00:00, 849.97it/s]\n",
      "100%|██████████| 17/17 [00:00<00:00, 894.72it/s]\n",
      "100%|██████████| 17/17 [00:00<00:00, 894.72it/s]\n",
      "100%|██████████| 17/17 [00:00<00:00, 894.75it/s]\n",
      "100%|██████████| 17/17 [00:00<00:00, 850.01it/s]\n",
      "100%|██████████| 17/17 [00:00<00:00, 850.01it/s]\n"
     ]
    },
    {
     "name": "stdout",
     "output_type": "stream",
     "text": [
      "Epoch [2121/6000]: Train loss: 2.0245, Valid loss: 1.9220\n"
     ]
    },
    {
     "name": "stderr",
     "output_type": "stream",
     "text": [
      "100%|██████████| 17/17 [00:00<00:00, 894.70it/s]\n",
      "100%|██████████| 17/17 [00:00<00:00, 849.97it/s]\n",
      "100%|██████████| 17/17 [00:00<00:00, 849.95it/s]\n",
      "100%|██████████| 17/17 [00:00<00:00, 849.99it/s]\n",
      "100%|██████████| 17/17 [00:00<00:00, 850.01it/s]\n",
      "100%|██████████| 17/17 [00:00<00:00, 894.73it/s]\n",
      "100%|██████████| 17/17 [00:00<00:00, 850.01it/s]\n",
      "100%|██████████| 17/17 [00:00<00:00, 849.98it/s]\n",
      "100%|██████████| 17/17 [00:00<00:00, 850.00it/s]\n",
      "100%|██████████| 17/17 [00:00<00:00, 850.00it/s]\n",
      "100%|██████████| 17/17 [00:00<00:00, 850.00it/s]\n",
      "100%|██████████| 17/17 [00:00<00:00, 849.97it/s]\n",
      "100%|██████████| 17/17 [00:00<00:00, 894.73it/s]\n",
      "100%|██████████| 17/17 [00:00<00:00, 849.97it/s]\n",
      "100%|██████████| 17/17 [00:00<00:00, 850.00it/s]\n",
      "100%|██████████| 17/17 [00:00<00:00, 894.72it/s]\n",
      "100%|██████████| 17/17 [00:00<00:00, 850.01it/s]\n",
      "100%|██████████| 17/17 [00:00<00:00, 849.99it/s]\n",
      "100%|██████████| 17/17 [00:00<00:00, 850.01it/s]\n",
      "100%|██████████| 17/17 [00:00<00:00, 849.98it/s]\n"
     ]
    },
    {
     "name": "stdout",
     "output_type": "stream",
     "text": [
      "Epoch [2141/6000]: Train loss: 2.0158, Valid loss: 1.8803\n"
     ]
    },
    {
     "name": "stderr",
     "output_type": "stream",
     "text": [
      "100%|██████████| 17/17 [00:00<00:00, 850.03it/s]\n",
      "100%|██████████| 17/17 [00:00<00:00, 849.96it/s]\n",
      "100%|██████████| 17/17 [00:00<00:00, 850.01it/s]\n",
      "100%|██████████| 17/17 [00:00<00:00, 566.66it/s]\n",
      "100%|██████████| 17/17 [00:00<00:00, 554.51it/s]\n"
     ]
    },
    {
     "name": "stdout",
     "output_type": "stream",
     "text": [
      "Saving model with loss 1.643...\n"
     ]
    },
    {
     "name": "stderr",
     "output_type": "stream",
     "text": [
      "100%|██████████| 17/17 [00:00<00:00, 708.30it/s]\n",
      "100%|██████████| 17/17 [00:00<00:00, 722.98it/s]\n",
      "100%|██████████| 17/17 [00:00<00:00, 809.52it/s]\n",
      "100%|██████████| 17/17 [00:00<00:00, 820.87it/s]\n",
      "100%|██████████| 17/17 [00:00<00:00, 723.88it/s]\n",
      "100%|██████████| 17/17 [00:00<00:00, 723.12it/s]\n",
      "100%|██████████| 17/17 [00:00<00:00, 719.26it/s]\n",
      "100%|██████████| 17/17 [00:00<00:00, 809.62it/s]\n",
      "100%|██████████| 17/17 [00:00<00:00, 804.01it/s]\n",
      "100%|██████████| 17/17 [00:00<00:00, 799.23it/s]\n",
      "100%|██████████| 17/17 [00:00<00:00, 739.15it/s]\n",
      "100%|██████████| 17/17 [00:00<00:00, 772.72it/s]\n",
      "100%|██████████| 17/17 [00:00<00:00, 772.74it/s]\n",
      "100%|██████████| 17/17 [00:00<00:00, 764.83it/s]\n",
      "100%|██████████| 17/17 [00:00<00:00, 790.34it/s]\n"
     ]
    },
    {
     "name": "stdout",
     "output_type": "stream",
     "text": [
      "Epoch [2161/6000]: Train loss: 2.0020, Valid loss: 1.7022\n"
     ]
    },
    {
     "name": "stderr",
     "output_type": "stream",
     "text": [
      "100%|██████████| 17/17 [00:00<00:00, 850.03it/s]\n",
      "100%|██████████| 17/17 [00:00<00:00, 819.83it/s]\n",
      "100%|██████████| 17/17 [00:00<00:00, 894.75it/s]\n",
      "100%|██████████| 17/17 [00:00<00:00, 829.98it/s]\n",
      "100%|██████████| 17/17 [00:00<00:00, 820.25it/s]\n",
      "100%|██████████| 17/17 [00:00<00:00, 850.00it/s]\n",
      "100%|██████████| 17/17 [00:00<00:00, 894.76it/s]\n",
      "100%|██████████| 17/17 [00:00<00:00, 917.67it/s]\n",
      "100%|██████████| 17/17 [00:00<00:00, 773.54it/s]\n",
      "100%|██████████| 17/17 [00:00<00:00, 916.61it/s]\n",
      "100%|██████████| 17/17 [00:00<00:00, 805.81it/s]\n",
      "100%|██████████| 17/17 [00:00<00:00, 845.49it/s]\n",
      "100%|██████████| 17/17 [00:00<00:00, 858.37it/s]\n",
      "100%|██████████| 17/17 [00:00<00:00, 826.74it/s]\n",
      "100%|██████████| 17/17 [00:00<00:00, 852.04it/s]\n",
      "100%|██████████| 17/17 [00:00<00:00, 908.51it/s]\n",
      "100%|██████████| 17/17 [00:00<00:00, 826.07it/s]\n",
      "100%|██████████| 17/17 [00:00<00:00, 869.06it/s]\n",
      "100%|██████████| 17/17 [00:00<00:00, 859.55it/s]\n",
      "100%|██████████| 17/17 [00:00<00:00, 826.36it/s]\n"
     ]
    },
    {
     "name": "stdout",
     "output_type": "stream",
     "text": [
      "Epoch [2181/6000]: Train loss: 1.9930, Valid loss: 2.0584\n"
     ]
    },
    {
     "name": "stderr",
     "output_type": "stream",
     "text": [
      "100%|██████████| 17/17 [00:00<00:00, 874.86it/s]\n",
      "100%|██████████| 17/17 [00:00<00:00, 913.91it/s]\n",
      "100%|██████████| 17/17 [00:00<00:00, 944.41it/s]\n",
      "100%|██████████| 17/17 [00:00<00:00, 888.59it/s]\n",
      "100%|██████████| 17/17 [00:00<00:00, 944.46it/s]\n",
      "100%|██████████| 17/17 [00:00<00:00, 809.52it/s]\n",
      "100%|██████████| 17/17 [00:00<00:00, 894.72it/s]\n",
      "100%|██████████| 17/17 [00:00<00:00, 944.95it/s]\n",
      "100%|██████████| 17/17 [00:00<00:00, 915.20it/s]\n",
      "100%|██████████| 17/17 [00:00<00:00, 783.71it/s]\n",
      "100%|██████████| 17/17 [00:00<00:00, 951.36it/s]\n",
      "100%|██████████| 17/17 [00:00<00:00, 894.72it/s]\n",
      "100%|██████████| 17/17 [00:00<00:00, 894.73it/s]\n",
      "100%|██████████| 17/17 [00:00<00:00, 882.20it/s]\n",
      "100%|██████████| 17/17 [00:00<00:00, 830.89it/s]\n",
      "100%|██████████| 17/17 [00:00<00:00, 944.45it/s]\n",
      "100%|██████████| 17/17 [00:00<00:00, 1000.30it/s]\n",
      "100%|██████████| 17/17 [00:00<00:00, 999.99it/s]\n",
      "100%|██████████| 17/17 [00:00<00:00, 999.97it/s]\n",
      "100%|██████████| 17/17 [00:00<00:00, 952.36it/s]\n"
     ]
    },
    {
     "name": "stdout",
     "output_type": "stream",
     "text": [
      "Epoch [2201/6000]: Train loss: 1.9885, Valid loss: 1.8019\n"
     ]
    },
    {
     "name": "stderr",
     "output_type": "stream",
     "text": [
      "100%|██████████| 17/17 [00:00<00:00, 894.73it/s]\n",
      "100%|██████████| 17/17 [00:00<00:00, 944.44it/s]\n",
      "100%|██████████| 17/17 [00:00<00:00, 894.77it/s]\n",
      "100%|██████████| 17/17 [00:00<00:00, 944.45it/s]\n",
      "100%|██████████| 17/17 [00:00<00:00, 968.95it/s]\n",
      "100%|██████████| 17/17 [00:00<00:00, 944.44it/s]\n",
      "100%|██████████| 17/17 [00:00<00:00, 999.97it/s]\n",
      "100%|██████████| 17/17 [00:00<00:00, 894.72it/s]\n",
      "100%|██████████| 17/17 [00:00<00:00, 842.81it/s]\n",
      "100%|██████████| 17/17 [00:00<00:00, 894.75it/s]\n",
      "100%|██████████| 17/17 [00:00<00:00, 983.21it/s]\n",
      "100%|██████████| 17/17 [00:00<00:00, 932.59it/s]\n",
      "100%|██████████| 17/17 [00:00<00:00, 944.46it/s]\n",
      "100%|██████████| 17/17 [00:00<00:00, 751.91it/s]\n",
      "100%|██████████| 17/17 [00:00<00:00, 817.14it/s]\n",
      "100%|██████████| 17/17 [00:00<00:00, 849.99it/s]\n",
      "100%|██████████| 17/17 [00:00<00:00, 739.11it/s]\n",
      "100%|██████████| 17/17 [00:00<00:00, 865.40it/s]\n",
      "100%|██████████| 17/17 [00:00<00:00, 870.09it/s]\n",
      "100%|██████████| 17/17 [00:00<00:00, 869.76it/s]\n"
     ]
    },
    {
     "name": "stdout",
     "output_type": "stream",
     "text": [
      "Epoch [2221/6000]: Train loss: 1.9799, Valid loss: 1.8591\n"
     ]
    },
    {
     "name": "stderr",
     "output_type": "stream",
     "text": [
      "100%|██████████| 17/17 [00:00<00:00, 878.79it/s]\n",
      "100%|██████████| 17/17 [00:00<00:00, 829.82it/s]\n",
      "100%|██████████| 17/17 [00:00<00:00, 915.56it/s]\n",
      "100%|██████████| 17/17 [00:00<00:00, 874.67it/s]\n",
      "100%|██████████| 17/17 [00:00<00:00, 885.80it/s]\n",
      "100%|██████████| 17/17 [00:00<00:00, 944.48it/s]\n",
      "100%|██████████| 17/17 [00:00<00:00, 739.13it/s]\n",
      "100%|██████████| 17/17 [00:00<00:00, 850.04it/s]\n",
      "100%|██████████| 17/17 [00:00<00:00, 679.98it/s]\n",
      "100%|██████████| 17/17 [00:00<00:00, 812.68it/s]\n",
      "100%|██████████| 17/17 [00:00<00:00, 944.43it/s]\n",
      "100%|██████████| 17/17 [00:00<00:00, 894.72it/s]\n",
      "100%|██████████| 17/17 [00:00<00:00, 894.58it/s]\n",
      "100%|██████████| 17/17 [00:00<00:00, 894.70it/s]\n",
      "100%|██████████| 17/17 [00:00<00:00, 894.75it/s]\n"
     ]
    },
    {
     "name": "stdout",
     "output_type": "stream",
     "text": [
      "Saving model with loss 1.637...\n"
     ]
    },
    {
     "name": "stderr",
     "output_type": "stream",
     "text": [
      "100%|██████████| 17/17 [00:00<00:00, 739.12it/s]\n",
      "100%|██████████| 17/17 [00:00<00:00, 913.15it/s]\n",
      "100%|██████████| 17/17 [00:00<00:00, 944.48it/s]\n",
      "100%|██████████| 17/17 [00:00<00:00, 944.45it/s]\n",
      "100%|██████████| 17/17 [00:00<00:00, 944.45it/s]\n"
     ]
    },
    {
     "name": "stdout",
     "output_type": "stream",
     "text": [
      "Epoch [2241/6000]: Train loss: 1.9745, Valid loss: 1.7413\n"
     ]
    },
    {
     "name": "stderr",
     "output_type": "stream",
     "text": [
      "100%|██████████| 17/17 [00:00<00:00, 894.75it/s]\n",
      "100%|██████████| 17/17 [00:00<00:00, 894.75it/s]\n",
      "100%|██████████| 17/17 [00:00<00:00, 894.75it/s]\n",
      "100%|██████████| 17/17 [00:00<00:00, 948.52it/s]\n"
     ]
    },
    {
     "name": "stdout",
     "output_type": "stream",
     "text": [
      "Saving model with loss 1.635...\n"
     ]
    },
    {
     "name": "stderr",
     "output_type": "stream",
     "text": [
      "100%|██████████| 17/17 [00:00<00:00, 894.52it/s]\n",
      "100%|██████████| 17/17 [00:00<00:00, 944.46it/s]\n",
      "100%|██████████| 17/17 [00:00<00:00, 976.39it/s]\n",
      "100%|██████████| 17/17 [00:00<00:00, 999.99it/s]\n",
      "100%|██████████| 17/17 [00:00<00:00, 944.45it/s]\n",
      "100%|██████████| 17/17 [00:00<00:00, 944.46it/s]\n",
      "100%|██████████| 17/17 [00:00<00:00, 795.87it/s]\n",
      "100%|██████████| 17/17 [00:00<00:00, 1000.00it/s]\n",
      "100%|██████████| 17/17 [00:00<00:00, 999.99it/s]\n",
      "100%|██████████| 17/17 [00:00<00:00, 861.33it/s]\n",
      "100%|██████████| 17/17 [00:00<00:00, 908.81it/s]\n",
      "100%|██████████| 17/17 [00:00<00:00, 653.83it/s]\n",
      "100%|██████████| 17/17 [00:00<00:00, 809.51it/s]\n",
      "100%|██████████| 17/17 [00:00<00:00, 807.46it/s]\n",
      "100%|██████████| 17/17 [00:00<00:00, 850.01it/s]\n",
      "100%|██████████| 17/17 [00:00<00:00, 894.76it/s]\n"
     ]
    },
    {
     "name": "stdout",
     "output_type": "stream",
     "text": [
      "Epoch [2261/6000]: Train loss: 1.9648, Valid loss: 1.7208\n"
     ]
    },
    {
     "name": "stderr",
     "output_type": "stream",
     "text": [
      "100%|██████████| 17/17 [00:00<00:00, 882.81it/s]\n",
      "100%|██████████| 17/17 [00:00<00:00, 696.19it/s]\n",
      "100%|██████████| 17/17 [00:00<00:00, 653.89it/s]\n",
      "100%|██████████| 17/17 [00:00<00:00, 739.11it/s]\n",
      "100%|██████████| 17/17 [00:00<00:00, 782.77it/s]\n",
      "100%|██████████| 17/17 [00:00<00:00, 833.59it/s]\n",
      "100%|██████████| 17/17 [00:00<00:00, 653.81it/s]\n",
      "100%|██████████| 17/17 [00:00<00:00, 850.03it/s]\n",
      "100%|██████████| 17/17 [00:00<00:00, 849.97it/s]\n",
      "100%|██████████| 17/17 [00:00<00:00, 894.73it/s]\n",
      "100%|██████████| 17/17 [00:00<00:00, 894.75it/s]\n",
      "100%|██████████| 17/17 [00:00<00:00, 894.72it/s]\n",
      "100%|██████████| 17/17 [00:00<00:00, 894.72it/s]\n",
      "100%|██████████| 17/17 [00:00<00:00, 854.53it/s]\n",
      "100%|██████████| 17/17 [00:00<00:00, 894.76it/s]\n",
      "100%|██████████| 17/17 [00:00<00:00, 863.84it/s]\n",
      "100%|██████████| 17/17 [00:00<00:00, 894.75it/s]\n",
      "100%|██████████| 17/17 [00:00<00:00, 944.45it/s]\n",
      "100%|██████████| 17/17 [00:00<00:00, 882.09it/s]\n",
      "100%|██████████| 17/17 [00:00<00:00, 894.76it/s]\n"
     ]
    },
    {
     "name": "stdout",
     "output_type": "stream",
     "text": [
      "Epoch [2281/6000]: Train loss: 1.9510, Valid loss: 1.6530\n"
     ]
    },
    {
     "name": "stderr",
     "output_type": "stream",
     "text": [
      "100%|██████████| 17/17 [00:00<00:00, 856.40it/s]\n",
      "100%|██████████| 17/17 [00:00<00:00, 849.97it/s]\n",
      "100%|██████████| 17/17 [00:00<00:00, 894.73it/s]\n",
      "100%|██████████| 17/17 [00:00<00:00, 803.30it/s]\n",
      "100%|██████████| 17/17 [00:00<00:00, 738.29it/s]\n",
      "100%|██████████| 17/17 [00:00<00:00, 721.62it/s]\n",
      "100%|██████████| 17/17 [00:00<00:00, 708.24it/s]\n",
      "100%|██████████| 17/17 [00:00<00:00, 660.44it/s]\n",
      "100%|██████████| 17/17 [00:00<00:00, 685.36it/s]\n",
      "100%|██████████| 17/17 [00:00<00:00, 502.86it/s]\n",
      "100%|██████████| 17/17 [00:00<00:00, 831.47it/s]\n",
      "100%|██████████| 17/17 [00:00<00:00, 809.52it/s]\n",
      "100%|██████████| 17/17 [00:00<00:00, 737.78it/s]\n",
      "100%|██████████| 17/17 [00:00<00:00, 764.46it/s]\n",
      "100%|██████████| 17/17 [00:00<00:00, 692.97it/s]\n",
      "100%|██████████| 17/17 [00:00<00:00, 809.52it/s]\n",
      "100%|██████████| 17/17 [00:00<00:00, 886.17it/s]\n"
     ]
    },
    {
     "name": "stdout",
     "output_type": "stream",
     "text": [
      "Saving model with loss 1.601...\n"
     ]
    },
    {
     "name": "stderr",
     "output_type": "stream",
     "text": [
      "100%|██████████| 17/17 [00:00<00:00, 742.90it/s]\n",
      "100%|██████████| 17/17 [00:00<00:00, 894.73it/s]\n",
      "100%|██████████| 17/17 [00:00<00:00, 815.55it/s]\n"
     ]
    },
    {
     "name": "stdout",
     "output_type": "stream",
     "text": [
      "Epoch [2301/6000]: Train loss: 1.9515, Valid loss: 1.7713\n"
     ]
    },
    {
     "name": "stderr",
     "output_type": "stream",
     "text": [
      "100%|██████████| 17/17 [00:00<00:00, 785.99it/s]\n",
      "100%|██████████| 17/17 [00:00<00:00, 853.53it/s]\n",
      "100%|██████████| 17/17 [00:00<00:00, 856.55it/s]\n",
      "100%|██████████| 17/17 [00:00<00:00, 817.06it/s]\n",
      "100%|██████████| 17/17 [00:00<00:00, 850.00it/s]\n",
      "100%|██████████| 17/17 [00:00<00:00, 894.75it/s]\n",
      "100%|██████████| 17/17 [00:00<00:00, 894.73it/s]\n",
      "100%|██████████| 17/17 [00:00<00:00, 894.76it/s]\n",
      "100%|██████████| 17/17 [00:00<00:00, 684.88it/s]\n",
      "100%|██████████| 17/17 [00:00<00:00, 894.75it/s]\n",
      "100%|██████████| 17/17 [00:00<00:00, 762.82it/s]\n",
      "100%|██████████| 17/17 [00:00<00:00, 784.28it/s]\n",
      "100%|██████████| 17/17 [00:00<00:00, 839.59it/s]\n",
      "100%|██████████| 17/17 [00:00<00:00, 863.45it/s]\n",
      "100%|██████████| 17/17 [00:00<00:00, 824.14it/s]\n",
      "100%|██████████| 17/17 [00:00<00:00, 738.99it/s]\n",
      "100%|██████████| 17/17 [00:00<00:00, 823.20it/s]\n",
      "100%|██████████| 17/17 [00:00<00:00, 862.74it/s]\n",
      "100%|██████████| 17/17 [00:00<00:00, 894.71it/s]\n",
      "100%|██████████| 17/17 [00:00<00:00, 739.15it/s]\n"
     ]
    },
    {
     "name": "stdout",
     "output_type": "stream",
     "text": [
      "Epoch [2321/6000]: Train loss: 1.9436, Valid loss: 1.7380\n"
     ]
    },
    {
     "name": "stderr",
     "output_type": "stream",
     "text": [
      "100%|██████████| 17/17 [00:00<00:00, 768.10it/s]\n",
      "100%|██████████| 17/17 [00:00<00:00, 866.25it/s]\n",
      "100%|██████████| 17/17 [00:00<00:00, 772.71it/s]\n",
      "100%|██████████| 17/17 [00:00<00:00, 739.17it/s]\n",
      "100%|██████████| 17/17 [00:00<00:00, 735.16it/s]\n",
      "100%|██████████| 17/17 [00:00<00:00, 869.31it/s]\n",
      "100%|██████████| 17/17 [00:00<00:00, 772.68it/s]\n",
      "100%|██████████| 17/17 [00:00<00:00, 689.09it/s]\n",
      "100%|██████████| 17/17 [00:00<00:00, 734.24it/s]\n",
      "100%|██████████| 17/17 [00:00<00:00, 894.80it/s]\n",
      "100%|██████████| 17/17 [00:00<00:00, 893.27it/s]\n",
      "100%|██████████| 17/17 [00:00<00:00, 779.96it/s]\n",
      "100%|██████████| 17/17 [00:00<00:00, 906.69it/s]\n",
      "100%|██████████| 17/17 [00:00<00:00, 629.66it/s]\n",
      "100%|██████████| 17/17 [00:00<00:00, 549.71it/s]\n",
      "100%|██████████| 17/17 [00:00<00:00, 737.66it/s]\n",
      "100%|██████████| 17/17 [00:00<00:00, 876.21it/s]\n",
      "100%|██████████| 17/17 [00:00<00:00, 894.73it/s]\n",
      "100%|██████████| 17/17 [00:00<00:00, 850.00it/s]\n",
      "100%|██████████| 17/17 [00:00<00:00, 772.72it/s]\n"
     ]
    },
    {
     "name": "stdout",
     "output_type": "stream",
     "text": [
      "Epoch [2341/6000]: Train loss: 1.9367, Valid loss: 1.7471\n"
     ]
    },
    {
     "name": "stderr",
     "output_type": "stream",
     "text": [
      "100%|██████████| 17/17 [00:00<00:00, 944.45it/s]\n",
      "100%|██████████| 17/17 [00:00<00:00, 944.44it/s]\n",
      "100%|██████████| 17/17 [00:00<00:00, 902.95it/s]\n",
      "100%|██████████| 17/17 [00:00<00:00, 938.31it/s]\n",
      "100%|██████████| 17/17 [00:00<00:00, 1000.00it/s]\n",
      "100%|██████████| 17/17 [00:00<00:00, 887.35it/s]\n",
      "100%|██████████| 17/17 [00:00<00:00, 944.38it/s]\n",
      "100%|██████████| 17/17 [00:00<00:00, 721.49it/s]\n",
      "100%|██████████| 17/17 [00:00<00:00, 944.43it/s]\n",
      "100%|██████████| 17/17 [00:00<00:00, 894.75it/s]\n",
      "100%|██████████| 17/17 [00:00<00:00, 848.07it/s]\n",
      "100%|██████████| 17/17 [00:00<00:00, 651.59it/s]\n",
      "100%|██████████| 17/17 [00:00<00:00, 886.02it/s]\n",
      "100%|██████████| 17/17 [00:00<00:00, 894.73it/s]\n",
      "100%|██████████| 17/17 [00:00<00:00, 910.83it/s]\n",
      "100%|██████████| 17/17 [00:00<00:00, 859.15it/s]\n",
      "100%|██████████| 17/17 [00:00<00:00, 894.73it/s]\n",
      "100%|██████████| 17/17 [00:00<00:00, 855.31it/s]\n",
      "100%|██████████| 17/17 [00:00<00:00, 894.72it/s]\n",
      "100%|██████████| 17/17 [00:00<00:00, 894.70it/s]\n"
     ]
    },
    {
     "name": "stdout",
     "output_type": "stream",
     "text": [
      "Epoch [2361/6000]: Train loss: 1.9258, Valid loss: 2.1399\n"
     ]
    },
    {
     "name": "stderr",
     "output_type": "stream",
     "text": [
      "100%|██████████| 17/17 [00:00<00:00, 424.08it/s]\n",
      "100%|██████████| 17/17 [00:00<00:00, 772.74it/s]\n",
      "100%|██████████| 17/17 [00:00<00:00, 806.84it/s]\n",
      "100%|██████████| 17/17 [00:00<00:00, 772.74it/s]\n",
      "100%|██████████| 17/17 [00:00<00:00, 809.53it/s]\n",
      "100%|██████████| 17/17 [00:00<00:00, 739.14it/s]\n",
      "100%|██████████| 17/17 [00:00<00:00, 849.98it/s]\n",
      "100%|██████████| 17/17 [00:00<00:00, 790.40it/s]\n",
      "100%|██████████| 17/17 [00:00<00:00, 809.53it/s]\n",
      "100%|██████████| 17/17 [00:00<00:00, 772.77it/s]\n",
      "100%|██████████| 17/17 [00:00<00:00, 850.00it/s]\n",
      "100%|██████████| 17/17 [00:00<00:00, 772.74it/s]\n",
      "100%|██████████| 17/17 [00:00<00:00, 849.99it/s]\n",
      "100%|██████████| 17/17 [00:00<00:00, 772.73it/s]\n",
      "100%|██████████| 17/17 [00:00<00:00, 850.00it/s]\n",
      "100%|██████████| 17/17 [00:00<00:00, 846.56it/s]\n",
      "100%|██████████| 17/17 [00:00<00:00, 739.12it/s]\n",
      "100%|██████████| 17/17 [00:00<00:00, 850.01it/s]\n",
      "100%|██████████| 17/17 [00:00<00:00, 827.13it/s]\n",
      "100%|██████████| 17/17 [00:00<00:00, 850.01it/s]\n"
     ]
    },
    {
     "name": "stdout",
     "output_type": "stream",
     "text": [
      "Epoch [2381/6000]: Train loss: 1.9223, Valid loss: 1.6248\n"
     ]
    },
    {
     "name": "stderr",
     "output_type": "stream",
     "text": [
      "100%|██████████| 17/17 [00:00<00:00, 850.00it/s]\n",
      "100%|██████████| 17/17 [00:00<00:00, 894.73it/s]\n",
      "100%|██████████| 17/17 [00:00<00:00, 809.50it/s]\n",
      "100%|██████████| 17/17 [00:00<00:00, 849.97it/s]\n",
      "100%|██████████| 17/17 [00:00<00:00, 531.26it/s]\n",
      "100%|██████████| 17/17 [00:00<00:00, 642.54it/s]\n",
      "100%|██████████| 17/17 [00:00<00:00, 850.26it/s]\n",
      "100%|██████████| 17/17 [00:00<00:00, 894.75it/s]\n",
      "100%|██████████| 17/17 [00:00<00:00, 850.02it/s]\n",
      "100%|██████████| 17/17 [00:00<00:00, 809.55it/s]\n",
      "100%|██████████| 17/17 [00:00<00:00, 944.44it/s]\n",
      "100%|██████████| 17/17 [00:00<00:00, 1000.02it/s]\n",
      "100%|██████████| 17/17 [00:00<00:00, 999.97it/s]\n",
      "100%|██████████| 17/17 [00:00<00:00, 999.99it/s]\n",
      "100%|██████████| 17/17 [00:00<00:00, 894.75it/s]\n",
      "100%|██████████| 17/17 [00:00<00:00, 935.27it/s]\n",
      "100%|██████████| 17/17 [00:00<00:00, 944.45it/s]\n",
      "100%|██████████| 17/17 [00:00<00:00, 944.44it/s]\n",
      "100%|██████████| 17/17 [00:00<00:00, 944.49it/s]\n",
      "100%|██████████| 17/17 [00:00<00:00, 894.75it/s]\n"
     ]
    },
    {
     "name": "stdout",
     "output_type": "stream",
     "text": [
      "Epoch [2401/6000]: Train loss: 1.9127, Valid loss: 1.5867\n",
      "Saving model with loss 1.587...\n"
     ]
    },
    {
     "name": "stderr",
     "output_type": "stream",
     "text": [
      "100%|██████████| 17/17 [00:00<00:00, 894.73it/s]\n",
      "100%|██████████| 17/17 [00:00<00:00, 944.41it/s]\n",
      "100%|██████████| 17/17 [00:00<00:00, 944.45it/s]\n",
      "100%|██████████| 17/17 [00:00<00:00, 944.44it/s]\n",
      "100%|██████████| 17/17 [00:00<00:00, 944.46it/s]\n",
      "100%|██████████| 17/17 [00:00<00:00, 944.45it/s]\n",
      "100%|██████████| 17/17 [00:00<00:00, 944.44it/s]\n",
      "100%|██████████| 17/17 [00:00<00:00, 944.43it/s]\n",
      "100%|██████████| 17/17 [00:00<00:00, 944.44it/s]\n",
      "100%|██████████| 17/17 [00:00<00:00, 999.97it/s]\n",
      "100%|██████████| 17/17 [00:00<00:00, 999.99it/s]\n",
      "100%|██████████| 17/17 [00:00<00:00, 944.44it/s]\n",
      "100%|██████████| 17/17 [00:00<00:00, 944.45it/s]\n",
      "100%|██████████| 17/17 [00:00<00:00, 944.46it/s]\n",
      "100%|██████████| 17/17 [00:00<00:00, 809.52it/s]\n",
      "100%|██████████| 17/17 [00:00<00:00, 894.72it/s]\n",
      "100%|██████████| 17/17 [00:00<00:00, 772.76it/s]\n",
      "100%|██████████| 17/17 [00:00<00:00, 894.75it/s]\n",
      "100%|██████████| 17/17 [00:00<00:00, 809.27it/s]\n",
      "100%|██████████| 17/17 [00:00<00:00, 772.72it/s]\n"
     ]
    },
    {
     "name": "stdout",
     "output_type": "stream",
     "text": [
      "Epoch [2421/6000]: Train loss: 1.9026, Valid loss: 1.7632\n"
     ]
    },
    {
     "name": "stderr",
     "output_type": "stream",
     "text": [
      "100%|██████████| 17/17 [00:00<00:00, 905.78it/s]\n",
      "100%|██████████| 17/17 [00:00<00:00, 850.00it/s]\n",
      "100%|██████████| 17/17 [00:00<00:00, 809.54it/s]\n",
      "100%|██████████| 17/17 [00:00<00:00, 894.72it/s]\n",
      "100%|██████████| 17/17 [00:00<00:00, 944.44it/s]\n",
      "100%|██████████| 17/17 [00:00<00:00, 944.46it/s]\n",
      "100%|██████████| 17/17 [00:00<00:00, 999.99it/s]\n",
      "100%|██████████| 17/17 [00:00<00:00, 944.46it/s]\n",
      "100%|██████████| 17/17 [00:00<00:00, 944.43it/s]\n",
      "100%|██████████| 17/17 [00:00<00:00, 944.45it/s]\n",
      "100%|██████████| 17/17 [00:00<00:00, 944.48it/s]\n",
      "100%|██████████| 17/17 [00:00<00:00, 944.43it/s]\n",
      "100%|██████████| 17/17 [00:00<00:00, 944.45it/s]\n"
     ]
    },
    {
     "name": "stdout",
     "output_type": "stream",
     "text": [
      "Saving model with loss 1.586...\n"
     ]
    },
    {
     "name": "stderr",
     "output_type": "stream",
     "text": [
      "100%|██████████| 17/17 [00:00<00:00, 944.48it/s]\n",
      "100%|██████████| 17/17 [00:00<00:00, 944.45it/s]\n",
      "100%|██████████| 17/17 [00:00<00:00, 1000.00it/s]\n",
      "100%|██████████| 17/17 [00:00<00:00, 949.15it/s]\n",
      "100%|██████████| 17/17 [00:00<00:00, 944.44it/s]\n",
      "100%|██████████| 17/17 [00:00<00:00, 944.40it/s]\n",
      "100%|██████████| 17/17 [00:00<00:00, 944.48it/s]\n"
     ]
    },
    {
     "name": "stdout",
     "output_type": "stream",
     "text": [
      "Epoch [2441/6000]: Train loss: 1.8995, Valid loss: 1.7198\n"
     ]
    },
    {
     "name": "stderr",
     "output_type": "stream",
     "text": [
      "100%|██████████| 17/17 [00:00<00:00, 944.46it/s]\n",
      "100%|██████████| 17/17 [00:00<00:00, 1000.00it/s]\n",
      "100%|██████████| 17/17 [00:00<00:00, 1000.04it/s]\n",
      "100%|██████████| 17/17 [00:00<00:00, 944.44it/s]\n",
      "100%|██████████| 17/17 [00:00<00:00, 944.45it/s]\n",
      "100%|██████████| 17/17 [00:00<00:00, 944.46it/s]\n",
      "100%|██████████| 17/17 [00:00<00:00, 944.44it/s]\n",
      "100%|██████████| 17/17 [00:00<00:00, 999.99it/s]\n",
      "100%|██████████| 17/17 [00:00<00:00, 944.44it/s]\n",
      "100%|██████████| 17/17 [00:00<00:00, 944.45it/s]\n",
      "100%|██████████| 17/17 [00:00<00:00, 894.73it/s]\n",
      "100%|██████████| 17/17 [00:00<00:00, 944.45it/s]\n",
      "100%|██████████| 17/17 [00:00<00:00, 944.48it/s]\n",
      "100%|██████████| 17/17 [00:00<00:00, 894.73it/s]\n",
      "100%|██████████| 17/17 [00:00<00:00, 944.45it/s]\n",
      "100%|██████████| 17/17 [00:00<00:00, 828.88it/s]\n",
      "100%|██████████| 17/17 [00:00<00:00, 850.00it/s]\n"
     ]
    },
    {
     "name": "stdout",
     "output_type": "stream",
     "text": [
      "Saving model with loss 1.563...\n"
     ]
    },
    {
     "name": "stderr",
     "output_type": "stream",
     "text": [
      "100%|██████████| 17/17 [00:00<00:00, 894.73it/s]\n",
      "100%|██████████| 17/17 [00:00<00:00, 937.30it/s]\n",
      "100%|██████████| 17/17 [00:00<00:00, 918.48it/s]\n"
     ]
    },
    {
     "name": "stdout",
     "output_type": "stream",
     "text": [
      "Epoch [2461/6000]: Train loss: 1.8897, Valid loss: 1.5932\n"
     ]
    },
    {
     "name": "stderr",
     "output_type": "stream",
     "text": [
      "100%|██████████| 17/17 [00:00<00:00, 894.73it/s]\n",
      "100%|██████████| 17/17 [00:00<00:00, 828.73it/s]\n",
      "100%|██████████| 17/17 [00:00<00:00, 894.72it/s]\n",
      "100%|██████████| 17/17 [00:00<00:00, 894.72it/s]\n",
      "100%|██████████| 17/17 [00:00<00:00, 894.72it/s]\n",
      "100%|██████████| 17/17 [00:00<00:00, 915.95it/s]\n",
      "100%|██████████| 17/17 [00:00<00:00, 944.45it/s]\n",
      "100%|██████████| 17/17 [00:00<00:00, 976.31it/s]\n",
      "100%|██████████| 17/17 [00:00<00:00, 971.00it/s]\n",
      "100%|██████████| 17/17 [00:00<00:00, 776.00it/s]\n",
      "100%|██████████| 17/17 [00:00<00:00, 764.24it/s]\n",
      "100%|██████████| 17/17 [00:00<00:00, 809.55it/s]\n",
      "100%|██████████| 17/17 [00:00<00:00, 829.64it/s]\n",
      "100%|██████████| 17/17 [00:00<00:00, 809.51it/s]\n",
      "100%|██████████| 17/17 [00:00<00:00, 908.59it/s]\n",
      "100%|██████████| 17/17 [00:00<00:00, 850.00it/s]\n",
      "100%|██████████| 17/17 [00:00<00:00, 850.02it/s]\n",
      "100%|██████████| 17/17 [00:00<00:00, 840.74it/s]\n",
      "100%|██████████| 17/17 [00:00<00:00, 894.72it/s]\n",
      "100%|██████████| 17/17 [00:00<00:00, 850.04it/s]\n"
     ]
    },
    {
     "name": "stdout",
     "output_type": "stream",
     "text": [
      "Epoch [2481/6000]: Train loss: 1.8839, Valid loss: 1.6696\n"
     ]
    },
    {
     "name": "stderr",
     "output_type": "stream",
     "text": [
      "100%|██████████| 17/17 [00:00<00:00, 909.18it/s]\n",
      "100%|██████████| 17/17 [00:00<00:00, 894.76it/s]\n",
      "100%|██████████| 17/17 [00:00<00:00, 894.75it/s]\n",
      "100%|██████████| 17/17 [00:00<00:00, 850.00it/s]\n",
      "100%|██████████| 17/17 [00:00<00:00, 894.57it/s]\n",
      "100%|██████████| 17/17 [00:00<00:00, 894.71it/s]\n",
      "100%|██████████| 17/17 [00:00<00:00, 809.51it/s]\n",
      "100%|██████████| 17/17 [00:00<00:00, 772.74it/s]\n",
      "100%|██████████| 17/17 [00:00<00:00, 826.39it/s]\n",
      "100%|██████████| 17/17 [00:00<00:00, 739.12it/s]\n",
      "100%|██████████| 17/17 [00:00<00:00, 850.03it/s]\n",
      "100%|██████████| 17/17 [00:00<00:00, 772.74it/s]\n",
      "100%|██████████| 17/17 [00:00<00:00, 849.97it/s]\n",
      "100%|██████████| 17/17 [00:00<00:00, 820.96it/s]\n",
      "100%|██████████| 17/17 [00:00<00:00, 626.92it/s]\n",
      "100%|██████████| 17/17 [00:00<00:00, 850.00it/s]\n",
      "100%|██████████| 17/17 [00:00<00:00, 794.88it/s]\n",
      "100%|██████████| 17/17 [00:00<00:00, 850.02it/s]\n",
      "100%|██████████| 17/17 [00:00<00:00, 849.97it/s]\n",
      "100%|██████████| 17/17 [00:00<00:00, 776.41it/s]\n"
     ]
    },
    {
     "name": "stdout",
     "output_type": "stream",
     "text": [
      "Epoch [2501/6000]: Train loss: 1.8750, Valid loss: 1.6695\n"
     ]
    },
    {
     "name": "stderr",
     "output_type": "stream",
     "text": [
      "100%|██████████| 17/17 [00:00<00:00, 809.51it/s]\n",
      "100%|██████████| 17/17 [00:00<00:00, 809.55it/s]\n",
      "100%|██████████| 17/17 [00:00<00:00, 850.00it/s]\n",
      "100%|██████████| 17/17 [00:00<00:00, 812.37it/s]\n",
      "100%|██████████| 17/17 [00:00<00:00, 894.73it/s]\n",
      "100%|██████████| 17/17 [00:00<00:00, 894.71it/s]\n",
      "100%|██████████| 17/17 [00:00<00:00, 894.72it/s]\n"
     ]
    },
    {
     "name": "stdout",
     "output_type": "stream",
     "text": [
      "Saving model with loss 1.556...\n"
     ]
    },
    {
     "name": "stderr",
     "output_type": "stream",
     "text": [
      "100%|██████████| 17/17 [00:00<00:00, 849.68it/s]\n",
      "100%|██████████| 17/17 [00:00<00:00, 894.71it/s]\n",
      "100%|██████████| 17/17 [00:00<00:00, 944.43it/s]\n",
      "100%|██████████| 17/17 [00:00<00:00, 1000.02it/s]\n",
      "100%|██████████| 17/17 [00:00<00:00, 1000.02it/s]\n",
      "100%|██████████| 17/17 [00:00<00:00, 944.41it/s]\n",
      "100%|██████████| 17/17 [00:00<00:00, 944.46it/s]\n",
      "100%|██████████| 17/17 [00:00<00:00, 944.45it/s]\n",
      "100%|██████████| 17/17 [00:00<00:00, 944.43it/s]\n"
     ]
    },
    {
     "name": "stdout",
     "output_type": "stream",
     "text": [
      "Saving model with loss 1.548...\n"
     ]
    },
    {
     "name": "stderr",
     "output_type": "stream",
     "text": [
      "100%|██████████| 17/17 [00:00<00:00, 944.41it/s]\n",
      "100%|██████████| 17/17 [00:00<00:00, 944.48it/s]\n",
      "100%|██████████| 17/17 [00:00<00:00, 944.43it/s]\n",
      "100%|██████████| 17/17 [00:00<00:00, 950.27it/s]\n"
     ]
    },
    {
     "name": "stdout",
     "output_type": "stream",
     "text": [
      "Epoch [2521/6000]: Train loss: 1.8742, Valid loss: 1.6615\n"
     ]
    },
    {
     "name": "stderr",
     "output_type": "stream",
     "text": [
      "100%|██████████| 17/17 [00:00<00:00, 944.45it/s]\n",
      "100%|██████████| 17/17 [00:00<00:00, 850.02it/s]\n",
      "100%|██████████| 17/17 [00:00<00:00, 944.45it/s]\n",
      "100%|██████████| 17/17 [00:00<00:00, 894.71it/s]\n",
      "100%|██████████| 17/17 [00:00<00:00, 1000.02it/s]\n",
      "100%|██████████| 17/17 [00:00<00:00, 1000.02it/s]\n",
      "100%|██████████| 17/17 [00:00<00:00, 973.29it/s]\n",
      "100%|██████████| 17/17 [00:00<00:00, 739.13it/s]\n",
      "100%|██████████| 17/17 [00:00<00:00, 900.18it/s]\n",
      "100%|██████████| 17/17 [00:00<00:00, 944.41it/s]\n",
      "100%|██████████| 17/17 [00:00<00:00, 944.41it/s]\n",
      "100%|██████████| 17/17 [00:00<00:00, 944.44it/s]\n",
      "100%|██████████| 17/17 [00:00<00:00, 944.45it/s]\n",
      "100%|██████████| 17/17 [00:00<00:00, 944.46it/s]\n",
      "100%|██████████| 17/17 [00:00<00:00, 944.46it/s]\n",
      "100%|██████████| 17/17 [00:00<00:00, 944.45it/s]\n",
      "100%|██████████| 17/17 [00:00<00:00, 899.12it/s]\n",
      "100%|██████████| 17/17 [00:00<00:00, 944.45it/s]\n",
      "100%|██████████| 17/17 [00:00<00:00, 944.45it/s]\n",
      "100%|██████████| 17/17 [00:00<00:00, 958.76it/s]\n"
     ]
    },
    {
     "name": "stdout",
     "output_type": "stream",
     "text": [
      "Epoch [2541/6000]: Train loss: 1.8640, Valid loss: 1.8671\n"
     ]
    },
    {
     "name": "stderr",
     "output_type": "stream",
     "text": [
      "100%|██████████| 17/17 [00:00<00:00, 999.99it/s]\n",
      "100%|██████████| 17/17 [00:00<00:00, 944.43it/s]\n",
      "100%|██████████| 17/17 [00:00<00:00, 713.21it/s]\n",
      "100%|██████████| 17/17 [00:00<00:00, 850.01it/s]\n",
      "100%|██████████| 17/17 [00:00<00:00, 850.00it/s]\n",
      "100%|██████████| 17/17 [00:00<00:00, 850.05it/s]\n",
      "100%|██████████| 17/17 [00:00<00:00, 772.72it/s]\n",
      "100%|██████████| 17/17 [00:00<00:00, 894.71it/s]\n",
      "100%|██████████| 17/17 [00:00<00:00, 894.76it/s]\n",
      "100%|██████████| 17/17 [00:00<00:00, 894.75it/s]\n",
      "100%|██████████| 17/17 [00:00<00:00, 850.03it/s]\n",
      "100%|██████████| 17/17 [00:00<00:00, 894.72it/s]\n",
      "100%|██████████| 17/17 [00:00<00:00, 944.45it/s]\n",
      "100%|██████████| 17/17 [00:00<00:00, 944.44it/s]\n",
      "100%|██████████| 17/17 [00:00<00:00, 944.50it/s]\n"
     ]
    },
    {
     "name": "stdout",
     "output_type": "stream",
     "text": [
      "Saving model with loss 1.545...\n"
     ]
    },
    {
     "name": "stderr",
     "output_type": "stream",
     "text": [
      "100%|██████████| 17/17 [00:00<00:00, 675.65it/s]\n",
      "100%|██████████| 17/17 [00:00<00:00, 944.49it/s]\n",
      "100%|██████████| 17/17 [00:00<00:00, 944.45it/s]\n",
      "100%|██████████| 17/17 [00:00<00:00, 936.75it/s]\n",
      "100%|██████████| 17/17 [00:00<00:00, 944.46it/s]\n"
     ]
    },
    {
     "name": "stdout",
     "output_type": "stream",
     "text": [
      "Epoch [2561/6000]: Train loss: 1.8602, Valid loss: 1.6657\n"
     ]
    },
    {
     "name": "stderr",
     "output_type": "stream",
     "text": [
      "100%|██████████| 17/17 [00:00<00:00, 931.97it/s]\n",
      "100%|██████████| 17/17 [00:00<00:00, 871.38it/s]\n",
      "100%|██████████| 17/17 [00:00<00:00, 1000.00it/s]\n",
      "100%|██████████| 17/17 [00:00<00:00, 999.96it/s]\n",
      "100%|██████████| 17/17 [00:00<00:00, 964.79it/s]\n",
      "100%|██████████| 17/17 [00:00<00:00, 999.99it/s]\n",
      "100%|██████████| 17/17 [00:00<00:00, 944.45it/s]\n",
      "100%|██████████| 17/17 [00:00<00:00, 875.53it/s]\n",
      "100%|██████████| 17/17 [00:00<00:00, 894.75it/s]\n",
      "100%|██████████| 17/17 [00:00<00:00, 960.97it/s]\n",
      "100%|██████████| 17/17 [00:00<00:00, 926.51it/s]\n",
      "100%|██████████| 17/17 [00:00<00:00, 944.44it/s]\n",
      "100%|██████████| 17/17 [00:00<00:00, 969.00it/s]\n",
      "100%|██████████| 17/17 [00:00<00:00, 999.96it/s]\n",
      "100%|██████████| 17/17 [00:00<00:00, 942.04it/s]\n",
      "100%|██████████| 17/17 [00:00<00:00, 944.41it/s]\n",
      "100%|██████████| 17/17 [00:00<00:00, 944.44it/s]\n",
      "100%|██████████| 17/17 [00:00<00:00, 849.97it/s]\n",
      "100%|██████████| 17/17 [00:00<00:00, 944.41it/s]\n",
      "100%|██████████| 17/17 [00:00<00:00, 903.29it/s]\n"
     ]
    },
    {
     "name": "stdout",
     "output_type": "stream",
     "text": [
      "Epoch [2581/6000]: Train loss: 1.8495, Valid loss: 1.6293\n"
     ]
    },
    {
     "name": "stderr",
     "output_type": "stream",
     "text": [
      "100%|██████████| 17/17 [00:00<00:00, 999.99it/s]\n",
      "100%|██████████| 17/17 [00:00<00:00, 999.97it/s]\n",
      "100%|██████████| 17/17 [00:00<00:00, 944.43it/s]\n",
      "100%|██████████| 17/17 [00:00<00:00, 894.72it/s]\n",
      "100%|██████████| 17/17 [00:00<00:00, 944.43it/s]\n",
      "100%|██████████| 17/17 [00:00<00:00, 894.73it/s]\n",
      "100%|██████████| 17/17 [00:00<00:00, 999.99it/s]\n",
      "100%|██████████| 17/17 [00:00<00:00, 944.43it/s]\n",
      "100%|██████████| 17/17 [00:00<00:00, 1000.04it/s]\n",
      "100%|██████████| 17/17 [00:00<00:00, 944.43it/s]\n",
      "100%|██████████| 17/17 [00:00<00:00, 944.45it/s]\n",
      "100%|██████████| 17/17 [00:00<00:00, 999.97it/s]\n",
      "100%|██████████| 17/17 [00:00<00:00, 944.46it/s]\n",
      "100%|██████████| 17/17 [00:00<00:00, 999.99it/s]\n",
      "100%|██████████| 17/17 [00:00<00:00, 944.45it/s]\n",
      "100%|██████████| 17/17 [00:00<00:00, 894.71it/s]\n",
      "100%|██████████| 17/17 [00:00<00:00, 1000.00it/s]\n",
      "100%|██████████| 17/17 [00:00<00:00, 999.99it/s]\n",
      "100%|██████████| 17/17 [00:00<00:00, 999.97it/s]\n",
      "100%|██████████| 17/17 [00:00<00:00, 894.73it/s]\n"
     ]
    },
    {
     "name": "stdout",
     "output_type": "stream",
     "text": [
      "Epoch [2601/6000]: Train loss: 1.8430, Valid loss: 1.5950\n"
     ]
    },
    {
     "name": "stderr",
     "output_type": "stream",
     "text": [
      "100%|██████████| 17/17 [00:00<00:00, 944.43it/s]\n",
      "100%|██████████| 17/17 [00:00<00:00, 944.45it/s]\n",
      "100%|██████████| 17/17 [00:00<00:00, 944.45it/s]\n",
      "100%|██████████| 17/17 [00:00<00:00, 944.45it/s]\n",
      "100%|██████████| 17/17 [00:00<00:00, 999.97it/s]\n",
      "100%|██████████| 17/17 [00:00<00:00, 944.41it/s]\n",
      "100%|██████████| 17/17 [00:00<00:00, 950.68it/s]\n"
     ]
    },
    {
     "name": "stdout",
     "output_type": "stream",
     "text": [
      "Saving model with loss 1.519...\n"
     ]
    },
    {
     "name": "stderr",
     "output_type": "stream",
     "text": [
      "100%|██████████| 17/17 [00:00<00:00, 999.99it/s]\n",
      "100%|██████████| 17/17 [00:00<00:00, 944.44it/s]\n",
      "100%|██████████| 17/17 [00:00<00:00, 944.41it/s]\n",
      "100%|██████████| 17/17 [00:00<00:00, 1000.00it/s]\n",
      "100%|██████████| 17/17 [00:00<00:00, 769.38it/s]\n",
      "100%|██████████| 17/17 [00:00<00:00, 944.43it/s]\n",
      "100%|██████████| 17/17 [00:00<00:00, 944.40it/s]\n",
      "100%|██████████| 17/17 [00:00<00:00, 873.11it/s]\n",
      "100%|██████████| 17/17 [00:00<00:00, 944.45it/s]\n",
      "100%|██████████| 17/17 [00:00<00:00, 839.49it/s]\n",
      "100%|██████████| 17/17 [00:00<00:00, 944.48it/s]\n",
      "100%|██████████| 17/17 [00:00<00:00, 857.52it/s]\n",
      "100%|██████████| 17/17 [00:00<00:00, 939.49it/s]\n"
     ]
    },
    {
     "name": "stdout",
     "output_type": "stream",
     "text": [
      "Epoch [2621/6000]: Train loss: 1.8358, Valid loss: 1.7348\n"
     ]
    },
    {
     "name": "stderr",
     "output_type": "stream",
     "text": [
      "100%|██████████| 17/17 [00:00<00:00, 944.44it/s]\n",
      "100%|██████████| 17/17 [00:00<00:00, 950.76it/s]\n",
      "100%|██████████| 17/17 [00:00<00:00, 1000.00it/s]\n",
      "100%|██████████| 17/17 [00:00<00:00, 842.18it/s]\n",
      "100%|██████████| 17/17 [00:00<00:00, 850.01it/s]\n",
      "100%|██████████| 17/17 [00:00<00:00, 1000.03it/s]\n",
      "100%|██████████| 17/17 [00:00<00:00, 704.07it/s]\n",
      "100%|██████████| 17/17 [00:00<00:00, 944.46it/s]\n",
      "100%|██████████| 17/17 [00:00<00:00, 772.69it/s]\n",
      "100%|██████████| 17/17 [00:00<00:00, 837.49it/s]\n",
      "100%|██████████| 17/17 [00:00<00:00, 893.50it/s]\n",
      "100%|██████████| 17/17 [00:00<00:00, 894.73it/s]\n",
      "100%|██████████| 17/17 [00:00<00:00, 863.99it/s]\n",
      "100%|██████████| 17/17 [00:00<00:00, 816.66it/s]\n",
      "100%|██████████| 17/17 [00:00<00:00, 944.46it/s]\n",
      "100%|██████████| 17/17 [00:00<00:00, 790.33it/s]\n",
      "100%|██████████| 17/17 [00:00<00:00, 944.48it/s]\n",
      "100%|██████████| 17/17 [00:00<00:00, 944.46it/s]\n",
      "100%|██████████| 17/17 [00:00<00:00, 944.75it/s]\n",
      "100%|██████████| 17/17 [00:00<00:00, 947.84it/s]\n"
     ]
    },
    {
     "name": "stdout",
     "output_type": "stream",
     "text": [
      "Epoch [2641/6000]: Train loss: 1.8284, Valid loss: 1.7160\n"
     ]
    },
    {
     "name": "stderr",
     "output_type": "stream",
     "text": [
      "100%|██████████| 17/17 [00:00<00:00, 772.73it/s]\n",
      "100%|██████████| 17/17 [00:00<00:00, 840.57it/s]\n",
      "100%|██████████| 17/17 [00:00<00:00, 894.72it/s]\n",
      "100%|██████████| 17/17 [00:00<00:00, 894.77it/s]\n",
      "100%|██████████| 17/17 [00:00<00:00, 910.25it/s]\n",
      "100%|██████████| 17/17 [00:00<00:00, 894.73it/s]\n",
      "100%|██████████| 17/17 [00:00<00:00, 894.76it/s]\n",
      "100%|██████████| 17/17 [00:00<00:00, 653.83it/s]\n",
      "100%|██████████| 17/17 [00:00<00:00, 772.67it/s]\n",
      "100%|██████████| 17/17 [00:00<00:00, 739.14it/s]\n"
     ]
    },
    {
     "name": "stdout",
     "output_type": "stream",
     "text": [
      "Saving model with loss 1.515...\n"
     ]
    },
    {
     "name": "stderr",
     "output_type": "stream",
     "text": [
      "100%|██████████| 17/17 [00:00<00:00, 809.59it/s]\n",
      "100%|██████████| 17/17 [00:00<00:00, 894.75it/s]\n",
      "100%|██████████| 17/17 [00:00<00:00, 894.79it/s]\n",
      "100%|██████████| 17/17 [00:00<00:00, 894.72it/s]\n"
     ]
    },
    {
     "name": "stdout",
     "output_type": "stream",
     "text": [
      "Saving model with loss 1.488...\n"
     ]
    },
    {
     "name": "stderr",
     "output_type": "stream",
     "text": [
      "100%|██████████| 17/17 [00:00<00:00, 948.90it/s]\n",
      "100%|██████████| 17/17 [00:00<00:00, 944.44it/s]\n",
      "100%|██████████| 17/17 [00:00<00:00, 944.43it/s]\n",
      "100%|██████████| 17/17 [00:00<00:00, 894.73it/s]\n",
      "100%|██████████| 17/17 [00:00<00:00, 944.45it/s]\n",
      "100%|██████████| 17/17 [00:00<00:00, 944.44it/s]\n"
     ]
    },
    {
     "name": "stdout",
     "output_type": "stream",
     "text": [
      "Epoch [2661/6000]: Train loss: 1.8227, Valid loss: 1.6706\n"
     ]
    },
    {
     "name": "stderr",
     "output_type": "stream",
     "text": [
      "100%|██████████| 17/17 [00:00<00:00, 944.44it/s]\n",
      "100%|██████████| 17/17 [00:00<00:00, 944.44it/s]\n",
      "100%|██████████| 17/17 [00:00<00:00, 944.44it/s]\n",
      "100%|██████████| 17/17 [00:00<00:00, 944.40it/s]\n",
      "100%|██████████| 17/17 [00:00<00:00, 944.45it/s]\n",
      "100%|██████████| 17/17 [00:00<00:00, 860.51it/s]\n",
      "100%|██████████| 17/17 [00:00<00:00, 826.19it/s]\n",
      "100%|██████████| 17/17 [00:00<00:00, 740.70it/s]\n",
      "100%|██████████| 17/17 [00:00<00:00, 678.09it/s]\n",
      "100%|██████████| 17/17 [00:00<00:00, 772.72it/s]\n",
      "100%|██████████| 17/17 [00:00<00:00, 469.28it/s]\n",
      "100%|██████████| 17/17 [00:00<00:00, 825.55it/s]\n",
      "100%|██████████| 17/17 [00:00<00:00, 728.47it/s]\n",
      "100%|██████████| 17/17 [00:00<00:00, 708.34it/s]\n",
      "100%|██████████| 17/17 [00:00<00:00, 753.42it/s]\n",
      "100%|██████████| 17/17 [00:00<00:00, 805.53it/s]\n",
      "100%|██████████| 17/17 [00:00<00:00, 457.82it/s]\n",
      "100%|██████████| 17/17 [00:00<00:00, 700.44it/s]\n",
      "100%|██████████| 17/17 [00:00<00:00, 774.75it/s]\n",
      "100%|██████████| 17/17 [00:00<00:00, 719.60it/s]\n"
     ]
    },
    {
     "name": "stdout",
     "output_type": "stream",
     "text": [
      "Epoch [2681/6000]: Train loss: 1.8186, Valid loss: 1.5120\n"
     ]
    },
    {
     "name": "stderr",
     "output_type": "stream",
     "text": [
      "100%|██████████| 17/17 [00:00<00:00, 781.11it/s]\n",
      "100%|██████████| 17/17 [00:00<00:00, 855.44it/s]\n",
      "100%|██████████| 17/17 [00:00<00:00, 894.77it/s]\n",
      "100%|██████████| 17/17 [00:00<00:00, 894.76it/s]\n",
      "100%|██████████| 17/17 [00:00<00:00, 894.76it/s]\n",
      "100%|██████████| 17/17 [00:00<00:00, 741.23it/s]\n",
      "100%|██████████| 17/17 [00:00<00:00, 849.76it/s]\n",
      "100%|██████████| 17/17 [00:00<00:00, 894.72it/s]\n",
      "100%|██████████| 17/17 [00:00<00:00, 671.09it/s]\n",
      "100%|██████████| 17/17 [00:00<00:00, 707.92it/s]\n",
      "100%|██████████| 17/17 [00:00<00:00, 849.98it/s]\n",
      "100%|██████████| 17/17 [00:00<00:00, 848.09it/s]\n",
      "100%|██████████| 17/17 [00:00<00:00, 748.49it/s]\n",
      "100%|██████████| 17/17 [00:00<00:00, 698.13it/s]\n",
      "100%|██████████| 17/17 [00:00<00:00, 812.04it/s]\n",
      "100%|██████████| 17/17 [00:00<00:00, 658.93it/s]\n",
      "100%|██████████| 17/17 [00:00<00:00, 808.04it/s]\n",
      "100%|██████████| 17/17 [00:00<00:00, 553.87it/s]\n",
      "100%|██████████| 17/17 [00:00<00:00, 851.72it/s]\n",
      "100%|██████████| 17/17 [00:00<00:00, 652.19it/s]\n"
     ]
    },
    {
     "name": "stdout",
     "output_type": "stream",
     "text": [
      "Epoch [2701/6000]: Train loss: 1.8092, Valid loss: 1.6195\n"
     ]
    },
    {
     "name": "stderr",
     "output_type": "stream",
     "text": [
      "100%|██████████| 17/17 [00:00<00:00, 844.22it/s]\n",
      "100%|██████████| 17/17 [00:00<00:00, 746.72it/s]\n",
      "100%|██████████| 17/17 [00:00<00:00, 724.34it/s]\n",
      "100%|██████████| 17/17 [00:00<00:00, 785.77it/s]\n",
      "100%|██████████| 17/17 [00:00<00:00, 912.58it/s]\n",
      "100%|██████████| 17/17 [00:00<00:00, 915.87it/s]\n",
      "100%|██████████| 17/17 [00:00<00:00, 803.77it/s]\n",
      "100%|██████████| 17/17 [00:00<00:00, 837.85it/s]\n",
      "100%|██████████| 17/17 [00:00<00:00, 905.16it/s]\n",
      "100%|██████████| 17/17 [00:00<00:00, 844.59it/s]\n",
      "100%|██████████| 17/17 [00:00<00:00, 869.14it/s]\n",
      "100%|██████████| 17/17 [00:00<00:00, 843.55it/s]\n",
      "100%|██████████| 17/17 [00:00<00:00, 951.60it/s]\n",
      "100%|██████████| 17/17 [00:00<00:00, 685.55it/s]\n",
      "100%|██████████| 17/17 [00:00<00:00, 894.70it/s]\n",
      "100%|██████████| 17/17 [00:00<00:00, 916.49it/s]\n",
      "100%|██████████| 17/17 [00:00<00:00, 756.03it/s]\n",
      "100%|██████████| 17/17 [00:00<00:00, 916.03it/s]\n",
      "100%|██████████| 17/17 [00:00<00:00, 854.90it/s]\n",
      "100%|██████████| 17/17 [00:00<00:00, 861.77it/s]\n"
     ]
    },
    {
     "name": "stdout",
     "output_type": "stream",
     "text": [
      "Epoch [2721/6000]: Train loss: 1.8016, Valid loss: 1.5682\n"
     ]
    },
    {
     "name": "stderr",
     "output_type": "stream",
     "text": [
      "100%|██████████| 17/17 [00:00<00:00, 721.52it/s]\n",
      "100%|██████████| 17/17 [00:00<00:00, 865.50it/s]\n",
      "100%|██████████| 17/17 [00:00<00:00, 808.67it/s]\n",
      "100%|██████████| 17/17 [00:00<00:00, 789.47it/s]\n",
      "100%|██████████| 17/17 [00:00<00:00, 723.86it/s]\n",
      "100%|██████████| 17/17 [00:00<00:00, 809.49it/s]\n",
      "100%|██████████| 17/17 [00:00<00:00, 809.51it/s]\n",
      "100%|██████████| 17/17 [00:00<00:00, 850.02it/s]\n",
      "100%|██████████| 17/17 [00:00<00:00, 884.71it/s]\n",
      "100%|██████████| 17/17 [00:00<00:00, 894.75it/s]\n",
      "100%|██████████| 17/17 [00:00<00:00, 894.78it/s]\n",
      "100%|██████████| 17/17 [00:00<00:00, 894.75it/s]\n",
      "100%|██████████| 17/17 [00:00<00:00, 902.88it/s]\n",
      "100%|██████████| 17/17 [00:00<00:00, 873.34it/s]\n",
      "100%|██████████| 17/17 [00:00<00:00, 999.97it/s]\n",
      "100%|██████████| 17/17 [00:00<00:00, 944.43it/s]\n",
      "100%|██████████| 17/17 [00:00<00:00, 944.45it/s]\n",
      "100%|██████████| 17/17 [00:00<00:00, 944.35it/s]\n",
      "100%|██████████| 17/17 [00:00<00:00, 929.37it/s]\n",
      "100%|██████████| 17/17 [00:00<00:00, 1000.04it/s]\n"
     ]
    },
    {
     "name": "stdout",
     "output_type": "stream",
     "text": [
      "Epoch [2741/6000]: Train loss: 1.7987, Valid loss: 1.6991\n"
     ]
    },
    {
     "name": "stderr",
     "output_type": "stream",
     "text": [
      "100%|██████████| 17/17 [00:00<00:00, 944.45it/s]\n",
      "100%|██████████| 17/17 [00:00<00:00, 1017.21it/s]\n",
      "100%|██████████| 17/17 [00:00<00:00, 936.38it/s]\n",
      "100%|██████████| 17/17 [00:00<00:00, 991.55it/s]\n",
      "100%|██████████| 17/17 [00:00<00:00, 934.77it/s]\n",
      "100%|██████████| 17/17 [00:00<00:00, 999.97it/s]\n",
      "100%|██████████| 17/17 [00:00<00:00, 944.46it/s]\n",
      "100%|██████████| 17/17 [00:00<00:00, 894.75it/s]\n",
      "100%|██████████| 17/17 [00:00<00:00, 989.21it/s]\n",
      "100%|██████████| 17/17 [00:00<00:00, 935.38it/s]\n",
      "100%|██████████| 17/17 [00:00<00:00, 999.99it/s]\n",
      "100%|██████████| 17/17 [00:00<00:00, 944.44it/s]\n",
      "100%|██████████| 17/17 [00:00<00:00, 944.44it/s]\n",
      "100%|██████████| 17/17 [00:00<00:00, 907.45it/s]\n",
      "100%|██████████| 17/17 [00:00<00:00, 1026.31it/s]\n",
      "100%|██████████| 17/17 [00:00<00:00, 981.72it/s]\n",
      "100%|██████████| 17/17 [00:00<00:00, 944.46it/s]\n",
      "100%|██████████| 17/17 [00:00<00:00, 999.97it/s]\n",
      "100%|██████████| 17/17 [00:00<00:00, 938.17it/s]\n",
      "100%|██████████| 17/17 [00:00<00:00, 809.52it/s]\n"
     ]
    },
    {
     "name": "stdout",
     "output_type": "stream",
     "text": [
      "Epoch [2761/6000]: Train loss: 1.7920, Valid loss: 1.8195\n"
     ]
    },
    {
     "name": "stderr",
     "output_type": "stream",
     "text": [
      "100%|██████████| 17/17 [00:00<00:00, 944.48it/s]\n",
      "100%|██████████| 17/17 [00:00<00:00, 1000.02it/s]\n",
      "100%|██████████| 17/17 [00:00<00:00, 944.45it/s]\n",
      "100%|██████████| 17/17 [00:00<00:00, 1000.02it/s]\n",
      "100%|██████████| 17/17 [00:00<00:00, 944.48it/s]\n",
      "100%|██████████| 17/17 [00:00<00:00, 944.69it/s]\n",
      "100%|██████████| 17/17 [00:00<00:00, 1000.04it/s]\n",
      "100%|██████████| 17/17 [00:00<00:00, 896.41it/s]\n",
      "100%|██████████| 17/17 [00:00<00:00, 999.99it/s]\n",
      "100%|██████████| 17/17 [00:00<00:00, 894.72it/s]\n",
      "100%|██████████| 17/17 [00:00<00:00, 944.45it/s]\n",
      "100%|██████████| 17/17 [00:00<00:00, 944.46it/s]\n",
      "100%|██████████| 17/17 [00:00<00:00, 944.45it/s]\n",
      "100%|██████████| 17/17 [00:00<00:00, 944.45it/s]\n",
      "100%|██████████| 17/17 [00:00<00:00, 1000.00it/s]\n",
      "100%|██████████| 17/17 [00:00<00:00, 944.46it/s]\n",
      "100%|██████████| 17/17 [00:00<00:00, 999.99it/s]\n",
      "100%|██████████| 17/17 [00:00<00:00, 944.44it/s]\n",
      "100%|██████████| 17/17 [00:00<00:00, 1000.14it/s]\n",
      "100%|██████████| 17/17 [00:00<00:00, 999.99it/s]\n"
     ]
    },
    {
     "name": "stdout",
     "output_type": "stream",
     "text": [
      "Epoch [2781/6000]: Train loss: 1.7834, Valid loss: 1.4837\n",
      "Saving model with loss 1.484...\n"
     ]
    },
    {
     "name": "stderr",
     "output_type": "stream",
     "text": [
      "100%|██████████| 17/17 [00:00<00:00, 999.99it/s]\n",
      "100%|██████████| 17/17 [00:00<00:00, 944.45it/s]\n",
      "100%|██████████| 17/17 [00:00<00:00, 944.46it/s]\n",
      "100%|██████████| 17/17 [00:00<00:00, 999.97it/s]\n",
      "100%|██████████| 17/17 [00:00<00:00, 995.35it/s]\n"
     ]
    },
    {
     "name": "stdout",
     "output_type": "stream",
     "text": [
      "Saving model with loss 1.453...\n"
     ]
    },
    {
     "name": "stderr",
     "output_type": "stream",
     "text": [
      "100%|██████████| 17/17 [00:00<00:00, 944.43it/s]\n",
      "100%|██████████| 17/17 [00:00<00:00, 944.48it/s]\n",
      "100%|██████████| 17/17 [00:00<00:00, 944.46it/s]\n",
      "100%|██████████| 17/17 [00:00<00:00, 971.01it/s]\n",
      "100%|██████████| 17/17 [00:00<00:00, 999.97it/s]\n",
      "100%|██████████| 17/17 [00:00<00:00, 999.99it/s]\n",
      "100%|██████████| 17/17 [00:00<00:00, 999.99it/s]\n",
      "100%|██████████| 17/17 [00:00<00:00, 944.44it/s]\n",
      "100%|██████████| 17/17 [00:00<00:00, 944.45it/s]\n",
      "100%|██████████| 17/17 [00:00<00:00, 944.41it/s]\n",
      "100%|██████████| 17/17 [00:00<00:00, 944.45it/s]\n",
      "100%|██████████| 17/17 [00:00<00:00, 944.45it/s]\n",
      "100%|██████████| 17/17 [00:00<00:00, 894.75it/s]\n",
      "100%|██████████| 17/17 [00:00<00:00, 999.97it/s]\n",
      "100%|██████████| 17/17 [00:00<00:00, 999.97it/s]\n"
     ]
    },
    {
     "name": "stdout",
     "output_type": "stream",
     "text": [
      "Epoch [2801/6000]: Train loss: 1.7799, Valid loss: 1.6306\n"
     ]
    },
    {
     "name": "stderr",
     "output_type": "stream",
     "text": [
      "100%|██████████| 17/17 [00:00<00:00, 944.44it/s]\n",
      "100%|██████████| 17/17 [00:00<00:00, 999.99it/s]\n",
      "100%|██████████| 17/17 [00:00<00:00, 1000.07it/s]\n",
      "100%|██████████| 17/17 [00:00<00:00, 944.43it/s]\n",
      "100%|██████████| 17/17 [00:00<00:00, 999.99it/s]\n",
      "100%|██████████| 17/17 [00:00<00:00, 944.45it/s]\n",
      "100%|██████████| 17/17 [00:00<00:00, 944.43it/s]\n",
      "100%|██████████| 17/17 [00:00<00:00, 944.40it/s]\n",
      "100%|██████████| 17/17 [00:00<00:00, 944.45it/s]\n",
      "100%|██████████| 17/17 [00:00<00:00, 944.48it/s]\n",
      "100%|██████████| 17/17 [00:00<00:00, 999.99it/s]\n",
      "100%|██████████| 17/17 [00:00<00:00, 999.96it/s]\n",
      "100%|██████████| 17/17 [00:00<00:00, 894.73it/s]\n",
      "100%|██████████| 17/17 [00:00<00:00, 999.99it/s]\n",
      "100%|██████████| 17/17 [00:00<00:00, 944.45it/s]\n",
      "100%|██████████| 17/17 [00:00<00:00, 944.44it/s]\n",
      "100%|██████████| 17/17 [00:00<00:00, 944.46it/s]\n",
      "100%|██████████| 17/17 [00:00<00:00, 944.44it/s]\n",
      "100%|██████████| 17/17 [00:00<00:00, 944.44it/s]\n",
      "100%|██████████| 17/17 [00:00<00:00, 944.41it/s]\n"
     ]
    },
    {
     "name": "stdout",
     "output_type": "stream",
     "text": [
      "Epoch [2821/6000]: Train loss: 1.7755, Valid loss: 1.6744\n"
     ]
    },
    {
     "name": "stderr",
     "output_type": "stream",
     "text": [
      "100%|██████████| 17/17 [00:00<00:00, 850.03it/s]\n",
      "100%|██████████| 17/17 [00:00<00:00, 894.75it/s]\n",
      "100%|██████████| 17/17 [00:00<00:00, 999.97it/s]\n",
      "100%|██████████| 17/17 [00:00<00:00, 999.97it/s]\n",
      "100%|██████████| 17/17 [00:00<00:00, 1000.02it/s]\n",
      "100%|██████████| 17/17 [00:00<00:00, 944.45it/s]\n",
      "100%|██████████| 17/17 [00:00<00:00, 944.43it/s]\n",
      "100%|██████████| 17/17 [00:00<00:00, 960.70it/s]\n",
      "100%|██████████| 17/17 [00:00<00:00, 999.99it/s]\n",
      "100%|██████████| 17/17 [00:00<00:00, 944.41it/s]\n",
      "100%|██████████| 17/17 [00:00<00:00, 1000.00it/s]\n",
      "100%|██████████| 17/17 [00:00<00:00, 1000.00it/s]\n",
      "100%|██████████| 17/17 [00:00<00:00, 894.72it/s]\n",
      "100%|██████████| 17/17 [00:00<00:00, 944.44it/s]\n",
      "100%|██████████| 17/17 [00:00<00:00, 944.43it/s]\n",
      "100%|██████████| 17/17 [00:00<00:00, 1000.02it/s]\n",
      "100%|██████████| 17/17 [00:00<00:00, 944.44it/s]\n",
      "100%|██████████| 17/17 [00:00<00:00, 894.75it/s]\n",
      "100%|██████████| 17/17 [00:00<00:00, 944.45it/s]\n",
      "100%|██████████| 17/17 [00:00<00:00, 944.45it/s]\n"
     ]
    },
    {
     "name": "stdout",
     "output_type": "stream",
     "text": [
      "Epoch [2841/6000]: Train loss: 1.7644, Valid loss: 1.6918\n"
     ]
    },
    {
     "name": "stderr",
     "output_type": "stream",
     "text": [
      "100%|██████████| 17/17 [00:00<00:00, 944.44it/s]\n",
      "100%|██████████| 17/17 [00:00<00:00, 894.73it/s]\n",
      "100%|██████████| 17/17 [00:00<00:00, 944.46it/s]\n",
      "100%|██████████| 17/17 [00:00<00:00, 607.11it/s]\n",
      "100%|██████████| 17/17 [00:00<00:00, 944.46it/s]\n",
      "100%|██████████| 17/17 [00:00<00:00, 944.50it/s]\n",
      "100%|██████████| 17/17 [00:00<00:00, 944.44it/s]\n",
      "100%|██████████| 17/17 [00:00<00:00, 1000.03it/s]\n",
      "100%|██████████| 17/17 [00:00<00:00, 894.72it/s]\n",
      "100%|██████████| 17/17 [00:00<00:00, 944.41it/s]\n",
      "100%|██████████| 17/17 [00:00<00:00, 999.97it/s]\n",
      "100%|██████████| 17/17 [00:00<00:00, 944.43it/s]\n",
      "100%|██████████| 17/17 [00:00<00:00, 1000.02it/s]\n",
      "100%|██████████| 17/17 [00:00<00:00, 836.37it/s]\n",
      "100%|██████████| 17/17 [00:00<00:00, 894.73it/s]\n",
      "100%|██████████| 17/17 [00:00<00:00, 772.74it/s]\n",
      "100%|██████████| 17/17 [00:00<00:00, 850.00it/s]\n",
      "100%|██████████| 17/17 [00:00<00:00, 739.19it/s]\n",
      "100%|██████████| 17/17 [00:00<00:00, 894.71it/s]\n",
      "100%|██████████| 17/17 [00:00<00:00, 894.72it/s]\n"
     ]
    },
    {
     "name": "stdout",
     "output_type": "stream",
     "text": [
      "Epoch [2861/6000]: Train loss: 1.7608, Valid loss: 1.6039\n"
     ]
    },
    {
     "name": "stderr",
     "output_type": "stream",
     "text": [
      "100%|██████████| 17/17 [00:00<00:00, 894.73it/s]\n",
      "100%|██████████| 17/17 [00:00<00:00, 894.70it/s]\n",
      "100%|██████████| 17/17 [00:00<00:00, 894.80it/s]\n",
      "100%|██████████| 17/17 [00:00<00:00, 944.46it/s]\n",
      "100%|██████████| 17/17 [00:00<00:00, 849.99it/s]\n",
      "100%|██████████| 17/17 [00:00<00:00, 944.45it/s]\n",
      "100%|██████████| 17/17 [00:00<00:00, 850.02it/s]\n",
      "100%|██████████| 17/17 [00:00<00:00, 894.75it/s]\n",
      "100%|██████████| 17/17 [00:00<00:00, 855.09it/s]\n",
      "100%|██████████| 17/17 [00:00<00:00, 894.71it/s]\n",
      "100%|██████████| 17/17 [00:00<00:00, 894.73it/s]\n",
      "100%|██████████| 17/17 [00:00<00:00, 944.43it/s]\n",
      "100%|██████████| 17/17 [00:00<00:00, 894.76it/s]\n",
      "100%|██████████| 17/17 [00:00<00:00, 969.07it/s]\n",
      "100%|██████████| 17/17 [00:00<00:00, 894.70it/s]\n",
      "100%|██████████| 17/17 [00:00<00:00, 944.44it/s]\n",
      "100%|██████████| 17/17 [00:00<00:00, 944.41it/s]\n",
      "100%|██████████| 17/17 [00:00<00:00, 999.96it/s]\n",
      "100%|██████████| 17/17 [00:00<00:00, 1000.02it/s]\n",
      "100%|██████████| 17/17 [00:00<00:00, 1000.02it/s]\n"
     ]
    },
    {
     "name": "stdout",
     "output_type": "stream",
     "text": [
      "Epoch [2881/6000]: Train loss: 1.7563, Valid loss: 1.5514\n"
     ]
    },
    {
     "name": "stderr",
     "output_type": "stream",
     "text": [
      "100%|██████████| 17/17 [00:00<00:00, 944.44it/s]\n",
      "100%|██████████| 17/17 [00:00<00:00, 944.43it/s]\n",
      "100%|██████████| 17/17 [00:00<00:00, 894.73it/s]\n",
      "100%|██████████| 17/17 [00:00<00:00, 944.45it/s]\n",
      "100%|██████████| 17/17 [00:00<00:00, 944.44it/s]\n",
      "100%|██████████| 17/17 [00:00<00:00, 1000.00it/s]\n",
      "100%|██████████| 17/17 [00:00<00:00, 1000.02it/s]\n",
      "100%|██████████| 17/17 [00:00<00:00, 944.43it/s]\n",
      "100%|██████████| 17/17 [00:00<00:00, 894.73it/s]\n",
      "100%|██████████| 17/17 [00:00<00:00, 1000.02it/s]\n",
      "100%|██████████| 17/17 [00:00<00:00, 1000.02it/s]\n",
      "100%|██████████| 17/17 [00:00<00:00, 944.46it/s]\n",
      "100%|██████████| 17/17 [00:00<00:00, 1000.00it/s]\n",
      "100%|██████████| 17/17 [00:00<00:00, 944.46it/s]\n",
      "100%|██████████| 17/17 [00:00<00:00, 999.97it/s]\n",
      "100%|██████████| 17/17 [00:00<00:00, 944.44it/s]\n",
      "100%|██████████| 17/17 [00:00<00:00, 1000.00it/s]\n"
     ]
    },
    {
     "name": "stdout",
     "output_type": "stream",
     "text": [
      "Saving model with loss 1.429...\n"
     ]
    },
    {
     "name": "stderr",
     "output_type": "stream",
     "text": [
      "100%|██████████| 17/17 [00:00<00:00, 999.99it/s]\n",
      "100%|██████████| 17/17 [00:00<00:00, 1000.03it/s]\n",
      "100%|██████████| 17/17 [00:00<00:00, 944.45it/s]\n"
     ]
    },
    {
     "name": "stdout",
     "output_type": "stream",
     "text": [
      "Epoch [2901/6000]: Train loss: 1.7488, Valid loss: 1.7058\n"
     ]
    },
    {
     "name": "stderr",
     "output_type": "stream",
     "text": [
      "100%|██████████| 17/17 [00:00<00:00, 894.78it/s]\n",
      "100%|██████████| 17/17 [00:00<00:00, 1000.02it/s]\n",
      "100%|██████████| 17/17 [00:00<00:00, 1000.00it/s]\n",
      "100%|██████████| 17/17 [00:00<00:00, 1000.00it/s]\n",
      "100%|██████████| 17/17 [00:00<00:00, 1000.00it/s]\n",
      "100%|██████████| 17/17 [00:00<00:00, 944.46it/s]\n",
      "100%|██████████| 17/17 [00:00<00:00, 944.41it/s]\n",
      "100%|██████████| 17/17 [00:00<00:00, 1000.03it/s]\n",
      "100%|██████████| 17/17 [00:00<00:00, 944.45it/s]\n",
      "100%|██████████| 17/17 [00:00<00:00, 1000.00it/s]\n",
      "100%|██████████| 17/17 [00:00<00:00, 1062.50it/s]\n",
      "100%|██████████| 17/17 [00:00<00:00, 944.45it/s]\n",
      "100%|██████████| 17/17 [00:00<00:00, 999.92it/s]\n",
      "100%|██████████| 17/17 [00:00<00:00, 999.99it/s]\n",
      "100%|██████████| 17/17 [00:00<00:00, 944.46it/s]\n",
      "100%|██████████| 17/17 [00:00<00:00, 944.41it/s]\n",
      "100%|██████████| 17/17 [00:00<00:00, 944.46it/s]\n",
      "100%|██████████| 17/17 [00:00<00:00, 1000.02it/s]\n",
      "100%|██████████| 17/17 [00:00<00:00, 944.48it/s]\n",
      "100%|██████████| 17/17 [00:00<00:00, 1000.00it/s]\n"
     ]
    },
    {
     "name": "stdout",
     "output_type": "stream",
     "text": [
      "Epoch [2921/6000]: Train loss: 1.7433, Valid loss: 1.5814\n"
     ]
    },
    {
     "name": "stderr",
     "output_type": "stream",
     "text": [
      "100%|██████████| 17/17 [00:00<00:00, 956.20it/s]\n",
      "100%|██████████| 17/17 [00:00<00:00, 999.99it/s]\n",
      "100%|██████████| 17/17 [00:00<00:00, 894.73it/s]\n",
      "100%|██████████| 17/17 [00:00<00:00, 952.51it/s]\n",
      "100%|██████████| 17/17 [00:00<00:00, 944.45it/s]\n",
      "100%|██████████| 17/17 [00:00<00:00, 999.97it/s]\n",
      "100%|██████████| 17/17 [00:00<00:00, 944.46it/s]\n",
      "100%|██████████| 17/17 [00:00<00:00, 894.73it/s]\n",
      "100%|██████████| 17/17 [00:00<00:00, 1000.00it/s]\n",
      "100%|██████████| 17/17 [00:00<00:00, 999.99it/s]\n",
      "100%|██████████| 17/17 [00:00<00:00, 1000.03it/s]\n",
      "100%|██████████| 17/17 [00:00<00:00, 999.97it/s]\n",
      "100%|██████████| 17/17 [00:00<00:00, 828.22it/s]\n",
      "100%|██████████| 17/17 [00:00<00:00, 944.44it/s]\n",
      "100%|██████████| 17/17 [00:00<00:00, 944.46it/s]\n",
      "100%|██████████| 17/17 [00:00<00:00, 944.45it/s]\n",
      "100%|██████████| 17/17 [00:00<00:00, 849.93it/s]\n",
      "100%|██████████| 17/17 [00:00<00:00, 999.99it/s]\n",
      "100%|██████████| 17/17 [00:00<00:00, 894.75it/s]\n",
      "100%|██████████| 17/17 [00:00<00:00, 850.00it/s]\n"
     ]
    },
    {
     "name": "stdout",
     "output_type": "stream",
     "text": [
      "Epoch [2941/6000]: Train loss: 1.7368, Valid loss: 1.5732\n"
     ]
    },
    {
     "name": "stderr",
     "output_type": "stream",
     "text": [
      "100%|██████████| 17/17 [00:00<00:00, 655.68it/s]\n",
      "100%|██████████| 17/17 [00:00<00:00, 894.73it/s]\n",
      "100%|██████████| 17/17 [00:00<00:00, 809.51it/s]\n",
      "100%|██████████| 17/17 [00:00<00:00, 757.32it/s]\n",
      "100%|██████████| 17/17 [00:00<00:00, 809.52it/s]\n",
      "100%|██████████| 17/17 [00:00<00:00, 813.61it/s]\n",
      "100%|██████████| 17/17 [00:00<00:00, 894.73it/s]\n",
      "100%|██████████| 17/17 [00:00<00:00, 894.71it/s]\n",
      "100%|██████████| 17/17 [00:00<00:00, 894.75it/s]\n",
      "100%|██████████| 17/17 [00:00<00:00, 893.97it/s]\n",
      "100%|██████████| 17/17 [00:00<00:00, 869.24it/s]\n",
      "100%|██████████| 17/17 [00:00<00:00, 894.75it/s]\n",
      "100%|██████████| 17/17 [00:00<00:00, 894.84it/s]\n",
      "100%|██████████| 17/17 [00:00<00:00, 894.75it/s]\n",
      "100%|██████████| 17/17 [00:00<00:00, 944.45it/s]\n",
      "100%|██████████| 17/17 [00:00<00:00, 894.72it/s]\n",
      "100%|██████████| 17/17 [00:00<00:00, 894.71it/s]\n",
      "100%|██████████| 17/17 [00:00<00:00, 894.73it/s]\n",
      "100%|██████████| 17/17 [00:00<00:00, 1000.02it/s]\n",
      "100%|██████████| 17/17 [00:00<00:00, 956.02it/s]\n"
     ]
    },
    {
     "name": "stdout",
     "output_type": "stream",
     "text": [
      "Epoch [2961/6000]: Train loss: 1.7328, Valid loss: 1.5691\n"
     ]
    },
    {
     "name": "stderr",
     "output_type": "stream",
     "text": [
      "100%|██████████| 17/17 [00:00<00:00, 1000.03it/s]\n",
      "100%|██████████| 17/17 [00:00<00:00, 1000.03it/s]\n",
      "100%|██████████| 17/17 [00:00<00:00, 1000.03it/s]\n",
      "100%|██████████| 17/17 [00:00<00:00, 1000.02it/s]\n",
      "100%|██████████| 17/17 [00:00<00:00, 1000.00it/s]\n",
      "100%|██████████| 17/17 [00:00<00:00, 944.45it/s]\n",
      "100%|██████████| 17/17 [00:00<00:00, 1000.02it/s]\n",
      "100%|██████████| 17/17 [00:00<00:00, 891.36it/s]\n",
      "100%|██████████| 17/17 [00:00<00:00, 944.43it/s]\n",
      "100%|██████████| 17/17 [00:00<00:00, 1000.00it/s]\n",
      "100%|██████████| 17/17 [00:00<00:00, 999.99it/s]\n",
      "100%|██████████| 17/17 [00:00<00:00, 999.97it/s]\n",
      "100%|██████████| 17/17 [00:00<00:00, 999.97it/s]\n"
     ]
    },
    {
     "name": "stdout",
     "output_type": "stream",
     "text": [
      "Saving model with loss 1.426...\n"
     ]
    },
    {
     "name": "stderr",
     "output_type": "stream",
     "text": [
      "100%|██████████| 17/17 [00:00<00:00, 944.44it/s]\n",
      "100%|██████████| 17/17 [00:00<00:00, 1000.00it/s]\n",
      "100%|██████████| 17/17 [00:00<00:00, 944.44it/s]\n",
      "100%|██████████| 17/17 [00:00<00:00, 1002.59it/s]\n",
      "100%|██████████| 17/17 [00:00<00:00, 944.45it/s]\n",
      "100%|██████████| 17/17 [00:00<00:00, 944.41it/s]\n",
      "100%|██████████| 17/17 [00:00<00:00, 1000.00it/s]\n"
     ]
    },
    {
     "name": "stdout",
     "output_type": "stream",
     "text": [
      "Epoch [2981/6000]: Train loss: 1.7242, Valid loss: 1.5229\n"
     ]
    },
    {
     "name": "stderr",
     "output_type": "stream",
     "text": [
      "100%|██████████| 17/17 [00:00<00:00, 1000.00it/s]\n",
      "100%|██████████| 17/17 [00:00<00:00, 999.99it/s]\n",
      "100%|██████████| 17/17 [00:00<00:00, 999.99it/s]\n",
      "100%|██████████| 17/17 [00:00<00:00, 894.72it/s]\n",
      "100%|██████████| 17/17 [00:00<00:00, 861.03it/s]\n",
      "100%|██████████| 17/17 [00:00<00:00, 886.38it/s]\n",
      "100%|██████████| 17/17 [00:00<00:00, 894.75it/s]\n",
      "100%|██████████| 17/17 [00:00<00:00, 866.94it/s]\n",
      "100%|██████████| 17/17 [00:00<00:00, 849.98it/s]\n",
      "100%|██████████| 17/17 [00:00<00:00, 894.70it/s]\n",
      "100%|██████████| 17/17 [00:00<00:00, 894.75it/s]\n",
      "100%|██████████| 17/17 [00:00<00:00, 944.45it/s]\n",
      "100%|██████████| 17/17 [00:00<00:00, 894.75it/s]\n",
      "100%|██████████| 17/17 [00:00<00:00, 894.73it/s]\n",
      "100%|██████████| 17/17 [00:00<00:00, 894.73it/s]\n",
      "100%|██████████| 17/17 [00:00<00:00, 894.73it/s]\n",
      "100%|██████████| 17/17 [00:00<00:00, 944.44it/s]\n",
      "100%|██████████| 17/17 [00:00<00:00, 944.44it/s]\n",
      "100%|██████████| 17/17 [00:00<00:00, 894.75it/s]\n",
      "100%|██████████| 17/17 [00:00<00:00, 944.45it/s]\n"
     ]
    },
    {
     "name": "stdout",
     "output_type": "stream",
     "text": [
      "Epoch [3001/6000]: Train loss: 1.7197, Valid loss: 1.5206\n"
     ]
    },
    {
     "name": "stderr",
     "output_type": "stream",
     "text": [
      "100%|██████████| 17/17 [00:00<00:00, 894.73it/s]\n",
      "100%|██████████| 17/17 [00:00<00:00, 894.75it/s]\n",
      "100%|██████████| 17/17 [00:00<00:00, 894.71it/s]\n",
      "100%|██████████| 17/17 [00:00<00:00, 850.00it/s]\n",
      "100%|██████████| 17/17 [00:00<00:00, 894.70it/s]\n",
      "100%|██████████| 17/17 [00:00<00:00, 894.73it/s]\n",
      "100%|██████████| 17/17 [00:00<00:00, 894.75it/s]\n",
      "100%|██████████| 17/17 [00:00<00:00, 894.73it/s]\n",
      "100%|██████████| 17/17 [00:00<00:00, 944.46it/s]\n",
      "100%|██████████| 17/17 [00:00<00:00, 894.75it/s]\n",
      "100%|██████████| 17/17 [00:00<00:00, 894.75it/s]\n",
      "100%|██████████| 17/17 [00:00<00:00, 894.93it/s]\n",
      "100%|██████████| 17/17 [00:00<00:00, 849.99it/s]\n",
      "100%|██████████| 17/17 [00:00<00:00, 894.73it/s]\n",
      "100%|██████████| 17/17 [00:00<00:00, 894.76it/s]\n",
      "100%|██████████| 17/17 [00:00<00:00, 849.90it/s]\n"
     ]
    },
    {
     "name": "stdout",
     "output_type": "stream",
     "text": [
      "Saving model with loss 1.424...\n"
     ]
    },
    {
     "name": "stderr",
     "output_type": "stream",
     "text": [
      "100%|██████████| 17/17 [00:00<00:00, 944.45it/s]\n",
      "100%|██████████| 17/17 [00:00<00:00, 944.44it/s]\n",
      "100%|██████████| 17/17 [00:00<00:00, 944.44it/s]\n",
      "100%|██████████| 17/17 [00:00<00:00, 944.34it/s]\n"
     ]
    },
    {
     "name": "stdout",
     "output_type": "stream",
     "text": [
      "Epoch [3021/6000]: Train loss: 1.7153, Valid loss: 1.5705\n"
     ]
    },
    {
     "name": "stderr",
     "output_type": "stream",
     "text": [
      "100%|██████████| 17/17 [00:00<00:00, 894.73it/s]\n"
     ]
    },
    {
     "name": "stdout",
     "output_type": "stream",
     "text": [
      "Saving model with loss 1.412...\n"
     ]
    },
    {
     "name": "stderr",
     "output_type": "stream",
     "text": [
      "100%|██████████| 17/17 [00:00<00:00, 894.75it/s]\n",
      "100%|██████████| 17/17 [00:00<00:00, 894.72it/s]\n",
      "100%|██████████| 17/17 [00:00<00:00, 944.34it/s]\n",
      "100%|██████████| 17/17 [00:00<00:00, 894.73it/s]\n",
      "100%|██████████| 17/17 [00:00<00:00, 894.71it/s]\n",
      "100%|██████████| 17/17 [00:00<00:00, 894.73it/s]\n",
      "100%|██████████| 17/17 [00:00<00:00, 894.72it/s]\n",
      "100%|██████████| 17/17 [00:00<00:00, 894.72it/s]\n",
      "100%|██████████| 17/17 [00:00<00:00, 944.44it/s]\n",
      "100%|██████████| 17/17 [00:00<00:00, 944.44it/s]\n",
      "100%|██████████| 17/17 [00:00<00:00, 894.73it/s]\n",
      "100%|██████████| 17/17 [00:00<00:00, 902.42it/s]\n",
      "100%|██████████| 17/17 [00:00<00:00, 894.73it/s]\n",
      "100%|██████████| 17/17 [00:00<00:00, 894.75it/s]\n",
      "100%|██████████| 17/17 [00:00<00:00, 869.36it/s]\n",
      "100%|██████████| 17/17 [00:00<00:00, 894.63it/s]\n",
      "100%|██████████| 17/17 [00:00<00:00, 894.75it/s]\n",
      "100%|██████████| 17/17 [00:00<00:00, 894.75it/s]\n",
      "100%|██████████| 17/17 [00:00<00:00, 894.73it/s]\n"
     ]
    },
    {
     "name": "stdout",
     "output_type": "stream",
     "text": [
      "Epoch [3041/6000]: Train loss: 1.7058, Valid loss: 1.5499\n"
     ]
    },
    {
     "name": "stderr",
     "output_type": "stream",
     "text": [
      "100%|██████████| 17/17 [00:00<00:00, 849.91it/s]\n",
      "100%|██████████| 17/17 [00:00<00:00, 894.73it/s]\n",
      "100%|██████████| 17/17 [00:00<00:00, 894.72it/s]\n",
      "100%|██████████| 17/17 [00:00<00:00, 894.73it/s]\n",
      "100%|██████████| 17/17 [00:00<00:00, 894.76it/s]\n",
      "100%|██████████| 17/17 [00:00<00:00, 894.73it/s]\n",
      "100%|██████████| 17/17 [00:00<00:00, 894.75it/s]\n",
      "100%|██████████| 17/17 [00:00<00:00, 944.45it/s]\n",
      "100%|██████████| 17/17 [00:00<00:00, 894.75it/s]\n",
      "100%|██████████| 17/17 [00:00<00:00, 894.63it/s]\n",
      "100%|██████████| 17/17 [00:00<00:00, 894.73it/s]\n",
      "100%|██████████| 17/17 [00:00<00:00, 850.00it/s]\n",
      "100%|██████████| 17/17 [00:00<00:00, 894.75it/s]\n",
      "100%|██████████| 17/17 [00:00<00:00, 894.58it/s]\n",
      "100%|██████████| 17/17 [00:00<00:00, 857.43it/s]\n",
      "100%|██████████| 17/17 [00:00<00:00, 894.75it/s]\n",
      "100%|██████████| 17/17 [00:00<00:00, 849.99it/s]\n",
      "100%|██████████| 17/17 [00:00<00:00, 891.41it/s]\n",
      "100%|██████████| 17/17 [00:00<00:00, 894.73it/s]\n",
      "100%|██████████| 17/17 [00:00<00:00, 944.45it/s]\n"
     ]
    },
    {
     "name": "stdout",
     "output_type": "stream",
     "text": [
      "Epoch [3061/6000]: Train loss: 1.6999, Valid loss: 1.4861\n"
     ]
    },
    {
     "name": "stderr",
     "output_type": "stream",
     "text": [
      "100%|██████████| 17/17 [00:00<00:00, 837.76it/s]\n",
      "100%|██████████| 17/17 [00:00<00:00, 894.46it/s]\n",
      "100%|██████████| 17/17 [00:00<00:00, 894.73it/s]\n",
      "100%|██████████| 17/17 [00:00<00:00, 894.73it/s]\n",
      "100%|██████████| 17/17 [00:00<00:00, 864.03it/s]\n",
      "100%|██████████| 17/17 [00:00<00:00, 848.39it/s]\n",
      "100%|██████████| 17/17 [00:00<00:00, 894.91it/s]\n",
      "100%|██████████| 17/17 [00:00<00:00, 868.24it/s]\n",
      "100%|██████████| 17/17 [00:00<00:00, 894.76it/s]\n",
      "100%|██████████| 17/17 [00:00<00:00, 894.72it/s]\n",
      "100%|██████████| 17/17 [00:00<00:00, 871.49it/s]\n",
      "100%|██████████| 17/17 [00:00<00:00, 894.73it/s]\n",
      "100%|██████████| 17/17 [00:00<00:00, 849.99it/s]\n",
      "100%|██████████| 17/17 [00:00<00:00, 850.00it/s]\n",
      "100%|██████████| 17/17 [00:00<00:00, 894.72it/s]\n",
      "100%|██████████| 17/17 [00:00<00:00, 894.71it/s]\n",
      "100%|██████████| 17/17 [00:00<00:00, 894.76it/s]\n",
      "100%|██████████| 17/17 [00:00<00:00, 851.94it/s]\n",
      "100%|██████████| 17/17 [00:00<00:00, 887.63it/s]\n",
      "100%|██████████| 17/17 [00:00<00:00, 894.73it/s]\n"
     ]
    },
    {
     "name": "stdout",
     "output_type": "stream",
     "text": [
      "Epoch [3081/6000]: Train loss: 1.6983, Valid loss: 1.4821\n"
     ]
    },
    {
     "name": "stderr",
     "output_type": "stream",
     "text": [
      "100%|██████████| 17/17 [00:00<00:00, 894.73it/s]\n",
      "100%|██████████| 17/17 [00:00<00:00, 850.00it/s]\n",
      "100%|██████████| 17/17 [00:00<00:00, 894.73it/s]\n",
      "100%|██████████| 17/17 [00:00<00:00, 894.73it/s]\n",
      "100%|██████████| 17/17 [00:00<00:00, 894.73it/s]\n",
      "100%|██████████| 17/17 [00:00<00:00, 894.73it/s]\n",
      "100%|██████████| 17/17 [00:00<00:00, 850.00it/s]\n"
     ]
    },
    {
     "name": "stdout",
     "output_type": "stream",
     "text": [
      "Saving model with loss 1.407...\n"
     ]
    },
    {
     "name": "stderr",
     "output_type": "stream",
     "text": [
      "100%|██████████| 17/17 [00:00<00:00, 894.75it/s]\n",
      "100%|██████████| 17/17 [00:00<00:00, 894.75it/s]\n",
      "100%|██████████| 17/17 [00:00<00:00, 850.01it/s]\n",
      "100%|██████████| 17/17 [00:00<00:00, 850.01it/s]\n",
      "100%|██████████| 17/17 [00:00<00:00, 894.76it/s]\n",
      "100%|██████████| 17/17 [00:00<00:00, 999.99it/s]\n",
      "100%|██████████| 17/17 [00:00<00:00, 944.45it/s]\n",
      "100%|██████████| 17/17 [00:00<00:00, 1000.02it/s]\n",
      "100%|██████████| 17/17 [00:00<00:00, 999.99it/s]\n"
     ]
    },
    {
     "name": "stdout",
     "output_type": "stream",
     "text": [
      "Saving model with loss 1.351...\n"
     ]
    },
    {
     "name": "stderr",
     "output_type": "stream",
     "text": [
      "100%|██████████| 17/17 [00:00<00:00, 894.75it/s]\n",
      "100%|██████████| 17/17 [00:00<00:00, 944.45it/s]\n",
      "100%|██████████| 17/17 [00:00<00:00, 944.44it/s]\n",
      "100%|██████████| 17/17 [00:00<00:00, 894.72it/s]\n"
     ]
    },
    {
     "name": "stdout",
     "output_type": "stream",
     "text": [
      "Epoch [3101/6000]: Train loss: 1.6923, Valid loss: 1.4862\n"
     ]
    },
    {
     "name": "stderr",
     "output_type": "stream",
     "text": [
      "100%|██████████| 17/17 [00:00<00:00, 850.00it/s]\n",
      "100%|██████████| 17/17 [00:00<00:00, 894.73it/s]\n",
      "100%|██████████| 17/17 [00:00<00:00, 1000.02it/s]\n",
      "100%|██████████| 17/17 [00:00<00:00, 944.45it/s]\n",
      "100%|██████████| 17/17 [00:00<00:00, 894.75it/s]\n",
      "100%|██████████| 17/17 [00:00<00:00, 944.45it/s]\n",
      "100%|██████████| 17/17 [00:00<00:00, 944.44it/s]\n",
      "100%|██████████| 17/17 [00:00<00:00, 944.45it/s]\n",
      "100%|██████████| 17/17 [00:00<00:00, 1000.02it/s]\n",
      "100%|██████████| 17/17 [00:00<00:00, 1000.02it/s]\n",
      "100%|██████████| 17/17 [00:00<00:00, 944.44it/s]\n",
      "100%|██████████| 17/17 [00:00<00:00, 944.46it/s]\n",
      "100%|██████████| 17/17 [00:00<00:00, 944.44it/s]\n",
      "100%|██████████| 17/17 [00:00<00:00, 944.46it/s]\n",
      "100%|██████████| 17/17 [00:00<00:00, 944.44it/s]\n",
      "100%|██████████| 17/17 [00:00<00:00, 944.45it/s]\n",
      "100%|██████████| 17/17 [00:00<00:00, 944.46it/s]\n",
      "100%|██████████| 17/17 [00:00<00:00, 1000.02it/s]\n",
      "100%|██████████| 17/17 [00:00<00:00, 905.85it/s]\n",
      "100%|██████████| 17/17 [00:00<00:00, 944.45it/s]\n"
     ]
    },
    {
     "name": "stdout",
     "output_type": "stream",
     "text": [
      "Epoch [3121/6000]: Train loss: 1.6833, Valid loss: 1.6034\n"
     ]
    },
    {
     "name": "stderr",
     "output_type": "stream",
     "text": [
      "100%|██████████| 17/17 [00:00<00:00, 999.99it/s]\n",
      "100%|██████████| 17/17 [00:00<00:00, 944.44it/s]\n",
      "100%|██████████| 17/17 [00:00<00:00, 944.63it/s]\n",
      "100%|██████████| 17/17 [00:00<00:00, 944.45it/s]\n",
      "100%|██████████| 17/17 [00:00<00:00, 894.76it/s]\n",
      "100%|██████████| 17/17 [00:00<00:00, 944.44it/s]\n",
      "100%|██████████| 17/17 [00:00<00:00, 1000.00it/s]\n",
      "100%|██████████| 17/17 [00:00<00:00, 944.46it/s]\n",
      "100%|██████████| 17/17 [00:00<00:00, 944.45it/s]\n",
      "100%|██████████| 17/17 [00:00<00:00, 944.44it/s]\n",
      "100%|██████████| 17/17 [00:00<00:00, 944.46it/s]\n",
      "100%|██████████| 17/17 [00:00<00:00, 944.41it/s]\n",
      "100%|██████████| 17/17 [00:00<00:00, 944.45it/s]\n",
      "100%|██████████| 17/17 [00:00<00:00, 944.45it/s]\n",
      "100%|██████████| 17/17 [00:00<00:00, 944.45it/s]\n",
      "100%|██████████| 17/17 [00:00<00:00, 944.45it/s]\n",
      "100%|██████████| 17/17 [00:00<00:00, 944.45it/s]\n",
      "100%|██████████| 17/17 [00:00<00:00, 944.45it/s]\n",
      "100%|██████████| 17/17 [00:00<00:00, 944.44it/s]\n",
      "100%|██████████| 17/17 [00:00<00:00, 944.45it/s]\n"
     ]
    },
    {
     "name": "stdout",
     "output_type": "stream",
     "text": [
      "Epoch [3141/6000]: Train loss: 1.6786, Valid loss: 1.4852\n"
     ]
    },
    {
     "name": "stderr",
     "output_type": "stream",
     "text": [
      "100%|██████████| 17/17 [00:00<00:00, 944.45it/s]\n",
      "100%|██████████| 17/17 [00:00<00:00, 944.46it/s]\n",
      "100%|██████████| 17/17 [00:00<00:00, 944.44it/s]\n",
      "100%|██████████| 17/17 [00:00<00:00, 944.43it/s]\n",
      "100%|██████████| 17/17 [00:00<00:00, 944.45it/s]\n",
      "100%|██████████| 17/17 [00:00<00:00, 944.44it/s]\n",
      "100%|██████████| 17/17 [00:00<00:00, 944.46it/s]\n",
      "100%|██████████| 17/17 [00:00<00:00, 1012.08it/s]\n",
      "100%|██████████| 17/17 [00:00<00:00, 944.44it/s]\n",
      "100%|██████████| 17/17 [00:00<00:00, 850.01it/s]\n",
      "100%|██████████| 17/17 [00:00<00:00, 1000.00it/s]\n",
      "100%|██████████| 17/17 [00:00<00:00, 894.75it/s]\n",
      "100%|██████████| 17/17 [00:00<00:00, 944.46it/s]\n",
      "100%|██████████| 17/17 [00:00<00:00, 894.75it/s]\n",
      "100%|██████████| 17/17 [00:00<00:00, 944.44it/s]\n",
      "100%|██████████| 17/17 [00:00<00:00, 1000.02it/s]\n",
      "100%|██████████| 17/17 [00:00<00:00, 944.44it/s]\n",
      "100%|██████████| 17/17 [00:00<00:00, 944.46it/s]\n",
      "100%|██████████| 17/17 [00:00<00:00, 944.45it/s]\n",
      "100%|██████████| 17/17 [00:00<00:00, 944.44it/s]\n"
     ]
    },
    {
     "name": "stdout",
     "output_type": "stream",
     "text": [
      "Epoch [3161/6000]: Train loss: 1.6745, Valid loss: 1.5234\n"
     ]
    },
    {
     "name": "stderr",
     "output_type": "stream",
     "text": [
      "100%|██████████| 17/17 [00:00<00:00, 894.73it/s]\n",
      "100%|██████████| 17/17 [00:00<00:00, 1000.00it/s]\n",
      "100%|██████████| 17/17 [00:00<00:00, 944.45it/s]\n",
      "100%|██████████| 17/17 [00:00<00:00, 944.46it/s]\n",
      "100%|██████████| 17/17 [00:00<00:00, 944.43it/s]\n",
      "100%|██████████| 17/17 [00:00<00:00, 944.44it/s]\n",
      "100%|██████████| 17/17 [00:00<00:00, 944.45it/s]\n",
      "100%|██████████| 17/17 [00:00<00:00, 944.48it/s]\n",
      "100%|██████████| 17/17 [00:00<00:00, 944.44it/s]\n",
      "100%|██████████| 17/17 [00:00<00:00, 894.73it/s]\n",
      "100%|██████████| 17/17 [00:00<00:00, 809.54it/s]\n",
      "100%|██████████| 17/17 [00:00<00:00, 894.75it/s]\n",
      "100%|██████████| 17/17 [00:00<00:00, 849.97it/s]\n",
      "100%|██████████| 17/17 [00:00<00:00, 809.50it/s]\n",
      "100%|██████████| 17/17 [00:00<00:00, 772.74it/s]\n",
      "100%|██████████| 17/17 [00:00<00:00, 685.79it/s]\n",
      "100%|██████████| 17/17 [00:00<00:00, 772.73it/s]\n",
      "100%|██████████| 17/17 [00:00<00:00, 772.72it/s]\n",
      "100%|██████████| 17/17 [00:00<00:00, 729.40it/s]\n",
      "100%|██████████| 17/17 [00:00<00:00, 850.00it/s]\n"
     ]
    },
    {
     "name": "stdout",
     "output_type": "stream",
     "text": [
      "Epoch [3181/6000]: Train loss: 1.6671, Valid loss: 1.3206\n",
      "Saving model with loss 1.321...\n"
     ]
    },
    {
     "name": "stderr",
     "output_type": "stream",
     "text": [
      "100%|██████████| 17/17 [00:00<00:00, 850.01it/s]\n",
      "100%|██████████| 17/17 [00:00<00:00, 894.76it/s]\n",
      "100%|██████████| 17/17 [00:00<00:00, 944.44it/s]\n",
      "100%|██████████| 17/17 [00:00<00:00, 894.78it/s]\n",
      "100%|██████████| 17/17 [00:00<00:00, 954.36it/s]\n",
      "100%|██████████| 17/17 [00:00<00:00, 944.43it/s]\n",
      "100%|██████████| 17/17 [00:00<00:00, 944.44it/s]\n",
      "100%|██████████| 17/17 [00:00<00:00, 858.37it/s]\n",
      "100%|██████████| 17/17 [00:00<00:00, 894.76it/s]\n",
      "100%|██████████| 17/17 [00:00<00:00, 809.50it/s]\n",
      "100%|██████████| 17/17 [00:00<00:00, 894.76it/s]\n",
      "100%|██████████| 17/17 [00:00<00:00, 809.52it/s]\n",
      "100%|██████████| 17/17 [00:00<00:00, 944.46it/s]\n",
      "100%|██████████| 17/17 [00:00<00:00, 809.62it/s]\n",
      "100%|██████████| 17/17 [00:00<00:00, 894.75it/s]\n",
      "100%|██████████| 17/17 [00:00<00:00, 894.72it/s]\n",
      "100%|██████████| 17/17 [00:00<00:00, 944.46it/s]\n",
      "100%|██████████| 17/17 [00:00<00:00, 849.98it/s]\n",
      "100%|██████████| 17/17 [00:00<00:00, 850.00it/s]\n",
      "100%|██████████| 17/17 [00:00<00:00, 849.98it/s]\n"
     ]
    },
    {
     "name": "stdout",
     "output_type": "stream",
     "text": [
      "Epoch [3201/6000]: Train loss: 1.6620, Valid loss: 1.4697\n"
     ]
    },
    {
     "name": "stderr",
     "output_type": "stream",
     "text": [
      "100%|██████████| 17/17 [00:00<00:00, 944.46it/s]\n",
      "100%|██████████| 17/17 [00:00<00:00, 739.13it/s]\n",
      "100%|██████████| 17/17 [00:00<00:00, 850.03it/s]\n",
      "100%|██████████| 17/17 [00:00<00:00, 905.20it/s]\n",
      "100%|██████████| 17/17 [00:00<00:00, 944.44it/s]\n",
      "100%|██████████| 17/17 [00:00<00:00, 894.69it/s]\n",
      "100%|██████████| 17/17 [00:00<00:00, 894.69it/s]\n",
      "100%|██████████| 17/17 [00:00<00:00, 944.45it/s]\n",
      "100%|██████████| 17/17 [00:00<00:00, 999.99it/s]\n",
      "100%|██████████| 17/17 [00:00<00:00, 944.51it/s]\n",
      "100%|██████████| 17/17 [00:00<00:00, 944.44it/s]\n",
      "100%|██████████| 17/17 [00:00<00:00, 944.50it/s]\n",
      "100%|██████████| 17/17 [00:00<00:00, 1000.00it/s]\n",
      "100%|██████████| 17/17 [00:00<00:00, 944.44it/s]\n",
      "100%|██████████| 17/17 [00:00<00:00, 944.49it/s]\n",
      "100%|██████████| 17/17 [00:00<00:00, 1000.02it/s]\n",
      "100%|██████████| 17/17 [00:00<00:00, 1000.03it/s]\n",
      "100%|██████████| 17/17 [00:00<00:00, 999.99it/s]\n",
      "100%|██████████| 17/17 [00:00<00:00, 944.44it/s]\n",
      "100%|██████████| 17/17 [00:00<00:00, 944.44it/s]\n"
     ]
    },
    {
     "name": "stdout",
     "output_type": "stream",
     "text": [
      "Epoch [3221/6000]: Train loss: 1.6562, Valid loss: 1.4427\n"
     ]
    },
    {
     "name": "stderr",
     "output_type": "stream",
     "text": [
      "100%|██████████| 17/17 [00:00<00:00, 944.45it/s]\n",
      "100%|██████████| 17/17 [00:00<00:00, 894.75it/s]\n",
      "100%|██████████| 17/17 [00:00<00:00, 999.99it/s]\n",
      "100%|██████████| 17/17 [00:00<00:00, 944.46it/s]\n",
      "100%|██████████| 17/17 [00:00<00:00, 999.97it/s]\n",
      "100%|██████████| 17/17 [00:00<00:00, 944.44it/s]\n",
      "100%|██████████| 17/17 [00:00<00:00, 944.44it/s]\n",
      "100%|██████████| 17/17 [00:00<00:00, 1000.00it/s]\n",
      "100%|██████████| 17/17 [00:00<00:00, 944.40it/s]\n",
      "100%|██████████| 17/17 [00:00<00:00, 884.68it/s]\n",
      "100%|██████████| 17/17 [00:00<00:00, 944.45it/s]\n",
      "100%|██████████| 17/17 [00:00<00:00, 999.97it/s]\n",
      "100%|██████████| 17/17 [00:00<00:00, 944.41it/s]\n",
      "100%|██████████| 17/17 [00:00<00:00, 894.71it/s]\n",
      "100%|██████████| 17/17 [00:00<00:00, 944.46it/s]\n",
      "100%|██████████| 17/17 [00:00<00:00, 999.97it/s]\n",
      "100%|██████████| 17/17 [00:00<00:00, 944.44it/s]\n",
      "100%|██████████| 17/17 [00:00<00:00, 1000.02it/s]\n",
      "100%|██████████| 17/17 [00:00<00:00, 944.48it/s]\n",
      "100%|██████████| 17/17 [00:00<00:00, 999.96it/s]\n"
     ]
    },
    {
     "name": "stdout",
     "output_type": "stream",
     "text": [
      "Epoch [3241/6000]: Train loss: 1.6498, Valid loss: 1.5861\n"
     ]
    },
    {
     "name": "stderr",
     "output_type": "stream",
     "text": [
      "100%|██████████| 17/17 [00:00<00:00, 944.44it/s]\n",
      "100%|██████████| 17/17 [00:00<00:00, 999.99it/s]\n",
      "100%|██████████| 17/17 [00:00<00:00, 1000.00it/s]\n",
      "100%|██████████| 17/17 [00:00<00:00, 1004.57it/s]\n",
      "100%|██████████| 17/17 [00:00<00:00, 944.45it/s]\n",
      "100%|██████████| 17/17 [00:00<00:00, 1000.00it/s]\n",
      "100%|██████████| 17/17 [00:00<00:00, 894.73it/s]\n",
      "100%|██████████| 17/17 [00:00<00:00, 944.45it/s]\n",
      "100%|██████████| 17/17 [00:00<00:00, 1000.02it/s]\n",
      "100%|██████████| 17/17 [00:00<00:00, 894.73it/s]\n",
      "100%|██████████| 17/17 [00:00<00:00, 944.44it/s]\n",
      "100%|██████████| 17/17 [00:00<00:00, 1000.02it/s]\n",
      "100%|██████████| 17/17 [00:00<00:00, 944.45it/s]\n",
      "100%|██████████| 17/17 [00:00<00:00, 944.46it/s]\n",
      "100%|██████████| 17/17 [00:00<00:00, 944.46it/s]\n",
      "100%|██████████| 17/17 [00:00<00:00, 1031.27it/s]\n",
      "100%|██████████| 17/17 [00:00<00:00, 999.96it/s]\n",
      "100%|██████████| 17/17 [00:00<00:00, 894.71it/s]\n",
      "100%|██████████| 17/17 [00:00<00:00, 894.73it/s]\n",
      "100%|██████████| 17/17 [00:00<00:00, 894.75it/s]\n"
     ]
    },
    {
     "name": "stdout",
     "output_type": "stream",
     "text": [
      "Epoch [3261/6000]: Train loss: 1.6448, Valid loss: 1.4575\n"
     ]
    },
    {
     "name": "stderr",
     "output_type": "stream",
     "text": [
      "100%|██████████| 17/17 [00:00<00:00, 850.02it/s]\n",
      "100%|██████████| 17/17 [00:00<00:00, 894.71it/s]\n",
      "100%|██████████| 17/17 [00:00<00:00, 894.72it/s]\n",
      "100%|██████████| 17/17 [00:00<00:00, 944.41it/s]\n",
      "100%|██████████| 17/17 [00:00<00:00, 894.71it/s]\n",
      "100%|██████████| 17/17 [00:00<00:00, 944.45it/s]\n",
      "100%|██████████| 17/17 [00:00<00:00, 894.76it/s]\n",
      "100%|██████████| 17/17 [00:00<00:00, 944.45it/s]\n",
      "100%|██████████| 17/17 [00:00<00:00, 894.71it/s]\n",
      "100%|██████████| 17/17 [00:00<00:00, 850.00it/s]\n",
      "100%|██████████| 17/17 [00:00<00:00, 850.01it/s]\n",
      "100%|██████████| 17/17 [00:00<00:00, 894.73it/s]\n",
      "100%|██████████| 17/17 [00:00<00:00, 849.98it/s]\n",
      "100%|██████████| 17/17 [00:00<00:00, 894.75it/s]\n",
      "100%|██████████| 17/17 [00:00<00:00, 894.76it/s]\n",
      "100%|██████████| 17/17 [00:00<00:00, 944.41it/s]\n",
      "100%|██████████| 17/17 [00:00<00:00, 944.44it/s]\n",
      "100%|██████████| 17/17 [00:00<00:00, 850.02it/s]\n",
      "100%|██████████| 17/17 [00:00<00:00, 894.75it/s]\n",
      "100%|██████████| 17/17 [00:00<00:00, 944.48it/s]\n"
     ]
    },
    {
     "name": "stdout",
     "output_type": "stream",
     "text": [
      "Epoch [3281/6000]: Train loss: 1.6399, Valid loss: 1.5628\n"
     ]
    },
    {
     "name": "stderr",
     "output_type": "stream",
     "text": [
      "100%|██████████| 17/17 [00:00<00:00, 894.72it/s]\n",
      "100%|██████████| 17/17 [00:00<00:00, 894.75it/s]\n",
      "100%|██████████| 17/17 [00:00<00:00, 894.72it/s]\n",
      "100%|██████████| 17/17 [00:00<00:00, 894.73it/s]\n",
      "100%|██████████| 17/17 [00:00<00:00, 894.76it/s]\n",
      "100%|██████████| 17/17 [00:00<00:00, 944.44it/s]\n",
      "100%|██████████| 17/17 [00:00<00:00, 894.78it/s]\n",
      "100%|██████████| 17/17 [00:00<00:00, 944.48it/s]\n",
      "100%|██████████| 17/17 [00:00<00:00, 894.76it/s]\n",
      "100%|██████████| 17/17 [00:00<00:00, 849.99it/s]\n",
      "100%|██████████| 17/17 [00:00<00:00, 894.72it/s]\n",
      "100%|██████████| 17/17 [00:00<00:00, 902.13it/s]\n",
      "100%|██████████| 17/17 [00:00<00:00, 944.41it/s]\n",
      "100%|██████████| 17/17 [00:00<00:00, 944.44it/s]\n",
      "100%|██████████| 17/17 [00:00<00:00, 850.01it/s]\n",
      "100%|██████████| 17/17 [00:00<00:00, 894.73it/s]\n",
      "100%|██████████| 17/17 [00:00<00:00, 850.03it/s]\n",
      "100%|██████████| 17/17 [00:00<00:00, 894.73it/s]\n",
      "100%|██████████| 17/17 [00:00<00:00, 944.45it/s]\n",
      "100%|██████████| 17/17 [00:00<00:00, 894.73it/s]\n"
     ]
    },
    {
     "name": "stdout",
     "output_type": "stream",
     "text": [
      "Epoch [3301/6000]: Train loss: 1.6352, Valid loss: 1.5308\n"
     ]
    },
    {
     "name": "stderr",
     "output_type": "stream",
     "text": [
      "100%|██████████| 17/17 [00:00<00:00, 894.73it/s]\n",
      "100%|██████████| 17/17 [00:00<00:00, 894.73it/s]\n",
      "100%|██████████| 17/17 [00:00<00:00, 894.73it/s]\n",
      "100%|██████████| 17/17 [00:00<00:00, 894.73it/s]\n",
      "100%|██████████| 17/17 [00:00<00:00, 1000.02it/s]\n",
      "100%|██████████| 17/17 [00:00<00:00, 1000.02it/s]\n",
      "100%|██████████| 17/17 [00:00<00:00, 999.99it/s]\n",
      "100%|██████████| 17/17 [00:00<00:00, 1000.00it/s]\n",
      "100%|██████████| 17/17 [00:00<00:00, 944.41it/s]\n",
      "100%|██████████| 17/17 [00:00<00:00, 944.44it/s]\n",
      "100%|██████████| 17/17 [00:00<00:00, 944.43it/s]\n",
      "100%|██████████| 17/17 [00:00<00:00, 944.48it/s]\n",
      "100%|██████████| 17/17 [00:00<00:00, 944.43it/s]\n",
      "100%|██████████| 17/17 [00:00<00:00, 944.46it/s]\n",
      "100%|██████████| 17/17 [00:00<00:00, 999.99it/s]\n",
      "100%|██████████| 17/17 [00:00<00:00, 999.99it/s]\n",
      "100%|██████████| 17/17 [00:00<00:00, 999.97it/s]\n",
      "100%|██████████| 17/17 [00:00<00:00, 944.45it/s]\n",
      "100%|██████████| 17/17 [00:00<00:00, 1000.00it/s]\n",
      "100%|██████████| 17/17 [00:00<00:00, 944.43it/s]\n"
     ]
    },
    {
     "name": "stdout",
     "output_type": "stream",
     "text": [
      "Epoch [3321/6000]: Train loss: 1.6298, Valid loss: 1.4489\n"
     ]
    },
    {
     "name": "stderr",
     "output_type": "stream",
     "text": [
      "100%|██████████| 17/17 [00:00<00:00, 999.97it/s]\n",
      "100%|██████████| 17/17 [00:00<00:00, 944.46it/s]\n",
      "100%|██████████| 17/17 [00:00<00:00, 944.44it/s]\n",
      "100%|██████████| 17/17 [00:00<00:00, 999.99it/s]\n",
      "100%|██████████| 17/17 [00:00<00:00, 944.38it/s]\n",
      "100%|██████████| 17/17 [00:00<00:00, 1000.03it/s]\n",
      "100%|██████████| 17/17 [00:00<00:00, 944.46it/s]\n",
      "100%|██████████| 17/17 [00:00<00:00, 809.54it/s]\n",
      "100%|██████████| 17/17 [00:00<00:00, 1000.00it/s]\n",
      "100%|██████████| 17/17 [00:00<00:00, 1000.00it/s]\n",
      "100%|██████████| 17/17 [00:00<00:00, 944.44it/s]\n",
      "100%|██████████| 17/17 [00:00<00:00, 978.35it/s]\n",
      "100%|██████████| 17/17 [00:00<00:00, 1000.04it/s]\n",
      "100%|██████████| 17/17 [00:00<00:00, 849.97it/s]\n",
      "100%|██████████| 17/17 [00:00<00:00, 911.30it/s]\n",
      "100%|██████████| 17/17 [00:00<00:00, 944.41it/s]\n",
      "100%|██████████| 17/17 [00:00<00:00, 894.71it/s]\n",
      "100%|██████████| 17/17 [00:00<00:00, 894.72it/s]\n",
      "100%|██████████| 17/17 [00:00<00:00, 753.32it/s]\n",
      "100%|██████████| 17/17 [00:00<00:00, 713.83it/s]\n"
     ]
    },
    {
     "name": "stdout",
     "output_type": "stream",
     "text": [
      "Epoch [3341/6000]: Train loss: 1.6252, Valid loss: 1.4456\n"
     ]
    },
    {
     "name": "stderr",
     "output_type": "stream",
     "text": [
      "100%|██████████| 17/17 [00:00<00:00, 509.26it/s]\n",
      "100%|██████████| 17/17 [00:00<00:00, 850.00it/s]\n",
      "100%|██████████| 17/17 [00:00<00:00, 894.75it/s]\n",
      "100%|██████████| 17/17 [00:00<00:00, 894.70it/s]\n",
      "100%|██████████| 17/17 [00:00<00:00, 801.11it/s]\n",
      "100%|██████████| 17/17 [00:00<00:00, 905.89it/s]\n",
      "100%|██████████| 17/17 [00:00<00:00, 695.16it/s]\n",
      "100%|██████████| 17/17 [00:00<00:00, 708.33it/s]\n",
      "100%|██████████| 17/17 [00:00<00:00, 850.01it/s]\n",
      "100%|██████████| 17/17 [00:00<00:00, 845.27it/s]\n",
      "100%|██████████| 17/17 [00:00<00:00, 894.72it/s]\n",
      "100%|██████████| 17/17 [00:00<00:00, 856.17it/s]\n",
      "100%|██████████| 17/17 [00:00<00:00, 862.26it/s]\n",
      "100%|██████████| 17/17 [00:00<00:00, 849.98it/s]\n",
      "100%|██████████| 17/17 [00:00<00:00, 850.00it/s]\n",
      "100%|██████████| 17/17 [00:00<00:00, 894.73it/s]\n",
      "100%|██████████| 17/17 [00:00<00:00, 894.73it/s]\n",
      "100%|██████████| 17/17 [00:00<00:00, 834.67it/s]\n",
      "100%|██████████| 17/17 [00:00<00:00, 828.67it/s]\n",
      "100%|██████████| 17/17 [00:00<00:00, 894.72it/s]\n"
     ]
    },
    {
     "name": "stdout",
     "output_type": "stream",
     "text": [
      "Epoch [3361/6000]: Train loss: 1.6214, Valid loss: 1.4734\n"
     ]
    },
    {
     "name": "stderr",
     "output_type": "stream",
     "text": [
      "100%|██████████| 17/17 [00:00<00:00, 849.99it/s]\n",
      "100%|██████████| 17/17 [00:00<00:00, 894.75it/s]\n",
      "100%|██████████| 17/17 [00:00<00:00, 849.29it/s]\n",
      "100%|██████████| 17/17 [00:00<00:00, 740.84it/s]\n",
      "100%|██████████| 17/17 [00:00<00:00, 900.50it/s]\n",
      "100%|██████████| 17/17 [00:00<00:00, 849.52it/s]\n",
      "100%|██████████| 17/17 [00:00<00:00, 836.25it/s]\n",
      "100%|██████████| 17/17 [00:00<00:00, 816.83it/s]\n",
      "100%|██████████| 17/17 [00:00<00:00, 894.75it/s]\n",
      "100%|██████████| 17/17 [00:00<00:00, 809.52it/s]\n",
      "100%|██████████| 17/17 [00:00<00:00, 944.46it/s]\n",
      "100%|██████████| 17/17 [00:00<00:00, 843.59it/s]\n",
      "100%|██████████| 17/17 [00:00<00:00, 849.98it/s]\n",
      "100%|██████████| 17/17 [00:00<00:00, 850.05it/s]\n",
      "100%|██████████| 17/17 [00:00<00:00, 894.73it/s]\n",
      "100%|██████████| 17/17 [00:00<00:00, 850.19it/s]\n",
      "100%|██████████| 17/17 [00:00<00:00, 828.93it/s]\n",
      "100%|██████████| 17/17 [00:00<00:00, 894.78it/s]\n",
      "100%|██████████| 17/17 [00:00<00:00, 894.72it/s]\n",
      "100%|██████████| 17/17 [00:00<00:00, 894.76it/s]\n"
     ]
    },
    {
     "name": "stdout",
     "output_type": "stream",
     "text": [
      "Epoch [3381/6000]: Train loss: 1.6150, Valid loss: 1.4521\n"
     ]
    },
    {
     "name": "stderr",
     "output_type": "stream",
     "text": [
      "100%|██████████| 17/17 [00:00<00:00, 894.76it/s]\n",
      "100%|██████████| 17/17 [00:00<00:00, 850.02it/s]\n",
      "100%|██████████| 17/17 [00:00<00:00, 629.61it/s]\n",
      "100%|██████████| 17/17 [00:00<00:00, 772.75it/s]\n",
      "100%|██████████| 17/17 [00:00<00:00, 838.13it/s]\n",
      "100%|██████████| 17/17 [00:00<00:00, 871.02it/s]\n",
      "100%|██████████| 17/17 [00:00<00:00, 810.82it/s]\n",
      "100%|██████████| 17/17 [00:00<00:00, 772.73it/s]\n",
      "100%|██████████| 17/17 [00:00<00:00, 809.87it/s]\n",
      "100%|██████████| 17/17 [00:00<00:00, 894.72it/s]\n",
      "100%|██████████| 17/17 [00:00<00:00, 850.00it/s]\n",
      "100%|██████████| 17/17 [00:00<00:00, 795.67it/s]\n",
      "100%|██████████| 17/17 [00:00<00:00, 915.96it/s]\n",
      "100%|██████████| 17/17 [00:00<00:00, 850.00it/s]\n",
      "100%|██████████| 17/17 [00:00<00:00, 860.34it/s]\n",
      "100%|██████████| 17/17 [00:00<00:00, 809.53it/s]\n",
      "100%|██████████| 17/17 [00:00<00:00, 850.01it/s]\n",
      "100%|██████████| 17/17 [00:00<00:00, 894.70it/s]\n",
      "100%|██████████| 17/17 [00:00<00:00, 894.75it/s]\n",
      "100%|██████████| 17/17 [00:00<00:00, 809.53it/s]\n"
     ]
    },
    {
     "name": "stdout",
     "output_type": "stream",
     "text": [
      "Epoch [3401/6000]: Train loss: 1.6079, Valid loss: 1.4534\n"
     ]
    },
    {
     "name": "stderr",
     "output_type": "stream",
     "text": [
      "100%|██████████| 17/17 [00:00<00:00, 809.53it/s]\n",
      "100%|██████████| 17/17 [00:00<00:00, 809.55it/s]\n",
      "100%|██████████| 17/17 [00:00<00:00, 894.77it/s]\n",
      "100%|██████████| 17/17 [00:00<00:00, 809.59it/s]\n",
      "100%|██████████| 17/17 [00:00<00:00, 809.55it/s]\n",
      "100%|██████████| 17/17 [00:00<00:00, 827.32it/s]\n",
      "100%|██████████| 17/17 [00:00<00:00, 894.73it/s]\n",
      "100%|██████████| 17/17 [00:00<00:00, 772.73it/s]\n",
      "100%|██████████| 17/17 [00:00<00:00, 850.00it/s]\n",
      "100%|██████████| 17/17 [00:00<00:00, 850.00it/s]\n",
      "100%|██████████| 17/17 [00:00<00:00, 884.19it/s]\n",
      "100%|██████████| 17/17 [00:00<00:00, 850.02it/s]\n",
      "100%|██████████| 17/17 [00:00<00:00, 894.75it/s]\n",
      "100%|██████████| 17/17 [00:00<00:00, 894.72it/s]\n",
      "100%|██████████| 17/17 [00:00<00:00, 894.72it/s]\n",
      "100%|██████████| 17/17 [00:00<00:00, 894.71it/s]\n",
      "100%|██████████| 17/17 [00:00<00:00, 689.34it/s]\n",
      "100%|██████████| 17/17 [00:00<00:00, 809.51it/s]\n",
      "100%|██████████| 17/17 [00:00<00:00, 850.03it/s]\n",
      "100%|██████████| 17/17 [00:00<00:00, 850.00it/s]\n"
     ]
    },
    {
     "name": "stdout",
     "output_type": "stream",
     "text": [
      "Epoch [3421/6000]: Train loss: 1.6053, Valid loss: 1.3807\n"
     ]
    },
    {
     "name": "stderr",
     "output_type": "stream",
     "text": [
      "100%|██████████| 17/17 [00:00<00:00, 772.70it/s]\n",
      "100%|██████████| 17/17 [00:00<00:00, 850.00it/s]\n",
      "100%|██████████| 17/17 [00:00<00:00, 849.96it/s]\n",
      "100%|██████████| 17/17 [00:00<00:00, 894.75it/s]\n",
      "100%|██████████| 17/17 [00:00<00:00, 809.53it/s]\n",
      "100%|██████████| 17/17 [00:00<00:00, 850.01it/s]\n",
      "100%|██████████| 17/17 [00:00<00:00, 849.98it/s]\n",
      "100%|██████████| 17/17 [00:00<00:00, 869.30it/s]\n",
      "100%|██████████| 17/17 [00:00<00:00, 809.50it/s]\n",
      "100%|██████████| 17/17 [00:00<00:00, 839.14it/s]\n",
      "100%|██████████| 17/17 [00:00<00:00, 748.31it/s]\n",
      "100%|██████████| 17/17 [00:00<00:00, 832.94it/s]\n",
      "100%|██████████| 17/17 [00:00<00:00, 755.05it/s]\n",
      "100%|██████████| 17/17 [00:00<00:00, 809.53it/s]\n",
      "100%|██████████| 17/17 [00:00<00:00, 746.15it/s]\n",
      "100%|██████████| 17/17 [00:00<00:00, 686.34it/s]\n",
      "100%|██████████| 17/17 [00:00<00:00, 453.09it/s]\n",
      "100%|██████████| 17/17 [00:00<00:00, 819.15it/s]\n",
      "100%|██████████| 17/17 [00:00<00:00, 836.66it/s]\n",
      "100%|██████████| 17/17 [00:00<00:00, 840.29it/s]\n"
     ]
    },
    {
     "name": "stdout",
     "output_type": "stream",
     "text": [
      "Epoch [3441/6000]: Train loss: 1.5967, Valid loss: 1.3266\n"
     ]
    },
    {
     "name": "stderr",
     "output_type": "stream",
     "text": [
      "100%|██████████| 17/17 [00:00<00:00, 772.71it/s]\n",
      "100%|██████████| 17/17 [00:00<00:00, 840.27it/s]\n",
      "100%|██████████| 17/17 [00:00<00:00, 808.25it/s]\n",
      "100%|██████████| 17/17 [00:00<00:00, 661.62it/s]\n",
      "100%|██████████| 17/17 [00:00<00:00, 706.97it/s]\n",
      "100%|██████████| 17/17 [00:00<00:00, 734.51it/s]\n",
      "100%|██████████| 17/17 [00:00<00:00, 598.98it/s]\n",
      "100%|██████████| 17/17 [00:00<00:00, 698.22it/s]\n",
      "100%|██████████| 17/17 [00:00<00:00, 740.72it/s]\n",
      "100%|██████████| 17/17 [00:00<00:00, 729.26it/s]\n"
     ]
    },
    {
     "name": "stdout",
     "output_type": "stream",
     "text": [
      "Saving model with loss 1.311...\n"
     ]
    },
    {
     "name": "stderr",
     "output_type": "stream",
     "text": [
      "100%|██████████| 17/17 [00:00<00:00, 809.03it/s]\n",
      "100%|██████████| 17/17 [00:00<00:00, 851.73it/s]\n",
      "100%|██████████| 17/17 [00:00<00:00, 811.74it/s]\n",
      "100%|██████████| 17/17 [00:00<00:00, 771.83it/s]\n",
      "100%|██████████| 17/17 [00:00<00:00, 782.57it/s]\n",
      "100%|██████████| 17/17 [00:00<00:00, 767.91it/s]\n",
      "100%|██████████| 17/17 [00:00<00:00, 728.61it/s]\n",
      "100%|██████████| 17/17 [00:00<00:00, 703.13it/s]\n",
      "100%|██████████| 17/17 [00:00<00:00, 607.12it/s]\n",
      "100%|██████████| 17/17 [00:00<00:00, 656.01it/s]\n"
     ]
    },
    {
     "name": "stdout",
     "output_type": "stream",
     "text": [
      "Epoch [3461/6000]: Train loss: 1.5949, Valid loss: 1.3898\n"
     ]
    },
    {
     "name": "stderr",
     "output_type": "stream",
     "text": [
      "100%|██████████| 17/17 [00:00<00:00, 684.20it/s]\n",
      "100%|██████████| 17/17 [00:00<00:00, 894.79it/s]\n",
      "100%|██████████| 17/17 [00:00<00:00, 898.48it/s]\n",
      "100%|██████████| 17/17 [00:00<00:00, 894.71it/s]\n",
      "100%|██████████| 17/17 [00:00<00:00, 867.39it/s]\n"
     ]
    },
    {
     "name": "stdout",
     "output_type": "stream",
     "text": [
      "Saving model with loss 1.287...\n"
     ]
    },
    {
     "name": "stderr",
     "output_type": "stream",
     "text": [
      "100%|██████████| 17/17 [00:00<00:00, 914.60it/s]\n",
      "100%|██████████| 17/17 [00:00<00:00, 807.89it/s]\n",
      "100%|██████████| 17/17 [00:00<00:00, 944.44it/s]\n",
      "100%|██████████| 17/17 [00:00<00:00, 894.76it/s]\n",
      "100%|██████████| 17/17 [00:00<00:00, 860.62it/s]\n",
      "100%|██████████| 17/17 [00:00<00:00, 944.44it/s]\n",
      "100%|██████████| 17/17 [00:00<00:00, 944.45it/s]\n",
      "100%|██████████| 17/17 [00:00<00:00, 944.03it/s]\n",
      "100%|██████████| 17/17 [00:00<00:00, 944.51it/s]\n",
      "100%|██████████| 17/17 [00:00<00:00, 902.02it/s]\n",
      "100%|██████████| 17/17 [00:00<00:00, 894.73it/s]\n",
      "100%|██████████| 17/17 [00:00<00:00, 944.45it/s]\n",
      "100%|██████████| 17/17 [00:00<00:00, 879.94it/s]\n",
      "100%|██████████| 17/17 [00:00<00:00, 1000.00it/s]\n",
      "100%|██████████| 17/17 [00:00<00:00, 944.45it/s]\n"
     ]
    },
    {
     "name": "stdout",
     "output_type": "stream",
     "text": [
      "Epoch [3481/6000]: Train loss: 1.5864, Valid loss: 1.3878\n"
     ]
    },
    {
     "name": "stderr",
     "output_type": "stream",
     "text": [
      "100%|██████████| 17/17 [00:00<00:00, 948.72it/s]\n",
      "100%|██████████| 17/17 [00:00<00:00, 958.07it/s]\n",
      "100%|██████████| 17/17 [00:00<00:00, 944.44it/s]\n",
      "100%|██████████| 17/17 [00:00<00:00, 937.08it/s]\n",
      "100%|██████████| 17/17 [00:00<00:00, 925.43it/s]\n",
      "100%|██████████| 17/17 [00:00<00:00, 941.05it/s]\n",
      "100%|██████████| 17/17 [00:00<00:00, 1000.03it/s]\n",
      "100%|██████████| 17/17 [00:00<00:00, 944.45it/s]\n",
      "100%|██████████| 17/17 [00:00<00:00, 893.94it/s]\n",
      "100%|██████████| 17/17 [00:00<00:00, 988.48it/s]\n",
      "100%|██████████| 17/17 [00:00<00:00, 930.03it/s]\n",
      "100%|██████████| 17/17 [00:00<00:00, 789.57it/s]\n",
      "100%|██████████| 17/17 [00:00<00:00, 708.33it/s]\n",
      "100%|██████████| 17/17 [00:00<00:00, 772.71it/s]\n",
      "100%|██████████| 17/17 [00:00<00:00, 850.03it/s]\n",
      "100%|██████████| 17/17 [00:00<00:00, 809.51it/s]\n",
      "100%|██████████| 17/17 [00:00<00:00, 850.01it/s]\n",
      "100%|██████████| 17/17 [00:00<00:00, 809.52it/s]\n",
      "100%|██████████| 17/17 [00:00<00:00, 850.00it/s]\n",
      "100%|██████████| 17/17 [00:00<00:00, 809.54it/s]\n"
     ]
    },
    {
     "name": "stdout",
     "output_type": "stream",
     "text": [
      "Epoch [3501/6000]: Train loss: 1.5867, Valid loss: 1.4951\n"
     ]
    },
    {
     "name": "stderr",
     "output_type": "stream",
     "text": [
      "100%|██████████| 17/17 [00:00<00:00, 850.01it/s]\n",
      "100%|██████████| 17/17 [00:00<00:00, 809.50it/s]\n",
      "100%|██████████| 17/17 [00:00<00:00, 894.73it/s]\n",
      "100%|██████████| 17/17 [00:00<00:00, 779.06it/s]\n",
      "100%|██████████| 17/17 [00:00<00:00, 944.45it/s]\n",
      "100%|██████████| 17/17 [00:00<00:00, 849.94it/s]\n",
      "100%|██████████| 17/17 [00:00<00:00, 882.91it/s]\n",
      "100%|██████████| 17/17 [00:00<00:00, 894.73it/s]\n",
      "100%|██████████| 17/17 [00:00<00:00, 856.04it/s]\n",
      "100%|██████████| 17/17 [00:00<00:00, 773.08it/s]\n",
      "100%|██████████| 17/17 [00:00<00:00, 894.73it/s]\n",
      "100%|██████████| 17/17 [00:00<00:00, 894.78it/s]\n",
      "100%|██████████| 17/17 [00:00<00:00, 850.01it/s]\n",
      "100%|██████████| 17/17 [00:00<00:00, 809.55it/s]\n",
      "100%|██████████| 17/17 [00:00<00:00, 809.49it/s]\n",
      "100%|██████████| 17/17 [00:00<00:00, 916.06it/s]\n",
      "100%|██████████| 17/17 [00:00<00:00, 894.73it/s]\n",
      "100%|██████████| 17/17 [00:00<00:00, 849.99it/s]\n",
      "100%|██████████| 17/17 [00:00<00:00, 850.00it/s]\n",
      "100%|██████████| 17/17 [00:00<00:00, 850.00it/s]\n"
     ]
    },
    {
     "name": "stdout",
     "output_type": "stream",
     "text": [
      "Epoch [3521/6000]: Train loss: 1.5787, Valid loss: 1.7487\n"
     ]
    },
    {
     "name": "stderr",
     "output_type": "stream",
     "text": [
      "100%|██████████| 17/17 [00:00<00:00, 894.79it/s]\n",
      "100%|██████████| 17/17 [00:00<00:00, 894.72it/s]\n",
      "100%|██████████| 17/17 [00:00<00:00, 894.73it/s]\n",
      "100%|██████████| 17/17 [00:00<00:00, 944.45it/s]\n",
      "100%|██████████| 17/17 [00:00<00:00, 999.99it/s]\n",
      "100%|██████████| 17/17 [00:00<00:00, 944.45it/s]\n",
      "100%|██████████| 17/17 [00:00<00:00, 944.48it/s]\n",
      "100%|██████████| 17/17 [00:00<00:00, 944.45it/s]\n",
      "100%|██████████| 17/17 [00:00<00:00, 1000.03it/s]\n",
      "100%|██████████| 17/17 [00:00<00:00, 894.73it/s]\n",
      "100%|██████████| 17/17 [00:00<00:00, 944.45it/s]\n",
      "100%|██████████| 17/17 [00:00<00:00, 944.48it/s]\n",
      "100%|██████████| 17/17 [00:00<00:00, 894.73it/s]\n",
      "100%|██████████| 17/17 [00:00<00:00, 946.76it/s]\n",
      "100%|██████████| 17/17 [00:00<00:00, 944.48it/s]\n",
      "100%|██████████| 17/17 [00:00<00:00, 999.99it/s]\n",
      "100%|██████████| 17/17 [00:00<00:00, 944.46it/s]\n",
      "100%|██████████| 17/17 [00:00<00:00, 944.43it/s]\n",
      "100%|██████████| 17/17 [00:00<00:00, 894.76it/s]\n",
      "100%|██████████| 17/17 [00:00<00:00, 1000.03it/s]\n"
     ]
    },
    {
     "name": "stdout",
     "output_type": "stream",
     "text": [
      "Epoch [3541/6000]: Train loss: 1.5771, Valid loss: 1.6606\n"
     ]
    },
    {
     "name": "stderr",
     "output_type": "stream",
     "text": [
      "100%|██████████| 17/17 [00:00<00:00, 944.44it/s]\n",
      "100%|██████████| 17/17 [00:00<00:00, 809.55it/s]\n",
      "100%|██████████| 17/17 [00:00<00:00, 772.70it/s]\n",
      "100%|██████████| 17/17 [00:00<00:00, 852.08it/s]\n",
      "100%|██████████| 17/17 [00:00<00:00, 894.73it/s]\n",
      "100%|██████████| 17/17 [00:00<00:00, 894.78it/s]\n",
      "100%|██████████| 17/17 [00:00<00:00, 894.73it/s]\n",
      "100%|██████████| 17/17 [00:00<00:00, 850.02it/s]\n",
      "100%|██████████| 17/17 [00:00<00:00, 944.45it/s]\n",
      "100%|██████████| 17/17 [00:00<00:00, 944.45it/s]\n",
      "100%|██████████| 17/17 [00:00<00:00, 999.97it/s]\n",
      "100%|██████████| 17/17 [00:00<00:00, 1000.02it/s]\n",
      "100%|██████████| 17/17 [00:00<00:00, 1000.00it/s]\n",
      "100%|██████████| 17/17 [00:00<00:00, 944.46it/s]\n",
      "100%|██████████| 17/17 [00:00<00:00, 944.45it/s]\n",
      "100%|██████████| 17/17 [00:00<00:00, 944.45it/s]\n",
      "100%|██████████| 17/17 [00:00<00:00, 1000.00it/s]\n",
      "100%|██████████| 17/17 [00:00<00:00, 1000.00it/s]\n",
      "100%|██████████| 17/17 [00:00<00:00, 999.96it/s]\n",
      "100%|██████████| 17/17 [00:00<00:00, 1000.00it/s]\n"
     ]
    },
    {
     "name": "stdout",
     "output_type": "stream",
     "text": [
      "Epoch [3561/6000]: Train loss: 1.5708, Valid loss: 1.3754\n"
     ]
    },
    {
     "name": "stderr",
     "output_type": "stream",
     "text": [
      "100%|██████████| 17/17 [00:00<00:00, 936.06it/s]\n",
      "100%|██████████| 17/17 [00:00<00:00, 944.46it/s]\n",
      "100%|██████████| 17/17 [00:00<00:00, 944.49it/s]\n",
      "100%|██████████| 17/17 [00:00<00:00, 999.99it/s]\n",
      "100%|██████████| 17/17 [00:00<00:00, 944.46it/s]\n",
      "100%|██████████| 17/17 [00:00<00:00, 1000.00it/s]\n",
      "100%|██████████| 17/17 [00:00<00:00, 999.99it/s]\n",
      "100%|██████████| 17/17 [00:00<00:00, 942.60it/s]\n",
      "100%|██████████| 17/17 [00:00<00:00, 850.05it/s]\n",
      "100%|██████████| 17/17 [00:00<00:00, 849.94it/s]\n",
      "100%|██████████| 17/17 [00:00<00:00, 816.44it/s]\n",
      "100%|██████████| 17/17 [00:00<00:00, 809.52it/s]\n",
      "100%|██████████| 17/17 [00:00<00:00, 680.00it/s]\n",
      "100%|██████████| 17/17 [00:00<00:00, 894.70it/s]\n",
      "100%|██████████| 17/17 [00:00<00:00, 894.75it/s]\n",
      "100%|██████████| 17/17 [00:00<00:00, 849.96it/s]\n",
      "100%|██████████| 17/17 [00:00<00:00, 944.45it/s]\n",
      "100%|██████████| 17/17 [00:00<00:00, 894.78it/s]\n",
      "100%|██████████| 17/17 [00:00<00:00, 894.75it/s]\n",
      "100%|██████████| 17/17 [00:00<00:00, 894.71it/s]\n"
     ]
    },
    {
     "name": "stdout",
     "output_type": "stream",
     "text": [
      "Epoch [3581/6000]: Train loss: 1.5631, Valid loss: 1.7308\n"
     ]
    },
    {
     "name": "stderr",
     "output_type": "stream",
     "text": [
      "100%|██████████| 17/17 [00:00<00:00, 894.76it/s]\n",
      "100%|██████████| 17/17 [00:00<00:00, 944.46it/s]\n",
      "100%|██████████| 17/17 [00:00<00:00, 944.46it/s]\n",
      "100%|██████████| 17/17 [00:00<00:00, 944.44it/s]\n",
      "100%|██████████| 17/17 [00:00<00:00, 944.45it/s]\n",
      "100%|██████████| 17/17 [00:00<00:00, 894.75it/s]\n",
      "100%|██████████| 17/17 [00:00<00:00, 944.49it/s]\n",
      "100%|██████████| 17/17 [00:00<00:00, 1000.02it/s]\n",
      "100%|██████████| 17/17 [00:00<00:00, 1005.40it/s]\n",
      "100%|██████████| 17/17 [00:00<00:00, 1000.02it/s]\n",
      "100%|██████████| 17/17 [00:00<00:00, 944.46it/s]\n",
      "100%|██████████| 17/17 [00:00<00:00, 944.44it/s]\n",
      "100%|██████████| 17/17 [00:00<00:00, 894.75it/s]\n",
      "100%|██████████| 17/17 [00:00<00:00, 944.45it/s]\n",
      "100%|██████████| 17/17 [00:00<00:00, 944.46it/s]\n",
      "100%|██████████| 17/17 [00:00<00:00, 894.75it/s]\n",
      "100%|██████████| 17/17 [00:00<00:00, 894.72it/s]\n",
      "100%|██████████| 17/17 [00:00<00:00, 944.50it/s]\n",
      "100%|██████████| 17/17 [00:00<00:00, 944.45it/s]\n",
      "100%|██████████| 17/17 [00:00<00:00, 894.73it/s]\n"
     ]
    },
    {
     "name": "stdout",
     "output_type": "stream",
     "text": [
      "Epoch [3601/6000]: Train loss: 1.5589, Valid loss: 1.5037\n"
     ]
    },
    {
     "name": "stderr",
     "output_type": "stream",
     "text": [
      "100%|██████████| 17/17 [00:00<00:00, 944.45it/s]\n",
      "100%|██████████| 17/17 [00:00<00:00, 894.75it/s]\n",
      "100%|██████████| 17/17 [00:00<00:00, 1000.02it/s]\n",
      "100%|██████████| 17/17 [00:00<00:00, 1000.00it/s]\n",
      "100%|██████████| 17/17 [00:00<00:00, 894.76it/s]\n",
      "100%|██████████| 17/17 [00:00<00:00, 944.45it/s]\n",
      "100%|██████████| 17/17 [00:00<00:00, 944.45it/s]\n",
      "100%|██████████| 17/17 [00:00<00:00, 944.46it/s]\n",
      "100%|██████████| 17/17 [00:00<00:00, 944.48it/s]\n",
      "100%|██████████| 17/17 [00:00<00:00, 989.95it/s]\n",
      "100%|██████████| 17/17 [00:00<00:00, 944.45it/s]\n",
      "100%|██████████| 17/17 [00:00<00:00, 944.48it/s]\n",
      "100%|██████████| 17/17 [00:00<00:00, 894.78it/s]\n",
      "100%|██████████| 17/17 [00:00<00:00, 944.43it/s]\n",
      "100%|██████████| 17/17 [00:00<00:00, 898.18it/s]\n",
      "100%|██████████| 17/17 [00:00<00:00, 944.43it/s]\n",
      "100%|██████████| 17/17 [00:00<00:00, 850.01it/s]\n",
      "100%|██████████| 17/17 [00:00<00:00, 944.45it/s]\n",
      "100%|██████████| 17/17 [00:00<00:00, 944.46it/s]\n",
      "100%|██████████| 17/17 [00:00<00:00, 944.41it/s]\n"
     ]
    },
    {
     "name": "stdout",
     "output_type": "stream",
     "text": [
      "Epoch [3621/6000]: Train loss: 1.5568, Valid loss: 1.3033\n"
     ]
    },
    {
     "name": "stderr",
     "output_type": "stream",
     "text": [
      "100%|██████████| 17/17 [00:00<00:00, 944.46it/s]\n",
      "100%|██████████| 17/17 [00:00<00:00, 944.44it/s]\n",
      "100%|██████████| 17/17 [00:00<00:00, 944.46it/s]\n",
      "100%|██████████| 17/17 [00:00<00:00, 944.84it/s]\n",
      "100%|██████████| 17/17 [00:00<00:00, 1000.00it/s]\n",
      "100%|██████████| 17/17 [00:00<00:00, 944.45it/s]\n",
      "100%|██████████| 17/17 [00:00<00:00, 944.50it/s]\n",
      "100%|██████████| 17/17 [00:00<00:00, 894.71it/s]\n",
      "100%|██████████| 17/17 [00:00<00:00, 944.44it/s]\n",
      "100%|██████████| 17/17 [00:00<00:00, 1000.02it/s]\n",
      "100%|██████████| 17/17 [00:00<00:00, 944.45it/s]\n",
      "100%|██████████| 17/17 [00:00<00:00, 944.48it/s]\n",
      "100%|██████████| 17/17 [00:00<00:00, 944.48it/s]\n",
      "100%|██████████| 17/17 [00:00<00:00, 1000.00it/s]\n",
      "100%|██████████| 17/17 [00:00<00:00, 1000.00it/s]\n"
     ]
    },
    {
     "name": "stdout",
     "output_type": "stream",
     "text": [
      "Saving model with loss 1.279...\n"
     ]
    },
    {
     "name": "stderr",
     "output_type": "stream",
     "text": [
      "100%|██████████| 17/17 [00:00<00:00, 944.45it/s]\n",
      "100%|██████████| 17/17 [00:00<00:00, 944.46it/s]\n",
      "100%|██████████| 17/17 [00:00<00:00, 944.40it/s]\n"
     ]
    },
    {
     "name": "stdout",
     "output_type": "stream",
     "text": [
      "Saving model with loss 1.275...\n"
     ]
    },
    {
     "name": "stderr",
     "output_type": "stream",
     "text": [
      "100%|██████████| 17/17 [00:00<00:00, 1000.00it/s]\n",
      "100%|██████████| 17/17 [00:00<00:00, 920.22it/s]\n"
     ]
    },
    {
     "name": "stdout",
     "output_type": "stream",
     "text": [
      "Epoch [3641/6000]: Train loss: 1.5492, Valid loss: 1.3129\n"
     ]
    },
    {
     "name": "stderr",
     "output_type": "stream",
     "text": [
      "100%|██████████| 17/17 [00:00<00:00, 944.46it/s]\n",
      "100%|██████████| 17/17 [00:00<00:00, 944.44it/s]\n",
      "100%|██████████| 17/17 [00:00<00:00, 944.44it/s]\n",
      "100%|██████████| 17/17 [00:00<00:00, 999.93it/s]\n",
      "100%|██████████| 17/17 [00:00<00:00, 944.45it/s]\n",
      "100%|██████████| 17/17 [00:00<00:00, 944.45it/s]\n",
      "100%|██████████| 17/17 [00:00<00:00, 944.44it/s]\n",
      "100%|██████████| 17/17 [00:00<00:00, 894.78it/s]\n",
      "100%|██████████| 17/17 [00:00<00:00, 944.45it/s]\n",
      "100%|██████████| 17/17 [00:00<00:00, 944.45it/s]\n",
      "100%|██████████| 17/17 [00:00<00:00, 909.10it/s]\n",
      "100%|██████████| 17/17 [00:00<00:00, 1000.00it/s]\n",
      "100%|██████████| 17/17 [00:00<00:00, 999.93it/s]\n",
      "100%|██████████| 17/17 [00:00<00:00, 944.44it/s]\n",
      "100%|██████████| 17/17 [00:00<00:00, 944.49it/s]\n",
      "100%|██████████| 17/17 [00:00<00:00, 944.44it/s]\n",
      "100%|██████████| 17/17 [00:00<00:00, 944.43it/s]\n",
      "100%|██████████| 17/17 [00:00<00:00, 944.68it/s]\n",
      "100%|██████████| 17/17 [00:00<00:00, 1000.03it/s]\n",
      "100%|██████████| 17/17 [00:00<00:00, 944.45it/s]\n"
     ]
    },
    {
     "name": "stdout",
     "output_type": "stream",
     "text": [
      "Epoch [3661/6000]: Train loss: 1.5465, Valid loss: 1.4475\n"
     ]
    },
    {
     "name": "stderr",
     "output_type": "stream",
     "text": [
      "100%|██████████| 17/17 [00:00<00:00, 894.73it/s]\n",
      "100%|██████████| 17/17 [00:00<00:00, 967.57it/s]\n",
      "100%|██████████| 17/17 [00:00<00:00, 944.44it/s]\n",
      "100%|██████████| 17/17 [00:00<00:00, 944.45it/s]\n",
      "100%|██████████| 17/17 [00:00<00:00, 944.45it/s]\n",
      "100%|██████████| 17/17 [00:00<00:00, 1000.00it/s]\n",
      "100%|██████████| 17/17 [00:00<00:00, 944.43it/s]\n",
      "100%|██████████| 17/17 [00:00<00:00, 944.45it/s]\n",
      "100%|██████████| 17/17 [00:00<00:00, 1000.00it/s]\n",
      "100%|██████████| 17/17 [00:00<00:00, 944.41it/s]\n",
      "100%|██████████| 17/17 [00:00<00:00, 999.99it/s]\n",
      "100%|██████████| 17/17 [00:00<00:00, 944.44it/s]\n",
      "100%|██████████| 17/17 [00:00<00:00, 1000.06it/s]\n",
      "100%|██████████| 17/17 [00:00<00:00, 1000.02it/s]\n",
      "100%|██████████| 17/17 [00:00<00:00, 944.46it/s]\n",
      "100%|██████████| 17/17 [00:00<00:00, 944.46it/s]\n",
      "100%|██████████| 17/17 [00:00<00:00, 894.76it/s]\n",
      "100%|██████████| 17/17 [00:00<00:00, 944.44it/s]\n",
      "100%|██████████| 17/17 [00:00<00:00, 944.44it/s]\n",
      "100%|██████████| 17/17 [00:00<00:00, 944.44it/s]\n"
     ]
    },
    {
     "name": "stdout",
     "output_type": "stream",
     "text": [
      "Epoch [3681/6000]: Train loss: 1.5439, Valid loss: 1.3657\n"
     ]
    },
    {
     "name": "stderr",
     "output_type": "stream",
     "text": [
      "100%|██████████| 17/17 [00:00<00:00, 1000.00it/s]\n",
      "100%|██████████| 17/17 [00:00<00:00, 1000.04it/s]\n",
      "100%|██████████| 17/17 [00:00<00:00, 944.45it/s]\n",
      "100%|██████████| 17/17 [00:00<00:00, 944.43it/s]\n",
      "100%|██████████| 17/17 [00:00<00:00, 944.45it/s]\n",
      "100%|██████████| 17/17 [00:00<00:00, 1000.00it/s]\n",
      "100%|██████████| 17/17 [00:00<00:00, 944.49it/s]\n",
      "100%|██████████| 17/17 [00:00<00:00, 999.99it/s]\n",
      "100%|██████████| 17/17 [00:00<00:00, 894.71it/s]\n",
      "100%|██████████| 17/17 [00:00<00:00, 894.75it/s]\n",
      "100%|██████████| 17/17 [00:00<00:00, 944.44it/s]\n",
      "100%|██████████| 17/17 [00:00<00:00, 944.45it/s]\n",
      "100%|██████████| 17/17 [00:00<00:00, 1000.00it/s]\n",
      "100%|██████████| 17/17 [00:00<00:00, 894.69it/s]\n",
      "100%|██████████| 17/17 [00:00<00:00, 944.45it/s]\n",
      "100%|██████████| 17/17 [00:00<00:00, 999.99it/s]\n",
      "100%|██████████| 17/17 [00:00<00:00, 944.46it/s]\n",
      "100%|██████████| 17/17 [00:00<00:00, 999.99it/s]\n",
      "100%|██████████| 17/17 [00:00<00:00, 894.75it/s]\n",
      "100%|██████████| 17/17 [00:00<00:00, 944.45it/s]\n"
     ]
    },
    {
     "name": "stdout",
     "output_type": "stream",
     "text": [
      "Epoch [3701/6000]: Train loss: 1.5362, Valid loss: 1.3276\n"
     ]
    },
    {
     "name": "stderr",
     "output_type": "stream",
     "text": [
      "100%|██████████| 17/17 [00:00<00:00, 1000.00it/s]\n",
      "100%|██████████| 17/17 [00:00<00:00, 1000.00it/s]\n",
      "100%|██████████| 17/17 [00:00<00:00, 999.95it/s]\n",
      "100%|██████████| 17/17 [00:00<00:00, 944.43it/s]\n"
     ]
    },
    {
     "name": "stdout",
     "output_type": "stream",
     "text": [
      "Saving model with loss 1.236...\n"
     ]
    },
    {
     "name": "stderr",
     "output_type": "stream",
     "text": [
      "100%|██████████| 17/17 [00:00<00:00, 944.44it/s]\n",
      "100%|██████████| 17/17 [00:00<00:00, 913.72it/s]\n",
      "100%|██████████| 17/17 [00:00<00:00, 944.45it/s]\n",
      "100%|██████████| 17/17 [00:00<00:00, 944.46it/s]\n",
      "100%|██████████| 17/17 [00:00<00:00, 850.00it/s]\n",
      "100%|██████████| 17/17 [00:00<00:00, 999.97it/s]\n",
      "100%|██████████| 17/17 [00:00<00:00, 1000.03it/s]\n",
      "100%|██████████| 17/17 [00:00<00:00, 944.44it/s]\n",
      "100%|██████████| 17/17 [00:00<00:00, 1000.00it/s]\n",
      "100%|██████████| 17/17 [00:00<00:00, 1000.00it/s]\n",
      "100%|██████████| 17/17 [00:00<00:00, 944.43it/s]\n",
      "100%|██████████| 17/17 [00:00<00:00, 1000.02it/s]\n",
      "100%|██████████| 17/17 [00:00<00:00, 1000.03it/s]\n",
      "100%|██████████| 17/17 [00:00<00:00, 944.45it/s]\n",
      "100%|██████████| 17/17 [00:00<00:00, 944.44it/s]\n",
      "100%|██████████| 17/17 [00:00<00:00, 944.45it/s]\n"
     ]
    },
    {
     "name": "stdout",
     "output_type": "stream",
     "text": [
      "Epoch [3721/6000]: Train loss: 1.5335, Valid loss: 1.7258\n"
     ]
    },
    {
     "name": "stderr",
     "output_type": "stream",
     "text": [
      "100%|██████████| 17/17 [00:00<00:00, 944.41it/s]\n",
      "100%|██████████| 17/17 [00:00<00:00, 944.45it/s]\n",
      "100%|██████████| 17/17 [00:00<00:00, 944.44it/s]\n",
      "100%|██████████| 17/17 [00:00<00:00, 944.44it/s]\n",
      "100%|██████████| 17/17 [00:00<00:00, 944.46it/s]\n",
      "100%|██████████| 17/17 [00:00<00:00, 944.44it/s]\n",
      "100%|██████████| 17/17 [00:00<00:00, 944.46it/s]\n",
      "100%|██████████| 17/17 [00:00<00:00, 1000.00it/s]\n",
      "100%|██████████| 17/17 [00:00<00:00, 944.45it/s]\n",
      "100%|██████████| 17/17 [00:00<00:00, 944.46it/s]\n",
      "100%|██████████| 17/17 [00:00<00:00, 944.43it/s]\n",
      "100%|██████████| 17/17 [00:00<00:00, 944.45it/s]\n",
      "100%|██████████| 17/17 [00:00<00:00, 944.45it/s]\n",
      "100%|██████████| 17/17 [00:00<00:00, 944.45it/s]\n",
      "100%|██████████| 17/17 [00:00<00:00, 967.57it/s]\n",
      "100%|██████████| 17/17 [00:00<00:00, 1000.02it/s]\n",
      "100%|██████████| 17/17 [00:00<00:00, 1000.00it/s]\n",
      "100%|██████████| 17/17 [00:00<00:00, 944.44it/s]\n",
      "100%|██████████| 17/17 [00:00<00:00, 944.49it/s]\n",
      "100%|██████████| 17/17 [00:00<00:00, 944.45it/s]\n"
     ]
    },
    {
     "name": "stdout",
     "output_type": "stream",
     "text": [
      "Epoch [3741/6000]: Train loss: 1.5282, Valid loss: 1.4796\n"
     ]
    },
    {
     "name": "stderr",
     "output_type": "stream",
     "text": [
      "100%|██████████| 17/17 [00:00<00:00, 944.44it/s]\n",
      "100%|██████████| 17/17 [00:00<00:00, 944.44it/s]\n",
      "100%|██████████| 17/17 [00:00<00:00, 944.43it/s]\n",
      "100%|██████████| 17/17 [00:00<00:00, 1000.02it/s]\n",
      "100%|██████████| 17/17 [00:00<00:00, 944.45it/s]\n",
      "100%|██████████| 17/17 [00:00<00:00, 967.65it/s]\n",
      "100%|██████████| 17/17 [00:00<00:00, 999.95it/s]\n",
      "100%|██████████| 17/17 [00:00<00:00, 1000.00it/s]\n",
      "100%|██████████| 17/17 [00:00<00:00, 944.45it/s]\n",
      "100%|██████████| 17/17 [00:00<00:00, 944.46it/s]\n",
      "100%|██████████| 17/17 [00:00<00:00, 944.41it/s]\n",
      "100%|██████████| 17/17 [00:00<00:00, 944.45it/s]\n",
      "100%|██████████| 17/17 [00:00<00:00, 1000.02it/s]\n",
      "100%|██████████| 17/17 [00:00<00:00, 944.45it/s]\n",
      "100%|██████████| 17/17 [00:00<00:00, 1000.00it/s]\n",
      "100%|██████████| 17/17 [00:00<00:00, 1000.00it/s]\n",
      "100%|██████████| 17/17 [00:00<00:00, 944.46it/s]\n",
      "100%|██████████| 17/17 [00:00<00:00, 772.70it/s]\n",
      "100%|██████████| 17/17 [00:00<00:00, 850.02it/s]\n",
      "100%|██████████| 17/17 [00:00<00:00, 894.76it/s]\n"
     ]
    },
    {
     "name": "stdout",
     "output_type": "stream",
     "text": [
      "Epoch [3761/6000]: Train loss: 1.5232, Valid loss: 1.3730\n"
     ]
    },
    {
     "name": "stderr",
     "output_type": "stream",
     "text": [
      "100%|██████████| 17/17 [00:00<00:00, 904.74it/s]\n",
      "100%|██████████| 17/17 [00:00<00:00, 894.75it/s]\n",
      "100%|██████████| 17/17 [00:00<00:00, 944.46it/s]\n",
      "100%|██████████| 17/17 [00:00<00:00, 894.73it/s]\n",
      "100%|██████████| 17/17 [00:00<00:00, 944.45it/s]\n",
      "100%|██████████| 17/17 [00:00<00:00, 944.44it/s]\n",
      "100%|██████████| 17/17 [00:00<00:00, 894.73it/s]\n",
      "100%|██████████| 17/17 [00:00<00:00, 944.44it/s]\n",
      "100%|██████████| 17/17 [00:00<00:00, 970.86it/s]\n",
      "100%|██████████| 17/17 [00:00<00:00, 944.43it/s]\n",
      "100%|██████████| 17/17 [00:00<00:00, 941.62it/s]\n",
      "100%|██████████| 17/17 [00:00<00:00, 894.73it/s]\n",
      "100%|██████████| 17/17 [00:00<00:00, 944.45it/s]\n",
      "100%|██████████| 17/17 [00:00<00:00, 944.43it/s]\n",
      "100%|██████████| 17/17 [00:00<00:00, 894.73it/s]\n",
      "100%|██████████| 17/17 [00:00<00:00, 894.73it/s]\n",
      "100%|██████████| 17/17 [00:00<00:00, 894.73it/s]\n",
      "100%|██████████| 17/17 [00:00<00:00, 944.54it/s]\n",
      "100%|██████████| 17/17 [00:00<00:00, 944.45it/s]\n",
      "100%|██████████| 17/17 [00:00<00:00, 950.44it/s]\n"
     ]
    },
    {
     "name": "stdout",
     "output_type": "stream",
     "text": [
      "Epoch [3781/6000]: Train loss: 1.5186, Valid loss: 1.3171\n"
     ]
    },
    {
     "name": "stderr",
     "output_type": "stream",
     "text": [
      "100%|██████████| 17/17 [00:00<00:00, 944.48it/s]\n",
      "100%|██████████| 17/17 [00:00<00:00, 944.45it/s]\n",
      "100%|██████████| 17/17 [00:00<00:00, 944.45it/s]\n",
      "100%|██████████| 17/17 [00:00<00:00, 894.72it/s]\n",
      "100%|██████████| 17/17 [00:00<00:00, 944.40it/s]\n",
      "100%|██████████| 17/17 [00:00<00:00, 944.54it/s]\n",
      "100%|██████████| 17/17 [00:00<00:00, 944.45it/s]\n",
      "100%|██████████| 17/17 [00:00<00:00, 1000.00it/s]\n",
      "100%|██████████| 17/17 [00:00<00:00, 899.66it/s]\n",
      "100%|██████████| 17/17 [00:00<00:00, 944.44it/s]\n",
      "100%|██████████| 17/17 [00:00<00:00, 944.46it/s]\n",
      "100%|██████████| 17/17 [00:00<00:00, 944.45it/s]\n",
      "100%|██████████| 17/17 [00:00<00:00, 894.72it/s]\n",
      "100%|██████████| 17/17 [00:00<00:00, 1000.00it/s]\n",
      "100%|██████████| 17/17 [00:00<00:00, 1000.00it/s]\n",
      "100%|██████████| 17/17 [00:00<00:00, 850.03it/s]\n",
      "100%|██████████| 17/17 [00:00<00:00, 894.76it/s]\n",
      "100%|██████████| 17/17 [00:00<00:00, 944.43it/s]\n",
      "100%|██████████| 17/17 [00:00<00:00, 944.46it/s]\n",
      "100%|██████████| 17/17 [00:00<00:00, 1000.02it/s]\n"
     ]
    },
    {
     "name": "stdout",
     "output_type": "stream",
     "text": [
      "Epoch [3801/6000]: Train loss: 1.5133, Valid loss: 1.5312\n"
     ]
    },
    {
     "name": "stderr",
     "output_type": "stream",
     "text": [
      "100%|██████████| 17/17 [00:00<00:00, 894.21it/s]\n",
      "100%|██████████| 17/17 [00:00<00:00, 973.79it/s]\n",
      "100%|██████████| 17/17 [00:00<00:00, 1000.00it/s]\n",
      "100%|██████████| 17/17 [00:00<00:00, 944.45it/s]\n",
      "100%|██████████| 17/17 [00:00<00:00, 942.24it/s]\n",
      "100%|██████████| 17/17 [00:00<00:00, 944.45it/s]\n",
      "100%|██████████| 17/17 [00:00<00:00, 850.00it/s]\n",
      "100%|██████████| 17/17 [00:00<00:00, 1000.00it/s]\n",
      "100%|██████████| 17/17 [00:00<00:00, 1000.02it/s]\n",
      "100%|██████████| 17/17 [00:00<00:00, 944.43it/s]\n",
      "100%|██████████| 17/17 [00:00<00:00, 931.17it/s]\n",
      "100%|██████████| 17/17 [00:00<00:00, 904.81it/s]\n",
      "100%|██████████| 17/17 [00:00<00:00, 894.72it/s]\n",
      "100%|██████████| 17/17 [00:00<00:00, 944.45it/s]\n",
      "100%|██████████| 17/17 [00:00<00:00, 944.45it/s]\n",
      "100%|██████████| 17/17 [00:00<00:00, 944.46it/s]\n",
      "100%|██████████| 17/17 [00:00<00:00, 944.44it/s]\n",
      "100%|██████████| 17/17 [00:00<00:00, 944.44it/s]\n",
      "100%|██████████| 17/17 [00:00<00:00, 944.46it/s]\n",
      "100%|██████████| 17/17 [00:00<00:00, 954.27it/s]\n"
     ]
    },
    {
     "name": "stdout",
     "output_type": "stream",
     "text": [
      "Epoch [3821/6000]: Train loss: 1.5088, Valid loss: 1.3071\n"
     ]
    },
    {
     "name": "stderr",
     "output_type": "stream",
     "text": [
      "100%|██████████| 17/17 [00:00<00:00, 944.44it/s]\n",
      "100%|██████████| 17/17 [00:00<00:00, 944.45it/s]\n",
      "100%|██████████| 17/17 [00:00<00:00, 1000.00it/s]\n",
      "100%|██████████| 17/17 [00:00<00:00, 894.79it/s]\n",
      "100%|██████████| 17/17 [00:00<00:00, 944.45it/s]\n",
      "100%|██████████| 17/17 [00:00<00:00, 944.46it/s]\n",
      "100%|██████████| 17/17 [00:00<00:00, 916.02it/s]\n",
      "100%|██████████| 17/17 [00:00<00:00, 894.75it/s]\n",
      "100%|██████████| 17/17 [00:00<00:00, 999.99it/s]\n",
      "100%|██████████| 17/17 [00:00<00:00, 944.45it/s]\n",
      "100%|██████████| 17/17 [00:00<00:00, 944.41it/s]\n",
      "100%|██████████| 17/17 [00:00<00:00, 944.44it/s]\n",
      "100%|██████████| 17/17 [00:00<00:00, 936.70it/s]\n",
      "100%|██████████| 17/17 [00:00<00:00, 944.44it/s]\n",
      "100%|██████████| 17/17 [00:00<00:00, 944.45it/s]\n",
      "100%|██████████| 17/17 [00:00<00:00, 894.75it/s]\n",
      "100%|██████████| 17/17 [00:00<00:00, 944.45it/s]\n",
      "100%|██████████| 17/17 [00:00<00:00, 944.49it/s]\n",
      "100%|██████████| 17/17 [00:00<00:00, 944.45it/s]\n",
      "100%|██████████| 17/17 [00:00<00:00, 894.73it/s]\n"
     ]
    },
    {
     "name": "stdout",
     "output_type": "stream",
     "text": [
      "Epoch [3841/6000]: Train loss: 1.5048, Valid loss: 1.3598\n"
     ]
    },
    {
     "name": "stderr",
     "output_type": "stream",
     "text": [
      "100%|██████████| 17/17 [00:00<00:00, 944.45it/s]\n",
      "100%|██████████| 17/17 [00:00<00:00, 932.92it/s]\n",
      "100%|██████████| 17/17 [00:00<00:00, 944.45it/s]\n",
      "100%|██████████| 17/17 [00:00<00:00, 944.45it/s]\n",
      "100%|██████████| 17/17 [00:00<00:00, 944.45it/s]\n",
      "100%|██████████| 17/17 [00:00<00:00, 901.53it/s]\n",
      "100%|██████████| 17/17 [00:00<00:00, 850.01it/s]\n",
      "100%|██████████| 17/17 [00:00<00:00, 944.45it/s]\n",
      "100%|██████████| 17/17 [00:00<00:00, 944.44it/s]\n",
      "100%|██████████| 17/17 [00:00<00:00, 894.75it/s]\n",
      "100%|██████████| 17/17 [00:00<00:00, 908.47it/s]\n"
     ]
    },
    {
     "name": "stdout",
     "output_type": "stream",
     "text": [
      "Saving model with loss 1.220...\n"
     ]
    },
    {
     "name": "stderr",
     "output_type": "stream",
     "text": [
      "100%|██████████| 17/17 [00:00<00:00, 944.46it/s]\n",
      "100%|██████████| 17/17 [00:00<00:00, 1000.02it/s]\n",
      "100%|██████████| 17/17 [00:00<00:00, 944.44it/s]\n",
      "100%|██████████| 17/17 [00:00<00:00, 944.45it/s]\n",
      "100%|██████████| 17/17 [00:00<00:00, 958.71it/s]\n",
      "100%|██████████| 17/17 [00:00<00:00, 944.46it/s]\n",
      "100%|██████████| 17/17 [00:00<00:00, 944.45it/s]\n",
      "100%|██████████| 17/17 [00:00<00:00, 944.49it/s]\n",
      "100%|██████████| 17/17 [00:00<00:00, 944.84it/s]\n"
     ]
    },
    {
     "name": "stdout",
     "output_type": "stream",
     "text": [
      "Epoch [3861/6000]: Train loss: 1.5028, Valid loss: 1.3820\n"
     ]
    },
    {
     "name": "stderr",
     "output_type": "stream",
     "text": [
      "100%|██████████| 17/17 [00:00<00:00, 944.45it/s]\n",
      "100%|██████████| 17/17 [00:00<00:00, 941.59it/s]\n",
      "100%|██████████| 17/17 [00:00<00:00, 944.46it/s]\n",
      "100%|██████████| 17/17 [00:00<00:00, 969.72it/s]\n",
      "100%|██████████| 17/17 [00:00<00:00, 944.45it/s]\n",
      "100%|██████████| 17/17 [00:00<00:00, 894.75it/s]\n",
      "100%|██████████| 17/17 [00:00<00:00, 944.50it/s]\n",
      "100%|██████████| 17/17 [00:00<00:00, 846.90it/s]\n",
      "100%|██████████| 17/17 [00:00<00:00, 894.73it/s]\n",
      "100%|██████████| 17/17 [00:00<00:00, 894.76it/s]\n",
      "100%|██████████| 17/17 [00:00<00:00, 849.90it/s]\n",
      "100%|██████████| 17/17 [00:00<00:00, 894.76it/s]\n",
      "100%|██████████| 17/17 [00:00<00:00, 944.45it/s]\n",
      "100%|██████████| 17/17 [00:00<00:00, 944.45it/s]\n",
      "100%|██████████| 17/17 [00:00<00:00, 944.46it/s]\n",
      "100%|██████████| 17/17 [00:00<00:00, 944.49it/s]\n",
      "100%|██████████| 17/17 [00:00<00:00, 961.63it/s]\n",
      "100%|██████████| 17/17 [00:00<00:00, 944.48it/s]\n",
      "100%|██████████| 17/17 [00:00<00:00, 944.45it/s]\n",
      "100%|██████████| 17/17 [00:00<00:00, 979.25it/s]\n"
     ]
    },
    {
     "name": "stdout",
     "output_type": "stream",
     "text": [
      "Epoch [3881/6000]: Train loss: 1.4966, Valid loss: 1.2349\n"
     ]
    },
    {
     "name": "stderr",
     "output_type": "stream",
     "text": [
      "100%|██████████| 17/17 [00:00<00:00, 894.78it/s]\n",
      "100%|██████████| 17/17 [00:00<00:00, 999.96it/s]\n",
      "100%|██████████| 17/17 [00:00<00:00, 943.49it/s]\n",
      "100%|██████████| 17/17 [00:00<00:00, 850.00it/s]\n",
      "100%|██████████| 17/17 [00:00<00:00, 894.73it/s]\n",
      "100%|██████████| 17/17 [00:00<00:00, 966.08it/s]\n",
      "100%|██████████| 17/17 [00:00<00:00, 944.41it/s]\n",
      "100%|██████████| 17/17 [00:00<00:00, 944.48it/s]\n",
      "100%|██████████| 17/17 [00:00<00:00, 944.46it/s]\n",
      "100%|██████████| 17/17 [00:00<00:00, 907.71it/s]\n",
      "100%|██████████| 17/17 [00:00<00:00, 944.45it/s]\n",
      "100%|██████████| 17/17 [00:00<00:00, 944.43it/s]\n",
      "100%|██████████| 17/17 [00:00<00:00, 976.84it/s]\n",
      "100%|██████████| 17/17 [00:00<00:00, 944.50it/s]\n",
      "100%|██████████| 17/17 [00:00<00:00, 945.60it/s]\n",
      "100%|██████████| 17/17 [00:00<00:00, 944.46it/s]\n",
      "100%|██████████| 17/17 [00:00<00:00, 954.13it/s]\n",
      "100%|██████████| 17/17 [00:00<00:00, 944.41it/s]\n",
      "100%|██████████| 17/17 [00:00<00:00, 1000.00it/s]\n",
      "100%|██████████| 17/17 [00:00<00:00, 944.45it/s]\n"
     ]
    },
    {
     "name": "stdout",
     "output_type": "stream",
     "text": [
      "Epoch [3901/6000]: Train loss: 1.4928, Valid loss: 1.3636\n"
     ]
    },
    {
     "name": "stderr",
     "output_type": "stream",
     "text": [
      "100%|██████████| 17/17 [00:00<00:00, 944.46it/s]\n",
      "100%|██████████| 17/17 [00:00<00:00, 944.46it/s]\n",
      "100%|██████████| 17/17 [00:00<00:00, 944.43it/s]\n",
      "100%|██████████| 17/17 [00:00<00:00, 935.34it/s]\n",
      "100%|██████████| 17/17 [00:00<00:00, 1000.76it/s]\n",
      "100%|██████████| 17/17 [00:00<00:00, 944.41it/s]\n",
      "100%|██████████| 17/17 [00:00<00:00, 1000.00it/s]\n",
      "100%|██████████| 17/17 [00:00<00:00, 894.75it/s]\n",
      "100%|██████████| 17/17 [00:00<00:00, 894.73it/s]\n",
      "100%|██████████| 17/17 [00:00<00:00, 894.70it/s]\n",
      "100%|██████████| 17/17 [00:00<00:00, 944.45it/s]\n",
      "100%|██████████| 17/17 [00:00<00:00, 944.44it/s]\n",
      "100%|██████████| 17/17 [00:00<00:00, 888.82it/s]\n",
      "100%|██████████| 17/17 [00:00<00:00, 944.45it/s]\n",
      "100%|██████████| 17/17 [00:00<00:00, 944.49it/s]\n",
      "100%|██████████| 17/17 [00:00<00:00, 944.44it/s]\n",
      "100%|██████████| 17/17 [00:00<00:00, 939.14it/s]\n",
      "100%|██████████| 17/17 [00:00<00:00, 944.45it/s]\n",
      "100%|██████████| 17/17 [00:00<00:00, 944.44it/s]\n",
      "100%|██████████| 17/17 [00:00<00:00, 944.46it/s]\n"
     ]
    },
    {
     "name": "stdout",
     "output_type": "stream",
     "text": [
      "Epoch [3921/6000]: Train loss: 1.4871, Valid loss: 1.3500\n"
     ]
    },
    {
     "name": "stderr",
     "output_type": "stream",
     "text": [
      "100%|██████████| 17/17 [00:00<00:00, 1000.00it/s]\n",
      "100%|██████████| 17/17 [00:00<00:00, 944.44it/s]\n",
      "100%|██████████| 17/17 [00:00<00:00, 894.73it/s]\n",
      "100%|██████████| 17/17 [00:00<00:00, 944.46it/s]\n",
      "100%|██████████| 17/17 [00:00<00:00, 944.46it/s]\n",
      "100%|██████████| 17/17 [00:00<00:00, 944.50it/s]\n",
      "100%|██████████| 17/17 [00:00<00:00, 944.44it/s]\n",
      "100%|██████████| 17/17 [00:00<00:00, 894.75it/s]\n",
      "100%|██████████| 17/17 [00:00<00:00, 894.73it/s]\n",
      "100%|██████████| 17/17 [00:00<00:00, 894.72it/s]\n",
      "100%|██████████| 17/17 [00:00<00:00, 894.73it/s]\n",
      "100%|██████████| 17/17 [00:00<00:00, 903.04it/s]\n",
      "100%|██████████| 17/17 [00:00<00:00, 999.99it/s]\n",
      "100%|██████████| 17/17 [00:00<00:00, 944.45it/s]\n",
      "100%|██████████| 17/17 [00:00<00:00, 944.49it/s]\n",
      "100%|██████████| 17/17 [00:00<00:00, 948.74it/s]\n",
      "100%|██████████| 17/17 [00:00<00:00, 944.46it/s]\n",
      "100%|██████████| 17/17 [00:00<00:00, 944.45it/s]\n",
      "100%|██████████| 17/17 [00:00<00:00, 944.46it/s]\n",
      "100%|██████████| 17/17 [00:00<00:00, 944.40it/s]\n"
     ]
    },
    {
     "name": "stdout",
     "output_type": "stream",
     "text": [
      "Epoch [3941/6000]: Train loss: 1.4836, Valid loss: 1.3418\n"
     ]
    },
    {
     "name": "stderr",
     "output_type": "stream",
     "text": [
      "100%|██████████| 17/17 [00:00<00:00, 944.46it/s]\n",
      "100%|██████████| 17/17 [00:00<00:00, 894.75it/s]\n",
      "100%|██████████| 17/17 [00:00<00:00, 944.45it/s]\n"
     ]
    },
    {
     "name": "stdout",
     "output_type": "stream",
     "text": [
      "Saving model with loss 1.211...\n"
     ]
    },
    {
     "name": "stderr",
     "output_type": "stream",
     "text": [
      "100%|██████████| 17/17 [00:00<00:00, 944.50it/s]\n",
      "100%|██████████| 17/17 [00:00<00:00, 1000.00it/s]\n",
      "100%|██████████| 17/17 [00:00<00:00, 1000.02it/s]\n",
      "100%|██████████| 17/17 [00:00<00:00, 944.44it/s]\n",
      "100%|██████████| 17/17 [00:00<00:00, 944.45it/s]\n",
      "100%|██████████| 17/17 [00:00<00:00, 1000.00it/s]\n",
      "100%|██████████| 17/17 [00:00<00:00, 944.45it/s]\n",
      "100%|██████████| 17/17 [00:00<00:00, 894.73it/s]\n",
      "100%|██████████| 17/17 [00:00<00:00, 894.75it/s]\n",
      "100%|██████████| 17/17 [00:00<00:00, 999.96it/s]\n",
      "100%|██████████| 17/17 [00:00<00:00, 1000.00it/s]\n",
      "100%|██████████| 17/17 [00:00<00:00, 1000.00it/s]\n",
      "100%|██████████| 17/17 [00:00<00:00, 944.48it/s]\n",
      "100%|██████████| 17/17 [00:00<00:00, 894.73it/s]\n",
      "100%|██████████| 17/17 [00:00<00:00, 944.45it/s]\n",
      "100%|██████████| 17/17 [00:00<00:00, 944.43it/s]\n",
      "100%|██████████| 17/17 [00:00<00:00, 944.44it/s]\n"
     ]
    },
    {
     "name": "stdout",
     "output_type": "stream",
     "text": [
      "Epoch [3961/6000]: Train loss: 1.4799, Valid loss: 1.2469\n"
     ]
    },
    {
     "name": "stderr",
     "output_type": "stream",
     "text": [
      "100%|██████████| 17/17 [00:00<00:00, 944.45it/s]\n",
      "100%|██████████| 17/17 [00:00<00:00, 944.41it/s]\n",
      "100%|██████████| 17/17 [00:00<00:00, 944.44it/s]\n",
      "100%|██████████| 17/17 [00:00<00:00, 999.97it/s]\n",
      "100%|██████████| 17/17 [00:00<00:00, 944.44it/s]\n",
      "100%|██████████| 17/17 [00:00<00:00, 999.99it/s]\n",
      "100%|██████████| 17/17 [00:00<00:00, 894.73it/s]\n",
      "100%|██████████| 17/17 [00:00<00:00, 944.45it/s]\n",
      "100%|██████████| 17/17 [00:00<00:00, 944.41it/s]\n",
      "100%|██████████| 17/17 [00:00<00:00, 944.46it/s]\n",
      "100%|██████████| 17/17 [00:00<00:00, 964.33it/s]\n",
      "100%|██████████| 17/17 [00:00<00:00, 944.40it/s]\n",
      "100%|██████████| 17/17 [00:00<00:00, 944.41it/s]\n",
      "100%|██████████| 17/17 [00:00<00:00, 944.40it/s]\n",
      "100%|██████████| 17/17 [00:00<00:00, 944.45it/s]\n",
      "100%|██████████| 17/17 [00:00<00:00, 944.45it/s]\n",
      "100%|██████████| 17/17 [00:00<00:00, 958.63it/s]\n",
      "100%|██████████| 17/17 [00:00<00:00, 944.44it/s]\n",
      "100%|██████████| 17/17 [00:00<00:00, 1000.00it/s]\n",
      "100%|██████████| 17/17 [00:00<00:00, 894.81it/s]\n"
     ]
    },
    {
     "name": "stdout",
     "output_type": "stream",
     "text": [
      "Epoch [3981/6000]: Train loss: 1.4759, Valid loss: 1.3841\n"
     ]
    },
    {
     "name": "stderr",
     "output_type": "stream",
     "text": [
      "100%|██████████| 17/17 [00:00<00:00, 1000.04it/s]\n",
      "100%|██████████| 17/17 [00:00<00:00, 944.41it/s]\n",
      "100%|██████████| 17/17 [00:00<00:00, 944.46it/s]\n",
      "100%|██████████| 17/17 [00:00<00:00, 894.77it/s]\n",
      "100%|██████████| 17/17 [00:00<00:00, 944.43it/s]\n",
      "100%|██████████| 17/17 [00:00<00:00, 944.45it/s]\n",
      "100%|██████████| 17/17 [00:00<00:00, 999.99it/s]\n",
      "100%|██████████| 17/17 [00:00<00:00, 999.97it/s]\n",
      "100%|██████████| 17/17 [00:00<00:00, 1000.00it/s]\n",
      "100%|██████████| 17/17 [00:00<00:00, 999.96it/s]\n",
      "100%|██████████| 17/17 [00:00<00:00, 899.67it/s]\n",
      "100%|██████████| 17/17 [00:00<00:00, 850.00it/s]\n",
      "100%|██████████| 17/17 [00:00<00:00, 894.72it/s]\n",
      "100%|██████████| 17/17 [00:00<00:00, 894.73it/s]\n",
      "100%|██████████| 17/17 [00:00<00:00, 849.97it/s]\n",
      "100%|██████████| 17/17 [00:00<00:00, 809.53it/s]\n",
      "100%|██████████| 17/17 [00:00<00:00, 894.70it/s]\n",
      "100%|██████████| 17/17 [00:00<00:00, 894.78it/s]\n",
      "100%|██████████| 17/17 [00:00<00:00, 944.45it/s]\n",
      "100%|██████████| 17/17 [00:00<00:00, 809.50it/s]\n"
     ]
    },
    {
     "name": "stdout",
     "output_type": "stream",
     "text": [
      "Epoch [4001/6000]: Train loss: 1.4710, Valid loss: 1.3206\n"
     ]
    },
    {
     "name": "stderr",
     "output_type": "stream",
     "text": [
      "100%|██████████| 17/17 [00:00<00:00, 944.44it/s]\n",
      "100%|██████████| 17/17 [00:00<00:00, 1000.00it/s]\n",
      "100%|██████████| 17/17 [00:00<00:00, 944.48it/s]\n",
      "100%|██████████| 17/17 [00:00<00:00, 894.72it/s]\n",
      "100%|██████████| 17/17 [00:00<00:00, 894.73it/s]\n",
      "100%|██████████| 17/17 [00:00<00:00, 944.43it/s]\n",
      "100%|██████████| 17/17 [00:00<00:00, 944.45it/s]\n",
      "100%|██████████| 17/17 [00:00<00:00, 944.44it/s]\n",
      "100%|██████████| 17/17 [00:00<00:00, 809.53it/s]\n",
      "100%|██████████| 17/17 [00:00<00:00, 894.75it/s]\n",
      "100%|██████████| 17/17 [00:00<00:00, 850.01it/s]\n",
      "100%|██████████| 17/17 [00:00<00:00, 849.95it/s]\n",
      "100%|██████████| 17/17 [00:00<00:00, 850.00it/s]\n",
      "100%|██████████| 17/17 [00:00<00:00, 894.69it/s]\n",
      "100%|██████████| 17/17 [00:00<00:00, 894.75it/s]\n",
      "100%|██████████| 17/17 [00:00<00:00, 772.72it/s]\n",
      "100%|██████████| 17/17 [00:00<00:00, 894.76it/s]\n",
      "100%|██████████| 17/17 [00:00<00:00, 849.99it/s]\n",
      "100%|██████████| 17/17 [00:00<00:00, 809.52it/s]\n",
      "100%|██████████| 17/17 [00:00<00:00, 904.35it/s]\n"
     ]
    },
    {
     "name": "stdout",
     "output_type": "stream",
     "text": [
      "Epoch [4021/6000]: Train loss: 1.4664, Valid loss: 1.3343\n"
     ]
    },
    {
     "name": "stderr",
     "output_type": "stream",
     "text": [
      "100%|██████████| 17/17 [00:00<00:00, 894.76it/s]\n",
      "100%|██████████| 17/17 [00:00<00:00, 944.44it/s]\n",
      "100%|██████████| 17/17 [00:00<00:00, 944.41it/s]\n",
      "100%|██████████| 17/17 [00:00<00:00, 999.99it/s]\n",
      "100%|██████████| 17/17 [00:00<00:00, 944.43it/s]\n",
      "100%|██████████| 17/17 [00:00<00:00, 1001.52it/s]\n",
      "100%|██████████| 17/17 [00:00<00:00, 999.97it/s]\n",
      "100%|██████████| 17/17 [00:00<00:00, 944.43it/s]\n",
      "100%|██████████| 17/17 [00:00<00:00, 944.44it/s]\n",
      "100%|██████████| 17/17 [00:00<00:00, 894.72it/s]\n",
      "100%|██████████| 17/17 [00:00<00:00, 894.72it/s]\n",
      "100%|██████████| 17/17 [00:00<00:00, 850.01it/s]\n",
      "100%|██████████| 17/17 [00:00<00:00, 894.73it/s]\n",
      "100%|██████████| 17/17 [00:00<00:00, 894.72it/s]\n",
      "100%|██████████| 17/17 [00:00<00:00, 850.01it/s]\n",
      "100%|██████████| 17/17 [00:00<00:00, 944.44it/s]\n",
      "100%|██████████| 17/17 [00:00<00:00, 809.55it/s]\n",
      "100%|██████████| 17/17 [00:00<00:00, 894.73it/s]\n",
      "100%|██████████| 17/17 [00:00<00:00, 944.45it/s]\n",
      "100%|██████████| 17/17 [00:00<00:00, 944.44it/s]\n"
     ]
    },
    {
     "name": "stdout",
     "output_type": "stream",
     "text": [
      "Epoch [4041/6000]: Train loss: 1.4606, Valid loss: 1.3521\n"
     ]
    },
    {
     "name": "stderr",
     "output_type": "stream",
     "text": [
      "100%|██████████| 17/17 [00:00<00:00, 894.72it/s]\n",
      "100%|██████████| 17/17 [00:00<00:00, 944.45it/s]\n",
      "100%|██████████| 17/17 [00:00<00:00, 944.50it/s]\n",
      "100%|██████████| 17/17 [00:00<00:00, 944.43it/s]\n",
      "100%|██████████| 17/17 [00:00<00:00, 894.73it/s]\n",
      "100%|██████████| 17/17 [00:00<00:00, 944.45it/s]\n",
      "100%|██████████| 17/17 [00:00<00:00, 944.46it/s]\n",
      "100%|██████████| 17/17 [00:00<00:00, 970.97it/s]\n",
      "100%|██████████| 17/17 [00:00<00:00, 894.73it/s]\n",
      "100%|██████████| 17/17 [00:00<00:00, 944.41it/s]\n",
      "100%|██████████| 17/17 [00:00<00:00, 999.99it/s]\n",
      "100%|██████████| 17/17 [00:00<00:00, 944.41it/s]\n",
      "100%|██████████| 17/17 [00:00<00:00, 944.44it/s]\n",
      "100%|██████████| 17/17 [00:00<00:00, 944.44it/s]\n",
      "100%|██████████| 17/17 [00:00<00:00, 851.15it/s]\n",
      "100%|██████████| 17/17 [00:00<00:00, 894.73it/s]\n",
      "100%|██████████| 17/17 [00:00<00:00, 944.43it/s]\n"
     ]
    },
    {
     "name": "stdout",
     "output_type": "stream",
     "text": [
      "Saving model with loss 1.189...\n"
     ]
    },
    {
     "name": "stderr",
     "output_type": "stream",
     "text": [
      "100%|██████████| 17/17 [00:00<00:00, 999.99it/s]\n",
      "100%|██████████| 17/17 [00:00<00:00, 894.75it/s]\n",
      "100%|██████████| 17/17 [00:00<00:00, 944.44it/s]\n"
     ]
    },
    {
     "name": "stdout",
     "output_type": "stream",
     "text": [
      "Epoch [4061/6000]: Train loss: 1.4597, Valid loss: 1.4714\n"
     ]
    },
    {
     "name": "stderr",
     "output_type": "stream",
     "text": [
      "100%|██████████| 17/17 [00:00<00:00, 1000.02it/s]\n",
      "100%|██████████| 17/17 [00:00<00:00, 867.36it/s]\n",
      "100%|██████████| 17/17 [00:00<00:00, 894.72it/s]\n",
      "100%|██████████| 17/17 [00:00<00:00, 999.99it/s]\n",
      "100%|██████████| 17/17 [00:00<00:00, 960.34it/s]\n",
      "100%|██████████| 17/17 [00:00<00:00, 947.79it/s]\n",
      "100%|██████████| 17/17 [00:00<00:00, 944.46it/s]\n",
      "100%|██████████| 17/17 [00:00<00:00, 944.44it/s]\n",
      "100%|██████████| 17/17 [00:00<00:00, 944.43it/s]\n",
      "100%|██████████| 17/17 [00:00<00:00, 944.44it/s]\n",
      "100%|██████████| 17/17 [00:00<00:00, 999.99it/s]\n",
      "100%|██████████| 17/17 [00:00<00:00, 944.45it/s]\n",
      "100%|██████████| 17/17 [00:00<00:00, 944.46it/s]\n",
      "100%|██████████| 17/17 [00:00<00:00, 944.40it/s]\n",
      "100%|██████████| 17/17 [00:00<00:00, 944.40it/s]\n",
      "100%|██████████| 17/17 [00:00<00:00, 933.19it/s]\n",
      "100%|██████████| 17/17 [00:00<00:00, 956.65it/s]\n",
      "100%|██████████| 17/17 [00:00<00:00, 944.48it/s]\n",
      "100%|██████████| 17/17 [00:00<00:00, 944.44it/s]\n",
      "100%|██████████| 17/17 [00:00<00:00, 924.85it/s]\n"
     ]
    },
    {
     "name": "stdout",
     "output_type": "stream",
     "text": [
      "Epoch [4081/6000]: Train loss: 1.4553, Valid loss: 1.2413\n"
     ]
    },
    {
     "name": "stderr",
     "output_type": "stream",
     "text": [
      "100%|██████████| 17/17 [00:00<00:00, 944.43it/s]\n",
      "100%|██████████| 17/17 [00:00<00:00, 944.46it/s]\n",
      "100%|██████████| 17/17 [00:00<00:00, 999.99it/s]\n",
      "100%|██████████| 17/17 [00:00<00:00, 1000.00it/s]\n",
      "100%|██████████| 17/17 [00:00<00:00, 1000.02it/s]\n",
      "100%|██████████| 17/17 [00:00<00:00, 944.43it/s]\n",
      "100%|██████████| 17/17 [00:00<00:00, 944.45it/s]\n",
      "100%|██████████| 17/17 [00:00<00:00, 1000.04it/s]\n",
      "100%|██████████| 17/17 [00:00<00:00, 944.48it/s]\n",
      "100%|██████████| 17/17 [00:00<00:00, 944.45it/s]\n",
      "100%|██████████| 17/17 [00:00<00:00, 894.73it/s]\n",
      "100%|██████████| 17/17 [00:00<00:00, 999.99it/s]\n",
      "100%|██████████| 17/17 [00:00<00:00, 999.99it/s]\n",
      "100%|██████████| 17/17 [00:00<00:00, 999.99it/s]\n",
      "100%|██████████| 17/17 [00:00<00:00, 999.99it/s]\n",
      "100%|██████████| 17/17 [00:00<00:00, 944.44it/s]\n",
      "100%|██████████| 17/17 [00:00<00:00, 944.45it/s]\n",
      "100%|██████████| 17/17 [00:00<00:00, 999.97it/s]\n",
      "100%|██████████| 17/17 [00:00<00:00, 999.99it/s]\n",
      "100%|██████████| 17/17 [00:00<00:00, 1000.02it/s]\n"
     ]
    },
    {
     "name": "stdout",
     "output_type": "stream",
     "text": [
      "Epoch [4101/6000]: Train loss: 1.4510, Valid loss: 1.2126\n"
     ]
    },
    {
     "name": "stderr",
     "output_type": "stream",
     "text": [
      "100%|██████████| 17/17 [00:00<00:00, 944.43it/s]\n",
      "100%|██████████| 17/17 [00:00<00:00, 1000.00it/s]\n",
      "100%|██████████| 17/17 [00:00<00:00, 1000.02it/s]\n",
      "100%|██████████| 17/17 [00:00<00:00, 944.43it/s]\n",
      "100%|██████████| 17/17 [00:00<00:00, 944.44it/s]\n",
      "100%|██████████| 17/17 [00:00<00:00, 894.71it/s]\n",
      "100%|██████████| 17/17 [00:00<00:00, 944.46it/s]\n",
      "100%|██████████| 17/17 [00:00<00:00, 944.48it/s]\n",
      "100%|██████████| 17/17 [00:00<00:00, 944.48it/s]\n",
      "100%|██████████| 17/17 [00:00<00:00, 968.98it/s]\n",
      "100%|██████████| 17/17 [00:00<00:00, 944.46it/s]\n",
      "100%|██████████| 17/17 [00:00<00:00, 944.45it/s]\n",
      "100%|██████████| 17/17 [00:00<00:00, 944.43it/s]\n",
      "100%|██████████| 17/17 [00:00<00:00, 894.69it/s]\n",
      "100%|██████████| 17/17 [00:00<00:00, 850.02it/s]\n",
      "100%|██████████| 17/17 [00:00<00:00, 809.49it/s]\n",
      "100%|██████████| 17/17 [00:00<00:00, 849.98it/s]\n"
     ]
    },
    {
     "name": "stdout",
     "output_type": "stream",
     "text": [
      "Saving model with loss 1.187...\n"
     ]
    },
    {
     "name": "stderr",
     "output_type": "stream",
     "text": [
      "100%|██████████| 17/17 [00:00<00:00, 849.96it/s]\n",
      "100%|██████████| 17/17 [00:00<00:00, 850.01it/s]\n",
      "100%|██████████| 17/17 [00:00<00:00, 894.72it/s]\n"
     ]
    },
    {
     "name": "stdout",
     "output_type": "stream",
     "text": [
      "Epoch [4121/6000]: Train loss: 1.4457, Valid loss: 1.3249\n"
     ]
    },
    {
     "name": "stderr",
     "output_type": "stream",
     "text": [
      "100%|██████████| 17/17 [00:00<00:00, 841.51it/s]\n",
      "100%|██████████| 17/17 [00:00<00:00, 849.96it/s]\n",
      "100%|██████████| 17/17 [00:00<00:00, 944.45it/s]\n",
      "100%|██████████| 17/17 [00:00<00:00, 999.97it/s]\n",
      "100%|██████████| 17/17 [00:00<00:00, 944.43it/s]\n",
      "100%|██████████| 17/17 [00:00<00:00, 944.43it/s]\n",
      "100%|██████████| 17/17 [00:00<00:00, 944.46it/s]\n",
      "100%|██████████| 17/17 [00:00<00:00, 1000.02it/s]\n",
      "100%|██████████| 17/17 [00:00<00:00, 944.44it/s]\n",
      "100%|██████████| 17/17 [00:00<00:00, 944.45it/s]\n",
      "100%|██████████| 17/17 [00:00<00:00, 999.99it/s]\n",
      "100%|██████████| 17/17 [00:00<00:00, 1000.02it/s]\n",
      "100%|██████████| 17/17 [00:00<00:00, 944.43it/s]\n",
      "100%|██████████| 17/17 [00:00<00:00, 999.99it/s]\n",
      "100%|██████████| 17/17 [00:00<00:00, 894.76it/s]\n",
      "100%|██████████| 17/17 [00:00<00:00, 809.50it/s]\n",
      "100%|██████████| 17/17 [00:00<00:00, 824.96it/s]\n",
      "100%|██████████| 17/17 [00:00<00:00, 849.97it/s]\n",
      "100%|██████████| 17/17 [00:00<00:00, 894.73it/s]\n"
     ]
    },
    {
     "name": "stdout",
     "output_type": "stream",
     "text": [
      "Saving model with loss 1.156...\n"
     ]
    },
    {
     "name": "stderr",
     "output_type": "stream",
     "text": [
      "100%|██████████| 17/17 [00:00<00:00, 894.75it/s]\n"
     ]
    },
    {
     "name": "stdout",
     "output_type": "stream",
     "text": [
      "Epoch [4141/6000]: Train loss: 1.4427, Valid loss: 1.2968\n"
     ]
    },
    {
     "name": "stderr",
     "output_type": "stream",
     "text": [
      "100%|██████████| 17/17 [00:00<00:00, 849.99it/s]\n",
      "100%|██████████| 17/17 [00:00<00:00, 894.76it/s]\n",
      "100%|██████████| 17/17 [00:00<00:00, 944.43it/s]\n",
      "100%|██████████| 17/17 [00:00<00:00, 894.71it/s]\n",
      "100%|██████████| 17/17 [00:00<00:00, 999.99it/s]\n",
      "100%|██████████| 17/17 [00:00<00:00, 944.45it/s]\n",
      "100%|██████████| 17/17 [00:00<00:00, 944.45it/s]\n",
      "100%|██████████| 17/17 [00:00<00:00, 1000.00it/s]\n",
      "100%|██████████| 17/17 [00:00<00:00, 894.71it/s]\n",
      "100%|██████████| 17/17 [00:00<00:00, 894.79it/s]\n",
      "100%|██████████| 17/17 [00:00<00:00, 1000.00it/s]\n",
      "100%|██████████| 17/17 [00:00<00:00, 944.44it/s]\n",
      "100%|██████████| 17/17 [00:00<00:00, 944.49it/s]\n",
      "100%|██████████| 17/17 [00:00<00:00, 901.27it/s]\n",
      "100%|██████████| 17/17 [00:00<00:00, 944.43it/s]\n",
      "100%|██████████| 17/17 [00:00<00:00, 1000.00it/s]\n",
      "100%|██████████| 17/17 [00:00<00:00, 944.44it/s]\n",
      "100%|██████████| 17/17 [00:00<00:00, 944.44it/s]\n",
      "100%|██████████| 17/17 [00:00<00:00, 944.44it/s]\n",
      "100%|██████████| 17/17 [00:00<00:00, 944.44it/s]\n"
     ]
    },
    {
     "name": "stdout",
     "output_type": "stream",
     "text": [
      "Epoch [4161/6000]: Train loss: 1.4427, Valid loss: 1.2694\n"
     ]
    },
    {
     "name": "stderr",
     "output_type": "stream",
     "text": [
      "100%|██████████| 17/17 [00:00<00:00, 944.44it/s]\n",
      "100%|██████████| 17/17 [00:00<00:00, 944.44it/s]\n",
      "100%|██████████| 17/17 [00:00<00:00, 944.44it/s]\n",
      "100%|██████████| 17/17 [00:00<00:00, 944.49it/s]\n",
      "100%|██████████| 17/17 [00:00<00:00, 999.97it/s]\n",
      "100%|██████████| 17/17 [00:00<00:00, 999.99it/s]\n",
      "100%|██████████| 17/17 [00:00<00:00, 944.46it/s]\n",
      "100%|██████████| 17/17 [00:00<00:00, 944.43it/s]\n",
      "100%|██████████| 17/17 [00:00<00:00, 944.44it/s]\n",
      "100%|██████████| 17/17 [00:00<00:00, 944.46it/s]\n",
      "100%|██████████| 17/17 [00:00<00:00, 944.45it/s]\n",
      "100%|██████████| 17/17 [00:00<00:00, 1000.04it/s]\n",
      "100%|██████████| 17/17 [00:00<00:00, 944.45it/s]\n",
      "100%|██████████| 17/17 [00:00<00:00, 944.46it/s]\n",
      "100%|██████████| 17/17 [00:00<00:00, 944.45it/s]\n",
      "100%|██████████| 17/17 [00:00<00:00, 566.66it/s]\n",
      "100%|██████████| 17/17 [00:00<00:00, 908.03it/s]\n",
      "100%|██████████| 17/17 [00:00<00:00, 894.76it/s]\n",
      "100%|██████████| 17/17 [00:00<00:00, 894.73it/s]\n",
      "100%|██████████| 17/17 [00:00<00:00, 894.73it/s]\n"
     ]
    },
    {
     "name": "stdout",
     "output_type": "stream",
     "text": [
      "Epoch [4181/6000]: Train loss: 1.4368, Valid loss: 1.3036\n"
     ]
    },
    {
     "name": "stderr",
     "output_type": "stream",
     "text": [
      "100%|██████████| 17/17 [00:00<00:00, 894.75it/s]\n",
      "100%|██████████| 17/17 [00:00<00:00, 894.75it/s]\n",
      "100%|██████████| 17/17 [00:00<00:00, 894.73it/s]\n",
      "100%|██████████| 17/17 [00:00<00:00, 850.00it/s]\n",
      "100%|██████████| 17/17 [00:00<00:00, 894.73it/s]\n",
      "100%|██████████| 17/17 [00:00<00:00, 894.75it/s]\n",
      "100%|██████████| 17/17 [00:00<00:00, 894.75it/s]\n",
      "100%|██████████| 17/17 [00:00<00:00, 894.75it/s]\n",
      "100%|██████████| 17/17 [00:00<00:00, 894.75it/s]\n",
      "100%|██████████| 17/17 [00:00<00:00, 809.54it/s]\n",
      "100%|██████████| 17/17 [00:00<00:00, 894.73it/s]\n",
      "100%|██████████| 17/17 [00:00<00:00, 894.73it/s]\n",
      "100%|██████████| 17/17 [00:00<00:00, 894.72it/s]\n",
      "100%|██████████| 17/17 [00:00<00:00, 944.44it/s]\n",
      "100%|██████████| 17/17 [00:00<00:00, 894.73it/s]\n",
      "100%|██████████| 17/17 [00:00<00:00, 894.73it/s]\n",
      "100%|██████████| 17/17 [00:00<00:00, 894.72it/s]\n",
      "100%|██████████| 17/17 [00:00<00:00, 894.73it/s]\n",
      "100%|██████████| 17/17 [00:00<00:00, 894.75it/s]\n",
      "100%|██████████| 17/17 [00:00<00:00, 944.41it/s]\n"
     ]
    },
    {
     "name": "stdout",
     "output_type": "stream",
     "text": [
      "Epoch [4201/6000]: Train loss: 1.4309, Valid loss: 1.2506\n"
     ]
    },
    {
     "name": "stderr",
     "output_type": "stream",
     "text": [
      "100%|██████████| 17/17 [00:00<00:00, 894.76it/s]\n",
      "100%|██████████| 17/17 [00:00<00:00, 894.76it/s]\n",
      "100%|██████████| 17/17 [00:00<00:00, 894.75it/s]\n",
      "100%|██████████| 17/17 [00:00<00:00, 894.73it/s]\n",
      "100%|██████████| 17/17 [00:00<00:00, 894.75it/s]\n",
      "100%|██████████| 17/17 [00:00<00:00, 894.73it/s]\n",
      "100%|██████████| 17/17 [00:00<00:00, 849.99it/s]\n",
      "100%|██████████| 17/17 [00:00<00:00, 944.44it/s]\n",
      "100%|██████████| 17/17 [00:00<00:00, 809.53it/s]\n",
      "100%|██████████| 17/17 [00:00<00:00, 894.75it/s]\n",
      "100%|██████████| 17/17 [00:00<00:00, 894.76it/s]\n",
      "100%|██████████| 17/17 [00:00<00:00, 894.73it/s]\n",
      "100%|██████████| 17/17 [00:00<00:00, 894.73it/s]\n",
      "100%|██████████| 17/17 [00:00<00:00, 850.00it/s]\n",
      "100%|██████████| 17/17 [00:00<00:00, 894.72it/s]\n",
      "100%|██████████| 17/17 [00:00<00:00, 894.75it/s]\n",
      "100%|██████████| 17/17 [00:00<00:00, 894.75it/s]\n",
      "100%|██████████| 17/17 [00:00<00:00, 849.99it/s]\n",
      "100%|██████████| 17/17 [00:00<00:00, 850.00it/s]\n",
      "100%|██████████| 17/17 [00:00<00:00, 850.00it/s]\n"
     ]
    },
    {
     "name": "stdout",
     "output_type": "stream",
     "text": [
      "Epoch [4221/6000]: Train loss: 1.4289, Valid loss: 1.2481\n"
     ]
    },
    {
     "name": "stderr",
     "output_type": "stream",
     "text": [
      "100%|██████████| 17/17 [00:00<00:00, 850.01it/s]\n",
      "100%|██████████| 17/17 [00:00<00:00, 809.52it/s]\n",
      "100%|██████████| 17/17 [00:00<00:00, 850.00it/s]\n",
      "100%|██████████| 17/17 [00:00<00:00, 849.99it/s]\n",
      "100%|██████████| 17/17 [00:00<00:00, 894.73it/s]\n",
      "100%|██████████| 17/17 [00:00<00:00, 850.02it/s]\n",
      "100%|██████████| 17/17 [00:00<00:00, 802.85it/s]\n",
      "100%|██████████| 17/17 [00:00<00:00, 809.50it/s]\n",
      "100%|██████████| 17/17 [00:00<00:00, 894.72it/s]\n",
      "100%|██████████| 17/17 [00:00<00:00, 894.75it/s]\n",
      "100%|██████████| 17/17 [00:00<00:00, 894.73it/s]\n",
      "100%|██████████| 17/17 [00:00<00:00, 894.73it/s]\n",
      "100%|██████████| 17/17 [00:00<00:00, 894.75it/s]\n",
      "100%|██████████| 17/17 [00:00<00:00, 894.73it/s]\n",
      "100%|██████████| 17/17 [00:00<00:00, 894.72it/s]\n",
      "100%|██████████| 17/17 [00:00<00:00, 894.72it/s]\n",
      "100%|██████████| 17/17 [00:00<00:00, 894.73it/s]\n",
      "100%|██████████| 17/17 [00:00<00:00, 894.76it/s]\n",
      "100%|██████████| 17/17 [00:00<00:00, 859.79it/s]\n",
      "100%|██████████| 17/17 [00:00<00:00, 849.99it/s]\n"
     ]
    },
    {
     "name": "stdout",
     "output_type": "stream",
     "text": [
      "Epoch [4241/6000]: Train loss: 1.4272, Valid loss: 1.3124\n"
     ]
    },
    {
     "name": "stderr",
     "output_type": "stream",
     "text": [
      "100%|██████████| 17/17 [00:00<00:00, 894.75it/s]\n",
      "100%|██████████| 17/17 [00:00<00:00, 944.44it/s]\n",
      "100%|██████████| 17/17 [00:00<00:00, 934.25it/s]\n",
      "100%|██████████| 17/17 [00:00<00:00, 894.75it/s]\n",
      "100%|██████████| 17/17 [00:00<00:00, 894.71it/s]\n",
      "100%|██████████| 17/17 [00:00<00:00, 944.45it/s]\n",
      "100%|██████████| 17/17 [00:00<00:00, 894.73it/s]\n",
      "100%|██████████| 17/17 [00:00<00:00, 894.72it/s]\n",
      "100%|██████████| 17/17 [00:00<00:00, 944.44it/s]\n",
      "100%|██████████| 17/17 [00:00<00:00, 894.70it/s]\n",
      "100%|██████████| 17/17 [00:00<00:00, 944.48it/s]\n",
      "100%|██████████| 17/17 [00:00<00:00, 894.73it/s]\n",
      "100%|██████████| 17/17 [00:00<00:00, 894.73it/s]\n",
      "100%|██████████| 17/17 [00:00<00:00, 894.73it/s]\n",
      "100%|██████████| 17/17 [00:00<00:00, 894.73it/s]\n",
      "100%|██████████| 17/17 [00:00<00:00, 849.99it/s]\n",
      "100%|██████████| 17/17 [00:00<00:00, 850.01it/s]\n",
      "100%|██████████| 17/17 [00:00<00:00, 944.45it/s]\n",
      "100%|██████████| 17/17 [00:00<00:00, 850.00it/s]\n",
      "100%|██████████| 17/17 [00:00<00:00, 944.76it/s]\n"
     ]
    },
    {
     "name": "stdout",
     "output_type": "stream",
     "text": [
      "Epoch [4261/6000]: Train loss: 1.4191, Valid loss: 1.5435\n"
     ]
    },
    {
     "name": "stderr",
     "output_type": "stream",
     "text": [
      "100%|██████████| 17/17 [00:00<00:00, 849.99it/s]\n",
      "100%|██████████| 17/17 [00:00<00:00, 894.71it/s]\n",
      "100%|██████████| 17/17 [00:00<00:00, 850.01it/s]\n",
      "100%|██████████| 17/17 [00:00<00:00, 849.90it/s]\n",
      "100%|██████████| 17/17 [00:00<00:00, 894.73it/s]\n",
      "100%|██████████| 17/17 [00:00<00:00, 894.71it/s]\n",
      "100%|██████████| 17/17 [00:00<00:00, 894.75it/s]\n",
      "100%|██████████| 17/17 [00:00<00:00, 894.63it/s]\n",
      "100%|██████████| 17/17 [00:00<00:00, 894.73it/s]\n",
      "100%|██████████| 17/17 [00:00<00:00, 944.45it/s]\n",
      "100%|██████████| 17/17 [00:00<00:00, 944.43it/s]\n",
      "100%|██████████| 17/17 [00:00<00:00, 894.67it/s]\n",
      "100%|██████████| 17/17 [00:00<00:00, 894.73it/s]\n",
      "100%|██████████| 17/17 [00:00<00:00, 850.00it/s]\n",
      "100%|██████████| 17/17 [00:00<00:00, 894.75it/s]\n",
      "100%|██████████| 17/17 [00:00<00:00, 894.64it/s]\n",
      "100%|██████████| 17/17 [00:00<00:00, 894.75it/s]\n",
      "100%|██████████| 17/17 [00:00<00:00, 944.45it/s]\n",
      "100%|██████████| 17/17 [00:00<00:00, 850.00it/s]\n",
      "100%|██████████| 17/17 [00:00<00:00, 894.73it/s]\n"
     ]
    },
    {
     "name": "stdout",
     "output_type": "stream",
     "text": [
      "Epoch [4281/6000]: Train loss: 1.4196, Valid loss: 1.5165\n"
     ]
    },
    {
     "name": "stderr",
     "output_type": "stream",
     "text": [
      "100%|██████████| 17/17 [00:00<00:00, 894.75it/s]\n",
      "100%|██████████| 17/17 [00:00<00:00, 850.00it/s]\n",
      "100%|██████████| 17/17 [00:00<00:00, 871.46it/s]\n",
      "100%|██████████| 17/17 [00:00<00:00, 894.73it/s]\n",
      "100%|██████████| 17/17 [00:00<00:00, 850.01it/s]\n",
      "100%|██████████| 17/17 [00:00<00:00, 850.01it/s]\n",
      "100%|██████████| 17/17 [00:00<00:00, 944.45it/s]\n",
      "100%|██████████| 17/17 [00:00<00:00, 894.73it/s]\n",
      "100%|██████████| 17/17 [00:00<00:00, 944.44it/s]\n",
      "100%|██████████| 17/17 [00:00<00:00, 825.64it/s]\n",
      "100%|██████████| 17/17 [00:00<00:00, 944.43it/s]\n",
      "100%|██████████| 17/17 [00:00<00:00, 894.73it/s]\n",
      "100%|██████████| 17/17 [00:00<00:00, 909.78it/s]\n",
      "100%|██████████| 17/17 [00:00<00:00, 894.73it/s]\n",
      "100%|██████████| 17/17 [00:00<00:00, 894.75it/s]\n",
      "100%|██████████| 17/17 [00:00<00:00, 894.75it/s]\n",
      "100%|██████████| 17/17 [00:00<00:00, 906.30it/s]\n",
      "100%|██████████| 17/17 [00:00<00:00, 850.01it/s]\n",
      "100%|██████████| 17/17 [00:00<00:00, 894.75it/s]\n",
      "100%|██████████| 17/17 [00:00<00:00, 944.45it/s]\n"
     ]
    },
    {
     "name": "stdout",
     "output_type": "stream",
     "text": [
      "Epoch [4301/6000]: Train loss: 1.4185, Valid loss: 1.3767\n"
     ]
    },
    {
     "name": "stderr",
     "output_type": "stream",
     "text": [
      "100%|██████████| 17/17 [00:00<00:00, 809.52it/s]\n",
      "100%|██████████| 17/17 [00:00<00:00, 894.75it/s]\n",
      "100%|██████████| 17/17 [00:00<00:00, 811.21it/s]\n",
      "100%|██████████| 17/17 [00:00<00:00, 944.44it/s]\n",
      "100%|██████████| 17/17 [00:00<00:00, 850.02it/s]\n",
      "100%|██████████| 17/17 [00:00<00:00, 894.66it/s]\n",
      "100%|██████████| 17/17 [00:00<00:00, 825.87it/s]\n",
      "100%|██████████| 17/17 [00:00<00:00, 894.73it/s]\n",
      "100%|██████████| 17/17 [00:00<00:00, 894.72it/s]\n",
      "100%|██████████| 17/17 [00:00<00:00, 894.63it/s]\n",
      "100%|██████████| 17/17 [00:00<00:00, 894.73it/s]\n",
      "100%|██████████| 17/17 [00:00<00:00, 850.00it/s]\n",
      "100%|██████████| 17/17 [00:00<00:00, 894.75it/s]\n",
      "100%|██████████| 17/17 [00:00<00:00, 894.64it/s]\n",
      "100%|██████████| 17/17 [00:00<00:00, 894.73it/s]\n",
      "100%|██████████| 17/17 [00:00<00:00, 810.20it/s]\n",
      "100%|██████████| 17/17 [00:00<00:00, 898.86it/s]\n",
      "100%|██████████| 17/17 [00:00<00:00, 919.21it/s]\n",
      "100%|██████████| 17/17 [00:00<00:00, 894.76it/s]\n",
      "100%|██████████| 17/17 [00:00<00:00, 850.00it/s]\n"
     ]
    },
    {
     "name": "stdout",
     "output_type": "stream",
     "text": [
      "Epoch [4321/6000]: Train loss: 1.4126, Valid loss: 1.2759\n"
     ]
    },
    {
     "name": "stderr",
     "output_type": "stream",
     "text": [
      "100%|██████████| 17/17 [00:00<00:00, 894.76it/s]\n",
      "100%|██████████| 17/17 [00:00<00:00, 894.75it/s]\n",
      "100%|██████████| 17/17 [00:00<00:00, 894.75it/s]\n",
      "100%|██████████| 17/17 [00:00<00:00, 894.75it/s]\n",
      "100%|██████████| 17/17 [00:00<00:00, 894.75it/s]\n",
      "100%|██████████| 17/17 [00:00<00:00, 894.76it/s]\n",
      "100%|██████████| 17/17 [00:00<00:00, 897.17it/s]\n",
      "100%|██████████| 17/17 [00:00<00:00, 850.03it/s]\n"
     ]
    },
    {
     "name": "stdout",
     "output_type": "stream",
     "text": [
      "Saving model with loss 1.125...\n"
     ]
    },
    {
     "name": "stderr",
     "output_type": "stream",
     "text": [
      "100%|██████████| 17/17 [00:00<00:00, 851.90it/s]\n",
      "100%|██████████| 17/17 [00:00<00:00, 894.75it/s]\n",
      "100%|██████████| 17/17 [00:00<00:00, 809.53it/s]\n",
      "100%|██████████| 17/17 [00:00<00:00, 850.00it/s]\n",
      "100%|██████████| 17/17 [00:00<00:00, 894.73it/s]\n",
      "100%|██████████| 17/17 [00:00<00:00, 894.73it/s]\n",
      "100%|██████████| 17/17 [00:00<00:00, 894.71it/s]\n",
      "100%|██████████| 17/17 [00:00<00:00, 850.00it/s]\n",
      "100%|██████████| 17/17 [00:00<00:00, 894.75it/s]\n",
      "100%|██████████| 17/17 [00:00<00:00, 850.00it/s]\n",
      "100%|██████████| 17/17 [00:00<00:00, 894.75it/s]\n",
      "100%|██████████| 17/17 [00:00<00:00, 849.99it/s]\n"
     ]
    },
    {
     "name": "stdout",
     "output_type": "stream",
     "text": [
      "Epoch [4341/6000]: Train loss: 1.4080, Valid loss: 1.3292\n"
     ]
    },
    {
     "name": "stderr",
     "output_type": "stream",
     "text": [
      "100%|██████████| 17/17 [00:00<00:00, 894.75it/s]\n",
      "100%|██████████| 17/17 [00:00<00:00, 894.75it/s]\n",
      "100%|██████████| 17/17 [00:00<00:00, 894.75it/s]\n",
      "100%|██████████| 17/17 [00:00<00:00, 894.73it/s]\n",
      "100%|██████████| 17/17 [00:00<00:00, 849.99it/s]\n",
      "100%|██████████| 17/17 [00:00<00:00, 894.75it/s]\n",
      "100%|██████████| 17/17 [00:00<00:00, 850.00it/s]\n",
      "100%|██████████| 17/17 [00:00<00:00, 894.73it/s]\n",
      "100%|██████████| 17/17 [00:00<00:00, 849.99it/s]\n",
      "100%|██████████| 17/17 [00:00<00:00, 894.73it/s]\n",
      "100%|██████████| 17/17 [00:00<00:00, 894.73it/s]\n",
      "100%|██████████| 17/17 [00:00<00:00, 850.00it/s]\n",
      "100%|██████████| 17/17 [00:00<00:00, 894.75it/s]\n",
      "100%|██████████| 17/17 [00:00<00:00, 849.99it/s]\n",
      "100%|██████████| 17/17 [00:00<00:00, 894.75it/s]\n",
      "100%|██████████| 17/17 [00:00<00:00, 894.72it/s]\n",
      "100%|██████████| 17/17 [00:00<00:00, 827.60it/s]\n",
      "100%|██████████| 17/17 [00:00<00:00, 850.03it/s]\n",
      "100%|██████████| 17/17 [00:00<00:00, 918.58it/s]\n",
      "100%|██████████| 17/17 [00:00<00:00, 850.01it/s]\n"
     ]
    },
    {
     "name": "stdout",
     "output_type": "stream",
     "text": [
      "Epoch [4361/6000]: Train loss: 1.4084, Valid loss: 1.2519\n"
     ]
    },
    {
     "name": "stderr",
     "output_type": "stream",
     "text": [
      "100%|██████████| 17/17 [00:00<00:00, 850.01it/s]\n",
      "100%|██████████| 17/17 [00:00<00:00, 772.72it/s]\n",
      "100%|██████████| 17/17 [00:00<00:00, 772.73it/s]\n",
      "100%|██████████| 17/17 [00:00<00:00, 708.33it/s]\n",
      "100%|██████████| 17/17 [00:00<00:00, 629.63it/s]\n",
      "100%|██████████| 17/17 [00:00<00:00, 531.23it/s]\n",
      "100%|██████████| 17/17 [00:00<00:00, 817.35it/s]\n",
      "100%|██████████| 17/17 [00:00<00:00, 809.52it/s]\n",
      "100%|██████████| 17/17 [00:00<00:00, 809.56it/s]\n",
      "100%|██████████| 17/17 [00:00<00:00, 850.02it/s]\n",
      "100%|██████████| 17/17 [00:00<00:00, 809.51it/s]\n",
      "100%|██████████| 17/17 [00:00<00:00, 850.00it/s]\n",
      "100%|██████████| 17/17 [00:00<00:00, 849.99it/s]\n",
      "100%|██████████| 17/17 [00:00<00:00, 850.00it/s]\n",
      "100%|██████████| 17/17 [00:00<00:00, 849.99it/s]\n",
      "100%|██████████| 17/17 [00:00<00:00, 772.76it/s]\n",
      "100%|██████████| 17/17 [00:00<00:00, 850.01it/s]\n",
      "100%|██████████| 17/17 [00:00<00:00, 850.00it/s]\n",
      "100%|██████████| 17/17 [00:00<00:00, 809.53it/s]\n",
      "100%|██████████| 17/17 [00:00<00:00, 850.00it/s]\n"
     ]
    },
    {
     "name": "stdout",
     "output_type": "stream",
     "text": [
      "Epoch [4381/6000]: Train loss: 1.4026, Valid loss: 1.2600\n"
     ]
    },
    {
     "name": "stderr",
     "output_type": "stream",
     "text": [
      "100%|██████████| 17/17 [00:00<00:00, 850.00it/s]\n",
      "100%|██████████| 17/17 [00:00<00:00, 894.72it/s]\n",
      "100%|██████████| 17/17 [00:00<00:00, 809.53it/s]\n",
      "100%|██████████| 17/17 [00:00<00:00, 809.54it/s]\n",
      "100%|██████████| 17/17 [00:00<00:00, 772.72it/s]\n",
      "100%|██████████| 17/17 [00:00<00:00, 849.99it/s]\n",
      "100%|██████████| 17/17 [00:00<00:00, 850.01it/s]\n",
      "100%|██████████| 17/17 [00:00<00:00, 850.00it/s]\n",
      "100%|██████████| 17/17 [00:00<00:00, 894.75it/s]\n",
      "100%|██████████| 17/17 [00:00<00:00, 850.00it/s]\n",
      "100%|██████████| 17/17 [00:00<00:00, 850.00it/s]\n",
      "100%|██████████| 17/17 [00:00<00:00, 809.53it/s]\n",
      "100%|██████████| 17/17 [00:00<00:00, 849.99it/s]\n",
      "100%|██████████| 17/17 [00:00<00:00, 850.00it/s]\n",
      "100%|██████████| 17/17 [00:00<00:00, 850.00it/s]\n",
      "100%|██████████| 17/17 [00:00<00:00, 894.73it/s]\n",
      "100%|██████████| 17/17 [00:00<00:00, 894.73it/s]\n",
      "100%|██████████| 17/17 [00:00<00:00, 708.32it/s]\n",
      "100%|██████████| 17/17 [00:00<00:00, 809.53it/s]\n",
      "100%|██████████| 17/17 [00:00<00:00, 850.00it/s]\n"
     ]
    },
    {
     "name": "stdout",
     "output_type": "stream",
     "text": [
      "Epoch [4401/6000]: Train loss: 1.3985, Valid loss: 1.6168\n"
     ]
    },
    {
     "name": "stderr",
     "output_type": "stream",
     "text": [
      "100%|██████████| 17/17 [00:00<00:00, 841.41it/s]\n",
      "100%|██████████| 17/17 [00:00<00:00, 849.98it/s]\n",
      "100%|██████████| 17/17 [00:00<00:00, 858.28it/s]\n",
      "100%|██████████| 17/17 [00:00<00:00, 850.00it/s]\n",
      "100%|██████████| 17/17 [00:00<00:00, 850.00it/s]\n",
      "100%|██████████| 17/17 [00:00<00:00, 850.02it/s]\n",
      "100%|██████████| 17/17 [00:00<00:00, 809.53it/s]\n",
      "100%|██████████| 17/17 [00:00<00:00, 849.99it/s]\n",
      "100%|██████████| 17/17 [00:00<00:00, 894.75it/s]\n",
      "100%|██████████| 17/17 [00:00<00:00, 739.12it/s]\n",
      "100%|██████████| 17/17 [00:00<00:00, 894.73it/s]\n",
      "100%|██████████| 17/17 [00:00<00:00, 894.73it/s]\n",
      "100%|██████████| 17/17 [00:00<00:00, 847.33it/s]\n",
      "100%|██████████| 17/17 [00:00<00:00, 944.44it/s]\n",
      "100%|██████████| 17/17 [00:00<00:00, 1000.00it/s]\n",
      "100%|██████████| 17/17 [00:00<00:00, 944.44it/s]\n",
      "100%|██████████| 17/17 [00:00<00:00, 944.45it/s]\n",
      "100%|██████████| 17/17 [00:00<00:00, 944.45it/s]\n",
      "100%|██████████| 17/17 [00:00<00:00, 894.76it/s]\n",
      "100%|██████████| 17/17 [00:00<00:00, 894.75it/s]\n"
     ]
    },
    {
     "name": "stdout",
     "output_type": "stream",
     "text": [
      "Epoch [4421/6000]: Train loss: 1.3949, Valid loss: 1.2961\n"
     ]
    },
    {
     "name": "stderr",
     "output_type": "stream",
     "text": [
      "100%|██████████| 17/17 [00:00<00:00, 894.76it/s]\n",
      "100%|██████████| 17/17 [00:00<00:00, 944.44it/s]\n",
      "100%|██████████| 17/17 [00:00<00:00, 944.40it/s]\n",
      "100%|██████████| 17/17 [00:00<00:00, 894.75it/s]\n",
      "100%|██████████| 17/17 [00:00<00:00, 1000.02it/s]\n",
      "100%|██████████| 17/17 [00:00<00:00, 894.76it/s]\n",
      "100%|██████████| 17/17 [00:00<00:00, 944.45it/s]\n",
      "100%|██████████| 17/17 [00:00<00:00, 894.75it/s]\n",
      "100%|██████████| 17/17 [00:00<00:00, 944.44it/s]\n",
      "100%|██████████| 17/17 [00:00<00:00, 999.99it/s]\n",
      "100%|██████████| 17/17 [00:00<00:00, 944.45it/s]\n",
      "100%|██████████| 17/17 [00:00<00:00, 944.45it/s]\n",
      "100%|██████████| 17/17 [00:00<00:00, 894.73it/s]\n",
      "100%|██████████| 17/17 [00:00<00:00, 894.73it/s]\n",
      "100%|██████████| 17/17 [00:00<00:00, 944.46it/s]\n",
      "100%|██████████| 17/17 [00:00<00:00, 999.99it/s]\n",
      "100%|██████████| 17/17 [00:00<00:00, 850.00it/s]\n",
      "100%|██████████| 17/17 [00:00<00:00, 944.46it/s]\n",
      "100%|██████████| 17/17 [00:00<00:00, 894.75it/s]\n",
      "100%|██████████| 17/17 [00:00<00:00, 894.73it/s]\n"
     ]
    },
    {
     "name": "stdout",
     "output_type": "stream",
     "text": [
      "Epoch [4441/6000]: Train loss: 1.3942, Valid loss: 1.2220\n"
     ]
    },
    {
     "name": "stderr",
     "output_type": "stream",
     "text": [
      "100%|██████████| 17/17 [00:00<00:00, 944.45it/s]\n",
      "100%|██████████| 17/17 [00:00<00:00, 894.75it/s]\n",
      "100%|██████████| 17/17 [00:00<00:00, 999.99it/s]\n",
      "100%|██████████| 17/17 [00:00<00:00, 994.63it/s]\n",
      "100%|██████████| 17/17 [00:00<00:00, 944.43it/s]\n",
      "100%|██████████| 17/17 [00:00<00:00, 944.45it/s]\n",
      "100%|██████████| 17/17 [00:00<00:00, 944.45it/s]\n",
      "100%|██████████| 17/17 [00:00<00:00, 944.44it/s]\n",
      "100%|██████████| 17/17 [00:00<00:00, 944.34it/s]\n",
      "100%|██████████| 17/17 [00:00<00:00, 944.44it/s]\n",
      "100%|██████████| 17/17 [00:00<00:00, 894.73it/s]\n",
      "100%|██████████| 17/17 [00:00<00:00, 944.46it/s]\n",
      "100%|██████████| 17/17 [00:00<00:00, 894.75it/s]\n",
      "100%|██████████| 17/17 [00:00<00:00, 894.73it/s]\n",
      "100%|██████████| 17/17 [00:00<00:00, 944.44it/s]\n",
      "100%|██████████| 17/17 [00:00<00:00, 944.48it/s]\n",
      "100%|██████████| 17/17 [00:00<00:00, 946.68it/s]\n",
      "100%|██████████| 17/17 [00:00<00:00, 944.45it/s]\n",
      "100%|██████████| 17/17 [00:00<00:00, 944.44it/s]\n",
      "100%|██████████| 17/17 [00:00<00:00, 1000.00it/s]\n"
     ]
    },
    {
     "name": "stdout",
     "output_type": "stream",
     "text": [
      "Epoch [4461/6000]: Train loss: 1.3901, Valid loss: 1.1533\n"
     ]
    },
    {
     "name": "stderr",
     "output_type": "stream",
     "text": [
      "100%|██████████| 17/17 [00:00<00:00, 894.73it/s]\n",
      "100%|██████████| 17/17 [00:00<00:00, 944.45it/s]\n",
      "100%|██████████| 17/17 [00:00<00:00, 894.73it/s]\n",
      "100%|██████████| 17/17 [00:00<00:00, 999.99it/s]\n",
      "100%|██████████| 17/17 [00:00<00:00, 894.73it/s]\n",
      "100%|██████████| 17/17 [00:00<00:00, 944.44it/s]\n",
      "100%|██████████| 17/17 [00:00<00:00, 944.48it/s]\n",
      "100%|██████████| 17/17 [00:00<00:00, 944.45it/s]\n",
      "100%|██████████| 17/17 [00:00<00:00, 944.44it/s]\n",
      "100%|██████████| 17/17 [00:00<00:00, 944.44it/s]\n",
      "100%|██████████| 17/17 [00:00<00:00, 944.45it/s]\n",
      "100%|██████████| 17/17 [00:00<00:00, 894.73it/s]\n",
      "100%|██████████| 17/17 [00:00<00:00, 944.44it/s]\n",
      "100%|██████████| 17/17 [00:00<00:00, 944.45it/s]\n",
      "100%|██████████| 17/17 [00:00<00:00, 944.46it/s]\n",
      "100%|██████████| 17/17 [00:00<00:00, 944.45it/s]\n",
      "100%|██████████| 17/17 [00:00<00:00, 1000.00it/s]\n",
      "100%|██████████| 17/17 [00:00<00:00, 1000.00it/s]\n",
      "100%|██████████| 17/17 [00:00<00:00, 944.46it/s]\n",
      "100%|██████████| 17/17 [00:00<00:00, 894.73it/s]\n"
     ]
    },
    {
     "name": "stdout",
     "output_type": "stream",
     "text": [
      "Epoch [4481/6000]: Train loss: 1.3865, Valid loss: 1.3058\n"
     ]
    },
    {
     "name": "stderr",
     "output_type": "stream",
     "text": [
      "100%|██████████| 17/17 [00:00<00:00, 850.00it/s]\n",
      "100%|██████████| 17/17 [00:00<00:00, 944.45it/s]\n",
      "100%|██████████| 17/17 [00:00<00:00, 944.45it/s]\n",
      "100%|██████████| 17/17 [00:00<00:00, 944.46it/s]\n",
      "100%|██████████| 17/17 [00:00<00:00, 944.44it/s]\n",
      "100%|██████████| 17/17 [00:00<00:00, 1000.00it/s]\n",
      "100%|██████████| 17/17 [00:00<00:00, 1000.00it/s]\n",
      "100%|██████████| 17/17 [00:00<00:00, 944.45it/s]\n",
      "100%|██████████| 17/17 [00:00<00:00, 944.44it/s]\n",
      "100%|██████████| 17/17 [00:00<00:00, 899.77it/s]\n",
      "100%|██████████| 17/17 [00:00<00:00, 999.99it/s]\n",
      "100%|██████████| 17/17 [00:00<00:00, 850.00it/s]\n",
      "100%|██████████| 17/17 [00:00<00:00, 944.44it/s]\n",
      "100%|██████████| 17/17 [00:00<00:00, 894.72it/s]\n",
      "100%|██████████| 17/17 [00:00<00:00, 944.45it/s]\n",
      "100%|██████████| 17/17 [00:00<00:00, 944.45it/s]\n",
      "100%|██████████| 17/17 [00:00<00:00, 894.76it/s]\n",
      "100%|██████████| 17/17 [00:00<00:00, 944.44it/s]\n",
      "100%|██████████| 17/17 [00:00<00:00, 1000.02it/s]\n"
     ]
    },
    {
     "name": "stdout",
     "output_type": "stream",
     "text": [
      "Saving model with loss 1.122...\n"
     ]
    },
    {
     "name": "stderr",
     "output_type": "stream",
     "text": [
      "100%|██████████| 17/17 [00:00<00:00, 894.75it/s]\n"
     ]
    },
    {
     "name": "stdout",
     "output_type": "stream",
     "text": [
      "Epoch [4501/6000]: Train loss: 1.3853, Valid loss: 1.1626\n"
     ]
    },
    {
     "name": "stderr",
     "output_type": "stream",
     "text": [
      "100%|██████████| 17/17 [00:00<00:00, 944.48it/s]\n"
     ]
    },
    {
     "name": "stdout",
     "output_type": "stream",
     "text": [
      "Saving model with loss 1.117...\n"
     ]
    },
    {
     "name": "stderr",
     "output_type": "stream",
     "text": [
      "100%|██████████| 17/17 [00:00<00:00, 999.99it/s]\n",
      "100%|██████████| 17/17 [00:00<00:00, 944.45it/s]\n",
      "100%|██████████| 17/17 [00:00<00:00, 944.44it/s]\n",
      "100%|██████████| 17/17 [00:00<00:00, 708.33it/s]\n",
      "100%|██████████| 17/17 [00:00<00:00, 850.02it/s]\n",
      "100%|██████████| 17/17 [00:00<00:00, 849.84it/s]\n",
      "100%|██████████| 17/17 [00:00<00:00, 683.10it/s]\n",
      "100%|██████████| 17/17 [00:00<00:00, 884.89it/s]\n",
      "100%|██████████| 17/17 [00:00<00:00, 849.99it/s]\n",
      "100%|██████████| 17/17 [00:00<00:00, 861.15it/s]\n",
      "100%|██████████| 17/17 [00:00<00:00, 850.00it/s]\n",
      "100%|██████████| 17/17 [00:00<00:00, 849.94it/s]\n",
      "100%|██████████| 17/17 [00:00<00:00, 849.97it/s]\n",
      "100%|██████████| 17/17 [00:00<00:00, 850.01it/s]\n",
      "100%|██████████| 17/17 [00:00<00:00, 894.72it/s]\n",
      "100%|██████████| 17/17 [00:00<00:00, 894.73it/s]\n",
      "100%|██████████| 17/17 [00:00<00:00, 850.01it/s]\n",
      "100%|██████████| 17/17 [00:00<00:00, 876.39it/s]\n",
      "100%|██████████| 17/17 [00:00<00:00, 850.01it/s]\n"
     ]
    },
    {
     "name": "stdout",
     "output_type": "stream",
     "text": [
      "Epoch [4521/6000]: Train loss: 1.3767, Valid loss: 1.2780\n"
     ]
    },
    {
     "name": "stderr",
     "output_type": "stream",
     "text": [
      "100%|██████████| 17/17 [00:00<00:00, 894.64it/s]\n",
      "100%|██████████| 17/17 [00:00<00:00, 653.70it/s]\n",
      "100%|██████████| 17/17 [00:00<00:00, 850.01it/s]\n",
      "100%|██████████| 17/17 [00:00<00:00, 849.98it/s]\n",
      "100%|██████████| 17/17 [00:00<00:00, 849.98it/s]\n",
      "100%|██████████| 17/17 [00:00<00:00, 809.53it/s]\n",
      "100%|██████████| 17/17 [00:00<00:00, 850.00it/s]\n",
      "100%|██████████| 17/17 [00:00<00:00, 825.18it/s]\n",
      "100%|██████████| 17/17 [00:00<00:00, 894.73it/s]\n",
      "100%|██████████| 17/17 [00:00<00:00, 894.76it/s]\n",
      "100%|██████████| 17/17 [00:00<00:00, 894.75it/s]\n",
      "100%|██████████| 17/17 [00:00<00:00, 809.53it/s]\n",
      "100%|██████████| 17/17 [00:00<00:00, 809.52it/s]\n",
      "100%|██████████| 17/17 [00:00<00:00, 894.72it/s]\n",
      "100%|██████████| 17/17 [00:00<00:00, 850.01it/s]\n",
      "100%|██████████| 17/17 [00:00<00:00, 894.73it/s]\n",
      "100%|██████████| 17/17 [00:00<00:00, 894.73it/s]\n",
      "100%|██████████| 17/17 [00:00<00:00, 901.99it/s]\n",
      "100%|██████████| 17/17 [00:00<00:00, 809.53it/s]\n",
      "100%|██████████| 17/17 [00:00<00:00, 894.73it/s]\n"
     ]
    },
    {
     "name": "stdout",
     "output_type": "stream",
     "text": [
      "Epoch [4541/6000]: Train loss: 1.3745, Valid loss: 1.2330\n"
     ]
    },
    {
     "name": "stderr",
     "output_type": "stream",
     "text": [
      "100%|██████████| 17/17 [00:00<00:00, 894.75it/s]\n",
      "100%|██████████| 17/17 [00:00<00:00, 894.73it/s]\n",
      "100%|██████████| 17/17 [00:00<00:00, 894.73it/s]\n",
      "100%|██████████| 17/17 [00:00<00:00, 944.45it/s]\n",
      "100%|██████████| 17/17 [00:00<00:00, 850.01it/s]\n",
      "100%|██████████| 17/17 [00:00<00:00, 850.01it/s]\n",
      "100%|██████████| 17/17 [00:00<00:00, 631.71it/s]\n",
      "100%|██████████| 17/17 [00:00<00:00, 868.93it/s]\n",
      "100%|██████████| 17/17 [00:00<00:00, 849.99it/s]\n",
      "100%|██████████| 17/17 [00:00<00:00, 849.98it/s]\n",
      "100%|██████████| 17/17 [00:00<00:00, 894.72it/s]\n",
      "100%|██████████| 17/17 [00:00<00:00, 894.73it/s]\n",
      "100%|██████████| 17/17 [00:00<00:00, 850.01it/s]\n",
      "100%|██████████| 17/17 [00:00<00:00, 894.73it/s]\n",
      "100%|██████████| 17/17 [00:00<00:00, 894.75it/s]\n",
      "100%|██████████| 17/17 [00:00<00:00, 894.75it/s]\n",
      "100%|██████████| 17/17 [00:00<00:00, 739.14it/s]\n",
      "100%|██████████| 17/17 [00:00<00:00, 894.73it/s]\n",
      "100%|██████████| 17/17 [00:00<00:00, 857.10it/s]\n",
      "100%|██████████| 17/17 [00:00<00:00, 830.42it/s]\n"
     ]
    },
    {
     "name": "stdout",
     "output_type": "stream",
     "text": [
      "Epoch [4561/6000]: Train loss: 1.3758, Valid loss: 1.2214\n"
     ]
    },
    {
     "name": "stderr",
     "output_type": "stream",
     "text": [
      "100%|██████████| 17/17 [00:00<00:00, 894.73it/s]\n",
      "100%|██████████| 17/17 [00:00<00:00, 870.56it/s]\n",
      "100%|██████████| 17/17 [00:00<00:00, 871.49it/s]\n",
      "100%|██████████| 17/17 [00:00<00:00, 809.54it/s]\n",
      "100%|██████████| 17/17 [00:00<00:00, 850.00it/s]\n",
      "100%|██████████| 17/17 [00:00<00:00, 850.00it/s]\n",
      "100%|██████████| 17/17 [00:00<00:00, 894.75it/s]\n",
      "100%|██████████| 17/17 [00:00<00:00, 850.00it/s]\n",
      "100%|██████████| 17/17 [00:00<00:00, 894.73it/s]\n",
      "100%|██████████| 17/17 [00:00<00:00, 894.73it/s]\n",
      "100%|██████████| 17/17 [00:00<00:00, 849.99it/s]\n",
      "100%|██████████| 17/17 [00:00<00:00, 894.73it/s]\n",
      "100%|██████████| 17/17 [00:00<00:00, 831.18it/s]\n",
      "100%|██████████| 17/17 [00:00<00:00, 894.73it/s]\n",
      "100%|██████████| 17/17 [00:00<00:00, 894.73it/s]\n",
      "100%|██████████| 17/17 [00:00<00:00, 894.73it/s]\n",
      "100%|██████████| 17/17 [00:00<00:00, 850.00it/s]\n",
      "100%|██████████| 17/17 [00:00<00:00, 894.75it/s]\n",
      "100%|██████████| 17/17 [00:00<00:00, 894.73it/s]\n",
      "100%|██████████| 17/17 [00:00<00:00, 894.72it/s]\n"
     ]
    },
    {
     "name": "stdout",
     "output_type": "stream",
     "text": [
      "Epoch [4581/6000]: Train loss: 1.3742, Valid loss: 1.2129\n"
     ]
    },
    {
     "name": "stderr",
     "output_type": "stream",
     "text": [
      "100%|██████████| 17/17 [00:00<00:00, 894.77it/s]\n",
      "100%|██████████| 17/17 [00:00<00:00, 894.75it/s]\n",
      "100%|██████████| 17/17 [00:00<00:00, 809.45it/s]\n",
      "100%|██████████| 17/17 [00:00<00:00, 850.01it/s]\n",
      "100%|██████████| 17/17 [00:00<00:00, 850.01it/s]\n",
      "100%|██████████| 17/17 [00:00<00:00, 809.53it/s]\n",
      "100%|██████████| 17/17 [00:00<00:00, 894.73it/s]\n",
      "100%|██████████| 17/17 [00:00<00:00, 894.72it/s]\n",
      "100%|██████████| 17/17 [00:00<00:00, 849.99it/s]\n",
      "100%|██████████| 17/17 [00:00<00:00, 809.54it/s]\n",
      "100%|██████████| 17/17 [00:00<00:00, 894.75it/s]\n",
      "100%|██████████| 17/17 [00:00<00:00, 894.73it/s]\n",
      "100%|██████████| 17/17 [00:00<00:00, 894.75it/s]\n",
      "100%|██████████| 17/17 [00:00<00:00, 894.73it/s]\n",
      "100%|██████████| 17/17 [00:00<00:00, 850.03it/s]\n",
      "100%|██████████| 17/17 [00:00<00:00, 894.73it/s]\n",
      "100%|██████████| 17/17 [00:00<00:00, 834.62it/s]\n",
      "100%|██████████| 17/17 [00:00<00:00, 894.73it/s]\n",
      "100%|██████████| 17/17 [00:00<00:00, 894.73it/s]\n",
      "100%|██████████| 17/17 [00:00<00:00, 894.73it/s]\n"
     ]
    },
    {
     "name": "stdout",
     "output_type": "stream",
     "text": [
      "Epoch [4601/6000]: Train loss: 1.3654, Valid loss: 1.2273\n"
     ]
    },
    {
     "name": "stderr",
     "output_type": "stream",
     "text": [
      "100%|██████████| 17/17 [00:00<00:00, 789.08it/s]\n",
      "100%|██████████| 17/17 [00:00<00:00, 849.98it/s]\n",
      "100%|██████████| 17/17 [00:00<00:00, 944.45it/s]\n"
     ]
    },
    {
     "name": "stdout",
     "output_type": "stream",
     "text": [
      "Saving model with loss 1.107...\n"
     ]
    },
    {
     "name": "stderr",
     "output_type": "stream",
     "text": [
      "100%|██████████| 17/17 [00:00<00:00, 894.73it/s]\n",
      "100%|██████████| 17/17 [00:00<00:00, 849.99it/s]\n",
      "100%|██████████| 17/17 [00:00<00:00, 894.73it/s]\n",
      "100%|██████████| 17/17 [00:00<00:00, 894.75it/s]\n",
      "100%|██████████| 17/17 [00:00<00:00, 894.73it/s]\n",
      "100%|██████████| 17/17 [00:00<00:00, 850.00it/s]\n",
      "100%|██████████| 17/17 [00:00<00:00, 772.74it/s]\n",
      "100%|██████████| 17/17 [00:00<00:00, 849.99it/s]\n",
      "100%|██████████| 17/17 [00:00<00:00, 894.75it/s]\n",
      "100%|██████████| 17/17 [00:00<00:00, 850.01it/s]\n",
      "100%|██████████| 17/17 [00:00<00:00, 894.75it/s]\n",
      "100%|██████████| 17/17 [00:00<00:00, 894.73it/s]\n",
      "100%|██████████| 17/17 [00:00<00:00, 894.72it/s]\n",
      "100%|██████████| 17/17 [00:00<00:00, 850.00it/s]\n",
      "100%|██████████| 17/17 [00:00<00:00, 849.90it/s]\n",
      "100%|██████████| 17/17 [00:00<00:00, 850.00it/s]\n",
      "100%|██████████| 17/17 [00:00<00:00, 871.49it/s]\n"
     ]
    },
    {
     "name": "stdout",
     "output_type": "stream",
     "text": [
      "Epoch [4621/6000]: Train loss: 1.3634, Valid loss: 1.3377\n"
     ]
    },
    {
     "name": "stderr",
     "output_type": "stream",
     "text": [
      "100%|██████████| 17/17 [00:00<00:00, 905.44it/s]\n",
      "100%|██████████| 17/17 [00:00<00:00, 894.75it/s]\n",
      "100%|██████████| 17/17 [00:00<00:00, 850.00it/s]\n",
      "100%|██████████| 17/17 [00:00<00:00, 850.00it/s]\n",
      "100%|██████████| 17/17 [00:00<00:00, 894.73it/s]\n",
      "100%|██████████| 17/17 [00:00<00:00, 894.72it/s]\n",
      "100%|██████████| 17/17 [00:00<00:00, 894.73it/s]\n",
      "100%|██████████| 17/17 [00:00<00:00, 849.99it/s]\n",
      "100%|██████████| 17/17 [00:00<00:00, 748.03it/s]\n",
      "100%|██████████| 17/17 [00:00<00:00, 890.17it/s]\n",
      "100%|██████████| 17/17 [00:00<00:00, 944.44it/s]\n",
      "100%|██████████| 17/17 [00:00<00:00, 894.73it/s]\n",
      "100%|██████████| 17/17 [00:00<00:00, 813.65it/s]\n",
      "100%|██████████| 17/17 [00:00<00:00, 850.00it/s]\n",
      "100%|██████████| 17/17 [00:00<00:00, 894.73it/s]\n",
      "100%|██████████| 17/17 [00:00<00:00, 894.73it/s]\n",
      "100%|██████████| 17/17 [00:00<00:00, 894.73it/s]\n",
      "100%|██████████| 17/17 [00:00<00:00, 894.75it/s]\n",
      "100%|██████████| 17/17 [00:00<00:00, 894.75it/s]\n",
      "100%|██████████| 17/17 [00:00<00:00, 894.75it/s]\n"
     ]
    },
    {
     "name": "stdout",
     "output_type": "stream",
     "text": [
      "Epoch [4641/6000]: Train loss: 1.3604, Valid loss: 1.2509\n"
     ]
    },
    {
     "name": "stderr",
     "output_type": "stream",
     "text": [
      "100%|██████████| 17/17 [00:00<00:00, 849.99it/s]\n",
      "100%|██████████| 17/17 [00:00<00:00, 818.57it/s]\n",
      "100%|██████████| 17/17 [00:00<00:00, 894.73it/s]\n",
      "100%|██████████| 17/17 [00:00<00:00, 850.01it/s]\n",
      "100%|██████████| 17/17 [00:00<00:00, 850.00it/s]\n",
      "100%|██████████| 17/17 [00:00<00:00, 944.44it/s]\n",
      "100%|██████████| 17/17 [00:00<00:00, 894.73it/s]\n",
      "100%|██████████| 17/17 [00:00<00:00, 894.73it/s]\n",
      "100%|██████████| 17/17 [00:00<00:00, 809.50it/s]\n",
      "100%|██████████| 17/17 [00:00<00:00, 850.01it/s]\n",
      "100%|██████████| 17/17 [00:00<00:00, 894.73it/s]\n",
      "100%|██████████| 17/17 [00:00<00:00, 894.75it/s]\n",
      "100%|██████████| 17/17 [00:00<00:00, 894.75it/s]\n",
      "100%|██████████| 17/17 [00:00<00:00, 855.35it/s]\n",
      "100%|██████████| 17/17 [00:00<00:00, 850.00it/s]\n",
      "100%|██████████| 17/17 [00:00<00:00, 894.73it/s]\n",
      "100%|██████████| 17/17 [00:00<00:00, 894.77it/s]\n",
      "100%|██████████| 17/17 [00:00<00:00, 849.99it/s]\n",
      "100%|██████████| 17/17 [00:00<00:00, 850.01it/s]\n",
      "100%|██████████| 17/17 [00:00<00:00, 894.75it/s]\n"
     ]
    },
    {
     "name": "stdout",
     "output_type": "stream",
     "text": [
      "Epoch [4661/6000]: Train loss: 1.3603, Valid loss: 1.2546\n"
     ]
    },
    {
     "name": "stderr",
     "output_type": "stream",
     "text": [
      "100%|██████████| 17/17 [00:00<00:00, 907.38it/s]\n",
      "100%|██████████| 17/17 [00:00<00:00, 894.73it/s]\n",
      "100%|██████████| 17/17 [00:00<00:00, 894.75it/s]\n",
      "100%|██████████| 17/17 [00:00<00:00, 871.47it/s]\n",
      "100%|██████████| 17/17 [00:00<00:00, 894.75it/s]\n",
      "100%|██████████| 17/17 [00:00<00:00, 850.01it/s]\n",
      "100%|██████████| 17/17 [00:00<00:00, 894.75it/s]\n",
      "100%|██████████| 17/17 [00:00<00:00, 949.80it/s]\n",
      "100%|██████████| 17/17 [00:00<00:00, 944.45it/s]\n",
      "100%|██████████| 17/17 [00:00<00:00, 944.46it/s]\n",
      "100%|██████████| 17/17 [00:00<00:00, 894.75it/s]\n",
      "100%|██████████| 17/17 [00:00<00:00, 944.35it/s]\n",
      "100%|██████████| 17/17 [00:00<00:00, 741.00it/s]\n",
      "100%|██████████| 17/17 [00:00<00:00, 850.00it/s]\n",
      "100%|██████████| 17/17 [00:00<00:00, 894.73it/s]\n",
      "100%|██████████| 17/17 [00:00<00:00, 853.52it/s]\n",
      "100%|██████████| 17/17 [00:00<00:00, 849.99it/s]\n",
      "100%|██████████| 17/17 [00:00<00:00, 894.76it/s]\n",
      "100%|██████████| 17/17 [00:00<00:00, 894.73it/s]\n",
      "100%|██████████| 17/17 [00:00<00:00, 894.64it/s]\n"
     ]
    },
    {
     "name": "stdout",
     "output_type": "stream",
     "text": [
      "Epoch [4681/6000]: Train loss: 1.3537, Valid loss: 1.2528\n"
     ]
    },
    {
     "name": "stderr",
     "output_type": "stream",
     "text": [
      "100%|██████████| 17/17 [00:00<00:00, 850.00it/s]\n",
      "100%|██████████| 17/17 [00:00<00:00, 809.53it/s]\n",
      "100%|██████████| 17/17 [00:00<00:00, 849.98it/s]\n",
      "100%|██████████| 17/17 [00:00<00:00, 894.66it/s]\n",
      "100%|██████████| 17/17 [00:00<00:00, 894.73it/s]\n",
      "100%|██████████| 17/17 [00:00<00:00, 849.98it/s]\n",
      "100%|██████████| 17/17 [00:00<00:00, 894.73it/s]\n",
      "100%|██████████| 17/17 [00:00<00:00, 894.75it/s]\n",
      "100%|██████████| 17/17 [00:00<00:00, 894.76it/s]\n",
      "100%|██████████| 17/17 [00:00<00:00, 850.01it/s]\n",
      "100%|██████████| 17/17 [00:00<00:00, 850.00it/s]\n",
      "100%|██████████| 17/17 [00:00<00:00, 850.01it/s]\n",
      "100%|██████████| 17/17 [00:00<00:00, 849.86it/s]\n",
      "100%|██████████| 17/17 [00:00<00:00, 772.73it/s]\n",
      "100%|██████████| 17/17 [00:00<00:00, 894.75it/s]\n",
      "100%|██████████| 17/17 [00:00<00:00, 607.00it/s]\n",
      "100%|██████████| 17/17 [00:00<00:00, 894.73it/s]\n",
      "100%|██████████| 17/17 [00:00<00:00, 809.52it/s]\n",
      "100%|██████████| 17/17 [00:00<00:00, 739.14it/s]\n",
      "100%|██████████| 17/17 [00:00<00:00, 894.49it/s]\n"
     ]
    },
    {
     "name": "stdout",
     "output_type": "stream",
     "text": [
      "Epoch [4701/6000]: Train loss: 1.3522, Valid loss: 1.3020\n"
     ]
    },
    {
     "name": "stderr",
     "output_type": "stream",
     "text": [
      "100%|██████████| 17/17 [00:00<00:00, 850.01it/s]\n",
      "100%|██████████| 17/17 [00:00<00:00, 850.00it/s]\n",
      "100%|██████████| 17/17 [00:00<00:00, 894.75it/s]\n",
      "100%|██████████| 17/17 [00:00<00:00, 894.75it/s]\n",
      "100%|██████████| 17/17 [00:00<00:00, 894.75it/s]\n",
      "100%|██████████| 17/17 [00:00<00:00, 894.75it/s]\n",
      "100%|██████████| 17/17 [00:00<00:00, 849.99it/s]\n",
      "100%|██████████| 17/17 [00:00<00:00, 894.73it/s]\n",
      "100%|██████████| 17/17 [00:00<00:00, 849.92it/s]\n",
      "100%|██████████| 17/17 [00:00<00:00, 894.73it/s]\n",
      "100%|██████████| 17/17 [00:00<00:00, 894.73it/s]\n",
      "100%|██████████| 17/17 [00:00<00:00, 850.00it/s]\n",
      "100%|██████████| 17/17 [00:00<00:00, 944.31it/s]\n",
      "100%|██████████| 17/17 [00:00<00:00, 894.62it/s]\n",
      "100%|██████████| 17/17 [00:00<00:00, 850.01it/s]\n",
      "100%|██████████| 17/17 [00:00<00:00, 849.99it/s]\n",
      "100%|██████████| 17/17 [00:00<00:00, 894.61it/s]\n",
      "100%|██████████| 17/17 [00:00<00:00, 894.73it/s]\n",
      "100%|██████████| 17/17 [00:00<00:00, 894.73it/s]\n",
      "100%|██████████| 17/17 [00:00<00:00, 850.01it/s]\n"
     ]
    },
    {
     "name": "stdout",
     "output_type": "stream",
     "text": [
      "Epoch [4721/6000]: Train loss: 1.3467, Valid loss: 1.1845\n"
     ]
    },
    {
     "name": "stderr",
     "output_type": "stream",
     "text": [
      "100%|██████████| 17/17 [00:00<00:00, 679.93it/s]\n",
      "100%|██████████| 17/17 [00:00<00:00, 944.45it/s]\n",
      "100%|██████████| 17/17 [00:00<00:00, 944.44it/s]\n",
      "100%|██████████| 17/17 [00:00<00:00, 944.44it/s]\n",
      "100%|██████████| 17/17 [00:00<00:00, 944.13it/s]\n",
      "100%|██████████| 17/17 [00:00<00:00, 1000.72it/s]\n",
      "100%|██████████| 17/17 [00:00<00:00, 944.45it/s]\n",
      "100%|██████████| 17/17 [00:00<00:00, 894.73it/s]\n",
      "100%|██████████| 17/17 [00:00<00:00, 1000.00it/s]\n",
      "100%|██████████| 17/17 [00:00<00:00, 944.33it/s]\n",
      "100%|██████████| 17/17 [00:00<00:00, 894.73it/s]\n",
      "100%|██████████| 17/17 [00:00<00:00, 944.45it/s]\n",
      "100%|██████████| 17/17 [00:00<00:00, 944.45it/s]\n",
      "100%|██████████| 17/17 [00:00<00:00, 944.35it/s]\n",
      "100%|██████████| 17/17 [00:00<00:00, 944.45it/s]\n",
      "100%|██████████| 17/17 [00:00<00:00, 944.45it/s]\n",
      "100%|██████████| 17/17 [00:00<00:00, 928.74it/s]\n",
      "100%|██████████| 17/17 [00:00<00:00, 944.46it/s]\n",
      "100%|██████████| 17/17 [00:00<00:00, 944.66it/s]\n",
      "100%|██████████| 17/17 [00:00<00:00, 955.97it/s]\n"
     ]
    },
    {
     "name": "stdout",
     "output_type": "stream",
     "text": [
      "Epoch [4741/6000]: Train loss: 1.3482, Valid loss: 1.1413\n"
     ]
    },
    {
     "name": "stderr",
     "output_type": "stream",
     "text": [
      "100%|██████████| 17/17 [00:00<00:00, 944.44it/s]\n",
      "100%|██████████| 17/17 [00:00<00:00, 772.72it/s]\n",
      "100%|██████████| 17/17 [00:00<00:00, 787.78it/s]\n"
     ]
    },
    {
     "name": "stdout",
     "output_type": "stream",
     "text": [
      "Saving model with loss 1.105...\n"
     ]
    },
    {
     "name": "stderr",
     "output_type": "stream",
     "text": [
      "100%|██████████| 17/17 [00:00<00:00, 850.01it/s]\n",
      "100%|██████████| 17/17 [00:00<00:00, 893.31it/s]\n",
      "100%|██████████| 17/17 [00:00<00:00, 849.11it/s]\n",
      "100%|██████████| 17/17 [00:00<00:00, 679.76it/s]\n",
      "100%|██████████| 17/17 [00:00<00:00, 894.73it/s]\n",
      "100%|██████████| 17/17 [00:00<00:00, 894.73it/s]\n",
      "100%|██████████| 17/17 [00:00<00:00, 894.73it/s]\n",
      "100%|██████████| 17/17 [00:00<00:00, 850.01it/s]\n",
      "100%|██████████| 17/17 [00:00<00:00, 850.00it/s]\n",
      "100%|██████████| 17/17 [00:00<00:00, 850.00it/s]\n",
      "100%|██████████| 17/17 [00:00<00:00, 894.75it/s]\n",
      "100%|██████████| 17/17 [00:00<00:00, 850.02it/s]\n",
      "100%|██████████| 17/17 [00:00<00:00, 850.00it/s]\n",
      "100%|██████████| 17/17 [00:00<00:00, 850.01it/s]\n",
      "100%|██████████| 17/17 [00:00<00:00, 850.00it/s]\n",
      "100%|██████████| 17/17 [00:00<00:00, 739.14it/s]\n",
      "100%|██████████| 17/17 [00:00<00:00, 850.00it/s]\n"
     ]
    },
    {
     "name": "stdout",
     "output_type": "stream",
     "text": [
      "Epoch [4761/6000]: Train loss: 1.3446, Valid loss: 1.2126\n"
     ]
    },
    {
     "name": "stderr",
     "output_type": "stream",
     "text": [
      "100%|██████████| 17/17 [00:00<00:00, 850.00it/s]\n",
      "100%|██████████| 17/17 [00:00<00:00, 850.00it/s]\n",
      "100%|██████████| 17/17 [00:00<00:00, 809.52it/s]\n",
      "100%|██████████| 17/17 [00:00<00:00, 850.00it/s]\n",
      "100%|██████████| 17/17 [00:00<00:00, 850.01it/s]\n",
      "100%|██████████| 17/17 [00:00<00:00, 894.75it/s]\n",
      "100%|██████████| 17/17 [00:00<00:00, 894.73it/s]\n",
      "100%|██████████| 17/17 [00:00<00:00, 850.00it/s]\n",
      "100%|██████████| 17/17 [00:00<00:00, 894.71it/s]\n",
      "100%|██████████| 17/17 [00:00<00:00, 944.45it/s]\n",
      "100%|██████████| 17/17 [00:00<00:00, 894.75it/s]\n",
      "100%|██████████| 17/17 [00:00<00:00, 850.01it/s]\n",
      "100%|██████████| 17/17 [00:00<00:00, 809.54it/s]\n",
      "100%|██████████| 17/17 [00:00<00:00, 894.75it/s]\n",
      "100%|██████████| 17/17 [00:00<00:00, 894.72it/s]\n",
      "100%|██████████| 17/17 [00:00<00:00, 894.76it/s]\n",
      "100%|██████████| 17/17 [00:00<00:00, 894.75it/s]\n",
      "100%|██████████| 17/17 [00:00<00:00, 894.73it/s]\n",
      "100%|██████████| 17/17 [00:00<00:00, 894.76it/s]\n",
      "100%|██████████| 17/17 [00:00<00:00, 894.73it/s]\n"
     ]
    },
    {
     "name": "stdout",
     "output_type": "stream",
     "text": [
      "Epoch [4781/6000]: Train loss: 1.3450, Valid loss: 1.1186\n"
     ]
    },
    {
     "name": "stderr",
     "output_type": "stream",
     "text": [
      "100%|██████████| 17/17 [00:00<00:00, 894.75it/s]\n",
      "100%|██████████| 17/17 [00:00<00:00, 849.99it/s]\n",
      "100%|██████████| 17/17 [00:00<00:00, 894.75it/s]\n",
      "100%|██████████| 17/17 [00:00<00:00, 894.75it/s]\n",
      "100%|██████████| 17/17 [00:00<00:00, 928.28it/s]\n",
      "100%|██████████| 17/17 [00:00<00:00, 850.00it/s]\n",
      "100%|██████████| 17/17 [00:00<00:00, 849.77it/s]\n",
      "100%|██████████| 17/17 [00:00<00:00, 809.45it/s]\n",
      "100%|██████████| 17/17 [00:00<00:00, 894.72it/s]\n",
      "100%|██████████| 17/17 [00:00<00:00, 894.72it/s]\n",
      "100%|██████████| 17/17 [00:00<00:00, 894.76it/s]\n",
      "100%|██████████| 17/17 [00:00<00:00, 894.91it/s]\n",
      "100%|██████████| 17/17 [00:00<00:00, 944.44it/s]\n",
      "100%|██████████| 17/17 [00:00<00:00, 894.73it/s]\n",
      "100%|██████████| 17/17 [00:00<00:00, 894.71it/s]\n",
      "100%|██████████| 17/17 [00:00<00:00, 894.62it/s]\n",
      "100%|██████████| 17/17 [00:00<00:00, 894.75it/s]\n",
      "100%|██████████| 17/17 [00:00<00:00, 944.44it/s]\n",
      "100%|██████████| 17/17 [00:00<00:00, 894.73it/s]\n",
      "100%|██████████| 17/17 [00:00<00:00, 894.63it/s]\n"
     ]
    },
    {
     "name": "stdout",
     "output_type": "stream",
     "text": [
      "Epoch [4801/6000]: Train loss: 1.3378, Valid loss: 1.2230\n"
     ]
    },
    {
     "name": "stderr",
     "output_type": "stream",
     "text": [
      "100%|██████████| 17/17 [00:00<00:00, 894.75it/s]\n",
      "100%|██████████| 17/17 [00:00<00:00, 894.75it/s]\n",
      "100%|██████████| 17/17 [00:00<00:00, 944.44it/s]\n",
      "100%|██████████| 17/17 [00:00<00:00, 894.63it/s]\n",
      "100%|██████████| 17/17 [00:00<00:00, 894.75it/s]\n",
      "100%|██████████| 17/17 [00:00<00:00, 944.45it/s]\n",
      "100%|██████████| 17/17 [00:00<00:00, 894.71it/s]\n",
      "100%|██████████| 17/17 [00:00<00:00, 894.73it/s]\n",
      "100%|██████████| 17/17 [00:00<00:00, 894.63it/s]\n",
      "100%|██████████| 17/17 [00:00<00:00, 894.75it/s]\n",
      "100%|██████████| 17/17 [00:00<00:00, 894.73it/s]\n",
      "100%|██████████| 17/17 [00:00<00:00, 894.73it/s]\n",
      "100%|██████████| 17/17 [00:00<00:00, 894.62it/s]\n",
      "100%|██████████| 17/17 [00:00<00:00, 894.72it/s]\n",
      "100%|██████████| 17/17 [00:00<00:00, 850.02it/s]\n",
      "100%|██████████| 17/17 [00:00<00:00, 894.75it/s]\n",
      "100%|██████████| 17/17 [00:00<00:00, 944.36it/s]\n",
      "100%|██████████| 17/17 [00:00<00:00, 894.73it/s]\n",
      "100%|██████████| 17/17 [00:00<00:00, 894.73it/s]\n",
      "100%|██████████| 17/17 [00:00<00:00, 833.83it/s]\n"
     ]
    },
    {
     "name": "stdout",
     "output_type": "stream",
     "text": [
      "Epoch [4821/6000]: Train loss: 1.3363, Valid loss: 1.1249\n"
     ]
    },
    {
     "name": "stderr",
     "output_type": "stream",
     "text": [
      "100%|██████████| 17/17 [00:00<00:00, 894.64it/s]\n",
      "100%|██████████| 17/17 [00:00<00:00, 894.73it/s]\n",
      "100%|██████████| 17/17 [00:00<00:00, 894.73it/s]\n",
      "100%|██████████| 17/17 [00:00<00:00, 894.75it/s]\n",
      "100%|██████████| 17/17 [00:00<00:00, 894.49it/s]\n",
      "100%|██████████| 17/17 [00:00<00:00, 894.75it/s]\n",
      "100%|██████████| 17/17 [00:00<00:00, 894.75it/s]\n",
      "100%|██████████| 17/17 [00:00<00:00, 944.44it/s]\n",
      "100%|██████████| 17/17 [00:00<00:00, 944.45it/s]\n",
      "100%|██████████| 17/17 [00:00<00:00, 894.63it/s]\n"
     ]
    },
    {
     "name": "stdout",
     "output_type": "stream",
     "text": [
      "Saving model with loss 1.101...\n"
     ]
    },
    {
     "name": "stderr",
     "output_type": "stream",
     "text": [
      "100%|██████████| 17/17 [00:00<00:00, 894.72it/s]\n"
     ]
    },
    {
     "name": "stdout",
     "output_type": "stream",
     "text": [
      "Saving model with loss 1.087...\n"
     ]
    },
    {
     "name": "stderr",
     "output_type": "stream",
     "text": [
      "100%|██████████| 17/17 [00:00<00:00, 894.73it/s]\n",
      "100%|██████████| 17/17 [00:00<00:00, 850.00it/s]\n",
      "100%|██████████| 17/17 [00:00<00:00, 894.63it/s]\n",
      "100%|██████████| 17/17 [00:00<00:00, 894.73it/s]\n",
      "100%|██████████| 17/17 [00:00<00:00, 894.75it/s]\n",
      "100%|██████████| 17/17 [00:00<00:00, 850.00it/s]\n",
      "100%|██████████| 17/17 [00:00<00:00, 849.91it/s]\n",
      "100%|██████████| 17/17 [00:00<00:00, 894.73it/s]\n",
      "100%|██████████| 17/17 [00:00<00:00, 944.44it/s]\n"
     ]
    },
    {
     "name": "stdout",
     "output_type": "stream",
     "text": [
      "Epoch [4841/6000]: Train loss: 1.3345, Valid loss: 1.1699\n"
     ]
    },
    {
     "name": "stderr",
     "output_type": "stream",
     "text": [
      "100%|██████████| 17/17 [00:00<00:00, 850.00it/s]\n",
      "100%|██████████| 17/17 [00:00<00:00, 849.91it/s]\n",
      "100%|██████████| 17/17 [00:00<00:00, 894.73it/s]\n",
      "100%|██████████| 17/17 [00:00<00:00, 894.73it/s]\n",
      "100%|██████████| 17/17 [00:00<00:00, 944.44it/s]\n",
      "100%|██████████| 17/17 [00:00<00:00, 943.56it/s]\n",
      "100%|██████████| 17/17 [00:00<00:00, 894.63it/s]\n",
      "100%|██████████| 17/17 [00:00<00:00, 894.73it/s]\n",
      "100%|██████████| 17/17 [00:00<00:00, 944.45it/s]\n",
      "100%|██████████| 17/17 [00:00<00:00, 894.76it/s]\n",
      "100%|██████████| 17/17 [00:00<00:00, 894.62it/s]\n",
      "100%|██████████| 17/17 [00:00<00:00, 850.00it/s]\n",
      "100%|██████████| 17/17 [00:00<00:00, 894.73it/s]\n",
      "100%|██████████| 17/17 [00:00<00:00, 894.73it/s]\n",
      "100%|██████████| 17/17 [00:00<00:00, 887.02it/s]\n",
      "100%|██████████| 17/17 [00:00<00:00, 894.75it/s]\n",
      "100%|██████████| 17/17 [00:00<00:00, 944.45it/s]\n",
      "100%|██████████| 17/17 [00:00<00:00, 894.75it/s]\n",
      "100%|██████████| 17/17 [00:00<00:00, 894.63it/s]\n",
      "100%|██████████| 17/17 [00:00<00:00, 894.73it/s]\n"
     ]
    },
    {
     "name": "stdout",
     "output_type": "stream",
     "text": [
      "Epoch [4861/6000]: Train loss: 1.3294, Valid loss: 1.1521\n"
     ]
    },
    {
     "name": "stderr",
     "output_type": "stream",
     "text": [
      "100%|██████████| 17/17 [00:00<00:00, 894.73it/s]\n",
      "100%|██████████| 17/17 [00:00<00:00, 903.42it/s]\n",
      "100%|██████████| 17/17 [00:00<00:00, 894.73it/s]\n"
     ]
    },
    {
     "name": "stdout",
     "output_type": "stream",
     "text": [
      "Saving model with loss 1.068...\n"
     ]
    },
    {
     "name": "stderr",
     "output_type": "stream",
     "text": [
      "100%|██████████| 17/17 [00:00<00:00, 850.00it/s]\n",
      "100%|██████████| 17/17 [00:00<00:00, 894.75it/s]\n",
      "100%|██████████| 17/17 [00:00<00:00, 894.73it/s]\n",
      "100%|██████████| 17/17 [00:00<00:00, 944.45it/s]\n",
      "100%|██████████| 17/17 [00:00<00:00, 894.75it/s]\n",
      "100%|██████████| 17/17 [00:00<00:00, 894.72it/s]\n",
      "100%|██████████| 17/17 [00:00<00:00, 894.73it/s]\n",
      "100%|██████████| 17/17 [00:00<00:00, 944.45it/s]\n",
      "100%|██████████| 17/17 [00:00<00:00, 894.75it/s]\n",
      "100%|██████████| 17/17 [00:00<00:00, 894.75it/s]\n",
      "100%|██████████| 17/17 [00:00<00:00, 944.43it/s]\n",
      "100%|██████████| 17/17 [00:00<00:00, 894.75it/s]\n",
      "100%|██████████| 17/17 [00:00<00:00, 894.75it/s]\n",
      "100%|██████████| 17/17 [00:00<00:00, 944.44it/s]\n",
      "100%|██████████| 17/17 [00:00<00:00, 894.73it/s]\n",
      "100%|██████████| 17/17 [00:00<00:00, 894.75it/s]\n",
      "100%|██████████| 17/17 [00:00<00:00, 894.73it/s]\n"
     ]
    },
    {
     "name": "stdout",
     "output_type": "stream",
     "text": [
      "Epoch [4881/6000]: Train loss: 1.3293, Valid loss: 1.2173\n"
     ]
    },
    {
     "name": "stderr",
     "output_type": "stream",
     "text": [
      "100%|██████████| 17/17 [00:00<00:00, 894.76it/s]\n",
      "100%|██████████| 17/17 [00:00<00:00, 849.99it/s]\n",
      "100%|██████████| 17/17 [00:00<00:00, 850.00it/s]\n",
      "100%|██████████| 17/17 [00:00<00:00, 894.73it/s]\n",
      "100%|██████████| 17/17 [00:00<00:00, 894.72it/s]\n",
      "100%|██████████| 17/17 [00:00<00:00, 1000.02it/s]\n",
      "100%|██████████| 17/17 [00:00<00:00, 944.45it/s]\n",
      "100%|██████████| 17/17 [00:00<00:00, 952.87it/s]\n",
      "100%|██████████| 17/17 [00:00<00:00, 944.45it/s]\n",
      "100%|██████████| 17/17 [00:00<00:00, 894.73it/s]\n",
      "100%|██████████| 17/17 [00:00<00:00, 944.45it/s]\n",
      "100%|██████████| 17/17 [00:00<00:00, 894.73it/s]\n",
      "100%|██████████| 17/17 [00:00<00:00, 944.44it/s]\n",
      "100%|██████████| 17/17 [00:00<00:00, 944.44it/s]\n",
      "100%|██████████| 17/17 [00:00<00:00, 894.75it/s]\n",
      "100%|██████████| 17/17 [00:00<00:00, 894.76it/s]\n",
      "100%|██████████| 17/17 [00:00<00:00, 1000.00it/s]\n",
      "100%|██████████| 17/17 [00:00<00:00, 944.46it/s]\n",
      "100%|██████████| 17/17 [00:00<00:00, 944.45it/s]\n",
      "100%|██████████| 17/17 [00:00<00:00, 894.75it/s]\n"
     ]
    },
    {
     "name": "stdout",
     "output_type": "stream",
     "text": [
      "Epoch [4901/6000]: Train loss: 1.3256, Valid loss: 1.1624\n"
     ]
    },
    {
     "name": "stderr",
     "output_type": "stream",
     "text": [
      "100%|██████████| 17/17 [00:00<00:00, 944.45it/s]\n",
      "100%|██████████| 17/17 [00:00<00:00, 944.44it/s]\n",
      "100%|██████████| 17/17 [00:00<00:00, 944.45it/s]\n",
      "100%|██████████| 17/17 [00:00<00:00, 944.45it/s]\n",
      "100%|██████████| 17/17 [00:00<00:00, 944.45it/s]\n",
      "100%|██████████| 17/17 [00:00<00:00, 929.25it/s]\n",
      "100%|██████████| 17/17 [00:00<00:00, 944.31it/s]\n",
      "100%|██████████| 17/17 [00:00<00:00, 944.44it/s]\n",
      "100%|██████████| 17/17 [00:00<00:00, 850.00it/s]\n",
      "100%|██████████| 17/17 [00:00<00:00, 944.45it/s]\n",
      "100%|██████████| 17/17 [00:00<00:00, 999.90it/s]\n",
      "100%|██████████| 17/17 [00:00<00:00, 944.50it/s]\n",
      "100%|██████████| 17/17 [00:00<00:00, 894.73it/s]\n",
      "100%|██████████| 17/17 [00:00<00:00, 944.45it/s]\n",
      "100%|██████████| 17/17 [00:00<00:00, 944.46it/s]\n",
      "100%|██████████| 17/17 [00:00<00:00, 1000.00it/s]\n",
      "100%|██████████| 17/17 [00:00<00:00, 944.44it/s]\n",
      "100%|██████████| 17/17 [00:00<00:00, 944.44it/s]\n",
      "100%|██████████| 17/17 [00:00<00:00, 944.43it/s]\n",
      "100%|██████████| 17/17 [00:00<00:00, 944.35it/s]\n"
     ]
    },
    {
     "name": "stdout",
     "output_type": "stream",
     "text": [
      "Epoch [4921/6000]: Train loss: 1.3217, Valid loss: 1.2138\n"
     ]
    },
    {
     "name": "stderr",
     "output_type": "stream",
     "text": [
      "100%|██████████| 17/17 [00:00<00:00, 968.27it/s]\n",
      "100%|██████████| 17/17 [00:00<00:00, 944.45it/s]\n",
      "100%|██████████| 17/17 [00:00<00:00, 944.45it/s]\n",
      "100%|██████████| 17/17 [00:00<00:00, 944.45it/s]\n",
      "100%|██████████| 17/17 [00:00<00:00, 944.43it/s]\n",
      "100%|██████████| 17/17 [00:00<00:00, 944.45it/s]\n",
      "100%|██████████| 17/17 [00:00<00:00, 894.77it/s]\n",
      "100%|██████████| 17/17 [00:00<00:00, 944.45it/s]\n",
      "100%|██████████| 17/17 [00:00<00:00, 944.31it/s]\n",
      "100%|██████████| 17/17 [00:00<00:00, 894.75it/s]\n",
      "100%|██████████| 17/17 [00:00<00:00, 944.46it/s]\n",
      "100%|██████████| 17/17 [00:00<00:00, 944.45it/s]\n",
      "100%|██████████| 17/17 [00:00<00:00, 944.15it/s]\n",
      "100%|██████████| 17/17 [00:00<00:00, 944.46it/s]\n",
      "100%|██████████| 17/17 [00:00<00:00, 1000.00it/s]\n",
      "100%|██████████| 17/17 [00:00<00:00, 944.45it/s]\n",
      "100%|██████████| 17/17 [00:00<00:00, 1000.00it/s]\n",
      "100%|██████████| 17/17 [00:00<00:00, 894.66it/s]\n",
      "100%|██████████| 17/17 [00:00<00:00, 894.75it/s]\n",
      "100%|██████████| 17/17 [00:00<00:00, 944.46it/s]\n"
     ]
    },
    {
     "name": "stdout",
     "output_type": "stream",
     "text": [
      "Epoch [4941/6000]: Train loss: 1.3218, Valid loss: 1.2619\n"
     ]
    },
    {
     "name": "stderr",
     "output_type": "stream",
     "text": [
      "100%|██████████| 17/17 [00:00<00:00, 1000.00it/s]\n",
      "100%|██████████| 17/17 [00:00<00:00, 944.35it/s]\n",
      "100%|██████████| 17/17 [00:00<00:00, 944.44it/s]\n",
      "100%|██████████| 17/17 [00:00<00:00, 894.76it/s]\n",
      "100%|██████████| 17/17 [00:00<00:00, 1000.03it/s]\n",
      "100%|██████████| 17/17 [00:00<00:00, 944.44it/s]\n",
      "100%|██████████| 17/17 [00:00<00:00, 944.34it/s]\n",
      "100%|██████████| 17/17 [00:00<00:00, 944.48it/s]\n",
      "100%|██████████| 17/17 [00:00<00:00, 944.45it/s]\n",
      "100%|██████████| 17/17 [00:00<00:00, 944.44it/s]\n",
      "100%|██████████| 17/17 [00:00<00:00, 999.88it/s]\n",
      "100%|██████████| 17/17 [00:00<00:00, 894.73it/s]\n",
      "100%|██████████| 17/17 [00:00<00:00, 944.45it/s]\n",
      "100%|██████████| 17/17 [00:00<00:00, 1000.00it/s]\n",
      "100%|██████████| 17/17 [00:00<00:00, 944.44it/s]\n",
      "100%|██████████| 17/17 [00:00<00:00, 894.73it/s]\n",
      "100%|██████████| 17/17 [00:00<00:00, 894.75it/s]\n",
      "100%|██████████| 17/17 [00:00<00:00, 944.45it/s]\n",
      "100%|██████████| 17/17 [00:00<00:00, 944.46it/s]\n",
      "100%|██████████| 17/17 [00:00<00:00, 999.86it/s]\n"
     ]
    },
    {
     "name": "stdout",
     "output_type": "stream",
     "text": [
      "Epoch [4961/6000]: Train loss: 1.3178, Valid loss: 1.1468\n"
     ]
    },
    {
     "name": "stderr",
     "output_type": "stream",
     "text": [
      "100%|██████████| 17/17 [00:00<00:00, 944.43it/s]\n",
      "100%|██████████| 17/17 [00:00<00:00, 944.44it/s]\n",
      "100%|██████████| 17/17 [00:00<00:00, 894.73it/s]\n",
      "100%|██████████| 17/17 [00:00<00:00, 944.34it/s]\n",
      "100%|██████████| 17/17 [00:00<00:00, 944.44it/s]\n",
      "100%|██████████| 17/17 [00:00<00:00, 944.45it/s]\n",
      "100%|██████████| 17/17 [00:00<00:00, 850.00it/s]\n",
      "100%|██████████| 17/17 [00:00<00:00, 850.00it/s]\n",
      "100%|██████████| 17/17 [00:00<00:00, 894.71it/s]\n",
      "100%|██████████| 17/17 [00:00<00:00, 850.01it/s]\n",
      "100%|██████████| 17/17 [00:00<00:00, 809.52it/s]\n",
      "100%|██████████| 17/17 [00:00<00:00, 894.73it/s]\n",
      "100%|██████████| 17/17 [00:00<00:00, 849.91it/s]\n",
      "100%|██████████| 17/17 [00:00<00:00, 850.00it/s]\n",
      "100%|██████████| 17/17 [00:00<00:00, 850.01it/s]\n",
      "100%|██████████| 17/17 [00:00<00:00, 894.75it/s]\n",
      "100%|██████████| 17/17 [00:00<00:00, 849.89it/s]\n",
      "100%|██████████| 17/17 [00:00<00:00, 894.75it/s]\n",
      "100%|██████████| 17/17 [00:00<00:00, 850.01it/s]\n",
      "100%|██████████| 17/17 [00:00<00:00, 894.73it/s]\n"
     ]
    },
    {
     "name": "stdout",
     "output_type": "stream",
     "text": [
      "Epoch [4981/6000]: Train loss: 1.3154, Valid loss: 1.1579\n"
     ]
    },
    {
     "name": "stderr",
     "output_type": "stream",
     "text": [
      "100%|██████████| 17/17 [00:00<00:00, 894.63it/s]\n",
      "100%|██████████| 17/17 [00:00<00:00, 894.73it/s]\n",
      "100%|██████████| 17/17 [00:00<00:00, 894.77it/s]\n",
      "100%|██████████| 17/17 [00:00<00:00, 894.72it/s]\n",
      "100%|██████████| 17/17 [00:00<00:00, 894.63it/s]\n",
      "100%|██████████| 17/17 [00:00<00:00, 850.00it/s]\n",
      "100%|██████████| 17/17 [00:00<00:00, 894.75it/s]\n",
      "100%|██████████| 17/17 [00:00<00:00, 894.73it/s]\n",
      "100%|██████████| 17/17 [00:00<00:00, 894.62it/s]\n",
      "100%|██████████| 17/17 [00:00<00:00, 894.72it/s]\n",
      "100%|██████████| 17/17 [00:00<00:00, 894.71it/s]\n",
      "100%|██████████| 17/17 [00:00<00:00, 894.73it/s]\n",
      "100%|██████████| 17/17 [00:00<00:00, 858.03it/s]\n",
      "100%|██████████| 17/17 [00:00<00:00, 894.72it/s]\n",
      "100%|██████████| 17/17 [00:00<00:00, 894.75it/s]\n",
      "100%|██████████| 17/17 [00:00<00:00, 894.71it/s]\n",
      "100%|██████████| 17/17 [00:00<00:00, 894.73it/s]\n",
      "100%|██████████| 17/17 [00:00<00:00, 849.91it/s]\n",
      "100%|██████████| 17/17 [00:00<00:00, 894.73it/s]\n",
      "100%|██████████| 17/17 [00:00<00:00, 894.75it/s]\n"
     ]
    },
    {
     "name": "stdout",
     "output_type": "stream",
     "text": [
      "Epoch [5001/6000]: Train loss: 1.3135, Valid loss: 1.1383\n"
     ]
    },
    {
     "name": "stderr",
     "output_type": "stream",
     "text": [
      "100%|██████████| 17/17 [00:00<00:00, 850.00it/s]\n",
      "100%|██████████| 17/17 [00:00<00:00, 894.62it/s]\n",
      "100%|██████████| 17/17 [00:00<00:00, 894.76it/s]\n",
      "100%|██████████| 17/17 [00:00<00:00, 894.75it/s]\n",
      "100%|██████████| 17/17 [00:00<00:00, 894.75it/s]\n",
      "100%|██████████| 17/17 [00:00<00:00, 849.92it/s]\n",
      "100%|██████████| 17/17 [00:00<00:00, 850.01it/s]\n",
      "100%|██████████| 17/17 [00:00<00:00, 894.73it/s]\n",
      "100%|██████████| 17/17 [00:00<00:00, 894.73it/s]\n",
      "100%|██████████| 17/17 [00:00<00:00, 849.90it/s]\n",
      "100%|██████████| 17/17 [00:00<00:00, 894.71it/s]\n",
      "100%|██████████| 17/17 [00:00<00:00, 850.00it/s]\n",
      "100%|██████████| 17/17 [00:00<00:00, 850.00it/s]\n",
      "100%|██████████| 17/17 [00:00<00:00, 894.64it/s]\n",
      "100%|██████████| 17/17 [00:00<00:00, 894.73it/s]\n",
      "100%|██████████| 17/17 [00:00<00:00, 894.73it/s]\n",
      "100%|██████████| 17/17 [00:00<00:00, 894.73it/s]\n",
      "100%|██████████| 17/17 [00:00<00:00, 894.73it/s]\n",
      "100%|██████████| 17/17 [00:00<00:00, 944.44it/s]\n",
      "100%|██████████| 17/17 [00:00<00:00, 894.75it/s]\n"
     ]
    },
    {
     "name": "stdout",
     "output_type": "stream",
     "text": [
      "Epoch [5021/6000]: Train loss: 1.3102, Valid loss: 1.1627\n"
     ]
    },
    {
     "name": "stderr",
     "output_type": "stream",
     "text": [
      "100%|██████████| 17/17 [00:00<00:00, 850.00it/s]\n",
      "100%|██████████| 17/17 [00:00<00:00, 871.45it/s]\n",
      "100%|██████████| 17/17 [00:00<00:00, 871.45it/s]\n",
      "100%|██████████| 17/17 [00:00<00:00, 850.00it/s]\n",
      "100%|██████████| 17/17 [00:00<00:00, 894.73it/s]\n",
      "100%|██████████| 17/17 [00:00<00:00, 894.73it/s]\n",
      "100%|██████████| 17/17 [00:00<00:00, 894.64it/s]\n",
      "100%|██████████| 17/17 [00:00<00:00, 894.75it/s]\n",
      "100%|██████████| 17/17 [00:00<00:00, 894.75it/s]\n",
      "100%|██████████| 17/17 [00:00<00:00, 894.75it/s]\n",
      "100%|██████████| 17/17 [00:00<00:00, 894.64it/s]\n",
      "100%|██████████| 17/17 [00:00<00:00, 894.73it/s]\n",
      "100%|██████████| 17/17 [00:00<00:00, 894.75it/s]\n",
      "100%|██████████| 17/17 [00:00<00:00, 894.73it/s]\n",
      "100%|██████████| 17/17 [00:00<00:00, 894.63it/s]\n",
      "100%|██████████| 17/17 [00:00<00:00, 894.75it/s]\n",
      "100%|██████████| 17/17 [00:00<00:00, 850.01it/s]\n",
      "100%|██████████| 17/17 [00:00<00:00, 894.75it/s]\n",
      "100%|██████████| 17/17 [00:00<00:00, 894.76it/s]\n",
      "100%|██████████| 17/17 [00:00<00:00, 894.75it/s]\n"
     ]
    },
    {
     "name": "stdout",
     "output_type": "stream",
     "text": [
      "Epoch [5041/6000]: Train loss: 1.3084, Valid loss: 1.0961\n"
     ]
    },
    {
     "name": "stderr",
     "output_type": "stream",
     "text": [
      "100%|██████████| 17/17 [00:00<00:00, 894.73it/s]\n",
      "100%|██████████| 17/17 [00:00<00:00, 894.73it/s]\n",
      "100%|██████████| 17/17 [00:00<00:00, 894.75it/s]\n",
      "100%|██████████| 17/17 [00:00<00:00, 894.63it/s]\n",
      "100%|██████████| 17/17 [00:00<00:00, 894.73it/s]\n",
      "100%|██████████| 17/17 [00:00<00:00, 894.75it/s]\n",
      "100%|██████████| 17/17 [00:00<00:00, 894.75it/s]\n",
      "100%|██████████| 17/17 [00:00<00:00, 849.90it/s]\n",
      "100%|██████████| 17/17 [00:00<00:00, 894.75it/s]\n",
      "100%|██████████| 17/17 [00:00<00:00, 894.75it/s]\n",
      "100%|██████████| 17/17 [00:00<00:00, 944.45it/s]\n",
      "100%|██████████| 17/17 [00:00<00:00, 894.66it/s]\n",
      "100%|██████████| 17/17 [00:00<00:00, 894.75it/s]\n",
      "100%|██████████| 17/17 [00:00<00:00, 894.73it/s]\n",
      "100%|██████████| 17/17 [00:00<00:00, 894.73it/s]\n",
      "100%|██████████| 17/17 [00:00<00:00, 894.66it/s]\n",
      "100%|██████████| 17/17 [00:00<00:00, 849.98it/s]\n",
      "100%|██████████| 17/17 [00:00<00:00, 894.75it/s]\n",
      "100%|██████████| 17/17 [00:00<00:00, 894.75it/s]\n",
      "100%|██████████| 17/17 [00:00<00:00, 894.64it/s]\n"
     ]
    },
    {
     "name": "stdout",
     "output_type": "stream",
     "text": [
      "Epoch [5061/6000]: Train loss: 1.3074, Valid loss: 1.1730\n"
     ]
    },
    {
     "name": "stderr",
     "output_type": "stream",
     "text": [
      "100%|██████████| 17/17 [00:00<00:00, 894.73it/s]\n",
      "100%|██████████| 17/17 [00:00<00:00, 894.75it/s]\n",
      "100%|██████████| 17/17 [00:00<00:00, 894.73it/s]\n",
      "100%|██████████| 17/17 [00:00<00:00, 894.73it/s]\n",
      "100%|██████████| 17/17 [00:00<00:00, 850.01it/s]\n",
      "100%|██████████| 17/17 [00:00<00:00, 850.00it/s]\n",
      "100%|██████████| 17/17 [00:00<00:00, 894.72it/s]\n",
      "100%|██████████| 17/17 [00:00<00:00, 894.73it/s]\n",
      "100%|██████████| 17/17 [00:00<00:00, 894.63it/s]\n",
      "100%|██████████| 17/17 [00:00<00:00, 894.75it/s]\n",
      "100%|██████████| 17/17 [00:00<00:00, 894.75it/s]\n",
      "100%|██████████| 17/17 [00:00<00:00, 850.01it/s]\n",
      "100%|██████████| 17/17 [00:00<00:00, 894.61it/s]\n",
      "100%|██████████| 17/17 [00:00<00:00, 894.73it/s]\n",
      "100%|██████████| 17/17 [00:00<00:00, 894.73it/s]\n",
      "100%|██████████| 17/17 [00:00<00:00, 894.73it/s]\n",
      "100%|██████████| 17/17 [00:00<00:00, 850.30it/s]\n",
      "100%|██████████| 17/17 [00:00<00:00, 894.75it/s]\n",
      "100%|██████████| 17/17 [00:00<00:00, 894.75it/s]\n",
      "100%|██████████| 17/17 [00:00<00:00, 894.75it/s]\n"
     ]
    },
    {
     "name": "stdout",
     "output_type": "stream",
     "text": [
      "Epoch [5081/6000]: Train loss: 1.3061, Valid loss: 1.1804\n"
     ]
    },
    {
     "name": "stderr",
     "output_type": "stream",
     "text": [
      "100%|██████████| 17/17 [00:00<00:00, 894.63it/s]\n",
      "100%|██████████| 17/17 [00:00<00:00, 894.72it/s]\n",
      "100%|██████████| 17/17 [00:00<00:00, 894.73it/s]\n",
      "100%|██████████| 17/17 [00:00<00:00, 894.75it/s]\n",
      "100%|██████████| 17/17 [00:00<00:00, 849.91it/s]\n",
      "100%|██████████| 17/17 [00:00<00:00, 894.73it/s]\n",
      "100%|██████████| 17/17 [00:00<00:00, 849.99it/s]\n",
      "100%|██████████| 17/17 [00:00<00:00, 850.00it/s]\n",
      "100%|██████████| 17/17 [00:00<00:00, 1000.00it/s]\n",
      "100%|██████████| 17/17 [00:00<00:00, 894.76it/s]\n",
      "100%|██████████| 17/17 [00:00<00:00, 944.44it/s]\n",
      "100%|██████████| 17/17 [00:00<00:00, 944.46it/s]\n",
      "100%|██████████| 17/17 [00:00<00:00, 944.44it/s]\n",
      "100%|██████████| 17/17 [00:00<00:00, 944.33it/s]\n",
      "100%|██████████| 17/17 [00:00<00:00, 944.45it/s]\n",
      "100%|██████████| 17/17 [00:00<00:00, 944.46it/s]\n",
      "100%|██████████| 17/17 [00:00<00:00, 944.44it/s]\n",
      "100%|██████████| 17/17 [00:00<00:00, 944.33it/s]\n",
      "100%|██████████| 17/17 [00:00<00:00, 1000.00it/s]\n",
      "100%|██████████| 17/17 [00:00<00:00, 1000.00it/s]\n"
     ]
    },
    {
     "name": "stdout",
     "output_type": "stream",
     "text": [
      "Epoch [5101/6000]: Train loss: 1.3025, Valid loss: 1.2036\n"
     ]
    },
    {
     "name": "stderr",
     "output_type": "stream",
     "text": [
      "100%|██████████| 17/17 [00:00<00:00, 944.46it/s]\n",
      "100%|██████████| 17/17 [00:00<00:00, 944.45it/s]\n",
      "100%|██████████| 17/17 [00:00<00:00, 894.57it/s]\n",
      "100%|██████████| 17/17 [00:00<00:00, 944.44it/s]\n",
      "100%|██████████| 17/17 [00:00<00:00, 999.97it/s]\n",
      "100%|██████████| 17/17 [00:00<00:00, 944.46it/s]\n",
      "100%|██████████| 17/17 [00:00<00:00, 999.88it/s]\n",
      "100%|██████████| 17/17 [00:00<00:00, 894.73it/s]\n",
      "100%|██████████| 17/17 [00:00<00:00, 894.75it/s]\n",
      "100%|██████████| 17/17 [00:00<00:00, 944.45it/s]\n",
      "100%|██████████| 17/17 [00:00<00:00, 944.44it/s]\n",
      "100%|██████████| 17/17 [00:00<00:00, 944.34it/s]\n",
      "100%|██████████| 17/17 [00:00<00:00, 944.43it/s]\n",
      "100%|██████████| 17/17 [00:00<00:00, 1000.00it/s]\n",
      "100%|██████████| 17/17 [00:00<00:00, 944.44it/s]\n",
      "100%|██████████| 17/17 [00:00<00:00, 944.34it/s]\n",
      "100%|██████████| 17/17 [00:00<00:00, 944.46it/s]\n",
      "100%|██████████| 17/17 [00:00<00:00, 894.73it/s]\n",
      "100%|██████████| 17/17 [00:00<00:00, 944.45it/s]\n",
      "100%|██████████| 17/17 [00:00<00:00, 1000.00it/s]\n"
     ]
    },
    {
     "name": "stdout",
     "output_type": "stream",
     "text": [
      "Epoch [5121/6000]: Train loss: 1.3011, Valid loss: 1.1833\n"
     ]
    },
    {
     "name": "stderr",
     "output_type": "stream",
     "text": [
      "100%|██████████| 17/17 [00:00<00:00, 905.97it/s]\n",
      "100%|██████████| 17/17 [00:00<00:00, 944.44it/s]\n",
      "100%|██████████| 17/17 [00:00<00:00, 944.44it/s]\n",
      "100%|██████████| 17/17 [00:00<00:00, 979.37it/s]\n",
      "100%|██████████| 17/17 [00:00<00:00, 894.64it/s]\n",
      "100%|██████████| 17/17 [00:00<00:00, 1000.00it/s]\n",
      "100%|██████████| 17/17 [00:00<00:00, 818.41it/s]\n",
      "100%|██████████| 17/17 [00:00<00:00, 944.45it/s]\n",
      "100%|██████████| 17/17 [00:00<00:00, 918.61it/s]\n",
      "100%|██████████| 17/17 [00:00<00:00, 965.44it/s]\n",
      "100%|██████████| 17/17 [00:00<00:00, 944.45it/s]\n",
      "100%|██████████| 17/17 [00:00<00:00, 944.45it/s]\n",
      "100%|██████████| 17/17 [00:00<00:00, 944.44it/s]\n",
      "100%|██████████| 17/17 [00:00<00:00, 871.43it/s]\n",
      "100%|██████████| 17/17 [00:00<00:00, 944.45it/s]\n",
      "100%|██████████| 17/17 [00:00<00:00, 944.46it/s]\n",
      "100%|██████████| 17/17 [00:00<00:00, 1000.00it/s]\n",
      "100%|██████████| 17/17 [00:00<00:00, 1000.00it/s]\n",
      "100%|██████████| 17/17 [00:00<00:00, 894.72it/s]\n",
      "100%|██████████| 17/17 [00:00<00:00, 944.46it/s]\n"
     ]
    },
    {
     "name": "stdout",
     "output_type": "stream",
     "text": [
      "Epoch [5141/6000]: Train loss: 1.2983, Valid loss: 1.2428\n"
     ]
    },
    {
     "name": "stderr",
     "output_type": "stream",
     "text": [
      "100%|██████████| 17/17 [00:00<00:00, 849.99it/s]\n",
      "100%|██████████| 17/17 [00:00<00:00, 1000.00it/s]\n"
     ]
    },
    {
     "name": "stdout",
     "output_type": "stream",
     "text": [
      "Saving model with loss 1.066...\n"
     ]
    },
    {
     "name": "stderr",
     "output_type": "stream",
     "text": [
      "100%|██████████| 17/17 [00:00<00:00, 944.45it/s]\n",
      "100%|██████████| 17/17 [00:00<00:00, 944.45it/s]\n",
      "100%|██████████| 17/17 [00:00<00:00, 944.44it/s]\n",
      "100%|██████████| 17/17 [00:00<00:00, 944.45it/s]\n",
      "100%|██████████| 17/17 [00:00<00:00, 944.46it/s]\n",
      "100%|██████████| 17/17 [00:00<00:00, 1000.00it/s]\n",
      "100%|██████████| 17/17 [00:00<00:00, 944.45it/s]\n",
      "100%|██████████| 17/17 [00:00<00:00, 944.45it/s]\n",
      "100%|██████████| 17/17 [00:00<00:00, 944.46it/s]\n",
      "100%|██████████| 17/17 [00:00<00:00, 944.46it/s]\n",
      "100%|██████████| 17/17 [00:00<00:00, 944.44it/s]\n",
      "100%|██████████| 17/17 [00:00<00:00, 944.46it/s]\n",
      "100%|██████████| 17/17 [00:00<00:00, 894.75it/s]\n",
      "100%|██████████| 17/17 [00:00<00:00, 1000.00it/s]\n",
      "100%|██████████| 17/17 [00:00<00:00, 1000.00it/s]\n",
      "100%|██████████| 17/17 [00:00<00:00, 944.48it/s]\n",
      "100%|██████████| 17/17 [00:00<00:00, 944.44it/s]\n",
      "100%|██████████| 17/17 [00:00<00:00, 894.75it/s]\n"
     ]
    },
    {
     "name": "stdout",
     "output_type": "stream",
     "text": [
      "Epoch [5161/6000]: Train loss: 1.2954, Valid loss: 1.4288\n"
     ]
    },
    {
     "name": "stderr",
     "output_type": "stream",
     "text": [
      "100%|██████████| 17/17 [00:00<00:00, 894.73it/s]\n",
      "100%|██████████| 17/17 [00:00<00:00, 944.49it/s]\n",
      "100%|██████████| 17/17 [00:00<00:00, 944.46it/s]\n",
      "100%|██████████| 17/17 [00:00<00:00, 944.44it/s]\n",
      "100%|██████████| 17/17 [00:00<00:00, 873.73it/s]\n",
      "100%|██████████| 17/17 [00:00<00:00, 944.44it/s]\n",
      "100%|██████████| 17/17 [00:00<00:00, 944.45it/s]\n"
     ]
    },
    {
     "name": "stdout",
     "output_type": "stream",
     "text": [
      "Saving model with loss 1.059...\n"
     ]
    },
    {
     "name": "stderr",
     "output_type": "stream",
     "text": [
      "100%|██████████| 17/17 [00:00<00:00, 944.45it/s]\n",
      "100%|██████████| 17/17 [00:00<00:00, 971.04it/s]\n",
      "100%|██████████| 17/17 [00:00<00:00, 944.44it/s]\n",
      "100%|██████████| 17/17 [00:00<00:00, 944.44it/s]\n",
      "100%|██████████| 17/17 [00:00<00:00, 944.45it/s]\n",
      "100%|██████████| 17/17 [00:00<00:00, 894.75it/s]\n",
      "100%|██████████| 17/17 [00:00<00:00, 916.88it/s]\n",
      "100%|██████████| 17/17 [00:00<00:00, 944.44it/s]\n",
      "100%|██████████| 17/17 [00:00<00:00, 894.73it/s]\n",
      "100%|██████████| 17/17 [00:00<00:00, 944.44it/s]\n",
      "100%|██████████| 17/17 [00:00<00:00, 971.06it/s]\n",
      "100%|██████████| 17/17 [00:00<00:00, 1000.02it/s]\n",
      "100%|██████████| 17/17 [00:00<00:00, 894.73it/s]\n"
     ]
    },
    {
     "name": "stdout",
     "output_type": "stream",
     "text": [
      "Epoch [5181/6000]: Train loss: 1.2959, Valid loss: 1.0493\n",
      "Saving model with loss 1.049...\n"
     ]
    },
    {
     "name": "stderr",
     "output_type": "stream",
     "text": [
      "100%|██████████| 17/17 [00:00<00:00, 894.75it/s]\n",
      "100%|██████████| 17/17 [00:00<00:00, 999.99it/s]\n",
      "100%|██████████| 17/17 [00:00<00:00, 938.94it/s]\n",
      "100%|██████████| 17/17 [00:00<00:00, 944.45it/s]\n",
      "100%|██████████| 17/17 [00:00<00:00, 894.75it/s]\n",
      "100%|██████████| 17/17 [00:00<00:00, 944.45it/s]\n",
      "100%|██████████| 17/17 [00:00<00:00, 944.44it/s]\n",
      "100%|██████████| 17/17 [00:00<00:00, 944.45it/s]\n",
      "100%|██████████| 17/17 [00:00<00:00, 944.45it/s]\n",
      "100%|██████████| 17/17 [00:00<00:00, 894.72it/s]\n",
      "100%|██████████| 17/17 [00:00<00:00, 944.45it/s]\n",
      "100%|██████████| 17/17 [00:00<00:00, 894.75it/s]\n",
      "100%|██████████| 17/17 [00:00<00:00, 999.97it/s]\n",
      "100%|██████████| 17/17 [00:00<00:00, 894.75it/s]\n",
      "100%|██████████| 17/17 [00:00<00:00, 1000.00it/s]\n",
      "100%|██████████| 17/17 [00:00<00:00, 894.76it/s]\n",
      "100%|██████████| 17/17 [00:00<00:00, 828.95it/s]\n",
      "100%|██████████| 17/17 [00:00<00:00, 894.73it/s]\n",
      "100%|██████████| 17/17 [00:00<00:00, 894.71it/s]\n",
      "100%|██████████| 17/17 [00:00<00:00, 871.50it/s]\n"
     ]
    },
    {
     "name": "stdout",
     "output_type": "stream",
     "text": [
      "Epoch [5201/6000]: Train loss: 1.2925, Valid loss: 1.1170\n"
     ]
    },
    {
     "name": "stderr",
     "output_type": "stream",
     "text": [
      "100%|██████████| 17/17 [00:00<00:00, 944.46it/s]\n",
      "100%|██████████| 17/17 [00:00<00:00, 1000.02it/s]\n",
      "100%|██████████| 17/17 [00:00<00:00, 944.44it/s]\n",
      "100%|██████████| 17/17 [00:00<00:00, 954.63it/s]\n",
      "100%|██████████| 17/17 [00:00<00:00, 958.32it/s]\n",
      "100%|██████████| 17/17 [00:00<00:00, 944.45it/s]\n",
      "100%|██████████| 17/17 [00:00<00:00, 894.73it/s]\n",
      "100%|██████████| 17/17 [00:00<00:00, 944.46it/s]\n",
      "100%|██████████| 17/17 [00:00<00:00, 970.96it/s]\n",
      "100%|██████████| 17/17 [00:00<00:00, 944.45it/s]\n"
     ]
    },
    {
     "name": "stdout",
     "output_type": "stream",
     "text": [
      "Saving model with loss 1.044...\n"
     ]
    },
    {
     "name": "stderr",
     "output_type": "stream",
     "text": [
      "100%|██████████| 17/17 [00:00<00:00, 944.45it/s]\n",
      "100%|██████████| 17/17 [00:00<00:00, 894.75it/s]\n",
      "100%|██████████| 17/17 [00:00<00:00, 944.45it/s]\n",
      "100%|██████████| 17/17 [00:00<00:00, 944.44it/s]\n",
      "100%|██████████| 17/17 [00:00<00:00, 894.71it/s]\n",
      "100%|██████████| 17/17 [00:00<00:00, 849.99it/s]\n",
      "100%|██████████| 17/17 [00:00<00:00, 894.72it/s]\n",
      "100%|██████████| 17/17 [00:00<00:00, 944.44it/s]\n",
      "100%|██████████| 17/17 [00:00<00:00, 884.00it/s]\n",
      "100%|██████████| 17/17 [00:00<00:00, 772.72it/s]\n"
     ]
    },
    {
     "name": "stdout",
     "output_type": "stream",
     "text": [
      "Epoch [5221/6000]: Train loss: 1.2909, Valid loss: 1.1229\n"
     ]
    },
    {
     "name": "stderr",
     "output_type": "stream",
     "text": [
      "100%|██████████| 17/17 [00:00<00:00, 894.75it/s]\n",
      "100%|██████████| 17/17 [00:00<00:00, 894.73it/s]\n",
      "100%|██████████| 17/17 [00:00<00:00, 894.73it/s]\n",
      "100%|██████████| 17/17 [00:00<00:00, 894.73it/s]\n",
      "100%|██████████| 17/17 [00:00<00:00, 894.75it/s]\n",
      "100%|██████████| 17/17 [00:00<00:00, 894.73it/s]\n",
      "100%|██████████| 17/17 [00:00<00:00, 894.73it/s]\n",
      "100%|██████████| 17/17 [00:00<00:00, 895.49it/s]\n",
      "100%|██████████| 17/17 [00:00<00:00, 779.33it/s]\n",
      "100%|██████████| 17/17 [00:00<00:00, 809.53it/s]\n",
      "100%|██████████| 17/17 [00:00<00:00, 894.73it/s]\n",
      "100%|██████████| 17/17 [00:00<00:00, 894.72it/s]\n",
      "100%|██████████| 17/17 [00:00<00:00, 944.45it/s]\n",
      "100%|██████████| 17/17 [00:00<00:00, 894.73it/s]\n",
      "100%|██████████| 17/17 [00:00<00:00, 850.01it/s]\n",
      "100%|██████████| 17/17 [00:00<00:00, 850.01it/s]\n",
      "100%|██████████| 17/17 [00:00<00:00, 883.25it/s]\n",
      "100%|██████████| 17/17 [00:00<00:00, 894.73it/s]\n",
      "100%|██████████| 17/17 [00:00<00:00, 809.52it/s]\n",
      "100%|██████████| 17/17 [00:00<00:00, 894.75it/s]\n"
     ]
    },
    {
     "name": "stdout",
     "output_type": "stream",
     "text": [
      "Epoch [5241/6000]: Train loss: 1.2854, Valid loss: 1.4656\n"
     ]
    },
    {
     "name": "stderr",
     "output_type": "stream",
     "text": [
      "100%|██████████| 17/17 [00:00<00:00, 850.00it/s]\n",
      "100%|██████████| 17/17 [00:00<00:00, 894.75it/s]\n",
      "100%|██████████| 17/17 [00:00<00:00, 894.71it/s]\n",
      "100%|██████████| 17/17 [00:00<00:00, 894.73it/s]\n",
      "100%|██████████| 17/17 [00:00<00:00, 894.75it/s]\n",
      "100%|██████████| 17/17 [00:00<00:00, 944.44it/s]\n",
      "100%|██████████| 17/17 [00:00<00:00, 894.75it/s]\n",
      "100%|██████████| 17/17 [00:00<00:00, 944.44it/s]\n",
      "100%|██████████| 17/17 [00:00<00:00, 850.01it/s]\n",
      "100%|██████████| 17/17 [00:00<00:00, 894.73it/s]\n",
      "100%|██████████| 17/17 [00:00<00:00, 891.08it/s]\n",
      "100%|██████████| 17/17 [00:00<00:00, 827.43it/s]\n",
      "100%|██████████| 17/17 [00:00<00:00, 894.73it/s]\n",
      "100%|██████████| 17/17 [00:00<00:00, 894.72it/s]\n",
      "100%|██████████| 17/17 [00:00<00:00, 894.75it/s]\n",
      "100%|██████████| 17/17 [00:00<00:00, 894.75it/s]\n",
      "100%|██████████| 17/17 [00:00<00:00, 850.00it/s]\n"
     ]
    },
    {
     "name": "stdout",
     "output_type": "stream",
     "text": [
      "Saving model with loss 1.024...\n"
     ]
    },
    {
     "name": "stderr",
     "output_type": "stream",
     "text": [
      "100%|██████████| 17/17 [00:00<00:00, 850.00it/s]\n",
      "100%|██████████| 17/17 [00:00<00:00, 894.73it/s]\n",
      "100%|██████████| 17/17 [00:00<00:00, 894.72it/s]\n"
     ]
    },
    {
     "name": "stdout",
     "output_type": "stream",
     "text": [
      "Epoch [5261/6000]: Train loss: 1.2880, Valid loss: 1.0387\n"
     ]
    },
    {
     "name": "stderr",
     "output_type": "stream",
     "text": [
      "100%|██████████| 17/17 [00:00<00:00, 869.12it/s]\n",
      "100%|██████████| 17/17 [00:00<00:00, 845.47it/s]\n",
      "100%|██████████| 17/17 [00:00<00:00, 772.72it/s]\n",
      "100%|██████████| 17/17 [00:00<00:00, 674.50it/s]\n",
      "100%|██████████| 17/17 [00:00<00:00, 809.53it/s]\n",
      "100%|██████████| 17/17 [00:00<00:00, 849.99it/s]\n",
      "100%|██████████| 17/17 [00:00<00:00, 850.00it/s]\n",
      "100%|██████████| 17/17 [00:00<00:00, 850.00it/s]\n",
      "100%|██████████| 17/17 [00:00<00:00, 809.51it/s]\n",
      "100%|██████████| 17/17 [00:00<00:00, 894.73it/s]\n",
      "100%|██████████| 17/17 [00:00<00:00, 894.75it/s]\n",
      "100%|██████████| 17/17 [00:00<00:00, 850.01it/s]\n",
      "100%|██████████| 17/17 [00:00<00:00, 850.00it/s]\n",
      "100%|██████████| 17/17 [00:00<00:00, 820.60it/s]\n",
      "100%|██████████| 17/17 [00:00<00:00, 944.46it/s]\n",
      "100%|██████████| 17/17 [00:00<00:00, 809.52it/s]\n",
      "100%|██████████| 17/17 [00:00<00:00, 874.28it/s]\n",
      "100%|██████████| 17/17 [00:00<00:00, 868.70it/s]\n",
      "100%|██████████| 17/17 [00:00<00:00, 829.36it/s]\n",
      "100%|██████████| 17/17 [00:00<00:00, 854.25it/s]\n"
     ]
    },
    {
     "name": "stdout",
     "output_type": "stream",
     "text": [
      "Epoch [5281/6000]: Train loss: 1.2838, Valid loss: 1.1385\n"
     ]
    },
    {
     "name": "stderr",
     "output_type": "stream",
     "text": [
      "100%|██████████| 17/17 [00:00<00:00, 909.60it/s]\n",
      "100%|██████████| 17/17 [00:00<00:00, 894.67it/s]\n",
      "100%|██████████| 17/17 [00:00<00:00, 871.30it/s]\n",
      "100%|██████████| 17/17 [00:00<00:00, 894.64it/s]\n",
      "100%|██████████| 17/17 [00:00<00:00, 918.49it/s]\n",
      "100%|██████████| 17/17 [00:00<00:00, 918.59it/s]\n",
      "100%|██████████| 17/17 [00:00<00:00, 894.75it/s]\n",
      "100%|██████████| 17/17 [00:00<00:00, 849.99it/s]\n",
      "100%|██████████| 17/17 [00:00<00:00, 894.63it/s]\n",
      "100%|██████████| 17/17 [00:00<00:00, 849.90it/s]\n",
      "100%|██████████| 17/17 [00:00<00:00, 871.50it/s]\n",
      "100%|██████████| 17/17 [00:00<00:00, 894.75it/s]\n",
      "100%|██████████| 17/17 [00:00<00:00, 871.24it/s]\n",
      "100%|██████████| 17/17 [00:00<00:00, 809.55it/s]\n",
      "100%|██████████| 17/17 [00:00<00:00, 894.76it/s]\n",
      "100%|██████████| 17/17 [00:00<00:00, 894.73it/s]\n",
      "100%|██████████| 17/17 [00:00<00:00, 849.35it/s]\n",
      "100%|██████████| 17/17 [00:00<00:00, 894.76it/s]\n",
      "100%|██████████| 17/17 [00:00<00:00, 894.75it/s]\n",
      "100%|██████████| 17/17 [00:00<00:00, 894.66it/s]\n"
     ]
    },
    {
     "name": "stdout",
     "output_type": "stream",
     "text": [
      "Epoch [5301/6000]: Train loss: 1.2828, Valid loss: 1.4651\n"
     ]
    },
    {
     "name": "stderr",
     "output_type": "stream",
     "text": [
      "100%|██████████| 17/17 [00:00<00:00, 849.92it/s]\n",
      "100%|██████████| 17/17 [00:00<00:00, 918.70it/s]\n",
      "100%|██████████| 17/17 [00:00<00:00, 894.73it/s]\n",
      "100%|██████████| 17/17 [00:00<00:00, 944.45it/s]\n",
      "100%|██████████| 17/17 [00:00<00:00, 894.61it/s]\n",
      "100%|██████████| 17/17 [00:00<00:00, 894.63it/s]\n",
      "100%|██████████| 17/17 [00:00<00:00, 918.61it/s]\n",
      "100%|██████████| 17/17 [00:00<00:00, 894.75it/s]\n",
      "100%|██████████| 17/17 [00:00<00:00, 849.98it/s]\n",
      "100%|██████████| 17/17 [00:00<00:00, 894.73it/s]\n",
      "100%|██████████| 17/17 [00:00<00:00, 894.63it/s]\n",
      "100%|██████████| 17/17 [00:00<00:00, 918.46it/s]\n",
      "100%|██████████| 17/17 [00:00<00:00, 850.12it/s]\n",
      "100%|██████████| 17/17 [00:00<00:00, 850.01it/s]\n",
      "100%|██████████| 17/17 [00:00<00:00, 894.67it/s]\n",
      "100%|██████████| 17/17 [00:00<00:00, 894.66it/s]\n",
      "100%|██████████| 17/17 [00:00<00:00, 871.39it/s]\n",
      "100%|██████████| 17/17 [00:00<00:00, 850.14it/s]\n",
      "100%|██████████| 17/17 [00:00<00:00, 894.72it/s]\n",
      "100%|██████████| 17/17 [00:00<00:00, 944.44it/s]\n"
     ]
    },
    {
     "name": "stdout",
     "output_type": "stream",
     "text": [
      "Epoch [5321/6000]: Train loss: 1.2804, Valid loss: 1.1289\n"
     ]
    },
    {
     "name": "stderr",
     "output_type": "stream",
     "text": [
      "100%|██████████| 17/17 [00:00<00:00, 894.63it/s]\n",
      "100%|██████████| 17/17 [00:00<00:00, 871.56it/s]\n",
      "100%|██████████| 17/17 [00:00<00:00, 850.00it/s]\n",
      "100%|██████████| 17/17 [00:00<00:00, 894.73it/s]\n",
      "100%|██████████| 17/17 [00:00<00:00, 850.00it/s]\n",
      "100%|██████████| 17/17 [00:00<00:00, 849.87it/s]\n",
      "100%|██████████| 17/17 [00:00<00:00, 871.66it/s]\n",
      "100%|██████████| 17/17 [00:00<00:00, 894.75it/s]\n",
      "100%|██████████| 17/17 [00:00<00:00, 944.45it/s]\n",
      "100%|██████████| 17/17 [00:00<00:00, 894.73it/s]\n",
      "100%|██████████| 17/17 [00:00<00:00, 889.77it/s]\n",
      "100%|██████████| 17/17 [00:00<00:00, 849.94it/s]\n",
      "100%|██████████| 17/17 [00:00<00:00, 918.58it/s]\n",
      "100%|██████████| 17/17 [00:00<00:00, 894.72it/s]\n",
      "100%|██████████| 17/17 [00:00<00:00, 894.76it/s]\n",
      "100%|██████████| 17/17 [00:00<00:00, 918.59it/s]\n",
      "100%|██████████| 17/17 [00:00<00:00, 894.55it/s]\n",
      "100%|██████████| 17/17 [00:00<00:00, 871.49it/s]\n",
      "100%|██████████| 17/17 [00:00<00:00, 849.99it/s]\n",
      "100%|██████████| 17/17 [00:00<00:00, 849.91it/s]\n"
     ]
    },
    {
     "name": "stdout",
     "output_type": "stream",
     "text": [
      "Epoch [5341/6000]: Train loss: 1.2764, Valid loss: 1.1125\n"
     ]
    },
    {
     "name": "stderr",
     "output_type": "stream",
     "text": [
      "100%|██████████| 17/17 [00:00<00:00, 894.07it/s]\n",
      "100%|██████████| 17/17 [00:00<00:00, 894.73it/s]\n",
      "100%|██████████| 17/17 [00:00<00:00, 894.75it/s]\n",
      "100%|██████████| 17/17 [00:00<00:00, 894.54it/s]\n",
      "100%|██████████| 17/17 [00:00<00:00, 849.92it/s]\n",
      "100%|██████████| 17/17 [00:00<00:00, 894.05it/s]\n",
      "100%|██████████| 17/17 [00:00<00:00, 894.72it/s]\n",
      "100%|██████████| 17/17 [00:00<00:00, 849.69it/s]\n",
      "100%|██████████| 17/17 [00:00<00:00, 849.93it/s]\n",
      "100%|██████████| 17/17 [00:00<00:00, 849.91it/s]\n",
      "100%|██████████| 17/17 [00:00<00:00, 871.50it/s]\n",
      "100%|██████████| 17/17 [00:00<00:00, 894.75it/s]\n",
      "100%|██████████| 17/17 [00:00<00:00, 850.02it/s]\n",
      "100%|██████████| 17/17 [00:00<00:00, 894.67it/s]\n",
      "100%|██████████| 17/17 [00:00<00:00, 894.64it/s]\n",
      "100%|██████████| 17/17 [00:00<00:00, 871.52it/s]\n",
      "100%|██████████| 17/17 [00:00<00:00, 944.44it/s]\n",
      "100%|██████████| 17/17 [00:00<00:00, 809.51it/s]\n",
      "100%|██████████| 17/17 [00:00<00:00, 849.91it/s]\n",
      "100%|██████████| 17/17 [00:00<00:00, 849.87it/s]\n"
     ]
    },
    {
     "name": "stdout",
     "output_type": "stream",
     "text": [
      "Epoch [5361/6000]: Train loss: 1.2759, Valid loss: 1.1616\n"
     ]
    },
    {
     "name": "stderr",
     "output_type": "stream",
     "text": [
      "100%|██████████| 17/17 [00:00<00:00, 871.50it/s]\n",
      "100%|██████████| 17/17 [00:00<00:00, 809.52it/s]\n",
      "100%|██████████| 17/17 [00:00<00:00, 894.75it/s]\n",
      "100%|██████████| 17/17 [00:00<00:00, 849.90it/s]\n",
      "100%|██████████| 17/17 [00:00<00:00, 892.24it/s]\n",
      "100%|██████████| 17/17 [00:00<00:00, 943.70it/s]\n",
      "100%|██████████| 17/17 [00:00<00:00, 850.02it/s]\n",
      "100%|██████████| 17/17 [00:00<00:00, 894.75it/s]\n",
      "100%|██████████| 17/17 [00:00<00:00, 894.64it/s]\n",
      "100%|██████████| 17/17 [00:00<00:00, 894.50it/s]\n",
      "100%|██████████| 17/17 [00:00<00:00, 894.11it/s]\n",
      "100%|██████████| 17/17 [00:00<00:00, 894.75it/s]\n",
      "100%|██████████| 17/17 [00:00<00:00, 894.66it/s]\n",
      "100%|██████████| 17/17 [00:00<00:00, 850.00it/s]\n",
      "100%|██████████| 17/17 [00:00<00:00, 894.76it/s]\n",
      "100%|██████████| 17/17 [00:00<00:00, 903.01it/s]\n",
      "100%|██████████| 17/17 [00:00<00:00, 894.72it/s]\n",
      "100%|██████████| 17/17 [00:00<00:00, 894.72it/s]\n",
      "100%|██████████| 17/17 [00:00<00:00, 894.73it/s]\n",
      "100%|██████████| 17/17 [00:00<00:00, 850.21it/s]\n"
     ]
    },
    {
     "name": "stdout",
     "output_type": "stream",
     "text": [
      "Epoch [5381/6000]: Train loss: 1.2742, Valid loss: 1.0726\n"
     ]
    },
    {
     "name": "stderr",
     "output_type": "stream",
     "text": [
      "100%|██████████| 17/17 [00:00<00:00, 808.99it/s]\n",
      "100%|██████████| 17/17 [00:00<00:00, 894.73it/s]\n",
      "100%|██████████| 17/17 [00:00<00:00, 850.03it/s]\n",
      "100%|██████████| 17/17 [00:00<00:00, 894.73it/s]\n",
      "100%|██████████| 17/17 [00:00<00:00, 894.64it/s]\n",
      "100%|██████████| 17/17 [00:00<00:00, 871.49it/s]\n",
      "100%|██████████| 17/17 [00:00<00:00, 894.75it/s]\n",
      "100%|██████████| 17/17 [00:00<00:00, 850.01it/s]\n",
      "100%|██████████| 17/17 [00:00<00:00, 828.88it/s]\n",
      "100%|██████████| 17/17 [00:00<00:00, 876.55it/s]\n",
      "100%|██████████| 17/17 [00:00<00:00, 849.36it/s]\n",
      "100%|██████████| 17/17 [00:00<00:00, 894.73it/s]\n",
      "100%|██████████| 17/17 [00:00<00:00, 772.72it/s]\n",
      "100%|██████████| 17/17 [00:00<00:00, 772.53it/s]\n",
      "100%|██████████| 17/17 [00:00<00:00, 856.70it/s]\n",
      "100%|██████████| 17/17 [00:00<00:00, 894.76it/s]\n",
      "100%|██████████| 17/17 [00:00<00:00, 894.76it/s]\n",
      "100%|██████████| 17/17 [00:00<00:00, 894.68it/s]\n",
      "100%|██████████| 17/17 [00:00<00:00, 895.03it/s]\n",
      "100%|██████████| 17/17 [00:00<00:00, 858.75it/s]\n"
     ]
    },
    {
     "name": "stdout",
     "output_type": "stream",
     "text": [
      "Epoch [5401/6000]: Train loss: 1.2711, Valid loss: 1.1788\n"
     ]
    },
    {
     "name": "stderr",
     "output_type": "stream",
     "text": [
      "100%|██████████| 17/17 [00:00<00:00, 849.99it/s]\n",
      "100%|██████████| 17/17 [00:00<00:00, 849.91it/s]\n",
      "100%|██████████| 17/17 [00:00<00:00, 849.98it/s]\n",
      "100%|██████████| 17/17 [00:00<00:00, 850.00it/s]\n",
      "100%|██████████| 17/17 [00:00<00:00, 849.99it/s]\n",
      "100%|██████████| 17/17 [00:00<00:00, 894.66it/s]\n",
      "100%|██████████| 17/17 [00:00<00:00, 809.52it/s]\n",
      "100%|██████████| 17/17 [00:00<00:00, 894.75it/s]\n",
      "100%|██████████| 17/17 [00:00<00:00, 850.00it/s]\n",
      "100%|██████████| 17/17 [00:00<00:00, 894.66it/s]\n",
      "100%|██████████| 17/17 [00:00<00:00, 850.00it/s]\n",
      "100%|██████████| 17/17 [00:00<00:00, 944.45it/s]\n",
      "100%|██████████| 17/17 [00:00<00:00, 894.73it/s]\n",
      "100%|██████████| 17/17 [00:00<00:00, 894.63it/s]\n",
      "100%|██████████| 17/17 [00:00<00:00, 861.75it/s]\n",
      "100%|██████████| 17/17 [00:00<00:00, 894.75it/s]\n",
      "100%|██████████| 17/17 [00:00<00:00, 850.01it/s]\n",
      "100%|██████████| 17/17 [00:00<00:00, 894.49it/s]\n",
      "100%|██████████| 17/17 [00:00<00:00, 850.01it/s]\n",
      "100%|██████████| 17/17 [00:00<00:00, 894.73it/s]\n"
     ]
    },
    {
     "name": "stdout",
     "output_type": "stream",
     "text": [
      "Epoch [5421/6000]: Train loss: 1.2717, Valid loss: 1.0891\n"
     ]
    },
    {
     "name": "stderr",
     "output_type": "stream",
     "text": [
      "100%|██████████| 17/17 [00:00<00:00, 894.76it/s]\n",
      "100%|██████████| 17/17 [00:00<00:00, 850.01it/s]\n",
      "100%|██████████| 17/17 [00:00<00:00, 849.98it/s]\n",
      "100%|██████████| 17/17 [00:00<00:00, 850.01it/s]\n",
      "100%|██████████| 17/17 [00:00<00:00, 894.75it/s]\n",
      "100%|██████████| 17/17 [00:00<00:00, 894.75it/s]\n",
      "100%|██████████| 17/17 [00:00<00:00, 894.75it/s]\n",
      "100%|██████████| 17/17 [00:00<00:00, 894.77it/s]\n",
      "100%|██████████| 17/17 [00:00<00:00, 894.75it/s]\n",
      "100%|██████████| 17/17 [00:00<00:00, 894.72it/s]\n",
      "100%|██████████| 17/17 [00:00<00:00, 894.73it/s]\n",
      "100%|██████████| 17/17 [00:00<00:00, 850.00it/s]\n",
      "100%|██████████| 17/17 [00:00<00:00, 894.73it/s]\n",
      "100%|██████████| 17/17 [00:00<00:00, 850.01it/s]\n",
      "100%|██████████| 17/17 [00:00<00:00, 894.75it/s]\n",
      "100%|██████████| 17/17 [00:00<00:00, 894.75it/s]\n",
      "100%|██████████| 17/17 [00:00<00:00, 894.73it/s]\n",
      "100%|██████████| 17/17 [00:00<00:00, 894.73it/s]\n",
      "100%|██████████| 17/17 [00:00<00:00, 894.73it/s]\n",
      "100%|██████████| 17/17 [00:00<00:00, 944.45it/s]\n"
     ]
    },
    {
     "name": "stdout",
     "output_type": "stream",
     "text": [
      "Epoch [5441/6000]: Train loss: 1.2683, Valid loss: 1.1430\n"
     ]
    },
    {
     "name": "stderr",
     "output_type": "stream",
     "text": [
      "100%|██████████| 17/17 [00:00<00:00, 894.73it/s]\n",
      "100%|██████████| 17/17 [00:00<00:00, 894.75it/s]\n",
      "100%|██████████| 17/17 [00:00<00:00, 894.72it/s]\n",
      "100%|██████████| 17/17 [00:00<00:00, 850.00it/s]\n",
      "100%|██████████| 17/17 [00:00<00:00, 850.00it/s]\n",
      "100%|██████████| 17/17 [00:00<00:00, 894.73it/s]\n",
      "100%|██████████| 17/17 [00:00<00:00, 850.00it/s]\n",
      "100%|██████████| 17/17 [00:00<00:00, 849.99it/s]\n",
      "100%|██████████| 17/17 [00:00<00:00, 894.75it/s]\n",
      "100%|██████████| 17/17 [00:00<00:00, 894.73it/s]\n",
      "100%|██████████| 17/17 [00:00<00:00, 850.00it/s]\n",
      "100%|██████████| 17/17 [00:00<00:00, 894.73it/s]\n",
      "100%|██████████| 17/17 [00:00<00:00, 894.75it/s]\n",
      "100%|██████████| 17/17 [00:00<00:00, 894.73it/s]\n",
      "100%|██████████| 17/17 [00:00<00:00, 894.75it/s]\n",
      "100%|██████████| 17/17 [00:00<00:00, 944.45it/s]\n",
      "100%|██████████| 17/17 [00:00<00:00, 894.73it/s]\n",
      "100%|██████████| 17/17 [00:00<00:00, 894.72it/s]\n",
      "100%|██████████| 17/17 [00:00<00:00, 894.73it/s]\n",
      "100%|██████████| 17/17 [00:00<00:00, 669.00it/s]\n"
     ]
    },
    {
     "name": "stdout",
     "output_type": "stream",
     "text": [
      "Epoch [5461/6000]: Train loss: 1.2674, Valid loss: 1.1980\n"
     ]
    },
    {
     "name": "stderr",
     "output_type": "stream",
     "text": [
      "100%|██████████| 17/17 [00:00<00:00, 894.75it/s]\n",
      "100%|██████████| 17/17 [00:00<00:00, 887.72it/s]\n",
      "100%|██████████| 17/17 [00:00<00:00, 778.12it/s]\n",
      "100%|██████████| 17/17 [00:00<00:00, 772.72it/s]\n",
      "100%|██████████| 17/17 [00:00<00:00, 894.76it/s]\n",
      "100%|██████████| 17/17 [00:00<00:00, 758.05it/s]\n",
      "100%|██████████| 17/17 [00:00<00:00, 772.73it/s]\n",
      "100%|██████████| 17/17 [00:00<00:00, 681.09it/s]\n",
      "100%|██████████| 17/17 [00:00<00:00, 809.60it/s]\n",
      "100%|██████████| 17/17 [00:00<00:00, 850.02it/s]\n",
      "100%|██████████| 17/17 [00:00<00:00, 850.02it/s]\n",
      "100%|██████████| 17/17 [00:00<00:00, 850.00it/s]\n",
      "100%|██████████| 17/17 [00:00<00:00, 894.75it/s]\n",
      "100%|██████████| 17/17 [00:00<00:00, 894.76it/s]\n",
      "100%|██████████| 17/17 [00:00<00:00, 894.75it/s]\n",
      "100%|██████████| 17/17 [00:00<00:00, 894.71it/s]\n",
      "100%|██████████| 17/17 [00:00<00:00, 894.75it/s]\n",
      "100%|██████████| 17/17 [00:00<00:00, 894.73it/s]\n",
      "100%|██████████| 17/17 [00:00<00:00, 894.73it/s]\n",
      "100%|██████████| 17/17 [00:00<00:00, 894.75it/s]\n"
     ]
    },
    {
     "name": "stdout",
     "output_type": "stream",
     "text": [
      "Epoch [5481/6000]: Train loss: 1.2669, Valid loss: 1.1025\n"
     ]
    },
    {
     "name": "stderr",
     "output_type": "stream",
     "text": [
      "100%|██████████| 17/17 [00:00<00:00, 850.02it/s]\n",
      "100%|██████████| 17/17 [00:00<00:00, 894.72it/s]\n",
      "100%|██████████| 17/17 [00:00<00:00, 850.01it/s]\n",
      "100%|██████████| 17/17 [00:00<00:00, 894.75it/s]\n",
      "100%|██████████| 17/17 [00:00<00:00, 850.02it/s]\n",
      "100%|██████████| 17/17 [00:00<00:00, 849.99it/s]\n",
      "100%|██████████| 17/17 [00:00<00:00, 894.75it/s]\n",
      "100%|██████████| 17/17 [00:00<00:00, 849.99it/s]\n",
      "100%|██████████| 17/17 [00:00<00:00, 894.73it/s]\n",
      "100%|██████████| 17/17 [00:00<00:00, 850.01it/s]\n",
      "100%|██████████| 17/17 [00:00<00:00, 894.73it/s]\n",
      "100%|██████████| 17/17 [00:00<00:00, 894.73it/s]\n",
      "100%|██████████| 17/17 [00:00<00:00, 894.73it/s]\n",
      "100%|██████████| 17/17 [00:00<00:00, 894.76it/s]\n",
      "100%|██████████| 17/17 [00:00<00:00, 850.00it/s]\n",
      "100%|██████████| 17/17 [00:00<00:00, 850.00it/s]\n",
      "100%|██████████| 17/17 [00:00<00:00, 898.73it/s]\n",
      "100%|██████████| 17/17 [00:00<00:00, 894.72it/s]\n",
      "100%|██████████| 17/17 [00:00<00:00, 809.52it/s]\n",
      "100%|██████████| 17/17 [00:00<00:00, 850.00it/s]\n"
     ]
    },
    {
     "name": "stdout",
     "output_type": "stream",
     "text": [
      "Epoch [5501/6000]: Train loss: 1.2609, Valid loss: 1.2096\n"
     ]
    },
    {
     "name": "stderr",
     "output_type": "stream",
     "text": [
      "100%|██████████| 17/17 [00:00<00:00, 809.52it/s]\n",
      "100%|██████████| 17/17 [00:00<00:00, 850.01it/s]\n",
      "100%|██████████| 17/17 [00:00<00:00, 825.70it/s]\n",
      "100%|██████████| 17/17 [00:00<00:00, 849.93it/s]\n",
      "100%|██████████| 17/17 [00:00<00:00, 944.45it/s]\n",
      "100%|██████████| 17/17 [00:00<00:00, 841.89it/s]\n",
      "100%|██████████| 17/17 [00:00<00:00, 850.00it/s]\n",
      "100%|██████████| 17/17 [00:00<00:00, 903.52it/s]\n",
      "100%|██████████| 17/17 [00:00<00:00, 885.18it/s]\n",
      "100%|██████████| 17/17 [00:00<00:00, 894.75it/s]\n",
      "100%|██████████| 17/17 [00:00<00:00, 894.73it/s]\n",
      "100%|██████████| 17/17 [00:00<00:00, 882.72it/s]\n",
      "100%|██████████| 17/17 [00:00<00:00, 850.03it/s]\n",
      "100%|██████████| 17/17 [00:00<00:00, 850.00it/s]\n",
      "100%|██████████| 17/17 [00:00<00:00, 894.71it/s]\n",
      "100%|██████████| 17/17 [00:00<00:00, 849.92it/s]\n",
      "100%|██████████| 17/17 [00:00<00:00, 850.00it/s]\n",
      "100%|██████████| 17/17 [00:00<00:00, 850.00it/s]\n",
      "100%|██████████| 17/17 [00:00<00:00, 894.73it/s]\n",
      "100%|██████████| 17/17 [00:00<00:00, 894.66it/s]\n"
     ]
    },
    {
     "name": "stdout",
     "output_type": "stream",
     "text": [
      "Epoch [5521/6000]: Train loss: 1.2645, Valid loss: 1.0719\n"
     ]
    },
    {
     "name": "stderr",
     "output_type": "stream",
     "text": [
      "100%|██████████| 17/17 [00:00<00:00, 894.75it/s]\n",
      "100%|██████████| 17/17 [00:00<00:00, 894.73it/s]\n",
      "100%|██████████| 17/17 [00:00<00:00, 894.73it/s]\n",
      "100%|██████████| 17/17 [00:00<00:00, 894.73it/s]\n",
      "100%|██████████| 17/17 [00:00<00:00, 850.00it/s]\n",
      "100%|██████████| 17/17 [00:00<00:00, 894.75it/s]\n",
      "100%|██████████| 17/17 [00:00<00:00, 894.73it/s]\n",
      "100%|██████████| 17/17 [00:00<00:00, 894.76it/s]\n",
      "100%|██████████| 17/17 [00:00<00:00, 894.94it/s]\n",
      "100%|██████████| 17/17 [00:00<00:00, 849.99it/s]\n",
      "100%|██████████| 17/17 [00:00<00:00, 894.75it/s]\n",
      "100%|██████████| 17/17 [00:00<00:00, 849.99it/s]\n",
      "100%|██████████| 17/17 [00:00<00:00, 849.92it/s]\n",
      "100%|██████████| 17/17 [00:00<00:00, 871.39it/s]\n",
      "100%|██████████| 17/17 [00:00<00:00, 894.75it/s]\n",
      "100%|██████████| 17/17 [00:00<00:00, 850.00it/s]\n",
      "100%|██████████| 17/17 [00:00<00:00, 849.99it/s]\n",
      "100%|██████████| 17/17 [00:00<00:00, 849.99it/s]\n",
      "100%|██████████| 17/17 [00:00<00:00, 894.75it/s]\n",
      "100%|██████████| 17/17 [00:00<00:00, 850.00it/s]\n"
     ]
    },
    {
     "name": "stdout",
     "output_type": "stream",
     "text": [
      "Epoch [5541/6000]: Train loss: 1.2639, Valid loss: 1.1010\n"
     ]
    },
    {
     "name": "stderr",
     "output_type": "stream",
     "text": [
      "100%|██████████| 17/17 [00:00<00:00, 850.00it/s]\n",
      "100%|██████████| 17/17 [00:00<00:00, 894.75it/s]\n",
      "100%|██████████| 17/17 [00:00<00:00, 850.00it/s]\n",
      "100%|██████████| 17/17 [00:00<00:00, 894.75it/s]\n",
      "100%|██████████| 17/17 [00:00<00:00, 894.75it/s]\n",
      "100%|██████████| 17/17 [00:00<00:00, 894.75it/s]\n",
      "100%|██████████| 17/17 [00:00<00:00, 850.00it/s]\n",
      "100%|██████████| 17/17 [00:00<00:00, 850.00it/s]\n",
      "100%|██████████| 17/17 [00:00<00:00, 894.76it/s]\n",
      "100%|██████████| 17/17 [00:00<00:00, 894.72it/s]\n"
     ]
    },
    {
     "name": "stdout",
     "output_type": "stream",
     "text": [
      "Saving model with loss 1.019...\n"
     ]
    },
    {
     "name": "stderr",
     "output_type": "stream",
     "text": [
      "100%|██████████| 17/17 [00:00<00:00, 882.40it/s]\n",
      "100%|██████████| 17/17 [00:00<00:00, 894.73it/s]\n",
      "100%|██████████| 17/17 [00:00<00:00, 871.50it/s]\n",
      "100%|██████████| 17/17 [00:00<00:00, 850.00it/s]\n",
      "100%|██████████| 17/17 [00:00<00:00, 861.02it/s]\n",
      "100%|██████████| 17/17 [00:00<00:00, 894.76it/s]\n",
      "100%|██████████| 17/17 [00:00<00:00, 894.75it/s]\n",
      "100%|██████████| 17/17 [00:00<00:00, 894.73it/s]\n",
      "100%|██████████| 17/17 [00:00<00:00, 894.73it/s]\n",
      "100%|██████████| 17/17 [00:00<00:00, 894.73it/s]\n"
     ]
    },
    {
     "name": "stdout",
     "output_type": "stream",
     "text": [
      "Epoch [5561/6000]: Train loss: 1.2617, Valid loss: 1.1060\n"
     ]
    },
    {
     "name": "stderr",
     "output_type": "stream",
     "text": [
      "100%|██████████| 17/17 [00:00<00:00, 850.00it/s]\n",
      "100%|██████████| 17/17 [00:00<00:00, 894.76it/s]\n",
      "100%|██████████| 17/17 [00:00<00:00, 894.72it/s]\n",
      "100%|██████████| 17/17 [00:00<00:00, 894.73it/s]\n",
      "100%|██████████| 17/17 [00:00<00:00, 850.00it/s]\n",
      "100%|██████████| 17/17 [00:00<00:00, 850.01it/s]\n",
      "100%|██████████| 17/17 [00:00<00:00, 772.72it/s]\n",
      "100%|██████████| 17/17 [00:00<00:00, 894.73it/s]\n",
      "100%|██████████| 17/17 [00:00<00:00, 849.99it/s]\n",
      "100%|██████████| 17/17 [00:00<00:00, 850.00it/s]\n",
      "100%|██████████| 17/17 [00:00<00:00, 850.00it/s]\n",
      "100%|██████████| 17/17 [00:00<00:00, 850.00it/s]\n",
      "100%|██████████| 17/17 [00:00<00:00, 739.12it/s]\n",
      "100%|██████████| 17/17 [00:00<00:00, 894.73it/s]\n",
      "100%|██████████| 17/17 [00:00<00:00, 850.00it/s]\n",
      "100%|██████████| 17/17 [00:00<00:00, 849.99it/s]\n",
      "100%|██████████| 17/17 [00:00<00:00, 894.73it/s]\n",
      "100%|██████████| 17/17 [00:00<00:00, 850.01it/s]\n",
      "100%|██████████| 17/17 [00:00<00:00, 853.90it/s]\n",
      "100%|██████████| 17/17 [00:00<00:00, 850.01it/s]\n"
     ]
    },
    {
     "name": "stdout",
     "output_type": "stream",
     "text": [
      "Epoch [5581/6000]: Train loss: 1.2561, Valid loss: 1.0765\n"
     ]
    },
    {
     "name": "stderr",
     "output_type": "stream",
     "text": [
      "100%|██████████| 17/17 [00:00<00:00, 894.73it/s]\n",
      "100%|██████████| 17/17 [00:00<00:00, 894.73it/s]\n",
      "100%|██████████| 17/17 [00:00<00:00, 894.72it/s]\n",
      "100%|██████████| 17/17 [00:00<00:00, 894.73it/s]\n",
      "100%|██████████| 17/17 [00:00<00:00, 894.73it/s]\n",
      "100%|██████████| 17/17 [00:00<00:00, 894.73it/s]\n",
      "100%|██████████| 17/17 [00:00<00:00, 894.73it/s]\n",
      "100%|██████████| 17/17 [00:00<00:00, 850.00it/s]\n",
      "100%|██████████| 17/17 [00:00<00:00, 849.99it/s]\n",
      "100%|██████████| 17/17 [00:00<00:00, 894.73it/s]\n",
      "100%|██████████| 17/17 [00:00<00:00, 850.00it/s]\n",
      "100%|██████████| 17/17 [00:00<00:00, 894.73it/s]\n",
      "100%|██████████| 17/17 [00:00<00:00, 850.00it/s]\n",
      "100%|██████████| 17/17 [00:00<00:00, 894.73it/s]\n",
      "100%|██████████| 17/17 [00:00<00:00, 894.73it/s]\n",
      "100%|██████████| 17/17 [00:00<00:00, 894.73it/s]\n",
      "100%|██████████| 17/17 [00:00<00:00, 809.54it/s]\n",
      "100%|██████████| 17/17 [00:00<00:00, 894.75it/s]\n",
      "100%|██████████| 17/17 [00:00<00:00, 894.76it/s]\n",
      "100%|██████████| 17/17 [00:00<00:00, 894.73it/s]\n"
     ]
    },
    {
     "name": "stdout",
     "output_type": "stream",
     "text": [
      "Epoch [5601/6000]: Train loss: 1.2547, Valid loss: 1.0849\n"
     ]
    },
    {
     "name": "stderr",
     "output_type": "stream",
     "text": [
      "100%|██████████| 17/17 [00:00<00:00, 894.73it/s]\n",
      "100%|██████████| 17/17 [00:00<00:00, 849.99it/s]\n",
      "100%|██████████| 17/17 [00:00<00:00, 850.00it/s]\n",
      "100%|██████████| 17/17 [00:00<00:00, 944.44it/s]\n",
      "100%|██████████| 17/17 [00:00<00:00, 894.71it/s]\n",
      "100%|██████████| 17/17 [00:00<00:00, 894.73it/s]\n",
      "100%|██████████| 17/17 [00:00<00:00, 894.75it/s]\n",
      "100%|██████████| 17/17 [00:00<00:00, 843.96it/s]\n",
      "100%|██████████| 17/17 [00:00<00:00, 944.45it/s]\n",
      "100%|██████████| 17/17 [00:00<00:00, 1000.00it/s]\n",
      "100%|██████████| 17/17 [00:00<00:00, 944.46it/s]\n",
      "100%|██████████| 17/17 [00:00<00:00, 944.44it/s]\n",
      "100%|██████████| 17/17 [00:00<00:00, 944.45it/s]\n",
      "100%|██████████| 17/17 [00:00<00:00, 944.45it/s]\n",
      "100%|██████████| 17/17 [00:00<00:00, 944.45it/s]\n",
      "100%|██████████| 17/17 [00:00<00:00, 944.46it/s]\n",
      "100%|██████████| 17/17 [00:00<00:00, 894.77it/s]\n",
      "100%|██████████| 17/17 [00:00<00:00, 944.46it/s]\n",
      "100%|██████████| 17/17 [00:00<00:00, 894.70it/s]\n",
      "100%|██████████| 17/17 [00:00<00:00, 894.75it/s]\n"
     ]
    },
    {
     "name": "stdout",
     "output_type": "stream",
     "text": [
      "Epoch [5621/6000]: Train loss: 1.2539, Valid loss: 1.1839\n"
     ]
    },
    {
     "name": "stderr",
     "output_type": "stream",
     "text": [
      "100%|██████████| 17/17 [00:00<00:00, 894.75it/s]\n",
      "100%|██████████| 17/17 [00:00<00:00, 944.44it/s]\n",
      "100%|██████████| 17/17 [00:00<00:00, 944.44it/s]\n",
      "100%|██████████| 17/17 [00:00<00:00, 944.44it/s]\n",
      "100%|██████████| 17/17 [00:00<00:00, 1000.02it/s]\n",
      "100%|██████████| 17/17 [00:00<00:00, 1000.00it/s]\n",
      "100%|██████████| 17/17 [00:00<00:00, 999.99it/s]\n",
      "100%|██████████| 17/17 [00:00<00:00, 944.44it/s]\n",
      "100%|██████████| 17/17 [00:00<00:00, 944.44it/s]\n",
      "100%|██████████| 17/17 [00:00<00:00, 944.44it/s]\n",
      "100%|██████████| 17/17 [00:00<00:00, 894.73it/s]\n",
      "100%|██████████| 17/17 [00:00<00:00, 944.45it/s]\n",
      "100%|██████████| 17/17 [00:00<00:00, 1000.02it/s]\n",
      "100%|██████████| 17/17 [00:00<00:00, 894.75it/s]\n",
      "100%|██████████| 17/17 [00:00<00:00, 944.43it/s]\n",
      "100%|██████████| 17/17 [00:00<00:00, 944.44it/s]\n",
      "100%|██████████| 17/17 [00:00<00:00, 944.44it/s]\n",
      "100%|██████████| 17/17 [00:00<00:00, 944.44it/s]\n",
      "100%|██████████| 17/17 [00:00<00:00, 894.76it/s]\n",
      "100%|██████████| 17/17 [00:00<00:00, 944.44it/s]\n"
     ]
    },
    {
     "name": "stdout",
     "output_type": "stream",
     "text": [
      "Epoch [5641/6000]: Train loss: 1.2511, Valid loss: 1.1032\n"
     ]
    },
    {
     "name": "stderr",
     "output_type": "stream",
     "text": [
      "100%|██████████| 17/17 [00:00<00:00, 894.73it/s]\n",
      "100%|██████████| 17/17 [00:00<00:00, 944.45it/s]\n",
      "100%|██████████| 17/17 [00:00<00:00, 894.72it/s]\n",
      "100%|██████████| 17/17 [00:00<00:00, 944.44it/s]\n",
      "100%|██████████| 17/17 [00:00<00:00, 894.76it/s]\n",
      "100%|██████████| 17/17 [00:00<00:00, 944.46it/s]\n",
      "100%|██████████| 17/17 [00:00<00:00, 944.44it/s]\n",
      "100%|██████████| 17/17 [00:00<00:00, 894.72it/s]\n",
      "100%|██████████| 17/17 [00:00<00:00, 894.75it/s]\n",
      "100%|██████████| 17/17 [00:00<00:00, 944.45it/s]\n",
      "100%|██████████| 17/17 [00:00<00:00, 894.75it/s]\n",
      "100%|██████████| 17/17 [00:00<00:00, 944.45it/s]\n",
      "100%|██████████| 17/17 [00:00<00:00, 849.99it/s]\n",
      "100%|██████████| 17/17 [00:00<00:00, 944.44it/s]\n",
      "100%|██████████| 17/17 [00:00<00:00, 850.01it/s]\n",
      "100%|██████████| 17/17 [00:00<00:00, 944.45it/s]\n",
      "100%|██████████| 17/17 [00:00<00:00, 999.99it/s]\n",
      "100%|██████████| 17/17 [00:00<00:00, 944.45it/s]\n",
      "100%|██████████| 17/17 [00:00<00:00, 944.45it/s]\n",
      "100%|██████████| 17/17 [00:00<00:00, 944.45it/s]\n"
     ]
    },
    {
     "name": "stdout",
     "output_type": "stream",
     "text": [
      "Epoch [5661/6000]: Train loss: 1.2487, Valid loss: 1.0935\n"
     ]
    },
    {
     "name": "stderr",
     "output_type": "stream",
     "text": [
      "100%|██████████| 17/17 [00:00<00:00, 944.45it/s]\n",
      "100%|██████████| 17/17 [00:00<00:00, 944.44it/s]\n",
      "100%|██████████| 17/17 [00:00<00:00, 944.45it/s]\n",
      "100%|██████████| 17/17 [00:00<00:00, 894.75it/s]\n",
      "100%|██████████| 17/17 [00:00<00:00, 999.99it/s]\n",
      "100%|██████████| 17/17 [00:00<00:00, 894.60it/s]\n",
      "100%|██████████| 17/17 [00:00<00:00, 944.44it/s]\n",
      "100%|██████████| 17/17 [00:00<00:00, 1000.00it/s]\n",
      "100%|██████████| 17/17 [00:00<00:00, 944.46it/s]\n",
      "100%|██████████| 17/17 [00:00<00:00, 944.44it/s]\n",
      "100%|██████████| 17/17 [00:00<00:00, 944.46it/s]\n",
      "100%|██████████| 17/17 [00:00<00:00, 999.96it/s]\n",
      "100%|██████████| 17/17 [00:00<00:00, 894.75it/s]\n",
      "100%|██████████| 17/17 [00:00<00:00, 944.45it/s]\n",
      "100%|██████████| 17/17 [00:00<00:00, 894.76it/s]\n",
      "100%|██████████| 17/17 [00:00<00:00, 894.71it/s]\n",
      "100%|██████████| 17/17 [00:00<00:00, 944.45it/s]\n",
      "100%|██████████| 17/17 [00:00<00:00, 894.73it/s]\n",
      "100%|██████████| 17/17 [00:00<00:00, 944.48it/s]\n",
      "100%|██████████| 17/17 [00:00<00:00, 894.73it/s]\n"
     ]
    },
    {
     "name": "stdout",
     "output_type": "stream",
     "text": [
      "Epoch [5681/6000]: Train loss: 1.2511, Valid loss: 1.0359\n"
     ]
    },
    {
     "name": "stderr",
     "output_type": "stream",
     "text": [
      "100%|██████████| 17/17 [00:00<00:00, 944.45it/s]\n",
      "100%|██████████| 17/17 [00:00<00:00, 944.44it/s]\n",
      "100%|██████████| 17/17 [00:00<00:00, 894.73it/s]\n",
      "100%|██████████| 17/17 [00:00<00:00, 894.73it/s]\n",
      "100%|██████████| 17/17 [00:00<00:00, 1000.00it/s]\n",
      "100%|██████████| 17/17 [00:00<00:00, 944.46it/s]\n",
      "100%|██████████| 17/17 [00:00<00:00, 944.45it/s]\n",
      "100%|██████████| 17/17 [00:00<00:00, 944.45it/s]\n",
      "100%|██████████| 17/17 [00:00<00:00, 944.45it/s]\n"
     ]
    },
    {
     "name": "stdout",
     "output_type": "stream",
     "text": [
      "Saving model with loss 1.013...\n"
     ]
    },
    {
     "name": "stderr",
     "output_type": "stream",
     "text": [
      "100%|██████████| 17/17 [00:00<00:00, 894.75it/s]\n",
      "100%|██████████| 17/17 [00:00<00:00, 944.44it/s]\n",
      "100%|██████████| 17/17 [00:00<00:00, 944.45it/s]\n",
      "100%|██████████| 17/17 [00:00<00:00, 894.76it/s]\n",
      "100%|██████████| 17/17 [00:00<00:00, 944.45it/s]\n",
      "100%|██████████| 17/17 [00:00<00:00, 894.72it/s]\n",
      "100%|██████████| 17/17 [00:00<00:00, 944.44it/s]\n",
      "100%|██████████| 17/17 [00:00<00:00, 894.73it/s]\n",
      "100%|██████████| 17/17 [00:00<00:00, 1000.00it/s]\n",
      "100%|██████████| 17/17 [00:00<00:00, 944.46it/s]\n",
      "100%|██████████| 17/17 [00:00<00:00, 944.43it/s]\n"
     ]
    },
    {
     "name": "stdout",
     "output_type": "stream",
     "text": [
      "Epoch [5701/6000]: Train loss: 1.2484, Valid loss: 1.0696\n"
     ]
    },
    {
     "name": "stderr",
     "output_type": "stream",
     "text": [
      "100%|██████████| 17/17 [00:00<00:00, 944.45it/s]\n",
      "100%|██████████| 17/17 [00:00<00:00, 999.99it/s]\n",
      "100%|██████████| 17/17 [00:00<00:00, 944.44it/s]\n",
      "100%|██████████| 17/17 [00:00<00:00, 944.45it/s]\n",
      "100%|██████████| 17/17 [00:00<00:00, 944.44it/s]\n",
      "100%|██████████| 17/17 [00:00<00:00, 894.75it/s]\n",
      "100%|██████████| 17/17 [00:00<00:00, 894.72it/s]\n",
      "100%|██████████| 17/17 [00:00<00:00, 944.44it/s]\n",
      "100%|██████████| 17/17 [00:00<00:00, 944.45it/s]\n",
      "100%|██████████| 17/17 [00:00<00:00, 944.44it/s]\n",
      "100%|██████████| 17/17 [00:00<00:00, 944.45it/s]\n",
      "100%|██████████| 17/17 [00:00<00:00, 944.43it/s]\n",
      "100%|██████████| 17/17 [00:00<00:00, 971.08it/s]\n",
      "100%|██████████| 17/17 [00:00<00:00, 944.44it/s]\n",
      "100%|██████████| 17/17 [00:00<00:00, 944.44it/s]\n",
      "100%|██████████| 17/17 [00:00<00:00, 944.44it/s]\n",
      "100%|██████████| 17/17 [00:00<00:00, 849.97it/s]\n",
      "100%|██████████| 17/17 [00:00<00:00, 850.00it/s]\n"
     ]
    },
    {
     "name": "stdout",
     "output_type": "stream",
     "text": [
      "Saving model with loss 0.992...\n"
     ]
    },
    {
     "name": "stderr",
     "output_type": "stream",
     "text": [
      "100%|██████████| 17/17 [00:00<00:00, 894.75it/s]\n",
      "100%|██████████| 17/17 [00:00<00:00, 849.99it/s]\n"
     ]
    },
    {
     "name": "stdout",
     "output_type": "stream",
     "text": [
      "Epoch [5721/6000]: Train loss: 1.2461, Valid loss: 1.1536\n"
     ]
    },
    {
     "name": "stderr",
     "output_type": "stream",
     "text": [
      "100%|██████████| 17/17 [00:00<00:00, 894.75it/s]\n",
      "100%|██████████| 17/17 [00:00<00:00, 850.01it/s]\n",
      "100%|██████████| 17/17 [00:00<00:00, 944.45it/s]\n",
      "100%|██████████| 17/17 [00:00<00:00, 1000.02it/s]\n",
      "100%|██████████| 17/17 [00:00<00:00, 944.45it/s]\n",
      "100%|██████████| 17/17 [00:00<00:00, 999.99it/s]\n",
      "100%|██████████| 17/17 [00:00<00:00, 944.48it/s]\n",
      "100%|██████████| 17/17 [00:00<00:00, 894.73it/s]\n",
      "100%|██████████| 17/17 [00:00<00:00, 944.19it/s]\n",
      "100%|██████████| 17/17 [00:00<00:00, 944.45it/s]\n",
      "100%|██████████| 17/17 [00:00<00:00, 944.44it/s]\n",
      "100%|██████████| 17/17 [00:00<00:00, 944.44it/s]\n",
      "100%|██████████| 17/17 [00:00<00:00, 944.45it/s]\n",
      "100%|██████████| 17/17 [00:00<00:00, 944.45it/s]\n",
      "100%|██████████| 17/17 [00:00<00:00, 944.44it/s]\n",
      "100%|██████████| 17/17 [00:00<00:00, 894.71it/s]\n",
      "100%|██████████| 17/17 [00:00<00:00, 944.44it/s]\n",
      "100%|██████████| 17/17 [00:00<00:00, 1000.00it/s]\n",
      "100%|██████████| 17/17 [00:00<00:00, 944.45it/s]\n",
      "100%|██████████| 17/17 [00:00<00:00, 1000.00it/s]\n"
     ]
    },
    {
     "name": "stdout",
     "output_type": "stream",
     "text": [
      "Epoch [5741/6000]: Train loss: 1.2438, Valid loss: 1.1233\n"
     ]
    },
    {
     "name": "stderr",
     "output_type": "stream",
     "text": [
      "100%|██████████| 17/17 [00:00<00:00, 894.72it/s]\n",
      "100%|██████████| 17/17 [00:00<00:00, 944.45it/s]\n",
      "100%|██████████| 17/17 [00:00<00:00, 999.99it/s]\n",
      "100%|██████████| 17/17 [00:00<00:00, 944.46it/s]\n",
      "100%|██████████| 17/17 [00:00<00:00, 944.45it/s]\n",
      "100%|██████████| 17/17 [00:00<00:00, 944.40it/s]\n",
      "100%|██████████| 17/17 [00:00<00:00, 944.46it/s]\n",
      "100%|██████████| 17/17 [00:00<00:00, 1000.00it/s]\n",
      "100%|██████████| 17/17 [00:00<00:00, 944.44it/s]\n",
      "100%|██████████| 17/17 [00:00<00:00, 944.44it/s]\n",
      "100%|██████████| 17/17 [00:00<00:00, 944.44it/s]\n",
      "100%|██████████| 17/17 [00:00<00:00, 894.73it/s]\n",
      "100%|██████████| 17/17 [00:00<00:00, 944.43it/s]\n",
      "100%|██████████| 17/17 [00:00<00:00, 953.38it/s]\n",
      "100%|██████████| 17/17 [00:00<00:00, 944.43it/s]\n",
      "100%|██████████| 17/17 [00:00<00:00, 944.44it/s]\n",
      "100%|██████████| 17/17 [00:00<00:00, 944.45it/s]\n",
      "100%|██████████| 17/17 [00:00<00:00, 894.75it/s]\n",
      "100%|██████████| 17/17 [00:00<00:00, 850.00it/s]\n",
      "100%|██████████| 17/17 [00:00<00:00, 809.53it/s]\n"
     ]
    },
    {
     "name": "stdout",
     "output_type": "stream",
     "text": [
      "Epoch [5761/6000]: Train loss: 1.2439, Valid loss: 1.0076\n"
     ]
    },
    {
     "name": "stderr",
     "output_type": "stream",
     "text": [
      "100%|██████████| 17/17 [00:00<00:00, 944.45it/s]\n",
      "100%|██████████| 17/17 [00:00<00:00, 944.45it/s]\n",
      "100%|██████████| 17/17 [00:00<00:00, 944.43it/s]\n",
      "100%|██████████| 17/17 [00:00<00:00, 944.43it/s]\n",
      "100%|██████████| 17/17 [00:00<00:00, 849.99it/s]\n",
      "100%|██████████| 17/17 [00:00<00:00, 944.46it/s]\n",
      "100%|██████████| 17/17 [00:00<00:00, 999.99it/s]\n",
      "100%|██████████| 17/17 [00:00<00:00, 894.66it/s]\n",
      "100%|██████████| 17/17 [00:00<00:00, 809.53it/s]\n",
      "100%|██████████| 17/17 [00:00<00:00, 808.33it/s]\n",
      "100%|██████████| 17/17 [00:00<00:00, 894.73it/s]\n",
      "100%|██████████| 17/17 [00:00<00:00, 850.00it/s]\n",
      "100%|██████████| 17/17 [00:00<00:00, 894.73it/s]\n",
      "100%|██████████| 17/17 [00:00<00:00, 850.01it/s]\n",
      "100%|██████████| 17/17 [00:00<00:00, 894.73it/s]\n",
      "100%|██████████| 17/17 [00:00<00:00, 894.72it/s]\n",
      "100%|██████████| 17/17 [00:00<00:00, 894.76it/s]\n",
      "100%|██████████| 17/17 [00:00<00:00, 832.22it/s]\n",
      "100%|██████████| 17/17 [00:00<00:00, 772.63it/s]\n",
      "100%|██████████| 17/17 [00:00<00:00, 809.55it/s]\n"
     ]
    },
    {
     "name": "stdout",
     "output_type": "stream",
     "text": [
      "Epoch [5781/6000]: Train loss: 1.2428, Valid loss: 1.2062\n"
     ]
    },
    {
     "name": "stderr",
     "output_type": "stream",
     "text": [
      "100%|██████████| 17/17 [00:00<00:00, 894.73it/s]\n",
      "100%|██████████| 17/17 [00:00<00:00, 871.50it/s]\n",
      "100%|██████████| 17/17 [00:00<00:00, 894.76it/s]\n",
      "100%|██████████| 17/17 [00:00<00:00, 894.73it/s]\n",
      "100%|██████████| 17/17 [00:00<00:00, 894.75it/s]\n",
      "100%|██████████| 17/17 [00:00<00:00, 894.76it/s]\n",
      "100%|██████████| 17/17 [00:00<00:00, 872.94it/s]\n",
      "100%|██████████| 17/17 [00:00<00:00, 817.63it/s]\n",
      "100%|██████████| 17/17 [00:00<00:00, 894.73it/s]\n",
      "100%|██████████| 17/17 [00:00<00:00, 653.86it/s]\n",
      "100%|██████████| 17/17 [00:00<00:00, 850.01it/s]\n",
      "100%|██████████| 17/17 [00:00<00:00, 894.72it/s]\n",
      "100%|██████████| 17/17 [00:00<00:00, 894.75it/s]\n",
      "100%|██████████| 17/17 [00:00<00:00, 944.45it/s]\n",
      "100%|██████████| 17/17 [00:00<00:00, 850.00it/s]\n",
      "100%|██████████| 17/17 [00:00<00:00, 894.75it/s]\n",
      "100%|██████████| 17/17 [00:00<00:00, 850.00it/s]\n",
      "100%|██████████| 17/17 [00:00<00:00, 894.75it/s]\n",
      "100%|██████████| 17/17 [00:00<00:00, 836.64it/s]\n",
      "100%|██████████| 17/17 [00:00<00:00, 850.00it/s]\n"
     ]
    },
    {
     "name": "stdout",
     "output_type": "stream",
     "text": [
      "Epoch [5801/6000]: Train loss: 1.2414, Valid loss: 1.4593\n"
     ]
    },
    {
     "name": "stderr",
     "output_type": "stream",
     "text": [
      "100%|██████████| 17/17 [00:00<00:00, 894.75it/s]\n",
      "100%|██████████| 17/17 [00:00<00:00, 894.75it/s]\n",
      "100%|██████████| 17/17 [00:00<00:00, 894.73it/s]\n",
      "100%|██████████| 17/17 [00:00<00:00, 850.00it/s]\n",
      "100%|██████████| 17/17 [00:00<00:00, 894.75it/s]\n",
      "100%|██████████| 17/17 [00:00<00:00, 894.70it/s]\n",
      "100%|██████████| 17/17 [00:00<00:00, 850.00it/s]\n",
      "100%|██████████| 17/17 [00:00<00:00, 850.00it/s]\n",
      "100%|██████████| 17/17 [00:00<00:00, 847.37it/s]\n",
      "100%|██████████| 17/17 [00:00<00:00, 850.00it/s]\n",
      "100%|██████████| 17/17 [00:00<00:00, 850.01it/s]\n",
      "100%|██████████| 17/17 [00:00<00:00, 850.02it/s]\n",
      "100%|██████████| 17/17 [00:00<00:00, 894.73it/s]\n",
      "100%|██████████| 17/17 [00:00<00:00, 894.73it/s]\n",
      "100%|██████████| 17/17 [00:00<00:00, 894.73it/s]\n",
      "100%|██████████| 17/17 [00:00<00:00, 894.73it/s]\n",
      "100%|██████████| 17/17 [00:00<00:00, 894.76it/s]\n",
      "100%|██████████| 17/17 [00:00<00:00, 894.73it/s]\n",
      "100%|██████████| 17/17 [00:00<00:00, 894.73it/s]\n",
      "100%|██████████| 17/17 [00:00<00:00, 894.73it/s]\n"
     ]
    },
    {
     "name": "stdout",
     "output_type": "stream",
     "text": [
      "Epoch [5821/6000]: Train loss: 1.2380, Valid loss: 1.0108\n"
     ]
    },
    {
     "name": "stderr",
     "output_type": "stream",
     "text": [
      "100%|██████████| 17/17 [00:00<00:00, 894.73it/s]\n",
      "100%|██████████| 17/17 [00:00<00:00, 894.72it/s]\n",
      "100%|██████████| 17/17 [00:00<00:00, 944.45it/s]\n",
      "100%|██████████| 17/17 [00:00<00:00, 850.00it/s]\n",
      "100%|██████████| 17/17 [00:00<00:00, 809.53it/s]\n",
      "100%|██████████| 17/17 [00:00<00:00, 894.76it/s]\n",
      "100%|██████████| 17/17 [00:00<00:00, 944.45it/s]\n",
      "100%|██████████| 17/17 [00:00<00:00, 894.73it/s]\n",
      "100%|██████████| 17/17 [00:00<00:00, 894.73it/s]\n",
      "100%|██████████| 17/17 [00:00<00:00, 894.75it/s]\n",
      "100%|██████████| 17/17 [00:00<00:00, 894.75it/s]\n",
      "100%|██████████| 17/17 [00:00<00:00, 894.75it/s]\n",
      "100%|██████████| 17/17 [00:00<00:00, 850.00it/s]\n",
      "100%|██████████| 17/17 [00:00<00:00, 850.01it/s]\n",
      "100%|██████████| 17/17 [00:00<00:00, 928.75it/s]\n",
      "100%|██████████| 17/17 [00:00<00:00, 894.78it/s]\n",
      "100%|██████████| 17/17 [00:00<00:00, 894.75it/s]\n",
      "100%|██████████| 17/17 [00:00<00:00, 776.97it/s]\n",
      "100%|██████████| 17/17 [00:00<00:00, 894.73it/s]\n",
      "100%|██████████| 17/17 [00:00<00:00, 894.78it/s]\n"
     ]
    },
    {
     "name": "stdout",
     "output_type": "stream",
     "text": [
      "Epoch [5841/6000]: Train loss: 1.2345, Valid loss: 1.1132\n"
     ]
    },
    {
     "name": "stderr",
     "output_type": "stream",
     "text": [
      "100%|██████████| 17/17 [00:00<00:00, 894.73it/s]\n",
      "100%|██████████| 17/17 [00:00<00:00, 894.72it/s]\n",
      "100%|██████████| 17/17 [00:00<00:00, 944.44it/s]\n",
      "100%|██████████| 17/17 [00:00<00:00, 944.44it/s]\n",
      "100%|██████████| 17/17 [00:00<00:00, 894.73it/s]\n",
      "100%|██████████| 17/17 [00:00<00:00, 894.73it/s]\n",
      "100%|██████████| 17/17 [00:00<00:00, 894.75it/s]\n",
      "100%|██████████| 17/17 [00:00<00:00, 850.01it/s]\n",
      "100%|██████████| 17/17 [00:00<00:00, 894.75it/s]\n",
      "100%|██████████| 17/17 [00:00<00:00, 894.77it/s]\n",
      "100%|██████████| 17/17 [00:00<00:00, 894.75it/s]\n",
      "100%|██████████| 17/17 [00:00<00:00, 894.75it/s]\n",
      "100%|██████████| 17/17 [00:00<00:00, 894.75it/s]\n",
      "100%|██████████| 17/17 [00:00<00:00, 894.75it/s]\n",
      "100%|██████████| 17/17 [00:00<00:00, 944.46it/s]\n",
      "100%|██████████| 17/17 [00:00<00:00, 894.76it/s]\n",
      "100%|██████████| 17/17 [00:00<00:00, 944.45it/s]\n",
      "100%|██████████| 17/17 [00:00<00:00, 894.75it/s]\n",
      "100%|██████████| 17/17 [00:00<00:00, 894.73it/s]\n",
      "100%|██████████| 17/17 [00:00<00:00, 850.00it/s]\n"
     ]
    },
    {
     "name": "stdout",
     "output_type": "stream",
     "text": [
      "Epoch [5861/6000]: Train loss: 1.2388, Valid loss: 1.1114\n"
     ]
    },
    {
     "name": "stderr",
     "output_type": "stream",
     "text": [
      "100%|██████████| 17/17 [00:00<00:00, 894.73it/s]\n",
      "100%|██████████| 17/17 [00:00<00:00, 894.75it/s]\n",
      "100%|██████████| 17/17 [00:00<00:00, 944.44it/s]\n",
      "100%|██████████| 17/17 [00:00<00:00, 894.75it/s]\n",
      "100%|██████████| 17/17 [00:00<00:00, 894.73it/s]\n",
      "100%|██████████| 17/17 [00:00<00:00, 894.75it/s]\n",
      "100%|██████████| 17/17 [00:00<00:00, 894.75it/s]\n",
      "100%|██████████| 17/17 [00:00<00:00, 894.76it/s]\n",
      "100%|██████████| 17/17 [00:00<00:00, 894.77it/s]\n",
      "100%|██████████| 17/17 [00:00<00:00, 894.76it/s]\n",
      "100%|██████████| 17/17 [00:00<00:00, 894.73it/s]\n",
      "100%|██████████| 17/17 [00:00<00:00, 894.76it/s]\n",
      "100%|██████████| 17/17 [00:00<00:00, 894.73it/s]\n",
      "100%|██████████| 17/17 [00:00<00:00, 894.77it/s]\n",
      "100%|██████████| 17/17 [00:00<00:00, 894.73it/s]\n",
      "100%|██████████| 17/17 [00:00<00:00, 894.73it/s]\n",
      "100%|██████████| 17/17 [00:00<00:00, 944.31it/s]\n",
      "100%|██████████| 17/17 [00:00<00:00, 850.00it/s]\n",
      "100%|██████████| 17/17 [00:00<00:00, 850.00it/s]\n",
      "100%|██████████| 17/17 [00:00<00:00, 894.72it/s]\n"
     ]
    },
    {
     "name": "stdout",
     "output_type": "stream",
     "text": [
      "Epoch [5881/6000]: Train loss: 1.2349, Valid loss: 1.0481\n"
     ]
    },
    {
     "name": "stderr",
     "output_type": "stream",
     "text": [
      "100%|██████████| 17/17 [00:00<00:00, 850.01it/s]\n",
      "100%|██████████| 17/17 [00:00<00:00, 826.15it/s]\n",
      "100%|██████████| 17/17 [00:00<00:00, 849.99it/s]\n",
      "100%|██████████| 17/17 [00:00<00:00, 850.00it/s]\n",
      "100%|██████████| 17/17 [00:00<00:00, 850.00it/s]\n",
      "100%|██████████| 17/17 [00:00<00:00, 850.01it/s]\n",
      "100%|██████████| 17/17 [00:00<00:00, 850.00it/s]\n",
      "100%|██████████| 17/17 [00:00<00:00, 894.76it/s]\n",
      "100%|██████████| 17/17 [00:00<00:00, 850.01it/s]\n",
      "100%|██████████| 17/17 [00:00<00:00, 850.02it/s]\n",
      "100%|██████████| 17/17 [00:00<00:00, 850.00it/s]\n",
      "100%|██████████| 17/17 [00:00<00:00, 850.01it/s]\n",
      "100%|██████████| 17/17 [00:00<00:00, 850.00it/s]\n",
      "100%|██████████| 17/17 [00:00<00:00, 850.01it/s]\n",
      "100%|██████████| 17/17 [00:00<00:00, 894.73it/s]\n",
      "100%|██████████| 17/17 [00:00<00:00, 894.69it/s]\n",
      "100%|██████████| 17/17 [00:00<00:00, 850.00it/s]\n",
      "100%|██████████| 17/17 [00:00<00:00, 894.75it/s]\n",
      "100%|██████████| 17/17 [00:00<00:00, 894.76it/s]\n",
      "100%|██████████| 17/17 [00:00<00:00, 849.97it/s]\n"
     ]
    },
    {
     "name": "stdout",
     "output_type": "stream",
     "text": [
      "Epoch [5901/6000]: Train loss: 1.2321, Valid loss: 1.0438\n"
     ]
    },
    {
     "name": "stderr",
     "output_type": "stream",
     "text": [
      "100%|██████████| 17/17 [00:00<00:00, 850.00it/s]\n",
      "100%|██████████| 17/17 [00:00<00:00, 849.99it/s]\n",
      "100%|██████████| 17/17 [00:00<00:00, 850.00it/s]\n",
      "100%|██████████| 17/17 [00:00<00:00, 809.52it/s]\n",
      "100%|██████████| 17/17 [00:00<00:00, 809.52it/s]\n",
      "100%|██████████| 17/17 [00:00<00:00, 809.52it/s]\n",
      "100%|██████████| 17/17 [00:00<00:00, 794.44it/s]\n",
      "100%|██████████| 17/17 [00:00<00:00, 894.73it/s]\n",
      "100%|██████████| 17/17 [00:00<00:00, 894.75it/s]\n",
      "100%|██████████| 17/17 [00:00<00:00, 850.00it/s]\n",
      "100%|██████████| 17/17 [00:00<00:00, 868.61it/s]\n",
      "100%|██████████| 17/17 [00:00<00:00, 828.99it/s]\n",
      "100%|██████████| 17/17 [00:00<00:00, 826.18it/s]\n",
      "100%|██████████| 17/17 [00:00<00:00, 809.54it/s]\n",
      "100%|██████████| 17/17 [00:00<00:00, 894.71it/s]\n",
      "100%|██████████| 17/17 [00:00<00:00, 850.01it/s]\n",
      "100%|██████████| 17/17 [00:00<00:00, 894.72it/s]\n",
      "100%|██████████| 17/17 [00:00<00:00, 894.72it/s]\n",
      "100%|██████████| 17/17 [00:00<00:00, 894.76it/s]\n",
      "100%|██████████| 17/17 [00:00<00:00, 999.99it/s]\n"
     ]
    },
    {
     "name": "stdout",
     "output_type": "stream",
     "text": [
      "Epoch [5921/6000]: Train loss: 1.2303, Valid loss: 1.0305\n"
     ]
    },
    {
     "name": "stderr",
     "output_type": "stream",
     "text": [
      "100%|██████████| 17/17 [00:00<00:00, 957.04it/s]\n",
      "100%|██████████| 17/17 [00:00<00:00, 944.44it/s]\n",
      "100%|██████████| 17/17 [00:00<00:00, 944.45it/s]\n",
      "100%|██████████| 17/17 [00:00<00:00, 894.73it/s]\n",
      "100%|██████████| 17/17 [00:00<00:00, 944.44it/s]\n",
      "100%|██████████| 17/17 [00:00<00:00, 894.73it/s]\n",
      "100%|██████████| 17/17 [00:00<00:00, 1000.00it/s]\n",
      "100%|██████████| 17/17 [00:00<00:00, 944.44it/s]\n",
      "100%|██████████| 17/17 [00:00<00:00, 894.75it/s]\n",
      "100%|██████████| 17/17 [00:00<00:00, 944.44it/s]\n",
      "100%|██████████| 17/17 [00:00<00:00, 944.44it/s]\n",
      "100%|██████████| 17/17 [00:00<00:00, 944.45it/s]\n",
      "100%|██████████| 17/17 [00:00<00:00, 894.75it/s]\n",
      "100%|██████████| 17/17 [00:00<00:00, 894.73it/s]\n",
      "100%|██████████| 17/17 [00:00<00:00, 944.43it/s]\n",
      "100%|██████████| 17/17 [00:00<00:00, 944.45it/s]\n",
      "100%|██████████| 17/17 [00:00<00:00, 944.44it/s]\n",
      "100%|██████████| 17/17 [00:00<00:00, 894.75it/s]\n",
      "100%|██████████| 17/17 [00:00<00:00, 944.44it/s]\n",
      "100%|██████████| 17/17 [00:00<00:00, 894.73it/s]\n"
     ]
    },
    {
     "name": "stdout",
     "output_type": "stream",
     "text": [
      "Epoch [5941/6000]: Train loss: 1.2302, Valid loss: 1.0263\n"
     ]
    },
    {
     "name": "stderr",
     "output_type": "stream",
     "text": [
      "100%|██████████| 17/17 [00:00<00:00, 894.75it/s]\n",
      "100%|██████████| 17/17 [00:00<00:00, 850.00it/s]\n",
      "100%|██████████| 17/17 [00:00<00:00, 850.00it/s]\n",
      "100%|██████████| 17/17 [00:00<00:00, 894.75it/s]\n",
      "100%|██████████| 17/17 [00:00<00:00, 849.99it/s]\n",
      "100%|██████████| 17/17 [00:00<00:00, 894.73it/s]\n",
      "100%|██████████| 17/17 [00:00<00:00, 850.00it/s]\n",
      "100%|██████████| 17/17 [00:00<00:00, 894.73it/s]\n",
      "100%|██████████| 17/17 [00:00<00:00, 772.76it/s]\n",
      "100%|██████████| 17/17 [00:00<00:00, 850.01it/s]\n",
      "100%|██████████| 17/17 [00:00<00:00, 850.00it/s]\n",
      "100%|██████████| 17/17 [00:00<00:00, 850.00it/s]\n",
      "100%|██████████| 17/17 [00:00<00:00, 894.75it/s]\n",
      "100%|██████████| 17/17 [00:00<00:00, 826.04it/s]\n",
      "100%|██████████| 17/17 [00:00<00:00, 894.73it/s]\n",
      "100%|██████████| 17/17 [00:00<00:00, 894.73it/s]\n",
      "100%|██████████| 17/17 [00:00<00:00, 894.72it/s]\n",
      "100%|██████████| 17/17 [00:00<00:00, 849.99it/s]\n",
      "100%|██████████| 17/17 [00:00<00:00, 894.75it/s]\n",
      "100%|██████████| 17/17 [00:00<00:00, 849.98it/s]\n"
     ]
    },
    {
     "name": "stdout",
     "output_type": "stream",
     "text": [
      "Epoch [5961/6000]: Train loss: 1.2329, Valid loss: 1.0971\n"
     ]
    },
    {
     "name": "stderr",
     "output_type": "stream",
     "text": [
      "100%|██████████| 17/17 [00:00<00:00, 894.75it/s]\n",
      "100%|██████████| 17/17 [00:00<00:00, 850.00it/s]\n",
      "100%|██████████| 17/17 [00:00<00:00, 850.00it/s]\n",
      "100%|██████████| 17/17 [00:00<00:00, 850.00it/s]\n",
      "100%|██████████| 17/17 [00:00<00:00, 850.00it/s]\n",
      "100%|██████████| 17/17 [00:00<00:00, 809.50it/s]\n",
      "100%|██████████| 17/17 [00:00<00:00, 894.75it/s]\n",
      "100%|██████████| 17/17 [00:00<00:00, 850.01it/s]\n",
      "100%|██████████| 17/17 [00:00<00:00, 894.75it/s]\n",
      "100%|██████████| 17/17 [00:00<00:00, 894.75it/s]\n",
      "100%|██████████| 17/17 [00:00<00:00, 894.73it/s]\n",
      "100%|██████████| 17/17 [00:00<00:00, 894.75it/s]\n",
      "100%|██████████| 17/17 [00:00<00:00, 894.75it/s]\n",
      "100%|██████████| 17/17 [00:00<00:00, 894.75it/s]\n",
      "100%|██████████| 17/17 [00:00<00:00, 894.75it/s]\n",
      "100%|██████████| 17/17 [00:00<00:00, 850.00it/s]\n",
      "100%|██████████| 17/17 [00:00<00:00, 850.00it/s]\n",
      "100%|██████████| 17/17 [00:00<00:00, 894.73it/s]\n",
      "100%|██████████| 17/17 [00:00<00:00, 849.99it/s]\n",
      "100%|██████████| 17/17 [00:00<00:00, 850.01it/s]\n"
     ]
    },
    {
     "name": "stdout",
     "output_type": "stream",
     "text": [
      "Epoch [5981/6000]: Train loss: 1.2279, Valid loss: 1.0968\n"
     ]
    },
    {
     "name": "stderr",
     "output_type": "stream",
     "text": [
      "100%|██████████| 17/17 [00:00<00:00, 894.73it/s]\n",
      "100%|██████████| 17/17 [00:00<00:00, 894.75it/s]\n",
      "100%|██████████| 17/17 [00:00<00:00, 894.75it/s]\n",
      "100%|██████████| 17/17 [00:00<00:00, 850.00it/s]\n",
      "100%|██████████| 17/17 [00:00<00:00, 894.72it/s]\n",
      "100%|██████████| 17/17 [00:00<00:00, 894.75it/s]\n",
      "100%|██████████| 17/17 [00:00<00:00, 850.01it/s]\n",
      "100%|██████████| 17/17 [00:00<00:00, 849.98it/s]\n",
      "100%|██████████| 17/17 [00:00<00:00, 894.75it/s]\n",
      "100%|██████████| 17/17 [00:00<00:00, 849.99it/s]\n",
      "100%|██████████| 17/17 [00:00<00:00, 894.75it/s]\n",
      "100%|██████████| 17/17 [00:00<00:00, 894.75it/s]\n",
      "100%|██████████| 17/17 [00:00<00:00, 894.75it/s]\n",
      "100%|██████████| 17/17 [00:00<00:00, 894.72it/s]\n",
      "100%|██████████| 17/17 [00:00<00:00, 850.02it/s]\n",
      "100%|██████████| 17/17 [00:00<00:00, 850.00it/s]\n",
      "100%|██████████| 17/17 [00:00<00:00, 850.00it/s]\n",
      "100%|██████████| 17/17 [00:00<00:00, 894.73it/s]\n",
      "100%|██████████| 17/17 [00:00<00:00, 894.76it/s]\n"
     ]
    }
   ],
   "source": [
    "model = My_Model(input_dim=x_train.shape[1]).to(device) # put your model and data on the same computation device.\n",
    "trainer(train_loader, valid_loader, model, config, device)"
   ]
  },
  {
   "cell_type": "markdown",
   "metadata": {
    "id": "Ik09KPqU-di-"
   },
   "source": [
    "# Plot learning curves with `tensorboard` (optional)\n",
    "\n",
    "`tensorboard` is a tool that allows you to visualize your training progress.\n",
    "\n",
    "If this block does not display your learning curve, please wait for few minutes, and re-run this block. It might take some time to load your logging information. "
   ]
  },
  {
   "cell_type": "code",
   "execution_count": 11,
   "metadata": {
    "ExecuteTime": {
     "end_time": "2023-05-04T17:32:36.602080Z",
     "start_time": "2023-05-04T17:23:22.634677Z"
    },
    "id": "loA4nKmLGQ-n"
   },
   "outputs": [],
   "source": [
    "# %reload_ext tensorboard\n",
    "# %tensorboard --logdir=./runs/"
   ]
  },
  {
   "cell_type": "markdown",
   "metadata": {
    "id": "yhAHGqC9-woK"
   },
   "source": [
    "# Testing\n",
    "The predictions of your model on testing set will be stored at `pred.csv`."
   ]
  },
  {
   "cell_type": "code",
   "execution_count": 12,
   "metadata": {
    "ExecuteTime": {
     "end_time": "2023-05-04T17:32:36.602080Z",
     "start_time": "2023-05-04T17:23:22.651095Z"
    },
    "id": "Q5eVdpbvAlAe"
   },
   "outputs": [
    {
     "name": "stderr",
     "output_type": "stream",
     "text": [
      "100%|██████████| 9/9 [00:00<00:00, 2999.98it/s]\n"
     ]
    }
   ],
   "source": [
    "def save_pred(preds, file):\n",
    "    ''' Save predictions to specified file '''\n",
    "    with open(file, 'w') as fp:\n",
    "        writer = csv.writer(fp)\n",
    "        writer.writerow(['id', 'tested_positive'])\n",
    "        for i, p in enumerate(preds):\n",
    "            writer.writerow([i, p])\n",
    "\n",
    "model = My_Model(input_dim=x_train.shape[1]).to(device)\n",
    "model.load_state_dict(torch.load(config['save_path']))\n",
    "preds = predict(test_loader, model, device) \n",
    "save_pred(preds, 'pred05041716.csv')"
   ]
  },
  {
   "cell_type": "markdown",
   "metadata": {
    "id": "IJ_k5rY0GvSV"
   },
   "source": [
    "# Reference\n",
    "This notebook uses code written by Heng-Jui Chang @ NTUEE (https://github.com/ga642381/ML2021-Spring/blob/main/HW01/HW01.ipynb)"
   ]
  }
 ],
 "metadata": {
  "accelerator": "GPU",
  "colab": {
   "provenance": [
    {
     "file_id": "1FTcG6CE-HILnvFztEFKdauMlPKfQvm5Z",
     "timestamp": 1677480801674
    },
    {
     "file_id": "11ZsfGKBOCYwYgUFfRiPuRfStCDL0TK4i",
     "timestamp": 1643255172964
    }
   ],
   "toc_visible": true
  },
  "gpuClass": "standard",
  "kernelspec": {
   "display_name": "Python 3 (ipykernel)",
   "language": "python",
   "name": "python3"
  },
  "language_info": {
   "codemirror_mode": {
    "name": "ipython",
    "version": 3
   },
   "file_extension": ".py",
   "mimetype": "text/x-python",
   "name": "python",
   "nbconvert_exporter": "python",
   "pygments_lexer": "ipython3",
   "version": "3.10.9"
  }
 },
 "nbformat": 4,
 "nbformat_minor": 1
}
