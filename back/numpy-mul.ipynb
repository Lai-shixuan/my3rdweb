{
 "cells": [
  {
   "cell_type": "code",
   "execution_count": 8,
   "outputs": [],
   "source": [
    "import numpy as np"
   ],
   "metadata": {
    "collapsed": false,
    "ExecuteTime": {
     "start_time": "2023-05-04T12:57:09.018334Z",
     "end_time": "2023-05-04T12:57:09.036334Z"
    }
   }
  },
  {
   "cell_type": "markdown",
   "source": [
    "# 都是1维向量的时候"
   ],
   "metadata": {
    "collapsed": false
   }
  },
  {
   "cell_type": "code",
   "execution_count": 3,
   "outputs": [
    {
     "name": "stdout",
     "output_type": "stream",
     "text": [
      "28\n",
      "[[ 2  4  6]\n",
      " [ 4  8 12]\n",
      " [ 6 12 18]]\n",
      "[ 2  8 18]\n",
      "28\n"
     ]
    }
   ],
   "source": [
    "a = np.array([1, 2, 3])\n",
    "b = np.array([2, 4, 6])\n",
    "print(np.dot(a, b))         # 内积\n",
    "print(np.outer(a, b))       # 叉乘\n",
    "print(a * b)                # 对应元素相乘\n",
    "print(a @ b)                # 内积"
   ],
   "metadata": {
    "collapsed": false,
    "pycharm": {
     "name": "#%%a = np.array([[1, 2, 3], [2, 3, 4], [1, 2, 3], [1, 2, 3]])\n"
    },
    "ExecuteTime": {
     "start_time": "2023-05-04T12:54:38.537171Z",
     "end_time": "2023-05-04T12:54:38.548171Z"
    }
   }
  },
  {
   "cell_type": "markdown",
   "source": [
    "# 1维和2维向量的时候，.dot"
   ],
   "metadata": {
    "collapsed": false
   }
  },
  {
   "cell_type": "code",
   "execution_count": 27,
   "outputs": [
    {
     "name": "stdout",
     "output_type": "stream",
     "text": [
      "[[4 2 2]\n",
      " [2 4 4]]\n",
      "[[9 3 3]\n",
      " [9 6 6]]\n",
      "[[45 19 19]\n",
      " [39 31 31]]\n",
      "[[45 19 19]\n",
      " [39 31 31]]\n"
     ]
    }
   ],
   "source": [
    "in1 = np.array([2, 3, 3, 4])\n",
    "in2 = np.array([[[2, 3, 4, 5], [1, 1, 2, 2], [1, 1, 2, 2]],[[1, 3, 4, 4], [2, 2, 3, 3], [2, 2, 3, 3]]])\n",
    "in3 = in2[:,:,0] * 2\n",
    "in4 = in2[:,:,1] * 3\n",
    "in5 = in2[:,:,2] * 3\n",
    "in6 = in2[:,:,3] * 4\n",
    "print(in3)\n",
    "print(in4)\n",
    "print(in3 + in4 + in5 + in6)\n",
    "print(np.dot(in2, in1))"
   ],
   "metadata": {
    "collapsed": false,
    "ExecuteTime": {
     "start_time": "2023-05-04T13:36:27.729194Z",
     "end_time": "2023-05-04T13:36:27.743189Z"
    }
   }
  },
  {
   "cell_type": "markdown",
   "source": [
    "# Numpy 的维度"
   ],
   "metadata": {
    "collapsed": false
   }
  },
  {
   "cell_type": "code",
   "execution_count": 31,
   "outputs": [
    {
     "name": "stdout",
     "output_type": "stream",
     "text": [
      "(3,)\n",
      "(3, 1)\n",
      "(2, 3, 4)\n"
     ]
    }
   ],
   "source": [
    "np1 = np.array([3,2,1])\n",
    "print(np1.shape)\n",
    "np2 = np.array([[3],[2],[1]])\n",
    "print(np2.shape)\n",
    "np3 = np.array([[[2, 3, 4, 5], [1, 1, 2, 2], [1, 1, 2, 2]],[[1, 3, 4, 4], [2, 2, 3, 3], [2, 2, 3, 3]]])\n",
    "print(np3.shape)"
   ],
   "metadata": {
    "collapsed": false,
    "ExecuteTime": {
     "start_time": "2023-05-04T13:44:25.822861Z",
     "end_time": "2023-05-04T13:44:25.832861Z"
    }
   }
  }
 ],
 "metadata": {
  "kernelspec": {
   "display_name": "Python 3",
   "language": "python",
   "name": "python3"
  },
  "language_info": {
   "codemirror_mode": {
    "name": "ipython",
    "version": 2
   },
   "file_extension": ".py",
   "mimetype": "text/x-python",
   "name": "python",
   "nbconvert_exporter": "python",
   "pygments_lexer": "ipython2",
   "version": "2.7.6"
  }
 },
 "nbformat": 4,
 "nbformat_minor": 0
}
