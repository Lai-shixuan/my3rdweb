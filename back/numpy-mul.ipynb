{
 "cells": [
  {
   "cell_type": "code",
   "execution_count": 8,
   "outputs": [],
   "source": [
    "import numpy as np"
   ],
   "metadata": {
    "collapsed": false,
    "ExecuteTime": {
     "start_time": "2023-05-04T12:57:09.018334Z",
     "end_time": "2023-05-04T12:57:09.036334Z"
    }
   }
  },
  {
   "cell_type": "markdown",
   "source": [
    "# 都是1维向量的时候"
   ],
   "metadata": {
    "collapsed": false
   }
  },
  {
   "cell_type": "code",
   "execution_count": 3,
   "outputs": [
    {
     "name": "stdout",
     "output_type": "stream",
     "text": [
      "28\n",
      "[[ 2  4  6]\n",
      " [ 4  8 12]\n",
      " [ 6 12 18]]\n",
      "[ 2  8 18]\n",
      "28\n"
     ]
    }
   ],
   "source": [
    "a = np.array([1, 2, 3])\n",
    "b = np.array([2, 4, 6])\n",
    "print(np.dot(a, b))         # 内积\n",
    "print(np.outer(a, b))       # 叉乘\n",
    "print(a * b)                # 对应元素相乘\n",
    "print(a @ b)                # 内积"
   ],
   "metadata": {
    "collapsed": false,
    "pycharm": {
     "name": "#%%a = np.array([[1, 2, 3], [2, 3, 4], [1, 2, 3], [1, 2, 3]])\n"
    },
    "ExecuteTime": {
     "start_time": "2023-05-04T12:54:38.537171Z",
     "end_time": "2023-05-04T12:54:38.548171Z"
    }
   }
  },
  {
   "cell_type": "markdown",
   "source": [
    "# 1维和2维向量的时候，.dot"
   ],
   "metadata": {
    "collapsed": false
   }
  },
  {
   "cell_type": "code",
   "execution_count": 27,
   "outputs": [
    {
     "name": "stdout",
     "output_type": "stream",
     "text": [
      "[[4 2 2]\n",
      " [2 4 4]]\n",
      "[[9 3 3]\n",
      " [9 6 6]]\n",
      "[[45 19 19]\n",
      " [39 31 31]]\n",
      "[[45 19 19]\n",
      " [39 31 31]]\n"
     ]
    }
   ],
   "source": [
    "in1 = np.array([2, 3, 3, 4])\n",
    "in2 = np.array([[[2, 3, 4, 5], [1, 1, 2, 2], [1, 1, 2, 2]],[[1, 3, 4, 4], [2, 2, 3, 3], [2, 2, 3, 3]]])\n",
    "in3 = in2[:,:,0] * 2\n",
    "in4 = in2[:,:,1] * 3\n",
    "in5 = in2[:,:,2] * 3\n",
    "in6 = in2[:,:,3] * 4\n",
    "print(in3)\n",
    "print(in4)\n",
    "print(in3 + in4 + in5 + in6)\n",
    "print(np.dot(in2, in1))"
   ],
   "metadata": {
    "collapsed": false,
    "ExecuteTime": {
     "start_time": "2023-05-04T13:36:27.729194Z",
     "end_time": "2023-05-04T13:36:27.743189Z"
    }
   }
  },
  {
   "cell_type": "markdown",
   "source": [
    "# 2维和1维向量乘"
   ],
   "metadata": {
    "collapsed": false
   }
  },
  {
   "cell_type": "code",
   "execution_count": 44,
   "outputs": [
    {
     "ename": "ValueError",
     "evalue": "shapes (2,3) and (2,) not aligned: 3 (dim 1) != 2 (dim 0)",
     "output_type": "error",
     "traceback": [
      "\u001B[1;31m---------------------------------------------------------------------------\u001B[0m",
      "\u001B[1;31mValueError\u001B[0m                                Traceback (most recent call last)",
      "Cell \u001B[1;32mIn[44], line 3\u001B[0m\n\u001B[0;32m      1\u001B[0m ma1 \u001B[38;5;241m=\u001B[39m [[\u001B[38;5;241m1\u001B[39m,\u001B[38;5;241m3\u001B[39m,\u001B[38;5;241m5\u001B[39m],[\u001B[38;5;241m2\u001B[39m,\u001B[38;5;241m4\u001B[39m,\u001B[38;5;241m6\u001B[39m]]\n\u001B[0;32m      2\u001B[0m ma2 \u001B[38;5;241m=\u001B[39m [\u001B[38;5;241m1\u001B[39m,\u001B[38;5;241m2\u001B[39m]                 \u001B[38;5;66;03m# 计算是有顺序的，永远按第一个元素展开\u001B[39;00m\n\u001B[1;32m----> 3\u001B[0m \u001B[38;5;28mprint\u001B[39m(\u001B[43mnp\u001B[49m\u001B[38;5;241;43m.\u001B[39;49m\u001B[43mdot\u001B[49m\u001B[43m(\u001B[49m\u001B[43mma1\u001B[49m\u001B[43m,\u001B[49m\u001B[43m \u001B[49m\u001B[43mma2\u001B[49m\u001B[43m)\u001B[49m)\n\u001B[0;32m      4\u001B[0m \u001B[38;5;28mprint\u001B[39m(ma1[\u001B[38;5;241m0\u001B[39m])\n\u001B[0;32m      5\u001B[0m \u001B[38;5;28mprint\u001B[39m(ma1[\u001B[38;5;241m1\u001B[39m])\n",
      "File \u001B[1;32m<__array_function__ internals>:180\u001B[0m, in \u001B[0;36mdot\u001B[1;34m(*args, **kwargs)\u001B[0m\n",
      "\u001B[1;31mValueError\u001B[0m: shapes (2,3) and (2,) not aligned: 3 (dim 1) != 2 (dim 0)"
     ]
    }
   ],
   "source": [
    "ma1 = [[1,3,5],[2,4,6]]\n",
    "ma2 = [1,2]                 # 计算是有顺序的，永远按第一个元素展开\n",
    "print(np.dot(ma2, ma1))\n",
    "print(ma1[0])\n",
    "print(ma1[1])\n",
    "\n",
    "# 反过来\n",
    "ma3 = [[1,3,5],[2,4,6]]\n",
    "ma4 = [1,2,3]                 # 计算是有顺序的，永远按第一个元素展开\n",
    "print(np.dot(ma3, ma4))\n",
    "\n"
   ],
   "metadata": {
    "collapsed": false,
    "ExecuteTime": {
     "start_time": "2023-05-04T14:14:24.503059Z",
     "end_time": "2023-05-04T14:14:24.528247Z"
    }
   }
  },
  {
   "cell_type": "markdown",
   "source": [
    "# Numpy 的维度"
   ],
   "metadata": {
    "collapsed": false
   }
  },
  {
   "cell_type": "code",
   "execution_count": 31,
   "outputs": [
    {
     "name": "stdout",
     "output_type": "stream",
     "text": [
      "(3,)\n",
      "(3, 1)\n",
      "(2, 3, 4)\n"
     ]
    }
   ],
   "source": [
    "np1 = np.array([3,2,1])\n",
    "print(np1.shape)\n",
    "np2 = np.array([[3],[2],[1]])\n",
    "print(np2.shape)\n",
    "np3 = np.array([[[2, 3, 4, 5], [1, 1, 2, 2], [1, 1, 2, 2]],[[1, 3, 4, 4], [2, 2, 3, 3], [2, 2, 3, 3]]])\n",
    "print(np3.shape)"
   ],
   "metadata": {
    "collapsed": false,
    "ExecuteTime": {
     "start_time": "2023-05-04T13:44:25.822861Z",
     "end_time": "2023-05-04T13:44:25.832861Z"
    }
   }
  }
 ],
 "metadata": {
  "kernelspec": {
   "display_name": "Python 3",
   "language": "python",
   "name": "python3"
  },
  "language_info": {
   "codemirror_mode": {
    "name": "ipython",
    "version": 2
   },
   "file_extension": ".py",
   "mimetype": "text/x-python",
   "name": "python",
   "nbconvert_exporter": "python",
   "pygments_lexer": "ipython2",
   "version": "2.7.6"
  }
 },
 "nbformat": 4,
 "nbformat_minor": 0
}
